{
 "cells": [
  {
   "cell_type": "code",
   "execution_count": 1,
   "metadata": {},
   "outputs": [],
   "source": [
    "from src.bgc_providers.ohio_bgc_provider import OhioBgcProvider\n",
    "from src.mongo import MongoDB\n",
    "import json\n",
    "from time import sleep\n",
    "from loguru import logger"
   ]
  },
  {
   "cell_type": "code",
   "execution_count": 2,
   "metadata": {},
   "outputs": [
    {
     "name": "stderr",
     "output_type": "stream",
     "text": [
      "\u001b[32m2023-08-20 08:06:10.849\u001b[0m | \u001b[34m\u001b[1mDEBUG   \u001b[0m | \u001b[36msrc.mongo\u001b[0m:\u001b[36mping\u001b[0m:\u001b[36m18\u001b[0m - \u001b[34m\u001b[1mPinged your deployment. You successfully connected to MongoDB!\u001b[0m\n"
     ]
    }
   ],
   "source": [
    "mongo = MongoDB()\n",
    "mongo.ping()"
   ]
  },
  {
   "cell_type": "code",
   "execution_count": 3,
   "metadata": {},
   "outputs": [
    {
     "name": "stderr",
     "output_type": "stream",
     "text": [
      "\u001b[32m2023-08-20 08:06:13.694\u001b[0m | \u001b[1mINFO    \u001b[0m | \u001b[36msrc.bgc_providers.ohio_bgc_provider\u001b[0m:\u001b[36msimulate_glucose_stream\u001b[0m:\u001b[36m49\u001b[0m - \u001b[1m{'ts': '07-12-2021 01:17:00', 'value': '101'}\u001b[0m\n",
      "\u001b[32m2023-08-20 08:06:13.694\u001b[0m | \u001b[1mINFO    \u001b[0m | \u001b[36msrc.bgc_providers.ohio_bgc_provider\u001b[0m:\u001b[36msimulate_glucose_stream\u001b[0m:\u001b[36m49\u001b[0m - \u001b[1m{'ts': '07-12-2021 01:22:00', 'value': '98'}\u001b[0m\n",
      "\u001b[32m2023-08-20 08:06:13.694\u001b[0m | \u001b[1mINFO    \u001b[0m | \u001b[36msrc.bgc_providers.ohio_bgc_provider\u001b[0m:\u001b[36msimulate_glucose_stream\u001b[0m:\u001b[36m49\u001b[0m - \u001b[1m{'ts': '07-12-2021 01:27:00', 'value': '104'}\u001b[0m\n",
      "\u001b[32m2023-08-20 08:06:13.704\u001b[0m | \u001b[1mINFO    \u001b[0m | \u001b[36msrc.bgc_providers.ohio_bgc_provider\u001b[0m:\u001b[36msimulate_glucose_stream\u001b[0m:\u001b[36m49\u001b[0m - \u001b[1m{'ts': '07-12-2021 01:32:00', 'value': '112'}\u001b[0m\n"
     ]
    },
    {
     "name": "stdout",
     "output_type": "stream",
     "text": [
      "            date_time   mock_date time_of_day part_of_day  time  bg_value id\n",
      "0 2021-12-07 01:17:00  2021-12-07    01:17:00  late night  0.00       101  a\n",
      "1 2021-12-07 01:22:00  2021-12-07    01:22:00  late night  0.08        98  a\n",
      "2 2021-12-07 01:27:00  2021-12-07    01:27:00  late night  0.17       104  a\n",
      "3 2021-12-07 01:32:00  2021-12-07    01:32:00  late night  0.25       112  a\n",
      "4 2021-12-07 01:37:00  2021-12-07    01:37:00  late night  0.33       120  a\n"
     ]
    },
    {
     "data": {
      "text/plain": [
       "{'timestamp': 1638840720.0,\n",
       " 'time': '2021-12-07T01:32:00+00:00',\n",
       " 'value': 112.0,\n",
       " 'patient': '559'}"
      ]
     },
     "execution_count": 3,
     "metadata": {},
     "output_type": "execute_result"
    }
   ],
   "source": [
    "test_provider = OhioBgcProvider()\n",
    "test_dataframe = test_provider.tsfresh_dataframe()\n",
    "print(test_dataframe.head(5))\n",
    "stream = test_provider.simulate_glucose_stream()\n",
    "next(stream)\n",
    "next(stream)\n",
    "next(stream)\n",
    "next(stream)"
   ]
  },
  {
   "cell_type": "code",
   "execution_count": 4,
   "metadata": {},
   "outputs": [
    {
     "name": "stderr",
     "output_type": "stream",
     "text": [
      "\u001b[32m2023-08-20 08:06:30.168\u001b[0m | \u001b[1mINFO    \u001b[0m | \u001b[36msrc.mongo\u001b[0m:\u001b[36mlist_databases\u001b[0m:\u001b[36m24\u001b[0m - \u001b[1mFound 3 databases: ['test_database_1', 'admin', 'local']\u001b[0m\n",
      "\u001b[32m2023-08-20 08:06:30.234\u001b[0m | \u001b[1mINFO    \u001b[0m | \u001b[36msrc.mongo\u001b[0m:\u001b[36mlist_collections\u001b[0m:\u001b[36m30\u001b[0m - \u001b[1mFound 6 collections in test_database_1: ['posts', 'cgm_1', 'system.buckets.cgm_1', 'cgm_2', 'system.buckets.cgm_2', 'sandalphon1']\u001b[0m\n"
     ]
    },
    {
     "data": {
      "text/plain": [
       "['posts',\n",
       " 'cgm_1',\n",
       " 'system.buckets.cgm_1',\n",
       " 'cgm_2',\n",
       " 'system.buckets.cgm_2',\n",
       " 'sandalphon1']"
      ]
     },
     "execution_count": 4,
     "metadata": {},
     "output_type": "execute_result"
    }
   ],
   "source": [
    "mongo.list_databases()\n",
    "mongo.list_collections('test_database_1')"
   ]
  },
  {
   "cell_type": "code",
   "execution_count": 7,
   "metadata": {},
   "outputs": [],
   "source": [
    "db = mongo.client['test_database_1']\n",
    "cgm_db = db['cgm_3']"
   ]
  },
  {
   "cell_type": "code",
   "execution_count": 9,
   "metadata": {},
   "outputs": [
    {
     "name": "stderr",
     "output_type": "stream",
     "text": [
      "\u001b[32m2023-08-20 08:09:33.335\u001b[0m | \u001b[1mINFO    \u001b[0m | \u001b[36msrc.bgc_providers.ohio_bgc_provider\u001b[0m:\u001b[36msimulate_glucose_stream\u001b[0m:\u001b[36m49\u001b[0m - \u001b[1m{'ts': '07-12-2021 01:47:00', 'value': '135'}\u001b[0m\n",
      "\u001b[32m2023-08-20 08:09:33.338\u001b[0m | \u001b[1mINFO    \u001b[0m | \u001b[36m__main__\u001b[0m:\u001b[36m<module>\u001b[0m:\u001b[36m4\u001b[0m - \u001b[1m{'timestamp': 1638841620.0, 'time': '2021-12-07T01:47:00+00:00', 'value': 135.0, 'patient': '559'}\u001b[0m\n",
      "\u001b[32m2023-08-20 08:09:33.509\u001b[0m | \u001b[1mINFO    \u001b[0m | \u001b[36m__main__\u001b[0m:\u001b[36m<module>\u001b[0m:\u001b[36m6\u001b[0m - \u001b[1m64e1a00dca5affdf6d035168\u001b[0m\n",
      "\u001b[32m2023-08-20 08:09:38.512\u001b[0m | \u001b[1mINFO    \u001b[0m | \u001b[36msrc.bgc_providers.ohio_bgc_provider\u001b[0m:\u001b[36msimulate_glucose_stream\u001b[0m:\u001b[36m49\u001b[0m - \u001b[1m{'ts': '07-12-2021 01:52:00', 'value': '142'}\u001b[0m\n",
      "\u001b[32m2023-08-20 08:09:38.512\u001b[0m | \u001b[1mINFO    \u001b[0m | \u001b[36m__main__\u001b[0m:\u001b[36m<module>\u001b[0m:\u001b[36m4\u001b[0m - \u001b[1m{'timestamp': 1638841920.0, 'time': '2021-12-07T01:52:00+00:00', 'value': 142.0, 'patient': '559'}\u001b[0m\n",
      "\u001b[32m2023-08-20 08:09:38.624\u001b[0m | \u001b[1mINFO    \u001b[0m | \u001b[36m__main__\u001b[0m:\u001b[36m<module>\u001b[0m:\u001b[36m6\u001b[0m - \u001b[1m64e1a012ca5affdf6d035169\u001b[0m\n",
      "\u001b[32m2023-08-20 08:09:43.634\u001b[0m | \u001b[1mINFO    \u001b[0m | \u001b[36msrc.bgc_providers.ohio_bgc_provider\u001b[0m:\u001b[36msimulate_glucose_stream\u001b[0m:\u001b[36m49\u001b[0m - \u001b[1m{'ts': '07-12-2021 01:57:00', 'value': '140'}\u001b[0m\n",
      "\u001b[32m2023-08-20 08:09:43.634\u001b[0m | \u001b[1mINFO    \u001b[0m | \u001b[36m__main__\u001b[0m:\u001b[36m<module>\u001b[0m:\u001b[36m4\u001b[0m - \u001b[1m{'timestamp': 1638842220.0, 'time': '2021-12-07T01:57:00+00:00', 'value': 140.0, 'patient': '559'}\u001b[0m\n",
      "\u001b[32m2023-08-20 08:09:43.721\u001b[0m | \u001b[1mINFO    \u001b[0m | \u001b[36m__main__\u001b[0m:\u001b[36m<module>\u001b[0m:\u001b[36m6\u001b[0m - \u001b[1m64e1a017ca5affdf6d03516a\u001b[0m\n"
     ]
    },
    {
     "name": "stdout",
     "output_type": "stream",
     "text": [
      "Interrupted by the user\n"
     ]
    }
   ],
   "source": [
    "try:\n",
    "    while True:\n",
    "        values = next(stream)\n",
    "        logger.info(values)\n",
    "        rec_id = cgm_db.insert_one(values).inserted_id\n",
    "        logger.info(rec_id)\n",
    "        sleep(5)\n",
    "except KeyboardInterrupt:\n",
    "    print('Interrupted by the user')"
   ]
  },
  {
   "cell_type": "code",
   "execution_count": null,
   "metadata": {},
   "outputs": [],
   "source": []
  }
 ],
 "metadata": {
  "kernelspec": {
   "display_name": "thesis",
   "language": "python",
   "name": "python3"
  },
  "language_info": {
   "codemirror_mode": {
    "name": "ipython",
    "version": 3
   },
   "file_extension": ".py",
   "mimetype": "text/x-python",
   "name": "python",
   "nbconvert_exporter": "python",
   "pygments_lexer": "ipython3",
   "version": "3.9.16"
  },
  "orig_nbformat": 4
 },
 "nbformat": 4,
 "nbformat_minor": 2
}
