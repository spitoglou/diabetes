{
 "cells": [
  {
   "cell_type": "code",
   "execution_count": 1,
   "metadata": {
    "cell_id": "00000-7bc3eb7c-4afc-4979-8646-013073749b5b",
    "deepnote_cell_type": "code",
    "deepnote_to_be_reexecuted": false,
    "execution_millis": 29110,
    "execution_start": 1625567705676,
    "source_hash": "d019f403",
    "tags": []
   },
   "outputs": [],
   "source": [
    "# !pip install loguru\n",
    "# !pip install pycaret[full]\n",
    "# !pip install lxml\n",
    "# !pip install tsfresh"
   ]
  },
  {
   "cell_type": "code",
   "execution_count": 2,
   "metadata": {
    "cell_id": "00000-39782983-0859-4122-a5e0-acbdafafd941",
    "deepnote_cell_type": "code",
    "deepnote_to_be_reexecuted": false,
    "execution_millis": 3740,
    "execution_start": 1625567734792,
    "source_hash": "f0e94c80",
    "tags": []
   },
   "outputs": [],
   "source": [
    "from src.helpers.experiment import create_tsfresh_dataframe"
   ]
  },
  {
   "cell_type": "code",
   "execution_count": 3,
   "metadata": {
    "cell_id": "00002-c88d5909-d8c2-4510-93b9-5a81c06e0b2b",
    "deepnote_cell_type": "code",
    "deepnote_to_be_reexecuted": false,
    "execution_millis": 3320767,
    "execution_start": 1625567738547,
    "source_hash": "86307ad5",
    "tags": []
   },
   "outputs": [
    {
     "name": "stderr",
     "output_type": "stream",
     "text": [
      "2022-06-09 11:31:23.994 | INFO     | src.helpers.experiment:create_ds_name:12 - dataframes/559_train_0_6_1.pkl\n",
      "2022-06-09 11:31:24.077 | INFO     | src.helpers.experiment:create_tsfresh_dataframe:19 - {'ohio_no': 559, 'scope': 'train', 'train_ds_size': 0, 'window_size': 6, 'prediction_horizon': 1, 'minimal_features': False}\n",
      "100%|██████████| 10790/10790 [25:20<00:00,  7.10it/s]\n",
      "2022-06-09 11:56:45.500 | INFO     | src.helpers.dataframe:save_df:6 - Attempting to save file dataframes/559_train_0_6_1.pkl\n",
      "2022-06-09 11:56:45.595 | INFO     | src.helpers.experiment:create_ds_name:12 - dataframes/559_test_0_6_1.pkl\n",
      "2022-06-09 11:56:45.615 | INFO     | src.helpers.experiment:create_tsfresh_dataframe:19 - {'ohio_no': 559, 'scope': 'test', 'train_ds_size': 0, 'window_size': 6, 'prediction_horizon': 1, 'minimal_features': False}\n",
      "100%|██████████| 2508/2508 [05:56<00:00,  7.03it/s]\n",
      "2022-06-09 12:02:42.922 | INFO     | src.helpers.dataframe:save_df:6 - Attempting to save file dataframes/559_test_0_6_1.pkl\n",
      "2022-06-09 12:02:42.956 | INFO     | src.helpers.experiment:create_ds_name:12 - dataframes/559_train_0_6_6.pkl\n",
      "2022-06-09 12:02:43.069 | INFO     | src.helpers.experiment:create_tsfresh_dataframe:19 - {'ohio_no': 559, 'scope': 'train', 'train_ds_size': 0, 'window_size': 6, 'prediction_horizon': 6, 'minimal_features': False}\n",
      " 29%|██▉       | 3154/10785 [07:48<18:53,  6.73it/s]\n"
     ]
    },
    {
     "ename": "KeyboardInterrupt",
     "evalue": "",
     "output_type": "error",
     "traceback": [
      "\u001b[0;31m---------------------------------------------------------------------------\u001b[0m",
      "\u001b[0;31mKeyError\u001b[0m                                  Traceback (most recent call last)",
      "File \u001b[0;32m~/miniconda3/envs/phd/lib/python3.8/site-packages/pandas/core/indexes/base.py:3621\u001b[0m, in \u001b[0;36mIndex.get_loc\u001b[0;34m(self, key, method, tolerance)\u001b[0m\n\u001b[1;32m   <a href='file:///home/stavros/miniconda3/envs/phd/lib/python3.8/site-packages/pandas/core/indexes/base.py?line=3619'>3620</a>\u001b[0m \u001b[39mtry\u001b[39;00m:\n\u001b[0;32m-> <a href='file:///home/stavros/miniconda3/envs/phd/lib/python3.8/site-packages/pandas/core/indexes/base.py?line=3620'>3621</a>\u001b[0m     \u001b[39mreturn\u001b[39;00m \u001b[39mself\u001b[39;49m\u001b[39m.\u001b[39;49m_engine\u001b[39m.\u001b[39;49mget_loc(casted_key)\n\u001b[1;32m   <a href='file:///home/stavros/miniconda3/envs/phd/lib/python3.8/site-packages/pandas/core/indexes/base.py?line=3621'>3622</a>\u001b[0m \u001b[39mexcept\u001b[39;00m \u001b[39mKeyError\u001b[39;00m \u001b[39mas\u001b[39;00m err:\n",
      "File \u001b[0;32m~/miniconda3/envs/phd/lib/python3.8/site-packages/pandas/_libs/index.pyx:136\u001b[0m, in \u001b[0;36mpandas._libs.index.IndexEngine.get_loc\u001b[0;34m()\u001b[0m\n",
      "File \u001b[0;32m~/miniconda3/envs/phd/lib/python3.8/site-packages/pandas/_libs/index.pyx:163\u001b[0m, in \u001b[0;36mpandas._libs.index.IndexEngine.get_loc\u001b[0;34m()\u001b[0m\n",
      "File \u001b[0;32mpandas/_libs/hashtable_class_helper.pxi:5198\u001b[0m, in \u001b[0;36mpandas._libs.hashtable.PyObjectHashTable.get_item\u001b[0;34m()\u001b[0m\n",
      "File \u001b[0;32mpandas/_libs/hashtable_class_helper.pxi:5206\u001b[0m, in \u001b[0;36mpandas._libs.hashtable.PyObjectHashTable.get_item\u001b[0;34m()\u001b[0m\n",
      "\u001b[0;31mKeyError\u001b[0m: 'end_time'",
      "\nThe above exception was the direct cause of the following exception:\n",
      "\u001b[0;31mKeyError\u001b[0m                                  Traceback (most recent call last)",
      "File \u001b[0;32m~/miniconda3/envs/phd/lib/python3.8/site-packages/pandas/core/frame.py:3799\u001b[0m, in \u001b[0;36mDataFrame._set_item_mgr\u001b[0;34m(self, key, value)\u001b[0m\n\u001b[1;32m   <a href='file:///home/stavros/miniconda3/envs/phd/lib/python3.8/site-packages/pandas/core/frame.py?line=3797'>3798</a>\u001b[0m \u001b[39mtry\u001b[39;00m:\n\u001b[0;32m-> <a href='file:///home/stavros/miniconda3/envs/phd/lib/python3.8/site-packages/pandas/core/frame.py?line=3798'>3799</a>\u001b[0m     loc \u001b[39m=\u001b[39m \u001b[39mself\u001b[39;49m\u001b[39m.\u001b[39;49m_info_axis\u001b[39m.\u001b[39;49mget_loc(key)\n\u001b[1;32m   <a href='file:///home/stavros/miniconda3/envs/phd/lib/python3.8/site-packages/pandas/core/frame.py?line=3799'>3800</a>\u001b[0m \u001b[39mexcept\u001b[39;00m \u001b[39mKeyError\u001b[39;00m:\n\u001b[1;32m   <a href='file:///home/stavros/miniconda3/envs/phd/lib/python3.8/site-packages/pandas/core/frame.py?line=3800'>3801</a>\u001b[0m     \u001b[39m# This item wasn't present, just insert at end\u001b[39;00m\n",
      "File \u001b[0;32m~/miniconda3/envs/phd/lib/python3.8/site-packages/pandas/core/indexes/base.py:3623\u001b[0m, in \u001b[0;36mIndex.get_loc\u001b[0;34m(self, key, method, tolerance)\u001b[0m\n\u001b[1;32m   <a href='file:///home/stavros/miniconda3/envs/phd/lib/python3.8/site-packages/pandas/core/indexes/base.py?line=3621'>3622</a>\u001b[0m \u001b[39mexcept\u001b[39;00m \u001b[39mKeyError\u001b[39;00m \u001b[39mas\u001b[39;00m err:\n\u001b[0;32m-> <a href='file:///home/stavros/miniconda3/envs/phd/lib/python3.8/site-packages/pandas/core/indexes/base.py?line=3622'>3623</a>\u001b[0m     \u001b[39mraise\u001b[39;00m \u001b[39mKeyError\u001b[39;00m(key) \u001b[39mfrom\u001b[39;00m \u001b[39merr\u001b[39;00m\n\u001b[1;32m   <a href='file:///home/stavros/miniconda3/envs/phd/lib/python3.8/site-packages/pandas/core/indexes/base.py?line=3623'>3624</a>\u001b[0m \u001b[39mexcept\u001b[39;00m \u001b[39mTypeError\u001b[39;00m:\n\u001b[1;32m   <a href='file:///home/stavros/miniconda3/envs/phd/lib/python3.8/site-packages/pandas/core/indexes/base.py?line=3624'>3625</a>\u001b[0m     \u001b[39m# If we have a listlike key, _check_indexing_error will raise\u001b[39;00m\n\u001b[1;32m   <a href='file:///home/stavros/miniconda3/envs/phd/lib/python3.8/site-packages/pandas/core/indexes/base.py?line=3625'>3626</a>\u001b[0m     \u001b[39m#  InvalidIndexError. Otherwise we fall through and re-raise\u001b[39;00m\n\u001b[1;32m   <a href='file:///home/stavros/miniconda3/envs/phd/lib/python3.8/site-packages/pandas/core/indexes/base.py?line=3626'>3627</a>\u001b[0m     \u001b[39m#  the TypeError.\u001b[39;00m\n",
      "\u001b[0;31mKeyError\u001b[0m: 'end_time'",
      "\nDuring handling of the above exception, another exception occurred:\n",
      "\u001b[0;31mKeyboardInterrupt\u001b[0m                         Traceback (most recent call last)",
      "\u001b[1;32m/home/stavros/code/python/diabetes/dataset_generator.ipynb Cell 3'\u001b[0m in \u001b[0;36m<cell line: 6>\u001b[0;34m()\u001b[0m\n\u001b[1;32m      <a href='vscode-notebook-cell://wsl%2Bubuntu-20.04/home/stavros/code/python/diabetes/dataset_generator.ipynb#ch0000002vscode-remote?line=5'>6</a>\u001b[0m \u001b[39mfor\u001b[39;00m patient, window, horizon \u001b[39min\u001b[39;00m itertools\u001b[39m.\u001b[39mproduct(patients, windows, horizons):\n\u001b[1;32m      <a href='vscode-notebook-cell://wsl%2Bubuntu-20.04/home/stavros/code/python/diabetes/dataset_generator.ipynb#ch0000002vscode-remote?line=6'>7</a>\u001b[0m     parameters \u001b[39m=\u001b[39m {\n\u001b[1;32m      <a href='vscode-notebook-cell://wsl%2Bubuntu-20.04/home/stavros/code/python/diabetes/dataset_generator.ipynb#ch0000002vscode-remote?line=7'>8</a>\u001b[0m         \u001b[39m'\u001b[39m\u001b[39mohio_no\u001b[39m\u001b[39m'\u001b[39m: patient,\n\u001b[1;32m      <a href='vscode-notebook-cell://wsl%2Bubuntu-20.04/home/stavros/code/python/diabetes/dataset_generator.ipynb#ch0000002vscode-remote?line=8'>9</a>\u001b[0m         \u001b[39m'\u001b[39m\u001b[39mscope\u001b[39m\u001b[39m'\u001b[39m: \u001b[39m'\u001b[39m\u001b[39mtrain\u001b[39m\u001b[39m'\u001b[39m,\n\u001b[0;32m   (...)\u001b[0m\n\u001b[1;32m     <a href='vscode-notebook-cell://wsl%2Bubuntu-20.04/home/stavros/code/python/diabetes/dataset_generator.ipynb#ch0000002vscode-remote?line=12'>13</a>\u001b[0m         \u001b[39m'\u001b[39m\u001b[39mminimal_features\u001b[39m\u001b[39m'\u001b[39m: \u001b[39mFalse\u001b[39;00m,\n\u001b[1;32m     <a href='vscode-notebook-cell://wsl%2Bubuntu-20.04/home/stavros/code/python/diabetes/dataset_generator.ipynb#ch0000002vscode-remote?line=13'>14</a>\u001b[0m     }\n\u001b[0;32m---> <a href='vscode-notebook-cell://wsl%2Bubuntu-20.04/home/stavros/code/python/diabetes/dataset_generator.ipynb#ch0000002vscode-remote?line=14'>15</a>\u001b[0m     create_tsfresh_dataframe(parameters)\n\u001b[1;32m     <a href='vscode-notebook-cell://wsl%2Bubuntu-20.04/home/stavros/code/python/diabetes/dataset_generator.ipynb#ch0000002vscode-remote?line=16'>17</a>\u001b[0m     parameters \u001b[39m=\u001b[39m {\n\u001b[1;32m     <a href='vscode-notebook-cell://wsl%2Bubuntu-20.04/home/stavros/code/python/diabetes/dataset_generator.ipynb#ch0000002vscode-remote?line=17'>18</a>\u001b[0m         \u001b[39m'\u001b[39m\u001b[39mohio_no\u001b[39m\u001b[39m'\u001b[39m: patient,\n\u001b[1;32m     <a href='vscode-notebook-cell://wsl%2Bubuntu-20.04/home/stavros/code/python/diabetes/dataset_generator.ipynb#ch0000002vscode-remote?line=18'>19</a>\u001b[0m         \u001b[39m'\u001b[39m\u001b[39mscope\u001b[39m\u001b[39m'\u001b[39m: \u001b[39m'\u001b[39m\u001b[39mtest\u001b[39m\u001b[39m'\u001b[39m,\n\u001b[0;32m   (...)\u001b[0m\n\u001b[1;32m     <a href='vscode-notebook-cell://wsl%2Bubuntu-20.04/home/stavros/code/python/diabetes/dataset_generator.ipynb#ch0000002vscode-remote?line=22'>23</a>\u001b[0m         \u001b[39m'\u001b[39m\u001b[39mminimal_features\u001b[39m\u001b[39m'\u001b[39m: \u001b[39mFalse\u001b[39;00m,\n\u001b[1;32m     <a href='vscode-notebook-cell://wsl%2Bubuntu-20.04/home/stavros/code/python/diabetes/dataset_generator.ipynb#ch0000002vscode-remote?line=23'>24</a>\u001b[0m     }\n\u001b[1;32m     <a href='vscode-notebook-cell://wsl%2Bubuntu-20.04/home/stavros/code/python/diabetes/dataset_generator.ipynb#ch0000002vscode-remote?line=24'>25</a>\u001b[0m     create_tsfresh_dataframe(parameters)\n",
      "File \u001b[0;32m~/code/python/diabetes/src/helpers/experiment.py:27\u001b[0m, in \u001b[0;36mcreate_tsfresh_dataframe\u001b[0;34m(p, show_plt)\u001b[0m\n\u001b[1;32m     <a href='file:///home/stavros/code/python/diabetes/src/helpers/experiment.py?line=23'>24</a>\u001b[0m \u001b[39melse\u001b[39;00m:\n\u001b[1;32m     <a href='file:///home/stavros/code/python/diabetes/src/helpers/experiment.py?line=24'>25</a>\u001b[0m     ts \u001b[39m=\u001b[39m TsfreshFeaturizer(\n\u001b[1;32m     <a href='file:///home/stavros/code/python/diabetes/src/helpers/experiment.py?line=25'>26</a>\u001b[0m         df, p[\u001b[39m'\u001b[39m\u001b[39mwindow_size\u001b[39m\u001b[39m'\u001b[39m], p[\u001b[39m'\u001b[39m\u001b[39mprediction_horizon\u001b[39m\u001b[39m'\u001b[39m], minimal_features\u001b[39m=\u001b[39mp[\u001b[39m'\u001b[39m\u001b[39mminimal_features\u001b[39m\u001b[39m'\u001b[39m])\n\u001b[0;32m---> <a href='file:///home/stavros/code/python/diabetes/src/helpers/experiment.py?line=26'>27</a>\u001b[0m     ts\u001b[39m.\u001b[39;49mcreate_labeled_dataframe()\n\u001b[1;32m     <a href='file:///home/stavros/code/python/diabetes/src/helpers/experiment.py?line=28'>29</a>\u001b[0m     out \u001b[39m=\u001b[39m ts\u001b[39m.\u001b[39mlabeled_dataframe\n\u001b[1;32m     <a href='file:///home/stavros/code/python/diabetes/src/helpers/experiment.py?line=29'>30</a>\u001b[0m     save_df(out, ds_name)\n",
      "File \u001b[0;32m~/code/python/diabetes/src/featurizers/tsfresh.py:113\u001b[0m, in \u001b[0;36mTsfreshFeaturizer.create_labeled_dataframe\u001b[0;34m(self)\u001b[0m\n\u001b[1;32m    <a href='file:///home/stavros/code/python/diabetes/src/featurizers/tsfresh.py?line=110'>111</a>\u001b[0m \u001b[39mdef\u001b[39;00m \u001b[39mcreate_labeled_dataframe\u001b[39m(\u001b[39mself\u001b[39m):\n\u001b[1;32m    <a href='file:///home/stavros/code/python/diabetes/src/featurizers/tsfresh.py?line=111'>112</a>\u001b[0m     \u001b[39mif\u001b[39;00m \u001b[39mnot\u001b[39;00m \u001b[39mself\u001b[39m\u001b[39m.\u001b[39mfeature_dataframe:\n\u001b[0;32m--> <a href='file:///home/stavros/code/python/diabetes/src/featurizers/tsfresh.py?line=112'>113</a>\u001b[0m         \u001b[39mself\u001b[39;49m\u001b[39m.\u001b[39;49mcreate_feature_dataframe()\n\u001b[1;32m    <a href='file:///home/stavros/code/python/diabetes/src/featurizers/tsfresh.py?line=113'>114</a>\u001b[0m     \u001b[39mif\u001b[39;00m \u001b[39mnot\u001b[39;00m \u001b[39mself\u001b[39m\u001b[39m.\u001b[39mtarget_series:\n\u001b[1;32m    <a href='file:///home/stavros/code/python/diabetes/src/featurizers/tsfresh.py?line=114'>115</a>\u001b[0m         \u001b[39mself\u001b[39m\u001b[39m.\u001b[39mcreate_target_series()\n",
      "File \u001b[0;32m~/code/python/diabetes/src/featurizers/tsfresh.py:75\u001b[0m, in \u001b[0;36mTsfreshFeaturizer.create_feature_dataframe\u001b[0;34m(self)\u001b[0m\n\u001b[1;32m     <a href='file:///home/stavros/code/python/diabetes/src/featurizers/tsfresh.py?line=72'>73</a>\u001b[0m chunk_features[\u001b[39m'\u001b[39m\u001b[39mend\u001b[39m\u001b[39m'\u001b[39m] \u001b[39m=\u001b[39m i \u001b[39m+\u001b[39m \u001b[39mself\u001b[39m\u001b[39m.\u001b[39mchunk_size \u001b[39m-\u001b[39m \u001b[39m1\u001b[39m\n\u001b[1;32m     <a href='file:///home/stavros/code/python/diabetes/src/featurizers/tsfresh.py?line=73'>74</a>\u001b[0m chunk_features[\u001b[39m'\u001b[39m\u001b[39mstart_time\u001b[39m\u001b[39m'\u001b[39m] \u001b[39m=\u001b[39m \u001b[39mself\u001b[39m\u001b[39m.\u001b[39mtimeseries_df\u001b[39m.\u001b[39mloc[i]\u001b[39m.\u001b[39mtime\n\u001b[0;32m---> <a href='file:///home/stavros/code/python/diabetes/src/featurizers/tsfresh.py?line=74'>75</a>\u001b[0m chunk_features[\u001b[39m'\u001b[39m\u001b[39mend_time\u001b[39m\u001b[39m'\u001b[39m] \u001b[39m=\u001b[39m (\n\u001b[1;32m     <a href='file:///home/stavros/code/python/diabetes/src/featurizers/tsfresh.py?line=75'>76</a>\u001b[0m     \u001b[39mself\u001b[39m\u001b[39m.\u001b[39mtimeseries_df\u001b[39m.\u001b[39mloc[i \u001b[39m+\u001b[39m \u001b[39mself\u001b[39m\u001b[39m.\u001b[39mchunk_size \u001b[39m-\u001b[39m \u001b[39m1\u001b[39m]\u001b[39m.\u001b[39mtime)\n\u001b[1;32m     <a href='file:///home/stavros/code/python/diabetes/src/featurizers/tsfresh.py?line=76'>77</a>\u001b[0m chunk_features[\u001b[39m'\u001b[39m\u001b[39mstart_time_of_day\u001b[39m\u001b[39m'\u001b[39m] \u001b[39m=\u001b[39m \u001b[39mself\u001b[39m\u001b[39m.\u001b[39mraw_timeseries_df\u001b[39m.\u001b[39mloc[i]\u001b[39m.\u001b[39mtime_of_day\n\u001b[1;32m     <a href='file:///home/stavros/code/python/diabetes/src/featurizers/tsfresh.py?line=77'>78</a>\u001b[0m chunk_features[\u001b[39m'\u001b[39m\u001b[39mend_time_of_day\u001b[39m\u001b[39m'\u001b[39m] \u001b[39m=\u001b[39m (\n\u001b[1;32m     <a href='file:///home/stavros/code/python/diabetes/src/featurizers/tsfresh.py?line=78'>79</a>\u001b[0m     \u001b[39mself\u001b[39m\u001b[39m.\u001b[39mraw_timeseries_df\u001b[39m.\u001b[39mloc[i \u001b[39m+\u001b[39m \u001b[39mself\u001b[39m\u001b[39m.\u001b[39mchunk_size \u001b[39m-\u001b[39m \u001b[39m1\u001b[39m]\u001b[39m.\u001b[39mtime_of_day)\n",
      "File \u001b[0;32m~/miniconda3/envs/phd/lib/python3.8/site-packages/pandas/core/frame.py:3655\u001b[0m, in \u001b[0;36mDataFrame.__setitem__\u001b[0;34m(self, key, value)\u001b[0m\n\u001b[1;32m   <a href='file:///home/stavros/miniconda3/envs/phd/lib/python3.8/site-packages/pandas/core/frame.py?line=3651'>3652</a>\u001b[0m     \u001b[39mself\u001b[39m\u001b[39m.\u001b[39m_setitem_array([key], value)\n\u001b[1;32m   <a href='file:///home/stavros/miniconda3/envs/phd/lib/python3.8/site-packages/pandas/core/frame.py?line=3652'>3653</a>\u001b[0m \u001b[39melse\u001b[39;00m:\n\u001b[1;32m   <a href='file:///home/stavros/miniconda3/envs/phd/lib/python3.8/site-packages/pandas/core/frame.py?line=3653'>3654</a>\u001b[0m     \u001b[39m# set column\u001b[39;00m\n\u001b[0;32m-> <a href='file:///home/stavros/miniconda3/envs/phd/lib/python3.8/site-packages/pandas/core/frame.py?line=3654'>3655</a>\u001b[0m     \u001b[39mself\u001b[39;49m\u001b[39m.\u001b[39;49m_set_item(key, value)\n",
      "File \u001b[0;32m~/miniconda3/envs/phd/lib/python3.8/site-packages/pandas/core/frame.py:3845\u001b[0m, in \u001b[0;36mDataFrame._set_item\u001b[0;34m(self, key, value)\u001b[0m\n\u001b[1;32m   <a href='file:///home/stavros/miniconda3/envs/phd/lib/python3.8/site-packages/pandas/core/frame.py?line=3841'>3842</a>\u001b[0m         \u001b[39mif\u001b[39;00m \u001b[39misinstance\u001b[39m(existing_piece, DataFrame):\n\u001b[1;32m   <a href='file:///home/stavros/miniconda3/envs/phd/lib/python3.8/site-packages/pandas/core/frame.py?line=3842'>3843</a>\u001b[0m             value \u001b[39m=\u001b[39m np\u001b[39m.\u001b[39mtile(value, (\u001b[39mlen\u001b[39m(existing_piece\u001b[39m.\u001b[39mcolumns), \u001b[39m1\u001b[39m))\u001b[39m.\u001b[39mT\n\u001b[0;32m-> <a href='file:///home/stavros/miniconda3/envs/phd/lib/python3.8/site-packages/pandas/core/frame.py?line=3844'>3845</a>\u001b[0m \u001b[39mself\u001b[39;49m\u001b[39m.\u001b[39;49m_set_item_mgr(key, value)\n",
      "File \u001b[0;32m~/miniconda3/envs/phd/lib/python3.8/site-packages/pandas/core/frame.py:3802\u001b[0m, in \u001b[0;36mDataFrame._set_item_mgr\u001b[0;34m(self, key, value)\u001b[0m\n\u001b[1;32m   <a href='file:///home/stavros/miniconda3/envs/phd/lib/python3.8/site-packages/pandas/core/frame.py?line=3798'>3799</a>\u001b[0m     loc \u001b[39m=\u001b[39m \u001b[39mself\u001b[39m\u001b[39m.\u001b[39m_info_axis\u001b[39m.\u001b[39mget_loc(key)\n\u001b[1;32m   <a href='file:///home/stavros/miniconda3/envs/phd/lib/python3.8/site-packages/pandas/core/frame.py?line=3799'>3800</a>\u001b[0m \u001b[39mexcept\u001b[39;00m \u001b[39mKeyError\u001b[39;00m:\n\u001b[1;32m   <a href='file:///home/stavros/miniconda3/envs/phd/lib/python3.8/site-packages/pandas/core/frame.py?line=3800'>3801</a>\u001b[0m     \u001b[39m# This item wasn't present, just insert at end\u001b[39;00m\n\u001b[0;32m-> <a href='file:///home/stavros/miniconda3/envs/phd/lib/python3.8/site-packages/pandas/core/frame.py?line=3801'>3802</a>\u001b[0m     \u001b[39mself\u001b[39;49m\u001b[39m.\u001b[39;49m_mgr\u001b[39m.\u001b[39;49minsert(\u001b[39mlen\u001b[39;49m(\u001b[39mself\u001b[39;49m\u001b[39m.\u001b[39;49m_info_axis), key, value)\n\u001b[1;32m   <a href='file:///home/stavros/miniconda3/envs/phd/lib/python3.8/site-packages/pandas/core/frame.py?line=3802'>3803</a>\u001b[0m \u001b[39melse\u001b[39;00m:\n\u001b[1;32m   <a href='file:///home/stavros/miniconda3/envs/phd/lib/python3.8/site-packages/pandas/core/frame.py?line=3803'>3804</a>\u001b[0m     \u001b[39mself\u001b[39m\u001b[39m.\u001b[39m_iset_item_mgr(loc, value)\n",
      "File \u001b[0;32m~/miniconda3/envs/phd/lib/python3.8/site-packages/pandas/core/internals/managers.py:1230\u001b[0m, in \u001b[0;36mBlockManager.insert\u001b[0;34m(self, loc, item, value)\u001b[0m\n\u001b[1;32m   <a href='file:///home/stavros/miniconda3/envs/phd/lib/python3.8/site-packages/pandas/core/internals/managers.py?line=1219'>1220</a>\u001b[0m \u001b[39m\"\"\"\u001b[39;00m\n\u001b[1;32m   <a href='file:///home/stavros/miniconda3/envs/phd/lib/python3.8/site-packages/pandas/core/internals/managers.py?line=1220'>1221</a>\u001b[0m \u001b[39mInsert item at selected position.\u001b[39;00m\n\u001b[1;32m   <a href='file:///home/stavros/miniconda3/envs/phd/lib/python3.8/site-packages/pandas/core/internals/managers.py?line=1221'>1222</a>\u001b[0m \n\u001b[0;32m   (...)\u001b[0m\n\u001b[1;32m   <a href='file:///home/stavros/miniconda3/envs/phd/lib/python3.8/site-packages/pandas/core/internals/managers.py?line=1226'>1227</a>\u001b[0m \u001b[39mvalue : np.ndarray or ExtensionArray\u001b[39;00m\n\u001b[1;32m   <a href='file:///home/stavros/miniconda3/envs/phd/lib/python3.8/site-packages/pandas/core/internals/managers.py?line=1227'>1228</a>\u001b[0m \u001b[39m\"\"\"\u001b[39;00m\n\u001b[1;32m   <a href='file:///home/stavros/miniconda3/envs/phd/lib/python3.8/site-packages/pandas/core/internals/managers.py?line=1228'>1229</a>\u001b[0m \u001b[39m# insert to the axis; this could possibly raise a TypeError\u001b[39;00m\n\u001b[0;32m-> <a href='file:///home/stavros/miniconda3/envs/phd/lib/python3.8/site-packages/pandas/core/internals/managers.py?line=1229'>1230</a>\u001b[0m new_axis \u001b[39m=\u001b[39m \u001b[39mself\u001b[39;49m\u001b[39m.\u001b[39;49mitems\u001b[39m.\u001b[39;49minsert(loc, item)\n\u001b[1;32m   <a href='file:///home/stavros/miniconda3/envs/phd/lib/python3.8/site-packages/pandas/core/internals/managers.py?line=1231'>1232</a>\u001b[0m \u001b[39mif\u001b[39;00m value\u001b[39m.\u001b[39mndim \u001b[39m==\u001b[39m \u001b[39m2\u001b[39m:\n\u001b[1;32m   <a href='file:///home/stavros/miniconda3/envs/phd/lib/python3.8/site-packages/pandas/core/internals/managers.py?line=1232'>1233</a>\u001b[0m     value \u001b[39m=\u001b[39m value\u001b[39m.\u001b[39mT\n",
      "File \u001b[0;32m~/miniconda3/envs/phd/lib/python3.8/site-packages/pandas/core/indexes/base.py:6613\u001b[0m, in \u001b[0;36mIndex.insert\u001b[0;34m(self, loc, item)\u001b[0m\n\u001b[1;32m   <a href='file:///home/stavros/miniconda3/envs/phd/lib/python3.8/site-packages/pandas/core/indexes/base.py?line=6608'>6609</a>\u001b[0m     new_values[loc] \u001b[39m=\u001b[39m item\n\u001b[1;32m   <a href='file:///home/stavros/miniconda3/envs/phd/lib/python3.8/site-packages/pandas/core/indexes/base.py?line=6610'>6611</a>\u001b[0m \u001b[39m# Use self._constructor instead of Index to retain NumericIndex GH#43921\u001b[39;00m\n\u001b[1;32m   <a href='file:///home/stavros/miniconda3/envs/phd/lib/python3.8/site-packages/pandas/core/indexes/base.py?line=6611'>6612</a>\u001b[0m \u001b[39m# TODO(2.0) can use Index instead of self._constructor\u001b[39;00m\n\u001b[0;32m-> <a href='file:///home/stavros/miniconda3/envs/phd/lib/python3.8/site-packages/pandas/core/indexes/base.py?line=6612'>6613</a>\u001b[0m \u001b[39mreturn\u001b[39;00m \u001b[39mself\u001b[39;49m\u001b[39m.\u001b[39;49m_constructor\u001b[39m.\u001b[39;49m_with_infer(new_values, name\u001b[39m=\u001b[39;49m\u001b[39mself\u001b[39;49m\u001b[39m.\u001b[39;49mname)\n",
      "File \u001b[0;32m~/miniconda3/envs/phd/lib/python3.8/site-packages/pandas/core/indexes/base.py:680\u001b[0m, in \u001b[0;36mIndex._with_infer\u001b[0;34m(cls, *args, **kwargs)\u001b[0m\n\u001b[1;32m    <a href='file:///home/stavros/miniconda3/envs/phd/lib/python3.8/site-packages/pandas/core/indexes/base.py?line=677'>678</a>\u001b[0m \u001b[39mwith\u001b[39;00m warnings\u001b[39m.\u001b[39mcatch_warnings():\n\u001b[1;32m    <a href='file:///home/stavros/miniconda3/envs/phd/lib/python3.8/site-packages/pandas/core/indexes/base.py?line=678'>679</a>\u001b[0m     warnings\u001b[39m.\u001b[39mfilterwarnings(\u001b[39m\"\u001b[39m\u001b[39mignore\u001b[39m\u001b[39m\"\u001b[39m, \u001b[39m\"\u001b[39m\u001b[39m.*the Index constructor\u001b[39m\u001b[39m\"\u001b[39m, \u001b[39mFutureWarning\u001b[39;00m)\n\u001b[0;32m--> <a href='file:///home/stavros/miniconda3/envs/phd/lib/python3.8/site-packages/pandas/core/indexes/base.py?line=679'>680</a>\u001b[0m     result \u001b[39m=\u001b[39m \u001b[39mcls\u001b[39;49m(\u001b[39m*\u001b[39;49margs, \u001b[39m*\u001b[39;49m\u001b[39m*\u001b[39;49mkwargs)\n\u001b[1;32m    <a href='file:///home/stavros/miniconda3/envs/phd/lib/python3.8/site-packages/pandas/core/indexes/base.py?line=681'>682</a>\u001b[0m \u001b[39mif\u001b[39;00m result\u001b[39m.\u001b[39mdtype \u001b[39m==\u001b[39m _dtype_obj \u001b[39mand\u001b[39;00m \u001b[39mnot\u001b[39;00m result\u001b[39m.\u001b[39m_is_multi:\n\u001b[1;32m    <a href='file:///home/stavros/miniconda3/envs/phd/lib/python3.8/site-packages/pandas/core/indexes/base.py?line=682'>683</a>\u001b[0m     \u001b[39m# error: Argument 1 to \"maybe_convert_objects\" has incompatible type\u001b[39;00m\n\u001b[1;32m    <a href='file:///home/stavros/miniconda3/envs/phd/lib/python3.8/site-packages/pandas/core/indexes/base.py?line=683'>684</a>\u001b[0m     \u001b[39m# \"Union[ExtensionArray, ndarray[Any, Any]]\"; expected\u001b[39;00m\n\u001b[1;32m    <a href='file:///home/stavros/miniconda3/envs/phd/lib/python3.8/site-packages/pandas/core/indexes/base.py?line=684'>685</a>\u001b[0m     \u001b[39m# \"ndarray[Any, Any]\"\u001b[39;00m\n\u001b[1;32m    <a href='file:///home/stavros/miniconda3/envs/phd/lib/python3.8/site-packages/pandas/core/indexes/base.py?line=685'>686</a>\u001b[0m     values \u001b[39m=\u001b[39m lib\u001b[39m.\u001b[39mmaybe_convert_objects(result\u001b[39m.\u001b[39m_values)  \u001b[39m# type: ignore[arg-type]\u001b[39;00m\n",
      "File \u001b[0;32m~/miniconda3/envs/phd/lib/python3.8/site-packages/pandas/core/indexes/base.py:491\u001b[0m, in \u001b[0;36mIndex.__new__\u001b[0;34m(cls, data, dtype, copy, name, tupleize_cols, **kwargs)\u001b[0m\n\u001b[1;32m    <a href='file:///home/stavros/miniconda3/envs/phd/lib/python3.8/site-packages/pandas/core/indexes/base.py?line=488'>489</a>\u001b[0m     arr \u001b[39m=\u001b[39m data\n\u001b[1;32m    <a href='file:///home/stavros/miniconda3/envs/phd/lib/python3.8/site-packages/pandas/core/indexes/base.py?line=489'>490</a>\u001b[0m \u001b[39melse\u001b[39;00m:\n\u001b[0;32m--> <a href='file:///home/stavros/miniconda3/envs/phd/lib/python3.8/site-packages/pandas/core/indexes/base.py?line=490'>491</a>\u001b[0m     arr \u001b[39m=\u001b[39m com\u001b[39m.\u001b[39;49masarray_tuplesafe(data, dtype\u001b[39m=\u001b[39;49m_dtype_obj)\n\u001b[1;32m    <a href='file:///home/stavros/miniconda3/envs/phd/lib/python3.8/site-packages/pandas/core/indexes/base.py?line=492'>493</a>\u001b[0m     \u001b[39mif\u001b[39;00m dtype \u001b[39mis\u001b[39;00m \u001b[39mNone\u001b[39;00m:\n\u001b[1;32m    <a href='file:///home/stavros/miniconda3/envs/phd/lib/python3.8/site-packages/pandas/core/indexes/base.py?line=493'>494</a>\u001b[0m         arr \u001b[39m=\u001b[39m _maybe_cast_data_without_dtype(\n\u001b[1;32m    <a href='file:///home/stavros/miniconda3/envs/phd/lib/python3.8/site-packages/pandas/core/indexes/base.py?line=494'>495</a>\u001b[0m             arr, cast_numeric_deprecated\u001b[39m=\u001b[39m\u001b[39mTrue\u001b[39;00m\n\u001b[1;32m    <a href='file:///home/stavros/miniconda3/envs/phd/lib/python3.8/site-packages/pandas/core/indexes/base.py?line=495'>496</a>\u001b[0m         )\n",
      "File \u001b[0;32m~/miniconda3/envs/phd/lib/python3.8/site-packages/pandas/core/common.py:233\u001b[0m, in \u001b[0;36masarray_tuplesafe\u001b[0;34m(values, dtype)\u001b[0m\n\u001b[1;32m    <a href='file:///home/stavros/miniconda3/envs/phd/lib/python3.8/site-packages/pandas/core/common.py?line=230'>231</a>\u001b[0m \u001b[39mif\u001b[39;00m \u001b[39mnot\u001b[39;00m (\u001b[39misinstance\u001b[39m(values, (\u001b[39mlist\u001b[39m, \u001b[39mtuple\u001b[39m)) \u001b[39mor\u001b[39;00m \u001b[39mhasattr\u001b[39m(values, \u001b[39m\"\u001b[39m\u001b[39m__array__\u001b[39m\u001b[39m\"\u001b[39m)):\n\u001b[1;32m    <a href='file:///home/stavros/miniconda3/envs/phd/lib/python3.8/site-packages/pandas/core/common.py?line=231'>232</a>\u001b[0m     values \u001b[39m=\u001b[39m \u001b[39mlist\u001b[39m(values)\n\u001b[0;32m--> <a href='file:///home/stavros/miniconda3/envs/phd/lib/python3.8/site-packages/pandas/core/common.py?line=232'>233</a>\u001b[0m \u001b[39melif\u001b[39;00m \u001b[39misinstance\u001b[39;49m(values, ABCIndex):\n\u001b[1;32m    <a href='file:///home/stavros/miniconda3/envs/phd/lib/python3.8/site-packages/pandas/core/common.py?line=233'>234</a>\u001b[0m     \u001b[39m# error: Incompatible return value type (got \"Union[ExtensionArray, ndarray]\",\u001b[39;00m\n\u001b[1;32m    <a href='file:///home/stavros/miniconda3/envs/phd/lib/python3.8/site-packages/pandas/core/common.py?line=234'>235</a>\u001b[0m     \u001b[39m# expected \"ndarray\")\u001b[39;00m\n\u001b[1;32m    <a href='file:///home/stavros/miniconda3/envs/phd/lib/python3.8/site-packages/pandas/core/common.py?line=235'>236</a>\u001b[0m     \u001b[39mreturn\u001b[39;00m values\u001b[39m.\u001b[39m_values  \u001b[39m# type: ignore[return-value]\u001b[39;00m\n\u001b[1;32m    <a href='file:///home/stavros/miniconda3/envs/phd/lib/python3.8/site-packages/pandas/core/common.py?line=237'>238</a>\u001b[0m \u001b[39mif\u001b[39;00m \u001b[39misinstance\u001b[39m(values, \u001b[39mlist\u001b[39m) \u001b[39mand\u001b[39;00m dtype \u001b[39min\u001b[39;00m [np\u001b[39m.\u001b[39mobject_, \u001b[39mobject\u001b[39m]:\n",
      "\u001b[0;31mKeyboardInterrupt\u001b[0m: "
     ]
    }
   ],
   "source": [
    "from src.helpers.experiment import create_tsfresh_dataframe\n",
    "import itertools\n",
    "patients = [559, 563, 570, 575, 588, 591]\n",
    "windows = [6, 12]\n",
    "horizons = [1, 6, 12]\n",
    "\n",
    "for patient, window, horizon in itertools.product(patients, windows, horizons):\n",
    "    parameters = {\n",
    "        'ohio_no': patient,\n",
    "        'scope': 'train',\n",
    "        'train_ds_size': 0,\n",
    "        'window_size': window,\n",
    "        'prediction_horizon': horizon,\n",
    "        'minimal_features': False,\n",
    "    }\n",
    "    create_tsfresh_dataframe(parameters)\n",
    "\n",
    "    parameters = {\n",
    "        'ohio_no': patient,\n",
    "        'scope': 'test',\n",
    "        'train_ds_size': 0,\n",
    "        'window_size': window,\n",
    "        'prediction_horizon': horizon,\n",
    "        'minimal_features': False,\n",
    "    }\n",
    "    create_tsfresh_dataframe(parameters)"
   ]
  },
  {
   "cell_type": "markdown",
   "metadata": {
    "created_in_deepnote_cell": true,
    "deepnote_cell_type": "markdown",
    "tags": []
   },
   "source": [
    "<a style='text-decoration:none;line-height:16px;display:flex;color:#5B5B62;padding:10px;justify-content:end;' href='https://deepnote.com?utm_source=created-in-deepnote-cell&projectId=d560f233-0034-499f-bc4e-7ada8795cb9f' target=\"_blank\">\n",
    "<img alt='Created in deepnote.com' style='display:inline;max-height:16px;margin:0px;margin-right:7.5px;' src='data:image/svg+xml;base64,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' > </img>\n",
    "Created in <span style='font-weight:600;margin-left:4px;'>Deepnote</span></a>"
   ]
  }
 ],
 "metadata": {
  "deepnote": {
   "is_reactive": false
  },
  "deepnote_execution_queue": [],
  "deepnote_notebook_id": "0e255da5-b45f-4f3a-9a9c-fdc030370add",
  "interpreter": {
   "hash": "557c23c2032d120c9a83ae17097096a5c86ea752d8fa0dfdd2a8006f07b5f53b"
  },
  "kernelspec": {
   "display_name": "Python 3.8.13 ('phd')",
   "language": "python",
   "name": "python3"
  },
  "language_info": {
   "codemirror_mode": {
    "name": "ipython",
    "version": 3
   },
   "file_extension": ".py",
   "mimetype": "text/x-python",
   "name": "python",
   "nbconvert_exporter": "python",
   "pygments_lexer": "ipython3",
   "version": "3.8.13"
  },
  "orig_nbformat": 2
 },
 "nbformat": 4,
 "nbformat_minor": 2
}
