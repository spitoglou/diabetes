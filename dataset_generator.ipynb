{
 "cells": [
  {
   "cell_type": "code",
   "source": "!pip install loguru\n!pip install pycaret[full]\n!pip install lxml\n!pip install tsfresh",
   "metadata": {
    "tags": [],
    "cell_id": "00000-7bc3eb7c-4afc-4979-8646-013073749b5b",
    "deepnote_to_be_reexecuted": false,
    "source_hash": "1af276a1",
    "execution_start": 1623934423130,
    "execution_millis": 126503,
    "deepnote_cell_type": "code"
   },
   "outputs": [
    {
     "name": "stdout",
     "text": "Collecting loguru\n  Downloading loguru-0.5.3-py3-none-any.whl (57 kB)\n\u001b[K     |████████████████████████████████| 57 kB 7.1 MB/s \n\u001b[?25hInstalling collected packages: loguru\nSuccessfully installed loguru-0.5.3\nCollecting pycaret[full]\n  Downloading pycaret-2.3.1-py3-none-any.whl (261 kB)\n\u001b[K     |████████████████████████████████| 261 kB 24.7 MB/s \n\u001b[?25hCollecting cufflinks>=0.17.0\n  Downloading cufflinks-0.17.3.tar.gz (81 kB)\n\u001b[K     |████████████████████████████████| 81 kB 19.5 MB/s \n\u001b[?25hCollecting pyLDAvis\n  Downloading pyLDAvis-3.3.1.tar.gz (1.7 MB)\n\u001b[K     |████████████████████████████████| 1.7 MB 55.3 MB/s \n\u001b[?25h  Installing build dependencies ... \u001b[?25ldone\n\u001b[?25h  Getting requirements to build wheel ... \u001b[?25ldone\n\u001b[?25h  Installing backend dependencies ... \u001b[?25ldone\n\u001b[?25h    Preparing wheel metadata ... \u001b[?25ldone\n\u001b[?25hCollecting mlxtend>=0.17.0\n  Downloading mlxtend-0.18.0-py2.py3-none-any.whl (1.3 MB)\n\u001b[K     |████████████████████████████████| 1.3 MB 56.1 MB/s \n\u001b[?25hCollecting lightgbm>=2.3.1\n  Downloading lightgbm-3.2.1-py3-none-manylinux1_x86_64.whl (2.0 MB)\n\u001b[K     |████████████████████████████████| 2.0 MB 70.6 MB/s \n\u001b[?25hCollecting kmodes>=0.10.1\n  Downloading kmodes-0.11.0-py2.py3-none-any.whl (18 kB)\nRequirement already satisfied: IPython in /shared-libs/python3.8/py-core/lib/python3.8/site-packages (from pycaret[full]) (7.24.1)\nCollecting yellowbrick>=1.0.1\n  Downloading yellowbrick-1.3.post1-py3-none-any.whl (271 kB)\n\u001b[K     |████████████████████████████████| 271 kB 76.8 MB/s \n\u001b[?25hCollecting scikit-plot\n  Downloading scikit_plot-0.3.7-py3-none-any.whl (33 kB)\nRequirement already satisfied: textblob in /shared-libs/python3.8/py/lib/python3.8/site-packages (from pycaret[full]) (0.15.3)\nCollecting ipywidgets\n  Downloading ipywidgets-7.6.3-py2.py3-none-any.whl (121 kB)\n\u001b[K     |████████████████████████████████| 121 kB 84.2 MB/s \n\u001b[?25hCollecting spacy<2.4.0\n  Downloading spacy-2.3.7-cp38-cp38-manylinux_2_17_x86_64.manylinux2014_x86_64.whl (10.5 MB)\n\u001b[K     |████████████████████████████████| 10.5 MB 24.3 MB/s \n\u001b[?25hCollecting scipy<=1.5.4\n  Downloading scipy-1.5.4-cp38-cp38-manylinux1_x86_64.whl (25.8 MB)\n\u001b[K     |████████████████████████████████| 25.8 MB 63.1 MB/s \n\u001b[?25hCollecting Boruta\n  Downloading Boruta-0.3-py3-none-any.whl (56 kB)\n\u001b[K     |████████████████████████████████| 56 kB 7.9 MB/s \n\u001b[?25hRequirement already satisfied: seaborn in /shared-libs/python3.8/py/lib/python3.8/site-packages (from pycaret[full]) (0.11.1)\nRequirement already satisfied: nltk in /shared-libs/python3.8/py/lib/python3.8/site-packages (from pycaret[full]) (3.6.2)\nCollecting gensim<4.0.0\n  Downloading gensim-3.8.3-cp38-cp38-manylinux1_x86_64.whl (24.2 MB)\n\u001b[K     |████████████████████████████████| 24.2 MB 32.2 MB/s \n\u001b[?25hCollecting umap-learn\n  Downloading umap-learn-0.5.1.tar.gz (80 kB)\n\u001b[K     |████████████████████████████████| 80 kB 21.1 MB/s \n\u001b[?25hRequirement already satisfied: joblib in /shared-libs/python3.8/py/lib/python3.8/site-packages (from pycaret[full]) (1.0.1)\nCollecting mlflow\n  Downloading mlflow-1.17.0-py3-none-any.whl (14.2 MB)\n\u001b[K     |████████████████████████████████| 14.2 MB 46.9 MB/s \n\u001b[?25hRequirement already satisfied: plotly>=4.4.1 in /shared-libs/python3.8/py/lib/python3.8/site-packages (from pycaret[full]) (4.14.3)\nCollecting scikit-learn==0.23.2\n  Downloading scikit_learn-0.23.2-cp38-cp38-manylinux1_x86_64.whl (6.8 MB)\n\u001b[K     |████████████████████████████████| 6.8 MB 59.9 MB/s \n\u001b[?25hRequirement already satisfied: matplotlib in /shared-libs/python3.8/py/lib/python3.8/site-packages (from pycaret[full]) (3.4.2)\nRequirement already satisfied: numpy==1.19.5 in /shared-libs/python3.8/py/lib/python3.8/site-packages (from pycaret[full]) (1.19.5)\nCollecting imbalanced-learn==0.7.0\n  Downloading imbalanced_learn-0.7.0-py3-none-any.whl (167 kB)\n\u001b[K     |████████████████████████████████| 167 kB 70.9 MB/s \n\u001b[?25hCollecting pyod\n  Downloading pyod-0.8.9.tar.gz (104 kB)\n\u001b[K     |████████████████████████████████| 104 kB 46.3 MB/s \n\u001b[?25hRequirement already satisfied: pandas in /shared-libs/python3.8/py/lib/python3.8/site-packages (from pycaret[full]) (1.2.4)\nCollecting wordcloud\n  Downloading wordcloud-1.8.1-cp38-cp38-manylinux1_x86_64.whl (371 kB)\n\u001b[K     |████████████████████████████████| 371 kB 70.2 MB/s \n\u001b[?25hCollecting pandas-profiling>=2.8.0\n  Downloading pandas_profiling-3.0.0-py2.py3-none-any.whl (248 kB)\n\u001b[K     |████████████████████████████████| 248 kB 86.0 MB/s \n\u001b[?25hCollecting tune-sklearn>=0.2.1\n  Downloading tune_sklearn-0.3.0-py3-none-any.whl (39 kB)\nCollecting optuna\n  Downloading optuna-2.8.0-py3-none-any.whl (301 kB)\n\u001b[K     |████████████████████████████████| 301 kB 85.3 MB/s \n\u001b[?25hRequirement already satisfied: azure-storage-blob in /shared-libs/python3.8/py/lib/python3.8/site-packages (from pycaret[full]) (12.8.1)\nCollecting psutil\n  Downloading psutil-5.8.0-cp38-cp38-manylinux2010_x86_64.whl (296 kB)\n\u001b[K     |████████████████████████████████| 296 kB 82.6 MB/s \n\u001b[?25hCollecting google-cloud-storage\n  Downloading google_cloud_storage-1.38.0-py2.py3-none-any.whl (103 kB)\n\u001b[K     |████████████████████████████████| 103 kB 78.9 MB/s \n\u001b[?25hCollecting hyperopt\n  Downloading hyperopt-0.2.5-py2.py3-none-any.whl (965 kB)\n\u001b[K     |████████████████████████████████| 965 kB 57.0 MB/s \n\u001b[?25hCollecting catboost>=0.23.2\n  Downloading catboost-0.26-cp38-none-manylinux1_x86_64.whl (69.2 MB)\n\u001b[K     |████████████████████████████████| 69.2 MB 191 kB/s \n\u001b[?25hCollecting shap\n  Downloading shap-0.39.0.tar.gz (356 kB)\n\u001b[K     |████████████████████████████████| 356 kB 80.6 MB/s \n\u001b[?25hCollecting ray[tune]>=1.0.0\n  Downloading ray-1.4.0-cp38-cp38-manylinux2014_x86_64.whl (49.2 MB)\n\u001b[K     |████████████████████████████████| 49.2 MB 22.4 MB/s \n\u001b[?25hCollecting awscli\n  Downloading awscli-1.19.96-py2.py3-none-any.whl (3.6 MB)\n\u001b[K     |████████████████████████████████| 3.6 MB 63.3 MB/s \n\u001b[?25hCollecting scikit-optimize>=0.8.1\n  Downloading scikit_optimize-0.8.1-py2.py3-none-any.whl (101 kB)\n\u001b[K     |████████████████████████████████| 101 kB 27.1 MB/s \n\u001b[?25hCollecting xgboost>=1.1.0\n  Downloading xgboost-1.4.2-py3-none-manylinux2010_x86_64.whl (166.7 MB)\n\u001b[K     |████████████████████████████████| 166.7 MB 67.8 MB/s \n\u001b[?25hRequirement already satisfied: threadpoolctl>=2.0.0 in /shared-libs/python3.8/py/lib/python3.8/site-packages (from scikit-learn==0.23.2->pycaret[full]) (2.1.0)\nCollecting graphviz\n  Downloading graphviz-0.16-py2.py3-none-any.whl (19 kB)\nRequirement already satisfied: six in /shared-libs/python3.8/py-core/lib/python3.8/site-packages (from catboost>=0.23.2->pycaret[full]) (1.16.0)\nCollecting colorlover>=0.2.1\n  Downloading colorlover-0.3.0-py3-none-any.whl (8.9 kB)\nRequirement already satisfied: setuptools>=34.4.1 in /root/venv/lib/python3.8/site-packages (from cufflinks>=0.17.0->pycaret[full]) (57.0.0)\nRequirement already satisfied: smart-open>=1.8.1 in /shared-libs/python3.8/py/lib/python3.8/site-packages (from gensim<4.0.0->pycaret[full]) (3.0.0)\nRequirement already satisfied: matplotlib-inline in /shared-libs/python3.8/py-core/lib/python3.8/site-packages (from IPython->pycaret[full]) (0.1.2)\nRequirement already satisfied: traitlets>=4.2 in /shared-libs/python3.8/py-core/lib/python3.8/site-packages (from IPython->pycaret[full]) (5.0.5)\nRequirement already satisfied: decorator in /shared-libs/python3.8/py-core/lib/python3.8/site-packages (from IPython->pycaret[full]) (5.0.9)\nRequirement already satisfied: pygments in /shared-libs/python3.8/py-core/lib/python3.8/site-packages (from IPython->pycaret[full]) (2.9.0)\nRequirement already satisfied: backcall in /shared-libs/python3.8/py-core/lib/python3.8/site-packages (from IPython->pycaret[full]) (0.2.0)\nRequirement already satisfied: prompt-toolkit!=3.0.0,!=3.0.1,<3.1.0,>=2.0.0 in /shared-libs/python3.8/py-core/lib/python3.8/site-packages (from IPython->pycaret[full]) (3.0.18)\nRequirement already satisfied: pexpect>4.3 in /shared-libs/python3.8/py-core/lib/python3.8/site-packages (from IPython->pycaret[full]) (4.8.0)\nRequirement already satisfied: pickleshare in /shared-libs/python3.8/py-core/lib/python3.8/site-packages (from IPython->pycaret[full]) (0.7.5)\nRequirement already satisfied: jedi>=0.16 in /shared-libs/python3.8/py-core/lib/python3.8/site-packages (from IPython->pycaret[full]) (0.17.2)\nRequirement already satisfied: nbformat>=4.2.0 in /shared-libs/python3.8/py-core/lib/python3.8/site-packages (from ipywidgets->pycaret[full]) (5.1.3)\nCollecting jupyterlab-widgets>=1.0.0\n  Downloading jupyterlab_widgets-1.0.0-py3-none-any.whl (243 kB)\n\u001b[K     |████████████████████████████████| 243 kB 79.3 MB/s \n\u001b[?25hRequirement already satisfied: ipykernel>=4.5.1 in /shared-libs/python3.8/py-core/lib/python3.8/site-packages (from ipywidgets->pycaret[full]) (5.5.5)\nCollecting widgetsnbextension~=3.5.0\n  Downloading widgetsnbextension-3.5.1-py2.py3-none-any.whl (2.2 MB)\n\u001b[K     |████████████████████████████████| 2.2 MB 28.5 MB/s \n\u001b[?25hRequirement already satisfied: jupyter-client in /shared-libs/python3.8/py-core/lib/python3.8/site-packages (from ipykernel>=4.5.1->ipywidgets->pycaret[full]) (6.1.12)\nRequirement already satisfied: tornado>=4.2 in /shared-libs/python3.8/py-core/lib/python3.8/site-packages (from ipykernel>=4.5.1->ipywidgets->pycaret[full]) (6.1)\nRequirement already satisfied: parso<0.8.0,>=0.7.0 in /shared-libs/python3.8/py-core/lib/python3.8/site-packages (from jedi>=0.16->IPython->pycaret[full]) (0.7.1)\nRequirement already satisfied: wheel in /root/venv/lib/python3.8/site-packages (from lightgbm>=2.3.1->pycaret[full]) (0.36.2)\nRequirement already satisfied: pyparsing>=2.2.1 in /shared-libs/python3.8/py-core/lib/python3.8/site-packages (from matplotlib->pycaret[full]) (2.4.7)\nRequirement already satisfied: kiwisolver>=1.0.1 in /shared-libs/python3.8/py/lib/python3.8/site-packages (from matplotlib->pycaret[full]) (1.3.1)\nRequirement already satisfied: python-dateutil>=2.7 in /shared-libs/python3.8/py-core/lib/python3.8/site-packages (from matplotlib->pycaret[full]) (2.8.1)\nRequirement already satisfied: cycler>=0.10 in /shared-libs/python3.8/py/lib/python3.8/site-packages (from matplotlib->pycaret[full]) (0.10.0)\nRequirement already satisfied: pillow>=6.2.0 in /shared-libs/python3.8/py/lib/python3.8/site-packages (from matplotlib->pycaret[full]) (8.2.0)\nRequirement already satisfied: jsonschema!=2.5.0,>=2.4 in /shared-libs/python3.8/py-core/lib/python3.8/site-packages (from nbformat>=4.2.0->ipywidgets->pycaret[full]) (3.2.0)\nRequirement already satisfied: ipython-genutils in /shared-libs/python3.8/py-core/lib/python3.8/site-packages (from nbformat>=4.2.0->ipywidgets->pycaret[full]) (0.2.0)\nRequirement already satisfied: jupyter-core in /shared-libs/python3.8/py-core/lib/python3.8/site-packages (from nbformat>=4.2.0->ipywidgets->pycaret[full]) (4.7.1)\nRequirement already satisfied: attrs>=17.4.0 in /shared-libs/python3.8/py-core/lib/python3.8/site-packages (from jsonschema!=2.5.0,>=2.4->nbformat>=4.2.0->ipywidgets->pycaret[full]) (21.2.0)\nRequirement already satisfied: pyrsistent>=0.14.0 in /shared-libs/python3.8/py-core/lib/python3.8/site-packages (from jsonschema!=2.5.0,>=2.4->nbformat>=4.2.0->ipywidgets->pycaret[full]) (0.17.3)\nRequirement already satisfied: pytz>=2017.3 in /shared-libs/python3.8/py/lib/python3.8/site-packages (from pandas->pycaret[full]) (2021.1)\nRequirement already satisfied: requests>=2.24.0 in /shared-libs/python3.8/py/lib/python3.8/site-packages (from pandas-profiling>=2.8.0->pycaret[full]) (2.25.1)\nCollecting pydantic>=1.8.1\n  Downloading pydantic-1.8.2-cp38-cp38-manylinux2014_x86_64.whl (13.7 MB)\n\u001b[K     |████████████████████████████████| 13.7 MB 66.7 MB/s \n\u001b[?25hCollecting missingno>=0.4.2\n  Downloading missingno-0.4.2-py3-none-any.whl (9.7 kB)\nCollecting htmlmin>=0.1.12\n  Downloading htmlmin-0.1.12.tar.gz (19 kB)\nCollecting phik>=0.11.1\n  Downloading phik-0.11.2.tar.gz (1.1 MB)\n\u001b[K     |████████████████████████████████| 1.1 MB 53.1 MB/s \n\u001b[?25hCollecting tangled-up-in-unicode==0.1.0\n  Downloading tangled_up_in_unicode-0.1.0-py3-none-any.whl (3.1 MB)\n\u001b[K     |████████████████████████████████| 3.1 MB 28.2 MB/s \n\u001b[?25hRequirement already satisfied: jinja2>=2.11.1 in /shared-libs/python3.8/py-core/lib/python3.8/site-packages (from pandas-profiling>=2.8.0->pycaret[full]) (3.0.1)\nRequirement already satisfied: tqdm>=4.48.2 in /shared-libs/python3.8/py/lib/python3.8/site-packages (from pandas-profiling>=2.8.0->pycaret[full]) (4.61.1)\nRequirement already satisfied: PyYAML>=5.0.0 in /shared-libs/python3.8/py/lib/python3.8/site-packages (from pandas-profiling>=2.8.0->pycaret[full]) (5.4.1)\nCollecting visions[type_image_path]==0.7.1\n  Downloading visions-0.7.1-py3-none-any.whl (102 kB)\n\u001b[K     |████████████████████████████████| 102 kB 64.9 MB/s \n\u001b[?25hCollecting networkx>=2.4\n  Downloading networkx-2.5.1-py3-none-any.whl (1.6 MB)\n\u001b[K     |████████████████████████████████| 1.6 MB 59.2 MB/s \n\u001b[?25hCollecting bottleneck\n  Downloading Bottleneck-1.3.2.tar.gz (88 kB)\n\u001b[K     |████████████████████████████████| 88 kB 17.9 MB/s \n\u001b[?25h  Installing build dependencies ... \u001b[?25ldone\n\u001b[?25h  Getting requirements to build wheel ... \u001b[?25ldone\n\u001b[?25h    Preparing wheel metadata ... \u001b[?25ldone\n\u001b[?25hCollecting multimethod==1.4\n  Downloading multimethod-1.4-py2.py3-none-any.whl (7.3 kB)\nCollecting imagehash\n  Downloading ImageHash-4.2.0-py2.py3-none-any.whl (295 kB)\n\u001b[K     |████████████████████████████████| 295 kB 64.9 MB/s \n\u001b[?25hRequirement already satisfied: MarkupSafe>=2.0 in /shared-libs/python3.8/py-core/lib/python3.8/site-packages (from jinja2>=2.11.1->pandas-profiling>=2.8.0->pycaret[full]) (2.0.1)\nCollecting decorator\n  Downloading decorator-4.4.2-py2.py3-none-any.whl (9.2 kB)\nRequirement already satisfied: ptyprocess>=0.5 in /shared-libs/python3.8/py-core/lib/python3.8/site-packages (from pexpect>4.3->IPython->pycaret[full]) (0.7.0)\nRequirement already satisfied: retrying>=1.3.3 in /shared-libs/python3.8/py/lib/python3.8/site-packages (from plotly>=4.4.1->pycaret[full]) (1.3.3)\nRequirement already satisfied: wcwidth in /shared-libs/python3.8/py-core/lib/python3.8/site-packages (from prompt-toolkit!=3.0.0,!=3.0.1,<3.1.0,>=2.0.0->IPython->pycaret[full]) (0.2.5)\nRequirement already satisfied: typing-extensions>=3.7.4.3 in /shared-libs/python3.8/py/lib/python3.8/site-packages (from pydantic>=1.8.1->pandas-profiling>=2.8.0->pycaret[full]) (3.7.4.3)\nCollecting gpustat\n  Downloading gpustat-0.6.0.tar.gz (78 kB)\n\u001b[K     |████████████████████████████████| 78 kB 16.6 MB/s \n\u001b[?25hRequirement already satisfied: click>=7.0 in /shared-libs/python3.8/py/lib/python3.8/site-packages (from ray[tune]>=1.0.0->pycaret[full]) (7.1.2)\nCollecting colorama\n  Downloading colorama-0.4.4-py2.py3-none-any.whl (16 kB)\nCollecting aioredis\n  Downloading aioredis-1.3.1-py3-none-any.whl (65 kB)\n\u001b[K     |████████████████████████████████| 65 kB 9.2 MB/s \n\u001b[?25hCollecting msgpack<2.0.0,>=1.0.0\n  Downloading msgpack-1.0.2-cp38-cp38-manylinux1_x86_64.whl (302 kB)\n\u001b[K     |████████████████████████████████| 302 kB 59.1 MB/s \n\u001b[?25hRequirement already satisfied: protobuf>=3.15.3 in /shared-libs/python3.8/py/lib/python3.8/site-packages (from ray[tune]>=1.0.0->pycaret[full]) (3.17.3)\nCollecting aiohttp\n  Downloading aiohttp-3.7.4.post0-cp38-cp38-manylinux2014_x86_64.whl (1.5 MB)\n\u001b[K     |████████████████████████████████| 1.5 MB 40.1 MB/s \n\u001b[?25hCollecting aiohttp-cors\n  Downloading aiohttp_cors-0.7.0-py3-none-any.whl (27 kB)\nRequirement already satisfied: grpcio>=1.28.1 in /shared-libs/python3.8/py/lib/python3.8/site-packages (from ray[tune]>=1.0.0->pycaret[full]) (1.32.0)\nCollecting redis>=3.5.0\n  Downloading redis-3.5.3-py2.py3-none-any.whl (72 kB)\n\u001b[K     |████████████████████████████████| 72 kB 1.1 MB/s \n\u001b[?25hCollecting py-spy>=0.2.0\n  Downloading py_spy-0.3.7-py2.py3-none-manylinux1_x86_64.whl (3.1 MB)\n\u001b[K     |████████████████████████████████| 3.1 MB 26.5 MB/s \n\u001b[?25hRequirement already satisfied: prometheus-client>=0.7.1 in /shared-libs/python3.8/py-core/lib/python3.8/site-packages (from ray[tune]>=1.0.0->pycaret[full]) (0.11.0)\nRequirement already satisfied: filelock in /shared-libs/python3.8/py-core/lib/python3.8/site-packages (from ray[tune]>=1.0.0->pycaret[full]) (3.0.12)\nCollecting opencensus\n  Downloading opencensus-0.7.13-py2.py3-none-any.whl (127 kB)\n\u001b[K     |████████████████████████████████| 127 kB 71.4 MB/s \n\u001b[?25hCollecting tensorboardX\n  Downloading tensorboardX-2.2-py2.py3-none-any.whl (120 kB)\n\u001b[K     |████████████████████████████████| 120 kB 62.4 MB/s \n\u001b[?25hRequirement already satisfied: tabulate in /shared-libs/python3.8/py/lib/python3.8/site-packages (from ray[tune]>=1.0.0->pycaret[full]) (0.8.9)\nRequirement already satisfied: urllib3<1.27,>=1.21.1 in /shared-libs/python3.8/py/lib/python3.8/site-packages (from requests>=2.24.0->pandas-profiling>=2.8.0->pycaret[full]) (1.26.5)\nRequirement already satisfied: chardet<5,>=3.0.2 in /shared-libs/python3.8/py/lib/python3.8/site-packages (from requests>=2.24.0->pandas-profiling>=2.8.0->pycaret[full]) (3.0.4)\nRequirement already satisfied: idna<3,>=2.5 in /shared-libs/python3.8/py/lib/python3.8/site-packages (from requests>=2.24.0->pandas-profiling>=2.8.0->pycaret[full]) (2.10)\nRequirement already satisfied: certifi>=2017.4.17 in /shared-libs/python3.8/py/lib/python3.8/site-packages (from requests>=2.24.0->pandas-profiling>=2.8.0->pycaret[full]) (2021.5.30)\nCollecting pyaml>=16.9\n  Downloading pyaml-20.4.0-py2.py3-none-any.whl (17 kB)\nCollecting plac<1.2.0,>=0.9.6\n  Downloading plac-1.1.3-py2.py3-none-any.whl (20 kB)\nCollecting catalogue<1.1.0,>=0.0.7\n  Downloading catalogue-1.0.0-py2.py3-none-any.whl (7.7 kB)\nCollecting srsly<1.1.0,>=1.0.2\n  Downloading srsly-1.0.5-cp38-cp38-manylinux2014_x86_64.whl (186 kB)\n\u001b[K     |████████████████████████████████| 186 kB 74.3 MB/s \n\u001b[?25hCollecting thinc<7.5.0,>=7.4.1\n  Downloading thinc-7.4.5-cp38-cp38-manylinux2014_x86_64.whl (1.1 MB)\n\u001b[K     |████████████████████████████████| 1.1 MB 65.8 MB/s \n\u001b[?25hRequirement already satisfied: murmurhash<1.1.0,>=0.28.0 in /shared-libs/python3.8/py/lib/python3.8/site-packages (from spacy<2.4.0->pycaret[full]) (1.0.5)\nRequirement already satisfied: wasabi<1.1.0,>=0.4.0 in /shared-libs/python3.8/py/lib/python3.8/site-packages (from spacy<2.4.0->pycaret[full]) (0.8.2)\nRequirement already satisfied: cymem<2.1.0,>=2.0.2 in /shared-libs/python3.8/py/lib/python3.8/site-packages (from spacy<2.4.0->pycaret[full]) (2.0.5)\nRequirement already satisfied: blis<0.8.0,>=0.4.0 in /shared-libs/python3.8/py/lib/python3.8/site-packages (from spacy<2.4.0->pycaret[full]) (0.7.4)\nRequirement already satisfied: preshed<3.1.0,>=3.0.2 in /shared-libs/python3.8/py/lib/python3.8/site-packages (from spacy<2.4.0->pycaret[full]) (3.0.5)\nRequirement already satisfied: notebook>=4.4.1 in /shared-libs/python3.8/py-core/lib/python3.8/site-packages (from widgetsnbextension~=3.5.0->ipywidgets->pycaret[full]) (7.0.0.dev0)\nRequirement already satisfied: terminado>=0.8.3 in /shared-libs/python3.8/py-core/lib/python3.8/site-packages (from notebook>=4.4.1->widgetsnbextension~=3.5.0->ipywidgets->pycaret[full]) (0.10.1)\nRequirement already satisfied: Send2Trash>=1.5.0 in /shared-libs/python3.8/py-core/lib/python3.8/site-packages (from notebook>=4.4.1->widgetsnbextension~=3.5.0->ipywidgets->pycaret[full]) (1.5.0)\nRequirement already satisfied: pyzmq>=17 in /shared-libs/python3.8/py-core/lib/python3.8/site-packages (from notebook>=4.4.1->widgetsnbextension~=3.5.0->ipywidgets->pycaret[full]) (22.1.0)\nRequirement already satisfied: argon2-cffi in /shared-libs/python3.8/py-core/lib/python3.8/site-packages (from notebook>=4.4.1->widgetsnbextension~=3.5.0->ipywidgets->pycaret[full]) (20.1.0)\nRequirement already satisfied: nbconvert in /shared-libs/python3.8/py-core/lib/python3.8/site-packages (from notebook>=4.4.1->widgetsnbextension~=3.5.0->ipywidgets->pycaret[full]) (6.0.7)\nCollecting multidict<7.0,>=4.5\n  Downloading multidict-5.1.0-cp38-cp38-manylinux2014_x86_64.whl (159 kB)\n\u001b[K     |████████████████████████████████| 159 kB 62.0 MB/s \n\u001b[?25hCollecting yarl<2.0,>=1.0\n  Downloading yarl-1.6.3-cp38-cp38-manylinux2014_x86_64.whl (324 kB)\n\u001b[K     |████████████████████████████████| 324 kB 62.4 MB/s \n\u001b[?25hCollecting async-timeout<4.0,>=3.0\n  Downloading async_timeout-3.0.1-py3-none-any.whl (8.2 kB)\nCollecting hiredis\n  Downloading hiredis-2.0.0-cp38-cp38-manylinux2010_x86_64.whl (85 kB)\n\u001b[K     |████████████████████████████████| 85 kB 12.2 MB/s \n\u001b[?25hRequirement already satisfied: cffi>=1.0.0 in /shared-libs/python3.8/py-core/lib/python3.8/site-packages (from argon2-cffi->notebook>=4.4.1->widgetsnbextension~=3.5.0->ipywidgets->pycaret[full]) (1.14.5)\nRequirement already satisfied: pycparser in /shared-libs/python3.8/py-core/lib/python3.8/site-packages (from cffi>=1.0.0->argon2-cffi->notebook>=4.4.1->widgetsnbextension~=3.5.0->ipywidgets->pycaret[full]) (2.20)\nCollecting colorama\n  Downloading colorama-0.4.3-py2.py3-none-any.whl (15 kB)\nRequirement already satisfied: botocore==1.20.96 in /shared-libs/python3.8/py/lib/python3.8/site-packages (from awscli->pycaret[full]) (1.20.96)\nRequirement already satisfied: rsa<4.8,>=3.1.2 in /shared-libs/python3.8/py/lib/python3.8/site-packages (from awscli->pycaret[full]) (4.7.2)\nRequirement already satisfied: s3transfer<0.5.0,>=0.4.0 in /shared-libs/python3.8/py/lib/python3.8/site-packages (from awscli->pycaret[full]) (0.4.2)\nCollecting docutils<0.16,>=0.10\n  Downloading docutils-0.15.2-py3-none-any.whl (547 kB)\n\u001b[K     |████████████████████████████████| 547 kB 57.2 MB/s \n\u001b[?25hRequirement already satisfied: jmespath<1.0.0,>=0.7.1 in /shared-libs/python3.8/py/lib/python3.8/site-packages (from botocore==1.20.96->awscli->pycaret[full]) (0.10.0)\nRequirement already satisfied: pyasn1>=0.1.3 in /shared-libs/python3.8/py/lib/python3.8/site-packages (from rsa<4.8,>=3.1.2->awscli->pycaret[full]) (0.4.8)\nRequirement already satisfied: msrest>=0.6.18 in /shared-libs/python3.8/py/lib/python3.8/site-packages (from azure-storage-blob->pycaret[full]) (0.6.21)\nRequirement already satisfied: cryptography>=2.1.4 in /shared-libs/python3.8/py/lib/python3.8/site-packages (from azure-storage-blob->pycaret[full]) (3.4.7)\nRequirement already satisfied: azure-core<2.0.0,>=1.10.0 in /shared-libs/python3.8/py/lib/python3.8/site-packages (from azure-storage-blob->pycaret[full]) (1.15.0)\nRequirement already satisfied: requests-oauthlib>=0.5.0 in /shared-libs/python3.8/py/lib/python3.8/site-packages (from msrest>=0.6.18->azure-storage-blob->pycaret[full]) (1.3.0)\nRequirement already satisfied: isodate>=0.6.0 in /shared-libs/python3.8/py/lib/python3.8/site-packages (from msrest>=0.6.18->azure-storage-blob->pycaret[full]) (0.6.0)\nRequirement already satisfied: oauthlib>=3.0.0 in /shared-libs/python3.8/py/lib/python3.8/site-packages (from requests-oauthlib>=0.5.0->msrest>=0.6.18->azure-storage-blob->pycaret[full]) (3.1.1)\nRequirement already satisfied: google-cloud-core<2.0dev,>=1.4.1 in /shared-libs/python3.8/py/lib/python3.8/site-packages (from google-cloud-storage->pycaret[full]) (1.7.0)\nRequirement already satisfied: google-resumable-media<2.0dev,>=1.2.0 in /shared-libs/python3.8/py/lib/python3.8/site-packages (from google-cloud-storage->pycaret[full]) (1.3.0)\nRequirement already satisfied: google-auth<2.0dev,>=1.11.0 in /shared-libs/python3.8/py/lib/python3.8/site-packages (from google-cloud-storage->pycaret[full]) (1.31.0)\nRequirement already satisfied: pyasn1-modules>=0.2.1 in /shared-libs/python3.8/py/lib/python3.8/site-packages (from google-auth<2.0dev,>=1.11.0->google-cloud-storage->pycaret[full]) (0.2.8)\nRequirement already satisfied: cachetools<5.0,>=2.0.0 in /shared-libs/python3.8/py/lib/python3.8/site-packages (from google-auth<2.0dev,>=1.11.0->google-cloud-storage->pycaret[full]) (4.2.2)\nRequirement already satisfied: google-api-core<2.0.0dev,>=1.21.0 in /shared-libs/python3.8/py/lib/python3.8/site-packages (from google-cloud-core<2.0dev,>=1.4.1->google-cloud-storage->pycaret[full]) (1.30.0)\nRequirement already satisfied: packaging>=14.3 in /shared-libs/python3.8/py-core/lib/python3.8/site-packages (from google-api-core<2.0.0dev,>=1.21.0->google-cloud-core<2.0dev,>=1.4.1->google-cloud-storage->pycaret[full]) (20.9)\nRequirement already satisfied: googleapis-common-protos<2.0dev,>=1.6.0 in /shared-libs/python3.8/py/lib/python3.8/site-packages (from google-api-core<2.0.0dev,>=1.21.0->google-cloud-core<2.0dev,>=1.4.1->google-cloud-storage->pycaret[full]) (1.53.0)\nRequirement already satisfied: google-crc32c<2.0dev,>=1.0 in /shared-libs/python3.8/py/lib/python3.8/site-packages (from google-resumable-media<2.0dev,>=1.2.0->google-cloud-storage->pycaret[full]) (1.1.2)\nCollecting nvidia-ml-py3>=7.352.0\n  Downloading nvidia-ml-py3-7.352.0.tar.gz (19 kB)\nCollecting blessings>=1.6\n  Downloading blessings-1.7-py3-none-any.whl (18 kB)\nRequirement already satisfied: future in /shared-libs/python3.8/py/lib/python3.8/site-packages (from hyperopt->pycaret[full]) (0.18.2)\nCollecting cloudpickle\n  Downloading cloudpickle-1.6.0-py3-none-any.whl (23 kB)\nCollecting PyWavelets\n  Downloading PyWavelets-1.1.1-cp38-cp38-manylinux1_x86_64.whl (4.4 MB)\n\u001b[K     |████████████████████████████████| 4.4 MB 63.3 MB/s \n\u001b[?25hCollecting alembic<=1.4.1\n  Downloading alembic-1.4.1.tar.gz (1.1 MB)\n\u001b[K     |████████████████████████████████| 1.1 MB 53.1 MB/s \n\u001b[?25hCollecting prometheus-flask-exporter\n  Downloading prometheus_flask_exporter-0.18.2.tar.gz (22 kB)\nCollecting docker>=4.0.0\n  Downloading docker-5.0.0-py2.py3-none-any.whl (146 kB)\n\u001b[K     |████████████████████████████████| 146 kB 71.4 MB/s \n\u001b[?25hRequirement already satisfied: sqlparse>=0.3.1 in /shared-libs/python3.8/py/lib/python3.8/site-packages (from mlflow->pycaret[full]) (0.4.1)\nCollecting databricks-cli>=0.8.7\n  Downloading databricks-cli-0.14.3.tar.gz (54 kB)\n\u001b[K     |████████████████████████████████| 54 kB 7.6 MB/s \n\u001b[?25hCollecting querystring-parser\n  Downloading querystring_parser-1.2.4-py2.py3-none-any.whl (7.9 kB)\nCollecting gunicorn\n  Downloading gunicorn-20.1.0-py3-none-any.whl (79 kB)\n\u001b[K     |████████████████████████████████| 79 kB 18.5 MB/s \n\u001b[?25hCollecting Flask\n  Downloading Flask-2.0.1-py3-none-any.whl (94 kB)\n\u001b[K     |████████████████████████████████| 94 kB 6.9 MB/s \n\u001b[?25hCollecting gitpython>=2.1.0\n  Downloading GitPython-3.1.14-py3-none-any.whl (159 kB)\n\u001b[K     |████████████████████████████████| 159 kB 61.2 MB/s \n\u001b[?25hRequirement already satisfied: sqlalchemy in /shared-libs/python3.8/py/lib/python3.8/site-packages (from mlflow->pycaret[full]) (1.4.18)\nRequirement already satisfied: entrypoints in /shared-libs/python3.8/py-core/lib/python3.8/site-packages (from mlflow->pycaret[full]) (0.3)\nCollecting Mako\n  Downloading Mako-1.1.4-py2.py3-none-any.whl (75 kB)\n\u001b[K     |████████████████████████████████| 75 kB 10.9 MB/s \n\u001b[?25hCollecting python-editor>=0.3\n  Downloading python_editor-1.0.4-py3-none-any.whl (4.9 kB)\nCollecting websocket-client>=0.32.0\n  Downloading websocket_client-1.1.0-py2.py3-none-any.whl (68 kB)\n\u001b[K     |████████████████████████████████| 68 kB 18.0 MB/s \n\u001b[?25hCollecting gitdb<5,>=4.0.1\n  Downloading gitdb-4.0.7-py3-none-any.whl (63 kB)\n\u001b[K     |████████████████████████████████| 63 kB 5.1 MB/s \n\u001b[?25hCollecting smmap<5,>=3.0.1\n  Downloading smmap-4.0.0-py2.py3-none-any.whl (24 kB)\nRequirement already satisfied: greenlet!=0.4.17 in /shared-libs/python3.8/py/lib/python3.8/site-packages (from sqlalchemy->mlflow->pycaret[full]) (1.1.0)\nRequirement already satisfied: Werkzeug>=2.0 in /shared-libs/python3.8/py/lib/python3.8/site-packages (from Flask->mlflow->pycaret[full]) (2.0.1)\nCollecting itsdangerous>=2.0\n  Downloading itsdangerous-2.0.1-py3-none-any.whl (18 kB)\nRequirement already satisfied: jupyterlab-pygments in /shared-libs/python3.8/py-core/lib/python3.8/site-packages (from nbconvert->notebook>=4.4.1->widgetsnbextension~=3.5.0->ipywidgets->pycaret[full]) (0.1.2)\nRequirement already satisfied: testpath in /shared-libs/python3.8/py-core/lib/python3.8/site-packages (from nbconvert->notebook>=4.4.1->widgetsnbextension~=3.5.0->ipywidgets->pycaret[full]) (0.5.0)\nRequirement already satisfied: defusedxml in /shared-libs/python3.8/py-core/lib/python3.8/site-packages (from nbconvert->notebook>=4.4.1->widgetsnbextension~=3.5.0->ipywidgets->pycaret[full]) (0.7.1)\nRequirement already satisfied: bleach in /shared-libs/python3.8/py-core/lib/python3.8/site-packages (from nbconvert->notebook>=4.4.1->widgetsnbextension~=3.5.0->ipywidgets->pycaret[full]) (3.3.0)\nRequirement already satisfied: nbclient<0.6.0,>=0.5.0 in /shared-libs/python3.8/py-core/lib/python3.8/site-packages (from nbconvert->notebook>=4.4.1->widgetsnbextension~=3.5.0->ipywidgets->pycaret[full]) (0.5.3)\nRequirement already satisfied: pandocfilters>=1.4.1 in /shared-libs/python3.8/py-core/lib/python3.8/site-packages (from nbconvert->notebook>=4.4.1->widgetsnbextension~=3.5.0->ipywidgets->pycaret[full]) (1.4.3)\nRequirement already satisfied: mistune<2,>=0.8.1 in /shared-libs/python3.8/py-core/lib/python3.8/site-packages (from nbconvert->notebook>=4.4.1->widgetsnbextension~=3.5.0->ipywidgets->pycaret[full]) (0.8.4)\nRequirement already satisfied: nest-asyncio in /shared-libs/python3.8/py-core/lib/python3.8/site-packages (from nbclient<0.6.0,>=0.5.0->nbconvert->notebook>=4.4.1->widgetsnbextension~=3.5.0->ipywidgets->pycaret[full]) (1.5.1)\nRequirement already satisfied: async-generator in /shared-libs/python3.8/py-core/lib/python3.8/site-packages (from nbclient<0.6.0,>=0.5.0->nbconvert->notebook>=4.4.1->widgetsnbextension~=3.5.0->ipywidgets->pycaret[full]) (1.10)\nRequirement already satisfied: webencodings in /shared-libs/python3.8/py-core/lib/python3.8/site-packages (from bleach->nbconvert->notebook>=4.4.1->widgetsnbextension~=3.5.0->ipywidgets->pycaret[full]) (0.5.1)\nRequirement already satisfied: regex in /shared-libs/python3.8/py/lib/python3.8/site-packages (from nltk->pycaret[full]) (2021.4.4)\nCollecting opencensus-context==0.1.2\n  Downloading opencensus_context-0.1.2-py2.py3-none-any.whl (4.4 kB)\nCollecting colorlog\n  Downloading colorlog-5.0.1-py2.py3-none-any.whl (10 kB)\nCollecting cliff\n  Downloading cliff-3.8.0-py3-none-any.whl (80 kB)\n\u001b[K     |████████████████████████████████| 80 kB 18.4 MB/s \n\u001b[?25hCollecting cmaes>=0.8.2\n  Downloading cmaes-0.8.2-py3-none-any.whl (15 kB)\nCollecting pbr!=2.1.0,>=2.0.0\n  Downloading pbr-5.6.0-py2.py3-none-any.whl (111 kB)\n\u001b[K     |████████████████████████████████| 111 kB 83.4 MB/s \n\u001b[?25hCollecting PrettyTable>=0.7.2\n  Downloading prettytable-2.1.0-py3-none-any.whl (22 kB)\nCollecting cmd2>=1.0.0\n  Downloading cmd2-2.1.0-py3-none-any.whl (140 kB)\n\u001b[K     |████████████████████████████████| 140 kB 82.4 MB/s \n\u001b[?25hCollecting stevedore>=2.0.1\n  Downloading stevedore-3.3.0-py3-none-any.whl (49 kB)\n\u001b[K     |████████████████████████████████| 49 kB 14.4 MB/s \n\u001b[?25hCollecting pyperclip>=1.6\n  Downloading pyperclip-1.8.2.tar.gz (20 kB)\nCollecting sklearn\n  Downloading sklearn-0.0.tar.gz (1.1 kB)\nCollecting funcy\n  Downloading funcy-1.16-py2.py3-none-any.whl (32 kB)\nCollecting pyLDAvis\n  Downloading pyLDAvis-3.3.0.tar.gz (1.7 MB)\n\u001b[K     |████████████████████████████████| 1.7 MB 60.1 MB/s \n\u001b[?25h  Installing build dependencies ... \u001b[?25ldone\n\u001b[?25h  Getting requirements to build wheel ... \u001b[?25ldone\n\u001b[?25h  Installing backend dependencies ... \u001b[?25ldone\n\u001b[?25h    Preparing wheel metadata ... \u001b[?25ldone\n\u001b[?25h  Downloading pyLDAvis-3.2.2.tar.gz (1.7 MB)\n\u001b[K     |████████████████████████████████| 1.7 MB 53.8 MB/s \n\u001b[?25hCollecting numexpr\n  Downloading numexpr-2.7.3-cp38-cp38-manylinux2010_x86_64.whl (473 kB)\n\u001b[K     |████████████████████████████████| 473 kB 75.5 MB/s \n\u001b[?25hCollecting numba>=0.35\n  Downloading numba-0.53.1-cp38-cp38-manylinux2014_x86_64.whl (3.4 MB)\n\u001b[K     |████████████████████████████████| 3.4 MB 45.3 MB/s \n\u001b[?25hCollecting statsmodels\n  Downloading statsmodels-0.12.2-cp38-cp38-manylinux1_x86_64.whl (9.4 MB)\n\u001b[K     |████████████████████████████████| 9.4 MB 39.0 MB/s \n\u001b[?25hCollecting llvmlite<0.37,>=0.36.0rc1\n  Downloading llvmlite-0.36.0-cp38-cp38-manylinux2010_x86_64.whl (25.3 MB)\n\u001b[K     |████████████████████████████████| 25.3 MB 46.4 MB/s \n\u001b[?25hCollecting slicer==0.0.7\n  Downloading slicer-0.0.7-py3-none-any.whl (14 kB)\nCollecting patsy>=0.5\n  Downloading patsy-0.5.1-py2.py3-none-any.whl (231 kB)\n\u001b[K     |████████████████████████████████| 231 kB 64.9 MB/s \n\u001b[?25hCollecting pynndescent>=0.5\n  Downloading pynndescent-0.5.2.tar.gz (1.1 MB)\n\u001b[K     |████████████████████████████████| 1.1 MB 43.1 MB/s \n\u001b[?25hBuilding wheels for collected packages: cufflinks, htmlmin, phik, bottleneck, gpustat, nvidia-ml-py3, alembic, databricks-cli, pyperclip, prometheus-flask-exporter, pyLDAvis, pyod, shap, umap-learn, pynndescent\n  Building wheel for cufflinks (setup.py) ... \u001b[?25ldone\n\u001b[?25h  Created wheel for cufflinks: filename=cufflinks-0.17.3-py3-none-any.whl size=67918 sha256=76506a356bd8f21fe2ba5d8b98ab6aaffa06570e2a9ee9e7da1bf2da57bac6fc\n  Stored in directory: /root/.cache/pip/wheels/6b/76/62/6da97734911ffcbdd559fd1a3f28526321f0ae699182a23866\n  Building wheel for htmlmin (setup.py) ... \u001b[?25ldone\n\u001b[?25h  Created wheel for htmlmin: filename=htmlmin-0.1.12-py3-none-any.whl size=27098 sha256=bbf315a47126368a153b8ed9a65a52423f298362d79fa4b8ce014e0804d60045\n  Stored in directory: /root/.cache/pip/wheels/23/14/6e/4be5bfeeb027f4939a01764b48edd5996acf574b0913fe5243\n  Building wheel for phik (setup.py) ... \u001b[?25ldone\n\u001b[?25h  Created wheel for phik: filename=phik-0.11.2-py3-none-any.whl size=1107437 sha256=f1097f84b55c4bd4da201f7c5cac41e6228ad26e55993e3652c5f84ff3b0007c\n  Stored in directory: /root/.cache/pip/wheels/72/9a/23/097c93fd8341220d92674891b6a9a30f0e389719d9b7291bd2\n  Building wheel for bottleneck (PEP 517) ... \u001b[?25ldone\n\u001b[?25h  Created wheel for bottleneck: filename=Bottleneck-1.3.2-cp38-cp38-linux_x86_64.whl size=114507 sha256=e669db89ac4a4c143df7acf68f60c6db6ba2186982364587eb7433c5b055731d\n  Stored in directory: /root/.cache/pip/wheels/29/60/c9/98f744fb5c7d1ffb38d096318d9e873a08c0f5df07d6487626\n  Building wheel for gpustat (setup.py) ... \u001b[?25ldone\n\u001b[?25h  Created wheel for gpustat: filename=gpustat-0.6.0-py3-none-any.whl size=12617 sha256=6068b149cf2375789b37480a5ea0bb48ba7c43f41200b4cb2aef9d2dcf00eded\n  Stored in directory: /root/.cache/pip/wheels/0d/d9/80/b6cbcdc9946c7b50ce35441cc9e7d8c5a9d066469ba99bae44\n  Building wheel for nvidia-ml-py3 (setup.py) ... \u001b[?25ldone\n\u001b[?25h  Created wheel for nvidia-ml-py3: filename=nvidia_ml_py3-7.352.0-py3-none-any.whl size=19189 sha256=d64c57a09d66db0526e75e51e17d818a8ffab45844950e3d3ac7100fb1049c6b\n  Stored in directory: /root/.cache/pip/wheels/b9/b1/68/cb4feab29709d4155310d29a421389665dcab9eb3b679b527b\n  Building wheel for alembic (setup.py) ... \u001b[?25ldone\n\u001b[?25h  Created wheel for alembic: filename=alembic-1.4.1-py2.py3-none-any.whl size=158170 sha256=87e34da67765a4ea0ca7c88207d77073d9af5d292a9637042b22b0c0bef925ba\n  Stored in directory: /root/.cache/pip/wheels/9d/de/6d/ca8d461ec29e010b1267d7353d0b058819770f7680bb9360e4\n  Building wheel for databricks-cli (setup.py) ... \u001b[?25ldone\n\u001b[?25h  Created wheel for databricks-cli: filename=databricks_cli-0.14.3-py3-none-any.whl size=100557 sha256=503b4ba48e77ddbc3de3e815f569ee719dc948a724a01f00b0e16b78639bba17\n  Stored in directory: /root/.cache/pip/wheels/e9/f3/dc/eeff77dbc147629fa716741fc216520abbc0e15ce4b876706f\n  Building wheel for pyperclip (setup.py) ... \u001b[?25ldone\n\u001b[?25h  Created wheel for pyperclip: filename=pyperclip-1.8.2-py3-none-any.whl size=11137 sha256=6fcbcc8e5f46d8494912c92fed35835328a56b2315ea4bf5d0d83fda87c19804\n  Stored in directory: /root/.cache/pip/wheels/7f/1a/65/84ff8c386bec21fca6d220ea1f5498a0367883a78dd5ba6122\n  Building wheel for prometheus-flask-exporter (setup.py) ... \u001b[?25ldone\n\u001b[?25h  Created wheel for prometheus-flask-exporter: filename=prometheus_flask_exporter-0.18.2-py3-none-any.whl size=17416 sha256=47434fece2ebfa6f14937aa09bc6e6589e27c77644ee357e7853880c20db0ec4\n  Stored in directory: /root/.cache/pip/wheels/69/6f/b4/2087abb1172ae32c58e366dc09746de46a72b0e9fb2c022920\n  Building wheel for pyLDAvis (setup.py) ... \u001b[?25ldone\n\u001b[?25h  Created wheel for pyLDAvis: filename=pyLDAvis-3.2.2-py2.py3-none-any.whl size=135618 sha256=86c94a016dc22353e88a11c14d5990f8275638b33af7004fd52fb618e5e757eb\n  Stored in directory: /root/.cache/pip/wheels/2a/5b/b3/26b52781cdeea9c815e147cfd4ac4a0a3472bce92142115670\n  Building wheel for pyod (setup.py) ... \u001b[?25ldone\n\u001b[?25h  Created wheel for pyod: filename=pyod-0.8.9-py3-none-any.whl size=121413 sha256=1133644eee9a342649c66882a094f36bec33b24776c705c7574c87c218ca8b58\n  Stored in directory: /root/.cache/pip/wheels/8f/d9/6d/df101a4fa21ac257176d4c6ff4e24edd9c1fd992e53a0a7535\n  Building wheel for shap (setup.py) ... \u001b[?25ldone\n\u001b[?25h  Created wheel for shap: filename=shap-0.39.0-cp38-cp38-linux_x86_64.whl size=417842 sha256=db1c83504db9bee86bd5da0a11f2503d467cb5485d2859fbfa3b1f05daf9f6e9\n  Stored in directory: /root/.cache/pip/wheels/3d/c9/06/734ed80d6d61fad331974bf62017b4ea6b33488082b9f5e67e\n  Building wheel for umap-learn (setup.py) ... \u001b[?25ldone\n\u001b[?25h  Created wheel for umap-learn: filename=umap_learn-0.5.1-py3-none-any.whl size=76566 sha256=f3629b16e01ae7588f12ec41c8c71de8922a97bf175d0679b9d23324c0a83185\n  Stored in directory: /root/.cache/pip/wheels/95/85/b7/b4b7040e49367b6d1505d7e8fb57e3e79b22fa6ac26f72520b\n  Building wheel for pynndescent (setup.py) ... \u001b[?25ldone\n\u001b[?25h  Created wheel for pynndescent: filename=pynndescent-0.5.2-py3-none-any.whl size=51360 sha256=0114411facb6c3a11c90fcf759db42a50adc9680c0c304dc106e1851961880cc\n  Stored in directory: /root/.cache/pip/wheels/bb/81/5d/c78c8f15f3c815197129f91ec435d8ae0bb0a7a856d962c3ce\nSuccessfully built cufflinks htmlmin phik bottleneck gpustat nvidia-ml-py3 alembic databricks-cli pyperclip prometheus-flask-exporter pyLDAvis pyod shap umap-learn pynndescent\nInstalling collected packages: decorator, multidict, yarl, async-timeout, tangled-up-in-unicode, smmap, scipy, PyWavelets, psutil, opencensus-context, nvidia-ml-py3, networkx, multimethod, llvmlite, itsdangerous, hiredis, bottleneck, blessings, aiohttp, widgetsnbextension, websocket-client, visions, srsly, scikit-learn, redis, python-editor, pyperclip, pydantic, py-spy, plac, pbr, patsy, opencensus, numba, msgpack, Mako, jupyterlab-widgets, imagehash, gpustat, gitdb, Flask, colorama, catalogue, aioredis, aiohttp-cors, thinc, tensorboardX, stevedore, statsmodels, ray, querystring-parser, pynndescent, prometheus-flask-exporter, PrettyTable, phik, numexpr, missingno, ipywidgets, htmlmin, gunicorn, gitpython, funcy, docker, databricks-cli, colorlover, cmd2, cloudpickle, alembic, yellowbrick, wordcloud, umap-learn, spacy, slicer, scikit-plot, pyod, pyLDAvis, pyaml, pandas-profiling, mlxtend, mlflow, lightgbm, kmodes, imbalanced-learn, graphviz, gensim, docutils, cufflinks, colorlog, cmaes, cliff, Boruta, xgboost, tune-sklearn, shap, scikit-optimize, pycaret, optuna, hyperopt, google-cloud-storage, catboost, awscli\n  Attempting uninstall: decorator\n    Found existing installation: decorator 5.0.9\n    Not uninstalling decorator at /shared-libs/python3.8/py-core/lib/python3.8/site-packages, outside environment /root/venv\n    Can't uninstall 'decorator'. No files were found to uninstall.\n  Attempting uninstall: scipy\n    Found existing installation: scipy 1.6.3\n    Not uninstalling scipy at /shared-libs/python3.8/py/lib/python3.8/site-packages, outside environment /root/venv\n    Can't uninstall 'scipy'. No files were found to uninstall.\n  Attempting uninstall: srsly\n    Found existing installation: srsly 2.4.1\n    Not uninstalling srsly at /shared-libs/python3.8/py/lib/python3.8/site-packages, outside environment /root/venv\n    Can't uninstall 'srsly'. No files were found to uninstall.\n  Attempting uninstall: scikit-learn\n    Found existing installation: scikit-learn 0.24.2\n    Not uninstalling scikit-learn at /shared-libs/python3.8/py/lib/python3.8/site-packages, outside environment /root/venv\n    Can't uninstall 'scikit-learn'. No files were found to uninstall.\n  Attempting uninstall: pydantic\n    Found existing installation: pydantic 1.7.4\n    Not uninstalling pydantic at /shared-libs/python3.8/py/lib/python3.8/site-packages, outside environment /root/venv\n    Can't uninstall 'pydantic'. No files were found to uninstall.\n  Attempting uninstall: catalogue\n    Found existing installation: catalogue 2.0.4\n    Not uninstalling catalogue at /shared-libs/python3.8/py/lib/python3.8/site-packages, outside environment /root/venv\n    Can't uninstall 'catalogue'. No files were found to uninstall.\n  Attempting uninstall: thinc\n    Found existing installation: thinc 8.0.5\n    Not uninstalling thinc at /shared-libs/python3.8/py/lib/python3.8/site-packages, outside environment /root/venv\n    Can't uninstall 'thinc'. No files were found to uninstall.\n  Attempting uninstall: spacy\n    Found existing installation: spacy 3.0.6\n    Not uninstalling spacy at /shared-libs/python3.8/py/lib/python3.8/site-packages, outside environment /root/venv\n    Can't uninstall 'spacy'. No files were found to uninstall.\n  Attempting uninstall: docutils\n    Found existing installation: docutils 0.17.1\n    Not uninstalling docutils at /shared-libs/python3.8/py/lib/python3.8/site-packages, outside environment /root/venv\n    Can't uninstall 'docutils'. No files were found to uninstall.\nSuccessfully installed Boruta-0.3 Flask-2.0.1 Mako-1.1.4 PrettyTable-2.1.0 PyWavelets-1.1.1 aiohttp-3.7.4.post0 aiohttp-cors-0.7.0 aioredis-1.3.1 alembic-1.4.1 async-timeout-3.0.1 awscli-1.19.96 blessings-1.7 bottleneck-1.3.2 catalogue-1.0.0 catboost-0.26 cliff-3.8.0 cloudpickle-1.6.0 cmaes-0.8.2 cmd2-2.1.0 colorama-0.4.3 colorlog-5.0.1 colorlover-0.3.0 cufflinks-0.17.3 databricks-cli-0.14.3 decorator-4.4.2 docker-5.0.0 docutils-0.15.2 funcy-1.16 gensim-3.8.3 gitdb-4.0.7 gitpython-3.1.14 google-cloud-storage-1.38.0 gpustat-0.6.0 graphviz-0.16 gunicorn-20.1.0 hiredis-2.0.0 htmlmin-0.1.12 hyperopt-0.2.5 imagehash-4.2.0 imbalanced-learn-0.7.0 ipywidgets-7.6.3 itsdangerous-2.0.1 jupyterlab-widgets-1.0.0 kmodes-0.11.0 lightgbm-3.2.1 llvmlite-0.36.0 missingno-0.4.2 mlflow-1.17.0 mlxtend-0.18.0 msgpack-1.0.2 multidict-5.1.0 multimethod-1.4 networkx-2.5.1 numba-0.53.1 numexpr-2.7.3 nvidia-ml-py3-7.352.0 opencensus-0.7.13 opencensus-context-0.1.2 optuna-2.8.0 pandas-profiling-3.0.0 patsy-0.5.1 pbr-5.6.0 phik-0.11.2 plac-1.1.3 prometheus-flask-exporter-0.18.2 psutil-5.8.0 py-spy-0.3.7 pyLDAvis-3.2.2 pyaml-20.4.0 pycaret-2.3.1 pydantic-1.8.2 pynndescent-0.5.2 pyod-0.8.9 pyperclip-1.8.2 python-editor-1.0.4 querystring-parser-1.2.4 ray-1.4.0 redis-3.5.3 scikit-learn-0.23.2 scikit-optimize-0.8.1 scikit-plot-0.3.7 scipy-1.5.4 shap-0.39.0 slicer-0.0.7 smmap-4.0.0 spacy-2.3.7 srsly-1.0.5 statsmodels-0.12.2 stevedore-3.3.0 tangled-up-in-unicode-0.1.0 tensorboardX-2.2 thinc-7.4.5 tune-sklearn-0.3.0 umap-learn-0.5.1 visions-0.7.1 websocket-client-1.1.0 widgetsnbextension-3.5.1 wordcloud-1.8.1 xgboost-1.4.2 yarl-1.6.3 yellowbrick-1.3.post1\nRequirement already satisfied: lxml in /shared-libs/python3.8/py/lib/python3.8/site-packages (4.6.3)\nCollecting tsfresh\n  Downloading tsfresh-0.18.0-py2.py3-none-any.whl (94 kB)\n\u001b[K     |████████████████████████████████| 94 kB 1.8 MB/s \n\u001b[?25hRequirement already satisfied: pandas>=0.25.0 in /shared-libs/python3.8/py/lib/python3.8/site-packages (from tsfresh) (1.2.4)\nCollecting distributed>=2.11.0\n  Downloading distributed-2021.6.0-py3-none-any.whl (715 kB)\n\u001b[K     |████████████████████████████████| 715 kB 37.7 MB/s \n\u001b[?25hRequirement already satisfied: statsmodels>=0.9.0 in /root/venv/lib/python3.8/site-packages (from tsfresh) (0.12.2)\nCollecting stumpy>=1.7.2\n  Downloading stumpy-1.8.0-py3-none-any.whl (94 kB)\n\u001b[K     |████████████████████████████████| 94 kB 2.4 MB/s \n\u001b[?25hRequirement already satisfied: scipy>=1.2.0 in /root/venv/lib/python3.8/site-packages (from tsfresh) (1.5.4)\nCollecting dask[dataframe]>=2.9.0\n  Downloading dask-2021.6.0-py3-none-any.whl (965 kB)\n\u001b[K     |████████████████████████████████| 965 kB 46.4 MB/s \n\u001b[?25hCollecting matrixprofile>=1.1.10<2.0.0\n  Downloading matrixprofile-1.1.10-cp38-cp38-manylinux2010_x86_64.whl (1.2 MB)\n\u001b[K     |████████████████████████████████| 1.2 MB 35.1 MB/s \n\u001b[?25hRequirement already satisfied: requests>=2.9.1 in /shared-libs/python3.8/py/lib/python3.8/site-packages (from tsfresh) (2.25.1)\nRequirement already satisfied: numpy>=1.15.1 in /shared-libs/python3.8/py/lib/python3.8/site-packages (from tsfresh) (1.19.5)\nRequirement already satisfied: tqdm>=4.10.0 in /shared-libs/python3.8/py/lib/python3.8/site-packages (from tsfresh) (4.61.1)\nRequirement already satisfied: scikit-learn>=0.22.0 in /root/venv/lib/python3.8/site-packages (from tsfresh) (0.23.2)\nRequirement already satisfied: patsy>=0.4.1 in /root/venv/lib/python3.8/site-packages (from tsfresh) (0.5.1)\nRequirement already satisfied: pyyaml in /shared-libs/python3.8/py/lib/python3.8/site-packages (from dask[dataframe]>=2.9.0->tsfresh) (5.4.1)\nCollecting partd>=0.3.10\n  Downloading partd-1.2.0-py3-none-any.whl (19 kB)\nRequirement already satisfied: toolz>=0.8.2 in /shared-libs/python3.8/py/lib/python3.8/site-packages (from dask[dataframe]>=2.9.0->tsfresh) (0.11.1)\nRequirement already satisfied: cloudpickle>=1.1.1 in /root/venv/lib/python3.8/site-packages (from dask[dataframe]>=2.9.0->tsfresh) (1.6.0)\nCollecting fsspec>=0.6.0\n  Downloading fsspec-2021.6.0-py3-none-any.whl (114 kB)\n\u001b[K     |████████████████████████████████| 114 kB 84.8 MB/s \n\u001b[?25hCollecting sortedcontainers!=2.0.0,!=2.0.1\n  Downloading sortedcontainers-2.4.0-py2.py3-none-any.whl (29 kB)\nCollecting tblib>=1.6.0\n  Downloading tblib-1.7.0-py2.py3-none-any.whl (12 kB)\nRequirement already satisfied: tornado>=6.0.3 in /shared-libs/python3.8/py-core/lib/python3.8/site-packages (from distributed>=2.11.0->tsfresh) (6.1)\nRequirement already satisfied: msgpack>=0.6.0 in /root/venv/lib/python3.8/site-packages (from distributed>=2.11.0->tsfresh) (1.0.2)\nRequirement already satisfied: psutil>=5.0 in /root/venv/lib/python3.8/site-packages (from distributed>=2.11.0->tsfresh) (5.8.0)\nRequirement already satisfied: click>=6.6 in /shared-libs/python3.8/py/lib/python3.8/site-packages (from distributed>=2.11.0->tsfresh) (7.1.2)\nRequirement already satisfied: setuptools in /root/venv/lib/python3.8/site-packages (from distributed>=2.11.0->tsfresh) (57.0.0)\nCollecting zict>=0.1.3\n  Downloading zict-2.0.0-py3-none-any.whl (10 kB)\nCollecting protobuf==3.11.2\n  Downloading protobuf-3.11.2-cp38-cp38-manylinux1_x86_64.whl (1.3 MB)\n\u001b[K     |████████████████████████████████| 1.3 MB 23.5 MB/s \n\u001b[?25hRequirement already satisfied: matplotlib>=3.0.3 in /shared-libs/python3.8/py/lib/python3.8/site-packages (from matrixprofile>=1.1.10<2.0.0->tsfresh) (3.4.2)\nRequirement already satisfied: six>=1.9 in /shared-libs/python3.8/py-core/lib/python3.8/site-packages (from protobuf==3.11.2->matrixprofile>=1.1.10<2.0.0->tsfresh) (1.16.0)\nRequirement already satisfied: pyparsing>=2.2.1 in /shared-libs/python3.8/py-core/lib/python3.8/site-packages (from matplotlib>=3.0.3->matrixprofile>=1.1.10<2.0.0->tsfresh) (2.4.7)\nRequirement already satisfied: python-dateutil>=2.7 in /shared-libs/python3.8/py-core/lib/python3.8/site-packages (from matplotlib>=3.0.3->matrixprofile>=1.1.10<2.0.0->tsfresh) (2.8.1)\nRequirement already satisfied: cycler>=0.10 in /shared-libs/python3.8/py/lib/python3.8/site-packages (from matplotlib>=3.0.3->matrixprofile>=1.1.10<2.0.0->tsfresh) (0.10.0)\nRequirement already satisfied: kiwisolver>=1.0.1 in /shared-libs/python3.8/py/lib/python3.8/site-packages (from matplotlib>=3.0.3->matrixprofile>=1.1.10<2.0.0->tsfresh) (1.3.1)\nRequirement already satisfied: pillow>=6.2.0 in /shared-libs/python3.8/py/lib/python3.8/site-packages (from matplotlib>=3.0.3->matrixprofile>=1.1.10<2.0.0->tsfresh) (8.2.0)\nRequirement already satisfied: pytz>=2017.3 in /shared-libs/python3.8/py/lib/python3.8/site-packages (from pandas>=0.25.0->tsfresh) (2021.1)\nCollecting locket\n  Downloading locket-0.2.1-py2.py3-none-any.whl (4.1 kB)\nRequirement already satisfied: certifi>=2017.4.17 in /shared-libs/python3.8/py/lib/python3.8/site-packages (from requests>=2.9.1->tsfresh) (2021.5.30)\nRequirement already satisfied: urllib3<1.27,>=1.21.1 in /shared-libs/python3.8/py/lib/python3.8/site-packages (from requests>=2.9.1->tsfresh) (1.26.5)\nRequirement already satisfied: chardet<5,>=3.0.2 in /shared-libs/python3.8/py/lib/python3.8/site-packages (from requests>=2.9.1->tsfresh) (3.0.4)\nRequirement already satisfied: idna<3,>=2.5 in /shared-libs/python3.8/py/lib/python3.8/site-packages (from requests>=2.9.1->tsfresh) (2.10)\nRequirement already satisfied: joblib>=0.11 in /shared-libs/python3.8/py/lib/python3.8/site-packages (from scikit-learn>=0.22.0->tsfresh) (1.0.1)\nRequirement already satisfied: threadpoolctl>=2.0.0 in /shared-libs/python3.8/py/lib/python3.8/site-packages (from scikit-learn>=0.22.0->tsfresh) (2.1.0)\nRequirement already satisfied: numba>=0.48 in /root/venv/lib/python3.8/site-packages (from stumpy>=1.7.2->tsfresh) (0.53.1)\nRequirement already satisfied: llvmlite<0.37,>=0.36.0rc1 in /root/venv/lib/python3.8/site-packages (from numba>=0.48->stumpy>=1.7.2->tsfresh) (0.36.0)\nCollecting heapdict\n  Downloading HeapDict-1.0.1-py3-none-any.whl (3.9 kB)\nInstalling collected packages: locket, partd, heapdict, fsspec, zict, tblib, sortedcontainers, protobuf, dask, stumpy, matrixprofile, distributed, tsfresh\n  Attempting uninstall: protobuf\n    Found existing installation: protobuf 3.17.3\n    Not uninstalling protobuf at /shared-libs/python3.8/py/lib/python3.8/site-packages, outside environment /root/venv\n    Can't uninstall 'protobuf'. No files were found to uninstall.\n\u001b[31mERROR: pip's dependency resolver does not currently take into account all the packages that are installed. This behaviour is the source of the following dependency conflicts.\nray 1.4.0 requires protobuf>=3.15.3, but you have protobuf 3.11.2 which is incompatible.\ntensorflow 2.4.1 requires six~=1.15.0, but you have six 1.16.0 which is incompatible.\nproto-plus 1.18.1 requires protobuf>=3.12.0, but you have protobuf 3.11.2 which is incompatible.\ngoogleapis-common-protos 1.53.0 requires protobuf>=3.12.0, but you have protobuf 3.11.2 which is incompatible.\ngoogle-cloud-bigquery 2.20.0 requires protobuf>=3.12.0, but you have protobuf 3.11.2 which is incompatible.\ngoogle-api-core 1.30.0 requires protobuf>=3.12.0, but you have protobuf 3.11.2 which is incompatible.\u001b[0m\nSuccessfully installed dask-2021.6.0 distributed-2021.6.0 fsspec-2021.6.0 heapdict-1.0.1 locket-0.2.1 matrixprofile-1.1.10 partd-1.2.0 protobuf-3.11.2 sortedcontainers-2.4.0 stumpy-1.8.0 tblib-1.7.0 tsfresh-0.18.0 zict-2.0.0\n",
     "output_type": "stream"
    }
   ],
   "execution_count": 1
  },
  {
   "cell_type": "code",
   "metadata": {
    "tags": [],
    "cell_id": "00000-39782983-0859-4122-a5e0-acbdafafd941",
    "deepnote_to_be_reexecuted": false,
    "source_hash": "f0e94c80",
    "execution_start": 1623934549636,
    "execution_millis": 2937,
    "deepnote_cell_type": "code"
   },
   "source": "from src.helpers.experiment import create_tsfresh_dataframe",
   "execution_count": 2,
   "outputs": []
  },
  {
   "cell_type": "code",
   "source": "parameters = {\n    'ohio_no': 559,\n    'scope': 'train',\n    'train_ds_size': 0,\n    'window_size': 6,\n    'prediction_horizon': 1,\n    'minimal_features': False,\n}\ncreate_tsfresh_dataframe(parameters)",
   "metadata": {
    "tags": [],
    "cell_id": "00002-c88d5909-d8c2-4510-93b9-5a81c06e0b2b",
    "deepnote_to_be_reexecuted": false,
    "source_hash": "66e97289",
    "execution_start": 1623934552574,
    "execution_millis": 2145249,
    "deepnote_cell_type": "code"
   },
   "outputs": [
    {
     "name": "stderr",
     "text": "2021-06-17 12:55:52.565 | INFO     | src.helpers.experiment:create_ds_name:12 - dataframes/559_train_0_6_1.pkl\n2021-06-17 12:55:52.654 | INFO     | src.helpers.experiment:create_tsfresh_dataframe:19 - {'ohio_no': 559, 'scope': 'train', 'train_ds_size': 0, 'window_size': 6, 'prediction_horizon': 1, 'minimal_features': False}\n",
     "output_type": "stream"
    },
    {
     "data": {
      "text/plain": "<Figure size 432x288 with 1 Axes>",
      "image/png": "[encoded data removed]"
     },
     "metadata": {
      "needs_background": "light",
      "image/png": {
       "width": 375,
       "height": 262
      }
     },
     "output_type": "display_data"
    },
    {
     "name": "stderr",
     "text": "100%|██████████| 10790/10790 [35:42<00:00,  5.04it/s]\n2021-06-17 13:31:37.292 | INFO     | src.helpers.dataframe:save_df:6 - Attempting to save file dataframes/559_train_0_6_1.pkl\n",
     "output_type": "stream"
    },
    {
     "output_type": "execute_result",
     "execution_count": 3,
     "data": {
      "application/vnd.deepnote.dataframe.v2+json": {
       "row_count": 10790,
       "column_count": 792,
       "columns": [
        {
         "name": "bg_value__variance_larger_than_standard_deviation",
         "dtype": "float64",
         "stats": {
          "unique_count": 2,
          "nan_count": 0,
          "min": "0.0",
          "max": "1.0",
          "histogram": [
           {
            "bin_start": 0,
            "bin_end": 0.1,
            "count": 665
           },
           {
            "bin_start": 0.1,
            "bin_end": 0.2,
            "count": 0
           },
           {
            "bin_start": 0.2,
            "bin_end": 0.30000000000000004,
            "count": 0
           },
           {
            "bin_start": 0.30000000000000004,
            "bin_end": 0.4,
            "count": 0
           },
           {
            "bin_start": 0.4,
            "bin_end": 0.5,
            "count": 0
           },
           {
            "bin_start": 0.5,
            "bin_end": 0.6000000000000001,
            "count": 0
           },
           {
            "bin_start": 0.6000000000000001,
            "bin_end": 0.7000000000000001,
            "count": 0
           },
           {
            "bin_start": 0.7000000000000001,
            "bin_end": 0.8,
            "count": 0
           },
           {
            "bin_start": 0.8,
            "bin_end": 0.9,
            "count": 0
           },
           {
            "bin_start": 0.9,
            "bin_end": 1,
            "count": 10125
           }
          ]
         }
        },
        {
         "name": "bg_value__has_duplicate_max",
         "dtype": "float64",
         "stats": {
          "unique_count": 2,
          "nan_count": 0,
          "min": "0.0",
          "max": "1.0",
          "histogram": [
           {
            "bin_start": 0,
            "bin_end": 0.1,
            "count": 9149
           },
           {
            "bin_start": 0.1,
            "bin_end": 0.2,
            "count": 0
           },
           {
            "bin_start": 0.2,
            "bin_end": 0.30000000000000004,
            "count": 0
           },
           {
            "bin_start": 0.30000000000000004,
            "bin_end": 0.4,
            "count": 0
           },
           {
            "bin_start": 0.4,
            "bin_end": 0.5,
            "count": 0
           },
           {
            "bin_start": 0.5,
            "bin_end": 0.6000000000000001,
            "count": 0
           },
           {
            "bin_start": 0.6000000000000001,
            "bin_end": 0.7000000000000001,
            "count": 0
           },
           {
            "bin_start": 0.7000000000000001,
            "bin_end": 0.8,
            "count": 0
           },
           {
            "bin_start": 0.8,
            "bin_end": 0.9,
            "count": 0
           },
           {
            "bin_start": 0.9,
            "bin_end": 1,
            "count": 1641
           }
          ]
         }
        },
        {
         "name": "bg_value__has_duplicate_min",
         "dtype": "float64",
         "stats": {
          "unique_count": 2,
          "nan_count": 0,
          "min": "0.0",
          "max": "1.0",
          "histogram": [
           {
            "bin_start": 0,
            "bin_end": 0.1,
            "count": 9157
           },
           {
            "bin_start": 0.1,
            "bin_end": 0.2,
            "count": 0
           },
           {
            "bin_start": 0.2,
            "bin_end": 0.30000000000000004,
            "count": 0
           },
           {
            "bin_start": 0.30000000000000004,
            "bin_end": 0.4,
            "count": 0
           },
           {
            "bin_start": 0.4,
            "bin_end": 0.5,
            "count": 0
           },
           {
            "bin_start": 0.5,
            "bin_end": 0.6000000000000001,
            "count": 0
           },
           {
            "bin_start": 0.6000000000000001,
            "bin_end": 0.7000000000000001,
            "count": 0
           },
           {
            "bin_start": 0.7000000000000001,
            "bin_end": 0.8,
            "count": 0
           },
           {
            "bin_start": 0.8,
            "bin_end": 0.9,
            "count": 0
           },
           {
            "bin_start": 0.9,
            "bin_end": 1,
            "count": 1633
           }
          ]
         }
        },
        {
         "name": "bg_value__has_duplicate",
         "dtype": "float64",
         "stats": {
          "unique_count": 2,
          "nan_count": 0,
          "min": "0.0",
          "max": "1.0",
          "histogram": [
           {
            "bin_start": 0,
            "bin_end": 0.1,
            "count": 5864
           },
           {
            "bin_start": 0.1,
            "bin_end": 0.2,
            "count": 0
           },
           {
            "bin_start": 0.2,
            "bin_end": 0.30000000000000004,
            "count": 0
           },
           {
            "bin_start": 0.30000000000000004,
            "bin_end": 0.4,
            "count": 0
           },
           {
            "bin_start": 0.4,
            "bin_end": 0.5,
            "count": 0
           },
           {
            "bin_start": 0.5,
            "bin_end": 0.6000000000000001,
            "count": 0
           },
           {
            "bin_start": 0.6000000000000001,
            "bin_end": 0.7000000000000001,
            "count": 0
           },
           {
            "bin_start": 0.7000000000000001,
            "bin_end": 0.8,
            "count": 0
           },
           {
            "bin_start": 0.8,
            "bin_end": 0.9,
            "count": 0
           },
           {
            "bin_start": 0.9,
            "bin_end": 1,
            "count": 4926
           }
          ]
         }
        },
        {
         "name": "bg_value__sum_values",
         "dtype": "float64",
         "stats": {
          "unique_count": 1762,
          "nan_count": 0,
          "min": "240.0",
          "max": "2400.0",
          "histogram": [
           {
            "bin_start": 240,
            "bin_end": 456,
            "count": 622
           },
           {
            "bin_start": 456,
            "bin_end": 672,
            "count": 2260
           },
           {
            "bin_start": 672,
            "bin_end": 888,
            "count": 2034
           },
           {
            "bin_start": 888,
            "bin_end": 1104,
            "count": 1705
           },
           {
            "bin_start": 1104,
            "bin_end": 1320,
            "count": 1893
           },
           {
            "bin_start": 1320,
            "bin_end": 1536,
            "count": 1011
           },
           {
            "bin_start": 1536,
            "bin_end": 1752,
            "count": 680
           },
           {
            "bin_start": 1752,
            "bin_end": 1968,
            "count": 335
           },
           {
            "bin_start": 1968,
            "bin_end": 2184,
            "count": 186
           },
           {
            "bin_start": 2184,
            "bin_end": 2400,
            "count": 64
           }
          ]
         }
        },
        {
         "name": "bg_value__abs_energy",
         "dtype": "float64",
         "stats": {
          "unique_count": 10192,
          "nan_count": 0,
          "min": "9600.0",
          "max": "960000.0",
          "histogram": [
           {
            "bin_start": 9600,
            "bin_end": 104640,
            "count": 3951
           },
           {
            "bin_start": 104640,
            "bin_end": 199680,
            "count": 2579
           },
           {
            "bin_start": 199680,
            "bin_end": 294720,
            "count": 2034
           },
           {
            "bin_start": 294720,
            "bin_end": 389760,
            "count": 924
           },
           {
            "bin_start": 389760,
            "bin_end": 484800,
            "count": 583
           },
           {
            "bin_start": 484800,
            "bin_end": 579840,
            "count": 344
           },
           {
            "bin_start": 579840,
            "bin_end": 674880,
            "count": 161
           },
           {
            "bin_start": 674880,
            "bin_end": 769920,
            "count": 125
           },
           {
            "bin_start": 769920,
            "bin_end": 864960,
            "count": 54
           },
           {
            "bin_start": 864960,
            "bin_end": 960000,
            "count": 35
           }
          ]
         }
        },
        {
         "name": "bg_value__mean_abs_change",
         "dtype": "float64",
         "stats": {
          "unique_count": 173,
          "nan_count": 0,
          "min": "0.0",
          "max": "53.4",
          "histogram": [
           {
            "bin_start": 0,
            "bin_end": 5.34,
            "count": 7403
           },
           {
            "bin_start": 5.34,
            "bin_end": 10.68,
            "count": 2531
           },
           {
            "bin_start": 10.68,
            "bin_end": 16.02,
            "count": 637
           },
           {
            "bin_start": 16.02,
            "bin_end": 21.36,
            "count": 117
           },
           {
            "bin_start": 21.36,
            "bin_end": 26.7,
            "count": 40
           },
           {
            "bin_start": 26.7,
            "bin_end": 32.04,
            "count": 25
           },
           {
            "bin_start": 32.04,
            "bin_end": 37.379999999999995,
            "count": 18
           },
           {
            "bin_start": 37.379999999999995,
            "bin_end": 42.72,
            "count": 11
           },
           {
            "bin_start": 42.72,
            "bin_end": 48.06,
            "count": 3
           },
           {
            "bin_start": 48.06,
            "bin_end": 53.4,
            "count": 5
           }
          ]
         }
        },
        {
         "name": "bg_value__mean_change",
         "dtype": "float64",
         "stats": {
          "unique_count": 268,
          "nan_count": 0,
          "min": "-42.2",
          "max": "52.0",
          "histogram": [
           {
            "bin_start": -42.2,
            "bin_end": -32.78,
            "count": 6
           },
           {
            "bin_start": -32.78,
            "bin_end": -23.360000000000003,
            "count": 13
           },
           {
            "bin_start": -23.360000000000003,
            "bin_end": -13.940000000000005,
            "count": 97
           },
           {
            "bin_start": -13.940000000000005,
            "bin_end": -4.520000000000003,
            "count": 1483
           },
           {
            "bin_start": -4.520000000000003,
            "bin_end": 4.899999999999999,
            "count": 7715
           },
           {
            "bin_start": 4.899999999999999,
            "bin_end": 14.319999999999993,
            "count": 1302
           },
           {
            "bin_start": 14.319999999999993,
            "bin_end": 23.739999999999995,
            "count": 135
           },
           {
            "bin_start": 23.739999999999995,
            "bin_end": 33.16,
            "count": 23
           },
           {
            "bin_start": 33.16,
            "bin_end": 42.58,
            "count": 11
           },
           {
            "bin_start": 42.58,
            "bin_end": 52,
            "count": 5
           }
          ]
         }
        },
        {
         "name": "bg_value__mean_second_derivative_central",
         "dtype": "float64",
         "stats": {
          "unique_count": 141,
          "nan_count": 0,
          "min": "-32.625",
          "max": "32.5",
          "histogram": [
           {
            "bin_start": -32.625,
            "bin_end": -26.1125,
            "count": 1
           },
           {
            "bin_start": -26.1125,
            "bin_end": -19.6,
            "count": 3
           },
           {
            "bin_start": -19.6,
            "bin_end": -13.087499999999999,
            "count": 5
           },
           {
            "bin_start": -13.087499999999999,
            "bin_end": -6.574999999999999,
            "count": 15
           },
           {
            "bin_start": -6.574999999999999,
            "bin_end": -0.0625,
            "count": 4748
           },
           {
            "bin_start": -0.0625,
            "bin_end": 6.450000000000003,
            "count": 5990
           },
           {
            "bin_start": 6.450000000000003,
            "bin_end": 12.962499999999999,
            "count": 19
           },
           {
            "bin_start": 12.962499999999999,
            "bin_end": 19.475,
            "count": 4
           },
           {
            "bin_start": 19.475,
            "bin_end": 25.987500000000004,
            "count": 4
           },
           {
            "bin_start": 25.987500000000004,
            "bin_end": 32.5,
            "count": 1
           }
          ]
         }
        },
        {
         "name": "bg_value__median",
         "dtype": "float64"
        },
        {
         "name": "bg_value__mean",
         "dtype": "float64"
        },
        {
         "name": "bg_value__length",
         "dtype": "float64"
        },
        {
         "name": "bg_value__standard_deviation",
         "dtype": "float64"
        },
        {
         "name": "bg_value__variation_coefficient",
         "dtype": "float64"
        },
        {
         "name": "bg_value__variance",
         "dtype": "float64"
        },
        {
         "name": "bg_value__skewness",
         "dtype": "float64"
        },
        {
         "name": "bg_value__kurtosis",
         "dtype": "float64"
        },
        {
         "name": "bg_value__root_mean_square",
         "dtype": "float64"
        },
        {
         "name": "bg_value__absolute_sum_of_changes",
         "dtype": "float64"
        },
        {
         "name": "bg_value__longest_strike_below_mean",
         "dtype": "float64"
        },
        {
         "name": "bg_value__longest_strike_above_mean",
         "dtype": "float64"
        },
        {
         "name": "bg_value__count_above_mean",
         "dtype": "float64"
        },
        {
         "name": "bg_value__count_below_mean",
         "dtype": "float64"
        },
        {
         "name": "bg_value__last_location_of_maximum",
         "dtype": "float64"
        },
        {
         "name": "bg_value__first_location_of_maximum",
         "dtype": "float64"
        },
        {
         "name": "bg_value__last_location_of_minimum",
         "dtype": "float64"
        },
        {
         "name": "bg_value__first_location_of_minimum",
         "dtype": "float64"
        },
        {
         "name": "bg_value__percentage_of_reoccurring_values_to_all_values",
         "dtype": "float64"
        },
        {
         "name": "bg_value__percentage_of_reoccurring_datapoints_to_all_datapoints",
         "dtype": "float64"
        },
        {
         "name": "bg_value__sum_of_reoccurring_values",
         "dtype": "float64"
        },
        {
         "name": "bg_value__sum_of_reoccurring_data_points",
         "dtype": "float64"
        },
        {
         "name": "bg_value__ratio_value_number_to_time_series_length",
         "dtype": "float64"
        },
        {
         "name": "bg_value__sample_entropy",
         "dtype": "float64"
        },
        {
         "name": "bg_value__maximum",
         "dtype": "float64"
        },
        {
         "name": "bg_value__minimum",
         "dtype": "float64"
        },
        {
         "name": "bg_value__benford_correlation",
         "dtype": "float64"
        },
        {
         "name": "bg_value__time_reversal_asymmetry_statistic__lag_1",
         "dtype": "float64"
        },
        {
         "name": "bg_value__time_reversal_asymmetry_statistic__lag_2",
         "dtype": "float64"
        },
        {
         "name": "bg_value__time_reversal_asymmetry_statistic__lag_3",
         "dtype": "float64"
        },
        {
         "name": "bg_value__c3__lag_1",
         "dtype": "float64"
        },
        {
         "name": "bg_value__c3__lag_2",
         "dtype": "float64"
        },
        {
         "name": "bg_value__c3__lag_3",
         "dtype": "float64"
        },
        {
         "name": "bg_value__cid_ce__normalize_True",
         "dtype": "float64"
        },
        {
         "name": "bg_value__cid_ce__normalize_False",
         "dtype": "float64"
        },
        {
         "name": "bg_value__symmetry_looking__r_0.0",
         "dtype": "float64"
        },
        {
         "name": "bg_value__symmetry_looking__r_0.05",
         "dtype": "float64"
        },
        {
         "name": "bg_value__symmetry_looking__r_0.1",
         "dtype": "float64"
        },
        {
         "name": "bg_value__symmetry_looking__r_0.15000000000000002",
         "dtype": "float64"
        },
        {
         "name": "bg_value__symmetry_looking__r_0.2",
         "dtype": "float64"
        },
        {
         "name": "bg_value__symmetry_looking__r_0.25",
         "dtype": "float64"
        },
        {
         "name": "bg_value__symmetry_looking__r_0.30000000000000004",
         "dtype": "float64"
        },
        {
         "name": "bg_value__symmetry_looking__r_0.35000000000000003",
         "dtype": "float64"
        },
        {
         "name": "bg_value__symmetry_looking__r_0.4",
         "dtype": "float64"
        },
        {
         "name": "bg_value__symmetry_looking__r_0.45",
         "dtype": "float64"
        },
        {
         "name": "bg_value__symmetry_looking__r_0.5",
         "dtype": "float64"
        },
        {
         "name": "bg_value__symmetry_looking__r_0.55",
         "dtype": "float64"
        },
        {
         "name": "bg_value__symmetry_looking__r_0.6000000000000001",
         "dtype": "float64"
        },
        {
         "name": "bg_value__symmetry_looking__r_0.65",
         "dtype": "float64"
        },
        {
         "name": "bg_value__symmetry_looking__r_0.7000000000000001",
         "dtype": "float64"
        },
        {
         "name": "bg_value__symmetry_looking__r_0.75",
         "dtype": "float64"
        },
        {
         "name": "bg_value__symmetry_looking__r_0.8",
         "dtype": "float64"
        },
        {
         "name": "bg_value__symmetry_looking__r_0.8500000000000001",
         "dtype": "float64"
        },
        {
         "name": "bg_value__symmetry_looking__r_0.9",
         "dtype": "float64"
        },
        {
         "name": "bg_value__symmetry_looking__r_0.9500000000000001",
         "dtype": "float64"
        },
        {
         "name": "bg_value__large_standard_deviation__r_0.05",
         "dtype": "float64"
        },
        {
         "name": "bg_value__large_standard_deviation__r_0.1",
         "dtype": "float64"
        },
        {
         "name": "bg_value__large_standard_deviation__r_0.15000000000000002",
         "dtype": "float64"
        },
        {
         "name": "bg_value__large_standard_deviation__r_0.2",
         "dtype": "float64"
        },
        {
         "name": "bg_value__large_standard_deviation__r_0.25",
         "dtype": "float64"
        },
        {
         "name": "bg_value__large_standard_deviation__r_0.30000000000000004",
         "dtype": "float64"
        },
        {
         "name": "bg_value__large_standard_deviation__r_0.35000000000000003",
         "dtype": "float64"
        },
        {
         "name": "bg_value__large_standard_deviation__r_0.4",
         "dtype": "float64"
        },
        {
         "name": "bg_value__large_standard_deviation__r_0.45",
         "dtype": "float64"
        },
        {
         "name": "bg_value__large_standard_deviation__r_0.5",
         "dtype": "float64"
        },
        {
         "name": "bg_value__large_standard_deviation__r_0.55",
         "dtype": "float64"
        },
        {
         "name": "bg_value__large_standard_deviation__r_0.6000000000000001",
         "dtype": "float64"
        },
        {
         "name": "bg_value__large_standard_deviation__r_0.65",
         "dtype": "float64"
        },
        {
         "name": "bg_value__large_standard_deviation__r_0.7000000000000001",
         "dtype": "float64"
        },
        {
         "name": "bg_value__large_standard_deviation__r_0.75",
         "dtype": "float64"
        },
        {
         "name": "bg_value__large_standard_deviation__r_0.8",
         "dtype": "float64"
        },
        {
         "name": "bg_value__large_standard_deviation__r_0.8500000000000001",
         "dtype": "float64"
        },
        {
         "name": "bg_value__large_standard_deviation__r_0.9",
         "dtype": "float64"
        },
        {
         "name": "bg_value__large_standard_deviation__r_0.9500000000000001",
         "dtype": "float64"
        },
        {
         "name": "bg_value__quantile__q_0.1",
         "dtype": "float64"
        },
        {
         "name": "bg_value__quantile__q_0.2",
         "dtype": "float64"
        },
        {
         "name": "bg_value__quantile__q_0.3",
         "dtype": "float64"
        },
        {
         "name": "bg_value__quantile__q_0.4",
         "dtype": "float64"
        },
        {
         "name": "bg_value__quantile__q_0.6",
         "dtype": "float64"
        },
        {
         "name": "bg_value__quantile__q_0.7",
         "dtype": "float64"
        },
        {
         "name": "bg_value__quantile__q_0.8",
         "dtype": "float64"
        },
        {
         "name": "bg_value__quantile__q_0.9",
         "dtype": "float64"
        },
        {
         "name": "bg_value__autocorrelation__lag_0",
         "dtype": "float64"
        },
        {
         "name": "bg_value__autocorrelation__lag_1",
         "dtype": "float64"
        },
        {
         "name": "bg_value__autocorrelation__lag_2",
         "dtype": "float64"
        },
        {
         "name": "bg_value__autocorrelation__lag_3",
         "dtype": "float64"
        },
        {
         "name": "bg_value__autocorrelation__lag_4",
         "dtype": "float64"
        },
        {
         "name": "bg_value__autocorrelation__lag_5",
         "dtype": "float64"
        },
        {
         "name": "bg_value__autocorrelation__lag_6",
         "dtype": "float64"
        },
        {
         "name": "bg_value__autocorrelation__lag_7",
         "dtype": "float64"
        },
        {
         "name": "bg_value__autocorrelation__lag_8",
         "dtype": "float64"
        },
        {
         "name": "bg_value__autocorrelation__lag_9",
         "dtype": "float64"
        },
        {
         "name": "bg_value__agg_autocorrelation__f_agg_\"mean\"__maxlag_40",
         "dtype": "float64"
        },
        {
         "name": "bg_value__agg_autocorrelation__f_agg_\"median\"__maxlag_40",
         "dtype": "float64"
        },
        {
         "name": "bg_value__agg_autocorrelation__f_agg_\"var\"__maxlag_40",
         "dtype": "float64"
        },
        {
         "name": "bg_value__partial_autocorrelation__lag_0",
         "dtype": "float64"
        },
        {
         "name": "bg_value__partial_autocorrelation__lag_1",
         "dtype": "float64"
        },
        {
         "name": "bg_value__partial_autocorrelation__lag_2",
         "dtype": "float64"
        },
        {
         "name": "bg_value__partial_autocorrelation__lag_3",
         "dtype": "float64"
        },
        {
         "name": "bg_value__partial_autocorrelation__lag_4",
         "dtype": "float64"
        },
        {
         "name": "bg_value__partial_autocorrelation__lag_5",
         "dtype": "float64"
        },
        {
         "name": "bg_value__partial_autocorrelation__lag_6",
         "dtype": "float64"
        },
        {
         "name": "bg_value__partial_autocorrelation__lag_7",
         "dtype": "float64"
        },
        {
         "name": "bg_value__partial_autocorrelation__lag_8",
         "dtype": "float64"
        },
        {
         "name": "bg_value__partial_autocorrelation__lag_9",
         "dtype": "float64"
        },
        {
         "name": "bg_value__number_cwt_peaks__n_1",
         "dtype": "float64"
        },
        {
         "name": "bg_value__number_cwt_peaks__n_5",
         "dtype": "float64"
        },
        {
         "name": "bg_value__number_peaks__n_1",
         "dtype": "float64"
        },
        {
         "name": "bg_value__number_peaks__n_3",
         "dtype": "float64"
        },
        {
         "name": "bg_value__number_peaks__n_5",
         "dtype": "float64"
        },
        {
         "name": "bg_value__number_peaks__n_10",
         "dtype": "float64"
        },
        {
         "name": "bg_value__number_peaks__n_50",
         "dtype": "float64"
        },
        {
         "name": "bg_value__binned_entropy__max_bins_10",
         "dtype": "float64"
        },
        {
         "name": "bg_value__index_mass_quantile__q_0.1",
         "dtype": "float64"
        },
        {
         "name": "bg_value__index_mass_quantile__q_0.2",
         "dtype": "float64"
        },
        {
         "name": "bg_value__index_mass_quantile__q_0.3",
         "dtype": "float64"
        },
        {
         "name": "bg_value__index_mass_quantile__q_0.4",
         "dtype": "float64"
        },
        {
         "name": "bg_value__index_mass_quantile__q_0.6",
         "dtype": "float64"
        },
        {
         "name": "bg_value__index_mass_quantile__q_0.7",
         "dtype": "float64"
        },
        {
         "name": "bg_value__index_mass_quantile__q_0.8",
         "dtype": "float64"
        },
        {
         "name": "bg_value__index_mass_quantile__q_0.9",
         "dtype": "float64"
        },
        {
         "name": "bg_value__cwt_coefficients__coeff_0__w_2__widths_(2, 5, 10, 20)",
         "dtype": "float64"
        },
        {
         "name": "bg_value__cwt_coefficients__coeff_0__w_5__widths_(2, 5, 10, 20)",
         "dtype": "float64"
        },
        {
         "name": "bg_value__cwt_coefficients__coeff_0__w_10__widths_(2, 5, 10, 20)",
         "dtype": "float64"
        },
        {
         "name": "bg_value__cwt_coefficients__coeff_0__w_20__widths_(2, 5, 10, 20)",
         "dtype": "float64"
        },
        {
         "name": "bg_value__cwt_coefficients__coeff_1__w_2__widths_(2, 5, 10, 20)",
         "dtype": "float64"
        },
        {
         "name": "bg_value__cwt_coefficients__coeff_1__w_5__widths_(2, 5, 10, 20)",
         "dtype": "float64"
        },
        {
         "name": "bg_value__cwt_coefficients__coeff_1__w_10__widths_(2, 5, 10, 20)",
         "dtype": "float64"
        },
        {
         "name": "bg_value__cwt_coefficients__coeff_1__w_20__widths_(2, 5, 10, 20)",
         "dtype": "float64"
        },
        {
         "name": "bg_value__cwt_coefficients__coeff_2__w_2__widths_(2, 5, 10, 20)",
         "dtype": "float64"
        },
        {
         "name": "bg_value__cwt_coefficients__coeff_2__w_5__widths_(2, 5, 10, 20)",
         "dtype": "float64"
        },
        {
         "name": "bg_value__cwt_coefficients__coeff_2__w_10__widths_(2, 5, 10, 20)",
         "dtype": "float64"
        },
        {
         "name": "bg_value__cwt_coefficients__coeff_2__w_20__widths_(2, 5, 10, 20)",
         "dtype": "float64"
        },
        {
         "name": "bg_value__cwt_coefficients__coeff_3__w_2__widths_(2, 5, 10, 20)",
         "dtype": "float64"
        },
        {
         "name": "bg_value__cwt_coefficients__coeff_3__w_5__widths_(2, 5, 10, 20)",
         "dtype": "float64"
        },
        {
         "name": "bg_value__cwt_coefficients__coeff_3__w_10__widths_(2, 5, 10, 20)",
         "dtype": "float64"
        },
        {
         "name": "bg_value__cwt_coefficients__coeff_3__w_20__widths_(2, 5, 10, 20)",
         "dtype": "float64"
        },
        {
         "name": "bg_value__cwt_coefficients__coeff_4__w_2__widths_(2, 5, 10, 20)",
         "dtype": "float64"
        },
        {
         "name": "bg_value__cwt_coefficients__coeff_4__w_5__widths_(2, 5, 10, 20)",
         "dtype": "float64"
        },
        {
         "name": "bg_value__cwt_coefficients__coeff_4__w_10__widths_(2, 5, 10, 20)",
         "dtype": "float64"
        },
        {
         "name": "bg_value__cwt_coefficients__coeff_4__w_20__widths_(2, 5, 10, 20)",
         "dtype": "float64"
        },
        {
         "name": "bg_value__cwt_coefficients__coeff_5__w_2__widths_(2, 5, 10, 20)",
         "dtype": "float64"
        },
        {
         "name": "bg_value__cwt_coefficients__coeff_5__w_5__widths_(2, 5, 10, 20)",
         "dtype": "float64"
        },
        {
         "name": "bg_value__cwt_coefficients__coeff_5__w_10__widths_(2, 5, 10, 20)",
         "dtype": "float64"
        },
        {
         "name": "bg_value__cwt_coefficients__coeff_5__w_20__widths_(2, 5, 10, 20)",
         "dtype": "float64"
        },
        {
         "name": "bg_value__cwt_coefficients__coeff_6__w_2__widths_(2, 5, 10, 20)",
         "dtype": "float64"
        },
        {
         "name": "bg_value__cwt_coefficients__coeff_6__w_5__widths_(2, 5, 10, 20)",
         "dtype": "float64"
        },
        {
         "name": "bg_value__cwt_coefficients__coeff_6__w_10__widths_(2, 5, 10, 20)",
         "dtype": "float64"
        },
        {
         "name": "bg_value__cwt_coefficients__coeff_6__w_20__widths_(2, 5, 10, 20)",
         "dtype": "float64"
        },
        {
         "name": "bg_value__cwt_coefficients__coeff_7__w_2__widths_(2, 5, 10, 20)",
         "dtype": "float64"
        },
        {
         "name": "bg_value__cwt_coefficients__coeff_7__w_5__widths_(2, 5, 10, 20)",
         "dtype": "float64"
        },
        {
         "name": "bg_value__cwt_coefficients__coeff_7__w_10__widths_(2, 5, 10, 20)",
         "dtype": "float64"
        },
        {
         "name": "bg_value__cwt_coefficients__coeff_7__w_20__widths_(2, 5, 10, 20)",
         "dtype": "float64"
        },
        {
         "name": "bg_value__cwt_coefficients__coeff_8__w_2__widths_(2, 5, 10, 20)",
         "dtype": "float64"
        },
        {
         "name": "bg_value__cwt_coefficients__coeff_8__w_5__widths_(2, 5, 10, 20)",
         "dtype": "float64"
        },
        {
         "name": "bg_value__cwt_coefficients__coeff_8__w_10__widths_(2, 5, 10, 20)",
         "dtype": "float64"
        },
        {
         "name": "bg_value__cwt_coefficients__coeff_8__w_20__widths_(2, 5, 10, 20)",
         "dtype": "float64"
        },
        {
         "name": "bg_value__cwt_coefficients__coeff_9__w_2__widths_(2, 5, 10, 20)",
         "dtype": "float64"
        },
        {
         "name": "bg_value__cwt_coefficients__coeff_9__w_5__widths_(2, 5, 10, 20)",
         "dtype": "float64"
        },
        {
         "name": "bg_value__cwt_coefficients__coeff_9__w_10__widths_(2, 5, 10, 20)",
         "dtype": "float64"
        },
        {
         "name": "bg_value__cwt_coefficients__coeff_9__w_20__widths_(2, 5, 10, 20)",
         "dtype": "float64"
        },
        {
         "name": "bg_value__cwt_coefficients__coeff_10__w_2__widths_(2, 5, 10, 20)",
         "dtype": "float64"
        },
        {
         "name": "bg_value__cwt_coefficients__coeff_10__w_5__widths_(2, 5, 10, 20)",
         "dtype": "float64"
        },
        {
         "name": "bg_value__cwt_coefficients__coeff_10__w_10__widths_(2, 5, 10, 20)",
         "dtype": "float64"
        },
        {
         "name": "bg_value__cwt_coefficients__coeff_10__w_20__widths_(2, 5, 10, 20)",
         "dtype": "float64"
        },
        {
         "name": "bg_value__cwt_coefficients__coeff_11__w_2__widths_(2, 5, 10, 20)",
         "dtype": "float64"
        },
        {
         "name": "bg_value__cwt_coefficients__coeff_11__w_5__widths_(2, 5, 10, 20)",
         "dtype": "float64"
        },
        {
         "name": "bg_value__cwt_coefficients__coeff_11__w_10__widths_(2, 5, 10, 20)",
         "dtype": "float64"
        },
        {
         "name": "bg_value__cwt_coefficients__coeff_11__w_20__widths_(2, 5, 10, 20)",
         "dtype": "float64"
        },
        {
         "name": "bg_value__cwt_coefficients__coeff_12__w_2__widths_(2, 5, 10, 20)",
         "dtype": "float64"
        },
        {
         "name": "bg_value__cwt_coefficients__coeff_12__w_5__widths_(2, 5, 10, 20)",
         "dtype": "float64"
        },
        {
         "name": "bg_value__cwt_coefficients__coeff_12__w_10__widths_(2, 5, 10, 20)",
         "dtype": "float64"
        },
        {
         "name": "bg_value__cwt_coefficients__coeff_12__w_20__widths_(2, 5, 10, 20)",
         "dtype": "float64"
        },
        {
         "name": "bg_value__cwt_coefficients__coeff_13__w_2__widths_(2, 5, 10, 20)",
         "dtype": "float64"
        },
        {
         "name": "bg_value__cwt_coefficients__coeff_13__w_5__widths_(2, 5, 10, 20)",
         "dtype": "float64"
        },
        {
         "name": "bg_value__cwt_coefficients__coeff_13__w_10__widths_(2, 5, 10, 20)",
         "dtype": "float64"
        },
        {
         "name": "bg_value__cwt_coefficients__coeff_13__w_20__widths_(2, 5, 10, 20)",
         "dtype": "float64"
        },
        {
         "name": "bg_value__cwt_coefficients__coeff_14__w_2__widths_(2, 5, 10, 20)",
         "dtype": "float64"
        },
        {
         "name": "bg_value__cwt_coefficients__coeff_14__w_5__widths_(2, 5, 10, 20)",
         "dtype": "float64"
        },
        {
         "name": "bg_value__cwt_coefficients__coeff_14__w_10__widths_(2, 5, 10, 20)",
         "dtype": "float64"
        },
        {
         "name": "bg_value__cwt_coefficients__coeff_14__w_20__widths_(2, 5, 10, 20)",
         "dtype": "float64"
        },
        {
         "name": "bg_value__spkt_welch_density__coeff_2",
         "dtype": "float64"
        },
        {
         "name": "bg_value__spkt_welch_density__coeff_5",
         "dtype": "float64"
        },
        {
         "name": "bg_value__spkt_welch_density__coeff_8",
         "dtype": "float64"
        },
        {
         "name": "bg_value__ar_coefficient__coeff_0__k_10",
         "dtype": "float64"
        },
        {
         "name": "bg_value__ar_coefficient__coeff_1__k_10",
         "dtype": "float64"
        },
        {
         "name": "bg_value__ar_coefficient__coeff_2__k_10",
         "dtype": "float64"
        },
        {
         "name": "bg_value__ar_coefficient__coeff_3__k_10",
         "dtype": "float64"
        },
        {
         "name": "bg_value__ar_coefficient__coeff_4__k_10",
         "dtype": "float64"
        },
        {
         "name": "bg_value__ar_coefficient__coeff_5__k_10",
         "dtype": "float64"
        },
        {
         "name": "bg_value__ar_coefficient__coeff_6__k_10",
         "dtype": "float64"
        },
        {
         "name": "bg_value__ar_coefficient__coeff_7__k_10",
         "dtype": "float64"
        },
        {
         "name": "bg_value__ar_coefficient__coeff_8__k_10",
         "dtype": "float64"
        },
        {
         "name": "bg_value__ar_coefficient__coeff_9__k_10",
         "dtype": "float64"
        },
        {
         "name": "bg_value__ar_coefficient__coeff_10__k_10",
         "dtype": "float64"
        },
        {
         "name": "bg_value__change_quantiles__f_agg_\"mean\"__isabs_False__qh_0.2__ql_0.0",
         "dtype": "float64"
        },
        {
         "name": "bg_value__change_quantiles__f_agg_\"var\"__isabs_False__qh_0.2__ql_0.0",
         "dtype": "float64"
        },
        {
         "name": "bg_value__change_quantiles__f_agg_\"mean\"__isabs_True__qh_0.2__ql_0.0",
         "dtype": "float64"
        },
        {
         "name": "bg_value__change_quantiles__f_agg_\"var\"__isabs_True__qh_0.2__ql_0.0",
         "dtype": "float64"
        },
        {
         "name": "bg_value__change_quantiles__f_agg_\"mean\"__isabs_False__qh_0.4__ql_0.0",
         "dtype": "float64"
        },
        {
         "name": "bg_value__change_quantiles__f_agg_\"var\"__isabs_False__qh_0.4__ql_0.0",
         "dtype": "float64"
        },
        {
         "name": "bg_value__change_quantiles__f_agg_\"mean\"__isabs_True__qh_0.4__ql_0.0",
         "dtype": "float64"
        },
        {
         "name": "bg_value__change_quantiles__f_agg_\"var\"__isabs_True__qh_0.4__ql_0.0",
         "dtype": "float64"
        },
        {
         "name": "bg_value__change_quantiles__f_agg_\"mean\"__isabs_False__qh_0.6__ql_0.0",
         "dtype": "float64"
        },
        {
         "name": "bg_value__change_quantiles__f_agg_\"var\"__isabs_False__qh_0.6__ql_0.0",
         "dtype": "float64"
        },
        {
         "name": "bg_value__change_quantiles__f_agg_\"mean\"__isabs_True__qh_0.6__ql_0.0",
         "dtype": "float64"
        },
        {
         "name": "bg_value__change_quantiles__f_agg_\"var\"__isabs_True__qh_0.6__ql_0.0",
         "dtype": "float64"
        },
        {
         "name": "bg_value__change_quantiles__f_agg_\"mean\"__isabs_False__qh_0.8__ql_0.0",
         "dtype": "float64"
        },
        {
         "name": "bg_value__change_quantiles__f_agg_\"var\"__isabs_False__qh_0.8__ql_0.0",
         "dtype": "float64"
        },
        {
         "name": "bg_value__change_quantiles__f_agg_\"mean\"__isabs_True__qh_0.8__ql_0.0",
         "dtype": "float64"
        },
        {
         "name": "bg_value__change_quantiles__f_agg_\"var\"__isabs_True__qh_0.8__ql_0.0",
         "dtype": "float64"
        },
        {
         "name": "bg_value__change_quantiles__f_agg_\"mean\"__isabs_False__qh_1.0__ql_0.0",
         "dtype": "float64"
        },
        {
         "name": "bg_value__change_quantiles__f_agg_\"var\"__isabs_False__qh_1.0__ql_0.0",
         "dtype": "float64"
        },
        {
         "name": "bg_value__change_quantiles__f_agg_\"mean\"__isabs_True__qh_1.0__ql_0.0",
         "dtype": "float64"
        },
        {
         "name": "bg_value__change_quantiles__f_agg_\"var\"__isabs_True__qh_1.0__ql_0.0",
         "dtype": "float64"
        },
        {
         "name": "bg_value__change_quantiles__f_agg_\"mean\"__isabs_False__qh_0.4__ql_0.2",
         "dtype": "float64"
        },
        {
         "name": "bg_value__change_quantiles__f_agg_\"var\"__isabs_False__qh_0.4__ql_0.2",
         "dtype": "float64"
        },
        {
         "name": "bg_value__change_quantiles__f_agg_\"mean\"__isabs_True__qh_0.4__ql_0.2",
         "dtype": "float64"
        },
        {
         "name": "bg_value__change_quantiles__f_agg_\"var\"__isabs_True__qh_0.4__ql_0.2",
         "dtype": "float64"
        },
        {
         "name": "bg_value__change_quantiles__f_agg_\"mean\"__isabs_False__qh_0.6__ql_0.2",
         "dtype": "float64"
        },
        {
         "name": "bg_value__change_quantiles__f_agg_\"var\"__isabs_False__qh_0.6__ql_0.2",
         "dtype": "float64"
        },
        {
         "name": "bg_value__change_quantiles__f_agg_\"mean\"__isabs_True__qh_0.6__ql_0.2",
         "dtype": "float64"
        },
        {
         "name": "bg_value__change_quantiles__f_agg_\"var\"__isabs_True__qh_0.6__ql_0.2",
         "dtype": "float64"
        },
        {
         "name": "bg_value__change_quantiles__f_agg_\"mean\"__isabs_False__qh_0.8__ql_0.2",
         "dtype": "float64"
        },
        {
         "name": "bg_value__change_quantiles__f_agg_\"var\"__isabs_False__qh_0.8__ql_0.2",
         "dtype": "float64"
        },
        {
         "name": "bg_value__change_quantiles__f_agg_\"mean\"__isabs_True__qh_0.8__ql_0.2",
         "dtype": "float64"
        },
        {
         "name": "bg_value__change_quantiles__f_agg_\"var\"__isabs_True__qh_0.8__ql_0.2",
         "dtype": "float64"
        },
        {
         "name": "bg_value__change_quantiles__f_agg_\"mean\"__isabs_False__qh_1.0__ql_0.2",
         "dtype": "float64"
        },
        {
         "name": "bg_value__change_quantiles__f_agg_\"var\"__isabs_False__qh_1.0__ql_0.2",
         "dtype": "float64"
        },
        {
         "name": "bg_value__change_quantiles__f_agg_\"mean\"__isabs_True__qh_1.0__ql_0.2",
         "dtype": "float64"
        },
        {
         "name": "bg_value__change_quantiles__f_agg_\"var\"__isabs_True__qh_1.0__ql_0.2",
         "dtype": "float64"
        },
        {
         "name": "bg_value__change_quantiles__f_agg_\"mean\"__isabs_False__qh_0.6__ql_0.4",
         "dtype": "float64"
        },
        {
         "name": "bg_value__change_quantiles__f_agg_\"var\"__isabs_False__qh_0.6__ql_0.4",
         "dtype": "float64"
        },
        {
         "name": "bg_value__change_quantiles__f_agg_\"mean\"__isabs_True__qh_0.6__ql_0.4",
         "dtype": "float64"
        },
        {
         "name": "bg_value__change_quantiles__f_agg_\"var\"__isabs_True__qh_0.6__ql_0.4",
         "dtype": "float64"
        },
        {
         "name": "bg_value__change_quantiles__f_agg_\"mean\"__isabs_False__qh_0.8__ql_0.4",
         "dtype": "float64"
        },
        {
         "name": "bg_value__change_quantiles__f_agg_\"var\"__isabs_False__qh_0.8__ql_0.4",
         "dtype": "float64"
        },
        {
         "name": "bg_value__change_quantiles__f_agg_\"mean\"__isabs_True__qh_0.8__ql_0.4",
         "dtype": "float64"
        },
        {
         "name": "bg_value__change_quantiles__f_agg_\"var\"__isabs_True__qh_0.8__ql_0.4",
         "dtype": "float64"
        },
        {
         "name": "bg_value__change_quantiles__f_agg_\"mean\"__isabs_False__qh_1.0__ql_0.4",
         "dtype": "float64"
        },
        {
         "name": "bg_value__change_quantiles__f_agg_\"var\"__isabs_False__qh_1.0__ql_0.4",
         "dtype": "float64"
        },
        {
         "name": "bg_value__change_quantiles__f_agg_\"mean\"__isabs_True__qh_1.0__ql_0.4",
         "dtype": "float64"
        },
        {
         "name": "bg_value__change_quantiles__f_agg_\"var\"__isabs_True__qh_1.0__ql_0.4",
         "dtype": "float64"
        },
        {
         "name": "bg_value__change_quantiles__f_agg_\"mean\"__isabs_False__qh_0.8__ql_0.6",
         "dtype": "float64"
        },
        {
         "name": "bg_value__change_quantiles__f_agg_\"var\"__isabs_False__qh_0.8__ql_0.6",
         "dtype": "float64"
        },
        {
         "name": "bg_value__change_quantiles__f_agg_\"mean\"__isabs_True__qh_0.8__ql_0.6",
         "dtype": "float64"
        },
        {
         "name": "bg_value__change_quantiles__f_agg_\"var\"__isabs_True__qh_0.8__ql_0.6",
         "dtype": "float64"
        },
        {
         "name": "bg_value__change_quantiles__f_agg_\"mean\"__isabs_False__qh_1.0__ql_0.6",
         "dtype": "float64"
        },
        {
         "name": "bg_value__change_quantiles__f_agg_\"var\"__isabs_False__qh_1.0__ql_0.6",
         "dtype": "float64"
        },
        {
         "name": "bg_value__change_quantiles__f_agg_\"mean\"__isabs_True__qh_1.0__ql_0.6",
         "dtype": "float64"
        },
        {
         "name": "bg_value__change_quantiles__f_agg_\"var\"__isabs_True__qh_1.0__ql_0.6",
         "dtype": "float64"
        },
        {
         "name": "bg_value__change_quantiles__f_agg_\"mean\"__isabs_False__qh_1.0__ql_0.8",
         "dtype": "float64"
        },
        {
         "name": "bg_value__change_quantiles__f_agg_\"var\"__isabs_False__qh_1.0__ql_0.8",
         "dtype": "float64"
        },
        {
         "name": "bg_value__change_quantiles__f_agg_\"mean\"__isabs_True__qh_1.0__ql_0.8",
         "dtype": "float64"
        },
        {
         "name": "bg_value__change_quantiles__f_agg_\"var\"__isabs_True__qh_1.0__ql_0.8",
         "dtype": "float64"
        },
        {
         "name": "bg_value__fft_coefficient__attr_\"real\"__coeff_0",
         "dtype": "float64"
        },
        {
         "name": "bg_value__fft_coefficient__attr_\"real\"__coeff_1",
         "dtype": "float64"
        },
        {
         "name": "bg_value__fft_coefficient__attr_\"real\"__coeff_2",
         "dtype": "float64"
        },
        {
         "name": "bg_value__fft_coefficient__attr_\"real\"__coeff_3",
         "dtype": "float64"
        },
        {
         "name": "bg_value__fft_coefficient__attr_\"real\"__coeff_4",
         "dtype": "float64"
        },
        {
         "name": "bg_value__fft_coefficient__attr_\"real\"__coeff_5",
         "dtype": "float64"
        },
        {
         "name": "bg_value__fft_coefficient__attr_\"real\"__coeff_6",
         "dtype": "float64"
        },
        {
         "name": "bg_value__fft_coefficient__attr_\"real\"__coeff_7",
         "dtype": "float64"
        },
        {
         "name": "bg_value__fft_coefficient__attr_\"real\"__coeff_8",
         "dtype": "float64"
        },
        {
         "name": "bg_value__fft_coefficient__attr_\"real\"__coeff_9",
         "dtype": "float64"
        },
        {
         "name": "bg_value__fft_coefficient__attr_\"real\"__coeff_10",
         "dtype": "float64"
        },
        {
         "name": "bg_value__fft_coefficient__attr_\"real\"__coeff_11",
         "dtype": "float64"
        },
        {
         "name": "bg_value__fft_coefficient__attr_\"real\"__coeff_12",
         "dtype": "float64"
        },
        {
         "name": "bg_value__fft_coefficient__attr_\"real\"__coeff_13",
         "dtype": "float64"
        },
        {
         "name": "bg_value__fft_coefficient__attr_\"real\"__coeff_14",
         "dtype": "float64"
        },
        {
         "name": "bg_value__fft_coefficient__attr_\"real\"__coeff_15",
         "dtype": "float64"
        },
        {
         "name": "bg_value__fft_coefficient__attr_\"real\"__coeff_16",
         "dtype": "float64"
        },
        {
         "name": "bg_value__fft_coefficient__attr_\"real\"__coeff_17",
         "dtype": "float64"
        },
        {
         "name": "bg_value__fft_coefficient__attr_\"real\"__coeff_18",
         "dtype": "float64"
        },
        {
         "name": "bg_value__fft_coefficient__attr_\"real\"__coeff_19",
         "dtype": "float64"
        },
        {
         "name": "bg_value__fft_coefficient__attr_\"real\"__coeff_20",
         "dtype": "float64"
        },
        {
         "name": "bg_value__fft_coefficient__attr_\"real\"__coeff_21",
         "dtype": "float64"
        },
        {
         "name": "bg_value__fft_coefficient__attr_\"real\"__coeff_22",
         "dtype": "float64"
        },
        {
         "name": "bg_value__fft_coefficient__attr_\"real\"__coeff_23",
         "dtype": "float64"
        },
        {
         "name": "bg_value__fft_coefficient__attr_\"real\"__coeff_24",
         "dtype": "float64"
        },
        {
         "name": "bg_value__fft_coefficient__attr_\"real\"__coeff_25",
         "dtype": "float64"
        },
        {
         "name": "bg_value__fft_coefficient__attr_\"real\"__coeff_26",
         "dtype": "float64"
        },
        {
         "name": "bg_value__fft_coefficient__attr_\"real\"__coeff_27",
         "dtype": "float64"
        },
        {
         "name": "bg_value__fft_coefficient__attr_\"real\"__coeff_28",
         "dtype": "float64"
        },
        {
         "name": "bg_value__fft_coefficient__attr_\"real\"__coeff_29",
         "dtype": "float64"
        },
        {
         "name": "bg_value__fft_coefficient__attr_\"real\"__coeff_30",
         "dtype": "float64"
        },
        {
         "name": "bg_value__fft_coefficient__attr_\"real\"__coeff_31",
         "dtype": "float64"
        },
        {
         "name": "bg_value__fft_coefficient__attr_\"real\"__coeff_32",
         "dtype": "float64"
        },
        {
         "name": "bg_value__fft_coefficient__attr_\"real\"__coeff_33",
         "dtype": "float64"
        },
        {
         "name": "bg_value__fft_coefficient__attr_\"real\"__coeff_34",
         "dtype": "float64"
        },
        {
         "name": "bg_value__fft_coefficient__attr_\"real\"__coeff_35",
         "dtype": "float64"
        },
        {
         "name": "bg_value__fft_coefficient__attr_\"real\"__coeff_36",
         "dtype": "float64"
        },
        {
         "name": "bg_value__fft_coefficient__attr_\"real\"__coeff_37",
         "dtype": "float64"
        },
        {
         "name": "bg_value__fft_coefficient__attr_\"real\"__coeff_38",
         "dtype": "float64"
        },
        {
         "name": "bg_value__fft_coefficient__attr_\"real\"__coeff_39",
         "dtype": "float64"
        },
        {
         "name": "bg_value__fft_coefficient__attr_\"real\"__coeff_40",
         "dtype": "float64"
        },
        {
         "name": "bg_value__fft_coefficient__attr_\"real\"__coeff_41",
         "dtype": "float64"
        },
        {
         "name": "bg_value__fft_coefficient__attr_\"real\"__coeff_42",
         "dtype": "float64"
        },
        {
         "name": "bg_value__fft_coefficient__attr_\"real\"__coeff_43",
         "dtype": "float64"
        },
        {
         "name": "bg_value__fft_coefficient__attr_\"real\"__coeff_44",
         "dtype": "float64"
        },
        {
         "name": "bg_value__fft_coefficient__attr_\"real\"__coeff_45",
         "dtype": "float64"
        },
        {
         "name": "bg_value__fft_coefficient__attr_\"real\"__coeff_46",
         "dtype": "float64"
        },
        {
         "name": "bg_value__fft_coefficient__attr_\"real\"__coeff_47",
         "dtype": "float64"
        },
        {
         "name": "bg_value__fft_coefficient__attr_\"real\"__coeff_48",
         "dtype": "float64"
        },
        {
         "name": "bg_value__fft_coefficient__attr_\"real\"__coeff_49",
         "dtype": "float64"
        },
        {
         "name": "bg_value__fft_coefficient__attr_\"real\"__coeff_50",
         "dtype": "float64"
        },
        {
         "name": "bg_value__fft_coefficient__attr_\"real\"__coeff_51",
         "dtype": "float64"
        },
        {
         "name": "bg_value__fft_coefficient__attr_\"real\"__coeff_52",
         "dtype": "float64"
        },
        {
         "name": "bg_value__fft_coefficient__attr_\"real\"__coeff_53",
         "dtype": "float64"
        },
        {
         "name": "bg_value__fft_coefficient__attr_\"real\"__coeff_54",
         "dtype": "float64"
        },
        {
         "name": "bg_value__fft_coefficient__attr_\"real\"__coeff_55",
         "dtype": "float64"
        },
        {
         "name": "bg_value__fft_coefficient__attr_\"real\"__coeff_56",
         "dtype": "float64"
        },
        {
         "name": "bg_value__fft_coefficient__attr_\"real\"__coeff_57",
         "dtype": "float64"
        },
        {
         "name": "bg_value__fft_coefficient__attr_\"real\"__coeff_58",
         "dtype": "float64"
        },
        {
         "name": "bg_value__fft_coefficient__attr_\"real\"__coeff_59",
         "dtype": "float64"
        },
        {
         "name": "bg_value__fft_coefficient__attr_\"real\"__coeff_60",
         "dtype": "float64"
        },
        {
         "name": "bg_value__fft_coefficient__attr_\"real\"__coeff_61",
         "dtype": "float64"
        },
        {
         "name": "bg_value__fft_coefficient__attr_\"real\"__coeff_62",
         "dtype": "float64"
        },
        {
         "name": "bg_value__fft_coefficient__attr_\"real\"__coeff_63",
         "dtype": "float64"
        },
        {
         "name": "bg_value__fft_coefficient__attr_\"real\"__coeff_64",
         "dtype": "float64"
        },
        {
         "name": "bg_value__fft_coefficient__attr_\"real\"__coeff_65",
         "dtype": "float64"
        },
        {
         "name": "bg_value__fft_coefficient__attr_\"real\"__coeff_66",
         "dtype": "float64"
        },
        {
         "name": "bg_value__fft_coefficient__attr_\"real\"__coeff_67",
         "dtype": "float64"
        },
        {
         "name": "bg_value__fft_coefficient__attr_\"real\"__coeff_68",
         "dtype": "float64"
        },
        {
         "name": "bg_value__fft_coefficient__attr_\"real\"__coeff_69",
         "dtype": "float64"
        },
        {
         "name": "bg_value__fft_coefficient__attr_\"real\"__coeff_70",
         "dtype": "float64"
        },
        {
         "name": "bg_value__fft_coefficient__attr_\"real\"__coeff_71",
         "dtype": "float64"
        },
        {
         "name": "bg_value__fft_coefficient__attr_\"real\"__coeff_72",
         "dtype": "float64"
        },
        {
         "name": "bg_value__fft_coefficient__attr_\"real\"__coeff_73",
         "dtype": "float64"
        },
        {
         "name": "bg_value__fft_coefficient__attr_\"real\"__coeff_74",
         "dtype": "float64"
        },
        {
         "name": "bg_value__fft_coefficient__attr_\"real\"__coeff_75",
         "dtype": "float64"
        },
        {
         "name": "bg_value__fft_coefficient__attr_\"real\"__coeff_76",
         "dtype": "float64"
        },
        {
         "name": "bg_value__fft_coefficient__attr_\"real\"__coeff_77",
         "dtype": "float64"
        },
        {
         "name": "bg_value__fft_coefficient__attr_\"real\"__coeff_78",
         "dtype": "float64"
        },
        {
         "name": "bg_value__fft_coefficient__attr_\"real\"__coeff_79",
         "dtype": "float64"
        },
        {
         "name": "bg_value__fft_coefficient__attr_\"real\"__coeff_80",
         "dtype": "float64"
        },
        {
         "name": "bg_value__fft_coefficient__attr_\"real\"__coeff_81",
         "dtype": "float64"
        },
        {
         "name": "bg_value__fft_coefficient__attr_\"real\"__coeff_82",
         "dtype": "float64"
        },
        {
         "name": "bg_value__fft_coefficient__attr_\"real\"__coeff_83",
         "dtype": "float64"
        },
        {
         "name": "bg_value__fft_coefficient__attr_\"real\"__coeff_84",
         "dtype": "float64"
        },
        {
         "name": "bg_value__fft_coefficient__attr_\"real\"__coeff_85",
         "dtype": "float64"
        },
        {
         "name": "bg_value__fft_coefficient__attr_\"real\"__coeff_86",
         "dtype": "float64"
        },
        {
         "name": "bg_value__fft_coefficient__attr_\"real\"__coeff_87",
         "dtype": "float64"
        },
        {
         "name": "bg_value__fft_coefficient__attr_\"real\"__coeff_88",
         "dtype": "float64"
        },
        {
         "name": "bg_value__fft_coefficient__attr_\"real\"__coeff_89",
         "dtype": "float64"
        },
        {
         "name": "bg_value__fft_coefficient__attr_\"real\"__coeff_90",
         "dtype": "float64"
        },
        {
         "name": "bg_value__fft_coefficient__attr_\"real\"__coeff_91",
         "dtype": "float64"
        },
        {
         "name": "bg_value__fft_coefficient__attr_\"real\"__coeff_92",
         "dtype": "float64"
        },
        {
         "name": "bg_value__fft_coefficient__attr_\"real\"__coeff_93",
         "dtype": "float64"
        },
        {
         "name": "bg_value__fft_coefficient__attr_\"real\"__coeff_94",
         "dtype": "float64"
        },
        {
         "name": "bg_value__fft_coefficient__attr_\"real\"__coeff_95",
         "dtype": "float64"
        },
        {
         "name": "bg_value__fft_coefficient__attr_\"real\"__coeff_96",
         "dtype": "float64"
        },
        {
         "name": "bg_value__fft_coefficient__attr_\"real\"__coeff_97",
         "dtype": "float64"
        },
        {
         "name": "bg_value__fft_coefficient__attr_\"real\"__coeff_98",
         "dtype": "float64"
        },
        {
         "name": "bg_value__fft_coefficient__attr_\"real\"__coeff_99",
         "dtype": "float64"
        },
        {
         "name": "bg_value__fft_coefficient__attr_\"imag\"__coeff_0",
         "dtype": "float64"
        },
        {
         "name": "bg_value__fft_coefficient__attr_\"imag\"__coeff_1",
         "dtype": "float64"
        },
        {
         "name": "bg_value__fft_coefficient__attr_\"imag\"__coeff_2",
         "dtype": "float64"
        },
        {
         "name": "bg_value__fft_coefficient__attr_\"imag\"__coeff_3",
         "dtype": "float64"
        },
        {
         "name": "bg_value__fft_coefficient__attr_\"imag\"__coeff_4",
         "dtype": "float64"
        },
        {
         "name": "bg_value__fft_coefficient__attr_\"imag\"__coeff_5",
         "dtype": "float64"
        },
        {
         "name": "bg_value__fft_coefficient__attr_\"imag\"__coeff_6",
         "dtype": "float64"
        },
        {
         "name": "bg_value__fft_coefficient__attr_\"imag\"__coeff_7",
         "dtype": "float64"
        },
        {
         "name": "bg_value__fft_coefficient__attr_\"imag\"__coeff_8",
         "dtype": "float64"
        },
        {
         "name": "bg_value__fft_coefficient__attr_\"imag\"__coeff_9",
         "dtype": "float64"
        },
        {
         "name": "bg_value__fft_coefficient__attr_\"imag\"__coeff_10",
         "dtype": "float64"
        },
        {
         "name": "bg_value__fft_coefficient__attr_\"imag\"__coeff_11",
         "dtype": "float64"
        },
        {
         "name": "bg_value__fft_coefficient__attr_\"imag\"__coeff_12",
         "dtype": "float64"
        },
        {
         "name": "bg_value__fft_coefficient__attr_\"imag\"__coeff_13",
         "dtype": "float64"
        },
        {
         "name": "bg_value__fft_coefficient__attr_\"imag\"__coeff_14",
         "dtype": "float64"
        },
        {
         "name": "bg_value__fft_coefficient__attr_\"imag\"__coeff_15",
         "dtype": "float64"
        },
        {
         "name": "bg_value__fft_coefficient__attr_\"imag\"__coeff_16",
         "dtype": "float64"
        },
        {
         "name": "bg_value__fft_coefficient__attr_\"imag\"__coeff_17",
         "dtype": "float64"
        },
        {
         "name": "bg_value__fft_coefficient__attr_\"imag\"__coeff_18",
         "dtype": "float64"
        },
        {
         "name": "bg_value__fft_coefficient__attr_\"imag\"__coeff_19",
         "dtype": "float64"
        },
        {
         "name": "bg_value__fft_coefficient__attr_\"imag\"__coeff_20",
         "dtype": "float64"
        },
        {
         "name": "bg_value__fft_coefficient__attr_\"imag\"__coeff_21",
         "dtype": "float64"
        },
        {
         "name": "bg_value__fft_coefficient__attr_\"imag\"__coeff_22",
         "dtype": "float64"
        },
        {
         "name": "bg_value__fft_coefficient__attr_\"imag\"__coeff_23",
         "dtype": "float64"
        },
        {
         "name": "bg_value__fft_coefficient__attr_\"imag\"__coeff_24",
         "dtype": "float64"
        },
        {
         "name": "bg_value__fft_coefficient__attr_\"imag\"__coeff_25",
         "dtype": "float64"
        },
        {
         "name": "bg_value__fft_coefficient__attr_\"imag\"__coeff_26",
         "dtype": "float64"
        },
        {
         "name": "bg_value__fft_coefficient__attr_\"imag\"__coeff_27",
         "dtype": "float64"
        },
        {
         "name": "bg_value__fft_coefficient__attr_\"imag\"__coeff_28",
         "dtype": "float64"
        },
        {
         "name": "bg_value__fft_coefficient__attr_\"imag\"__coeff_29",
         "dtype": "float64"
        },
        {
         "name": "bg_value__fft_coefficient__attr_\"imag\"__coeff_30",
         "dtype": "float64"
        },
        {
         "name": "bg_value__fft_coefficient__attr_\"imag\"__coeff_31",
         "dtype": "float64"
        },
        {
         "name": "bg_value__fft_coefficient__attr_\"imag\"__coeff_32",
         "dtype": "float64"
        },
        {
         "name": "bg_value__fft_coefficient__attr_\"imag\"__coeff_33",
         "dtype": "float64"
        },
        {
         "name": "bg_value__fft_coefficient__attr_\"imag\"__coeff_34",
         "dtype": "float64"
        },
        {
         "name": "bg_value__fft_coefficient__attr_\"imag\"__coeff_35",
         "dtype": "float64"
        },
        {
         "name": "bg_value__fft_coefficient__attr_\"imag\"__coeff_36",
         "dtype": "float64"
        },
        {
         "name": "bg_value__fft_coefficient__attr_\"imag\"__coeff_37",
         "dtype": "float64"
        },
        {
         "name": "bg_value__fft_coefficient__attr_\"imag\"__coeff_38",
         "dtype": "float64"
        },
        {
         "name": "bg_value__fft_coefficient__attr_\"imag\"__coeff_39",
         "dtype": "float64"
        },
        {
         "name": "bg_value__fft_coefficient__attr_\"imag\"__coeff_40",
         "dtype": "float64"
        },
        {
         "name": "bg_value__fft_coefficient__attr_\"imag\"__coeff_41",
         "dtype": "float64"
        },
        {
         "name": "bg_value__fft_coefficient__attr_\"imag\"__coeff_42",
         "dtype": "float64"
        },
        {
         "name": "bg_value__fft_coefficient__attr_\"imag\"__coeff_43",
         "dtype": "float64"
        },
        {
         "name": "bg_value__fft_coefficient__attr_\"imag\"__coeff_44",
         "dtype": "float64"
        },
        {
         "name": "bg_value__fft_coefficient__attr_\"imag\"__coeff_45",
         "dtype": "float64"
        },
        {
         "name": "bg_value__fft_coefficient__attr_\"imag\"__coeff_46",
         "dtype": "float64"
        },
        {
         "name": "bg_value__fft_coefficient__attr_\"imag\"__coeff_47",
         "dtype": "float64"
        },
        {
         "name": "bg_value__fft_coefficient__attr_\"imag\"__coeff_48",
         "dtype": "float64"
        },
        {
         "name": "bg_value__fft_coefficient__attr_\"imag\"__coeff_49",
         "dtype": "float64"
        },
        {
         "name": "bg_value__fft_coefficient__attr_\"imag\"__coeff_50",
         "dtype": "float64"
        },
        {
         "name": "bg_value__fft_coefficient__attr_\"imag\"__coeff_51",
         "dtype": "float64"
        },
        {
         "name": "bg_value__fft_coefficient__attr_\"imag\"__coeff_52",
         "dtype": "float64"
        },
        {
         "name": "bg_value__fft_coefficient__attr_\"imag\"__coeff_53",
         "dtype": "float64"
        },
        {
         "name": "bg_value__fft_coefficient__attr_\"imag\"__coeff_54",
         "dtype": "float64"
        },
        {
         "name": "bg_value__fft_coefficient__attr_\"imag\"__coeff_55",
         "dtype": "float64"
        },
        {
         "name": "bg_value__fft_coefficient__attr_\"imag\"__coeff_56",
         "dtype": "float64"
        },
        {
         "name": "bg_value__fft_coefficient__attr_\"imag\"__coeff_57",
         "dtype": "float64"
        },
        {
         "name": "bg_value__fft_coefficient__attr_\"imag\"__coeff_58",
         "dtype": "float64"
        },
        {
         "name": "bg_value__fft_coefficient__attr_\"imag\"__coeff_59",
         "dtype": "float64"
        },
        {
         "name": "bg_value__fft_coefficient__attr_\"imag\"__coeff_60",
         "dtype": "float64"
        },
        {
         "name": "bg_value__fft_coefficient__attr_\"imag\"__coeff_61",
         "dtype": "float64"
        },
        {
         "name": "bg_value__fft_coefficient__attr_\"imag\"__coeff_62",
         "dtype": "float64"
        },
        {
         "name": "bg_value__fft_coefficient__attr_\"imag\"__coeff_63",
         "dtype": "float64"
        },
        {
         "name": "bg_value__fft_coefficient__attr_\"imag\"__coeff_64",
         "dtype": "float64"
        },
        {
         "name": "bg_value__fft_coefficient__attr_\"imag\"__coeff_65",
         "dtype": "float64"
        },
        {
         "name": "bg_value__fft_coefficient__attr_\"imag\"__coeff_66",
         "dtype": "float64"
        },
        {
         "name": "bg_value__fft_coefficient__attr_\"imag\"__coeff_67",
         "dtype": "float64"
        },
        {
         "name": "bg_value__fft_coefficient__attr_\"imag\"__coeff_68",
         "dtype": "float64"
        },
        {
         "name": "bg_value__fft_coefficient__attr_\"imag\"__coeff_69",
         "dtype": "float64"
        },
        {
         "name": "bg_value__fft_coefficient__attr_\"imag\"__coeff_70",
         "dtype": "float64"
        },
        {
         "name": "bg_value__fft_coefficient__attr_\"imag\"__coeff_71",
         "dtype": "float64"
        },
        {
         "name": "bg_value__fft_coefficient__attr_\"imag\"__coeff_72",
         "dtype": "float64"
        },
        {
         "name": "bg_value__fft_coefficient__attr_\"imag\"__coeff_73",
         "dtype": "float64"
        },
        {
         "name": "bg_value__fft_coefficient__attr_\"imag\"__coeff_74",
         "dtype": "float64"
        },
        {
         "name": "bg_value__fft_coefficient__attr_\"imag\"__coeff_75",
         "dtype": "float64"
        },
        {
         "name": "bg_value__fft_coefficient__attr_\"imag\"__coeff_76",
         "dtype": "float64"
        },
        {
         "name": "bg_value__fft_coefficient__attr_\"imag\"__coeff_77",
         "dtype": "float64"
        },
        {
         "name": "bg_value__fft_coefficient__attr_\"imag\"__coeff_78",
         "dtype": "float64"
        },
        {
         "name": "bg_value__fft_coefficient__attr_\"imag\"__coeff_79",
         "dtype": "float64"
        },
        {
         "name": "bg_value__fft_coefficient__attr_\"imag\"__coeff_80",
         "dtype": "float64"
        },
        {
         "name": "bg_value__fft_coefficient__attr_\"imag\"__coeff_81",
         "dtype": "float64"
        },
        {
         "name": "bg_value__fft_coefficient__attr_\"imag\"__coeff_82",
         "dtype": "float64"
        },
        {
         "name": "bg_value__fft_coefficient__attr_\"imag\"__coeff_83",
         "dtype": "float64"
        },
        {
         "name": "bg_value__fft_coefficient__attr_\"imag\"__coeff_84",
         "dtype": "float64"
        },
        {
         "name": "bg_value__fft_coefficient__attr_\"imag\"__coeff_85",
         "dtype": "float64"
        },
        {
         "name": "bg_value__fft_coefficient__attr_\"imag\"__coeff_86",
         "dtype": "float64"
        },
        {
         "name": "bg_value__fft_coefficient__attr_\"imag\"__coeff_87",
         "dtype": "float64"
        },
        {
         "name": "bg_value__fft_coefficient__attr_\"imag\"__coeff_88",
         "dtype": "float64"
        },
        {
         "name": "bg_value__fft_coefficient__attr_\"imag\"__coeff_89",
         "dtype": "float64"
        },
        {
         "name": "bg_value__fft_coefficient__attr_\"imag\"__coeff_90",
         "dtype": "float64"
        },
        {
         "name": "bg_value__fft_coefficient__attr_\"imag\"__coeff_91",
         "dtype": "float64"
        },
        {
         "name": "bg_value__fft_coefficient__attr_\"imag\"__coeff_92",
         "dtype": "float64"
        },
        {
         "name": "bg_value__fft_coefficient__attr_\"imag\"__coeff_93",
         "dtype": "float64"
        },
        {
         "name": "bg_value__fft_coefficient__attr_\"imag\"__coeff_94",
         "dtype": "float64"
        },
        {
         "name": "bg_value__fft_coefficient__attr_\"imag\"__coeff_95",
         "dtype": "float64"
        },
        {
         "name": "bg_value__fft_coefficient__attr_\"imag\"__coeff_96",
         "dtype": "float64"
        },
        {
         "name": "bg_value__fft_coefficient__attr_\"imag\"__coeff_97",
         "dtype": "float64"
        },
        {
         "name": "bg_value__fft_coefficient__attr_\"imag\"__coeff_98",
         "dtype": "float64"
        },
        {
         "name": "bg_value__fft_coefficient__attr_\"imag\"__coeff_99",
         "dtype": "float64"
        },
        {
         "name": "bg_value__fft_coefficient__attr_\"abs\"__coeff_0",
         "dtype": "float64"
        },
        {
         "name": "bg_value__fft_coefficient__attr_\"abs\"__coeff_1",
         "dtype": "float64"
        },
        {
         "name": "bg_value__fft_coefficient__attr_\"abs\"__coeff_2",
         "dtype": "float64"
        },
        {
         "name": "bg_value__fft_coefficient__attr_\"abs\"__coeff_3",
         "dtype": "float64"
        },
        {
         "name": "bg_value__fft_coefficient__attr_\"abs\"__coeff_4",
         "dtype": "float64"
        },
        {
         "name": "bg_value__fft_coefficient__attr_\"abs\"__coeff_5",
         "dtype": "float64"
        },
        {
         "name": "bg_value__fft_coefficient__attr_\"abs\"__coeff_6",
         "dtype": "float64"
        },
        {
         "name": "bg_value__fft_coefficient__attr_\"abs\"__coeff_7",
         "dtype": "float64"
        },
        {
         "name": "bg_value__fft_coefficient__attr_\"abs\"__coeff_8",
         "dtype": "float64"
        },
        {
         "name": "bg_value__fft_coefficient__attr_\"abs\"__coeff_9",
         "dtype": "float64"
        },
        {
         "name": "bg_value__fft_coefficient__attr_\"abs\"__coeff_10",
         "dtype": "float64"
        },
        {
         "name": "bg_value__fft_coefficient__attr_\"abs\"__coeff_11",
         "dtype": "float64"
        },
        {
         "name": "bg_value__fft_coefficient__attr_\"abs\"__coeff_12",
         "dtype": "float64"
        },
        {
         "name": "bg_value__fft_coefficient__attr_\"abs\"__coeff_13",
         "dtype": "float64"
        },
        {
         "name": "bg_value__fft_coefficient__attr_\"abs\"__coeff_14",
         "dtype": "float64"
        },
        {
         "name": "bg_value__fft_coefficient__attr_\"abs\"__coeff_15",
         "dtype": "float64"
        },
        {
         "name": "bg_value__fft_coefficient__attr_\"abs\"__coeff_16",
         "dtype": "float64"
        },
        {
         "name": "bg_value__fft_coefficient__attr_\"abs\"__coeff_17",
         "dtype": "float64"
        },
        {
         "name": "bg_value__fft_coefficient__attr_\"abs\"__coeff_18",
         "dtype": "float64"
        },
        {
         "name": "bg_value__fft_coefficient__attr_\"abs\"__coeff_19",
         "dtype": "float64"
        },
        {
         "name": "bg_value__fft_coefficient__attr_\"abs\"__coeff_20",
         "dtype": "float64"
        },
        {
         "name": "bg_value__fft_coefficient__attr_\"abs\"__coeff_21",
         "dtype": "float64"
        },
        {
         "name": "bg_value__fft_coefficient__attr_\"abs\"__coeff_22",
         "dtype": "float64"
        },
        {
         "name": "bg_value__fft_coefficient__attr_\"abs\"__coeff_23",
         "dtype": "float64"
        },
        {
         "name": "bg_value__fft_coefficient__attr_\"abs\"__coeff_24",
         "dtype": "float64"
        },
        {
         "name": "bg_value__fft_coefficient__attr_\"abs\"__coeff_25",
         "dtype": "float64"
        },
        {
         "name": "bg_value__fft_coefficient__attr_\"abs\"__coeff_26",
         "dtype": "float64"
        },
        {
         "name": "bg_value__fft_coefficient__attr_\"abs\"__coeff_27",
         "dtype": "float64"
        },
        {
         "name": "bg_value__fft_coefficient__attr_\"abs\"__coeff_28",
         "dtype": "float64"
        },
        {
         "name": "bg_value__fft_coefficient__attr_\"abs\"__coeff_29",
         "dtype": "float64"
        },
        {
         "name": "bg_value__fft_coefficient__attr_\"abs\"__coeff_30",
         "dtype": "float64"
        },
        {
         "name": "bg_value__fft_coefficient__attr_\"abs\"__coeff_31",
         "dtype": "float64"
        },
        {
         "name": "bg_value__fft_coefficient__attr_\"abs\"__coeff_32",
         "dtype": "float64"
        },
        {
         "name": "bg_value__fft_coefficient__attr_\"abs\"__coeff_33",
         "dtype": "float64"
        },
        {
         "name": "bg_value__fft_coefficient__attr_\"abs\"__coeff_34",
         "dtype": "float64"
        },
        {
         "name": "bg_value__fft_coefficient__attr_\"abs\"__coeff_35",
         "dtype": "float64"
        },
        {
         "name": "_deepnote_index_column",
         "dtype": "int64"
        }
       ],
       "rows_top": [
        {
         "bg_value__variance_larger_than_standard_deviation": 1,
         "bg_value__has_duplicate_max": 0,
         "bg_value__has_duplicate_min": 0,
         "bg_value__has_duplicate": 0,
         "bg_value__sum_values": 662,
         "bg_value__abs_energy": 73694,
         "bg_value__mean_abs_change": 6.4,
         "bg_value__mean_change": 5.2,
         "bg_value__mean_second_derivative_central": 1.25,
         "bg_value__median": 108,
         "bg_value__mean": 110.33333333333333,
         "bg_value__length": 6,
         "bg_value__standard_deviation": 10.43498389499902,
         "bg_value__variation_coefficient": 0.09457689330814822,
         "bg_value__variance": 108.8888888888889,
         "bg_value__skewness": 0.521096806614317,
         "bg_value__kurtosis": -1.4025327988338168,
         "bg_value__root_mean_square": 110.82568895943456,
         "bg_value__absolute_sum_of_changes": 32,
         "bg_value__longest_strike_below_mean": 3,
         "bg_value__longest_strike_above_mean": 3,
         "bg_value__count_above_mean": 3,
         "bg_value__count_below_mean": 3,
         "bg_value__last_location_of_maximum": 1,
         "bg_value__first_location_of_maximum": 0.8333333333333334,
         "bg_value__last_location_of_minimum": 0.33333333333333337,
         "bg_value__first_location_of_minimum": 0.16666666666666666,
         "bg_value__percentage_of_reoccurring_values_to_all_values": 0,
         "bg_value__percentage_of_reoccurring_datapoints_to_all_datapoints": 0,
         "bg_value__sum_of_reoccurring_values": 0,
         "bg_value__sum_of_reoccurring_data_points": 0,
         "bg_value__ratio_value_number_to_time_series_length": 1,
         "bg_value__sample_entropy": "nan",
         "bg_value__maximum": 127,
         "bg_value__minimum": 98,
         "bg_value__benford_correlation": 0.8087054810756913,
         "bg_value__time_reversal_asymmetry_statistic__lag_1": 299409.5,
         "bg_value__time_reversal_asymmetry_statistic__lag_2": 583748,
         "bg_value__time_reversal_asymmetry_statistic__lag_3": 0,
         "bg_value__c3__lag_1": 1318884,
         "bg_value__c3__lag_2": 1327216,
         "bg_value__c3__lag_3": 0,
         "bg_value__cid_ce__normalize_True": 1.4278569641963725,
         "bg_value__cid_ce__normalize_False": 14.89966442575134,
         "bg_value__symmetry_looking__r_0.0": 0,
         "bg_value__symmetry_looking__r_0.05": 0,
         "bg_value__symmetry_looking__r_0.1": 1,
         "bg_value__symmetry_looking__r_0.15000000000000002": 1,
         "bg_value__symmetry_looking__r_0.2": 1,
         "bg_value__symmetry_looking__r_0.25": 1,
         "bg_value__symmetry_looking__r_0.30000000000000004": 1,
         "bg_value__symmetry_looking__r_0.35000000000000003": 1,
         "bg_value__symmetry_looking__r_0.4": 1,
         "bg_value__symmetry_looking__r_0.45": 1,
         "bg_value__symmetry_looking__r_0.5": 1,
         "bg_value__symmetry_looking__r_0.55": 1,
         "bg_value__symmetry_looking__r_0.6000000000000001": 1,
         "bg_value__symmetry_looking__r_0.65": 1,
         "bg_value__symmetry_looking__r_0.7000000000000001": 1,
         "bg_value__symmetry_looking__r_0.75": 1,
         "bg_value__symmetry_looking__r_0.8": 1,
         "bg_value__symmetry_looking__r_0.8500000000000001": 1,
         "bg_value__symmetry_looking__r_0.9": 1,
         "bg_value__symmetry_looking__r_0.9500000000000001": 1,
         "bg_value__large_standard_deviation__r_0.05": 1,
         "bg_value__large_standard_deviation__r_0.1": 1,
         "bg_value__large_standard_deviation__r_0.15000000000000002": 1,
         "bg_value__large_standard_deviation__r_0.2": 1,
         "bg_value__large_standard_deviation__r_0.25": 1,
         "bg_value__large_standard_deviation__r_0.30000000000000004": 1,
         "bg_value__large_standard_deviation__r_0.35000000000000003": 1,
         "bg_value__large_standard_deviation__r_0.4": 0,
         "bg_value__large_standard_deviation__r_0.45": 0,
         "bg_value__large_standard_deviation__r_0.5": 0,
         "bg_value__large_standard_deviation__r_0.55": 0,
         "bg_value__large_standard_deviation__r_0.6000000000000001": 0,
         "bg_value__large_standard_deviation__r_0.65": 0,
         "bg_value__large_standard_deviation__r_0.7000000000000001": 0,
         "bg_value__large_standard_deviation__r_0.75": 0,
         "bg_value__large_standard_deviation__r_0.8": 0,
         "bg_value__large_standard_deviation__r_0.8500000000000001": 0,
         "bg_value__large_standard_deviation__r_0.9": 0,
         "bg_value__large_standard_deviation__r_0.9500000000000001": 0,
         "bg_value__quantile__q_0.1": 99.5,
         "bg_value__quantile__q_0.2": 101,
         "bg_value__quantile__q_0.3": 102.5,
         "bg_value__quantile__q_0.4": 104,
         "bg_value__quantile__q_0.6": 112,
         "bg_value__quantile__q_0.7": 116,
         "bg_value__quantile__q_0.8": 120,
         "bg_value__quantile__q_0.9": 123.5,
         "bg_value__autocorrelation__lag_0": 1,
         "bg_value__autocorrelation__lag_1": 0.6610204081632653,
         "bg_value__autocorrelation__lag_2": 0.011734693877550962,
         "bg_value__autocorrelation__lag_3": -0.7357142857142857,
         "bg_value__autocorrelation__lag_4": -1.3581632653061222,
         "bg_value__autocorrelation__lag_5": -1.4285714285714282,
         "bg_value__autocorrelation__lag_6": "nan",
         "bg_value__autocorrelation__lag_7": "nan",
         "bg_value__autocorrelation__lag_8": "nan",
         "bg_value__autocorrelation__lag_9": "nan",
         "bg_value__agg_autocorrelation__f_agg_\"mean\"__maxlag_40": -0.5699387755102039,
         "bg_value__agg_autocorrelation__f_agg_\"median\"__maxlag_40": -0.7357142857142857,
         "bg_value__agg_autocorrelation__f_agg_\"var\"__maxlag_40": 0.6479267871720115,
         "bg_value__partial_autocorrelation__lag_0": 1,
         "bg_value__partial_autocorrelation__lag_1": 0.6610204081632652,
         "bg_value__partial_autocorrelation__lag_2": -0.7551936073989564,
         "bg_value__partial_autocorrelation__lag_3": "nan",
         "bg_value__partial_autocorrelation__lag_4": "nan",
         "bg_value__partial_autocorrelation__lag_5": "nan",
         "bg_value__partial_autocorrelation__lag_6": "nan",
         "bg_value__partial_autocorrelation__lag_7": "nan",
         "bg_value__partial_autocorrelation__lag_8": "nan",
         "bg_value__partial_autocorrelation__lag_9": "nan",
         "bg_value__number_cwt_peaks__n_1": 1,
         "bg_value__number_cwt_peaks__n_5": 1,
         "bg_value__number_peaks__n_1": 0,
         "bg_value__number_peaks__n_3": 0,
         "bg_value__number_peaks__n_5": 0,
         "bg_value__number_peaks__n_10": 0,
         "bg_value__number_peaks__n_50": 0,
         "bg_value__binned_entropy__max_bins_10": 1.791759469228055,
         "bg_value__index_mass_quantile__q_0.1": 0.16666666666666666,
         "bg_value__index_mass_quantile__q_0.2": 0.3333333333333333,
         "bg_value__index_mass_quantile__q_0.3": 0.3333333333333333,
         "bg_value__index_mass_quantile__q_0.4": 0.5,
         "bg_value__index_mass_quantile__q_0.6": 0.6666666666666666,
         "bg_value__index_mass_quantile__q_0.7": 0.8333333333333334,
         "bg_value__index_mass_quantile__q_0.8": 0.8333333333333334,
         "bg_value__index_mass_quantile__q_0.9": 1,
         "bg_value__cwt_coefficients__coeff_0__w_2__widths_(2, 5, 10, 20)": 59.70684584961003,
         "bg_value__cwt_coefficients__coeff_0__w_5__widths_(2, 5, 10, 20)": 98.35924113798261,
         "bg_value__cwt_coefficients__coeff_0__w_10__widths_(2, 5, 10, 20)": 79.49650910477614,
         "bg_value__cwt_coefficients__coeff_0__w_20__widths_(2, 5, 10, 20)": 58.11574459646398,
         "bg_value__cwt_coefficients__coeff_1__w_2__widths_(2, 5, 10, 20)": 114.27108296625073,
         "bg_value__cwt_coefficients__coeff_1__w_5__widths_(2, 5, 10, 20)": 139.8820735847361,
         "bg_value__cwt_coefficients__coeff_1__w_10__widths_(2, 5, 10, 20)": 109.85886632742398,
         "bg_value__cwt_coefficients__coeff_1__w_20__widths_(2, 5, 10, 20)": 79.77326351503352,
         "bg_value__cwt_coefficients__coeff_2__w_2__widths_(2, 5, 10, 20)": 136.75565457028242,
         "bg_value__cwt_coefficients__coeff_2__w_5__widths_(2, 5, 10, 20)": 179.86297627913282,
         "bg_value__cwt_coefficients__coeff_2__w_10__widths_(2, 5, 10, 20)": 141.56846223632203,
         "bg_value__cwt_coefficients__coeff_2__w_20__widths_(2, 5, 10, 20)": 102.83141767078747,
         "bg_value__cwt_coefficients__coeff_3__w_2__widths_(2, 5, 10, 20)": 128.51241728302782,
         "bg_value__cwt_coefficients__coeff_3__w_5__widths_(2, 5, 10, 20)": 214.62587170798665,
         "bg_value__cwt_coefficients__coeff_3__w_10__widths_(2, 5, 10, 20)": 173.63507138110222,
         "bg_value__cwt_coefficients__coeff_3__w_20__widths_(2, 5, 10, 20)": 126.96333679275965,
         "bg_value__cwt_coefficients__coeff_4__w_2__widths_(2, 5, 10, 20)": 160.59412993307532,
         "bg_value__cwt_coefficients__coeff_4__w_5__widths_(2, 5, 10, 20)": 191.7514501753613,
         "bg_value__cwt_coefficients__coeff_4__w_10__widths_(2, 5, 10, 20)": 149.05481905311706,
         "bg_value__cwt_coefficients__coeff_4__w_20__widths_(2, 5, 10, 20)": 107.9383647213125,
         "bg_value__cwt_coefficients__coeff_5__w_2__widths_(2, 5, 10, 20)": 143.90390508670396,
         "bg_value__cwt_coefficients__coeff_5__w_5__widths_(2, 5, 10, 20)": 158.86787571389908,
         "bg_value__cwt_coefficients__coeff_5__w_10__widths_(2, 5, 10, 20)": 123.10167942159997,
         "bg_value__cwt_coefficients__coeff_5__w_20__widths_(2, 5, 10, 20)": 89.09671554956316,
         "bg_value__cwt_coefficients__coeff_6__w_2__widths_(2, 5, 10, 20)": "nan",
         "bg_value__cwt_coefficients__coeff_6__w_5__widths_(2, 5, 10, 20)": "nan",
         "bg_value__cwt_coefficients__coeff_6__w_10__widths_(2, 5, 10, 20)": "nan",
         "bg_value__cwt_coefficients__coeff_6__w_20__widths_(2, 5, 10, 20)": "nan",
         "bg_value__cwt_coefficients__coeff_7__w_2__widths_(2, 5, 10, 20)": "nan",
         "bg_value__cwt_coefficients__coeff_7__w_5__widths_(2, 5, 10, 20)": "nan",
         "bg_value__cwt_coefficients__coeff_7__w_10__widths_(2, 5, 10, 20)": "nan",
         "bg_value__cwt_coefficients__coeff_7__w_20__widths_(2, 5, 10, 20)": "nan",
         "bg_value__cwt_coefficients__coeff_8__w_2__widths_(2, 5, 10, 20)": "nan",
         "bg_value__cwt_coefficients__coeff_8__w_5__widths_(2, 5, 10, 20)": "nan",
         "bg_value__cwt_coefficients__coeff_8__w_10__widths_(2, 5, 10, 20)": "nan",
         "bg_value__cwt_coefficients__coeff_8__w_20__widths_(2, 5, 10, 20)": "nan",
         "bg_value__cwt_coefficients__coeff_9__w_2__widths_(2, 5, 10, 20)": "nan",
         "bg_value__cwt_coefficients__coeff_9__w_5__widths_(2, 5, 10, 20)": "nan",
         "bg_value__cwt_coefficients__coeff_9__w_10__widths_(2, 5, 10, 20)": "nan",
         "bg_value__cwt_coefficients__coeff_9__w_20__widths_(2, 5, 10, 20)": "nan",
         "bg_value__cwt_coefficients__coeff_10__w_2__widths_(2, 5, 10, 20)": "nan",
         "bg_value__cwt_coefficients__coeff_10__w_5__widths_(2, 5, 10, 20)": "nan",
         "bg_value__cwt_coefficients__coeff_10__w_10__widths_(2, 5, 10, 20)": "nan",
         "bg_value__cwt_coefficients__coeff_10__w_20__widths_(2, 5, 10, 20)": "nan",
         "bg_value__cwt_coefficients__coeff_11__w_2__widths_(2, 5, 10, 20)": "nan",
         "bg_value__cwt_coefficients__coeff_11__w_5__widths_(2, 5, 10, 20)": "nan",
         "bg_value__cwt_coefficients__coeff_11__w_10__widths_(2, 5, 10, 20)": "nan",
         "bg_value__cwt_coefficients__coeff_11__w_20__widths_(2, 5, 10, 20)": "nan",
         "bg_value__cwt_coefficients__coeff_12__w_2__widths_(2, 5, 10, 20)": "nan",
         "bg_value__cwt_coefficients__coeff_12__w_5__widths_(2, 5, 10, 20)": "nan",
         "bg_value__cwt_coefficients__coeff_12__w_10__widths_(2, 5, 10, 20)": "nan",
         "bg_value__cwt_coefficients__coeff_12__w_20__widths_(2, 5, 10, 20)": "nan",
         "bg_value__cwt_coefficients__coeff_13__w_2__widths_(2, 5, 10, 20)": "nan",
         "bg_value__cwt_coefficients__coeff_13__w_5__widths_(2, 5, 10, 20)": "nan",
         "bg_value__cwt_coefficients__coeff_13__w_10__widths_(2, 5, 10, 20)": "nan",
         "bg_value__cwt_coefficients__coeff_13__w_20__widths_(2, 5, 10, 20)": "nan",
         "bg_value__cwt_coefficients__coeff_14__w_2__widths_(2, 5, 10, 20)": "nan",
         "bg_value__cwt_coefficients__coeff_14__w_5__widths_(2, 5, 10, 20)": "nan",
         "bg_value__cwt_coefficients__coeff_14__w_10__widths_(2, 5, 10, 20)": "nan",
         "bg_value__cwt_coefficients__coeff_14__w_20__widths_(2, 5, 10, 20)": "nan",
         "bg_value__spkt_welch_density__coeff_2": 15.05555555555553,
         "bg_value__spkt_welch_density__coeff_5": "nan",
         "bg_value__spkt_welch_density__coeff_8": "nan",
         "bg_value__ar_coefficient__coeff_0__k_10": "nan",
         "bg_value__ar_coefficient__coeff_1__k_10": "nan",
         "bg_value__ar_coefficient__coeff_2__k_10": "nan",
         "bg_value__ar_coefficient__coeff_3__k_10": "nan",
         "bg_value__ar_coefficient__coeff_4__k_10": "nan",
         "bg_value__ar_coefficient__coeff_5__k_10": "nan",
         "bg_value__ar_coefficient__coeff_6__k_10": "nan",
         "bg_value__ar_coefficient__coeff_7__k_10": "nan",
         "bg_value__ar_coefficient__coeff_8__k_10": "nan",
         "bg_value__ar_coefficient__coeff_9__k_10": "nan",
         "bg_value__ar_coefficient__coeff_10__k_10": 0,
         "bg_value__change_quantiles__f_agg_\"mean\"__isabs_False__qh_0.2__ql_0.0": -3,
         "bg_value__change_quantiles__f_agg_\"var\"__isabs_False__qh_0.2__ql_0.0": 0,
         "bg_value__change_quantiles__f_agg_\"mean\"__isabs_True__qh_0.2__ql_0.0": 3,
         "bg_value__change_quantiles__f_agg_\"var\"__isabs_True__qh_0.2__ql_0.0": 0,
         "bg_value__change_quantiles__f_agg_\"mean\"__isabs_False__qh_0.4__ql_0.0": 1.5,
         "bg_value__change_quantiles__f_agg_\"var\"__isabs_False__qh_0.4__ql_0.0": 20.25,
         "bg_value__change_quantiles__f_agg_\"mean\"__isabs_True__qh_0.4__ql_0.0": 4.5,
         "bg_value__change_quantiles__f_agg_\"var\"__isabs_True__qh_0.4__ql_0.0": 2.25,
         "bg_value__change_quantiles__f_agg_\"mean\"__isabs_False__qh_0.6__ql_0.0": 3.6666666666666665,
         "bg_value__change_quantiles__f_agg_\"var\"__isabs_False__qh_0.6__ql_0.0": 22.888888888888886,
         "bg_value__change_quantiles__f_agg_\"mean\"__isabs_True__qh_0.6__ql_0.0": 5.666666666666667,
         "bg_value__change_quantiles__f_agg_\"var\"__isabs_True__qh_0.6__ql_0.0": 4.222222222222222,
         "bg_value__change_quantiles__f_agg_\"mean\"__isabs_False__qh_0.8__ql_0.0": 4.75,
         "bg_value__change_quantiles__f_agg_\"var\"__isabs_False__qh_0.8__ql_0.0": 20.6875,
         "bg_value__change_quantiles__f_agg_\"mean\"__isabs_True__qh_0.8__ql_0.0": 6.25,
         "bg_value__change_quantiles__f_agg_\"var\"__isabs_True__qh_0.8__ql_0.0": 4.1875,
         "bg_value__change_quantiles__f_agg_\"mean\"__isabs_False__qh_1.0__ql_0.0": 5.2,
         "bg_value__change_quantiles__f_agg_\"var\"__isabs_False__qh_1.0__ql_0.0": 17.36,
         "bg_value__change_quantiles__f_agg_\"mean\"__isabs_True__qh_1.0__ql_0.0": 6.4,
         "bg_value__change_quantiles__f_agg_\"var\"__isabs_True__qh_1.0__ql_0.0": 3.44,
         "bg_value__change_quantiles__f_agg_\"mean\"__isabs_False__qh_0.4__ql_0.2": 0,
         "bg_value__change_quantiles__f_agg_\"var\"__isabs_False__qh_0.4__ql_0.2": 0,
         "bg_value__change_quantiles__f_agg_\"mean\"__isabs_True__qh_0.4__ql_0.2": 0,
         "bg_value__change_quantiles__f_agg_\"var\"__isabs_True__qh_0.4__ql_0.2": 0,
         "bg_value__change_quantiles__f_agg_\"mean\"__isabs_False__qh_0.6__ql_0.2": 8,
         "bg_value__change_quantiles__f_agg_\"var\"__isabs_False__qh_0.6__ql_0.2": 0,
         "bg_value__change_quantiles__f_agg_\"mean\"__isabs_True__qh_0.6__ql_0.2": 8,
         "bg_value__change_quantiles__f_agg_\"var\"__isabs_True__qh_0.6__ql_0.2": 0,
         "bg_value__change_quantiles__f_agg_\"mean\"__isabs_False__qh_0.8__ql_0.2": 8,
         "bg_value__change_quantiles__f_agg_\"var\"__isabs_False__qh_0.8__ql_0.2": 0,
         "bg_value__change_quantiles__f_agg_\"mean\"__isabs_True__qh_0.8__ql_0.2": 8,
         "bg_value__change_quantiles__f_agg_\"var\"__isabs_True__qh_0.8__ql_0.2": 0,
         "bg_value__change_quantiles__f_agg_\"mean\"__isabs_False__qh_1.0__ql_0.2": 7.666666666666667,
         "bg_value__change_quantiles__f_agg_\"var\"__isabs_False__qh_1.0__ql_0.2": 0.22222222222222224,
         "bg_value__change_quantiles__f_agg_\"mean\"__isabs_True__qh_1.0__ql_0.2": 7.666666666666667,
         "bg_value__change_quantiles__f_agg_\"var\"__isabs_True__qh_1.0__ql_0.2": 0.22222222222222224,
         "bg_value__change_quantiles__f_agg_\"mean\"__isabs_False__qh_0.6__ql_0.4": 8,
         "bg_value__change_quantiles__f_agg_\"var\"__isabs_False__qh_0.6__ql_0.4": 0,
         "bg_value__change_quantiles__f_agg_\"mean\"__isabs_True__qh_0.6__ql_0.4": 8,
         "bg_value__change_quantiles__f_agg_\"var\"__isabs_True__qh_0.6__ql_0.4": 0,
         "bg_value__change_quantiles__f_agg_\"mean\"__isabs_False__qh_0.8__ql_0.4": 8,
         "bg_value__change_quantiles__f_agg_\"var\"__isabs_False__qh_0.8__ql_0.4": 0,
         "bg_value__change_quantiles__f_agg_\"mean\"__isabs_True__qh_0.8__ql_0.4": 8,
         "bg_value__change_quantiles__f_agg_\"var\"__isabs_True__qh_0.8__ql_0.4": 0,
         "bg_value__change_quantiles__f_agg_\"mean\"__isabs_False__qh_1.0__ql_0.4": 7.666666666666667,
         "bg_value__change_quantiles__f_agg_\"var\"__isabs_False__qh_1.0__ql_0.4": 0.22222222222222224,
         "bg_value__change_quantiles__f_agg_\"mean\"__isabs_True__qh_1.0__ql_0.4": 7.666666666666667,
         "bg_value__change_quantiles__f_agg_\"var\"__isabs_True__qh_1.0__ql_0.4": 0.22222222222222224,
         "bg_value__change_quantiles__f_agg_\"mean\"__isabs_False__qh_0.8__ql_0.6": 8,
         "bg_value__change_quantiles__f_agg_\"var\"__isabs_False__qh_0.8__ql_0.6": 0,
         "bg_value__change_quantiles__f_agg_\"mean\"__isabs_True__qh_0.8__ql_0.6": 8,
         "bg_value__change_quantiles__f_agg_\"var\"__isabs_True__qh_0.8__ql_0.6": 0,
         "bg_value__change_quantiles__f_agg_\"mean\"__isabs_False__qh_1.0__ql_0.6": 7.5,
         "bg_value__change_quantiles__f_agg_\"var\"__isabs_False__qh_1.0__ql_0.6": 0.25,
         "bg_value__change_quantiles__f_agg_\"mean\"__isabs_True__qh_1.0__ql_0.6": 7.5,
         "bg_value__change_quantiles__f_agg_\"var\"__isabs_True__qh_1.0__ql_0.6": 0.25,
         "bg_value__change_quantiles__f_agg_\"mean\"__isabs_False__qh_1.0__ql_0.8": 7,
         "bg_value__change_quantiles__f_agg_\"var\"__isabs_False__qh_1.0__ql_0.8": 0,
         "bg_value__change_quantiles__f_agg_\"mean\"__isabs_True__qh_1.0__ql_0.8": 7,
         "bg_value__change_quantiles__f_agg_\"var\"__isabs_True__qh_1.0__ql_0.8": 0,
         "bg_value__fft_coefficient__attr_\"real\"__coeff_0": 662,
         "bg_value__fft_coefficient__attr_\"real\"__coeff_1": -10.5,
         "bg_value__fft_coefficient__attr_\"real\"__coeff_2": -11.5,
         "bg_value__fft_coefficient__attr_\"real\"__coeff_3": -12,
         "bg_value__fft_coefficient__attr_\"real\"__coeff_4": "nan",
         "bg_value__fft_coefficient__attr_\"real\"__coeff_5": "nan",
         "bg_value__fft_coefficient__attr_\"real\"__coeff_6": "nan",
         "bg_value__fft_coefficient__attr_\"real\"__coeff_7": "nan",
         "bg_value__fft_coefficient__attr_\"real\"__coeff_8": "nan",
         "bg_value__fft_coefficient__attr_\"real\"__coeff_9": "nan",
         "bg_value__fft_coefficient__attr_\"real\"__coeff_10": "nan",
         "bg_value__fft_coefficient__attr_\"real\"__coeff_11": "nan",
         "bg_value__fft_coefficient__attr_\"real\"__coeff_12": "nan",
         "bg_value__fft_coefficient__attr_\"real\"__coeff_13": "nan",
         "bg_value__fft_coefficient__attr_\"real\"__coeff_14": "nan",
         "bg_value__fft_coefficient__attr_\"real\"__coeff_15": "nan",
         "bg_value__fft_coefficient__attr_\"real\"__coeff_16": "nan",
         "bg_value__fft_coefficient__attr_\"real\"__coeff_17": "nan",
         "bg_value__fft_coefficient__attr_\"real\"__coeff_18": "nan",
         "bg_value__fft_coefficient__attr_\"real\"__coeff_19": "nan",
         "bg_value__fft_coefficient__attr_\"real\"__coeff_20": "nan",
         "bg_value__fft_coefficient__attr_\"real\"__coeff_21": "nan",
         "bg_value__fft_coefficient__attr_\"real\"__coeff_22": "nan",
         "bg_value__fft_coefficient__attr_\"real\"__coeff_23": "nan",
         "bg_value__fft_coefficient__attr_\"real\"__coeff_24": "nan",
         "bg_value__fft_coefficient__attr_\"real\"__coeff_25": "nan",
         "bg_value__fft_coefficient__attr_\"real\"__coeff_26": "nan",
         "bg_value__fft_coefficient__attr_\"real\"__coeff_27": "nan",
         "bg_value__fft_coefficient__attr_\"real\"__coeff_28": "nan",
         "bg_value__fft_coefficient__attr_\"real\"__coeff_29": "nan",
         "bg_value__fft_coefficient__attr_\"real\"__coeff_30": "nan",
         "bg_value__fft_coefficient__attr_\"real\"__coeff_31": "nan",
         "bg_value__fft_coefficient__attr_\"real\"__coeff_32": "nan",
         "bg_value__fft_coefficient__attr_\"real\"__coeff_33": "nan",
         "bg_value__fft_coefficient__attr_\"real\"__coeff_34": "nan",
         "bg_value__fft_coefficient__attr_\"real\"__coeff_35": "nan",
         "bg_value__fft_coefficient__attr_\"real\"__coeff_36": "nan",
         "bg_value__fft_coefficient__attr_\"real\"__coeff_37": "nan",
         "bg_value__fft_coefficient__attr_\"real\"__coeff_38": "nan",
         "bg_value__fft_coefficient__attr_\"real\"__coeff_39": "nan",
         "bg_value__fft_coefficient__attr_\"real\"__coeff_40": "nan",
         "bg_value__fft_coefficient__attr_\"real\"__coeff_41": "nan",
         "bg_value__fft_coefficient__attr_\"real\"__coeff_42": "nan",
         "bg_value__fft_coefficient__attr_\"real\"__coeff_43": "nan",
         "bg_value__fft_coefficient__attr_\"real\"__coeff_44": "nan",
         "bg_value__fft_coefficient__attr_\"real\"__coeff_45": "nan",
         "bg_value__fft_coefficient__attr_\"real\"__coeff_46": "nan",
         "bg_value__fft_coefficient__attr_\"real\"__coeff_47": "nan",
         "bg_value__fft_coefficient__attr_\"real\"__coeff_48": "nan",
         "bg_value__fft_coefficient__attr_\"real\"__coeff_49": "nan",
         "bg_value__fft_coefficient__attr_\"real\"__coeff_50": "nan",
         "bg_value__fft_coefficient__attr_\"real\"__coeff_51": "nan",
         "bg_value__fft_coefficient__attr_\"real\"__coeff_52": "nan",
         "bg_value__fft_coefficient__attr_\"real\"__coeff_53": "nan",
         "bg_value__fft_coefficient__attr_\"real\"__coeff_54": "nan",
         "bg_value__fft_coefficient__attr_\"real\"__coeff_55": "nan",
         "bg_value__fft_coefficient__attr_\"real\"__coeff_56": "nan",
         "bg_value__fft_coefficient__attr_\"real\"__coeff_57": "nan",
         "bg_value__fft_coefficient__attr_\"real\"__coeff_58": "nan",
         "bg_value__fft_coefficient__attr_\"real\"__coeff_59": "nan",
         "bg_value__fft_coefficient__attr_\"real\"__coeff_60": "nan",
         "bg_value__fft_coefficient__attr_\"real\"__coeff_61": "nan",
         "bg_value__fft_coefficient__attr_\"real\"__coeff_62": "nan",
         "bg_value__fft_coefficient__attr_\"real\"__coeff_63": "nan",
         "bg_value__fft_coefficient__attr_\"real\"__coeff_64": "nan",
         "bg_value__fft_coefficient__attr_\"real\"__coeff_65": "nan",
         "bg_value__fft_coefficient__attr_\"real\"__coeff_66": "nan",
         "bg_value__fft_coefficient__attr_\"real\"__coeff_67": "nan",
         "bg_value__fft_coefficient__attr_\"real\"__coeff_68": "nan",
         "bg_value__fft_coefficient__attr_\"real\"__coeff_69": "nan",
         "bg_value__fft_coefficient__attr_\"real\"__coeff_70": "nan",
         "bg_value__fft_coefficient__attr_\"real\"__coeff_71": "nan",
         "bg_value__fft_coefficient__attr_\"real\"__coeff_72": "nan",
         "bg_value__fft_coefficient__attr_\"real\"__coeff_73": "nan",
         "bg_value__fft_coefficient__attr_\"real\"__coeff_74": "nan",
         "bg_value__fft_coefficient__attr_\"real\"__coeff_75": "nan",
         "bg_value__fft_coefficient__attr_\"real\"__coeff_76": "nan",
         "bg_value__fft_coefficient__attr_\"real\"__coeff_77": "nan",
         "bg_value__fft_coefficient__attr_\"real\"__coeff_78": "nan",
         "bg_value__fft_coefficient__attr_\"real\"__coeff_79": "nan",
         "bg_value__fft_coefficient__attr_\"real\"__coeff_80": "nan",
         "bg_value__fft_coefficient__attr_\"real\"__coeff_81": "nan",
         "bg_value__fft_coefficient__attr_\"real\"__coeff_82": "nan",
         "bg_value__fft_coefficient__attr_\"real\"__coeff_83": "nan",
         "bg_value__fft_coefficient__attr_\"real\"__coeff_84": "nan",
         "bg_value__fft_coefficient__attr_\"real\"__coeff_85": "nan",
         "bg_value__fft_coefficient__attr_\"real\"__coeff_86": "nan",
         "bg_value__fft_coefficient__attr_\"real\"__coeff_87": "nan",
         "bg_value__fft_coefficient__attr_\"real\"__coeff_88": "nan",
         "bg_value__fft_coefficient__attr_\"real\"__coeff_89": "nan",
         "bg_value__fft_coefficient__attr_\"real\"__coeff_90": "nan",
         "bg_value__fft_coefficient__attr_\"real\"__coeff_91": "nan",
         "bg_value__fft_coefficient__attr_\"real\"__coeff_92": "nan",
         "bg_value__fft_coefficient__attr_\"real\"__coeff_93": "nan",
         "bg_value__fft_coefficient__attr_\"real\"__coeff_94": "nan",
         "bg_value__fft_coefficient__attr_\"real\"__coeff_95": "nan",
         "bg_value__fft_coefficient__attr_\"real\"__coeff_96": "nan",
         "bg_value__fft_coefficient__attr_\"real\"__coeff_97": "nan",
         "bg_value__fft_coefficient__attr_\"real\"__coeff_98": "nan",
         "bg_value__fft_coefficient__attr_\"real\"__coeff_99": "nan",
         "bg_value__fft_coefficient__attr_\"imag\"__coeff_0": 0,
         "bg_value__fft_coefficient__attr_\"imag\"__coeff_1": 38.97114317029974,
         "bg_value__fft_coefficient__attr_\"imag\"__coeff_2": 11.258330249197702,
         "bg_value__fft_coefficient__attr_\"imag\"__coeff_3": 0,
         "bg_value__fft_coefficient__attr_\"imag\"__coeff_4": "nan",
         "bg_value__fft_coefficient__attr_\"imag\"__coeff_5": "nan",
         "bg_value__fft_coefficient__attr_\"imag\"__coeff_6": "nan",
         "bg_value__fft_coefficient__attr_\"imag\"__coeff_7": "nan",
         "bg_value__fft_coefficient__attr_\"imag\"__coeff_8": "nan",
         "bg_value__fft_coefficient__attr_\"imag\"__coeff_9": "nan",
         "bg_value__fft_coefficient__attr_\"imag\"__coeff_10": "nan",
         "bg_value__fft_coefficient__attr_\"imag\"__coeff_11": "nan",
         "bg_value__fft_coefficient__attr_\"imag\"__coeff_12": "nan",
         "bg_value__fft_coefficient__attr_\"imag\"__coeff_13": "nan",
         "bg_value__fft_coefficient__attr_\"imag\"__coeff_14": "nan",
         "bg_value__fft_coefficient__attr_\"imag\"__coeff_15": "nan",
         "bg_value__fft_coefficient__attr_\"imag\"__coeff_16": "nan",
         "bg_value__fft_coefficient__attr_\"imag\"__coeff_17": "nan",
         "bg_value__fft_coefficient__attr_\"imag\"__coeff_18": "nan",
         "bg_value__fft_coefficient__attr_\"imag\"__coeff_19": "nan",
         "bg_value__fft_coefficient__attr_\"imag\"__coeff_20": "nan",
         "bg_value__fft_coefficient__attr_\"imag\"__coeff_21": "nan",
         "bg_value__fft_coefficient__attr_\"imag\"__coeff_22": "nan",
         "bg_value__fft_coefficient__attr_\"imag\"__coeff_23": "nan",
         "bg_value__fft_coefficient__attr_\"imag\"__coeff_24": "nan",
         "bg_value__fft_coefficient__attr_\"imag\"__coeff_25": "nan",
         "bg_value__fft_coefficient__attr_\"imag\"__coeff_26": "nan",
         "bg_value__fft_coefficient__attr_\"imag\"__coeff_27": "nan",
         "bg_value__fft_coefficient__attr_\"imag\"__coeff_28": "nan",
         "bg_value__fft_coefficient__attr_\"imag\"__coeff_29": "nan",
         "bg_value__fft_coefficient__attr_\"imag\"__coeff_30": "nan",
         "bg_value__fft_coefficient__attr_\"imag\"__coeff_31": "nan",
         "bg_value__fft_coefficient__attr_\"imag\"__coeff_32": "nan",
         "bg_value__fft_coefficient__attr_\"imag\"__coeff_33": "nan",
         "bg_value__fft_coefficient__attr_\"imag\"__coeff_34": "nan",
         "bg_value__fft_coefficient__attr_\"imag\"__coeff_35": "nan",
         "bg_value__fft_coefficient__attr_\"imag\"__coeff_36": "nan",
         "bg_value__fft_coefficient__attr_\"imag\"__coeff_37": "nan",
         "bg_value__fft_coefficient__attr_\"imag\"__coeff_38": "nan",
         "bg_value__fft_coefficient__attr_\"imag\"__coeff_39": "nan",
         "bg_value__fft_coefficient__attr_\"imag\"__coeff_40": "nan",
         "bg_value__fft_coefficient__attr_\"imag\"__coeff_41": "nan",
         "bg_value__fft_coefficient__attr_\"imag\"__coeff_42": "nan",
         "bg_value__fft_coefficient__attr_\"imag\"__coeff_43": "nan",
         "bg_value__fft_coefficient__attr_\"imag\"__coeff_44": "nan",
         "bg_value__fft_coefficient__attr_\"imag\"__coeff_45": "nan",
         "bg_value__fft_coefficient__attr_\"imag\"__coeff_46": "nan",
         "bg_value__fft_coefficient__attr_\"imag\"__coeff_47": "nan",
         "bg_value__fft_coefficient__attr_\"imag\"__coeff_48": "nan",
         "bg_value__fft_coefficient__attr_\"imag\"__coeff_49": "nan",
         "bg_value__fft_coefficient__attr_\"imag\"__coeff_50": "nan",
         "bg_value__fft_coefficient__attr_\"imag\"__coeff_51": "nan",
         "bg_value__fft_coefficient__attr_\"imag\"__coeff_52": "nan",
         "bg_value__fft_coefficient__attr_\"imag\"__coeff_53": "nan",
         "bg_value__fft_coefficient__attr_\"imag\"__coeff_54": "nan",
         "bg_value__fft_coefficient__attr_\"imag\"__coeff_55": "nan",
         "bg_value__fft_coefficient__attr_\"imag\"__coeff_56": "nan",
         "bg_value__fft_coefficient__attr_\"imag\"__coeff_57": "nan",
         "bg_value__fft_coefficient__attr_\"imag\"__coeff_58": "nan",
         "bg_value__fft_coefficient__attr_\"imag\"__coeff_59": "nan",
         "bg_value__fft_coefficient__attr_\"imag\"__coeff_60": "nan",
         "bg_value__fft_coefficient__attr_\"imag\"__coeff_61": "nan",
         "bg_value__fft_coefficient__attr_\"imag\"__coeff_62": "nan",
         "bg_value__fft_coefficient__attr_\"imag\"__coeff_63": "nan",
         "bg_value__fft_coefficient__attr_\"imag\"__coeff_64": "nan",
         "bg_value__fft_coefficient__attr_\"imag\"__coeff_65": "nan",
         "bg_value__fft_coefficient__attr_\"imag\"__coeff_66": "nan",
         "bg_value__fft_coefficient__attr_\"imag\"__coeff_67": "nan",
         "bg_value__fft_coefficient__attr_\"imag\"__coeff_68": "nan",
         "bg_value__fft_coefficient__attr_\"imag\"__coeff_69": "nan",
         "bg_value__fft_coefficient__attr_\"imag\"__coeff_70": "nan",
         "bg_value__fft_coefficient__attr_\"imag\"__coeff_71": "nan",
         "bg_value__fft_coefficient__attr_\"imag\"__coeff_72": "nan",
         "bg_value__fft_coefficient__attr_\"imag\"__coeff_73": "nan",
         "bg_value__fft_coefficient__attr_\"imag\"__coeff_74": "nan",
         "bg_value__fft_coefficient__attr_\"imag\"__coeff_75": "nan",
         "bg_value__fft_coefficient__attr_\"imag\"__coeff_76": "nan",
         "bg_value__fft_coefficient__attr_\"imag\"__coeff_77": "nan",
         "bg_value__fft_coefficient__attr_\"imag\"__coeff_78": "nan",
         "bg_value__fft_coefficient__attr_\"imag\"__coeff_79": "nan",
         "bg_value__fft_coefficient__attr_\"imag\"__coeff_80": "nan",
         "bg_value__fft_coefficient__attr_\"imag\"__coeff_81": "nan",
         "bg_value__fft_coefficient__attr_\"imag\"__coeff_82": "nan",
         "bg_value__fft_coefficient__attr_\"imag\"__coeff_83": "nan",
         "bg_value__fft_coefficient__attr_\"imag\"__coeff_84": "nan",
         "bg_value__fft_coefficient__attr_\"imag\"__coeff_85": "nan",
         "bg_value__fft_coefficient__attr_\"imag\"__coeff_86": "nan",
         "bg_value__fft_coefficient__attr_\"imag\"__coeff_87": "nan",
         "bg_value__fft_coefficient__attr_\"imag\"__coeff_88": "nan",
         "bg_value__fft_coefficient__attr_\"imag\"__coeff_89": "nan",
         "bg_value__fft_coefficient__attr_\"imag\"__coeff_90": "nan",
         "bg_value__fft_coefficient__attr_\"imag\"__coeff_91": "nan",
         "bg_value__fft_coefficient__attr_\"imag\"__coeff_92": "nan",
         "bg_value__fft_coefficient__attr_\"imag\"__coeff_93": "nan",
         "bg_value__fft_coefficient__attr_\"imag\"__coeff_94": "nan",
         "bg_value__fft_coefficient__attr_\"imag\"__coeff_95": "nan",
         "bg_value__fft_coefficient__attr_\"imag\"__coeff_96": "nan",
         "bg_value__fft_coefficient__attr_\"imag\"__coeff_97": "nan",
         "bg_value__fft_coefficient__attr_\"imag\"__coeff_98": "nan",
         "bg_value__fft_coefficient__attr_\"imag\"__coeff_99": "nan",
         "bg_value__fft_coefficient__attr_\"abs\"__coeff_0": 662,
         "bg_value__fft_coefficient__attr_\"abs\"__coeff_1": 40.36087214122113,
         "bg_value__fft_coefficient__attr_\"abs\"__coeff_2": 16.09347693943108,
         "bg_value__fft_coefficient__attr_\"abs\"__coeff_3": 12,
         "bg_value__fft_coefficient__attr_\"abs\"__coeff_4": "nan",
         "bg_value__fft_coefficient__attr_\"abs\"__coeff_5": "nan",
         "bg_value__fft_coefficient__attr_\"abs\"__coeff_6": "nan",
         "bg_value__fft_coefficient__attr_\"abs\"__coeff_7": "nan",
         "bg_value__fft_coefficient__attr_\"abs\"__coeff_8": "nan",
         "bg_value__fft_coefficient__attr_\"abs\"__coeff_9": "nan",
         "bg_value__fft_coefficient__attr_\"abs\"__coeff_10": "nan",
         "bg_value__fft_coefficient__attr_\"abs\"__coeff_11": "nan",
         "bg_value__fft_coefficient__attr_\"abs\"__coeff_12": "nan",
         "bg_value__fft_coefficient__attr_\"abs\"__coeff_13": "nan",
         "bg_value__fft_coefficient__attr_\"abs\"__coeff_14": "nan",
         "bg_value__fft_coefficient__attr_\"abs\"__coeff_15": "nan",
         "bg_value__fft_coefficient__attr_\"abs\"__coeff_16": "nan",
         "bg_value__fft_coefficient__attr_\"abs\"__coeff_17": "nan",
         "bg_value__fft_coefficient__attr_\"abs\"__coeff_18": "nan",
         "bg_value__fft_coefficient__attr_\"abs\"__coeff_19": "nan",
         "bg_value__fft_coefficient__attr_\"abs\"__coeff_20": "nan",
         "bg_value__fft_coefficient__attr_\"abs\"__coeff_21": "nan",
         "bg_value__fft_coefficient__attr_\"abs\"__coeff_22": "nan",
         "bg_value__fft_coefficient__attr_\"abs\"__coeff_23": "nan",
         "bg_value__fft_coefficient__attr_\"abs\"__coeff_24": "nan",
         "bg_value__fft_coefficient__attr_\"abs\"__coeff_25": "nan",
         "bg_value__fft_coefficient__attr_\"abs\"__coeff_26": "nan",
         "bg_value__fft_coefficient__attr_\"abs\"__coeff_27": "nan",
         "bg_value__fft_coefficient__attr_\"abs\"__coeff_28": "nan",
         "bg_value__fft_coefficient__attr_\"abs\"__coeff_29": "nan",
         "bg_value__fft_coefficient__attr_\"abs\"__coeff_30": "nan",
         "bg_value__fft_coefficient__attr_\"abs\"__coeff_31": "nan",
         "bg_value__fft_coefficient__attr_\"abs\"__coeff_32": "nan",
         "bg_value__fft_coefficient__attr_\"abs\"__coeff_33": "nan",
         "bg_value__fft_coefficient__attr_\"abs\"__coeff_34": "nan",
         "bg_value__fft_coefficient__attr_\"abs\"__coeff_35": "nan",
         "_deepnote_index_column": 0
        }
       ],
       "rows_bottom": [
        {
         "bg_value__variance_larger_than_standard_deviation": 1,
         "bg_value__has_duplicate_max": 0,
         "bg_value__has_duplicate_min": 0,
         "bg_value__has_duplicate": 0,
         "bg_value__sum_values": 979,
         "bg_value__abs_energy": 159925,
         "bg_value__mean_abs_change": 3.2,
         "bg_value__mean_change": 3.2,
         "bg_value__mean_second_derivative_central": 0.25,
         "bg_value__median": 162.5,
         "bg_value__mean": 163.16666666666666,
         "bg_value__length": 6,
         "bg_value__standard_deviation": 5.550275268448904,
         "bg_value__variation_coefficient": 0.034015987344937104,
         "bg_value__variance": 30.805555555555554,
         "bg_value__skewness": 0.38248521337224917,
         "bg_value__kurtosis": -1.123889221802754,
         "bg_value__root_mean_square": 163.26103842211305,
         "bg_value__absolute_sum_of_changes": 16,
         "bg_value__longest_strike_below_mean": 3,
         "bg_value__longest_strike_above_mean": 3,
         "bg_value__count_above_mean": 3,
         "bg_value__count_below_mean": 3,
         "bg_value__last_location_of_maximum": 1,
         "bg_value__first_location_of_maximum": 0.8333333333333334,
         "bg_value__last_location_of_minimum": 0.16666666666666663,
         "bg_value__first_location_of_minimum": 0,
         "bg_value__percentage_of_reoccurring_values_to_all_values": 0,
         "bg_value__percentage_of_reoccurring_datapoints_to_all_datapoints": 0,
         "bg_value__sum_of_reoccurring_values": 0,
         "bg_value__sum_of_reoccurring_data_points": 0,
         "bg_value__ratio_value_number_to_time_series_length": 1,
         "bg_value__sample_entropy": "nan",
         "bg_value__maximum": 172,
         "bg_value__minimum": 156,
         "bg_value__benford_correlation": 0.8641230464899808,
         "bg_value__time_reversal_asymmetry_statistic__lag_1": 347689.5,
         "bg_value__time_reversal_asymmetry_statistic__lag_2": 691824,
         "bg_value__time_reversal_asymmetry_statistic__lag_3": 0,
         "bg_value__c3__lag_1": 4328744,
         "bg_value__c3__lag_2": 4338176,
         "bg_value__c3__lag_3": 0,
         "bg_value__cid_ce__normalize_True": 1.3239828428191018,
         "bg_value__cid_ce__normalize_False": 7.3484692283495345,
         "bg_value__symmetry_looking__r_0.0": 0,
         "bg_value__symmetry_looking__r_0.05": 1,
         "bg_value__symmetry_looking__r_0.1": 1,
         "bg_value__symmetry_looking__r_0.15000000000000002": 1,
         "bg_value__symmetry_looking__r_0.2": 1,
         "bg_value__symmetry_looking__r_0.25": 1,
         "bg_value__symmetry_looking__r_0.30000000000000004": 1,
         "bg_value__symmetry_looking__r_0.35000000000000003": 1,
         "bg_value__symmetry_looking__r_0.4": 1,
         "bg_value__symmetry_looking__r_0.45": 1,
         "bg_value__symmetry_looking__r_0.5": 1,
         "bg_value__symmetry_looking__r_0.55": 1,
         "bg_value__symmetry_looking__r_0.6000000000000001": 1,
         "bg_value__symmetry_looking__r_0.65": 1,
         "bg_value__symmetry_looking__r_0.7000000000000001": 1,
         "bg_value__symmetry_looking__r_0.75": 1,
         "bg_value__symmetry_looking__r_0.8": 1,
         "bg_value__symmetry_looking__r_0.8500000000000001": 1,
         "bg_value__symmetry_looking__r_0.9": 1,
         "bg_value__symmetry_looking__r_0.9500000000000001": 1,
         "bg_value__large_standard_deviation__r_0.05": 1,
         "bg_value__large_standard_deviation__r_0.1": 1,
         "bg_value__large_standard_deviation__r_0.15000000000000002": 1,
         "bg_value__large_standard_deviation__r_0.2": 1,
         "bg_value__large_standard_deviation__r_0.25": 1,
         "bg_value__large_standard_deviation__r_0.30000000000000004": 1,
         "bg_value__large_standard_deviation__r_0.35000000000000003": 0,
         "bg_value__large_standard_deviation__r_0.4": 0,
         "bg_value__large_standard_deviation__r_0.45": 0,
         "bg_value__large_standard_deviation__r_0.5": 0,
         "bg_value__large_standard_deviation__r_0.55": 0,
         "bg_value__large_standard_deviation__r_0.6000000000000001": 0,
         "bg_value__large_standard_deviation__r_0.65": 0,
         "bg_value__large_standard_deviation__r_0.7000000000000001": 0,
         "bg_value__large_standard_deviation__r_0.75": 0,
         "bg_value__large_standard_deviation__r_0.8": 0,
         "bg_value__large_standard_deviation__r_0.8500000000000001": 0,
         "bg_value__large_standard_deviation__r_0.9": 0,
         "bg_value__large_standard_deviation__r_0.9500000000000001": 0,
         "bg_value__quantile__q_0.1": 157,
         "bg_value__quantile__q_0.2": 158,
         "bg_value__quantile__q_0.3": 159.5,
         "bg_value__quantile__q_0.4": 161,
         "bg_value__quantile__q_0.6": 164,
         "bg_value__quantile__q_0.7": 166,
         "bg_value__quantile__q_0.8": 168,
         "bg_value__quantile__q_0.9": 170,
         "bg_value__autocorrelation__lag_0": 1,
         "bg_value__autocorrelation__lag_1": 0.604688908926961,
         "bg_value__autocorrelation__lag_2": 0.06582506762849405,
         "bg_value__autocorrelation__lag_3": -0.5419296663660956,
         "bg_value__autocorrelation__lag_4": -1.30297565374211,
         "bg_value__autocorrelation__lag_5": -2.0550045085662756,
         "bg_value__autocorrelation__lag_6": "nan",
         "bg_value__autocorrelation__lag_7": "nan",
         "bg_value__autocorrelation__lag_8": "nan",
         "bg_value__autocorrelation__lag_9": "nan",
         "bg_value__agg_autocorrelation__f_agg_\"mean\"__maxlag_40": -0.6458791704238053,
         "bg_value__agg_autocorrelation__f_agg_\"median\"__maxlag_40": -0.5419296663660956,
         "bg_value__agg_autocorrelation__f_agg_\"var\"__maxlag_40": 0.8997317899861855,
         "bg_value__partial_autocorrelation__lag_0": 1,
         "bg_value__partial_autocorrelation__lag_1": 0.6046889089269611,
         "bg_value__partial_autocorrelation__lag_2": -0.472645989503095,
         "bg_value__partial_autocorrelation__lag_3": "nan",
         "bg_value__partial_autocorrelation__lag_4": "nan",
         "bg_value__partial_autocorrelation__lag_5": "nan",
         "bg_value__partial_autocorrelation__lag_6": "nan",
         "bg_value__partial_autocorrelation__lag_7": "nan",
         "bg_value__partial_autocorrelation__lag_8": "nan",
         "bg_value__partial_autocorrelation__lag_9": "nan",
         "bg_value__number_cwt_peaks__n_1": 1,
         "bg_value__number_cwt_peaks__n_5": 1,
         "bg_value__number_peaks__n_1": 0,
         "bg_value__number_peaks__n_3": 0,
         "bg_value__number_peaks__n_5": 0,
         "bg_value__number_peaks__n_10": 0,
         "bg_value__number_peaks__n_50": 0,
         "bg_value__binned_entropy__max_bins_10": 1.791759469228055,
         "bg_value__index_mass_quantile__q_0.1": 0.16666666666666666,
         "bg_value__index_mass_quantile__q_0.2": 0.3333333333333333,
         "bg_value__index_mass_quantile__q_0.3": 0.3333333333333333,
         "bg_value__index_mass_quantile__q_0.4": 0.5,
         "bg_value__index_mass_quantile__q_0.6": 0.6666666666666666,
         "bg_value__index_mass_quantile__q_0.7": 0.8333333333333334,
         "bg_value__index_mass_quantile__q_0.8": 0.8333333333333334,
         "bg_value__index_mass_quantile__q_0.9": 1,
         "bg_value__cwt_coefficients__coeff_0__w_2__widths_(2, 5, 10, 20)": 93.5061625642669,
         "bg_value__cwt_coefficients__coeff_0__w_5__widths_(2, 5, 10, 20)": 154.2537081090058,
         "bg_value__cwt_coefficients__coeff_0__w_10__widths_(2, 5, 10, 20)": 124.63658226265095,
         "bg_value__cwt_coefficients__coeff_0__w_20__widths_(2, 5, 10, 20)": 91.10802665226032,
         "bg_value__cwt_coefficients__coeff_1__w_2__widths_(2, 5, 10, 20)": 181.68876644219108,
         "bg_value__cwt_coefficients__coeff_1__w_5__widths_(2, 5, 10, 20)": 216.40572303315207,
         "bg_value__cwt_coefficients__coeff_1__w_10__widths_(2, 5, 10, 20)": 169.35222698272392,
         "bg_value__cwt_coefficients__coeff_1__w_20__widths_(2, 5, 10, 20)": 122.8669854460321,
         "bg_value__cwt_coefficients__coeff_2__w_2__widths_(2, 5, 10, 20)": 216.04638657433063,
         "bg_value__cwt_coefficients__coeff_2__w_5__widths_(2, 5, 10, 20)": 272.995830101464,
         "bg_value__cwt_coefficients__coeff_2__w_10__widths_(2, 5, 10, 20)": 213.86653117861826,
         "bg_value__cwt_coefficients__coeff_2__w_20__widths_(2, 5, 10, 20)": 155.17032265664275,
         "bg_value__cwt_coefficients__coeff_3__w_2__widths_(2, 5, 10, 20)": 195.33454626511167,
         "bg_value__cwt_coefficients__coeff_3__w_5__widths_(2, 5, 10, 20)": 318.38927791345697,
         "bg_value__cwt_coefficients__coeff_3__w_10__widths_(2, 5, 10, 20)": 256.9716813727353,
         "bg_value__cwt_coefficients__coeff_3__w_20__widths_(2, 5, 10, 20)": 187.7945227091193,
         "bg_value__cwt_coefficients__coeff_4__w_2__widths_(2, 5, 10, 20)": 227.50327961553626,
         "bg_value__cwt_coefficients__coeff_4__w_5__widths_(2, 5, 10, 20)": 279.7823780869366,
         "bg_value__cwt_coefficients__coeff_4__w_10__widths_(2, 5, 10, 20)": 218.3728467665656,
         "bg_value__cwt_coefficients__coeff_4__w_20__widths_(2, 5, 10, 20)": 158.29493294403952,
         "bg_value__cwt_coefficients__coeff_5__w_2__widths_(2, 5, 10, 20)": 197.25924307489632,
         "bg_value__cwt_coefficients__coeff_5__w_5__widths_(2, 5, 10, 20)": 226.58208327824136,
         "bg_value__cwt_coefficients__coeff_5__w_10__widths_(2, 5, 10, 20)": 176.50424044681574,
         "bg_value__cwt_coefficients__coeff_5__w_20__widths_(2, 5, 10, 20)": 127.91334404248445,
         "bg_value__cwt_coefficients__coeff_6__w_2__widths_(2, 5, 10, 20)": "nan",
         "bg_value__cwt_coefficients__coeff_6__w_5__widths_(2, 5, 10, 20)": "nan",
         "bg_value__cwt_coefficients__coeff_6__w_10__widths_(2, 5, 10, 20)": "nan",
         "bg_value__cwt_coefficients__coeff_6__w_20__widths_(2, 5, 10, 20)": "nan",
         "bg_value__cwt_coefficients__coeff_7__w_2__widths_(2, 5, 10, 20)": "nan",
         "bg_value__cwt_coefficients__coeff_7__w_5__widths_(2, 5, 10, 20)": "nan",
         "bg_value__cwt_coefficients__coeff_7__w_10__widths_(2, 5, 10, 20)": "nan",
         "bg_value__cwt_coefficients__coeff_7__w_20__widths_(2, 5, 10, 20)": "nan",
         "bg_value__cwt_coefficients__coeff_8__w_2__widths_(2, 5, 10, 20)": "nan",
         "bg_value__cwt_coefficients__coeff_8__w_5__widths_(2, 5, 10, 20)": "nan",
         "bg_value__cwt_coefficients__coeff_8__w_10__widths_(2, 5, 10, 20)": "nan",
         "bg_value__cwt_coefficients__coeff_8__w_20__widths_(2, 5, 10, 20)": "nan",
         "bg_value__cwt_coefficients__coeff_9__w_2__widths_(2, 5, 10, 20)": "nan",
         "bg_value__cwt_coefficients__coeff_9__w_5__widths_(2, 5, 10, 20)": "nan",
         "bg_value__cwt_coefficients__coeff_9__w_10__widths_(2, 5, 10, 20)": "nan",
         "bg_value__cwt_coefficients__coeff_9__w_20__widths_(2, 5, 10, 20)": "nan",
         "bg_value__cwt_coefficients__coeff_10__w_2__widths_(2, 5, 10, 20)": "nan",
         "bg_value__cwt_coefficients__coeff_10__w_5__widths_(2, 5, 10, 20)": "nan",
         "bg_value__cwt_coefficients__coeff_10__w_10__widths_(2, 5, 10, 20)": "nan",
         "bg_value__cwt_coefficients__coeff_10__w_20__widths_(2, 5, 10, 20)": "nan",
         "bg_value__cwt_coefficients__coeff_11__w_2__widths_(2, 5, 10, 20)": "nan",
         "bg_value__cwt_coefficients__coeff_11__w_5__widths_(2, 5, 10, 20)": "nan",
         "bg_value__cwt_coefficients__coeff_11__w_10__widths_(2, 5, 10, 20)": "nan",
         "bg_value__cwt_coefficients__coeff_11__w_20__widths_(2, 5, 10, 20)": "nan",
         "bg_value__cwt_coefficients__coeff_12__w_2__widths_(2, 5, 10, 20)": "nan",
         "bg_value__cwt_coefficients__coeff_12__w_5__widths_(2, 5, 10, 20)": "nan",
         "bg_value__cwt_coefficients__coeff_12__w_10__widths_(2, 5, 10, 20)": "nan",
         "bg_value__cwt_coefficients__coeff_12__w_20__widths_(2, 5, 10, 20)": "nan",
         "bg_value__cwt_coefficients__coeff_13__w_2__widths_(2, 5, 10, 20)": "nan",
         "bg_value__cwt_coefficients__coeff_13__w_5__widths_(2, 5, 10, 20)": "nan",
         "bg_value__cwt_coefficients__coeff_13__w_10__widths_(2, 5, 10, 20)": "nan",
         "bg_value__cwt_coefficients__coeff_13__w_20__widths_(2, 5, 10, 20)": "nan",
         "bg_value__cwt_coefficients__coeff_14__w_2__widths_(2, 5, 10, 20)": "nan",
         "bg_value__cwt_coefficients__coeff_14__w_5__widths_(2, 5, 10, 20)": "nan",
         "bg_value__cwt_coefficients__coeff_14__w_10__widths_(2, 5, 10, 20)": "nan",
         "bg_value__cwt_coefficients__coeff_14__w_20__widths_(2, 5, 10, 20)": "nan",
         "bg_value__spkt_welch_density__coeff_2": 2.3888888888888866,
         "bg_value__spkt_welch_density__coeff_5": "nan",
         "bg_value__spkt_welch_density__coeff_8": "nan",
         "bg_value__ar_coefficient__coeff_0__k_10": "nan",
         "bg_value__ar_coefficient__coeff_1__k_10": "nan",
         "bg_value__ar_coefficient__coeff_2__k_10": "nan",
         "bg_value__ar_coefficient__coeff_3__k_10": "nan",
         "bg_value__ar_coefficient__coeff_4__k_10": "nan",
         "bg_value__ar_coefficient__coeff_5__k_10": "nan",
         "bg_value__ar_coefficient__coeff_6__k_10": "nan",
         "bg_value__ar_coefficient__coeff_7__k_10": "nan",
         "bg_value__ar_coefficient__coeff_8__k_10": "nan",
         "bg_value__ar_coefficient__coeff_9__k_10": "nan",
         "bg_value__ar_coefficient__coeff_10__k_10": 0,
         "bg_value__change_quantiles__f_agg_\"mean\"__isabs_False__qh_0.2__ql_0.0": 2,
         "bg_value__change_quantiles__f_agg_\"var\"__isabs_False__qh_0.2__ql_0.0": 0,
         "bg_value__change_quantiles__f_agg_\"mean\"__isabs_True__qh_0.2__ql_0.0": 2,
         "bg_value__change_quantiles__f_agg_\"var\"__isabs_True__qh_0.2__ql_0.0": 0,
         "bg_value__change_quantiles__f_agg_\"mean\"__isabs_False__qh_0.4__ql_0.0": 2.5,
         "bg_value__change_quantiles__f_agg_\"var\"__isabs_False__qh_0.4__ql_0.0": 0.25,
         "bg_value__change_quantiles__f_agg_\"mean\"__isabs_True__qh_0.4__ql_0.0": 2.5,
         "bg_value__change_quantiles__f_agg_\"var\"__isabs_True__qh_0.4__ql_0.0": 0.25,
         "bg_value__change_quantiles__f_agg_\"mean\"__isabs_False__qh_0.6__ql_0.0": 2.6666666666666665,
         "bg_value__change_quantiles__f_agg_\"var\"__isabs_False__qh_0.6__ql_0.0": 0.22222222222222224,
         "bg_value__change_quantiles__f_agg_\"mean\"__isabs_True__qh_0.6__ql_0.0": 2.6666666666666665,
         "bg_value__change_quantiles__f_agg_\"var\"__isabs_True__qh_0.6__ql_0.0": 0.22222222222222224,
         "bg_value__change_quantiles__f_agg_\"mean\"__isabs_False__qh_0.8__ql_0.0": 3,
         "bg_value__change_quantiles__f_agg_\"var\"__isabs_False__qh_0.8__ql_0.0": 0.5,
         "bg_value__change_quantiles__f_agg_\"mean\"__isabs_True__qh_0.8__ql_0.0": 3,
         "bg_value__change_quantiles__f_agg_\"var\"__isabs_True__qh_0.8__ql_0.0": 0.5,
         "bg_value__change_quantiles__f_agg_\"mean\"__isabs_False__qh_1.0__ql_0.0": 3.2,
         "bg_value__change_quantiles__f_agg_\"var\"__isabs_False__qh_1.0__ql_0.0": 0.5599999999999999,
         "bg_value__change_quantiles__f_agg_\"mean\"__isabs_True__qh_1.0__ql_0.0": 3.2,
         "bg_value__change_quantiles__f_agg_\"var\"__isabs_True__qh_1.0__ql_0.0": 0.5599999999999999,
         "bg_value__change_quantiles__f_agg_\"mean\"__isabs_False__qh_0.4__ql_0.2": 3,
         "bg_value__change_quantiles__f_agg_\"var\"__isabs_False__qh_0.4__ql_0.2": 0,
         "bg_value__change_quantiles__f_agg_\"mean\"__isabs_True__qh_0.4__ql_0.2": 3,
         "bg_value__change_quantiles__f_agg_\"var\"__isabs_True__qh_0.4__ql_0.2": 0,
         "bg_value__change_quantiles__f_agg_\"mean\"__isabs_False__qh_0.6__ql_0.2": 3,
         "bg_value__change_quantiles__f_agg_\"var\"__isabs_False__qh_0.6__ql_0.2": 0,
         "bg_value__change_quantiles__f_agg_\"mean\"__isabs_True__qh_0.6__ql_0.2": 3,
         "bg_value__change_quantiles__f_agg_\"var\"__isabs_True__qh_0.6__ql_0.2": 0,
         "bg_value__change_quantiles__f_agg_\"mean\"__isabs_False__qh_0.8__ql_0.2": 3.3333333333333335,
         "bg_value__change_quantiles__f_agg_\"var\"__isabs_False__qh_0.8__ql_0.2": 0.22222222222222224,
         "bg_value__change_quantiles__f_agg_\"mean\"__isabs_True__qh_0.8__ql_0.2": 3.3333333333333335,
         "bg_value__change_quantiles__f_agg_\"var\"__isabs_True__qh_0.8__ql_0.2": 0.22222222222222224,
         "bg_value__change_quantiles__f_agg_\"mean\"__isabs_False__qh_1.0__ql_0.2": 3.5,
         "bg_value__change_quantiles__f_agg_\"var\"__isabs_False__qh_1.0__ql_0.2": 0.25,
         "bg_value__change_quantiles__f_agg_\"mean\"__isabs_True__qh_1.0__ql_0.2": 3.5,
         "bg_value__change_quantiles__f_agg_\"var\"__isabs_True__qh_1.0__ql_0.2": 0.25,
         "bg_value__change_quantiles__f_agg_\"mean\"__isabs_False__qh_0.6__ql_0.4": 3,
         "bg_value__change_quantiles__f_agg_\"var\"__isabs_False__qh_0.6__ql_0.4": 0,
         "bg_value__change_quantiles__f_agg_\"mean\"__isabs_True__qh_0.6__ql_0.4": 3,
         "bg_value__change_quantiles__f_agg_\"var\"__isabs_True__qh_0.6__ql_0.4": 0,
         "bg_value__change_quantiles__f_agg_\"mean\"__isabs_False__qh_0.8__ql_0.4": 3.5,
         "bg_value__change_quantiles__f_agg_\"var\"__isabs_False__qh_0.8__ql_0.4": 0.25,
         "bg_value__change_quantiles__f_agg_\"mean\"__isabs_True__qh_0.8__ql_0.4": 3.5,
         "bg_value__change_quantiles__f_agg_\"var\"__isabs_True__qh_0.8__ql_0.4": 0.25,
         "bg_value__change_quantiles__f_agg_\"mean\"__isabs_False__qh_1.0__ql_0.4": 3.6666666666666665,
         "bg_value__change_quantiles__f_agg_\"var\"__isabs_False__qh_1.0__ql_0.4": 0.22222222222222224,
         "bg_value__change_quantiles__f_agg_\"mean\"__isabs_True__qh_1.0__ql_0.4": 3.6666666666666665,
         "bg_value__change_quantiles__f_agg_\"var\"__isabs_True__qh_1.0__ql_0.4": 0.22222222222222224,
         "bg_value__change_quantiles__f_agg_\"mean\"__isabs_False__qh_0.8__ql_0.6": 4,
         "bg_value__change_quantiles__f_agg_\"var\"__isabs_False__qh_0.8__ql_0.6": 0,
         "bg_value__change_quantiles__f_agg_\"mean\"__isabs_True__qh_0.8__ql_0.6": 4,
         "bg_value__change_quantiles__f_agg_\"var\"__isabs_True__qh_0.8__ql_0.6": 0,
         "bg_value__change_quantiles__f_agg_\"mean\"__isabs_False__qh_1.0__ql_0.6": 4,
         "bg_value__change_quantiles__f_agg_\"var\"__isabs_False__qh_1.0__ql_0.6": 0,
         "bg_value__change_quantiles__f_agg_\"mean\"__isabs_True__qh_1.0__ql_0.6": 4,
         "bg_value__change_quantiles__f_agg_\"var\"__isabs_True__qh_1.0__ql_0.6": 0,
         "bg_value__change_quantiles__f_agg_\"mean\"__isabs_False__qh_1.0__ql_0.8": 4,
         "bg_value__change_quantiles__f_agg_\"var\"__isabs_False__qh_1.0__ql_0.8": 0,
         "bg_value__change_quantiles__f_agg_\"mean\"__isabs_True__qh_1.0__ql_0.8": 4,
         "bg_value__change_quantiles__f_agg_\"var\"__isabs_True__qh_1.0__ql_0.8": 0,
         "bg_value__fft_coefficient__attr_\"real\"__coeff_0": 979,
         "bg_value__fft_coefficient__attr_\"real\"__coeff_1": -7.5,
         "bg_value__fft_coefficient__attr_\"real\"__coeff_2": -9.5,
         "bg_value__fft_coefficient__attr_\"real\"__coeff_3": -9,
         "bg_value__fft_coefficient__attr_\"real\"__coeff_4": "nan",
         "bg_value__fft_coefficient__attr_\"real\"__coeff_5": "nan",
         "bg_value__fft_coefficient__attr_\"real\"__coeff_6": "nan",
         "bg_value__fft_coefficient__attr_\"real\"__coeff_7": "nan",
         "bg_value__fft_coefficient__attr_\"real\"__coeff_8": "nan",
         "bg_value__fft_coefficient__attr_\"real\"__coeff_9": "nan",
         "bg_value__fft_coefficient__attr_\"real\"__coeff_10": "nan",
         "bg_value__fft_coefficient__attr_\"real\"__coeff_11": "nan",
         "bg_value__fft_coefficient__attr_\"real\"__coeff_12": "nan",
         "bg_value__fft_coefficient__attr_\"real\"__coeff_13": "nan",
         "bg_value__fft_coefficient__attr_\"real\"__coeff_14": "nan",
         "bg_value__fft_coefficient__attr_\"real\"__coeff_15": "nan",
         "bg_value__fft_coefficient__attr_\"real\"__coeff_16": "nan",
         "bg_value__fft_coefficient__attr_\"real\"__coeff_17": "nan",
         "bg_value__fft_coefficient__attr_\"real\"__coeff_18": "nan",
         "bg_value__fft_coefficient__attr_\"real\"__coeff_19": "nan",
         "bg_value__fft_coefficient__attr_\"real\"__coeff_20": "nan",
         "bg_value__fft_coefficient__attr_\"real\"__coeff_21": "nan",
         "bg_value__fft_coefficient__attr_\"real\"__coeff_22": "nan",
         "bg_value__fft_coefficient__attr_\"real\"__coeff_23": "nan",
         "bg_value__fft_coefficient__attr_\"real\"__coeff_24": "nan",
         "bg_value__fft_coefficient__attr_\"real\"__coeff_25": "nan",
         "bg_value__fft_coefficient__attr_\"real\"__coeff_26": "nan",
         "bg_value__fft_coefficient__attr_\"real\"__coeff_27": "nan",
         "bg_value__fft_coefficient__attr_\"real\"__coeff_28": "nan",
         "bg_value__fft_coefficient__attr_\"real\"__coeff_29": "nan",
         "bg_value__fft_coefficient__attr_\"real\"__coeff_30": "nan",
         "bg_value__fft_coefficient__attr_\"real\"__coeff_31": "nan",
         "bg_value__fft_coefficient__attr_\"real\"__coeff_32": "nan",
         "bg_value__fft_coefficient__attr_\"real\"__coeff_33": "nan",
         "bg_value__fft_coefficient__attr_\"real\"__coeff_34": "nan",
         "bg_value__fft_coefficient__attr_\"real\"__coeff_35": "nan",
         "bg_value__fft_coefficient__attr_\"real\"__coeff_36": "nan",
         "bg_value__fft_coefficient__attr_\"real\"__coeff_37": "nan",
         "bg_value__fft_coefficient__attr_\"real\"__coeff_38": "nan",
         "bg_value__fft_coefficient__attr_\"real\"__coeff_39": "nan",
         "bg_value__fft_coefficient__attr_\"real\"__coeff_40": "nan",
         "bg_value__fft_coefficient__attr_\"real\"__coeff_41": "nan",
         "bg_value__fft_coefficient__attr_\"real\"__coeff_42": "nan",
         "bg_value__fft_coefficient__attr_\"real\"__coeff_43": "nan",
         "bg_value__fft_coefficient__attr_\"real\"__coeff_44": "nan",
         "bg_value__fft_coefficient__attr_\"real\"__coeff_45": "nan",
         "bg_value__fft_coefficient__attr_\"real\"__coeff_46": "nan",
         "bg_value__fft_coefficient__attr_\"real\"__coeff_47": "nan",
         "bg_value__fft_coefficient__attr_\"real\"__coeff_48": "nan",
         "bg_value__fft_coefficient__attr_\"real\"__coeff_49": "nan",
         "bg_value__fft_coefficient__attr_\"real\"__coeff_50": "nan",
         "bg_value__fft_coefficient__attr_\"real\"__coeff_51": "nan",
         "bg_value__fft_coefficient__attr_\"real\"__coeff_52": "nan",
         "bg_value__fft_coefficient__attr_\"real\"__coeff_53": "nan",
         "bg_value__fft_coefficient__attr_\"real\"__coeff_54": "nan",
         "bg_value__fft_coefficient__attr_\"real\"__coeff_55": "nan",
         "bg_value__fft_coefficient__attr_\"real\"__coeff_56": "nan",
         "bg_value__fft_coefficient__attr_\"real\"__coeff_57": "nan",
         "bg_value__fft_coefficient__attr_\"real\"__coeff_58": "nan",
         "bg_value__fft_coefficient__attr_\"real\"__coeff_59": "nan",
         "bg_value__fft_coefficient__attr_\"real\"__coeff_60": "nan",
         "bg_value__fft_coefficient__attr_\"real\"__coeff_61": "nan",
         "bg_value__fft_coefficient__attr_\"real\"__coeff_62": "nan",
         "bg_value__fft_coefficient__attr_\"real\"__coeff_63": "nan",
         "bg_value__fft_coefficient__attr_\"real\"__coeff_64": "nan",
         "bg_value__fft_coefficient__attr_\"real\"__coeff_65": "nan",
         "bg_value__fft_coefficient__attr_\"real\"__coeff_66": "nan",
         "bg_value__fft_coefficient__attr_\"real\"__coeff_67": "nan",
         "bg_value__fft_coefficient__attr_\"real\"__coeff_68": "nan",
         "bg_value__fft_coefficient__attr_\"real\"__coeff_69": "nan",
         "bg_value__fft_coefficient__attr_\"real\"__coeff_70": "nan",
         "bg_value__fft_coefficient__attr_\"real\"__coeff_71": "nan",
         "bg_value__fft_coefficient__attr_\"real\"__coeff_72": "nan",
         "bg_value__fft_coefficient__attr_\"real\"__coeff_73": "nan",
         "bg_value__fft_coefficient__attr_\"real\"__coeff_74": "nan",
         "bg_value__fft_coefficient__attr_\"real\"__coeff_75": "nan",
         "bg_value__fft_coefficient__attr_\"real\"__coeff_76": "nan",
         "bg_value__fft_coefficient__attr_\"real\"__coeff_77": "nan",
         "bg_value__fft_coefficient__attr_\"real\"__coeff_78": "nan",
         "bg_value__fft_coefficient__attr_\"real\"__coeff_79": "nan",
         "bg_value__fft_coefficient__attr_\"real\"__coeff_80": "nan",
         "bg_value__fft_coefficient__attr_\"real\"__coeff_81": "nan",
         "bg_value__fft_coefficient__attr_\"real\"__coeff_82": "nan",
         "bg_value__fft_coefficient__attr_\"real\"__coeff_83": "nan",
         "bg_value__fft_coefficient__attr_\"real\"__coeff_84": "nan",
         "bg_value__fft_coefficient__attr_\"real\"__coeff_85": "nan",
         "bg_value__fft_coefficient__attr_\"real\"__coeff_86": "nan",
         "bg_value__fft_coefficient__attr_\"real\"__coeff_87": "nan",
         "bg_value__fft_coefficient__attr_\"real\"__coeff_88": "nan",
         "bg_value__fft_coefficient__attr_\"real\"__coeff_89": "nan",
         "bg_value__fft_coefficient__attr_\"real\"__coeff_90": "nan",
         "bg_value__fft_coefficient__attr_\"real\"__coeff_91": "nan",
         "bg_value__fft_coefficient__attr_\"real\"__coeff_92": "nan",
         "bg_value__fft_coefficient__attr_\"real\"__coeff_93": "nan",
         "bg_value__fft_coefficient__attr_\"real\"__coeff_94": "nan",
         "bg_value__fft_coefficient__attr_\"real\"__coeff_95": "nan",
         "bg_value__fft_coefficient__attr_\"real\"__coeff_96": "nan",
         "bg_value__fft_coefficient__attr_\"real\"__coeff_97": "nan",
         "bg_value__fft_coefficient__attr_\"real\"__coeff_98": "nan",
         "bg_value__fft_coefficient__attr_\"real\"__coeff_99": "nan",
         "bg_value__fft_coefficient__attr_\"imag\"__coeff_0": 0,
         "bg_value__fft_coefficient__attr_\"imag\"__coeff_1": 18.18653347947321,
         "bg_value__fft_coefficient__attr_\"imag\"__coeff_2": 6.062177826491069,
         "bg_value__fft_coefficient__attr_\"imag\"__coeff_3": 0,
         "bg_value__fft_coefficient__attr_\"imag\"__coeff_4": "nan",
         "bg_value__fft_coefficient__attr_\"imag\"__coeff_5": "nan",
         "bg_value__fft_coefficient__attr_\"imag\"__coeff_6": "nan",
         "bg_value__fft_coefficient__attr_\"imag\"__coeff_7": "nan",
         "bg_value__fft_coefficient__attr_\"imag\"__coeff_8": "nan",
         "bg_value__fft_coefficient__attr_\"imag\"__coeff_9": "nan",
         "bg_value__fft_coefficient__attr_\"imag\"__coeff_10": "nan",
         "bg_value__fft_coefficient__attr_\"imag\"__coeff_11": "nan",
         "bg_value__fft_coefficient__attr_\"imag\"__coeff_12": "nan",
         "bg_value__fft_coefficient__attr_\"imag\"__coeff_13": "nan",
         "bg_value__fft_coefficient__attr_\"imag\"__coeff_14": "nan",
         "bg_value__fft_coefficient__attr_\"imag\"__coeff_15": "nan",
         "bg_value__fft_coefficient__attr_\"imag\"__coeff_16": "nan",
         "bg_value__fft_coefficient__attr_\"imag\"__coeff_17": "nan",
         "bg_value__fft_coefficient__attr_\"imag\"__coeff_18": "nan",
         "bg_value__fft_coefficient__attr_\"imag\"__coeff_19": "nan",
         "bg_value__fft_coefficient__attr_\"imag\"__coeff_20": "nan",
         "bg_value__fft_coefficient__attr_\"imag\"__coeff_21": "nan",
         "bg_value__fft_coefficient__attr_\"imag\"__coeff_22": "nan",
         "bg_value__fft_coefficient__attr_\"imag\"__coeff_23": "nan",
         "bg_value__fft_coefficient__attr_\"imag\"__coeff_24": "nan",
         "bg_value__fft_coefficient__attr_\"imag\"__coeff_25": "nan",
         "bg_value__fft_coefficient__attr_\"imag\"__coeff_26": "nan",
         "bg_value__fft_coefficient__attr_\"imag\"__coeff_27": "nan",
         "bg_value__fft_coefficient__attr_\"imag\"__coeff_28": "nan",
         "bg_value__fft_coefficient__attr_\"imag\"__coeff_29": "nan",
         "bg_value__fft_coefficient__attr_\"imag\"__coeff_30": "nan",
         "bg_value__fft_coefficient__attr_\"imag\"__coeff_31": "nan",
         "bg_value__fft_coefficient__attr_\"imag\"__coeff_32": "nan",
         "bg_value__fft_coefficient__attr_\"imag\"__coeff_33": "nan",
         "bg_value__fft_coefficient__attr_\"imag\"__coeff_34": "nan",
         "bg_value__fft_coefficient__attr_\"imag\"__coeff_35": "nan",
         "bg_value__fft_coefficient__attr_\"imag\"__coeff_36": "nan",
         "bg_value__fft_coefficient__attr_\"imag\"__coeff_37": "nan",
         "bg_value__fft_coefficient__attr_\"imag\"__coeff_38": "nan",
         "bg_value__fft_coefficient__attr_\"imag\"__coeff_39": "nan",
         "bg_value__fft_coefficient__attr_\"imag\"__coeff_40": "nan",
         "bg_value__fft_coefficient__attr_\"imag\"__coeff_41": "nan",
         "bg_value__fft_coefficient__attr_\"imag\"__coeff_42": "nan",
         "bg_value__fft_coefficient__attr_\"imag\"__coeff_43": "nan",
         "bg_value__fft_coefficient__attr_\"imag\"__coeff_44": "nan",
         "bg_value__fft_coefficient__attr_\"imag\"__coeff_45": "nan",
         "bg_value__fft_coefficient__attr_\"imag\"__coeff_46": "nan",
         "bg_value__fft_coefficient__attr_\"imag\"__coeff_47": "nan",
         "bg_value__fft_coefficient__attr_\"imag\"__coeff_48": "nan",
         "bg_value__fft_coefficient__attr_\"imag\"__coeff_49": "nan",
         "bg_value__fft_coefficient__attr_\"imag\"__coeff_50": "nan",
         "bg_value__fft_coefficient__attr_\"imag\"__coeff_51": "nan",
         "bg_value__fft_coefficient__attr_\"imag\"__coeff_52": "nan",
         "bg_value__fft_coefficient__attr_\"imag\"__coeff_53": "nan",
         "bg_value__fft_coefficient__attr_\"imag\"__coeff_54": "nan",
         "bg_value__fft_coefficient__attr_\"imag\"__coeff_55": "nan",
         "bg_value__fft_coefficient__attr_\"imag\"__coeff_56": "nan",
         "bg_value__fft_coefficient__attr_\"imag\"__coeff_57": "nan",
         "bg_value__fft_coefficient__attr_\"imag\"__coeff_58": "nan",
         "bg_value__fft_coefficient__attr_\"imag\"__coeff_59": "nan",
         "bg_value__fft_coefficient__attr_\"imag\"__coeff_60": "nan",
         "bg_value__fft_coefficient__attr_\"imag\"__coeff_61": "nan",
         "bg_value__fft_coefficient__attr_\"imag\"__coeff_62": "nan",
         "bg_value__fft_coefficient__attr_\"imag\"__coeff_63": "nan",
         "bg_value__fft_coefficient__attr_\"imag\"__coeff_64": "nan",
         "bg_value__fft_coefficient__attr_\"imag\"__coeff_65": "nan",
         "bg_value__fft_coefficient__attr_\"imag\"__coeff_66": "nan",
         "bg_value__fft_coefficient__attr_\"imag\"__coeff_67": "nan",
         "bg_value__fft_coefficient__attr_\"imag\"__coeff_68": "nan",
         "bg_value__fft_coefficient__attr_\"imag\"__coeff_69": "nan",
         "bg_value__fft_coefficient__attr_\"imag\"__coeff_70": "nan",
         "bg_value__fft_coefficient__attr_\"imag\"__coeff_71": "nan",
         "bg_value__fft_coefficient__attr_\"imag\"__coeff_72": "nan",
         "bg_value__fft_coefficient__attr_\"imag\"__coeff_73": "nan",
         "bg_value__fft_coefficient__attr_\"imag\"__coeff_74": "nan",
         "bg_value__fft_coefficient__attr_\"imag\"__coeff_75": "nan",
         "bg_value__fft_coefficient__attr_\"imag\"__coeff_76": "nan",
         "bg_value__fft_coefficient__attr_\"imag\"__coeff_77": "nan",
         "bg_value__fft_coefficient__attr_\"imag\"__coeff_78": "nan",
         "bg_value__fft_coefficient__attr_\"imag\"__coeff_79": "nan",
         "bg_value__fft_coefficient__attr_\"imag\"__coeff_80": "nan",
         "bg_value__fft_coefficient__attr_\"imag\"__coeff_81": "nan",
         "bg_value__fft_coefficient__attr_\"imag\"__coeff_82": "nan",
         "bg_value__fft_coefficient__attr_\"imag\"__coeff_83": "nan",
         "bg_value__fft_coefficient__attr_\"imag\"__coeff_84": "nan",
         "bg_value__fft_coefficient__attr_\"imag\"__coeff_85": "nan",
         "bg_value__fft_coefficient__attr_\"imag\"__coeff_86": "nan",
         "bg_value__fft_coefficient__attr_\"imag\"__coeff_87": "nan",
         "bg_value__fft_coefficient__attr_\"imag\"__coeff_88": "nan",
         "bg_value__fft_coefficient__attr_\"imag\"__coeff_89": "nan",
         "bg_value__fft_coefficient__attr_\"imag\"__coeff_90": "nan",
         "bg_value__fft_coefficient__attr_\"imag\"__coeff_91": "nan",
         "bg_value__fft_coefficient__attr_\"imag\"__coeff_92": "nan",
         "bg_value__fft_coefficient__attr_\"imag\"__coeff_93": "nan",
         "bg_value__fft_coefficient__attr_\"imag\"__coeff_94": "nan",
         "bg_value__fft_coefficient__attr_\"imag\"__coeff_95": "nan",
         "bg_value__fft_coefficient__attr_\"imag\"__coeff_96": "nan",
         "bg_value__fft_coefficient__attr_\"imag\"__coeff_97": "nan",
         "bg_value__fft_coefficient__attr_\"imag\"__coeff_98": "nan",
         "bg_value__fft_coefficient__attr_\"imag\"__coeff_99": "nan",
         "bg_value__fft_coefficient__attr_\"abs\"__coeff_0": 979,
         "bg_value__fft_coefficient__attr_\"abs\"__coeff_1": 19.672315572905998,
         "bg_value__fft_coefficient__attr_\"abs\"__coeff_2": 11.269427669584644,
         "bg_value__fft_coefficient__attr_\"abs\"__coeff_3": 9,
         "bg_value__fft_coefficient__attr_\"abs\"__coeff_4": "nan",
         "bg_value__fft_coefficient__attr_\"abs\"__coeff_5": "nan",
         "bg_value__fft_coefficient__attr_\"abs\"__coeff_6": "nan",
         "bg_value__fft_coefficient__attr_\"abs\"__coeff_7": "nan",
         "bg_value__fft_coefficient__attr_\"abs\"__coeff_8": "nan",
         "bg_value__fft_coefficient__attr_\"abs\"__coeff_9": "nan",
         "bg_value__fft_coefficient__attr_\"abs\"__coeff_10": "nan",
         "bg_value__fft_coefficient__attr_\"abs\"__coeff_11": "nan",
         "bg_value__fft_coefficient__attr_\"abs\"__coeff_12": "nan",
         "bg_value__fft_coefficient__attr_\"abs\"__coeff_13": "nan",
         "bg_value__fft_coefficient__attr_\"abs\"__coeff_14": "nan",
         "bg_value__fft_coefficient__attr_\"abs\"__coeff_15": "nan",
         "bg_value__fft_coefficient__attr_\"abs\"__coeff_16": "nan",
         "bg_value__fft_coefficient__attr_\"abs\"__coeff_17": "nan",
         "bg_value__fft_coefficient__attr_\"abs\"__coeff_18": "nan",
         "bg_value__fft_coefficient__attr_\"abs\"__coeff_19": "nan",
         "bg_value__fft_coefficient__attr_\"abs\"__coeff_20": "nan",
         "bg_value__fft_coefficient__attr_\"abs\"__coeff_21": "nan",
         "bg_value__fft_coefficient__attr_\"abs\"__coeff_22": "nan",
         "bg_value__fft_coefficient__attr_\"abs\"__coeff_23": "nan",
         "bg_value__fft_coefficient__attr_\"abs\"__coeff_24": "nan",
         "bg_value__fft_coefficient__attr_\"abs\"__coeff_25": "nan",
         "bg_value__fft_coefficient__attr_\"abs\"__coeff_26": "nan",
         "bg_value__fft_coefficient__attr_\"abs\"__coeff_27": "nan",
         "bg_value__fft_coefficient__attr_\"abs\"__coeff_28": "nan",
         "bg_value__fft_coefficient__attr_\"abs\"__coeff_29": "nan",
         "bg_value__fft_coefficient__attr_\"abs\"__coeff_30": "nan",
         "bg_value__fft_coefficient__attr_\"abs\"__coeff_31": "nan",
         "bg_value__fft_coefficient__attr_\"abs\"__coeff_32": "nan",
         "bg_value__fft_coefficient__attr_\"abs\"__coeff_33": "nan",
         "bg_value__fft_coefficient__attr_\"abs\"__coeff_34": "nan",
         "bg_value__fft_coefficient__attr_\"abs\"__coeff_35": "nan",
         "_deepnote_index_column": 10789
        }
       ]
      },
      "text/plain": "       bg_value__variance_larger_than_standard_deviation  \\\n0                                                    1.0   \n1                                                    1.0   \n2                                                    1.0   \n3                                                    1.0   \n4                                                    1.0   \n...                                                  ...   \n10785                                                1.0   \n10786                                                1.0   \n10787                                                1.0   \n10788                                                1.0   \n10789                                                1.0   \n\n       bg_value__has_duplicate_max  bg_value__has_duplicate_min  \\\n0                              0.0                          0.0   \n1                              0.0                          0.0   \n2                              0.0                          0.0   \n3                              0.0                          0.0   \n4                              0.0                          0.0   \n...                            ...                          ...   \n10785                          0.0                          0.0   \n10786                          0.0                          0.0   \n10787                          0.0                          0.0   \n10788                          0.0                          0.0   \n10789                          0.0                          0.0   \n\n       bg_value__has_duplicate  bg_value__sum_values  bg_value__abs_energy  \\\n0                          0.0                 662.0               73694.0   \n1                          0.0                 696.0               81718.0   \n2                          0.0                 740.0               92278.0   \n3                          0.0                 776.0              101062.0   \n4                          0.0                 809.0              109543.0   \n...                        ...                   ...                   ...   \n10785                      0.0                 920.0              141130.0   \n10786                      0.0                 932.0              144850.0   \n10787                      0.0                 946.0              149246.0   \n10788                      0.0                 962.0              154366.0   \n10789                      0.0                 979.0              159925.0   \n\n       bg_value__mean_abs_change  bg_value__mean_change  \\\n0                            6.4                    5.2   \n1                            7.4                    7.4   \n2                            7.6                    7.6   \n3                            6.4                    5.6   \n4                            5.8                    5.0   \n...                          ...                    ...   \n10785                        1.8                    1.8   \n10786                        2.2                    2.2   \n10787                        2.4                    2.4   \n10788                        2.6                    2.6   \n10789                        3.2                    3.2   \n\n       bg_value__mean_second_derivative_central  bg_value__median  ...  \\\n0                                         1.250             108.0  ...   \n1                                         0.250             116.0  ...   \n2                                        -0.125             123.5  ...   \n3                                        -1.250             131.0  ...   \n4                                        -0.250             137.5  ...   \n...                                         ...               ...  ...   \n10785                                     0.125             153.5  ...   \n10786                                     0.125             155.5  ...   \n10787                                     0.000             157.0  ...   \n10788                                     0.375             159.5  ...   \n10789                                     0.250             162.5  ...   \n\n       bg_value__matrix_profile__feature_\"max\"__threshold_0.98  \\\n0                                                    NaN         \n1                                                    NaN         \n2                                                    NaN         \n3                                                    NaN         \n4                                                    NaN         \n...                                                  ...         \n10785                                                NaN         \n10786                                                NaN         \n10787                                                NaN         \n10788                                                NaN         \n10789                                                NaN         \n\n       bg_value__matrix_profile__feature_\"mean\"__threshold_0.98  \\\n0                                                    NaN          \n1                                                    NaN          \n2                                                    NaN          \n3                                                    NaN          \n4                                                    NaN          \n...                                                  ...          \n10785                                                NaN          \n10786                                                NaN          \n10787                                                NaN          \n10788                                                NaN          \n10789                                                NaN          \n\n       bg_value__matrix_profile__feature_\"median\"__threshold_0.98  \\\n0                                                    NaN            \n1                                                    NaN            \n2                                                    NaN            \n3                                                    NaN            \n4                                                    NaN            \n...                                                  ...            \n10785                                                NaN            \n10786                                                NaN            \n10787                                                NaN            \n10788                                                NaN            \n10789                                                NaN            \n\n       bg_value__matrix_profile__feature_\"25\"__threshold_0.98  \\\n0                                                    NaN        \n1                                                    NaN        \n2                                                    NaN        \n3                                                    NaN        \n4                                                    NaN        \n...                                                  ...        \n10785                                                NaN        \n10786                                                NaN        \n10787                                                NaN        \n10788                                                NaN        \n10789                                                NaN        \n\n       bg_value__matrix_profile__feature_\"75\"__threshold_0.98  start    end  \\\n0                                                    NaN           0      5   \n1                                                    NaN           1      6   \n2                                                    NaN           2      7   \n3                                                    NaN           3      8   \n4                                                    NaN           4      9   \n...                                                  ...         ...    ...   \n10785                                                NaN       10785  10790   \n10786                                                NaN       10786  10791   \n10787                                                NaN       10787  10792   \n10788                                                NaN       10788  10793   \n10789                                                NaN       10789  10794   \n\n       start_time  end_time  label  \n0            0.00      0.42    135  \n1            0.08      0.50    142  \n2            0.17      0.58    140  \n3            0.25      0.67    145  \n4            0.33      0.75    148  \n...           ...       ...    ...  \n10785     1005.82   1006.23    161  \n10786     1005.90   1006.32    164  \n10787     1005.98   1006.40    168  \n10788     1006.07   1006.48    172  \n10789     1006.15   1006.57    176  \n\n[10790 rows x 792 columns]",
      "text/html": "<div>\n<style scoped>\n    .dataframe tbody tr th:only-of-type {\n        vertical-align: middle;\n    }\n\n    .dataframe tbody tr th {\n        vertical-align: top;\n    }\n\n    .dataframe thead th {\n        text-align: right;\n    }\n</style>\n<table border=\"1\" class=\"dataframe\">\n  <thead>\n    <tr style=\"text-align: right;\">\n      <th></th>\n      <th>bg_value__variance_larger_than_standard_deviation</th>\n      <th>bg_value__has_duplicate_max</th>\n      <th>bg_value__has_duplicate_min</th>\n      <th>bg_value__has_duplicate</th>\n      <th>bg_value__sum_values</th>\n      <th>bg_value__abs_energy</th>\n      <th>bg_value__mean_abs_change</th>\n      <th>bg_value__mean_change</th>\n      <th>bg_value__mean_second_derivative_central</th>\n      <th>bg_value__median</th>\n      <th>...</th>\n      <th>bg_value__matrix_profile__feature_\"max\"__threshold_0.98</th>\n      <th>bg_value__matrix_profile__feature_\"mean\"__threshold_0.98</th>\n      <th>bg_value__matrix_profile__feature_\"median\"__threshold_0.98</th>\n      <th>bg_value__matrix_profile__feature_\"25\"__threshold_0.98</th>\n      <th>bg_value__matrix_profile__feature_\"75\"__threshold_0.98</th>\n      <th>start</th>\n      <th>end</th>\n      <th>start_time</th>\n      <th>end_time</th>\n      <th>label</th>\n    </tr>\n  </thead>\n  <tbody>\n    <tr>\n      <th>0</th>\n      <td>1.0</td>\n      <td>0.0</td>\n      <td>0.0</td>\n      <td>0.0</td>\n      <td>662.0</td>\n      <td>73694.0</td>\n      <td>6.4</td>\n      <td>5.2</td>\n      <td>1.250</td>\n      <td>108.0</td>\n      <td>...</td>\n      <td>NaN</td>\n      <td>NaN</td>\n      <td>NaN</td>\n      <td>NaN</td>\n      <td>NaN</td>\n      <td>0</td>\n      <td>5</td>\n      <td>0.00</td>\n      <td>0.42</td>\n      <td>135</td>\n    </tr>\n    <tr>\n      <th>1</th>\n      <td>1.0</td>\n      <td>0.0</td>\n      <td>0.0</td>\n      <td>0.0</td>\n      <td>696.0</td>\n      <td>81718.0</td>\n      <td>7.4</td>\n      <td>7.4</td>\n      <td>0.250</td>\n      <td>116.0</td>\n      <td>...</td>\n      <td>NaN</td>\n      <td>NaN</td>\n      <td>NaN</td>\n      <td>NaN</td>\n      <td>NaN</td>\n      <td>1</td>\n      <td>6</td>\n      <td>0.08</td>\n      <td>0.50</td>\n      <td>142</td>\n    </tr>\n    <tr>\n      <th>2</th>\n      <td>1.0</td>\n      <td>0.0</td>\n      <td>0.0</td>\n      <td>0.0</td>\n      <td>740.0</td>\n      <td>92278.0</td>\n      <td>7.6</td>\n      <td>7.6</td>\n      <td>-0.125</td>\n      <td>123.5</td>\n      <td>...</td>\n      <td>NaN</td>\n      <td>NaN</td>\n      <td>NaN</td>\n      <td>NaN</td>\n      <td>NaN</td>\n      <td>2</td>\n      <td>7</td>\n      <td>0.17</td>\n      <td>0.58</td>\n      <td>140</td>\n    </tr>\n    <tr>\n      <th>3</th>\n      <td>1.0</td>\n      <td>0.0</td>\n      <td>0.0</td>\n      <td>0.0</td>\n      <td>776.0</td>\n      <td>101062.0</td>\n      <td>6.4</td>\n      <td>5.6</td>\n      <td>-1.250</td>\n      <td>131.0</td>\n      <td>...</td>\n      <td>NaN</td>\n      <td>NaN</td>\n      <td>NaN</td>\n      <td>NaN</td>\n      <td>NaN</td>\n      <td>3</td>\n      <td>8</td>\n      <td>0.25</td>\n      <td>0.67</td>\n      <td>145</td>\n    </tr>\n    <tr>\n      <th>4</th>\n      <td>1.0</td>\n      <td>0.0</td>\n      <td>0.0</td>\n      <td>0.0</td>\n      <td>809.0</td>\n      <td>109543.0</td>\n      <td>5.8</td>\n      <td>5.0</td>\n      <td>-0.250</td>\n      <td>137.5</td>\n      <td>...</td>\n      <td>NaN</td>\n      <td>NaN</td>\n      <td>NaN</td>\n      <td>NaN</td>\n      <td>NaN</td>\n      <td>4</td>\n      <td>9</td>\n      <td>0.33</td>\n      <td>0.75</td>\n      <td>148</td>\n    </tr>\n    <tr>\n      <th>...</th>\n      <td>...</td>\n      <td>...</td>\n      <td>...</td>\n      <td>...</td>\n      <td>...</td>\n      <td>...</td>\n      <td>...</td>\n      <td>...</td>\n      <td>...</td>\n      <td>...</td>\n      <td>...</td>\n      <td>...</td>\n      <td>...</td>\n      <td>...</td>\n      <td>...</td>\n      <td>...</td>\n      <td>...</td>\n      <td>...</td>\n      <td>...</td>\n      <td>...</td>\n      <td>...</td>\n    </tr>\n    <tr>\n      <th>10785</th>\n      <td>1.0</td>\n      <td>0.0</td>\n      <td>0.0</td>\n      <td>0.0</td>\n      <td>920.0</td>\n      <td>141130.0</td>\n      <td>1.8</td>\n      <td>1.8</td>\n      <td>0.125</td>\n      <td>153.5</td>\n      <td>...</td>\n      <td>NaN</td>\n      <td>NaN</td>\n      <td>NaN</td>\n      <td>NaN</td>\n      <td>NaN</td>\n      <td>10785</td>\n      <td>10790</td>\n      <td>1005.82</td>\n      <td>1006.23</td>\n      <td>161</td>\n    </tr>\n    <tr>\n      <th>10786</th>\n      <td>1.0</td>\n      <td>0.0</td>\n      <td>0.0</td>\n      <td>0.0</td>\n      <td>932.0</td>\n      <td>144850.0</td>\n      <td>2.2</td>\n      <td>2.2</td>\n      <td>0.125</td>\n      <td>155.5</td>\n      <td>...</td>\n      <td>NaN</td>\n      <td>NaN</td>\n      <td>NaN</td>\n      <td>NaN</td>\n      <td>NaN</td>\n      <td>10786</td>\n      <td>10791</td>\n      <td>1005.90</td>\n      <td>1006.32</td>\n      <td>164</td>\n    </tr>\n    <tr>\n      <th>10787</th>\n      <td>1.0</td>\n      <td>0.0</td>\n      <td>0.0</td>\n      <td>0.0</td>\n      <td>946.0</td>\n      <td>149246.0</td>\n      <td>2.4</td>\n      <td>2.4</td>\n      <td>0.000</td>\n      <td>157.0</td>\n      <td>...</td>\n      <td>NaN</td>\n      <td>NaN</td>\n      <td>NaN</td>\n      <td>NaN</td>\n      <td>NaN</td>\n      <td>10787</td>\n      <td>10792</td>\n      <td>1005.98</td>\n      <td>1006.40</td>\n      <td>168</td>\n    </tr>\n    <tr>\n      <th>10788</th>\n      <td>1.0</td>\n      <td>0.0</td>\n      <td>0.0</td>\n      <td>0.0</td>\n      <td>962.0</td>\n      <td>154366.0</td>\n      <td>2.6</td>\n      <td>2.6</td>\n      <td>0.375</td>\n      <td>159.5</td>\n      <td>...</td>\n      <td>NaN</td>\n      <td>NaN</td>\n      <td>NaN</td>\n      <td>NaN</td>\n      <td>NaN</td>\n      <td>10788</td>\n      <td>10793</td>\n      <td>1006.07</td>\n      <td>1006.48</td>\n      <td>172</td>\n    </tr>\n    <tr>\n      <th>10789</th>\n      <td>1.0</td>\n      <td>0.0</td>\n      <td>0.0</td>\n      <td>0.0</td>\n      <td>979.0</td>\n      <td>159925.0</td>\n      <td>3.2</td>\n      <td>3.2</td>\n      <td>0.250</td>\n      <td>162.5</td>\n      <td>...</td>\n      <td>NaN</td>\n      <td>NaN</td>\n      <td>NaN</td>\n      <td>NaN</td>\n      <td>NaN</td>\n      <td>10789</td>\n      <td>10794</td>\n      <td>1006.15</td>\n      <td>1006.57</td>\n      <td>176</td>\n    </tr>\n  </tbody>\n</table>\n<p>10790 rows × 792 columns</p>\n</div>"
     },
     "metadata": {}
    }
   ],
   "execution_count": 3
  },
  {
   "cell_type": "markdown",
   "source": "<a style='text-decoration:none;line-height:16px;display:flex;color:#5B5B62;padding:10px;justify-content:end;' href='https://deepnote.com?utm_source=created-in-deepnote-cell&projectId=d560f233-0034-499f-bc4e-7ada8795cb9f' target=\"_blank\">\n<img alt='Created in deepnote.com' style='display:inline;max-height:16px;margin:0px;margin-right:7.5px;' src='data:image/svg+xml;base64,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' > </img>\nCreated in <span style='font-weight:600;margin-left:4px;'>Deepnote</span></a>",
   "metadata": {
    "tags": [],
    "created_in_deepnote_cell": true,
    "deepnote_cell_type": "markdown"
   }
  }
 ],
 "nbformat": 4,
 "nbformat_minor": 2,
 "metadata": {
  "orig_nbformat": 2,
  "deepnote": {
   "is_reactive": false
  },
  "deepnote_notebook_id": "0e255da5-b45f-4f3a-9a9c-fdc030370add",
  "deepnote_execution_queue": []
 }
}