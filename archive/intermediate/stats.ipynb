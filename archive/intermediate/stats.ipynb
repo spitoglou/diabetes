{
 "cells": [
  {
   "cell_type": "code",
   "execution_count": 1,
   "metadata": {},
   "outputs": [],
   "source": [
    "from src.bgc_providers.ohio_bgc_provider import OhioBgcProvider"
   ]
  },
  {
   "cell_type": "code",
   "execution_count": 9,
   "metadata": {},
   "outputs": [
    {
     "name": "stdout",
     "output_type": "stream",
     "text": [
      "    part_of_day  bg_value\n",
      "0  5.Late Night       101\n",
      "1  5.Late Night        98\n",
      "2  5.Late Night       104\n",
      "3  5.Late Night       112\n",
      "4  5.Late Night       120\n",
      "   part_of_day  bg_value\n",
      "0  2.Afternoon       219\n",
      "1  2.Afternoon       229\n",
      "2  2.Afternoon       224\n",
      "3  2.Afternoon       221\n",
      "4  2.Afternoon       215\n",
      "   part_of_day  bg_value\n",
      "0  2.Afternoon       101\n",
      "1  2.Afternoon       100\n",
      "2  2.Afternoon       100\n",
      "3  2.Afternoon        99\n",
      "4  2.Afternoon        98\n",
      "   part_of_day  bg_value\n",
      "0  2.Afternoon       128\n",
      "1  2.Afternoon       123\n",
      "2  2.Afternoon       120\n",
      "3  2.Afternoon       124\n",
      "4  2.Afternoon       121\n",
      "   part_of_day  bg_value\n",
      "0    1.Morning       116\n",
      "1    1.Morning       117\n",
      "2  2.Afternoon       119\n",
      "3  2.Afternoon       116\n",
      "4  2.Afternoon       111\n",
      "  part_of_day  bg_value\n",
      "0   3.Evening       160\n",
      "1   3.Evening       158\n",
      "2   3.Evening       160\n",
      "3   3.Evening       166\n",
      "4   3.Evening       175\n"
     ]
    }
   ],
   "source": [
    "patients = [559, 563, 570, 575, 588, 591]\n",
    "\n",
    "for patient in patients:\n",
    "    provider = OhioBgcProvider(ohio_no=patient)\n",
    "    df = provider.tsfresh_dataframe()[['part_of_day', 'bg_value']]\n",
    "    df['part_of_day'] = df['part_of_day'].replace(\n",
    "        ['late night', 'night', 'morning', 'afternoon', 'evening'],\n",
    "        ['5.Late Night', '4.Night', '1.Morning', '2.Afternoon', '3.Evening']\n",
    "    )\n",
    "    print(df.head())\n",
    "    df.to_excel(f'{patient}_part_of_day.xlsx')\n"
   ]
  },
  {
   "cell_type": "code",
   "execution_count": null,
   "metadata": {},
   "outputs": [],
   "source": []
  }
 ],
 "metadata": {
  "kernelspec": {
   "display_name": "phd",
   "language": "python",
   "name": "python3"
  },
  "language_info": {
   "codemirror_mode": {
    "name": "ipython",
    "version": 3
   },
   "file_extension": ".py",
   "mimetype": "text/x-python",
   "name": "python",
   "nbconvert_exporter": "python",
   "pygments_lexer": "ipython3",
   "version": "3.8.13"
  },
  "orig_nbformat": 4
 },
 "nbformat": 4,
 "nbformat_minor": 2
}
