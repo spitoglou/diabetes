{
 "cells": [
  {
   "cell_type": "code",
   "execution_count": 1,
   "metadata": {},
   "outputs": [],
   "source": [
    "from src.bgc_providers.ohio_bgc_provider import OhioBgcProvider\n"
   ]
  },
  {
   "cell_type": "code",
   "execution_count": 2,
   "metadata": {},
   "outputs": [],
   "source": [
    "provider = OhioBgcProvider()"
   ]
  },
  {
   "cell_type": "code",
   "execution_count": 3,
   "metadata": {},
   "outputs": [],
   "source": [
    "stream = provider.simulate_glucose_stream()"
   ]
  },
  {
   "cell_type": "code",
   "execution_count": 4,
   "metadata": {},
   "outputs": [
    {
     "name": "stderr",
     "output_type": "stream",
     "text": [
      "2021-06-14 13:00:15.867 | INFO     | src.bgc_providers.ohio_bgc_provider:simulate_glucose_stream:32 - {'ts': '07-12-2021 01:17:00', 'value': '101'}\n",
      "2021-06-14 13:00:15.875 | INFO     | src.bgc_providers.ohio_bgc_provider:simulate_glucose_stream:32 - {'ts': '07-12-2021 01:22:00', 'value': '98'}\n",
      "2021-06-14 13:00:15.875 | INFO     | src.bgc_providers.ohio_bgc_provider:simulate_glucose_stream:32 - {'ts': '07-12-2021 01:27:00', 'value': '104'}\n",
      "2021-06-14 13:00:15.879 | INFO     | src.bgc_providers.ohio_bgc_provider:simulate_glucose_stream:32 - {'ts': '07-12-2021 01:32:00', 'value': '112'}\n",
      "2021-06-14 13:00:15.883 | INFO     | src.bgc_providers.ohio_bgc_provider:simulate_glucose_stream:32 - {'ts': '07-12-2021 01:37:00', 'value': '120'}\n",
      "2021-06-14 13:00:15.887 | INFO     | src.bgc_providers.ohio_bgc_provider:simulate_glucose_stream:32 - {'ts': '07-12-2021 01:42:00', 'value': '127'}\n",
      "2021-06-14 13:00:15.887 | INFO     | src.bgc_providers.ohio_bgc_provider:simulate_glucose_stream:32 - {'ts': '07-12-2021 01:47:00', 'value': '135'}\n",
      "2021-06-14 13:00:15.891 | INFO     | src.bgc_providers.ohio_bgc_provider:simulate_glucose_stream:32 - {'ts': '07-12-2021 01:52:00', 'value': '142'}\n",
      "2021-06-14 13:00:15.891 | INFO     | src.bgc_providers.ohio_bgc_provider:simulate_glucose_stream:32 - {'ts': '07-12-2021 01:57:00', 'value': '140'}\n",
      "2021-06-14 13:00:15.891 | INFO     | src.bgc_providers.ohio_bgc_provider:simulate_glucose_stream:32 - {'ts': '07-12-2021 02:02:00', 'value': '145'}\n"
     ]
    },
    {
     "name": "stdout",
     "output_type": "stream",
     "text": [
      "{'time': 1638839820.0, 'value': 101.0, 'patient': '559'}\n",
      "{'time': 1638840120.0, 'value': 98.0, 'patient': '559'}\n",
      "{'time': 1638840420.0, 'value': 104.0, 'patient': '559'}\n",
      "{'time': 1638840720.0, 'value': 112.0, 'patient': '559'}\n",
      "{'time': 1638841020.0, 'value': 120.0, 'patient': '559'}\n",
      "{'time': 1638841320.0, 'value': 127.0, 'patient': '559'}\n",
      "{'time': 1638841620.0, 'value': 135.0, 'patient': '559'}\n",
      "{'time': 1638841920.0, 'value': 142.0, 'patient': '559'}\n",
      "{'time': 1638842220.0, 'value': 140.0, 'patient': '559'}\n",
      "{'time': 1638842520.0, 'value': 145.0, 'patient': '559'}\n"
     ]
    }
   ],
   "source": [
    "for i in range(10):\n",
    "    print(next(stream))"
   ]
  },
  {
   "cell_type": "code",
   "execution_count": 5,
   "metadata": {},
   "outputs": [
    {
     "data": {
      "text/plain": [
       "list"
      ]
     },
     "execution_count": 5,
     "metadata": {},
     "output_type": "execute_result"
    }
   ],
   "source": [
    "data = provider.get_glycose_levels()\n",
    "type(data)"
   ]
  },
  {
   "cell_type": "code",
   "execution_count": 6,
   "metadata": {},
   "outputs": [
    {
     "data": {
      "text/plain": [
       "{'ts': '07-12-2021 01:32:00', 'value': '112'}"
      ]
     },
     "execution_count": 6,
     "metadata": {},
     "output_type": "execute_result"
    }
   ],
   "source": [
    "data[3].attrib"
   ]
  },
  {
   "cell_type": "code",
   "execution_count": 7,
   "metadata": {},
   "outputs": [
    {
     "data": {
      "text/plain": [
       "10796"
      ]
     },
     "execution_count": 7,
     "metadata": {},
     "output_type": "execute_result"
    }
   ],
   "source": [
    "len(data)"
   ]
  },
  {
   "cell_type": "code",
   "execution_count": 8,
   "metadata": {},
   "outputs": [],
   "source": [
    "from sandbox import *"
   ]
  },
  {
   "cell_type": "code",
   "execution_count": 9,
   "metadata": {},
   "outputs": [
    {
     "data": {
      "image/png": "[encoded data removed]",
      "text/plain": [
       "<Figure size 432x288 with 1 Axes>"
      ]
     },
     "metadata": {
      "needs_background": "light"
     },
     "output_type": "display_data"
    }
   ],
   "source": [
    "provider = OhioBgcProvider()\n",
    "df2 = provider.tsfresh_dataframe(trunc=12)"
   ]
  },
  {
   "cell_type": "code",
   "execution_count": 10,
   "metadata": {},
   "outputs": [
    {
     "data": {
      "text/html": [
       "<div>\n",
       "<style scoped>\n",
       "    .dataframe tbody tr th:only-of-type {\n",
       "        vertical-align: middle;\n",
       "    }\n",
       "\n",
       "    .dataframe tbody tr th {\n",
       "        vertical-align: top;\n",
       "    }\n",
       "\n",
       "    .dataframe thead th {\n",
       "        text-align: right;\n",
       "    }\n",
       "</style>\n",
       "<table border=\"1\" class=\"dataframe\">\n",
       "  <thead>\n",
       "    <tr style=\"text-align: right;\">\n",
       "      <th></th>\n",
       "      <th>time</th>\n",
       "      <th>bg_value</th>\n",
       "      <th>id</th>\n",
       "    </tr>\n",
       "  </thead>\n",
       "  <tbody>\n",
       "    <tr>\n",
       "      <th>0</th>\n",
       "      <td>0.00</td>\n",
       "      <td>101</td>\n",
       "      <td>a</td>\n",
       "    </tr>\n",
       "    <tr>\n",
       "      <th>1</th>\n",
       "      <td>0.08</td>\n",
       "      <td>98</td>\n",
       "      <td>a</td>\n",
       "    </tr>\n",
       "    <tr>\n",
       "      <th>2</th>\n",
       "      <td>0.17</td>\n",
       "      <td>104</td>\n",
       "      <td>a</td>\n",
       "    </tr>\n",
       "    <tr>\n",
       "      <th>3</th>\n",
       "      <td>0.25</td>\n",
       "      <td>112</td>\n",
       "      <td>a</td>\n",
       "    </tr>\n",
       "    <tr>\n",
       "      <th>4</th>\n",
       "      <td>0.33</td>\n",
       "      <td>120</td>\n",
       "      <td>a</td>\n",
       "    </tr>\n",
       "    <tr>\n",
       "      <th>5</th>\n",
       "      <td>0.42</td>\n",
       "      <td>127</td>\n",
       "      <td>a</td>\n",
       "    </tr>\n",
       "    <tr>\n",
       "      <th>6</th>\n",
       "      <td>0.50</td>\n",
       "      <td>135</td>\n",
       "      <td>a</td>\n",
       "    </tr>\n",
       "    <tr>\n",
       "      <th>7</th>\n",
       "      <td>0.58</td>\n",
       "      <td>142</td>\n",
       "      <td>a</td>\n",
       "    </tr>\n",
       "    <tr>\n",
       "      <th>8</th>\n",
       "      <td>0.67</td>\n",
       "      <td>140</td>\n",
       "      <td>a</td>\n",
       "    </tr>\n",
       "    <tr>\n",
       "      <th>9</th>\n",
       "      <td>0.75</td>\n",
       "      <td>145</td>\n",
       "      <td>a</td>\n",
       "    </tr>\n",
       "    <tr>\n",
       "      <th>10</th>\n",
       "      <td>0.83</td>\n",
       "      <td>148</td>\n",
       "      <td>a</td>\n",
       "    </tr>\n",
       "    <tr>\n",
       "      <th>11</th>\n",
       "      <td>0.92</td>\n",
       "      <td>151</td>\n",
       "      <td>a</td>\n",
       "    </tr>\n",
       "  </tbody>\n",
       "</table>\n",
       "</div>"
      ],
      "text/plain": [
       "    time  bg_value id\n",
       "0   0.00       101  a\n",
       "1   0.08        98  a\n",
       "2   0.17       104  a\n",
       "3   0.25       112  a\n",
       "4   0.33       120  a\n",
       "5   0.42       127  a\n",
       "6   0.50       135  a\n",
       "7   0.58       142  a\n",
       "8   0.67       140  a\n",
       "9   0.75       145  a\n",
       "10  0.83       148  a\n",
       "11  0.92       151  a"
      ]
     },
     "execution_count": 10,
     "metadata": {},
     "output_type": "execute_result"
    }
   ],
   "source": [
    "df2"
   ]
  },
  {
   "cell_type": "code",
   "execution_count": 11,
   "metadata": {},
   "outputs": [],
   "source": [
    "from src.featurizers.tsfresh import TsfreshFeaturizer"
   ]
  },
  {
   "cell_type": "code",
   "execution_count": 12,
   "metadata": {},
   "outputs": [],
   "source": [
    "ts = TsfreshFeaturizer(df2,10,1)"
   ]
  },
  {
   "cell_type": "code",
   "execution_count": 13,
   "metadata": {},
   "outputs": [],
   "source": [
    "# ts.calculate_master_features()"
   ]
  },
  {
   "cell_type": "code",
   "execution_count": 14,
   "metadata": {},
   "outputs": [],
   "source": [
    "#ts.create_feature_dataframe()"
   ]
  },
  {
   "cell_type": "code",
   "execution_count": 15,
   "metadata": {},
   "outputs": [],
   "source": [
    "#ts.create_target_array()"
   ]
  },
  {
   "cell_type": "code",
   "execution_count": 16,
   "metadata": {},
   "outputs": [
    {
     "name": "stderr",
     "output_type": "stream",
     "text": [
      "100%|██████████████████████████████████████████████████████████████████████████████████████████████████████████████████████████████████████████████████████████████████████████████████████████████████████████| 2/2 [00:12<00:00,  6.05s/it]\n"
     ]
    },
    {
     "data": {
      "text/html": [
       "<div>\n",
       "<style scoped>\n",
       "    .dataframe tbody tr th:only-of-type {\n",
       "        vertical-align: middle;\n",
       "    }\n",
       "\n",
       "    .dataframe tbody tr th {\n",
       "        vertical-align: top;\n",
       "    }\n",
       "\n",
       "    .dataframe thead th {\n",
       "        text-align: right;\n",
       "    }\n",
       "</style>\n",
       "<table border=\"1\" class=\"dataframe\">\n",
       "  <thead>\n",
       "    <tr style=\"text-align: right;\">\n",
       "      <th></th>\n",
       "      <th>bg_value__sum_values</th>\n",
       "      <th>bg_value__median</th>\n",
       "      <th>bg_value__mean</th>\n",
       "      <th>bg_value__length</th>\n",
       "      <th>bg_value__standard_deviation</th>\n",
       "      <th>bg_value__variance</th>\n",
       "      <th>bg_value__root_mean_square</th>\n",
       "      <th>bg_value__maximum</th>\n",
       "      <th>bg_value__minimum</th>\n",
       "      <th>start</th>\n",
       "      <th>end</th>\n",
       "      <th>start_time</th>\n",
       "      <th>end_time</th>\n",
       "      <th>label</th>\n",
       "    </tr>\n",
       "  </thead>\n",
       "  <tbody>\n",
       "    <tr>\n",
       "      <th>0</th>\n",
       "      <td>1224.0</td>\n",
       "      <td>123.5</td>\n",
       "      <td>122.4</td>\n",
       "      <td>10.0</td>\n",
       "      <td>17.001176</td>\n",
       "      <td>289.04</td>\n",
       "      <td>123.575078</td>\n",
       "      <td>145.0</td>\n",
       "      <td>98.0</td>\n",
       "      <td>0</td>\n",
       "      <td>9</td>\n",
       "      <td>0.00</td>\n",
       "      <td>0.75</td>\n",
       "      <td>148</td>\n",
       "    </tr>\n",
       "    <tr>\n",
       "      <th>1</th>\n",
       "      <td>1271.0</td>\n",
       "      <td>131.0</td>\n",
       "      <td>127.1</td>\n",
       "      <td>10.0</td>\n",
       "      <td>16.931923</td>\n",
       "      <td>286.69</td>\n",
       "      <td>128.222853</td>\n",
       "      <td>148.0</td>\n",
       "      <td>98.0</td>\n",
       "      <td>1</td>\n",
       "      <td>10</td>\n",
       "      <td>0.08</td>\n",
       "      <td>0.83</td>\n",
       "      <td>151</td>\n",
       "    </tr>\n",
       "  </tbody>\n",
       "</table>\n",
       "</div>"
      ],
      "text/plain": [
       "   bg_value__sum_values  bg_value__median  bg_value__mean  bg_value__length  \\\n",
       "0                1224.0             123.5           122.4              10.0   \n",
       "1                1271.0             131.0           127.1              10.0   \n",
       "\n",
       "   bg_value__standard_deviation  bg_value__variance  \\\n",
       "0                     17.001176              289.04   \n",
       "1                     16.931923              286.69   \n",
       "\n",
       "   bg_value__root_mean_square  bg_value__maximum  bg_value__minimum  start  \\\n",
       "0                  123.575078              145.0               98.0      0   \n",
       "1                  128.222853              148.0               98.0      1   \n",
       "\n",
       "   end  start_time  end_time  label  \n",
       "0    9        0.00      0.75    148  \n",
       "1   10        0.08      0.83    151  "
      ]
     },
     "execution_count": 16,
     "metadata": {},
     "output_type": "execute_result"
    }
   ],
   "source": [
    "ts.create_labeled_dataframe()"
   ]
  }
 ],
 "metadata": {
  "interpreter": {
   "hash": "e4d0a414c771098e74e66c63e6a2ec91802c8f641bd6d1dd9eb31b1e7af7c7cd"
  },
  "kernelspec": {
   "display_name": "Python 3",
   "language": "python",
   "name": "python3"
  },
  "language_info": {
   "codemirror_mode": {
    "name": "ipython",
    "version": 3
   },
   "file_extension": ".py",
   "mimetype": "text/x-python",
   "name": "python",
   "nbconvert_exporter": "python",
   "pygments_lexer": "ipython3",
   "version": "3.8.10"
  }
 },
 "nbformat": 4,
 "nbformat_minor": 4
}
