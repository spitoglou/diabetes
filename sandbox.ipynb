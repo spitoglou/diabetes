{
 "metadata": {
  "language_info": {
   "codemirror_mode": {
    "name": "ipython",
    "version": 3
   },
   "file_extension": ".py",
   "mimetype": "text/x-python",
   "name": "python",
   "nbconvert_exporter": "python",
   "pygments_lexer": "ipython3",
   "version": "3.8.10"
  },
  "orig_nbformat": 2,
  "kernelspec": {
   "name": "python3810jvsc74a57bd0e4d0a414c771098e74e66c63e6a2ec91802c8f641bd6d1dd9eb31b1e7af7c7cd",
   "display_name": "Python 3.8.10 64-bit"
  }
 },
 "nbformat": 4,
 "nbformat_minor": 2,
 "cells": [
  {
   "cell_type": "code",
   "execution_count": 1,
   "metadata": {},
   "outputs": [],
   "source": [
    "from src.bgc_providers.ohio_bgc_provider import OhioBgcProvider\n"
   ]
  },
  {
   "cell_type": "code",
   "execution_count": 2,
   "metadata": {},
   "outputs": [],
   "source": [
    "provider = OhioBgcProvider()"
   ]
  },
  {
   "cell_type": "code",
   "execution_count": 3,
   "metadata": {},
   "outputs": [],
   "source": [
    "stream = provider.simulate_glucose_stream()"
   ]
  },
  {
   "cell_type": "code",
   "execution_count": 4,
   "metadata": {},
   "outputs": [
    {
     "output_type": "stream",
     "name": "stderr",
     "text": [
      "2021-06-14 09:39:15.867 | INFO     | src.bgc_providers.ohio_bgc_provider:simulate_glucose_stream:32 - {'ts': '07-12-2021 01:17:00', 'value': '101'}\n",
      "2021-06-14 09:39:15.870 | INFO     | src.bgc_providers.ohio_bgc_provider:simulate_glucose_stream:32 - {'ts': '07-12-2021 01:22:00', 'value': '98'}\n",
      "2021-06-14 09:39:15.875 | INFO     | src.bgc_providers.ohio_bgc_provider:simulate_glucose_stream:32 - {'ts': '07-12-2021 01:27:00', 'value': '104'}\n",
      "2021-06-14 09:39:15.878 | INFO     | src.bgc_providers.ohio_bgc_provider:simulate_glucose_stream:32 - {'ts': '07-12-2021 01:32:00', 'value': '112'}\n",
      "2021-06-14 09:39:15.880 | INFO     | src.bgc_providers.ohio_bgc_provider:simulate_glucose_stream:32 - {'ts': '07-12-2021 01:37:00', 'value': '120'}\n",
      "2021-06-14 09:39:15.882 | INFO     | src.bgc_providers.ohio_bgc_provider:simulate_glucose_stream:32 - {'ts': '07-12-2021 01:42:00', 'value': '127'}\n",
      "2021-06-14 09:39:15.883 | INFO     | src.bgc_providers.ohio_bgc_provider:simulate_glucose_stream:32 - {'ts': '07-12-2021 01:47:00', 'value': '135'}\n",
      "2021-06-14 09:39:15.884 | INFO     | src.bgc_providers.ohio_bgc_provider:simulate_glucose_stream:32 - {'ts': '07-12-2021 01:52:00', 'value': '142'}\n",
      "2021-06-14 09:39:15.886 | INFO     | src.bgc_providers.ohio_bgc_provider:simulate_glucose_stream:32 - {'ts': '07-12-2021 01:57:00', 'value': '140'}\n",
      "2021-06-14 09:39:15.887 | INFO     | src.bgc_providers.ohio_bgc_provider:simulate_glucose_stream:32 - {'ts': '07-12-2021 02:02:00', 'value': '145'}\n",
      "{'time': 1638839820.0, 'value': 101.0, 'patient': '559'}\n",
      "{'time': 1638840120.0, 'value': 98.0, 'patient': '559'}\n",
      "{'time': 1638840420.0, 'value': 104.0, 'patient': '559'}\n",
      "{'time': 1638840720.0, 'value': 112.0, 'patient': '559'}\n",
      "{'time': 1638841020.0, 'value': 120.0, 'patient': '559'}\n",
      "{'time': 1638841320.0, 'value': 127.0, 'patient': '559'}\n",
      "{'time': 1638841620.0, 'value': 135.0, 'patient': '559'}\n",
      "{'time': 1638841920.0, 'value': 142.0, 'patient': '559'}\n",
      "{'time': 1638842220.0, 'value': 140.0, 'patient': '559'}\n",
      "{'time': 1638842520.0, 'value': 145.0, 'patient': '559'}\n"
     ]
    }
   ],
   "source": [
    "for i in range(10):\n",
    "    print(next(stream))"
   ]
  },
  {
   "cell_type": "code",
   "execution_count": 5,
   "metadata": {},
   "outputs": [
    {
     "output_type": "execute_result",
     "data": {
      "text/plain": [
       "list"
      ]
     },
     "metadata": {},
     "execution_count": 5
    }
   ],
   "source": [
    "data = provider.get_glycose_levels()\n",
    "type(data)"
   ]
  },
  {
   "cell_type": "code",
   "execution_count": 6,
   "metadata": {},
   "outputs": [
    {
     "output_type": "execute_result",
     "data": {
      "text/plain": [
       "{'ts': '07-12-2021 01:32:00', 'value': '112'}"
      ]
     },
     "metadata": {},
     "execution_count": 6
    }
   ],
   "source": [
    "data[3].attrib"
   ]
  },
  {
   "cell_type": "code",
   "execution_count": 7,
   "metadata": {},
   "outputs": [
    {
     "output_type": "execute_result",
     "data": {
      "text/plain": [
       "10796"
      ]
     },
     "metadata": {},
     "execution_count": 7
    }
   ],
   "source": [
    "len(data)"
   ]
  },
  {
   "cell_type": "code",
   "execution_count": 8,
   "metadata": {},
   "outputs": [
    {
     "output_type": "error",
     "ename": "TypeError",
     "evalue": "'method' object is not subscriptable",
     "traceback": [
      "\u001b[1;31m---------------------------------------------------------------------------\u001b[0m",
      "\u001b[1;31mTypeError\u001b[0m                                 Traceback (most recent call last)",
      "\u001b[1;32m<ipython-input-8-65f6e31ad969>\u001b[0m in \u001b[0;36m<module>\u001b[1;34m\u001b[0m\n\u001b[1;32m----> 1\u001b[1;33m \u001b[0mprovider\u001b[0m\u001b[1;33m.\u001b[0m\u001b[0mtsfresh_dataframe\u001b[0m\u001b[1;33m(\u001b[0m\u001b[1;33m)\u001b[0m\u001b[1;33m\u001b[0m\u001b[1;33m\u001b[0m\u001b[0m\n\u001b[0m",
      "\u001b[1;32mc:\\code\\python\\diabetes_github\\src\\bgc_providers\\ohio_bgc_provider.py\u001b[0m in \u001b[0;36mtsfresh_dataframe\u001b[1;34m(self, trunc)\u001b[0m\n\u001b[0;32m     39\u001b[0m \u001b[1;33m\u001b[0m\u001b[0m\n\u001b[0;32m     40\u001b[0m     \u001b[1;32mdef\u001b[0m \u001b[0mtsfresh_dataframe\u001b[0m\u001b[1;33m(\u001b[0m\u001b[0mself\u001b[0m\u001b[1;33m,\u001b[0m \u001b[0mtrunc\u001b[0m\u001b[1;33m=\u001b[0m\u001b[1;36m100\u001b[0m\u001b[1;33m)\u001b[0m\u001b[1;33m:\u001b[0m\u001b[1;33m\u001b[0m\u001b[1;33m\u001b[0m\u001b[0m\n\u001b[1;32m---> 41\u001b[1;33m         \u001b[0mbase_time_string\u001b[0m \u001b[1;33m=\u001b[0m \u001b[0mself\u001b[0m\u001b[1;33m.\u001b[0m\u001b[0mget_glycose_levels\u001b[0m\u001b[1;33m[\u001b[0m\u001b[1;36m0\u001b[0m\u001b[1;33m]\u001b[0m\u001b[1;33m.\u001b[0m\u001b[0mattrib\u001b[0m\u001b[1;33m[\u001b[0m\u001b[1;34m'ts'\u001b[0m\u001b[1;33m]\u001b[0m\u001b[1;33m\u001b[0m\u001b[1;33m\u001b[0m\u001b[0m\n\u001b[0m\u001b[0;32m     42\u001b[0m         \u001b[0mbase_time\u001b[0m \u001b[1;33m=\u001b[0m \u001b[0mdatetime\u001b[0m\u001b[1;33m.\u001b[0m\u001b[0mstrptime\u001b[0m\u001b[1;33m(\u001b[0m\u001b[0mbase_time_string\u001b[0m\u001b[1;33m,\u001b[0m \u001b[1;34m'%d-%m-%Y %H:%M:%S'\u001b[0m\u001b[1;33m)\u001b[0m\u001b[1;33m\u001b[0m\u001b[1;33m\u001b[0m\u001b[0m\n\u001b[0;32m     43\u001b[0m         \u001b[1;31m# print(base_time)\u001b[0m\u001b[1;33m\u001b[0m\u001b[1;33m\u001b[0m\u001b[1;33m\u001b[0m\u001b[0m\n",
      "\u001b[1;31mTypeError\u001b[0m: 'method' object is not subscriptable"
     ]
    }
   ],
   "source": [
    "provider.tsfresh_dataframe()"
   ]
  },
  {
   "cell_type": "code",
   "execution_count": null,
   "metadata": {},
   "outputs": [],
   "source": []
  }
 ]
}