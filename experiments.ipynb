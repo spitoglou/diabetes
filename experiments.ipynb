{
 "cells": [
  {
   "cell_type": "code",
   "metadata": {
    "tags": [],
    "cell_id": "00000-4d8e5750-4a9d-4b7c-b6d9-e1a415620ad6",
    "deepnote_to_be_reexecuted": false,
    "source_hash": "1af276a1",
    "execution_start": 1623857155898,
    "execution_millis": 194291,
    "deepnote_cell_type": "code"
   },
   "source": "!pip install loguru\n!pip install pycaret[full]\n!pip install lxml\n!pip install tsfresh",
   "execution_count": 1,
   "outputs": [
    {
     "name": "stdout",
     "text": "Collecting loguru\n  Downloading loguru-0.5.3-py3-none-any.whl (57 kB)\n\u001b[K     |████████████████████████████████| 57 kB 7.2 MB/s \n\u001b[?25hInstalling collected packages: loguru\nSuccessfully installed loguru-0.5.3\nCollecting pycaret[full]\n  Downloading pycaret-2.3.1-py3-none-any.whl (261 kB)\n\u001b[K     |████████████████████████████████| 261 kB 15.1 MB/s \n\u001b[?25hCollecting gensim<4.0.0\n  Downloading gensim-3.8.3-cp38-cp38-manylinux1_x86_64.whl (24.2 MB)\n\u001b[K     |████████████████████████████████| 24.2 MB 33.0 MB/s \n\u001b[?25hCollecting lightgbm>=2.3.1\n  Downloading lightgbm-3.2.1-py3-none-manylinux1_x86_64.whl (2.0 MB)\n\u001b[K     |████████████████████████████████| 2.0 MB 46.2 MB/s \n\u001b[?25hRequirement already satisfied: pandas in /shared-libs/python3.8/py/lib/python3.8/site-packages (from pycaret[full]) (1.2.4)\nRequirement already satisfied: plotly>=4.4.1 in /shared-libs/python3.8/py/lib/python3.8/site-packages (from pycaret[full]) (4.14.3)\nCollecting mlflow\n  Downloading mlflow-1.17.0-py3-none-any.whl (14.2 MB)\n\u001b[K     |████████████████████████████████| 14.2 MB 39.3 MB/s \n\u001b[?25hCollecting scikit-plot\n  Downloading scikit_plot-0.3.7-py3-none-any.whl (33 kB)\nRequirement already satisfied: joblib in /shared-libs/python3.8/py/lib/python3.8/site-packages (from pycaret[full]) (1.0.1)\nCollecting pandas-profiling>=2.8.0\n  Downloading pandas_profiling-3.0.0-py2.py3-none-any.whl (248 kB)\n\u001b[K     |████████████████████████████████| 248 kB 56.0 MB/s \n\u001b[?25hRequirement already satisfied: numpy==1.19.5 in /shared-libs/python3.8/py/lib/python3.8/site-packages (from pycaret[full]) (1.19.5)\nRequirement already satisfied: seaborn in /shared-libs/python3.8/py/lib/python3.8/site-packages (from pycaret[full]) (0.11.1)\nCollecting mlxtend>=0.17.0\n  Downloading mlxtend-0.18.0-py2.py3-none-any.whl (1.3 MB)\n\u001b[K     |████████████████████████████████| 1.3 MB 51.9 MB/s \n\u001b[?25hCollecting pyod\n  Downloading pyod-0.8.9.tar.gz (104 kB)\n\u001b[K     |████████████████████████████████| 104 kB 55.6 MB/s \n\u001b[?25hCollecting scipy<=1.5.4\n  Downloading scipy-1.5.4-cp38-cp38-manylinux1_x86_64.whl (25.8 MB)\n\u001b[K     |████████████████████████████████| 25.8 MB 49.1 MB/s \n\u001b[?25hCollecting spacy<2.4.0\n  Downloading spacy-2.3.7-cp38-cp38-manylinux_2_17_x86_64.manylinux2014_x86_64.whl (10.5 MB)\n\u001b[K     |████████████████████████████████| 10.5 MB 54.5 MB/s \n\u001b[?25hCollecting kmodes>=0.10.1\n  Downloading kmodes-0.11.0-py2.py3-none-any.whl (18 kB)\nCollecting umap-learn\n  Downloading umap-learn-0.5.1.tar.gz (80 kB)\n\u001b[K     |████████████████████████████████| 80 kB 15.5 MB/s \n\u001b[?25hRequirement already satisfied: matplotlib in /shared-libs/python3.8/py/lib/python3.8/site-packages (from pycaret[full]) (3.4.2)\nCollecting Boruta\n  Downloading Boruta-0.3-py3-none-any.whl (56 kB)\n\u001b[K     |████████████████████████████████| 56 kB 6.9 MB/s \n\u001b[?25hCollecting wordcloud\n  Downloading wordcloud-1.8.1-cp38-cp38-manylinux1_x86_64.whl (371 kB)\n\u001b[K     |████████████████████████████████| 371 kB 38.9 MB/s \n\u001b[?25hCollecting cufflinks>=0.17.0\n  Downloading cufflinks-0.17.3.tar.gz (81 kB)\n\u001b[K     |████████████████████████████████| 81 kB 16.5 MB/s \n\u001b[?25hCollecting pyLDAvis\n  Downloading pyLDAvis-3.3.1.tar.gz (1.7 MB)\n\u001b[K     |████████████████████████████████| 1.7 MB 36.4 MB/s \n\u001b[?25h  Installing build dependencies ... \u001b[?25ldone\n\u001b[?25h  Getting requirements to build wheel ... \u001b[?25ldone\n\u001b[?25h  Installing backend dependencies ... \u001b[?25ldone\n\u001b[?25h    Preparing wheel metadata ... \u001b[?25ldone\n\u001b[?25hCollecting ipywidgets\n  Downloading ipywidgets-7.6.3-py2.py3-none-any.whl (121 kB)\n\u001b[K     |████████████████████████████████| 121 kB 55.7 MB/s \n\u001b[?25hRequirement already satisfied: nltk in /shared-libs/python3.8/py/lib/python3.8/site-packages (from pycaret[full]) (3.6.2)\nRequirement already satisfied: IPython in /shared-libs/python3.8/py-core/lib/python3.8/site-packages (from pycaret[full]) (7.24.1)\nCollecting yellowbrick>=1.0.1\n  Downloading yellowbrick-1.3.post1-py3-none-any.whl (271 kB)\n\u001b[K     |████████████████████████████████| 271 kB 54.7 MB/s \n\u001b[?25hRequirement already satisfied: textblob in /shared-libs/python3.8/py/lib/python3.8/site-packages (from pycaret[full]) (0.15.3)\nCollecting scikit-learn==0.23.2\n  Downloading scikit_learn-0.23.2-cp38-cp38-manylinux1_x86_64.whl (6.8 MB)\n\u001b[K     |████████████████████████████████| 6.8 MB 44.7 MB/s \n\u001b[?25hCollecting imbalanced-learn==0.7.0\n  Downloading imbalanced_learn-0.7.0-py3-none-any.whl (167 kB)\n\u001b[K     |████████████████████████████████| 167 kB 53.9 MB/s \n\u001b[?25hCollecting google-cloud-storage\n  Downloading google_cloud_storage-1.38.0-py2.py3-none-any.whl (103 kB)\n\u001b[K     |████████████████████████████████| 103 kB 56.5 MB/s \n\u001b[?25hCollecting awscli\n  Downloading awscli-1.19.95.tar.gz (1.4 MB)\n\u001b[K     |████████████████████████████████| 1.4 MB 31.0 MB/s \n\u001b[?25hCollecting hyperopt\n  Downloading hyperopt-0.2.5-py2.py3-none-any.whl (965 kB)\n\u001b[K     |████████████████████████████████| 965 kB 20.9 MB/s \n\u001b[?25hRequirement already satisfied: azure-storage-blob in /shared-libs/python3.8/py/lib/python3.8/site-packages (from pycaret[full]) (12.8.1)\nCollecting shap\n  Downloading shap-0.39.0.tar.gz (356 kB)\n\u001b[K     |████████████████████████████████| 356 kB 14.1 MB/s \n\u001b[?25hCollecting psutil\n  Downloading psutil-5.8.0-cp38-cp38-manylinux2010_x86_64.whl (296 kB)\n\u001b[K     |████████████████████████████████| 296 kB 45.1 MB/s \n\u001b[?25hCollecting optuna\n  Downloading optuna-2.8.0-py3-none-any.whl (301 kB)\n\u001b[K     |████████████████████████████████| 301 kB 43.4 MB/s \n\u001b[?25hCollecting tune-sklearn>=0.2.1\n  Downloading tune_sklearn-0.3.0-py3-none-any.whl (39 kB)\nCollecting scikit-optimize>=0.8.1\n  Downloading scikit_optimize-0.8.1-py2.py3-none-any.whl (101 kB)\n\u001b[K     |████████████████████████████████| 101 kB 4.3 MB/s \n\u001b[?25hCollecting xgboost>=1.1.0\n  Downloading xgboost-1.4.2-py3-none-manylinux2010_x86_64.whl (166.7 MB)\n\u001b[K     |████████████████████████████████| 166.7 MB 37.0 MB/s \n\u001b[?25hCollecting catboost>=0.23.2\n  Downloading catboost-0.26-cp38-none-manylinux1_x86_64.whl (69.2 MB)\n\u001b[K     |████████████████████████████████| 69.2 MB 43.7 MB/s \n\u001b[?25hCollecting ray[tune]>=1.0.0\n  Downloading ray-1.4.0-cp38-cp38-manylinux2014_x86_64.whl (49.2 MB)\n\u001b[K     |████████████████████████████████| 49.2 MB 358 kB/s \n\u001b[?25hRequirement already satisfied: threadpoolctl>=2.0.0 in /shared-libs/python3.8/py/lib/python3.8/site-packages (from scikit-learn==0.23.2->pycaret[full]) (2.1.0)\nRequirement already satisfied: six in /shared-libs/python3.8/py-core/lib/python3.8/site-packages (from catboost>=0.23.2->pycaret[full]) (1.16.0)\nCollecting graphviz\n  Downloading graphviz-0.16-py2.py3-none-any.whl (19 kB)\nCollecting colorlover>=0.2.1\n  Downloading colorlover-0.3.0-py3-none-any.whl (8.9 kB)\nRequirement already satisfied: setuptools>=34.4.1 in /root/venv/lib/python3.8/site-packages (from cufflinks>=0.17.0->pycaret[full]) (57.0.0)\nRequirement already satisfied: smart-open>=1.8.1 in /shared-libs/python3.8/py/lib/python3.8/site-packages (from gensim<4.0.0->pycaret[full]) (3.0.0)\nRequirement already satisfied: matplotlib-inline in /shared-libs/python3.8/py-core/lib/python3.8/site-packages (from IPython->pycaret[full]) (0.1.2)\nRequirement already satisfied: traitlets>=4.2 in /shared-libs/python3.8/py-core/lib/python3.8/site-packages (from IPython->pycaret[full]) (5.0.5)\nRequirement already satisfied: prompt-toolkit!=3.0.0,!=3.0.1,<3.1.0,>=2.0.0 in /shared-libs/python3.8/py-core/lib/python3.8/site-packages (from IPython->pycaret[full]) (3.0.18)\nRequirement already satisfied: jedi>=0.16 in /shared-libs/python3.8/py-core/lib/python3.8/site-packages (from IPython->pycaret[full]) (0.17.2)\nRequirement already satisfied: pygments in /shared-libs/python3.8/py-core/lib/python3.8/site-packages (from IPython->pycaret[full]) (2.9.0)\nRequirement already satisfied: pickleshare in /shared-libs/python3.8/py-core/lib/python3.8/site-packages (from IPython->pycaret[full]) (0.7.5)\nRequirement already satisfied: pexpect>4.3 in /shared-libs/python3.8/py-core/lib/python3.8/site-packages (from IPython->pycaret[full]) (4.8.0)\nRequirement already satisfied: backcall in /shared-libs/python3.8/py-core/lib/python3.8/site-packages (from IPython->pycaret[full]) (0.2.0)\nRequirement already satisfied: decorator in /shared-libs/python3.8/py-core/lib/python3.8/site-packages (from IPython->pycaret[full]) (5.0.9)\nCollecting jupyterlab-widgets>=1.0.0\n  Downloading jupyterlab_widgets-1.0.0-py3-none-any.whl (243 kB)\n\u001b[K     |████████████████████████████████| 243 kB 50.3 MB/s \n\u001b[?25hRequirement already satisfied: nbformat>=4.2.0 in /shared-libs/python3.8/py-core/lib/python3.8/site-packages (from ipywidgets->pycaret[full]) (5.1.3)\nCollecting widgetsnbextension~=3.5.0\n  Downloading widgetsnbextension-3.5.1-py2.py3-none-any.whl (2.2 MB)\n\u001b[K     |████████████████████████████████| 2.2 MB 25.7 MB/s \n\u001b[?25hRequirement already satisfied: ipykernel>=4.5.1 in /shared-libs/python3.8/py-core/lib/python3.8/site-packages (from ipywidgets->pycaret[full]) (5.5.5)\nRequirement already satisfied: jupyter-client in /shared-libs/python3.8/py-core/lib/python3.8/site-packages (from ipykernel>=4.5.1->ipywidgets->pycaret[full]) (6.1.12)\nRequirement already satisfied: tornado>=4.2 in /shared-libs/python3.8/py-core/lib/python3.8/site-packages (from ipykernel>=4.5.1->ipywidgets->pycaret[full]) (6.1)\nRequirement already satisfied: parso<0.8.0,>=0.7.0 in /shared-libs/python3.8/py-core/lib/python3.8/site-packages (from jedi>=0.16->IPython->pycaret[full]) (0.7.1)\nRequirement already satisfied: wheel in /root/venv/lib/python3.8/site-packages (from lightgbm>=2.3.1->pycaret[full]) (0.36.2)\nRequirement already satisfied: pyparsing>=2.2.1 in /shared-libs/python3.8/py-core/lib/python3.8/site-packages (from matplotlib->pycaret[full]) (2.4.7)\nRequirement already satisfied: pillow>=6.2.0 in /shared-libs/python3.8/py/lib/python3.8/site-packages (from matplotlib->pycaret[full]) (8.2.0)\nRequirement already satisfied: cycler>=0.10 in /shared-libs/python3.8/py/lib/python3.8/site-packages (from matplotlib->pycaret[full]) (0.10.0)\nRequirement already satisfied: python-dateutil>=2.7 in /shared-libs/python3.8/py-core/lib/python3.8/site-packages (from matplotlib->pycaret[full]) (2.8.1)\nRequirement already satisfied: kiwisolver>=1.0.1 in /shared-libs/python3.8/py/lib/python3.8/site-packages (from matplotlib->pycaret[full]) (1.3.1)\nRequirement already satisfied: jsonschema!=2.5.0,>=2.4 in /shared-libs/python3.8/py-core/lib/python3.8/site-packages (from nbformat>=4.2.0->ipywidgets->pycaret[full]) (3.2.0)\nRequirement already satisfied: ipython-genutils in /shared-libs/python3.8/py-core/lib/python3.8/site-packages (from nbformat>=4.2.0->ipywidgets->pycaret[full]) (0.2.0)\nRequirement already satisfied: jupyter-core in /shared-libs/python3.8/py-core/lib/python3.8/site-packages (from nbformat>=4.2.0->ipywidgets->pycaret[full]) (4.7.1)\nRequirement already satisfied: attrs>=17.4.0 in /shared-libs/python3.8/py-core/lib/python3.8/site-packages (from jsonschema!=2.5.0,>=2.4->nbformat>=4.2.0->ipywidgets->pycaret[full]) (21.2.0)\nRequirement already satisfied: pyrsistent>=0.14.0 in /shared-libs/python3.8/py-core/lib/python3.8/site-packages (from jsonschema!=2.5.0,>=2.4->nbformat>=4.2.0->ipywidgets->pycaret[full]) (0.17.3)\nRequirement already satisfied: pytz>=2017.3 in /shared-libs/python3.8/py/lib/python3.8/site-packages (from pandas->pycaret[full]) (2021.1)\nCollecting visions[type_image_path]==0.7.1\n  Downloading visions-0.7.1-py3-none-any.whl (102 kB)\n\u001b[K     |████████████████████████████████| 102 kB 51.4 MB/s \n\u001b[?25hCollecting phik>=0.11.1\n  Downloading phik-0.11.2.tar.gz (1.1 MB)\n\u001b[K     |████████████████████████████████| 1.1 MB 24.2 MB/s \n\u001b[?25hCollecting missingno>=0.4.2\n  Downloading missingno-0.4.2-py3-none-any.whl (9.7 kB)\nRequirement already satisfied: PyYAML>=5.0.0 in /shared-libs/python3.8/py/lib/python3.8/site-packages (from pandas-profiling>=2.8.0->pycaret[full]) (5.4.1)\nCollecting pydantic>=1.8.1\n  Downloading pydantic-1.8.2-cp38-cp38-manylinux2014_x86_64.whl (13.7 MB)\n\u001b[K     |████████████████████████████████| 13.7 MB 28.4 MB/s \n\u001b[?25hRequirement already satisfied: tqdm>=4.48.2 in /shared-libs/python3.8/py/lib/python3.8/site-packages (from pandas-profiling>=2.8.0->pycaret[full]) (4.61.0)\nRequirement already satisfied: requests>=2.24.0 in /shared-libs/python3.8/py/lib/python3.8/site-packages (from pandas-profiling>=2.8.0->pycaret[full]) (2.25.1)\nRequirement already satisfied: jinja2>=2.11.1 in /shared-libs/python3.8/py-core/lib/python3.8/site-packages (from pandas-profiling>=2.8.0->pycaret[full]) (3.0.1)\nCollecting htmlmin>=0.1.12\n  Downloading htmlmin-0.1.12.tar.gz (19 kB)\nCollecting tangled-up-in-unicode==0.1.0\n  Downloading tangled_up_in_unicode-0.1.0-py3-none-any.whl (3.1 MB)\n\u001b[K     |████████████████████████████████| 3.1 MB 46.5 MB/s \n\u001b[?25hCollecting networkx>=2.4\n  Downloading networkx-2.5.1-py3-none-any.whl (1.6 MB)\n\u001b[K     |████████████████████████████████| 1.6 MB 47.6 MB/s \n\u001b[?25hCollecting bottleneck\n  Downloading Bottleneck-1.3.2.tar.gz (88 kB)\n\u001b[K     |████████████████████████████████| 88 kB 13.2 MB/s \n\u001b[?25h  Installing build dependencies ... \u001b[?25ldone\n\u001b[?25h  Getting requirements to build wheel ... \u001b[?25ldone\n\u001b[?25h    Preparing wheel metadata ... \u001b[?25ldone\n\u001b[?25hCollecting multimethod==1.4\n  Downloading multimethod-1.4-py2.py3-none-any.whl (7.3 kB)\nCollecting imagehash\n  Downloading ImageHash-4.2.0-py2.py3-none-any.whl (295 kB)\n\u001b[K     |████████████████████████████████| 295 kB 48.9 MB/s \n\u001b[?25hRequirement already satisfied: MarkupSafe>=2.0 in /shared-libs/python3.8/py-core/lib/python3.8/site-packages (from jinja2>=2.11.1->pandas-profiling>=2.8.0->pycaret[full]) (2.0.1)\nCollecting decorator\n  Downloading decorator-4.4.2-py2.py3-none-any.whl (9.2 kB)\nRequirement already satisfied: ptyprocess>=0.5 in /shared-libs/python3.8/py-core/lib/python3.8/site-packages (from pexpect>4.3->IPython->pycaret[full]) (0.7.0)\nRequirement already satisfied: retrying>=1.3.3 in /shared-libs/python3.8/py/lib/python3.8/site-packages (from plotly>=4.4.1->pycaret[full]) (1.3.3)\nRequirement already satisfied: wcwidth in /shared-libs/python3.8/py-core/lib/python3.8/site-packages (from prompt-toolkit!=3.0.0,!=3.0.1,<3.1.0,>=2.0.0->IPython->pycaret[full]) (0.2.5)\nRequirement already satisfied: typing-extensions>=3.7.4.3 in /shared-libs/python3.8/py/lib/python3.8/site-packages (from pydantic>=1.8.1->pandas-profiling>=2.8.0->pycaret[full]) (3.7.4.3)\nCollecting aioredis\n  Downloading aioredis-1.3.1-py3-none-any.whl (65 kB)\n\u001b[K     |████████████████████████████████| 65 kB 6.4 MB/s \n\u001b[?25hRequirement already satisfied: grpcio>=1.28.1 in /shared-libs/python3.8/py/lib/python3.8/site-packages (from ray[tune]>=1.0.0->pycaret[full]) (1.32.0)\nCollecting colorama\n  Downloading colorama-0.4.4-py2.py3-none-any.whl (16 kB)\nCollecting opencensus\n  Downloading opencensus-0.7.13-py2.py3-none-any.whl (127 kB)\n\u001b[K     |████████████████████████████████| 127 kB 51.9 MB/s \n\u001b[?25hRequirement already satisfied: filelock in /shared-libs/python3.8/py-core/lib/python3.8/site-packages (from ray[tune]>=1.0.0->pycaret[full]) (3.0.12)\nCollecting aiohttp-cors\n  Downloading aiohttp_cors-0.7.0-py3-none-any.whl (27 kB)\nRequirement already satisfied: click>=7.0 in /shared-libs/python3.8/py/lib/python3.8/site-packages (from ray[tune]>=1.0.0->pycaret[full]) (7.1.2)\nCollecting gpustat\n  Downloading gpustat-0.6.0.tar.gz (78 kB)\n\u001b[K     |████████████████████████████████| 78 kB 12.0 MB/s \n\u001b[?25hCollecting aiohttp\n  Downloading aiohttp-3.7.4.post0-cp38-cp38-manylinux2014_x86_64.whl (1.5 MB)\n\u001b[K     |████████████████████████████████| 1.5 MB 24.8 MB/s \n\u001b[?25hCollecting msgpack<2.0.0,>=1.0.0\n  Downloading msgpack-1.0.2-cp38-cp38-manylinux1_x86_64.whl (302 kB)\n\u001b[K     |████████████████████████████████| 302 kB 52.3 MB/s \n\u001b[?25hRequirement already satisfied: prometheus-client>=0.7.1 in /shared-libs/python3.8/py-core/lib/python3.8/site-packages (from ray[tune]>=1.0.0->pycaret[full]) (0.11.0)\nCollecting py-spy>=0.2.0\n  Downloading py_spy-0.3.7-py2.py3-none-manylinux1_x86_64.whl (3.1 MB)\n\u001b[K     |████████████████████████████████| 3.1 MB 31.5 MB/s \n\u001b[?25hRequirement already satisfied: protobuf>=3.15.3 in /shared-libs/python3.8/py/lib/python3.8/site-packages (from ray[tune]>=1.0.0->pycaret[full]) (3.17.2)\nCollecting redis>=3.5.0\n  Downloading redis-3.5.3-py2.py3-none-any.whl (72 kB)\n\u001b[K     |████████████████████████████████| 72 kB 959 kB/s \n\u001b[?25hRequirement already satisfied: tabulate in /shared-libs/python3.8/py/lib/python3.8/site-packages (from ray[tune]>=1.0.0->pycaret[full]) (0.8.9)\nCollecting tensorboardX\n  Downloading tensorboardX-2.2-py2.py3-none-any.whl (120 kB)\n\u001b[K     |████████████████████████████████| 120 kB 55.8 MB/s \n\u001b[?25hRequirement already satisfied: chardet<5,>=3.0.2 in /shared-libs/python3.8/py/lib/python3.8/site-packages (from requests>=2.24.0->pandas-profiling>=2.8.0->pycaret[full]) (3.0.4)\nRequirement already satisfied: certifi>=2017.4.17 in /shared-libs/python3.8/py/lib/python3.8/site-packages (from requests>=2.24.0->pandas-profiling>=2.8.0->pycaret[full]) (2021.5.30)\nRequirement already satisfied: urllib3<1.27,>=1.21.1 in /shared-libs/python3.8/py/lib/python3.8/site-packages (from requests>=2.24.0->pandas-profiling>=2.8.0->pycaret[full]) (1.26.5)\nRequirement already satisfied: idna<3,>=2.5 in /shared-libs/python3.8/py/lib/python3.8/site-packages (from requests>=2.24.0->pandas-profiling>=2.8.0->pycaret[full]) (2.10)\nCollecting pyaml>=16.9\n  Downloading pyaml-20.4.0-py2.py3-none-any.whl (17 kB)\nRequirement already satisfied: cymem<2.1.0,>=2.0.2 in /shared-libs/python3.8/py/lib/python3.8/site-packages (from spacy<2.4.0->pycaret[full]) (2.0.5)\nRequirement already satisfied: preshed<3.1.0,>=3.0.2 in /shared-libs/python3.8/py/lib/python3.8/site-packages (from spacy<2.4.0->pycaret[full]) (3.0.5)\nRequirement already satisfied: wasabi<1.1.0,>=0.4.0 in /shared-libs/python3.8/py/lib/python3.8/site-packages (from spacy<2.4.0->pycaret[full]) (0.8.2)\nRequirement already satisfied: blis<0.8.0,>=0.4.0 in /shared-libs/python3.8/py/lib/python3.8/site-packages (from spacy<2.4.0->pycaret[full]) (0.7.4)\nCollecting catalogue<1.1.0,>=0.0.7\n  Downloading catalogue-1.0.0-py2.py3-none-any.whl (7.7 kB)\nCollecting srsly<1.1.0,>=1.0.2\n  Downloading srsly-1.0.5-cp38-cp38-manylinux2014_x86_64.whl (186 kB)\n\u001b[K     |████████████████████████████████| 186 kB 57.4 MB/s \n\u001b[?25hRequirement already satisfied: murmurhash<1.1.0,>=0.28.0 in /shared-libs/python3.8/py/lib/python3.8/site-packages (from spacy<2.4.0->pycaret[full]) (1.0.5)\nCollecting thinc<7.5.0,>=7.4.1\n  Downloading thinc-7.4.5-cp38-cp38-manylinux2014_x86_64.whl (1.1 MB)\n\u001b[K     |████████████████████████████████| 1.1 MB 35.1 MB/s \n\u001b[?25hCollecting plac<1.2.0,>=0.9.6\n  Downloading plac-1.1.3-py2.py3-none-any.whl (20 kB)\nRequirement already satisfied: notebook>=4.4.1 in /shared-libs/python3.8/py-core/lib/python3.8/site-packages (from widgetsnbextension~=3.5.0->ipywidgets->pycaret[full]) (7.0.0.dev0)\nRequirement already satisfied: terminado>=0.8.3 in /shared-libs/python3.8/py-core/lib/python3.8/site-packages (from notebook>=4.4.1->widgetsnbextension~=3.5.0->ipywidgets->pycaret[full]) (0.10.0)\nRequirement already satisfied: nbconvert in /shared-libs/python3.8/py-core/lib/python3.8/site-packages (from notebook>=4.4.1->widgetsnbextension~=3.5.0->ipywidgets->pycaret[full]) (6.0.7)\nRequirement already satisfied: pyzmq>=17 in /shared-libs/python3.8/py-core/lib/python3.8/site-packages (from notebook>=4.4.1->widgetsnbextension~=3.5.0->ipywidgets->pycaret[full]) (22.1.0)\nRequirement already satisfied: Send2Trash>=1.5.0 in /shared-libs/python3.8/py-core/lib/python3.8/site-packages (from notebook>=4.4.1->widgetsnbextension~=3.5.0->ipywidgets->pycaret[full]) (1.5.0)\nRequirement already satisfied: argon2-cffi in /shared-libs/python3.8/py-core/lib/python3.8/site-packages (from notebook>=4.4.1->widgetsnbextension~=3.5.0->ipywidgets->pycaret[full]) (20.1.0)\nCollecting async-timeout<4.0,>=3.0\n  Downloading async_timeout-3.0.1-py3-none-any.whl (8.2 kB)\nCollecting yarl<2.0,>=1.0\n  Downloading yarl-1.6.3-cp38-cp38-manylinux2014_x86_64.whl (324 kB)\n\u001b[K     |████████████████████████████████| 324 kB 34.5 MB/s \n\u001b[?25hCollecting multidict<7.0,>=4.5\n  Downloading multidict-5.1.0-cp38-cp38-manylinux2014_x86_64.whl (159 kB)\n\u001b[K     |████████████████████████████████| 159 kB 50.6 MB/s \n\u001b[?25hCollecting hiredis\n  Downloading hiredis-2.0.0-cp38-cp38-manylinux2010_x86_64.whl (85 kB)\n\u001b[K     |████████████████████████████████| 85 kB 8.0 MB/s \n\u001b[?25hRequirement already satisfied: cffi>=1.0.0 in /shared-libs/python3.8/py-core/lib/python3.8/site-packages (from argon2-cffi->notebook>=4.4.1->widgetsnbextension~=3.5.0->ipywidgets->pycaret[full]) (1.14.5)\nRequirement already satisfied: pycparser in /shared-libs/python3.8/py-core/lib/python3.8/site-packages (from cffi>=1.0.0->argon2-cffi->notebook>=4.4.1->widgetsnbextension~=3.5.0->ipywidgets->pycaret[full]) (2.20)\nCollecting botocore==1.20.95\n  Downloading botocore-1.20.95.tar.gz (7.8 MB)\n\u001b[K     |████████████████████████████████| 7.8 MB 52.7 MB/s \n\u001b[?25hCollecting docutils<0.16,>=0.10\n  Downloading docutils-0.15.2-py3-none-any.whl (547 kB)\n\u001b[K     |████████████████████████████████| 547 kB 49.6 MB/s \n\u001b[?25hRequirement already satisfied: s3transfer<0.5.0,>=0.4.0 in /shared-libs/python3.8/py/lib/python3.8/site-packages (from awscli->pycaret[full]) (0.4.2)\nCollecting colorama\n  Downloading colorama-0.4.3-py2.py3-none-any.whl (15 kB)\nRequirement already satisfied: rsa<4.8,>=3.1.2 in /shared-libs/python3.8/py/lib/python3.8/site-packages (from awscli->pycaret[full]) (4.7.2)\nRequirement already satisfied: jmespath<1.0.0,>=0.7.1 in /shared-libs/python3.8/py/lib/python3.8/site-packages (from botocore==1.20.95->awscli->pycaret[full]) (0.10.0)\nRequirement already satisfied: pyasn1>=0.1.3 in /shared-libs/python3.8/py/lib/python3.8/site-packages (from rsa<4.8,>=3.1.2->awscli->pycaret[full]) (0.4.8)\nRequirement already satisfied: azure-core<2.0.0,>=1.10.0 in /shared-libs/python3.8/py/lib/python3.8/site-packages (from azure-storage-blob->pycaret[full]) (1.14.0)\nRequirement already satisfied: cryptography>=2.1.4 in /shared-libs/python3.8/py/lib/python3.8/site-packages (from azure-storage-blob->pycaret[full]) (3.4.7)\nRequirement already satisfied: msrest>=0.6.18 in /shared-libs/python3.8/py/lib/python3.8/site-packages (from azure-storage-blob->pycaret[full]) (0.6.21)\nRequirement already satisfied: requests-oauthlib>=0.5.0 in /shared-libs/python3.8/py/lib/python3.8/site-packages (from msrest>=0.6.18->azure-storage-blob->pycaret[full]) (1.3.0)\nRequirement already satisfied: isodate>=0.6.0 in /shared-libs/python3.8/py/lib/python3.8/site-packages (from msrest>=0.6.18->azure-storage-blob->pycaret[full]) (0.6.0)\nRequirement already satisfied: oauthlib>=3.0.0 in /shared-libs/python3.8/py/lib/python3.8/site-packages (from requests-oauthlib>=0.5.0->msrest>=0.6.18->azure-storage-blob->pycaret[full]) (3.1.1)\nRequirement already satisfied: google-auth<2.0dev,>=1.11.0 in /shared-libs/python3.8/py/lib/python3.8/site-packages (from google-cloud-storage->pycaret[full]) (1.30.1)\nRequirement already satisfied: google-resumable-media<2.0dev,>=1.2.0 in /shared-libs/python3.8/py/lib/python3.8/site-packages (from google-cloud-storage->pycaret[full]) (1.3.0)\nRequirement already satisfied: google-cloud-core<2.0dev,>=1.4.1 in /shared-libs/python3.8/py/lib/python3.8/site-packages (from google-cloud-storage->pycaret[full]) (1.6.0)\nRequirement already satisfied: cachetools<5.0,>=2.0.0 in /shared-libs/python3.8/py/lib/python3.8/site-packages (from google-auth<2.0dev,>=1.11.0->google-cloud-storage->pycaret[full]) (4.2.2)\nRequirement already satisfied: pyasn1-modules>=0.2.1 in /shared-libs/python3.8/py/lib/python3.8/site-packages (from google-auth<2.0dev,>=1.11.0->google-cloud-storage->pycaret[full]) (0.2.8)\nRequirement already satisfied: google-api-core<2.0.0dev,>=1.21.0 in /shared-libs/python3.8/py/lib/python3.8/site-packages (from google-cloud-core<2.0dev,>=1.4.1->google-cloud-storage->pycaret[full]) (1.29.0)\nRequirement already satisfied: googleapis-common-protos<2.0dev,>=1.6.0 in /shared-libs/python3.8/py/lib/python3.8/site-packages (from google-api-core<2.0.0dev,>=1.21.0->google-cloud-core<2.0dev,>=1.4.1->google-cloud-storage->pycaret[full]) (1.53.0)\nRequirement already satisfied: packaging>=14.3 in /shared-libs/python3.8/py-core/lib/python3.8/site-packages (from google-api-core<2.0.0dev,>=1.21.0->google-cloud-core<2.0dev,>=1.4.1->google-cloud-storage->pycaret[full]) (20.9)\nRequirement already satisfied: google-crc32c<2.0dev,>=1.0 in /shared-libs/python3.8/py/lib/python3.8/site-packages (from google-resumable-media<2.0dev,>=1.2.0->google-cloud-storage->pycaret[full]) (1.1.2)\nCollecting nvidia-ml-py3>=7.352.0\n  Downloading nvidia-ml-py3-7.352.0.tar.gz (19 kB)\nCollecting blessings>=1.6\n  Downloading blessings-1.7-py3-none-any.whl (18 kB)\nCollecting cloudpickle\n  Downloading cloudpickle-1.6.0-py3-none-any.whl (23 kB)\nRequirement already satisfied: future in /shared-libs/python3.8/py/lib/python3.8/site-packages (from hyperopt->pycaret[full]) (0.18.2)\nCollecting PyWavelets\n  Downloading PyWavelets-1.1.1-cp38-cp38-manylinux1_x86_64.whl (4.4 MB)\n\u001b[K     |████████████████████████████████| 4.4 MB 48.4 MB/s \n\u001b[?25hCollecting gunicorn\n  Downloading gunicorn-20.1.0-py3-none-any.whl (79 kB)\n\u001b[K     |████████████████████████████████| 79 kB 7.7 MB/s \n\u001b[?25hCollecting databricks-cli>=0.8.7\n  Downloading databricks-cli-0.14.3.tar.gz (54 kB)\n\u001b[K     |████████████████████████████████| 54 kB 925 kB/s \n\u001b[?25hRequirement already satisfied: entrypoints in /shared-libs/python3.8/py-core/lib/python3.8/site-packages (from mlflow->pycaret[full]) (0.3)\nCollecting docker>=4.0.0\n  Downloading docker-5.0.0-py2.py3-none-any.whl (146 kB)\n\u001b[K     |████████████████████████████████| 146 kB 53.1 MB/s \n\u001b[?25hRequirement already satisfied: sqlalchemy in /shared-libs/python3.8/py/lib/python3.8/site-packages (from mlflow->pycaret[full]) (1.4.17)\nCollecting querystring-parser\n  Downloading querystring_parser-1.2.4-py2.py3-none-any.whl (7.9 kB)\nCollecting alembic<=1.4.1\n  Downloading alembic-1.4.1.tar.gz (1.1 MB)\n\u001b[K     |████████████████████████████████| 1.1 MB 48.9 MB/s \n\u001b[?25hRequirement already satisfied: sqlparse>=0.3.1 in /shared-libs/python3.8/py/lib/python3.8/site-packages (from mlflow->pycaret[full]) (0.4.1)\nCollecting gitpython>=2.1.0\n  Downloading GitPython-3.1.14-py3-none-any.whl (159 kB)\n\u001b[K     |████████████████████████████████| 159 kB 44.0 MB/s \n\u001b[?25hCollecting Flask\n  Downloading Flask-2.0.1-py3-none-any.whl (94 kB)\n\u001b[K     |████████████████████████████████| 94 kB 6.8 MB/s \n\u001b[?25hCollecting prometheus-flask-exporter\n  Downloading prometheus_flask_exporter-0.18.2.tar.gz (22 kB)\nCollecting Mako\n  Downloading Mako-1.1.4-py2.py3-none-any.whl (75 kB)\n\u001b[K     |████████████████████████████████| 75 kB 7.6 MB/s \n\u001b[?25hCollecting python-editor>=0.3\n  Downloading python_editor-1.0.4-py3-none-any.whl (4.9 kB)\nCollecting websocket-client>=0.32.0\n  Downloading websocket_client-1.1.0-py2.py3-none-any.whl (68 kB)\n\u001b[K     |████████████████████████████████| 68 kB 10.3 MB/s \n\u001b[?25hCollecting gitdb<5,>=4.0.1\n  Downloading gitdb-4.0.7-py3-none-any.whl (63 kB)\n\u001b[K     |████████████████████████████████| 63 kB 3.1 MB/s \n\u001b[?25hCollecting smmap<5,>=3.0.1\n  Downloading smmap-4.0.0-py2.py3-none-any.whl (24 kB)\nRequirement already satisfied: greenlet!=0.4.17 in /shared-libs/python3.8/py/lib/python3.8/site-packages (from sqlalchemy->mlflow->pycaret[full]) (1.1.0)\nRequirement already satisfied: Werkzeug>=2.0 in /shared-libs/python3.8/py/lib/python3.8/site-packages (from Flask->mlflow->pycaret[full]) (2.0.1)\nCollecting itsdangerous>=2.0\n  Downloading itsdangerous-2.0.1-py3-none-any.whl (18 kB)\nRequirement already satisfied: testpath in /shared-libs/python3.8/py-core/lib/python3.8/site-packages (from nbconvert->notebook>=4.4.1->widgetsnbextension~=3.5.0->ipywidgets->pycaret[full]) (0.5.0)\nRequirement already satisfied: mistune<2,>=0.8.1 in /shared-libs/python3.8/py-core/lib/python3.8/site-packages (from nbconvert->notebook>=4.4.1->widgetsnbextension~=3.5.0->ipywidgets->pycaret[full]) (0.8.4)\nRequirement already satisfied: defusedxml in /shared-libs/python3.8/py-core/lib/python3.8/site-packages (from nbconvert->notebook>=4.4.1->widgetsnbextension~=3.5.0->ipywidgets->pycaret[full]) (0.7.1)\nRequirement already satisfied: pandocfilters>=1.4.1 in /shared-libs/python3.8/py-core/lib/python3.8/site-packages (from nbconvert->notebook>=4.4.1->widgetsnbextension~=3.5.0->ipywidgets->pycaret[full]) (1.4.3)\nRequirement already satisfied: bleach in /shared-libs/python3.8/py-core/lib/python3.8/site-packages (from nbconvert->notebook>=4.4.1->widgetsnbextension~=3.5.0->ipywidgets->pycaret[full]) (3.3.0)\nRequirement already satisfied: jupyterlab-pygments in /shared-libs/python3.8/py-core/lib/python3.8/site-packages (from nbconvert->notebook>=4.4.1->widgetsnbextension~=3.5.0->ipywidgets->pycaret[full]) (0.1.2)\nRequirement already satisfied: nbclient<0.6.0,>=0.5.0 in /shared-libs/python3.8/py-core/lib/python3.8/site-packages (from nbconvert->notebook>=4.4.1->widgetsnbextension~=3.5.0->ipywidgets->pycaret[full]) (0.5.3)\nRequirement already satisfied: async-generator in /shared-libs/python3.8/py-core/lib/python3.8/site-packages (from nbclient<0.6.0,>=0.5.0->nbconvert->notebook>=4.4.1->widgetsnbextension~=3.5.0->ipywidgets->pycaret[full]) (1.10)\nRequirement already satisfied: nest-asyncio in /shared-libs/python3.8/py-core/lib/python3.8/site-packages (from nbclient<0.6.0,>=0.5.0->nbconvert->notebook>=4.4.1->widgetsnbextension~=3.5.0->ipywidgets->pycaret[full]) (1.5.1)\nRequirement already satisfied: webencodings in /shared-libs/python3.8/py-core/lib/python3.8/site-packages (from bleach->nbconvert->notebook>=4.4.1->widgetsnbextension~=3.5.0->ipywidgets->pycaret[full]) (0.5.1)\nRequirement already satisfied: regex in /shared-libs/python3.8/py/lib/python3.8/site-packages (from nltk->pycaret[full]) (2021.4.4)\nCollecting opencensus-context==0.1.2\n  Downloading opencensus_context-0.1.2-py2.py3-none-any.whl (4.4 kB)\nCollecting cliff\n  Downloading cliff-3.8.0-py3-none-any.whl (80 kB)\n\u001b[K     |████████████████████████████████| 80 kB 13.7 MB/s \n\u001b[?25hCollecting colorlog\n  Downloading colorlog-5.0.1-py2.py3-none-any.whl (10 kB)\nCollecting cmaes>=0.8.2\n  Downloading cmaes-0.8.2-py3-none-any.whl (15 kB)\nCollecting pbr!=2.1.0,>=2.0.0\n  Downloading pbr-5.6.0-py2.py3-none-any.whl (111 kB)\n\u001b[K     |████████████████████████████████| 111 kB 56.0 MB/s \n\u001b[?25hCollecting cmd2>=1.0.0\n  Downloading cmd2-2.1.0-py3-none-any.whl (140 kB)\n\u001b[K     |████████████████████████████████| 140 kB 53.0 MB/s \n\u001b[?25hCollecting PrettyTable>=0.7.2\n  Downloading prettytable-2.1.0-py3-none-any.whl (22 kB)\nCollecting stevedore>=2.0.1\n  Downloading stevedore-3.3.0-py3-none-any.whl (49 kB)\n\u001b[K     |████████████████████████████████| 49 kB 10.9 MB/s \n\u001b[?25hCollecting pyperclip>=1.6\n  Downloading pyperclip-1.8.2.tar.gz (20 kB)\nCollecting pyLDAvis\n  Downloading pyLDAvis-3.3.0.tar.gz (1.7 MB)\n\u001b[K     |████████████████████████████████| 1.7 MB 30.8 MB/s \n\u001b[?25h  Installing build dependencies ... \u001b[?25ldone\n\u001b[?25h  Getting requirements to build wheel ... \u001b[?25ldone\n\u001b[?25h  Installing backend dependencies ... \u001b[?25ldone\n\u001b[?25h    Preparing wheel metadata ... \u001b[?25ldone\n\u001b[?25h  Downloading pyLDAvis-3.2.2.tar.gz (1.7 MB)\n\u001b[K     |████████████████████████████████| 1.7 MB 48.0 MB/s \n\u001b[?25hCollecting numexpr\n  Downloading numexpr-2.7.3-cp38-cp38-manylinux2010_x86_64.whl (473 kB)\n\u001b[K     |████████████████████████████████| 473 kB 56.1 MB/s \n\u001b[?25hCollecting funcy\n  Downloading funcy-1.16-py2.py3-none-any.whl (32 kB)\nCollecting numba>=0.35\n  Downloading numba-0.53.1-cp38-cp38-manylinux2014_x86_64.whl (3.4 MB)\n\u001b[K     |████████████████████████████████| 3.4 MB 19.4 MB/s \n\u001b[?25hCollecting statsmodels\n  Downloading statsmodels-0.12.2-cp38-cp38-manylinux1_x86_64.whl (9.4 MB)\n\u001b[K     |████████████████████████████████| 9.4 MB 24.8 MB/s \n\u001b[?25hCollecting llvmlite<0.37,>=0.36.0rc1\n  Downloading llvmlite-0.36.0-cp38-cp38-manylinux2010_x86_64.whl (25.3 MB)\n\u001b[K     |████████████████████████████████| 25.3 MB 26.0 MB/s \n\u001b[?25hCollecting slicer==0.0.7\n  Downloading slicer-0.0.7-py3-none-any.whl (14 kB)\nCollecting patsy>=0.5\n  Downloading patsy-0.5.1-py2.py3-none-any.whl (231 kB)\n\u001b[K     |████████████████████████████████| 231 kB 56.1 MB/s \n\u001b[?25hCollecting pynndescent>=0.5\n  Downloading pynndescent-0.5.2.tar.gz (1.1 MB)\n\u001b[K     |████████████████████████████████| 1.1 MB 50.2 MB/s \n\u001b[?25hBuilding wheels for collected packages: cufflinks, htmlmin, phik, awscli, botocore, bottleneck, gpustat, nvidia-ml-py3, alembic, databricks-cli, pyperclip, prometheus-flask-exporter, pyLDAvis, pyod, shap, umap-learn, pynndescent\n  Building wheel for cufflinks (setup.py) ... \u001b[?25ldone\n\u001b[?25h  Created wheel for cufflinks: filename=cufflinks-0.17.3-py3-none-any.whl size=67918 sha256=d73698d7da7c51f65e7b19eb2d6affff239dd0b475b27afcf85b421afd61b823\n  Stored in directory: /root/.cache/pip/wheels/6b/76/62/6da97734911ffcbdd559fd1a3f28526321f0ae699182a23866\n  Building wheel for htmlmin (setup.py) ... \u001b[?25ldone\n\u001b[?25h  Created wheel for htmlmin: filename=htmlmin-0.1.12-py3-none-any.whl size=27098 sha256=56471b0470c85c470c77d688e16cba876c024567c7a395291e46c75396940c48\n  Stored in directory: /root/.cache/pip/wheels/23/14/6e/4be5bfeeb027f4939a01764b48edd5996acf574b0913fe5243\n  Building wheel for phik (setup.py) ... \u001b[?25ldone\n\u001b[?25h  Created wheel for phik: filename=phik-0.11.2-py3-none-any.whl size=1107437 sha256=c42975811a3555accacc20c7ae96d2cce3b76b0a2bb0d452e040a934de002734\n  Stored in directory: /root/.cache/pip/wheels/72/9a/23/097c93fd8341220d92674891b6a9a30f0e389719d9b7291bd2\n  Building wheel for awscli (setup.py) ... \u001b[?25ldone\n\u001b[?25h  Created wheel for awscli: filename=awscli-1.19.95-py2.py3-none-any.whl size=3627037 sha256=f1045dacf4cc9287d06b617eff7c677cb43248c9dbd7cd77a819b5371d840eaf\n  Stored in directory: /root/.cache/pip/wheels/17/94/ee/6b87370d6419234e8c849eef214e57c82ffc00b88684780a0f\n  Building wheel for botocore (setup.py) ... \u001b[?25ldone\n\u001b[?25h  Created wheel for botocore: filename=botocore-1.20.95-py2.py3-none-any.whl size=7619774 sha256=e5461c2b5b9fff865b5e9e8e94b1e3914a435f0ffceac05113543123c27e62ee\n  Stored in directory: /root/.cache/pip/wheels/7d/02/28/b1247d9645b652b9e501cfa8a2d6bf64dda609b1fa449e163e\n  Building wheel for bottleneck (PEP 517) ... \u001b[?25ldone\n\u001b[?25h  Created wheel for bottleneck: filename=Bottleneck-1.3.2-cp38-cp38-linux_x86_64.whl size=114507 sha256=f358721fe313e4f940726d85cb94516fe56b4f0ffd70d7e53fe9d291b3f4cba0\n  Stored in directory: /root/.cache/pip/wheels/29/60/c9/98f744fb5c7d1ffb38d096318d9e873a08c0f5df07d6487626\n  Building wheel for gpustat (setup.py) ... \u001b[?25ldone\n\u001b[?25h  Created wheel for gpustat: filename=gpustat-0.6.0-py3-none-any.whl size=12617 sha256=e8cac6cb2110f50e06be79ab55f0db997c49c75e874eae1d6c4b0af11ae98b42\n  Stored in directory: /root/.cache/pip/wheels/0d/d9/80/b6cbcdc9946c7b50ce35441cc9e7d8c5a9d066469ba99bae44\n  Building wheel for nvidia-ml-py3 (setup.py) ... \u001b[?25ldone\n\u001b[?25h  Created wheel for nvidia-ml-py3: filename=nvidia_ml_py3-7.352.0-py3-none-any.whl size=19189 sha256=8477a9d6e44805c1b3ec5864a9178f759934919c63f0a11ad9713396230773d7\n  Stored in directory: /root/.cache/pip/wheels/b9/b1/68/cb4feab29709d4155310d29a421389665dcab9eb3b679b527b\n  Building wheel for alembic (setup.py) ... \u001b[?25ldone\n\u001b[?25h  Created wheel for alembic: filename=alembic-1.4.1-py2.py3-none-any.whl size=158170 sha256=3af2bf9e81fe6e1d0f67c804997a210e94da308595b46d9a71e41c76ce4e04e6\n  Stored in directory: /root/.cache/pip/wheels/9d/de/6d/ca8d461ec29e010b1267d7353d0b058819770f7680bb9360e4\n  Building wheel for databricks-cli (setup.py) ... \u001b[?25ldone\n\u001b[?25h  Created wheel for databricks-cli: filename=databricks_cli-0.14.3-py3-none-any.whl size=100557 sha256=9dfbbbde6bb304f2d0ef81dc75b1e91cfee1be7a230b502e46697f940a17654b\n  Stored in directory: /root/.cache/pip/wheels/e9/f3/dc/eeff77dbc147629fa716741fc216520abbc0e15ce4b876706f\n  Building wheel for pyperclip (setup.py) ... \u001b[?25ldone\n\u001b[?25h  Created wheel for pyperclip: filename=pyperclip-1.8.2-py3-none-any.whl size=11137 sha256=755cfe92edd58c29fa0b3920cf1fd026a8ff1328f33a2af61482614aa9dbc1bd\n  Stored in directory: /root/.cache/pip/wheels/7f/1a/65/84ff8c386bec21fca6d220ea1f5498a0367883a78dd5ba6122\n  Building wheel for prometheus-flask-exporter (setup.py) ... \u001b[?25ldone\n\u001b[?25h  Created wheel for prometheus-flask-exporter: filename=prometheus_flask_exporter-0.18.2-py3-none-any.whl size=17416 sha256=04254add2bee7f0ea5ef5185445f57f317b5c471bdaed836b9079558869617ff\n  Stored in directory: /root/.cache/pip/wheels/69/6f/b4/2087abb1172ae32c58e366dc09746de46a72b0e9fb2c022920\n  Building wheel for pyLDAvis (setup.py) ... \u001b[?25ldone\n\u001b[?25h  Created wheel for pyLDAvis: filename=pyLDAvis-3.2.2-py2.py3-none-any.whl size=135618 sha256=d3107fea76b3b35db63d5db93d9e46c9396c4285d363439e8cbcd4b444a9b05f\n  Stored in directory: /root/.cache/pip/wheels/2a/5b/b3/26b52781cdeea9c815e147cfd4ac4a0a3472bce92142115670\n  Building wheel for pyod (setup.py) ... \u001b[?25ldone\n\u001b[?25h  Created wheel for pyod: filename=pyod-0.8.9-py3-none-any.whl size=121413 sha256=02c92cbe7587605f66e7e173e25fc1a92e0d1b3a52f7030f2bdf75354cfb25d0\n  Stored in directory: /root/.cache/pip/wheels/8f/d9/6d/df101a4fa21ac257176d4c6ff4e24edd9c1fd992e53a0a7535\n  Building wheel for shap (setup.py) ... \u001b[?25ldone\n\u001b[?25h  Created wheel for shap: filename=shap-0.39.0-cp38-cp38-linux_x86_64.whl size=417845 sha256=e0b7dabf9310da6b1e7aff26b7a5105e45b3027a9145e9062c34a352a233c504\n  Stored in directory: /root/.cache/pip/wheels/3d/c9/06/734ed80d6d61fad331974bf62017b4ea6b33488082b9f5e67e\n  Building wheel for umap-learn (setup.py) ... \u001b[?25ldone\n\u001b[?25h  Created wheel for umap-learn: filename=umap_learn-0.5.1-py3-none-any.whl size=76566 sha256=2b13b78b28128c1fdfb079f4d40adca642de6043a352fcf9f665a6e004c9e2b5\n  Stored in directory: /root/.cache/pip/wheels/95/85/b7/b4b7040e49367b6d1505d7e8fb57e3e79b22fa6ac26f72520b\n  Building wheel for pynndescent (setup.py) ... \u001b[?25ldone\n\u001b[?25h  Created wheel for pynndescent: filename=pynndescent-0.5.2-py3-none-any.whl size=51360 sha256=2b22cdbde4a54131b162b92029b73f339258392aa2daa9a7298bf331aea0b555\n  Stored in directory: /root/.cache/pip/wheels/bb/81/5d/c78c8f15f3c815197129f91ec435d8ae0bb0a7a856d962c3ce\nSuccessfully built cufflinks htmlmin phik awscli botocore bottleneck gpustat nvidia-ml-py3 alembic databricks-cli pyperclip prometheus-flask-exporter pyLDAvis pyod shap umap-learn pynndescent\nInstalling collected packages: decorator, multidict, yarl, async-timeout, tangled-up-in-unicode, smmap, scipy, PyWavelets, psutil, opencensus-context, nvidia-ml-py3, networkx, multimethod, llvmlite, itsdangerous, hiredis, bottleneck, blessings, aiohttp, widgetsnbextension, websocket-client, visions, srsly, scikit-learn, redis, python-editor, pyperclip, pydantic, py-spy, plac, pbr, patsy, opencensus, numba, msgpack, Mako, jupyterlab-widgets, imagehash, gpustat, gitdb, Flask, colorama, catalogue, aioredis, aiohttp-cors, thinc, tensorboardX, stevedore, statsmodels, ray, querystring-parser, pynndescent, prometheus-flask-exporter, PrettyTable, phik, numexpr, missingno, ipywidgets, htmlmin, gunicorn, gitpython, funcy, docker, databricks-cli, colorlover, cmd2, cloudpickle, botocore, alembic, yellowbrick, wordcloud, umap-learn, spacy, slicer, scikit-plot, pyod, pyLDAvis, pyaml, pandas-profiling, mlxtend, mlflow, lightgbm, kmodes, imbalanced-learn, graphviz, gensim, docutils, cufflinks, colorlog, cmaes, cliff, Boruta, xgboost, tune-sklearn, shap, scikit-optimize, pycaret, optuna, hyperopt, google-cloud-storage, catboost, awscli\n  Attempting uninstall: decorator\n    Found existing installation: decorator 5.0.9\n    Not uninstalling decorator at /shared-libs/python3.8/py-core/lib/python3.8/site-packages, outside environment /root/venv\n    Can't uninstall 'decorator'. No files were found to uninstall.\n  Attempting uninstall: scipy\n    Found existing installation: scipy 1.6.3\n    Not uninstalling scipy at /shared-libs/python3.8/py/lib/python3.8/site-packages, outside environment /root/venv\n    Can't uninstall 'scipy'. No files were found to uninstall.\n  Attempting uninstall: srsly\n    Found existing installation: srsly 2.4.1\n    Not uninstalling srsly at /shared-libs/python3.8/py/lib/python3.8/site-packages, outside environment /root/venv\n    Can't uninstall 'srsly'. No files were found to uninstall.\n  Attempting uninstall: scikit-learn\n    Found existing installation: scikit-learn 0.24.2\n    Not uninstalling scikit-learn at /shared-libs/python3.8/py/lib/python3.8/site-packages, outside environment /root/venv\n    Can't uninstall 'scikit-learn'. No files were found to uninstall.\n  Attempting uninstall: pydantic\n    Found existing installation: pydantic 1.7.4\n    Not uninstalling pydantic at /shared-libs/python3.8/py/lib/python3.8/site-packages, outside environment /root/venv\n    Can't uninstall 'pydantic'. No files were found to uninstall.\n  Attempting uninstall: catalogue\n    Found existing installation: catalogue 2.0.4\n    Not uninstalling catalogue at /shared-libs/python3.8/py/lib/python3.8/site-packages, outside environment /root/venv\n    Can't uninstall 'catalogue'. No files were found to uninstall.\n  Attempting uninstall: thinc\n    Found existing installation: thinc 8.0.3\n    Not uninstalling thinc at /shared-libs/python3.8/py/lib/python3.8/site-packages, outside environment /root/venv\n    Can't uninstall 'thinc'. No files were found to uninstall.\n  Attempting uninstall: botocore\n    Found existing installation: botocore 1.20.87\n    Not uninstalling botocore at /shared-libs/python3.8/py/lib/python3.8/site-packages, outside environment /root/venv\n    Can't uninstall 'botocore'. No files were found to uninstall.\n  Attempting uninstall: spacy\n    Found existing installation: spacy 3.0.6\n    Not uninstalling spacy at /shared-libs/python3.8/py/lib/python3.8/site-packages, outside environment /root/venv\n    Can't uninstall 'spacy'. No files were found to uninstall.\n  Attempting uninstall: docutils\n    Found existing installation: docutils 0.17.1\n    Not uninstalling docutils at /shared-libs/python3.8/py/lib/python3.8/site-packages, outside environment /root/venv\n    Can't uninstall 'docutils'. No files were found to uninstall.\nSuccessfully installed Boruta-0.3 Flask-2.0.1 Mako-1.1.4 PrettyTable-2.1.0 PyWavelets-1.1.1 aiohttp-3.7.4.post0 aiohttp-cors-0.7.0 aioredis-1.3.1 alembic-1.4.1 async-timeout-3.0.1 awscli-1.19.95 blessings-1.7 botocore-1.20.95 bottleneck-1.3.2 catalogue-1.0.0 catboost-0.26 cliff-3.8.0 cloudpickle-1.6.0 cmaes-0.8.2 cmd2-2.1.0 colorama-0.4.3 colorlog-5.0.1 colorlover-0.3.0 cufflinks-0.17.3 databricks-cli-0.14.3 decorator-4.4.2 docker-5.0.0 docutils-0.15.2 funcy-1.16 gensim-3.8.3 gitdb-4.0.7 gitpython-3.1.14 google-cloud-storage-1.38.0 gpustat-0.6.0 graphviz-0.16 gunicorn-20.1.0 hiredis-2.0.0 htmlmin-0.1.12 hyperopt-0.2.5 imagehash-4.2.0 imbalanced-learn-0.7.0 ipywidgets-7.6.3 itsdangerous-2.0.1 jupyterlab-widgets-1.0.0 kmodes-0.11.0 lightgbm-3.2.1 llvmlite-0.36.0 missingno-0.4.2 mlflow-1.17.0 mlxtend-0.18.0 msgpack-1.0.2 multidict-5.1.0 multimethod-1.4 networkx-2.5.1 numba-0.53.1 numexpr-2.7.3 nvidia-ml-py3-7.352.0 opencensus-0.7.13 opencensus-context-0.1.2 optuna-2.8.0 pandas-profiling-3.0.0 patsy-0.5.1 pbr-5.6.0 phik-0.11.2 plac-1.1.3 prometheus-flask-exporter-0.18.2 psutil-5.8.0 py-spy-0.3.7 pyLDAvis-3.2.2 pyaml-20.4.0 pycaret-2.3.1 pydantic-1.8.2 pynndescent-0.5.2 pyod-0.8.9 pyperclip-1.8.2 python-editor-1.0.4 querystring-parser-1.2.4 ray-1.4.0 redis-3.5.3 scikit-learn-0.23.2 scikit-optimize-0.8.1 scikit-plot-0.3.7 scipy-1.5.4 shap-0.39.0 slicer-0.0.7 smmap-4.0.0 spacy-2.3.7 srsly-1.0.5 statsmodels-0.12.2 stevedore-3.3.0 tangled-up-in-unicode-0.1.0 tensorboardX-2.2 thinc-7.4.5 tune-sklearn-0.3.0 umap-learn-0.5.1 visions-0.7.1 websocket-client-1.1.0 widgetsnbextension-3.5.1 wordcloud-1.8.1 xgboost-1.4.2 yarl-1.6.3 yellowbrick-1.3.post1\nRequirement already satisfied: lxml in /shared-libs/python3.8/py/lib/python3.8/site-packages (4.6.3)\nCollecting tsfresh\n  Downloading tsfresh-0.18.0-py2.py3-none-any.whl (94 kB)\n\u001b[K     |████████████████████████████████| 94 kB 3.8 MB/s \n\u001b[?25hCollecting matrixprofile>=1.1.10<2.0.0\n  Downloading matrixprofile-1.1.10-cp38-cp38-manylinux2010_x86_64.whl (1.2 MB)\n\u001b[K     |████████████████████████████████| 1.2 MB 33.1 MB/s \n\u001b[?25hRequirement already satisfied: requests>=2.9.1 in /shared-libs/python3.8/py/lib/python3.8/site-packages (from tsfresh) (2.25.1)\nCollecting distributed>=2.11.0\n  Downloading distributed-2021.6.0-py3-none-any.whl (715 kB)\n\u001b[K     |████████████████████████████████| 715 kB 37.7 MB/s \n\u001b[?25hCollecting stumpy>=1.7.2\n  Downloading stumpy-1.8.0-py3-none-any.whl (94 kB)\n\u001b[K     |████████████████████████████████| 94 kB 5.2 MB/s \n\u001b[?25hRequirement already satisfied: pandas>=0.25.0 in /shared-libs/python3.8/py/lib/python3.8/site-packages (from tsfresh) (1.2.4)\nCollecting dask[dataframe]>=2.9.0\n  Downloading dask-2021.6.0-py3-none-any.whl (965 kB)\n\u001b[K     |████████████████████████████████| 965 kB 43.9 MB/s \n\u001b[?25hRequirement already satisfied: scipy>=1.2.0 in /root/venv/lib/python3.8/site-packages (from tsfresh) (1.5.4)\nRequirement already satisfied: patsy>=0.4.1 in /root/venv/lib/python3.8/site-packages (from tsfresh) (0.5.1)\nRequirement already satisfied: tqdm>=4.10.0 in /shared-libs/python3.8/py/lib/python3.8/site-packages (from tsfresh) (4.61.0)\nRequirement already satisfied: statsmodels>=0.9.0 in /root/venv/lib/python3.8/site-packages (from tsfresh) (0.12.2)\nRequirement already satisfied: scikit-learn>=0.22.0 in /root/venv/lib/python3.8/site-packages (from tsfresh) (0.23.2)\nRequirement already satisfied: numpy>=1.15.1 in /shared-libs/python3.8/py/lib/python3.8/site-packages (from tsfresh) (1.19.5)\nRequirement already satisfied: cloudpickle>=1.1.1 in /root/venv/lib/python3.8/site-packages (from dask[dataframe]>=2.9.0->tsfresh) (1.6.0)\nRequirement already satisfied: toolz>=0.8.2 in /shared-libs/python3.8/py/lib/python3.8/site-packages (from dask[dataframe]>=2.9.0->tsfresh) (0.11.1)\nCollecting fsspec>=0.6.0\n  Downloading fsspec-2021.6.0-py3-none-any.whl (114 kB)\n\u001b[K     |████████████████████████████████| 114 kB 54.4 MB/s \n\u001b[?25hRequirement already satisfied: pyyaml in /shared-libs/python3.8/py/lib/python3.8/site-packages (from dask[dataframe]>=2.9.0->tsfresh) (5.4.1)\nCollecting partd>=0.3.10\n  Downloading partd-1.2.0-py3-none-any.whl (19 kB)\nCollecting tblib>=1.6.0\n  Downloading tblib-1.7.0-py2.py3-none-any.whl (12 kB)\nRequirement already satisfied: psutil>=5.0 in /root/venv/lib/python3.8/site-packages (from distributed>=2.11.0->tsfresh) (5.8.0)\nRequirement already satisfied: msgpack>=0.6.0 in /root/venv/lib/python3.8/site-packages (from distributed>=2.11.0->tsfresh) (1.0.2)\nRequirement already satisfied: click>=6.6 in /shared-libs/python3.8/py/lib/python3.8/site-packages (from distributed>=2.11.0->tsfresh) (7.1.2)\nRequirement already satisfied: setuptools in /root/venv/lib/python3.8/site-packages (from distributed>=2.11.0->tsfresh) (57.0.0)\nRequirement already satisfied: tornado>=6.0.3 in /shared-libs/python3.8/py-core/lib/python3.8/site-packages (from distributed>=2.11.0->tsfresh) (6.1)\nCollecting zict>=0.1.3\n  Downloading zict-2.0.0-py3-none-any.whl (10 kB)\nCollecting sortedcontainers!=2.0.0,!=2.0.1\n  Downloading sortedcontainers-2.4.0-py2.py3-none-any.whl (29 kB)\nRequirement already satisfied: matplotlib>=3.0.3 in /shared-libs/python3.8/py/lib/python3.8/site-packages (from matrixprofile>=1.1.10<2.0.0->tsfresh) (3.4.2)\nCollecting protobuf==3.11.2\n  Downloading protobuf-3.11.2-cp38-cp38-manylinux1_x86_64.whl (1.3 MB)\n\u001b[K     |████████████████████████████████| 1.3 MB 43.3 MB/s \n\u001b[?25hRequirement already satisfied: six>=1.9 in /shared-libs/python3.8/py-core/lib/python3.8/site-packages (from protobuf==3.11.2->matrixprofile>=1.1.10<2.0.0->tsfresh) (1.16.0)\nRequirement already satisfied: cycler>=0.10 in /shared-libs/python3.8/py/lib/python3.8/site-packages (from matplotlib>=3.0.3->matrixprofile>=1.1.10<2.0.0->tsfresh) (0.10.0)\nRequirement already satisfied: kiwisolver>=1.0.1 in /shared-libs/python3.8/py/lib/python3.8/site-packages (from matplotlib>=3.0.3->matrixprofile>=1.1.10<2.0.0->tsfresh) (1.3.1)\nRequirement already satisfied: pillow>=6.2.0 in /shared-libs/python3.8/py/lib/python3.8/site-packages (from matplotlib>=3.0.3->matrixprofile>=1.1.10<2.0.0->tsfresh) (8.2.0)\nRequirement already satisfied: pyparsing>=2.2.1 in /shared-libs/python3.8/py-core/lib/python3.8/site-packages (from matplotlib>=3.0.3->matrixprofile>=1.1.10<2.0.0->tsfresh) (2.4.7)\nRequirement already satisfied: python-dateutil>=2.7 in /shared-libs/python3.8/py-core/lib/python3.8/site-packages (from matplotlib>=3.0.3->matrixprofile>=1.1.10<2.0.0->tsfresh) (2.8.1)\nRequirement already satisfied: pytz>=2017.3 in /shared-libs/python3.8/py/lib/python3.8/site-packages (from pandas>=0.25.0->tsfresh) (2021.1)\nCollecting locket\n  Downloading locket-0.2.1-py2.py3-none-any.whl (4.1 kB)\nRequirement already satisfied: idna<3,>=2.5 in /shared-libs/python3.8/py/lib/python3.8/site-packages (from requests>=2.9.1->tsfresh) (2.10)\nRequirement already satisfied: certifi>=2017.4.17 in /shared-libs/python3.8/py/lib/python3.8/site-packages (from requests>=2.9.1->tsfresh) (2021.5.30)\nRequirement already satisfied: urllib3<1.27,>=1.21.1 in /shared-libs/python3.8/py/lib/python3.8/site-packages (from requests>=2.9.1->tsfresh) (1.26.5)\nRequirement already satisfied: chardet<5,>=3.0.2 in /shared-libs/python3.8/py/lib/python3.8/site-packages (from requests>=2.9.1->tsfresh) (3.0.4)\nRequirement already satisfied: joblib>=0.11 in /shared-libs/python3.8/py/lib/python3.8/site-packages (from scikit-learn>=0.22.0->tsfresh) (1.0.1)\nRequirement already satisfied: threadpoolctl>=2.0.0 in /shared-libs/python3.8/py/lib/python3.8/site-packages (from scikit-learn>=0.22.0->tsfresh) (2.1.0)\nRequirement already satisfied: numba>=0.48 in /root/venv/lib/python3.8/site-packages (from stumpy>=1.7.2->tsfresh) (0.53.1)\nRequirement already satisfied: llvmlite<0.37,>=0.36.0rc1 in /root/venv/lib/python3.8/site-packages (from numba>=0.48->stumpy>=1.7.2->tsfresh) (0.36.0)\nCollecting heapdict\n  Downloading HeapDict-1.0.1-py3-none-any.whl (3.9 kB)\nInstalling collected packages: locket, partd, heapdict, fsspec, zict, tblib, sortedcontainers, protobuf, dask, stumpy, matrixprofile, distributed, tsfresh\n  Attempting uninstall: protobuf\n    Found existing installation: protobuf 3.17.2\n    Not uninstalling protobuf at /shared-libs/python3.8/py/lib/python3.8/site-packages, outside environment /root/venv\n    Can't uninstall 'protobuf'. No files were found to uninstall.\n\u001b[31mERROR: pip's dependency resolver does not currently take into account all the packages that are installed. This behaviour is the source of the following dependency conflicts.\nray 1.4.0 requires protobuf>=3.15.3, but you have protobuf 3.11.2 which is incompatible.\ntensorflow 2.4.1 requires six~=1.15.0, but you have six 1.16.0 which is incompatible.\nproto-plus 1.18.1 requires protobuf>=3.12.0, but you have protobuf 3.11.2 which is incompatible.\ngoogleapis-common-protos 1.53.0 requires protobuf>=3.12.0, but you have protobuf 3.11.2 which is incompatible.\ngoogle-cloud-bigquery 2.18.0 requires protobuf>=3.12.0, but you have protobuf 3.11.2 which is incompatible.\ngoogle-api-core 1.29.0 requires protobuf>=3.12.0, but you have protobuf 3.11.2 which is incompatible.\u001b[0m\nSuccessfully installed dask-2021.6.0 distributed-2021.6.0 fsspec-2021.6.0 heapdict-1.0.1 locket-0.2.1 matrixprofile-1.1.10 partd-1.2.0 protobuf-3.11.2 sortedcontainers-2.4.0 stumpy-1.8.0 tblib-1.7.0 tsfresh-0.18.0 zict-2.0.0\n",
     "output_type": "stream"
    }
   ]
  },
  {
   "cell_type": "code",
   "metadata": {
    "tags": [],
    "cell_id": "00000-6c2a3565-18a9-4a69-9161-59f89ae2b2c2",
    "deepnote_to_be_reexecuted": false,
    "source_hash": "27a37af4",
    "execution_start": 1623857379475,
    "execution_millis": 3531,
    "deepnote_cell_type": "code"
   },
   "source": "from src.bgc_providers.ohio_bgc_provider import OhioBgcProvider\nfrom src.bgc_providers.aida_bgc_provider import AidaBgcProvider\nfrom src.featurizers.tsfresh import TsfreshFeaturizer",
   "execution_count": 2,
   "outputs": []
  },
  {
   "cell_type": "code",
   "metadata": {
    "tags": [],
    "cell_id": "00001-3177739f-b4d6-4a53-adc5-a7337855f70e",
    "deepnote_to_be_reexecuted": false,
    "source_hash": "7102aa15",
    "execution_start": 1623857383051,
    "execution_millis": 0,
    "deepnote_cell_type": "code"
   },
   "source": "# from tqdm import trange\n# from tsfresh import extract_features\n# from tsfresh.feature_extraction import (ComprehensiveFCParameters,\n# MinimalFCParameters)\n# import matplotlib.pyplot as plt\n# from lxml import objectify\n# from datetime import datetime\n#from src.helpers.dataframe import save_df, read_df",
   "execution_count": 3,
   "outputs": []
  },
  {
   "cell_type": "code",
   "metadata": {
    "tags": [],
    "cell_id": "00002-94d153e3-9f72-41fc-8571-06285989d2f6",
    "deepnote_to_be_reexecuted": false,
    "source_hash": "17ae9549",
    "execution_start": 1623860225504,
    "execution_millis": 13,
    "deepnote_cell_type": "code"
   },
   "source": "# experimental parameters\nparameters = {\n    'ohio_no' : 559,\n    'scope' : 'train',\n    'train_ds_size' : 3000,\n    'window_size' : 6,\n    'prediction_horizon' : 1,\n    'minimal_features' : False,\n}\n\ndef create_ds_name(parameters):\n    ds_name = f\"dataframes/{parameters['ohio_no']}_{parameters['scope']}_{parameters['train_ds_size']}_{parameters['window_size']}_{parameters['prediction_horizon']}.pkl\"\n    print(ds_name)\n    return ds_name\nparameters['ds_name'] = create_ds_name(parameters)",
   "execution_count": 39,
   "outputs": [
    {
     "name": "stdout",
     "text": "dataframes/559_train_3000_6_1.pkl\n",
     "output_type": "stream"
    }
   ]
  },
  {
   "cell_type": "code",
   "metadata": {
    "tags": [],
    "cell_id": "00004-0985f5e5-16e7-4eea-baf7-f596761a0a7c",
    "deepnote_to_be_reexecuted": false,
    "source_hash": "a76dbd36",
    "execution_start": 1623860226267,
    "execution_millis": 1108,
    "deepnote_cell_type": "code"
   },
   "source": "from src.helpers.dataframe import save_df, read_df\nfrom os import path\n\ndef  create_tsfresh_dataframe(p):\n    provider = OhioBgcProvider(scope = p['scope'], ohio_no=p['ohio_no'])\n    print(p)\n    df = provider.tsfresh_dataframe(trunc=p['train_ds_size'])\n    if path.exists(p['ds_name']):\n        out = read_df(p['ds_name'])\n    else:    \n        ts = TsfreshFeaturizer(df, p['window_size'], p['prediction_horizon'], minimal_features=p['minimal_features'])\n        ts.create_labeled_dataframe()\n\n        out = ts.labeled_dataframe\n        save_df(out, p['ds_name'])\n    return out\n\ndf2 = create_tsfresh_dataframe(parameters)\ndf2",
   "execution_count": 40,
   "outputs": [
    {
     "name": "stdout",
     "text": "{'ohio_no': 559, 'scope': 'train', 'train_ds_size': 3000, 'window_size': 6, 'prediction_horizon': 1, 'minimal_features': False, 'ds_name': 'dataframes/559_train_3000_6_1.pkl'}\n",
     "output_type": "stream"
    },
    {
     "data": {
      "text/plain": "<Figure size 432x288 with 1 Axes>",
      "image/png": "[encoded data removed]"
     },
     "metadata": {
      "needs_background": "light",
      "image/png": {
       "width": 375,
       "height": 262
      }
     },
     "output_type": "display_data"
    },
    {
     "output_type": "execute_result",
     "execution_count": 40,
     "data": {
      "application/vnd.deepnote.dataframe.v2+json": {
       "row_count": 2994,
       "column_count": 792,
       "columns": [
        {
         "name": "bg_value__variance_larger_than_standard_deviation",
         "dtype": "float64",
         "stats": {
          "unique_count": 2,
          "nan_count": 0,
          "min": "0.0",
          "max": "1.0",
          "histogram": [
           {
            "bin_start": 0,
            "bin_end": 0.1,
            "count": 193
           },
           {
            "bin_start": 0.1,
            "bin_end": 0.2,
            "count": 0
           },
           {
            "bin_start": 0.2,
            "bin_end": 0.30000000000000004,
            "count": 0
           },
           {
            "bin_start": 0.30000000000000004,
            "bin_end": 0.4,
            "count": 0
           },
           {
            "bin_start": 0.4,
            "bin_end": 0.5,
            "count": 0
           },
           {
            "bin_start": 0.5,
            "bin_end": 0.6000000000000001,
            "count": 0
           },
           {
            "bin_start": 0.6000000000000001,
            "bin_end": 0.7000000000000001,
            "count": 0
           },
           {
            "bin_start": 0.7000000000000001,
            "bin_end": 0.8,
            "count": 0
           },
           {
            "bin_start": 0.8,
            "bin_end": 0.9,
            "count": 0
           },
           {
            "bin_start": 0.9,
            "bin_end": 1,
            "count": 2801
           }
          ]
         }
        },
        {
         "name": "bg_value__has_duplicate_max",
         "dtype": "float64",
         "stats": {
          "unique_count": 2,
          "nan_count": 0,
          "min": "0.0",
          "max": "1.0",
          "histogram": [
           {
            "bin_start": 0,
            "bin_end": 0.1,
            "count": 2576
           },
           {
            "bin_start": 0.1,
            "bin_end": 0.2,
            "count": 0
           },
           {
            "bin_start": 0.2,
            "bin_end": 0.30000000000000004,
            "count": 0
           },
           {
            "bin_start": 0.30000000000000004,
            "bin_end": 0.4,
            "count": 0
           },
           {
            "bin_start": 0.4,
            "bin_end": 0.5,
            "count": 0
           },
           {
            "bin_start": 0.5,
            "bin_end": 0.6000000000000001,
            "count": 0
           },
           {
            "bin_start": 0.6000000000000001,
            "bin_end": 0.7000000000000001,
            "count": 0
           },
           {
            "bin_start": 0.7000000000000001,
            "bin_end": 0.8,
            "count": 0
           },
           {
            "bin_start": 0.8,
            "bin_end": 0.9,
            "count": 0
           },
           {
            "bin_start": 0.9,
            "bin_end": 1,
            "count": 418
           }
          ]
         }
        },
        {
         "name": "bg_value__has_duplicate_min",
         "dtype": "float64",
         "stats": {
          "unique_count": 2,
          "nan_count": 0,
          "min": "0.0",
          "max": "1.0",
          "histogram": [
           {
            "bin_start": 0,
            "bin_end": 0.1,
            "count": 2511
           },
           {
            "bin_start": 0.1,
            "bin_end": 0.2,
            "count": 0
           },
           {
            "bin_start": 0.2,
            "bin_end": 0.30000000000000004,
            "count": 0
           },
           {
            "bin_start": 0.30000000000000004,
            "bin_end": 0.4,
            "count": 0
           },
           {
            "bin_start": 0.4,
            "bin_end": 0.5,
            "count": 0
           },
           {
            "bin_start": 0.5,
            "bin_end": 0.6000000000000001,
            "count": 0
           },
           {
            "bin_start": 0.6000000000000001,
            "bin_end": 0.7000000000000001,
            "count": 0
           },
           {
            "bin_start": 0.7000000000000001,
            "bin_end": 0.8,
            "count": 0
           },
           {
            "bin_start": 0.8,
            "bin_end": 0.9,
            "count": 0
           },
           {
            "bin_start": 0.9,
            "bin_end": 1,
            "count": 483
           }
          ]
         }
        },
        {
         "name": "bg_value__has_duplicate",
         "dtype": "float64",
         "stats": {
          "unique_count": 2,
          "nan_count": 0,
          "min": "0.0",
          "max": "1.0",
          "histogram": [
           {
            "bin_start": 0,
            "bin_end": 0.1,
            "count": 1598
           },
           {
            "bin_start": 0.1,
            "bin_end": 0.2,
            "count": 0
           },
           {
            "bin_start": 0.2,
            "bin_end": 0.30000000000000004,
            "count": 0
           },
           {
            "bin_start": 0.30000000000000004,
            "bin_end": 0.4,
            "count": 0
           },
           {
            "bin_start": 0.4,
            "bin_end": 0.5,
            "count": 0
           },
           {
            "bin_start": 0.5,
            "bin_end": 0.6000000000000001,
            "count": 0
           },
           {
            "bin_start": 0.6000000000000001,
            "bin_end": 0.7000000000000001,
            "count": 0
           },
           {
            "bin_start": 0.7000000000000001,
            "bin_end": 0.8,
            "count": 0
           },
           {
            "bin_start": 0.8,
            "bin_end": 0.9,
            "count": 0
           },
           {
            "bin_start": 0.9,
            "bin_end": 1,
            "count": 1396
           }
          ]
         }
        },
        {
         "name": "bg_value__sum_values",
         "dtype": "float64",
         "stats": {
          "unique_count": 1304,
          "nan_count": 0,
          "min": "336.0",
          "max": "2288.0",
          "histogram": [
           {
            "bin_start": 336,
            "bin_end": 531.2,
            "count": 357
           },
           {
            "bin_start": 531.2,
            "bin_end": 726.4,
            "count": 608
           },
           {
            "bin_start": 726.4,
            "bin_end": 921.5999999999999,
            "count": 486
           },
           {
            "bin_start": 921.5999999999999,
            "bin_end": 1116.8,
            "count": 326
           },
           {
            "bin_start": 1116.8,
            "bin_end": 1312,
            "count": 530
           },
           {
            "bin_start": 1312,
            "bin_end": 1507.1999999999998,
            "count": 248
           },
           {
            "bin_start": 1507.1999999999998,
            "bin_end": 1702.3999999999999,
            "count": 216
           },
           {
            "bin_start": 1702.3999999999999,
            "bin_end": 1897.6,
            "count": 111
           },
           {
            "bin_start": 1897.6,
            "bin_end": 2092.8,
            "count": 70
           },
           {
            "bin_start": 2092.8,
            "bin_end": 2288,
            "count": 42
           }
          ]
         }
        },
        {
         "name": "bg_value__abs_energy",
         "dtype": "float64",
         "stats": {
          "unique_count": 2876,
          "nan_count": 0,
          "min": "18868.0",
          "max": "874426.0",
          "histogram": [
           {
            "bin_start": 18868,
            "bin_end": 104423.8,
            "count": 1141
           },
           {
            "bin_start": 104423.8,
            "bin_end": 189979.6,
            "count": 534
           },
           {
            "bin_start": 189979.6,
            "bin_end": 275535.4,
            "count": 559
           },
           {
            "bin_start": 275535.4,
            "bin_end": 361091.2,
            "count": 279
           },
           {
            "bin_start": 361091.2,
            "bin_end": 446647,
            "count": 197
           },
           {
            "bin_start": 446647,
            "bin_end": 532202.8,
            "count": 126
           },
           {
            "bin_start": 532202.8,
            "bin_end": 617758.6,
            "count": 55
           },
           {
            "bin_start": 617758.6,
            "bin_end": 703314.4,
            "count": 41
           },
           {
            "bin_start": 703314.4,
            "bin_end": 788870.2000000001,
            "count": 53
           },
           {
            "bin_start": 788870.2000000001,
            "bin_end": 874426,
            "count": 9
           }
          ]
         }
        },
        {
         "name": "bg_value__mean_abs_change",
         "dtype": "float64",
         "stats": {
          "unique_count": 118,
          "nan_count": 0,
          "min": "0.0",
          "max": "53.4",
          "histogram": [
           {
            "bin_start": 0,
            "bin_end": 5.34,
            "count": 2006
           },
           {
            "bin_start": 5.34,
            "bin_end": 10.68,
            "count": 748
           },
           {
            "bin_start": 10.68,
            "bin_end": 16.02,
            "count": 189
           },
           {
            "bin_start": 16.02,
            "bin_end": 21.36,
            "count": 28
           },
           {
            "bin_start": 21.36,
            "bin_end": 26.7,
            "count": 5
           },
           {
            "bin_start": 26.7,
            "bin_end": 32.04,
            "count": 8
           },
           {
            "bin_start": 32.04,
            "bin_end": 37.379999999999995,
            "count": 5
           },
           {
            "bin_start": 37.379999999999995,
            "bin_end": 42.72,
            "count": 0
           },
           {
            "bin_start": 42.72,
            "bin_end": 48.06,
            "count": 0
           },
           {
            "bin_start": 48.06,
            "bin_end": 53.4,
            "count": 5
           }
          ]
         }
        },
        {
         "name": "bg_value__mean_change",
         "dtype": "float64",
         "stats": {
          "unique_count": 194,
          "nan_count": 0,
          "min": "-34.2",
          "max": "52.0",
          "histogram": [
           {
            "bin_start": -34.2,
            "bin_end": -25.580000000000002,
            "count": 7
           },
           {
            "bin_start": -25.580000000000002,
            "bin_end": -16.96,
            "count": 9
           },
           {
            "bin_start": -16.96,
            "bin_end": -8.34,
            "count": 131
           },
           {
            "bin_start": -8.34,
            "bin_end": 0.28000000000000114,
            "count": 1549
           },
           {
            "bin_start": 0.28000000000000114,
            "bin_end": 8.900000000000006,
            "count": 1128
           },
           {
            "bin_start": 8.900000000000006,
            "bin_end": 17.520000000000003,
            "count": 152
           },
           {
            "bin_start": 17.520000000000003,
            "bin_end": 26.14,
            "count": 10
           },
           {
            "bin_start": 26.14,
            "bin_end": 34.760000000000005,
            "count": 3
           },
           {
            "bin_start": 34.760000000000005,
            "bin_end": 43.38000000000001,
            "count": 0
           },
           {
            "bin_start": 43.38000000000001,
            "bin_end": 52,
            "count": 5
           }
          ]
         }
        },
        {
         "name": "bg_value__mean_second_derivative_central",
         "dtype": "float64",
         "stats": {
          "unique_count": 84,
          "nan_count": 0,
          "min": "-32.625",
          "max": "32.5",
          "histogram": [
           {
            "bin_start": -32.625,
            "bin_end": -26.1125,
            "count": 1
           },
           {
            "bin_start": -26.1125,
            "bin_end": -19.6,
            "count": 0
           },
           {
            "bin_start": -19.6,
            "bin_end": -13.087499999999999,
            "count": 2
           },
           {
            "bin_start": -13.087499999999999,
            "bin_end": -6.574999999999999,
            "count": 2
           },
           {
            "bin_start": -6.574999999999999,
            "bin_end": -0.0625,
            "count": 1347
           },
           {
            "bin_start": -0.0625,
            "bin_end": 6.450000000000003,
            "count": 1637
           },
           {
            "bin_start": 6.450000000000003,
            "bin_end": 12.962499999999999,
            "count": 2
           },
           {
            "bin_start": 12.962499999999999,
            "bin_end": 19.475,
            "count": 1
           },
           {
            "bin_start": 19.475,
            "bin_end": 25.987500000000004,
            "count": 1
           },
           {
            "bin_start": 25.987500000000004,
            "bin_end": 32.5,
            "count": 1
           }
          ]
         }
        },
        {
         "name": "bg_value__median",
         "dtype": "float64",
         "stats": {
          "unique_count": 550,
          "nan_count": 0,
          "min": "56.5",
          "max": "384.5",
          "histogram": [
           {
            "bin_start": 56.5,
            "bin_end": 89.3,
            "count": 380
           },
           {
            "bin_start": 89.3,
            "bin_end": 122.1,
            "count": 613
           },
           {
            "bin_start": 122.1,
            "bin_end": 154.89999999999998,
            "count": 476
           },
           {
            "bin_start": 154.89999999999998,
            "bin_end": 187.7,
            "count": 334
           },
           {
            "bin_start": 187.7,
            "bin_end": 220.5,
            "count": 511
           },
           {
            "bin_start": 220.5,
            "bin_end": 253.29999999999998,
            "count": 249
           },
           {
            "bin_start": 253.29999999999998,
            "bin_end": 286.09999999999997,
            "count": 217
           },
           {
            "bin_start": 286.09999999999997,
            "bin_end": 318.9,
            "count": 105
           },
           {
            "bin_start": 318.9,
            "bin_end": 351.7,
            "count": 79
           },
           {
            "bin_start": 351.7,
            "bin_end": 384.5,
            "count": 30
           }
          ]
         }
        },
        {
         "name": "bg_value__mean",
         "dtype": "float64",
         "stats": {
          "unique_count": 1304,
          "nan_count": 0,
          "min": "56.0",
          "max": "381.3333333333333",
          "histogram": [
           {
            "bin_start": 56,
            "bin_end": 88.53333333333333,
            "count": 357
           },
           {
            "bin_start": 88.53333333333333,
            "bin_end": 121.06666666666666,
            "count": 608
           },
           {
            "bin_start": 121.06666666666666,
            "bin_end": 153.6,
            "count": 486
           },
           {
            "bin_start": 153.6,
            "bin_end": 186.13333333333333,
            "count": 326
           },
           {
            "bin_start": 186.13333333333333,
            "bin_end": 218.66666666666666,
            "count": 530
           },
           {
            "bin_start": 218.66666666666666,
            "bin_end": 251.2,
            "count": 248
           },
           {
            "bin_start": 251.2,
            "bin_end": 283.73333333333335,
            "count": 216
           },
           {
            "bin_start": 283.73333333333335,
            "bin_end": 316.26666666666665,
            "count": 111
           },
           {
            "bin_start": 316.26666666666665,
            "bin_end": 348.79999999999995,
            "count": 70
           },
           {
            "bin_start": 348.79999999999995,
            "bin_end": 381.3333333333333,
            "count": 42
           }
          ]
         }
        },
        {
         "name": "bg_value__length",
         "dtype": "float64",
         "stats": {
          "unique_count": 1,
          "nan_count": 0,
          "min": "6.0",
          "max": "6.0",
          "histogram": [
           {
            "bin_start": 5.5,
            "bin_end": 5.6,
            "count": 0
           },
           {
            "bin_start": 5.6,
            "bin_end": 5.7,
            "count": 0
           },
           {
            "bin_start": 5.7,
            "bin_end": 5.8,
            "count": 0
           },
           {
            "bin_start": 5.8,
            "bin_end": 5.9,
            "count": 0
           },
           {
            "bin_start": 5.9,
            "bin_end": 6,
            "count": 0
           },
           {
            "bin_start": 6,
            "bin_end": 6.1,
            "count": 2994
           },
           {
            "bin_start": 6.1,
            "bin_end": 6.2,
            "count": 0
           },
           {
            "bin_start": 6.2,
            "bin_end": 6.3,
            "count": 0
           },
           {
            "bin_start": 6.3,
            "bin_end": 6.4,
            "count": 0
           },
           {
            "bin_start": 6.4,
            "bin_end": 6.5,
            "count": 0
           }
          ]
         }
        },
        {
         "name": "bg_value__standard_deviation",
         "dtype": "float64",
         "stats": {
          "unique_count": 1594,
          "nan_count": 0,
          "min": "0.0",
          "max": "129.5038609463054",
          "histogram": [
           {
            "bin_start": 0,
            "bin_end": 12.95038609463054,
            "count": 2515
           },
           {
            "bin_start": 12.95038609463054,
            "bin_end": 25.90077218926108,
            "count": 411
           },
           {
            "bin_start": 25.90077218926108,
            "bin_end": 38.85115828389162,
            "count": 48
           },
           {
            "bin_start": 38.85115828389162,
            "bin_end": 51.80154437852216,
            "count": 5
           },
           {
            "bin_start": 51.80154437852216,
            "bin_end": 64.7519304731527,
            "count": 7
           },
           {
            "bin_start": 64.7519304731527,
            "bin_end": 77.70231656778324,
            "count": 2
           },
           {
            "bin_start": 77.70231656778324,
            "bin_end": 90.65270266241377,
            "count": 1
           },
           {
            "bin_start": 90.65270266241377,
            "bin_end": 103.60308875704432,
            "count": 2
           },
           {
            "bin_start": 103.60308875704432,
            "bin_end": 116.55347485167486,
            "count": 0
           },
           {
            "bin_start": 116.55347485167486,
            "bin_end": 129.5038609463054,
            "count": 3
           }
          ]
         }
        },
        {
         "name": "bg_value__variation_coefficient",
         "dtype": "float64",
         "stats": {
          "unique_count": 2885,
          "nan_count": 0,
          "min": "0.0",
          "max": "0.718416603566094",
          "histogram": [
           {
            "bin_start": 0,
            "bin_end": 0.07184166035660941,
            "count": 2412
           },
           {
            "bin_start": 0.07184166035660941,
            "bin_end": 0.14368332071321882,
            "count": 433
           },
           {
            "bin_start": 0.14368332071321882,
            "bin_end": 0.21552498106982823,
            "count": 125
           },
           {
            "bin_start": 0.21552498106982823,
            "bin_end": 0.28736664142643764,
            "count": 10
           },
           {
            "bin_start": 0.28736664142643764,
            "bin_end": 0.3592083017830471,
            "count": 4
           },
           {
            "bin_start": 0.3592083017830471,
            "bin_end": 0.43104996213965646,
            "count": 3
           },
           {
            "bin_start": 0.43104996213965646,
            "bin_end": 0.5028916224962658,
            "count": 2
           },
           {
            "bin_start": 0.5028916224962658,
            "bin_end": 0.5747332828528753,
            "count": 0
           },
           {
            "bin_start": 0.5747332828528753,
            "bin_end": 0.6465749432094847,
            "count": 3
           },
           {
            "bin_start": 0.6465749432094847,
            "bin_end": 0.718416603566094,
            "count": 2
           }
          ]
         }
        },
        {
         "name": "bg_value__variance",
         "dtype": "float64",
         "stats": {
          "unique_count": 1701,
          "nan_count": 0,
          "min": "0.0",
          "max": "16771.25",
          "histogram": [
           {
            "bin_start": 0,
            "bin_end": 1677.125,
            "count": 2974
           },
           {
            "bin_start": 1677.125,
            "bin_end": 3354.25,
            "count": 9
           },
           {
            "bin_start": 3354.25,
            "bin_end": 5031.375,
            "count": 3
           },
           {
            "bin_start": 5031.375,
            "bin_end": 6708.5,
            "count": 3
           },
           {
            "bin_start": 6708.5,
            "bin_end": 8385.625,
            "count": 0
           },
           {
            "bin_start": 8385.625,
            "bin_end": 10062.75,
            "count": 2
           },
           {
            "bin_start": 10062.75,
            "bin_end": 11739.875,
            "count": 0
           },
           {
            "bin_start": 11739.875,
            "bin_end": 13417,
            "count": 0
           },
           {
            "bin_start": 13417,
            "bin_end": 15094.125,
            "count": 2
           },
           {
            "bin_start": 15094.125,
            "bin_end": 16771.25,
            "count": 1
           }
          ]
         }
        },
        {
         "name": "bg_value__skewness",
         "dtype": "float64",
         "stats": {
          "unique_count": 2590,
          "nan_count": 0,
          "min": "-2.449489742783283",
          "max": "2.4494897427832827",
          "histogram": [
           {
            "bin_start": -2.449489742783283,
            "bin_end": -1.9595917942266265,
            "count": 36
           },
           {
            "bin_start": -1.9595917942266265,
            "bin_end": -1.46969384566997,
            "count": 85
           },
           {
            "bin_start": -1.46969384566997,
            "bin_end": -0.9797958971133136,
            "count": 174
           },
           {
            "bin_start": -0.9797958971133136,
            "bin_end": -0.489897948556657,
            "count": 460
           },
           {
            "bin_start": -0.489897948556657,
            "bin_end": -4.440892098500626e-16,
            "count": 649
           },
           {
            "bin_start": -4.440892098500626e-16,
            "bin_end": 0.4898979485566559,
            "count": 745
           },
           {
            "bin_start": 0.4898979485566559,
            "bin_end": 0.9797958971133127,
            "count": 491
           },
           {
            "bin_start": 0.9797958971133127,
            "bin_end": 1.469693845669969,
            "count": 217
           },
           {
            "bin_start": 1.469693845669969,
            "bin_end": 1.9595917942266259,
            "count": 92
           },
           {
            "bin_start": 1.9595917942266259,
            "bin_end": 2.4494897427832827,
            "count": 45
           }
          ]
         }
        },
        {
         "name": "bg_value__kurtosis",
         "dtype": "float64",
         "stats": {
          "unique_count": 2469,
          "nan_count": 0,
          "min": "-3.3333333333333335",
          "max": "6.0000000000005365",
          "histogram": [
           {
            "bin_start": -3.3333333333333335,
            "bin_end": -2.399999999999946,
            "count": 97
           },
           {
            "bin_start": -2.399999999999946,
            "bin_end": -1.4666666666665593,
            "count": 758
           },
           {
            "bin_start": -1.4666666666665593,
            "bin_end": -0.533333333333172,
            "count": 871
           },
           {
            "bin_start": -0.533333333333172,
            "bin_end": 0.40000000000021485,
            "count": 542
           },
           {
            "bin_start": 0.40000000000021485,
            "bin_end": 1.3333333333336017,
            "count": 273
           },
           {
            "bin_start": 1.3333333333336017,
            "bin_end": 2.2666666666669895,
            "count": 164
           },
           {
            "bin_start": 2.2666666666669895,
            "bin_end": 3.2000000000003763,
            "count": 138
           },
           {
            "bin_start": 3.2000000000003763,
            "bin_end": 4.133333333333763,
            "count": 70
           },
           {
            "bin_start": 4.133333333333763,
            "bin_end": 5.06666666666715,
            "count": 38
           },
           {
            "bin_start": 5.06666666666715,
            "bin_end": 6.0000000000005365,
            "count": 43
           }
          ]
         }
        },
        {
         "name": "bg_value__root_mean_square",
         "dtype": "float64",
         "stats": {
          "unique_count": 2876,
          "nan_count": 0,
          "min": "56.07732756352309",
          "max": "381.7560302950913",
          "histogram": [
           {
            "bin_start": 56.07732756352309,
            "bin_end": 88.64519783667991,
            "count": 355
           },
           {
            "bin_start": 88.64519783667991,
            "bin_end": 121.21306810983674,
            "count": 604
           },
           {
            "bin_start": 121.21306810983674,
            "bin_end": 153.78093838299355,
            "count": 489
           },
           {
            "bin_start": 153.78093838299355,
            "bin_end": 186.34880865615037,
            "count": 326
           },
           {
            "bin_start": 186.34880865615037,
            "bin_end": 218.91667892930718,
            "count": 534
           },
           {
            "bin_start": 218.91667892930718,
            "bin_end": 251.48454920246402,
            "count": 249
           },
           {
            "bin_start": 251.48454920246402,
            "bin_end": 284.05241947562087,
            "count": 213
           },
           {
            "bin_start": 284.05241947562087,
            "bin_end": 316.6202897487777,
            "count": 112
           },
           {
            "bin_start": 316.6202897487777,
            "bin_end": 349.1881600219345,
            "count": 72
           },
           {
            "bin_start": 349.1881600219345,
            "bin_end": 381.7560302950913,
            "count": 40
           }
          ]
         }
        },
        {
         "name": "bg_value__absolute_sum_of_changes",
         "dtype": "float64",
         "stats": {
          "unique_count": 118,
          "nan_count": 0,
          "min": "0.0",
          "max": "267.0",
          "histogram": [
           {
            "bin_start": 0,
            "bin_end": 26.7,
            "count": 2006
           },
           {
            "bin_start": 26.7,
            "bin_end": 53.4,
            "count": 748
           },
           {
            "bin_start": 53.4,
            "bin_end": 80.1,
            "count": 189
           },
           {
            "bin_start": 80.1,
            "bin_end": 106.8,
            "count": 28
           },
           {
            "bin_start": 106.8,
            "bin_end": 133.5,
            "count": 5
           },
           {
            "bin_start": 133.5,
            "bin_end": 160.2,
            "count": 8
           },
           {
            "bin_start": 160.2,
            "bin_end": 186.9,
            "count": 5
           },
           {
            "bin_start": 186.9,
            "bin_end": 213.6,
            "count": 0
           },
           {
            "bin_start": 213.6,
            "bin_end": 240.29999999999998,
            "count": 0
           },
           {
            "bin_start": 240.29999999999998,
            "bin_end": 267,
            "count": 5
           }
          ]
         }
        },
        {
         "name": "bg_value__longest_strike_below_mean",
         "dtype": "float64",
         "stats": {
          "unique_count": 6,
          "nan_count": 0,
          "min": "0.0",
          "max": "5.0",
          "histogram": [
           {
            "bin_start": 0,
            "bin_end": 0.5,
            "count": 4
           },
           {
            "bin_start": 0.5,
            "bin_end": 1,
            "count": 0
           },
           {
            "bin_start": 1,
            "bin_end": 1.5,
            "count": 131
           },
           {
            "bin_start": 1.5,
            "bin_end": 2,
            "count": 0
           },
           {
            "bin_start": 2,
            "bin_end": 2.5,
            "count": 845
           },
           {
            "bin_start": 2.5,
            "bin_end": 3,
            "count": 0
           },
           {
            "bin_start": 3,
            "bin_end": 3.5,
            "count": 1509
           },
           {
            "bin_start": 3.5,
            "bin_end": 4,
            "count": 0
           },
           {
            "bin_start": 4,
            "bin_end": 4.5,
            "count": 470
           },
           {
            "bin_start": 4.5,
            "bin_end": 5,
            "count": 35
           }
          ]
         }
        },
        {
         "name": "bg_value__longest_strike_above_mean",
         "dtype": "float64",
         "stats": {
          "unique_count": 6,
          "nan_count": 0,
          "min": "0.0",
          "max": "5.0",
          "histogram": [
           {
            "bin_start": 0,
            "bin_end": 0.5,
            "count": 4
           },
           {
            "bin_start": 0.5,
            "bin_end": 1,
            "count": 0
           },
           {
            "bin_start": 1,
            "bin_end": 1.5,
            "count": 159
           },
           {
            "bin_start": 1.5,
            "bin_end": 2,
            "count": 0
           },
           {
            "bin_start": 2,
            "bin_end": 2.5,
            "count": 854
           },
           {
            "bin_start": 2.5,
            "bin_end": 3,
            "count": 0
           },
           {
            "bin_start": 3,
            "bin_end": 3.5,
            "count": 1503
           },
           {
            "bin_start": 3.5,
            "bin_end": 4,
            "count": 0
           },
           {
            "bin_start": 4,
            "bin_end": 4.5,
            "count": 445
           },
           {
            "bin_start": 4.5,
            "bin_end": 5,
            "count": 29
           }
          ]
         }
        },
        {
         "name": "bg_value__count_above_mean",
         "dtype": "float64",
         "stats": {
          "unique_count": 6,
          "nan_count": 0,
          "min": "0.0",
          "max": "5.0",
          "histogram": [
           {
            "bin_start": 0,
            "bin_end": 0.5,
            "count": 4
           },
           {
            "bin_start": 0.5,
            "bin_end": 1,
            "count": 0
           },
           {
            "bin_start": 1,
            "bin_end": 1.5,
            "count": 67
           },
           {
            "bin_start": 1.5,
            "bin_end": 2,
            "count": 0
           },
           {
            "bin_start": 2,
            "bin_end": 2.5,
            "count": 656
           },
           {
            "bin_start": 2.5,
            "bin_end": 3,
            "count": 0
           },
           {
            "bin_start": 3,
            "bin_end": 3.5,
            "count": 1710
           },
           {
            "bin_start": 3.5,
            "bin_end": 4,
            "count": 0
           },
           {
            "bin_start": 4,
            "bin_end": 4.5,
            "count": 518
           },
           {
            "bin_start": 4.5,
            "bin_end": 5,
            "count": 39
           }
          ]
         }
        },
        {
         "name": "bg_value__count_below_mean",
         "dtype": "float64",
         "stats": {
          "unique_count": 6,
          "nan_count": 0,
          "min": "0.0",
          "max": "5.0",
          "histogram": [
           {
            "bin_start": 0,
            "bin_end": 0.5,
            "count": 4
           },
           {
            "bin_start": 0.5,
            "bin_end": 1,
            "count": 0
           },
           {
            "bin_start": 1,
            "bin_end": 1.5,
            "count": 58
           },
           {
            "bin_start": 1.5,
            "bin_end": 2,
            "count": 0
           },
           {
            "bin_start": 2,
            "bin_end": 2.5,
            "count": 617
           },
           {
            "bin_start": 2.5,
            "bin_end": 3,
            "count": 0
           },
           {
            "bin_start": 3,
            "bin_end": 3.5,
            "count": 1712
           },
           {
            "bin_start": 3.5,
            "bin_end": 4,
            "count": 0
           },
           {
            "bin_start": 4,
            "bin_end": 4.5,
            "count": 562
           },
           {
            "bin_start": 4.5,
            "bin_end": 5,
            "count": 41
           }
          ]
         }
        },
        {
         "name": "bg_value__last_location_of_maximum",
         "dtype": "float64",
         "stats": {
          "unique_count": 6,
          "nan_count": 0,
          "min": "0.16666666666666663",
          "max": "1.0",
          "histogram": [
           {
            "bin_start": 0.16666666666666663,
            "bin_end": 0.24999999999999997,
            "count": 1077
           },
           {
            "bin_start": 0.24999999999999997,
            "bin_end": 0.3333333333333333,
            "count": 0
           },
           {
            "bin_start": 0.3333333333333333,
            "bin_end": 0.41666666666666663,
            "count": 245
           },
           {
            "bin_start": 0.41666666666666663,
            "bin_end": 0.5,
            "count": 0
           },
           {
            "bin_start": 0.5,
            "bin_end": 0.5833333333333334,
            "count": 202
           },
           {
            "bin_start": 0.5833333333333334,
            "bin_end": 0.6666666666666666,
            "count": 0
           },
           {
            "bin_start": 0.6666666666666666,
            "bin_end": 0.75,
            "count": 201
           },
           {
            "bin_start": 0.75,
            "bin_end": 0.8333333333333334,
            "count": 0
           },
           {
            "bin_start": 0.8333333333333334,
            "bin_end": 0.9166666666666667,
            "count": 216
           },
           {
            "bin_start": 0.9166666666666667,
            "bin_end": 1,
            "count": 1053
           }
          ]
         }
        },
        {
         "name": "bg_value__first_location_of_maximum",
         "dtype": "float64",
         "stats": {
          "unique_count": 6,
          "nan_count": 0,
          "min": "0.0",
          "max": "0.8333333333333334",
          "histogram": [
           {
            "bin_start": 0,
            "bin_end": 0.08333333333333334,
            "count": 1256
           },
           {
            "bin_start": 0.08333333333333334,
            "bin_end": 0.16666666666666669,
            "count": 209
           },
           {
            "bin_start": 0.16666666666666669,
            "bin_end": 0.25,
            "count": 0
           },
           {
            "bin_start": 0.25,
            "bin_end": 0.33333333333333337,
            "count": 192
           },
           {
            "bin_start": 0.33333333333333337,
            "bin_end": 0.41666666666666674,
            "count": 0
           },
           {
            "bin_start": 0.41666666666666674,
            "bin_end": 0.5,
            "count": 0
           },
           {
            "bin_start": 0.5,
            "bin_end": 0.5833333333333334,
            "count": 211
           },
           {
            "bin_start": 0.5833333333333334,
            "bin_end": 0.6666666666666667,
            "count": 229
           },
           {
            "bin_start": 0.6666666666666667,
            "bin_end": 0.7500000000000001,
            "count": 0
           },
           {
            "bin_start": 0.7500000000000001,
            "bin_end": 0.8333333333333334,
            "count": 897
           }
          ]
         }
        },
        {
         "name": "bg_value__last_location_of_minimum",
         "dtype": "float64",
         "stats": {
          "unique_count": 6,
          "nan_count": 0,
          "min": "0.16666666666666663",
          "max": "1.0",
          "histogram": [
           {
            "bin_start": 0.16666666666666663,
            "bin_end": 0.24999999999999997,
            "count": 905
           },
           {
            "bin_start": 0.24999999999999997,
            "bin_end": 0.3333333333333333,
            "count": 0
           },
           {
            "bin_start": 0.3333333333333333,
            "bin_end": 0.41666666666666663,
            "count": 226
           },
           {
            "bin_start": 0.41666666666666663,
            "bin_end": 0.5,
            "count": 0
           },
           {
            "bin_start": 0.5,
            "bin_end": 0.5833333333333334,
            "count": 200
           },
           {
            "bin_start": 0.5833333333333334,
            "bin_end": 0.6666666666666666,
            "count": 0
           },
           {
            "bin_start": 0.6666666666666666,
            "bin_end": 0.75,
            "count": 202
           },
           {
            "bin_start": 0.75,
            "bin_end": 0.8333333333333334,
            "count": 0
           },
           {
            "bin_start": 0.8333333333333334,
            "bin_end": 0.9166666666666667,
            "count": 206
           },
           {
            "bin_start": 0.9166666666666667,
            "bin_end": 1,
            "count": 1255
           }
          ]
         }
        },
        {
         "name": "bg_value__first_location_of_minimum",
         "dtype": "float64",
         "stats": {
          "unique_count": 6,
          "nan_count": 0,
          "min": "0.0",
          "max": "0.8333333333333334",
          "histogram": [
           {
            "bin_start": 0,
            "bin_end": 0.08333333333333334,
            "count": 1085
           },
           {
            "bin_start": 0.08333333333333334,
            "bin_end": 0.16666666666666669,
            "count": 216
           },
           {
            "bin_start": 0.16666666666666669,
            "bin_end": 0.25,
            "count": 0
           },
           {
            "bin_start": 0.25,
            "bin_end": 0.33333333333333337,
            "count": 203
           },
           {
            "bin_start": 0.33333333333333337,
            "bin_end": 0.41666666666666674,
            "count": 0
           },
           {
            "bin_start": 0.41666666666666674,
            "bin_end": 0.5,
            "count": 0
           },
           {
            "bin_start": 0.5,
            "bin_end": 0.5833333333333334,
            "count": 197
           },
           {
            "bin_start": 0.5833333333333334,
            "bin_end": 0.6666666666666667,
            "count": 237
           },
           {
            "bin_start": 0.6666666666666667,
            "bin_end": 0.7500000000000001,
            "count": 0
           },
           {
            "bin_start": 0.7500000000000001,
            "bin_end": 0.8333333333333334,
            "count": 1056
           }
          ]
         }
        },
        {
         "name": "bg_value__percentage_of_reoccurring_values_to_all_values",
         "dtype": "float64",
         "stats": {
          "unique_count": 7,
          "nan_count": 0,
          "min": "0.0",
          "max": "1.0",
          "histogram": [
           {
            "bin_start": 0,
            "bin_end": 0.1,
            "count": 1598
           },
           {
            "bin_start": 0.1,
            "bin_end": 0.2,
            "count": 0
           },
           {
            "bin_start": 0.2,
            "bin_end": 0.30000000000000004,
            "count": 942
           },
           {
            "bin_start": 0.30000000000000004,
            "bin_end": 0.4,
            "count": 32
           },
           {
            "bin_start": 0.4,
            "bin_end": 0.5,
            "count": 0
           },
           {
            "bin_start": 0.5,
            "bin_end": 0.6000000000000001,
            "count": 236
           },
           {
            "bin_start": 0.6000000000000001,
            "bin_end": 0.7000000000000001,
            "count": 114
           },
           {
            "bin_start": 0.7000000000000001,
            "bin_end": 0.8,
            "count": 0
           },
           {
            "bin_start": 0.8,
            "bin_end": 0.9,
            "count": 0
           },
           {
            "bin_start": 0.9,
            "bin_end": 1,
            "count": 72
           }
          ]
         }
        },
        {
         "name": "bg_value__percentage_of_reoccurring_datapoints_to_all_datapoints",
         "dtype": "float64",
         "stats": {
          "unique_count": 6,
          "nan_count": 0,
          "min": "0.0",
          "max": "1.0",
          "histogram": [
           {
            "bin_start": 0,
            "bin_end": 0.1,
            "count": 1598
           },
           {
            "bin_start": 0.1,
            "bin_end": 0.2,
            "count": 0
           },
           {
            "bin_start": 0.2,
            "bin_end": 0.30000000000000004,
            "count": 0
           },
           {
            "bin_start": 0.30000000000000004,
            "bin_end": 0.4,
            "count": 779
           },
           {
            "bin_start": 0.4,
            "bin_end": 0.5,
            "count": 0
           },
           {
            "bin_start": 0.5,
            "bin_end": 0.6000000000000001,
            "count": 163
           },
           {
            "bin_start": 0.6000000000000001,
            "bin_end": 0.7000000000000001,
            "count": 247
           },
           {
            "bin_start": 0.7000000000000001,
            "bin_end": 0.8,
            "count": 0
           },
           {
            "bin_start": 0.8,
            "bin_end": 0.9,
            "count": 135
           },
           {
            "bin_start": 0.9,
            "bin_end": 1,
            "count": 72
           }
          ]
         }
        },
        {
         "name": "bg_value__sum_of_reoccurring_values",
         "dtype": "float64",
         "stats": {
          "unique_count": 273,
          "nan_count": 0,
          "min": "0.0",
          "max": "774.0",
          "histogram": [
           {
            "bin_start": 0,
            "bin_end": 77.4,
            "count": 1681
           },
           {
            "bin_start": 77.4,
            "bin_end": 154.8,
            "count": 477
           },
           {
            "bin_start": 154.8,
            "bin_end": 232.20000000000002,
            "count": 456
           },
           {
            "bin_start": 232.20000000000002,
            "bin_end": 309.6,
            "count": 201
           },
           {
            "bin_start": 309.6,
            "bin_end": 387,
            "count": 83
           },
           {
            "bin_start": 387,
            "bin_end": 464.40000000000003,
            "count": 49
           },
           {
            "bin_start": 464.40000000000003,
            "bin_end": 541.8000000000001,
            "count": 20
           },
           {
            "bin_start": 541.8000000000001,
            "bin_end": 619.2,
            "count": 19
           },
           {
            "bin_start": 619.2,
            "bin_end": 696.6,
            "count": 1
           },
           {
            "bin_start": 696.6,
            "bin_end": 774,
            "count": 7
           }
          ]
         }
        },
        {
         "name": "bg_value__sum_of_reoccurring_data_points",
         "dtype": "float64",
         "stats": {
          "unique_count": 379,
          "nan_count": 0,
          "min": "0.0",
          "max": "1823.0",
          "histogram": [
           {
            "bin_start": 0,
            "bin_end": 182.3,
            "count": 1717
           },
           {
            "bin_start": 182.3,
            "bin_end": 364.6,
            "count": 472
           },
           {
            "bin_start": 364.6,
            "bin_end": 546.9000000000001,
            "count": 463
           },
           {
            "bin_start": 546.9000000000001,
            "bin_end": 729.2,
            "count": 185
           },
           {
            "bin_start": 729.2,
            "bin_end": 911.5,
            "count": 69
           },
           {
            "bin_start": 911.5,
            "bin_end": 1093.8000000000002,
            "count": 50
           },
           {
            "bin_start": 1093.8000000000002,
            "bin_end": 1276.1000000000001,
            "count": 26
           },
           {
            "bin_start": 1276.1000000000001,
            "bin_end": 1458.4,
            "count": 8
           },
           {
            "bin_start": 1458.4,
            "bin_end": 1640.7,
            "count": 1
           },
           {
            "bin_start": 1640.7,
            "bin_end": 1823,
            "count": 3
           }
          ]
         }
        },
        {
         "name": "bg_value__ratio_value_number_to_time_series_length",
         "dtype": "float64",
         "stats": {
          "unique_count": 6,
          "nan_count": 0,
          "min": "0.16666666666666666",
          "max": "1.0",
          "histogram": [
           {
            "bin_start": 0.16666666666666666,
            "bin_end": 0.25,
            "count": 4
           },
           {
            "bin_start": 0.25,
            "bin_end": 0.33333333333333337,
            "count": 65
           },
           {
            "bin_start": 0.33333333333333337,
            "bin_end": 0.41666666666666663,
            "count": 0
           },
           {
            "bin_start": 0.41666666666666663,
            "bin_end": 0.5,
            "count": 0
           },
           {
            "bin_start": 0.5,
            "bin_end": 0.5833333333333334,
            "count": 170
           },
           {
            "bin_start": 0.5833333333333334,
            "bin_end": 0.6666666666666666,
            "count": 0
           },
           {
            "bin_start": 0.6666666666666666,
            "bin_end": 0.75,
            "count": 378
           },
           {
            "bin_start": 0.75,
            "bin_end": 0.8333333333333334,
            "count": 0
           },
           {
            "bin_start": 0.8333333333333334,
            "bin_end": 0.9166666666666667,
            "count": 779
           },
           {
            "bin_start": 0.9166666666666667,
            "bin_end": 1,
            "count": 1598
           }
          ]
         }
        },
        {
         "name": "bg_value__sample_entropy",
         "dtype": "float64",
         "stats": {
          "unique_count": 6,
          "nan_count": 2529,
          "min": "0.40546510810816444",
          "max": "inf",
          "histogram": [
           {
            "bin_start": 0.40546510810816444,
            "bin_end": 0.474779826164159,
            "count": 1
           },
           {
            "bin_start": 0.474779826164159,
            "bin_end": 0.5440945442201535,
            "count": 4
           },
           {
            "bin_start": 0.5440945442201535,
            "bin_end": 0.613409262276148,
            "count": 0
           },
           {
            "bin_start": 0.613409262276148,
            "bin_end": 0.6827239803321425,
            "count": 0
           },
           {
            "bin_start": 0.6827239803321425,
            "bin_end": 0.7520386983881371,
            "count": 28
           },
           {
            "bin_start": 0.7520386983881371,
            "bin_end": 0.8213534164441316,
            "count": 0
           },
           {
            "bin_start": 0.8213534164441316,
            "bin_end": 0.8906681345001262,
            "count": 0
           },
           {
            "bin_start": 0.8906681345001262,
            "bin_end": 0.9599828525561207,
            "count": 1
           },
           {
            "bin_start": 0.9599828525561207,
            "bin_end": 1.0292975706121152,
            "count": 0
           },
           {
            "bin_start": 1.0292975706121152,
            "bin_end": 1.0986122886681098,
            "count": 55
           }
          ]
         }
        },
        {
         "name": "bg_value__maximum",
         "dtype": "float64"
        },
        {
         "name": "bg_value__minimum",
         "dtype": "float64"
        },
        {
         "name": "bg_value__benford_correlation",
         "dtype": "float64"
        },
        {
         "name": "bg_value__time_reversal_asymmetry_statistic__lag_1",
         "dtype": "float64"
        },
        {
         "name": "bg_value__time_reversal_asymmetry_statistic__lag_2",
         "dtype": "float64"
        },
        {
         "name": "bg_value__time_reversal_asymmetry_statistic__lag_3",
         "dtype": "float64"
        },
        {
         "name": "bg_value__c3__lag_1",
         "dtype": "float64"
        },
        {
         "name": "bg_value__c3__lag_2",
         "dtype": "float64"
        },
        {
         "name": "bg_value__c3__lag_3",
         "dtype": "float64"
        },
        {
         "name": "bg_value__cid_ce__normalize_True",
         "dtype": "float64"
        },
        {
         "name": "bg_value__cid_ce__normalize_False",
         "dtype": "float64"
        },
        {
         "name": "bg_value__symmetry_looking__r_0.0",
         "dtype": "float64"
        },
        {
         "name": "bg_value__symmetry_looking__r_0.05",
         "dtype": "float64"
        },
        {
         "name": "bg_value__symmetry_looking__r_0.1",
         "dtype": "float64"
        },
        {
         "name": "bg_value__symmetry_looking__r_0.15000000000000002",
         "dtype": "float64"
        },
        {
         "name": "bg_value__symmetry_looking__r_0.2",
         "dtype": "float64"
        },
        {
         "name": "bg_value__symmetry_looking__r_0.25",
         "dtype": "float64"
        },
        {
         "name": "bg_value__symmetry_looking__r_0.30000000000000004",
         "dtype": "float64"
        },
        {
         "name": "bg_value__symmetry_looking__r_0.35000000000000003",
         "dtype": "float64"
        },
        {
         "name": "bg_value__symmetry_looking__r_0.4",
         "dtype": "float64"
        },
        {
         "name": "bg_value__symmetry_looking__r_0.45",
         "dtype": "float64"
        },
        {
         "name": "bg_value__symmetry_looking__r_0.5",
         "dtype": "float64"
        },
        {
         "name": "bg_value__symmetry_looking__r_0.55",
         "dtype": "float64"
        },
        {
         "name": "bg_value__symmetry_looking__r_0.6000000000000001",
         "dtype": "float64"
        },
        {
         "name": "bg_value__symmetry_looking__r_0.65",
         "dtype": "float64"
        },
        {
         "name": "bg_value__symmetry_looking__r_0.7000000000000001",
         "dtype": "float64"
        },
        {
         "name": "bg_value__symmetry_looking__r_0.75",
         "dtype": "float64"
        },
        {
         "name": "bg_value__symmetry_looking__r_0.8",
         "dtype": "float64"
        },
        {
         "name": "bg_value__symmetry_looking__r_0.8500000000000001",
         "dtype": "float64"
        },
        {
         "name": "bg_value__symmetry_looking__r_0.9",
         "dtype": "float64"
        },
        {
         "name": "bg_value__symmetry_looking__r_0.9500000000000001",
         "dtype": "float64"
        },
        {
         "name": "bg_value__large_standard_deviation__r_0.05",
         "dtype": "float64"
        },
        {
         "name": "bg_value__large_standard_deviation__r_0.1",
         "dtype": "float64"
        },
        {
         "name": "bg_value__large_standard_deviation__r_0.15000000000000002",
         "dtype": "float64"
        },
        {
         "name": "bg_value__large_standard_deviation__r_0.2",
         "dtype": "float64"
        },
        {
         "name": "bg_value__large_standard_deviation__r_0.25",
         "dtype": "float64"
        },
        {
         "name": "bg_value__large_standard_deviation__r_0.30000000000000004",
         "dtype": "float64"
        },
        {
         "name": "bg_value__large_standard_deviation__r_0.35000000000000003",
         "dtype": "float64"
        },
        {
         "name": "bg_value__large_standard_deviation__r_0.4",
         "dtype": "float64"
        },
        {
         "name": "bg_value__large_standard_deviation__r_0.45",
         "dtype": "float64"
        },
        {
         "name": "bg_value__large_standard_deviation__r_0.5",
         "dtype": "float64"
        },
        {
         "name": "bg_value__large_standard_deviation__r_0.55",
         "dtype": "float64"
        },
        {
         "name": "bg_value__large_standard_deviation__r_0.6000000000000001",
         "dtype": "float64"
        },
        {
         "name": "bg_value__large_standard_deviation__r_0.65",
         "dtype": "float64"
        },
        {
         "name": "bg_value__large_standard_deviation__r_0.7000000000000001",
         "dtype": "float64"
        },
        {
         "name": "bg_value__large_standard_deviation__r_0.75",
         "dtype": "float64"
        },
        {
         "name": "bg_value__large_standard_deviation__r_0.8",
         "dtype": "float64"
        },
        {
         "name": "bg_value__large_standard_deviation__r_0.8500000000000001",
         "dtype": "float64"
        },
        {
         "name": "bg_value__large_standard_deviation__r_0.9",
         "dtype": "float64"
        },
        {
         "name": "bg_value__large_standard_deviation__r_0.9500000000000001",
         "dtype": "float64"
        },
        {
         "name": "bg_value__quantile__q_0.1",
         "dtype": "float64"
        },
        {
         "name": "bg_value__quantile__q_0.2",
         "dtype": "float64"
        },
        {
         "name": "bg_value__quantile__q_0.3",
         "dtype": "float64"
        },
        {
         "name": "bg_value__quantile__q_0.4",
         "dtype": "float64"
        },
        {
         "name": "bg_value__quantile__q_0.6",
         "dtype": "float64"
        },
        {
         "name": "bg_value__quantile__q_0.7",
         "dtype": "float64"
        },
        {
         "name": "bg_value__quantile__q_0.8",
         "dtype": "float64"
        },
        {
         "name": "bg_value__quantile__q_0.9",
         "dtype": "float64"
        },
        {
         "name": "bg_value__autocorrelation__lag_0",
         "dtype": "float64"
        },
        {
         "name": "bg_value__autocorrelation__lag_1",
         "dtype": "float64"
        },
        {
         "name": "bg_value__autocorrelation__lag_2",
         "dtype": "float64"
        },
        {
         "name": "bg_value__autocorrelation__lag_3",
         "dtype": "float64"
        },
        {
         "name": "bg_value__autocorrelation__lag_4",
         "dtype": "float64"
        },
        {
         "name": "bg_value__autocorrelation__lag_5",
         "dtype": "float64"
        },
        {
         "name": "bg_value__autocorrelation__lag_6",
         "dtype": "float64"
        },
        {
         "name": "bg_value__autocorrelation__lag_7",
         "dtype": "float64"
        },
        {
         "name": "bg_value__autocorrelation__lag_8",
         "dtype": "float64"
        },
        {
         "name": "bg_value__autocorrelation__lag_9",
         "dtype": "float64"
        },
        {
         "name": "bg_value__agg_autocorrelation__f_agg_\"mean\"__maxlag_40",
         "dtype": "float64"
        },
        {
         "name": "bg_value__agg_autocorrelation__f_agg_\"median\"__maxlag_40",
         "dtype": "float64"
        },
        {
         "name": "bg_value__agg_autocorrelation__f_agg_\"var\"__maxlag_40",
         "dtype": "float64"
        },
        {
         "name": "bg_value__partial_autocorrelation__lag_0",
         "dtype": "float64"
        },
        {
         "name": "bg_value__partial_autocorrelation__lag_1",
         "dtype": "float64"
        },
        {
         "name": "bg_value__partial_autocorrelation__lag_2",
         "dtype": "float64"
        },
        {
         "name": "bg_value__partial_autocorrelation__lag_3",
         "dtype": "float64"
        },
        {
         "name": "bg_value__partial_autocorrelation__lag_4",
         "dtype": "float64"
        },
        {
         "name": "bg_value__partial_autocorrelation__lag_5",
         "dtype": "float64"
        },
        {
         "name": "bg_value__partial_autocorrelation__lag_6",
         "dtype": "float64"
        },
        {
         "name": "bg_value__partial_autocorrelation__lag_7",
         "dtype": "float64"
        },
        {
         "name": "bg_value__partial_autocorrelation__lag_8",
         "dtype": "float64"
        },
        {
         "name": "bg_value__partial_autocorrelation__lag_9",
         "dtype": "float64"
        },
        {
         "name": "bg_value__number_cwt_peaks__n_1",
         "dtype": "float64"
        },
        {
         "name": "bg_value__number_cwt_peaks__n_5",
         "dtype": "float64"
        },
        {
         "name": "bg_value__number_peaks__n_1",
         "dtype": "float64"
        },
        {
         "name": "bg_value__number_peaks__n_3",
         "dtype": "float64"
        },
        {
         "name": "bg_value__number_peaks__n_5",
         "dtype": "float64"
        },
        {
         "name": "bg_value__number_peaks__n_10",
         "dtype": "float64"
        },
        {
         "name": "bg_value__number_peaks__n_50",
         "dtype": "float64"
        },
        {
         "name": "bg_value__binned_entropy__max_bins_10",
         "dtype": "float64"
        },
        {
         "name": "bg_value__index_mass_quantile__q_0.1",
         "dtype": "float64"
        },
        {
         "name": "bg_value__index_mass_quantile__q_0.2",
         "dtype": "float64"
        },
        {
         "name": "bg_value__index_mass_quantile__q_0.3",
         "dtype": "float64"
        },
        {
         "name": "bg_value__index_mass_quantile__q_0.4",
         "dtype": "float64"
        },
        {
         "name": "bg_value__index_mass_quantile__q_0.6",
         "dtype": "float64"
        },
        {
         "name": "bg_value__index_mass_quantile__q_0.7",
         "dtype": "float64"
        },
        {
         "name": "bg_value__index_mass_quantile__q_0.8",
         "dtype": "float64"
        },
        {
         "name": "bg_value__index_mass_quantile__q_0.9",
         "dtype": "float64"
        },
        {
         "name": "bg_value__cwt_coefficients__coeff_0__w_2__widths_(2, 5, 10, 20)",
         "dtype": "float64"
        },
        {
         "name": "bg_value__cwt_coefficients__coeff_0__w_5__widths_(2, 5, 10, 20)",
         "dtype": "float64"
        },
        {
         "name": "bg_value__cwt_coefficients__coeff_0__w_10__widths_(2, 5, 10, 20)",
         "dtype": "float64"
        },
        {
         "name": "bg_value__cwt_coefficients__coeff_0__w_20__widths_(2, 5, 10, 20)",
         "dtype": "float64"
        },
        {
         "name": "bg_value__cwt_coefficients__coeff_1__w_2__widths_(2, 5, 10, 20)",
         "dtype": "float64"
        },
        {
         "name": "bg_value__cwt_coefficients__coeff_1__w_5__widths_(2, 5, 10, 20)",
         "dtype": "float64"
        },
        {
         "name": "bg_value__cwt_coefficients__coeff_1__w_10__widths_(2, 5, 10, 20)",
         "dtype": "float64"
        },
        {
         "name": "bg_value__cwt_coefficients__coeff_1__w_20__widths_(2, 5, 10, 20)",
         "dtype": "float64"
        },
        {
         "name": "bg_value__cwt_coefficients__coeff_2__w_2__widths_(2, 5, 10, 20)",
         "dtype": "float64"
        },
        {
         "name": "bg_value__cwt_coefficients__coeff_2__w_5__widths_(2, 5, 10, 20)",
         "dtype": "float64"
        },
        {
         "name": "bg_value__cwt_coefficients__coeff_2__w_10__widths_(2, 5, 10, 20)",
         "dtype": "float64"
        },
        {
         "name": "bg_value__cwt_coefficients__coeff_2__w_20__widths_(2, 5, 10, 20)",
         "dtype": "float64"
        },
        {
         "name": "bg_value__cwt_coefficients__coeff_3__w_2__widths_(2, 5, 10, 20)",
         "dtype": "float64"
        },
        {
         "name": "bg_value__cwt_coefficients__coeff_3__w_5__widths_(2, 5, 10, 20)",
         "dtype": "float64"
        },
        {
         "name": "bg_value__cwt_coefficients__coeff_3__w_10__widths_(2, 5, 10, 20)",
         "dtype": "float64"
        },
        {
         "name": "bg_value__cwt_coefficients__coeff_3__w_20__widths_(2, 5, 10, 20)",
         "dtype": "float64"
        },
        {
         "name": "bg_value__cwt_coefficients__coeff_4__w_2__widths_(2, 5, 10, 20)",
         "dtype": "float64"
        },
        {
         "name": "bg_value__cwt_coefficients__coeff_4__w_5__widths_(2, 5, 10, 20)",
         "dtype": "float64"
        },
        {
         "name": "bg_value__cwt_coefficients__coeff_4__w_10__widths_(2, 5, 10, 20)",
         "dtype": "float64"
        },
        {
         "name": "bg_value__cwt_coefficients__coeff_4__w_20__widths_(2, 5, 10, 20)",
         "dtype": "float64"
        },
        {
         "name": "bg_value__cwt_coefficients__coeff_5__w_2__widths_(2, 5, 10, 20)",
         "dtype": "float64"
        },
        {
         "name": "bg_value__cwt_coefficients__coeff_5__w_5__widths_(2, 5, 10, 20)",
         "dtype": "float64"
        },
        {
         "name": "bg_value__cwt_coefficients__coeff_5__w_10__widths_(2, 5, 10, 20)",
         "dtype": "float64"
        },
        {
         "name": "bg_value__cwt_coefficients__coeff_5__w_20__widths_(2, 5, 10, 20)",
         "dtype": "float64"
        },
        {
         "name": "bg_value__cwt_coefficients__coeff_6__w_2__widths_(2, 5, 10, 20)",
         "dtype": "float64"
        },
        {
         "name": "bg_value__cwt_coefficients__coeff_6__w_5__widths_(2, 5, 10, 20)",
         "dtype": "float64"
        },
        {
         "name": "bg_value__cwt_coefficients__coeff_6__w_10__widths_(2, 5, 10, 20)",
         "dtype": "float64"
        },
        {
         "name": "bg_value__cwt_coefficients__coeff_6__w_20__widths_(2, 5, 10, 20)",
         "dtype": "float64"
        },
        {
         "name": "bg_value__cwt_coefficients__coeff_7__w_2__widths_(2, 5, 10, 20)",
         "dtype": "float64"
        },
        {
         "name": "bg_value__cwt_coefficients__coeff_7__w_5__widths_(2, 5, 10, 20)",
         "dtype": "float64"
        },
        {
         "name": "bg_value__cwt_coefficients__coeff_7__w_10__widths_(2, 5, 10, 20)",
         "dtype": "float64"
        },
        {
         "name": "bg_value__cwt_coefficients__coeff_7__w_20__widths_(2, 5, 10, 20)",
         "dtype": "float64"
        },
        {
         "name": "bg_value__cwt_coefficients__coeff_8__w_2__widths_(2, 5, 10, 20)",
         "dtype": "float64"
        },
        {
         "name": "bg_value__cwt_coefficients__coeff_8__w_5__widths_(2, 5, 10, 20)",
         "dtype": "float64"
        },
        {
         "name": "bg_value__cwt_coefficients__coeff_8__w_10__widths_(2, 5, 10, 20)",
         "dtype": "float64"
        },
        {
         "name": "bg_value__cwt_coefficients__coeff_8__w_20__widths_(2, 5, 10, 20)",
         "dtype": "float64"
        },
        {
         "name": "bg_value__cwt_coefficients__coeff_9__w_2__widths_(2, 5, 10, 20)",
         "dtype": "float64"
        },
        {
         "name": "bg_value__cwt_coefficients__coeff_9__w_5__widths_(2, 5, 10, 20)",
         "dtype": "float64"
        },
        {
         "name": "bg_value__cwt_coefficients__coeff_9__w_10__widths_(2, 5, 10, 20)",
         "dtype": "float64"
        },
        {
         "name": "bg_value__cwt_coefficients__coeff_9__w_20__widths_(2, 5, 10, 20)",
         "dtype": "float64"
        },
        {
         "name": "bg_value__cwt_coefficients__coeff_10__w_2__widths_(2, 5, 10, 20)",
         "dtype": "float64"
        },
        {
         "name": "bg_value__cwt_coefficients__coeff_10__w_5__widths_(2, 5, 10, 20)",
         "dtype": "float64"
        },
        {
         "name": "bg_value__cwt_coefficients__coeff_10__w_10__widths_(2, 5, 10, 20)",
         "dtype": "float64"
        },
        {
         "name": "bg_value__cwt_coefficients__coeff_10__w_20__widths_(2, 5, 10, 20)",
         "dtype": "float64"
        },
        {
         "name": "bg_value__cwt_coefficients__coeff_11__w_2__widths_(2, 5, 10, 20)",
         "dtype": "float64"
        },
        {
         "name": "bg_value__cwt_coefficients__coeff_11__w_5__widths_(2, 5, 10, 20)",
         "dtype": "float64"
        },
        {
         "name": "bg_value__cwt_coefficients__coeff_11__w_10__widths_(2, 5, 10, 20)",
         "dtype": "float64"
        },
        {
         "name": "bg_value__cwt_coefficients__coeff_11__w_20__widths_(2, 5, 10, 20)",
         "dtype": "float64"
        },
        {
         "name": "bg_value__cwt_coefficients__coeff_12__w_2__widths_(2, 5, 10, 20)",
         "dtype": "float64"
        },
        {
         "name": "bg_value__cwt_coefficients__coeff_12__w_5__widths_(2, 5, 10, 20)",
         "dtype": "float64"
        },
        {
         "name": "bg_value__cwt_coefficients__coeff_12__w_10__widths_(2, 5, 10, 20)",
         "dtype": "float64"
        },
        {
         "name": "bg_value__cwt_coefficients__coeff_12__w_20__widths_(2, 5, 10, 20)",
         "dtype": "float64"
        },
        {
         "name": "bg_value__cwt_coefficients__coeff_13__w_2__widths_(2, 5, 10, 20)",
         "dtype": "float64"
        },
        {
         "name": "bg_value__cwt_coefficients__coeff_13__w_5__widths_(2, 5, 10, 20)",
         "dtype": "float64"
        },
        {
         "name": "bg_value__cwt_coefficients__coeff_13__w_10__widths_(2, 5, 10, 20)",
         "dtype": "float64"
        },
        {
         "name": "bg_value__cwt_coefficients__coeff_13__w_20__widths_(2, 5, 10, 20)",
         "dtype": "float64"
        },
        {
         "name": "bg_value__cwt_coefficients__coeff_14__w_2__widths_(2, 5, 10, 20)",
         "dtype": "float64"
        },
        {
         "name": "bg_value__cwt_coefficients__coeff_14__w_5__widths_(2, 5, 10, 20)",
         "dtype": "float64"
        },
        {
         "name": "bg_value__cwt_coefficients__coeff_14__w_10__widths_(2, 5, 10, 20)",
         "dtype": "float64"
        },
        {
         "name": "bg_value__cwt_coefficients__coeff_14__w_20__widths_(2, 5, 10, 20)",
         "dtype": "float64"
        },
        {
         "name": "bg_value__spkt_welch_density__coeff_2",
         "dtype": "float64"
        },
        {
         "name": "bg_value__spkt_welch_density__coeff_5",
         "dtype": "float64"
        },
        {
         "name": "bg_value__spkt_welch_density__coeff_8",
         "dtype": "float64"
        },
        {
         "name": "bg_value__ar_coefficient__coeff_0__k_10",
         "dtype": "float64"
        },
        {
         "name": "bg_value__ar_coefficient__coeff_1__k_10",
         "dtype": "float64"
        },
        {
         "name": "bg_value__ar_coefficient__coeff_2__k_10",
         "dtype": "float64"
        },
        {
         "name": "bg_value__ar_coefficient__coeff_3__k_10",
         "dtype": "float64"
        },
        {
         "name": "bg_value__ar_coefficient__coeff_4__k_10",
         "dtype": "float64"
        },
        {
         "name": "bg_value__ar_coefficient__coeff_5__k_10",
         "dtype": "float64"
        },
        {
         "name": "bg_value__ar_coefficient__coeff_6__k_10",
         "dtype": "float64"
        },
        {
         "name": "bg_value__ar_coefficient__coeff_7__k_10",
         "dtype": "float64"
        },
        {
         "name": "bg_value__ar_coefficient__coeff_8__k_10",
         "dtype": "float64"
        },
        {
         "name": "bg_value__ar_coefficient__coeff_9__k_10",
         "dtype": "float64"
        },
        {
         "name": "bg_value__ar_coefficient__coeff_10__k_10",
         "dtype": "float64"
        },
        {
         "name": "bg_value__change_quantiles__f_agg_\"mean\"__isabs_False__qh_0.2__ql_0.0",
         "dtype": "float64"
        },
        {
         "name": "bg_value__change_quantiles__f_agg_\"var\"__isabs_False__qh_0.2__ql_0.0",
         "dtype": "float64"
        },
        {
         "name": "bg_value__change_quantiles__f_agg_\"mean\"__isabs_True__qh_0.2__ql_0.0",
         "dtype": "float64"
        },
        {
         "name": "bg_value__change_quantiles__f_agg_\"var\"__isabs_True__qh_0.2__ql_0.0",
         "dtype": "float64"
        },
        {
         "name": "bg_value__change_quantiles__f_agg_\"mean\"__isabs_False__qh_0.4__ql_0.0",
         "dtype": "float64"
        },
        {
         "name": "bg_value__change_quantiles__f_agg_\"var\"__isabs_False__qh_0.4__ql_0.0",
         "dtype": "float64"
        },
        {
         "name": "bg_value__change_quantiles__f_agg_\"mean\"__isabs_True__qh_0.4__ql_0.0",
         "dtype": "float64"
        },
        {
         "name": "bg_value__change_quantiles__f_agg_\"var\"__isabs_True__qh_0.4__ql_0.0",
         "dtype": "float64"
        },
        {
         "name": "bg_value__change_quantiles__f_agg_\"mean\"__isabs_False__qh_0.6__ql_0.0",
         "dtype": "float64"
        },
        {
         "name": "bg_value__change_quantiles__f_agg_\"var\"__isabs_False__qh_0.6__ql_0.0",
         "dtype": "float64"
        },
        {
         "name": "bg_value__change_quantiles__f_agg_\"mean\"__isabs_True__qh_0.6__ql_0.0",
         "dtype": "float64"
        },
        {
         "name": "bg_value__change_quantiles__f_agg_\"var\"__isabs_True__qh_0.6__ql_0.0",
         "dtype": "float64"
        },
        {
         "name": "bg_value__change_quantiles__f_agg_\"mean\"__isabs_False__qh_0.8__ql_0.0",
         "dtype": "float64"
        },
        {
         "name": "bg_value__change_quantiles__f_agg_\"var\"__isabs_False__qh_0.8__ql_0.0",
         "dtype": "float64"
        },
        {
         "name": "bg_value__change_quantiles__f_agg_\"mean\"__isabs_True__qh_0.8__ql_0.0",
         "dtype": "float64"
        },
        {
         "name": "bg_value__change_quantiles__f_agg_\"var\"__isabs_True__qh_0.8__ql_0.0",
         "dtype": "float64"
        },
        {
         "name": "bg_value__change_quantiles__f_agg_\"mean\"__isabs_False__qh_1.0__ql_0.0",
         "dtype": "float64"
        },
        {
         "name": "bg_value__change_quantiles__f_agg_\"var\"__isabs_False__qh_1.0__ql_0.0",
         "dtype": "float64"
        },
        {
         "name": "bg_value__change_quantiles__f_agg_\"mean\"__isabs_True__qh_1.0__ql_0.0",
         "dtype": "float64"
        },
        {
         "name": "bg_value__change_quantiles__f_agg_\"var\"__isabs_True__qh_1.0__ql_0.0",
         "dtype": "float64"
        },
        {
         "name": "bg_value__change_quantiles__f_agg_\"mean\"__isabs_False__qh_0.4__ql_0.2",
         "dtype": "float64"
        },
        {
         "name": "bg_value__change_quantiles__f_agg_\"var\"__isabs_False__qh_0.4__ql_0.2",
         "dtype": "float64"
        },
        {
         "name": "bg_value__change_quantiles__f_agg_\"mean\"__isabs_True__qh_0.4__ql_0.2",
         "dtype": "float64"
        },
        {
         "name": "bg_value__change_quantiles__f_agg_\"var\"__isabs_True__qh_0.4__ql_0.2",
         "dtype": "float64"
        },
        {
         "name": "bg_value__change_quantiles__f_agg_\"mean\"__isabs_False__qh_0.6__ql_0.2",
         "dtype": "float64"
        },
        {
         "name": "bg_value__change_quantiles__f_agg_\"var\"__isabs_False__qh_0.6__ql_0.2",
         "dtype": "float64"
        },
        {
         "name": "bg_value__change_quantiles__f_agg_\"mean\"__isabs_True__qh_0.6__ql_0.2",
         "dtype": "float64"
        },
        {
         "name": "bg_value__change_quantiles__f_agg_\"var\"__isabs_True__qh_0.6__ql_0.2",
         "dtype": "float64"
        },
        {
         "name": "bg_value__change_quantiles__f_agg_\"mean\"__isabs_False__qh_0.8__ql_0.2",
         "dtype": "float64"
        },
        {
         "name": "bg_value__change_quantiles__f_agg_\"var\"__isabs_False__qh_0.8__ql_0.2",
         "dtype": "float64"
        },
        {
         "name": "bg_value__change_quantiles__f_agg_\"mean\"__isabs_True__qh_0.8__ql_0.2",
         "dtype": "float64"
        },
        {
         "name": "bg_value__change_quantiles__f_agg_\"var\"__isabs_True__qh_0.8__ql_0.2",
         "dtype": "float64"
        },
        {
         "name": "bg_value__change_quantiles__f_agg_\"mean\"__isabs_False__qh_1.0__ql_0.2",
         "dtype": "float64"
        },
        {
         "name": "bg_value__change_quantiles__f_agg_\"var\"__isabs_False__qh_1.0__ql_0.2",
         "dtype": "float64"
        },
        {
         "name": "bg_value__change_quantiles__f_agg_\"mean\"__isabs_True__qh_1.0__ql_0.2",
         "dtype": "float64"
        },
        {
         "name": "bg_value__change_quantiles__f_agg_\"var\"__isabs_True__qh_1.0__ql_0.2",
         "dtype": "float64"
        },
        {
         "name": "bg_value__change_quantiles__f_agg_\"mean\"__isabs_False__qh_0.6__ql_0.4",
         "dtype": "float64"
        },
        {
         "name": "bg_value__change_quantiles__f_agg_\"var\"__isabs_False__qh_0.6__ql_0.4",
         "dtype": "float64"
        },
        {
         "name": "bg_value__change_quantiles__f_agg_\"mean\"__isabs_True__qh_0.6__ql_0.4",
         "dtype": "float64"
        },
        {
         "name": "bg_value__change_quantiles__f_agg_\"var\"__isabs_True__qh_0.6__ql_0.4",
         "dtype": "float64"
        },
        {
         "name": "bg_value__change_quantiles__f_agg_\"mean\"__isabs_False__qh_0.8__ql_0.4",
         "dtype": "float64"
        },
        {
         "name": "bg_value__change_quantiles__f_agg_\"var\"__isabs_False__qh_0.8__ql_0.4",
         "dtype": "float64"
        },
        {
         "name": "bg_value__change_quantiles__f_agg_\"mean\"__isabs_True__qh_0.8__ql_0.4",
         "dtype": "float64"
        },
        {
         "name": "bg_value__change_quantiles__f_agg_\"var\"__isabs_True__qh_0.8__ql_0.4",
         "dtype": "float64"
        },
        {
         "name": "bg_value__change_quantiles__f_agg_\"mean\"__isabs_False__qh_1.0__ql_0.4",
         "dtype": "float64"
        },
        {
         "name": "bg_value__change_quantiles__f_agg_\"var\"__isabs_False__qh_1.0__ql_0.4",
         "dtype": "float64"
        },
        {
         "name": "bg_value__change_quantiles__f_agg_\"mean\"__isabs_True__qh_1.0__ql_0.4",
         "dtype": "float64"
        },
        {
         "name": "bg_value__change_quantiles__f_agg_\"var\"__isabs_True__qh_1.0__ql_0.4",
         "dtype": "float64"
        },
        {
         "name": "bg_value__change_quantiles__f_agg_\"mean\"__isabs_False__qh_0.8__ql_0.6",
         "dtype": "float64"
        },
        {
         "name": "bg_value__change_quantiles__f_agg_\"var\"__isabs_False__qh_0.8__ql_0.6",
         "dtype": "float64"
        },
        {
         "name": "bg_value__change_quantiles__f_agg_\"mean\"__isabs_True__qh_0.8__ql_0.6",
         "dtype": "float64"
        },
        {
         "name": "bg_value__change_quantiles__f_agg_\"var\"__isabs_True__qh_0.8__ql_0.6",
         "dtype": "float64"
        },
        {
         "name": "bg_value__change_quantiles__f_agg_\"mean\"__isabs_False__qh_1.0__ql_0.6",
         "dtype": "float64"
        },
        {
         "name": "bg_value__change_quantiles__f_agg_\"var\"__isabs_False__qh_1.0__ql_0.6",
         "dtype": "float64"
        },
        {
         "name": "bg_value__change_quantiles__f_agg_\"mean\"__isabs_True__qh_1.0__ql_0.6",
         "dtype": "float64"
        },
        {
         "name": "bg_value__change_quantiles__f_agg_\"var\"__isabs_True__qh_1.0__ql_0.6",
         "dtype": "float64"
        },
        {
         "name": "bg_value__change_quantiles__f_agg_\"mean\"__isabs_False__qh_1.0__ql_0.8",
         "dtype": "float64"
        },
        {
         "name": "bg_value__change_quantiles__f_agg_\"var\"__isabs_False__qh_1.0__ql_0.8",
         "dtype": "float64"
        },
        {
         "name": "bg_value__change_quantiles__f_agg_\"mean\"__isabs_True__qh_1.0__ql_0.8",
         "dtype": "float64"
        },
        {
         "name": "bg_value__change_quantiles__f_agg_\"var\"__isabs_True__qh_1.0__ql_0.8",
         "dtype": "float64"
        },
        {
         "name": "bg_value__fft_coefficient__attr_\"real\"__coeff_0",
         "dtype": "float64"
        },
        {
         "name": "bg_value__fft_coefficient__attr_\"real\"__coeff_1",
         "dtype": "float64"
        },
        {
         "name": "bg_value__fft_coefficient__attr_\"real\"__coeff_2",
         "dtype": "float64"
        },
        {
         "name": "bg_value__fft_coefficient__attr_\"real\"__coeff_3",
         "dtype": "float64"
        },
        {
         "name": "bg_value__fft_coefficient__attr_\"real\"__coeff_4",
         "dtype": "float64"
        },
        {
         "name": "bg_value__fft_coefficient__attr_\"real\"__coeff_5",
         "dtype": "float64"
        },
        {
         "name": "bg_value__fft_coefficient__attr_\"real\"__coeff_6",
         "dtype": "float64"
        },
        {
         "name": "bg_value__fft_coefficient__attr_\"real\"__coeff_7",
         "dtype": "float64"
        },
        {
         "name": "bg_value__fft_coefficient__attr_\"real\"__coeff_8",
         "dtype": "float64"
        },
        {
         "name": "bg_value__fft_coefficient__attr_\"real\"__coeff_9",
         "dtype": "float64"
        },
        {
         "name": "bg_value__fft_coefficient__attr_\"real\"__coeff_10",
         "dtype": "float64"
        },
        {
         "name": "bg_value__fft_coefficient__attr_\"real\"__coeff_11",
         "dtype": "float64"
        },
        {
         "name": "bg_value__fft_coefficient__attr_\"real\"__coeff_12",
         "dtype": "float64"
        },
        {
         "name": "bg_value__fft_coefficient__attr_\"real\"__coeff_13",
         "dtype": "float64"
        },
        {
         "name": "bg_value__fft_coefficient__attr_\"real\"__coeff_14",
         "dtype": "float64"
        },
        {
         "name": "bg_value__fft_coefficient__attr_\"real\"__coeff_15",
         "dtype": "float64"
        },
        {
         "name": "bg_value__fft_coefficient__attr_\"real\"__coeff_16",
         "dtype": "float64"
        },
        {
         "name": "bg_value__fft_coefficient__attr_\"real\"__coeff_17",
         "dtype": "float64"
        },
        {
         "name": "bg_value__fft_coefficient__attr_\"real\"__coeff_18",
         "dtype": "float64"
        },
        {
         "name": "bg_value__fft_coefficient__attr_\"real\"__coeff_19",
         "dtype": "float64"
        },
        {
         "name": "bg_value__fft_coefficient__attr_\"real\"__coeff_20",
         "dtype": "float64"
        },
        {
         "name": "bg_value__fft_coefficient__attr_\"real\"__coeff_21",
         "dtype": "float64"
        },
        {
         "name": "bg_value__fft_coefficient__attr_\"real\"__coeff_22",
         "dtype": "float64"
        },
        {
         "name": "bg_value__fft_coefficient__attr_\"real\"__coeff_23",
         "dtype": "float64"
        },
        {
         "name": "bg_value__fft_coefficient__attr_\"real\"__coeff_24",
         "dtype": "float64"
        },
        {
         "name": "bg_value__fft_coefficient__attr_\"real\"__coeff_25",
         "dtype": "float64"
        },
        {
         "name": "bg_value__fft_coefficient__attr_\"real\"__coeff_26",
         "dtype": "float64"
        },
        {
         "name": "bg_value__fft_coefficient__attr_\"real\"__coeff_27",
         "dtype": "float64"
        },
        {
         "name": "bg_value__fft_coefficient__attr_\"real\"__coeff_28",
         "dtype": "float64"
        },
        {
         "name": "bg_value__fft_coefficient__attr_\"real\"__coeff_29",
         "dtype": "float64"
        },
        {
         "name": "bg_value__fft_coefficient__attr_\"real\"__coeff_30",
         "dtype": "float64"
        },
        {
         "name": "bg_value__fft_coefficient__attr_\"real\"__coeff_31",
         "dtype": "float64"
        },
        {
         "name": "bg_value__fft_coefficient__attr_\"real\"__coeff_32",
         "dtype": "float64"
        },
        {
         "name": "bg_value__fft_coefficient__attr_\"real\"__coeff_33",
         "dtype": "float64"
        },
        {
         "name": "bg_value__fft_coefficient__attr_\"real\"__coeff_34",
         "dtype": "float64"
        },
        {
         "name": "bg_value__fft_coefficient__attr_\"real\"__coeff_35",
         "dtype": "float64"
        },
        {
         "name": "bg_value__fft_coefficient__attr_\"real\"__coeff_36",
         "dtype": "float64"
        },
        {
         "name": "bg_value__fft_coefficient__attr_\"real\"__coeff_37",
         "dtype": "float64"
        },
        {
         "name": "bg_value__fft_coefficient__attr_\"real\"__coeff_38",
         "dtype": "float64"
        },
        {
         "name": "bg_value__fft_coefficient__attr_\"real\"__coeff_39",
         "dtype": "float64"
        },
        {
         "name": "bg_value__fft_coefficient__attr_\"real\"__coeff_40",
         "dtype": "float64"
        },
        {
         "name": "bg_value__fft_coefficient__attr_\"real\"__coeff_41",
         "dtype": "float64"
        },
        {
         "name": "bg_value__fft_coefficient__attr_\"real\"__coeff_42",
         "dtype": "float64"
        },
        {
         "name": "bg_value__fft_coefficient__attr_\"real\"__coeff_43",
         "dtype": "float64"
        },
        {
         "name": "bg_value__fft_coefficient__attr_\"real\"__coeff_44",
         "dtype": "float64"
        },
        {
         "name": "bg_value__fft_coefficient__attr_\"real\"__coeff_45",
         "dtype": "float64"
        },
        {
         "name": "bg_value__fft_coefficient__attr_\"real\"__coeff_46",
         "dtype": "float64"
        },
        {
         "name": "bg_value__fft_coefficient__attr_\"real\"__coeff_47",
         "dtype": "float64"
        },
        {
         "name": "bg_value__fft_coefficient__attr_\"real\"__coeff_48",
         "dtype": "float64"
        },
        {
         "name": "bg_value__fft_coefficient__attr_\"real\"__coeff_49",
         "dtype": "float64"
        },
        {
         "name": "bg_value__fft_coefficient__attr_\"real\"__coeff_50",
         "dtype": "float64"
        },
        {
         "name": "bg_value__fft_coefficient__attr_\"real\"__coeff_51",
         "dtype": "float64"
        },
        {
         "name": "bg_value__fft_coefficient__attr_\"real\"__coeff_52",
         "dtype": "float64"
        },
        {
         "name": "bg_value__fft_coefficient__attr_\"real\"__coeff_53",
         "dtype": "float64"
        },
        {
         "name": "bg_value__fft_coefficient__attr_\"real\"__coeff_54",
         "dtype": "float64"
        },
        {
         "name": "bg_value__fft_coefficient__attr_\"real\"__coeff_55",
         "dtype": "float64"
        },
        {
         "name": "bg_value__fft_coefficient__attr_\"real\"__coeff_56",
         "dtype": "float64"
        },
        {
         "name": "bg_value__fft_coefficient__attr_\"real\"__coeff_57",
         "dtype": "float64"
        },
        {
         "name": "bg_value__fft_coefficient__attr_\"real\"__coeff_58",
         "dtype": "float64"
        },
        {
         "name": "bg_value__fft_coefficient__attr_\"real\"__coeff_59",
         "dtype": "float64"
        },
        {
         "name": "bg_value__fft_coefficient__attr_\"real\"__coeff_60",
         "dtype": "float64"
        },
        {
         "name": "bg_value__fft_coefficient__attr_\"real\"__coeff_61",
         "dtype": "float64"
        },
        {
         "name": "bg_value__fft_coefficient__attr_\"real\"__coeff_62",
         "dtype": "float64"
        },
        {
         "name": "bg_value__fft_coefficient__attr_\"real\"__coeff_63",
         "dtype": "float64"
        },
        {
         "name": "bg_value__fft_coefficient__attr_\"real\"__coeff_64",
         "dtype": "float64"
        },
        {
         "name": "bg_value__fft_coefficient__attr_\"real\"__coeff_65",
         "dtype": "float64"
        },
        {
         "name": "bg_value__fft_coefficient__attr_\"real\"__coeff_66",
         "dtype": "float64"
        },
        {
         "name": "bg_value__fft_coefficient__attr_\"real\"__coeff_67",
         "dtype": "float64"
        },
        {
         "name": "bg_value__fft_coefficient__attr_\"real\"__coeff_68",
         "dtype": "float64"
        },
        {
         "name": "bg_value__fft_coefficient__attr_\"real\"__coeff_69",
         "dtype": "float64"
        },
        {
         "name": "bg_value__fft_coefficient__attr_\"real\"__coeff_70",
         "dtype": "float64"
        },
        {
         "name": "bg_value__fft_coefficient__attr_\"real\"__coeff_71",
         "dtype": "float64"
        },
        {
         "name": "bg_value__fft_coefficient__attr_\"real\"__coeff_72",
         "dtype": "float64"
        },
        {
         "name": "bg_value__fft_coefficient__attr_\"real\"__coeff_73",
         "dtype": "float64"
        },
        {
         "name": "bg_value__fft_coefficient__attr_\"real\"__coeff_74",
         "dtype": "float64"
        },
        {
         "name": "bg_value__fft_coefficient__attr_\"real\"__coeff_75",
         "dtype": "float64"
        },
        {
         "name": "bg_value__fft_coefficient__attr_\"real\"__coeff_76",
         "dtype": "float64"
        },
        {
         "name": "bg_value__fft_coefficient__attr_\"real\"__coeff_77",
         "dtype": "float64"
        },
        {
         "name": "bg_value__fft_coefficient__attr_\"real\"__coeff_78",
         "dtype": "float64"
        },
        {
         "name": "bg_value__fft_coefficient__attr_\"real\"__coeff_79",
         "dtype": "float64"
        },
        {
         "name": "bg_value__fft_coefficient__attr_\"real\"__coeff_80",
         "dtype": "float64"
        },
        {
         "name": "bg_value__fft_coefficient__attr_\"real\"__coeff_81",
         "dtype": "float64"
        },
        {
         "name": "bg_value__fft_coefficient__attr_\"real\"__coeff_82",
         "dtype": "float64"
        },
        {
         "name": "bg_value__fft_coefficient__attr_\"real\"__coeff_83",
         "dtype": "float64"
        },
        {
         "name": "bg_value__fft_coefficient__attr_\"real\"__coeff_84",
         "dtype": "float64"
        },
        {
         "name": "bg_value__fft_coefficient__attr_\"real\"__coeff_85",
         "dtype": "float64"
        },
        {
         "name": "bg_value__fft_coefficient__attr_\"real\"__coeff_86",
         "dtype": "float64"
        },
        {
         "name": "bg_value__fft_coefficient__attr_\"real\"__coeff_87",
         "dtype": "float64"
        },
        {
         "name": "bg_value__fft_coefficient__attr_\"real\"__coeff_88",
         "dtype": "float64"
        },
        {
         "name": "bg_value__fft_coefficient__attr_\"real\"__coeff_89",
         "dtype": "float64"
        },
        {
         "name": "bg_value__fft_coefficient__attr_\"real\"__coeff_90",
         "dtype": "float64"
        },
        {
         "name": "bg_value__fft_coefficient__attr_\"real\"__coeff_91",
         "dtype": "float64"
        },
        {
         "name": "bg_value__fft_coefficient__attr_\"real\"__coeff_92",
         "dtype": "float64"
        },
        {
         "name": "bg_value__fft_coefficient__attr_\"real\"__coeff_93",
         "dtype": "float64"
        },
        {
         "name": "bg_value__fft_coefficient__attr_\"real\"__coeff_94",
         "dtype": "float64"
        },
        {
         "name": "bg_value__fft_coefficient__attr_\"real\"__coeff_95",
         "dtype": "float64"
        },
        {
         "name": "bg_value__fft_coefficient__attr_\"real\"__coeff_96",
         "dtype": "float64"
        },
        {
         "name": "bg_value__fft_coefficient__attr_\"real\"__coeff_97",
         "dtype": "float64"
        },
        {
         "name": "bg_value__fft_coefficient__attr_\"real\"__coeff_98",
         "dtype": "float64"
        },
        {
         "name": "bg_value__fft_coefficient__attr_\"real\"__coeff_99",
         "dtype": "float64"
        },
        {
         "name": "bg_value__fft_coefficient__attr_\"imag\"__coeff_0",
         "dtype": "float64"
        },
        {
         "name": "bg_value__fft_coefficient__attr_\"imag\"__coeff_1",
         "dtype": "float64"
        },
        {
         "name": "bg_value__fft_coefficient__attr_\"imag\"__coeff_2",
         "dtype": "float64"
        },
        {
         "name": "bg_value__fft_coefficient__attr_\"imag\"__coeff_3",
         "dtype": "float64"
        },
        {
         "name": "bg_value__fft_coefficient__attr_\"imag\"__coeff_4",
         "dtype": "float64"
        },
        {
         "name": "bg_value__fft_coefficient__attr_\"imag\"__coeff_5",
         "dtype": "float64"
        },
        {
         "name": "bg_value__fft_coefficient__attr_\"imag\"__coeff_6",
         "dtype": "float64"
        },
        {
         "name": "bg_value__fft_coefficient__attr_\"imag\"__coeff_7",
         "dtype": "float64"
        },
        {
         "name": "bg_value__fft_coefficient__attr_\"imag\"__coeff_8",
         "dtype": "float64"
        },
        {
         "name": "bg_value__fft_coefficient__attr_\"imag\"__coeff_9",
         "dtype": "float64"
        },
        {
         "name": "bg_value__fft_coefficient__attr_\"imag\"__coeff_10",
         "dtype": "float64"
        },
        {
         "name": "bg_value__fft_coefficient__attr_\"imag\"__coeff_11",
         "dtype": "float64"
        },
        {
         "name": "bg_value__fft_coefficient__attr_\"imag\"__coeff_12",
         "dtype": "float64"
        },
        {
         "name": "bg_value__fft_coefficient__attr_\"imag\"__coeff_13",
         "dtype": "float64"
        },
        {
         "name": "bg_value__fft_coefficient__attr_\"imag\"__coeff_14",
         "dtype": "float64"
        },
        {
         "name": "bg_value__fft_coefficient__attr_\"imag\"__coeff_15",
         "dtype": "float64"
        },
        {
         "name": "bg_value__fft_coefficient__attr_\"imag\"__coeff_16",
         "dtype": "float64"
        },
        {
         "name": "bg_value__fft_coefficient__attr_\"imag\"__coeff_17",
         "dtype": "float64"
        },
        {
         "name": "bg_value__fft_coefficient__attr_\"imag\"__coeff_18",
         "dtype": "float64"
        },
        {
         "name": "bg_value__fft_coefficient__attr_\"imag\"__coeff_19",
         "dtype": "float64"
        },
        {
         "name": "bg_value__fft_coefficient__attr_\"imag\"__coeff_20",
         "dtype": "float64"
        },
        {
         "name": "bg_value__fft_coefficient__attr_\"imag\"__coeff_21",
         "dtype": "float64"
        },
        {
         "name": "bg_value__fft_coefficient__attr_\"imag\"__coeff_22",
         "dtype": "float64"
        },
        {
         "name": "bg_value__fft_coefficient__attr_\"imag\"__coeff_23",
         "dtype": "float64"
        },
        {
         "name": "bg_value__fft_coefficient__attr_\"imag\"__coeff_24",
         "dtype": "float64"
        },
        {
         "name": "bg_value__fft_coefficient__attr_\"imag\"__coeff_25",
         "dtype": "float64"
        },
        {
         "name": "bg_value__fft_coefficient__attr_\"imag\"__coeff_26",
         "dtype": "float64"
        },
        {
         "name": "bg_value__fft_coefficient__attr_\"imag\"__coeff_27",
         "dtype": "float64"
        },
        {
         "name": "bg_value__fft_coefficient__attr_\"imag\"__coeff_28",
         "dtype": "float64"
        },
        {
         "name": "bg_value__fft_coefficient__attr_\"imag\"__coeff_29",
         "dtype": "float64"
        },
        {
         "name": "bg_value__fft_coefficient__attr_\"imag\"__coeff_30",
         "dtype": "float64"
        },
        {
         "name": "bg_value__fft_coefficient__attr_\"imag\"__coeff_31",
         "dtype": "float64"
        },
        {
         "name": "bg_value__fft_coefficient__attr_\"imag\"__coeff_32",
         "dtype": "float64"
        },
        {
         "name": "bg_value__fft_coefficient__attr_\"imag\"__coeff_33",
         "dtype": "float64"
        },
        {
         "name": "bg_value__fft_coefficient__attr_\"imag\"__coeff_34",
         "dtype": "float64"
        },
        {
         "name": "bg_value__fft_coefficient__attr_\"imag\"__coeff_35",
         "dtype": "float64"
        },
        {
         "name": "bg_value__fft_coefficient__attr_\"imag\"__coeff_36",
         "dtype": "float64"
        },
        {
         "name": "bg_value__fft_coefficient__attr_\"imag\"__coeff_37",
         "dtype": "float64"
        },
        {
         "name": "bg_value__fft_coefficient__attr_\"imag\"__coeff_38",
         "dtype": "float64"
        },
        {
         "name": "bg_value__fft_coefficient__attr_\"imag\"__coeff_39",
         "dtype": "float64"
        },
        {
         "name": "bg_value__fft_coefficient__attr_\"imag\"__coeff_40",
         "dtype": "float64"
        },
        {
         "name": "bg_value__fft_coefficient__attr_\"imag\"__coeff_41",
         "dtype": "float64"
        },
        {
         "name": "bg_value__fft_coefficient__attr_\"imag\"__coeff_42",
         "dtype": "float64"
        },
        {
         "name": "bg_value__fft_coefficient__attr_\"imag\"__coeff_43",
         "dtype": "float64"
        },
        {
         "name": "bg_value__fft_coefficient__attr_\"imag\"__coeff_44",
         "dtype": "float64"
        },
        {
         "name": "bg_value__fft_coefficient__attr_\"imag\"__coeff_45",
         "dtype": "float64"
        },
        {
         "name": "bg_value__fft_coefficient__attr_\"imag\"__coeff_46",
         "dtype": "float64"
        },
        {
         "name": "bg_value__fft_coefficient__attr_\"imag\"__coeff_47",
         "dtype": "float64"
        },
        {
         "name": "bg_value__fft_coefficient__attr_\"imag\"__coeff_48",
         "dtype": "float64"
        },
        {
         "name": "bg_value__fft_coefficient__attr_\"imag\"__coeff_49",
         "dtype": "float64"
        },
        {
         "name": "bg_value__fft_coefficient__attr_\"imag\"__coeff_50",
         "dtype": "float64"
        },
        {
         "name": "bg_value__fft_coefficient__attr_\"imag\"__coeff_51",
         "dtype": "float64"
        },
        {
         "name": "bg_value__fft_coefficient__attr_\"imag\"__coeff_52",
         "dtype": "float64"
        },
        {
         "name": "bg_value__fft_coefficient__attr_\"imag\"__coeff_53",
         "dtype": "float64"
        },
        {
         "name": "bg_value__fft_coefficient__attr_\"imag\"__coeff_54",
         "dtype": "float64"
        },
        {
         "name": "bg_value__fft_coefficient__attr_\"imag\"__coeff_55",
         "dtype": "float64"
        },
        {
         "name": "bg_value__fft_coefficient__attr_\"imag\"__coeff_56",
         "dtype": "float64"
        },
        {
         "name": "bg_value__fft_coefficient__attr_\"imag\"__coeff_57",
         "dtype": "float64"
        },
        {
         "name": "bg_value__fft_coefficient__attr_\"imag\"__coeff_58",
         "dtype": "float64"
        },
        {
         "name": "bg_value__fft_coefficient__attr_\"imag\"__coeff_59",
         "dtype": "float64"
        },
        {
         "name": "bg_value__fft_coefficient__attr_\"imag\"__coeff_60",
         "dtype": "float64"
        },
        {
         "name": "bg_value__fft_coefficient__attr_\"imag\"__coeff_61",
         "dtype": "float64"
        },
        {
         "name": "bg_value__fft_coefficient__attr_\"imag\"__coeff_62",
         "dtype": "float64"
        },
        {
         "name": "bg_value__fft_coefficient__attr_\"imag\"__coeff_63",
         "dtype": "float64"
        },
        {
         "name": "bg_value__fft_coefficient__attr_\"imag\"__coeff_64",
         "dtype": "float64"
        },
        {
         "name": "bg_value__fft_coefficient__attr_\"imag\"__coeff_65",
         "dtype": "float64"
        },
        {
         "name": "bg_value__fft_coefficient__attr_\"imag\"__coeff_66",
         "dtype": "float64"
        },
        {
         "name": "bg_value__fft_coefficient__attr_\"imag\"__coeff_67",
         "dtype": "float64"
        },
        {
         "name": "bg_value__fft_coefficient__attr_\"imag\"__coeff_68",
         "dtype": "float64"
        },
        {
         "name": "bg_value__fft_coefficient__attr_\"imag\"__coeff_69",
         "dtype": "float64"
        },
        {
         "name": "bg_value__fft_coefficient__attr_\"imag\"__coeff_70",
         "dtype": "float64"
        },
        {
         "name": "bg_value__fft_coefficient__attr_\"imag\"__coeff_71",
         "dtype": "float64"
        },
        {
         "name": "bg_value__fft_coefficient__attr_\"imag\"__coeff_72",
         "dtype": "float64"
        },
        {
         "name": "bg_value__fft_coefficient__attr_\"imag\"__coeff_73",
         "dtype": "float64"
        },
        {
         "name": "bg_value__fft_coefficient__attr_\"imag\"__coeff_74",
         "dtype": "float64"
        },
        {
         "name": "bg_value__fft_coefficient__attr_\"imag\"__coeff_75",
         "dtype": "float64"
        },
        {
         "name": "bg_value__fft_coefficient__attr_\"imag\"__coeff_76",
         "dtype": "float64"
        },
        {
         "name": "bg_value__fft_coefficient__attr_\"imag\"__coeff_77",
         "dtype": "float64"
        },
        {
         "name": "bg_value__fft_coefficient__attr_\"imag\"__coeff_78",
         "dtype": "float64"
        },
        {
         "name": "bg_value__fft_coefficient__attr_\"imag\"__coeff_79",
         "dtype": "float64"
        },
        {
         "name": "bg_value__fft_coefficient__attr_\"imag\"__coeff_80",
         "dtype": "float64"
        },
        {
         "name": "bg_value__fft_coefficient__attr_\"imag\"__coeff_81",
         "dtype": "float64"
        },
        {
         "name": "bg_value__fft_coefficient__attr_\"imag\"__coeff_82",
         "dtype": "float64"
        },
        {
         "name": "bg_value__fft_coefficient__attr_\"imag\"__coeff_83",
         "dtype": "float64"
        },
        {
         "name": "bg_value__fft_coefficient__attr_\"imag\"__coeff_84",
         "dtype": "float64"
        },
        {
         "name": "bg_value__fft_coefficient__attr_\"imag\"__coeff_85",
         "dtype": "float64"
        },
        {
         "name": "bg_value__fft_coefficient__attr_\"imag\"__coeff_86",
         "dtype": "float64"
        },
        {
         "name": "bg_value__fft_coefficient__attr_\"imag\"__coeff_87",
         "dtype": "float64"
        },
        {
         "name": "bg_value__fft_coefficient__attr_\"imag\"__coeff_88",
         "dtype": "float64"
        },
        {
         "name": "bg_value__fft_coefficient__attr_\"imag\"__coeff_89",
         "dtype": "float64"
        },
        {
         "name": "bg_value__fft_coefficient__attr_\"imag\"__coeff_90",
         "dtype": "float64"
        },
        {
         "name": "bg_value__fft_coefficient__attr_\"imag\"__coeff_91",
         "dtype": "float64"
        },
        {
         "name": "bg_value__fft_coefficient__attr_\"imag\"__coeff_92",
         "dtype": "float64"
        },
        {
         "name": "bg_value__fft_coefficient__attr_\"imag\"__coeff_93",
         "dtype": "float64"
        },
        {
         "name": "bg_value__fft_coefficient__attr_\"imag\"__coeff_94",
         "dtype": "float64"
        },
        {
         "name": "bg_value__fft_coefficient__attr_\"imag\"__coeff_95",
         "dtype": "float64"
        },
        {
         "name": "bg_value__fft_coefficient__attr_\"imag\"__coeff_96",
         "dtype": "float64"
        },
        {
         "name": "bg_value__fft_coefficient__attr_\"imag\"__coeff_97",
         "dtype": "float64"
        },
        {
         "name": "bg_value__fft_coefficient__attr_\"imag\"__coeff_98",
         "dtype": "float64"
        },
        {
         "name": "bg_value__fft_coefficient__attr_\"imag\"__coeff_99",
         "dtype": "float64"
        },
        {
         "name": "bg_value__fft_coefficient__attr_\"abs\"__coeff_0",
         "dtype": "float64"
        },
        {
         "name": "bg_value__fft_coefficient__attr_\"abs\"__coeff_1",
         "dtype": "float64"
        },
        {
         "name": "bg_value__fft_coefficient__attr_\"abs\"__coeff_2",
         "dtype": "float64"
        },
        {
         "name": "bg_value__fft_coefficient__attr_\"abs\"__coeff_3",
         "dtype": "float64"
        },
        {
         "name": "bg_value__fft_coefficient__attr_\"abs\"__coeff_4",
         "dtype": "float64"
        },
        {
         "name": "bg_value__fft_coefficient__attr_\"abs\"__coeff_5",
         "dtype": "float64"
        },
        {
         "name": "bg_value__fft_coefficient__attr_\"abs\"__coeff_6",
         "dtype": "float64"
        },
        {
         "name": "bg_value__fft_coefficient__attr_\"abs\"__coeff_7",
         "dtype": "float64"
        },
        {
         "name": "bg_value__fft_coefficient__attr_\"abs\"__coeff_8",
         "dtype": "float64"
        },
        {
         "name": "bg_value__fft_coefficient__attr_\"abs\"__coeff_9",
         "dtype": "float64"
        },
        {
         "name": "bg_value__fft_coefficient__attr_\"abs\"__coeff_10",
         "dtype": "float64"
        },
        {
         "name": "bg_value__fft_coefficient__attr_\"abs\"__coeff_11",
         "dtype": "float64"
        },
        {
         "name": "bg_value__fft_coefficient__attr_\"abs\"__coeff_12",
         "dtype": "float64"
        },
        {
         "name": "bg_value__fft_coefficient__attr_\"abs\"__coeff_13",
         "dtype": "float64"
        },
        {
         "name": "bg_value__fft_coefficient__attr_\"abs\"__coeff_14",
         "dtype": "float64"
        },
        {
         "name": "bg_value__fft_coefficient__attr_\"abs\"__coeff_15",
         "dtype": "float64"
        },
        {
         "name": "bg_value__fft_coefficient__attr_\"abs\"__coeff_16",
         "dtype": "float64"
        },
        {
         "name": "bg_value__fft_coefficient__attr_\"abs\"__coeff_17",
         "dtype": "float64"
        },
        {
         "name": "bg_value__fft_coefficient__attr_\"abs\"__coeff_18",
         "dtype": "float64"
        },
        {
         "name": "bg_value__fft_coefficient__attr_\"abs\"__coeff_19",
         "dtype": "float64"
        },
        {
         "name": "bg_value__fft_coefficient__attr_\"abs\"__coeff_20",
         "dtype": "float64"
        },
        {
         "name": "bg_value__fft_coefficient__attr_\"abs\"__coeff_21",
         "dtype": "float64"
        },
        {
         "name": "bg_value__fft_coefficient__attr_\"abs\"__coeff_22",
         "dtype": "float64"
        },
        {
         "name": "bg_value__fft_coefficient__attr_\"abs\"__coeff_23",
         "dtype": "float64"
        },
        {
         "name": "bg_value__fft_coefficient__attr_\"abs\"__coeff_24",
         "dtype": "float64"
        },
        {
         "name": "bg_value__fft_coefficient__attr_\"abs\"__coeff_25",
         "dtype": "float64"
        },
        {
         "name": "bg_value__fft_coefficient__attr_\"abs\"__coeff_26",
         "dtype": "float64"
        },
        {
         "name": "bg_value__fft_coefficient__attr_\"abs\"__coeff_27",
         "dtype": "float64"
        },
        {
         "name": "bg_value__fft_coefficient__attr_\"abs\"__coeff_28",
         "dtype": "float64"
        },
        {
         "name": "bg_value__fft_coefficient__attr_\"abs\"__coeff_29",
         "dtype": "float64"
        },
        {
         "name": "bg_value__fft_coefficient__attr_\"abs\"__coeff_30",
         "dtype": "float64"
        },
        {
         "name": "bg_value__fft_coefficient__attr_\"abs\"__coeff_31",
         "dtype": "float64"
        },
        {
         "name": "bg_value__fft_coefficient__attr_\"abs\"__coeff_32",
         "dtype": "float64"
        },
        {
         "name": "bg_value__fft_coefficient__attr_\"abs\"__coeff_33",
         "dtype": "float64"
        },
        {
         "name": "bg_value__fft_coefficient__attr_\"abs\"__coeff_34",
         "dtype": "float64"
        },
        {
         "name": "bg_value__fft_coefficient__attr_\"abs\"__coeff_35",
         "dtype": "float64"
        },
        {
         "name": "_deepnote_index_column",
         "dtype": "int64"
        }
       ],
       "rows_top": [
        {
         "bg_value__variance_larger_than_standard_deviation": 1,
         "bg_value__has_duplicate_max": 0,
         "bg_value__has_duplicate_min": 0,
         "bg_value__has_duplicate": 0,
         "bg_value__sum_values": 662,
         "bg_value__abs_energy": 73694,
         "bg_value__mean_abs_change": 6.4,
         "bg_value__mean_change": 5.2,
         "bg_value__mean_second_derivative_central": 1.25,
         "bg_value__median": 108,
         "bg_value__mean": 110.33333333333333,
         "bg_value__length": 6,
         "bg_value__standard_deviation": 10.43498389499902,
         "bg_value__variation_coefficient": 0.09457689330814822,
         "bg_value__variance": 108.8888888888889,
         "bg_value__skewness": 0.521096806614317,
         "bg_value__kurtosis": -1.4025327988338168,
         "bg_value__root_mean_square": 110.82568895943456,
         "bg_value__absolute_sum_of_changes": 32,
         "bg_value__longest_strike_below_mean": 3,
         "bg_value__longest_strike_above_mean": 3,
         "bg_value__count_above_mean": 3,
         "bg_value__count_below_mean": 3,
         "bg_value__last_location_of_maximum": 1,
         "bg_value__first_location_of_maximum": 0.8333333333333334,
         "bg_value__last_location_of_minimum": 0.33333333333333337,
         "bg_value__first_location_of_minimum": 0.16666666666666666,
         "bg_value__percentage_of_reoccurring_values_to_all_values": 0,
         "bg_value__percentage_of_reoccurring_datapoints_to_all_datapoints": 0,
         "bg_value__sum_of_reoccurring_values": 0,
         "bg_value__sum_of_reoccurring_data_points": 0,
         "bg_value__ratio_value_number_to_time_series_length": 1,
         "bg_value__sample_entropy": "nan",
         "bg_value__maximum": 127,
         "bg_value__minimum": 98,
         "bg_value__benford_correlation": 0.8087054810756913,
         "bg_value__time_reversal_asymmetry_statistic__lag_1": 299409.5,
         "bg_value__time_reversal_asymmetry_statistic__lag_2": 583748,
         "bg_value__time_reversal_asymmetry_statistic__lag_3": 0,
         "bg_value__c3__lag_1": 1318884,
         "bg_value__c3__lag_2": 1327216,
         "bg_value__c3__lag_3": 0,
         "bg_value__cid_ce__normalize_True": 1.4278569641963725,
         "bg_value__cid_ce__normalize_False": 14.89966442575134,
         "bg_value__symmetry_looking__r_0.0": 0,
         "bg_value__symmetry_looking__r_0.05": 0,
         "bg_value__symmetry_looking__r_0.1": 1,
         "bg_value__symmetry_looking__r_0.15000000000000002": 1,
         "bg_value__symmetry_looking__r_0.2": 1,
         "bg_value__symmetry_looking__r_0.25": 1,
         "bg_value__symmetry_looking__r_0.30000000000000004": 1,
         "bg_value__symmetry_looking__r_0.35000000000000003": 1,
         "bg_value__symmetry_looking__r_0.4": 1,
         "bg_value__symmetry_looking__r_0.45": 1,
         "bg_value__symmetry_looking__r_0.5": 1,
         "bg_value__symmetry_looking__r_0.55": 1,
         "bg_value__symmetry_looking__r_0.6000000000000001": 1,
         "bg_value__symmetry_looking__r_0.65": 1,
         "bg_value__symmetry_looking__r_0.7000000000000001": 1,
         "bg_value__symmetry_looking__r_0.75": 1,
         "bg_value__symmetry_looking__r_0.8": 1,
         "bg_value__symmetry_looking__r_0.8500000000000001": 1,
         "bg_value__symmetry_looking__r_0.9": 1,
         "bg_value__symmetry_looking__r_0.9500000000000001": 1,
         "bg_value__large_standard_deviation__r_0.05": 1,
         "bg_value__large_standard_deviation__r_0.1": 1,
         "bg_value__large_standard_deviation__r_0.15000000000000002": 1,
         "bg_value__large_standard_deviation__r_0.2": 1,
         "bg_value__large_standard_deviation__r_0.25": 1,
         "bg_value__large_standard_deviation__r_0.30000000000000004": 1,
         "bg_value__large_standard_deviation__r_0.35000000000000003": 1,
         "bg_value__large_standard_deviation__r_0.4": 0,
         "bg_value__large_standard_deviation__r_0.45": 0,
         "bg_value__large_standard_deviation__r_0.5": 0,
         "bg_value__large_standard_deviation__r_0.55": 0,
         "bg_value__large_standard_deviation__r_0.6000000000000001": 0,
         "bg_value__large_standard_deviation__r_0.65": 0,
         "bg_value__large_standard_deviation__r_0.7000000000000001": 0,
         "bg_value__large_standard_deviation__r_0.75": 0,
         "bg_value__large_standard_deviation__r_0.8": 0,
         "bg_value__large_standard_deviation__r_0.8500000000000001": 0,
         "bg_value__large_standard_deviation__r_0.9": 0,
         "bg_value__large_standard_deviation__r_0.9500000000000001": 0,
         "bg_value__quantile__q_0.1": 99.5,
         "bg_value__quantile__q_0.2": 101,
         "bg_value__quantile__q_0.3": 102.5,
         "bg_value__quantile__q_0.4": 104,
         "bg_value__quantile__q_0.6": 112,
         "bg_value__quantile__q_0.7": 116,
         "bg_value__quantile__q_0.8": 120,
         "bg_value__quantile__q_0.9": 123.5,
         "bg_value__autocorrelation__lag_0": 1,
         "bg_value__autocorrelation__lag_1": 0.6610204081632653,
         "bg_value__autocorrelation__lag_2": 0.011734693877550962,
         "bg_value__autocorrelation__lag_3": -0.7357142857142857,
         "bg_value__autocorrelation__lag_4": -1.3581632653061222,
         "bg_value__autocorrelation__lag_5": -1.4285714285714282,
         "bg_value__autocorrelation__lag_6": "nan",
         "bg_value__autocorrelation__lag_7": "nan",
         "bg_value__autocorrelation__lag_8": "nan",
         "bg_value__autocorrelation__lag_9": "nan",
         "bg_value__agg_autocorrelation__f_agg_\"mean\"__maxlag_40": -0.5699387755102039,
         "bg_value__agg_autocorrelation__f_agg_\"median\"__maxlag_40": -0.7357142857142857,
         "bg_value__agg_autocorrelation__f_agg_\"var\"__maxlag_40": 0.6479267871720115,
         "bg_value__partial_autocorrelation__lag_0": 1,
         "bg_value__partial_autocorrelation__lag_1": 0.6610204081632652,
         "bg_value__partial_autocorrelation__lag_2": -0.7551936073989564,
         "bg_value__partial_autocorrelation__lag_3": "nan",
         "bg_value__partial_autocorrelation__lag_4": "nan",
         "bg_value__partial_autocorrelation__lag_5": "nan",
         "bg_value__partial_autocorrelation__lag_6": "nan",
         "bg_value__partial_autocorrelation__lag_7": "nan",
         "bg_value__partial_autocorrelation__lag_8": "nan",
         "bg_value__partial_autocorrelation__lag_9": "nan",
         "bg_value__number_cwt_peaks__n_1": 1,
         "bg_value__number_cwt_peaks__n_5": 1,
         "bg_value__number_peaks__n_1": 0,
         "bg_value__number_peaks__n_3": 0,
         "bg_value__number_peaks__n_5": 0,
         "bg_value__number_peaks__n_10": 0,
         "bg_value__number_peaks__n_50": 0,
         "bg_value__binned_entropy__max_bins_10": 1.791759469228055,
         "bg_value__index_mass_quantile__q_0.1": 0.16666666666666666,
         "bg_value__index_mass_quantile__q_0.2": 0.3333333333333333,
         "bg_value__index_mass_quantile__q_0.3": 0.3333333333333333,
         "bg_value__index_mass_quantile__q_0.4": 0.5,
         "bg_value__index_mass_quantile__q_0.6": 0.6666666666666666,
         "bg_value__index_mass_quantile__q_0.7": 0.8333333333333334,
         "bg_value__index_mass_quantile__q_0.8": 0.8333333333333334,
         "bg_value__index_mass_quantile__q_0.9": 1,
         "bg_value__cwt_coefficients__coeff_0__w_2__widths_(2, 5, 10, 20)": 59.70684584961003,
         "bg_value__cwt_coefficients__coeff_0__w_5__widths_(2, 5, 10, 20)": 98.35924113798261,
         "bg_value__cwt_coefficients__coeff_0__w_10__widths_(2, 5, 10, 20)": 79.49650910477614,
         "bg_value__cwt_coefficients__coeff_0__w_20__widths_(2, 5, 10, 20)": 58.11574459646398,
         "bg_value__cwt_coefficients__coeff_1__w_2__widths_(2, 5, 10, 20)": 114.27108296625073,
         "bg_value__cwt_coefficients__coeff_1__w_5__widths_(2, 5, 10, 20)": 139.8820735847361,
         "bg_value__cwt_coefficients__coeff_1__w_10__widths_(2, 5, 10, 20)": 109.85886632742398,
         "bg_value__cwt_coefficients__coeff_1__w_20__widths_(2, 5, 10, 20)": 79.77326351503352,
         "bg_value__cwt_coefficients__coeff_2__w_2__widths_(2, 5, 10, 20)": 136.75565457028242,
         "bg_value__cwt_coefficients__coeff_2__w_5__widths_(2, 5, 10, 20)": 179.86297627913282,
         "bg_value__cwt_coefficients__coeff_2__w_10__widths_(2, 5, 10, 20)": 141.56846223632203,
         "bg_value__cwt_coefficients__coeff_2__w_20__widths_(2, 5, 10, 20)": 102.83141767078747,
         "bg_value__cwt_coefficients__coeff_3__w_2__widths_(2, 5, 10, 20)": 128.51241728302782,
         "bg_value__cwt_coefficients__coeff_3__w_5__widths_(2, 5, 10, 20)": 214.62587170798665,
         "bg_value__cwt_coefficients__coeff_3__w_10__widths_(2, 5, 10, 20)": 173.63507138110222,
         "bg_value__cwt_coefficients__coeff_3__w_20__widths_(2, 5, 10, 20)": 126.96333679275965,
         "bg_value__cwt_coefficients__coeff_4__w_2__widths_(2, 5, 10, 20)": 160.59412993307532,
         "bg_value__cwt_coefficients__coeff_4__w_5__widths_(2, 5, 10, 20)": 191.7514501753613,
         "bg_value__cwt_coefficients__coeff_4__w_10__widths_(2, 5, 10, 20)": 149.05481905311706,
         "bg_value__cwt_coefficients__coeff_4__w_20__widths_(2, 5, 10, 20)": 107.9383647213125,
         "bg_value__cwt_coefficients__coeff_5__w_2__widths_(2, 5, 10, 20)": 143.90390508670396,
         "bg_value__cwt_coefficients__coeff_5__w_5__widths_(2, 5, 10, 20)": 158.86787571389908,
         "bg_value__cwt_coefficients__coeff_5__w_10__widths_(2, 5, 10, 20)": 123.10167942159997,
         "bg_value__cwt_coefficients__coeff_5__w_20__widths_(2, 5, 10, 20)": 89.09671554956316,
         "bg_value__cwt_coefficients__coeff_6__w_2__widths_(2, 5, 10, 20)": "nan",
         "bg_value__cwt_coefficients__coeff_6__w_5__widths_(2, 5, 10, 20)": "nan",
         "bg_value__cwt_coefficients__coeff_6__w_10__widths_(2, 5, 10, 20)": "nan",
         "bg_value__cwt_coefficients__coeff_6__w_20__widths_(2, 5, 10, 20)": "nan",
         "bg_value__cwt_coefficients__coeff_7__w_2__widths_(2, 5, 10, 20)": "nan",
         "bg_value__cwt_coefficients__coeff_7__w_5__widths_(2, 5, 10, 20)": "nan",
         "bg_value__cwt_coefficients__coeff_7__w_10__widths_(2, 5, 10, 20)": "nan",
         "bg_value__cwt_coefficients__coeff_7__w_20__widths_(2, 5, 10, 20)": "nan",
         "bg_value__cwt_coefficients__coeff_8__w_2__widths_(2, 5, 10, 20)": "nan",
         "bg_value__cwt_coefficients__coeff_8__w_5__widths_(2, 5, 10, 20)": "nan",
         "bg_value__cwt_coefficients__coeff_8__w_10__widths_(2, 5, 10, 20)": "nan",
         "bg_value__cwt_coefficients__coeff_8__w_20__widths_(2, 5, 10, 20)": "nan",
         "bg_value__cwt_coefficients__coeff_9__w_2__widths_(2, 5, 10, 20)": "nan",
         "bg_value__cwt_coefficients__coeff_9__w_5__widths_(2, 5, 10, 20)": "nan",
         "bg_value__cwt_coefficients__coeff_9__w_10__widths_(2, 5, 10, 20)": "nan",
         "bg_value__cwt_coefficients__coeff_9__w_20__widths_(2, 5, 10, 20)": "nan",
         "bg_value__cwt_coefficients__coeff_10__w_2__widths_(2, 5, 10, 20)": "nan",
         "bg_value__cwt_coefficients__coeff_10__w_5__widths_(2, 5, 10, 20)": "nan",
         "bg_value__cwt_coefficients__coeff_10__w_10__widths_(2, 5, 10, 20)": "nan",
         "bg_value__cwt_coefficients__coeff_10__w_20__widths_(2, 5, 10, 20)": "nan",
         "bg_value__cwt_coefficients__coeff_11__w_2__widths_(2, 5, 10, 20)": "nan",
         "bg_value__cwt_coefficients__coeff_11__w_5__widths_(2, 5, 10, 20)": "nan",
         "bg_value__cwt_coefficients__coeff_11__w_10__widths_(2, 5, 10, 20)": "nan",
         "bg_value__cwt_coefficients__coeff_11__w_20__widths_(2, 5, 10, 20)": "nan",
         "bg_value__cwt_coefficients__coeff_12__w_2__widths_(2, 5, 10, 20)": "nan",
         "bg_value__cwt_coefficients__coeff_12__w_5__widths_(2, 5, 10, 20)": "nan",
         "bg_value__cwt_coefficients__coeff_12__w_10__widths_(2, 5, 10, 20)": "nan",
         "bg_value__cwt_coefficients__coeff_12__w_20__widths_(2, 5, 10, 20)": "nan",
         "bg_value__cwt_coefficients__coeff_13__w_2__widths_(2, 5, 10, 20)": "nan",
         "bg_value__cwt_coefficients__coeff_13__w_5__widths_(2, 5, 10, 20)": "nan",
         "bg_value__cwt_coefficients__coeff_13__w_10__widths_(2, 5, 10, 20)": "nan",
         "bg_value__cwt_coefficients__coeff_13__w_20__widths_(2, 5, 10, 20)": "nan",
         "bg_value__cwt_coefficients__coeff_14__w_2__widths_(2, 5, 10, 20)": "nan",
         "bg_value__cwt_coefficients__coeff_14__w_5__widths_(2, 5, 10, 20)": "nan",
         "bg_value__cwt_coefficients__coeff_14__w_10__widths_(2, 5, 10, 20)": "nan",
         "bg_value__cwt_coefficients__coeff_14__w_20__widths_(2, 5, 10, 20)": "nan",
         "bg_value__spkt_welch_density__coeff_2": 15.05555555555553,
         "bg_value__spkt_welch_density__coeff_5": "nan",
         "bg_value__spkt_welch_density__coeff_8": "nan",
         "bg_value__ar_coefficient__coeff_0__k_10": "nan",
         "bg_value__ar_coefficient__coeff_1__k_10": "nan",
         "bg_value__ar_coefficient__coeff_2__k_10": "nan",
         "bg_value__ar_coefficient__coeff_3__k_10": "nan",
         "bg_value__ar_coefficient__coeff_4__k_10": "nan",
         "bg_value__ar_coefficient__coeff_5__k_10": "nan",
         "bg_value__ar_coefficient__coeff_6__k_10": "nan",
         "bg_value__ar_coefficient__coeff_7__k_10": "nan",
         "bg_value__ar_coefficient__coeff_8__k_10": "nan",
         "bg_value__ar_coefficient__coeff_9__k_10": "nan",
         "bg_value__ar_coefficient__coeff_10__k_10": 0,
         "bg_value__change_quantiles__f_agg_\"mean\"__isabs_False__qh_0.2__ql_0.0": -3,
         "bg_value__change_quantiles__f_agg_\"var\"__isabs_False__qh_0.2__ql_0.0": 0,
         "bg_value__change_quantiles__f_agg_\"mean\"__isabs_True__qh_0.2__ql_0.0": 3,
         "bg_value__change_quantiles__f_agg_\"var\"__isabs_True__qh_0.2__ql_0.0": 0,
         "bg_value__change_quantiles__f_agg_\"mean\"__isabs_False__qh_0.4__ql_0.0": 1.5,
         "bg_value__change_quantiles__f_agg_\"var\"__isabs_False__qh_0.4__ql_0.0": 20.25,
         "bg_value__change_quantiles__f_agg_\"mean\"__isabs_True__qh_0.4__ql_0.0": 4.5,
         "bg_value__change_quantiles__f_agg_\"var\"__isabs_True__qh_0.4__ql_0.0": 2.25,
         "bg_value__change_quantiles__f_agg_\"mean\"__isabs_False__qh_0.6__ql_0.0": 3.6666666666666665,
         "bg_value__change_quantiles__f_agg_\"var\"__isabs_False__qh_0.6__ql_0.0": 22.888888888888886,
         "bg_value__change_quantiles__f_agg_\"mean\"__isabs_True__qh_0.6__ql_0.0": 5.666666666666667,
         "bg_value__change_quantiles__f_agg_\"var\"__isabs_True__qh_0.6__ql_0.0": 4.222222222222222,
         "bg_value__change_quantiles__f_agg_\"mean\"__isabs_False__qh_0.8__ql_0.0": 4.75,
         "bg_value__change_quantiles__f_agg_\"var\"__isabs_False__qh_0.8__ql_0.0": 20.6875,
         "bg_value__change_quantiles__f_agg_\"mean\"__isabs_True__qh_0.8__ql_0.0": 6.25,
         "bg_value__change_quantiles__f_agg_\"var\"__isabs_True__qh_0.8__ql_0.0": 4.1875,
         "bg_value__change_quantiles__f_agg_\"mean\"__isabs_False__qh_1.0__ql_0.0": 5.2,
         "bg_value__change_quantiles__f_agg_\"var\"__isabs_False__qh_1.0__ql_0.0": 17.36,
         "bg_value__change_quantiles__f_agg_\"mean\"__isabs_True__qh_1.0__ql_0.0": 6.4,
         "bg_value__change_quantiles__f_agg_\"var\"__isabs_True__qh_1.0__ql_0.0": 3.44,
         "bg_value__change_quantiles__f_agg_\"mean\"__isabs_False__qh_0.4__ql_0.2": 0,
         "bg_value__change_quantiles__f_agg_\"var\"__isabs_False__qh_0.4__ql_0.2": 0,
         "bg_value__change_quantiles__f_agg_\"mean\"__isabs_True__qh_0.4__ql_0.2": 0,
         "bg_value__change_quantiles__f_agg_\"var\"__isabs_True__qh_0.4__ql_0.2": 0,
         "bg_value__change_quantiles__f_agg_\"mean\"__isabs_False__qh_0.6__ql_0.2": 8,
         "bg_value__change_quantiles__f_agg_\"var\"__isabs_False__qh_0.6__ql_0.2": 0,
         "bg_value__change_quantiles__f_agg_\"mean\"__isabs_True__qh_0.6__ql_0.2": 8,
         "bg_value__change_quantiles__f_agg_\"var\"__isabs_True__qh_0.6__ql_0.2": 0,
         "bg_value__change_quantiles__f_agg_\"mean\"__isabs_False__qh_0.8__ql_0.2": 8,
         "bg_value__change_quantiles__f_agg_\"var\"__isabs_False__qh_0.8__ql_0.2": 0,
         "bg_value__change_quantiles__f_agg_\"mean\"__isabs_True__qh_0.8__ql_0.2": 8,
         "bg_value__change_quantiles__f_agg_\"var\"__isabs_True__qh_0.8__ql_0.2": 0,
         "bg_value__change_quantiles__f_agg_\"mean\"__isabs_False__qh_1.0__ql_0.2": 7.666666666666667,
         "bg_value__change_quantiles__f_agg_\"var\"__isabs_False__qh_1.0__ql_0.2": 0.22222222222222224,
         "bg_value__change_quantiles__f_agg_\"mean\"__isabs_True__qh_1.0__ql_0.2": 7.666666666666667,
         "bg_value__change_quantiles__f_agg_\"var\"__isabs_True__qh_1.0__ql_0.2": 0.22222222222222224,
         "bg_value__change_quantiles__f_agg_\"mean\"__isabs_False__qh_0.6__ql_0.4": 8,
         "bg_value__change_quantiles__f_agg_\"var\"__isabs_False__qh_0.6__ql_0.4": 0,
         "bg_value__change_quantiles__f_agg_\"mean\"__isabs_True__qh_0.6__ql_0.4": 8,
         "bg_value__change_quantiles__f_agg_\"var\"__isabs_True__qh_0.6__ql_0.4": 0,
         "bg_value__change_quantiles__f_agg_\"mean\"__isabs_False__qh_0.8__ql_0.4": 8,
         "bg_value__change_quantiles__f_agg_\"var\"__isabs_False__qh_0.8__ql_0.4": 0,
         "bg_value__change_quantiles__f_agg_\"mean\"__isabs_True__qh_0.8__ql_0.4": 8,
         "bg_value__change_quantiles__f_agg_\"var\"__isabs_True__qh_0.8__ql_0.4": 0,
         "bg_value__change_quantiles__f_agg_\"mean\"__isabs_False__qh_1.0__ql_0.4": 7.666666666666667,
         "bg_value__change_quantiles__f_agg_\"var\"__isabs_False__qh_1.0__ql_0.4": 0.22222222222222224,
         "bg_value__change_quantiles__f_agg_\"mean\"__isabs_True__qh_1.0__ql_0.4": 7.666666666666667,
         "bg_value__change_quantiles__f_agg_\"var\"__isabs_True__qh_1.0__ql_0.4": 0.22222222222222224,
         "bg_value__change_quantiles__f_agg_\"mean\"__isabs_False__qh_0.8__ql_0.6": 8,
         "bg_value__change_quantiles__f_agg_\"var\"__isabs_False__qh_0.8__ql_0.6": 0,
         "bg_value__change_quantiles__f_agg_\"mean\"__isabs_True__qh_0.8__ql_0.6": 8,
         "bg_value__change_quantiles__f_agg_\"var\"__isabs_True__qh_0.8__ql_0.6": 0,
         "bg_value__change_quantiles__f_agg_\"mean\"__isabs_False__qh_1.0__ql_0.6": 7.5,
         "bg_value__change_quantiles__f_agg_\"var\"__isabs_False__qh_1.0__ql_0.6": 0.25,
         "bg_value__change_quantiles__f_agg_\"mean\"__isabs_True__qh_1.0__ql_0.6": 7.5,
         "bg_value__change_quantiles__f_agg_\"var\"__isabs_True__qh_1.0__ql_0.6": 0.25,
         "bg_value__change_quantiles__f_agg_\"mean\"__isabs_False__qh_1.0__ql_0.8": 7,
         "bg_value__change_quantiles__f_agg_\"var\"__isabs_False__qh_1.0__ql_0.8": 0,
         "bg_value__change_quantiles__f_agg_\"mean\"__isabs_True__qh_1.0__ql_0.8": 7,
         "bg_value__change_quantiles__f_agg_\"var\"__isabs_True__qh_1.0__ql_0.8": 0,
         "bg_value__fft_coefficient__attr_\"real\"__coeff_0": 662,
         "bg_value__fft_coefficient__attr_\"real\"__coeff_1": -10.5,
         "bg_value__fft_coefficient__attr_\"real\"__coeff_2": -11.5,
         "bg_value__fft_coefficient__attr_\"real\"__coeff_3": -12,
         "bg_value__fft_coefficient__attr_\"real\"__coeff_4": "nan",
         "bg_value__fft_coefficient__attr_\"real\"__coeff_5": "nan",
         "bg_value__fft_coefficient__attr_\"real\"__coeff_6": "nan",
         "bg_value__fft_coefficient__attr_\"real\"__coeff_7": "nan",
         "bg_value__fft_coefficient__attr_\"real\"__coeff_8": "nan",
         "bg_value__fft_coefficient__attr_\"real\"__coeff_9": "nan",
         "bg_value__fft_coefficient__attr_\"real\"__coeff_10": "nan",
         "bg_value__fft_coefficient__attr_\"real\"__coeff_11": "nan",
         "bg_value__fft_coefficient__attr_\"real\"__coeff_12": "nan",
         "bg_value__fft_coefficient__attr_\"real\"__coeff_13": "nan",
         "bg_value__fft_coefficient__attr_\"real\"__coeff_14": "nan",
         "bg_value__fft_coefficient__attr_\"real\"__coeff_15": "nan",
         "bg_value__fft_coefficient__attr_\"real\"__coeff_16": "nan",
         "bg_value__fft_coefficient__attr_\"real\"__coeff_17": "nan",
         "bg_value__fft_coefficient__attr_\"real\"__coeff_18": "nan",
         "bg_value__fft_coefficient__attr_\"real\"__coeff_19": "nan",
         "bg_value__fft_coefficient__attr_\"real\"__coeff_20": "nan",
         "bg_value__fft_coefficient__attr_\"real\"__coeff_21": "nan",
         "bg_value__fft_coefficient__attr_\"real\"__coeff_22": "nan",
         "bg_value__fft_coefficient__attr_\"real\"__coeff_23": "nan",
         "bg_value__fft_coefficient__attr_\"real\"__coeff_24": "nan",
         "bg_value__fft_coefficient__attr_\"real\"__coeff_25": "nan",
         "bg_value__fft_coefficient__attr_\"real\"__coeff_26": "nan",
         "bg_value__fft_coefficient__attr_\"real\"__coeff_27": "nan",
         "bg_value__fft_coefficient__attr_\"real\"__coeff_28": "nan",
         "bg_value__fft_coefficient__attr_\"real\"__coeff_29": "nan",
         "bg_value__fft_coefficient__attr_\"real\"__coeff_30": "nan",
         "bg_value__fft_coefficient__attr_\"real\"__coeff_31": "nan",
         "bg_value__fft_coefficient__attr_\"real\"__coeff_32": "nan",
         "bg_value__fft_coefficient__attr_\"real\"__coeff_33": "nan",
         "bg_value__fft_coefficient__attr_\"real\"__coeff_34": "nan",
         "bg_value__fft_coefficient__attr_\"real\"__coeff_35": "nan",
         "bg_value__fft_coefficient__attr_\"real\"__coeff_36": "nan",
         "bg_value__fft_coefficient__attr_\"real\"__coeff_37": "nan",
         "bg_value__fft_coefficient__attr_\"real\"__coeff_38": "nan",
         "bg_value__fft_coefficient__attr_\"real\"__coeff_39": "nan",
         "bg_value__fft_coefficient__attr_\"real\"__coeff_40": "nan",
         "bg_value__fft_coefficient__attr_\"real\"__coeff_41": "nan",
         "bg_value__fft_coefficient__attr_\"real\"__coeff_42": "nan",
         "bg_value__fft_coefficient__attr_\"real\"__coeff_43": "nan",
         "bg_value__fft_coefficient__attr_\"real\"__coeff_44": "nan",
         "bg_value__fft_coefficient__attr_\"real\"__coeff_45": "nan",
         "bg_value__fft_coefficient__attr_\"real\"__coeff_46": "nan",
         "bg_value__fft_coefficient__attr_\"real\"__coeff_47": "nan",
         "bg_value__fft_coefficient__attr_\"real\"__coeff_48": "nan",
         "bg_value__fft_coefficient__attr_\"real\"__coeff_49": "nan",
         "bg_value__fft_coefficient__attr_\"real\"__coeff_50": "nan",
         "bg_value__fft_coefficient__attr_\"real\"__coeff_51": "nan",
         "bg_value__fft_coefficient__attr_\"real\"__coeff_52": "nan",
         "bg_value__fft_coefficient__attr_\"real\"__coeff_53": "nan",
         "bg_value__fft_coefficient__attr_\"real\"__coeff_54": "nan",
         "bg_value__fft_coefficient__attr_\"real\"__coeff_55": "nan",
         "bg_value__fft_coefficient__attr_\"real\"__coeff_56": "nan",
         "bg_value__fft_coefficient__attr_\"real\"__coeff_57": "nan",
         "bg_value__fft_coefficient__attr_\"real\"__coeff_58": "nan",
         "bg_value__fft_coefficient__attr_\"real\"__coeff_59": "nan",
         "bg_value__fft_coefficient__attr_\"real\"__coeff_60": "nan",
         "bg_value__fft_coefficient__attr_\"real\"__coeff_61": "nan",
         "bg_value__fft_coefficient__attr_\"real\"__coeff_62": "nan",
         "bg_value__fft_coefficient__attr_\"real\"__coeff_63": "nan",
         "bg_value__fft_coefficient__attr_\"real\"__coeff_64": "nan",
         "bg_value__fft_coefficient__attr_\"real\"__coeff_65": "nan",
         "bg_value__fft_coefficient__attr_\"real\"__coeff_66": "nan",
         "bg_value__fft_coefficient__attr_\"real\"__coeff_67": "nan",
         "bg_value__fft_coefficient__attr_\"real\"__coeff_68": "nan",
         "bg_value__fft_coefficient__attr_\"real\"__coeff_69": "nan",
         "bg_value__fft_coefficient__attr_\"real\"__coeff_70": "nan",
         "bg_value__fft_coefficient__attr_\"real\"__coeff_71": "nan",
         "bg_value__fft_coefficient__attr_\"real\"__coeff_72": "nan",
         "bg_value__fft_coefficient__attr_\"real\"__coeff_73": "nan",
         "bg_value__fft_coefficient__attr_\"real\"__coeff_74": "nan",
         "bg_value__fft_coefficient__attr_\"real\"__coeff_75": "nan",
         "bg_value__fft_coefficient__attr_\"real\"__coeff_76": "nan",
         "bg_value__fft_coefficient__attr_\"real\"__coeff_77": "nan",
         "bg_value__fft_coefficient__attr_\"real\"__coeff_78": "nan",
         "bg_value__fft_coefficient__attr_\"real\"__coeff_79": "nan",
         "bg_value__fft_coefficient__attr_\"real\"__coeff_80": "nan",
         "bg_value__fft_coefficient__attr_\"real\"__coeff_81": "nan",
         "bg_value__fft_coefficient__attr_\"real\"__coeff_82": "nan",
         "bg_value__fft_coefficient__attr_\"real\"__coeff_83": "nan",
         "bg_value__fft_coefficient__attr_\"real\"__coeff_84": "nan",
         "bg_value__fft_coefficient__attr_\"real\"__coeff_85": "nan",
         "bg_value__fft_coefficient__attr_\"real\"__coeff_86": "nan",
         "bg_value__fft_coefficient__attr_\"real\"__coeff_87": "nan",
         "bg_value__fft_coefficient__attr_\"real\"__coeff_88": "nan",
         "bg_value__fft_coefficient__attr_\"real\"__coeff_89": "nan",
         "bg_value__fft_coefficient__attr_\"real\"__coeff_90": "nan",
         "bg_value__fft_coefficient__attr_\"real\"__coeff_91": "nan",
         "bg_value__fft_coefficient__attr_\"real\"__coeff_92": "nan",
         "bg_value__fft_coefficient__attr_\"real\"__coeff_93": "nan",
         "bg_value__fft_coefficient__attr_\"real\"__coeff_94": "nan",
         "bg_value__fft_coefficient__attr_\"real\"__coeff_95": "nan",
         "bg_value__fft_coefficient__attr_\"real\"__coeff_96": "nan",
         "bg_value__fft_coefficient__attr_\"real\"__coeff_97": "nan",
         "bg_value__fft_coefficient__attr_\"real\"__coeff_98": "nan",
         "bg_value__fft_coefficient__attr_\"real\"__coeff_99": "nan",
         "bg_value__fft_coefficient__attr_\"imag\"__coeff_0": 0,
         "bg_value__fft_coefficient__attr_\"imag\"__coeff_1": 38.97114317029974,
         "bg_value__fft_coefficient__attr_\"imag\"__coeff_2": 11.258330249197702,
         "bg_value__fft_coefficient__attr_\"imag\"__coeff_3": 0,
         "bg_value__fft_coefficient__attr_\"imag\"__coeff_4": "nan",
         "bg_value__fft_coefficient__attr_\"imag\"__coeff_5": "nan",
         "bg_value__fft_coefficient__attr_\"imag\"__coeff_6": "nan",
         "bg_value__fft_coefficient__attr_\"imag\"__coeff_7": "nan",
         "bg_value__fft_coefficient__attr_\"imag\"__coeff_8": "nan",
         "bg_value__fft_coefficient__attr_\"imag\"__coeff_9": "nan",
         "bg_value__fft_coefficient__attr_\"imag\"__coeff_10": "nan",
         "bg_value__fft_coefficient__attr_\"imag\"__coeff_11": "nan",
         "bg_value__fft_coefficient__attr_\"imag\"__coeff_12": "nan",
         "bg_value__fft_coefficient__attr_\"imag\"__coeff_13": "nan",
         "bg_value__fft_coefficient__attr_\"imag\"__coeff_14": "nan",
         "bg_value__fft_coefficient__attr_\"imag\"__coeff_15": "nan",
         "bg_value__fft_coefficient__attr_\"imag\"__coeff_16": "nan",
         "bg_value__fft_coefficient__attr_\"imag\"__coeff_17": "nan",
         "bg_value__fft_coefficient__attr_\"imag\"__coeff_18": "nan",
         "bg_value__fft_coefficient__attr_\"imag\"__coeff_19": "nan",
         "bg_value__fft_coefficient__attr_\"imag\"__coeff_20": "nan",
         "bg_value__fft_coefficient__attr_\"imag\"__coeff_21": "nan",
         "bg_value__fft_coefficient__attr_\"imag\"__coeff_22": "nan",
         "bg_value__fft_coefficient__attr_\"imag\"__coeff_23": "nan",
         "bg_value__fft_coefficient__attr_\"imag\"__coeff_24": "nan",
         "bg_value__fft_coefficient__attr_\"imag\"__coeff_25": "nan",
         "bg_value__fft_coefficient__attr_\"imag\"__coeff_26": "nan",
         "bg_value__fft_coefficient__attr_\"imag\"__coeff_27": "nan",
         "bg_value__fft_coefficient__attr_\"imag\"__coeff_28": "nan",
         "bg_value__fft_coefficient__attr_\"imag\"__coeff_29": "nan",
         "bg_value__fft_coefficient__attr_\"imag\"__coeff_30": "nan",
         "bg_value__fft_coefficient__attr_\"imag\"__coeff_31": "nan",
         "bg_value__fft_coefficient__attr_\"imag\"__coeff_32": "nan",
         "bg_value__fft_coefficient__attr_\"imag\"__coeff_33": "nan",
         "bg_value__fft_coefficient__attr_\"imag\"__coeff_34": "nan",
         "bg_value__fft_coefficient__attr_\"imag\"__coeff_35": "nan",
         "bg_value__fft_coefficient__attr_\"imag\"__coeff_36": "nan",
         "bg_value__fft_coefficient__attr_\"imag\"__coeff_37": "nan",
         "bg_value__fft_coefficient__attr_\"imag\"__coeff_38": "nan",
         "bg_value__fft_coefficient__attr_\"imag\"__coeff_39": "nan",
         "bg_value__fft_coefficient__attr_\"imag\"__coeff_40": "nan",
         "bg_value__fft_coefficient__attr_\"imag\"__coeff_41": "nan",
         "bg_value__fft_coefficient__attr_\"imag\"__coeff_42": "nan",
         "bg_value__fft_coefficient__attr_\"imag\"__coeff_43": "nan",
         "bg_value__fft_coefficient__attr_\"imag\"__coeff_44": "nan",
         "bg_value__fft_coefficient__attr_\"imag\"__coeff_45": "nan",
         "bg_value__fft_coefficient__attr_\"imag\"__coeff_46": "nan",
         "bg_value__fft_coefficient__attr_\"imag\"__coeff_47": "nan",
         "bg_value__fft_coefficient__attr_\"imag\"__coeff_48": "nan",
         "bg_value__fft_coefficient__attr_\"imag\"__coeff_49": "nan",
         "bg_value__fft_coefficient__attr_\"imag\"__coeff_50": "nan",
         "bg_value__fft_coefficient__attr_\"imag\"__coeff_51": "nan",
         "bg_value__fft_coefficient__attr_\"imag\"__coeff_52": "nan",
         "bg_value__fft_coefficient__attr_\"imag\"__coeff_53": "nan",
         "bg_value__fft_coefficient__attr_\"imag\"__coeff_54": "nan",
         "bg_value__fft_coefficient__attr_\"imag\"__coeff_55": "nan",
         "bg_value__fft_coefficient__attr_\"imag\"__coeff_56": "nan",
         "bg_value__fft_coefficient__attr_\"imag\"__coeff_57": "nan",
         "bg_value__fft_coefficient__attr_\"imag\"__coeff_58": "nan",
         "bg_value__fft_coefficient__attr_\"imag\"__coeff_59": "nan",
         "bg_value__fft_coefficient__attr_\"imag\"__coeff_60": "nan",
         "bg_value__fft_coefficient__attr_\"imag\"__coeff_61": "nan",
         "bg_value__fft_coefficient__attr_\"imag\"__coeff_62": "nan",
         "bg_value__fft_coefficient__attr_\"imag\"__coeff_63": "nan",
         "bg_value__fft_coefficient__attr_\"imag\"__coeff_64": "nan",
         "bg_value__fft_coefficient__attr_\"imag\"__coeff_65": "nan",
         "bg_value__fft_coefficient__attr_\"imag\"__coeff_66": "nan",
         "bg_value__fft_coefficient__attr_\"imag\"__coeff_67": "nan",
         "bg_value__fft_coefficient__attr_\"imag\"__coeff_68": "nan",
         "bg_value__fft_coefficient__attr_\"imag\"__coeff_69": "nan",
         "bg_value__fft_coefficient__attr_\"imag\"__coeff_70": "nan",
         "bg_value__fft_coefficient__attr_\"imag\"__coeff_71": "nan",
         "bg_value__fft_coefficient__attr_\"imag\"__coeff_72": "nan",
         "bg_value__fft_coefficient__attr_\"imag\"__coeff_73": "nan",
         "bg_value__fft_coefficient__attr_\"imag\"__coeff_74": "nan",
         "bg_value__fft_coefficient__attr_\"imag\"__coeff_75": "nan",
         "bg_value__fft_coefficient__attr_\"imag\"__coeff_76": "nan",
         "bg_value__fft_coefficient__attr_\"imag\"__coeff_77": "nan",
         "bg_value__fft_coefficient__attr_\"imag\"__coeff_78": "nan",
         "bg_value__fft_coefficient__attr_\"imag\"__coeff_79": "nan",
         "bg_value__fft_coefficient__attr_\"imag\"__coeff_80": "nan",
         "bg_value__fft_coefficient__attr_\"imag\"__coeff_81": "nan",
         "bg_value__fft_coefficient__attr_\"imag\"__coeff_82": "nan",
         "bg_value__fft_coefficient__attr_\"imag\"__coeff_83": "nan",
         "bg_value__fft_coefficient__attr_\"imag\"__coeff_84": "nan",
         "bg_value__fft_coefficient__attr_\"imag\"__coeff_85": "nan",
         "bg_value__fft_coefficient__attr_\"imag\"__coeff_86": "nan",
         "bg_value__fft_coefficient__attr_\"imag\"__coeff_87": "nan",
         "bg_value__fft_coefficient__attr_\"imag\"__coeff_88": "nan",
         "bg_value__fft_coefficient__attr_\"imag\"__coeff_89": "nan",
         "bg_value__fft_coefficient__attr_\"imag\"__coeff_90": "nan",
         "bg_value__fft_coefficient__attr_\"imag\"__coeff_91": "nan",
         "bg_value__fft_coefficient__attr_\"imag\"__coeff_92": "nan",
         "bg_value__fft_coefficient__attr_\"imag\"__coeff_93": "nan",
         "bg_value__fft_coefficient__attr_\"imag\"__coeff_94": "nan",
         "bg_value__fft_coefficient__attr_\"imag\"__coeff_95": "nan",
         "bg_value__fft_coefficient__attr_\"imag\"__coeff_96": "nan",
         "bg_value__fft_coefficient__attr_\"imag\"__coeff_97": "nan",
         "bg_value__fft_coefficient__attr_\"imag\"__coeff_98": "nan",
         "bg_value__fft_coefficient__attr_\"imag\"__coeff_99": "nan",
         "bg_value__fft_coefficient__attr_\"abs\"__coeff_0": 662,
         "bg_value__fft_coefficient__attr_\"abs\"__coeff_1": 40.36087214122113,
         "bg_value__fft_coefficient__attr_\"abs\"__coeff_2": 16.09347693943108,
         "bg_value__fft_coefficient__attr_\"abs\"__coeff_3": 12,
         "bg_value__fft_coefficient__attr_\"abs\"__coeff_4": "nan",
         "bg_value__fft_coefficient__attr_\"abs\"__coeff_5": "nan",
         "bg_value__fft_coefficient__attr_\"abs\"__coeff_6": "nan",
         "bg_value__fft_coefficient__attr_\"abs\"__coeff_7": "nan",
         "bg_value__fft_coefficient__attr_\"abs\"__coeff_8": "nan",
         "bg_value__fft_coefficient__attr_\"abs\"__coeff_9": "nan",
         "bg_value__fft_coefficient__attr_\"abs\"__coeff_10": "nan",
         "bg_value__fft_coefficient__attr_\"abs\"__coeff_11": "nan",
         "bg_value__fft_coefficient__attr_\"abs\"__coeff_12": "nan",
         "bg_value__fft_coefficient__attr_\"abs\"__coeff_13": "nan",
         "bg_value__fft_coefficient__attr_\"abs\"__coeff_14": "nan",
         "bg_value__fft_coefficient__attr_\"abs\"__coeff_15": "nan",
         "bg_value__fft_coefficient__attr_\"abs\"__coeff_16": "nan",
         "bg_value__fft_coefficient__attr_\"abs\"__coeff_17": "nan",
         "bg_value__fft_coefficient__attr_\"abs\"__coeff_18": "nan",
         "bg_value__fft_coefficient__attr_\"abs\"__coeff_19": "nan",
         "bg_value__fft_coefficient__attr_\"abs\"__coeff_20": "nan",
         "bg_value__fft_coefficient__attr_\"abs\"__coeff_21": "nan",
         "bg_value__fft_coefficient__attr_\"abs\"__coeff_22": "nan",
         "bg_value__fft_coefficient__attr_\"abs\"__coeff_23": "nan",
         "bg_value__fft_coefficient__attr_\"abs\"__coeff_24": "nan",
         "bg_value__fft_coefficient__attr_\"abs\"__coeff_25": "nan",
         "bg_value__fft_coefficient__attr_\"abs\"__coeff_26": "nan",
         "bg_value__fft_coefficient__attr_\"abs\"__coeff_27": "nan",
         "bg_value__fft_coefficient__attr_\"abs\"__coeff_28": "nan",
         "bg_value__fft_coefficient__attr_\"abs\"__coeff_29": "nan",
         "bg_value__fft_coefficient__attr_\"abs\"__coeff_30": "nan",
         "bg_value__fft_coefficient__attr_\"abs\"__coeff_31": "nan",
         "bg_value__fft_coefficient__attr_\"abs\"__coeff_32": "nan",
         "bg_value__fft_coefficient__attr_\"abs\"__coeff_33": "nan",
         "bg_value__fft_coefficient__attr_\"abs\"__coeff_34": "nan",
         "bg_value__fft_coefficient__attr_\"abs\"__coeff_35": "nan",
         "_deepnote_index_column": 0
        }
       ],
       "rows_bottom": [
        {
         "bg_value__variance_larger_than_standard_deviation": 1,
         "bg_value__has_duplicate_max": 0,
         "bg_value__has_duplicate_min": 0,
         "bg_value__has_duplicate": 0,
         "bg_value__sum_values": 1217,
         "bg_value__abs_energy": 247107,
         "bg_value__mean_abs_change": 4,
         "bg_value__mean_change": 2.8,
         "bg_value__mean_second_derivative_central": 0.625,
         "bg_value__median": 201.5,
         "bg_value__mean": 202.83333333333334,
         "bg_value__length": 6,
         "bg_value__standard_deviation": 6.568020165079344,
         "bg_value__variation_coefficient": 0.03238136482372725,
         "bg_value__variance": 43.138888888888886,
         "bg_value__skewness": 0.2871030481423968,
         "bg_value__kurtosis": -2.2822827180759373,
         "bg_value__root_mean_square": 202.93964620053913,
         "bg_value__absolute_sum_of_changes": 20,
         "bg_value__longest_strike_below_mean": 3,
         "bg_value__longest_strike_above_mean": 3,
         "bg_value__count_above_mean": 3,
         "bg_value__count_below_mean": 3,
         "bg_value__last_location_of_maximum": 1,
         "bg_value__first_location_of_maximum": 0.8333333333333334,
         "bg_value__last_location_of_minimum": 0.33333333333333337,
         "bg_value__first_location_of_minimum": 0.16666666666666666,
         "bg_value__percentage_of_reoccurring_values_to_all_values": 0,
         "bg_value__percentage_of_reoccurring_datapoints_to_all_datapoints": 0,
         "bg_value__sum_of_reoccurring_values": 0,
         "bg_value__sum_of_reoccurring_data_points": 0,
         "bg_value__ratio_value_number_to_time_series_length": 1,
         "bg_value__sample_entropy": "nan",
         "bg_value__maximum": 212,
         "bg_value__minimum": 195,
         "bg_value__benford_correlation": 0.8767112912521223,
         "bg_value__time_reversal_asymmetry_statistic__lag_1": 602155,
         "bg_value__time_reversal_asymmetry_statistic__lag_2": 1191453.5,
         "bg_value__time_reversal_asymmetry_statistic__lag_3": 0,
         "bg_value__c3__lag_1": 8272173.75,
         "bg_value__c3__lag_2": 8332980,
         "bg_value__c3__lag_3": 0,
         "bg_value__cid_ce__normalize_True": 1.5675393622763985,
         "bg_value__cid_ce__normalize_False": 10.295630140987,
         "bg_value__symmetry_looking__r_0.0": 0,
         "bg_value__symmetry_looking__r_0.05": 0,
         "bg_value__symmetry_looking__r_0.1": 1,
         "bg_value__symmetry_looking__r_0.15000000000000002": 1,
         "bg_value__symmetry_looking__r_0.2": 1,
         "bg_value__symmetry_looking__r_0.25": 1,
         "bg_value__symmetry_looking__r_0.30000000000000004": 1,
         "bg_value__symmetry_looking__r_0.35000000000000003": 1,
         "bg_value__symmetry_looking__r_0.4": 1,
         "bg_value__symmetry_looking__r_0.45": 1,
         "bg_value__symmetry_looking__r_0.5": 1,
         "bg_value__symmetry_looking__r_0.55": 1,
         "bg_value__symmetry_looking__r_0.6000000000000001": 1,
         "bg_value__symmetry_looking__r_0.65": 1,
         "bg_value__symmetry_looking__r_0.7000000000000001": 1,
         "bg_value__symmetry_looking__r_0.75": 1,
         "bg_value__symmetry_looking__r_0.8": 1,
         "bg_value__symmetry_looking__r_0.8500000000000001": 1,
         "bg_value__symmetry_looking__r_0.9": 1,
         "bg_value__symmetry_looking__r_0.9500000000000001": 1,
         "bg_value__large_standard_deviation__r_0.05": 1,
         "bg_value__large_standard_deviation__r_0.1": 1,
         "bg_value__large_standard_deviation__r_0.15000000000000002": 1,
         "bg_value__large_standard_deviation__r_0.2": 1,
         "bg_value__large_standard_deviation__r_0.25": 1,
         "bg_value__large_standard_deviation__r_0.30000000000000004": 1,
         "bg_value__large_standard_deviation__r_0.35000000000000003": 1,
         "bg_value__large_standard_deviation__r_0.4": 0,
         "bg_value__large_standard_deviation__r_0.45": 0,
         "bg_value__large_standard_deviation__r_0.5": 0,
         "bg_value__large_standard_deviation__r_0.55": 0,
         "bg_value__large_standard_deviation__r_0.6000000000000001": 0,
         "bg_value__large_standard_deviation__r_0.65": 0,
         "bg_value__large_standard_deviation__r_0.7000000000000001": 0,
         "bg_value__large_standard_deviation__r_0.75": 0,
         "bg_value__large_standard_deviation__r_0.8": 0,
         "bg_value__large_standard_deviation__r_0.8500000000000001": 0,
         "bg_value__large_standard_deviation__r_0.9": 0,
         "bg_value__large_standard_deviation__r_0.9500000000000001": 0,
         "bg_value__quantile__q_0.1": 196,
         "bg_value__quantile__q_0.2": 197,
         "bg_value__quantile__q_0.3": 197.5,
         "bg_value__quantile__q_0.4": 198,
         "bg_value__quantile__q_0.6": 205,
         "bg_value__quantile__q_0.7": 207.5,
         "bg_value__quantile__q_0.8": 210,
         "bg_value__quantile__q_0.9": 211,
         "bg_value__autocorrelation__lag_0": 1,
         "bg_value__autocorrelation__lag_1": 0.7053444945267227,
         "bg_value__autocorrelation__lag_2": -0.0621377978106888,
         "bg_value__autocorrelation__lag_3": -0.9278815196394078,
         "bg_value__autocorrelation__lag_4": -1.2337411461687062,
         "bg_value__autocorrelation__lag_5": -1.0270444301352233,
         "bg_value__autocorrelation__lag_6": "nan",
         "bg_value__autocorrelation__lag_7": "nan",
         "bg_value__autocorrelation__lag_8": "nan",
         "bg_value__autocorrelation__lag_9": "nan",
         "bg_value__agg_autocorrelation__f_agg_\"mean\"__maxlag_40": -0.5090920798454606,
         "bg_value__agg_autocorrelation__f_agg_\"median\"__maxlag_40": -0.9278815196394077,
         "bg_value__agg_autocorrelation__f_agg_\"var\"__maxlag_40": 0.5286799649557661,
         "bg_value__partial_autocorrelation__lag_0": 1,
         "bg_value__partial_autocorrelation__lag_1": 0.7053444945267227,
         "bg_value__partial_autocorrelation__lag_2": -1.113752725619797,
         "bg_value__partial_autocorrelation__lag_3": "nan",
         "bg_value__partial_autocorrelation__lag_4": "nan",
         "bg_value__partial_autocorrelation__lag_5": "nan",
         "bg_value__partial_autocorrelation__lag_6": "nan",
         "bg_value__partial_autocorrelation__lag_7": "nan",
         "bg_value__partial_autocorrelation__lag_8": "nan",
         "bg_value__partial_autocorrelation__lag_9": "nan",
         "bg_value__number_cwt_peaks__n_1": 1,
         "bg_value__number_cwt_peaks__n_5": 1,
         "bg_value__number_peaks__n_1": 0,
         "bg_value__number_peaks__n_3": 0,
         "bg_value__number_peaks__n_5": 0,
         "bg_value__number_peaks__n_10": 0,
         "bg_value__number_peaks__n_50": 0,
         "bg_value__binned_entropy__max_bins_10": 1.5607104090414063,
         "bg_value__index_mass_quantile__q_0.1": 0.16666666666666666,
         "bg_value__index_mass_quantile__q_0.2": 0.3333333333333333,
         "bg_value__index_mass_quantile__q_0.3": 0.3333333333333333,
         "bg_value__index_mass_quantile__q_0.4": 0.5,
         "bg_value__index_mass_quantile__q_0.6": 0.6666666666666666,
         "bg_value__index_mass_quantile__q_0.7": 0.8333333333333334,
         "bg_value__index_mass_quantile__q_0.8": 0.8333333333333334,
         "bg_value__index_mass_quantile__q_0.9": 1,
         "bg_value__cwt_coefficients__coeff_0__w_2__widths_(2, 5, 10, 20)": 118.71943166677386,
         "bg_value__cwt_coefficients__coeff_0__w_5__widths_(2, 5, 10, 20)": 192.02870550292386,
         "bg_value__cwt_coefficients__coeff_0__w_10__widths_(2, 5, 10, 20)": 154.8935259738644,
         "bg_value__cwt_coefficients__coeff_0__w_20__widths_(2, 5, 10, 20)": 113.18048807047192,
         "bg_value__cwt_coefficients__coeff_1__w_2__widths_(2, 5, 10, 20)": 226.52882071115135,
         "bg_value__cwt_coefficients__coeff_1__w_5__widths_(2, 5, 10, 20)": 269.2640816012053,
         "bg_value__cwt_coefficients__coeff_1__w_10__widths_(2, 5, 10, 20)": 210.70022302949707,
         "bg_value__cwt_coefficients__coeff_1__w_20__widths_(2, 5, 10, 20)": 152.8633050217653,
         "bg_value__cwt_coefficients__coeff_2__w_2__widths_(2, 5, 10, 20)": 266.9040080567768,
         "bg_value__cwt_coefficients__coeff_2__w_5__widths_(2, 5, 10, 20)": 339.67802657307266,
         "bg_value__cwt_coefficients__coeff_2__w_10__widths_(2, 5, 10, 20)": 266.28406716718484,
         "bg_value__cwt_coefficients__coeff_2__w_20__widths_(2, 5, 10, 20)": 193.23195848516633,
         "bg_value__cwt_coefficients__coeff_3__w_2__widths_(2, 5, 10, 20)": 241.29344392402493,
         "bg_value__cwt_coefficients__coeff_3__w_5__widths_(2, 5, 10, 20)": 395.51913673944813,
         "bg_value__cwt_coefficients__coeff_3__w_10__widths_(2, 5, 10, 20)": 319.39055646450885,
         "bg_value__cwt_coefficients__coeff_3__w_20__widths_(2, 5, 10, 20)": 233.4389137296885,
         "bg_value__cwt_coefficients__coeff_4__w_2__widths_(2, 5, 10, 20)": 283.3055765847918,
         "bg_value__cwt_coefficients__coeff_4__w_5__widths_(2, 5, 10, 20)": 346.63972398021406,
         "bg_value__cwt_coefficients__coeff_4__w_10__widths_(2, 5, 10, 20)": 270.4210216599112,
         "bg_value__cwt_coefficients__coeff_4__w_20__widths_(2, 5, 10, 20)": 196.00087914610816,
         "bg_value__cwt_coefficients__coeff_5__w_2__widths_(2, 5, 10, 20)": 245.57349302995826,
         "bg_value__cwt_coefficients__coeff_5__w_5__widths_(2, 5, 10, 20)": 280.990258169567,
         "bg_value__cwt_coefficients__coeff_5__w_10__widths_(2, 5, 10, 20)": 218.75138455845547,
         "bg_value__cwt_coefficients__coeff_5__w_20__widths_(2, 5, 10, 20)": 158.50535485797357,
         "bg_value__cwt_coefficients__coeff_6__w_2__widths_(2, 5, 10, 20)": "nan",
         "bg_value__cwt_coefficients__coeff_6__w_5__widths_(2, 5, 10, 20)": "nan",
         "bg_value__cwt_coefficients__coeff_6__w_10__widths_(2, 5, 10, 20)": "nan",
         "bg_value__cwt_coefficients__coeff_6__w_20__widths_(2, 5, 10, 20)": "nan",
         "bg_value__cwt_coefficients__coeff_7__w_2__widths_(2, 5, 10, 20)": "nan",
         "bg_value__cwt_coefficients__coeff_7__w_5__widths_(2, 5, 10, 20)": "nan",
         "bg_value__cwt_coefficients__coeff_7__w_10__widths_(2, 5, 10, 20)": "nan",
         "bg_value__cwt_coefficients__coeff_7__w_20__widths_(2, 5, 10, 20)": "nan",
         "bg_value__cwt_coefficients__coeff_8__w_2__widths_(2, 5, 10, 20)": "nan",
         "bg_value__cwt_coefficients__coeff_8__w_5__widths_(2, 5, 10, 20)": "nan",
         "bg_value__cwt_coefficients__coeff_8__w_10__widths_(2, 5, 10, 20)": "nan",
         "bg_value__cwt_coefficients__coeff_8__w_20__widths_(2, 5, 10, 20)": "nan",
         "bg_value__cwt_coefficients__coeff_9__w_2__widths_(2, 5, 10, 20)": "nan",
         "bg_value__cwt_coefficients__coeff_9__w_5__widths_(2, 5, 10, 20)": "nan",
         "bg_value__cwt_coefficients__coeff_9__w_10__widths_(2, 5, 10, 20)": "nan",
         "bg_value__cwt_coefficients__coeff_9__w_20__widths_(2, 5, 10, 20)": "nan",
         "bg_value__cwt_coefficients__coeff_10__w_2__widths_(2, 5, 10, 20)": "nan",
         "bg_value__cwt_coefficients__coeff_10__w_5__widths_(2, 5, 10, 20)": "nan",
         "bg_value__cwt_coefficients__coeff_10__w_10__widths_(2, 5, 10, 20)": "nan",
         "bg_value__cwt_coefficients__coeff_10__w_20__widths_(2, 5, 10, 20)": "nan",
         "bg_value__cwt_coefficients__coeff_11__w_2__widths_(2, 5, 10, 20)": "nan",
         "bg_value__cwt_coefficients__coeff_11__w_5__widths_(2, 5, 10, 20)": "nan",
         "bg_value__cwt_coefficients__coeff_11__w_10__widths_(2, 5, 10, 20)": "nan",
         "bg_value__cwt_coefficients__coeff_11__w_20__widths_(2, 5, 10, 20)": "nan",
         "bg_value__cwt_coefficients__coeff_12__w_2__widths_(2, 5, 10, 20)": "nan",
         "bg_value__cwt_coefficients__coeff_12__w_5__widths_(2, 5, 10, 20)": "nan",
         "bg_value__cwt_coefficients__coeff_12__w_10__widths_(2, 5, 10, 20)": "nan",
         "bg_value__cwt_coefficients__coeff_12__w_20__widths_(2, 5, 10, 20)": "nan",
         "bg_value__cwt_coefficients__coeff_13__w_2__widths_(2, 5, 10, 20)": "nan",
         "bg_value__cwt_coefficients__coeff_13__w_5__widths_(2, 5, 10, 20)": "nan",
         "bg_value__cwt_coefficients__coeff_13__w_10__widths_(2, 5, 10, 20)": "nan",
         "bg_value__cwt_coefficients__coeff_13__w_20__widths_(2, 5, 10, 20)": "nan",
         "bg_value__cwt_coefficients__coeff_14__w_2__widths_(2, 5, 10, 20)": "nan",
         "bg_value__cwt_coefficients__coeff_14__w_5__widths_(2, 5, 10, 20)": "nan",
         "bg_value__cwt_coefficients__coeff_14__w_10__widths_(2, 5, 10, 20)": "nan",
         "bg_value__cwt_coefficients__coeff_14__w_20__widths_(2, 5, 10, 20)": "nan",
         "bg_value__spkt_welch_density__coeff_2": 22.16666666666664,
         "bg_value__spkt_welch_density__coeff_5": "nan",
         "bg_value__spkt_welch_density__coeff_8": "nan",
         "bg_value__ar_coefficient__coeff_0__k_10": "nan",
         "bg_value__ar_coefficient__coeff_1__k_10": "nan",
         "bg_value__ar_coefficient__coeff_2__k_10": "nan",
         "bg_value__ar_coefficient__coeff_3__k_10": "nan",
         "bg_value__ar_coefficient__coeff_4__k_10": "nan",
         "bg_value__ar_coefficient__coeff_5__k_10": "nan",
         "bg_value__ar_coefficient__coeff_6__k_10": "nan",
         "bg_value__ar_coefficient__coeff_7__k_10": "nan",
         "bg_value__ar_coefficient__coeff_8__k_10": "nan",
         "bg_value__ar_coefficient__coeff_9__k_10": "nan",
         "bg_value__ar_coefficient__coeff_10__k_10": 0,
         "bg_value__change_quantiles__f_agg_\"mean\"__isabs_False__qh_0.2__ql_0.0": 2,
         "bg_value__change_quantiles__f_agg_\"var\"__isabs_False__qh_0.2__ql_0.0": 0,
         "bg_value__change_quantiles__f_agg_\"mean\"__isabs_True__qh_0.2__ql_0.0": 2,
         "bg_value__change_quantiles__f_agg_\"var\"__isabs_True__qh_0.2__ql_0.0": 0,
         "bg_value__change_quantiles__f_agg_\"mean\"__isabs_False__qh_0.4__ql_0.0": -0.5,
         "bg_value__change_quantiles__f_agg_\"var\"__isabs_False__qh_0.4__ql_0.0": 6.25,
         "bg_value__change_quantiles__f_agg_\"mean\"__isabs_True__qh_0.4__ql_0.0": 2.5,
         "bg_value__change_quantiles__f_agg_\"var\"__isabs_True__qh_0.4__ql_0.0": 0.25,
         "bg_value__change_quantiles__f_agg_\"mean\"__isabs_False__qh_0.6__ql_0.0": 2.3333333333333335,
         "bg_value__change_quantiles__f_agg_\"var\"__isabs_False__qh_0.6__ql_0.0": 20.222222222222225,
         "bg_value__change_quantiles__f_agg_\"mean\"__isabs_True__qh_0.6__ql_0.0": 4.333333333333333,
         "bg_value__change_quantiles__f_agg_\"var\"__isabs_True__qh_0.6__ql_0.0": 6.888888888888888,
         "bg_value__change_quantiles__f_agg_\"mean\"__isabs_False__qh_0.8__ql_0.0": 3,
         "bg_value__change_quantiles__f_agg_\"var\"__isabs_False__qh_0.8__ql_0.0": 16.5,
         "bg_value__change_quantiles__f_agg_\"mean\"__isabs_True__qh_0.8__ql_0.0": 4.5,
         "bg_value__change_quantiles__f_agg_\"var\"__isabs_True__qh_0.8__ql_0.0": 5.25,
         "bg_value__change_quantiles__f_agg_\"mean\"__isabs_False__qh_1.0__ql_0.0": 2.8,
         "bg_value__change_quantiles__f_agg_\"var\"__isabs_False__qh_1.0__ql_0.0": 13.360000000000003,
         "bg_value__change_quantiles__f_agg_\"mean\"__isabs_True__qh_1.0__ql_0.0": 4,
         "bg_value__change_quantiles__f_agg_\"var\"__isabs_True__qh_1.0__ql_0.0": 5.2,
         "bg_value__change_quantiles__f_agg_\"mean\"__isabs_False__qh_0.4__ql_0.2": 0,
         "bg_value__change_quantiles__f_agg_\"var\"__isabs_False__qh_0.4__ql_0.2": 0,
         "bg_value__change_quantiles__f_agg_\"mean\"__isabs_True__qh_0.4__ql_0.2": 0,
         "bg_value__change_quantiles__f_agg_\"var\"__isabs_True__qh_0.4__ql_0.2": 0,
         "bg_value__change_quantiles__f_agg_\"mean\"__isabs_False__qh_0.6__ql_0.2": 8,
         "bg_value__change_quantiles__f_agg_\"var\"__isabs_False__qh_0.6__ql_0.2": 0,
         "bg_value__change_quantiles__f_agg_\"mean\"__isabs_True__qh_0.6__ql_0.2": 8,
         "bg_value__change_quantiles__f_agg_\"var\"__isabs_True__qh_0.6__ql_0.2": 0,
         "bg_value__change_quantiles__f_agg_\"mean\"__isabs_False__qh_0.8__ql_0.2": 6.5,
         "bg_value__change_quantiles__f_agg_\"var\"__isabs_False__qh_0.8__ql_0.2": 2.25,
         "bg_value__change_quantiles__f_agg_\"mean\"__isabs_True__qh_0.8__ql_0.2": 6.5,
         "bg_value__change_quantiles__f_agg_\"var\"__isabs_True__qh_0.8__ql_0.2": 2.25,
         "bg_value__change_quantiles__f_agg_\"mean\"__isabs_False__qh_1.0__ql_0.2": 5,
         "bg_value__change_quantiles__f_agg_\"var\"__isabs_False__qh_1.0__ql_0.2": 6,
         "bg_value__change_quantiles__f_agg_\"mean\"__isabs_True__qh_1.0__ql_0.2": 5,
         "bg_value__change_quantiles__f_agg_\"var\"__isabs_True__qh_1.0__ql_0.2": 6,
         "bg_value__change_quantiles__f_agg_\"mean\"__isabs_False__qh_0.6__ql_0.4": 0,
         "bg_value__change_quantiles__f_agg_\"var\"__isabs_False__qh_0.6__ql_0.4": 0,
         "bg_value__change_quantiles__f_agg_\"mean\"__isabs_True__qh_0.6__ql_0.4": 0,
         "bg_value__change_quantiles__f_agg_\"var\"__isabs_True__qh_0.6__ql_0.4": 0,
         "bg_value__change_quantiles__f_agg_\"mean\"__isabs_False__qh_0.8__ql_0.4": 5,
         "bg_value__change_quantiles__f_agg_\"var\"__isabs_False__qh_0.8__ql_0.4": 0,
         "bg_value__change_quantiles__f_agg_\"mean\"__isabs_True__qh_0.8__ql_0.4": 5,
         "bg_value__change_quantiles__f_agg_\"var\"__isabs_True__qh_0.8__ql_0.4": 0,
         "bg_value__change_quantiles__f_agg_\"mean\"__isabs_False__qh_1.0__ql_0.4": 3.5,
         "bg_value__change_quantiles__f_agg_\"var\"__isabs_False__qh_1.0__ql_0.4": 2.25,
         "bg_value__change_quantiles__f_agg_\"mean\"__isabs_True__qh_1.0__ql_0.4": 3.5,
         "bg_value__change_quantiles__f_agg_\"var\"__isabs_True__qh_1.0__ql_0.4": 2.25,
         "bg_value__change_quantiles__f_agg_\"mean\"__isabs_False__qh_0.8__ql_0.6": 5,
         "bg_value__change_quantiles__f_agg_\"var\"__isabs_False__qh_0.8__ql_0.6": 0,
         "bg_value__change_quantiles__f_agg_\"mean\"__isabs_True__qh_0.8__ql_0.6": 5,
         "bg_value__change_quantiles__f_agg_\"var\"__isabs_True__qh_0.8__ql_0.6": 0,
         "bg_value__change_quantiles__f_agg_\"mean\"__isabs_False__qh_1.0__ql_0.6": 3.5,
         "bg_value__change_quantiles__f_agg_\"var\"__isabs_False__qh_1.0__ql_0.6": 2.25,
         "bg_value__change_quantiles__f_agg_\"mean\"__isabs_True__qh_1.0__ql_0.6": 3.5,
         "bg_value__change_quantiles__f_agg_\"var\"__isabs_True__qh_1.0__ql_0.6": 2.25,
         "bg_value__change_quantiles__f_agg_\"mean\"__isabs_False__qh_1.0__ql_0.8": 2,
         "bg_value__change_quantiles__f_agg_\"var\"__isabs_False__qh_1.0__ql_0.8": 0,
         "bg_value__change_quantiles__f_agg_\"mean\"__isabs_True__qh_1.0__ql_0.8": 2,
         "bg_value__change_quantiles__f_agg_\"var\"__isabs_True__qh_1.0__ql_0.8": 0,
         "bg_value__fft_coefficient__attr_\"real\"__coeff_0": 1217,
         "bg_value__fft_coefficient__attr_\"real\"__coeff_1": -6.999999999999999,
         "bg_value__fft_coefficient__attr_\"real\"__coeff_2": -4.000000000000001,
         "bg_value__fft_coefficient__attr_\"real\"__coeff_3": -7,
         "bg_value__fft_coefficient__attr_\"real\"__coeff_4": "nan",
         "bg_value__fft_coefficient__attr_\"real\"__coeff_5": "nan",
         "bg_value__fft_coefficient__attr_\"real\"__coeff_6": "nan",
         "bg_value__fft_coefficient__attr_\"real\"__coeff_7": "nan",
         "bg_value__fft_coefficient__attr_\"real\"__coeff_8": "nan",
         "bg_value__fft_coefficient__attr_\"real\"__coeff_9": "nan",
         "bg_value__fft_coefficient__attr_\"real\"__coeff_10": "nan",
         "bg_value__fft_coefficient__attr_\"real\"__coeff_11": "nan",
         "bg_value__fft_coefficient__attr_\"real\"__coeff_12": "nan",
         "bg_value__fft_coefficient__attr_\"real\"__coeff_13": "nan",
         "bg_value__fft_coefficient__attr_\"real\"__coeff_14": "nan",
         "bg_value__fft_coefficient__attr_\"real\"__coeff_15": "nan",
         "bg_value__fft_coefficient__attr_\"real\"__coeff_16": "nan",
         "bg_value__fft_coefficient__attr_\"real\"__coeff_17": "nan",
         "bg_value__fft_coefficient__attr_\"real\"__coeff_18": "nan",
         "bg_value__fft_coefficient__attr_\"real\"__coeff_19": "nan",
         "bg_value__fft_coefficient__attr_\"real\"__coeff_20": "nan",
         "bg_value__fft_coefficient__attr_\"real\"__coeff_21": "nan",
         "bg_value__fft_coefficient__attr_\"real\"__coeff_22": "nan",
         "bg_value__fft_coefficient__attr_\"real\"__coeff_23": "nan",
         "bg_value__fft_coefficient__attr_\"real\"__coeff_24": "nan",
         "bg_value__fft_coefficient__attr_\"real\"__coeff_25": "nan",
         "bg_value__fft_coefficient__attr_\"real\"__coeff_26": "nan",
         "bg_value__fft_coefficient__attr_\"real\"__coeff_27": "nan",
         "bg_value__fft_coefficient__attr_\"real\"__coeff_28": "nan",
         "bg_value__fft_coefficient__attr_\"real\"__coeff_29": "nan",
         "bg_value__fft_coefficient__attr_\"real\"__coeff_30": "nan",
         "bg_value__fft_coefficient__attr_\"real\"__coeff_31": "nan",
         "bg_value__fft_coefficient__attr_\"real\"__coeff_32": "nan",
         "bg_value__fft_coefficient__attr_\"real\"__coeff_33": "nan",
         "bg_value__fft_coefficient__attr_\"real\"__coeff_34": "nan",
         "bg_value__fft_coefficient__attr_\"real\"__coeff_35": "nan",
         "bg_value__fft_coefficient__attr_\"real\"__coeff_36": "nan",
         "bg_value__fft_coefficient__attr_\"real\"__coeff_37": "nan",
         "bg_value__fft_coefficient__attr_\"real\"__coeff_38": "nan",
         "bg_value__fft_coefficient__attr_\"real\"__coeff_39": "nan",
         "bg_value__fft_coefficient__attr_\"real\"__coeff_40": "nan",
         "bg_value__fft_coefficient__attr_\"real\"__coeff_41": "nan",
         "bg_value__fft_coefficient__attr_\"real\"__coeff_42": "nan",
         "bg_value__fft_coefficient__attr_\"real\"__coeff_43": "nan",
         "bg_value__fft_coefficient__attr_\"real\"__coeff_44": "nan",
         "bg_value__fft_coefficient__attr_\"real\"__coeff_45": "nan",
         "bg_value__fft_coefficient__attr_\"real\"__coeff_46": "nan",
         "bg_value__fft_coefficient__attr_\"real\"__coeff_47": "nan",
         "bg_value__fft_coefficient__attr_\"real\"__coeff_48": "nan",
         "bg_value__fft_coefficient__attr_\"real\"__coeff_49": "nan",
         "bg_value__fft_coefficient__attr_\"real\"__coeff_50": "nan",
         "bg_value__fft_coefficient__attr_\"real\"__coeff_51": "nan",
         "bg_value__fft_coefficient__attr_\"real\"__coeff_52": "nan",
         "bg_value__fft_coefficient__attr_\"real\"__coeff_53": "nan",
         "bg_value__fft_coefficient__attr_\"real\"__coeff_54": "nan",
         "bg_value__fft_coefficient__attr_\"real\"__coeff_55": "nan",
         "bg_value__fft_coefficient__attr_\"real\"__coeff_56": "nan",
         "bg_value__fft_coefficient__attr_\"real\"__coeff_57": "nan",
         "bg_value__fft_coefficient__attr_\"real\"__coeff_58": "nan",
         "bg_value__fft_coefficient__attr_\"real\"__coeff_59": "nan",
         "bg_value__fft_coefficient__attr_\"real\"__coeff_60": "nan",
         "bg_value__fft_coefficient__attr_\"real\"__coeff_61": "nan",
         "bg_value__fft_coefficient__attr_\"real\"__coeff_62": "nan",
         "bg_value__fft_coefficient__attr_\"real\"__coeff_63": "nan",
         "bg_value__fft_coefficient__attr_\"real\"__coeff_64": "nan",
         "bg_value__fft_coefficient__attr_\"real\"__coeff_65": "nan",
         "bg_value__fft_coefficient__attr_\"real\"__coeff_66": "nan",
         "bg_value__fft_coefficient__attr_\"real\"__coeff_67": "nan",
         "bg_value__fft_coefficient__attr_\"real\"__coeff_68": "nan",
         "bg_value__fft_coefficient__attr_\"real\"__coeff_69": "nan",
         "bg_value__fft_coefficient__attr_\"real\"__coeff_70": "nan",
         "bg_value__fft_coefficient__attr_\"real\"__coeff_71": "nan",
         "bg_value__fft_coefficient__attr_\"real\"__coeff_72": "nan",
         "bg_value__fft_coefficient__attr_\"real\"__coeff_73": "nan",
         "bg_value__fft_coefficient__attr_\"real\"__coeff_74": "nan",
         "bg_value__fft_coefficient__attr_\"real\"__coeff_75": "nan",
         "bg_value__fft_coefficient__attr_\"real\"__coeff_76": "nan",
         "bg_value__fft_coefficient__attr_\"real\"__coeff_77": "nan",
         "bg_value__fft_coefficient__attr_\"real\"__coeff_78": "nan",
         "bg_value__fft_coefficient__attr_\"real\"__coeff_79": "nan",
         "bg_value__fft_coefficient__attr_\"real\"__coeff_80": "nan",
         "bg_value__fft_coefficient__attr_\"real\"__coeff_81": "nan",
         "bg_value__fft_coefficient__attr_\"real\"__coeff_82": "nan",
         "bg_value__fft_coefficient__attr_\"real\"__coeff_83": "nan",
         "bg_value__fft_coefficient__attr_\"real\"__coeff_84": "nan",
         "bg_value__fft_coefficient__attr_\"real\"__coeff_85": "nan",
         "bg_value__fft_coefficient__attr_\"real\"__coeff_86": "nan",
         "bg_value__fft_coefficient__attr_\"real\"__coeff_87": "nan",
         "bg_value__fft_coefficient__attr_\"real\"__coeff_88": "nan",
         "bg_value__fft_coefficient__attr_\"real\"__coeff_89": "nan",
         "bg_value__fft_coefficient__attr_\"real\"__coeff_90": "nan",
         "bg_value__fft_coefficient__attr_\"real\"__coeff_91": "nan",
         "bg_value__fft_coefficient__attr_\"real\"__coeff_92": "nan",
         "bg_value__fft_coefficient__attr_\"real\"__coeff_93": "nan",
         "bg_value__fft_coefficient__attr_\"real\"__coeff_94": "nan",
         "bg_value__fft_coefficient__attr_\"real\"__coeff_95": "nan",
         "bg_value__fft_coefficient__attr_\"real\"__coeff_96": "nan",
         "bg_value__fft_coefficient__attr_\"real\"__coeff_97": "nan",
         "bg_value__fft_coefficient__attr_\"real\"__coeff_98": "nan",
         "bg_value__fft_coefficient__attr_\"real\"__coeff_99": "nan",
         "bg_value__fft_coefficient__attr_\"imag\"__coeff_0": 0,
         "bg_value__fft_coefficient__attr_\"imag\"__coeff_1": 25.980762113533157,
         "bg_value__fft_coefficient__attr_\"imag\"__coeff_2": 3.4641016151377535,
         "bg_value__fft_coefficient__attr_\"imag\"__coeff_3": 0,
         "bg_value__fft_coefficient__attr_\"imag\"__coeff_4": "nan",
         "bg_value__fft_coefficient__attr_\"imag\"__coeff_5": "nan",
         "bg_value__fft_coefficient__attr_\"imag\"__coeff_6": "nan",
         "bg_value__fft_coefficient__attr_\"imag\"__coeff_7": "nan",
         "bg_value__fft_coefficient__attr_\"imag\"__coeff_8": "nan",
         "bg_value__fft_coefficient__attr_\"imag\"__coeff_9": "nan",
         "bg_value__fft_coefficient__attr_\"imag\"__coeff_10": "nan",
         "bg_value__fft_coefficient__attr_\"imag\"__coeff_11": "nan",
         "bg_value__fft_coefficient__attr_\"imag\"__coeff_12": "nan",
         "bg_value__fft_coefficient__attr_\"imag\"__coeff_13": "nan",
         "bg_value__fft_coefficient__attr_\"imag\"__coeff_14": "nan",
         "bg_value__fft_coefficient__attr_\"imag\"__coeff_15": "nan",
         "bg_value__fft_coefficient__attr_\"imag\"__coeff_16": "nan",
         "bg_value__fft_coefficient__attr_\"imag\"__coeff_17": "nan",
         "bg_value__fft_coefficient__attr_\"imag\"__coeff_18": "nan",
         "bg_value__fft_coefficient__attr_\"imag\"__coeff_19": "nan",
         "bg_value__fft_coefficient__attr_\"imag\"__coeff_20": "nan",
         "bg_value__fft_coefficient__attr_\"imag\"__coeff_21": "nan",
         "bg_value__fft_coefficient__attr_\"imag\"__coeff_22": "nan",
         "bg_value__fft_coefficient__attr_\"imag\"__coeff_23": "nan",
         "bg_value__fft_coefficient__attr_\"imag\"__coeff_24": "nan",
         "bg_value__fft_coefficient__attr_\"imag\"__coeff_25": "nan",
         "bg_value__fft_coefficient__attr_\"imag\"__coeff_26": "nan",
         "bg_value__fft_coefficient__attr_\"imag\"__coeff_27": "nan",
         "bg_value__fft_coefficient__attr_\"imag\"__coeff_28": "nan",
         "bg_value__fft_coefficient__attr_\"imag\"__coeff_29": "nan",
         "bg_value__fft_coefficient__attr_\"imag\"__coeff_30": "nan",
         "bg_value__fft_coefficient__attr_\"imag\"__coeff_31": "nan",
         "bg_value__fft_coefficient__attr_\"imag\"__coeff_32": "nan",
         "bg_value__fft_coefficient__attr_\"imag\"__coeff_33": "nan",
         "bg_value__fft_coefficient__attr_\"imag\"__coeff_34": "nan",
         "bg_value__fft_coefficient__attr_\"imag\"__coeff_35": "nan",
         "bg_value__fft_coefficient__attr_\"imag\"__coeff_36": "nan",
         "bg_value__fft_coefficient__attr_\"imag\"__coeff_37": "nan",
         "bg_value__fft_coefficient__attr_\"imag\"__coeff_38": "nan",
         "bg_value__fft_coefficient__attr_\"imag\"__coeff_39": "nan",
         "bg_value__fft_coefficient__attr_\"imag\"__coeff_40": "nan",
         "bg_value__fft_coefficient__attr_\"imag\"__coeff_41": "nan",
         "bg_value__fft_coefficient__attr_\"imag\"__coeff_42": "nan",
         "bg_value__fft_coefficient__attr_\"imag\"__coeff_43": "nan",
         "bg_value__fft_coefficient__attr_\"imag\"__coeff_44": "nan",
         "bg_value__fft_coefficient__attr_\"imag\"__coeff_45": "nan",
         "bg_value__fft_coefficient__attr_\"imag\"__coeff_46": "nan",
         "bg_value__fft_coefficient__attr_\"imag\"__coeff_47": "nan",
         "bg_value__fft_coefficient__attr_\"imag\"__coeff_48": "nan",
         "bg_value__fft_coefficient__attr_\"imag\"__coeff_49": "nan",
         "bg_value__fft_coefficient__attr_\"imag\"__coeff_50": "nan",
         "bg_value__fft_coefficient__attr_\"imag\"__coeff_51": "nan",
         "bg_value__fft_coefficient__attr_\"imag\"__coeff_52": "nan",
         "bg_value__fft_coefficient__attr_\"imag\"__coeff_53": "nan",
         "bg_value__fft_coefficient__attr_\"imag\"__coeff_54": "nan",
         "bg_value__fft_coefficient__attr_\"imag\"__coeff_55": "nan",
         "bg_value__fft_coefficient__attr_\"imag\"__coeff_56": "nan",
         "bg_value__fft_coefficient__attr_\"imag\"__coeff_57": "nan",
         "bg_value__fft_coefficient__attr_\"imag\"__coeff_58": "nan",
         "bg_value__fft_coefficient__attr_\"imag\"__coeff_59": "nan",
         "bg_value__fft_coefficient__attr_\"imag\"__coeff_60": "nan",
         "bg_value__fft_coefficient__attr_\"imag\"__coeff_61": "nan",
         "bg_value__fft_coefficient__attr_\"imag\"__coeff_62": "nan",
         "bg_value__fft_coefficient__attr_\"imag\"__coeff_63": "nan",
         "bg_value__fft_coefficient__attr_\"imag\"__coeff_64": "nan",
         "bg_value__fft_coefficient__attr_\"imag\"__coeff_65": "nan",
         "bg_value__fft_coefficient__attr_\"imag\"__coeff_66": "nan",
         "bg_value__fft_coefficient__attr_\"imag\"__coeff_67": "nan",
         "bg_value__fft_coefficient__attr_\"imag\"__coeff_68": "nan",
         "bg_value__fft_coefficient__attr_\"imag\"__coeff_69": "nan",
         "bg_value__fft_coefficient__attr_\"imag\"__coeff_70": "nan",
         "bg_value__fft_coefficient__attr_\"imag\"__coeff_71": "nan",
         "bg_value__fft_coefficient__attr_\"imag\"__coeff_72": "nan",
         "bg_value__fft_coefficient__attr_\"imag\"__coeff_73": "nan",
         "bg_value__fft_coefficient__attr_\"imag\"__coeff_74": "nan",
         "bg_value__fft_coefficient__attr_\"imag\"__coeff_75": "nan",
         "bg_value__fft_coefficient__attr_\"imag\"__coeff_76": "nan",
         "bg_value__fft_coefficient__attr_\"imag\"__coeff_77": "nan",
         "bg_value__fft_coefficient__attr_\"imag\"__coeff_78": "nan",
         "bg_value__fft_coefficient__attr_\"imag\"__coeff_79": "nan",
         "bg_value__fft_coefficient__attr_\"imag\"__coeff_80": "nan",
         "bg_value__fft_coefficient__attr_\"imag\"__coeff_81": "nan",
         "bg_value__fft_coefficient__attr_\"imag\"__coeff_82": "nan",
         "bg_value__fft_coefficient__attr_\"imag\"__coeff_83": "nan",
         "bg_value__fft_coefficient__attr_\"imag\"__coeff_84": "nan",
         "bg_value__fft_coefficient__attr_\"imag\"__coeff_85": "nan",
         "bg_value__fft_coefficient__attr_\"imag\"__coeff_86": "nan",
         "bg_value__fft_coefficient__attr_\"imag\"__coeff_87": "nan",
         "bg_value__fft_coefficient__attr_\"imag\"__coeff_88": "nan",
         "bg_value__fft_coefficient__attr_\"imag\"__coeff_89": "nan",
         "bg_value__fft_coefficient__attr_\"imag\"__coeff_90": "nan",
         "bg_value__fft_coefficient__attr_\"imag\"__coeff_91": "nan",
         "bg_value__fft_coefficient__attr_\"imag\"__coeff_92": "nan",
         "bg_value__fft_coefficient__attr_\"imag\"__coeff_93": "nan",
         "bg_value__fft_coefficient__attr_\"imag\"__coeff_94": "nan",
         "bg_value__fft_coefficient__attr_\"imag\"__coeff_95": "nan",
         "bg_value__fft_coefficient__attr_\"imag\"__coeff_96": "nan",
         "bg_value__fft_coefficient__attr_\"imag\"__coeff_97": "nan",
         "bg_value__fft_coefficient__attr_\"imag\"__coeff_98": "nan",
         "bg_value__fft_coefficient__attr_\"imag\"__coeff_99": "nan",
         "bg_value__fft_coefficient__attr_\"abs\"__coeff_0": 1217,
         "bg_value__fft_coefficient__attr_\"abs\"__coeff_1": 26.90724809414742,
         "bg_value__fft_coefficient__attr_\"abs\"__coeff_2": 5.291502622129181,
         "bg_value__fft_coefficient__attr_\"abs\"__coeff_3": 7,
         "bg_value__fft_coefficient__attr_\"abs\"__coeff_4": "nan",
         "bg_value__fft_coefficient__attr_\"abs\"__coeff_5": "nan",
         "bg_value__fft_coefficient__attr_\"abs\"__coeff_6": "nan",
         "bg_value__fft_coefficient__attr_\"abs\"__coeff_7": "nan",
         "bg_value__fft_coefficient__attr_\"abs\"__coeff_8": "nan",
         "bg_value__fft_coefficient__attr_\"abs\"__coeff_9": "nan",
         "bg_value__fft_coefficient__attr_\"abs\"__coeff_10": "nan",
         "bg_value__fft_coefficient__attr_\"abs\"__coeff_11": "nan",
         "bg_value__fft_coefficient__attr_\"abs\"__coeff_12": "nan",
         "bg_value__fft_coefficient__attr_\"abs\"__coeff_13": "nan",
         "bg_value__fft_coefficient__attr_\"abs\"__coeff_14": "nan",
         "bg_value__fft_coefficient__attr_\"abs\"__coeff_15": "nan",
         "bg_value__fft_coefficient__attr_\"abs\"__coeff_16": "nan",
         "bg_value__fft_coefficient__attr_\"abs\"__coeff_17": "nan",
         "bg_value__fft_coefficient__attr_\"abs\"__coeff_18": "nan",
         "bg_value__fft_coefficient__attr_\"abs\"__coeff_19": "nan",
         "bg_value__fft_coefficient__attr_\"abs\"__coeff_20": "nan",
         "bg_value__fft_coefficient__attr_\"abs\"__coeff_21": "nan",
         "bg_value__fft_coefficient__attr_\"abs\"__coeff_22": "nan",
         "bg_value__fft_coefficient__attr_\"abs\"__coeff_23": "nan",
         "bg_value__fft_coefficient__attr_\"abs\"__coeff_24": "nan",
         "bg_value__fft_coefficient__attr_\"abs\"__coeff_25": "nan",
         "bg_value__fft_coefficient__attr_\"abs\"__coeff_26": "nan",
         "bg_value__fft_coefficient__attr_\"abs\"__coeff_27": "nan",
         "bg_value__fft_coefficient__attr_\"abs\"__coeff_28": "nan",
         "bg_value__fft_coefficient__attr_\"abs\"__coeff_29": "nan",
         "bg_value__fft_coefficient__attr_\"abs\"__coeff_30": "nan",
         "bg_value__fft_coefficient__attr_\"abs\"__coeff_31": "nan",
         "bg_value__fft_coefficient__attr_\"abs\"__coeff_32": "nan",
         "bg_value__fft_coefficient__attr_\"abs\"__coeff_33": "nan",
         "bg_value__fft_coefficient__attr_\"abs\"__coeff_34": "nan",
         "bg_value__fft_coefficient__attr_\"abs\"__coeff_35": "nan",
         "_deepnote_index_column": 2993
        }
       ]
      },
      "text/plain": "      bg_value__variance_larger_than_standard_deviation  \\\n0                                                   1.0   \n1                                                   1.0   \n2                                                   1.0   \n3                                                   1.0   \n4                                                   1.0   \n...                                                 ...   \n2989                                                1.0   \n2990                                                1.0   \n2991                                                1.0   \n2992                                                1.0   \n2993                                                1.0   \n\n      bg_value__has_duplicate_max  bg_value__has_duplicate_min  \\\n0                             0.0                          0.0   \n1                             0.0                          0.0   \n2                             0.0                          0.0   \n3                             0.0                          0.0   \n4                             0.0                          0.0   \n...                           ...                          ...   \n2989                          0.0                          0.0   \n2990                          0.0                          0.0   \n2991                          0.0                          0.0   \n2992                          0.0                          0.0   \n2993                          0.0                          0.0   \n\n      bg_value__has_duplicate  bg_value__sum_values  bg_value__abs_energy  \\\n0                         0.0                 662.0               73694.0   \n1                         0.0                 696.0               81718.0   \n2                         0.0                 740.0               92278.0   \n3                         0.0                 776.0              101062.0   \n4                         0.0                 809.0              109543.0   \n...                       ...                   ...                   ...   \n2989                      0.0                1073.0              194245.0   \n2990                      0.0                1126.0              212318.0   \n2991                      0.0                1169.0              228099.0   \n2992                      0.0                1199.0              239799.0   \n2993                      0.0                1217.0              247107.0   \n\n      bg_value__mean_abs_change  bg_value__mean_change  \\\n0                           6.4                    5.2   \n1                           7.4                    7.4   \n2                           7.6                    7.6   \n3                           6.4                    5.6   \n4                           5.8                    5.0   \n...                         ...                    ...   \n2989                       11.4                   10.2   \n2990                        8.2                    7.0   \n2991                        6.2                    5.0   \n2992                        4.4                    3.2   \n2993                        4.0                    2.8   \n\n      bg_value__mean_second_derivative_central  bg_value__median  ...  \\\n0                                        1.250             108.0  ...   \n1                                        0.250             116.0  ...   \n2                                       -0.125             123.5  ...   \n3                                       -1.250             131.0  ...   \n4                                       -0.250             137.5  ...   \n...                                        ...               ...  ...   \n2989                                    -2.625             187.0  ...   \n2990                                    -2.000             194.5  ...   \n2991                                    -0.750             196.0  ...   \n2992                                     0.125             197.5  ...   \n2993                                     0.625             201.5  ...   \n\n      bg_value__matrix_profile__feature_\"max\"__threshold_0.98  \\\n0                                                   NaN         \n1                                                   NaN         \n2                                                   NaN         \n3                                                   NaN         \n4                                                   NaN         \n...                                                 ...         \n2989                                                NaN         \n2990                                                NaN         \n2991                                                NaN         \n2992                                                NaN         \n2993                                                NaN         \n\n      bg_value__matrix_profile__feature_\"mean\"__threshold_0.98  \\\n0                                                   NaN          \n1                                                   NaN          \n2                                                   NaN          \n3                                                   NaN          \n4                                                   NaN          \n...                                                 ...          \n2989                                                NaN          \n2990                                                NaN          \n2991                                                NaN          \n2992                                                NaN          \n2993                                                NaN          \n\n      bg_value__matrix_profile__feature_\"median\"__threshold_0.98  \\\n0                                                   NaN            \n1                                                   NaN            \n2                                                   NaN            \n3                                                   NaN            \n4                                                   NaN            \n...                                                 ...            \n2989                                                NaN            \n2990                                                NaN            \n2991                                                NaN            \n2992                                                NaN            \n2993                                                NaN            \n\n      bg_value__matrix_profile__feature_\"25\"__threshold_0.98  \\\n0                                                   NaN        \n1                                                   NaN        \n2                                                   NaN        \n3                                                   NaN        \n4                                                   NaN        \n...                                                 ...        \n2989                                                NaN        \n2990                                                NaN        \n2991                                                NaN        \n2992                                                NaN        \n2993                                                NaN        \n\n      bg_value__matrix_profile__feature_\"75\"__threshold_0.98  start   end  \\\n0                                                   NaN           0     5   \n1                                                   NaN           1     6   \n2                                                   NaN           2     7   \n3                                                   NaN           3     8   \n4                                                   NaN           4     9   \n...                                                 ...         ...   ...   \n2989                                                NaN        2989  2994   \n2990                                                NaN        2990  2995   \n2991                                                NaN        2991  2996   \n2992                                                NaN        2992  2997   \n2993                                                NaN        2993  2998   \n\n      start_time  end_time  label  \n0           0.00      0.42    135  \n1           0.08      0.50    142  \n2           0.17      0.58    140  \n3           0.25      0.67    145  \n4           0.33      0.75    148  \n...          ...       ...    ...  \n2989      279.68    280.10    197  \n2990      279.77    280.18    205  \n2991      279.85    280.27    210  \n2992      279.93    280.35    212  \n2993      280.02    280.43    215  \n\n[2994 rows x 792 columns]",
      "text/html": "<div>\n<style scoped>\n    .dataframe tbody tr th:only-of-type {\n        vertical-align: middle;\n    }\n\n    .dataframe tbody tr th {\n        vertical-align: top;\n    }\n\n    .dataframe thead th {\n        text-align: right;\n    }\n</style>\n<table border=\"1\" class=\"dataframe\">\n  <thead>\n    <tr style=\"text-align: right;\">\n      <th></th>\n      <th>bg_value__variance_larger_than_standard_deviation</th>\n      <th>bg_value__has_duplicate_max</th>\n      <th>bg_value__has_duplicate_min</th>\n      <th>bg_value__has_duplicate</th>\n      <th>bg_value__sum_values</th>\n      <th>bg_value__abs_energy</th>\n      <th>bg_value__mean_abs_change</th>\n      <th>bg_value__mean_change</th>\n      <th>bg_value__mean_second_derivative_central</th>\n      <th>bg_value__median</th>\n      <th>...</th>\n      <th>bg_value__matrix_profile__feature_\"max\"__threshold_0.98</th>\n      <th>bg_value__matrix_profile__feature_\"mean\"__threshold_0.98</th>\n      <th>bg_value__matrix_profile__feature_\"median\"__threshold_0.98</th>\n      <th>bg_value__matrix_profile__feature_\"25\"__threshold_0.98</th>\n      <th>bg_value__matrix_profile__feature_\"75\"__threshold_0.98</th>\n      <th>start</th>\n      <th>end</th>\n      <th>start_time</th>\n      <th>end_time</th>\n      <th>label</th>\n    </tr>\n  </thead>\n  <tbody>\n    <tr>\n      <th>0</th>\n      <td>1.0</td>\n      <td>0.0</td>\n      <td>0.0</td>\n      <td>0.0</td>\n      <td>662.0</td>\n      <td>73694.0</td>\n      <td>6.4</td>\n      <td>5.2</td>\n      <td>1.250</td>\n      <td>108.0</td>\n      <td>...</td>\n      <td>NaN</td>\n      <td>NaN</td>\n      <td>NaN</td>\n      <td>NaN</td>\n      <td>NaN</td>\n      <td>0</td>\n      <td>5</td>\n      <td>0.00</td>\n      <td>0.42</td>\n      <td>135</td>\n    </tr>\n    <tr>\n      <th>1</th>\n      <td>1.0</td>\n      <td>0.0</td>\n      <td>0.0</td>\n      <td>0.0</td>\n      <td>696.0</td>\n      <td>81718.0</td>\n      <td>7.4</td>\n      <td>7.4</td>\n      <td>0.250</td>\n      <td>116.0</td>\n      <td>...</td>\n      <td>NaN</td>\n      <td>NaN</td>\n      <td>NaN</td>\n      <td>NaN</td>\n      <td>NaN</td>\n      <td>1</td>\n      <td>6</td>\n      <td>0.08</td>\n      <td>0.50</td>\n      <td>142</td>\n    </tr>\n    <tr>\n      <th>2</th>\n      <td>1.0</td>\n      <td>0.0</td>\n      <td>0.0</td>\n      <td>0.0</td>\n      <td>740.0</td>\n      <td>92278.0</td>\n      <td>7.6</td>\n      <td>7.6</td>\n      <td>-0.125</td>\n      <td>123.5</td>\n      <td>...</td>\n      <td>NaN</td>\n      <td>NaN</td>\n      <td>NaN</td>\n      <td>NaN</td>\n      <td>NaN</td>\n      <td>2</td>\n      <td>7</td>\n      <td>0.17</td>\n      <td>0.58</td>\n      <td>140</td>\n    </tr>\n    <tr>\n      <th>3</th>\n      <td>1.0</td>\n      <td>0.0</td>\n      <td>0.0</td>\n      <td>0.0</td>\n      <td>776.0</td>\n      <td>101062.0</td>\n      <td>6.4</td>\n      <td>5.6</td>\n      <td>-1.250</td>\n      <td>131.0</td>\n      <td>...</td>\n      <td>NaN</td>\n      <td>NaN</td>\n      <td>NaN</td>\n      <td>NaN</td>\n      <td>NaN</td>\n      <td>3</td>\n      <td>8</td>\n      <td>0.25</td>\n      <td>0.67</td>\n      <td>145</td>\n    </tr>\n    <tr>\n      <th>4</th>\n      <td>1.0</td>\n      <td>0.0</td>\n      <td>0.0</td>\n      <td>0.0</td>\n      <td>809.0</td>\n      <td>109543.0</td>\n      <td>5.8</td>\n      <td>5.0</td>\n      <td>-0.250</td>\n      <td>137.5</td>\n      <td>...</td>\n      <td>NaN</td>\n      <td>NaN</td>\n      <td>NaN</td>\n      <td>NaN</td>\n      <td>NaN</td>\n      <td>4</td>\n      <td>9</td>\n      <td>0.33</td>\n      <td>0.75</td>\n      <td>148</td>\n    </tr>\n    <tr>\n      <th>...</th>\n      <td>...</td>\n      <td>...</td>\n      <td>...</td>\n      <td>...</td>\n      <td>...</td>\n      <td>...</td>\n      <td>...</td>\n      <td>...</td>\n      <td>...</td>\n      <td>...</td>\n      <td>...</td>\n      <td>...</td>\n      <td>...</td>\n      <td>...</td>\n      <td>...</td>\n      <td>...</td>\n      <td>...</td>\n      <td>...</td>\n      <td>...</td>\n      <td>...</td>\n      <td>...</td>\n    </tr>\n    <tr>\n      <th>2989</th>\n      <td>1.0</td>\n      <td>0.0</td>\n      <td>0.0</td>\n      <td>0.0</td>\n      <td>1073.0</td>\n      <td>194245.0</td>\n      <td>11.4</td>\n      <td>10.2</td>\n      <td>-2.625</td>\n      <td>187.0</td>\n      <td>...</td>\n      <td>NaN</td>\n      <td>NaN</td>\n      <td>NaN</td>\n      <td>NaN</td>\n      <td>NaN</td>\n      <td>2989</td>\n      <td>2994</td>\n      <td>279.68</td>\n      <td>280.10</td>\n      <td>197</td>\n    </tr>\n    <tr>\n      <th>2990</th>\n      <td>1.0</td>\n      <td>0.0</td>\n      <td>0.0</td>\n      <td>0.0</td>\n      <td>1126.0</td>\n      <td>212318.0</td>\n      <td>8.2</td>\n      <td>7.0</td>\n      <td>-2.000</td>\n      <td>194.5</td>\n      <td>...</td>\n      <td>NaN</td>\n      <td>NaN</td>\n      <td>NaN</td>\n      <td>NaN</td>\n      <td>NaN</td>\n      <td>2990</td>\n      <td>2995</td>\n      <td>279.77</td>\n      <td>280.18</td>\n      <td>205</td>\n    </tr>\n    <tr>\n      <th>2991</th>\n      <td>1.0</td>\n      <td>0.0</td>\n      <td>0.0</td>\n      <td>0.0</td>\n      <td>1169.0</td>\n      <td>228099.0</td>\n      <td>6.2</td>\n      <td>5.0</td>\n      <td>-0.750</td>\n      <td>196.0</td>\n      <td>...</td>\n      <td>NaN</td>\n      <td>NaN</td>\n      <td>NaN</td>\n      <td>NaN</td>\n      <td>NaN</td>\n      <td>2991</td>\n      <td>2996</td>\n      <td>279.85</td>\n      <td>280.27</td>\n      <td>210</td>\n    </tr>\n    <tr>\n      <th>2992</th>\n      <td>1.0</td>\n      <td>0.0</td>\n      <td>0.0</td>\n      <td>0.0</td>\n      <td>1199.0</td>\n      <td>239799.0</td>\n      <td>4.4</td>\n      <td>3.2</td>\n      <td>0.125</td>\n      <td>197.5</td>\n      <td>...</td>\n      <td>NaN</td>\n      <td>NaN</td>\n      <td>NaN</td>\n      <td>NaN</td>\n      <td>NaN</td>\n      <td>2992</td>\n      <td>2997</td>\n      <td>279.93</td>\n      <td>280.35</td>\n      <td>212</td>\n    </tr>\n    <tr>\n      <th>2993</th>\n      <td>1.0</td>\n      <td>0.0</td>\n      <td>0.0</td>\n      <td>0.0</td>\n      <td>1217.0</td>\n      <td>247107.0</td>\n      <td>4.0</td>\n      <td>2.8</td>\n      <td>0.625</td>\n      <td>201.5</td>\n      <td>...</td>\n      <td>NaN</td>\n      <td>NaN</td>\n      <td>NaN</td>\n      <td>NaN</td>\n      <td>NaN</td>\n      <td>2993</td>\n      <td>2998</td>\n      <td>280.02</td>\n      <td>280.43</td>\n      <td>215</td>\n    </tr>\n  </tbody>\n</table>\n<p>2994 rows × 792 columns</p>\n</div>"
     },
     "metadata": {}
    }
   ]
  },
  {
   "cell_type": "code",
   "metadata": {
    "tags": [],
    "cell_id": "00005-b47b59b7-ac49-4cb9-b59c-e79078ce64f2",
    "deepnote_to_be_reexecuted": false,
    "source_hash": "1b4ef51a",
    "execution_start": 1623858424383,
    "execution_millis": 526,
    "deepnote_cell_type": "code"
   },
   "source": "from src.helpers.dataframe import save_df, read_df\ndf3 = df2.drop(columns=['start', 'end', 'start_time', 'end_time'])\ndf3",
   "execution_count": 14,
   "outputs": [
    {
     "output_type": "execute_result",
     "execution_count": 14,
     "data": {
      "application/vnd.deepnote.dataframe.v2+json": {
       "row_count": 2994,
       "column_count": 788,
       "columns": [
        {
         "name": "bg_value__variance_larger_than_standard_deviation",
         "dtype": "float64",
         "stats": {
          "unique_count": 2,
          "nan_count": 0,
          "min": "0.0",
          "max": "1.0",
          "histogram": [
           {
            "bin_start": 0,
            "bin_end": 0.1,
            "count": 193
           },
           {
            "bin_start": 0.1,
            "bin_end": 0.2,
            "count": 0
           },
           {
            "bin_start": 0.2,
            "bin_end": 0.30000000000000004,
            "count": 0
           },
           {
            "bin_start": 0.30000000000000004,
            "bin_end": 0.4,
            "count": 0
           },
           {
            "bin_start": 0.4,
            "bin_end": 0.5,
            "count": 0
           },
           {
            "bin_start": 0.5,
            "bin_end": 0.6000000000000001,
            "count": 0
           },
           {
            "bin_start": 0.6000000000000001,
            "bin_end": 0.7000000000000001,
            "count": 0
           },
           {
            "bin_start": 0.7000000000000001,
            "bin_end": 0.8,
            "count": 0
           },
           {
            "bin_start": 0.8,
            "bin_end": 0.9,
            "count": 0
           },
           {
            "bin_start": 0.9,
            "bin_end": 1,
            "count": 2801
           }
          ]
         }
        },
        {
         "name": "bg_value__has_duplicate_max",
         "dtype": "float64",
         "stats": {
          "unique_count": 2,
          "nan_count": 0,
          "min": "0.0",
          "max": "1.0",
          "histogram": [
           {
            "bin_start": 0,
            "bin_end": 0.1,
            "count": 2576
           },
           {
            "bin_start": 0.1,
            "bin_end": 0.2,
            "count": 0
           },
           {
            "bin_start": 0.2,
            "bin_end": 0.30000000000000004,
            "count": 0
           },
           {
            "bin_start": 0.30000000000000004,
            "bin_end": 0.4,
            "count": 0
           },
           {
            "bin_start": 0.4,
            "bin_end": 0.5,
            "count": 0
           },
           {
            "bin_start": 0.5,
            "bin_end": 0.6000000000000001,
            "count": 0
           },
           {
            "bin_start": 0.6000000000000001,
            "bin_end": 0.7000000000000001,
            "count": 0
           },
           {
            "bin_start": 0.7000000000000001,
            "bin_end": 0.8,
            "count": 0
           },
           {
            "bin_start": 0.8,
            "bin_end": 0.9,
            "count": 0
           },
           {
            "bin_start": 0.9,
            "bin_end": 1,
            "count": 418
           }
          ]
         }
        },
        {
         "name": "bg_value__has_duplicate_min",
         "dtype": "float64",
         "stats": {
          "unique_count": 2,
          "nan_count": 0,
          "min": "0.0",
          "max": "1.0",
          "histogram": [
           {
            "bin_start": 0,
            "bin_end": 0.1,
            "count": 2511
           },
           {
            "bin_start": 0.1,
            "bin_end": 0.2,
            "count": 0
           },
           {
            "bin_start": 0.2,
            "bin_end": 0.30000000000000004,
            "count": 0
           },
           {
            "bin_start": 0.30000000000000004,
            "bin_end": 0.4,
            "count": 0
           },
           {
            "bin_start": 0.4,
            "bin_end": 0.5,
            "count": 0
           },
           {
            "bin_start": 0.5,
            "bin_end": 0.6000000000000001,
            "count": 0
           },
           {
            "bin_start": 0.6000000000000001,
            "bin_end": 0.7000000000000001,
            "count": 0
           },
           {
            "bin_start": 0.7000000000000001,
            "bin_end": 0.8,
            "count": 0
           },
           {
            "bin_start": 0.8,
            "bin_end": 0.9,
            "count": 0
           },
           {
            "bin_start": 0.9,
            "bin_end": 1,
            "count": 483
           }
          ]
         }
        },
        {
         "name": "bg_value__has_duplicate",
         "dtype": "float64",
         "stats": {
          "unique_count": 2,
          "nan_count": 0,
          "min": "0.0",
          "max": "1.0",
          "histogram": [
           {
            "bin_start": 0,
            "bin_end": 0.1,
            "count": 1598
           },
           {
            "bin_start": 0.1,
            "bin_end": 0.2,
            "count": 0
           },
           {
            "bin_start": 0.2,
            "bin_end": 0.30000000000000004,
            "count": 0
           },
           {
            "bin_start": 0.30000000000000004,
            "bin_end": 0.4,
            "count": 0
           },
           {
            "bin_start": 0.4,
            "bin_end": 0.5,
            "count": 0
           },
           {
            "bin_start": 0.5,
            "bin_end": 0.6000000000000001,
            "count": 0
           },
           {
            "bin_start": 0.6000000000000001,
            "bin_end": 0.7000000000000001,
            "count": 0
           },
           {
            "bin_start": 0.7000000000000001,
            "bin_end": 0.8,
            "count": 0
           },
           {
            "bin_start": 0.8,
            "bin_end": 0.9,
            "count": 0
           },
           {
            "bin_start": 0.9,
            "bin_end": 1,
            "count": 1396
           }
          ]
         }
        },
        {
         "name": "bg_value__sum_values",
         "dtype": "float64",
         "stats": {
          "unique_count": 1304,
          "nan_count": 0,
          "min": "336.0",
          "max": "2288.0",
          "histogram": [
           {
            "bin_start": 336,
            "bin_end": 531.2,
            "count": 357
           },
           {
            "bin_start": 531.2,
            "bin_end": 726.4,
            "count": 608
           },
           {
            "bin_start": 726.4,
            "bin_end": 921.5999999999999,
            "count": 486
           },
           {
            "bin_start": 921.5999999999999,
            "bin_end": 1116.8,
            "count": 326
           },
           {
            "bin_start": 1116.8,
            "bin_end": 1312,
            "count": 530
           },
           {
            "bin_start": 1312,
            "bin_end": 1507.1999999999998,
            "count": 248
           },
           {
            "bin_start": 1507.1999999999998,
            "bin_end": 1702.3999999999999,
            "count": 216
           },
           {
            "bin_start": 1702.3999999999999,
            "bin_end": 1897.6,
            "count": 111
           },
           {
            "bin_start": 1897.6,
            "bin_end": 2092.8,
            "count": 70
           },
           {
            "bin_start": 2092.8,
            "bin_end": 2288,
            "count": 42
           }
          ]
         }
        },
        {
         "name": "bg_value__abs_energy",
         "dtype": "float64",
         "stats": {
          "unique_count": 2876,
          "nan_count": 0,
          "min": "18868.0",
          "max": "874426.0",
          "histogram": [
           {
            "bin_start": 18868,
            "bin_end": 104423.8,
            "count": 1141
           },
           {
            "bin_start": 104423.8,
            "bin_end": 189979.6,
            "count": 534
           },
           {
            "bin_start": 189979.6,
            "bin_end": 275535.4,
            "count": 559
           },
           {
            "bin_start": 275535.4,
            "bin_end": 361091.2,
            "count": 279
           },
           {
            "bin_start": 361091.2,
            "bin_end": 446647,
            "count": 197
           },
           {
            "bin_start": 446647,
            "bin_end": 532202.8,
            "count": 126
           },
           {
            "bin_start": 532202.8,
            "bin_end": 617758.6,
            "count": 55
           },
           {
            "bin_start": 617758.6,
            "bin_end": 703314.4,
            "count": 41
           },
           {
            "bin_start": 703314.4,
            "bin_end": 788870.2000000001,
            "count": 53
           },
           {
            "bin_start": 788870.2000000001,
            "bin_end": 874426,
            "count": 9
           }
          ]
         }
        },
        {
         "name": "bg_value__mean_abs_change",
         "dtype": "float64",
         "stats": {
          "unique_count": 118,
          "nan_count": 0,
          "min": "0.0",
          "max": "53.4",
          "histogram": [
           {
            "bin_start": 0,
            "bin_end": 5.34,
            "count": 2006
           },
           {
            "bin_start": 5.34,
            "bin_end": 10.68,
            "count": 748
           },
           {
            "bin_start": 10.68,
            "bin_end": 16.02,
            "count": 189
           },
           {
            "bin_start": 16.02,
            "bin_end": 21.36,
            "count": 28
           },
           {
            "bin_start": 21.36,
            "bin_end": 26.7,
            "count": 5
           },
           {
            "bin_start": 26.7,
            "bin_end": 32.04,
            "count": 8
           },
           {
            "bin_start": 32.04,
            "bin_end": 37.379999999999995,
            "count": 5
           },
           {
            "bin_start": 37.379999999999995,
            "bin_end": 42.72,
            "count": 0
           },
           {
            "bin_start": 42.72,
            "bin_end": 48.06,
            "count": 0
           },
           {
            "bin_start": 48.06,
            "bin_end": 53.4,
            "count": 5
           }
          ]
         }
        },
        {
         "name": "bg_value__mean_change",
         "dtype": "float64",
         "stats": {
          "unique_count": 194,
          "nan_count": 0,
          "min": "-34.2",
          "max": "52.0",
          "histogram": [
           {
            "bin_start": -34.2,
            "bin_end": -25.580000000000002,
            "count": 7
           },
           {
            "bin_start": -25.580000000000002,
            "bin_end": -16.96,
            "count": 9
           },
           {
            "bin_start": -16.96,
            "bin_end": -8.34,
            "count": 131
           },
           {
            "bin_start": -8.34,
            "bin_end": 0.28000000000000114,
            "count": 1549
           },
           {
            "bin_start": 0.28000000000000114,
            "bin_end": 8.900000000000006,
            "count": 1128
           },
           {
            "bin_start": 8.900000000000006,
            "bin_end": 17.520000000000003,
            "count": 152
           },
           {
            "bin_start": 17.520000000000003,
            "bin_end": 26.14,
            "count": 10
           },
           {
            "bin_start": 26.14,
            "bin_end": 34.760000000000005,
            "count": 3
           },
           {
            "bin_start": 34.760000000000005,
            "bin_end": 43.38000000000001,
            "count": 0
           },
           {
            "bin_start": 43.38000000000001,
            "bin_end": 52,
            "count": 5
           }
          ]
         }
        },
        {
         "name": "bg_value__mean_second_derivative_central",
         "dtype": "float64",
         "stats": {
          "unique_count": 84,
          "nan_count": 0,
          "min": "-32.625",
          "max": "32.5",
          "histogram": [
           {
            "bin_start": -32.625,
            "bin_end": -26.1125,
            "count": 1
           },
           {
            "bin_start": -26.1125,
            "bin_end": -19.6,
            "count": 0
           },
           {
            "bin_start": -19.6,
            "bin_end": -13.087499999999999,
            "count": 2
           },
           {
            "bin_start": -13.087499999999999,
            "bin_end": -6.574999999999999,
            "count": 2
           },
           {
            "bin_start": -6.574999999999999,
            "bin_end": -0.0625,
            "count": 1347
           },
           {
            "bin_start": -0.0625,
            "bin_end": 6.450000000000003,
            "count": 1637
           },
           {
            "bin_start": 6.450000000000003,
            "bin_end": 12.962499999999999,
            "count": 2
           },
           {
            "bin_start": 12.962499999999999,
            "bin_end": 19.475,
            "count": 1
           },
           {
            "bin_start": 19.475,
            "bin_end": 25.987500000000004,
            "count": 1
           },
           {
            "bin_start": 25.987500000000004,
            "bin_end": 32.5,
            "count": 1
           }
          ]
         }
        },
        {
         "name": "bg_value__median",
         "dtype": "float64",
         "stats": {
          "unique_count": 550,
          "nan_count": 0,
          "min": "56.5",
          "max": "384.5",
          "histogram": [
           {
            "bin_start": 56.5,
            "bin_end": 89.3,
            "count": 380
           },
           {
            "bin_start": 89.3,
            "bin_end": 122.1,
            "count": 613
           },
           {
            "bin_start": 122.1,
            "bin_end": 154.89999999999998,
            "count": 476
           },
           {
            "bin_start": 154.89999999999998,
            "bin_end": 187.7,
            "count": 334
           },
           {
            "bin_start": 187.7,
            "bin_end": 220.5,
            "count": 511
           },
           {
            "bin_start": 220.5,
            "bin_end": 253.29999999999998,
            "count": 249
           },
           {
            "bin_start": 253.29999999999998,
            "bin_end": 286.09999999999997,
            "count": 217
           },
           {
            "bin_start": 286.09999999999997,
            "bin_end": 318.9,
            "count": 105
           },
           {
            "bin_start": 318.9,
            "bin_end": 351.7,
            "count": 79
           },
           {
            "bin_start": 351.7,
            "bin_end": 384.5,
            "count": 30
           }
          ]
         }
        },
        {
         "name": "bg_value__mean",
         "dtype": "float64",
         "stats": {
          "unique_count": 1304,
          "nan_count": 0,
          "min": "56.0",
          "max": "381.3333333333333",
          "histogram": [
           {
            "bin_start": 56,
            "bin_end": 88.53333333333333,
            "count": 357
           },
           {
            "bin_start": 88.53333333333333,
            "bin_end": 121.06666666666666,
            "count": 608
           },
           {
            "bin_start": 121.06666666666666,
            "bin_end": 153.6,
            "count": 486
           },
           {
            "bin_start": 153.6,
            "bin_end": 186.13333333333333,
            "count": 326
           },
           {
            "bin_start": 186.13333333333333,
            "bin_end": 218.66666666666666,
            "count": 530
           },
           {
            "bin_start": 218.66666666666666,
            "bin_end": 251.2,
            "count": 248
           },
           {
            "bin_start": 251.2,
            "bin_end": 283.73333333333335,
            "count": 216
           },
           {
            "bin_start": 283.73333333333335,
            "bin_end": 316.26666666666665,
            "count": 111
           },
           {
            "bin_start": 316.26666666666665,
            "bin_end": 348.79999999999995,
            "count": 70
           },
           {
            "bin_start": 348.79999999999995,
            "bin_end": 381.3333333333333,
            "count": 42
           }
          ]
         }
        },
        {
         "name": "bg_value__length",
         "dtype": "float64",
         "stats": {
          "unique_count": 1,
          "nan_count": 0,
          "min": "6.0",
          "max": "6.0",
          "histogram": [
           {
            "bin_start": 5.5,
            "bin_end": 5.6,
            "count": 0
           },
           {
            "bin_start": 5.6,
            "bin_end": 5.7,
            "count": 0
           },
           {
            "bin_start": 5.7,
            "bin_end": 5.8,
            "count": 0
           },
           {
            "bin_start": 5.8,
            "bin_end": 5.9,
            "count": 0
           },
           {
            "bin_start": 5.9,
            "bin_end": 6,
            "count": 0
           },
           {
            "bin_start": 6,
            "bin_end": 6.1,
            "count": 2994
           },
           {
            "bin_start": 6.1,
            "bin_end": 6.2,
            "count": 0
           },
           {
            "bin_start": 6.2,
            "bin_end": 6.3,
            "count": 0
           },
           {
            "bin_start": 6.3,
            "bin_end": 6.4,
            "count": 0
           },
           {
            "bin_start": 6.4,
            "bin_end": 6.5,
            "count": 0
           }
          ]
         }
        },
        {
         "name": "bg_value__standard_deviation",
         "dtype": "float64",
         "stats": {
          "unique_count": 1594,
          "nan_count": 0,
          "min": "0.0",
          "max": "129.5038609463054",
          "histogram": [
           {
            "bin_start": 0,
            "bin_end": 12.95038609463054,
            "count": 2515
           },
           {
            "bin_start": 12.95038609463054,
            "bin_end": 25.90077218926108,
            "count": 411
           },
           {
            "bin_start": 25.90077218926108,
            "bin_end": 38.85115828389162,
            "count": 48
           },
           {
            "bin_start": 38.85115828389162,
            "bin_end": 51.80154437852216,
            "count": 5
           },
           {
            "bin_start": 51.80154437852216,
            "bin_end": 64.7519304731527,
            "count": 7
           },
           {
            "bin_start": 64.7519304731527,
            "bin_end": 77.70231656778324,
            "count": 2
           },
           {
            "bin_start": 77.70231656778324,
            "bin_end": 90.65270266241377,
            "count": 1
           },
           {
            "bin_start": 90.65270266241377,
            "bin_end": 103.60308875704432,
            "count": 2
           },
           {
            "bin_start": 103.60308875704432,
            "bin_end": 116.55347485167486,
            "count": 0
           },
           {
            "bin_start": 116.55347485167486,
            "bin_end": 129.5038609463054,
            "count": 3
           }
          ]
         }
        },
        {
         "name": "bg_value__variation_coefficient",
         "dtype": "float64",
         "stats": {
          "unique_count": 2885,
          "nan_count": 0,
          "min": "0.0",
          "max": "0.718416603566094",
          "histogram": [
           {
            "bin_start": 0,
            "bin_end": 0.07184166035660941,
            "count": 2412
           },
           {
            "bin_start": 0.07184166035660941,
            "bin_end": 0.14368332071321882,
            "count": 433
           },
           {
            "bin_start": 0.14368332071321882,
            "bin_end": 0.21552498106982823,
            "count": 125
           },
           {
            "bin_start": 0.21552498106982823,
            "bin_end": 0.28736664142643764,
            "count": 10
           },
           {
            "bin_start": 0.28736664142643764,
            "bin_end": 0.3592083017830471,
            "count": 4
           },
           {
            "bin_start": 0.3592083017830471,
            "bin_end": 0.43104996213965646,
            "count": 3
           },
           {
            "bin_start": 0.43104996213965646,
            "bin_end": 0.5028916224962658,
            "count": 2
           },
           {
            "bin_start": 0.5028916224962658,
            "bin_end": 0.5747332828528753,
            "count": 0
           },
           {
            "bin_start": 0.5747332828528753,
            "bin_end": 0.6465749432094847,
            "count": 3
           },
           {
            "bin_start": 0.6465749432094847,
            "bin_end": 0.718416603566094,
            "count": 2
           }
          ]
         }
        },
        {
         "name": "bg_value__variance",
         "dtype": "float64",
         "stats": {
          "unique_count": 1701,
          "nan_count": 0,
          "min": "0.0",
          "max": "16771.25",
          "histogram": [
           {
            "bin_start": 0,
            "bin_end": 1677.125,
            "count": 2974
           },
           {
            "bin_start": 1677.125,
            "bin_end": 3354.25,
            "count": 9
           },
           {
            "bin_start": 3354.25,
            "bin_end": 5031.375,
            "count": 3
           },
           {
            "bin_start": 5031.375,
            "bin_end": 6708.5,
            "count": 3
           },
           {
            "bin_start": 6708.5,
            "bin_end": 8385.625,
            "count": 0
           },
           {
            "bin_start": 8385.625,
            "bin_end": 10062.75,
            "count": 2
           },
           {
            "bin_start": 10062.75,
            "bin_end": 11739.875,
            "count": 0
           },
           {
            "bin_start": 11739.875,
            "bin_end": 13417,
            "count": 0
           },
           {
            "bin_start": 13417,
            "bin_end": 15094.125,
            "count": 2
           },
           {
            "bin_start": 15094.125,
            "bin_end": 16771.25,
            "count": 1
           }
          ]
         }
        },
        {
         "name": "bg_value__skewness",
         "dtype": "float64",
         "stats": {
          "unique_count": 2590,
          "nan_count": 0,
          "min": "-2.449489742783283",
          "max": "2.4494897427832827",
          "histogram": [
           {
            "bin_start": -2.449489742783283,
            "bin_end": -1.9595917942266265,
            "count": 36
           },
           {
            "bin_start": -1.9595917942266265,
            "bin_end": -1.46969384566997,
            "count": 85
           },
           {
            "bin_start": -1.46969384566997,
            "bin_end": -0.9797958971133136,
            "count": 174
           },
           {
            "bin_start": -0.9797958971133136,
            "bin_end": -0.489897948556657,
            "count": 460
           },
           {
            "bin_start": -0.489897948556657,
            "bin_end": -4.440892098500626e-16,
            "count": 649
           },
           {
            "bin_start": -4.440892098500626e-16,
            "bin_end": 0.4898979485566559,
            "count": 745
           },
           {
            "bin_start": 0.4898979485566559,
            "bin_end": 0.9797958971133127,
            "count": 491
           },
           {
            "bin_start": 0.9797958971133127,
            "bin_end": 1.469693845669969,
            "count": 217
           },
           {
            "bin_start": 1.469693845669969,
            "bin_end": 1.9595917942266259,
            "count": 92
           },
           {
            "bin_start": 1.9595917942266259,
            "bin_end": 2.4494897427832827,
            "count": 45
           }
          ]
         }
        },
        {
         "name": "bg_value__kurtosis",
         "dtype": "float64",
         "stats": {
          "unique_count": 2469,
          "nan_count": 0,
          "min": "-3.3333333333333335",
          "max": "6.0000000000005365",
          "histogram": [
           {
            "bin_start": -3.3333333333333335,
            "bin_end": -2.399999999999946,
            "count": 97
           },
           {
            "bin_start": -2.399999999999946,
            "bin_end": -1.4666666666665593,
            "count": 758
           },
           {
            "bin_start": -1.4666666666665593,
            "bin_end": -0.533333333333172,
            "count": 871
           },
           {
            "bin_start": -0.533333333333172,
            "bin_end": 0.40000000000021485,
            "count": 542
           },
           {
            "bin_start": 0.40000000000021485,
            "bin_end": 1.3333333333336017,
            "count": 273
           },
           {
            "bin_start": 1.3333333333336017,
            "bin_end": 2.2666666666669895,
            "count": 164
           },
           {
            "bin_start": 2.2666666666669895,
            "bin_end": 3.2000000000003763,
            "count": 138
           },
           {
            "bin_start": 3.2000000000003763,
            "bin_end": 4.133333333333763,
            "count": 70
           },
           {
            "bin_start": 4.133333333333763,
            "bin_end": 5.06666666666715,
            "count": 38
           },
           {
            "bin_start": 5.06666666666715,
            "bin_end": 6.0000000000005365,
            "count": 43
           }
          ]
         }
        },
        {
         "name": "bg_value__root_mean_square",
         "dtype": "float64",
         "stats": {
          "unique_count": 2876,
          "nan_count": 0,
          "min": "56.07732756352309",
          "max": "381.7560302950913",
          "histogram": [
           {
            "bin_start": 56.07732756352309,
            "bin_end": 88.64519783667991,
            "count": 355
           },
           {
            "bin_start": 88.64519783667991,
            "bin_end": 121.21306810983674,
            "count": 604
           },
           {
            "bin_start": 121.21306810983674,
            "bin_end": 153.78093838299355,
            "count": 489
           },
           {
            "bin_start": 153.78093838299355,
            "bin_end": 186.34880865615037,
            "count": 326
           },
           {
            "bin_start": 186.34880865615037,
            "bin_end": 218.91667892930718,
            "count": 534
           },
           {
            "bin_start": 218.91667892930718,
            "bin_end": 251.48454920246402,
            "count": 249
           },
           {
            "bin_start": 251.48454920246402,
            "bin_end": 284.05241947562087,
            "count": 213
           },
           {
            "bin_start": 284.05241947562087,
            "bin_end": 316.6202897487777,
            "count": 112
           },
           {
            "bin_start": 316.6202897487777,
            "bin_end": 349.1881600219345,
            "count": 72
           },
           {
            "bin_start": 349.1881600219345,
            "bin_end": 381.7560302950913,
            "count": 40
           }
          ]
         }
        },
        {
         "name": "bg_value__absolute_sum_of_changes",
         "dtype": "float64",
         "stats": {
          "unique_count": 118,
          "nan_count": 0,
          "min": "0.0",
          "max": "267.0",
          "histogram": [
           {
            "bin_start": 0,
            "bin_end": 26.7,
            "count": 2006
           },
           {
            "bin_start": 26.7,
            "bin_end": 53.4,
            "count": 748
           },
           {
            "bin_start": 53.4,
            "bin_end": 80.1,
            "count": 189
           },
           {
            "bin_start": 80.1,
            "bin_end": 106.8,
            "count": 28
           },
           {
            "bin_start": 106.8,
            "bin_end": 133.5,
            "count": 5
           },
           {
            "bin_start": 133.5,
            "bin_end": 160.2,
            "count": 8
           },
           {
            "bin_start": 160.2,
            "bin_end": 186.9,
            "count": 5
           },
           {
            "bin_start": 186.9,
            "bin_end": 213.6,
            "count": 0
           },
           {
            "bin_start": 213.6,
            "bin_end": 240.29999999999998,
            "count": 0
           },
           {
            "bin_start": 240.29999999999998,
            "bin_end": 267,
            "count": 5
           }
          ]
         }
        },
        {
         "name": "bg_value__longest_strike_below_mean",
         "dtype": "float64",
         "stats": {
          "unique_count": 6,
          "nan_count": 0,
          "min": "0.0",
          "max": "5.0",
          "histogram": [
           {
            "bin_start": 0,
            "bin_end": 0.5,
            "count": 4
           },
           {
            "bin_start": 0.5,
            "bin_end": 1,
            "count": 0
           },
           {
            "bin_start": 1,
            "bin_end": 1.5,
            "count": 131
           },
           {
            "bin_start": 1.5,
            "bin_end": 2,
            "count": 0
           },
           {
            "bin_start": 2,
            "bin_end": 2.5,
            "count": 845
           },
           {
            "bin_start": 2.5,
            "bin_end": 3,
            "count": 0
           },
           {
            "bin_start": 3,
            "bin_end": 3.5,
            "count": 1509
           },
           {
            "bin_start": 3.5,
            "bin_end": 4,
            "count": 0
           },
           {
            "bin_start": 4,
            "bin_end": 4.5,
            "count": 470
           },
           {
            "bin_start": 4.5,
            "bin_end": 5,
            "count": 35
           }
          ]
         }
        },
        {
         "name": "bg_value__longest_strike_above_mean",
         "dtype": "float64",
         "stats": {
          "unique_count": 6,
          "nan_count": 0,
          "min": "0.0",
          "max": "5.0",
          "histogram": [
           {
            "bin_start": 0,
            "bin_end": 0.5,
            "count": 4
           },
           {
            "bin_start": 0.5,
            "bin_end": 1,
            "count": 0
           },
           {
            "bin_start": 1,
            "bin_end": 1.5,
            "count": 159
           },
           {
            "bin_start": 1.5,
            "bin_end": 2,
            "count": 0
           },
           {
            "bin_start": 2,
            "bin_end": 2.5,
            "count": 854
           },
           {
            "bin_start": 2.5,
            "bin_end": 3,
            "count": 0
           },
           {
            "bin_start": 3,
            "bin_end": 3.5,
            "count": 1503
           },
           {
            "bin_start": 3.5,
            "bin_end": 4,
            "count": 0
           },
           {
            "bin_start": 4,
            "bin_end": 4.5,
            "count": 445
           },
           {
            "bin_start": 4.5,
            "bin_end": 5,
            "count": 29
           }
          ]
         }
        },
        {
         "name": "bg_value__count_above_mean",
         "dtype": "float64",
         "stats": {
          "unique_count": 6,
          "nan_count": 0,
          "min": "0.0",
          "max": "5.0",
          "histogram": [
           {
            "bin_start": 0,
            "bin_end": 0.5,
            "count": 4
           },
           {
            "bin_start": 0.5,
            "bin_end": 1,
            "count": 0
           },
           {
            "bin_start": 1,
            "bin_end": 1.5,
            "count": 67
           },
           {
            "bin_start": 1.5,
            "bin_end": 2,
            "count": 0
           },
           {
            "bin_start": 2,
            "bin_end": 2.5,
            "count": 656
           },
           {
            "bin_start": 2.5,
            "bin_end": 3,
            "count": 0
           },
           {
            "bin_start": 3,
            "bin_end": 3.5,
            "count": 1710
           },
           {
            "bin_start": 3.5,
            "bin_end": 4,
            "count": 0
           },
           {
            "bin_start": 4,
            "bin_end": 4.5,
            "count": 518
           },
           {
            "bin_start": 4.5,
            "bin_end": 5,
            "count": 39
           }
          ]
         }
        },
        {
         "name": "bg_value__count_below_mean",
         "dtype": "float64",
         "stats": {
          "unique_count": 6,
          "nan_count": 0,
          "min": "0.0",
          "max": "5.0",
          "histogram": [
           {
            "bin_start": 0,
            "bin_end": 0.5,
            "count": 4
           },
           {
            "bin_start": 0.5,
            "bin_end": 1,
            "count": 0
           },
           {
            "bin_start": 1,
            "bin_end": 1.5,
            "count": 58
           },
           {
            "bin_start": 1.5,
            "bin_end": 2,
            "count": 0
           },
           {
            "bin_start": 2,
            "bin_end": 2.5,
            "count": 617
           },
           {
            "bin_start": 2.5,
            "bin_end": 3,
            "count": 0
           },
           {
            "bin_start": 3,
            "bin_end": 3.5,
            "count": 1712
           },
           {
            "bin_start": 3.5,
            "bin_end": 4,
            "count": 0
           },
           {
            "bin_start": 4,
            "bin_end": 4.5,
            "count": 562
           },
           {
            "bin_start": 4.5,
            "bin_end": 5,
            "count": 41
           }
          ]
         }
        },
        {
         "name": "bg_value__last_location_of_maximum",
         "dtype": "float64",
         "stats": {
          "unique_count": 6,
          "nan_count": 0,
          "min": "0.16666666666666663",
          "max": "1.0",
          "histogram": [
           {
            "bin_start": 0.16666666666666663,
            "bin_end": 0.24999999999999997,
            "count": 1077
           },
           {
            "bin_start": 0.24999999999999997,
            "bin_end": 0.3333333333333333,
            "count": 0
           },
           {
            "bin_start": 0.3333333333333333,
            "bin_end": 0.41666666666666663,
            "count": 245
           },
           {
            "bin_start": 0.41666666666666663,
            "bin_end": 0.5,
            "count": 0
           },
           {
            "bin_start": 0.5,
            "bin_end": 0.5833333333333334,
            "count": 202
           },
           {
            "bin_start": 0.5833333333333334,
            "bin_end": 0.6666666666666666,
            "count": 0
           },
           {
            "bin_start": 0.6666666666666666,
            "bin_end": 0.75,
            "count": 201
           },
           {
            "bin_start": 0.75,
            "bin_end": 0.8333333333333334,
            "count": 0
           },
           {
            "bin_start": 0.8333333333333334,
            "bin_end": 0.9166666666666667,
            "count": 216
           },
           {
            "bin_start": 0.9166666666666667,
            "bin_end": 1,
            "count": 1053
           }
          ]
         }
        },
        {
         "name": "bg_value__first_location_of_maximum",
         "dtype": "float64",
         "stats": {
          "unique_count": 6,
          "nan_count": 0,
          "min": "0.0",
          "max": "0.8333333333333334",
          "histogram": [
           {
            "bin_start": 0,
            "bin_end": 0.08333333333333334,
            "count": 1256
           },
           {
            "bin_start": 0.08333333333333334,
            "bin_end": 0.16666666666666669,
            "count": 209
           },
           {
            "bin_start": 0.16666666666666669,
            "bin_end": 0.25,
            "count": 0
           },
           {
            "bin_start": 0.25,
            "bin_end": 0.33333333333333337,
            "count": 192
           },
           {
            "bin_start": 0.33333333333333337,
            "bin_end": 0.41666666666666674,
            "count": 0
           },
           {
            "bin_start": 0.41666666666666674,
            "bin_end": 0.5,
            "count": 0
           },
           {
            "bin_start": 0.5,
            "bin_end": 0.5833333333333334,
            "count": 211
           },
           {
            "bin_start": 0.5833333333333334,
            "bin_end": 0.6666666666666667,
            "count": 229
           },
           {
            "bin_start": 0.6666666666666667,
            "bin_end": 0.7500000000000001,
            "count": 0
           },
           {
            "bin_start": 0.7500000000000001,
            "bin_end": 0.8333333333333334,
            "count": 897
           }
          ]
         }
        },
        {
         "name": "bg_value__last_location_of_minimum",
         "dtype": "float64",
         "stats": {
          "unique_count": 6,
          "nan_count": 0,
          "min": "0.16666666666666663",
          "max": "1.0",
          "histogram": [
           {
            "bin_start": 0.16666666666666663,
            "bin_end": 0.24999999999999997,
            "count": 905
           },
           {
            "bin_start": 0.24999999999999997,
            "bin_end": 0.3333333333333333,
            "count": 0
           },
           {
            "bin_start": 0.3333333333333333,
            "bin_end": 0.41666666666666663,
            "count": 226
           },
           {
            "bin_start": 0.41666666666666663,
            "bin_end": 0.5,
            "count": 0
           },
           {
            "bin_start": 0.5,
            "bin_end": 0.5833333333333334,
            "count": 200
           },
           {
            "bin_start": 0.5833333333333334,
            "bin_end": 0.6666666666666666,
            "count": 0
           },
           {
            "bin_start": 0.6666666666666666,
            "bin_end": 0.75,
            "count": 202
           },
           {
            "bin_start": 0.75,
            "bin_end": 0.8333333333333334,
            "count": 0
           },
           {
            "bin_start": 0.8333333333333334,
            "bin_end": 0.9166666666666667,
            "count": 206
           },
           {
            "bin_start": 0.9166666666666667,
            "bin_end": 1,
            "count": 1255
           }
          ]
         }
        },
        {
         "name": "bg_value__first_location_of_minimum",
         "dtype": "float64",
         "stats": {
          "unique_count": 6,
          "nan_count": 0,
          "min": "0.0",
          "max": "0.8333333333333334",
          "histogram": [
           {
            "bin_start": 0,
            "bin_end": 0.08333333333333334,
            "count": 1085
           },
           {
            "bin_start": 0.08333333333333334,
            "bin_end": 0.16666666666666669,
            "count": 216
           },
           {
            "bin_start": 0.16666666666666669,
            "bin_end": 0.25,
            "count": 0
           },
           {
            "bin_start": 0.25,
            "bin_end": 0.33333333333333337,
            "count": 203
           },
           {
            "bin_start": 0.33333333333333337,
            "bin_end": 0.41666666666666674,
            "count": 0
           },
           {
            "bin_start": 0.41666666666666674,
            "bin_end": 0.5,
            "count": 0
           },
           {
            "bin_start": 0.5,
            "bin_end": 0.5833333333333334,
            "count": 197
           },
           {
            "bin_start": 0.5833333333333334,
            "bin_end": 0.6666666666666667,
            "count": 237
           },
           {
            "bin_start": 0.6666666666666667,
            "bin_end": 0.7500000000000001,
            "count": 0
           },
           {
            "bin_start": 0.7500000000000001,
            "bin_end": 0.8333333333333334,
            "count": 1056
           }
          ]
         }
        },
        {
         "name": "bg_value__percentage_of_reoccurring_values_to_all_values",
         "dtype": "float64",
         "stats": {
          "unique_count": 7,
          "nan_count": 0,
          "min": "0.0",
          "max": "1.0",
          "histogram": [
           {
            "bin_start": 0,
            "bin_end": 0.1,
            "count": 1598
           },
           {
            "bin_start": 0.1,
            "bin_end": 0.2,
            "count": 0
           },
           {
            "bin_start": 0.2,
            "bin_end": 0.30000000000000004,
            "count": 942
           },
           {
            "bin_start": 0.30000000000000004,
            "bin_end": 0.4,
            "count": 32
           },
           {
            "bin_start": 0.4,
            "bin_end": 0.5,
            "count": 0
           },
           {
            "bin_start": 0.5,
            "bin_end": 0.6000000000000001,
            "count": 236
           },
           {
            "bin_start": 0.6000000000000001,
            "bin_end": 0.7000000000000001,
            "count": 114
           },
           {
            "bin_start": 0.7000000000000001,
            "bin_end": 0.8,
            "count": 0
           },
           {
            "bin_start": 0.8,
            "bin_end": 0.9,
            "count": 0
           },
           {
            "bin_start": 0.9,
            "bin_end": 1,
            "count": 72
           }
          ]
         }
        },
        {
         "name": "bg_value__percentage_of_reoccurring_datapoints_to_all_datapoints",
         "dtype": "float64",
         "stats": {
          "unique_count": 6,
          "nan_count": 0,
          "min": "0.0",
          "max": "1.0",
          "histogram": [
           {
            "bin_start": 0,
            "bin_end": 0.1,
            "count": 1598
           },
           {
            "bin_start": 0.1,
            "bin_end": 0.2,
            "count": 0
           },
           {
            "bin_start": 0.2,
            "bin_end": 0.30000000000000004,
            "count": 0
           },
           {
            "bin_start": 0.30000000000000004,
            "bin_end": 0.4,
            "count": 779
           },
           {
            "bin_start": 0.4,
            "bin_end": 0.5,
            "count": 0
           },
           {
            "bin_start": 0.5,
            "bin_end": 0.6000000000000001,
            "count": 163
           },
           {
            "bin_start": 0.6000000000000001,
            "bin_end": 0.7000000000000001,
            "count": 247
           },
           {
            "bin_start": 0.7000000000000001,
            "bin_end": 0.8,
            "count": 0
           },
           {
            "bin_start": 0.8,
            "bin_end": 0.9,
            "count": 135
           },
           {
            "bin_start": 0.9,
            "bin_end": 1,
            "count": 72
           }
          ]
         }
        },
        {
         "name": "bg_value__sum_of_reoccurring_values",
         "dtype": "float64",
         "stats": {
          "unique_count": 273,
          "nan_count": 0,
          "min": "0.0",
          "max": "774.0",
          "histogram": [
           {
            "bin_start": 0,
            "bin_end": 77.4,
            "count": 1681
           },
           {
            "bin_start": 77.4,
            "bin_end": 154.8,
            "count": 477
           },
           {
            "bin_start": 154.8,
            "bin_end": 232.20000000000002,
            "count": 456
           },
           {
            "bin_start": 232.20000000000002,
            "bin_end": 309.6,
            "count": 201
           },
           {
            "bin_start": 309.6,
            "bin_end": 387,
            "count": 83
           },
           {
            "bin_start": 387,
            "bin_end": 464.40000000000003,
            "count": 49
           },
           {
            "bin_start": 464.40000000000003,
            "bin_end": 541.8000000000001,
            "count": 20
           },
           {
            "bin_start": 541.8000000000001,
            "bin_end": 619.2,
            "count": 19
           },
           {
            "bin_start": 619.2,
            "bin_end": 696.6,
            "count": 1
           },
           {
            "bin_start": 696.6,
            "bin_end": 774,
            "count": 7
           }
          ]
         }
        },
        {
         "name": "bg_value__sum_of_reoccurring_data_points",
         "dtype": "float64",
         "stats": {
          "unique_count": 379,
          "nan_count": 0,
          "min": "0.0",
          "max": "1823.0",
          "histogram": [
           {
            "bin_start": 0,
            "bin_end": 182.3,
            "count": 1717
           },
           {
            "bin_start": 182.3,
            "bin_end": 364.6,
            "count": 472
           },
           {
            "bin_start": 364.6,
            "bin_end": 546.9000000000001,
            "count": 463
           },
           {
            "bin_start": 546.9000000000001,
            "bin_end": 729.2,
            "count": 185
           },
           {
            "bin_start": 729.2,
            "bin_end": 911.5,
            "count": 69
           },
           {
            "bin_start": 911.5,
            "bin_end": 1093.8000000000002,
            "count": 50
           },
           {
            "bin_start": 1093.8000000000002,
            "bin_end": 1276.1000000000001,
            "count": 26
           },
           {
            "bin_start": 1276.1000000000001,
            "bin_end": 1458.4,
            "count": 8
           },
           {
            "bin_start": 1458.4,
            "bin_end": 1640.7,
            "count": 1
           },
           {
            "bin_start": 1640.7,
            "bin_end": 1823,
            "count": 3
           }
          ]
         }
        },
        {
         "name": "bg_value__ratio_value_number_to_time_series_length",
         "dtype": "float64",
         "stats": {
          "unique_count": 6,
          "nan_count": 0,
          "min": "0.16666666666666666",
          "max": "1.0",
          "histogram": [
           {
            "bin_start": 0.16666666666666666,
            "bin_end": 0.25,
            "count": 4
           },
           {
            "bin_start": 0.25,
            "bin_end": 0.33333333333333337,
            "count": 65
           },
           {
            "bin_start": 0.33333333333333337,
            "bin_end": 0.41666666666666663,
            "count": 0
           },
           {
            "bin_start": 0.41666666666666663,
            "bin_end": 0.5,
            "count": 0
           },
           {
            "bin_start": 0.5,
            "bin_end": 0.5833333333333334,
            "count": 170
           },
           {
            "bin_start": 0.5833333333333334,
            "bin_end": 0.6666666666666666,
            "count": 0
           },
           {
            "bin_start": 0.6666666666666666,
            "bin_end": 0.75,
            "count": 378
           },
           {
            "bin_start": 0.75,
            "bin_end": 0.8333333333333334,
            "count": 0
           },
           {
            "bin_start": 0.8333333333333334,
            "bin_end": 0.9166666666666667,
            "count": 779
           },
           {
            "bin_start": 0.9166666666666667,
            "bin_end": 1,
            "count": 1598
           }
          ]
         }
        },
        {
         "name": "bg_value__sample_entropy",
         "dtype": "float64",
         "stats": {
          "unique_count": 6,
          "nan_count": 2529,
          "min": "0.40546510810816444",
          "max": "inf",
          "histogram": [
           {
            "bin_start": 0.40546510810816444,
            "bin_end": 0.474779826164159,
            "count": 1
           },
           {
            "bin_start": 0.474779826164159,
            "bin_end": 0.5440945442201535,
            "count": 4
           },
           {
            "bin_start": 0.5440945442201535,
            "bin_end": 0.613409262276148,
            "count": 0
           },
           {
            "bin_start": 0.613409262276148,
            "bin_end": 0.6827239803321425,
            "count": 0
           },
           {
            "bin_start": 0.6827239803321425,
            "bin_end": 0.7520386983881371,
            "count": 28
           },
           {
            "bin_start": 0.7520386983881371,
            "bin_end": 0.8213534164441316,
            "count": 0
           },
           {
            "bin_start": 0.8213534164441316,
            "bin_end": 0.8906681345001262,
            "count": 0
           },
           {
            "bin_start": 0.8906681345001262,
            "bin_end": 0.9599828525561207,
            "count": 1
           },
           {
            "bin_start": 0.9599828525561207,
            "bin_end": 1.0292975706121152,
            "count": 0
           },
           {
            "bin_start": 1.0292975706121152,
            "bin_end": 1.0986122886681098,
            "count": 55
           }
          ]
         }
        },
        {
         "name": "bg_value__maximum",
         "dtype": "float64"
        },
        {
         "name": "bg_value__minimum",
         "dtype": "float64"
        },
        {
         "name": "bg_value__benford_correlation",
         "dtype": "float64"
        },
        {
         "name": "bg_value__time_reversal_asymmetry_statistic__lag_1",
         "dtype": "float64"
        },
        {
         "name": "bg_value__time_reversal_asymmetry_statistic__lag_2",
         "dtype": "float64"
        },
        {
         "name": "bg_value__time_reversal_asymmetry_statistic__lag_3",
         "dtype": "float64"
        },
        {
         "name": "bg_value__c3__lag_1",
         "dtype": "float64"
        },
        {
         "name": "bg_value__c3__lag_2",
         "dtype": "float64"
        },
        {
         "name": "bg_value__c3__lag_3",
         "dtype": "float64"
        },
        {
         "name": "bg_value__cid_ce__normalize_True",
         "dtype": "float64"
        },
        {
         "name": "bg_value__cid_ce__normalize_False",
         "dtype": "float64"
        },
        {
         "name": "bg_value__symmetry_looking__r_0.0",
         "dtype": "float64"
        },
        {
         "name": "bg_value__symmetry_looking__r_0.05",
         "dtype": "float64"
        },
        {
         "name": "bg_value__symmetry_looking__r_0.1",
         "dtype": "float64"
        },
        {
         "name": "bg_value__symmetry_looking__r_0.15000000000000002",
         "dtype": "float64"
        },
        {
         "name": "bg_value__symmetry_looking__r_0.2",
         "dtype": "float64"
        },
        {
         "name": "bg_value__symmetry_looking__r_0.25",
         "dtype": "float64"
        },
        {
         "name": "bg_value__symmetry_looking__r_0.30000000000000004",
         "dtype": "float64"
        },
        {
         "name": "bg_value__symmetry_looking__r_0.35000000000000003",
         "dtype": "float64"
        },
        {
         "name": "bg_value__symmetry_looking__r_0.4",
         "dtype": "float64"
        },
        {
         "name": "bg_value__symmetry_looking__r_0.45",
         "dtype": "float64"
        },
        {
         "name": "bg_value__symmetry_looking__r_0.5",
         "dtype": "float64"
        },
        {
         "name": "bg_value__symmetry_looking__r_0.55",
         "dtype": "float64"
        },
        {
         "name": "bg_value__symmetry_looking__r_0.6000000000000001",
         "dtype": "float64"
        },
        {
         "name": "bg_value__symmetry_looking__r_0.65",
         "dtype": "float64"
        },
        {
         "name": "bg_value__symmetry_looking__r_0.7000000000000001",
         "dtype": "float64"
        },
        {
         "name": "bg_value__symmetry_looking__r_0.75",
         "dtype": "float64"
        },
        {
         "name": "bg_value__symmetry_looking__r_0.8",
         "dtype": "float64"
        },
        {
         "name": "bg_value__symmetry_looking__r_0.8500000000000001",
         "dtype": "float64"
        },
        {
         "name": "bg_value__symmetry_looking__r_0.9",
         "dtype": "float64"
        },
        {
         "name": "bg_value__symmetry_looking__r_0.9500000000000001",
         "dtype": "float64"
        },
        {
         "name": "bg_value__large_standard_deviation__r_0.05",
         "dtype": "float64"
        },
        {
         "name": "bg_value__large_standard_deviation__r_0.1",
         "dtype": "float64"
        },
        {
         "name": "bg_value__large_standard_deviation__r_0.15000000000000002",
         "dtype": "float64"
        },
        {
         "name": "bg_value__large_standard_deviation__r_0.2",
         "dtype": "float64"
        },
        {
         "name": "bg_value__large_standard_deviation__r_0.25",
         "dtype": "float64"
        },
        {
         "name": "bg_value__large_standard_deviation__r_0.30000000000000004",
         "dtype": "float64"
        },
        {
         "name": "bg_value__large_standard_deviation__r_0.35000000000000003",
         "dtype": "float64"
        },
        {
         "name": "bg_value__large_standard_deviation__r_0.4",
         "dtype": "float64"
        },
        {
         "name": "bg_value__large_standard_deviation__r_0.45",
         "dtype": "float64"
        },
        {
         "name": "bg_value__large_standard_deviation__r_0.5",
         "dtype": "float64"
        },
        {
         "name": "bg_value__large_standard_deviation__r_0.55",
         "dtype": "float64"
        },
        {
         "name": "bg_value__large_standard_deviation__r_0.6000000000000001",
         "dtype": "float64"
        },
        {
         "name": "bg_value__large_standard_deviation__r_0.65",
         "dtype": "float64"
        },
        {
         "name": "bg_value__large_standard_deviation__r_0.7000000000000001",
         "dtype": "float64"
        },
        {
         "name": "bg_value__large_standard_deviation__r_0.75",
         "dtype": "float64"
        },
        {
         "name": "bg_value__large_standard_deviation__r_0.8",
         "dtype": "float64"
        },
        {
         "name": "bg_value__large_standard_deviation__r_0.8500000000000001",
         "dtype": "float64"
        },
        {
         "name": "bg_value__large_standard_deviation__r_0.9",
         "dtype": "float64"
        },
        {
         "name": "bg_value__large_standard_deviation__r_0.9500000000000001",
         "dtype": "float64"
        },
        {
         "name": "bg_value__quantile__q_0.1",
         "dtype": "float64"
        },
        {
         "name": "bg_value__quantile__q_0.2",
         "dtype": "float64"
        },
        {
         "name": "bg_value__quantile__q_0.3",
         "dtype": "float64"
        },
        {
         "name": "bg_value__quantile__q_0.4",
         "dtype": "float64"
        },
        {
         "name": "bg_value__quantile__q_0.6",
         "dtype": "float64"
        },
        {
         "name": "bg_value__quantile__q_0.7",
         "dtype": "float64"
        },
        {
         "name": "bg_value__quantile__q_0.8",
         "dtype": "float64"
        },
        {
         "name": "bg_value__quantile__q_0.9",
         "dtype": "float64"
        },
        {
         "name": "bg_value__autocorrelation__lag_0",
         "dtype": "float64"
        },
        {
         "name": "bg_value__autocorrelation__lag_1",
         "dtype": "float64"
        },
        {
         "name": "bg_value__autocorrelation__lag_2",
         "dtype": "float64"
        },
        {
         "name": "bg_value__autocorrelation__lag_3",
         "dtype": "float64"
        },
        {
         "name": "bg_value__autocorrelation__lag_4",
         "dtype": "float64"
        },
        {
         "name": "bg_value__autocorrelation__lag_5",
         "dtype": "float64"
        },
        {
         "name": "bg_value__autocorrelation__lag_6",
         "dtype": "float64"
        },
        {
         "name": "bg_value__autocorrelation__lag_7",
         "dtype": "float64"
        },
        {
         "name": "bg_value__autocorrelation__lag_8",
         "dtype": "float64"
        },
        {
         "name": "bg_value__autocorrelation__lag_9",
         "dtype": "float64"
        },
        {
         "name": "bg_value__agg_autocorrelation__f_agg_\"mean\"__maxlag_40",
         "dtype": "float64"
        },
        {
         "name": "bg_value__agg_autocorrelation__f_agg_\"median\"__maxlag_40",
         "dtype": "float64"
        },
        {
         "name": "bg_value__agg_autocorrelation__f_agg_\"var\"__maxlag_40",
         "dtype": "float64"
        },
        {
         "name": "bg_value__partial_autocorrelation__lag_0",
         "dtype": "float64"
        },
        {
         "name": "bg_value__partial_autocorrelation__lag_1",
         "dtype": "float64"
        },
        {
         "name": "bg_value__partial_autocorrelation__lag_2",
         "dtype": "float64"
        },
        {
         "name": "bg_value__partial_autocorrelation__lag_3",
         "dtype": "float64"
        },
        {
         "name": "bg_value__partial_autocorrelation__lag_4",
         "dtype": "float64"
        },
        {
         "name": "bg_value__partial_autocorrelation__lag_5",
         "dtype": "float64"
        },
        {
         "name": "bg_value__partial_autocorrelation__lag_6",
         "dtype": "float64"
        },
        {
         "name": "bg_value__partial_autocorrelation__lag_7",
         "dtype": "float64"
        },
        {
         "name": "bg_value__partial_autocorrelation__lag_8",
         "dtype": "float64"
        },
        {
         "name": "bg_value__partial_autocorrelation__lag_9",
         "dtype": "float64"
        },
        {
         "name": "bg_value__number_cwt_peaks__n_1",
         "dtype": "float64"
        },
        {
         "name": "bg_value__number_cwt_peaks__n_5",
         "dtype": "float64"
        },
        {
         "name": "bg_value__number_peaks__n_1",
         "dtype": "float64"
        },
        {
         "name": "bg_value__number_peaks__n_3",
         "dtype": "float64"
        },
        {
         "name": "bg_value__number_peaks__n_5",
         "dtype": "float64"
        },
        {
         "name": "bg_value__number_peaks__n_10",
         "dtype": "float64"
        },
        {
         "name": "bg_value__number_peaks__n_50",
         "dtype": "float64"
        },
        {
         "name": "bg_value__binned_entropy__max_bins_10",
         "dtype": "float64"
        },
        {
         "name": "bg_value__index_mass_quantile__q_0.1",
         "dtype": "float64"
        },
        {
         "name": "bg_value__index_mass_quantile__q_0.2",
         "dtype": "float64"
        },
        {
         "name": "bg_value__index_mass_quantile__q_0.3",
         "dtype": "float64"
        },
        {
         "name": "bg_value__index_mass_quantile__q_0.4",
         "dtype": "float64"
        },
        {
         "name": "bg_value__index_mass_quantile__q_0.6",
         "dtype": "float64"
        },
        {
         "name": "bg_value__index_mass_quantile__q_0.7",
         "dtype": "float64"
        },
        {
         "name": "bg_value__index_mass_quantile__q_0.8",
         "dtype": "float64"
        },
        {
         "name": "bg_value__index_mass_quantile__q_0.9",
         "dtype": "float64"
        },
        {
         "name": "bg_value__cwt_coefficients__coeff_0__w_2__widths_(2, 5, 10, 20)",
         "dtype": "float64"
        },
        {
         "name": "bg_value__cwt_coefficients__coeff_0__w_5__widths_(2, 5, 10, 20)",
         "dtype": "float64"
        },
        {
         "name": "bg_value__cwt_coefficients__coeff_0__w_10__widths_(2, 5, 10, 20)",
         "dtype": "float64"
        },
        {
         "name": "bg_value__cwt_coefficients__coeff_0__w_20__widths_(2, 5, 10, 20)",
         "dtype": "float64"
        },
        {
         "name": "bg_value__cwt_coefficients__coeff_1__w_2__widths_(2, 5, 10, 20)",
         "dtype": "float64"
        },
        {
         "name": "bg_value__cwt_coefficients__coeff_1__w_5__widths_(2, 5, 10, 20)",
         "dtype": "float64"
        },
        {
         "name": "bg_value__cwt_coefficients__coeff_1__w_10__widths_(2, 5, 10, 20)",
         "dtype": "float64"
        },
        {
         "name": "bg_value__cwt_coefficients__coeff_1__w_20__widths_(2, 5, 10, 20)",
         "dtype": "float64"
        },
        {
         "name": "bg_value__cwt_coefficients__coeff_2__w_2__widths_(2, 5, 10, 20)",
         "dtype": "float64"
        },
        {
         "name": "bg_value__cwt_coefficients__coeff_2__w_5__widths_(2, 5, 10, 20)",
         "dtype": "float64"
        },
        {
         "name": "bg_value__cwt_coefficients__coeff_2__w_10__widths_(2, 5, 10, 20)",
         "dtype": "float64"
        },
        {
         "name": "bg_value__cwt_coefficients__coeff_2__w_20__widths_(2, 5, 10, 20)",
         "dtype": "float64"
        },
        {
         "name": "bg_value__cwt_coefficients__coeff_3__w_2__widths_(2, 5, 10, 20)",
         "dtype": "float64"
        },
        {
         "name": "bg_value__cwt_coefficients__coeff_3__w_5__widths_(2, 5, 10, 20)",
         "dtype": "float64"
        },
        {
         "name": "bg_value__cwt_coefficients__coeff_3__w_10__widths_(2, 5, 10, 20)",
         "dtype": "float64"
        },
        {
         "name": "bg_value__cwt_coefficients__coeff_3__w_20__widths_(2, 5, 10, 20)",
         "dtype": "float64"
        },
        {
         "name": "bg_value__cwt_coefficients__coeff_4__w_2__widths_(2, 5, 10, 20)",
         "dtype": "float64"
        },
        {
         "name": "bg_value__cwt_coefficients__coeff_4__w_5__widths_(2, 5, 10, 20)",
         "dtype": "float64"
        },
        {
         "name": "bg_value__cwt_coefficients__coeff_4__w_10__widths_(2, 5, 10, 20)",
         "dtype": "float64"
        },
        {
         "name": "bg_value__cwt_coefficients__coeff_4__w_20__widths_(2, 5, 10, 20)",
         "dtype": "float64"
        },
        {
         "name": "bg_value__cwt_coefficients__coeff_5__w_2__widths_(2, 5, 10, 20)",
         "dtype": "float64"
        },
        {
         "name": "bg_value__cwt_coefficients__coeff_5__w_5__widths_(2, 5, 10, 20)",
         "dtype": "float64"
        },
        {
         "name": "bg_value__cwt_coefficients__coeff_5__w_10__widths_(2, 5, 10, 20)",
         "dtype": "float64"
        },
        {
         "name": "bg_value__cwt_coefficients__coeff_5__w_20__widths_(2, 5, 10, 20)",
         "dtype": "float64"
        },
        {
         "name": "bg_value__cwt_coefficients__coeff_6__w_2__widths_(2, 5, 10, 20)",
         "dtype": "float64"
        },
        {
         "name": "bg_value__cwt_coefficients__coeff_6__w_5__widths_(2, 5, 10, 20)",
         "dtype": "float64"
        },
        {
         "name": "bg_value__cwt_coefficients__coeff_6__w_10__widths_(2, 5, 10, 20)",
         "dtype": "float64"
        },
        {
         "name": "bg_value__cwt_coefficients__coeff_6__w_20__widths_(2, 5, 10, 20)",
         "dtype": "float64"
        },
        {
         "name": "bg_value__cwt_coefficients__coeff_7__w_2__widths_(2, 5, 10, 20)",
         "dtype": "float64"
        },
        {
         "name": "bg_value__cwt_coefficients__coeff_7__w_5__widths_(2, 5, 10, 20)",
         "dtype": "float64"
        },
        {
         "name": "bg_value__cwt_coefficients__coeff_7__w_10__widths_(2, 5, 10, 20)",
         "dtype": "float64"
        },
        {
         "name": "bg_value__cwt_coefficients__coeff_7__w_20__widths_(2, 5, 10, 20)",
         "dtype": "float64"
        },
        {
         "name": "bg_value__cwt_coefficients__coeff_8__w_2__widths_(2, 5, 10, 20)",
         "dtype": "float64"
        },
        {
         "name": "bg_value__cwt_coefficients__coeff_8__w_5__widths_(2, 5, 10, 20)",
         "dtype": "float64"
        },
        {
         "name": "bg_value__cwt_coefficients__coeff_8__w_10__widths_(2, 5, 10, 20)",
         "dtype": "float64"
        },
        {
         "name": "bg_value__cwt_coefficients__coeff_8__w_20__widths_(2, 5, 10, 20)",
         "dtype": "float64"
        },
        {
         "name": "bg_value__cwt_coefficients__coeff_9__w_2__widths_(2, 5, 10, 20)",
         "dtype": "float64"
        },
        {
         "name": "bg_value__cwt_coefficients__coeff_9__w_5__widths_(2, 5, 10, 20)",
         "dtype": "float64"
        },
        {
         "name": "bg_value__cwt_coefficients__coeff_9__w_10__widths_(2, 5, 10, 20)",
         "dtype": "float64"
        },
        {
         "name": "bg_value__cwt_coefficients__coeff_9__w_20__widths_(2, 5, 10, 20)",
         "dtype": "float64"
        },
        {
         "name": "bg_value__cwt_coefficients__coeff_10__w_2__widths_(2, 5, 10, 20)",
         "dtype": "float64"
        },
        {
         "name": "bg_value__cwt_coefficients__coeff_10__w_5__widths_(2, 5, 10, 20)",
         "dtype": "float64"
        },
        {
         "name": "bg_value__cwt_coefficients__coeff_10__w_10__widths_(2, 5, 10, 20)",
         "dtype": "float64"
        },
        {
         "name": "bg_value__cwt_coefficients__coeff_10__w_20__widths_(2, 5, 10, 20)",
         "dtype": "float64"
        },
        {
         "name": "bg_value__cwt_coefficients__coeff_11__w_2__widths_(2, 5, 10, 20)",
         "dtype": "float64"
        },
        {
         "name": "bg_value__cwt_coefficients__coeff_11__w_5__widths_(2, 5, 10, 20)",
         "dtype": "float64"
        },
        {
         "name": "bg_value__cwt_coefficients__coeff_11__w_10__widths_(2, 5, 10, 20)",
         "dtype": "float64"
        },
        {
         "name": "bg_value__cwt_coefficients__coeff_11__w_20__widths_(2, 5, 10, 20)",
         "dtype": "float64"
        },
        {
         "name": "bg_value__cwt_coefficients__coeff_12__w_2__widths_(2, 5, 10, 20)",
         "dtype": "float64"
        },
        {
         "name": "bg_value__cwt_coefficients__coeff_12__w_5__widths_(2, 5, 10, 20)",
         "dtype": "float64"
        },
        {
         "name": "bg_value__cwt_coefficients__coeff_12__w_10__widths_(2, 5, 10, 20)",
         "dtype": "float64"
        },
        {
         "name": "bg_value__cwt_coefficients__coeff_12__w_20__widths_(2, 5, 10, 20)",
         "dtype": "float64"
        },
        {
         "name": "bg_value__cwt_coefficients__coeff_13__w_2__widths_(2, 5, 10, 20)",
         "dtype": "float64"
        },
        {
         "name": "bg_value__cwt_coefficients__coeff_13__w_5__widths_(2, 5, 10, 20)",
         "dtype": "float64"
        },
        {
         "name": "bg_value__cwt_coefficients__coeff_13__w_10__widths_(2, 5, 10, 20)",
         "dtype": "float64"
        },
        {
         "name": "bg_value__cwt_coefficients__coeff_13__w_20__widths_(2, 5, 10, 20)",
         "dtype": "float64"
        },
        {
         "name": "bg_value__cwt_coefficients__coeff_14__w_2__widths_(2, 5, 10, 20)",
         "dtype": "float64"
        },
        {
         "name": "bg_value__cwt_coefficients__coeff_14__w_5__widths_(2, 5, 10, 20)",
         "dtype": "float64"
        },
        {
         "name": "bg_value__cwt_coefficients__coeff_14__w_10__widths_(2, 5, 10, 20)",
         "dtype": "float64"
        },
        {
         "name": "bg_value__cwt_coefficients__coeff_14__w_20__widths_(2, 5, 10, 20)",
         "dtype": "float64"
        },
        {
         "name": "bg_value__spkt_welch_density__coeff_2",
         "dtype": "float64"
        },
        {
         "name": "bg_value__spkt_welch_density__coeff_5",
         "dtype": "float64"
        },
        {
         "name": "bg_value__spkt_welch_density__coeff_8",
         "dtype": "float64"
        },
        {
         "name": "bg_value__ar_coefficient__coeff_0__k_10",
         "dtype": "float64"
        },
        {
         "name": "bg_value__ar_coefficient__coeff_1__k_10",
         "dtype": "float64"
        },
        {
         "name": "bg_value__ar_coefficient__coeff_2__k_10",
         "dtype": "float64"
        },
        {
         "name": "bg_value__ar_coefficient__coeff_3__k_10",
         "dtype": "float64"
        },
        {
         "name": "bg_value__ar_coefficient__coeff_4__k_10",
         "dtype": "float64"
        },
        {
         "name": "bg_value__ar_coefficient__coeff_5__k_10",
         "dtype": "float64"
        },
        {
         "name": "bg_value__ar_coefficient__coeff_6__k_10",
         "dtype": "float64"
        },
        {
         "name": "bg_value__ar_coefficient__coeff_7__k_10",
         "dtype": "float64"
        },
        {
         "name": "bg_value__ar_coefficient__coeff_8__k_10",
         "dtype": "float64"
        },
        {
         "name": "bg_value__ar_coefficient__coeff_9__k_10",
         "dtype": "float64"
        },
        {
         "name": "bg_value__ar_coefficient__coeff_10__k_10",
         "dtype": "float64"
        },
        {
         "name": "bg_value__change_quantiles__f_agg_\"mean\"__isabs_False__qh_0.2__ql_0.0",
         "dtype": "float64"
        },
        {
         "name": "bg_value__change_quantiles__f_agg_\"var\"__isabs_False__qh_0.2__ql_0.0",
         "dtype": "float64"
        },
        {
         "name": "bg_value__change_quantiles__f_agg_\"mean\"__isabs_True__qh_0.2__ql_0.0",
         "dtype": "float64"
        },
        {
         "name": "bg_value__change_quantiles__f_agg_\"var\"__isabs_True__qh_0.2__ql_0.0",
         "dtype": "float64"
        },
        {
         "name": "bg_value__change_quantiles__f_agg_\"mean\"__isabs_False__qh_0.4__ql_0.0",
         "dtype": "float64"
        },
        {
         "name": "bg_value__change_quantiles__f_agg_\"var\"__isabs_False__qh_0.4__ql_0.0",
         "dtype": "float64"
        },
        {
         "name": "bg_value__change_quantiles__f_agg_\"mean\"__isabs_True__qh_0.4__ql_0.0",
         "dtype": "float64"
        },
        {
         "name": "bg_value__change_quantiles__f_agg_\"var\"__isabs_True__qh_0.4__ql_0.0",
         "dtype": "float64"
        },
        {
         "name": "bg_value__change_quantiles__f_agg_\"mean\"__isabs_False__qh_0.6__ql_0.0",
         "dtype": "float64"
        },
        {
         "name": "bg_value__change_quantiles__f_agg_\"var\"__isabs_False__qh_0.6__ql_0.0",
         "dtype": "float64"
        },
        {
         "name": "bg_value__change_quantiles__f_agg_\"mean\"__isabs_True__qh_0.6__ql_0.0",
         "dtype": "float64"
        },
        {
         "name": "bg_value__change_quantiles__f_agg_\"var\"__isabs_True__qh_0.6__ql_0.0",
         "dtype": "float64"
        },
        {
         "name": "bg_value__change_quantiles__f_agg_\"mean\"__isabs_False__qh_0.8__ql_0.0",
         "dtype": "float64"
        },
        {
         "name": "bg_value__change_quantiles__f_agg_\"var\"__isabs_False__qh_0.8__ql_0.0",
         "dtype": "float64"
        },
        {
         "name": "bg_value__change_quantiles__f_agg_\"mean\"__isabs_True__qh_0.8__ql_0.0",
         "dtype": "float64"
        },
        {
         "name": "bg_value__change_quantiles__f_agg_\"var\"__isabs_True__qh_0.8__ql_0.0",
         "dtype": "float64"
        },
        {
         "name": "bg_value__change_quantiles__f_agg_\"mean\"__isabs_False__qh_1.0__ql_0.0",
         "dtype": "float64"
        },
        {
         "name": "bg_value__change_quantiles__f_agg_\"var\"__isabs_False__qh_1.0__ql_0.0",
         "dtype": "float64"
        },
        {
         "name": "bg_value__change_quantiles__f_agg_\"mean\"__isabs_True__qh_1.0__ql_0.0",
         "dtype": "float64"
        },
        {
         "name": "bg_value__change_quantiles__f_agg_\"var\"__isabs_True__qh_1.0__ql_0.0",
         "dtype": "float64"
        },
        {
         "name": "bg_value__change_quantiles__f_agg_\"mean\"__isabs_False__qh_0.4__ql_0.2",
         "dtype": "float64"
        },
        {
         "name": "bg_value__change_quantiles__f_agg_\"var\"__isabs_False__qh_0.4__ql_0.2",
         "dtype": "float64"
        },
        {
         "name": "bg_value__change_quantiles__f_agg_\"mean\"__isabs_True__qh_0.4__ql_0.2",
         "dtype": "float64"
        },
        {
         "name": "bg_value__change_quantiles__f_agg_\"var\"__isabs_True__qh_0.4__ql_0.2",
         "dtype": "float64"
        },
        {
         "name": "bg_value__change_quantiles__f_agg_\"mean\"__isabs_False__qh_0.6__ql_0.2",
         "dtype": "float64"
        },
        {
         "name": "bg_value__change_quantiles__f_agg_\"var\"__isabs_False__qh_0.6__ql_0.2",
         "dtype": "float64"
        },
        {
         "name": "bg_value__change_quantiles__f_agg_\"mean\"__isabs_True__qh_0.6__ql_0.2",
         "dtype": "float64"
        },
        {
         "name": "bg_value__change_quantiles__f_agg_\"var\"__isabs_True__qh_0.6__ql_0.2",
         "dtype": "float64"
        },
        {
         "name": "bg_value__change_quantiles__f_agg_\"mean\"__isabs_False__qh_0.8__ql_0.2",
         "dtype": "float64"
        },
        {
         "name": "bg_value__change_quantiles__f_agg_\"var\"__isabs_False__qh_0.8__ql_0.2",
         "dtype": "float64"
        },
        {
         "name": "bg_value__change_quantiles__f_agg_\"mean\"__isabs_True__qh_0.8__ql_0.2",
         "dtype": "float64"
        },
        {
         "name": "bg_value__change_quantiles__f_agg_\"var\"__isabs_True__qh_0.8__ql_0.2",
         "dtype": "float64"
        },
        {
         "name": "bg_value__change_quantiles__f_agg_\"mean\"__isabs_False__qh_1.0__ql_0.2",
         "dtype": "float64"
        },
        {
         "name": "bg_value__change_quantiles__f_agg_\"var\"__isabs_False__qh_1.0__ql_0.2",
         "dtype": "float64"
        },
        {
         "name": "bg_value__change_quantiles__f_agg_\"mean\"__isabs_True__qh_1.0__ql_0.2",
         "dtype": "float64"
        },
        {
         "name": "bg_value__change_quantiles__f_agg_\"var\"__isabs_True__qh_1.0__ql_0.2",
         "dtype": "float64"
        },
        {
         "name": "bg_value__change_quantiles__f_agg_\"mean\"__isabs_False__qh_0.6__ql_0.4",
         "dtype": "float64"
        },
        {
         "name": "bg_value__change_quantiles__f_agg_\"var\"__isabs_False__qh_0.6__ql_0.4",
         "dtype": "float64"
        },
        {
         "name": "bg_value__change_quantiles__f_agg_\"mean\"__isabs_True__qh_0.6__ql_0.4",
         "dtype": "float64"
        },
        {
         "name": "bg_value__change_quantiles__f_agg_\"var\"__isabs_True__qh_0.6__ql_0.4",
         "dtype": "float64"
        },
        {
         "name": "bg_value__change_quantiles__f_agg_\"mean\"__isabs_False__qh_0.8__ql_0.4",
         "dtype": "float64"
        },
        {
         "name": "bg_value__change_quantiles__f_agg_\"var\"__isabs_False__qh_0.8__ql_0.4",
         "dtype": "float64"
        },
        {
         "name": "bg_value__change_quantiles__f_agg_\"mean\"__isabs_True__qh_0.8__ql_0.4",
         "dtype": "float64"
        },
        {
         "name": "bg_value__change_quantiles__f_agg_\"var\"__isabs_True__qh_0.8__ql_0.4",
         "dtype": "float64"
        },
        {
         "name": "bg_value__change_quantiles__f_agg_\"mean\"__isabs_False__qh_1.0__ql_0.4",
         "dtype": "float64"
        },
        {
         "name": "bg_value__change_quantiles__f_agg_\"var\"__isabs_False__qh_1.0__ql_0.4",
         "dtype": "float64"
        },
        {
         "name": "bg_value__change_quantiles__f_agg_\"mean\"__isabs_True__qh_1.0__ql_0.4",
         "dtype": "float64"
        },
        {
         "name": "bg_value__change_quantiles__f_agg_\"var\"__isabs_True__qh_1.0__ql_0.4",
         "dtype": "float64"
        },
        {
         "name": "bg_value__change_quantiles__f_agg_\"mean\"__isabs_False__qh_0.8__ql_0.6",
         "dtype": "float64"
        },
        {
         "name": "bg_value__change_quantiles__f_agg_\"var\"__isabs_False__qh_0.8__ql_0.6",
         "dtype": "float64"
        },
        {
         "name": "bg_value__change_quantiles__f_agg_\"mean\"__isabs_True__qh_0.8__ql_0.6",
         "dtype": "float64"
        },
        {
         "name": "bg_value__change_quantiles__f_agg_\"var\"__isabs_True__qh_0.8__ql_0.6",
         "dtype": "float64"
        },
        {
         "name": "bg_value__change_quantiles__f_agg_\"mean\"__isabs_False__qh_1.0__ql_0.6",
         "dtype": "float64"
        },
        {
         "name": "bg_value__change_quantiles__f_agg_\"var\"__isabs_False__qh_1.0__ql_0.6",
         "dtype": "float64"
        },
        {
         "name": "bg_value__change_quantiles__f_agg_\"mean\"__isabs_True__qh_1.0__ql_0.6",
         "dtype": "float64"
        },
        {
         "name": "bg_value__change_quantiles__f_agg_\"var\"__isabs_True__qh_1.0__ql_0.6",
         "dtype": "float64"
        },
        {
         "name": "bg_value__change_quantiles__f_agg_\"mean\"__isabs_False__qh_1.0__ql_0.8",
         "dtype": "float64"
        },
        {
         "name": "bg_value__change_quantiles__f_agg_\"var\"__isabs_False__qh_1.0__ql_0.8",
         "dtype": "float64"
        },
        {
         "name": "bg_value__change_quantiles__f_agg_\"mean\"__isabs_True__qh_1.0__ql_0.8",
         "dtype": "float64"
        },
        {
         "name": "bg_value__change_quantiles__f_agg_\"var\"__isabs_True__qh_1.0__ql_0.8",
         "dtype": "float64"
        },
        {
         "name": "bg_value__fft_coefficient__attr_\"real\"__coeff_0",
         "dtype": "float64"
        },
        {
         "name": "bg_value__fft_coefficient__attr_\"real\"__coeff_1",
         "dtype": "float64"
        },
        {
         "name": "bg_value__fft_coefficient__attr_\"real\"__coeff_2",
         "dtype": "float64"
        },
        {
         "name": "bg_value__fft_coefficient__attr_\"real\"__coeff_3",
         "dtype": "float64"
        },
        {
         "name": "bg_value__fft_coefficient__attr_\"real\"__coeff_4",
         "dtype": "float64"
        },
        {
         "name": "bg_value__fft_coefficient__attr_\"real\"__coeff_5",
         "dtype": "float64"
        },
        {
         "name": "bg_value__fft_coefficient__attr_\"real\"__coeff_6",
         "dtype": "float64"
        },
        {
         "name": "bg_value__fft_coefficient__attr_\"real\"__coeff_7",
         "dtype": "float64"
        },
        {
         "name": "bg_value__fft_coefficient__attr_\"real\"__coeff_8",
         "dtype": "float64"
        },
        {
         "name": "bg_value__fft_coefficient__attr_\"real\"__coeff_9",
         "dtype": "float64"
        },
        {
         "name": "bg_value__fft_coefficient__attr_\"real\"__coeff_10",
         "dtype": "float64"
        },
        {
         "name": "bg_value__fft_coefficient__attr_\"real\"__coeff_11",
         "dtype": "float64"
        },
        {
         "name": "bg_value__fft_coefficient__attr_\"real\"__coeff_12",
         "dtype": "float64"
        },
        {
         "name": "bg_value__fft_coefficient__attr_\"real\"__coeff_13",
         "dtype": "float64"
        },
        {
         "name": "bg_value__fft_coefficient__attr_\"real\"__coeff_14",
         "dtype": "float64"
        },
        {
         "name": "bg_value__fft_coefficient__attr_\"real\"__coeff_15",
         "dtype": "float64"
        },
        {
         "name": "bg_value__fft_coefficient__attr_\"real\"__coeff_16",
         "dtype": "float64"
        },
        {
         "name": "bg_value__fft_coefficient__attr_\"real\"__coeff_17",
         "dtype": "float64"
        },
        {
         "name": "bg_value__fft_coefficient__attr_\"real\"__coeff_18",
         "dtype": "float64"
        },
        {
         "name": "bg_value__fft_coefficient__attr_\"real\"__coeff_19",
         "dtype": "float64"
        },
        {
         "name": "bg_value__fft_coefficient__attr_\"real\"__coeff_20",
         "dtype": "float64"
        },
        {
         "name": "bg_value__fft_coefficient__attr_\"real\"__coeff_21",
         "dtype": "float64"
        },
        {
         "name": "bg_value__fft_coefficient__attr_\"real\"__coeff_22",
         "dtype": "float64"
        },
        {
         "name": "bg_value__fft_coefficient__attr_\"real\"__coeff_23",
         "dtype": "float64"
        },
        {
         "name": "bg_value__fft_coefficient__attr_\"real\"__coeff_24",
         "dtype": "float64"
        },
        {
         "name": "bg_value__fft_coefficient__attr_\"real\"__coeff_25",
         "dtype": "float64"
        },
        {
         "name": "bg_value__fft_coefficient__attr_\"real\"__coeff_26",
         "dtype": "float64"
        },
        {
         "name": "bg_value__fft_coefficient__attr_\"real\"__coeff_27",
         "dtype": "float64"
        },
        {
         "name": "bg_value__fft_coefficient__attr_\"real\"__coeff_28",
         "dtype": "float64"
        },
        {
         "name": "bg_value__fft_coefficient__attr_\"real\"__coeff_29",
         "dtype": "float64"
        },
        {
         "name": "bg_value__fft_coefficient__attr_\"real\"__coeff_30",
         "dtype": "float64"
        },
        {
         "name": "bg_value__fft_coefficient__attr_\"real\"__coeff_31",
         "dtype": "float64"
        },
        {
         "name": "bg_value__fft_coefficient__attr_\"real\"__coeff_32",
         "dtype": "float64"
        },
        {
         "name": "bg_value__fft_coefficient__attr_\"real\"__coeff_33",
         "dtype": "float64"
        },
        {
         "name": "bg_value__fft_coefficient__attr_\"real\"__coeff_34",
         "dtype": "float64"
        },
        {
         "name": "bg_value__fft_coefficient__attr_\"real\"__coeff_35",
         "dtype": "float64"
        },
        {
         "name": "bg_value__fft_coefficient__attr_\"real\"__coeff_36",
         "dtype": "float64"
        },
        {
         "name": "bg_value__fft_coefficient__attr_\"real\"__coeff_37",
         "dtype": "float64"
        },
        {
         "name": "bg_value__fft_coefficient__attr_\"real\"__coeff_38",
         "dtype": "float64"
        },
        {
         "name": "bg_value__fft_coefficient__attr_\"real\"__coeff_39",
         "dtype": "float64"
        },
        {
         "name": "bg_value__fft_coefficient__attr_\"real\"__coeff_40",
         "dtype": "float64"
        },
        {
         "name": "bg_value__fft_coefficient__attr_\"real\"__coeff_41",
         "dtype": "float64"
        },
        {
         "name": "bg_value__fft_coefficient__attr_\"real\"__coeff_42",
         "dtype": "float64"
        },
        {
         "name": "bg_value__fft_coefficient__attr_\"real\"__coeff_43",
         "dtype": "float64"
        },
        {
         "name": "bg_value__fft_coefficient__attr_\"real\"__coeff_44",
         "dtype": "float64"
        },
        {
         "name": "bg_value__fft_coefficient__attr_\"real\"__coeff_45",
         "dtype": "float64"
        },
        {
         "name": "bg_value__fft_coefficient__attr_\"real\"__coeff_46",
         "dtype": "float64"
        },
        {
         "name": "bg_value__fft_coefficient__attr_\"real\"__coeff_47",
         "dtype": "float64"
        },
        {
         "name": "bg_value__fft_coefficient__attr_\"real\"__coeff_48",
         "dtype": "float64"
        },
        {
         "name": "bg_value__fft_coefficient__attr_\"real\"__coeff_49",
         "dtype": "float64"
        },
        {
         "name": "bg_value__fft_coefficient__attr_\"real\"__coeff_50",
         "dtype": "float64"
        },
        {
         "name": "bg_value__fft_coefficient__attr_\"real\"__coeff_51",
         "dtype": "float64"
        },
        {
         "name": "bg_value__fft_coefficient__attr_\"real\"__coeff_52",
         "dtype": "float64"
        },
        {
         "name": "bg_value__fft_coefficient__attr_\"real\"__coeff_53",
         "dtype": "float64"
        },
        {
         "name": "bg_value__fft_coefficient__attr_\"real\"__coeff_54",
         "dtype": "float64"
        },
        {
         "name": "bg_value__fft_coefficient__attr_\"real\"__coeff_55",
         "dtype": "float64"
        },
        {
         "name": "bg_value__fft_coefficient__attr_\"real\"__coeff_56",
         "dtype": "float64"
        },
        {
         "name": "bg_value__fft_coefficient__attr_\"real\"__coeff_57",
         "dtype": "float64"
        },
        {
         "name": "bg_value__fft_coefficient__attr_\"real\"__coeff_58",
         "dtype": "float64"
        },
        {
         "name": "bg_value__fft_coefficient__attr_\"real\"__coeff_59",
         "dtype": "float64"
        },
        {
         "name": "bg_value__fft_coefficient__attr_\"real\"__coeff_60",
         "dtype": "float64"
        },
        {
         "name": "bg_value__fft_coefficient__attr_\"real\"__coeff_61",
         "dtype": "float64"
        },
        {
         "name": "bg_value__fft_coefficient__attr_\"real\"__coeff_62",
         "dtype": "float64"
        },
        {
         "name": "bg_value__fft_coefficient__attr_\"real\"__coeff_63",
         "dtype": "float64"
        },
        {
         "name": "bg_value__fft_coefficient__attr_\"real\"__coeff_64",
         "dtype": "float64"
        },
        {
         "name": "bg_value__fft_coefficient__attr_\"real\"__coeff_65",
         "dtype": "float64"
        },
        {
         "name": "bg_value__fft_coefficient__attr_\"real\"__coeff_66",
         "dtype": "float64"
        },
        {
         "name": "bg_value__fft_coefficient__attr_\"real\"__coeff_67",
         "dtype": "float64"
        },
        {
         "name": "bg_value__fft_coefficient__attr_\"real\"__coeff_68",
         "dtype": "float64"
        },
        {
         "name": "bg_value__fft_coefficient__attr_\"real\"__coeff_69",
         "dtype": "float64"
        },
        {
         "name": "bg_value__fft_coefficient__attr_\"real\"__coeff_70",
         "dtype": "float64"
        },
        {
         "name": "bg_value__fft_coefficient__attr_\"real\"__coeff_71",
         "dtype": "float64"
        },
        {
         "name": "bg_value__fft_coefficient__attr_\"real\"__coeff_72",
         "dtype": "float64"
        },
        {
         "name": "bg_value__fft_coefficient__attr_\"real\"__coeff_73",
         "dtype": "float64"
        },
        {
         "name": "bg_value__fft_coefficient__attr_\"real\"__coeff_74",
         "dtype": "float64"
        },
        {
         "name": "bg_value__fft_coefficient__attr_\"real\"__coeff_75",
         "dtype": "float64"
        },
        {
         "name": "bg_value__fft_coefficient__attr_\"real\"__coeff_76",
         "dtype": "float64"
        },
        {
         "name": "bg_value__fft_coefficient__attr_\"real\"__coeff_77",
         "dtype": "float64"
        },
        {
         "name": "bg_value__fft_coefficient__attr_\"real\"__coeff_78",
         "dtype": "float64"
        },
        {
         "name": "bg_value__fft_coefficient__attr_\"real\"__coeff_79",
         "dtype": "float64"
        },
        {
         "name": "bg_value__fft_coefficient__attr_\"real\"__coeff_80",
         "dtype": "float64"
        },
        {
         "name": "bg_value__fft_coefficient__attr_\"real\"__coeff_81",
         "dtype": "float64"
        },
        {
         "name": "bg_value__fft_coefficient__attr_\"real\"__coeff_82",
         "dtype": "float64"
        },
        {
         "name": "bg_value__fft_coefficient__attr_\"real\"__coeff_83",
         "dtype": "float64"
        },
        {
         "name": "bg_value__fft_coefficient__attr_\"real\"__coeff_84",
         "dtype": "float64"
        },
        {
         "name": "bg_value__fft_coefficient__attr_\"real\"__coeff_85",
         "dtype": "float64"
        },
        {
         "name": "bg_value__fft_coefficient__attr_\"real\"__coeff_86",
         "dtype": "float64"
        },
        {
         "name": "bg_value__fft_coefficient__attr_\"real\"__coeff_87",
         "dtype": "float64"
        },
        {
         "name": "bg_value__fft_coefficient__attr_\"real\"__coeff_88",
         "dtype": "float64"
        },
        {
         "name": "bg_value__fft_coefficient__attr_\"real\"__coeff_89",
         "dtype": "float64"
        },
        {
         "name": "bg_value__fft_coefficient__attr_\"real\"__coeff_90",
         "dtype": "float64"
        },
        {
         "name": "bg_value__fft_coefficient__attr_\"real\"__coeff_91",
         "dtype": "float64"
        },
        {
         "name": "bg_value__fft_coefficient__attr_\"real\"__coeff_92",
         "dtype": "float64"
        },
        {
         "name": "bg_value__fft_coefficient__attr_\"real\"__coeff_93",
         "dtype": "float64"
        },
        {
         "name": "bg_value__fft_coefficient__attr_\"real\"__coeff_94",
         "dtype": "float64"
        },
        {
         "name": "bg_value__fft_coefficient__attr_\"real\"__coeff_95",
         "dtype": "float64"
        },
        {
         "name": "bg_value__fft_coefficient__attr_\"real\"__coeff_96",
         "dtype": "float64"
        },
        {
         "name": "bg_value__fft_coefficient__attr_\"real\"__coeff_97",
         "dtype": "float64"
        },
        {
         "name": "bg_value__fft_coefficient__attr_\"real\"__coeff_98",
         "dtype": "float64"
        },
        {
         "name": "bg_value__fft_coefficient__attr_\"real\"__coeff_99",
         "dtype": "float64"
        },
        {
         "name": "bg_value__fft_coefficient__attr_\"imag\"__coeff_0",
         "dtype": "float64"
        },
        {
         "name": "bg_value__fft_coefficient__attr_\"imag\"__coeff_1",
         "dtype": "float64"
        },
        {
         "name": "bg_value__fft_coefficient__attr_\"imag\"__coeff_2",
         "dtype": "float64"
        },
        {
         "name": "bg_value__fft_coefficient__attr_\"imag\"__coeff_3",
         "dtype": "float64"
        },
        {
         "name": "bg_value__fft_coefficient__attr_\"imag\"__coeff_4",
         "dtype": "float64"
        },
        {
         "name": "bg_value__fft_coefficient__attr_\"imag\"__coeff_5",
         "dtype": "float64"
        },
        {
         "name": "bg_value__fft_coefficient__attr_\"imag\"__coeff_6",
         "dtype": "float64"
        },
        {
         "name": "bg_value__fft_coefficient__attr_\"imag\"__coeff_7",
         "dtype": "float64"
        },
        {
         "name": "bg_value__fft_coefficient__attr_\"imag\"__coeff_8",
         "dtype": "float64"
        },
        {
         "name": "bg_value__fft_coefficient__attr_\"imag\"__coeff_9",
         "dtype": "float64"
        },
        {
         "name": "bg_value__fft_coefficient__attr_\"imag\"__coeff_10",
         "dtype": "float64"
        },
        {
         "name": "bg_value__fft_coefficient__attr_\"imag\"__coeff_11",
         "dtype": "float64"
        },
        {
         "name": "bg_value__fft_coefficient__attr_\"imag\"__coeff_12",
         "dtype": "float64"
        },
        {
         "name": "bg_value__fft_coefficient__attr_\"imag\"__coeff_13",
         "dtype": "float64"
        },
        {
         "name": "bg_value__fft_coefficient__attr_\"imag\"__coeff_14",
         "dtype": "float64"
        },
        {
         "name": "bg_value__fft_coefficient__attr_\"imag\"__coeff_15",
         "dtype": "float64"
        },
        {
         "name": "bg_value__fft_coefficient__attr_\"imag\"__coeff_16",
         "dtype": "float64"
        },
        {
         "name": "bg_value__fft_coefficient__attr_\"imag\"__coeff_17",
         "dtype": "float64"
        },
        {
         "name": "bg_value__fft_coefficient__attr_\"imag\"__coeff_18",
         "dtype": "float64"
        },
        {
         "name": "bg_value__fft_coefficient__attr_\"imag\"__coeff_19",
         "dtype": "float64"
        },
        {
         "name": "bg_value__fft_coefficient__attr_\"imag\"__coeff_20",
         "dtype": "float64"
        },
        {
         "name": "bg_value__fft_coefficient__attr_\"imag\"__coeff_21",
         "dtype": "float64"
        },
        {
         "name": "bg_value__fft_coefficient__attr_\"imag\"__coeff_22",
         "dtype": "float64"
        },
        {
         "name": "bg_value__fft_coefficient__attr_\"imag\"__coeff_23",
         "dtype": "float64"
        },
        {
         "name": "bg_value__fft_coefficient__attr_\"imag\"__coeff_24",
         "dtype": "float64"
        },
        {
         "name": "bg_value__fft_coefficient__attr_\"imag\"__coeff_25",
         "dtype": "float64"
        },
        {
         "name": "bg_value__fft_coefficient__attr_\"imag\"__coeff_26",
         "dtype": "float64"
        },
        {
         "name": "bg_value__fft_coefficient__attr_\"imag\"__coeff_27",
         "dtype": "float64"
        },
        {
         "name": "bg_value__fft_coefficient__attr_\"imag\"__coeff_28",
         "dtype": "float64"
        },
        {
         "name": "bg_value__fft_coefficient__attr_\"imag\"__coeff_29",
         "dtype": "float64"
        },
        {
         "name": "bg_value__fft_coefficient__attr_\"imag\"__coeff_30",
         "dtype": "float64"
        },
        {
         "name": "bg_value__fft_coefficient__attr_\"imag\"__coeff_31",
         "dtype": "float64"
        },
        {
         "name": "bg_value__fft_coefficient__attr_\"imag\"__coeff_32",
         "dtype": "float64"
        },
        {
         "name": "bg_value__fft_coefficient__attr_\"imag\"__coeff_33",
         "dtype": "float64"
        },
        {
         "name": "bg_value__fft_coefficient__attr_\"imag\"__coeff_34",
         "dtype": "float64"
        },
        {
         "name": "bg_value__fft_coefficient__attr_\"imag\"__coeff_35",
         "dtype": "float64"
        },
        {
         "name": "bg_value__fft_coefficient__attr_\"imag\"__coeff_36",
         "dtype": "float64"
        },
        {
         "name": "bg_value__fft_coefficient__attr_\"imag\"__coeff_37",
         "dtype": "float64"
        },
        {
         "name": "bg_value__fft_coefficient__attr_\"imag\"__coeff_38",
         "dtype": "float64"
        },
        {
         "name": "bg_value__fft_coefficient__attr_\"imag\"__coeff_39",
         "dtype": "float64"
        },
        {
         "name": "bg_value__fft_coefficient__attr_\"imag\"__coeff_40",
         "dtype": "float64"
        },
        {
         "name": "bg_value__fft_coefficient__attr_\"imag\"__coeff_41",
         "dtype": "float64"
        },
        {
         "name": "bg_value__fft_coefficient__attr_\"imag\"__coeff_42",
         "dtype": "float64"
        },
        {
         "name": "bg_value__fft_coefficient__attr_\"imag\"__coeff_43",
         "dtype": "float64"
        },
        {
         "name": "bg_value__fft_coefficient__attr_\"imag\"__coeff_44",
         "dtype": "float64"
        },
        {
         "name": "bg_value__fft_coefficient__attr_\"imag\"__coeff_45",
         "dtype": "float64"
        },
        {
         "name": "bg_value__fft_coefficient__attr_\"imag\"__coeff_46",
         "dtype": "float64"
        },
        {
         "name": "bg_value__fft_coefficient__attr_\"imag\"__coeff_47",
         "dtype": "float64"
        },
        {
         "name": "bg_value__fft_coefficient__attr_\"imag\"__coeff_48",
         "dtype": "float64"
        },
        {
         "name": "bg_value__fft_coefficient__attr_\"imag\"__coeff_49",
         "dtype": "float64"
        },
        {
         "name": "bg_value__fft_coefficient__attr_\"imag\"__coeff_50",
         "dtype": "float64"
        },
        {
         "name": "bg_value__fft_coefficient__attr_\"imag\"__coeff_51",
         "dtype": "float64"
        },
        {
         "name": "bg_value__fft_coefficient__attr_\"imag\"__coeff_52",
         "dtype": "float64"
        },
        {
         "name": "bg_value__fft_coefficient__attr_\"imag\"__coeff_53",
         "dtype": "float64"
        },
        {
         "name": "bg_value__fft_coefficient__attr_\"imag\"__coeff_54",
         "dtype": "float64"
        },
        {
         "name": "bg_value__fft_coefficient__attr_\"imag\"__coeff_55",
         "dtype": "float64"
        },
        {
         "name": "bg_value__fft_coefficient__attr_\"imag\"__coeff_56",
         "dtype": "float64"
        },
        {
         "name": "bg_value__fft_coefficient__attr_\"imag\"__coeff_57",
         "dtype": "float64"
        },
        {
         "name": "bg_value__fft_coefficient__attr_\"imag\"__coeff_58",
         "dtype": "float64"
        },
        {
         "name": "bg_value__fft_coefficient__attr_\"imag\"__coeff_59",
         "dtype": "float64"
        },
        {
         "name": "bg_value__fft_coefficient__attr_\"imag\"__coeff_60",
         "dtype": "float64"
        },
        {
         "name": "bg_value__fft_coefficient__attr_\"imag\"__coeff_61",
         "dtype": "float64"
        },
        {
         "name": "bg_value__fft_coefficient__attr_\"imag\"__coeff_62",
         "dtype": "float64"
        },
        {
         "name": "bg_value__fft_coefficient__attr_\"imag\"__coeff_63",
         "dtype": "float64"
        },
        {
         "name": "bg_value__fft_coefficient__attr_\"imag\"__coeff_64",
         "dtype": "float64"
        },
        {
         "name": "bg_value__fft_coefficient__attr_\"imag\"__coeff_65",
         "dtype": "float64"
        },
        {
         "name": "bg_value__fft_coefficient__attr_\"imag\"__coeff_66",
         "dtype": "float64"
        },
        {
         "name": "bg_value__fft_coefficient__attr_\"imag\"__coeff_67",
         "dtype": "float64"
        },
        {
         "name": "bg_value__fft_coefficient__attr_\"imag\"__coeff_68",
         "dtype": "float64"
        },
        {
         "name": "bg_value__fft_coefficient__attr_\"imag\"__coeff_69",
         "dtype": "float64"
        },
        {
         "name": "bg_value__fft_coefficient__attr_\"imag\"__coeff_70",
         "dtype": "float64"
        },
        {
         "name": "bg_value__fft_coefficient__attr_\"imag\"__coeff_71",
         "dtype": "float64"
        },
        {
         "name": "bg_value__fft_coefficient__attr_\"imag\"__coeff_72",
         "dtype": "float64"
        },
        {
         "name": "bg_value__fft_coefficient__attr_\"imag\"__coeff_73",
         "dtype": "float64"
        },
        {
         "name": "bg_value__fft_coefficient__attr_\"imag\"__coeff_74",
         "dtype": "float64"
        },
        {
         "name": "bg_value__fft_coefficient__attr_\"imag\"__coeff_75",
         "dtype": "float64"
        },
        {
         "name": "bg_value__fft_coefficient__attr_\"imag\"__coeff_76",
         "dtype": "float64"
        },
        {
         "name": "bg_value__fft_coefficient__attr_\"imag\"__coeff_77",
         "dtype": "float64"
        },
        {
         "name": "bg_value__fft_coefficient__attr_\"imag\"__coeff_78",
         "dtype": "float64"
        },
        {
         "name": "bg_value__fft_coefficient__attr_\"imag\"__coeff_79",
         "dtype": "float64"
        },
        {
         "name": "bg_value__fft_coefficient__attr_\"imag\"__coeff_80",
         "dtype": "float64"
        },
        {
         "name": "bg_value__fft_coefficient__attr_\"imag\"__coeff_81",
         "dtype": "float64"
        },
        {
         "name": "bg_value__fft_coefficient__attr_\"imag\"__coeff_82",
         "dtype": "float64"
        },
        {
         "name": "bg_value__fft_coefficient__attr_\"imag\"__coeff_83",
         "dtype": "float64"
        },
        {
         "name": "bg_value__fft_coefficient__attr_\"imag\"__coeff_84",
         "dtype": "float64"
        },
        {
         "name": "bg_value__fft_coefficient__attr_\"imag\"__coeff_85",
         "dtype": "float64"
        },
        {
         "name": "bg_value__fft_coefficient__attr_\"imag\"__coeff_86",
         "dtype": "float64"
        },
        {
         "name": "bg_value__fft_coefficient__attr_\"imag\"__coeff_87",
         "dtype": "float64"
        },
        {
         "name": "bg_value__fft_coefficient__attr_\"imag\"__coeff_88",
         "dtype": "float64"
        },
        {
         "name": "bg_value__fft_coefficient__attr_\"imag\"__coeff_89",
         "dtype": "float64"
        },
        {
         "name": "bg_value__fft_coefficient__attr_\"imag\"__coeff_90",
         "dtype": "float64"
        },
        {
         "name": "bg_value__fft_coefficient__attr_\"imag\"__coeff_91",
         "dtype": "float64"
        },
        {
         "name": "bg_value__fft_coefficient__attr_\"imag\"__coeff_92",
         "dtype": "float64"
        },
        {
         "name": "bg_value__fft_coefficient__attr_\"imag\"__coeff_93",
         "dtype": "float64"
        },
        {
         "name": "bg_value__fft_coefficient__attr_\"imag\"__coeff_94",
         "dtype": "float64"
        },
        {
         "name": "bg_value__fft_coefficient__attr_\"imag\"__coeff_95",
         "dtype": "float64"
        },
        {
         "name": "bg_value__fft_coefficient__attr_\"imag\"__coeff_96",
         "dtype": "float64"
        },
        {
         "name": "bg_value__fft_coefficient__attr_\"imag\"__coeff_97",
         "dtype": "float64"
        },
        {
         "name": "bg_value__fft_coefficient__attr_\"imag\"__coeff_98",
         "dtype": "float64"
        },
        {
         "name": "bg_value__fft_coefficient__attr_\"imag\"__coeff_99",
         "dtype": "float64"
        },
        {
         "name": "bg_value__fft_coefficient__attr_\"abs\"__coeff_0",
         "dtype": "float64"
        },
        {
         "name": "bg_value__fft_coefficient__attr_\"abs\"__coeff_1",
         "dtype": "float64"
        },
        {
         "name": "bg_value__fft_coefficient__attr_\"abs\"__coeff_2",
         "dtype": "float64"
        },
        {
         "name": "bg_value__fft_coefficient__attr_\"abs\"__coeff_3",
         "dtype": "float64"
        },
        {
         "name": "bg_value__fft_coefficient__attr_\"abs\"__coeff_4",
         "dtype": "float64"
        },
        {
         "name": "bg_value__fft_coefficient__attr_\"abs\"__coeff_5",
         "dtype": "float64"
        },
        {
         "name": "bg_value__fft_coefficient__attr_\"abs\"__coeff_6",
         "dtype": "float64"
        },
        {
         "name": "bg_value__fft_coefficient__attr_\"abs\"__coeff_7",
         "dtype": "float64"
        },
        {
         "name": "bg_value__fft_coefficient__attr_\"abs\"__coeff_8",
         "dtype": "float64"
        },
        {
         "name": "bg_value__fft_coefficient__attr_\"abs\"__coeff_9",
         "dtype": "float64"
        },
        {
         "name": "bg_value__fft_coefficient__attr_\"abs\"__coeff_10",
         "dtype": "float64"
        },
        {
         "name": "bg_value__fft_coefficient__attr_\"abs\"__coeff_11",
         "dtype": "float64"
        },
        {
         "name": "bg_value__fft_coefficient__attr_\"abs\"__coeff_12",
         "dtype": "float64"
        },
        {
         "name": "bg_value__fft_coefficient__attr_\"abs\"__coeff_13",
         "dtype": "float64"
        },
        {
         "name": "bg_value__fft_coefficient__attr_\"abs\"__coeff_14",
         "dtype": "float64"
        },
        {
         "name": "bg_value__fft_coefficient__attr_\"abs\"__coeff_15",
         "dtype": "float64"
        },
        {
         "name": "bg_value__fft_coefficient__attr_\"abs\"__coeff_16",
         "dtype": "float64"
        },
        {
         "name": "bg_value__fft_coefficient__attr_\"abs\"__coeff_17",
         "dtype": "float64"
        },
        {
         "name": "bg_value__fft_coefficient__attr_\"abs\"__coeff_18",
         "dtype": "float64"
        },
        {
         "name": "bg_value__fft_coefficient__attr_\"abs\"__coeff_19",
         "dtype": "float64"
        },
        {
         "name": "bg_value__fft_coefficient__attr_\"abs\"__coeff_20",
         "dtype": "float64"
        },
        {
         "name": "bg_value__fft_coefficient__attr_\"abs\"__coeff_21",
         "dtype": "float64"
        },
        {
         "name": "bg_value__fft_coefficient__attr_\"abs\"__coeff_22",
         "dtype": "float64"
        },
        {
         "name": "bg_value__fft_coefficient__attr_\"abs\"__coeff_23",
         "dtype": "float64"
        },
        {
         "name": "bg_value__fft_coefficient__attr_\"abs\"__coeff_24",
         "dtype": "float64"
        },
        {
         "name": "bg_value__fft_coefficient__attr_\"abs\"__coeff_25",
         "dtype": "float64"
        },
        {
         "name": "bg_value__fft_coefficient__attr_\"abs\"__coeff_26",
         "dtype": "float64"
        },
        {
         "name": "bg_value__fft_coefficient__attr_\"abs\"__coeff_27",
         "dtype": "float64"
        },
        {
         "name": "bg_value__fft_coefficient__attr_\"abs\"__coeff_28",
         "dtype": "float64"
        },
        {
         "name": "bg_value__fft_coefficient__attr_\"abs\"__coeff_29",
         "dtype": "float64"
        },
        {
         "name": "bg_value__fft_coefficient__attr_\"abs\"__coeff_30",
         "dtype": "float64"
        },
        {
         "name": "bg_value__fft_coefficient__attr_\"abs\"__coeff_31",
         "dtype": "float64"
        },
        {
         "name": "bg_value__fft_coefficient__attr_\"abs\"__coeff_32",
         "dtype": "float64"
        },
        {
         "name": "bg_value__fft_coefficient__attr_\"abs\"__coeff_33",
         "dtype": "float64"
        },
        {
         "name": "bg_value__fft_coefficient__attr_\"abs\"__coeff_34",
         "dtype": "float64"
        },
        {
         "name": "bg_value__fft_coefficient__attr_\"abs\"__coeff_35",
         "dtype": "float64"
        },
        {
         "name": "_deepnote_index_column",
         "dtype": "int64"
        }
       ],
       "rows_top": [
        {
         "bg_value__variance_larger_than_standard_deviation": 1,
         "bg_value__has_duplicate_max": 0,
         "bg_value__has_duplicate_min": 0,
         "bg_value__has_duplicate": 0,
         "bg_value__sum_values": 662,
         "bg_value__abs_energy": 73694,
         "bg_value__mean_abs_change": 6.4,
         "bg_value__mean_change": 5.2,
         "bg_value__mean_second_derivative_central": 1.25,
         "bg_value__median": 108,
         "bg_value__mean": 110.33333333333333,
         "bg_value__length": 6,
         "bg_value__standard_deviation": 10.43498389499902,
         "bg_value__variation_coefficient": 0.09457689330814822,
         "bg_value__variance": 108.8888888888889,
         "bg_value__skewness": 0.521096806614317,
         "bg_value__kurtosis": -1.4025327988338168,
         "bg_value__root_mean_square": 110.82568895943456,
         "bg_value__absolute_sum_of_changes": 32,
         "bg_value__longest_strike_below_mean": 3,
         "bg_value__longest_strike_above_mean": 3,
         "bg_value__count_above_mean": 3,
         "bg_value__count_below_mean": 3,
         "bg_value__last_location_of_maximum": 1,
         "bg_value__first_location_of_maximum": 0.8333333333333334,
         "bg_value__last_location_of_minimum": 0.33333333333333337,
         "bg_value__first_location_of_minimum": 0.16666666666666666,
         "bg_value__percentage_of_reoccurring_values_to_all_values": 0,
         "bg_value__percentage_of_reoccurring_datapoints_to_all_datapoints": 0,
         "bg_value__sum_of_reoccurring_values": 0,
         "bg_value__sum_of_reoccurring_data_points": 0,
         "bg_value__ratio_value_number_to_time_series_length": 1,
         "bg_value__sample_entropy": "nan",
         "bg_value__maximum": 127,
         "bg_value__minimum": 98,
         "bg_value__benford_correlation": 0.8087054810756913,
         "bg_value__time_reversal_asymmetry_statistic__lag_1": 299409.5,
         "bg_value__time_reversal_asymmetry_statistic__lag_2": 583748,
         "bg_value__time_reversal_asymmetry_statistic__lag_3": 0,
         "bg_value__c3__lag_1": 1318884,
         "bg_value__c3__lag_2": 1327216,
         "bg_value__c3__lag_3": 0,
         "bg_value__cid_ce__normalize_True": 1.4278569641963725,
         "bg_value__cid_ce__normalize_False": 14.89966442575134,
         "bg_value__symmetry_looking__r_0.0": 0,
         "bg_value__symmetry_looking__r_0.05": 0,
         "bg_value__symmetry_looking__r_0.1": 1,
         "bg_value__symmetry_looking__r_0.15000000000000002": 1,
         "bg_value__symmetry_looking__r_0.2": 1,
         "bg_value__symmetry_looking__r_0.25": 1,
         "bg_value__symmetry_looking__r_0.30000000000000004": 1,
         "bg_value__symmetry_looking__r_0.35000000000000003": 1,
         "bg_value__symmetry_looking__r_0.4": 1,
         "bg_value__symmetry_looking__r_0.45": 1,
         "bg_value__symmetry_looking__r_0.5": 1,
         "bg_value__symmetry_looking__r_0.55": 1,
         "bg_value__symmetry_looking__r_0.6000000000000001": 1,
         "bg_value__symmetry_looking__r_0.65": 1,
         "bg_value__symmetry_looking__r_0.7000000000000001": 1,
         "bg_value__symmetry_looking__r_0.75": 1,
         "bg_value__symmetry_looking__r_0.8": 1,
         "bg_value__symmetry_looking__r_0.8500000000000001": 1,
         "bg_value__symmetry_looking__r_0.9": 1,
         "bg_value__symmetry_looking__r_0.9500000000000001": 1,
         "bg_value__large_standard_deviation__r_0.05": 1,
         "bg_value__large_standard_deviation__r_0.1": 1,
         "bg_value__large_standard_deviation__r_0.15000000000000002": 1,
         "bg_value__large_standard_deviation__r_0.2": 1,
         "bg_value__large_standard_deviation__r_0.25": 1,
         "bg_value__large_standard_deviation__r_0.30000000000000004": 1,
         "bg_value__large_standard_deviation__r_0.35000000000000003": 1,
         "bg_value__large_standard_deviation__r_0.4": 0,
         "bg_value__large_standard_deviation__r_0.45": 0,
         "bg_value__large_standard_deviation__r_0.5": 0,
         "bg_value__large_standard_deviation__r_0.55": 0,
         "bg_value__large_standard_deviation__r_0.6000000000000001": 0,
         "bg_value__large_standard_deviation__r_0.65": 0,
         "bg_value__large_standard_deviation__r_0.7000000000000001": 0,
         "bg_value__large_standard_deviation__r_0.75": 0,
         "bg_value__large_standard_deviation__r_0.8": 0,
         "bg_value__large_standard_deviation__r_0.8500000000000001": 0,
         "bg_value__large_standard_deviation__r_0.9": 0,
         "bg_value__large_standard_deviation__r_0.9500000000000001": 0,
         "bg_value__quantile__q_0.1": 99.5,
         "bg_value__quantile__q_0.2": 101,
         "bg_value__quantile__q_0.3": 102.5,
         "bg_value__quantile__q_0.4": 104,
         "bg_value__quantile__q_0.6": 112,
         "bg_value__quantile__q_0.7": 116,
         "bg_value__quantile__q_0.8": 120,
         "bg_value__quantile__q_0.9": 123.5,
         "bg_value__autocorrelation__lag_0": 1,
         "bg_value__autocorrelation__lag_1": 0.6610204081632653,
         "bg_value__autocorrelation__lag_2": 0.011734693877550962,
         "bg_value__autocorrelation__lag_3": -0.7357142857142857,
         "bg_value__autocorrelation__lag_4": -1.3581632653061222,
         "bg_value__autocorrelation__lag_5": -1.4285714285714282,
         "bg_value__autocorrelation__lag_6": "nan",
         "bg_value__autocorrelation__lag_7": "nan",
         "bg_value__autocorrelation__lag_8": "nan",
         "bg_value__autocorrelation__lag_9": "nan",
         "bg_value__agg_autocorrelation__f_agg_\"mean\"__maxlag_40": -0.5699387755102039,
         "bg_value__agg_autocorrelation__f_agg_\"median\"__maxlag_40": -0.7357142857142857,
         "bg_value__agg_autocorrelation__f_agg_\"var\"__maxlag_40": 0.6479267871720115,
         "bg_value__partial_autocorrelation__lag_0": 1,
         "bg_value__partial_autocorrelation__lag_1": 0.6610204081632652,
         "bg_value__partial_autocorrelation__lag_2": -0.7551936073989564,
         "bg_value__partial_autocorrelation__lag_3": "nan",
         "bg_value__partial_autocorrelation__lag_4": "nan",
         "bg_value__partial_autocorrelation__lag_5": "nan",
         "bg_value__partial_autocorrelation__lag_6": "nan",
         "bg_value__partial_autocorrelation__lag_7": "nan",
         "bg_value__partial_autocorrelation__lag_8": "nan",
         "bg_value__partial_autocorrelation__lag_9": "nan",
         "bg_value__number_cwt_peaks__n_1": 1,
         "bg_value__number_cwt_peaks__n_5": 1,
         "bg_value__number_peaks__n_1": 0,
         "bg_value__number_peaks__n_3": 0,
         "bg_value__number_peaks__n_5": 0,
         "bg_value__number_peaks__n_10": 0,
         "bg_value__number_peaks__n_50": 0,
         "bg_value__binned_entropy__max_bins_10": 1.791759469228055,
         "bg_value__index_mass_quantile__q_0.1": 0.16666666666666666,
         "bg_value__index_mass_quantile__q_0.2": 0.3333333333333333,
         "bg_value__index_mass_quantile__q_0.3": 0.3333333333333333,
         "bg_value__index_mass_quantile__q_0.4": 0.5,
         "bg_value__index_mass_quantile__q_0.6": 0.6666666666666666,
         "bg_value__index_mass_quantile__q_0.7": 0.8333333333333334,
         "bg_value__index_mass_quantile__q_0.8": 0.8333333333333334,
         "bg_value__index_mass_quantile__q_0.9": 1,
         "bg_value__cwt_coefficients__coeff_0__w_2__widths_(2, 5, 10, 20)": 59.70684584961003,
         "bg_value__cwt_coefficients__coeff_0__w_5__widths_(2, 5, 10, 20)": 98.35924113798261,
         "bg_value__cwt_coefficients__coeff_0__w_10__widths_(2, 5, 10, 20)": 79.49650910477614,
         "bg_value__cwt_coefficients__coeff_0__w_20__widths_(2, 5, 10, 20)": 58.11574459646398,
         "bg_value__cwt_coefficients__coeff_1__w_2__widths_(2, 5, 10, 20)": 114.27108296625073,
         "bg_value__cwt_coefficients__coeff_1__w_5__widths_(2, 5, 10, 20)": 139.8820735847361,
         "bg_value__cwt_coefficients__coeff_1__w_10__widths_(2, 5, 10, 20)": 109.85886632742398,
         "bg_value__cwt_coefficients__coeff_1__w_20__widths_(2, 5, 10, 20)": 79.77326351503352,
         "bg_value__cwt_coefficients__coeff_2__w_2__widths_(2, 5, 10, 20)": 136.75565457028242,
         "bg_value__cwt_coefficients__coeff_2__w_5__widths_(2, 5, 10, 20)": 179.86297627913282,
         "bg_value__cwt_coefficients__coeff_2__w_10__widths_(2, 5, 10, 20)": 141.56846223632203,
         "bg_value__cwt_coefficients__coeff_2__w_20__widths_(2, 5, 10, 20)": 102.83141767078747,
         "bg_value__cwt_coefficients__coeff_3__w_2__widths_(2, 5, 10, 20)": 128.51241728302782,
         "bg_value__cwt_coefficients__coeff_3__w_5__widths_(2, 5, 10, 20)": 214.62587170798665,
         "bg_value__cwt_coefficients__coeff_3__w_10__widths_(2, 5, 10, 20)": 173.63507138110222,
         "bg_value__cwt_coefficients__coeff_3__w_20__widths_(2, 5, 10, 20)": 126.96333679275965,
         "bg_value__cwt_coefficients__coeff_4__w_2__widths_(2, 5, 10, 20)": 160.59412993307532,
         "bg_value__cwt_coefficients__coeff_4__w_5__widths_(2, 5, 10, 20)": 191.7514501753613,
         "bg_value__cwt_coefficients__coeff_4__w_10__widths_(2, 5, 10, 20)": 149.05481905311706,
         "bg_value__cwt_coefficients__coeff_4__w_20__widths_(2, 5, 10, 20)": 107.9383647213125,
         "bg_value__cwt_coefficients__coeff_5__w_2__widths_(2, 5, 10, 20)": 143.90390508670396,
         "bg_value__cwt_coefficients__coeff_5__w_5__widths_(2, 5, 10, 20)": 158.86787571389908,
         "bg_value__cwt_coefficients__coeff_5__w_10__widths_(2, 5, 10, 20)": 123.10167942159997,
         "bg_value__cwt_coefficients__coeff_5__w_20__widths_(2, 5, 10, 20)": 89.09671554956316,
         "bg_value__cwt_coefficients__coeff_6__w_2__widths_(2, 5, 10, 20)": "nan",
         "bg_value__cwt_coefficients__coeff_6__w_5__widths_(2, 5, 10, 20)": "nan",
         "bg_value__cwt_coefficients__coeff_6__w_10__widths_(2, 5, 10, 20)": "nan",
         "bg_value__cwt_coefficients__coeff_6__w_20__widths_(2, 5, 10, 20)": "nan",
         "bg_value__cwt_coefficients__coeff_7__w_2__widths_(2, 5, 10, 20)": "nan",
         "bg_value__cwt_coefficients__coeff_7__w_5__widths_(2, 5, 10, 20)": "nan",
         "bg_value__cwt_coefficients__coeff_7__w_10__widths_(2, 5, 10, 20)": "nan",
         "bg_value__cwt_coefficients__coeff_7__w_20__widths_(2, 5, 10, 20)": "nan",
         "bg_value__cwt_coefficients__coeff_8__w_2__widths_(2, 5, 10, 20)": "nan",
         "bg_value__cwt_coefficients__coeff_8__w_5__widths_(2, 5, 10, 20)": "nan",
         "bg_value__cwt_coefficients__coeff_8__w_10__widths_(2, 5, 10, 20)": "nan",
         "bg_value__cwt_coefficients__coeff_8__w_20__widths_(2, 5, 10, 20)": "nan",
         "bg_value__cwt_coefficients__coeff_9__w_2__widths_(2, 5, 10, 20)": "nan",
         "bg_value__cwt_coefficients__coeff_9__w_5__widths_(2, 5, 10, 20)": "nan",
         "bg_value__cwt_coefficients__coeff_9__w_10__widths_(2, 5, 10, 20)": "nan",
         "bg_value__cwt_coefficients__coeff_9__w_20__widths_(2, 5, 10, 20)": "nan",
         "bg_value__cwt_coefficients__coeff_10__w_2__widths_(2, 5, 10, 20)": "nan",
         "bg_value__cwt_coefficients__coeff_10__w_5__widths_(2, 5, 10, 20)": "nan",
         "bg_value__cwt_coefficients__coeff_10__w_10__widths_(2, 5, 10, 20)": "nan",
         "bg_value__cwt_coefficients__coeff_10__w_20__widths_(2, 5, 10, 20)": "nan",
         "bg_value__cwt_coefficients__coeff_11__w_2__widths_(2, 5, 10, 20)": "nan",
         "bg_value__cwt_coefficients__coeff_11__w_5__widths_(2, 5, 10, 20)": "nan",
         "bg_value__cwt_coefficients__coeff_11__w_10__widths_(2, 5, 10, 20)": "nan",
         "bg_value__cwt_coefficients__coeff_11__w_20__widths_(2, 5, 10, 20)": "nan",
         "bg_value__cwt_coefficients__coeff_12__w_2__widths_(2, 5, 10, 20)": "nan",
         "bg_value__cwt_coefficients__coeff_12__w_5__widths_(2, 5, 10, 20)": "nan",
         "bg_value__cwt_coefficients__coeff_12__w_10__widths_(2, 5, 10, 20)": "nan",
         "bg_value__cwt_coefficients__coeff_12__w_20__widths_(2, 5, 10, 20)": "nan",
         "bg_value__cwt_coefficients__coeff_13__w_2__widths_(2, 5, 10, 20)": "nan",
         "bg_value__cwt_coefficients__coeff_13__w_5__widths_(2, 5, 10, 20)": "nan",
         "bg_value__cwt_coefficients__coeff_13__w_10__widths_(2, 5, 10, 20)": "nan",
         "bg_value__cwt_coefficients__coeff_13__w_20__widths_(2, 5, 10, 20)": "nan",
         "bg_value__cwt_coefficients__coeff_14__w_2__widths_(2, 5, 10, 20)": "nan",
         "bg_value__cwt_coefficients__coeff_14__w_5__widths_(2, 5, 10, 20)": "nan",
         "bg_value__cwt_coefficients__coeff_14__w_10__widths_(2, 5, 10, 20)": "nan",
         "bg_value__cwt_coefficients__coeff_14__w_20__widths_(2, 5, 10, 20)": "nan",
         "bg_value__spkt_welch_density__coeff_2": 15.05555555555553,
         "bg_value__spkt_welch_density__coeff_5": "nan",
         "bg_value__spkt_welch_density__coeff_8": "nan",
         "bg_value__ar_coefficient__coeff_0__k_10": "nan",
         "bg_value__ar_coefficient__coeff_1__k_10": "nan",
         "bg_value__ar_coefficient__coeff_2__k_10": "nan",
         "bg_value__ar_coefficient__coeff_3__k_10": "nan",
         "bg_value__ar_coefficient__coeff_4__k_10": "nan",
         "bg_value__ar_coefficient__coeff_5__k_10": "nan",
         "bg_value__ar_coefficient__coeff_6__k_10": "nan",
         "bg_value__ar_coefficient__coeff_7__k_10": "nan",
         "bg_value__ar_coefficient__coeff_8__k_10": "nan",
         "bg_value__ar_coefficient__coeff_9__k_10": "nan",
         "bg_value__ar_coefficient__coeff_10__k_10": 0,
         "bg_value__change_quantiles__f_agg_\"mean\"__isabs_False__qh_0.2__ql_0.0": -3,
         "bg_value__change_quantiles__f_agg_\"var\"__isabs_False__qh_0.2__ql_0.0": 0,
         "bg_value__change_quantiles__f_agg_\"mean\"__isabs_True__qh_0.2__ql_0.0": 3,
         "bg_value__change_quantiles__f_agg_\"var\"__isabs_True__qh_0.2__ql_0.0": 0,
         "bg_value__change_quantiles__f_agg_\"mean\"__isabs_False__qh_0.4__ql_0.0": 1.5,
         "bg_value__change_quantiles__f_agg_\"var\"__isabs_False__qh_0.4__ql_0.0": 20.25,
         "bg_value__change_quantiles__f_agg_\"mean\"__isabs_True__qh_0.4__ql_0.0": 4.5,
         "bg_value__change_quantiles__f_agg_\"var\"__isabs_True__qh_0.4__ql_0.0": 2.25,
         "bg_value__change_quantiles__f_agg_\"mean\"__isabs_False__qh_0.6__ql_0.0": 3.6666666666666665,
         "bg_value__change_quantiles__f_agg_\"var\"__isabs_False__qh_0.6__ql_0.0": 22.888888888888886,
         "bg_value__change_quantiles__f_agg_\"mean\"__isabs_True__qh_0.6__ql_0.0": 5.666666666666667,
         "bg_value__change_quantiles__f_agg_\"var\"__isabs_True__qh_0.6__ql_0.0": 4.222222222222222,
         "bg_value__change_quantiles__f_agg_\"mean\"__isabs_False__qh_0.8__ql_0.0": 4.75,
         "bg_value__change_quantiles__f_agg_\"var\"__isabs_False__qh_0.8__ql_0.0": 20.6875,
         "bg_value__change_quantiles__f_agg_\"mean\"__isabs_True__qh_0.8__ql_0.0": 6.25,
         "bg_value__change_quantiles__f_agg_\"var\"__isabs_True__qh_0.8__ql_0.0": 4.1875,
         "bg_value__change_quantiles__f_agg_\"mean\"__isabs_False__qh_1.0__ql_0.0": 5.2,
         "bg_value__change_quantiles__f_agg_\"var\"__isabs_False__qh_1.0__ql_0.0": 17.36,
         "bg_value__change_quantiles__f_agg_\"mean\"__isabs_True__qh_1.0__ql_0.0": 6.4,
         "bg_value__change_quantiles__f_agg_\"var\"__isabs_True__qh_1.0__ql_0.0": 3.44,
         "bg_value__change_quantiles__f_agg_\"mean\"__isabs_False__qh_0.4__ql_0.2": 0,
         "bg_value__change_quantiles__f_agg_\"var\"__isabs_False__qh_0.4__ql_0.2": 0,
         "bg_value__change_quantiles__f_agg_\"mean\"__isabs_True__qh_0.4__ql_0.2": 0,
         "bg_value__change_quantiles__f_agg_\"var\"__isabs_True__qh_0.4__ql_0.2": 0,
         "bg_value__change_quantiles__f_agg_\"mean\"__isabs_False__qh_0.6__ql_0.2": 8,
         "bg_value__change_quantiles__f_agg_\"var\"__isabs_False__qh_0.6__ql_0.2": 0,
         "bg_value__change_quantiles__f_agg_\"mean\"__isabs_True__qh_0.6__ql_0.2": 8,
         "bg_value__change_quantiles__f_agg_\"var\"__isabs_True__qh_0.6__ql_0.2": 0,
         "bg_value__change_quantiles__f_agg_\"mean\"__isabs_False__qh_0.8__ql_0.2": 8,
         "bg_value__change_quantiles__f_agg_\"var\"__isabs_False__qh_0.8__ql_0.2": 0,
         "bg_value__change_quantiles__f_agg_\"mean\"__isabs_True__qh_0.8__ql_0.2": 8,
         "bg_value__change_quantiles__f_agg_\"var\"__isabs_True__qh_0.8__ql_0.2": 0,
         "bg_value__change_quantiles__f_agg_\"mean\"__isabs_False__qh_1.0__ql_0.2": 7.666666666666667,
         "bg_value__change_quantiles__f_agg_\"var\"__isabs_False__qh_1.0__ql_0.2": 0.22222222222222224,
         "bg_value__change_quantiles__f_agg_\"mean\"__isabs_True__qh_1.0__ql_0.2": 7.666666666666667,
         "bg_value__change_quantiles__f_agg_\"var\"__isabs_True__qh_1.0__ql_0.2": 0.22222222222222224,
         "bg_value__change_quantiles__f_agg_\"mean\"__isabs_False__qh_0.6__ql_0.4": 8,
         "bg_value__change_quantiles__f_agg_\"var\"__isabs_False__qh_0.6__ql_0.4": 0,
         "bg_value__change_quantiles__f_agg_\"mean\"__isabs_True__qh_0.6__ql_0.4": 8,
         "bg_value__change_quantiles__f_agg_\"var\"__isabs_True__qh_0.6__ql_0.4": 0,
         "bg_value__change_quantiles__f_agg_\"mean\"__isabs_False__qh_0.8__ql_0.4": 8,
         "bg_value__change_quantiles__f_agg_\"var\"__isabs_False__qh_0.8__ql_0.4": 0,
         "bg_value__change_quantiles__f_agg_\"mean\"__isabs_True__qh_0.8__ql_0.4": 8,
         "bg_value__change_quantiles__f_agg_\"var\"__isabs_True__qh_0.8__ql_0.4": 0,
         "bg_value__change_quantiles__f_agg_\"mean\"__isabs_False__qh_1.0__ql_0.4": 7.666666666666667,
         "bg_value__change_quantiles__f_agg_\"var\"__isabs_False__qh_1.0__ql_0.4": 0.22222222222222224,
         "bg_value__change_quantiles__f_agg_\"mean\"__isabs_True__qh_1.0__ql_0.4": 7.666666666666667,
         "bg_value__change_quantiles__f_agg_\"var\"__isabs_True__qh_1.0__ql_0.4": 0.22222222222222224,
         "bg_value__change_quantiles__f_agg_\"mean\"__isabs_False__qh_0.8__ql_0.6": 8,
         "bg_value__change_quantiles__f_agg_\"var\"__isabs_False__qh_0.8__ql_0.6": 0,
         "bg_value__change_quantiles__f_agg_\"mean\"__isabs_True__qh_0.8__ql_0.6": 8,
         "bg_value__change_quantiles__f_agg_\"var\"__isabs_True__qh_0.8__ql_0.6": 0,
         "bg_value__change_quantiles__f_agg_\"mean\"__isabs_False__qh_1.0__ql_0.6": 7.5,
         "bg_value__change_quantiles__f_agg_\"var\"__isabs_False__qh_1.0__ql_0.6": 0.25,
         "bg_value__change_quantiles__f_agg_\"mean\"__isabs_True__qh_1.0__ql_0.6": 7.5,
         "bg_value__change_quantiles__f_agg_\"var\"__isabs_True__qh_1.0__ql_0.6": 0.25,
         "bg_value__change_quantiles__f_agg_\"mean\"__isabs_False__qh_1.0__ql_0.8": 7,
         "bg_value__change_quantiles__f_agg_\"var\"__isabs_False__qh_1.0__ql_0.8": 0,
         "bg_value__change_quantiles__f_agg_\"mean\"__isabs_True__qh_1.0__ql_0.8": 7,
         "bg_value__change_quantiles__f_agg_\"var\"__isabs_True__qh_1.0__ql_0.8": 0,
         "bg_value__fft_coefficient__attr_\"real\"__coeff_0": 662,
         "bg_value__fft_coefficient__attr_\"real\"__coeff_1": -10.5,
         "bg_value__fft_coefficient__attr_\"real\"__coeff_2": -11.5,
         "bg_value__fft_coefficient__attr_\"real\"__coeff_3": -12,
         "bg_value__fft_coefficient__attr_\"real\"__coeff_4": "nan",
         "bg_value__fft_coefficient__attr_\"real\"__coeff_5": "nan",
         "bg_value__fft_coefficient__attr_\"real\"__coeff_6": "nan",
         "bg_value__fft_coefficient__attr_\"real\"__coeff_7": "nan",
         "bg_value__fft_coefficient__attr_\"real\"__coeff_8": "nan",
         "bg_value__fft_coefficient__attr_\"real\"__coeff_9": "nan",
         "bg_value__fft_coefficient__attr_\"real\"__coeff_10": "nan",
         "bg_value__fft_coefficient__attr_\"real\"__coeff_11": "nan",
         "bg_value__fft_coefficient__attr_\"real\"__coeff_12": "nan",
         "bg_value__fft_coefficient__attr_\"real\"__coeff_13": "nan",
         "bg_value__fft_coefficient__attr_\"real\"__coeff_14": "nan",
         "bg_value__fft_coefficient__attr_\"real\"__coeff_15": "nan",
         "bg_value__fft_coefficient__attr_\"real\"__coeff_16": "nan",
         "bg_value__fft_coefficient__attr_\"real\"__coeff_17": "nan",
         "bg_value__fft_coefficient__attr_\"real\"__coeff_18": "nan",
         "bg_value__fft_coefficient__attr_\"real\"__coeff_19": "nan",
         "bg_value__fft_coefficient__attr_\"real\"__coeff_20": "nan",
         "bg_value__fft_coefficient__attr_\"real\"__coeff_21": "nan",
         "bg_value__fft_coefficient__attr_\"real\"__coeff_22": "nan",
         "bg_value__fft_coefficient__attr_\"real\"__coeff_23": "nan",
         "bg_value__fft_coefficient__attr_\"real\"__coeff_24": "nan",
         "bg_value__fft_coefficient__attr_\"real\"__coeff_25": "nan",
         "bg_value__fft_coefficient__attr_\"real\"__coeff_26": "nan",
         "bg_value__fft_coefficient__attr_\"real\"__coeff_27": "nan",
         "bg_value__fft_coefficient__attr_\"real\"__coeff_28": "nan",
         "bg_value__fft_coefficient__attr_\"real\"__coeff_29": "nan",
         "bg_value__fft_coefficient__attr_\"real\"__coeff_30": "nan",
         "bg_value__fft_coefficient__attr_\"real\"__coeff_31": "nan",
         "bg_value__fft_coefficient__attr_\"real\"__coeff_32": "nan",
         "bg_value__fft_coefficient__attr_\"real\"__coeff_33": "nan",
         "bg_value__fft_coefficient__attr_\"real\"__coeff_34": "nan",
         "bg_value__fft_coefficient__attr_\"real\"__coeff_35": "nan",
         "bg_value__fft_coefficient__attr_\"real\"__coeff_36": "nan",
         "bg_value__fft_coefficient__attr_\"real\"__coeff_37": "nan",
         "bg_value__fft_coefficient__attr_\"real\"__coeff_38": "nan",
         "bg_value__fft_coefficient__attr_\"real\"__coeff_39": "nan",
         "bg_value__fft_coefficient__attr_\"real\"__coeff_40": "nan",
         "bg_value__fft_coefficient__attr_\"real\"__coeff_41": "nan",
         "bg_value__fft_coefficient__attr_\"real\"__coeff_42": "nan",
         "bg_value__fft_coefficient__attr_\"real\"__coeff_43": "nan",
         "bg_value__fft_coefficient__attr_\"real\"__coeff_44": "nan",
         "bg_value__fft_coefficient__attr_\"real\"__coeff_45": "nan",
         "bg_value__fft_coefficient__attr_\"real\"__coeff_46": "nan",
         "bg_value__fft_coefficient__attr_\"real\"__coeff_47": "nan",
         "bg_value__fft_coefficient__attr_\"real\"__coeff_48": "nan",
         "bg_value__fft_coefficient__attr_\"real\"__coeff_49": "nan",
         "bg_value__fft_coefficient__attr_\"real\"__coeff_50": "nan",
         "bg_value__fft_coefficient__attr_\"real\"__coeff_51": "nan",
         "bg_value__fft_coefficient__attr_\"real\"__coeff_52": "nan",
         "bg_value__fft_coefficient__attr_\"real\"__coeff_53": "nan",
         "bg_value__fft_coefficient__attr_\"real\"__coeff_54": "nan",
         "bg_value__fft_coefficient__attr_\"real\"__coeff_55": "nan",
         "bg_value__fft_coefficient__attr_\"real\"__coeff_56": "nan",
         "bg_value__fft_coefficient__attr_\"real\"__coeff_57": "nan",
         "bg_value__fft_coefficient__attr_\"real\"__coeff_58": "nan",
         "bg_value__fft_coefficient__attr_\"real\"__coeff_59": "nan",
         "bg_value__fft_coefficient__attr_\"real\"__coeff_60": "nan",
         "bg_value__fft_coefficient__attr_\"real\"__coeff_61": "nan",
         "bg_value__fft_coefficient__attr_\"real\"__coeff_62": "nan",
         "bg_value__fft_coefficient__attr_\"real\"__coeff_63": "nan",
         "bg_value__fft_coefficient__attr_\"real\"__coeff_64": "nan",
         "bg_value__fft_coefficient__attr_\"real\"__coeff_65": "nan",
         "bg_value__fft_coefficient__attr_\"real\"__coeff_66": "nan",
         "bg_value__fft_coefficient__attr_\"real\"__coeff_67": "nan",
         "bg_value__fft_coefficient__attr_\"real\"__coeff_68": "nan",
         "bg_value__fft_coefficient__attr_\"real\"__coeff_69": "nan",
         "bg_value__fft_coefficient__attr_\"real\"__coeff_70": "nan",
         "bg_value__fft_coefficient__attr_\"real\"__coeff_71": "nan",
         "bg_value__fft_coefficient__attr_\"real\"__coeff_72": "nan",
         "bg_value__fft_coefficient__attr_\"real\"__coeff_73": "nan",
         "bg_value__fft_coefficient__attr_\"real\"__coeff_74": "nan",
         "bg_value__fft_coefficient__attr_\"real\"__coeff_75": "nan",
         "bg_value__fft_coefficient__attr_\"real\"__coeff_76": "nan",
         "bg_value__fft_coefficient__attr_\"real\"__coeff_77": "nan",
         "bg_value__fft_coefficient__attr_\"real\"__coeff_78": "nan",
         "bg_value__fft_coefficient__attr_\"real\"__coeff_79": "nan",
         "bg_value__fft_coefficient__attr_\"real\"__coeff_80": "nan",
         "bg_value__fft_coefficient__attr_\"real\"__coeff_81": "nan",
         "bg_value__fft_coefficient__attr_\"real\"__coeff_82": "nan",
         "bg_value__fft_coefficient__attr_\"real\"__coeff_83": "nan",
         "bg_value__fft_coefficient__attr_\"real\"__coeff_84": "nan",
         "bg_value__fft_coefficient__attr_\"real\"__coeff_85": "nan",
         "bg_value__fft_coefficient__attr_\"real\"__coeff_86": "nan",
         "bg_value__fft_coefficient__attr_\"real\"__coeff_87": "nan",
         "bg_value__fft_coefficient__attr_\"real\"__coeff_88": "nan",
         "bg_value__fft_coefficient__attr_\"real\"__coeff_89": "nan",
         "bg_value__fft_coefficient__attr_\"real\"__coeff_90": "nan",
         "bg_value__fft_coefficient__attr_\"real\"__coeff_91": "nan",
         "bg_value__fft_coefficient__attr_\"real\"__coeff_92": "nan",
         "bg_value__fft_coefficient__attr_\"real\"__coeff_93": "nan",
         "bg_value__fft_coefficient__attr_\"real\"__coeff_94": "nan",
         "bg_value__fft_coefficient__attr_\"real\"__coeff_95": "nan",
         "bg_value__fft_coefficient__attr_\"real\"__coeff_96": "nan",
         "bg_value__fft_coefficient__attr_\"real\"__coeff_97": "nan",
         "bg_value__fft_coefficient__attr_\"real\"__coeff_98": "nan",
         "bg_value__fft_coefficient__attr_\"real\"__coeff_99": "nan",
         "bg_value__fft_coefficient__attr_\"imag\"__coeff_0": 0,
         "bg_value__fft_coefficient__attr_\"imag\"__coeff_1": 38.97114317029974,
         "bg_value__fft_coefficient__attr_\"imag\"__coeff_2": 11.258330249197702,
         "bg_value__fft_coefficient__attr_\"imag\"__coeff_3": 0,
         "bg_value__fft_coefficient__attr_\"imag\"__coeff_4": "nan",
         "bg_value__fft_coefficient__attr_\"imag\"__coeff_5": "nan",
         "bg_value__fft_coefficient__attr_\"imag\"__coeff_6": "nan",
         "bg_value__fft_coefficient__attr_\"imag\"__coeff_7": "nan",
         "bg_value__fft_coefficient__attr_\"imag\"__coeff_8": "nan",
         "bg_value__fft_coefficient__attr_\"imag\"__coeff_9": "nan",
         "bg_value__fft_coefficient__attr_\"imag\"__coeff_10": "nan",
         "bg_value__fft_coefficient__attr_\"imag\"__coeff_11": "nan",
         "bg_value__fft_coefficient__attr_\"imag\"__coeff_12": "nan",
         "bg_value__fft_coefficient__attr_\"imag\"__coeff_13": "nan",
         "bg_value__fft_coefficient__attr_\"imag\"__coeff_14": "nan",
         "bg_value__fft_coefficient__attr_\"imag\"__coeff_15": "nan",
         "bg_value__fft_coefficient__attr_\"imag\"__coeff_16": "nan",
         "bg_value__fft_coefficient__attr_\"imag\"__coeff_17": "nan",
         "bg_value__fft_coefficient__attr_\"imag\"__coeff_18": "nan",
         "bg_value__fft_coefficient__attr_\"imag\"__coeff_19": "nan",
         "bg_value__fft_coefficient__attr_\"imag\"__coeff_20": "nan",
         "bg_value__fft_coefficient__attr_\"imag\"__coeff_21": "nan",
         "bg_value__fft_coefficient__attr_\"imag\"__coeff_22": "nan",
         "bg_value__fft_coefficient__attr_\"imag\"__coeff_23": "nan",
         "bg_value__fft_coefficient__attr_\"imag\"__coeff_24": "nan",
         "bg_value__fft_coefficient__attr_\"imag\"__coeff_25": "nan",
         "bg_value__fft_coefficient__attr_\"imag\"__coeff_26": "nan",
         "bg_value__fft_coefficient__attr_\"imag\"__coeff_27": "nan",
         "bg_value__fft_coefficient__attr_\"imag\"__coeff_28": "nan",
         "bg_value__fft_coefficient__attr_\"imag\"__coeff_29": "nan",
         "bg_value__fft_coefficient__attr_\"imag\"__coeff_30": "nan",
         "bg_value__fft_coefficient__attr_\"imag\"__coeff_31": "nan",
         "bg_value__fft_coefficient__attr_\"imag\"__coeff_32": "nan",
         "bg_value__fft_coefficient__attr_\"imag\"__coeff_33": "nan",
         "bg_value__fft_coefficient__attr_\"imag\"__coeff_34": "nan",
         "bg_value__fft_coefficient__attr_\"imag\"__coeff_35": "nan",
         "bg_value__fft_coefficient__attr_\"imag\"__coeff_36": "nan",
         "bg_value__fft_coefficient__attr_\"imag\"__coeff_37": "nan",
         "bg_value__fft_coefficient__attr_\"imag\"__coeff_38": "nan",
         "bg_value__fft_coefficient__attr_\"imag\"__coeff_39": "nan",
         "bg_value__fft_coefficient__attr_\"imag\"__coeff_40": "nan",
         "bg_value__fft_coefficient__attr_\"imag\"__coeff_41": "nan",
         "bg_value__fft_coefficient__attr_\"imag\"__coeff_42": "nan",
         "bg_value__fft_coefficient__attr_\"imag\"__coeff_43": "nan",
         "bg_value__fft_coefficient__attr_\"imag\"__coeff_44": "nan",
         "bg_value__fft_coefficient__attr_\"imag\"__coeff_45": "nan",
         "bg_value__fft_coefficient__attr_\"imag\"__coeff_46": "nan",
         "bg_value__fft_coefficient__attr_\"imag\"__coeff_47": "nan",
         "bg_value__fft_coefficient__attr_\"imag\"__coeff_48": "nan",
         "bg_value__fft_coefficient__attr_\"imag\"__coeff_49": "nan",
         "bg_value__fft_coefficient__attr_\"imag\"__coeff_50": "nan",
         "bg_value__fft_coefficient__attr_\"imag\"__coeff_51": "nan",
         "bg_value__fft_coefficient__attr_\"imag\"__coeff_52": "nan",
         "bg_value__fft_coefficient__attr_\"imag\"__coeff_53": "nan",
         "bg_value__fft_coefficient__attr_\"imag\"__coeff_54": "nan",
         "bg_value__fft_coefficient__attr_\"imag\"__coeff_55": "nan",
         "bg_value__fft_coefficient__attr_\"imag\"__coeff_56": "nan",
         "bg_value__fft_coefficient__attr_\"imag\"__coeff_57": "nan",
         "bg_value__fft_coefficient__attr_\"imag\"__coeff_58": "nan",
         "bg_value__fft_coefficient__attr_\"imag\"__coeff_59": "nan",
         "bg_value__fft_coefficient__attr_\"imag\"__coeff_60": "nan",
         "bg_value__fft_coefficient__attr_\"imag\"__coeff_61": "nan",
         "bg_value__fft_coefficient__attr_\"imag\"__coeff_62": "nan",
         "bg_value__fft_coefficient__attr_\"imag\"__coeff_63": "nan",
         "bg_value__fft_coefficient__attr_\"imag\"__coeff_64": "nan",
         "bg_value__fft_coefficient__attr_\"imag\"__coeff_65": "nan",
         "bg_value__fft_coefficient__attr_\"imag\"__coeff_66": "nan",
         "bg_value__fft_coefficient__attr_\"imag\"__coeff_67": "nan",
         "bg_value__fft_coefficient__attr_\"imag\"__coeff_68": "nan",
         "bg_value__fft_coefficient__attr_\"imag\"__coeff_69": "nan",
         "bg_value__fft_coefficient__attr_\"imag\"__coeff_70": "nan",
         "bg_value__fft_coefficient__attr_\"imag\"__coeff_71": "nan",
         "bg_value__fft_coefficient__attr_\"imag\"__coeff_72": "nan",
         "bg_value__fft_coefficient__attr_\"imag\"__coeff_73": "nan",
         "bg_value__fft_coefficient__attr_\"imag\"__coeff_74": "nan",
         "bg_value__fft_coefficient__attr_\"imag\"__coeff_75": "nan",
         "bg_value__fft_coefficient__attr_\"imag\"__coeff_76": "nan",
         "bg_value__fft_coefficient__attr_\"imag\"__coeff_77": "nan",
         "bg_value__fft_coefficient__attr_\"imag\"__coeff_78": "nan",
         "bg_value__fft_coefficient__attr_\"imag\"__coeff_79": "nan",
         "bg_value__fft_coefficient__attr_\"imag\"__coeff_80": "nan",
         "bg_value__fft_coefficient__attr_\"imag\"__coeff_81": "nan",
         "bg_value__fft_coefficient__attr_\"imag\"__coeff_82": "nan",
         "bg_value__fft_coefficient__attr_\"imag\"__coeff_83": "nan",
         "bg_value__fft_coefficient__attr_\"imag\"__coeff_84": "nan",
         "bg_value__fft_coefficient__attr_\"imag\"__coeff_85": "nan",
         "bg_value__fft_coefficient__attr_\"imag\"__coeff_86": "nan",
         "bg_value__fft_coefficient__attr_\"imag\"__coeff_87": "nan",
         "bg_value__fft_coefficient__attr_\"imag\"__coeff_88": "nan",
         "bg_value__fft_coefficient__attr_\"imag\"__coeff_89": "nan",
         "bg_value__fft_coefficient__attr_\"imag\"__coeff_90": "nan",
         "bg_value__fft_coefficient__attr_\"imag\"__coeff_91": "nan",
         "bg_value__fft_coefficient__attr_\"imag\"__coeff_92": "nan",
         "bg_value__fft_coefficient__attr_\"imag\"__coeff_93": "nan",
         "bg_value__fft_coefficient__attr_\"imag\"__coeff_94": "nan",
         "bg_value__fft_coefficient__attr_\"imag\"__coeff_95": "nan",
         "bg_value__fft_coefficient__attr_\"imag\"__coeff_96": "nan",
         "bg_value__fft_coefficient__attr_\"imag\"__coeff_97": "nan",
         "bg_value__fft_coefficient__attr_\"imag\"__coeff_98": "nan",
         "bg_value__fft_coefficient__attr_\"imag\"__coeff_99": "nan",
         "bg_value__fft_coefficient__attr_\"abs\"__coeff_0": 662,
         "bg_value__fft_coefficient__attr_\"abs\"__coeff_1": 40.36087214122113,
         "bg_value__fft_coefficient__attr_\"abs\"__coeff_2": 16.09347693943108,
         "bg_value__fft_coefficient__attr_\"abs\"__coeff_3": 12,
         "bg_value__fft_coefficient__attr_\"abs\"__coeff_4": "nan",
         "bg_value__fft_coefficient__attr_\"abs\"__coeff_5": "nan",
         "bg_value__fft_coefficient__attr_\"abs\"__coeff_6": "nan",
         "bg_value__fft_coefficient__attr_\"abs\"__coeff_7": "nan",
         "bg_value__fft_coefficient__attr_\"abs\"__coeff_8": "nan",
         "bg_value__fft_coefficient__attr_\"abs\"__coeff_9": "nan",
         "bg_value__fft_coefficient__attr_\"abs\"__coeff_10": "nan",
         "bg_value__fft_coefficient__attr_\"abs\"__coeff_11": "nan",
         "bg_value__fft_coefficient__attr_\"abs\"__coeff_12": "nan",
         "bg_value__fft_coefficient__attr_\"abs\"__coeff_13": "nan",
         "bg_value__fft_coefficient__attr_\"abs\"__coeff_14": "nan",
         "bg_value__fft_coefficient__attr_\"abs\"__coeff_15": "nan",
         "bg_value__fft_coefficient__attr_\"abs\"__coeff_16": "nan",
         "bg_value__fft_coefficient__attr_\"abs\"__coeff_17": "nan",
         "bg_value__fft_coefficient__attr_\"abs\"__coeff_18": "nan",
         "bg_value__fft_coefficient__attr_\"abs\"__coeff_19": "nan",
         "bg_value__fft_coefficient__attr_\"abs\"__coeff_20": "nan",
         "bg_value__fft_coefficient__attr_\"abs\"__coeff_21": "nan",
         "bg_value__fft_coefficient__attr_\"abs\"__coeff_22": "nan",
         "bg_value__fft_coefficient__attr_\"abs\"__coeff_23": "nan",
         "bg_value__fft_coefficient__attr_\"abs\"__coeff_24": "nan",
         "bg_value__fft_coefficient__attr_\"abs\"__coeff_25": "nan",
         "bg_value__fft_coefficient__attr_\"abs\"__coeff_26": "nan",
         "bg_value__fft_coefficient__attr_\"abs\"__coeff_27": "nan",
         "bg_value__fft_coefficient__attr_\"abs\"__coeff_28": "nan",
         "bg_value__fft_coefficient__attr_\"abs\"__coeff_29": "nan",
         "bg_value__fft_coefficient__attr_\"abs\"__coeff_30": "nan",
         "bg_value__fft_coefficient__attr_\"abs\"__coeff_31": "nan",
         "bg_value__fft_coefficient__attr_\"abs\"__coeff_32": "nan",
         "bg_value__fft_coefficient__attr_\"abs\"__coeff_33": "nan",
         "bg_value__fft_coefficient__attr_\"abs\"__coeff_34": "nan",
         "bg_value__fft_coefficient__attr_\"abs\"__coeff_35": "nan",
         "_deepnote_index_column": 0
        }
       ],
       "rows_bottom": [
        {
         "bg_value__variance_larger_than_standard_deviation": 1,
         "bg_value__has_duplicate_max": 0,
         "bg_value__has_duplicate_min": 0,
         "bg_value__has_duplicate": 0,
         "bg_value__sum_values": 1217,
         "bg_value__abs_energy": 247107,
         "bg_value__mean_abs_change": 4,
         "bg_value__mean_change": 2.8,
         "bg_value__mean_second_derivative_central": 0.625,
         "bg_value__median": 201.5,
         "bg_value__mean": 202.83333333333334,
         "bg_value__length": 6,
         "bg_value__standard_deviation": 6.568020165079344,
         "bg_value__variation_coefficient": 0.03238136482372725,
         "bg_value__variance": 43.138888888888886,
         "bg_value__skewness": 0.2871030481423968,
         "bg_value__kurtosis": -2.2822827180759373,
         "bg_value__root_mean_square": 202.93964620053913,
         "bg_value__absolute_sum_of_changes": 20,
         "bg_value__longest_strike_below_mean": 3,
         "bg_value__longest_strike_above_mean": 3,
         "bg_value__count_above_mean": 3,
         "bg_value__count_below_mean": 3,
         "bg_value__last_location_of_maximum": 1,
         "bg_value__first_location_of_maximum": 0.8333333333333334,
         "bg_value__last_location_of_minimum": 0.33333333333333337,
         "bg_value__first_location_of_minimum": 0.16666666666666666,
         "bg_value__percentage_of_reoccurring_values_to_all_values": 0,
         "bg_value__percentage_of_reoccurring_datapoints_to_all_datapoints": 0,
         "bg_value__sum_of_reoccurring_values": 0,
         "bg_value__sum_of_reoccurring_data_points": 0,
         "bg_value__ratio_value_number_to_time_series_length": 1,
         "bg_value__sample_entropy": "nan",
         "bg_value__maximum": 212,
         "bg_value__minimum": 195,
         "bg_value__benford_correlation": 0.8767112912521223,
         "bg_value__time_reversal_asymmetry_statistic__lag_1": 602155,
         "bg_value__time_reversal_asymmetry_statistic__lag_2": 1191453.5,
         "bg_value__time_reversal_asymmetry_statistic__lag_3": 0,
         "bg_value__c3__lag_1": 8272173.75,
         "bg_value__c3__lag_2": 8332980,
         "bg_value__c3__lag_3": 0,
         "bg_value__cid_ce__normalize_True": 1.5675393622763985,
         "bg_value__cid_ce__normalize_False": 10.295630140987,
         "bg_value__symmetry_looking__r_0.0": 0,
         "bg_value__symmetry_looking__r_0.05": 0,
         "bg_value__symmetry_looking__r_0.1": 1,
         "bg_value__symmetry_looking__r_0.15000000000000002": 1,
         "bg_value__symmetry_looking__r_0.2": 1,
         "bg_value__symmetry_looking__r_0.25": 1,
         "bg_value__symmetry_looking__r_0.30000000000000004": 1,
         "bg_value__symmetry_looking__r_0.35000000000000003": 1,
         "bg_value__symmetry_looking__r_0.4": 1,
         "bg_value__symmetry_looking__r_0.45": 1,
         "bg_value__symmetry_looking__r_0.5": 1,
         "bg_value__symmetry_looking__r_0.55": 1,
         "bg_value__symmetry_looking__r_0.6000000000000001": 1,
         "bg_value__symmetry_looking__r_0.65": 1,
         "bg_value__symmetry_looking__r_0.7000000000000001": 1,
         "bg_value__symmetry_looking__r_0.75": 1,
         "bg_value__symmetry_looking__r_0.8": 1,
         "bg_value__symmetry_looking__r_0.8500000000000001": 1,
         "bg_value__symmetry_looking__r_0.9": 1,
         "bg_value__symmetry_looking__r_0.9500000000000001": 1,
         "bg_value__large_standard_deviation__r_0.05": 1,
         "bg_value__large_standard_deviation__r_0.1": 1,
         "bg_value__large_standard_deviation__r_0.15000000000000002": 1,
         "bg_value__large_standard_deviation__r_0.2": 1,
         "bg_value__large_standard_deviation__r_0.25": 1,
         "bg_value__large_standard_deviation__r_0.30000000000000004": 1,
         "bg_value__large_standard_deviation__r_0.35000000000000003": 1,
         "bg_value__large_standard_deviation__r_0.4": 0,
         "bg_value__large_standard_deviation__r_0.45": 0,
         "bg_value__large_standard_deviation__r_0.5": 0,
         "bg_value__large_standard_deviation__r_0.55": 0,
         "bg_value__large_standard_deviation__r_0.6000000000000001": 0,
         "bg_value__large_standard_deviation__r_0.65": 0,
         "bg_value__large_standard_deviation__r_0.7000000000000001": 0,
         "bg_value__large_standard_deviation__r_0.75": 0,
         "bg_value__large_standard_deviation__r_0.8": 0,
         "bg_value__large_standard_deviation__r_0.8500000000000001": 0,
         "bg_value__large_standard_deviation__r_0.9": 0,
         "bg_value__large_standard_deviation__r_0.9500000000000001": 0,
         "bg_value__quantile__q_0.1": 196,
         "bg_value__quantile__q_0.2": 197,
         "bg_value__quantile__q_0.3": 197.5,
         "bg_value__quantile__q_0.4": 198,
         "bg_value__quantile__q_0.6": 205,
         "bg_value__quantile__q_0.7": 207.5,
         "bg_value__quantile__q_0.8": 210,
         "bg_value__quantile__q_0.9": 211,
         "bg_value__autocorrelation__lag_0": 1,
         "bg_value__autocorrelation__lag_1": 0.7053444945267227,
         "bg_value__autocorrelation__lag_2": -0.0621377978106888,
         "bg_value__autocorrelation__lag_3": -0.9278815196394078,
         "bg_value__autocorrelation__lag_4": -1.2337411461687062,
         "bg_value__autocorrelation__lag_5": -1.0270444301352233,
         "bg_value__autocorrelation__lag_6": "nan",
         "bg_value__autocorrelation__lag_7": "nan",
         "bg_value__autocorrelation__lag_8": "nan",
         "bg_value__autocorrelation__lag_9": "nan",
         "bg_value__agg_autocorrelation__f_agg_\"mean\"__maxlag_40": -0.5090920798454606,
         "bg_value__agg_autocorrelation__f_agg_\"median\"__maxlag_40": -0.9278815196394077,
         "bg_value__agg_autocorrelation__f_agg_\"var\"__maxlag_40": 0.5286799649557661,
         "bg_value__partial_autocorrelation__lag_0": 1,
         "bg_value__partial_autocorrelation__lag_1": 0.7053444945267227,
         "bg_value__partial_autocorrelation__lag_2": -1.113752725619797,
         "bg_value__partial_autocorrelation__lag_3": "nan",
         "bg_value__partial_autocorrelation__lag_4": "nan",
         "bg_value__partial_autocorrelation__lag_5": "nan",
         "bg_value__partial_autocorrelation__lag_6": "nan",
         "bg_value__partial_autocorrelation__lag_7": "nan",
         "bg_value__partial_autocorrelation__lag_8": "nan",
         "bg_value__partial_autocorrelation__lag_9": "nan",
         "bg_value__number_cwt_peaks__n_1": 1,
         "bg_value__number_cwt_peaks__n_5": 1,
         "bg_value__number_peaks__n_1": 0,
         "bg_value__number_peaks__n_3": 0,
         "bg_value__number_peaks__n_5": 0,
         "bg_value__number_peaks__n_10": 0,
         "bg_value__number_peaks__n_50": 0,
         "bg_value__binned_entropy__max_bins_10": 1.5607104090414063,
         "bg_value__index_mass_quantile__q_0.1": 0.16666666666666666,
         "bg_value__index_mass_quantile__q_0.2": 0.3333333333333333,
         "bg_value__index_mass_quantile__q_0.3": 0.3333333333333333,
         "bg_value__index_mass_quantile__q_0.4": 0.5,
         "bg_value__index_mass_quantile__q_0.6": 0.6666666666666666,
         "bg_value__index_mass_quantile__q_0.7": 0.8333333333333334,
         "bg_value__index_mass_quantile__q_0.8": 0.8333333333333334,
         "bg_value__index_mass_quantile__q_0.9": 1,
         "bg_value__cwt_coefficients__coeff_0__w_2__widths_(2, 5, 10, 20)": 118.71943166677386,
         "bg_value__cwt_coefficients__coeff_0__w_5__widths_(2, 5, 10, 20)": 192.02870550292386,
         "bg_value__cwt_coefficients__coeff_0__w_10__widths_(2, 5, 10, 20)": 154.8935259738644,
         "bg_value__cwt_coefficients__coeff_0__w_20__widths_(2, 5, 10, 20)": 113.18048807047192,
         "bg_value__cwt_coefficients__coeff_1__w_2__widths_(2, 5, 10, 20)": 226.52882071115135,
         "bg_value__cwt_coefficients__coeff_1__w_5__widths_(2, 5, 10, 20)": 269.2640816012053,
         "bg_value__cwt_coefficients__coeff_1__w_10__widths_(2, 5, 10, 20)": 210.70022302949707,
         "bg_value__cwt_coefficients__coeff_1__w_20__widths_(2, 5, 10, 20)": 152.8633050217653,
         "bg_value__cwt_coefficients__coeff_2__w_2__widths_(2, 5, 10, 20)": 266.9040080567768,
         "bg_value__cwt_coefficients__coeff_2__w_5__widths_(2, 5, 10, 20)": 339.67802657307266,
         "bg_value__cwt_coefficients__coeff_2__w_10__widths_(2, 5, 10, 20)": 266.28406716718484,
         "bg_value__cwt_coefficients__coeff_2__w_20__widths_(2, 5, 10, 20)": 193.23195848516633,
         "bg_value__cwt_coefficients__coeff_3__w_2__widths_(2, 5, 10, 20)": 241.29344392402493,
         "bg_value__cwt_coefficients__coeff_3__w_5__widths_(2, 5, 10, 20)": 395.51913673944813,
         "bg_value__cwt_coefficients__coeff_3__w_10__widths_(2, 5, 10, 20)": 319.39055646450885,
         "bg_value__cwt_coefficients__coeff_3__w_20__widths_(2, 5, 10, 20)": 233.4389137296885,
         "bg_value__cwt_coefficients__coeff_4__w_2__widths_(2, 5, 10, 20)": 283.3055765847918,
         "bg_value__cwt_coefficients__coeff_4__w_5__widths_(2, 5, 10, 20)": 346.63972398021406,
         "bg_value__cwt_coefficients__coeff_4__w_10__widths_(2, 5, 10, 20)": 270.4210216599112,
         "bg_value__cwt_coefficients__coeff_4__w_20__widths_(2, 5, 10, 20)": 196.00087914610816,
         "bg_value__cwt_coefficients__coeff_5__w_2__widths_(2, 5, 10, 20)": 245.57349302995826,
         "bg_value__cwt_coefficients__coeff_5__w_5__widths_(2, 5, 10, 20)": 280.990258169567,
         "bg_value__cwt_coefficients__coeff_5__w_10__widths_(2, 5, 10, 20)": 218.75138455845547,
         "bg_value__cwt_coefficients__coeff_5__w_20__widths_(2, 5, 10, 20)": 158.50535485797357,
         "bg_value__cwt_coefficients__coeff_6__w_2__widths_(2, 5, 10, 20)": "nan",
         "bg_value__cwt_coefficients__coeff_6__w_5__widths_(2, 5, 10, 20)": "nan",
         "bg_value__cwt_coefficients__coeff_6__w_10__widths_(2, 5, 10, 20)": "nan",
         "bg_value__cwt_coefficients__coeff_6__w_20__widths_(2, 5, 10, 20)": "nan",
         "bg_value__cwt_coefficients__coeff_7__w_2__widths_(2, 5, 10, 20)": "nan",
         "bg_value__cwt_coefficients__coeff_7__w_5__widths_(2, 5, 10, 20)": "nan",
         "bg_value__cwt_coefficients__coeff_7__w_10__widths_(2, 5, 10, 20)": "nan",
         "bg_value__cwt_coefficients__coeff_7__w_20__widths_(2, 5, 10, 20)": "nan",
         "bg_value__cwt_coefficients__coeff_8__w_2__widths_(2, 5, 10, 20)": "nan",
         "bg_value__cwt_coefficients__coeff_8__w_5__widths_(2, 5, 10, 20)": "nan",
         "bg_value__cwt_coefficients__coeff_8__w_10__widths_(2, 5, 10, 20)": "nan",
         "bg_value__cwt_coefficients__coeff_8__w_20__widths_(2, 5, 10, 20)": "nan",
         "bg_value__cwt_coefficients__coeff_9__w_2__widths_(2, 5, 10, 20)": "nan",
         "bg_value__cwt_coefficients__coeff_9__w_5__widths_(2, 5, 10, 20)": "nan",
         "bg_value__cwt_coefficients__coeff_9__w_10__widths_(2, 5, 10, 20)": "nan",
         "bg_value__cwt_coefficients__coeff_9__w_20__widths_(2, 5, 10, 20)": "nan",
         "bg_value__cwt_coefficients__coeff_10__w_2__widths_(2, 5, 10, 20)": "nan",
         "bg_value__cwt_coefficients__coeff_10__w_5__widths_(2, 5, 10, 20)": "nan",
         "bg_value__cwt_coefficients__coeff_10__w_10__widths_(2, 5, 10, 20)": "nan",
         "bg_value__cwt_coefficients__coeff_10__w_20__widths_(2, 5, 10, 20)": "nan",
         "bg_value__cwt_coefficients__coeff_11__w_2__widths_(2, 5, 10, 20)": "nan",
         "bg_value__cwt_coefficients__coeff_11__w_5__widths_(2, 5, 10, 20)": "nan",
         "bg_value__cwt_coefficients__coeff_11__w_10__widths_(2, 5, 10, 20)": "nan",
         "bg_value__cwt_coefficients__coeff_11__w_20__widths_(2, 5, 10, 20)": "nan",
         "bg_value__cwt_coefficients__coeff_12__w_2__widths_(2, 5, 10, 20)": "nan",
         "bg_value__cwt_coefficients__coeff_12__w_5__widths_(2, 5, 10, 20)": "nan",
         "bg_value__cwt_coefficients__coeff_12__w_10__widths_(2, 5, 10, 20)": "nan",
         "bg_value__cwt_coefficients__coeff_12__w_20__widths_(2, 5, 10, 20)": "nan",
         "bg_value__cwt_coefficients__coeff_13__w_2__widths_(2, 5, 10, 20)": "nan",
         "bg_value__cwt_coefficients__coeff_13__w_5__widths_(2, 5, 10, 20)": "nan",
         "bg_value__cwt_coefficients__coeff_13__w_10__widths_(2, 5, 10, 20)": "nan",
         "bg_value__cwt_coefficients__coeff_13__w_20__widths_(2, 5, 10, 20)": "nan",
         "bg_value__cwt_coefficients__coeff_14__w_2__widths_(2, 5, 10, 20)": "nan",
         "bg_value__cwt_coefficients__coeff_14__w_5__widths_(2, 5, 10, 20)": "nan",
         "bg_value__cwt_coefficients__coeff_14__w_10__widths_(2, 5, 10, 20)": "nan",
         "bg_value__cwt_coefficients__coeff_14__w_20__widths_(2, 5, 10, 20)": "nan",
         "bg_value__spkt_welch_density__coeff_2": 22.16666666666664,
         "bg_value__spkt_welch_density__coeff_5": "nan",
         "bg_value__spkt_welch_density__coeff_8": "nan",
         "bg_value__ar_coefficient__coeff_0__k_10": "nan",
         "bg_value__ar_coefficient__coeff_1__k_10": "nan",
         "bg_value__ar_coefficient__coeff_2__k_10": "nan",
         "bg_value__ar_coefficient__coeff_3__k_10": "nan",
         "bg_value__ar_coefficient__coeff_4__k_10": "nan",
         "bg_value__ar_coefficient__coeff_5__k_10": "nan",
         "bg_value__ar_coefficient__coeff_6__k_10": "nan",
         "bg_value__ar_coefficient__coeff_7__k_10": "nan",
         "bg_value__ar_coefficient__coeff_8__k_10": "nan",
         "bg_value__ar_coefficient__coeff_9__k_10": "nan",
         "bg_value__ar_coefficient__coeff_10__k_10": 0,
         "bg_value__change_quantiles__f_agg_\"mean\"__isabs_False__qh_0.2__ql_0.0": 2,
         "bg_value__change_quantiles__f_agg_\"var\"__isabs_False__qh_0.2__ql_0.0": 0,
         "bg_value__change_quantiles__f_agg_\"mean\"__isabs_True__qh_0.2__ql_0.0": 2,
         "bg_value__change_quantiles__f_agg_\"var\"__isabs_True__qh_0.2__ql_0.0": 0,
         "bg_value__change_quantiles__f_agg_\"mean\"__isabs_False__qh_0.4__ql_0.0": -0.5,
         "bg_value__change_quantiles__f_agg_\"var\"__isabs_False__qh_0.4__ql_0.0": 6.25,
         "bg_value__change_quantiles__f_agg_\"mean\"__isabs_True__qh_0.4__ql_0.0": 2.5,
         "bg_value__change_quantiles__f_agg_\"var\"__isabs_True__qh_0.4__ql_0.0": 0.25,
         "bg_value__change_quantiles__f_agg_\"mean\"__isabs_False__qh_0.6__ql_0.0": 2.3333333333333335,
         "bg_value__change_quantiles__f_agg_\"var\"__isabs_False__qh_0.6__ql_0.0": 20.222222222222225,
         "bg_value__change_quantiles__f_agg_\"mean\"__isabs_True__qh_0.6__ql_0.0": 4.333333333333333,
         "bg_value__change_quantiles__f_agg_\"var\"__isabs_True__qh_0.6__ql_0.0": 6.888888888888888,
         "bg_value__change_quantiles__f_agg_\"mean\"__isabs_False__qh_0.8__ql_0.0": 3,
         "bg_value__change_quantiles__f_agg_\"var\"__isabs_False__qh_0.8__ql_0.0": 16.5,
         "bg_value__change_quantiles__f_agg_\"mean\"__isabs_True__qh_0.8__ql_0.0": 4.5,
         "bg_value__change_quantiles__f_agg_\"var\"__isabs_True__qh_0.8__ql_0.0": 5.25,
         "bg_value__change_quantiles__f_agg_\"mean\"__isabs_False__qh_1.0__ql_0.0": 2.8,
         "bg_value__change_quantiles__f_agg_\"var\"__isabs_False__qh_1.0__ql_0.0": 13.360000000000003,
         "bg_value__change_quantiles__f_agg_\"mean\"__isabs_True__qh_1.0__ql_0.0": 4,
         "bg_value__change_quantiles__f_agg_\"var\"__isabs_True__qh_1.0__ql_0.0": 5.2,
         "bg_value__change_quantiles__f_agg_\"mean\"__isabs_False__qh_0.4__ql_0.2": 0,
         "bg_value__change_quantiles__f_agg_\"var\"__isabs_False__qh_0.4__ql_0.2": 0,
         "bg_value__change_quantiles__f_agg_\"mean\"__isabs_True__qh_0.4__ql_0.2": 0,
         "bg_value__change_quantiles__f_agg_\"var\"__isabs_True__qh_0.4__ql_0.2": 0,
         "bg_value__change_quantiles__f_agg_\"mean\"__isabs_False__qh_0.6__ql_0.2": 8,
         "bg_value__change_quantiles__f_agg_\"var\"__isabs_False__qh_0.6__ql_0.2": 0,
         "bg_value__change_quantiles__f_agg_\"mean\"__isabs_True__qh_0.6__ql_0.2": 8,
         "bg_value__change_quantiles__f_agg_\"var\"__isabs_True__qh_0.6__ql_0.2": 0,
         "bg_value__change_quantiles__f_agg_\"mean\"__isabs_False__qh_0.8__ql_0.2": 6.5,
         "bg_value__change_quantiles__f_agg_\"var\"__isabs_False__qh_0.8__ql_0.2": 2.25,
         "bg_value__change_quantiles__f_agg_\"mean\"__isabs_True__qh_0.8__ql_0.2": 6.5,
         "bg_value__change_quantiles__f_agg_\"var\"__isabs_True__qh_0.8__ql_0.2": 2.25,
         "bg_value__change_quantiles__f_agg_\"mean\"__isabs_False__qh_1.0__ql_0.2": 5,
         "bg_value__change_quantiles__f_agg_\"var\"__isabs_False__qh_1.0__ql_0.2": 6,
         "bg_value__change_quantiles__f_agg_\"mean\"__isabs_True__qh_1.0__ql_0.2": 5,
         "bg_value__change_quantiles__f_agg_\"var\"__isabs_True__qh_1.0__ql_0.2": 6,
         "bg_value__change_quantiles__f_agg_\"mean\"__isabs_False__qh_0.6__ql_0.4": 0,
         "bg_value__change_quantiles__f_agg_\"var\"__isabs_False__qh_0.6__ql_0.4": 0,
         "bg_value__change_quantiles__f_agg_\"mean\"__isabs_True__qh_0.6__ql_0.4": 0,
         "bg_value__change_quantiles__f_agg_\"var\"__isabs_True__qh_0.6__ql_0.4": 0,
         "bg_value__change_quantiles__f_agg_\"mean\"__isabs_False__qh_0.8__ql_0.4": 5,
         "bg_value__change_quantiles__f_agg_\"var\"__isabs_False__qh_0.8__ql_0.4": 0,
         "bg_value__change_quantiles__f_agg_\"mean\"__isabs_True__qh_0.8__ql_0.4": 5,
         "bg_value__change_quantiles__f_agg_\"var\"__isabs_True__qh_0.8__ql_0.4": 0,
         "bg_value__change_quantiles__f_agg_\"mean\"__isabs_False__qh_1.0__ql_0.4": 3.5,
         "bg_value__change_quantiles__f_agg_\"var\"__isabs_False__qh_1.0__ql_0.4": 2.25,
         "bg_value__change_quantiles__f_agg_\"mean\"__isabs_True__qh_1.0__ql_0.4": 3.5,
         "bg_value__change_quantiles__f_agg_\"var\"__isabs_True__qh_1.0__ql_0.4": 2.25,
         "bg_value__change_quantiles__f_agg_\"mean\"__isabs_False__qh_0.8__ql_0.6": 5,
         "bg_value__change_quantiles__f_agg_\"var\"__isabs_False__qh_0.8__ql_0.6": 0,
         "bg_value__change_quantiles__f_agg_\"mean\"__isabs_True__qh_0.8__ql_0.6": 5,
         "bg_value__change_quantiles__f_agg_\"var\"__isabs_True__qh_0.8__ql_0.6": 0,
         "bg_value__change_quantiles__f_agg_\"mean\"__isabs_False__qh_1.0__ql_0.6": 3.5,
         "bg_value__change_quantiles__f_agg_\"var\"__isabs_False__qh_1.0__ql_0.6": 2.25,
         "bg_value__change_quantiles__f_agg_\"mean\"__isabs_True__qh_1.0__ql_0.6": 3.5,
         "bg_value__change_quantiles__f_agg_\"var\"__isabs_True__qh_1.0__ql_0.6": 2.25,
         "bg_value__change_quantiles__f_agg_\"mean\"__isabs_False__qh_1.0__ql_0.8": 2,
         "bg_value__change_quantiles__f_agg_\"var\"__isabs_False__qh_1.0__ql_0.8": 0,
         "bg_value__change_quantiles__f_agg_\"mean\"__isabs_True__qh_1.0__ql_0.8": 2,
         "bg_value__change_quantiles__f_agg_\"var\"__isabs_True__qh_1.0__ql_0.8": 0,
         "bg_value__fft_coefficient__attr_\"real\"__coeff_0": 1217,
         "bg_value__fft_coefficient__attr_\"real\"__coeff_1": -6.999999999999999,
         "bg_value__fft_coefficient__attr_\"real\"__coeff_2": -4.000000000000001,
         "bg_value__fft_coefficient__attr_\"real\"__coeff_3": -7,
         "bg_value__fft_coefficient__attr_\"real\"__coeff_4": "nan",
         "bg_value__fft_coefficient__attr_\"real\"__coeff_5": "nan",
         "bg_value__fft_coefficient__attr_\"real\"__coeff_6": "nan",
         "bg_value__fft_coefficient__attr_\"real\"__coeff_7": "nan",
         "bg_value__fft_coefficient__attr_\"real\"__coeff_8": "nan",
         "bg_value__fft_coefficient__attr_\"real\"__coeff_9": "nan",
         "bg_value__fft_coefficient__attr_\"real\"__coeff_10": "nan",
         "bg_value__fft_coefficient__attr_\"real\"__coeff_11": "nan",
         "bg_value__fft_coefficient__attr_\"real\"__coeff_12": "nan",
         "bg_value__fft_coefficient__attr_\"real\"__coeff_13": "nan",
         "bg_value__fft_coefficient__attr_\"real\"__coeff_14": "nan",
         "bg_value__fft_coefficient__attr_\"real\"__coeff_15": "nan",
         "bg_value__fft_coefficient__attr_\"real\"__coeff_16": "nan",
         "bg_value__fft_coefficient__attr_\"real\"__coeff_17": "nan",
         "bg_value__fft_coefficient__attr_\"real\"__coeff_18": "nan",
         "bg_value__fft_coefficient__attr_\"real\"__coeff_19": "nan",
         "bg_value__fft_coefficient__attr_\"real\"__coeff_20": "nan",
         "bg_value__fft_coefficient__attr_\"real\"__coeff_21": "nan",
         "bg_value__fft_coefficient__attr_\"real\"__coeff_22": "nan",
         "bg_value__fft_coefficient__attr_\"real\"__coeff_23": "nan",
         "bg_value__fft_coefficient__attr_\"real\"__coeff_24": "nan",
         "bg_value__fft_coefficient__attr_\"real\"__coeff_25": "nan",
         "bg_value__fft_coefficient__attr_\"real\"__coeff_26": "nan",
         "bg_value__fft_coefficient__attr_\"real\"__coeff_27": "nan",
         "bg_value__fft_coefficient__attr_\"real\"__coeff_28": "nan",
         "bg_value__fft_coefficient__attr_\"real\"__coeff_29": "nan",
         "bg_value__fft_coefficient__attr_\"real\"__coeff_30": "nan",
         "bg_value__fft_coefficient__attr_\"real\"__coeff_31": "nan",
         "bg_value__fft_coefficient__attr_\"real\"__coeff_32": "nan",
         "bg_value__fft_coefficient__attr_\"real\"__coeff_33": "nan",
         "bg_value__fft_coefficient__attr_\"real\"__coeff_34": "nan",
         "bg_value__fft_coefficient__attr_\"real\"__coeff_35": "nan",
         "bg_value__fft_coefficient__attr_\"real\"__coeff_36": "nan",
         "bg_value__fft_coefficient__attr_\"real\"__coeff_37": "nan",
         "bg_value__fft_coefficient__attr_\"real\"__coeff_38": "nan",
         "bg_value__fft_coefficient__attr_\"real\"__coeff_39": "nan",
         "bg_value__fft_coefficient__attr_\"real\"__coeff_40": "nan",
         "bg_value__fft_coefficient__attr_\"real\"__coeff_41": "nan",
         "bg_value__fft_coefficient__attr_\"real\"__coeff_42": "nan",
         "bg_value__fft_coefficient__attr_\"real\"__coeff_43": "nan",
         "bg_value__fft_coefficient__attr_\"real\"__coeff_44": "nan",
         "bg_value__fft_coefficient__attr_\"real\"__coeff_45": "nan",
         "bg_value__fft_coefficient__attr_\"real\"__coeff_46": "nan",
         "bg_value__fft_coefficient__attr_\"real\"__coeff_47": "nan",
         "bg_value__fft_coefficient__attr_\"real\"__coeff_48": "nan",
         "bg_value__fft_coefficient__attr_\"real\"__coeff_49": "nan",
         "bg_value__fft_coefficient__attr_\"real\"__coeff_50": "nan",
         "bg_value__fft_coefficient__attr_\"real\"__coeff_51": "nan",
         "bg_value__fft_coefficient__attr_\"real\"__coeff_52": "nan",
         "bg_value__fft_coefficient__attr_\"real\"__coeff_53": "nan",
         "bg_value__fft_coefficient__attr_\"real\"__coeff_54": "nan",
         "bg_value__fft_coefficient__attr_\"real\"__coeff_55": "nan",
         "bg_value__fft_coefficient__attr_\"real\"__coeff_56": "nan",
         "bg_value__fft_coefficient__attr_\"real\"__coeff_57": "nan",
         "bg_value__fft_coefficient__attr_\"real\"__coeff_58": "nan",
         "bg_value__fft_coefficient__attr_\"real\"__coeff_59": "nan",
         "bg_value__fft_coefficient__attr_\"real\"__coeff_60": "nan",
         "bg_value__fft_coefficient__attr_\"real\"__coeff_61": "nan",
         "bg_value__fft_coefficient__attr_\"real\"__coeff_62": "nan",
         "bg_value__fft_coefficient__attr_\"real\"__coeff_63": "nan",
         "bg_value__fft_coefficient__attr_\"real\"__coeff_64": "nan",
         "bg_value__fft_coefficient__attr_\"real\"__coeff_65": "nan",
         "bg_value__fft_coefficient__attr_\"real\"__coeff_66": "nan",
         "bg_value__fft_coefficient__attr_\"real\"__coeff_67": "nan",
         "bg_value__fft_coefficient__attr_\"real\"__coeff_68": "nan",
         "bg_value__fft_coefficient__attr_\"real\"__coeff_69": "nan",
         "bg_value__fft_coefficient__attr_\"real\"__coeff_70": "nan",
         "bg_value__fft_coefficient__attr_\"real\"__coeff_71": "nan",
         "bg_value__fft_coefficient__attr_\"real\"__coeff_72": "nan",
         "bg_value__fft_coefficient__attr_\"real\"__coeff_73": "nan",
         "bg_value__fft_coefficient__attr_\"real\"__coeff_74": "nan",
         "bg_value__fft_coefficient__attr_\"real\"__coeff_75": "nan",
         "bg_value__fft_coefficient__attr_\"real\"__coeff_76": "nan",
         "bg_value__fft_coefficient__attr_\"real\"__coeff_77": "nan",
         "bg_value__fft_coefficient__attr_\"real\"__coeff_78": "nan",
         "bg_value__fft_coefficient__attr_\"real\"__coeff_79": "nan",
         "bg_value__fft_coefficient__attr_\"real\"__coeff_80": "nan",
         "bg_value__fft_coefficient__attr_\"real\"__coeff_81": "nan",
         "bg_value__fft_coefficient__attr_\"real\"__coeff_82": "nan",
         "bg_value__fft_coefficient__attr_\"real\"__coeff_83": "nan",
         "bg_value__fft_coefficient__attr_\"real\"__coeff_84": "nan",
         "bg_value__fft_coefficient__attr_\"real\"__coeff_85": "nan",
         "bg_value__fft_coefficient__attr_\"real\"__coeff_86": "nan",
         "bg_value__fft_coefficient__attr_\"real\"__coeff_87": "nan",
         "bg_value__fft_coefficient__attr_\"real\"__coeff_88": "nan",
         "bg_value__fft_coefficient__attr_\"real\"__coeff_89": "nan",
         "bg_value__fft_coefficient__attr_\"real\"__coeff_90": "nan",
         "bg_value__fft_coefficient__attr_\"real\"__coeff_91": "nan",
         "bg_value__fft_coefficient__attr_\"real\"__coeff_92": "nan",
         "bg_value__fft_coefficient__attr_\"real\"__coeff_93": "nan",
         "bg_value__fft_coefficient__attr_\"real\"__coeff_94": "nan",
         "bg_value__fft_coefficient__attr_\"real\"__coeff_95": "nan",
         "bg_value__fft_coefficient__attr_\"real\"__coeff_96": "nan",
         "bg_value__fft_coefficient__attr_\"real\"__coeff_97": "nan",
         "bg_value__fft_coefficient__attr_\"real\"__coeff_98": "nan",
         "bg_value__fft_coefficient__attr_\"real\"__coeff_99": "nan",
         "bg_value__fft_coefficient__attr_\"imag\"__coeff_0": 0,
         "bg_value__fft_coefficient__attr_\"imag\"__coeff_1": 25.980762113533157,
         "bg_value__fft_coefficient__attr_\"imag\"__coeff_2": 3.4641016151377535,
         "bg_value__fft_coefficient__attr_\"imag\"__coeff_3": 0,
         "bg_value__fft_coefficient__attr_\"imag\"__coeff_4": "nan",
         "bg_value__fft_coefficient__attr_\"imag\"__coeff_5": "nan",
         "bg_value__fft_coefficient__attr_\"imag\"__coeff_6": "nan",
         "bg_value__fft_coefficient__attr_\"imag\"__coeff_7": "nan",
         "bg_value__fft_coefficient__attr_\"imag\"__coeff_8": "nan",
         "bg_value__fft_coefficient__attr_\"imag\"__coeff_9": "nan",
         "bg_value__fft_coefficient__attr_\"imag\"__coeff_10": "nan",
         "bg_value__fft_coefficient__attr_\"imag\"__coeff_11": "nan",
         "bg_value__fft_coefficient__attr_\"imag\"__coeff_12": "nan",
         "bg_value__fft_coefficient__attr_\"imag\"__coeff_13": "nan",
         "bg_value__fft_coefficient__attr_\"imag\"__coeff_14": "nan",
         "bg_value__fft_coefficient__attr_\"imag\"__coeff_15": "nan",
         "bg_value__fft_coefficient__attr_\"imag\"__coeff_16": "nan",
         "bg_value__fft_coefficient__attr_\"imag\"__coeff_17": "nan",
         "bg_value__fft_coefficient__attr_\"imag\"__coeff_18": "nan",
         "bg_value__fft_coefficient__attr_\"imag\"__coeff_19": "nan",
         "bg_value__fft_coefficient__attr_\"imag\"__coeff_20": "nan",
         "bg_value__fft_coefficient__attr_\"imag\"__coeff_21": "nan",
         "bg_value__fft_coefficient__attr_\"imag\"__coeff_22": "nan",
         "bg_value__fft_coefficient__attr_\"imag\"__coeff_23": "nan",
         "bg_value__fft_coefficient__attr_\"imag\"__coeff_24": "nan",
         "bg_value__fft_coefficient__attr_\"imag\"__coeff_25": "nan",
         "bg_value__fft_coefficient__attr_\"imag\"__coeff_26": "nan",
         "bg_value__fft_coefficient__attr_\"imag\"__coeff_27": "nan",
         "bg_value__fft_coefficient__attr_\"imag\"__coeff_28": "nan",
         "bg_value__fft_coefficient__attr_\"imag\"__coeff_29": "nan",
         "bg_value__fft_coefficient__attr_\"imag\"__coeff_30": "nan",
         "bg_value__fft_coefficient__attr_\"imag\"__coeff_31": "nan",
         "bg_value__fft_coefficient__attr_\"imag\"__coeff_32": "nan",
         "bg_value__fft_coefficient__attr_\"imag\"__coeff_33": "nan",
         "bg_value__fft_coefficient__attr_\"imag\"__coeff_34": "nan",
         "bg_value__fft_coefficient__attr_\"imag\"__coeff_35": "nan",
         "bg_value__fft_coefficient__attr_\"imag\"__coeff_36": "nan",
         "bg_value__fft_coefficient__attr_\"imag\"__coeff_37": "nan",
         "bg_value__fft_coefficient__attr_\"imag\"__coeff_38": "nan",
         "bg_value__fft_coefficient__attr_\"imag\"__coeff_39": "nan",
         "bg_value__fft_coefficient__attr_\"imag\"__coeff_40": "nan",
         "bg_value__fft_coefficient__attr_\"imag\"__coeff_41": "nan",
         "bg_value__fft_coefficient__attr_\"imag\"__coeff_42": "nan",
         "bg_value__fft_coefficient__attr_\"imag\"__coeff_43": "nan",
         "bg_value__fft_coefficient__attr_\"imag\"__coeff_44": "nan",
         "bg_value__fft_coefficient__attr_\"imag\"__coeff_45": "nan",
         "bg_value__fft_coefficient__attr_\"imag\"__coeff_46": "nan",
         "bg_value__fft_coefficient__attr_\"imag\"__coeff_47": "nan",
         "bg_value__fft_coefficient__attr_\"imag\"__coeff_48": "nan",
         "bg_value__fft_coefficient__attr_\"imag\"__coeff_49": "nan",
         "bg_value__fft_coefficient__attr_\"imag\"__coeff_50": "nan",
         "bg_value__fft_coefficient__attr_\"imag\"__coeff_51": "nan",
         "bg_value__fft_coefficient__attr_\"imag\"__coeff_52": "nan",
         "bg_value__fft_coefficient__attr_\"imag\"__coeff_53": "nan",
         "bg_value__fft_coefficient__attr_\"imag\"__coeff_54": "nan",
         "bg_value__fft_coefficient__attr_\"imag\"__coeff_55": "nan",
         "bg_value__fft_coefficient__attr_\"imag\"__coeff_56": "nan",
         "bg_value__fft_coefficient__attr_\"imag\"__coeff_57": "nan",
         "bg_value__fft_coefficient__attr_\"imag\"__coeff_58": "nan",
         "bg_value__fft_coefficient__attr_\"imag\"__coeff_59": "nan",
         "bg_value__fft_coefficient__attr_\"imag\"__coeff_60": "nan",
         "bg_value__fft_coefficient__attr_\"imag\"__coeff_61": "nan",
         "bg_value__fft_coefficient__attr_\"imag\"__coeff_62": "nan",
         "bg_value__fft_coefficient__attr_\"imag\"__coeff_63": "nan",
         "bg_value__fft_coefficient__attr_\"imag\"__coeff_64": "nan",
         "bg_value__fft_coefficient__attr_\"imag\"__coeff_65": "nan",
         "bg_value__fft_coefficient__attr_\"imag\"__coeff_66": "nan",
         "bg_value__fft_coefficient__attr_\"imag\"__coeff_67": "nan",
         "bg_value__fft_coefficient__attr_\"imag\"__coeff_68": "nan",
         "bg_value__fft_coefficient__attr_\"imag\"__coeff_69": "nan",
         "bg_value__fft_coefficient__attr_\"imag\"__coeff_70": "nan",
         "bg_value__fft_coefficient__attr_\"imag\"__coeff_71": "nan",
         "bg_value__fft_coefficient__attr_\"imag\"__coeff_72": "nan",
         "bg_value__fft_coefficient__attr_\"imag\"__coeff_73": "nan",
         "bg_value__fft_coefficient__attr_\"imag\"__coeff_74": "nan",
         "bg_value__fft_coefficient__attr_\"imag\"__coeff_75": "nan",
         "bg_value__fft_coefficient__attr_\"imag\"__coeff_76": "nan",
         "bg_value__fft_coefficient__attr_\"imag\"__coeff_77": "nan",
         "bg_value__fft_coefficient__attr_\"imag\"__coeff_78": "nan",
         "bg_value__fft_coefficient__attr_\"imag\"__coeff_79": "nan",
         "bg_value__fft_coefficient__attr_\"imag\"__coeff_80": "nan",
         "bg_value__fft_coefficient__attr_\"imag\"__coeff_81": "nan",
         "bg_value__fft_coefficient__attr_\"imag\"__coeff_82": "nan",
         "bg_value__fft_coefficient__attr_\"imag\"__coeff_83": "nan",
         "bg_value__fft_coefficient__attr_\"imag\"__coeff_84": "nan",
         "bg_value__fft_coefficient__attr_\"imag\"__coeff_85": "nan",
         "bg_value__fft_coefficient__attr_\"imag\"__coeff_86": "nan",
         "bg_value__fft_coefficient__attr_\"imag\"__coeff_87": "nan",
         "bg_value__fft_coefficient__attr_\"imag\"__coeff_88": "nan",
         "bg_value__fft_coefficient__attr_\"imag\"__coeff_89": "nan",
         "bg_value__fft_coefficient__attr_\"imag\"__coeff_90": "nan",
         "bg_value__fft_coefficient__attr_\"imag\"__coeff_91": "nan",
         "bg_value__fft_coefficient__attr_\"imag\"__coeff_92": "nan",
         "bg_value__fft_coefficient__attr_\"imag\"__coeff_93": "nan",
         "bg_value__fft_coefficient__attr_\"imag\"__coeff_94": "nan",
         "bg_value__fft_coefficient__attr_\"imag\"__coeff_95": "nan",
         "bg_value__fft_coefficient__attr_\"imag\"__coeff_96": "nan",
         "bg_value__fft_coefficient__attr_\"imag\"__coeff_97": "nan",
         "bg_value__fft_coefficient__attr_\"imag\"__coeff_98": "nan",
         "bg_value__fft_coefficient__attr_\"imag\"__coeff_99": "nan",
         "bg_value__fft_coefficient__attr_\"abs\"__coeff_0": 1217,
         "bg_value__fft_coefficient__attr_\"abs\"__coeff_1": 26.90724809414742,
         "bg_value__fft_coefficient__attr_\"abs\"__coeff_2": 5.291502622129181,
         "bg_value__fft_coefficient__attr_\"abs\"__coeff_3": 7,
         "bg_value__fft_coefficient__attr_\"abs\"__coeff_4": "nan",
         "bg_value__fft_coefficient__attr_\"abs\"__coeff_5": "nan",
         "bg_value__fft_coefficient__attr_\"abs\"__coeff_6": "nan",
         "bg_value__fft_coefficient__attr_\"abs\"__coeff_7": "nan",
         "bg_value__fft_coefficient__attr_\"abs\"__coeff_8": "nan",
         "bg_value__fft_coefficient__attr_\"abs\"__coeff_9": "nan",
         "bg_value__fft_coefficient__attr_\"abs\"__coeff_10": "nan",
         "bg_value__fft_coefficient__attr_\"abs\"__coeff_11": "nan",
         "bg_value__fft_coefficient__attr_\"abs\"__coeff_12": "nan",
         "bg_value__fft_coefficient__attr_\"abs\"__coeff_13": "nan",
         "bg_value__fft_coefficient__attr_\"abs\"__coeff_14": "nan",
         "bg_value__fft_coefficient__attr_\"abs\"__coeff_15": "nan",
         "bg_value__fft_coefficient__attr_\"abs\"__coeff_16": "nan",
         "bg_value__fft_coefficient__attr_\"abs\"__coeff_17": "nan",
         "bg_value__fft_coefficient__attr_\"abs\"__coeff_18": "nan",
         "bg_value__fft_coefficient__attr_\"abs\"__coeff_19": "nan",
         "bg_value__fft_coefficient__attr_\"abs\"__coeff_20": "nan",
         "bg_value__fft_coefficient__attr_\"abs\"__coeff_21": "nan",
         "bg_value__fft_coefficient__attr_\"abs\"__coeff_22": "nan",
         "bg_value__fft_coefficient__attr_\"abs\"__coeff_23": "nan",
         "bg_value__fft_coefficient__attr_\"abs\"__coeff_24": "nan",
         "bg_value__fft_coefficient__attr_\"abs\"__coeff_25": "nan",
         "bg_value__fft_coefficient__attr_\"abs\"__coeff_26": "nan",
         "bg_value__fft_coefficient__attr_\"abs\"__coeff_27": "nan",
         "bg_value__fft_coefficient__attr_\"abs\"__coeff_28": "nan",
         "bg_value__fft_coefficient__attr_\"abs\"__coeff_29": "nan",
         "bg_value__fft_coefficient__attr_\"abs\"__coeff_30": "nan",
         "bg_value__fft_coefficient__attr_\"abs\"__coeff_31": "nan",
         "bg_value__fft_coefficient__attr_\"abs\"__coeff_32": "nan",
         "bg_value__fft_coefficient__attr_\"abs\"__coeff_33": "nan",
         "bg_value__fft_coefficient__attr_\"abs\"__coeff_34": "nan",
         "bg_value__fft_coefficient__attr_\"abs\"__coeff_35": "nan",
         "_deepnote_index_column": 2993
        }
       ]
      },
      "text/plain": "      bg_value__variance_larger_than_standard_deviation  \\\n0                                                   1.0   \n1                                                   1.0   \n2                                                   1.0   \n3                                                   1.0   \n4                                                   1.0   \n...                                                 ...   \n2989                                                1.0   \n2990                                                1.0   \n2991                                                1.0   \n2992                                                1.0   \n2993                                                1.0   \n\n      bg_value__has_duplicate_max  bg_value__has_duplicate_min  \\\n0                             0.0                          0.0   \n1                             0.0                          0.0   \n2                             0.0                          0.0   \n3                             0.0                          0.0   \n4                             0.0                          0.0   \n...                           ...                          ...   \n2989                          0.0                          0.0   \n2990                          0.0                          0.0   \n2991                          0.0                          0.0   \n2992                          0.0                          0.0   \n2993                          0.0                          0.0   \n\n      bg_value__has_duplicate  bg_value__sum_values  bg_value__abs_energy  \\\n0                         0.0                 662.0               73694.0   \n1                         0.0                 696.0               81718.0   \n2                         0.0                 740.0               92278.0   \n3                         0.0                 776.0              101062.0   \n4                         0.0                 809.0              109543.0   \n...                       ...                   ...                   ...   \n2989                      0.0                1073.0              194245.0   \n2990                      0.0                1126.0              212318.0   \n2991                      0.0                1169.0              228099.0   \n2992                      0.0                1199.0              239799.0   \n2993                      0.0                1217.0              247107.0   \n\n      bg_value__mean_abs_change  bg_value__mean_change  \\\n0                           6.4                    5.2   \n1                           7.4                    7.4   \n2                           7.6                    7.6   \n3                           6.4                    5.6   \n4                           5.8                    5.0   \n...                         ...                    ...   \n2989                       11.4                   10.2   \n2990                        8.2                    7.0   \n2991                        6.2                    5.0   \n2992                        4.4                    3.2   \n2993                        4.0                    2.8   \n\n      bg_value__mean_second_derivative_central  bg_value__median  ...  \\\n0                                        1.250             108.0  ...   \n1                                        0.250             116.0  ...   \n2                                       -0.125             123.5  ...   \n3                                       -1.250             131.0  ...   \n4                                       -0.250             137.5  ...   \n...                                        ...               ...  ...   \n2989                                    -2.625             187.0  ...   \n2990                                    -2.000             194.5  ...   \n2991                                    -0.750             196.0  ...   \n2992                                     0.125             197.5  ...   \n2993                                     0.625             201.5  ...   \n\n      bg_value__permutation_entropy__dimension_6__tau_1  \\\n0                                                  -0.0   \n1                                                  -0.0   \n2                                                  -0.0   \n3                                                  -0.0   \n4                                                  -0.0   \n...                                                 ...   \n2989                                               -0.0   \n2990                                               -0.0   \n2991                                               -0.0   \n2992                                               -0.0   \n2993                                               -0.0   \n\n      bg_value__permutation_entropy__dimension_7__tau_1  \\\n0                                                   NaN   \n1                                                   NaN   \n2                                                   NaN   \n3                                                   NaN   \n4                                                   NaN   \n...                                                 ...   \n2989                                                NaN   \n2990                                                NaN   \n2991                                                NaN   \n2992                                                NaN   \n2993                                                NaN   \n\n      bg_value__query_similarity_count__query_None__threshold_0.0  \\\n0                                                   NaN             \n1                                                   NaN             \n2                                                   NaN             \n3                                                   NaN             \n4                                                   NaN             \n...                                                 ...             \n2989                                                NaN             \n2990                                                NaN             \n2991                                                NaN             \n2992                                                NaN             \n2993                                                NaN             \n\n      bg_value__matrix_profile__feature_\"min\"__threshold_0.98  \\\n0                                                   NaN         \n1                                                   NaN         \n2                                                   NaN         \n3                                                   NaN         \n4                                                   NaN         \n...                                                 ...         \n2989                                                NaN         \n2990                                                NaN         \n2991                                                NaN         \n2992                                                NaN         \n2993                                                NaN         \n\n      bg_value__matrix_profile__feature_\"max\"__threshold_0.98  \\\n0                                                   NaN         \n1                                                   NaN         \n2                                                   NaN         \n3                                                   NaN         \n4                                                   NaN         \n...                                                 ...         \n2989                                                NaN         \n2990                                                NaN         \n2991                                                NaN         \n2992                                                NaN         \n2993                                                NaN         \n\n      bg_value__matrix_profile__feature_\"mean\"__threshold_0.98  \\\n0                                                   NaN          \n1                                                   NaN          \n2                                                   NaN          \n3                                                   NaN          \n4                                                   NaN          \n...                                                 ...          \n2989                                                NaN          \n2990                                                NaN          \n2991                                                NaN          \n2992                                                NaN          \n2993                                                NaN          \n\n      bg_value__matrix_profile__feature_\"median\"__threshold_0.98  \\\n0                                                   NaN            \n1                                                   NaN            \n2                                                   NaN            \n3                                                   NaN            \n4                                                   NaN            \n...                                                 ...            \n2989                                                NaN            \n2990                                                NaN            \n2991                                                NaN            \n2992                                                NaN            \n2993                                                NaN            \n\n      bg_value__matrix_profile__feature_\"25\"__threshold_0.98  \\\n0                                                   NaN        \n1                                                   NaN        \n2                                                   NaN        \n3                                                   NaN        \n4                                                   NaN        \n...                                                 ...        \n2989                                                NaN        \n2990                                                NaN        \n2991                                                NaN        \n2992                                                NaN        \n2993                                                NaN        \n\n      bg_value__matrix_profile__feature_\"75\"__threshold_0.98  label  \n0                                                   NaN         135  \n1                                                   NaN         142  \n2                                                   NaN         140  \n3                                                   NaN         145  \n4                                                   NaN         148  \n...                                                 ...         ...  \n2989                                                NaN         197  \n2990                                                NaN         205  \n2991                                                NaN         210  \n2992                                                NaN         212  \n2993                                                NaN         215  \n\n[2994 rows x 788 columns]",
      "text/html": "<div>\n<style scoped>\n    .dataframe tbody tr th:only-of-type {\n        vertical-align: middle;\n    }\n\n    .dataframe tbody tr th {\n        vertical-align: top;\n    }\n\n    .dataframe thead th {\n        text-align: right;\n    }\n</style>\n<table border=\"1\" class=\"dataframe\">\n  <thead>\n    <tr style=\"text-align: right;\">\n      <th></th>\n      <th>bg_value__variance_larger_than_standard_deviation</th>\n      <th>bg_value__has_duplicate_max</th>\n      <th>bg_value__has_duplicate_min</th>\n      <th>bg_value__has_duplicate</th>\n      <th>bg_value__sum_values</th>\n      <th>bg_value__abs_energy</th>\n      <th>bg_value__mean_abs_change</th>\n      <th>bg_value__mean_change</th>\n      <th>bg_value__mean_second_derivative_central</th>\n      <th>bg_value__median</th>\n      <th>...</th>\n      <th>bg_value__permutation_entropy__dimension_6__tau_1</th>\n      <th>bg_value__permutation_entropy__dimension_7__tau_1</th>\n      <th>bg_value__query_similarity_count__query_None__threshold_0.0</th>\n      <th>bg_value__matrix_profile__feature_\"min\"__threshold_0.98</th>\n      <th>bg_value__matrix_profile__feature_\"max\"__threshold_0.98</th>\n      <th>bg_value__matrix_profile__feature_\"mean\"__threshold_0.98</th>\n      <th>bg_value__matrix_profile__feature_\"median\"__threshold_0.98</th>\n      <th>bg_value__matrix_profile__feature_\"25\"__threshold_0.98</th>\n      <th>bg_value__matrix_profile__feature_\"75\"__threshold_0.98</th>\n      <th>label</th>\n    </tr>\n  </thead>\n  <tbody>\n    <tr>\n      <th>0</th>\n      <td>1.0</td>\n      <td>0.0</td>\n      <td>0.0</td>\n      <td>0.0</td>\n      <td>662.0</td>\n      <td>73694.0</td>\n      <td>6.4</td>\n      <td>5.2</td>\n      <td>1.250</td>\n      <td>108.0</td>\n      <td>...</td>\n      <td>-0.0</td>\n      <td>NaN</td>\n      <td>NaN</td>\n      <td>NaN</td>\n      <td>NaN</td>\n      <td>NaN</td>\n      <td>NaN</td>\n      <td>NaN</td>\n      <td>NaN</td>\n      <td>135</td>\n    </tr>\n    <tr>\n      <th>1</th>\n      <td>1.0</td>\n      <td>0.0</td>\n      <td>0.0</td>\n      <td>0.0</td>\n      <td>696.0</td>\n      <td>81718.0</td>\n      <td>7.4</td>\n      <td>7.4</td>\n      <td>0.250</td>\n      <td>116.0</td>\n      <td>...</td>\n      <td>-0.0</td>\n      <td>NaN</td>\n      <td>NaN</td>\n      <td>NaN</td>\n      <td>NaN</td>\n      <td>NaN</td>\n      <td>NaN</td>\n      <td>NaN</td>\n      <td>NaN</td>\n      <td>142</td>\n    </tr>\n    <tr>\n      <th>2</th>\n      <td>1.0</td>\n      <td>0.0</td>\n      <td>0.0</td>\n      <td>0.0</td>\n      <td>740.0</td>\n      <td>92278.0</td>\n      <td>7.6</td>\n      <td>7.6</td>\n      <td>-0.125</td>\n      <td>123.5</td>\n      <td>...</td>\n      <td>-0.0</td>\n      <td>NaN</td>\n      <td>NaN</td>\n      <td>NaN</td>\n      <td>NaN</td>\n      <td>NaN</td>\n      <td>NaN</td>\n      <td>NaN</td>\n      <td>NaN</td>\n      <td>140</td>\n    </tr>\n    <tr>\n      <th>3</th>\n      <td>1.0</td>\n      <td>0.0</td>\n      <td>0.0</td>\n      <td>0.0</td>\n      <td>776.0</td>\n      <td>101062.0</td>\n      <td>6.4</td>\n      <td>5.6</td>\n      <td>-1.250</td>\n      <td>131.0</td>\n      <td>...</td>\n      <td>-0.0</td>\n      <td>NaN</td>\n      <td>NaN</td>\n      <td>NaN</td>\n      <td>NaN</td>\n      <td>NaN</td>\n      <td>NaN</td>\n      <td>NaN</td>\n      <td>NaN</td>\n      <td>145</td>\n    </tr>\n    <tr>\n      <th>4</th>\n      <td>1.0</td>\n      <td>0.0</td>\n      <td>0.0</td>\n      <td>0.0</td>\n      <td>809.0</td>\n      <td>109543.0</td>\n      <td>5.8</td>\n      <td>5.0</td>\n      <td>-0.250</td>\n      <td>137.5</td>\n      <td>...</td>\n      <td>-0.0</td>\n      <td>NaN</td>\n      <td>NaN</td>\n      <td>NaN</td>\n      <td>NaN</td>\n      <td>NaN</td>\n      <td>NaN</td>\n      <td>NaN</td>\n      <td>NaN</td>\n      <td>148</td>\n    </tr>\n    <tr>\n      <th>...</th>\n      <td>...</td>\n      <td>...</td>\n      <td>...</td>\n      <td>...</td>\n      <td>...</td>\n      <td>...</td>\n      <td>...</td>\n      <td>...</td>\n      <td>...</td>\n      <td>...</td>\n      <td>...</td>\n      <td>...</td>\n      <td>...</td>\n      <td>...</td>\n      <td>...</td>\n      <td>...</td>\n      <td>...</td>\n      <td>...</td>\n      <td>...</td>\n      <td>...</td>\n      <td>...</td>\n    </tr>\n    <tr>\n      <th>2989</th>\n      <td>1.0</td>\n      <td>0.0</td>\n      <td>0.0</td>\n      <td>0.0</td>\n      <td>1073.0</td>\n      <td>194245.0</td>\n      <td>11.4</td>\n      <td>10.2</td>\n      <td>-2.625</td>\n      <td>187.0</td>\n      <td>...</td>\n      <td>-0.0</td>\n      <td>NaN</td>\n      <td>NaN</td>\n      <td>NaN</td>\n      <td>NaN</td>\n      <td>NaN</td>\n      <td>NaN</td>\n      <td>NaN</td>\n      <td>NaN</td>\n      <td>197</td>\n    </tr>\n    <tr>\n      <th>2990</th>\n      <td>1.0</td>\n      <td>0.0</td>\n      <td>0.0</td>\n      <td>0.0</td>\n      <td>1126.0</td>\n      <td>212318.0</td>\n      <td>8.2</td>\n      <td>7.0</td>\n      <td>-2.000</td>\n      <td>194.5</td>\n      <td>...</td>\n      <td>-0.0</td>\n      <td>NaN</td>\n      <td>NaN</td>\n      <td>NaN</td>\n      <td>NaN</td>\n      <td>NaN</td>\n      <td>NaN</td>\n      <td>NaN</td>\n      <td>NaN</td>\n      <td>205</td>\n    </tr>\n    <tr>\n      <th>2991</th>\n      <td>1.0</td>\n      <td>0.0</td>\n      <td>0.0</td>\n      <td>0.0</td>\n      <td>1169.0</td>\n      <td>228099.0</td>\n      <td>6.2</td>\n      <td>5.0</td>\n      <td>-0.750</td>\n      <td>196.0</td>\n      <td>...</td>\n      <td>-0.0</td>\n      <td>NaN</td>\n      <td>NaN</td>\n      <td>NaN</td>\n      <td>NaN</td>\n      <td>NaN</td>\n      <td>NaN</td>\n      <td>NaN</td>\n      <td>NaN</td>\n      <td>210</td>\n    </tr>\n    <tr>\n      <th>2992</th>\n      <td>1.0</td>\n      <td>0.0</td>\n      <td>0.0</td>\n      <td>0.0</td>\n      <td>1199.0</td>\n      <td>239799.0</td>\n      <td>4.4</td>\n      <td>3.2</td>\n      <td>0.125</td>\n      <td>197.5</td>\n      <td>...</td>\n      <td>-0.0</td>\n      <td>NaN</td>\n      <td>NaN</td>\n      <td>NaN</td>\n      <td>NaN</td>\n      <td>NaN</td>\n      <td>NaN</td>\n      <td>NaN</td>\n      <td>NaN</td>\n      <td>212</td>\n    </tr>\n    <tr>\n      <th>2993</th>\n      <td>1.0</td>\n      <td>0.0</td>\n      <td>0.0</td>\n      <td>0.0</td>\n      <td>1217.0</td>\n      <td>247107.0</td>\n      <td>4.0</td>\n      <td>2.8</td>\n      <td>0.625</td>\n      <td>201.5</td>\n      <td>...</td>\n      <td>-0.0</td>\n      <td>NaN</td>\n      <td>NaN</td>\n      <td>NaN</td>\n      <td>NaN</td>\n      <td>NaN</td>\n      <td>NaN</td>\n      <td>NaN</td>\n      <td>NaN</td>\n      <td>215</td>\n    </tr>\n  </tbody>\n</table>\n<p>2994 rows × 788 columns</p>\n</div>"
     },
     "metadata": {}
    }
   ]
  },
  {
   "cell_type": "code",
   "metadata": {
    "tags": [],
    "cell_id": "00006-7e0e0951-1aa8-4cbf-8d9c-c58c65009f72",
    "deepnote_to_be_reexecuted": false,
    "source_hash": "5af49af5",
    "execution_start": 1623858429183,
    "execution_millis": 10097,
    "deepnote_cell_type": "code"
   },
   "source": "from pycaret.regression import *\nexp_reg = setup(df3, \n    target = 'label',\n    feature_selection=True,\n    html=False,\n    silent=True    \n    )",
   "execution_count": 15,
   "outputs": [
    {
     "name": "stdout",
     "text": "Setup Succesfully Completed!\n",
     "output_type": "stream"
    },
    {
     "data": {
      "application/vnd.deepnote.dataframe.v2+json": {
       "row_count": 57,
       "column_count": 2,
       "columns": [
        {
         "name": "Description",
         "dtype": "object",
         "stats": {
          "unique_count": 57,
          "nan_count": 0,
          "categories": [
           {
            "name": "session_id",
            "count": 1
           },
           {
            "name": "Target",
            "count": 1
           },
           {
            "name": "55 others",
            "count": 55
           }
          ]
         }
        },
        {
         "name": "Value",
         "dtype": "object",
         "stats": {
          "unique_count": 24,
          "nan_count": 7,
          "categories": [
           {
            "name": "False",
            "count": 20
           },
           {
            "name": "21 others",
            "count": 30
           },
           {
            "name": "Missing",
            "count": 7
           }
          ]
         }
        },
        {
         "name": "_deepnote_index_column",
         "dtype": "int64"
        }
       ],
       "rows_top": [
        {
         "Description": "session_id",
         "Value": "2724",
         "_deepnote_index_column": 0
        },
        {
         "Description": "Target",
         "Value": "label",
         "_deepnote_index_column": 1
        },
        {
         "Description": "Original Data",
         "Value": "(2994, 788)",
         "_deepnote_index_column": 2
        },
        {
         "Description": "Missing Values",
         "Value": "True",
         "_deepnote_index_column": 3
        },
        {
         "Description": "Numeric Features",
         "Value": "260",
         "_deepnote_index_column": 4
        },
        {
         "Description": "Categorical Features",
         "Value": "527",
         "_deepnote_index_column": 5
        },
        {
         "Description": "Ordinal Features",
         "Value": "False",
         "_deepnote_index_column": 6
        },
        {
         "Description": "High Cardinality Features",
         "Value": "False",
         "_deepnote_index_column": 7
        },
        {
         "Description": "High Cardinality Method",
         "Value": "None",
         "_deepnote_index_column": 8
        },
        {
         "Description": "Transformed Train Set",
         "Value": "(2095, 223)",
         "_deepnote_index_column": 9
        },
        {
         "Description": "Transformed Test Set",
         "Value": "(899, 223)",
         "_deepnote_index_column": 10
        },
        {
         "Description": "Shuffle Train-Test",
         "Value": "True",
         "_deepnote_index_column": 11
        },
        {
         "Description": "Stratify Train-Test",
         "Value": "False",
         "_deepnote_index_column": 12
        },
        {
         "Description": "Fold Generator",
         "Value": "KFold",
         "_deepnote_index_column": 13
        },
        {
         "Description": "Fold Number",
         "Value": "10",
         "_deepnote_index_column": 14
        },
        {
         "Description": "CPU Jobs",
         "Value": "-1",
         "_deepnote_index_column": 15
        },
        {
         "Description": "Use GPU",
         "Value": "False",
         "_deepnote_index_column": 16
        },
        {
         "Description": "Log Experiment",
         "Value": "False",
         "_deepnote_index_column": 17
        },
        {
         "Description": "Experiment Name",
         "Value": "reg-default-name",
         "_deepnote_index_column": 18
        },
        {
         "Description": "USI",
         "Value": "698b",
         "_deepnote_index_column": 19
        },
        {
         "Description": "Imputation Type",
         "Value": "simple",
         "_deepnote_index_column": 20
        },
        {
         "Description": "Iterative Imputation Iteration",
         "Value": "None",
         "_deepnote_index_column": 21
        },
        {
         "Description": "Numeric Imputer",
         "Value": "mean",
         "_deepnote_index_column": 22
        },
        {
         "Description": "Iterative Imputation Numeric Model",
         "Value": "None",
         "_deepnote_index_column": 23
        },
        {
         "Description": "Categorical Imputer",
         "Value": "constant",
         "_deepnote_index_column": 24
        },
        {
         "Description": "Iterative Imputation Categorical Model",
         "Value": "None",
         "_deepnote_index_column": 25
        },
        {
         "Description": "Unknown Categoricals Handling",
         "Value": "least_frequent",
         "_deepnote_index_column": 26
        },
        {
         "Description": "Normalize",
         "Value": "False",
         "_deepnote_index_column": 27
        },
        {
         "Description": "Normalize Method",
         "Value": "None",
         "_deepnote_index_column": 28
        },
        {
         "Description": "Transformation",
         "Value": "False",
         "_deepnote_index_column": 29
        },
        {
         "Description": "Transformation Method",
         "Value": "None",
         "_deepnote_index_column": 30
        },
        {
         "Description": "PCA",
         "Value": "False",
         "_deepnote_index_column": 31
        },
        {
         "Description": "PCA Method",
         "Value": "None",
         "_deepnote_index_column": 32
        },
        {
         "Description": "PCA Components",
         "Value": "None",
         "_deepnote_index_column": 33
        },
        {
         "Description": "Ignore Low Variance",
         "Value": "False",
         "_deepnote_index_column": 34
        },
        {
         "Description": "Combine Rare Levels",
         "Value": "False",
         "_deepnote_index_column": 35
        },
        {
         "Description": "Rare Level Threshold",
         "Value": "None",
         "_deepnote_index_column": 36
        },
        {
         "Description": "Numeric Binning",
         "Value": "False",
         "_deepnote_index_column": 37
        },
        {
         "Description": "Remove Outliers",
         "Value": "False",
         "_deepnote_index_column": 38
        },
        {
         "Description": "Outliers Threshold",
         "Value": "None",
         "_deepnote_index_column": 39
        },
        {
         "Description": "Remove Multicollinearity",
         "Value": "False",
         "_deepnote_index_column": 40
        },
        {
         "Description": "Multicollinearity Threshold",
         "Value": "None",
         "_deepnote_index_column": 41
        },
        {
         "Description": "Clustering",
         "Value": "False",
         "_deepnote_index_column": 42
        },
        {
         "Description": "Clustering Iteration",
         "Value": "None",
         "_deepnote_index_column": 43
        },
        {
         "Description": "Polynomial Features",
         "Value": "False",
         "_deepnote_index_column": 44
        },
        {
         "Description": "Polynomial Degree",
         "Value": "None",
         "_deepnote_index_column": 45
        },
        {
         "Description": "Trignometry Features",
         "Value": "False",
         "_deepnote_index_column": 46
        },
        {
         "Description": "Polynomial Threshold",
         "Value": "None",
         "_deepnote_index_column": 47
        },
        {
         "Description": "Group Features",
         "Value": "False",
         "_deepnote_index_column": 48
        },
        {
         "Description": "Feature Selection",
         "Value": "True",
         "_deepnote_index_column": 49
        },
        {
         "Description": "Feature Selection Method",
         "Value": "classic",
         "_deepnote_index_column": 50
        },
        {
         "Description": "Features Selection Threshold",
         "Value": "0.8",
         "_deepnote_index_column": 51
        },
        {
         "Description": "Feature Interaction",
         "Value": "False",
         "_deepnote_index_column": 52
        },
        {
         "Description": "Feature Ratio",
         "Value": "False",
         "_deepnote_index_column": 53
        },
        {
         "Description": "Interaction Threshold",
         "Value": "None",
         "_deepnote_index_column": 54
        },
        {
         "Description": "Transform Target",
         "Value": "False",
         "_deepnote_index_column": 55
        },
        {
         "Description": "Transform Target Method",
         "Value": "box-cox",
         "_deepnote_index_column": 56
        }
       ],
       "rows_bottom": null
      },
      "text/plain": "                               Description             Value\n0                               session_id              2724\n1                                   Target             label\n2                            Original Data       (2994, 788)\n3                           Missing Values              True\n4                         Numeric Features               260\n5                     Categorical Features               527\n6                         Ordinal Features             False\n7                High Cardinality Features             False\n8                  High Cardinality Method              None\n9                    Transformed Train Set       (2095, 223)\n10                    Transformed Test Set        (899, 223)\n11                      Shuffle Train-Test              True\n12                     Stratify Train-Test             False\n13                          Fold Generator             KFold\n14                             Fold Number                10\n15                                CPU Jobs                -1\n16                                 Use GPU             False\n17                          Log Experiment             False\n18                         Experiment Name  reg-default-name\n19                                     USI              698b\n20                         Imputation Type            simple\n21          Iterative Imputation Iteration              None\n22                         Numeric Imputer              mean\n23      Iterative Imputation Numeric Model              None\n24                     Categorical Imputer          constant\n25  Iterative Imputation Categorical Model              None\n26           Unknown Categoricals Handling    least_frequent\n27                               Normalize             False\n28                        Normalize Method              None\n29                          Transformation             False\n30                   Transformation Method              None\n31                                     PCA             False\n32                              PCA Method              None\n33                          PCA Components              None\n34                     Ignore Low Variance             False\n35                     Combine Rare Levels             False\n36                    Rare Level Threshold              None\n37                         Numeric Binning             False\n38                         Remove Outliers             False\n39                      Outliers Threshold              None\n40                Remove Multicollinearity             False\n41             Multicollinearity Threshold              None\n42                              Clustering             False\n43                    Clustering Iteration              None\n44                     Polynomial Features             False\n45                       Polynomial Degree              None\n46                    Trignometry Features             False\n47                    Polynomial Threshold              None\n48                          Group Features             False\n49                       Feature Selection              True\n50                Feature Selection Method           classic\n51            Features Selection Threshold               0.8\n52                     Feature Interaction             False\n53                           Feature Ratio             False\n54                   Interaction Threshold              None\n55                        Transform Target             False\n56                 Transform Target Method           box-cox",
      "text/html": "<div>\n<style scoped>\n    .dataframe tbody tr th:only-of-type {\n        vertical-align: middle;\n    }\n\n    .dataframe tbody tr th {\n        vertical-align: top;\n    }\n\n    .dataframe thead th {\n        text-align: right;\n    }\n</style>\n<table border=\"1\" class=\"dataframe\">\n  <thead>\n    <tr style=\"text-align: right;\">\n      <th></th>\n      <th>Description</th>\n      <th>Value</th>\n    </tr>\n  </thead>\n  <tbody>\n    <tr>\n      <th>0</th>\n      <td>session_id</td>\n      <td>2724</td>\n    </tr>\n    <tr>\n      <th>1</th>\n      <td>Target</td>\n      <td>label</td>\n    </tr>\n    <tr>\n      <th>2</th>\n      <td>Original Data</td>\n      <td>(2994, 788)</td>\n    </tr>\n    <tr>\n      <th>3</th>\n      <td>Missing Values</td>\n      <td>True</td>\n    </tr>\n    <tr>\n      <th>4</th>\n      <td>Numeric Features</td>\n      <td>260</td>\n    </tr>\n    <tr>\n      <th>5</th>\n      <td>Categorical Features</td>\n      <td>527</td>\n    </tr>\n    <tr>\n      <th>6</th>\n      <td>Ordinal Features</td>\n      <td>False</td>\n    </tr>\n    <tr>\n      <th>7</th>\n      <td>High Cardinality Features</td>\n      <td>False</td>\n    </tr>\n    <tr>\n      <th>8</th>\n      <td>High Cardinality Method</td>\n      <td>None</td>\n    </tr>\n    <tr>\n      <th>9</th>\n      <td>Transformed Train Set</td>\n      <td>(2095, 223)</td>\n    </tr>\n    <tr>\n      <th>10</th>\n      <td>Transformed Test Set</td>\n      <td>(899, 223)</td>\n    </tr>\n    <tr>\n      <th>11</th>\n      <td>Shuffle Train-Test</td>\n      <td>True</td>\n    </tr>\n    <tr>\n      <th>12</th>\n      <td>Stratify Train-Test</td>\n      <td>False</td>\n    </tr>\n    <tr>\n      <th>13</th>\n      <td>Fold Generator</td>\n      <td>KFold</td>\n    </tr>\n    <tr>\n      <th>14</th>\n      <td>Fold Number</td>\n      <td>10</td>\n    </tr>\n    <tr>\n      <th>15</th>\n      <td>CPU Jobs</td>\n      <td>-1</td>\n    </tr>\n    <tr>\n      <th>16</th>\n      <td>Use GPU</td>\n      <td>False</td>\n    </tr>\n    <tr>\n      <th>17</th>\n      <td>Log Experiment</td>\n      <td>False</td>\n    </tr>\n    <tr>\n      <th>18</th>\n      <td>Experiment Name</td>\n      <td>reg-default-name</td>\n    </tr>\n    <tr>\n      <th>19</th>\n      <td>USI</td>\n      <td>698b</td>\n    </tr>\n    <tr>\n      <th>20</th>\n      <td>Imputation Type</td>\n      <td>simple</td>\n    </tr>\n    <tr>\n      <th>21</th>\n      <td>Iterative Imputation Iteration</td>\n      <td>None</td>\n    </tr>\n    <tr>\n      <th>22</th>\n      <td>Numeric Imputer</td>\n      <td>mean</td>\n    </tr>\n    <tr>\n      <th>23</th>\n      <td>Iterative Imputation Numeric Model</td>\n      <td>None</td>\n    </tr>\n    <tr>\n      <th>24</th>\n      <td>Categorical Imputer</td>\n      <td>constant</td>\n    </tr>\n    <tr>\n      <th>25</th>\n      <td>Iterative Imputation Categorical Model</td>\n      <td>None</td>\n    </tr>\n    <tr>\n      <th>26</th>\n      <td>Unknown Categoricals Handling</td>\n      <td>least_frequent</td>\n    </tr>\n    <tr>\n      <th>27</th>\n      <td>Normalize</td>\n      <td>False</td>\n    </tr>\n    <tr>\n      <th>28</th>\n      <td>Normalize Method</td>\n      <td>None</td>\n    </tr>\n    <tr>\n      <th>29</th>\n      <td>Transformation</td>\n      <td>False</td>\n    </tr>\n    <tr>\n      <th>30</th>\n      <td>Transformation Method</td>\n      <td>None</td>\n    </tr>\n    <tr>\n      <th>31</th>\n      <td>PCA</td>\n      <td>False</td>\n    </tr>\n    <tr>\n      <th>32</th>\n      <td>PCA Method</td>\n      <td>None</td>\n    </tr>\n    <tr>\n      <th>33</th>\n      <td>PCA Components</td>\n      <td>None</td>\n    </tr>\n    <tr>\n      <th>34</th>\n      <td>Ignore Low Variance</td>\n      <td>False</td>\n    </tr>\n    <tr>\n      <th>35</th>\n      <td>Combine Rare Levels</td>\n      <td>False</td>\n    </tr>\n    <tr>\n      <th>36</th>\n      <td>Rare Level Threshold</td>\n      <td>None</td>\n    </tr>\n    <tr>\n      <th>37</th>\n      <td>Numeric Binning</td>\n      <td>False</td>\n    </tr>\n    <tr>\n      <th>38</th>\n      <td>Remove Outliers</td>\n      <td>False</td>\n    </tr>\n    <tr>\n      <th>39</th>\n      <td>Outliers Threshold</td>\n      <td>None</td>\n    </tr>\n    <tr>\n      <th>40</th>\n      <td>Remove Multicollinearity</td>\n      <td>False</td>\n    </tr>\n    <tr>\n      <th>41</th>\n      <td>Multicollinearity Threshold</td>\n      <td>None</td>\n    </tr>\n    <tr>\n      <th>42</th>\n      <td>Clustering</td>\n      <td>False</td>\n    </tr>\n    <tr>\n      <th>43</th>\n      <td>Clustering Iteration</td>\n      <td>None</td>\n    </tr>\n    <tr>\n      <th>44</th>\n      <td>Polynomial Features</td>\n      <td>False</td>\n    </tr>\n    <tr>\n      <th>45</th>\n      <td>Polynomial Degree</td>\n      <td>None</td>\n    </tr>\n    <tr>\n      <th>46</th>\n      <td>Trignometry Features</td>\n      <td>False</td>\n    </tr>\n    <tr>\n      <th>47</th>\n      <td>Polynomial Threshold</td>\n      <td>None</td>\n    </tr>\n    <tr>\n      <th>48</th>\n      <td>Group Features</td>\n      <td>False</td>\n    </tr>\n    <tr>\n      <th>49</th>\n      <td>Feature Selection</td>\n      <td>True</td>\n    </tr>\n    <tr>\n      <th>50</th>\n      <td>Feature Selection Method</td>\n      <td>classic</td>\n    </tr>\n    <tr>\n      <th>51</th>\n      <td>Features Selection Threshold</td>\n      <td>0.8</td>\n    </tr>\n    <tr>\n      <th>52</th>\n      <td>Feature Interaction</td>\n      <td>False</td>\n    </tr>\n    <tr>\n      <th>53</th>\n      <td>Feature Ratio</td>\n      <td>False</td>\n    </tr>\n    <tr>\n      <th>54</th>\n      <td>Interaction Threshold</td>\n      <td>None</td>\n    </tr>\n    <tr>\n      <th>55</th>\n      <td>Transform Target</td>\n      <td>False</td>\n    </tr>\n    <tr>\n      <th>56</th>\n      <td>Transform Target Method</td>\n      <td>box-cox</td>\n    </tr>\n  </tbody>\n</table>\n</div>"
     },
     "metadata": {},
     "output_type": "display_data"
    }
   ]
  },
  {
   "cell_type": "code",
   "metadata": {
    "tags": [],
    "cell_id": "00008-3914ccd3-84be-4168-a14f-2eb9bd98ac79",
    "deepnote_to_be_reexecuted": false,
    "source_hash": "c9317ae5",
    "execution_start": 1623858448382,
    "execution_millis": 240689,
    "deepnote_cell_type": "code"
   },
   "source": "best = compare_models(exclude=['catboost', 'xgboost'])",
   "execution_count": 16,
   "outputs": [
    {
     "data": {
      "application/vnd.deepnote.dataframe.v2+json": {
       "row_count": 1,
       "column_count": 8,
       "columns": [
        {
         "name": "Model",
         "dtype": "object",
         "stats": {
          "unique_count": 1,
          "nan_count": 0,
          "categories": [
           {
            "name": "Linear Regression",
            "count": 1
           }
          ]
         }
        },
        {
         "name": "MAE",
         "dtype": "float64",
         "stats": {
          "unique_count": 1,
          "nan_count": 0,
          "min": "29.6335",
          "max": "29.6335",
          "histogram": [
           {
            "bin_start": 29.1335,
            "bin_end": 29.233500000000003,
            "count": 0
           },
           {
            "bin_start": 29.233500000000003,
            "bin_end": 29.3335,
            "count": 0
           },
           {
            "bin_start": 29.3335,
            "bin_end": 29.433500000000002,
            "count": 0
           },
           {
            "bin_start": 29.433500000000002,
            "bin_end": 29.5335,
            "count": 0
           },
           {
            "bin_start": 29.5335,
            "bin_end": 29.6335,
            "count": 0
           },
           {
            "bin_start": 29.6335,
            "bin_end": 29.733500000000003,
            "count": 1
           },
           {
            "bin_start": 29.733500000000003,
            "bin_end": 29.8335,
            "count": 0
           },
           {
            "bin_start": 29.8335,
            "bin_end": 29.933500000000002,
            "count": 0
           },
           {
            "bin_start": 29.933500000000002,
            "bin_end": 30.0335,
            "count": 0
           },
           {
            "bin_start": 30.0335,
            "bin_end": 30.1335,
            "count": 0
           }
          ]
         }
        },
        {
         "name": "MSE",
         "dtype": "float64",
         "stats": {
          "unique_count": 1,
          "nan_count": 0,
          "min": "39772.0133",
          "max": "39772.0133",
          "histogram": [
           {
            "bin_start": 39771.5133,
            "bin_end": 39771.6133,
            "count": 0
           },
           {
            "bin_start": 39771.6133,
            "bin_end": 39771.713299999996,
            "count": 0
           },
           {
            "bin_start": 39771.713299999996,
            "bin_end": 39771.8133,
            "count": 0
           },
           {
            "bin_start": 39771.8133,
            "bin_end": 39771.9133,
            "count": 0
           },
           {
            "bin_start": 39771.9133,
            "bin_end": 39772.0133,
            "count": 0
           },
           {
            "bin_start": 39772.0133,
            "bin_end": 39772.1133,
            "count": 1
           },
           {
            "bin_start": 39772.1133,
            "bin_end": 39772.213299999996,
            "count": 0
           },
           {
            "bin_start": 39772.213299999996,
            "bin_end": 39772.3133,
            "count": 0
           },
           {
            "bin_start": 39772.3133,
            "bin_end": 39772.4133,
            "count": 0
           },
           {
            "bin_start": 39772.4133,
            "bin_end": 39772.5133,
            "count": 0
           }
          ]
         }
        },
        {
         "name": "RMSE",
         "dtype": "float64",
         "stats": {
          "unique_count": 1,
          "nan_count": 0,
          "min": "90.1037",
          "max": "90.1037",
          "histogram": [
           {
            "bin_start": 89.6037,
            "bin_end": 89.7037,
            "count": 0
           },
           {
            "bin_start": 89.7037,
            "bin_end": 89.8037,
            "count": 0
           },
           {
            "bin_start": 89.8037,
            "bin_end": 89.9037,
            "count": 0
           },
           {
            "bin_start": 89.9037,
            "bin_end": 90.00370000000001,
            "count": 0
           },
           {
            "bin_start": 90.00370000000001,
            "bin_end": 90.1037,
            "count": 0
           },
           {
            "bin_start": 90.1037,
            "bin_end": 90.2037,
            "count": 1
           },
           {
            "bin_start": 90.2037,
            "bin_end": 90.3037,
            "count": 0
           },
           {
            "bin_start": 90.3037,
            "bin_end": 90.4037,
            "count": 0
           },
           {
            "bin_start": 90.4037,
            "bin_end": 90.50370000000001,
            "count": 0
           },
           {
            "bin_start": 90.50370000000001,
            "bin_end": 90.6037,
            "count": 0
           }
          ]
         }
        },
        {
         "name": "R2",
         "dtype": "float64",
         "stats": {
          "unique_count": 1,
          "nan_count": 0,
          "min": "-6.0346",
          "max": "-6.0346",
          "histogram": [
           {
            "bin_start": -6.5346,
            "bin_end": -6.4346000000000005,
            "count": 0
           },
           {
            "bin_start": -6.4346000000000005,
            "bin_end": -6.3346,
            "count": 0
           },
           {
            "bin_start": -6.3346,
            "bin_end": -6.2346,
            "count": 0
           },
           {
            "bin_start": -6.2346,
            "bin_end": -6.1346,
            "count": 0
           },
           {
            "bin_start": -6.1346,
            "bin_end": -6.0346,
            "count": 0
           },
           {
            "bin_start": -6.0346,
            "bin_end": -5.9346,
            "count": 1
           },
           {
            "bin_start": -5.9346,
            "bin_end": -5.8346,
            "count": 0
           },
           {
            "bin_start": -5.8346,
            "bin_end": -5.7346,
            "count": 0
           },
           {
            "bin_start": -5.7346,
            "bin_end": -5.6346,
            "count": 0
           },
           {
            "bin_start": -5.6346,
            "bin_end": -5.5346,
            "count": 0
           }
          ]
         }
        },
        {
         "name": "RMSLE",
         "dtype": "float64",
         "stats": {
          "unique_count": 1,
          "nan_count": 0,
          "min": "0.2339",
          "max": "0.2339",
          "histogram": [
           {
            "bin_start": -0.2661,
            "bin_end": -0.1661,
            "count": 0
           },
           {
            "bin_start": -0.1661,
            "bin_end": -0.06609999999999999,
            "count": 0
           },
           {
            "bin_start": -0.06609999999999999,
            "bin_end": 0.03390000000000004,
            "count": 0
           },
           {
            "bin_start": 0.03390000000000004,
            "bin_end": 0.13390000000000002,
            "count": 0
           },
           {
            "bin_start": 0.13390000000000002,
            "bin_end": 0.2339,
            "count": 0
           },
           {
            "bin_start": 0.2339,
            "bin_end": 0.3339000000000001,
            "count": 1
           },
           {
            "bin_start": 0.3339000000000001,
            "bin_end": 0.43390000000000006,
            "count": 0
           },
           {
            "bin_start": 0.43390000000000006,
            "bin_end": 0.5339,
            "count": 0
           },
           {
            "bin_start": 0.5339,
            "bin_end": 0.6339,
            "count": 0
           },
           {
            "bin_start": 0.6339,
            "bin_end": 0.7339,
            "count": 0
           }
          ]
         }
        },
        {
         "name": "MAPE",
         "dtype": "float64",
         "stats": {
          "unique_count": 1,
          "nan_count": 0,
          "min": "0.2207",
          "max": "0.2207",
          "histogram": [
           {
            "bin_start": -0.2793,
            "bin_end": -0.1793,
            "count": 0
           },
           {
            "bin_start": -0.1793,
            "bin_end": -0.07929999999999998,
            "count": 0
           },
           {
            "bin_start": -0.07929999999999998,
            "bin_end": 0.02070000000000005,
            "count": 0
           },
           {
            "bin_start": 0.02070000000000005,
            "bin_end": 0.12070000000000003,
            "count": 0
           },
           {
            "bin_start": 0.12070000000000003,
            "bin_end": 0.2207,
            "count": 0
           },
           {
            "bin_start": 0.2207,
            "bin_end": 0.3207000000000001,
            "count": 1
           },
           {
            "bin_start": 0.3207000000000001,
            "bin_end": 0.4207000000000001,
            "count": 0
           },
           {
            "bin_start": 0.4207000000000001,
            "bin_end": 0.5207,
            "count": 0
           },
           {
            "bin_start": 0.5207,
            "bin_end": 0.6207,
            "count": 0
           },
           {
            "bin_start": 0.6207,
            "bin_end": 0.7207,
            "count": 0
           }
          ]
         }
        },
        {
         "name": "TT (Sec)",
         "dtype": "float64",
         "stats": {
          "unique_count": 1,
          "nan_count": 0,
          "min": "0.619",
          "max": "0.619",
          "histogram": [
           {
            "bin_start": 0.119,
            "bin_end": 0.219,
            "count": 0
           },
           {
            "bin_start": 0.219,
            "bin_end": 0.319,
            "count": 0
           },
           {
            "bin_start": 0.319,
            "bin_end": 0.41900000000000004,
            "count": 0
           },
           {
            "bin_start": 0.41900000000000004,
            "bin_end": 0.519,
            "count": 0
           },
           {
            "bin_start": 0.519,
            "bin_end": 0.619,
            "count": 0
           },
           {
            "bin_start": 0.619,
            "bin_end": 0.7190000000000001,
            "count": 1
           },
           {
            "bin_start": 0.7190000000000001,
            "bin_end": 0.8190000000000001,
            "count": 0
           },
           {
            "bin_start": 0.8190000000000001,
            "bin_end": 0.919,
            "count": 0
           },
           {
            "bin_start": 0.919,
            "bin_end": 1.0190000000000001,
            "count": 0
           },
           {
            "bin_start": 1.0190000000000001,
            "bin_end": 1.119,
            "count": 0
           }
          ]
         }
        },
        {
         "name": "_deepnote_index_column",
         "dtype": "object"
        }
       ],
       "rows_top": [
        {
         "Model": "Linear Regression",
         "MAE": 29.6335,
         "MSE": 39772.0133,
         "RMSE": 90.1037,
         "R2": -6.0346,
         "RMSLE": 0.2339,
         "MAPE": 0.2207,
         "TT (Sec)": 0.619,
         "_deepnote_index_column": "lr"
        }
       ],
       "rows_bottom": null
      },
      "text/plain": "                Model      MAE         MSE     RMSE      R2   RMSLE    MAPE  \\\nlr  Linear Regression  29.6335  39772.0133  90.1037 -6.0346  0.2339  0.2207   \n\n    TT (Sec)  \nlr     0.619  ",
      "text/html": "<div>\n<style scoped>\n    .dataframe tbody tr th:only-of-type {\n        vertical-align: middle;\n    }\n\n    .dataframe tbody tr th {\n        vertical-align: top;\n    }\n\n    .dataframe thead th {\n        text-align: right;\n    }\n</style>\n<table border=\"1\" class=\"dataframe\">\n  <thead>\n    <tr style=\"text-align: right;\">\n      <th></th>\n      <th>Model</th>\n      <th>MAE</th>\n      <th>MSE</th>\n      <th>RMSE</th>\n      <th>R2</th>\n      <th>RMSLE</th>\n      <th>MAPE</th>\n      <th>TT (Sec)</th>\n    </tr>\n  </thead>\n  <tbody>\n    <tr>\n      <th>lr</th>\n      <td>Linear Regression</td>\n      <td>29.6335</td>\n      <td>39772.0133</td>\n      <td>90.1037</td>\n      <td>-6.0346</td>\n      <td>0.2339</td>\n      <td>0.2207</td>\n      <td>0.619</td>\n    </tr>\n  </tbody>\n</table>\n</div>"
     },
     "metadata": {},
     "output_type": "display_data"
    },
    {
     "data": {
      "application/vnd.deepnote.dataframe.v2+json": {
       "row_count": 2,
       "column_count": 8,
       "columns": [
        {
         "name": "Model",
         "dtype": "object",
         "stats": {
          "unique_count": 2,
          "nan_count": 0,
          "categories": [
           {
            "name": "Lasso Regression",
            "count": 1
           },
           {
            "name": "Linear Regression",
            "count": 1
           }
          ]
         }
        },
        {
         "name": "MAE",
         "dtype": "float64",
         "stats": {
          "unique_count": 2,
          "nan_count": 0,
          "min": "5.6966",
          "max": "29.6335",
          "histogram": [
           {
            "bin_start": 5.6966,
            "bin_end": 8.09029,
            "count": 1
           },
           {
            "bin_start": 8.09029,
            "bin_end": 10.48398,
            "count": 0
           },
           {
            "bin_start": 10.48398,
            "bin_end": 12.877670000000002,
            "count": 0
           },
           {
            "bin_start": 12.877670000000002,
            "bin_end": 15.271360000000001,
            "count": 0
           },
           {
            "bin_start": 15.271360000000001,
            "bin_end": 17.66505,
            "count": 0
           },
           {
            "bin_start": 17.66505,
            "bin_end": 20.05874,
            "count": 0
           },
           {
            "bin_start": 20.05874,
            "bin_end": 22.452430000000003,
            "count": 0
           },
           {
            "bin_start": 22.452430000000003,
            "bin_end": 24.846120000000003,
            "count": 0
           },
           {
            "bin_start": 24.846120000000003,
            "bin_end": 27.239810000000002,
            "count": 0
           },
           {
            "bin_start": 27.239810000000002,
            "bin_end": 29.6335,
            "count": 1
           }
          ]
         }
        },
        {
         "name": "MSE",
         "dtype": "float64",
         "stats": {
          "unique_count": 2,
          "nan_count": 0,
          "min": "1131.4343",
          "max": "39772.0133",
          "histogram": [
           {
            "bin_start": 1131.4343,
            "bin_end": 4995.4922,
            "count": 1
           },
           {
            "bin_start": 4995.4922,
            "bin_end": 8859.5501,
            "count": 0
           },
           {
            "bin_start": 8859.5501,
            "bin_end": 12723.608,
            "count": 0
           },
           {
            "bin_start": 12723.608,
            "bin_end": 16587.6659,
            "count": 0
           },
           {
            "bin_start": 16587.6659,
            "bin_end": 20451.7238,
            "count": 0
           },
           {
            "bin_start": 20451.7238,
            "bin_end": 24315.7817,
            "count": 0
           },
           {
            "bin_start": 24315.7817,
            "bin_end": 28179.8396,
            "count": 0
           },
           {
            "bin_start": 28179.8396,
            "bin_end": 32043.8975,
            "count": 0
           },
           {
            "bin_start": 32043.8975,
            "bin_end": 35907.9554,
            "count": 0
           },
           {
            "bin_start": 35907.9554,
            "bin_end": 39772.0133,
            "count": 1
           }
          ]
         }
        },
        {
         "name": "RMSE",
         "dtype": "float64",
         "stats": {
          "unique_count": 2,
          "nan_count": 0,
          "min": "18.2734",
          "max": "90.1037",
          "histogram": [
           {
            "bin_start": 18.2734,
            "bin_end": 25.456429999999997,
            "count": 1
           },
           {
            "bin_start": 25.456429999999997,
            "bin_end": 32.63946,
            "count": 0
           },
           {
            "bin_start": 32.63946,
            "bin_end": 39.82249,
            "count": 0
           },
           {
            "bin_start": 39.82249,
            "bin_end": 47.005520000000004,
            "count": 0
           },
           {
            "bin_start": 47.005520000000004,
            "bin_end": 54.188550000000006,
            "count": 0
           },
           {
            "bin_start": 54.188550000000006,
            "bin_end": 61.371579999999994,
            "count": 0
           },
           {
            "bin_start": 61.371579999999994,
            "bin_end": 68.55461,
            "count": 0
           },
           {
            "bin_start": 68.55461,
            "bin_end": 75.73764,
            "count": 0
           },
           {
            "bin_start": 75.73764,
            "bin_end": 82.92067,
            "count": 0
           },
           {
            "bin_start": 82.92067,
            "bin_end": 90.1037,
            "count": 1
           }
          ]
         }
        },
        {
         "name": "R2",
         "dtype": "float64",
         "stats": {
          "unique_count": 2,
          "nan_count": 0,
          "min": "-6.0346",
          "max": "0.7994",
          "histogram": [
           {
            "bin_start": -6.0346,
            "bin_end": -5.3512,
            "count": 1
           },
           {
            "bin_start": -5.3512,
            "bin_end": -4.6678,
            "count": 0
           },
           {
            "bin_start": -4.6678,
            "bin_end": -3.9844,
            "count": 0
           },
           {
            "bin_start": -3.9844,
            "bin_end": -3.301,
            "count": 0
           },
           {
            "bin_start": -3.301,
            "bin_end": -2.6176000000000004,
            "count": 0
           },
           {
            "bin_start": -2.6176000000000004,
            "bin_end": -1.9341999999999997,
            "count": 0
           },
           {
            "bin_start": -1.9341999999999997,
            "bin_end": -1.2508,
            "count": 0
           },
           {
            "bin_start": -1.2508,
            "bin_end": -0.5674000000000001,
            "count": 0
           },
           {
            "bin_start": -0.5674000000000001,
            "bin_end": 0.11599999999999966,
            "count": 0
           },
           {
            "bin_start": 0.11599999999999966,
            "bin_end": 0.7994,
            "count": 1
           }
          ]
         }
        },
        {
         "name": "RMSLE",
         "dtype": "float64",
         "stats": {
          "unique_count": 2,
          "nan_count": 0,
          "min": "0.0919",
          "max": "0.2339",
          "histogram": [
           {
            "bin_start": 0.0919,
            "bin_end": 0.1061,
            "count": 1
           },
           {
            "bin_start": 0.1061,
            "bin_end": 0.12029999999999999,
            "count": 0
           },
           {
            "bin_start": 0.12029999999999999,
            "bin_end": 0.1345,
            "count": 0
           },
           {
            "bin_start": 0.1345,
            "bin_end": 0.1487,
            "count": 0
           },
           {
            "bin_start": 0.1487,
            "bin_end": 0.1629,
            "count": 0
           },
           {
            "bin_start": 0.1629,
            "bin_end": 0.17709999999999998,
            "count": 0
           },
           {
            "bin_start": 0.17709999999999998,
            "bin_end": 0.1913,
            "count": 0
           },
           {
            "bin_start": 0.1913,
            "bin_end": 0.20550000000000002,
            "count": 0
           },
           {
            "bin_start": 0.20550000000000002,
            "bin_end": 0.2197,
            "count": 0
           },
           {
            "bin_start": 0.2197,
            "bin_end": 0.2339,
            "count": 1
           }
          ]
         }
        },
        {
         "name": "MAPE",
         "dtype": "float64",
         "stats": {
          "unique_count": 2,
          "nan_count": 0,
          "min": "0.0394",
          "max": "0.2207",
          "histogram": [
           {
            "bin_start": 0.0394,
            "bin_end": 0.05753,
            "count": 1
           },
           {
            "bin_start": 0.05753,
            "bin_end": 0.07566,
            "count": 0
           },
           {
            "bin_start": 0.07566,
            "bin_end": 0.09379,
            "count": 0
           },
           {
            "bin_start": 0.09379,
            "bin_end": 0.11191999999999999,
            "count": 0
           },
           {
            "bin_start": 0.11191999999999999,
            "bin_end": 0.13005,
            "count": 0
           },
           {
            "bin_start": 0.13005,
            "bin_end": 0.14818,
            "count": 0
           },
           {
            "bin_start": 0.14818,
            "bin_end": 0.16630999999999999,
            "count": 0
           },
           {
            "bin_start": 0.16630999999999999,
            "bin_end": 0.18444,
            "count": 0
           },
           {
            "bin_start": 0.18444,
            "bin_end": 0.20257,
            "count": 0
           },
           {
            "bin_start": 0.20257,
            "bin_end": 0.2207,
            "count": 1
           }
          ]
         }
        },
        {
         "name": "TT (Sec)",
         "dtype": "float64",
         "stats": {
          "unique_count": 2,
          "nan_count": 0,
          "min": "0.138",
          "max": "0.619",
          "histogram": [
           {
            "bin_start": 0.138,
            "bin_end": 0.18610000000000002,
            "count": 1
           },
           {
            "bin_start": 0.18610000000000002,
            "bin_end": 0.23420000000000002,
            "count": 0
           },
           {
            "bin_start": 0.23420000000000002,
            "bin_end": 0.2823,
            "count": 0
           },
           {
            "bin_start": 0.2823,
            "bin_end": 0.3304,
            "count": 0
           },
           {
            "bin_start": 0.3304,
            "bin_end": 0.3785,
            "count": 0
           },
           {
            "bin_start": 0.3785,
            "bin_end": 0.4266,
            "count": 0
           },
           {
            "bin_start": 0.4266,
            "bin_end": 0.4747,
            "count": 0
           },
           {
            "bin_start": 0.4747,
            "bin_end": 0.5227999999999999,
            "count": 0
           },
           {
            "bin_start": 0.5227999999999999,
            "bin_end": 0.5709,
            "count": 0
           },
           {
            "bin_start": 0.5709,
            "bin_end": 0.619,
            "count": 1
           }
          ]
         }
        },
        {
         "name": "_deepnote_index_column",
         "dtype": "object"
        }
       ],
       "rows_top": [
        {
         "Model": "Lasso Regression",
         "MAE": 5.6966,
         "MSE": 1131.4343,
         "RMSE": 18.2734,
         "R2": 0.7994,
         "RMSLE": 0.0919,
         "MAPE": 0.0394,
         "TT (Sec)": 0.138,
         "_deepnote_index_column": "lasso"
        },
        {
         "Model": "Linear Regression",
         "MAE": 29.6335,
         "MSE": 39772.0133,
         "RMSE": 90.1037,
         "R2": -6.0346,
         "RMSLE": 0.2339,
         "MAPE": 0.2207,
         "TT (Sec)": 0.619,
         "_deepnote_index_column": "lr"
        }
       ],
       "rows_bottom": null
      },
      "text/plain": "                   Model      MAE         MSE     RMSE      R2   RMSLE  \\\nlasso   Lasso Regression   5.6966   1131.4343  18.2734  0.7994  0.0919   \nlr     Linear Regression  29.6335  39772.0133  90.1037 -6.0346  0.2339   \n\n         MAPE  TT (Sec)  \nlasso  0.0394     0.138  \nlr     0.2207     0.619  ",
      "text/html": "<div>\n<style scoped>\n    .dataframe tbody tr th:only-of-type {\n        vertical-align: middle;\n    }\n\n    .dataframe tbody tr th {\n        vertical-align: top;\n    }\n\n    .dataframe thead th {\n        text-align: right;\n    }\n</style>\n<table border=\"1\" class=\"dataframe\">\n  <thead>\n    <tr style=\"text-align: right;\">\n      <th></th>\n      <th>Model</th>\n      <th>MAE</th>\n      <th>MSE</th>\n      <th>RMSE</th>\n      <th>R2</th>\n      <th>RMSLE</th>\n      <th>MAPE</th>\n      <th>TT (Sec)</th>\n    </tr>\n  </thead>\n  <tbody>\n    <tr>\n      <th>lasso</th>\n      <td>Lasso Regression</td>\n      <td>5.6966</td>\n      <td>1131.4343</td>\n      <td>18.2734</td>\n      <td>0.7994</td>\n      <td>0.0919</td>\n      <td>0.0394</td>\n      <td>0.138</td>\n    </tr>\n    <tr>\n      <th>lr</th>\n      <td>Linear Regression</td>\n      <td>29.6335</td>\n      <td>39772.0133</td>\n      <td>90.1037</td>\n      <td>-6.0346</td>\n      <td>0.2339</td>\n      <td>0.2207</td>\n      <td>0.619</td>\n    </tr>\n  </tbody>\n</table>\n</div>"
     },
     "metadata": {},
     "output_type": "display_data"
    },
    {
     "data": {
      "application/vnd.deepnote.dataframe.v2+json": {
       "row_count": 3,
       "column_count": 8,
       "columns": [
        {
         "name": "Model",
         "dtype": "object",
         "stats": {
          "unique_count": 3,
          "nan_count": 0,
          "categories": [
           {
            "name": "Ridge Regression",
            "count": 1
           },
           {
            "name": "Lasso Regression",
            "count": 1
           },
           {
            "name": "Linear Regression",
            "count": 1
           }
          ]
         }
        },
        {
         "name": "MAE",
         "dtype": "float64",
         "stats": {
          "unique_count": 3,
          "nan_count": 0,
          "min": "4.9195",
          "max": "29.6335",
          "histogram": [
           {
            "bin_start": 4.9195,
            "bin_end": 7.3909,
            "count": 2
           },
           {
            "bin_start": 7.3909,
            "bin_end": 9.862300000000001,
            "count": 0
           },
           {
            "bin_start": 9.862300000000001,
            "bin_end": 12.3337,
            "count": 0
           },
           {
            "bin_start": 12.3337,
            "bin_end": 14.8051,
            "count": 0
           },
           {
            "bin_start": 14.8051,
            "bin_end": 17.2765,
            "count": 0
           },
           {
            "bin_start": 17.2765,
            "bin_end": 19.7479,
            "count": 0
           },
           {
            "bin_start": 19.7479,
            "bin_end": 22.2193,
            "count": 0
           },
           {
            "bin_start": 22.2193,
            "bin_end": 24.6907,
            "count": 0
           },
           {
            "bin_start": 24.6907,
            "bin_end": 27.1621,
            "count": 0
           },
           {
            "bin_start": 27.1621,
            "bin_end": 29.6335,
            "count": 1
           }
          ]
         }
        },
        {
         "name": "MSE",
         "dtype": "float64",
         "stats": {
          "unique_count": 3,
          "nan_count": 0,
          "min": "226.2628",
          "max": "39772.0133",
          "histogram": [
           {
            "bin_start": 226.2628,
            "bin_end": 4180.837850000001,
            "count": 2
           },
           {
            "bin_start": 4180.837850000001,
            "bin_end": 8135.412900000001,
            "count": 0
           },
           {
            "bin_start": 8135.412900000001,
            "bin_end": 12089.987950000002,
            "count": 0
           },
           {
            "bin_start": 12089.987950000002,
            "bin_end": 16044.563000000002,
            "count": 0
           },
           {
            "bin_start": 16044.563000000002,
            "bin_end": 19999.13805,
            "count": 0
           },
           {
            "bin_start": 19999.13805,
            "bin_end": 23953.713100000004,
            "count": 0
           },
           {
            "bin_start": 23953.713100000004,
            "bin_end": 27908.288150000004,
            "count": 0
           },
           {
            "bin_start": 27908.288150000004,
            "bin_end": 31862.863200000003,
            "count": 0
           },
           {
            "bin_start": 31862.863200000003,
            "bin_end": 35817.43825,
            "count": 0
           },
           {
            "bin_start": 35817.43825,
            "bin_end": 39772.0133,
            "count": 1
           }
          ]
         }
        },
        {
         "name": "RMSE",
         "dtype": "float64",
         "stats": {
          "unique_count": 3,
          "nan_count": 0,
          "min": "12.3698",
          "max": "90.1037",
          "histogram": [
           {
            "bin_start": 12.3698,
            "bin_end": 20.14319,
            "count": 2
           },
           {
            "bin_start": 20.14319,
            "bin_end": 27.916580000000003,
            "count": 0
           },
           {
            "bin_start": 27.916580000000003,
            "bin_end": 35.68997,
            "count": 0
           },
           {
            "bin_start": 35.68997,
            "bin_end": 43.46336,
            "count": 0
           },
           {
            "bin_start": 43.46336,
            "bin_end": 51.23675,
            "count": 0
           },
           {
            "bin_start": 51.23675,
            "bin_end": 59.01014000000001,
            "count": 0
           },
           {
            "bin_start": 59.01014000000001,
            "bin_end": 66.78353000000001,
            "count": 0
           },
           {
            "bin_start": 66.78353000000001,
            "bin_end": 74.55692,
            "count": 0
           },
           {
            "bin_start": 74.55692,
            "bin_end": 82.33031000000001,
            "count": 0
           },
           {
            "bin_start": 82.33031000000001,
            "bin_end": 90.1037,
            "count": 1
           }
          ]
         }
        },
        {
         "name": "R2",
         "dtype": "float64",
         "stats": {
          "unique_count": 3,
          "nan_count": 0,
          "min": "-6.0346",
          "max": "0.9586",
          "histogram": [
           {
            "bin_start": -6.0346,
            "bin_end": -5.33528,
            "count": 1
           },
           {
            "bin_start": -5.33528,
            "bin_end": -4.635960000000001,
            "count": 0
           },
           {
            "bin_start": -4.635960000000001,
            "bin_end": -3.9366400000000006,
            "count": 0
           },
           {
            "bin_start": -3.9366400000000006,
            "bin_end": -3.2373200000000004,
            "count": 0
           },
           {
            "bin_start": -3.2373200000000004,
            "bin_end": -2.5380000000000003,
            "count": 0
           },
           {
            "bin_start": -2.5380000000000003,
            "bin_end": -1.838680000000001,
            "count": 0
           },
           {
            "bin_start": -1.838680000000001,
            "bin_end": -1.1393600000000008,
            "count": 0
           },
           {
            "bin_start": -1.1393600000000008,
            "bin_end": -0.44004000000000065,
            "count": 0
           },
           {
            "bin_start": -0.44004000000000065,
            "bin_end": 0.2592799999999995,
            "count": 0
           },
           {
            "bin_start": 0.2592799999999995,
            "bin_end": 0.9586,
            "count": 2
           }
          ]
         }
        },
        {
         "name": "RMSLE",
         "dtype": "float64",
         "stats": {
          "unique_count": 3,
          "nan_count": 0,
          "min": "0.0608",
          "max": "0.2339",
          "histogram": [
           {
            "bin_start": 0.0608,
            "bin_end": 0.07811,
            "count": 1
           },
           {
            "bin_start": 0.07811,
            "bin_end": 0.09542,
            "count": 1
           },
           {
            "bin_start": 0.09542,
            "bin_end": 0.11273,
            "count": 0
           },
           {
            "bin_start": 0.11273,
            "bin_end": 0.13004,
            "count": 0
           },
           {
            "bin_start": 0.13004,
            "bin_end": 0.14734999999999998,
            "count": 0
           },
           {
            "bin_start": 0.14734999999999998,
            "bin_end": 0.16466,
            "count": 0
           },
           {
            "bin_start": 0.16466,
            "bin_end": 0.18197,
            "count": 0
           },
           {
            "bin_start": 0.18197,
            "bin_end": 0.19927999999999998,
            "count": 0
           },
           {
            "bin_start": 0.19927999999999998,
            "bin_end": 0.21658999999999998,
            "count": 0
           },
           {
            "bin_start": 0.21658999999999998,
            "bin_end": 0.2339,
            "count": 1
           }
          ]
         }
        },
        {
         "name": "MAPE",
         "dtype": "float64",
         "stats": {
          "unique_count": 3,
          "nan_count": 0,
          "min": "0.0342",
          "max": "0.2207",
          "histogram": [
           {
            "bin_start": 0.0342,
            "bin_end": 0.05285,
            "count": 2
           },
           {
            "bin_start": 0.05285,
            "bin_end": 0.07150000000000001,
            "count": 0
           },
           {
            "bin_start": 0.07150000000000001,
            "bin_end": 0.09015000000000001,
            "count": 0
           },
           {
            "bin_start": 0.09015000000000001,
            "bin_end": 0.10880000000000001,
            "count": 0
           },
           {
            "bin_start": 0.10880000000000001,
            "bin_end": 0.12745,
            "count": 0
           },
           {
            "bin_start": 0.12745,
            "bin_end": 0.1461,
            "count": 0
           },
           {
            "bin_start": 0.1461,
            "bin_end": 0.16475,
            "count": 0
           },
           {
            "bin_start": 0.16475,
            "bin_end": 0.1834,
            "count": 0
           },
           {
            "bin_start": 0.1834,
            "bin_end": 0.20205,
            "count": 0
           },
           {
            "bin_start": 0.20205,
            "bin_end": 0.2207,
            "count": 1
           }
          ]
         }
        },
        {
         "name": "TT (Sec)",
         "dtype": "float64",
         "stats": {
          "unique_count": 3,
          "nan_count": 0,
          "min": "0.038",
          "max": "0.619",
          "histogram": [
           {
            "bin_start": 0.038,
            "bin_end": 0.09609999999999999,
            "count": 1
           },
           {
            "bin_start": 0.09609999999999999,
            "bin_end": 0.1542,
            "count": 1
           },
           {
            "bin_start": 0.1542,
            "bin_end": 0.21230000000000002,
            "count": 0
           },
           {
            "bin_start": 0.21230000000000002,
            "bin_end": 0.2704,
            "count": 0
           },
           {
            "bin_start": 0.2704,
            "bin_end": 0.32849999999999996,
            "count": 0
           },
           {
            "bin_start": 0.32849999999999996,
            "bin_end": 0.3866,
            "count": 0
           },
           {
            "bin_start": 0.3866,
            "bin_end": 0.4447,
            "count": 0
           },
           {
            "bin_start": 0.4447,
            "bin_end": 0.5028,
            "count": 0
           },
           {
            "bin_start": 0.5028,
            "bin_end": 0.5609000000000001,
            "count": 0
           },
           {
            "bin_start": 0.5609000000000001,
            "bin_end": 0.619,
            "count": 1
           }
          ]
         }
        },
        {
         "name": "_deepnote_index_column",
         "dtype": "object"
        }
       ],
       "rows_top": [
        {
         "Model": "Ridge Regression",
         "MAE": 4.9195,
         "MSE": 226.2628,
         "RMSE": 12.3698,
         "R2": 0.9586,
         "RMSLE": 0.0608,
         "MAPE": 0.0342,
         "TT (Sec)": 0.038,
         "_deepnote_index_column": "ridge"
        },
        {
         "Model": "Lasso Regression",
         "MAE": 5.6966,
         "MSE": 1131.4343,
         "RMSE": 18.2734,
         "R2": 0.7994,
         "RMSLE": 0.0919,
         "MAPE": 0.0394,
         "TT (Sec)": 0.138,
         "_deepnote_index_column": "lasso"
        },
        {
         "Model": "Linear Regression",
         "MAE": 29.6335,
         "MSE": 39772.0133,
         "RMSE": 90.1037,
         "R2": -6.0346,
         "RMSLE": 0.2339,
         "MAPE": 0.2207,
         "TT (Sec)": 0.619,
         "_deepnote_index_column": "lr"
        }
       ],
       "rows_bottom": null
      },
      "text/plain": "                   Model      MAE         MSE     RMSE      R2   RMSLE  \\\nridge   Ridge Regression   4.9195    226.2628  12.3698  0.9586  0.0608   \nlasso   Lasso Regression   5.6966   1131.4343  18.2734  0.7994  0.0919   \nlr     Linear Regression  29.6335  39772.0133  90.1037 -6.0346  0.2339   \n\n         MAPE  TT (Sec)  \nridge  0.0342     0.038  \nlasso  0.0394     0.138  \nlr     0.2207     0.619  ",
      "text/html": "<div>\n<style scoped>\n    .dataframe tbody tr th:only-of-type {\n        vertical-align: middle;\n    }\n\n    .dataframe tbody tr th {\n        vertical-align: top;\n    }\n\n    .dataframe thead th {\n        text-align: right;\n    }\n</style>\n<table border=\"1\" class=\"dataframe\">\n  <thead>\n    <tr style=\"text-align: right;\">\n      <th></th>\n      <th>Model</th>\n      <th>MAE</th>\n      <th>MSE</th>\n      <th>RMSE</th>\n      <th>R2</th>\n      <th>RMSLE</th>\n      <th>MAPE</th>\n      <th>TT (Sec)</th>\n    </tr>\n  </thead>\n  <tbody>\n    <tr>\n      <th>ridge</th>\n      <td>Ridge Regression</td>\n      <td>4.9195</td>\n      <td>226.2628</td>\n      <td>12.3698</td>\n      <td>0.9586</td>\n      <td>0.0608</td>\n      <td>0.0342</td>\n      <td>0.038</td>\n    </tr>\n    <tr>\n      <th>lasso</th>\n      <td>Lasso Regression</td>\n      <td>5.6966</td>\n      <td>1131.4343</td>\n      <td>18.2734</td>\n      <td>0.7994</td>\n      <td>0.0919</td>\n      <td>0.0394</td>\n      <td>0.138</td>\n    </tr>\n    <tr>\n      <th>lr</th>\n      <td>Linear Regression</td>\n      <td>29.6335</td>\n      <td>39772.0133</td>\n      <td>90.1037</td>\n      <td>-6.0346</td>\n      <td>0.2339</td>\n      <td>0.2207</td>\n      <td>0.619</td>\n    </tr>\n  </tbody>\n</table>\n</div>"
     },
     "metadata": {},
     "output_type": "display_data"
    },
    {
     "data": {
      "application/vnd.deepnote.dataframe.v2+json": {
       "row_count": 4,
       "column_count": 8,
       "columns": [
        {
         "name": "Model",
         "dtype": "object",
         "stats": {
          "unique_count": 4,
          "nan_count": 0,
          "categories": [
           {
            "name": "Ridge Regression",
            "count": 1
           },
           {
            "name": "Elastic Net",
            "count": 1
           },
           {
            "name": "2 others",
            "count": 2
           }
          ]
         }
        },
        {
         "name": "MAE",
         "dtype": "float64",
         "stats": {
          "unique_count": 4,
          "nan_count": 0,
          "min": "4.9195",
          "max": "29.6335",
          "histogram": [
           {
            "bin_start": 4.9195,
            "bin_end": 7.3909,
            "count": 3
           },
           {
            "bin_start": 7.3909,
            "bin_end": 9.862300000000001,
            "count": 0
           },
           {
            "bin_start": 9.862300000000001,
            "bin_end": 12.3337,
            "count": 0
           },
           {
            "bin_start": 12.3337,
            "bin_end": 14.8051,
            "count": 0
           },
           {
            "bin_start": 14.8051,
            "bin_end": 17.2765,
            "count": 0
           },
           {
            "bin_start": 17.2765,
            "bin_end": 19.7479,
            "count": 0
           },
           {
            "bin_start": 19.7479,
            "bin_end": 22.2193,
            "count": 0
           },
           {
            "bin_start": 22.2193,
            "bin_end": 24.6907,
            "count": 0
           },
           {
            "bin_start": 24.6907,
            "bin_end": 27.1621,
            "count": 0
           },
           {
            "bin_start": 27.1621,
            "bin_end": 29.6335,
            "count": 1
           }
          ]
         }
        },
        {
         "name": "MSE",
         "dtype": "float64",
         "stats": {
          "unique_count": 4,
          "nan_count": 0,
          "min": "226.2628",
          "max": "39772.0133",
          "histogram": [
           {
            "bin_start": 226.2628,
            "bin_end": 4180.837850000001,
            "count": 3
           },
           {
            "bin_start": 4180.837850000001,
            "bin_end": 8135.412900000001,
            "count": 0
           },
           {
            "bin_start": 8135.412900000001,
            "bin_end": 12089.987950000002,
            "count": 0
           },
           {
            "bin_start": 12089.987950000002,
            "bin_end": 16044.563000000002,
            "count": 0
           },
           {
            "bin_start": 16044.563000000002,
            "bin_end": 19999.13805,
            "count": 0
           },
           {
            "bin_start": 19999.13805,
            "bin_end": 23953.713100000004,
            "count": 0
           },
           {
            "bin_start": 23953.713100000004,
            "bin_end": 27908.288150000004,
            "count": 0
           },
           {
            "bin_start": 27908.288150000004,
            "bin_end": 31862.863200000003,
            "count": 0
           },
           {
            "bin_start": 31862.863200000003,
            "bin_end": 35817.43825,
            "count": 0
           },
           {
            "bin_start": 35817.43825,
            "bin_end": 39772.0133,
            "count": 1
           }
          ]
         }
        },
        {
         "name": "RMSE",
         "dtype": "float64",
         "stats": {
          "unique_count": 4,
          "nan_count": 0,
          "min": "12.3698",
          "max": "90.1037",
          "histogram": [
           {
            "bin_start": 12.3698,
            "bin_end": 20.14319,
            "count": 3
           },
           {
            "bin_start": 20.14319,
            "bin_end": 27.916580000000003,
            "count": 0
           },
           {
            "bin_start": 27.916580000000003,
            "bin_end": 35.68997,
            "count": 0
           },
           {
            "bin_start": 35.68997,
            "bin_end": 43.46336,
            "count": 0
           },
           {
            "bin_start": 43.46336,
            "bin_end": 51.23675,
            "count": 0
           },
           {
            "bin_start": 51.23675,
            "bin_end": 59.01014000000001,
            "count": 0
           },
           {
            "bin_start": 59.01014000000001,
            "bin_end": 66.78353000000001,
            "count": 0
           },
           {
            "bin_start": 66.78353000000001,
            "bin_end": 74.55692,
            "count": 0
           },
           {
            "bin_start": 74.55692,
            "bin_end": 82.33031000000001,
            "count": 0
           },
           {
            "bin_start": 82.33031000000001,
            "bin_end": 90.1037,
            "count": 1
           }
          ]
         }
        },
        {
         "name": "R2",
         "dtype": "float64",
         "stats": {
          "unique_count": 4,
          "nan_count": 0,
          "min": "-6.0346",
          "max": "0.9586",
          "histogram": [
           {
            "bin_start": -6.0346,
            "bin_end": -5.33528,
            "count": 1
           },
           {
            "bin_start": -5.33528,
            "bin_end": -4.635960000000001,
            "count": 0
           },
           {
            "bin_start": -4.635960000000001,
            "bin_end": -3.9366400000000006,
            "count": 0
           },
           {
            "bin_start": -3.9366400000000006,
            "bin_end": -3.2373200000000004,
            "count": 0
           },
           {
            "bin_start": -3.2373200000000004,
            "bin_end": -2.5380000000000003,
            "count": 0
           },
           {
            "bin_start": -2.5380000000000003,
            "bin_end": -1.838680000000001,
            "count": 0
           },
           {
            "bin_start": -1.838680000000001,
            "bin_end": -1.1393600000000008,
            "count": 0
           },
           {
            "bin_start": -1.1393600000000008,
            "bin_end": -0.44004000000000065,
            "count": 0
           },
           {
            "bin_start": -0.44004000000000065,
            "bin_end": 0.2592799999999995,
            "count": 0
           },
           {
            "bin_start": 0.2592799999999995,
            "bin_end": 0.9586,
            "count": 3
           }
          ]
         }
        },
        {
         "name": "RMSLE",
         "dtype": "float64",
         "stats": {
          "unique_count": 4,
          "nan_count": 0,
          "min": "0.0608",
          "max": "0.2339",
          "histogram": [
           {
            "bin_start": 0.0608,
            "bin_end": 0.07811,
            "count": 1
           },
           {
            "bin_start": 0.07811,
            "bin_end": 0.09542,
            "count": 2
           },
           {
            "bin_start": 0.09542,
            "bin_end": 0.11273,
            "count": 0
           },
           {
            "bin_start": 0.11273,
            "bin_end": 0.13004,
            "count": 0
           },
           {
            "bin_start": 0.13004,
            "bin_end": 0.14734999999999998,
            "count": 0
           },
           {
            "bin_start": 0.14734999999999998,
            "bin_end": 0.16466,
            "count": 0
           },
           {
            "bin_start": 0.16466,
            "bin_end": 0.18197,
            "count": 0
           },
           {
            "bin_start": 0.18197,
            "bin_end": 0.19927999999999998,
            "count": 0
           },
           {
            "bin_start": 0.19927999999999998,
            "bin_end": 0.21658999999999998,
            "count": 0
           },
           {
            "bin_start": 0.21658999999999998,
            "bin_end": 0.2339,
            "count": 1
           }
          ]
         }
        },
        {
         "name": "MAPE",
         "dtype": "float64",
         "stats": {
          "unique_count": 4,
          "nan_count": 0,
          "min": "0.0342",
          "max": "0.2207",
          "histogram": [
           {
            "bin_start": 0.0342,
            "bin_end": 0.05285,
            "count": 3
           },
           {
            "bin_start": 0.05285,
            "bin_end": 0.07150000000000001,
            "count": 0
           },
           {
            "bin_start": 0.07150000000000001,
            "bin_end": 0.09015000000000001,
            "count": 0
           },
           {
            "bin_start": 0.09015000000000001,
            "bin_end": 0.10880000000000001,
            "count": 0
           },
           {
            "bin_start": 0.10880000000000001,
            "bin_end": 0.12745,
            "count": 0
           },
           {
            "bin_start": 0.12745,
            "bin_end": 0.1461,
            "count": 0
           },
           {
            "bin_start": 0.1461,
            "bin_end": 0.16475,
            "count": 0
           },
           {
            "bin_start": 0.16475,
            "bin_end": 0.1834,
            "count": 0
           },
           {
            "bin_start": 0.1834,
            "bin_end": 0.20205,
            "count": 0
           },
           {
            "bin_start": 0.20205,
            "bin_end": 0.2207,
            "count": 1
           }
          ]
         }
        },
        {
         "name": "TT (Sec)",
         "dtype": "float64",
         "stats": {
          "unique_count": 4,
          "nan_count": 0,
          "min": "0.038",
          "max": "0.619",
          "histogram": [
           {
            "bin_start": 0.038,
            "bin_end": 0.09609999999999999,
            "count": 1
           },
           {
            "bin_start": 0.09609999999999999,
            "bin_end": 0.1542,
            "count": 2
           },
           {
            "bin_start": 0.1542,
            "bin_end": 0.21230000000000002,
            "count": 0
           },
           {
            "bin_start": 0.21230000000000002,
            "bin_end": 0.2704,
            "count": 0
           },
           {
            "bin_start": 0.2704,
            "bin_end": 0.32849999999999996,
            "count": 0
           },
           {
            "bin_start": 0.32849999999999996,
            "bin_end": 0.3866,
            "count": 0
           },
           {
            "bin_start": 0.3866,
            "bin_end": 0.4447,
            "count": 0
           },
           {
            "bin_start": 0.4447,
            "bin_end": 0.5028,
            "count": 0
           },
           {
            "bin_start": 0.5028,
            "bin_end": 0.5609000000000001,
            "count": 0
           },
           {
            "bin_start": 0.5609000000000001,
            "bin_end": 0.619,
            "count": 1
           }
          ]
         }
        },
        {
         "name": "_deepnote_index_column",
         "dtype": "object"
        }
       ],
       "rows_top": [
        {
         "Model": "Ridge Regression",
         "MAE": 4.9195,
         "MSE": 226.2628,
         "RMSE": 12.3698,
         "R2": 0.9586,
         "RMSLE": 0.0608,
         "MAPE": 0.0342,
         "TT (Sec)": 0.038,
         "_deepnote_index_column": "ridge"
        },
        {
         "Model": "Elastic Net",
         "MAE": 5.5975,
         "MSE": 1061.075,
         "RMSE": 17.579,
         "R2": 0.8118,
         "RMSLE": 0.0827,
         "MAPE": 0.0388,
         "TT (Sec)": 0.139,
         "_deepnote_index_column": "en"
        },
        {
         "Model": "Lasso Regression",
         "MAE": 5.6966,
         "MSE": 1131.4343,
         "RMSE": 18.2734,
         "R2": 0.7994,
         "RMSLE": 0.0919,
         "MAPE": 0.0394,
         "TT (Sec)": 0.138,
         "_deepnote_index_column": "lasso"
        },
        {
         "Model": "Linear Regression",
         "MAE": 29.6335,
         "MSE": 39772.0133,
         "RMSE": 90.1037,
         "R2": -6.0346,
         "RMSLE": 0.2339,
         "MAPE": 0.2207,
         "TT (Sec)": 0.619,
         "_deepnote_index_column": "lr"
        }
       ],
       "rows_bottom": null
      },
      "text/plain": "                   Model      MAE         MSE     RMSE      R2   RMSLE  \\\nridge   Ridge Regression   4.9195    226.2628  12.3698  0.9586  0.0608   \nen           Elastic Net   5.5975   1061.0750  17.5790  0.8118  0.0827   \nlasso   Lasso Regression   5.6966   1131.4343  18.2734  0.7994  0.0919   \nlr     Linear Regression  29.6335  39772.0133  90.1037 -6.0346  0.2339   \n\n         MAPE  TT (Sec)  \nridge  0.0342     0.038  \nen     0.0388     0.139  \nlasso  0.0394     0.138  \nlr     0.2207     0.619  ",
      "text/html": "<div>\n<style scoped>\n    .dataframe tbody tr th:only-of-type {\n        vertical-align: middle;\n    }\n\n    .dataframe tbody tr th {\n        vertical-align: top;\n    }\n\n    .dataframe thead th {\n        text-align: right;\n    }\n</style>\n<table border=\"1\" class=\"dataframe\">\n  <thead>\n    <tr style=\"text-align: right;\">\n      <th></th>\n      <th>Model</th>\n      <th>MAE</th>\n      <th>MSE</th>\n      <th>RMSE</th>\n      <th>R2</th>\n      <th>RMSLE</th>\n      <th>MAPE</th>\n      <th>TT (Sec)</th>\n    </tr>\n  </thead>\n  <tbody>\n    <tr>\n      <th>ridge</th>\n      <td>Ridge Regression</td>\n      <td>4.9195</td>\n      <td>226.2628</td>\n      <td>12.3698</td>\n      <td>0.9586</td>\n      <td>0.0608</td>\n      <td>0.0342</td>\n      <td>0.038</td>\n    </tr>\n    <tr>\n      <th>en</th>\n      <td>Elastic Net</td>\n      <td>5.5975</td>\n      <td>1061.0750</td>\n      <td>17.5790</td>\n      <td>0.8118</td>\n      <td>0.0827</td>\n      <td>0.0388</td>\n      <td>0.139</td>\n    </tr>\n    <tr>\n      <th>lasso</th>\n      <td>Lasso Regression</td>\n      <td>5.6966</td>\n      <td>1131.4343</td>\n      <td>18.2734</td>\n      <td>0.7994</td>\n      <td>0.0919</td>\n      <td>0.0394</td>\n      <td>0.138</td>\n    </tr>\n    <tr>\n      <th>lr</th>\n      <td>Linear Regression</td>\n      <td>29.6335</td>\n      <td>39772.0133</td>\n      <td>90.1037</td>\n      <td>-6.0346</td>\n      <td>0.2339</td>\n      <td>0.2207</td>\n      <td>0.619</td>\n    </tr>\n  </tbody>\n</table>\n</div>"
     },
     "metadata": {},
     "output_type": "display_data"
    },
    {
     "data": {
      "application/vnd.deepnote.dataframe.v2+json": {
       "row_count": 5,
       "column_count": 8,
       "columns": [
        {
         "name": "Model",
         "dtype": "object",
         "stats": {
          "unique_count": 5,
          "nan_count": 0,
          "categories": [
           {
            "name": "Ridge Regression",
            "count": 1
           },
           {
            "name": "Elastic Net",
            "count": 1
           },
           {
            "name": "3 others",
            "count": 3
           }
          ]
         }
        },
        {
         "name": "MAE",
         "dtype": "float64",
         "stats": {
          "unique_count": 5,
          "nan_count": 0,
          "min": "4.9195",
          "max": "42.2261",
          "histogram": [
           {
            "bin_start": 4.9195,
            "bin_end": 8.65016,
            "count": 3
           },
           {
            "bin_start": 8.65016,
            "bin_end": 12.38082,
            "count": 0
           },
           {
            "bin_start": 12.38082,
            "bin_end": 16.11148,
            "count": 0
           },
           {
            "bin_start": 16.11148,
            "bin_end": 19.84214,
            "count": 0
           },
           {
            "bin_start": 19.84214,
            "bin_end": 23.5728,
            "count": 0
           },
           {
            "bin_start": 23.5728,
            "bin_end": 27.30346,
            "count": 0
           },
           {
            "bin_start": 27.30346,
            "bin_end": 31.03412,
            "count": 1
           },
           {
            "bin_start": 31.03412,
            "bin_end": 34.76478,
            "count": 0
           },
           {
            "bin_start": 34.76478,
            "bin_end": 38.49544,
            "count": 0
           },
           {
            "bin_start": 38.49544,
            "bin_end": 42.2261,
            "count": 1
           }
          ]
         }
        },
        {
         "name": "MSE",
         "dtype": "float64",
         "stats": {
          "unique_count": 5,
          "nan_count": 0,
          "min": "226.2628",
          "max": "39772.0133",
          "histogram": [
           {
            "bin_start": 226.2628,
            "bin_end": 4180.837850000001,
            "count": 4
           },
           {
            "bin_start": 4180.837850000001,
            "bin_end": 8135.412900000001,
            "count": 0
           },
           {
            "bin_start": 8135.412900000001,
            "bin_end": 12089.987950000002,
            "count": 0
           },
           {
            "bin_start": 12089.987950000002,
            "bin_end": 16044.563000000002,
            "count": 0
           },
           {
            "bin_start": 16044.563000000002,
            "bin_end": 19999.13805,
            "count": 0
           },
           {
            "bin_start": 19999.13805,
            "bin_end": 23953.713100000004,
            "count": 0
           },
           {
            "bin_start": 23953.713100000004,
            "bin_end": 27908.288150000004,
            "count": 0
           },
           {
            "bin_start": 27908.288150000004,
            "bin_end": 31862.863200000003,
            "count": 0
           },
           {
            "bin_start": 31862.863200000003,
            "bin_end": 35817.43825,
            "count": 0
           },
           {
            "bin_start": 35817.43825,
            "bin_end": 39772.0133,
            "count": 1
           }
          ]
         }
        },
        {
         "name": "RMSE",
         "dtype": "float64",
         "stats": {
          "unique_count": 5,
          "nan_count": 0,
          "min": "12.3698",
          "max": "90.1037",
          "histogram": [
           {
            "bin_start": 12.3698,
            "bin_end": 20.14319,
            "count": 3
           },
           {
            "bin_start": 20.14319,
            "bin_end": 27.916580000000003,
            "count": 0
           },
           {
            "bin_start": 27.916580000000003,
            "bin_end": 35.68997,
            "count": 0
           },
           {
            "bin_start": 35.68997,
            "bin_end": 43.46336,
            "count": 0
           },
           {
            "bin_start": 43.46336,
            "bin_end": 51.23675,
            "count": 1
           },
           {
            "bin_start": 51.23675,
            "bin_end": 59.01014000000001,
            "count": 0
           },
           {
            "bin_start": 59.01014000000001,
            "bin_end": 66.78353000000001,
            "count": 0
           },
           {
            "bin_start": 66.78353000000001,
            "bin_end": 74.55692,
            "count": 0
           },
           {
            "bin_start": 74.55692,
            "bin_end": 82.33031000000001,
            "count": 0
           },
           {
            "bin_start": 82.33031000000001,
            "bin_end": 90.1037,
            "count": 1
           }
          ]
         }
        },
        {
         "name": "R2",
         "dtype": "float64",
         "stats": {
          "unique_count": 5,
          "nan_count": 0,
          "min": "-6.0346",
          "max": "0.9586",
          "histogram": [
           {
            "bin_start": -6.0346,
            "bin_end": -5.33528,
            "count": 1
           },
           {
            "bin_start": -5.33528,
            "bin_end": -4.635960000000001,
            "count": 0
           },
           {
            "bin_start": -4.635960000000001,
            "bin_end": -3.9366400000000006,
            "count": 0
           },
           {
            "bin_start": -3.9366400000000006,
            "bin_end": -3.2373200000000004,
            "count": 0
           },
           {
            "bin_start": -3.2373200000000004,
            "bin_end": -2.5380000000000003,
            "count": 0
           },
           {
            "bin_start": -2.5380000000000003,
            "bin_end": -1.838680000000001,
            "count": 0
           },
           {
            "bin_start": -1.838680000000001,
            "bin_end": -1.1393600000000008,
            "count": 0
           },
           {
            "bin_start": -1.1393600000000008,
            "bin_end": -0.44004000000000065,
            "count": 0
           },
           {
            "bin_start": -0.44004000000000065,
            "bin_end": 0.2592799999999995,
            "count": 0
           },
           {
            "bin_start": 0.2592799999999995,
            "bin_end": 0.9586,
            "count": 4
           }
          ]
         }
        },
        {
         "name": "RMSLE",
         "dtype": "float64",
         "stats": {
          "unique_count": 5,
          "nan_count": 0,
          "min": "0.0608",
          "max": "0.3322",
          "histogram": [
           {
            "bin_start": 0.0608,
            "bin_end": 0.08793999999999999,
            "count": 2
           },
           {
            "bin_start": 0.08793999999999999,
            "bin_end": 0.11507999999999999,
            "count": 1
           },
           {
            "bin_start": 0.11507999999999999,
            "bin_end": 0.14221999999999999,
            "count": 0
           },
           {
            "bin_start": 0.14221999999999999,
            "bin_end": 0.16935999999999998,
            "count": 0
           },
           {
            "bin_start": 0.16935999999999998,
            "bin_end": 0.19649999999999998,
            "count": 0
           },
           {
            "bin_start": 0.19649999999999998,
            "bin_end": 0.22363999999999998,
            "count": 0
           },
           {
            "bin_start": 0.22363999999999998,
            "bin_end": 0.25078,
            "count": 1
           },
           {
            "bin_start": 0.25078,
            "bin_end": 0.27792,
            "count": 0
           },
           {
            "bin_start": 0.27792,
            "bin_end": 0.30506,
            "count": 0
           },
           {
            "bin_start": 0.30506,
            "bin_end": 0.3322,
            "count": 1
           }
          ]
         }
        },
        {
         "name": "MAPE",
         "dtype": "float64",
         "stats": {
          "unique_count": 5,
          "nan_count": 0,
          "min": "0.0342",
          "max": "0.3175",
          "histogram": [
           {
            "bin_start": 0.0342,
            "bin_end": 0.06253,
            "count": 3
           },
           {
            "bin_start": 0.06253,
            "bin_end": 0.09086,
            "count": 0
           },
           {
            "bin_start": 0.09086,
            "bin_end": 0.11919000000000002,
            "count": 0
           },
           {
            "bin_start": 0.11919000000000002,
            "bin_end": 0.14752,
            "count": 0
           },
           {
            "bin_start": 0.14752,
            "bin_end": 0.17585,
            "count": 0
           },
           {
            "bin_start": 0.17585,
            "bin_end": 0.20418000000000003,
            "count": 0
           },
           {
            "bin_start": 0.20418000000000003,
            "bin_end": 0.23251000000000002,
            "count": 1
           },
           {
            "bin_start": 0.23251000000000002,
            "bin_end": 0.26084,
            "count": 0
           },
           {
            "bin_start": 0.26084,
            "bin_end": 0.28917000000000004,
            "count": 0
           },
           {
            "bin_start": 0.28917000000000004,
            "bin_end": 0.3175,
            "count": 1
           }
          ]
         }
        },
        {
         "name": "TT (Sec)",
         "dtype": "float64",
         "stats": {
          "unique_count": 5,
          "nan_count": 0,
          "min": "0.038",
          "max": "0.619",
          "histogram": [
           {
            "bin_start": 0.038,
            "bin_end": 0.09609999999999999,
            "count": 1
           },
           {
            "bin_start": 0.09609999999999999,
            "bin_end": 0.1542,
            "count": 2
           },
           {
            "bin_start": 0.1542,
            "bin_end": 0.21230000000000002,
            "count": 0
           },
           {
            "bin_start": 0.21230000000000002,
            "bin_end": 0.2704,
            "count": 0
           },
           {
            "bin_start": 0.2704,
            "bin_end": 0.32849999999999996,
            "count": 0
           },
           {
            "bin_start": 0.32849999999999996,
            "bin_end": 0.3866,
            "count": 0
           },
           {
            "bin_start": 0.3866,
            "bin_end": 0.4447,
            "count": 1
           },
           {
            "bin_start": 0.4447,
            "bin_end": 0.5028,
            "count": 0
           },
           {
            "bin_start": 0.5028,
            "bin_end": 0.5609000000000001,
            "count": 0
           },
           {
            "bin_start": 0.5609000000000001,
            "bin_end": 0.619,
            "count": 1
           }
          ]
         }
        },
        {
         "name": "_deepnote_index_column",
         "dtype": "object"
        }
       ],
       "rows_top": [
        {
         "Model": "Ridge Regression",
         "MAE": 4.9195,
         "MSE": 226.2628,
         "RMSE": 12.3698,
         "R2": 0.9586,
         "RMSLE": 0.0608,
         "MAPE": 0.0342,
         "TT (Sec)": 0.038,
         "_deepnote_index_column": "ridge"
        },
        {
         "Model": "Elastic Net",
         "MAE": 5.5975,
         "MSE": 1061.075,
         "RMSE": 17.579,
         "R2": 0.8118,
         "RMSLE": 0.0827,
         "MAPE": 0.0388,
         "TT (Sec)": 0.139,
         "_deepnote_index_column": "en"
        },
        {
         "Model": "Lasso Regression",
         "MAE": 5.6966,
         "MSE": 1131.4343,
         "RMSE": 18.2734,
         "R2": 0.7994,
         "RMSLE": 0.0919,
         "MAPE": 0.0394,
         "TT (Sec)": 0.138,
         "_deepnote_index_column": "lasso"
        },
        {
         "Model": "Lasso Least Angle Regression",
         "MAE": 42.2261,
         "MSE": 2468.5781,
         "RMSE": 49.6429,
         "R2": 0.5281,
         "RMSLE": 0.3322,
         "MAPE": 0.3175,
         "TT (Sec)": 0.426,
         "_deepnote_index_column": "llar"
        },
        {
         "Model": "Linear Regression",
         "MAE": 29.6335,
         "MSE": 39772.0133,
         "RMSE": 90.1037,
         "R2": -6.0346,
         "RMSLE": 0.2339,
         "MAPE": 0.2207,
         "TT (Sec)": 0.619,
         "_deepnote_index_column": "lr"
        }
       ],
       "rows_bottom": null
      },
      "text/plain": "                              Model      MAE         MSE     RMSE      R2  \\\nridge              Ridge Regression   4.9195    226.2628  12.3698  0.9586   \nen                      Elastic Net   5.5975   1061.0750  17.5790  0.8118   \nlasso              Lasso Regression   5.6966   1131.4343  18.2734  0.7994   \nllar   Lasso Least Angle Regression  42.2261   2468.5781  49.6429  0.5281   \nlr                Linear Regression  29.6335  39772.0133  90.1037 -6.0346   \n\n        RMSLE    MAPE  TT (Sec)  \nridge  0.0608  0.0342     0.038  \nen     0.0827  0.0388     0.139  \nlasso  0.0919  0.0394     0.138  \nllar   0.3322  0.3175     0.426  \nlr     0.2339  0.2207     0.619  ",
      "text/html": "<div>\n<style scoped>\n    .dataframe tbody tr th:only-of-type {\n        vertical-align: middle;\n    }\n\n    .dataframe tbody tr th {\n        vertical-align: top;\n    }\n\n    .dataframe thead th {\n        text-align: right;\n    }\n</style>\n<table border=\"1\" class=\"dataframe\">\n  <thead>\n    <tr style=\"text-align: right;\">\n      <th></th>\n      <th>Model</th>\n      <th>MAE</th>\n      <th>MSE</th>\n      <th>RMSE</th>\n      <th>R2</th>\n      <th>RMSLE</th>\n      <th>MAPE</th>\n      <th>TT (Sec)</th>\n    </tr>\n  </thead>\n  <tbody>\n    <tr>\n      <th>ridge</th>\n      <td>Ridge Regression</td>\n      <td>4.9195</td>\n      <td>226.2628</td>\n      <td>12.3698</td>\n      <td>0.9586</td>\n      <td>0.0608</td>\n      <td>0.0342</td>\n      <td>0.038</td>\n    </tr>\n    <tr>\n      <th>en</th>\n      <td>Elastic Net</td>\n      <td>5.5975</td>\n      <td>1061.0750</td>\n      <td>17.5790</td>\n      <td>0.8118</td>\n      <td>0.0827</td>\n      <td>0.0388</td>\n      <td>0.139</td>\n    </tr>\n    <tr>\n      <th>lasso</th>\n      <td>Lasso Regression</td>\n      <td>5.6966</td>\n      <td>1131.4343</td>\n      <td>18.2734</td>\n      <td>0.7994</td>\n      <td>0.0919</td>\n      <td>0.0394</td>\n      <td>0.138</td>\n    </tr>\n    <tr>\n      <th>llar</th>\n      <td>Lasso Least Angle Regression</td>\n      <td>42.2261</td>\n      <td>2468.5781</td>\n      <td>49.6429</td>\n      <td>0.5281</td>\n      <td>0.3322</td>\n      <td>0.3175</td>\n      <td>0.426</td>\n    </tr>\n    <tr>\n      <th>lr</th>\n      <td>Linear Regression</td>\n      <td>29.6335</td>\n      <td>39772.0133</td>\n      <td>90.1037</td>\n      <td>-6.0346</td>\n      <td>0.2339</td>\n      <td>0.2207</td>\n      <td>0.619</td>\n    </tr>\n  </tbody>\n</table>\n</div>"
     },
     "metadata": {},
     "output_type": "display_data"
    },
    {
     "data": {
      "application/vnd.deepnote.dataframe.v2+json": {
       "row_count": 6,
       "column_count": 8,
       "columns": [
        {
         "name": "Model",
         "dtype": "object",
         "stats": {
          "unique_count": 6,
          "nan_count": 0,
          "categories": [
           {
            "name": "Orthogonal Matching Pursuit",
            "count": 1
           },
           {
            "name": "Ridge Regression",
            "count": 1
           },
           {
            "name": "4 others",
            "count": 4
           }
          ]
         }
        },
        {
         "name": "MAE",
         "dtype": "float64",
         "stats": {
          "unique_count": 6,
          "nan_count": 0,
          "min": "4.4564",
          "max": "42.2261",
          "histogram": [
           {
            "bin_start": 4.4564,
            "bin_end": 8.23337,
            "count": 4
           },
           {
            "bin_start": 8.23337,
            "bin_end": 12.01034,
            "count": 0
           },
           {
            "bin_start": 12.01034,
            "bin_end": 15.78731,
            "count": 0
           },
           {
            "bin_start": 15.78731,
            "bin_end": 19.56428,
            "count": 0
           },
           {
            "bin_start": 19.56428,
            "bin_end": 23.341250000000002,
            "count": 0
           },
           {
            "bin_start": 23.341250000000002,
            "bin_end": 27.11822,
            "count": 0
           },
           {
            "bin_start": 27.11822,
            "bin_end": 30.89519,
            "count": 1
           },
           {
            "bin_start": 30.89519,
            "bin_end": 34.67216,
            "count": 0
           },
           {
            "bin_start": 34.67216,
            "bin_end": 38.449130000000004,
            "count": 0
           },
           {
            "bin_start": 38.449130000000004,
            "bin_end": 42.2261,
            "count": 1
           }
          ]
         }
        },
        {
         "name": "MSE",
         "dtype": "float64",
         "stats": {
          "unique_count": 6,
          "nan_count": 0,
          "min": "52.609",
          "max": "39772.0133",
          "histogram": [
           {
            "bin_start": 52.609,
            "bin_end": 4024.54943,
            "count": 5
           },
           {
            "bin_start": 4024.54943,
            "bin_end": 7996.489860000001,
            "count": 0
           },
           {
            "bin_start": 7996.489860000001,
            "bin_end": 11968.43029,
            "count": 0
           },
           {
            "bin_start": 11968.43029,
            "bin_end": 15940.37072,
            "count": 0
           },
           {
            "bin_start": 15940.37072,
            "bin_end": 19912.31115,
            "count": 0
           },
           {
            "bin_start": 19912.31115,
            "bin_end": 23884.25158,
            "count": 0
           },
           {
            "bin_start": 23884.25158,
            "bin_end": 27856.192010000002,
            "count": 0
           },
           {
            "bin_start": 27856.192010000002,
            "bin_end": 31828.13244,
            "count": 0
           },
           {
            "bin_start": 31828.13244,
            "bin_end": 35800.072869999996,
            "count": 0
           },
           {
            "bin_start": 35800.072869999996,
            "bin_end": 39772.0133,
            "count": 1
           }
          ]
         }
        },
        {
         "name": "RMSE",
         "dtype": "float64",
         "stats": {
          "unique_count": 6,
          "nan_count": 0,
          "min": "7.1792",
          "max": "90.1037",
          "histogram": [
           {
            "bin_start": 7.1792,
            "bin_end": 15.47165,
            "count": 2
           },
           {
            "bin_start": 15.47165,
            "bin_end": 23.7641,
            "count": 2
           },
           {
            "bin_start": 23.7641,
            "bin_end": 32.05655,
            "count": 0
           },
           {
            "bin_start": 32.05655,
            "bin_end": 40.349000000000004,
            "count": 0
           },
           {
            "bin_start": 40.349000000000004,
            "bin_end": 48.641450000000006,
            "count": 0
           },
           {
            "bin_start": 48.641450000000006,
            "bin_end": 56.9339,
            "count": 1
           },
           {
            "bin_start": 56.9339,
            "bin_end": 65.22635,
            "count": 0
           },
           {
            "bin_start": 65.22635,
            "bin_end": 73.5188,
            "count": 0
           },
           {
            "bin_start": 73.5188,
            "bin_end": 81.81125,
            "count": 0
           },
           {
            "bin_start": 81.81125,
            "bin_end": 90.1037,
            "count": 1
           }
          ]
         }
        },
        {
         "name": "R2",
         "dtype": "float64",
         "stats": {
          "unique_count": 6,
          "nan_count": 0,
          "min": "-6.0346",
          "max": "0.9899",
          "histogram": [
           {
            "bin_start": -6.0346,
            "bin_end": -5.33215,
            "count": 1
           },
           {
            "bin_start": -5.33215,
            "bin_end": -4.6297,
            "count": 0
           },
           {
            "bin_start": -4.6297,
            "bin_end": -3.92725,
            "count": 0
           },
           {
            "bin_start": -3.92725,
            "bin_end": -3.2248,
            "count": 0
           },
           {
            "bin_start": -3.2248,
            "bin_end": -2.5223500000000003,
            "count": 0
           },
           {
            "bin_start": -2.5223500000000003,
            "bin_end": -1.8198999999999996,
            "count": 0
           },
           {
            "bin_start": -1.8198999999999996,
            "bin_end": -1.1174499999999998,
            "count": 0
           },
           {
            "bin_start": -1.1174499999999998,
            "bin_end": -0.41500000000000004,
            "count": 0
           },
           {
            "bin_start": -0.41500000000000004,
            "bin_end": 0.28744999999999976,
            "count": 0
           },
           {
            "bin_start": 0.28744999999999976,
            "bin_end": 0.9899,
            "count": 5
           }
          ]
         }
        },
        {
         "name": "RMSLE",
         "dtype": "float64",
         "stats": {
          "unique_count": 6,
          "nan_count": 0,
          "min": "0.0515",
          "max": "0.3322",
          "histogram": [
           {
            "bin_start": 0.0515,
            "bin_end": 0.07957,
            "count": 2
           },
           {
            "bin_start": 0.07957,
            "bin_end": 0.10764,
            "count": 2
           },
           {
            "bin_start": 0.10764,
            "bin_end": 0.13571,
            "count": 0
           },
           {
            "bin_start": 0.13571,
            "bin_end": 0.16378,
            "count": 0
           },
           {
            "bin_start": 0.16378,
            "bin_end": 0.19185,
            "count": 0
           },
           {
            "bin_start": 0.19185,
            "bin_end": 0.21992,
            "count": 0
           },
           {
            "bin_start": 0.21992,
            "bin_end": 0.24799,
            "count": 1
           },
           {
            "bin_start": 0.24799,
            "bin_end": 0.27606,
            "count": 0
           },
           {
            "bin_start": 0.27606,
            "bin_end": 0.30413,
            "count": 0
           },
           {
            "bin_start": 0.30413,
            "bin_end": 0.3322,
            "count": 1
           }
          ]
         }
        },
        {
         "name": "MAPE",
         "dtype": "float64",
         "stats": {
          "unique_count": 6,
          "nan_count": 0,
          "min": "0.0311",
          "max": "0.3175",
          "histogram": [
           {
            "bin_start": 0.0311,
            "bin_end": 0.05974,
            "count": 4
           },
           {
            "bin_start": 0.05974,
            "bin_end": 0.08838,
            "count": 0
           },
           {
            "bin_start": 0.08838,
            "bin_end": 0.11702,
            "count": 0
           },
           {
            "bin_start": 0.11702,
            "bin_end": 0.14565999999999998,
            "count": 0
           },
           {
            "bin_start": 0.14565999999999998,
            "bin_end": 0.17429999999999998,
            "count": 0
           },
           {
            "bin_start": 0.17429999999999998,
            "bin_end": 0.20293999999999998,
            "count": 0
           },
           {
            "bin_start": 0.20293999999999998,
            "bin_end": 0.23157999999999998,
            "count": 1
           },
           {
            "bin_start": 0.23157999999999998,
            "bin_end": 0.26022,
            "count": 0
           },
           {
            "bin_start": 0.26022,
            "bin_end": 0.28886,
            "count": 0
           },
           {
            "bin_start": 0.28886,
            "bin_end": 0.3175,
            "count": 1
           }
          ]
         }
        },
        {
         "name": "TT (Sec)",
         "dtype": "float64",
         "stats": {
          "unique_count": 6,
          "nan_count": 0,
          "min": "0.037",
          "max": "0.619",
          "histogram": [
           {
            "bin_start": 0.037,
            "bin_end": 0.09519999999999999,
            "count": 2
           },
           {
            "bin_start": 0.09519999999999999,
            "bin_end": 0.15339999999999998,
            "count": 2
           },
           {
            "bin_start": 0.15339999999999998,
            "bin_end": 0.21159999999999998,
            "count": 0
           },
           {
            "bin_start": 0.21159999999999998,
            "bin_end": 0.2698,
            "count": 0
           },
           {
            "bin_start": 0.2698,
            "bin_end": 0.32799999999999996,
            "count": 0
           },
           {
            "bin_start": 0.32799999999999996,
            "bin_end": 0.38619999999999993,
            "count": 0
           },
           {
            "bin_start": 0.38619999999999993,
            "bin_end": 0.44439999999999996,
            "count": 1
           },
           {
            "bin_start": 0.44439999999999996,
            "bin_end": 0.5025999999999999,
            "count": 0
           },
           {
            "bin_start": 0.5025999999999999,
            "bin_end": 0.5608,
            "count": 0
           },
           {
            "bin_start": 0.5608,
            "bin_end": 0.619,
            "count": 1
           }
          ]
         }
        },
        {
         "name": "_deepnote_index_column",
         "dtype": "object"
        }
       ],
       "rows_top": [
        {
         "Model": "Orthogonal Matching Pursuit",
         "MAE": 4.4564,
         "MSE": 52.609,
         "RMSE": 7.1792,
         "R2": 0.9899,
         "RMSLE": 0.0515,
         "MAPE": 0.0311,
         "TT (Sec)": 0.037,
         "_deepnote_index_column": "omp"
        },
        {
         "Model": "Ridge Regression",
         "MAE": 4.9195,
         "MSE": 226.2628,
         "RMSE": 12.3698,
         "R2": 0.9586,
         "RMSLE": 0.0608,
         "MAPE": 0.0342,
         "TT (Sec)": 0.038,
         "_deepnote_index_column": "ridge"
        },
        {
         "Model": "Elastic Net",
         "MAE": 5.5975,
         "MSE": 1061.075,
         "RMSE": 17.579,
         "R2": 0.8118,
         "RMSLE": 0.0827,
         "MAPE": 0.0388,
         "TT (Sec)": 0.139,
         "_deepnote_index_column": "en"
        },
        {
         "Model": "Lasso Regression",
         "MAE": 5.6966,
         "MSE": 1131.4343,
         "RMSE": 18.2734,
         "R2": 0.7994,
         "RMSLE": 0.0919,
         "MAPE": 0.0394,
         "TT (Sec)": 0.138,
         "_deepnote_index_column": "lasso"
        },
        {
         "Model": "Lasso Least Angle Regression",
         "MAE": 42.2261,
         "MSE": 2468.5781,
         "RMSE": 49.6429,
         "R2": 0.5281,
         "RMSLE": 0.3322,
         "MAPE": 0.3175,
         "TT (Sec)": 0.426,
         "_deepnote_index_column": "llar"
        },
        {
         "Model": "Linear Regression",
         "MAE": 29.6335,
         "MSE": 39772.0133,
         "RMSE": 90.1037,
         "R2": -6.0346,
         "RMSLE": 0.2339,
         "MAPE": 0.2207,
         "TT (Sec)": 0.619,
         "_deepnote_index_column": "lr"
        }
       ],
       "rows_bottom": null
      },
      "text/plain": "                              Model      MAE         MSE     RMSE      R2  \\\nomp     Orthogonal Matching Pursuit   4.4564     52.6090   7.1792  0.9899   \nridge              Ridge Regression   4.9195    226.2628  12.3698  0.9586   \nen                      Elastic Net   5.5975   1061.0750  17.5790  0.8118   \nlasso              Lasso Regression   5.6966   1131.4343  18.2734  0.7994   \nllar   Lasso Least Angle Regression  42.2261   2468.5781  49.6429  0.5281   \nlr                Linear Regression  29.6335  39772.0133  90.1037 -6.0346   \n\n        RMSLE    MAPE  TT (Sec)  \nomp    0.0515  0.0311     0.037  \nridge  0.0608  0.0342     0.038  \nen     0.0827  0.0388     0.139  \nlasso  0.0919  0.0394     0.138  \nllar   0.3322  0.3175     0.426  \nlr     0.2339  0.2207     0.619  ",
      "text/html": "<div>\n<style scoped>\n    .dataframe tbody tr th:only-of-type {\n        vertical-align: middle;\n    }\n\n    .dataframe tbody tr th {\n        vertical-align: top;\n    }\n\n    .dataframe thead th {\n        text-align: right;\n    }\n</style>\n<table border=\"1\" class=\"dataframe\">\n  <thead>\n    <tr style=\"text-align: right;\">\n      <th></th>\n      <th>Model</th>\n      <th>MAE</th>\n      <th>MSE</th>\n      <th>RMSE</th>\n      <th>R2</th>\n      <th>RMSLE</th>\n      <th>MAPE</th>\n      <th>TT (Sec)</th>\n    </tr>\n  </thead>\n  <tbody>\n    <tr>\n      <th>omp</th>\n      <td>Orthogonal Matching Pursuit</td>\n      <td>4.4564</td>\n      <td>52.6090</td>\n      <td>7.1792</td>\n      <td>0.9899</td>\n      <td>0.0515</td>\n      <td>0.0311</td>\n      <td>0.037</td>\n    </tr>\n    <tr>\n      <th>ridge</th>\n      <td>Ridge Regression</td>\n      <td>4.9195</td>\n      <td>226.2628</td>\n      <td>12.3698</td>\n      <td>0.9586</td>\n      <td>0.0608</td>\n      <td>0.0342</td>\n      <td>0.038</td>\n    </tr>\n    <tr>\n      <th>en</th>\n      <td>Elastic Net</td>\n      <td>5.5975</td>\n      <td>1061.0750</td>\n      <td>17.5790</td>\n      <td>0.8118</td>\n      <td>0.0827</td>\n      <td>0.0388</td>\n      <td>0.139</td>\n    </tr>\n    <tr>\n      <th>lasso</th>\n      <td>Lasso Regression</td>\n      <td>5.6966</td>\n      <td>1131.4343</td>\n      <td>18.2734</td>\n      <td>0.7994</td>\n      <td>0.0919</td>\n      <td>0.0394</td>\n      <td>0.138</td>\n    </tr>\n    <tr>\n      <th>llar</th>\n      <td>Lasso Least Angle Regression</td>\n      <td>42.2261</td>\n      <td>2468.5781</td>\n      <td>49.6429</td>\n      <td>0.5281</td>\n      <td>0.3322</td>\n      <td>0.3175</td>\n      <td>0.426</td>\n    </tr>\n    <tr>\n      <th>lr</th>\n      <td>Linear Regression</td>\n      <td>29.6335</td>\n      <td>39772.0133</td>\n      <td>90.1037</td>\n      <td>-6.0346</td>\n      <td>0.2339</td>\n      <td>0.2207</td>\n      <td>0.619</td>\n    </tr>\n  </tbody>\n</table>\n</div>"
     },
     "metadata": {},
     "output_type": "display_data"
    },
    {
     "data": {
      "application/vnd.deepnote.dataframe.v2+json": {
       "row_count": 7,
       "column_count": 8,
       "columns": [
        {
         "name": "Model",
         "dtype": "object",
         "stats": {
          "unique_count": 7,
          "nan_count": 0,
          "categories": [
           {
            "name": "Orthogonal Matching Pursuit",
            "count": 1
           },
           {
            "name": "Ridge Regression",
            "count": 1
           },
           {
            "name": "5 others",
            "count": 5
           }
          ]
         }
        },
        {
         "name": "MAE",
         "dtype": "float64",
         "stats": {
          "unique_count": 7,
          "nan_count": 0,
          "min": "4.4564",
          "max": "42.2261",
          "histogram": [
           {
            "bin_start": 4.4564,
            "bin_end": 8.23337,
            "count": 5
           },
           {
            "bin_start": 8.23337,
            "bin_end": 12.01034,
            "count": 0
           },
           {
            "bin_start": 12.01034,
            "bin_end": 15.78731,
            "count": 0
           },
           {
            "bin_start": 15.78731,
            "bin_end": 19.56428,
            "count": 0
           },
           {
            "bin_start": 19.56428,
            "bin_end": 23.341250000000002,
            "count": 0
           },
           {
            "bin_start": 23.341250000000002,
            "bin_end": 27.11822,
            "count": 0
           },
           {
            "bin_start": 27.11822,
            "bin_end": 30.89519,
            "count": 1
           },
           {
            "bin_start": 30.89519,
            "bin_end": 34.67216,
            "count": 0
           },
           {
            "bin_start": 34.67216,
            "bin_end": 38.449130000000004,
            "count": 0
           },
           {
            "bin_start": 38.449130000000004,
            "bin_end": 42.2261,
            "count": 1
           }
          ]
         }
        },
        {
         "name": "MSE",
         "dtype": "float64",
         "stats": {
          "unique_count": 7,
          "nan_count": 0,
          "min": "52.609",
          "max": "39772.0133",
          "histogram": [
           {
            "bin_start": 52.609,
            "bin_end": 4024.54943,
            "count": 6
           },
           {
            "bin_start": 4024.54943,
            "bin_end": 7996.489860000001,
            "count": 0
           },
           {
            "bin_start": 7996.489860000001,
            "bin_end": 11968.43029,
            "count": 0
           },
           {
            "bin_start": 11968.43029,
            "bin_end": 15940.37072,
            "count": 0
           },
           {
            "bin_start": 15940.37072,
            "bin_end": 19912.31115,
            "count": 0
           },
           {
            "bin_start": 19912.31115,
            "bin_end": 23884.25158,
            "count": 0
           },
           {
            "bin_start": 23884.25158,
            "bin_end": 27856.192010000002,
            "count": 0
           },
           {
            "bin_start": 27856.192010000002,
            "bin_end": 31828.13244,
            "count": 0
           },
           {
            "bin_start": 31828.13244,
            "bin_end": 35800.072869999996,
            "count": 0
           },
           {
            "bin_start": 35800.072869999996,
            "bin_end": 39772.0133,
            "count": 1
           }
          ]
         }
        },
        {
         "name": "RMSE",
         "dtype": "float64",
         "stats": {
          "unique_count": 7,
          "nan_count": 0,
          "min": "7.1792",
          "max": "90.1037",
          "histogram": [
           {
            "bin_start": 7.1792,
            "bin_end": 15.47165,
            "count": 3
           },
           {
            "bin_start": 15.47165,
            "bin_end": 23.7641,
            "count": 2
           },
           {
            "bin_start": 23.7641,
            "bin_end": 32.05655,
            "count": 0
           },
           {
            "bin_start": 32.05655,
            "bin_end": 40.349000000000004,
            "count": 0
           },
           {
            "bin_start": 40.349000000000004,
            "bin_end": 48.641450000000006,
            "count": 0
           },
           {
            "bin_start": 48.641450000000006,
            "bin_end": 56.9339,
            "count": 1
           },
           {
            "bin_start": 56.9339,
            "bin_end": 65.22635,
            "count": 0
           },
           {
            "bin_start": 65.22635,
            "bin_end": 73.5188,
            "count": 0
           },
           {
            "bin_start": 73.5188,
            "bin_end": 81.81125,
            "count": 0
           },
           {
            "bin_start": 81.81125,
            "bin_end": 90.1037,
            "count": 1
           }
          ]
         }
        },
        {
         "name": "R2",
         "dtype": "float64",
         "stats": {
          "unique_count": 7,
          "nan_count": 0,
          "min": "-6.0346",
          "max": "0.9899",
          "histogram": [
           {
            "bin_start": -6.0346,
            "bin_end": -5.33215,
            "count": 1
           },
           {
            "bin_start": -5.33215,
            "bin_end": -4.6297,
            "count": 0
           },
           {
            "bin_start": -4.6297,
            "bin_end": -3.92725,
            "count": 0
           },
           {
            "bin_start": -3.92725,
            "bin_end": -3.2248,
            "count": 0
           },
           {
            "bin_start": -3.2248,
            "bin_end": -2.5223500000000003,
            "count": 0
           },
           {
            "bin_start": -2.5223500000000003,
            "bin_end": -1.8198999999999996,
            "count": 0
           },
           {
            "bin_start": -1.8198999999999996,
            "bin_end": -1.1174499999999998,
            "count": 0
           },
           {
            "bin_start": -1.1174499999999998,
            "bin_end": -0.41500000000000004,
            "count": 0
           },
           {
            "bin_start": -0.41500000000000004,
            "bin_end": 0.28744999999999976,
            "count": 0
           },
           {
            "bin_start": 0.28744999999999976,
            "bin_end": 0.9899,
            "count": 6
           }
          ]
         }
        },
        {
         "name": "RMSLE",
         "dtype": "float64",
         "stats": {
          "unique_count": 7,
          "nan_count": 0,
          "min": "0.0515",
          "max": "0.3322",
          "histogram": [
           {
            "bin_start": 0.0515,
            "bin_end": 0.07957,
            "count": 3
           },
           {
            "bin_start": 0.07957,
            "bin_end": 0.10764,
            "count": 2
           },
           {
            "bin_start": 0.10764,
            "bin_end": 0.13571,
            "count": 0
           },
           {
            "bin_start": 0.13571,
            "bin_end": 0.16378,
            "count": 0
           },
           {
            "bin_start": 0.16378,
            "bin_end": 0.19185,
            "count": 0
           },
           {
            "bin_start": 0.19185,
            "bin_end": 0.21992,
            "count": 0
           },
           {
            "bin_start": 0.21992,
            "bin_end": 0.24799,
            "count": 1
           },
           {
            "bin_start": 0.24799,
            "bin_end": 0.27606,
            "count": 0
           },
           {
            "bin_start": 0.27606,
            "bin_end": 0.30413,
            "count": 0
           },
           {
            "bin_start": 0.30413,
            "bin_end": 0.3322,
            "count": 1
           }
          ]
         }
        },
        {
         "name": "MAPE",
         "dtype": "float64",
         "stats": {
          "unique_count": 7,
          "nan_count": 0,
          "min": "0.0311",
          "max": "0.3175",
          "histogram": [
           {
            "bin_start": 0.0311,
            "bin_end": 0.05974,
            "count": 5
           },
           {
            "bin_start": 0.05974,
            "bin_end": 0.08838,
            "count": 0
           },
           {
            "bin_start": 0.08838,
            "bin_end": 0.11702,
            "count": 0
           },
           {
            "bin_start": 0.11702,
            "bin_end": 0.14565999999999998,
            "count": 0
           },
           {
            "bin_start": 0.14565999999999998,
            "bin_end": 0.17429999999999998,
            "count": 0
           },
           {
            "bin_start": 0.17429999999999998,
            "bin_end": 0.20293999999999998,
            "count": 0
           },
           {
            "bin_start": 0.20293999999999998,
            "bin_end": 0.23157999999999998,
            "count": 1
           },
           {
            "bin_start": 0.23157999999999998,
            "bin_end": 0.26022,
            "count": 0
           },
           {
            "bin_start": 0.26022,
            "bin_end": 0.28886,
            "count": 0
           },
           {
            "bin_start": 0.28886,
            "bin_end": 0.3175,
            "count": 1
           }
          ]
         }
        },
        {
         "name": "TT (Sec)",
         "dtype": "float64",
         "stats": {
          "unique_count": 7,
          "nan_count": 0,
          "min": "0.037",
          "max": "0.619",
          "histogram": [
           {
            "bin_start": 0.037,
            "bin_end": 0.09519999999999999,
            "count": 2
           },
           {
            "bin_start": 0.09519999999999999,
            "bin_end": 0.15339999999999998,
            "count": 2
           },
           {
            "bin_start": 0.15339999999999998,
            "bin_end": 0.21159999999999998,
            "count": 1
           },
           {
            "bin_start": 0.21159999999999998,
            "bin_end": 0.2698,
            "count": 0
           },
           {
            "bin_start": 0.2698,
            "bin_end": 0.32799999999999996,
            "count": 0
           },
           {
            "bin_start": 0.32799999999999996,
            "bin_end": 0.38619999999999993,
            "count": 0
           },
           {
            "bin_start": 0.38619999999999993,
            "bin_end": 0.44439999999999996,
            "count": 1
           },
           {
            "bin_start": 0.44439999999999996,
            "bin_end": 0.5025999999999999,
            "count": 0
           },
           {
            "bin_start": 0.5025999999999999,
            "bin_end": 0.5608,
            "count": 0
           },
           {
            "bin_start": 0.5608,
            "bin_end": 0.619,
            "count": 1
           }
          ]
         }
        },
        {
         "name": "_deepnote_index_column",
         "dtype": "object"
        }
       ],
       "rows_top": [
        {
         "Model": "Orthogonal Matching Pursuit",
         "MAE": 4.4564,
         "MSE": 52.609,
         "RMSE": 7.1792,
         "R2": 0.9899,
         "RMSLE": 0.0515,
         "MAPE": 0.0311,
         "TT (Sec)": 0.037,
         "_deepnote_index_column": "omp"
        },
        {
         "Model": "Ridge Regression",
         "MAE": 4.9195,
         "MSE": 226.2628,
         "RMSE": 12.3698,
         "R2": 0.9586,
         "RMSLE": 0.0608,
         "MAPE": 0.0342,
         "TT (Sec)": 0.038,
         "_deepnote_index_column": "ridge"
        },
        {
         "Model": "Bayesian Ridge",
         "MAE": 4.8931,
         "MSE": 305.1098,
         "RMSE": 13.3677,
         "R2": 0.9445,
         "RMSLE": 0.0619,
         "MAPE": 0.0338,
         "TT (Sec)": 0.158,
         "_deepnote_index_column": "br"
        },
        {
         "Model": "Elastic Net",
         "MAE": 5.5975,
         "MSE": 1061.075,
         "RMSE": 17.579,
         "R2": 0.8118,
         "RMSLE": 0.0827,
         "MAPE": 0.0388,
         "TT (Sec)": 0.139,
         "_deepnote_index_column": "en"
        },
        {
         "Model": "Lasso Regression",
         "MAE": 5.6966,
         "MSE": 1131.4343,
         "RMSE": 18.2734,
         "R2": 0.7994,
         "RMSLE": 0.0919,
         "MAPE": 0.0394,
         "TT (Sec)": 0.138,
         "_deepnote_index_column": "lasso"
        },
        {
         "Model": "Lasso Least Angle Regression",
         "MAE": 42.2261,
         "MSE": 2468.5781,
         "RMSE": 49.6429,
         "R2": 0.5281,
         "RMSLE": 0.3322,
         "MAPE": 0.3175,
         "TT (Sec)": 0.426,
         "_deepnote_index_column": "llar"
        },
        {
         "Model": "Linear Regression",
         "MAE": 29.6335,
         "MSE": 39772.0133,
         "RMSE": 90.1037,
         "R2": -6.0346,
         "RMSLE": 0.2339,
         "MAPE": 0.2207,
         "TT (Sec)": 0.619,
         "_deepnote_index_column": "lr"
        }
       ],
       "rows_bottom": null
      },
      "text/plain": "                              Model      MAE         MSE     RMSE      R2  \\\nomp     Orthogonal Matching Pursuit   4.4564     52.6090   7.1792  0.9899   \nridge              Ridge Regression   4.9195    226.2628  12.3698  0.9586   \nbr                   Bayesian Ridge   4.8931    305.1098  13.3677  0.9445   \nen                      Elastic Net   5.5975   1061.0750  17.5790  0.8118   \nlasso              Lasso Regression   5.6966   1131.4343  18.2734  0.7994   \nllar   Lasso Least Angle Regression  42.2261   2468.5781  49.6429  0.5281   \nlr                Linear Regression  29.6335  39772.0133  90.1037 -6.0346   \n\n        RMSLE    MAPE  TT (Sec)  \nomp    0.0515  0.0311     0.037  \nridge  0.0608  0.0342     0.038  \nbr     0.0619  0.0338     0.158  \nen     0.0827  0.0388     0.139  \nlasso  0.0919  0.0394     0.138  \nllar   0.3322  0.3175     0.426  \nlr     0.2339  0.2207     0.619  ",
      "text/html": "<div>\n<style scoped>\n    .dataframe tbody tr th:only-of-type {\n        vertical-align: middle;\n    }\n\n    .dataframe tbody tr th {\n        vertical-align: top;\n    }\n\n    .dataframe thead th {\n        text-align: right;\n    }\n</style>\n<table border=\"1\" class=\"dataframe\">\n  <thead>\n    <tr style=\"text-align: right;\">\n      <th></th>\n      <th>Model</th>\n      <th>MAE</th>\n      <th>MSE</th>\n      <th>RMSE</th>\n      <th>R2</th>\n      <th>RMSLE</th>\n      <th>MAPE</th>\n      <th>TT (Sec)</th>\n    </tr>\n  </thead>\n  <tbody>\n    <tr>\n      <th>omp</th>\n      <td>Orthogonal Matching Pursuit</td>\n      <td>4.4564</td>\n      <td>52.6090</td>\n      <td>7.1792</td>\n      <td>0.9899</td>\n      <td>0.0515</td>\n      <td>0.0311</td>\n      <td>0.037</td>\n    </tr>\n    <tr>\n      <th>ridge</th>\n      <td>Ridge Regression</td>\n      <td>4.9195</td>\n      <td>226.2628</td>\n      <td>12.3698</td>\n      <td>0.9586</td>\n      <td>0.0608</td>\n      <td>0.0342</td>\n      <td>0.038</td>\n    </tr>\n    <tr>\n      <th>br</th>\n      <td>Bayesian Ridge</td>\n      <td>4.8931</td>\n      <td>305.1098</td>\n      <td>13.3677</td>\n      <td>0.9445</td>\n      <td>0.0619</td>\n      <td>0.0338</td>\n      <td>0.158</td>\n    </tr>\n    <tr>\n      <th>en</th>\n      <td>Elastic Net</td>\n      <td>5.5975</td>\n      <td>1061.0750</td>\n      <td>17.5790</td>\n      <td>0.8118</td>\n      <td>0.0827</td>\n      <td>0.0388</td>\n      <td>0.139</td>\n    </tr>\n    <tr>\n      <th>lasso</th>\n      <td>Lasso Regression</td>\n      <td>5.6966</td>\n      <td>1131.4343</td>\n      <td>18.2734</td>\n      <td>0.7994</td>\n      <td>0.0919</td>\n      <td>0.0394</td>\n      <td>0.138</td>\n    </tr>\n    <tr>\n      <th>llar</th>\n      <td>Lasso Least Angle Regression</td>\n      <td>42.2261</td>\n      <td>2468.5781</td>\n      <td>49.6429</td>\n      <td>0.5281</td>\n      <td>0.3322</td>\n      <td>0.3175</td>\n      <td>0.426</td>\n    </tr>\n    <tr>\n      <th>lr</th>\n      <td>Linear Regression</td>\n      <td>29.6335</td>\n      <td>39772.0133</td>\n      <td>90.1037</td>\n      <td>-6.0346</td>\n      <td>0.2339</td>\n      <td>0.2207</td>\n      <td>0.619</td>\n    </tr>\n  </tbody>\n</table>\n</div>"
     },
     "metadata": {},
     "output_type": "display_data"
    },
    {
     "data": {
      "application/vnd.deepnote.dataframe.v2+json": {
       "row_count": 8,
       "column_count": 8,
       "columns": [
        {
         "name": "Model",
         "dtype": "object",
         "stats": {
          "unique_count": 8,
          "nan_count": 0,
          "categories": [
           {
            "name": "Orthogonal Matching Pursuit",
            "count": 1
           },
           {
            "name": "Ridge Regression",
            "count": 1
           },
           {
            "name": "6 others",
            "count": 6
           }
          ]
         }
        },
        {
         "name": "MAE",
         "dtype": "float64",
         "stats": {
          "unique_count": 8,
          "nan_count": 0,
          "min": "4.4564",
          "max": "592.7509",
          "histogram": [
           {
            "bin_start": 4.4564,
            "bin_end": 63.285849999999996,
            "count": 7
           },
           {
            "bin_start": 63.285849999999996,
            "bin_end": 122.11529999999999,
            "count": 0
           },
           {
            "bin_start": 122.11529999999999,
            "bin_end": 180.94474999999997,
            "count": 0
           },
           {
            "bin_start": 180.94474999999997,
            "bin_end": 239.77419999999998,
            "count": 0
           },
           {
            "bin_start": 239.77419999999998,
            "bin_end": 298.60364999999996,
            "count": 0
           },
           {
            "bin_start": 298.60364999999996,
            "bin_end": 357.4330999999999,
            "count": 0
           },
           {
            "bin_start": 357.4330999999999,
            "bin_end": 416.2625499999999,
            "count": 0
           },
           {
            "bin_start": 416.2625499999999,
            "bin_end": 475.0919999999999,
            "count": 0
           },
           {
            "bin_start": 475.0919999999999,
            "bin_end": 533.9214499999999,
            "count": 0
           },
           {
            "bin_start": 533.9214499999999,
            "bin_end": 592.7509,
            "count": 1
           }
          ]
         }
        },
        {
         "name": "MSE",
         "dtype": "float64",
         "stats": {
          "unique_count": 8,
          "nan_count": 0,
          "min": "52.609",
          "max": "76153462.9739",
          "histogram": [
           {
            "bin_start": 52.609,
            "bin_end": 7615393.645490001,
            "count": 7
           },
           {
            "bin_start": 7615393.645490001,
            "bin_end": 15230734.68198,
            "count": 0
           },
           {
            "bin_start": 15230734.68198,
            "bin_end": 22846075.718470003,
            "count": 0
           },
           {
            "bin_start": 22846075.718470003,
            "bin_end": 30461416.754960004,
            "count": 0
           },
           {
            "bin_start": 30461416.754960004,
            "bin_end": 38076757.79145,
            "count": 0
           },
           {
            "bin_start": 38076757.79145,
            "bin_end": 45692098.82794,
            "count": 0
           },
           {
            "bin_start": 45692098.82794,
            "bin_end": 53307439.86443,
            "count": 0
           },
           {
            "bin_start": 53307439.86443,
            "bin_end": 60922780.90092,
            "count": 0
           },
           {
            "bin_start": 60922780.90092,
            "bin_end": 68538121.93741,
            "count": 0
           },
           {
            "bin_start": 68538121.93741,
            "bin_end": 76153462.9739,
            "count": 1
           }
          ]
         }
        },
        {
         "name": "RMSE",
         "dtype": "float64",
         "stats": {
          "unique_count": 8,
          "nan_count": 0,
          "min": "7.1792",
          "max": "4960.2547",
          "histogram": [
           {
            "bin_start": 7.1792,
            "bin_end": 502.4867500000001,
            "count": 7
           },
           {
            "bin_start": 502.4867500000001,
            "bin_end": 997.7943000000002,
            "count": 0
           },
           {
            "bin_start": 997.7943000000002,
            "bin_end": 1493.1018500000005,
            "count": 0
           },
           {
            "bin_start": 1493.1018500000005,
            "bin_end": 1988.4094000000005,
            "count": 0
           },
           {
            "bin_start": 1988.4094000000005,
            "bin_end": 2483.7169500000005,
            "count": 0
           },
           {
            "bin_start": 2483.7169500000005,
            "bin_end": 2979.024500000001,
            "count": 0
           },
           {
            "bin_start": 2979.024500000001,
            "bin_end": 3474.332050000001,
            "count": 0
           },
           {
            "bin_start": 3474.332050000001,
            "bin_end": 3969.639600000001,
            "count": 0
           },
           {
            "bin_start": 3969.639600000001,
            "bin_end": 4464.947150000001,
            "count": 0
           },
           {
            "bin_start": 4464.947150000001,
            "bin_end": 4960.2547,
            "count": 1
           }
          ]
         }
        },
        {
         "name": "R2",
         "dtype": "float64",
         "stats": {
          "unique_count": 8,
          "nan_count": 0,
          "min": "-15506.2565",
          "max": "0.9899",
          "histogram": [
           {
            "bin_start": -15506.2565,
            "bin_end": -13955.53186,
            "count": 1
           },
           {
            "bin_start": -13955.53186,
            "bin_end": -12404.807219999999,
            "count": 0
           },
           {
            "bin_start": -12404.807219999999,
            "bin_end": -10854.08258,
            "count": 0
           },
           {
            "bin_start": -10854.08258,
            "bin_end": -9303.35794,
            "count": 0
           },
           {
            "bin_start": -9303.35794,
            "bin_end": -7752.6332999999995,
            "count": 0
           },
           {
            "bin_start": -7752.6332999999995,
            "bin_end": -6201.908660000001,
            "count": 0
           },
           {
            "bin_start": -6201.908660000001,
            "bin_end": -4651.184020000001,
            "count": 0
           },
           {
            "bin_start": -4651.184020000001,
            "bin_end": -3100.4593800000002,
            "count": 0
           },
           {
            "bin_start": -3100.4593800000002,
            "bin_end": -1549.7347399999999,
            "count": 0
           },
           {
            "bin_start": -1549.7347399999999,
            "bin_end": 0.9899,
            "count": 7
           }
          ]
         }
        },
        {
         "name": "RMSLE",
         "dtype": "float64",
         "stats": {
          "unique_count": 8,
          "nan_count": 0,
          "min": "0.0515",
          "max": "0.7474",
          "histogram": [
           {
            "bin_start": 0.0515,
            "bin_end": 0.12109,
            "count": 5
           },
           {
            "bin_start": 0.12109,
            "bin_end": 0.19068,
            "count": 0
           },
           {
            "bin_start": 0.19068,
            "bin_end": 0.26027,
            "count": 1
           },
           {
            "bin_start": 0.26027,
            "bin_end": 0.32986,
            "count": 0
           },
           {
            "bin_start": 0.32986,
            "bin_end": 0.39944999999999997,
            "count": 1
           },
           {
            "bin_start": 0.39944999999999997,
            "bin_end": 0.46904,
            "count": 0
           },
           {
            "bin_start": 0.46904,
            "bin_end": 0.53863,
            "count": 0
           },
           {
            "bin_start": 0.53863,
            "bin_end": 0.60822,
            "count": 0
           },
           {
            "bin_start": 0.60822,
            "bin_end": 0.67781,
            "count": 0
           },
           {
            "bin_start": 0.67781,
            "bin_end": 0.7474,
            "count": 1
           }
          ]
         }
        },
        {
         "name": "MAPE",
         "dtype": "float64",
         "stats": {
          "unique_count": 8,
          "nan_count": 0,
          "min": "0.0311",
          "max": "5.9944",
          "histogram": [
           {
            "bin_start": 0.0311,
            "bin_end": 0.6274299999999999,
            "count": 7
           },
           {
            "bin_start": 0.6274299999999999,
            "bin_end": 1.2237599999999997,
            "count": 0
           },
           {
            "bin_start": 1.2237599999999997,
            "bin_end": 1.8200899999999995,
            "count": 0
           },
           {
            "bin_start": 1.8200899999999995,
            "bin_end": 2.4164199999999996,
            "count": 0
           },
           {
            "bin_start": 2.4164199999999996,
            "bin_end": 3.0127499999999996,
            "count": 0
           },
           {
            "bin_start": 3.0127499999999996,
            "bin_end": 3.609079999999999,
            "count": 0
           },
           {
            "bin_start": 3.609079999999999,
            "bin_end": 4.20541,
            "count": 0
           },
           {
            "bin_start": 4.20541,
            "bin_end": 4.80174,
            "count": 0
           },
           {
            "bin_start": 4.80174,
            "bin_end": 5.39807,
            "count": 0
           },
           {
            "bin_start": 5.39807,
            "bin_end": 5.9944,
            "count": 1
           }
          ]
         }
        },
        {
         "name": "TT (Sec)",
         "dtype": "float64",
         "stats": {
          "unique_count": 8,
          "nan_count": 0,
          "min": "0.037",
          "max": "0.619",
          "histogram": [
           {
            "bin_start": 0.037,
            "bin_end": 0.09519999999999999,
            "count": 3
           },
           {
            "bin_start": 0.09519999999999999,
            "bin_end": 0.15339999999999998,
            "count": 2
           },
           {
            "bin_start": 0.15339999999999998,
            "bin_end": 0.21159999999999998,
            "count": 1
           },
           {
            "bin_start": 0.21159999999999998,
            "bin_end": 0.2698,
            "count": 0
           },
           {
            "bin_start": 0.2698,
            "bin_end": 0.32799999999999996,
            "count": 0
           },
           {
            "bin_start": 0.32799999999999996,
            "bin_end": 0.38619999999999993,
            "count": 0
           },
           {
            "bin_start": 0.38619999999999993,
            "bin_end": 0.44439999999999996,
            "count": 1
           },
           {
            "bin_start": 0.44439999999999996,
            "bin_end": 0.5025999999999999,
            "count": 0
           },
           {
            "bin_start": 0.5025999999999999,
            "bin_end": 0.5608,
            "count": 0
           },
           {
            "bin_start": 0.5608,
            "bin_end": 0.619,
            "count": 1
           }
          ]
         }
        },
        {
         "name": "_deepnote_index_column",
         "dtype": "object"
        }
       ],
       "rows_top": [
        {
         "Model": "Orthogonal Matching Pursuit",
         "MAE": 4.4564,
         "MSE": 52.609,
         "RMSE": 7.1792,
         "R2": 0.9899,
         "RMSLE": 0.0515,
         "MAPE": 0.0311,
         "TT (Sec)": 0.037,
         "_deepnote_index_column": "omp"
        },
        {
         "Model": "Ridge Regression",
         "MAE": 4.9195,
         "MSE": 226.2628,
         "RMSE": 12.3698,
         "R2": 0.9586,
         "RMSLE": 0.0608,
         "MAPE": 0.0342,
         "TT (Sec)": 0.038,
         "_deepnote_index_column": "ridge"
        },
        {
         "Model": "Bayesian Ridge",
         "MAE": 4.8931,
         "MSE": 305.1098,
         "RMSE": 13.3677,
         "R2": 0.9445,
         "RMSLE": 0.0619,
         "MAPE": 0.0338,
         "TT (Sec)": 0.158,
         "_deepnote_index_column": "br"
        },
        {
         "Model": "Elastic Net",
         "MAE": 5.5975,
         "MSE": 1061.075,
         "RMSE": 17.579,
         "R2": 0.8118,
         "RMSLE": 0.0827,
         "MAPE": 0.0388,
         "TT (Sec)": 0.139,
         "_deepnote_index_column": "en"
        },
        {
         "Model": "Lasso Regression",
         "MAE": 5.6966,
         "MSE": 1131.4343,
         "RMSE": 18.2734,
         "R2": 0.7994,
         "RMSLE": 0.0919,
         "MAPE": 0.0394,
         "TT (Sec)": 0.138,
         "_deepnote_index_column": "lasso"
        },
        {
         "Model": "Lasso Least Angle Regression",
         "MAE": 42.2261,
         "MSE": 2468.5781,
         "RMSE": 49.6429,
         "R2": 0.5281,
         "RMSLE": 0.3322,
         "MAPE": 0.3175,
         "TT (Sec)": 0.426,
         "_deepnote_index_column": "llar"
        },
        {
         "Model": "Linear Regression",
         "MAE": 29.6335,
         "MSE": 39772.0133,
         "RMSE": 90.1037,
         "R2": -6.0346,
         "RMSLE": 0.2339,
         "MAPE": 0.2207,
         "TT (Sec)": 0.619,
         "_deepnote_index_column": "lr"
        },
        {
         "Model": "Passive Aggressive Regressor",
         "MAE": 592.7509,
         "MSE": 76153462.9739,
         "RMSE": 4960.2547,
         "R2": -15506.2565,
         "RMSLE": 0.7474,
         "MAPE": 5.9944,
         "TT (Sec)": 0.058,
         "_deepnote_index_column": "par"
        }
       ],
       "rows_bottom": null
      },
      "text/plain": "                              Model       MAE           MSE       RMSE  \\\nomp     Orthogonal Matching Pursuit    4.4564  5.260900e+01     7.1792   \nridge              Ridge Regression    4.9195  2.262628e+02    12.3698   \nbr                   Bayesian Ridge    4.8931  3.051098e+02    13.3677   \nen                      Elastic Net    5.5975  1.061075e+03    17.5790   \nlasso              Lasso Regression    5.6966  1.131434e+03    18.2734   \nllar   Lasso Least Angle Regression   42.2261  2.468578e+03    49.6429   \nlr                Linear Regression   29.6335  3.977201e+04    90.1037   \npar    Passive Aggressive Regressor  592.7509  7.615346e+07  4960.2547   \n\n               R2   RMSLE    MAPE  TT (Sec)  \nomp        0.9899  0.0515  0.0311     0.037  \nridge      0.9586  0.0608  0.0342     0.038  \nbr         0.9445  0.0619  0.0338     0.158  \nen         0.8118  0.0827  0.0388     0.139  \nlasso      0.7994  0.0919  0.0394     0.138  \nllar       0.5281  0.3322  0.3175     0.426  \nlr        -6.0346  0.2339  0.2207     0.619  \npar   -15506.2565  0.7474  5.9944     0.058  ",
      "text/html": "<div>\n<style scoped>\n    .dataframe tbody tr th:only-of-type {\n        vertical-align: middle;\n    }\n\n    .dataframe tbody tr th {\n        vertical-align: top;\n    }\n\n    .dataframe thead th {\n        text-align: right;\n    }\n</style>\n<table border=\"1\" class=\"dataframe\">\n  <thead>\n    <tr style=\"text-align: right;\">\n      <th></th>\n      <th>Model</th>\n      <th>MAE</th>\n      <th>MSE</th>\n      <th>RMSE</th>\n      <th>R2</th>\n      <th>RMSLE</th>\n      <th>MAPE</th>\n      <th>TT (Sec)</th>\n    </tr>\n  </thead>\n  <tbody>\n    <tr>\n      <th>omp</th>\n      <td>Orthogonal Matching Pursuit</td>\n      <td>4.4564</td>\n      <td>5.260900e+01</td>\n      <td>7.1792</td>\n      <td>0.9899</td>\n      <td>0.0515</td>\n      <td>0.0311</td>\n      <td>0.037</td>\n    </tr>\n    <tr>\n      <th>ridge</th>\n      <td>Ridge Regression</td>\n      <td>4.9195</td>\n      <td>2.262628e+02</td>\n      <td>12.3698</td>\n      <td>0.9586</td>\n      <td>0.0608</td>\n      <td>0.0342</td>\n      <td>0.038</td>\n    </tr>\n    <tr>\n      <th>br</th>\n      <td>Bayesian Ridge</td>\n      <td>4.8931</td>\n      <td>3.051098e+02</td>\n      <td>13.3677</td>\n      <td>0.9445</td>\n      <td>0.0619</td>\n      <td>0.0338</td>\n      <td>0.158</td>\n    </tr>\n    <tr>\n      <th>en</th>\n      <td>Elastic Net</td>\n      <td>5.5975</td>\n      <td>1.061075e+03</td>\n      <td>17.5790</td>\n      <td>0.8118</td>\n      <td>0.0827</td>\n      <td>0.0388</td>\n      <td>0.139</td>\n    </tr>\n    <tr>\n      <th>lasso</th>\n      <td>Lasso Regression</td>\n      <td>5.6966</td>\n      <td>1.131434e+03</td>\n      <td>18.2734</td>\n      <td>0.7994</td>\n      <td>0.0919</td>\n      <td>0.0394</td>\n      <td>0.138</td>\n    </tr>\n    <tr>\n      <th>llar</th>\n      <td>Lasso Least Angle Regression</td>\n      <td>42.2261</td>\n      <td>2.468578e+03</td>\n      <td>49.6429</td>\n      <td>0.5281</td>\n      <td>0.3322</td>\n      <td>0.3175</td>\n      <td>0.426</td>\n    </tr>\n    <tr>\n      <th>lr</th>\n      <td>Linear Regression</td>\n      <td>29.6335</td>\n      <td>3.977201e+04</td>\n      <td>90.1037</td>\n      <td>-6.0346</td>\n      <td>0.2339</td>\n      <td>0.2207</td>\n      <td>0.619</td>\n    </tr>\n    <tr>\n      <th>par</th>\n      <td>Passive Aggressive Regressor</td>\n      <td>592.7509</td>\n      <td>7.615346e+07</td>\n      <td>4960.2547</td>\n      <td>-15506.2565</td>\n      <td>0.7474</td>\n      <td>5.9944</td>\n      <td>0.058</td>\n    </tr>\n  </tbody>\n</table>\n</div>"
     },
     "metadata": {},
     "output_type": "display_data"
    },
    {
     "data": {
      "application/vnd.deepnote.dataframe.v2+json": {
       "row_count": 9,
       "column_count": 8,
       "columns": [
        {
         "name": "Model",
         "dtype": "object",
         "stats": {
          "unique_count": 9,
          "nan_count": 0,
          "categories": [
           {
            "name": "Orthogonal Matching Pursuit",
            "count": 1
           },
           {
            "name": "Ridge Regression",
            "count": 1
           },
           {
            "name": "7 others",
            "count": 7
           }
          ]
         }
        },
        {
         "name": "MAE",
         "dtype": "float64",
         "stats": {
          "unique_count": 9,
          "nan_count": 0,
          "min": "4.4564",
          "max": "592.7509",
          "histogram": [
           {
            "bin_start": 4.4564,
            "bin_end": 63.285849999999996,
            "count": 7
           },
           {
            "bin_start": 63.285849999999996,
            "bin_end": 122.11529999999999,
            "count": 0
           },
           {
            "bin_start": 122.11529999999999,
            "bin_end": 180.94474999999997,
            "count": 0
           },
           {
            "bin_start": 180.94474999999997,
            "bin_end": 239.77419999999998,
            "count": 1
           },
           {
            "bin_start": 239.77419999999998,
            "bin_end": 298.60364999999996,
            "count": 0
           },
           {
            "bin_start": 298.60364999999996,
            "bin_end": 357.4330999999999,
            "count": 0
           },
           {
            "bin_start": 357.4330999999999,
            "bin_end": 416.2625499999999,
            "count": 0
           },
           {
            "bin_start": 416.2625499999999,
            "bin_end": 475.0919999999999,
            "count": 0
           },
           {
            "bin_start": 475.0919999999999,
            "bin_end": 533.9214499999999,
            "count": 0
           },
           {
            "bin_start": 533.9214499999999,
            "bin_end": 592.7509,
            "count": 1
           }
          ]
         }
        },
        {
         "name": "MSE",
         "dtype": "float64",
         "stats": {
          "unique_count": 9,
          "nan_count": 0,
          "min": "52.609",
          "max": "76153462.9739",
          "histogram": [
           {
            "bin_start": 52.609,
            "bin_end": 7615393.645490001,
            "count": 8
           },
           {
            "bin_start": 7615393.645490001,
            "bin_end": 15230734.68198,
            "count": 0
           },
           {
            "bin_start": 15230734.68198,
            "bin_end": 22846075.718470003,
            "count": 0
           },
           {
            "bin_start": 22846075.718470003,
            "bin_end": 30461416.754960004,
            "count": 0
           },
           {
            "bin_start": 30461416.754960004,
            "bin_end": 38076757.79145,
            "count": 0
           },
           {
            "bin_start": 38076757.79145,
            "bin_end": 45692098.82794,
            "count": 0
           },
           {
            "bin_start": 45692098.82794,
            "bin_end": 53307439.86443,
            "count": 0
           },
           {
            "bin_start": 53307439.86443,
            "bin_end": 60922780.90092,
            "count": 0
           },
           {
            "bin_start": 60922780.90092,
            "bin_end": 68538121.93741,
            "count": 0
           },
           {
            "bin_start": 68538121.93741,
            "bin_end": 76153462.9739,
            "count": 1
           }
          ]
         }
        },
        {
         "name": "RMSE",
         "dtype": "float64",
         "stats": {
          "unique_count": 9,
          "nan_count": 0,
          "min": "7.1792",
          "max": "4960.2547",
          "histogram": [
           {
            "bin_start": 7.1792,
            "bin_end": 502.4867500000001,
            "count": 7
           },
           {
            "bin_start": 502.4867500000001,
            "bin_end": 997.7943000000002,
            "count": 1
           },
           {
            "bin_start": 997.7943000000002,
            "bin_end": 1493.1018500000005,
            "count": 0
           },
           {
            "bin_start": 1493.1018500000005,
            "bin_end": 1988.4094000000005,
            "count": 0
           },
           {
            "bin_start": 1988.4094000000005,
            "bin_end": 2483.7169500000005,
            "count": 0
           },
           {
            "bin_start": 2483.7169500000005,
            "bin_end": 2979.024500000001,
            "count": 0
           },
           {
            "bin_start": 2979.024500000001,
            "bin_end": 3474.332050000001,
            "count": 0
           },
           {
            "bin_start": 3474.332050000001,
            "bin_end": 3969.639600000001,
            "count": 0
           },
           {
            "bin_start": 3969.639600000001,
            "bin_end": 4464.947150000001,
            "count": 0
           },
           {
            "bin_start": 4464.947150000001,
            "bin_end": 4960.2547,
            "count": 1
           }
          ]
         }
        },
        {
         "name": "R2",
         "dtype": "float64",
         "stats": {
          "unique_count": 9,
          "nan_count": 0,
          "min": "-15506.2565",
          "max": "0.9899",
          "histogram": [
           {
            "bin_start": -15506.2565,
            "bin_end": -13955.53186,
            "count": 1
           },
           {
            "bin_start": -13955.53186,
            "bin_end": -12404.807219999999,
            "count": 0
           },
           {
            "bin_start": -12404.807219999999,
            "bin_end": -10854.08258,
            "count": 0
           },
           {
            "bin_start": -10854.08258,
            "bin_end": -9303.35794,
            "count": 0
           },
           {
            "bin_start": -9303.35794,
            "bin_end": -7752.6332999999995,
            "count": 0
           },
           {
            "bin_start": -7752.6332999999995,
            "bin_end": -6201.908660000001,
            "count": 0
           },
           {
            "bin_start": -6201.908660000001,
            "bin_end": -4651.184020000001,
            "count": 0
           },
           {
            "bin_start": -4651.184020000001,
            "bin_end": -3100.4593800000002,
            "count": 0
           },
           {
            "bin_start": -3100.4593800000002,
            "bin_end": -1549.7347399999999,
            "count": 0
           },
           {
            "bin_start": -1549.7347399999999,
            "bin_end": 0.9899,
            "count": 8
           }
          ]
         }
        },
        {
         "name": "RMSLE",
         "dtype": "float64",
         "stats": {
          "unique_count": 9,
          "nan_count": 0,
          "min": "0.0515",
          "max": "3.7592",
          "histogram": [
           {
            "bin_start": 0.0515,
            "bin_end": 0.42227,
            "count": 7
           },
           {
            "bin_start": 0.42227,
            "bin_end": 0.79304,
            "count": 1
           },
           {
            "bin_start": 0.79304,
            "bin_end": 1.16381,
            "count": 0
           },
           {
            "bin_start": 1.16381,
            "bin_end": 1.53458,
            "count": 0
           },
           {
            "bin_start": 1.53458,
            "bin_end": 1.90535,
            "count": 0
           },
           {
            "bin_start": 1.90535,
            "bin_end": 2.2761199999999997,
            "count": 0
           },
           {
            "bin_start": 2.2761199999999997,
            "bin_end": 2.64689,
            "count": 0
           },
           {
            "bin_start": 2.64689,
            "bin_end": 3.01766,
            "count": 0
           },
           {
            "bin_start": 3.01766,
            "bin_end": 3.3884299999999996,
            "count": 0
           },
           {
            "bin_start": 3.3884299999999996,
            "bin_end": 3.7592,
            "count": 1
           }
          ]
         }
        },
        {
         "name": "MAPE",
         "dtype": "float64",
         "stats": {
          "unique_count": 9,
          "nan_count": 0,
          "min": "0.0311",
          "max": "5.9944",
          "histogram": [
           {
            "bin_start": 0.0311,
            "bin_end": 0.6274299999999999,
            "count": 7
           },
           {
            "bin_start": 0.6274299999999999,
            "bin_end": 1.2237599999999997,
            "count": 1
           },
           {
            "bin_start": 1.2237599999999997,
            "bin_end": 1.8200899999999995,
            "count": 0
           },
           {
            "bin_start": 1.8200899999999995,
            "bin_end": 2.4164199999999996,
            "count": 0
           },
           {
            "bin_start": 2.4164199999999996,
            "bin_end": 3.0127499999999996,
            "count": 0
           },
           {
            "bin_start": 3.0127499999999996,
            "bin_end": 3.609079999999999,
            "count": 0
           },
           {
            "bin_start": 3.609079999999999,
            "bin_end": 4.20541,
            "count": 0
           },
           {
            "bin_start": 4.20541,
            "bin_end": 4.80174,
            "count": 0
           },
           {
            "bin_start": 4.80174,
            "bin_end": 5.39807,
            "count": 0
           },
           {
            "bin_start": 5.39807,
            "bin_end": 5.9944,
            "count": 1
           }
          ]
         }
        },
        {
         "name": "TT (Sec)",
         "dtype": "float64",
         "stats": {
          "unique_count": 9,
          "nan_count": 0,
          "min": "0.037",
          "max": "0.619",
          "histogram": [
           {
            "bin_start": 0.037,
            "bin_end": 0.09519999999999999,
            "count": 3
           },
           {
            "bin_start": 0.09519999999999999,
            "bin_end": 0.15339999999999998,
            "count": 2
           },
           {
            "bin_start": 0.15339999999999998,
            "bin_end": 0.21159999999999998,
            "count": 2
           },
           {
            "bin_start": 0.21159999999999998,
            "bin_end": 0.2698,
            "count": 0
           },
           {
            "bin_start": 0.2698,
            "bin_end": 0.32799999999999996,
            "count": 0
           },
           {
            "bin_start": 0.32799999999999996,
            "bin_end": 0.38619999999999993,
            "count": 0
           },
           {
            "bin_start": 0.38619999999999993,
            "bin_end": 0.44439999999999996,
            "count": 1
           },
           {
            "bin_start": 0.44439999999999996,
            "bin_end": 0.5025999999999999,
            "count": 0
           },
           {
            "bin_start": 0.5025999999999999,
            "bin_end": 0.5608,
            "count": 0
           },
           {
            "bin_start": 0.5608,
            "bin_end": 0.619,
            "count": 1
           }
          ]
         }
        },
        {
         "name": "_deepnote_index_column",
         "dtype": "object"
        }
       ],
       "rows_top": [
        {
         "Model": "Orthogonal Matching Pursuit",
         "MAE": 4.4564,
         "MSE": 52.609,
         "RMSE": 7.1792,
         "R2": 0.9899,
         "RMSLE": 0.0515,
         "MAPE": 0.0311,
         "TT (Sec)": 0.037,
         "_deepnote_index_column": "omp"
        },
        {
         "Model": "Ridge Regression",
         "MAE": 4.9195,
         "MSE": 226.2628,
         "RMSE": 12.3698,
         "R2": 0.9586,
         "RMSLE": 0.0608,
         "MAPE": 0.0342,
         "TT (Sec)": 0.038,
         "_deepnote_index_column": "ridge"
        },
        {
         "Model": "Bayesian Ridge",
         "MAE": 4.8931,
         "MSE": 305.1098,
         "RMSE": 13.3677,
         "R2": 0.9445,
         "RMSLE": 0.0619,
         "MAPE": 0.0338,
         "TT (Sec)": 0.158,
         "_deepnote_index_column": "br"
        },
        {
         "Model": "Elastic Net",
         "MAE": 5.5975,
         "MSE": 1061.075,
         "RMSE": 17.579,
         "R2": 0.8118,
         "RMSLE": 0.0827,
         "MAPE": 0.0388,
         "TT (Sec)": 0.139,
         "_deepnote_index_column": "en"
        },
        {
         "Model": "Lasso Regression",
         "MAE": 5.6966,
         "MSE": 1131.4343,
         "RMSE": 18.2734,
         "R2": 0.7994,
         "RMSLE": 0.0919,
         "MAPE": 0.0394,
         "TT (Sec)": 0.138,
         "_deepnote_index_column": "lasso"
        },
        {
         "Model": "Lasso Least Angle Regression",
         "MAE": 42.2261,
         "MSE": 2468.5781,
         "RMSE": 49.6429,
         "R2": 0.5281,
         "RMSLE": 0.3322,
         "MAPE": 0.3175,
         "TT (Sec)": 0.426,
         "_deepnote_index_column": "llar"
        },
        {
         "Model": "Linear Regression",
         "MAE": 29.6335,
         "MSE": 39772.0133,
         "RMSE": 90.1037,
         "R2": -6.0346,
         "RMSLE": 0.2339,
         "MAPE": 0.2207,
         "TT (Sec)": 0.619,
         "_deepnote_index_column": "lr"
        },
        {
         "Model": "Huber Regressor",
         "MAE": 183.1916,
         "MSE": 5615766.9449,
         "RMSE": 885.0512,
         "R2": -990.5484,
         "RMSLE": 3.7592,
         "MAPE": 1.1287,
         "TT (Sec)": 0.167,
         "_deepnote_index_column": "huber"
        },
        {
         "Model": "Passive Aggressive Regressor",
         "MAE": 592.7509,
         "MSE": 76153462.9739,
         "RMSE": 4960.2547,
         "R2": -15506.2565,
         "RMSLE": 0.7474,
         "MAPE": 5.9944,
         "TT (Sec)": 0.058,
         "_deepnote_index_column": "par"
        }
       ],
       "rows_bottom": null
      },
      "text/plain": "                              Model       MAE           MSE       RMSE  \\\nomp     Orthogonal Matching Pursuit    4.4564  5.260900e+01     7.1792   \nridge              Ridge Regression    4.9195  2.262628e+02    12.3698   \nbr                   Bayesian Ridge    4.8931  3.051098e+02    13.3677   \nen                      Elastic Net    5.5975  1.061075e+03    17.5790   \nlasso              Lasso Regression    5.6966  1.131434e+03    18.2734   \nllar   Lasso Least Angle Regression   42.2261  2.468578e+03    49.6429   \nlr                Linear Regression   29.6335  3.977201e+04    90.1037   \nhuber               Huber Regressor  183.1916  5.615767e+06   885.0512   \npar    Passive Aggressive Regressor  592.7509  7.615346e+07  4960.2547   \n\n               R2   RMSLE    MAPE  TT (Sec)  \nomp        0.9899  0.0515  0.0311     0.037  \nridge      0.9586  0.0608  0.0342     0.038  \nbr         0.9445  0.0619  0.0338     0.158  \nen         0.8118  0.0827  0.0388     0.139  \nlasso      0.7994  0.0919  0.0394     0.138  \nllar       0.5281  0.3322  0.3175     0.426  \nlr        -6.0346  0.2339  0.2207     0.619  \nhuber   -990.5484  3.7592  1.1287     0.167  \npar   -15506.2565  0.7474  5.9944     0.058  ",
      "text/html": "<div>\n<style scoped>\n    .dataframe tbody tr th:only-of-type {\n        vertical-align: middle;\n    }\n\n    .dataframe tbody tr th {\n        vertical-align: top;\n    }\n\n    .dataframe thead th {\n        text-align: right;\n    }\n</style>\n<table border=\"1\" class=\"dataframe\">\n  <thead>\n    <tr style=\"text-align: right;\">\n      <th></th>\n      <th>Model</th>\n      <th>MAE</th>\n      <th>MSE</th>\n      <th>RMSE</th>\n      <th>R2</th>\n      <th>RMSLE</th>\n      <th>MAPE</th>\n      <th>TT (Sec)</th>\n    </tr>\n  </thead>\n  <tbody>\n    <tr>\n      <th>omp</th>\n      <td>Orthogonal Matching Pursuit</td>\n      <td>4.4564</td>\n      <td>5.260900e+01</td>\n      <td>7.1792</td>\n      <td>0.9899</td>\n      <td>0.0515</td>\n      <td>0.0311</td>\n      <td>0.037</td>\n    </tr>\n    <tr>\n      <th>ridge</th>\n      <td>Ridge Regression</td>\n      <td>4.9195</td>\n      <td>2.262628e+02</td>\n      <td>12.3698</td>\n      <td>0.9586</td>\n      <td>0.0608</td>\n      <td>0.0342</td>\n      <td>0.038</td>\n    </tr>\n    <tr>\n      <th>br</th>\n      <td>Bayesian Ridge</td>\n      <td>4.8931</td>\n      <td>3.051098e+02</td>\n      <td>13.3677</td>\n      <td>0.9445</td>\n      <td>0.0619</td>\n      <td>0.0338</td>\n      <td>0.158</td>\n    </tr>\n    <tr>\n      <th>en</th>\n      <td>Elastic Net</td>\n      <td>5.5975</td>\n      <td>1.061075e+03</td>\n      <td>17.5790</td>\n      <td>0.8118</td>\n      <td>0.0827</td>\n      <td>0.0388</td>\n      <td>0.139</td>\n    </tr>\n    <tr>\n      <th>lasso</th>\n      <td>Lasso Regression</td>\n      <td>5.6966</td>\n      <td>1.131434e+03</td>\n      <td>18.2734</td>\n      <td>0.7994</td>\n      <td>0.0919</td>\n      <td>0.0394</td>\n      <td>0.138</td>\n    </tr>\n    <tr>\n      <th>llar</th>\n      <td>Lasso Least Angle Regression</td>\n      <td>42.2261</td>\n      <td>2.468578e+03</td>\n      <td>49.6429</td>\n      <td>0.5281</td>\n      <td>0.3322</td>\n      <td>0.3175</td>\n      <td>0.426</td>\n    </tr>\n    <tr>\n      <th>lr</th>\n      <td>Linear Regression</td>\n      <td>29.6335</td>\n      <td>3.977201e+04</td>\n      <td>90.1037</td>\n      <td>-6.0346</td>\n      <td>0.2339</td>\n      <td>0.2207</td>\n      <td>0.619</td>\n    </tr>\n    <tr>\n      <th>huber</th>\n      <td>Huber Regressor</td>\n      <td>183.1916</td>\n      <td>5.615767e+06</td>\n      <td>885.0512</td>\n      <td>-990.5484</td>\n      <td>3.7592</td>\n      <td>1.1287</td>\n      <td>0.167</td>\n    </tr>\n    <tr>\n      <th>par</th>\n      <td>Passive Aggressive Regressor</td>\n      <td>592.7509</td>\n      <td>7.615346e+07</td>\n      <td>4960.2547</td>\n      <td>-15506.2565</td>\n      <td>0.7474</td>\n      <td>5.9944</td>\n      <td>0.058</td>\n    </tr>\n  </tbody>\n</table>\n</div>"
     },
     "metadata": {},
     "output_type": "display_data"
    },
    {
     "data": {
      "application/vnd.deepnote.dataframe.v2+json": {
       "row_count": 10,
       "column_count": 8,
       "columns": [
        {
         "name": "Model",
         "dtype": "object",
         "stats": {
          "unique_count": 10,
          "nan_count": 0,
          "categories": [
           {
            "name": "Orthogonal Matching Pursuit",
            "count": 1
           },
           {
            "name": "K Neighbors Regressor",
            "count": 1
           },
           {
            "name": "8 others",
            "count": 8
           }
          ]
         }
        },
        {
         "name": "MAE",
         "dtype": "float64",
         "stats": {
          "unique_count": 10,
          "nan_count": 0,
          "min": "4.4564",
          "max": "592.7509",
          "histogram": [
           {
            "bin_start": 4.4564,
            "bin_end": 63.285849999999996,
            "count": 8
           },
           {
            "bin_start": 63.285849999999996,
            "bin_end": 122.11529999999999,
            "count": 0
           },
           {
            "bin_start": 122.11529999999999,
            "bin_end": 180.94474999999997,
            "count": 0
           },
           {
            "bin_start": 180.94474999999997,
            "bin_end": 239.77419999999998,
            "count": 1
           },
           {
            "bin_start": 239.77419999999998,
            "bin_end": 298.60364999999996,
            "count": 0
           },
           {
            "bin_start": 298.60364999999996,
            "bin_end": 357.4330999999999,
            "count": 0
           },
           {
            "bin_start": 357.4330999999999,
            "bin_end": 416.2625499999999,
            "count": 0
           },
           {
            "bin_start": 416.2625499999999,
            "bin_end": 475.0919999999999,
            "count": 0
           },
           {
            "bin_start": 475.0919999999999,
            "bin_end": 533.9214499999999,
            "count": 0
           },
           {
            "bin_start": 533.9214499999999,
            "bin_end": 592.7509,
            "count": 1
           }
          ]
         }
        },
        {
         "name": "MSE",
         "dtype": "float64",
         "stats": {
          "unique_count": 10,
          "nan_count": 0,
          "min": "52.609",
          "max": "76153462.9739",
          "histogram": [
           {
            "bin_start": 52.609,
            "bin_end": 7615393.645490001,
            "count": 9
           },
           {
            "bin_start": 7615393.645490001,
            "bin_end": 15230734.68198,
            "count": 0
           },
           {
            "bin_start": 15230734.68198,
            "bin_end": 22846075.718470003,
            "count": 0
           },
           {
            "bin_start": 22846075.718470003,
            "bin_end": 30461416.754960004,
            "count": 0
           },
           {
            "bin_start": 30461416.754960004,
            "bin_end": 38076757.79145,
            "count": 0
           },
           {
            "bin_start": 38076757.79145,
            "bin_end": 45692098.82794,
            "count": 0
           },
           {
            "bin_start": 45692098.82794,
            "bin_end": 53307439.86443,
            "count": 0
           },
           {
            "bin_start": 53307439.86443,
            "bin_end": 60922780.90092,
            "count": 0
           },
           {
            "bin_start": 60922780.90092,
            "bin_end": 68538121.93741,
            "count": 0
           },
           {
            "bin_start": 68538121.93741,
            "bin_end": 76153462.9739,
            "count": 1
           }
          ]
         }
        },
        {
         "name": "RMSE",
         "dtype": "float64",
         "stats": {
          "unique_count": 10,
          "nan_count": 0,
          "min": "7.1792",
          "max": "4960.2547",
          "histogram": [
           {
            "bin_start": 7.1792,
            "bin_end": 502.4867500000001,
            "count": 8
           },
           {
            "bin_start": 502.4867500000001,
            "bin_end": 997.7943000000002,
            "count": 1
           },
           {
            "bin_start": 997.7943000000002,
            "bin_end": 1493.1018500000005,
            "count": 0
           },
           {
            "bin_start": 1493.1018500000005,
            "bin_end": 1988.4094000000005,
            "count": 0
           },
           {
            "bin_start": 1988.4094000000005,
            "bin_end": 2483.7169500000005,
            "count": 0
           },
           {
            "bin_start": 2483.7169500000005,
            "bin_end": 2979.024500000001,
            "count": 0
           },
           {
            "bin_start": 2979.024500000001,
            "bin_end": 3474.332050000001,
            "count": 0
           },
           {
            "bin_start": 3474.332050000001,
            "bin_end": 3969.639600000001,
            "count": 0
           },
           {
            "bin_start": 3969.639600000001,
            "bin_end": 4464.947150000001,
            "count": 0
           },
           {
            "bin_start": 4464.947150000001,
            "bin_end": 4960.2547,
            "count": 1
           }
          ]
         }
        },
        {
         "name": "R2",
         "dtype": "float64",
         "stats": {
          "unique_count": 10,
          "nan_count": 0,
          "min": "-15506.2565",
          "max": "0.9899",
          "histogram": [
           {
            "bin_start": -15506.2565,
            "bin_end": -13955.53186,
            "count": 1
           },
           {
            "bin_start": -13955.53186,
            "bin_end": -12404.807219999999,
            "count": 0
           },
           {
            "bin_start": -12404.807219999999,
            "bin_end": -10854.08258,
            "count": 0
           },
           {
            "bin_start": -10854.08258,
            "bin_end": -9303.35794,
            "count": 0
           },
           {
            "bin_start": -9303.35794,
            "bin_end": -7752.6332999999995,
            "count": 0
           },
           {
            "bin_start": -7752.6332999999995,
            "bin_end": -6201.908660000001,
            "count": 0
           },
           {
            "bin_start": -6201.908660000001,
            "bin_end": -4651.184020000001,
            "count": 0
           },
           {
            "bin_start": -4651.184020000001,
            "bin_end": -3100.4593800000002,
            "count": 0
           },
           {
            "bin_start": -3100.4593800000002,
            "bin_end": -1549.7347399999999,
            "count": 0
           },
           {
            "bin_start": -1549.7347399999999,
            "bin_end": 0.9899,
            "count": 9
           }
          ]
         }
        },
        {
         "name": "RMSLE",
         "dtype": "float64",
         "stats": {
          "unique_count": 10,
          "nan_count": 0,
          "min": "0.0515",
          "max": "3.7592",
          "histogram": [
           {
            "bin_start": 0.0515,
            "bin_end": 0.42227,
            "count": 8
           },
           {
            "bin_start": 0.42227,
            "bin_end": 0.79304,
            "count": 1
           },
           {
            "bin_start": 0.79304,
            "bin_end": 1.16381,
            "count": 0
           },
           {
            "bin_start": 1.16381,
            "bin_end": 1.53458,
            "count": 0
           },
           {
            "bin_start": 1.53458,
            "bin_end": 1.90535,
            "count": 0
           },
           {
            "bin_start": 1.90535,
            "bin_end": 2.2761199999999997,
            "count": 0
           },
           {
            "bin_start": 2.2761199999999997,
            "bin_end": 2.64689,
            "count": 0
           },
           {
            "bin_start": 2.64689,
            "bin_end": 3.01766,
            "count": 0
           },
           {
            "bin_start": 3.01766,
            "bin_end": 3.3884299999999996,
            "count": 0
           },
           {
            "bin_start": 3.3884299999999996,
            "bin_end": 3.7592,
            "count": 1
           }
          ]
         }
        },
        {
         "name": "MAPE",
         "dtype": "float64",
         "stats": {
          "unique_count": 10,
          "nan_count": 0,
          "min": "0.0311",
          "max": "5.9944",
          "histogram": [
           {
            "bin_start": 0.0311,
            "bin_end": 0.6274299999999999,
            "count": 8
           },
           {
            "bin_start": 0.6274299999999999,
            "bin_end": 1.2237599999999997,
            "count": 1
           },
           {
            "bin_start": 1.2237599999999997,
            "bin_end": 1.8200899999999995,
            "count": 0
           },
           {
            "bin_start": 1.8200899999999995,
            "bin_end": 2.4164199999999996,
            "count": 0
           },
           {
            "bin_start": 2.4164199999999996,
            "bin_end": 3.0127499999999996,
            "count": 0
           },
           {
            "bin_start": 3.0127499999999996,
            "bin_end": 3.609079999999999,
            "count": 0
           },
           {
            "bin_start": 3.609079999999999,
            "bin_end": 4.20541,
            "count": 0
           },
           {
            "bin_start": 4.20541,
            "bin_end": 4.80174,
            "count": 0
           },
           {
            "bin_start": 4.80174,
            "bin_end": 5.39807,
            "count": 0
           },
           {
            "bin_start": 5.39807,
            "bin_end": 5.9944,
            "count": 1
           }
          ]
         }
        },
        {
         "name": "TT (Sec)",
         "dtype": "float64",
         "stats": {
          "unique_count": 9,
          "nan_count": 0,
          "min": "0.037",
          "max": "0.619",
          "histogram": [
           {
            "bin_start": 0.037,
            "bin_end": 0.09519999999999999,
            "count": 3
           },
           {
            "bin_start": 0.09519999999999999,
            "bin_end": 0.15339999999999998,
            "count": 3
           },
           {
            "bin_start": 0.15339999999999998,
            "bin_end": 0.21159999999999998,
            "count": 2
           },
           {
            "bin_start": 0.21159999999999998,
            "bin_end": 0.2698,
            "count": 0
           },
           {
            "bin_start": 0.2698,
            "bin_end": 0.32799999999999996,
            "count": 0
           },
           {
            "bin_start": 0.32799999999999996,
            "bin_end": 0.38619999999999993,
            "count": 0
           },
           {
            "bin_start": 0.38619999999999993,
            "bin_end": 0.44439999999999996,
            "count": 1
           },
           {
            "bin_start": 0.44439999999999996,
            "bin_end": 0.5025999999999999,
            "count": 0
           },
           {
            "bin_start": 0.5025999999999999,
            "bin_end": 0.5608,
            "count": 0
           },
           {
            "bin_start": 0.5608,
            "bin_end": 0.619,
            "count": 1
           }
          ]
         }
        },
        {
         "name": "_deepnote_index_column",
         "dtype": "object"
        }
       ],
       "rows_top": [
        {
         "Model": "Orthogonal Matching Pursuit",
         "MAE": 4.4564,
         "MSE": 52.609,
         "RMSE": 7.1792,
         "R2": 0.9899,
         "RMSLE": 0.0515,
         "MAPE": 0.0311,
         "TT (Sec)": 0.037,
         "_deepnote_index_column": "omp"
        },
        {
         "Model": "K Neighbors Regressor",
         "MAE": 7.7582,
         "MSE": 160.3944,
         "RMSE": 12.5516,
         "R2": 0.9691,
         "RMSLE": 0.0847,
         "MAPE": 0.0526,
         "TT (Sec)": 0.138,
         "_deepnote_index_column": "knn"
        },
        {
         "Model": "Ridge Regression",
         "MAE": 4.9195,
         "MSE": 226.2628,
         "RMSE": 12.3698,
         "R2": 0.9586,
         "RMSLE": 0.0608,
         "MAPE": 0.0342,
         "TT (Sec)": 0.038,
         "_deepnote_index_column": "ridge"
        },
        {
         "Model": "Bayesian Ridge",
         "MAE": 4.8931,
         "MSE": 305.1098,
         "RMSE": 13.3677,
         "R2": 0.9445,
         "RMSLE": 0.0619,
         "MAPE": 0.0338,
         "TT (Sec)": 0.158,
         "_deepnote_index_column": "br"
        },
        {
         "Model": "Elastic Net",
         "MAE": 5.5975,
         "MSE": 1061.075,
         "RMSE": 17.579,
         "R2": 0.8118,
         "RMSLE": 0.0827,
         "MAPE": 0.0388,
         "TT (Sec)": 0.139,
         "_deepnote_index_column": "en"
        },
        {
         "Model": "Lasso Regression",
         "MAE": 5.6966,
         "MSE": 1131.4343,
         "RMSE": 18.2734,
         "R2": 0.7994,
         "RMSLE": 0.0919,
         "MAPE": 0.0394,
         "TT (Sec)": 0.138,
         "_deepnote_index_column": "lasso"
        },
        {
         "Model": "Lasso Least Angle Regression",
         "MAE": 42.2261,
         "MSE": 2468.5781,
         "RMSE": 49.6429,
         "R2": 0.5281,
         "RMSLE": 0.3322,
         "MAPE": 0.3175,
         "TT (Sec)": 0.426,
         "_deepnote_index_column": "llar"
        },
        {
         "Model": "Linear Regression",
         "MAE": 29.6335,
         "MSE": 39772.0133,
         "RMSE": 90.1037,
         "R2": -6.0346,
         "RMSLE": 0.2339,
         "MAPE": 0.2207,
         "TT (Sec)": 0.619,
         "_deepnote_index_column": "lr"
        },
        {
         "Model": "Huber Regressor",
         "MAE": 183.1916,
         "MSE": 5615766.9449,
         "RMSE": 885.0512,
         "R2": -990.5484,
         "RMSLE": 3.7592,
         "MAPE": 1.1287,
         "TT (Sec)": 0.167,
         "_deepnote_index_column": "huber"
        },
        {
         "Model": "Passive Aggressive Regressor",
         "MAE": 592.7509,
         "MSE": 76153462.9739,
         "RMSE": 4960.2547,
         "R2": -15506.2565,
         "RMSLE": 0.7474,
         "MAPE": 5.9944,
         "TT (Sec)": 0.058,
         "_deepnote_index_column": "par"
        }
       ],
       "rows_bottom": null
      },
      "text/plain": "                              Model       MAE           MSE       RMSE  \\\nomp     Orthogonal Matching Pursuit    4.4564  5.260900e+01     7.1792   \nknn           K Neighbors Regressor    7.7582  1.603944e+02    12.5516   \nridge              Ridge Regression    4.9195  2.262628e+02    12.3698   \nbr                   Bayesian Ridge    4.8931  3.051098e+02    13.3677   \nen                      Elastic Net    5.5975  1.061075e+03    17.5790   \nlasso              Lasso Regression    5.6966  1.131434e+03    18.2734   \nllar   Lasso Least Angle Regression   42.2261  2.468578e+03    49.6429   \nlr                Linear Regression   29.6335  3.977201e+04    90.1037   \nhuber               Huber Regressor  183.1916  5.615767e+06   885.0512   \npar    Passive Aggressive Regressor  592.7509  7.615346e+07  4960.2547   \n\n               R2   RMSLE    MAPE  TT (Sec)  \nomp        0.9899  0.0515  0.0311     0.037  \nknn        0.9691  0.0847  0.0526     0.138  \nridge      0.9586  0.0608  0.0342     0.038  \nbr         0.9445  0.0619  0.0338     0.158  \nen         0.8118  0.0827  0.0388     0.139  \nlasso      0.7994  0.0919  0.0394     0.138  \nllar       0.5281  0.3322  0.3175     0.426  \nlr        -6.0346  0.2339  0.2207     0.619  \nhuber   -990.5484  3.7592  1.1287     0.167  \npar   -15506.2565  0.7474  5.9944     0.058  ",
      "text/html": "<div>\n<style scoped>\n    .dataframe tbody tr th:only-of-type {\n        vertical-align: middle;\n    }\n\n    .dataframe tbody tr th {\n        vertical-align: top;\n    }\n\n    .dataframe thead th {\n        text-align: right;\n    }\n</style>\n<table border=\"1\" class=\"dataframe\">\n  <thead>\n    <tr style=\"text-align: right;\">\n      <th></th>\n      <th>Model</th>\n      <th>MAE</th>\n      <th>MSE</th>\n      <th>RMSE</th>\n      <th>R2</th>\n      <th>RMSLE</th>\n      <th>MAPE</th>\n      <th>TT (Sec)</th>\n    </tr>\n  </thead>\n  <tbody>\n    <tr>\n      <th>omp</th>\n      <td>Orthogonal Matching Pursuit</td>\n      <td>4.4564</td>\n      <td>5.260900e+01</td>\n      <td>7.1792</td>\n      <td>0.9899</td>\n      <td>0.0515</td>\n      <td>0.0311</td>\n      <td>0.037</td>\n    </tr>\n    <tr>\n      <th>knn</th>\n      <td>K Neighbors Regressor</td>\n      <td>7.7582</td>\n      <td>1.603944e+02</td>\n      <td>12.5516</td>\n      <td>0.9691</td>\n      <td>0.0847</td>\n      <td>0.0526</td>\n      <td>0.138</td>\n    </tr>\n    <tr>\n      <th>ridge</th>\n      <td>Ridge Regression</td>\n      <td>4.9195</td>\n      <td>2.262628e+02</td>\n      <td>12.3698</td>\n      <td>0.9586</td>\n      <td>0.0608</td>\n      <td>0.0342</td>\n      <td>0.038</td>\n    </tr>\n    <tr>\n      <th>br</th>\n      <td>Bayesian Ridge</td>\n      <td>4.8931</td>\n      <td>3.051098e+02</td>\n      <td>13.3677</td>\n      <td>0.9445</td>\n      <td>0.0619</td>\n      <td>0.0338</td>\n      <td>0.158</td>\n    </tr>\n    <tr>\n      <th>en</th>\n      <td>Elastic Net</td>\n      <td>5.5975</td>\n      <td>1.061075e+03</td>\n      <td>17.5790</td>\n      <td>0.8118</td>\n      <td>0.0827</td>\n      <td>0.0388</td>\n      <td>0.139</td>\n    </tr>\n    <tr>\n      <th>lasso</th>\n      <td>Lasso Regression</td>\n      <td>5.6966</td>\n      <td>1.131434e+03</td>\n      <td>18.2734</td>\n      <td>0.7994</td>\n      <td>0.0919</td>\n      <td>0.0394</td>\n      <td>0.138</td>\n    </tr>\n    <tr>\n      <th>llar</th>\n      <td>Lasso Least Angle Regression</td>\n      <td>42.2261</td>\n      <td>2.468578e+03</td>\n      <td>49.6429</td>\n      <td>0.5281</td>\n      <td>0.3322</td>\n      <td>0.3175</td>\n      <td>0.426</td>\n    </tr>\n    <tr>\n      <th>lr</th>\n      <td>Linear Regression</td>\n      <td>29.6335</td>\n      <td>3.977201e+04</td>\n      <td>90.1037</td>\n      <td>-6.0346</td>\n      <td>0.2339</td>\n      <td>0.2207</td>\n      <td>0.619</td>\n    </tr>\n    <tr>\n      <th>huber</th>\n      <td>Huber Regressor</td>\n      <td>183.1916</td>\n      <td>5.615767e+06</td>\n      <td>885.0512</td>\n      <td>-990.5484</td>\n      <td>3.7592</td>\n      <td>1.1287</td>\n      <td>0.167</td>\n    </tr>\n    <tr>\n      <th>par</th>\n      <td>Passive Aggressive Regressor</td>\n      <td>592.7509</td>\n      <td>7.615346e+07</td>\n      <td>4960.2547</td>\n      <td>-15506.2565</td>\n      <td>0.7474</td>\n      <td>5.9944</td>\n      <td>0.058</td>\n    </tr>\n  </tbody>\n</table>\n</div>"
     },
     "metadata": {},
     "output_type": "display_data"
    },
    {
     "data": {
      "application/vnd.deepnote.dataframe.v2+json": {
       "row_count": 11,
       "column_count": 8,
       "columns": [
        {
         "name": "Model",
         "dtype": "object",
         "stats": {
          "unique_count": 11,
          "nan_count": 0,
          "categories": [
           {
            "name": "Orthogonal Matching Pursuit",
            "count": 1
           },
           {
            "name": "Decision Tree Regressor",
            "count": 1
           },
           {
            "name": "9 others",
            "count": 9
           }
          ]
         }
        },
        {
         "name": "MAE",
         "dtype": "float64",
         "stats": {
          "unique_count": 11,
          "nan_count": 0,
          "min": "4.4564",
          "max": "592.7509",
          "histogram": [
           {
            "bin_start": 4.4564,
            "bin_end": 63.285849999999996,
            "count": 9
           },
           {
            "bin_start": 63.285849999999996,
            "bin_end": 122.11529999999999,
            "count": 0
           },
           {
            "bin_start": 122.11529999999999,
            "bin_end": 180.94474999999997,
            "count": 0
           },
           {
            "bin_start": 180.94474999999997,
            "bin_end": 239.77419999999998,
            "count": 1
           },
           {
            "bin_start": 239.77419999999998,
            "bin_end": 298.60364999999996,
            "count": 0
           },
           {
            "bin_start": 298.60364999999996,
            "bin_end": 357.4330999999999,
            "count": 0
           },
           {
            "bin_start": 357.4330999999999,
            "bin_end": 416.2625499999999,
            "count": 0
           },
           {
            "bin_start": 416.2625499999999,
            "bin_end": 475.0919999999999,
            "count": 0
           },
           {
            "bin_start": 475.0919999999999,
            "bin_end": 533.9214499999999,
            "count": 0
           },
           {
            "bin_start": 533.9214499999999,
            "bin_end": 592.7509,
            "count": 1
           }
          ]
         }
        },
        {
         "name": "MSE",
         "dtype": "float64",
         "stats": {
          "unique_count": 11,
          "nan_count": 0,
          "min": "52.609",
          "max": "76153462.9739",
          "histogram": [
           {
            "bin_start": 52.609,
            "bin_end": 7615393.645490001,
            "count": 10
           },
           {
            "bin_start": 7615393.645490001,
            "bin_end": 15230734.68198,
            "count": 0
           },
           {
            "bin_start": 15230734.68198,
            "bin_end": 22846075.718470003,
            "count": 0
           },
           {
            "bin_start": 22846075.718470003,
            "bin_end": 30461416.754960004,
            "count": 0
           },
           {
            "bin_start": 30461416.754960004,
            "bin_end": 38076757.79145,
            "count": 0
           },
           {
            "bin_start": 38076757.79145,
            "bin_end": 45692098.82794,
            "count": 0
           },
           {
            "bin_start": 45692098.82794,
            "bin_end": 53307439.86443,
            "count": 0
           },
           {
            "bin_start": 53307439.86443,
            "bin_end": 60922780.90092,
            "count": 0
           },
           {
            "bin_start": 60922780.90092,
            "bin_end": 68538121.93741,
            "count": 0
           },
           {
            "bin_start": 68538121.93741,
            "bin_end": 76153462.9739,
            "count": 1
           }
          ]
         }
        },
        {
         "name": "RMSE",
         "dtype": "float64",
         "stats": {
          "unique_count": 11,
          "nan_count": 0,
          "min": "7.1792",
          "max": "4960.2547",
          "histogram": [
           {
            "bin_start": 7.1792,
            "bin_end": 502.4867500000001,
            "count": 9
           },
           {
            "bin_start": 502.4867500000001,
            "bin_end": 997.7943000000002,
            "count": 1
           },
           {
            "bin_start": 997.7943000000002,
            "bin_end": 1493.1018500000005,
            "count": 0
           },
           {
            "bin_start": 1493.1018500000005,
            "bin_end": 1988.4094000000005,
            "count": 0
           },
           {
            "bin_start": 1988.4094000000005,
            "bin_end": 2483.7169500000005,
            "count": 0
           },
           {
            "bin_start": 2483.7169500000005,
            "bin_end": 2979.024500000001,
            "count": 0
           },
           {
            "bin_start": 2979.024500000001,
            "bin_end": 3474.332050000001,
            "count": 0
           },
           {
            "bin_start": 3474.332050000001,
            "bin_end": 3969.639600000001,
            "count": 0
           },
           {
            "bin_start": 3969.639600000001,
            "bin_end": 4464.947150000001,
            "count": 0
           },
           {
            "bin_start": 4464.947150000001,
            "bin_end": 4960.2547,
            "count": 1
           }
          ]
         }
        },
        {
         "name": "R2",
         "dtype": "float64",
         "stats": {
          "unique_count": 11,
          "nan_count": 0,
          "min": "-15506.2565",
          "max": "0.9899",
          "histogram": [
           {
            "bin_start": -15506.2565,
            "bin_end": -13955.53186,
            "count": 1
           },
           {
            "bin_start": -13955.53186,
            "bin_end": -12404.807219999999,
            "count": 0
           },
           {
            "bin_start": -12404.807219999999,
            "bin_end": -10854.08258,
            "count": 0
           },
           {
            "bin_start": -10854.08258,
            "bin_end": -9303.35794,
            "count": 0
           },
           {
            "bin_start": -9303.35794,
            "bin_end": -7752.6332999999995,
            "count": 0
           },
           {
            "bin_start": -7752.6332999999995,
            "bin_end": -6201.908660000001,
            "count": 0
           },
           {
            "bin_start": -6201.908660000001,
            "bin_end": -4651.184020000001,
            "count": 0
           },
           {
            "bin_start": -4651.184020000001,
            "bin_end": -3100.4593800000002,
            "count": 0
           },
           {
            "bin_start": -3100.4593800000002,
            "bin_end": -1549.7347399999999,
            "count": 0
           },
           {
            "bin_start": -1549.7347399999999,
            "bin_end": 0.9899,
            "count": 10
           }
          ]
         }
        },
        {
         "name": "RMSLE",
         "dtype": "float64",
         "stats": {
          "unique_count": 11,
          "nan_count": 0,
          "min": "0.0515",
          "max": "3.7592",
          "histogram": [
           {
            "bin_start": 0.0515,
            "bin_end": 0.42227,
            "count": 9
           },
           {
            "bin_start": 0.42227,
            "bin_end": 0.79304,
            "count": 1
           },
           {
            "bin_start": 0.79304,
            "bin_end": 1.16381,
            "count": 0
           },
           {
            "bin_start": 1.16381,
            "bin_end": 1.53458,
            "count": 0
           },
           {
            "bin_start": 1.53458,
            "bin_end": 1.90535,
            "count": 0
           },
           {
            "bin_start": 1.90535,
            "bin_end": 2.2761199999999997,
            "count": 0
           },
           {
            "bin_start": 2.2761199999999997,
            "bin_end": 2.64689,
            "count": 0
           },
           {
            "bin_start": 2.64689,
            "bin_end": 3.01766,
            "count": 0
           },
           {
            "bin_start": 3.01766,
            "bin_end": 3.3884299999999996,
            "count": 0
           },
           {
            "bin_start": 3.3884299999999996,
            "bin_end": 3.7592,
            "count": 1
           }
          ]
         }
        },
        {
         "name": "MAPE",
         "dtype": "float64",
         "stats": {
          "unique_count": 11,
          "nan_count": 0,
          "min": "0.0311",
          "max": "5.9944",
          "histogram": [
           {
            "bin_start": 0.0311,
            "bin_end": 0.6274299999999999,
            "count": 9
           },
           {
            "bin_start": 0.6274299999999999,
            "bin_end": 1.2237599999999997,
            "count": 1
           },
           {
            "bin_start": 1.2237599999999997,
            "bin_end": 1.8200899999999995,
            "count": 0
           },
           {
            "bin_start": 1.8200899999999995,
            "bin_end": 2.4164199999999996,
            "count": 0
           },
           {
            "bin_start": 2.4164199999999996,
            "bin_end": 3.0127499999999996,
            "count": 0
           },
           {
            "bin_start": 3.0127499999999996,
            "bin_end": 3.609079999999999,
            "count": 0
           },
           {
            "bin_start": 3.609079999999999,
            "bin_end": 4.20541,
            "count": 0
           },
           {
            "bin_start": 4.20541,
            "bin_end": 4.80174,
            "count": 0
           },
           {
            "bin_start": 4.80174,
            "bin_end": 5.39807,
            "count": 0
           },
           {
            "bin_start": 5.39807,
            "bin_end": 5.9944,
            "count": 1
           }
          ]
         }
        },
        {
         "name": "TT (Sec)",
         "dtype": "float64",
         "stats": {
          "unique_count": 10,
          "nan_count": 0,
          "min": "0.037",
          "max": "0.619",
          "histogram": [
           {
            "bin_start": 0.037,
            "bin_end": 0.09519999999999999,
            "count": 3
           },
           {
            "bin_start": 0.09519999999999999,
            "bin_end": 0.15339999999999998,
            "count": 3
           },
           {
            "bin_start": 0.15339999999999998,
            "bin_end": 0.21159999999999998,
            "count": 3
           },
           {
            "bin_start": 0.21159999999999998,
            "bin_end": 0.2698,
            "count": 0
           },
           {
            "bin_start": 0.2698,
            "bin_end": 0.32799999999999996,
            "count": 0
           },
           {
            "bin_start": 0.32799999999999996,
            "bin_end": 0.38619999999999993,
            "count": 0
           },
           {
            "bin_start": 0.38619999999999993,
            "bin_end": 0.44439999999999996,
            "count": 1
           },
           {
            "bin_start": 0.44439999999999996,
            "bin_end": 0.5025999999999999,
            "count": 0
           },
           {
            "bin_start": 0.5025999999999999,
            "bin_end": 0.5608,
            "count": 0
           },
           {
            "bin_start": 0.5608,
            "bin_end": 0.619,
            "count": 1
           }
          ]
         }
        },
        {
         "name": "_deepnote_index_column",
         "dtype": "object"
        }
       ],
       "rows_top": [
        {
         "Model": "Orthogonal Matching Pursuit",
         "MAE": 4.4564,
         "MSE": 52.609,
         "RMSE": 7.1792,
         "R2": 0.9899,
         "RMSLE": 0.0515,
         "MAPE": 0.0311,
         "TT (Sec)": 0.037,
         "_deepnote_index_column": "omp"
        },
        {
         "Model": "Decision Tree Regressor",
         "MAE": 7.515,
         "MSE": 149.1684,
         "RMSE": 12.0967,
         "R2": 0.9715,
         "RMSLE": 0.0753,
         "MAPE": 0.0487,
         "TT (Sec)": 0.183,
         "_deepnote_index_column": "dt"
        },
        {
         "Model": "K Neighbors Regressor",
         "MAE": 7.7582,
         "MSE": 160.3944,
         "RMSE": 12.5516,
         "R2": 0.9691,
         "RMSLE": 0.0847,
         "MAPE": 0.0526,
         "TT (Sec)": 0.138,
         "_deepnote_index_column": "knn"
        },
        {
         "Model": "Ridge Regression",
         "MAE": 4.9195,
         "MSE": 226.2628,
         "RMSE": 12.3698,
         "R2": 0.9586,
         "RMSLE": 0.0608,
         "MAPE": 0.0342,
         "TT (Sec)": 0.038,
         "_deepnote_index_column": "ridge"
        },
        {
         "Model": "Bayesian Ridge",
         "MAE": 4.8931,
         "MSE": 305.1098,
         "RMSE": 13.3677,
         "R2": 0.9445,
         "RMSLE": 0.0619,
         "MAPE": 0.0338,
         "TT (Sec)": 0.158,
         "_deepnote_index_column": "br"
        },
        {
         "Model": "Elastic Net",
         "MAE": 5.5975,
         "MSE": 1061.075,
         "RMSE": 17.579,
         "R2": 0.8118,
         "RMSLE": 0.0827,
         "MAPE": 0.0388,
         "TT (Sec)": 0.139,
         "_deepnote_index_column": "en"
        },
        {
         "Model": "Lasso Regression",
         "MAE": 5.6966,
         "MSE": 1131.4343,
         "RMSE": 18.2734,
         "R2": 0.7994,
         "RMSLE": 0.0919,
         "MAPE": 0.0394,
         "TT (Sec)": 0.138,
         "_deepnote_index_column": "lasso"
        },
        {
         "Model": "Lasso Least Angle Regression",
         "MAE": 42.2261,
         "MSE": 2468.5781,
         "RMSE": 49.6429,
         "R2": 0.5281,
         "RMSLE": 0.3322,
         "MAPE": 0.3175,
         "TT (Sec)": 0.426,
         "_deepnote_index_column": "llar"
        },
        {
         "Model": "Linear Regression",
         "MAE": 29.6335,
         "MSE": 39772.0133,
         "RMSE": 90.1037,
         "R2": -6.0346,
         "RMSLE": 0.2339,
         "MAPE": 0.2207,
         "TT (Sec)": 0.619,
         "_deepnote_index_column": "lr"
        },
        {
         "Model": "Huber Regressor",
         "MAE": 183.1916,
         "MSE": 5615766.9449,
         "RMSE": 885.0512,
         "R2": -990.5484,
         "RMSLE": 3.7592,
         "MAPE": 1.1287,
         "TT (Sec)": 0.167,
         "_deepnote_index_column": "huber"
        },
        {
         "Model": "Passive Aggressive Regressor",
         "MAE": 592.7509,
         "MSE": 76153462.9739,
         "RMSE": 4960.2547,
         "R2": -15506.2565,
         "RMSLE": 0.7474,
         "MAPE": 5.9944,
         "TT (Sec)": 0.058,
         "_deepnote_index_column": "par"
        }
       ],
       "rows_bottom": null
      },
      "text/plain": "                              Model       MAE           MSE       RMSE  \\\nomp     Orthogonal Matching Pursuit    4.4564  5.260900e+01     7.1792   \ndt          Decision Tree Regressor    7.5150  1.491684e+02    12.0967   \nknn           K Neighbors Regressor    7.7582  1.603944e+02    12.5516   \nridge              Ridge Regression    4.9195  2.262628e+02    12.3698   \nbr                   Bayesian Ridge    4.8931  3.051098e+02    13.3677   \nen                      Elastic Net    5.5975  1.061075e+03    17.5790   \nlasso              Lasso Regression    5.6966  1.131434e+03    18.2734   \nllar   Lasso Least Angle Regression   42.2261  2.468578e+03    49.6429   \nlr                Linear Regression   29.6335  3.977201e+04    90.1037   \nhuber               Huber Regressor  183.1916  5.615767e+06   885.0512   \npar    Passive Aggressive Regressor  592.7509  7.615346e+07  4960.2547   \n\n               R2   RMSLE    MAPE  TT (Sec)  \nomp        0.9899  0.0515  0.0311     0.037  \ndt         0.9715  0.0753  0.0487     0.183  \nknn        0.9691  0.0847  0.0526     0.138  \nridge      0.9586  0.0608  0.0342     0.038  \nbr         0.9445  0.0619  0.0338     0.158  \nen         0.8118  0.0827  0.0388     0.139  \nlasso      0.7994  0.0919  0.0394     0.138  \nllar       0.5281  0.3322  0.3175     0.426  \nlr        -6.0346  0.2339  0.2207     0.619  \nhuber   -990.5484  3.7592  1.1287     0.167  \npar   -15506.2565  0.7474  5.9944     0.058  ",
      "text/html": "<div>\n<style scoped>\n    .dataframe tbody tr th:only-of-type {\n        vertical-align: middle;\n    }\n\n    .dataframe tbody tr th {\n        vertical-align: top;\n    }\n\n    .dataframe thead th {\n        text-align: right;\n    }\n</style>\n<table border=\"1\" class=\"dataframe\">\n  <thead>\n    <tr style=\"text-align: right;\">\n      <th></th>\n      <th>Model</th>\n      <th>MAE</th>\n      <th>MSE</th>\n      <th>RMSE</th>\n      <th>R2</th>\n      <th>RMSLE</th>\n      <th>MAPE</th>\n      <th>TT (Sec)</th>\n    </tr>\n  </thead>\n  <tbody>\n    <tr>\n      <th>omp</th>\n      <td>Orthogonal Matching Pursuit</td>\n      <td>4.4564</td>\n      <td>5.260900e+01</td>\n      <td>7.1792</td>\n      <td>0.9899</td>\n      <td>0.0515</td>\n      <td>0.0311</td>\n      <td>0.037</td>\n    </tr>\n    <tr>\n      <th>dt</th>\n      <td>Decision Tree Regressor</td>\n      <td>7.5150</td>\n      <td>1.491684e+02</td>\n      <td>12.0967</td>\n      <td>0.9715</td>\n      <td>0.0753</td>\n      <td>0.0487</td>\n      <td>0.183</td>\n    </tr>\n    <tr>\n      <th>knn</th>\n      <td>K Neighbors Regressor</td>\n      <td>7.7582</td>\n      <td>1.603944e+02</td>\n      <td>12.5516</td>\n      <td>0.9691</td>\n      <td>0.0847</td>\n      <td>0.0526</td>\n      <td>0.138</td>\n    </tr>\n    <tr>\n      <th>ridge</th>\n      <td>Ridge Regression</td>\n      <td>4.9195</td>\n      <td>2.262628e+02</td>\n      <td>12.3698</td>\n      <td>0.9586</td>\n      <td>0.0608</td>\n      <td>0.0342</td>\n      <td>0.038</td>\n    </tr>\n    <tr>\n      <th>br</th>\n      <td>Bayesian Ridge</td>\n      <td>4.8931</td>\n      <td>3.051098e+02</td>\n      <td>13.3677</td>\n      <td>0.9445</td>\n      <td>0.0619</td>\n      <td>0.0338</td>\n      <td>0.158</td>\n    </tr>\n    <tr>\n      <th>en</th>\n      <td>Elastic Net</td>\n      <td>5.5975</td>\n      <td>1.061075e+03</td>\n      <td>17.5790</td>\n      <td>0.8118</td>\n      <td>0.0827</td>\n      <td>0.0388</td>\n      <td>0.139</td>\n    </tr>\n    <tr>\n      <th>lasso</th>\n      <td>Lasso Regression</td>\n      <td>5.6966</td>\n      <td>1.131434e+03</td>\n      <td>18.2734</td>\n      <td>0.7994</td>\n      <td>0.0919</td>\n      <td>0.0394</td>\n      <td>0.138</td>\n    </tr>\n    <tr>\n      <th>llar</th>\n      <td>Lasso Least Angle Regression</td>\n      <td>42.2261</td>\n      <td>2.468578e+03</td>\n      <td>49.6429</td>\n      <td>0.5281</td>\n      <td>0.3322</td>\n      <td>0.3175</td>\n      <td>0.426</td>\n    </tr>\n    <tr>\n      <th>lr</th>\n      <td>Linear Regression</td>\n      <td>29.6335</td>\n      <td>3.977201e+04</td>\n      <td>90.1037</td>\n      <td>-6.0346</td>\n      <td>0.2339</td>\n      <td>0.2207</td>\n      <td>0.619</td>\n    </tr>\n    <tr>\n      <th>huber</th>\n      <td>Huber Regressor</td>\n      <td>183.1916</td>\n      <td>5.615767e+06</td>\n      <td>885.0512</td>\n      <td>-990.5484</td>\n      <td>3.7592</td>\n      <td>1.1287</td>\n      <td>0.167</td>\n    </tr>\n    <tr>\n      <th>par</th>\n      <td>Passive Aggressive Regressor</td>\n      <td>592.7509</td>\n      <td>7.615346e+07</td>\n      <td>4960.2547</td>\n      <td>-15506.2565</td>\n      <td>0.7474</td>\n      <td>5.9944</td>\n      <td>0.058</td>\n    </tr>\n  </tbody>\n</table>\n</div>"
     },
     "metadata": {},
     "output_type": "display_data"
    },
    {
     "data": {
      "application/vnd.deepnote.dataframe.v2+json": {
       "row_count": 12,
       "column_count": 8,
       "columns": [
        {
         "name": "Model",
         "dtype": "object",
         "stats": {
          "unique_count": 12,
          "nan_count": 0,
          "categories": [
           {
            "name": "Orthogonal Matching Pursuit",
            "count": 1
           },
           {
            "name": "Random Forest Regressor",
            "count": 1
           },
           {
            "name": "10 others",
            "count": 10
           }
          ]
         }
        },
        {
         "name": "MAE",
         "dtype": "float64",
         "stats": {
          "unique_count": 12,
          "nan_count": 0,
          "min": "4.4564",
          "max": "592.7509",
          "histogram": [
           {
            "bin_start": 4.4564,
            "bin_end": 63.285849999999996,
            "count": 10
           },
           {
            "bin_start": 63.285849999999996,
            "bin_end": 122.11529999999999,
            "count": 0
           },
           {
            "bin_start": 122.11529999999999,
            "bin_end": 180.94474999999997,
            "count": 0
           },
           {
            "bin_start": 180.94474999999997,
            "bin_end": 239.77419999999998,
            "count": 1
           },
           {
            "bin_start": 239.77419999999998,
            "bin_end": 298.60364999999996,
            "count": 0
           },
           {
            "bin_start": 298.60364999999996,
            "bin_end": 357.4330999999999,
            "count": 0
           },
           {
            "bin_start": 357.4330999999999,
            "bin_end": 416.2625499999999,
            "count": 0
           },
           {
            "bin_start": 416.2625499999999,
            "bin_end": 475.0919999999999,
            "count": 0
           },
           {
            "bin_start": 475.0919999999999,
            "bin_end": 533.9214499999999,
            "count": 0
           },
           {
            "bin_start": 533.9214499999999,
            "bin_end": 592.7509,
            "count": 1
           }
          ]
         }
        },
        {
         "name": "MSE",
         "dtype": "float64",
         "stats": {
          "unique_count": 12,
          "nan_count": 0,
          "min": "52.609",
          "max": "76153462.9739",
          "histogram": [
           {
            "bin_start": 52.609,
            "bin_end": 7615393.645490001,
            "count": 11
           },
           {
            "bin_start": 7615393.645490001,
            "bin_end": 15230734.68198,
            "count": 0
           },
           {
            "bin_start": 15230734.68198,
            "bin_end": 22846075.718470003,
            "count": 0
           },
           {
            "bin_start": 22846075.718470003,
            "bin_end": 30461416.754960004,
            "count": 0
           },
           {
            "bin_start": 30461416.754960004,
            "bin_end": 38076757.79145,
            "count": 0
           },
           {
            "bin_start": 38076757.79145,
            "bin_end": 45692098.82794,
            "count": 0
           },
           {
            "bin_start": 45692098.82794,
            "bin_end": 53307439.86443,
            "count": 0
           },
           {
            "bin_start": 53307439.86443,
            "bin_end": 60922780.90092,
            "count": 0
           },
           {
            "bin_start": 60922780.90092,
            "bin_end": 68538121.93741,
            "count": 0
           },
           {
            "bin_start": 68538121.93741,
            "bin_end": 76153462.9739,
            "count": 1
           }
          ]
         }
        },
        {
         "name": "RMSE",
         "dtype": "float64",
         "stats": {
          "unique_count": 12,
          "nan_count": 0,
          "min": "7.1792",
          "max": "4960.2547",
          "histogram": [
           {
            "bin_start": 7.1792,
            "bin_end": 502.4867500000001,
            "count": 10
           },
           {
            "bin_start": 502.4867500000001,
            "bin_end": 997.7943000000002,
            "count": 1
           },
           {
            "bin_start": 997.7943000000002,
            "bin_end": 1493.1018500000005,
            "count": 0
           },
           {
            "bin_start": 1493.1018500000005,
            "bin_end": 1988.4094000000005,
            "count": 0
           },
           {
            "bin_start": 1988.4094000000005,
            "bin_end": 2483.7169500000005,
            "count": 0
           },
           {
            "bin_start": 2483.7169500000005,
            "bin_end": 2979.024500000001,
            "count": 0
           },
           {
            "bin_start": 2979.024500000001,
            "bin_end": 3474.332050000001,
            "count": 0
           },
           {
            "bin_start": 3474.332050000001,
            "bin_end": 3969.639600000001,
            "count": 0
           },
           {
            "bin_start": 3969.639600000001,
            "bin_end": 4464.947150000001,
            "count": 0
           },
           {
            "bin_start": 4464.947150000001,
            "bin_end": 4960.2547,
            "count": 1
           }
          ]
         }
        },
        {
         "name": "R2",
         "dtype": "float64",
         "stats": {
          "unique_count": 12,
          "nan_count": 0,
          "min": "-15506.2565",
          "max": "0.9899",
          "histogram": [
           {
            "bin_start": -15506.2565,
            "bin_end": -13955.53186,
            "count": 1
           },
           {
            "bin_start": -13955.53186,
            "bin_end": -12404.807219999999,
            "count": 0
           },
           {
            "bin_start": -12404.807219999999,
            "bin_end": -10854.08258,
            "count": 0
           },
           {
            "bin_start": -10854.08258,
            "bin_end": -9303.35794,
            "count": 0
           },
           {
            "bin_start": -9303.35794,
            "bin_end": -7752.6332999999995,
            "count": 0
           },
           {
            "bin_start": -7752.6332999999995,
            "bin_end": -6201.908660000001,
            "count": 0
           },
           {
            "bin_start": -6201.908660000001,
            "bin_end": -4651.184020000001,
            "count": 0
           },
           {
            "bin_start": -4651.184020000001,
            "bin_end": -3100.4593800000002,
            "count": 0
           },
           {
            "bin_start": -3100.4593800000002,
            "bin_end": -1549.7347399999999,
            "count": 0
           },
           {
            "bin_start": -1549.7347399999999,
            "bin_end": 0.9899,
            "count": 11
           }
          ]
         }
        },
        {
         "name": "RMSLE",
         "dtype": "float64",
         "stats": {
          "unique_count": 12,
          "nan_count": 0,
          "min": "0.0515",
          "max": "3.7592",
          "histogram": [
           {
            "bin_start": 0.0515,
            "bin_end": 0.42227,
            "count": 10
           },
           {
            "bin_start": 0.42227,
            "bin_end": 0.79304,
            "count": 1
           },
           {
            "bin_start": 0.79304,
            "bin_end": 1.16381,
            "count": 0
           },
           {
            "bin_start": 1.16381,
            "bin_end": 1.53458,
            "count": 0
           },
           {
            "bin_start": 1.53458,
            "bin_end": 1.90535,
            "count": 0
           },
           {
            "bin_start": 1.90535,
            "bin_end": 2.2761199999999997,
            "count": 0
           },
           {
            "bin_start": 2.2761199999999997,
            "bin_end": 2.64689,
            "count": 0
           },
           {
            "bin_start": 2.64689,
            "bin_end": 3.01766,
            "count": 0
           },
           {
            "bin_start": 3.01766,
            "bin_end": 3.3884299999999996,
            "count": 0
           },
           {
            "bin_start": 3.3884299999999996,
            "bin_end": 3.7592,
            "count": 1
           }
          ]
         }
        },
        {
         "name": "MAPE",
         "dtype": "float64",
         "stats": {
          "unique_count": 12,
          "nan_count": 0,
          "min": "0.0311",
          "max": "5.9944",
          "histogram": [
           {
            "bin_start": 0.0311,
            "bin_end": 0.6274299999999999,
            "count": 10
           },
           {
            "bin_start": 0.6274299999999999,
            "bin_end": 1.2237599999999997,
            "count": 1
           },
           {
            "bin_start": 1.2237599999999997,
            "bin_end": 1.8200899999999995,
            "count": 0
           },
           {
            "bin_start": 1.8200899999999995,
            "bin_end": 2.4164199999999996,
            "count": 0
           },
           {
            "bin_start": 2.4164199999999996,
            "bin_end": 3.0127499999999996,
            "count": 0
           },
           {
            "bin_start": 3.0127499999999996,
            "bin_end": 3.609079999999999,
            "count": 0
           },
           {
            "bin_start": 3.609079999999999,
            "bin_end": 4.20541,
            "count": 0
           },
           {
            "bin_start": 4.20541,
            "bin_end": 4.80174,
            "count": 0
           },
           {
            "bin_start": 4.80174,
            "bin_end": 5.39807,
            "count": 0
           },
           {
            "bin_start": 5.39807,
            "bin_end": 5.9944,
            "count": 1
           }
          ]
         }
        },
        {
         "name": "TT (Sec)",
         "dtype": "float64",
         "stats": {
          "unique_count": 11,
          "nan_count": 0,
          "min": "0.037",
          "max": "9.524",
          "histogram": [
           {
            "bin_start": 0.037,
            "bin_end": 0.9856999999999999,
            "count": 11
           },
           {
            "bin_start": 0.9856999999999999,
            "bin_end": 1.9343999999999997,
            "count": 0
           },
           {
            "bin_start": 1.9343999999999997,
            "bin_end": 2.8830999999999998,
            "count": 0
           },
           {
            "bin_start": 2.8830999999999998,
            "bin_end": 3.8317999999999994,
            "count": 0
           },
           {
            "bin_start": 3.8317999999999994,
            "bin_end": 4.780499999999999,
            "count": 0
           },
           {
            "bin_start": 4.780499999999999,
            "bin_end": 5.7292,
            "count": 0
           },
           {
            "bin_start": 5.7292,
            "bin_end": 6.677899999999999,
            "count": 0
           },
           {
            "bin_start": 6.677899999999999,
            "bin_end": 7.626599999999999,
            "count": 0
           },
           {
            "bin_start": 7.626599999999999,
            "bin_end": 8.5753,
            "count": 0
           },
           {
            "bin_start": 8.5753,
            "bin_end": 9.524,
            "count": 1
           }
          ]
         }
        },
        {
         "name": "_deepnote_index_column",
         "dtype": "object"
        }
       ],
       "rows_top": [
        {
         "Model": "Orthogonal Matching Pursuit",
         "MAE": 4.4564,
         "MSE": 52.609,
         "RMSE": 7.1792,
         "R2": 0.9899,
         "RMSLE": 0.0515,
         "MAPE": 0.0311,
         "TT (Sec)": 0.037,
         "_deepnote_index_column": "omp"
        },
        {
         "Model": "Random Forest Regressor",
         "MAE": 4.7846,
         "MSE": 71.0367,
         "RMSE": 8.2485,
         "R2": 0.9863,
         "RMSLE": 0.0527,
         "MAPE": 0.0317,
         "TT (Sec)": 9.524,
         "_deepnote_index_column": "rf"
        },
        {
         "Model": "Decision Tree Regressor",
         "MAE": 7.515,
         "MSE": 149.1684,
         "RMSE": 12.0967,
         "R2": 0.9715,
         "RMSLE": 0.0753,
         "MAPE": 0.0487,
         "TT (Sec)": 0.183,
         "_deepnote_index_column": "dt"
        },
        {
         "Model": "K Neighbors Regressor",
         "MAE": 7.7582,
         "MSE": 160.3944,
         "RMSE": 12.5516,
         "R2": 0.9691,
         "RMSLE": 0.0847,
         "MAPE": 0.0526,
         "TT (Sec)": 0.138,
         "_deepnote_index_column": "knn"
        },
        {
         "Model": "Ridge Regression",
         "MAE": 4.9195,
         "MSE": 226.2628,
         "RMSE": 12.3698,
         "R2": 0.9586,
         "RMSLE": 0.0608,
         "MAPE": 0.0342,
         "TT (Sec)": 0.038,
         "_deepnote_index_column": "ridge"
        },
        {
         "Model": "Bayesian Ridge",
         "MAE": 4.8931,
         "MSE": 305.1098,
         "RMSE": 13.3677,
         "R2": 0.9445,
         "RMSLE": 0.0619,
         "MAPE": 0.0338,
         "TT (Sec)": 0.158,
         "_deepnote_index_column": "br"
        },
        {
         "Model": "Elastic Net",
         "MAE": 5.5975,
         "MSE": 1061.075,
         "RMSE": 17.579,
         "R2": 0.8118,
         "RMSLE": 0.0827,
         "MAPE": 0.0388,
         "TT (Sec)": 0.139,
         "_deepnote_index_column": "en"
        },
        {
         "Model": "Lasso Regression",
         "MAE": 5.6966,
         "MSE": 1131.4343,
         "RMSE": 18.2734,
         "R2": 0.7994,
         "RMSLE": 0.0919,
         "MAPE": 0.0394,
         "TT (Sec)": 0.138,
         "_deepnote_index_column": "lasso"
        },
        {
         "Model": "Lasso Least Angle Regression",
         "MAE": 42.2261,
         "MSE": 2468.5781,
         "RMSE": 49.6429,
         "R2": 0.5281,
         "RMSLE": 0.3322,
         "MAPE": 0.3175,
         "TT (Sec)": 0.426,
         "_deepnote_index_column": "llar"
        },
        {
         "Model": "Linear Regression",
         "MAE": 29.6335,
         "MSE": 39772.0133,
         "RMSE": 90.1037,
         "R2": -6.0346,
         "RMSLE": 0.2339,
         "MAPE": 0.2207,
         "TT (Sec)": 0.619,
         "_deepnote_index_column": "lr"
        },
        {
         "Model": "Huber Regressor",
         "MAE": 183.1916,
         "MSE": 5615766.9449,
         "RMSE": 885.0512,
         "R2": -990.5484,
         "RMSLE": 3.7592,
         "MAPE": 1.1287,
         "TT (Sec)": 0.167,
         "_deepnote_index_column": "huber"
        },
        {
         "Model": "Passive Aggressive Regressor",
         "MAE": 592.7509,
         "MSE": 76153462.9739,
         "RMSE": 4960.2547,
         "R2": -15506.2565,
         "RMSLE": 0.7474,
         "MAPE": 5.9944,
         "TT (Sec)": 0.058,
         "_deepnote_index_column": "par"
        }
       ],
       "rows_bottom": null
      },
      "text/plain": "                              Model       MAE           MSE       RMSE  \\\nomp     Orthogonal Matching Pursuit    4.4564  5.260900e+01     7.1792   \nrf          Random Forest Regressor    4.7846  7.103670e+01     8.2485   \ndt          Decision Tree Regressor    7.5150  1.491684e+02    12.0967   \nknn           K Neighbors Regressor    7.7582  1.603944e+02    12.5516   \nridge              Ridge Regression    4.9195  2.262628e+02    12.3698   \nbr                   Bayesian Ridge    4.8931  3.051098e+02    13.3677   \nen                      Elastic Net    5.5975  1.061075e+03    17.5790   \nlasso              Lasso Regression    5.6966  1.131434e+03    18.2734   \nllar   Lasso Least Angle Regression   42.2261  2.468578e+03    49.6429   \nlr                Linear Regression   29.6335  3.977201e+04    90.1037   \nhuber               Huber Regressor  183.1916  5.615767e+06   885.0512   \npar    Passive Aggressive Regressor  592.7509  7.615346e+07  4960.2547   \n\n               R2   RMSLE    MAPE  TT (Sec)  \nomp        0.9899  0.0515  0.0311     0.037  \nrf         0.9863  0.0527  0.0317     9.524  \ndt         0.9715  0.0753  0.0487     0.183  \nknn        0.9691  0.0847  0.0526     0.138  \nridge      0.9586  0.0608  0.0342     0.038  \nbr         0.9445  0.0619  0.0338     0.158  \nen         0.8118  0.0827  0.0388     0.139  \nlasso      0.7994  0.0919  0.0394     0.138  \nllar       0.5281  0.3322  0.3175     0.426  \nlr        -6.0346  0.2339  0.2207     0.619  \nhuber   -990.5484  3.7592  1.1287     0.167  \npar   -15506.2565  0.7474  5.9944     0.058  ",
      "text/html": "<div>\n<style scoped>\n    .dataframe tbody tr th:only-of-type {\n        vertical-align: middle;\n    }\n\n    .dataframe tbody tr th {\n        vertical-align: top;\n    }\n\n    .dataframe thead th {\n        text-align: right;\n    }\n</style>\n<table border=\"1\" class=\"dataframe\">\n  <thead>\n    <tr style=\"text-align: right;\">\n      <th></th>\n      <th>Model</th>\n      <th>MAE</th>\n      <th>MSE</th>\n      <th>RMSE</th>\n      <th>R2</th>\n      <th>RMSLE</th>\n      <th>MAPE</th>\n      <th>TT (Sec)</th>\n    </tr>\n  </thead>\n  <tbody>\n    <tr>\n      <th>omp</th>\n      <td>Orthogonal Matching Pursuit</td>\n      <td>4.4564</td>\n      <td>5.260900e+01</td>\n      <td>7.1792</td>\n      <td>0.9899</td>\n      <td>0.0515</td>\n      <td>0.0311</td>\n      <td>0.037</td>\n    </tr>\n    <tr>\n      <th>rf</th>\n      <td>Random Forest Regressor</td>\n      <td>4.7846</td>\n      <td>7.103670e+01</td>\n      <td>8.2485</td>\n      <td>0.9863</td>\n      <td>0.0527</td>\n      <td>0.0317</td>\n      <td>9.524</td>\n    </tr>\n    <tr>\n      <th>dt</th>\n      <td>Decision Tree Regressor</td>\n      <td>7.5150</td>\n      <td>1.491684e+02</td>\n      <td>12.0967</td>\n      <td>0.9715</td>\n      <td>0.0753</td>\n      <td>0.0487</td>\n      <td>0.183</td>\n    </tr>\n    <tr>\n      <th>knn</th>\n      <td>K Neighbors Regressor</td>\n      <td>7.7582</td>\n      <td>1.603944e+02</td>\n      <td>12.5516</td>\n      <td>0.9691</td>\n      <td>0.0847</td>\n      <td>0.0526</td>\n      <td>0.138</td>\n    </tr>\n    <tr>\n      <th>ridge</th>\n      <td>Ridge Regression</td>\n      <td>4.9195</td>\n      <td>2.262628e+02</td>\n      <td>12.3698</td>\n      <td>0.9586</td>\n      <td>0.0608</td>\n      <td>0.0342</td>\n      <td>0.038</td>\n    </tr>\n    <tr>\n      <th>br</th>\n      <td>Bayesian Ridge</td>\n      <td>4.8931</td>\n      <td>3.051098e+02</td>\n      <td>13.3677</td>\n      <td>0.9445</td>\n      <td>0.0619</td>\n      <td>0.0338</td>\n      <td>0.158</td>\n    </tr>\n    <tr>\n      <th>en</th>\n      <td>Elastic Net</td>\n      <td>5.5975</td>\n      <td>1.061075e+03</td>\n      <td>17.5790</td>\n      <td>0.8118</td>\n      <td>0.0827</td>\n      <td>0.0388</td>\n      <td>0.139</td>\n    </tr>\n    <tr>\n      <th>lasso</th>\n      <td>Lasso Regression</td>\n      <td>5.6966</td>\n      <td>1.131434e+03</td>\n      <td>18.2734</td>\n      <td>0.7994</td>\n      <td>0.0919</td>\n      <td>0.0394</td>\n      <td>0.138</td>\n    </tr>\n    <tr>\n      <th>llar</th>\n      <td>Lasso Least Angle Regression</td>\n      <td>42.2261</td>\n      <td>2.468578e+03</td>\n      <td>49.6429</td>\n      <td>0.5281</td>\n      <td>0.3322</td>\n      <td>0.3175</td>\n      <td>0.426</td>\n    </tr>\n    <tr>\n      <th>lr</th>\n      <td>Linear Regression</td>\n      <td>29.6335</td>\n      <td>3.977201e+04</td>\n      <td>90.1037</td>\n      <td>-6.0346</td>\n      <td>0.2339</td>\n      <td>0.2207</td>\n      <td>0.619</td>\n    </tr>\n    <tr>\n      <th>huber</th>\n      <td>Huber Regressor</td>\n      <td>183.1916</td>\n      <td>5.615767e+06</td>\n      <td>885.0512</td>\n      <td>-990.5484</td>\n      <td>3.7592</td>\n      <td>1.1287</td>\n      <td>0.167</td>\n    </tr>\n    <tr>\n      <th>par</th>\n      <td>Passive Aggressive Regressor</td>\n      <td>592.7509</td>\n      <td>7.615346e+07</td>\n      <td>4960.2547</td>\n      <td>-15506.2565</td>\n      <td>0.7474</td>\n      <td>5.9944</td>\n      <td>0.058</td>\n    </tr>\n  </tbody>\n</table>\n</div>"
     },
     "metadata": {},
     "output_type": "display_data"
    },
    {
     "data": {
      "application/vnd.deepnote.dataframe.v2+json": {
       "row_count": 13,
       "column_count": 8,
       "columns": [
        {
         "name": "Model",
         "dtype": "object",
         "stats": {
          "unique_count": 13,
          "nan_count": 0,
          "categories": [
           {
            "name": "Orthogonal Matching Pursuit",
            "count": 1
           },
           {
            "name": "Extra Trees Regressor",
            "count": 1
           },
           {
            "name": "11 others",
            "count": 11
           }
          ]
         }
        },
        {
         "name": "MAE",
         "dtype": "float64",
         "stats": {
          "unique_count": 13,
          "nan_count": 0,
          "min": "4.4023",
          "max": "592.7509",
          "histogram": [
           {
            "bin_start": 4.4023,
            "bin_end": 63.23716,
            "count": 11
           },
           {
            "bin_start": 63.23716,
            "bin_end": 122.07202000000001,
            "count": 0
           },
           {
            "bin_start": 122.07202000000001,
            "bin_end": 180.90688000000003,
            "count": 0
           },
           {
            "bin_start": 180.90688000000003,
            "bin_end": 239.74174000000002,
            "count": 1
           },
           {
            "bin_start": 239.74174000000002,
            "bin_end": 298.57660000000004,
            "count": 0
           },
           {
            "bin_start": 298.57660000000004,
            "bin_end": 357.4114600000001,
            "count": 0
           },
           {
            "bin_start": 357.4114600000001,
            "bin_end": 416.2463200000001,
            "count": 0
           },
           {
            "bin_start": 416.2463200000001,
            "bin_end": 475.0811800000001,
            "count": 0
           },
           {
            "bin_start": 475.0811800000001,
            "bin_end": 533.9160400000001,
            "count": 0
           },
           {
            "bin_start": 533.9160400000001,
            "bin_end": 592.7509,
            "count": 1
           }
          ]
         }
        },
        {
         "name": "MSE",
         "dtype": "float64",
         "stats": {
          "unique_count": 13,
          "nan_count": 0,
          "min": "52.609",
          "max": "76153462.9739",
          "histogram": [
           {
            "bin_start": 52.609,
            "bin_end": 7615393.645490001,
            "count": 12
           },
           {
            "bin_start": 7615393.645490001,
            "bin_end": 15230734.68198,
            "count": 0
           },
           {
            "bin_start": 15230734.68198,
            "bin_end": 22846075.718470003,
            "count": 0
           },
           {
            "bin_start": 22846075.718470003,
            "bin_end": 30461416.754960004,
            "count": 0
           },
           {
            "bin_start": 30461416.754960004,
            "bin_end": 38076757.79145,
            "count": 0
           },
           {
            "bin_start": 38076757.79145,
            "bin_end": 45692098.82794,
            "count": 0
           },
           {
            "bin_start": 45692098.82794,
            "bin_end": 53307439.86443,
            "count": 0
           },
           {
            "bin_start": 53307439.86443,
            "bin_end": 60922780.90092,
            "count": 0
           },
           {
            "bin_start": 60922780.90092,
            "bin_end": 68538121.93741,
            "count": 0
           },
           {
            "bin_start": 68538121.93741,
            "bin_end": 76153462.9739,
            "count": 1
           }
          ]
         }
        },
        {
         "name": "RMSE",
         "dtype": "float64",
         "stats": {
          "unique_count": 13,
          "nan_count": 0,
          "min": "7.1792",
          "max": "4960.2547",
          "histogram": [
           {
            "bin_start": 7.1792,
            "bin_end": 502.4867500000001,
            "count": 11
           },
           {
            "bin_start": 502.4867500000001,
            "bin_end": 997.7943000000002,
            "count": 1
           },
           {
            "bin_start": 997.7943000000002,
            "bin_end": 1493.1018500000005,
            "count": 0
           },
           {
            "bin_start": 1493.1018500000005,
            "bin_end": 1988.4094000000005,
            "count": 0
           },
           {
            "bin_start": 1988.4094000000005,
            "bin_end": 2483.7169500000005,
            "count": 0
           },
           {
            "bin_start": 2483.7169500000005,
            "bin_end": 2979.024500000001,
            "count": 0
           },
           {
            "bin_start": 2979.024500000001,
            "bin_end": 3474.332050000001,
            "count": 0
           },
           {
            "bin_start": 3474.332050000001,
            "bin_end": 3969.639600000001,
            "count": 0
           },
           {
            "bin_start": 3969.639600000001,
            "bin_end": 4464.947150000001,
            "count": 0
           },
           {
            "bin_start": 4464.947150000001,
            "bin_end": 4960.2547,
            "count": 1
           }
          ]
         }
        },
        {
         "name": "R2",
         "dtype": "float64",
         "stats": {
          "unique_count": 13,
          "nan_count": 0,
          "min": "-15506.2565",
          "max": "0.9899",
          "histogram": [
           {
            "bin_start": -15506.2565,
            "bin_end": -13955.53186,
            "count": 1
           },
           {
            "bin_start": -13955.53186,
            "bin_end": -12404.807219999999,
            "count": 0
           },
           {
            "bin_start": -12404.807219999999,
            "bin_end": -10854.08258,
            "count": 0
           },
           {
            "bin_start": -10854.08258,
            "bin_end": -9303.35794,
            "count": 0
           },
           {
            "bin_start": -9303.35794,
            "bin_end": -7752.6332999999995,
            "count": 0
           },
           {
            "bin_start": -7752.6332999999995,
            "bin_end": -6201.908660000001,
            "count": 0
           },
           {
            "bin_start": -6201.908660000001,
            "bin_end": -4651.184020000001,
            "count": 0
           },
           {
            "bin_start": -4651.184020000001,
            "bin_end": -3100.4593800000002,
            "count": 0
           },
           {
            "bin_start": -3100.4593800000002,
            "bin_end": -1549.7347399999999,
            "count": 0
           },
           {
            "bin_start": -1549.7347399999999,
            "bin_end": 0.9899,
            "count": 12
           }
          ]
         }
        },
        {
         "name": "RMSLE",
         "dtype": "float64",
         "stats": {
          "unique_count": 13,
          "nan_count": 0,
          "min": "0.0483",
          "max": "3.7592",
          "histogram": [
           {
            "bin_start": 0.0483,
            "bin_end": 0.41939000000000004,
            "count": 11
           },
           {
            "bin_start": 0.41939000000000004,
            "bin_end": 0.7904800000000001,
            "count": 1
           },
           {
            "bin_start": 0.7904800000000001,
            "bin_end": 1.16157,
            "count": 0
           },
           {
            "bin_start": 1.16157,
            "bin_end": 1.5326600000000001,
            "count": 0
           },
           {
            "bin_start": 1.5326600000000001,
            "bin_end": 1.9037500000000003,
            "count": 0
           },
           {
            "bin_start": 1.9037500000000003,
            "bin_end": 2.2748399999999998,
            "count": 0
           },
           {
            "bin_start": 2.2748399999999998,
            "bin_end": 2.64593,
            "count": 0
           },
           {
            "bin_start": 2.64593,
            "bin_end": 3.01702,
            "count": 0
           },
           {
            "bin_start": 3.01702,
            "bin_end": 3.38811,
            "count": 0
           },
           {
            "bin_start": 3.38811,
            "bin_end": 3.7592,
            "count": 1
           }
          ]
         }
        },
        {
         "name": "MAPE",
         "dtype": "float64",
         "stats": {
          "unique_count": 13,
          "nan_count": 0,
          "min": "0.029",
          "max": "5.9944",
          "histogram": [
           {
            "bin_start": 0.029,
            "bin_end": 0.62554,
            "count": 11
           },
           {
            "bin_start": 0.62554,
            "bin_end": 1.2220799999999998,
            "count": 1
           },
           {
            "bin_start": 1.2220799999999998,
            "bin_end": 1.8186199999999997,
            "count": 0
           },
           {
            "bin_start": 1.8186199999999997,
            "bin_end": 2.4151599999999998,
            "count": 0
           },
           {
            "bin_start": 2.4151599999999998,
            "bin_end": 3.0117,
            "count": 0
           },
           {
            "bin_start": 3.0117,
            "bin_end": 3.6082399999999994,
            "count": 0
           },
           {
            "bin_start": 3.6082399999999994,
            "bin_end": 4.2047799999999995,
            "count": 0
           },
           {
            "bin_start": 4.2047799999999995,
            "bin_end": 4.80132,
            "count": 0
           },
           {
            "bin_start": 4.80132,
            "bin_end": 5.39786,
            "count": 0
           },
           {
            "bin_start": 5.39786,
            "bin_end": 5.9944,
            "count": 1
           }
          ]
         }
        },
        {
         "name": "TT (Sec)",
         "dtype": "float64",
         "stats": {
          "unique_count": 12,
          "nan_count": 0,
          "min": "0.037",
          "max": "9.524",
          "histogram": [
           {
            "bin_start": 0.037,
            "bin_end": 0.9856999999999999,
            "count": 11
           },
           {
            "bin_start": 0.9856999999999999,
            "bin_end": 1.9343999999999997,
            "count": 0
           },
           {
            "bin_start": 1.9343999999999997,
            "bin_end": 2.8830999999999998,
            "count": 0
           },
           {
            "bin_start": 2.8830999999999998,
            "bin_end": 3.8317999999999994,
            "count": 0
           },
           {
            "bin_start": 3.8317999999999994,
            "bin_end": 4.780499999999999,
            "count": 1
           },
           {
            "bin_start": 4.780499999999999,
            "bin_end": 5.7292,
            "count": 0
           },
           {
            "bin_start": 5.7292,
            "bin_end": 6.677899999999999,
            "count": 0
           },
           {
            "bin_start": 6.677899999999999,
            "bin_end": 7.626599999999999,
            "count": 0
           },
           {
            "bin_start": 7.626599999999999,
            "bin_end": 8.5753,
            "count": 0
           },
           {
            "bin_start": 8.5753,
            "bin_end": 9.524,
            "count": 1
           }
          ]
         }
        },
        {
         "name": "_deepnote_index_column",
         "dtype": "object"
        }
       ],
       "rows_top": [
        {
         "Model": "Orthogonal Matching Pursuit",
         "MAE": 4.4564,
         "MSE": 52.609,
         "RMSE": 7.1792,
         "R2": 0.9899,
         "RMSLE": 0.0515,
         "MAPE": 0.0311,
         "TT (Sec)": 0.037,
         "_deepnote_index_column": "omp"
        },
        {
         "Model": "Extra Trees Regressor",
         "MAE": 4.4023,
         "MSE": 61.8218,
         "RMSE": 7.6919,
         "R2": 0.9882,
         "RMSLE": 0.0483,
         "MAPE": 0.029,
         "TT (Sec)": 4.74,
         "_deepnote_index_column": "et"
        },
        {
         "Model": "Random Forest Regressor",
         "MAE": 4.7846,
         "MSE": 71.0367,
         "RMSE": 8.2485,
         "R2": 0.9863,
         "RMSLE": 0.0527,
         "MAPE": 0.0317,
         "TT (Sec)": 9.524,
         "_deepnote_index_column": "rf"
        },
        {
         "Model": "Decision Tree Regressor",
         "MAE": 7.515,
         "MSE": 149.1684,
         "RMSE": 12.0967,
         "R2": 0.9715,
         "RMSLE": 0.0753,
         "MAPE": 0.0487,
         "TT (Sec)": 0.183,
         "_deepnote_index_column": "dt"
        },
        {
         "Model": "K Neighbors Regressor",
         "MAE": 7.7582,
         "MSE": 160.3944,
         "RMSE": 12.5516,
         "R2": 0.9691,
         "RMSLE": 0.0847,
         "MAPE": 0.0526,
         "TT (Sec)": 0.138,
         "_deepnote_index_column": "knn"
        },
        {
         "Model": "Ridge Regression",
         "MAE": 4.9195,
         "MSE": 226.2628,
         "RMSE": 12.3698,
         "R2": 0.9586,
         "RMSLE": 0.0608,
         "MAPE": 0.0342,
         "TT (Sec)": 0.038,
         "_deepnote_index_column": "ridge"
        },
        {
         "Model": "Bayesian Ridge",
         "MAE": 4.8931,
         "MSE": 305.1098,
         "RMSE": 13.3677,
         "R2": 0.9445,
         "RMSLE": 0.0619,
         "MAPE": 0.0338,
         "TT (Sec)": 0.158,
         "_deepnote_index_column": "br"
        },
        {
         "Model": "Elastic Net",
         "MAE": 5.5975,
         "MSE": 1061.075,
         "RMSE": 17.579,
         "R2": 0.8118,
         "RMSLE": 0.0827,
         "MAPE": 0.0388,
         "TT (Sec)": 0.139,
         "_deepnote_index_column": "en"
        },
        {
         "Model": "Lasso Regression",
         "MAE": 5.6966,
         "MSE": 1131.4343,
         "RMSE": 18.2734,
         "R2": 0.7994,
         "RMSLE": 0.0919,
         "MAPE": 0.0394,
         "TT (Sec)": 0.138,
         "_deepnote_index_column": "lasso"
        },
        {
         "Model": "Lasso Least Angle Regression",
         "MAE": 42.2261,
         "MSE": 2468.5781,
         "RMSE": 49.6429,
         "R2": 0.5281,
         "RMSLE": 0.3322,
         "MAPE": 0.3175,
         "TT (Sec)": 0.426,
         "_deepnote_index_column": "llar"
        },
        {
         "Model": "Linear Regression",
         "MAE": 29.6335,
         "MSE": 39772.0133,
         "RMSE": 90.1037,
         "R2": -6.0346,
         "RMSLE": 0.2339,
         "MAPE": 0.2207,
         "TT (Sec)": 0.619,
         "_deepnote_index_column": "lr"
        },
        {
         "Model": "Huber Regressor",
         "MAE": 183.1916,
         "MSE": 5615766.9449,
         "RMSE": 885.0512,
         "R2": -990.5484,
         "RMSLE": 3.7592,
         "MAPE": 1.1287,
         "TT (Sec)": 0.167,
         "_deepnote_index_column": "huber"
        },
        {
         "Model": "Passive Aggressive Regressor",
         "MAE": 592.7509,
         "MSE": 76153462.9739,
         "RMSE": 4960.2547,
         "R2": -15506.2565,
         "RMSLE": 0.7474,
         "MAPE": 5.9944,
         "TT (Sec)": 0.058,
         "_deepnote_index_column": "par"
        }
       ],
       "rows_bottom": null
      },
      "text/plain": "                              Model       MAE           MSE       RMSE  \\\nomp     Orthogonal Matching Pursuit    4.4564  5.260900e+01     7.1792   \net            Extra Trees Regressor    4.4023  6.182180e+01     7.6919   \nrf          Random Forest Regressor    4.7846  7.103670e+01     8.2485   \ndt          Decision Tree Regressor    7.5150  1.491684e+02    12.0967   \nknn           K Neighbors Regressor    7.7582  1.603944e+02    12.5516   \nridge              Ridge Regression    4.9195  2.262628e+02    12.3698   \nbr                   Bayesian Ridge    4.8931  3.051098e+02    13.3677   \nen                      Elastic Net    5.5975  1.061075e+03    17.5790   \nlasso              Lasso Regression    5.6966  1.131434e+03    18.2734   \nllar   Lasso Least Angle Regression   42.2261  2.468578e+03    49.6429   \nlr                Linear Regression   29.6335  3.977201e+04    90.1037   \nhuber               Huber Regressor  183.1916  5.615767e+06   885.0512   \npar    Passive Aggressive Regressor  592.7509  7.615346e+07  4960.2547   \n\n               R2   RMSLE    MAPE  TT (Sec)  \nomp        0.9899  0.0515  0.0311     0.037  \net         0.9882  0.0483  0.0290     4.740  \nrf         0.9863  0.0527  0.0317     9.524  \ndt         0.9715  0.0753  0.0487     0.183  \nknn        0.9691  0.0847  0.0526     0.138  \nridge      0.9586  0.0608  0.0342     0.038  \nbr         0.9445  0.0619  0.0338     0.158  \nen         0.8118  0.0827  0.0388     0.139  \nlasso      0.7994  0.0919  0.0394     0.138  \nllar       0.5281  0.3322  0.3175     0.426  \nlr        -6.0346  0.2339  0.2207     0.619  \nhuber   -990.5484  3.7592  1.1287     0.167  \npar   -15506.2565  0.7474  5.9944     0.058  ",
      "text/html": "<div>\n<style scoped>\n    .dataframe tbody tr th:only-of-type {\n        vertical-align: middle;\n    }\n\n    .dataframe tbody tr th {\n        vertical-align: top;\n    }\n\n    .dataframe thead th {\n        text-align: right;\n    }\n</style>\n<table border=\"1\" class=\"dataframe\">\n  <thead>\n    <tr style=\"text-align: right;\">\n      <th></th>\n      <th>Model</th>\n      <th>MAE</th>\n      <th>MSE</th>\n      <th>RMSE</th>\n      <th>R2</th>\n      <th>RMSLE</th>\n      <th>MAPE</th>\n      <th>TT (Sec)</th>\n    </tr>\n  </thead>\n  <tbody>\n    <tr>\n      <th>omp</th>\n      <td>Orthogonal Matching Pursuit</td>\n      <td>4.4564</td>\n      <td>5.260900e+01</td>\n      <td>7.1792</td>\n      <td>0.9899</td>\n      <td>0.0515</td>\n      <td>0.0311</td>\n      <td>0.037</td>\n    </tr>\n    <tr>\n      <th>et</th>\n      <td>Extra Trees Regressor</td>\n      <td>4.4023</td>\n      <td>6.182180e+01</td>\n      <td>7.6919</td>\n      <td>0.9882</td>\n      <td>0.0483</td>\n      <td>0.0290</td>\n      <td>4.740</td>\n    </tr>\n    <tr>\n      <th>rf</th>\n      <td>Random Forest Regressor</td>\n      <td>4.7846</td>\n      <td>7.103670e+01</td>\n      <td>8.2485</td>\n      <td>0.9863</td>\n      <td>0.0527</td>\n      <td>0.0317</td>\n      <td>9.524</td>\n    </tr>\n    <tr>\n      <th>dt</th>\n      <td>Decision Tree Regressor</td>\n      <td>7.5150</td>\n      <td>1.491684e+02</td>\n      <td>12.0967</td>\n      <td>0.9715</td>\n      <td>0.0753</td>\n      <td>0.0487</td>\n      <td>0.183</td>\n    </tr>\n    <tr>\n      <th>knn</th>\n      <td>K Neighbors Regressor</td>\n      <td>7.7582</td>\n      <td>1.603944e+02</td>\n      <td>12.5516</td>\n      <td>0.9691</td>\n      <td>0.0847</td>\n      <td>0.0526</td>\n      <td>0.138</td>\n    </tr>\n    <tr>\n      <th>ridge</th>\n      <td>Ridge Regression</td>\n      <td>4.9195</td>\n      <td>2.262628e+02</td>\n      <td>12.3698</td>\n      <td>0.9586</td>\n      <td>0.0608</td>\n      <td>0.0342</td>\n      <td>0.038</td>\n    </tr>\n    <tr>\n      <th>br</th>\n      <td>Bayesian Ridge</td>\n      <td>4.8931</td>\n      <td>3.051098e+02</td>\n      <td>13.3677</td>\n      <td>0.9445</td>\n      <td>0.0619</td>\n      <td>0.0338</td>\n      <td>0.158</td>\n    </tr>\n    <tr>\n      <th>en</th>\n      <td>Elastic Net</td>\n      <td>5.5975</td>\n      <td>1.061075e+03</td>\n      <td>17.5790</td>\n      <td>0.8118</td>\n      <td>0.0827</td>\n      <td>0.0388</td>\n      <td>0.139</td>\n    </tr>\n    <tr>\n      <th>lasso</th>\n      <td>Lasso Regression</td>\n      <td>5.6966</td>\n      <td>1.131434e+03</td>\n      <td>18.2734</td>\n      <td>0.7994</td>\n      <td>0.0919</td>\n      <td>0.0394</td>\n      <td>0.138</td>\n    </tr>\n    <tr>\n      <th>llar</th>\n      <td>Lasso Least Angle Regression</td>\n      <td>42.2261</td>\n      <td>2.468578e+03</td>\n      <td>49.6429</td>\n      <td>0.5281</td>\n      <td>0.3322</td>\n      <td>0.3175</td>\n      <td>0.426</td>\n    </tr>\n    <tr>\n      <th>lr</th>\n      <td>Linear Regression</td>\n      <td>29.6335</td>\n      <td>3.977201e+04</td>\n      <td>90.1037</td>\n      <td>-6.0346</td>\n      <td>0.2339</td>\n      <td>0.2207</td>\n      <td>0.619</td>\n    </tr>\n    <tr>\n      <th>huber</th>\n      <td>Huber Regressor</td>\n      <td>183.1916</td>\n      <td>5.615767e+06</td>\n      <td>885.0512</td>\n      <td>-990.5484</td>\n      <td>3.7592</td>\n      <td>1.1287</td>\n      <td>0.167</td>\n    </tr>\n    <tr>\n      <th>par</th>\n      <td>Passive Aggressive Regressor</td>\n      <td>592.7509</td>\n      <td>7.615346e+07</td>\n      <td>4960.2547</td>\n      <td>-15506.2565</td>\n      <td>0.7474</td>\n      <td>5.9944</td>\n      <td>0.058</td>\n    </tr>\n  </tbody>\n</table>\n</div>"
     },
     "metadata": {},
     "output_type": "display_data"
    },
    {
     "data": {
      "application/vnd.deepnote.dataframe.v2+json": {
       "row_count": 14,
       "column_count": 8,
       "columns": [
        {
         "name": "Model",
         "dtype": "object",
         "stats": {
          "unique_count": 14,
          "nan_count": 0,
          "categories": [
           {
            "name": "Orthogonal Matching Pursuit",
            "count": 1
           },
           {
            "name": "Extra Trees Regressor",
            "count": 1
           },
           {
            "name": "12 others",
            "count": 12
           }
          ]
         }
        },
        {
         "name": "MAE",
         "dtype": "float64",
         "stats": {
          "unique_count": 14,
          "nan_count": 0,
          "min": "4.4023",
          "max": "592.7509",
          "histogram": [
           {
            "bin_start": 4.4023,
            "bin_end": 63.23716,
            "count": 12
           },
           {
            "bin_start": 63.23716,
            "bin_end": 122.07202000000001,
            "count": 0
           },
           {
            "bin_start": 122.07202000000001,
            "bin_end": 180.90688000000003,
            "count": 0
           },
           {
            "bin_start": 180.90688000000003,
            "bin_end": 239.74174000000002,
            "count": 1
           },
           {
            "bin_start": 239.74174000000002,
            "bin_end": 298.57660000000004,
            "count": 0
           },
           {
            "bin_start": 298.57660000000004,
            "bin_end": 357.4114600000001,
            "count": 0
           },
           {
            "bin_start": 357.4114600000001,
            "bin_end": 416.2463200000001,
            "count": 0
           },
           {
            "bin_start": 416.2463200000001,
            "bin_end": 475.0811800000001,
            "count": 0
           },
           {
            "bin_start": 475.0811800000001,
            "bin_end": 533.9160400000001,
            "count": 0
           },
           {
            "bin_start": 533.9160400000001,
            "bin_end": 592.7509,
            "count": 1
           }
          ]
         }
        },
        {
         "name": "MSE",
         "dtype": "float64",
         "stats": {
          "unique_count": 14,
          "nan_count": 0,
          "min": "52.609",
          "max": "76153462.9739",
          "histogram": [
           {
            "bin_start": 52.609,
            "bin_end": 7615393.645490001,
            "count": 13
           },
           {
            "bin_start": 7615393.645490001,
            "bin_end": 15230734.68198,
            "count": 0
           },
           {
            "bin_start": 15230734.68198,
            "bin_end": 22846075.718470003,
            "count": 0
           },
           {
            "bin_start": 22846075.718470003,
            "bin_end": 30461416.754960004,
            "count": 0
           },
           {
            "bin_start": 30461416.754960004,
            "bin_end": 38076757.79145,
            "count": 0
           },
           {
            "bin_start": 38076757.79145,
            "bin_end": 45692098.82794,
            "count": 0
           },
           {
            "bin_start": 45692098.82794,
            "bin_end": 53307439.86443,
            "count": 0
           },
           {
            "bin_start": 53307439.86443,
            "bin_end": 60922780.90092,
            "count": 0
           },
           {
            "bin_start": 60922780.90092,
            "bin_end": 68538121.93741,
            "count": 0
           },
           {
            "bin_start": 68538121.93741,
            "bin_end": 76153462.9739,
            "count": 1
           }
          ]
         }
        },
        {
         "name": "RMSE",
         "dtype": "float64",
         "stats": {
          "unique_count": 14,
          "nan_count": 0,
          "min": "7.1792",
          "max": "4960.2547",
          "histogram": [
           {
            "bin_start": 7.1792,
            "bin_end": 502.4867500000001,
            "count": 12
           },
           {
            "bin_start": 502.4867500000001,
            "bin_end": 997.7943000000002,
            "count": 1
           },
           {
            "bin_start": 997.7943000000002,
            "bin_end": 1493.1018500000005,
            "count": 0
           },
           {
            "bin_start": 1493.1018500000005,
            "bin_end": 1988.4094000000005,
            "count": 0
           },
           {
            "bin_start": 1988.4094000000005,
            "bin_end": 2483.7169500000005,
            "count": 0
           },
           {
            "bin_start": 2483.7169500000005,
            "bin_end": 2979.024500000001,
            "count": 0
           },
           {
            "bin_start": 2979.024500000001,
            "bin_end": 3474.332050000001,
            "count": 0
           },
           {
            "bin_start": 3474.332050000001,
            "bin_end": 3969.639600000001,
            "count": 0
           },
           {
            "bin_start": 3969.639600000001,
            "bin_end": 4464.947150000001,
            "count": 0
           },
           {
            "bin_start": 4464.947150000001,
            "bin_end": 4960.2547,
            "count": 1
           }
          ]
         }
        },
        {
         "name": "R2",
         "dtype": "float64",
         "stats": {
          "unique_count": 14,
          "nan_count": 0,
          "min": "-15506.2565",
          "max": "0.9899",
          "histogram": [
           {
            "bin_start": -15506.2565,
            "bin_end": -13955.53186,
            "count": 1
           },
           {
            "bin_start": -13955.53186,
            "bin_end": -12404.807219999999,
            "count": 0
           },
           {
            "bin_start": -12404.807219999999,
            "bin_end": -10854.08258,
            "count": 0
           },
           {
            "bin_start": -10854.08258,
            "bin_end": -9303.35794,
            "count": 0
           },
           {
            "bin_start": -9303.35794,
            "bin_end": -7752.6332999999995,
            "count": 0
           },
           {
            "bin_start": -7752.6332999999995,
            "bin_end": -6201.908660000001,
            "count": 0
           },
           {
            "bin_start": -6201.908660000001,
            "bin_end": -4651.184020000001,
            "count": 0
           },
           {
            "bin_start": -4651.184020000001,
            "bin_end": -3100.4593800000002,
            "count": 0
           },
           {
            "bin_start": -3100.4593800000002,
            "bin_end": -1549.7347399999999,
            "count": 0
           },
           {
            "bin_start": -1549.7347399999999,
            "bin_end": 0.9899,
            "count": 13
           }
          ]
         }
        },
        {
         "name": "RMSLE",
         "dtype": "float64",
         "stats": {
          "unique_count": 14,
          "nan_count": 0,
          "min": "0.0483",
          "max": "3.7592",
          "histogram": [
           {
            "bin_start": 0.0483,
            "bin_end": 0.41939000000000004,
            "count": 12
           },
           {
            "bin_start": 0.41939000000000004,
            "bin_end": 0.7904800000000001,
            "count": 1
           },
           {
            "bin_start": 0.7904800000000001,
            "bin_end": 1.16157,
            "count": 0
           },
           {
            "bin_start": 1.16157,
            "bin_end": 1.5326600000000001,
            "count": 0
           },
           {
            "bin_start": 1.5326600000000001,
            "bin_end": 1.9037500000000003,
            "count": 0
           },
           {
            "bin_start": 1.9037500000000003,
            "bin_end": 2.2748399999999998,
            "count": 0
           },
           {
            "bin_start": 2.2748399999999998,
            "bin_end": 2.64593,
            "count": 0
           },
           {
            "bin_start": 2.64593,
            "bin_end": 3.01702,
            "count": 0
           },
           {
            "bin_start": 3.01702,
            "bin_end": 3.38811,
            "count": 0
           },
           {
            "bin_start": 3.38811,
            "bin_end": 3.7592,
            "count": 1
           }
          ]
         }
        },
        {
         "name": "MAPE",
         "dtype": "float64",
         "stats": {
          "unique_count": 14,
          "nan_count": 0,
          "min": "0.029",
          "max": "5.9944",
          "histogram": [
           {
            "bin_start": 0.029,
            "bin_end": 0.62554,
            "count": 12
           },
           {
            "bin_start": 0.62554,
            "bin_end": 1.2220799999999998,
            "count": 1
           },
           {
            "bin_start": 1.2220799999999998,
            "bin_end": 1.8186199999999997,
            "count": 0
           },
           {
            "bin_start": 1.8186199999999997,
            "bin_end": 2.4151599999999998,
            "count": 0
           },
           {
            "bin_start": 2.4151599999999998,
            "bin_end": 3.0117,
            "count": 0
           },
           {
            "bin_start": 3.0117,
            "bin_end": 3.6082399999999994,
            "count": 0
           },
           {
            "bin_start": 3.6082399999999994,
            "bin_end": 4.2047799999999995,
            "count": 0
           },
           {
            "bin_start": 4.2047799999999995,
            "bin_end": 4.80132,
            "count": 0
           },
           {
            "bin_start": 4.80132,
            "bin_end": 5.39786,
            "count": 0
           },
           {
            "bin_start": 5.39786,
            "bin_end": 5.9944,
            "count": 1
           }
          ]
         }
        },
        {
         "name": "TT (Sec)",
         "dtype": "float64",
         "stats": {
          "unique_count": 13,
          "nan_count": 0,
          "min": "0.037",
          "max": "9.524",
          "histogram": [
           {
            "bin_start": 0.037,
            "bin_end": 0.9856999999999999,
            "count": 11
           },
           {
            "bin_start": 0.9856999999999999,
            "bin_end": 1.9343999999999997,
            "count": 1
           },
           {
            "bin_start": 1.9343999999999997,
            "bin_end": 2.8830999999999998,
            "count": 0
           },
           {
            "bin_start": 2.8830999999999998,
            "bin_end": 3.8317999999999994,
            "count": 0
           },
           {
            "bin_start": 3.8317999999999994,
            "bin_end": 4.780499999999999,
            "count": 1
           },
           {
            "bin_start": 4.780499999999999,
            "bin_end": 5.7292,
            "count": 0
           },
           {
            "bin_start": 5.7292,
            "bin_end": 6.677899999999999,
            "count": 0
           },
           {
            "bin_start": 6.677899999999999,
            "bin_end": 7.626599999999999,
            "count": 0
           },
           {
            "bin_start": 7.626599999999999,
            "bin_end": 8.5753,
            "count": 0
           },
           {
            "bin_start": 8.5753,
            "bin_end": 9.524,
            "count": 1
           }
          ]
         }
        },
        {
         "name": "_deepnote_index_column",
         "dtype": "object"
        }
       ],
       "rows_top": [
        {
         "Model": "Orthogonal Matching Pursuit",
         "MAE": 4.4564,
         "MSE": 52.609,
         "RMSE": 7.1792,
         "R2": 0.9899,
         "RMSLE": 0.0515,
         "MAPE": 0.0311,
         "TT (Sec)": 0.037,
         "_deepnote_index_column": "omp"
        },
        {
         "Model": "Extra Trees Regressor",
         "MAE": 4.4023,
         "MSE": 61.8218,
         "RMSE": 7.6919,
         "R2": 0.9882,
         "RMSLE": 0.0483,
         "MAPE": 0.029,
         "TT (Sec)": 4.74,
         "_deepnote_index_column": "et"
        },
        {
         "Model": "Random Forest Regressor",
         "MAE": 4.7846,
         "MSE": 71.0367,
         "RMSE": 8.2485,
         "R2": 0.9863,
         "RMSLE": 0.0527,
         "MAPE": 0.0317,
         "TT (Sec)": 9.524,
         "_deepnote_index_column": "rf"
        },
        {
         "Model": "Decision Tree Regressor",
         "MAE": 7.515,
         "MSE": 149.1684,
         "RMSE": 12.0967,
         "R2": 0.9715,
         "RMSLE": 0.0753,
         "MAPE": 0.0487,
         "TT (Sec)": 0.183,
         "_deepnote_index_column": "dt"
        },
        {
         "Model": "K Neighbors Regressor",
         "MAE": 7.7582,
         "MSE": 160.3944,
         "RMSE": 12.5516,
         "R2": 0.9691,
         "RMSLE": 0.0847,
         "MAPE": 0.0526,
         "TT (Sec)": 0.138,
         "_deepnote_index_column": "knn"
        },
        {
         "Model": "AdaBoost Regressor",
         "MAE": 9.8907,
         "MSE": 177.3597,
         "RMSE": 13.2524,
         "R2": 0.966,
         "RMSLE": 0.0985,
         "MAPE": 0.073,
         "TT (Sec)": 1.681,
         "_deepnote_index_column": "ada"
        },
        {
         "Model": "Ridge Regression",
         "MAE": 4.9195,
         "MSE": 226.2628,
         "RMSE": 12.3698,
         "R2": 0.9586,
         "RMSLE": 0.0608,
         "MAPE": 0.0342,
         "TT (Sec)": 0.038,
         "_deepnote_index_column": "ridge"
        },
        {
         "Model": "Bayesian Ridge",
         "MAE": 4.8931,
         "MSE": 305.1098,
         "RMSE": 13.3677,
         "R2": 0.9445,
         "RMSLE": 0.0619,
         "MAPE": 0.0338,
         "TT (Sec)": 0.158,
         "_deepnote_index_column": "br"
        },
        {
         "Model": "Elastic Net",
         "MAE": 5.5975,
         "MSE": 1061.075,
         "RMSE": 17.579,
         "R2": 0.8118,
         "RMSLE": 0.0827,
         "MAPE": 0.0388,
         "TT (Sec)": 0.139,
         "_deepnote_index_column": "en"
        },
        {
         "Model": "Lasso Regression",
         "MAE": 5.6966,
         "MSE": 1131.4343,
         "RMSE": 18.2734,
         "R2": 0.7994,
         "RMSLE": 0.0919,
         "MAPE": 0.0394,
         "TT (Sec)": 0.138,
         "_deepnote_index_column": "lasso"
        },
        {
         "Model": "Lasso Least Angle Regression",
         "MAE": 42.2261,
         "MSE": 2468.5781,
         "RMSE": 49.6429,
         "R2": 0.5281,
         "RMSLE": 0.3322,
         "MAPE": 0.3175,
         "TT (Sec)": 0.426,
         "_deepnote_index_column": "llar"
        },
        {
         "Model": "Linear Regression",
         "MAE": 29.6335,
         "MSE": 39772.0133,
         "RMSE": 90.1037,
         "R2": -6.0346,
         "RMSLE": 0.2339,
         "MAPE": 0.2207,
         "TT (Sec)": 0.619,
         "_deepnote_index_column": "lr"
        },
        {
         "Model": "Huber Regressor",
         "MAE": 183.1916,
         "MSE": 5615766.9449,
         "RMSE": 885.0512,
         "R2": -990.5484,
         "RMSLE": 3.7592,
         "MAPE": 1.1287,
         "TT (Sec)": 0.167,
         "_deepnote_index_column": "huber"
        },
        {
         "Model": "Passive Aggressive Regressor",
         "MAE": 592.7509,
         "MSE": 76153462.9739,
         "RMSE": 4960.2547,
         "R2": -15506.2565,
         "RMSLE": 0.7474,
         "MAPE": 5.9944,
         "TT (Sec)": 0.058,
         "_deepnote_index_column": "par"
        }
       ],
       "rows_bottom": null
      },
      "text/plain": "                              Model       MAE           MSE       RMSE  \\\nomp     Orthogonal Matching Pursuit    4.4564  5.260900e+01     7.1792   \net            Extra Trees Regressor    4.4023  6.182180e+01     7.6919   \nrf          Random Forest Regressor    4.7846  7.103670e+01     8.2485   \ndt          Decision Tree Regressor    7.5150  1.491684e+02    12.0967   \nknn           K Neighbors Regressor    7.7582  1.603944e+02    12.5516   \nada              AdaBoost Regressor    9.8907  1.773597e+02    13.2524   \nridge              Ridge Regression    4.9195  2.262628e+02    12.3698   \nbr                   Bayesian Ridge    4.8931  3.051098e+02    13.3677   \nen                      Elastic Net    5.5975  1.061075e+03    17.5790   \nlasso              Lasso Regression    5.6966  1.131434e+03    18.2734   \nllar   Lasso Least Angle Regression   42.2261  2.468578e+03    49.6429   \nlr                Linear Regression   29.6335  3.977201e+04    90.1037   \nhuber               Huber Regressor  183.1916  5.615767e+06   885.0512   \npar    Passive Aggressive Regressor  592.7509  7.615346e+07  4960.2547   \n\n               R2   RMSLE    MAPE  TT (Sec)  \nomp        0.9899  0.0515  0.0311     0.037  \net         0.9882  0.0483  0.0290     4.740  \nrf         0.9863  0.0527  0.0317     9.524  \ndt         0.9715  0.0753  0.0487     0.183  \nknn        0.9691  0.0847  0.0526     0.138  \nada        0.9660  0.0985  0.0730     1.681  \nridge      0.9586  0.0608  0.0342     0.038  \nbr         0.9445  0.0619  0.0338     0.158  \nen         0.8118  0.0827  0.0388     0.139  \nlasso      0.7994  0.0919  0.0394     0.138  \nllar       0.5281  0.3322  0.3175     0.426  \nlr        -6.0346  0.2339  0.2207     0.619  \nhuber   -990.5484  3.7592  1.1287     0.167  \npar   -15506.2565  0.7474  5.9944     0.058  ",
      "text/html": "<div>\n<style scoped>\n    .dataframe tbody tr th:only-of-type {\n        vertical-align: middle;\n    }\n\n    .dataframe tbody tr th {\n        vertical-align: top;\n    }\n\n    .dataframe thead th {\n        text-align: right;\n    }\n</style>\n<table border=\"1\" class=\"dataframe\">\n  <thead>\n    <tr style=\"text-align: right;\">\n      <th></th>\n      <th>Model</th>\n      <th>MAE</th>\n      <th>MSE</th>\n      <th>RMSE</th>\n      <th>R2</th>\n      <th>RMSLE</th>\n      <th>MAPE</th>\n      <th>TT (Sec)</th>\n    </tr>\n  </thead>\n  <tbody>\n    <tr>\n      <th>omp</th>\n      <td>Orthogonal Matching Pursuit</td>\n      <td>4.4564</td>\n      <td>5.260900e+01</td>\n      <td>7.1792</td>\n      <td>0.9899</td>\n      <td>0.0515</td>\n      <td>0.0311</td>\n      <td>0.037</td>\n    </tr>\n    <tr>\n      <th>et</th>\n      <td>Extra Trees Regressor</td>\n      <td>4.4023</td>\n      <td>6.182180e+01</td>\n      <td>7.6919</td>\n      <td>0.9882</td>\n      <td>0.0483</td>\n      <td>0.0290</td>\n      <td>4.740</td>\n    </tr>\n    <tr>\n      <th>rf</th>\n      <td>Random Forest Regressor</td>\n      <td>4.7846</td>\n      <td>7.103670e+01</td>\n      <td>8.2485</td>\n      <td>0.9863</td>\n      <td>0.0527</td>\n      <td>0.0317</td>\n      <td>9.524</td>\n    </tr>\n    <tr>\n      <th>dt</th>\n      <td>Decision Tree Regressor</td>\n      <td>7.5150</td>\n      <td>1.491684e+02</td>\n      <td>12.0967</td>\n      <td>0.9715</td>\n      <td>0.0753</td>\n      <td>0.0487</td>\n      <td>0.183</td>\n    </tr>\n    <tr>\n      <th>knn</th>\n      <td>K Neighbors Regressor</td>\n      <td>7.7582</td>\n      <td>1.603944e+02</td>\n      <td>12.5516</td>\n      <td>0.9691</td>\n      <td>0.0847</td>\n      <td>0.0526</td>\n      <td>0.138</td>\n    </tr>\n    <tr>\n      <th>ada</th>\n      <td>AdaBoost Regressor</td>\n      <td>9.8907</td>\n      <td>1.773597e+02</td>\n      <td>13.2524</td>\n      <td>0.9660</td>\n      <td>0.0985</td>\n      <td>0.0730</td>\n      <td>1.681</td>\n    </tr>\n    <tr>\n      <th>ridge</th>\n      <td>Ridge Regression</td>\n      <td>4.9195</td>\n      <td>2.262628e+02</td>\n      <td>12.3698</td>\n      <td>0.9586</td>\n      <td>0.0608</td>\n      <td>0.0342</td>\n      <td>0.038</td>\n    </tr>\n    <tr>\n      <th>br</th>\n      <td>Bayesian Ridge</td>\n      <td>4.8931</td>\n      <td>3.051098e+02</td>\n      <td>13.3677</td>\n      <td>0.9445</td>\n      <td>0.0619</td>\n      <td>0.0338</td>\n      <td>0.158</td>\n    </tr>\n    <tr>\n      <th>en</th>\n      <td>Elastic Net</td>\n      <td>5.5975</td>\n      <td>1.061075e+03</td>\n      <td>17.5790</td>\n      <td>0.8118</td>\n      <td>0.0827</td>\n      <td>0.0388</td>\n      <td>0.139</td>\n    </tr>\n    <tr>\n      <th>lasso</th>\n      <td>Lasso Regression</td>\n      <td>5.6966</td>\n      <td>1.131434e+03</td>\n      <td>18.2734</td>\n      <td>0.7994</td>\n      <td>0.0919</td>\n      <td>0.0394</td>\n      <td>0.138</td>\n    </tr>\n    <tr>\n      <th>llar</th>\n      <td>Lasso Least Angle Regression</td>\n      <td>42.2261</td>\n      <td>2.468578e+03</td>\n      <td>49.6429</td>\n      <td>0.5281</td>\n      <td>0.3322</td>\n      <td>0.3175</td>\n      <td>0.426</td>\n    </tr>\n    <tr>\n      <th>lr</th>\n      <td>Linear Regression</td>\n      <td>29.6335</td>\n      <td>3.977201e+04</td>\n      <td>90.1037</td>\n      <td>-6.0346</td>\n      <td>0.2339</td>\n      <td>0.2207</td>\n      <td>0.619</td>\n    </tr>\n    <tr>\n      <th>huber</th>\n      <td>Huber Regressor</td>\n      <td>183.1916</td>\n      <td>5.615767e+06</td>\n      <td>885.0512</td>\n      <td>-990.5484</td>\n      <td>3.7592</td>\n      <td>1.1287</td>\n      <td>0.167</td>\n    </tr>\n    <tr>\n      <th>par</th>\n      <td>Passive Aggressive Regressor</td>\n      <td>592.7509</td>\n      <td>7.615346e+07</td>\n      <td>4960.2547</td>\n      <td>-15506.2565</td>\n      <td>0.7474</td>\n      <td>5.9944</td>\n      <td>0.058</td>\n    </tr>\n  </tbody>\n</table>\n</div>"
     },
     "metadata": {},
     "output_type": "display_data"
    },
    {
     "data": {
      "application/vnd.deepnote.dataframe.v2+json": {
       "row_count": 15,
       "column_count": 8,
       "columns": [
        {
         "name": "Model",
         "dtype": "object",
         "stats": {
          "unique_count": 15,
          "nan_count": 0,
          "categories": [
           {
            "name": "Orthogonal Matching Pursuit",
            "count": 1
           },
           {
            "name": "Gradient Boosting Regressor",
            "count": 1
           },
           {
            "name": "13 others",
            "count": 13
           }
          ]
         }
        },
        {
         "name": "MAE",
         "dtype": "float64",
         "stats": {
          "unique_count": 15,
          "nan_count": 0,
          "min": "4.4023",
          "max": "592.7509",
          "histogram": [
           {
            "bin_start": 4.4023,
            "bin_end": 63.23716,
            "count": 13
           },
           {
            "bin_start": 63.23716,
            "bin_end": 122.07202000000001,
            "count": 0
           },
           {
            "bin_start": 122.07202000000001,
            "bin_end": 180.90688000000003,
            "count": 0
           },
           {
            "bin_start": 180.90688000000003,
            "bin_end": 239.74174000000002,
            "count": 1
           },
           {
            "bin_start": 239.74174000000002,
            "bin_end": 298.57660000000004,
            "count": 0
           },
           {
            "bin_start": 298.57660000000004,
            "bin_end": 357.4114600000001,
            "count": 0
           },
           {
            "bin_start": 357.4114600000001,
            "bin_end": 416.2463200000001,
            "count": 0
           },
           {
            "bin_start": 416.2463200000001,
            "bin_end": 475.0811800000001,
            "count": 0
           },
           {
            "bin_start": 475.0811800000001,
            "bin_end": 533.9160400000001,
            "count": 0
           },
           {
            "bin_start": 533.9160400000001,
            "bin_end": 592.7509,
            "count": 1
           }
          ]
         }
        },
        {
         "name": "MSE",
         "dtype": "float64",
         "stats": {
          "unique_count": 15,
          "nan_count": 0,
          "min": "52.609",
          "max": "76153462.9739",
          "histogram": [
           {
            "bin_start": 52.609,
            "bin_end": 7615393.645490001,
            "count": 14
           },
           {
            "bin_start": 7615393.645490001,
            "bin_end": 15230734.68198,
            "count": 0
           },
           {
            "bin_start": 15230734.68198,
            "bin_end": 22846075.718470003,
            "count": 0
           },
           {
            "bin_start": 22846075.718470003,
            "bin_end": 30461416.754960004,
            "count": 0
           },
           {
            "bin_start": 30461416.754960004,
            "bin_end": 38076757.79145,
            "count": 0
           },
           {
            "bin_start": 38076757.79145,
            "bin_end": 45692098.82794,
            "count": 0
           },
           {
            "bin_start": 45692098.82794,
            "bin_end": 53307439.86443,
            "count": 0
           },
           {
            "bin_start": 53307439.86443,
            "bin_end": 60922780.90092,
            "count": 0
           },
           {
            "bin_start": 60922780.90092,
            "bin_end": 68538121.93741,
            "count": 0
           },
           {
            "bin_start": 68538121.93741,
            "bin_end": 76153462.9739,
            "count": 1
           }
          ]
         }
        },
        {
         "name": "RMSE",
         "dtype": "float64",
         "stats": {
          "unique_count": 15,
          "nan_count": 0,
          "min": "7.1792",
          "max": "4960.2547",
          "histogram": [
           {
            "bin_start": 7.1792,
            "bin_end": 502.4867500000001,
            "count": 13
           },
           {
            "bin_start": 502.4867500000001,
            "bin_end": 997.7943000000002,
            "count": 1
           },
           {
            "bin_start": 997.7943000000002,
            "bin_end": 1493.1018500000005,
            "count": 0
           },
           {
            "bin_start": 1493.1018500000005,
            "bin_end": 1988.4094000000005,
            "count": 0
           },
           {
            "bin_start": 1988.4094000000005,
            "bin_end": 2483.7169500000005,
            "count": 0
           },
           {
            "bin_start": 2483.7169500000005,
            "bin_end": 2979.024500000001,
            "count": 0
           },
           {
            "bin_start": 2979.024500000001,
            "bin_end": 3474.332050000001,
            "count": 0
           },
           {
            "bin_start": 3474.332050000001,
            "bin_end": 3969.639600000001,
            "count": 0
           },
           {
            "bin_start": 3969.639600000001,
            "bin_end": 4464.947150000001,
            "count": 0
           },
           {
            "bin_start": 4464.947150000001,
            "bin_end": 4960.2547,
            "count": 1
           }
          ]
         }
        },
        {
         "name": "R2",
         "dtype": "float64",
         "stats": {
          "unique_count": 15,
          "nan_count": 0,
          "min": "-15506.2565",
          "max": "0.9899",
          "histogram": [
           {
            "bin_start": -15506.2565,
            "bin_end": -13955.53186,
            "count": 1
           },
           {
            "bin_start": -13955.53186,
            "bin_end": -12404.807219999999,
            "count": 0
           },
           {
            "bin_start": -12404.807219999999,
            "bin_end": -10854.08258,
            "count": 0
           },
           {
            "bin_start": -10854.08258,
            "bin_end": -9303.35794,
            "count": 0
           },
           {
            "bin_start": -9303.35794,
            "bin_end": -7752.6332999999995,
            "count": 0
           },
           {
            "bin_start": -7752.6332999999995,
            "bin_end": -6201.908660000001,
            "count": 0
           },
           {
            "bin_start": -6201.908660000001,
            "bin_end": -4651.184020000001,
            "count": 0
           },
           {
            "bin_start": -4651.184020000001,
            "bin_end": -3100.4593800000002,
            "count": 0
           },
           {
            "bin_start": -3100.4593800000002,
            "bin_end": -1549.7347399999999,
            "count": 0
           },
           {
            "bin_start": -1549.7347399999999,
            "bin_end": 0.9899,
            "count": 14
           }
          ]
         }
        },
        {
         "name": "RMSLE",
         "dtype": "float64",
         "stats": {
          "unique_count": 15,
          "nan_count": 0,
          "min": "0.0466",
          "max": "3.7592",
          "histogram": [
           {
            "bin_start": 0.0466,
            "bin_end": 0.41786,
            "count": 13
           },
           {
            "bin_start": 0.41786,
            "bin_end": 0.7891199999999999,
            "count": 1
           },
           {
            "bin_start": 0.7891199999999999,
            "bin_end": 1.16038,
            "count": 0
           },
           {
            "bin_start": 1.16038,
            "bin_end": 1.53164,
            "count": 0
           },
           {
            "bin_start": 1.53164,
            "bin_end": 1.9028999999999998,
            "count": 0
           },
           {
            "bin_start": 1.9028999999999998,
            "bin_end": 2.27416,
            "count": 0
           },
           {
            "bin_start": 2.27416,
            "bin_end": 2.64542,
            "count": 0
           },
           {
            "bin_start": 2.64542,
            "bin_end": 3.01668,
            "count": 0
           },
           {
            "bin_start": 3.01668,
            "bin_end": 3.38794,
            "count": 0
           },
           {
            "bin_start": 3.38794,
            "bin_end": 3.7592,
            "count": 1
           }
          ]
         }
        },
        {
         "name": "MAPE",
         "dtype": "float64",
         "stats": {
          "unique_count": 15,
          "nan_count": 0,
          "min": "0.029",
          "max": "5.9944",
          "histogram": [
           {
            "bin_start": 0.029,
            "bin_end": 0.62554,
            "count": 13
           },
           {
            "bin_start": 0.62554,
            "bin_end": 1.2220799999999998,
            "count": 1
           },
           {
            "bin_start": 1.2220799999999998,
            "bin_end": 1.8186199999999997,
            "count": 0
           },
           {
            "bin_start": 1.8186199999999997,
            "bin_end": 2.4151599999999998,
            "count": 0
           },
           {
            "bin_start": 2.4151599999999998,
            "bin_end": 3.0117,
            "count": 0
           },
           {
            "bin_start": 3.0117,
            "bin_end": 3.6082399999999994,
            "count": 0
           },
           {
            "bin_start": 3.6082399999999994,
            "bin_end": 4.2047799999999995,
            "count": 0
           },
           {
            "bin_start": 4.2047799999999995,
            "bin_end": 4.80132,
            "count": 0
           },
           {
            "bin_start": 4.80132,
            "bin_end": 5.39786,
            "count": 0
           },
           {
            "bin_start": 5.39786,
            "bin_end": 5.9944,
            "count": 1
           }
          ]
         }
        },
        {
         "name": "TT (Sec)",
         "dtype": "float64",
         "stats": {
          "unique_count": 14,
          "nan_count": 0,
          "min": "0.037",
          "max": "9.524",
          "histogram": [
           {
            "bin_start": 0.037,
            "bin_end": 0.9856999999999999,
            "count": 11
           },
           {
            "bin_start": 0.9856999999999999,
            "bin_end": 1.9343999999999997,
            "count": 1
           },
           {
            "bin_start": 1.9343999999999997,
            "bin_end": 2.8830999999999998,
            "count": 0
           },
           {
            "bin_start": 2.8830999999999998,
            "bin_end": 3.8317999999999994,
            "count": 0
           },
           {
            "bin_start": 3.8317999999999994,
            "bin_end": 4.780499999999999,
            "count": 2
           },
           {
            "bin_start": 4.780499999999999,
            "bin_end": 5.7292,
            "count": 0
           },
           {
            "bin_start": 5.7292,
            "bin_end": 6.677899999999999,
            "count": 0
           },
           {
            "bin_start": 6.677899999999999,
            "bin_end": 7.626599999999999,
            "count": 0
           },
           {
            "bin_start": 7.626599999999999,
            "bin_end": 8.5753,
            "count": 0
           },
           {
            "bin_start": 8.5753,
            "bin_end": 9.524,
            "count": 1
           }
          ]
         }
        },
        {
         "name": "_deepnote_index_column",
         "dtype": "object"
        }
       ],
       "rows_top": [
        {
         "Model": "Orthogonal Matching Pursuit",
         "MAE": 4.4564,
         "MSE": 52.609,
         "RMSE": 7.1792,
         "R2": 0.9899,
         "RMSLE": 0.0515,
         "MAPE": 0.0311,
         "TT (Sec)": 0.037,
         "_deepnote_index_column": "omp"
        },
        {
         "Model": "Gradient Boosting Regressor",
         "MAE": 4.6122,
         "MSE": 55.715,
         "RMSE": 7.3534,
         "R2": 0.9893,
         "RMSLE": 0.0466,
         "MAPE": 0.0303,
         "TT (Sec)": 4.012,
         "_deepnote_index_column": "gbr"
        },
        {
         "Model": "Extra Trees Regressor",
         "MAE": 4.4023,
         "MSE": 61.8218,
         "RMSE": 7.6919,
         "R2": 0.9882,
         "RMSLE": 0.0483,
         "MAPE": 0.029,
         "TT (Sec)": 4.74,
         "_deepnote_index_column": "et"
        },
        {
         "Model": "Random Forest Regressor",
         "MAE": 4.7846,
         "MSE": 71.0367,
         "RMSE": 8.2485,
         "R2": 0.9863,
         "RMSLE": 0.0527,
         "MAPE": 0.0317,
         "TT (Sec)": 9.524,
         "_deepnote_index_column": "rf"
        },
        {
         "Model": "Decision Tree Regressor",
         "MAE": 7.515,
         "MSE": 149.1684,
         "RMSE": 12.0967,
         "R2": 0.9715,
         "RMSLE": 0.0753,
         "MAPE": 0.0487,
         "TT (Sec)": 0.183,
         "_deepnote_index_column": "dt"
        },
        {
         "Model": "K Neighbors Regressor",
         "MAE": 7.7582,
         "MSE": 160.3944,
         "RMSE": 12.5516,
         "R2": 0.9691,
         "RMSLE": 0.0847,
         "MAPE": 0.0526,
         "TT (Sec)": 0.138,
         "_deepnote_index_column": "knn"
        },
        {
         "Model": "AdaBoost Regressor",
         "MAE": 9.8907,
         "MSE": 177.3597,
         "RMSE": 13.2524,
         "R2": 0.966,
         "RMSLE": 0.0985,
         "MAPE": 0.073,
         "TT (Sec)": 1.681,
         "_deepnote_index_column": "ada"
        },
        {
         "Model": "Ridge Regression",
         "MAE": 4.9195,
         "MSE": 226.2628,
         "RMSE": 12.3698,
         "R2": 0.9586,
         "RMSLE": 0.0608,
         "MAPE": 0.0342,
         "TT (Sec)": 0.038,
         "_deepnote_index_column": "ridge"
        },
        {
         "Model": "Bayesian Ridge",
         "MAE": 4.8931,
         "MSE": 305.1098,
         "RMSE": 13.3677,
         "R2": 0.9445,
         "RMSLE": 0.0619,
         "MAPE": 0.0338,
         "TT (Sec)": 0.158,
         "_deepnote_index_column": "br"
        },
        {
         "Model": "Elastic Net",
         "MAE": 5.5975,
         "MSE": 1061.075,
         "RMSE": 17.579,
         "R2": 0.8118,
         "RMSLE": 0.0827,
         "MAPE": 0.0388,
         "TT (Sec)": 0.139,
         "_deepnote_index_column": "en"
        },
        {
         "Model": "Lasso Regression",
         "MAE": 5.6966,
         "MSE": 1131.4343,
         "RMSE": 18.2734,
         "R2": 0.7994,
         "RMSLE": 0.0919,
         "MAPE": 0.0394,
         "TT (Sec)": 0.138,
         "_deepnote_index_column": "lasso"
        },
        {
         "Model": "Lasso Least Angle Regression",
         "MAE": 42.2261,
         "MSE": 2468.5781,
         "RMSE": 49.6429,
         "R2": 0.5281,
         "RMSLE": 0.3322,
         "MAPE": 0.3175,
         "TT (Sec)": 0.426,
         "_deepnote_index_column": "llar"
        },
        {
         "Model": "Linear Regression",
         "MAE": 29.6335,
         "MSE": 39772.0133,
         "RMSE": 90.1037,
         "R2": -6.0346,
         "RMSLE": 0.2339,
         "MAPE": 0.2207,
         "TT (Sec)": 0.619,
         "_deepnote_index_column": "lr"
        },
        {
         "Model": "Huber Regressor",
         "MAE": 183.1916,
         "MSE": 5615766.9449,
         "RMSE": 885.0512,
         "R2": -990.5484,
         "RMSLE": 3.7592,
         "MAPE": 1.1287,
         "TT (Sec)": 0.167,
         "_deepnote_index_column": "huber"
        },
        {
         "Model": "Passive Aggressive Regressor",
         "MAE": 592.7509,
         "MSE": 76153462.9739,
         "RMSE": 4960.2547,
         "R2": -15506.2565,
         "RMSLE": 0.7474,
         "MAPE": 5.9944,
         "TT (Sec)": 0.058,
         "_deepnote_index_column": "par"
        }
       ],
       "rows_bottom": null
      },
      "text/plain": "                              Model       MAE           MSE       RMSE  \\\nomp     Orthogonal Matching Pursuit    4.4564  5.260900e+01     7.1792   \ngbr     Gradient Boosting Regressor    4.6122  5.571500e+01     7.3534   \net            Extra Trees Regressor    4.4023  6.182180e+01     7.6919   \nrf          Random Forest Regressor    4.7846  7.103670e+01     8.2485   \ndt          Decision Tree Regressor    7.5150  1.491684e+02    12.0967   \nknn           K Neighbors Regressor    7.7582  1.603944e+02    12.5516   \nada              AdaBoost Regressor    9.8907  1.773597e+02    13.2524   \nridge              Ridge Regression    4.9195  2.262628e+02    12.3698   \nbr                   Bayesian Ridge    4.8931  3.051098e+02    13.3677   \nen                      Elastic Net    5.5975  1.061075e+03    17.5790   \nlasso              Lasso Regression    5.6966  1.131434e+03    18.2734   \nllar   Lasso Least Angle Regression   42.2261  2.468578e+03    49.6429   \nlr                Linear Regression   29.6335  3.977201e+04    90.1037   \nhuber               Huber Regressor  183.1916  5.615767e+06   885.0512   \npar    Passive Aggressive Regressor  592.7509  7.615346e+07  4960.2547   \n\n               R2   RMSLE    MAPE  TT (Sec)  \nomp        0.9899  0.0515  0.0311     0.037  \ngbr        0.9893  0.0466  0.0303     4.012  \net         0.9882  0.0483  0.0290     4.740  \nrf         0.9863  0.0527  0.0317     9.524  \ndt         0.9715  0.0753  0.0487     0.183  \nknn        0.9691  0.0847  0.0526     0.138  \nada        0.9660  0.0985  0.0730     1.681  \nridge      0.9586  0.0608  0.0342     0.038  \nbr         0.9445  0.0619  0.0338     0.158  \nen         0.8118  0.0827  0.0388     0.139  \nlasso      0.7994  0.0919  0.0394     0.138  \nllar       0.5281  0.3322  0.3175     0.426  \nlr        -6.0346  0.2339  0.2207     0.619  \nhuber   -990.5484  3.7592  1.1287     0.167  \npar   -15506.2565  0.7474  5.9944     0.058  ",
      "text/html": "<div>\n<style scoped>\n    .dataframe tbody tr th:only-of-type {\n        vertical-align: middle;\n    }\n\n    .dataframe tbody tr th {\n        vertical-align: top;\n    }\n\n    .dataframe thead th {\n        text-align: right;\n    }\n</style>\n<table border=\"1\" class=\"dataframe\">\n  <thead>\n    <tr style=\"text-align: right;\">\n      <th></th>\n      <th>Model</th>\n      <th>MAE</th>\n      <th>MSE</th>\n      <th>RMSE</th>\n      <th>R2</th>\n      <th>RMSLE</th>\n      <th>MAPE</th>\n      <th>TT (Sec)</th>\n    </tr>\n  </thead>\n  <tbody>\n    <tr>\n      <th>omp</th>\n      <td>Orthogonal Matching Pursuit</td>\n      <td>4.4564</td>\n      <td>5.260900e+01</td>\n      <td>7.1792</td>\n      <td>0.9899</td>\n      <td>0.0515</td>\n      <td>0.0311</td>\n      <td>0.037</td>\n    </tr>\n    <tr>\n      <th>gbr</th>\n      <td>Gradient Boosting Regressor</td>\n      <td>4.6122</td>\n      <td>5.571500e+01</td>\n      <td>7.3534</td>\n      <td>0.9893</td>\n      <td>0.0466</td>\n      <td>0.0303</td>\n      <td>4.012</td>\n    </tr>\n    <tr>\n      <th>et</th>\n      <td>Extra Trees Regressor</td>\n      <td>4.4023</td>\n      <td>6.182180e+01</td>\n      <td>7.6919</td>\n      <td>0.9882</td>\n      <td>0.0483</td>\n      <td>0.0290</td>\n      <td>4.740</td>\n    </tr>\n    <tr>\n      <th>rf</th>\n      <td>Random Forest Regressor</td>\n      <td>4.7846</td>\n      <td>7.103670e+01</td>\n      <td>8.2485</td>\n      <td>0.9863</td>\n      <td>0.0527</td>\n      <td>0.0317</td>\n      <td>9.524</td>\n    </tr>\n    <tr>\n      <th>dt</th>\n      <td>Decision Tree Regressor</td>\n      <td>7.5150</td>\n      <td>1.491684e+02</td>\n      <td>12.0967</td>\n      <td>0.9715</td>\n      <td>0.0753</td>\n      <td>0.0487</td>\n      <td>0.183</td>\n    </tr>\n    <tr>\n      <th>knn</th>\n      <td>K Neighbors Regressor</td>\n      <td>7.7582</td>\n      <td>1.603944e+02</td>\n      <td>12.5516</td>\n      <td>0.9691</td>\n      <td>0.0847</td>\n      <td>0.0526</td>\n      <td>0.138</td>\n    </tr>\n    <tr>\n      <th>ada</th>\n      <td>AdaBoost Regressor</td>\n      <td>9.8907</td>\n      <td>1.773597e+02</td>\n      <td>13.2524</td>\n      <td>0.9660</td>\n      <td>0.0985</td>\n      <td>0.0730</td>\n      <td>1.681</td>\n    </tr>\n    <tr>\n      <th>ridge</th>\n      <td>Ridge Regression</td>\n      <td>4.9195</td>\n      <td>2.262628e+02</td>\n      <td>12.3698</td>\n      <td>0.9586</td>\n      <td>0.0608</td>\n      <td>0.0342</td>\n      <td>0.038</td>\n    </tr>\n    <tr>\n      <th>br</th>\n      <td>Bayesian Ridge</td>\n      <td>4.8931</td>\n      <td>3.051098e+02</td>\n      <td>13.3677</td>\n      <td>0.9445</td>\n      <td>0.0619</td>\n      <td>0.0338</td>\n      <td>0.158</td>\n    </tr>\n    <tr>\n      <th>en</th>\n      <td>Elastic Net</td>\n      <td>5.5975</td>\n      <td>1.061075e+03</td>\n      <td>17.5790</td>\n      <td>0.8118</td>\n      <td>0.0827</td>\n      <td>0.0388</td>\n      <td>0.139</td>\n    </tr>\n    <tr>\n      <th>lasso</th>\n      <td>Lasso Regression</td>\n      <td>5.6966</td>\n      <td>1.131434e+03</td>\n      <td>18.2734</td>\n      <td>0.7994</td>\n      <td>0.0919</td>\n      <td>0.0394</td>\n      <td>0.138</td>\n    </tr>\n    <tr>\n      <th>llar</th>\n      <td>Lasso Least Angle Regression</td>\n      <td>42.2261</td>\n      <td>2.468578e+03</td>\n      <td>49.6429</td>\n      <td>0.5281</td>\n      <td>0.3322</td>\n      <td>0.3175</td>\n      <td>0.426</td>\n    </tr>\n    <tr>\n      <th>lr</th>\n      <td>Linear Regression</td>\n      <td>29.6335</td>\n      <td>3.977201e+04</td>\n      <td>90.1037</td>\n      <td>-6.0346</td>\n      <td>0.2339</td>\n      <td>0.2207</td>\n      <td>0.619</td>\n    </tr>\n    <tr>\n      <th>huber</th>\n      <td>Huber Regressor</td>\n      <td>183.1916</td>\n      <td>5.615767e+06</td>\n      <td>885.0512</td>\n      <td>-990.5484</td>\n      <td>3.7592</td>\n      <td>1.1287</td>\n      <td>0.167</td>\n    </tr>\n    <tr>\n      <th>par</th>\n      <td>Passive Aggressive Regressor</td>\n      <td>592.7509</td>\n      <td>7.615346e+07</td>\n      <td>4960.2547</td>\n      <td>-15506.2565</td>\n      <td>0.7474</td>\n      <td>5.9944</td>\n      <td>0.058</td>\n    </tr>\n  </tbody>\n</table>\n</div>"
     },
     "metadata": {},
     "output_type": "display_data"
    },
    {
     "data": {
      "application/vnd.deepnote.dataframe.v2+json": {
       "row_count": 16,
       "column_count": 8,
       "columns": [
        {
         "name": "Model",
         "dtype": "object",
         "stats": {
          "unique_count": 16,
          "nan_count": 0,
          "categories": [
           {
            "name": "Orthogonal Matching Pursuit",
            "count": 1
           },
           {
            "name": "Gradient Boosting Regressor",
            "count": 1
           },
           {
            "name": "14 others",
            "count": 14
           }
          ]
         }
        },
        {
         "name": "MAE",
         "dtype": "float64",
         "stats": {
          "unique_count": 16,
          "nan_count": 0,
          "min": "4.4023",
          "max": "592.7509",
          "histogram": [
           {
            "bin_start": 4.4023,
            "bin_end": 63.23716,
            "count": 14
           },
           {
            "bin_start": 63.23716,
            "bin_end": 122.07202000000001,
            "count": 0
           },
           {
            "bin_start": 122.07202000000001,
            "bin_end": 180.90688000000003,
            "count": 0
           },
           {
            "bin_start": 180.90688000000003,
            "bin_end": 239.74174000000002,
            "count": 1
           },
           {
            "bin_start": 239.74174000000002,
            "bin_end": 298.57660000000004,
            "count": 0
           },
           {
            "bin_start": 298.57660000000004,
            "bin_end": 357.4114600000001,
            "count": 0
           },
           {
            "bin_start": 357.4114600000001,
            "bin_end": 416.2463200000001,
            "count": 0
           },
           {
            "bin_start": 416.2463200000001,
            "bin_end": 475.0811800000001,
            "count": 0
           },
           {
            "bin_start": 475.0811800000001,
            "bin_end": 533.9160400000001,
            "count": 0
           },
           {
            "bin_start": 533.9160400000001,
            "bin_end": 592.7509,
            "count": 1
           }
          ]
         }
        },
        {
         "name": "MSE",
         "dtype": "float64",
         "stats": {
          "unique_count": 16,
          "nan_count": 0,
          "min": "52.609",
          "max": "76153462.9739",
          "histogram": [
           {
            "bin_start": 52.609,
            "bin_end": 7615393.645490001,
            "count": 15
           },
           {
            "bin_start": 7615393.645490001,
            "bin_end": 15230734.68198,
            "count": 0
           },
           {
            "bin_start": 15230734.68198,
            "bin_end": 22846075.718470003,
            "count": 0
           },
           {
            "bin_start": 22846075.718470003,
            "bin_end": 30461416.754960004,
            "count": 0
           },
           {
            "bin_start": 30461416.754960004,
            "bin_end": 38076757.79145,
            "count": 0
           },
           {
            "bin_start": 38076757.79145,
            "bin_end": 45692098.82794,
            "count": 0
           },
           {
            "bin_start": 45692098.82794,
            "bin_end": 53307439.86443,
            "count": 0
           },
           {
            "bin_start": 53307439.86443,
            "bin_end": 60922780.90092,
            "count": 0
           },
           {
            "bin_start": 60922780.90092,
            "bin_end": 68538121.93741,
            "count": 0
           },
           {
            "bin_start": 68538121.93741,
            "bin_end": 76153462.9739,
            "count": 1
           }
          ]
         }
        },
        {
         "name": "RMSE",
         "dtype": "float64",
         "stats": {
          "unique_count": 16,
          "nan_count": 0,
          "min": "7.1792",
          "max": "4960.2547",
          "histogram": [
           {
            "bin_start": 7.1792,
            "bin_end": 502.4867500000001,
            "count": 14
           },
           {
            "bin_start": 502.4867500000001,
            "bin_end": 997.7943000000002,
            "count": 1
           },
           {
            "bin_start": 997.7943000000002,
            "bin_end": 1493.1018500000005,
            "count": 0
           },
           {
            "bin_start": 1493.1018500000005,
            "bin_end": 1988.4094000000005,
            "count": 0
           },
           {
            "bin_start": 1988.4094000000005,
            "bin_end": 2483.7169500000005,
            "count": 0
           },
           {
            "bin_start": 2483.7169500000005,
            "bin_end": 2979.024500000001,
            "count": 0
           },
           {
            "bin_start": 2979.024500000001,
            "bin_end": 3474.332050000001,
            "count": 0
           },
           {
            "bin_start": 3474.332050000001,
            "bin_end": 3969.639600000001,
            "count": 0
           },
           {
            "bin_start": 3969.639600000001,
            "bin_end": 4464.947150000001,
            "count": 0
           },
           {
            "bin_start": 4464.947150000001,
            "bin_end": 4960.2547,
            "count": 1
           }
          ]
         }
        },
        {
         "name": "R2",
         "dtype": "float64",
         "stats": {
          "unique_count": 16,
          "nan_count": 0,
          "min": "-15506.2565",
          "max": "0.9899",
          "histogram": [
           {
            "bin_start": -15506.2565,
            "bin_end": -13955.53186,
            "count": 1
           },
           {
            "bin_start": -13955.53186,
            "bin_end": -12404.807219999999,
            "count": 0
           },
           {
            "bin_start": -12404.807219999999,
            "bin_end": -10854.08258,
            "count": 0
           },
           {
            "bin_start": -10854.08258,
            "bin_end": -9303.35794,
            "count": 0
           },
           {
            "bin_start": -9303.35794,
            "bin_end": -7752.6332999999995,
            "count": 0
           },
           {
            "bin_start": -7752.6332999999995,
            "bin_end": -6201.908660000001,
            "count": 0
           },
           {
            "bin_start": -6201.908660000001,
            "bin_end": -4651.184020000001,
            "count": 0
           },
           {
            "bin_start": -4651.184020000001,
            "bin_end": -3100.4593800000002,
            "count": 0
           },
           {
            "bin_start": -3100.4593800000002,
            "bin_end": -1549.7347399999999,
            "count": 0
           },
           {
            "bin_start": -1549.7347399999999,
            "bin_end": 0.9899,
            "count": 15
           }
          ]
         }
        },
        {
         "name": "RMSLE",
         "dtype": "float64",
         "stats": {
          "unique_count": 16,
          "nan_count": 0,
          "min": "0.0466",
          "max": "3.7592",
          "histogram": [
           {
            "bin_start": 0.0466,
            "bin_end": 0.41786,
            "count": 14
           },
           {
            "bin_start": 0.41786,
            "bin_end": 0.7891199999999999,
            "count": 1
           },
           {
            "bin_start": 0.7891199999999999,
            "bin_end": 1.16038,
            "count": 0
           },
           {
            "bin_start": 1.16038,
            "bin_end": 1.53164,
            "count": 0
           },
           {
            "bin_start": 1.53164,
            "bin_end": 1.9028999999999998,
            "count": 0
           },
           {
            "bin_start": 1.9028999999999998,
            "bin_end": 2.27416,
            "count": 0
           },
           {
            "bin_start": 2.27416,
            "bin_end": 2.64542,
            "count": 0
           },
           {
            "bin_start": 2.64542,
            "bin_end": 3.01668,
            "count": 0
           },
           {
            "bin_start": 3.01668,
            "bin_end": 3.38794,
            "count": 0
           },
           {
            "bin_start": 3.38794,
            "bin_end": 3.7592,
            "count": 1
           }
          ]
         }
        },
        {
         "name": "MAPE",
         "dtype": "float64",
         "stats": {
          "unique_count": 16,
          "nan_count": 0,
          "min": "0.029",
          "max": "5.9944",
          "histogram": [
           {
            "bin_start": 0.029,
            "bin_end": 0.62554,
            "count": 14
           },
           {
            "bin_start": 0.62554,
            "bin_end": 1.2220799999999998,
            "count": 1
           },
           {
            "bin_start": 1.2220799999999998,
            "bin_end": 1.8186199999999997,
            "count": 0
           },
           {
            "bin_start": 1.8186199999999997,
            "bin_end": 2.4151599999999998,
            "count": 0
           },
           {
            "bin_start": 2.4151599999999998,
            "bin_end": 3.0117,
            "count": 0
           },
           {
            "bin_start": 3.0117,
            "bin_end": 3.6082399999999994,
            "count": 0
           },
           {
            "bin_start": 3.6082399999999994,
            "bin_end": 4.2047799999999995,
            "count": 0
           },
           {
            "bin_start": 4.2047799999999995,
            "bin_end": 4.80132,
            "count": 0
           },
           {
            "bin_start": 4.80132,
            "bin_end": 5.39786,
            "count": 0
           },
           {
            "bin_start": 5.39786,
            "bin_end": 5.9944,
            "count": 1
           }
          ]
         }
        },
        {
         "name": "TT (Sec)",
         "dtype": "float64",
         "stats": {
          "unique_count": 15,
          "nan_count": 0,
          "min": "0.037",
          "max": "9.524",
          "histogram": [
           {
            "bin_start": 0.037,
            "bin_end": 0.9856999999999999,
            "count": 11
           },
           {
            "bin_start": 0.9856999999999999,
            "bin_end": 1.9343999999999997,
            "count": 2
           },
           {
            "bin_start": 1.9343999999999997,
            "bin_end": 2.8830999999999998,
            "count": 0
           },
           {
            "bin_start": 2.8830999999999998,
            "bin_end": 3.8317999999999994,
            "count": 0
           },
           {
            "bin_start": 3.8317999999999994,
            "bin_end": 4.780499999999999,
            "count": 2
           },
           {
            "bin_start": 4.780499999999999,
            "bin_end": 5.7292,
            "count": 0
           },
           {
            "bin_start": 5.7292,
            "bin_end": 6.677899999999999,
            "count": 0
           },
           {
            "bin_start": 6.677899999999999,
            "bin_end": 7.626599999999999,
            "count": 0
           },
           {
            "bin_start": 7.626599999999999,
            "bin_end": 8.5753,
            "count": 0
           },
           {
            "bin_start": 8.5753,
            "bin_end": 9.524,
            "count": 1
           }
          ]
         }
        },
        {
         "name": "_deepnote_index_column",
         "dtype": "object"
        }
       ],
       "rows_top": [
        {
         "Model": "Orthogonal Matching Pursuit",
         "MAE": 4.4564,
         "MSE": 52.609,
         "RMSE": 7.1792,
         "R2": 0.9899,
         "RMSLE": 0.0515,
         "MAPE": 0.0311,
         "TT (Sec)": 0.037,
         "_deepnote_index_column": "omp"
        },
        {
         "Model": "Gradient Boosting Regressor",
         "MAE": 4.6122,
         "MSE": 55.715,
         "RMSE": 7.3534,
         "R2": 0.9893,
         "RMSLE": 0.0466,
         "MAPE": 0.0303,
         "TT (Sec)": 4.012,
         "_deepnote_index_column": "gbr"
        },
        {
         "Model": "Extra Trees Regressor",
         "MAE": 4.4023,
         "MSE": 61.8218,
         "RMSE": 7.6919,
         "R2": 0.9882,
         "RMSLE": 0.0483,
         "MAPE": 0.029,
         "TT (Sec)": 4.74,
         "_deepnote_index_column": "et"
        },
        {
         "Model": "Light Gradient Boosting Machine",
         "MAE": 4.6099,
         "MSE": 67.0433,
         "RMSE": 7.9964,
         "R2": 0.987,
         "RMSLE": 0.0502,
         "MAPE": 0.0302,
         "TT (Sec)": 1.14,
         "_deepnote_index_column": "lightgbm"
        },
        {
         "Model": "Random Forest Regressor",
         "MAE": 4.7846,
         "MSE": 71.0367,
         "RMSE": 8.2485,
         "R2": 0.9863,
         "RMSLE": 0.0527,
         "MAPE": 0.0317,
         "TT (Sec)": 9.524,
         "_deepnote_index_column": "rf"
        },
        {
         "Model": "Decision Tree Regressor",
         "MAE": 7.515,
         "MSE": 149.1684,
         "RMSE": 12.0967,
         "R2": 0.9715,
         "RMSLE": 0.0753,
         "MAPE": 0.0487,
         "TT (Sec)": 0.183,
         "_deepnote_index_column": "dt"
        },
        {
         "Model": "K Neighbors Regressor",
         "MAE": 7.7582,
         "MSE": 160.3944,
         "RMSE": 12.5516,
         "R2": 0.9691,
         "RMSLE": 0.0847,
         "MAPE": 0.0526,
         "TT (Sec)": 0.138,
         "_deepnote_index_column": "knn"
        },
        {
         "Model": "AdaBoost Regressor",
         "MAE": 9.8907,
         "MSE": 177.3597,
         "RMSE": 13.2524,
         "R2": 0.966,
         "RMSLE": 0.0985,
         "MAPE": 0.073,
         "TT (Sec)": 1.681,
         "_deepnote_index_column": "ada"
        },
        {
         "Model": "Ridge Regression",
         "MAE": 4.9195,
         "MSE": 226.2628,
         "RMSE": 12.3698,
         "R2": 0.9586,
         "RMSLE": 0.0608,
         "MAPE": 0.0342,
         "TT (Sec)": 0.038,
         "_deepnote_index_column": "ridge"
        },
        {
         "Model": "Bayesian Ridge",
         "MAE": 4.8931,
         "MSE": 305.1098,
         "RMSE": 13.3677,
         "R2": 0.9445,
         "RMSLE": 0.0619,
         "MAPE": 0.0338,
         "TT (Sec)": 0.158,
         "_deepnote_index_column": "br"
        },
        {
         "Model": "Elastic Net",
         "MAE": 5.5975,
         "MSE": 1061.075,
         "RMSE": 17.579,
         "R2": 0.8118,
         "RMSLE": 0.0827,
         "MAPE": 0.0388,
         "TT (Sec)": 0.139,
         "_deepnote_index_column": "en"
        },
        {
         "Model": "Lasso Regression",
         "MAE": 5.6966,
         "MSE": 1131.4343,
         "RMSE": 18.2734,
         "R2": 0.7994,
         "RMSLE": 0.0919,
         "MAPE": 0.0394,
         "TT (Sec)": 0.138,
         "_deepnote_index_column": "lasso"
        },
        {
         "Model": "Lasso Least Angle Regression",
         "MAE": 42.2261,
         "MSE": 2468.5781,
         "RMSE": 49.6429,
         "R2": 0.5281,
         "RMSLE": 0.3322,
         "MAPE": 0.3175,
         "TT (Sec)": 0.426,
         "_deepnote_index_column": "llar"
        },
        {
         "Model": "Linear Regression",
         "MAE": 29.6335,
         "MSE": 39772.0133,
         "RMSE": 90.1037,
         "R2": -6.0346,
         "RMSLE": 0.2339,
         "MAPE": 0.2207,
         "TT (Sec)": 0.619,
         "_deepnote_index_column": "lr"
        },
        {
         "Model": "Huber Regressor",
         "MAE": 183.1916,
         "MSE": 5615766.9449,
         "RMSE": 885.0512,
         "R2": -990.5484,
         "RMSLE": 3.7592,
         "MAPE": 1.1287,
         "TT (Sec)": 0.167,
         "_deepnote_index_column": "huber"
        },
        {
         "Model": "Passive Aggressive Regressor",
         "MAE": 592.7509,
         "MSE": 76153462.9739,
         "RMSE": 4960.2547,
         "R2": -15506.2565,
         "RMSLE": 0.7474,
         "MAPE": 5.9944,
         "TT (Sec)": 0.058,
         "_deepnote_index_column": "par"
        }
       ],
       "rows_bottom": null
      },
      "text/plain": "                                    Model       MAE           MSE       RMSE  \\\nomp           Orthogonal Matching Pursuit    4.4564  5.260900e+01     7.1792   \ngbr           Gradient Boosting Regressor    4.6122  5.571500e+01     7.3534   \net                  Extra Trees Regressor    4.4023  6.182180e+01     7.6919   \nlightgbm  Light Gradient Boosting Machine    4.6099  6.704330e+01     7.9964   \nrf                Random Forest Regressor    4.7846  7.103670e+01     8.2485   \ndt                Decision Tree Regressor    7.5150  1.491684e+02    12.0967   \nknn                 K Neighbors Regressor    7.7582  1.603944e+02    12.5516   \nada                    AdaBoost Regressor    9.8907  1.773597e+02    13.2524   \nridge                    Ridge Regression    4.9195  2.262628e+02    12.3698   \nbr                         Bayesian Ridge    4.8931  3.051098e+02    13.3677   \nen                            Elastic Net    5.5975  1.061075e+03    17.5790   \nlasso                    Lasso Regression    5.6966  1.131434e+03    18.2734   \nllar         Lasso Least Angle Regression   42.2261  2.468578e+03    49.6429   \nlr                      Linear Regression   29.6335  3.977201e+04    90.1037   \nhuber                     Huber Regressor  183.1916  5.615767e+06   885.0512   \npar          Passive Aggressive Regressor  592.7509  7.615346e+07  4960.2547   \n\n                  R2   RMSLE    MAPE  TT (Sec)  \nomp           0.9899  0.0515  0.0311     0.037  \ngbr           0.9893  0.0466  0.0303     4.012  \net            0.9882  0.0483  0.0290     4.740  \nlightgbm      0.9870  0.0502  0.0302     1.140  \nrf            0.9863  0.0527  0.0317     9.524  \ndt            0.9715  0.0753  0.0487     0.183  \nknn           0.9691  0.0847  0.0526     0.138  \nada           0.9660  0.0985  0.0730     1.681  \nridge         0.9586  0.0608  0.0342     0.038  \nbr            0.9445  0.0619  0.0338     0.158  \nen            0.8118  0.0827  0.0388     0.139  \nlasso         0.7994  0.0919  0.0394     0.138  \nllar          0.5281  0.3322  0.3175     0.426  \nlr           -6.0346  0.2339  0.2207     0.619  \nhuber      -990.5484  3.7592  1.1287     0.167  \npar      -15506.2565  0.7474  5.9944     0.058  ",
      "text/html": "<div>\n<style scoped>\n    .dataframe tbody tr th:only-of-type {\n        vertical-align: middle;\n    }\n\n    .dataframe tbody tr th {\n        vertical-align: top;\n    }\n\n    .dataframe thead th {\n        text-align: right;\n    }\n</style>\n<table border=\"1\" class=\"dataframe\">\n  <thead>\n    <tr style=\"text-align: right;\">\n      <th></th>\n      <th>Model</th>\n      <th>MAE</th>\n      <th>MSE</th>\n      <th>RMSE</th>\n      <th>R2</th>\n      <th>RMSLE</th>\n      <th>MAPE</th>\n      <th>TT (Sec)</th>\n    </tr>\n  </thead>\n  <tbody>\n    <tr>\n      <th>omp</th>\n      <td>Orthogonal Matching Pursuit</td>\n      <td>4.4564</td>\n      <td>5.260900e+01</td>\n      <td>7.1792</td>\n      <td>0.9899</td>\n      <td>0.0515</td>\n      <td>0.0311</td>\n      <td>0.037</td>\n    </tr>\n    <tr>\n      <th>gbr</th>\n      <td>Gradient Boosting Regressor</td>\n      <td>4.6122</td>\n      <td>5.571500e+01</td>\n      <td>7.3534</td>\n      <td>0.9893</td>\n      <td>0.0466</td>\n      <td>0.0303</td>\n      <td>4.012</td>\n    </tr>\n    <tr>\n      <th>et</th>\n      <td>Extra Trees Regressor</td>\n      <td>4.4023</td>\n      <td>6.182180e+01</td>\n      <td>7.6919</td>\n      <td>0.9882</td>\n      <td>0.0483</td>\n      <td>0.0290</td>\n      <td>4.740</td>\n    </tr>\n    <tr>\n      <th>lightgbm</th>\n      <td>Light Gradient Boosting Machine</td>\n      <td>4.6099</td>\n      <td>6.704330e+01</td>\n      <td>7.9964</td>\n      <td>0.9870</td>\n      <td>0.0502</td>\n      <td>0.0302</td>\n      <td>1.140</td>\n    </tr>\n    <tr>\n      <th>rf</th>\n      <td>Random Forest Regressor</td>\n      <td>4.7846</td>\n      <td>7.103670e+01</td>\n      <td>8.2485</td>\n      <td>0.9863</td>\n      <td>0.0527</td>\n      <td>0.0317</td>\n      <td>9.524</td>\n    </tr>\n    <tr>\n      <th>dt</th>\n      <td>Decision Tree Regressor</td>\n      <td>7.5150</td>\n      <td>1.491684e+02</td>\n      <td>12.0967</td>\n      <td>0.9715</td>\n      <td>0.0753</td>\n      <td>0.0487</td>\n      <td>0.183</td>\n    </tr>\n    <tr>\n      <th>knn</th>\n      <td>K Neighbors Regressor</td>\n      <td>7.7582</td>\n      <td>1.603944e+02</td>\n      <td>12.5516</td>\n      <td>0.9691</td>\n      <td>0.0847</td>\n      <td>0.0526</td>\n      <td>0.138</td>\n    </tr>\n    <tr>\n      <th>ada</th>\n      <td>AdaBoost Regressor</td>\n      <td>9.8907</td>\n      <td>1.773597e+02</td>\n      <td>13.2524</td>\n      <td>0.9660</td>\n      <td>0.0985</td>\n      <td>0.0730</td>\n      <td>1.681</td>\n    </tr>\n    <tr>\n      <th>ridge</th>\n      <td>Ridge Regression</td>\n      <td>4.9195</td>\n      <td>2.262628e+02</td>\n      <td>12.3698</td>\n      <td>0.9586</td>\n      <td>0.0608</td>\n      <td>0.0342</td>\n      <td>0.038</td>\n    </tr>\n    <tr>\n      <th>br</th>\n      <td>Bayesian Ridge</td>\n      <td>4.8931</td>\n      <td>3.051098e+02</td>\n      <td>13.3677</td>\n      <td>0.9445</td>\n      <td>0.0619</td>\n      <td>0.0338</td>\n      <td>0.158</td>\n    </tr>\n    <tr>\n      <th>en</th>\n      <td>Elastic Net</td>\n      <td>5.5975</td>\n      <td>1.061075e+03</td>\n      <td>17.5790</td>\n      <td>0.8118</td>\n      <td>0.0827</td>\n      <td>0.0388</td>\n      <td>0.139</td>\n    </tr>\n    <tr>\n      <th>lasso</th>\n      <td>Lasso Regression</td>\n      <td>5.6966</td>\n      <td>1.131434e+03</td>\n      <td>18.2734</td>\n      <td>0.7994</td>\n      <td>0.0919</td>\n      <td>0.0394</td>\n      <td>0.138</td>\n    </tr>\n    <tr>\n      <th>llar</th>\n      <td>Lasso Least Angle Regression</td>\n      <td>42.2261</td>\n      <td>2.468578e+03</td>\n      <td>49.6429</td>\n      <td>0.5281</td>\n      <td>0.3322</td>\n      <td>0.3175</td>\n      <td>0.426</td>\n    </tr>\n    <tr>\n      <th>lr</th>\n      <td>Linear Regression</td>\n      <td>29.6335</td>\n      <td>3.977201e+04</td>\n      <td>90.1037</td>\n      <td>-6.0346</td>\n      <td>0.2339</td>\n      <td>0.2207</td>\n      <td>0.619</td>\n    </tr>\n    <tr>\n      <th>huber</th>\n      <td>Huber Regressor</td>\n      <td>183.1916</td>\n      <td>5.615767e+06</td>\n      <td>885.0512</td>\n      <td>-990.5484</td>\n      <td>3.7592</td>\n      <td>1.1287</td>\n      <td>0.167</td>\n    </tr>\n    <tr>\n      <th>par</th>\n      <td>Passive Aggressive Regressor</td>\n      <td>592.7509</td>\n      <td>7.615346e+07</td>\n      <td>4960.2547</td>\n      <td>-15506.2565</td>\n      <td>0.7474</td>\n      <td>5.9944</td>\n      <td>0.058</td>\n    </tr>\n  </tbody>\n</table>\n</div>"
     },
     "metadata": {},
     "output_type": "display_data"
    },
    {
     "data": {
      "application/vnd.deepnote.dataframe.v2+json": {
       "row_count": 16,
       "column_count": 8,
       "columns": [
        {
         "name": "Model",
         "dtype": "object",
         "stats": {
          "unique_count": 16,
          "nan_count": 0,
          "categories": [
           {
            "name": "Orthogonal Matching Pursuit",
            "count": 1
           },
           {
            "name": "Gradient Boosting Regressor",
            "count": 1
           },
           {
            "name": "14 others",
            "count": 14
           }
          ]
         }
        },
        {
         "name": "MAE",
         "dtype": "float64",
         "stats": {
          "unique_count": 16,
          "nan_count": 0,
          "min": "4.4023",
          "max": "592.7509",
          "histogram": [
           {
            "bin_start": 4.4023,
            "bin_end": 63.23716,
            "count": 14
           },
           {
            "bin_start": 63.23716,
            "bin_end": 122.07202000000001,
            "count": 0
           },
           {
            "bin_start": 122.07202000000001,
            "bin_end": 180.90688000000003,
            "count": 0
           },
           {
            "bin_start": 180.90688000000003,
            "bin_end": 239.74174000000002,
            "count": 1
           },
           {
            "bin_start": 239.74174000000002,
            "bin_end": 298.57660000000004,
            "count": 0
           },
           {
            "bin_start": 298.57660000000004,
            "bin_end": 357.4114600000001,
            "count": 0
           },
           {
            "bin_start": 357.4114600000001,
            "bin_end": 416.2463200000001,
            "count": 0
           },
           {
            "bin_start": 416.2463200000001,
            "bin_end": 475.0811800000001,
            "count": 0
           },
           {
            "bin_start": 475.0811800000001,
            "bin_end": 533.9160400000001,
            "count": 0
           },
           {
            "bin_start": 533.9160400000001,
            "bin_end": 592.7509,
            "count": 1
           }
          ]
         }
        },
        {
         "name": "MSE",
         "dtype": "float64",
         "stats": {
          "unique_count": 16,
          "nan_count": 0,
          "min": "52.609",
          "max": "76153462.9739",
          "histogram": [
           {
            "bin_start": 52.609,
            "bin_end": 7615393.645490001,
            "count": 15
           },
           {
            "bin_start": 7615393.645490001,
            "bin_end": 15230734.68198,
            "count": 0
           },
           {
            "bin_start": 15230734.68198,
            "bin_end": 22846075.718470003,
            "count": 0
           },
           {
            "bin_start": 22846075.718470003,
            "bin_end": 30461416.754960004,
            "count": 0
           },
           {
            "bin_start": 30461416.754960004,
            "bin_end": 38076757.79145,
            "count": 0
           },
           {
            "bin_start": 38076757.79145,
            "bin_end": 45692098.82794,
            "count": 0
           },
           {
            "bin_start": 45692098.82794,
            "bin_end": 53307439.86443,
            "count": 0
           },
           {
            "bin_start": 53307439.86443,
            "bin_end": 60922780.90092,
            "count": 0
           },
           {
            "bin_start": 60922780.90092,
            "bin_end": 68538121.93741,
            "count": 0
           },
           {
            "bin_start": 68538121.93741,
            "bin_end": 76153462.9739,
            "count": 1
           }
          ]
         }
        },
        {
         "name": "RMSE",
         "dtype": "float64",
         "stats": {
          "unique_count": 16,
          "nan_count": 0,
          "min": "7.1792",
          "max": "4960.2547",
          "histogram": [
           {
            "bin_start": 7.1792,
            "bin_end": 502.4867500000001,
            "count": 14
           },
           {
            "bin_start": 502.4867500000001,
            "bin_end": 997.7943000000002,
            "count": 1
           },
           {
            "bin_start": 997.7943000000002,
            "bin_end": 1493.1018500000005,
            "count": 0
           },
           {
            "bin_start": 1493.1018500000005,
            "bin_end": 1988.4094000000005,
            "count": 0
           },
           {
            "bin_start": 1988.4094000000005,
            "bin_end": 2483.7169500000005,
            "count": 0
           },
           {
            "bin_start": 2483.7169500000005,
            "bin_end": 2979.024500000001,
            "count": 0
           },
           {
            "bin_start": 2979.024500000001,
            "bin_end": 3474.332050000001,
            "count": 0
           },
           {
            "bin_start": 3474.332050000001,
            "bin_end": 3969.639600000001,
            "count": 0
           },
           {
            "bin_start": 3969.639600000001,
            "bin_end": 4464.947150000001,
            "count": 0
           },
           {
            "bin_start": 4464.947150000001,
            "bin_end": 4960.2547,
            "count": 1
           }
          ]
         }
        },
        {
         "name": "R2",
         "dtype": "float64",
         "stats": {
          "unique_count": 16,
          "nan_count": 0,
          "min": "-15506.2565",
          "max": "0.9899",
          "histogram": [
           {
            "bin_start": -15506.2565,
            "bin_end": -13955.53186,
            "count": 1
           },
           {
            "bin_start": -13955.53186,
            "bin_end": -12404.807219999999,
            "count": 0
           },
           {
            "bin_start": -12404.807219999999,
            "bin_end": -10854.08258,
            "count": 0
           },
           {
            "bin_start": -10854.08258,
            "bin_end": -9303.35794,
            "count": 0
           },
           {
            "bin_start": -9303.35794,
            "bin_end": -7752.6332999999995,
            "count": 0
           },
           {
            "bin_start": -7752.6332999999995,
            "bin_end": -6201.908660000001,
            "count": 0
           },
           {
            "bin_start": -6201.908660000001,
            "bin_end": -4651.184020000001,
            "count": 0
           },
           {
            "bin_start": -4651.184020000001,
            "bin_end": -3100.4593800000002,
            "count": 0
           },
           {
            "bin_start": -3100.4593800000002,
            "bin_end": -1549.7347399999999,
            "count": 0
           },
           {
            "bin_start": -1549.7347399999999,
            "bin_end": 0.9899,
            "count": 15
           }
          ]
         }
        },
        {
         "name": "RMSLE",
         "dtype": "float64",
         "stats": {
          "unique_count": 16,
          "nan_count": 0,
          "min": "0.0466",
          "max": "3.7592",
          "histogram": [
           {
            "bin_start": 0.0466,
            "bin_end": 0.41786,
            "count": 14
           },
           {
            "bin_start": 0.41786,
            "bin_end": 0.7891199999999999,
            "count": 1
           },
           {
            "bin_start": 0.7891199999999999,
            "bin_end": 1.16038,
            "count": 0
           },
           {
            "bin_start": 1.16038,
            "bin_end": 1.53164,
            "count": 0
           },
           {
            "bin_start": 1.53164,
            "bin_end": 1.9028999999999998,
            "count": 0
           },
           {
            "bin_start": 1.9028999999999998,
            "bin_end": 2.27416,
            "count": 0
           },
           {
            "bin_start": 2.27416,
            "bin_end": 2.64542,
            "count": 0
           },
           {
            "bin_start": 2.64542,
            "bin_end": 3.01668,
            "count": 0
           },
           {
            "bin_start": 3.01668,
            "bin_end": 3.38794,
            "count": 0
           },
           {
            "bin_start": 3.38794,
            "bin_end": 3.7592,
            "count": 1
           }
          ]
         }
        },
        {
         "name": "MAPE",
         "dtype": "float64",
         "stats": {
          "unique_count": 16,
          "nan_count": 0,
          "min": "0.029",
          "max": "5.9944",
          "histogram": [
           {
            "bin_start": 0.029,
            "bin_end": 0.62554,
            "count": 14
           },
           {
            "bin_start": 0.62554,
            "bin_end": 1.2220799999999998,
            "count": 1
           },
           {
            "bin_start": 1.2220799999999998,
            "bin_end": 1.8186199999999997,
            "count": 0
           },
           {
            "bin_start": 1.8186199999999997,
            "bin_end": 2.4151599999999998,
            "count": 0
           },
           {
            "bin_start": 2.4151599999999998,
            "bin_end": 3.0117,
            "count": 0
           },
           {
            "bin_start": 3.0117,
            "bin_end": 3.6082399999999994,
            "count": 0
           },
           {
            "bin_start": 3.6082399999999994,
            "bin_end": 4.2047799999999995,
            "count": 0
           },
           {
            "bin_start": 4.2047799999999995,
            "bin_end": 4.80132,
            "count": 0
           },
           {
            "bin_start": 4.80132,
            "bin_end": 5.39786,
            "count": 0
           },
           {
            "bin_start": 5.39786,
            "bin_end": 5.9944,
            "count": 1
           }
          ]
         }
        },
        {
         "name": "TT (Sec)",
         "dtype": "float64",
         "stats": {
          "unique_count": 15,
          "nan_count": 0,
          "min": "0.037",
          "max": "9.524",
          "histogram": [
           {
            "bin_start": 0.037,
            "bin_end": 0.9856999999999999,
            "count": 11
           },
           {
            "bin_start": 0.9856999999999999,
            "bin_end": 1.9343999999999997,
            "count": 2
           },
           {
            "bin_start": 1.9343999999999997,
            "bin_end": 2.8830999999999998,
            "count": 0
           },
           {
            "bin_start": 2.8830999999999998,
            "bin_end": 3.8317999999999994,
            "count": 0
           },
           {
            "bin_start": 3.8317999999999994,
            "bin_end": 4.780499999999999,
            "count": 2
           },
           {
            "bin_start": 4.780499999999999,
            "bin_end": 5.7292,
            "count": 0
           },
           {
            "bin_start": 5.7292,
            "bin_end": 6.677899999999999,
            "count": 0
           },
           {
            "bin_start": 6.677899999999999,
            "bin_end": 7.626599999999999,
            "count": 0
           },
           {
            "bin_start": 7.626599999999999,
            "bin_end": 8.5753,
            "count": 0
           },
           {
            "bin_start": 8.5753,
            "bin_end": 9.524,
            "count": 1
           }
          ]
         }
        },
        {
         "name": "_deepnote_index_column",
         "dtype": "object"
        }
       ],
       "rows_top": [
        {
         "Model": "Orthogonal Matching Pursuit",
         "MAE": 4.4564,
         "MSE": 52.609,
         "RMSE": 7.1792,
         "R2": 0.9899,
         "RMSLE": 0.0515,
         "MAPE": 0.0311,
         "TT (Sec)": 0.037,
         "_deepnote_index_column": "omp"
        },
        {
         "Model": "Gradient Boosting Regressor",
         "MAE": 4.6122,
         "MSE": 55.715,
         "RMSE": 7.3534,
         "R2": 0.9893,
         "RMSLE": 0.0466,
         "MAPE": 0.0303,
         "TT (Sec)": 4.012,
         "_deepnote_index_column": "gbr"
        },
        {
         "Model": "Extra Trees Regressor",
         "MAE": 4.4023,
         "MSE": 61.8218,
         "RMSE": 7.6919,
         "R2": 0.9882,
         "RMSLE": 0.0483,
         "MAPE": 0.029,
         "TT (Sec)": 4.74,
         "_deepnote_index_column": "et"
        },
        {
         "Model": "Light Gradient Boosting Machine",
         "MAE": 4.6099,
         "MSE": 67.0433,
         "RMSE": 7.9964,
         "R2": 0.987,
         "RMSLE": 0.0502,
         "MAPE": 0.0302,
         "TT (Sec)": 1.14,
         "_deepnote_index_column": "lightgbm"
        },
        {
         "Model": "Random Forest Regressor",
         "MAE": 4.7846,
         "MSE": 71.0367,
         "RMSE": 8.2485,
         "R2": 0.9863,
         "RMSLE": 0.0527,
         "MAPE": 0.0317,
         "TT (Sec)": 9.524,
         "_deepnote_index_column": "rf"
        },
        {
         "Model": "Decision Tree Regressor",
         "MAE": 7.515,
         "MSE": 149.1684,
         "RMSE": 12.0967,
         "R2": 0.9715,
         "RMSLE": 0.0753,
         "MAPE": 0.0487,
         "TT (Sec)": 0.183,
         "_deepnote_index_column": "dt"
        },
        {
         "Model": "K Neighbors Regressor",
         "MAE": 7.7582,
         "MSE": 160.3944,
         "RMSE": 12.5516,
         "R2": 0.9691,
         "RMSLE": 0.0847,
         "MAPE": 0.0526,
         "TT (Sec)": 0.138,
         "_deepnote_index_column": "knn"
        },
        {
         "Model": "AdaBoost Regressor",
         "MAE": 9.8907,
         "MSE": 177.3597,
         "RMSE": 13.2524,
         "R2": 0.966,
         "RMSLE": 0.0985,
         "MAPE": 0.073,
         "TT (Sec)": 1.681,
         "_deepnote_index_column": "ada"
        },
        {
         "Model": "Ridge Regression",
         "MAE": 4.9195,
         "MSE": 226.2628,
         "RMSE": 12.3698,
         "R2": 0.9586,
         "RMSLE": 0.0608,
         "MAPE": 0.0342,
         "TT (Sec)": 0.038,
         "_deepnote_index_column": "ridge"
        },
        {
         "Model": "Bayesian Ridge",
         "MAE": 4.8931,
         "MSE": 305.1098,
         "RMSE": 13.3677,
         "R2": 0.9445,
         "RMSLE": 0.0619,
         "MAPE": 0.0338,
         "TT (Sec)": 0.158,
         "_deepnote_index_column": "br"
        },
        {
         "Model": "Elastic Net",
         "MAE": 5.5975,
         "MSE": 1061.075,
         "RMSE": 17.579,
         "R2": 0.8118,
         "RMSLE": 0.0827,
         "MAPE": 0.0388,
         "TT (Sec)": 0.139,
         "_deepnote_index_column": "en"
        },
        {
         "Model": "Lasso Regression",
         "MAE": 5.6966,
         "MSE": 1131.4343,
         "RMSE": 18.2734,
         "R2": 0.7994,
         "RMSLE": 0.0919,
         "MAPE": 0.0394,
         "TT (Sec)": 0.138,
         "_deepnote_index_column": "lasso"
        },
        {
         "Model": "Lasso Least Angle Regression",
         "MAE": 42.2261,
         "MSE": 2468.5781,
         "RMSE": 49.6429,
         "R2": 0.5281,
         "RMSLE": 0.3322,
         "MAPE": 0.3175,
         "TT (Sec)": 0.426,
         "_deepnote_index_column": "llar"
        },
        {
         "Model": "Linear Regression",
         "MAE": 29.6335,
         "MSE": 39772.0133,
         "RMSE": 90.1037,
         "R2": -6.0346,
         "RMSLE": 0.2339,
         "MAPE": 0.2207,
         "TT (Sec)": 0.619,
         "_deepnote_index_column": "lr"
        },
        {
         "Model": "Huber Regressor",
         "MAE": 183.1916,
         "MSE": 5615766.9449,
         "RMSE": 885.0512,
         "R2": -990.5484,
         "RMSLE": 3.7592,
         "MAPE": 1.1287,
         "TT (Sec)": 0.167,
         "_deepnote_index_column": "huber"
        },
        {
         "Model": "Passive Aggressive Regressor",
         "MAE": 592.7509,
         "MSE": 76153462.9739,
         "RMSE": 4960.2547,
         "R2": -15506.2565,
         "RMSLE": 0.7474,
         "MAPE": 5.9944,
         "TT (Sec)": 0.058,
         "_deepnote_index_column": "par"
        }
       ],
       "rows_bottom": null
      },
      "text/plain": "                                    Model       MAE           MSE       RMSE  \\\nomp           Orthogonal Matching Pursuit    4.4564  5.260900e+01     7.1792   \ngbr           Gradient Boosting Regressor    4.6122  5.571500e+01     7.3534   \net                  Extra Trees Regressor    4.4023  6.182180e+01     7.6919   \nlightgbm  Light Gradient Boosting Machine    4.6099  6.704330e+01     7.9964   \nrf                Random Forest Regressor    4.7846  7.103670e+01     8.2485   \ndt                Decision Tree Regressor    7.5150  1.491684e+02    12.0967   \nknn                 K Neighbors Regressor    7.7582  1.603944e+02    12.5516   \nada                    AdaBoost Regressor    9.8907  1.773597e+02    13.2524   \nridge                    Ridge Regression    4.9195  2.262628e+02    12.3698   \nbr                         Bayesian Ridge    4.8931  3.051098e+02    13.3677   \nen                            Elastic Net    5.5975  1.061075e+03    17.5790   \nlasso                    Lasso Regression    5.6966  1.131434e+03    18.2734   \nllar         Lasso Least Angle Regression   42.2261  2.468578e+03    49.6429   \nlr                      Linear Regression   29.6335  3.977201e+04    90.1037   \nhuber                     Huber Regressor  183.1916  5.615767e+06   885.0512   \npar          Passive Aggressive Regressor  592.7509  7.615346e+07  4960.2547   \n\n                  R2   RMSLE    MAPE  TT (Sec)  \nomp           0.9899  0.0515  0.0311     0.037  \ngbr           0.9893  0.0466  0.0303     4.012  \net            0.9882  0.0483  0.0290     4.740  \nlightgbm      0.9870  0.0502  0.0302     1.140  \nrf            0.9863  0.0527  0.0317     9.524  \ndt            0.9715  0.0753  0.0487     0.183  \nknn           0.9691  0.0847  0.0526     0.138  \nada           0.9660  0.0985  0.0730     1.681  \nridge         0.9586  0.0608  0.0342     0.038  \nbr            0.9445  0.0619  0.0338     0.158  \nen            0.8118  0.0827  0.0388     0.139  \nlasso         0.7994  0.0919  0.0394     0.138  \nllar          0.5281  0.3322  0.3175     0.426  \nlr           -6.0346  0.2339  0.2207     0.619  \nhuber      -990.5484  3.7592  1.1287     0.167  \npar      -15506.2565  0.7474  5.9944     0.058  ",
      "text/html": "<div>\n<style scoped>\n    .dataframe tbody tr th:only-of-type {\n        vertical-align: middle;\n    }\n\n    .dataframe tbody tr th {\n        vertical-align: top;\n    }\n\n    .dataframe thead th {\n        text-align: right;\n    }\n</style>\n<table border=\"1\" class=\"dataframe\">\n  <thead>\n    <tr style=\"text-align: right;\">\n      <th></th>\n      <th>Model</th>\n      <th>MAE</th>\n      <th>MSE</th>\n      <th>RMSE</th>\n      <th>R2</th>\n      <th>RMSLE</th>\n      <th>MAPE</th>\n      <th>TT (Sec)</th>\n    </tr>\n  </thead>\n  <tbody>\n    <tr>\n      <th>omp</th>\n      <td>Orthogonal Matching Pursuit</td>\n      <td>4.4564</td>\n      <td>5.260900e+01</td>\n      <td>7.1792</td>\n      <td>0.9899</td>\n      <td>0.0515</td>\n      <td>0.0311</td>\n      <td>0.037</td>\n    </tr>\n    <tr>\n      <th>gbr</th>\n      <td>Gradient Boosting Regressor</td>\n      <td>4.6122</td>\n      <td>5.571500e+01</td>\n      <td>7.3534</td>\n      <td>0.9893</td>\n      <td>0.0466</td>\n      <td>0.0303</td>\n      <td>4.012</td>\n    </tr>\n    <tr>\n      <th>et</th>\n      <td>Extra Trees Regressor</td>\n      <td>4.4023</td>\n      <td>6.182180e+01</td>\n      <td>7.6919</td>\n      <td>0.9882</td>\n      <td>0.0483</td>\n      <td>0.0290</td>\n      <td>4.740</td>\n    </tr>\n    <tr>\n      <th>lightgbm</th>\n      <td>Light Gradient Boosting Machine</td>\n      <td>4.6099</td>\n      <td>6.704330e+01</td>\n      <td>7.9964</td>\n      <td>0.9870</td>\n      <td>0.0502</td>\n      <td>0.0302</td>\n      <td>1.140</td>\n    </tr>\n    <tr>\n      <th>rf</th>\n      <td>Random Forest Regressor</td>\n      <td>4.7846</td>\n      <td>7.103670e+01</td>\n      <td>8.2485</td>\n      <td>0.9863</td>\n      <td>0.0527</td>\n      <td>0.0317</td>\n      <td>9.524</td>\n    </tr>\n    <tr>\n      <th>dt</th>\n      <td>Decision Tree Regressor</td>\n      <td>7.5150</td>\n      <td>1.491684e+02</td>\n      <td>12.0967</td>\n      <td>0.9715</td>\n      <td>0.0753</td>\n      <td>0.0487</td>\n      <td>0.183</td>\n    </tr>\n    <tr>\n      <th>knn</th>\n      <td>K Neighbors Regressor</td>\n      <td>7.7582</td>\n      <td>1.603944e+02</td>\n      <td>12.5516</td>\n      <td>0.9691</td>\n      <td>0.0847</td>\n      <td>0.0526</td>\n      <td>0.138</td>\n    </tr>\n    <tr>\n      <th>ada</th>\n      <td>AdaBoost Regressor</td>\n      <td>9.8907</td>\n      <td>1.773597e+02</td>\n      <td>13.2524</td>\n      <td>0.9660</td>\n      <td>0.0985</td>\n      <td>0.0730</td>\n      <td>1.681</td>\n    </tr>\n    <tr>\n      <th>ridge</th>\n      <td>Ridge Regression</td>\n      <td>4.9195</td>\n      <td>2.262628e+02</td>\n      <td>12.3698</td>\n      <td>0.9586</td>\n      <td>0.0608</td>\n      <td>0.0342</td>\n      <td>0.038</td>\n    </tr>\n    <tr>\n      <th>br</th>\n      <td>Bayesian Ridge</td>\n      <td>4.8931</td>\n      <td>3.051098e+02</td>\n      <td>13.3677</td>\n      <td>0.9445</td>\n      <td>0.0619</td>\n      <td>0.0338</td>\n      <td>0.158</td>\n    </tr>\n    <tr>\n      <th>en</th>\n      <td>Elastic Net</td>\n      <td>5.5975</td>\n      <td>1.061075e+03</td>\n      <td>17.5790</td>\n      <td>0.8118</td>\n      <td>0.0827</td>\n      <td>0.0388</td>\n      <td>0.139</td>\n    </tr>\n    <tr>\n      <th>lasso</th>\n      <td>Lasso Regression</td>\n      <td>5.6966</td>\n      <td>1.131434e+03</td>\n      <td>18.2734</td>\n      <td>0.7994</td>\n      <td>0.0919</td>\n      <td>0.0394</td>\n      <td>0.138</td>\n    </tr>\n    <tr>\n      <th>llar</th>\n      <td>Lasso Least Angle Regression</td>\n      <td>42.2261</td>\n      <td>2.468578e+03</td>\n      <td>49.6429</td>\n      <td>0.5281</td>\n      <td>0.3322</td>\n      <td>0.3175</td>\n      <td>0.426</td>\n    </tr>\n    <tr>\n      <th>lr</th>\n      <td>Linear Regression</td>\n      <td>29.6335</td>\n      <td>3.977201e+04</td>\n      <td>90.1037</td>\n      <td>-6.0346</td>\n      <td>0.2339</td>\n      <td>0.2207</td>\n      <td>0.619</td>\n    </tr>\n    <tr>\n      <th>huber</th>\n      <td>Huber Regressor</td>\n      <td>183.1916</td>\n      <td>5.615767e+06</td>\n      <td>885.0512</td>\n      <td>-990.5484</td>\n      <td>3.7592</td>\n      <td>1.1287</td>\n      <td>0.167</td>\n    </tr>\n    <tr>\n      <th>par</th>\n      <td>Passive Aggressive Regressor</td>\n      <td>592.7509</td>\n      <td>7.615346e+07</td>\n      <td>4960.2547</td>\n      <td>-15506.2565</td>\n      <td>0.7474</td>\n      <td>5.9944</td>\n      <td>0.058</td>\n    </tr>\n  </tbody>\n</table>\n</div>"
     },
     "metadata": {},
     "output_type": "display_data"
    }
   ]
  },
  {
   "cell_type": "code",
   "metadata": {
    "tags": [],
    "cell_id": "00009-e0b74b11-84d1-4406-a555-e93a9ac8848e",
    "deepnote_to_be_reexecuted": false,
    "source_hash": "6586f968",
    "execution_start": 1623858806837,
    "execution_millis": 52396,
    "deepnote_cell_type": "code"
   },
   "source": "model = create_model('et')",
   "execution_count": 17,
   "outputs": [
    {
     "data": {
      "application/vnd.deepnote.dataframe.v2+json": {
       "row_count": 12,
       "column_count": 6,
       "columns": [
        {
         "name": "MAE",
         "dtype": "float64",
         "stats": {
          "unique_count": 12,
          "nan_count": 0,
          "min": "0.5006",
          "max": "5.2211",
          "histogram": [
           {
            "bin_start": 0.5006,
            "bin_end": 0.97265,
            "count": 1
           },
           {
            "bin_start": 0.97265,
            "bin_end": 1.4447,
            "count": 0
           },
           {
            "bin_start": 1.4447,
            "bin_end": 1.91675,
            "count": 0
           },
           {
            "bin_start": 1.91675,
            "bin_end": 2.3888,
            "count": 0
           },
           {
            "bin_start": 2.3888,
            "bin_end": 2.8608499999999997,
            "count": 0
           },
           {
            "bin_start": 2.8608499999999997,
            "bin_end": 3.3329,
            "count": 0
           },
           {
            "bin_start": 3.3329,
            "bin_end": 3.80495,
            "count": 1
           },
           {
            "bin_start": 3.80495,
            "bin_end": 4.277,
            "count": 2
           },
           {
            "bin_start": 4.277,
            "bin_end": 4.74905,
            "count": 5
           },
           {
            "bin_start": 4.74905,
            "bin_end": 5.2211,
            "count": 3
           }
          ]
         }
        },
        {
         "name": "MSE",
         "dtype": "float64",
         "stats": {
          "unique_count": 12,
          "nan_count": 0,
          "min": "26.8014",
          "max": "120.614",
          "histogram": [
           {
            "bin_start": 26.8014,
            "bin_end": 36.18266,
            "count": 3
           },
           {
            "bin_start": 36.18266,
            "bin_end": 45.56392,
            "count": 0
           },
           {
            "bin_start": 45.56392,
            "bin_end": 54.94518000000001,
            "count": 3
           },
           {
            "bin_start": 54.94518000000001,
            "bin_end": 64.32644,
            "count": 3
           },
           {
            "bin_start": 64.32644,
            "bin_end": 73.7077,
            "count": 1
           },
           {
            "bin_start": 73.7077,
            "bin_end": 83.08896000000001,
            "count": 0
           },
           {
            "bin_start": 83.08896000000001,
            "bin_end": 92.47022000000001,
            "count": 0
           },
           {
            "bin_start": 92.47022000000001,
            "bin_end": 101.85148000000001,
            "count": 1
           },
           {
            "bin_start": 101.85148000000001,
            "bin_end": 111.23274,
            "count": 0
           },
           {
            "bin_start": 111.23274,
            "bin_end": 120.614,
            "count": 1
           }
          ]
         }
        },
        {
         "name": "RMSE",
         "dtype": "float64",
         "stats": {
          "unique_count": 12,
          "nan_count": 0,
          "min": "1.6297",
          "max": "10.9824",
          "histogram": [
           {
            "bin_start": 1.6297,
            "bin_end": 2.5649699999999998,
            "count": 1
           },
           {
            "bin_start": 2.5649699999999998,
            "bin_end": 3.50024,
            "count": 0
           },
           {
            "bin_start": 3.50024,
            "bin_end": 4.43551,
            "count": 0
           },
           {
            "bin_start": 4.43551,
            "bin_end": 5.37078,
            "count": 0
           },
           {
            "bin_start": 5.37078,
            "bin_end": 6.30605,
            "count": 2
           },
           {
            "bin_start": 6.30605,
            "bin_end": 7.24132,
            "count": 3
           },
           {
            "bin_start": 7.24132,
            "bin_end": 8.176590000000001,
            "count": 3
           },
           {
            "bin_start": 8.176590000000001,
            "bin_end": 9.11186,
            "count": 1
           },
           {
            "bin_start": 9.11186,
            "bin_end": 10.04713,
            "count": 1
           },
           {
            "bin_start": 10.04713,
            "bin_end": 10.9824,
            "count": 1
           }
          ]
         }
        },
        {
         "name": "R2",
         "dtype": "float64",
         "stats": {
          "unique_count": 11,
          "nan_count": 0,
          "min": "0.005",
          "max": "0.9939",
          "histogram": [
           {
            "bin_start": 0.005,
            "bin_end": 0.10389000000000001,
            "count": 1
           },
           {
            "bin_start": 0.10389000000000001,
            "bin_end": 0.20278000000000002,
            "count": 0
           },
           {
            "bin_start": 0.20278000000000002,
            "bin_end": 0.30167,
            "count": 0
           },
           {
            "bin_start": 0.30167,
            "bin_end": 0.40056,
            "count": 0
           },
           {
            "bin_start": 0.40056,
            "bin_end": 0.49945000000000006,
            "count": 0
           },
           {
            "bin_start": 0.49945000000000006,
            "bin_end": 0.59834,
            "count": 0
           },
           {
            "bin_start": 0.59834,
            "bin_end": 0.69723,
            "count": 0
           },
           {
            "bin_start": 0.69723,
            "bin_end": 0.79612,
            "count": 0
           },
           {
            "bin_start": 0.79612,
            "bin_end": 0.8950100000000001,
            "count": 0
           },
           {
            "bin_start": 0.8950100000000001,
            "bin_end": 0.9939,
            "count": 11
           }
          ]
         }
        },
        {
         "name": "RMSLE",
         "dtype": "float64",
         "stats": {
          "unique_count": 12,
          "nan_count": 0,
          "min": "0.0117",
          "max": "0.0674",
          "histogram": [
           {
            "bin_start": 0.0117,
            "bin_end": 0.01727,
            "count": 1
           },
           {
            "bin_start": 0.01727,
            "bin_end": 0.02284,
            "count": 0
           },
           {
            "bin_start": 0.02284,
            "bin_end": 0.028410000000000005,
            "count": 0
           },
           {
            "bin_start": 0.028410000000000005,
            "bin_end": 0.03398,
            "count": 0
           },
           {
            "bin_start": 0.03398,
            "bin_end": 0.03955,
            "count": 3
           },
           {
            "bin_start": 0.03955,
            "bin_end": 0.04512000000000001,
            "count": 1
           },
           {
            "bin_start": 0.04512000000000001,
            "bin_end": 0.050690000000000006,
            "count": 4
           },
           {
            "bin_start": 0.050690000000000006,
            "bin_end": 0.056260000000000004,
            "count": 0
           },
           {
            "bin_start": 0.056260000000000004,
            "bin_end": 0.06183,
            "count": 1
           },
           {
            "bin_start": 0.06183,
            "bin_end": 0.0674,
            "count": 2
           }
          ]
         }
        },
        {
         "name": "MAPE",
         "dtype": "float64",
         "stats": {
          "unique_count": 11,
          "nan_count": 0,
          "min": "0.0038",
          "max": "0.0344",
          "histogram": [
           {
            "bin_start": 0.0038,
            "bin_end": 0.00686,
            "count": 1
           },
           {
            "bin_start": 0.00686,
            "bin_end": 0.00992,
            "count": 0
           },
           {
            "bin_start": 0.00992,
            "bin_end": 0.012979999999999998,
            "count": 0
           },
           {
            "bin_start": 0.012979999999999998,
            "bin_end": 0.01604,
            "count": 0
           },
           {
            "bin_start": 0.01604,
            "bin_end": 0.0191,
            "count": 0
           },
           {
            "bin_start": 0.0191,
            "bin_end": 0.02216,
            "count": 0
           },
           {
            "bin_start": 0.02216,
            "bin_end": 0.02522,
            "count": 2
           },
           {
            "bin_start": 0.02522,
            "bin_end": 0.02828,
            "count": 2
           },
           {
            "bin_start": 0.02828,
            "bin_end": 0.03134,
            "count": 4
           },
           {
            "bin_start": 0.03134,
            "bin_end": 0.0344,
            "count": 3
           }
          ]
         }
        },
        {
         "name": "_deepnote_index_column",
         "dtype": "object"
        }
       ],
       "rows_top": [
        {
         "MAE": 4.8872,
         "MSE": 97.7101,
         "RMSE": 9.8848,
         "R2": 0.9797,
         "RMSLE": 0.0672,
         "MAPE": 0.0336,
         "_deepnote_index_column": "0"
        },
        {
         "MAE": 4.8244,
         "MSE": 120.614,
         "RMSE": 10.9824,
         "R2": 0.9786,
         "RMSLE": 0.0582,
         "MAPE": 0.0309,
         "_deepnote_index_column": "1"
        },
        {
         "MAE": 3.9782,
         "MSE": 50.8124,
         "RMSE": 7.1283,
         "R2": 0.9912,
         "RMSLE": 0.0355,
         "MAPE": 0.0239,
         "_deepnote_index_column": "2"
        },
        {
         "MAE": 4.318,
         "MSE": 59.1423,
         "RMSE": 7.6904,
         "R2": 0.9884,
         "RMSLE": 0.0414,
         "MAPE": 0.0266,
         "_deepnote_index_column": "3"
        },
        {
         "MAE": 3.8319,
         "MSE": 31.8988,
         "RMSE": 5.6479,
         "R2": 0.9939,
         "RMSLE": 0.037,
         "MAPE": 0.0253,
         "_deepnote_index_column": "4"
        },
        {
         "MAE": 4.5067,
         "MSE": 62.6143,
         "RMSE": 7.9129,
         "R2": 0.9868,
         "RMSLE": 0.0674,
         "MAPE": 0.0344,
         "_deepnote_index_column": "5"
        },
        {
         "MAE": 4.4309,
         "MSE": 50.0485,
         "RMSE": 7.0745,
         "R2": 0.9912,
         "RMSLE": 0.0465,
         "MAPE": 0.0293,
         "_deepnote_index_column": "6"
        },
        {
         "MAE": 3.4672,
         "MSE": 29.573,
         "RMSE": 5.4381,
         "R2": 0.9935,
         "RMSLE": 0.0346,
         "MAPE": 0.023,
         "_deepnote_index_column": "7"
        },
        {
         "MAE": 5.2211,
         "MSE": 68.0252,
         "RMSE": 8.2477,
         "R2": 0.9885,
         "RMSLE": 0.0499,
         "MAPE": 0.0318,
         "_deepnote_index_column": "8"
        },
        {
         "MAE": 4.5574,
         "MSE": 47.779,
         "RMSE": 6.9122,
         "R2": 0.9904,
         "RMSLE": 0.0457,
         "MAPE": 0.0309,
         "_deepnote_index_column": "9"
        },
        {
         "MAE": 4.4023,
         "MSE": 61.8218,
         "RMSE": 7.6919,
         "R2": 0.9882,
         "RMSLE": 0.0483,
         "MAPE": 0.029,
         "_deepnote_index_column": "Mean"
        },
        {
         "MAE": 0.5006,
         "MSE": 26.8014,
         "RMSE": 1.6297,
         "R2": 0.005,
         "RMSLE": 0.0117,
         "MAPE": 0.0038,
         "_deepnote_index_column": "SD"
        }
       ],
       "rows_bottom": null
      },
      "text/plain": "         MAE       MSE     RMSE      R2   RMSLE    MAPE\n0     4.8872   97.7101   9.8848  0.9797  0.0672  0.0336\n1     4.8244  120.6140  10.9824  0.9786  0.0582  0.0309\n2     3.9782   50.8124   7.1283  0.9912  0.0355  0.0239\n3     4.3180   59.1423   7.6904  0.9884  0.0414  0.0266\n4     3.8319   31.8988   5.6479  0.9939  0.0370  0.0253\n5     4.5067   62.6143   7.9129  0.9868  0.0674  0.0344\n6     4.4309   50.0485   7.0745  0.9912  0.0465  0.0293\n7     3.4672   29.5730   5.4381  0.9935  0.0346  0.0230\n8     5.2211   68.0252   8.2477  0.9885  0.0499  0.0318\n9     4.5574   47.7790   6.9122  0.9904  0.0457  0.0309\nMean  4.4023   61.8218   7.6919  0.9882  0.0483  0.0290\nSD    0.5006   26.8014   1.6297  0.0050  0.0117  0.0038",
      "text/html": "<div>\n<style scoped>\n    .dataframe tbody tr th:only-of-type {\n        vertical-align: middle;\n    }\n\n    .dataframe tbody tr th {\n        vertical-align: top;\n    }\n\n    .dataframe thead th {\n        text-align: right;\n    }\n</style>\n<table border=\"1\" class=\"dataframe\">\n  <thead>\n    <tr style=\"text-align: right;\">\n      <th></th>\n      <th>MAE</th>\n      <th>MSE</th>\n      <th>RMSE</th>\n      <th>R2</th>\n      <th>RMSLE</th>\n      <th>MAPE</th>\n    </tr>\n  </thead>\n  <tbody>\n    <tr>\n      <th>0</th>\n      <td>4.8872</td>\n      <td>97.7101</td>\n      <td>9.8848</td>\n      <td>0.9797</td>\n      <td>0.0672</td>\n      <td>0.0336</td>\n    </tr>\n    <tr>\n      <th>1</th>\n      <td>4.8244</td>\n      <td>120.6140</td>\n      <td>10.9824</td>\n      <td>0.9786</td>\n      <td>0.0582</td>\n      <td>0.0309</td>\n    </tr>\n    <tr>\n      <th>2</th>\n      <td>3.9782</td>\n      <td>50.8124</td>\n      <td>7.1283</td>\n      <td>0.9912</td>\n      <td>0.0355</td>\n      <td>0.0239</td>\n    </tr>\n    <tr>\n      <th>3</th>\n      <td>4.3180</td>\n      <td>59.1423</td>\n      <td>7.6904</td>\n      <td>0.9884</td>\n      <td>0.0414</td>\n      <td>0.0266</td>\n    </tr>\n    <tr>\n      <th>4</th>\n      <td>3.8319</td>\n      <td>31.8988</td>\n      <td>5.6479</td>\n      <td>0.9939</td>\n      <td>0.0370</td>\n      <td>0.0253</td>\n    </tr>\n    <tr>\n      <th>5</th>\n      <td>4.5067</td>\n      <td>62.6143</td>\n      <td>7.9129</td>\n      <td>0.9868</td>\n      <td>0.0674</td>\n      <td>0.0344</td>\n    </tr>\n    <tr>\n      <th>6</th>\n      <td>4.4309</td>\n      <td>50.0485</td>\n      <td>7.0745</td>\n      <td>0.9912</td>\n      <td>0.0465</td>\n      <td>0.0293</td>\n    </tr>\n    <tr>\n      <th>7</th>\n      <td>3.4672</td>\n      <td>29.5730</td>\n      <td>5.4381</td>\n      <td>0.9935</td>\n      <td>0.0346</td>\n      <td>0.0230</td>\n    </tr>\n    <tr>\n      <th>8</th>\n      <td>5.2211</td>\n      <td>68.0252</td>\n      <td>8.2477</td>\n      <td>0.9885</td>\n      <td>0.0499</td>\n      <td>0.0318</td>\n    </tr>\n    <tr>\n      <th>9</th>\n      <td>4.5574</td>\n      <td>47.7790</td>\n      <td>6.9122</td>\n      <td>0.9904</td>\n      <td>0.0457</td>\n      <td>0.0309</td>\n    </tr>\n    <tr>\n      <th>Mean</th>\n      <td>4.4023</td>\n      <td>61.8218</td>\n      <td>7.6919</td>\n      <td>0.9882</td>\n      <td>0.0483</td>\n      <td>0.0290</td>\n    </tr>\n    <tr>\n      <th>SD</th>\n      <td>0.5006</td>\n      <td>26.8014</td>\n      <td>1.6297</td>\n      <td>0.0050</td>\n      <td>0.0117</td>\n      <td>0.0038</td>\n    </tr>\n  </tbody>\n</table>\n</div>"
     },
     "metadata": {},
     "output_type": "display_data"
    }
   ]
  },
  {
   "cell_type": "code",
   "metadata": {
    "tags": [],
    "cell_id": "00010-db33aa5e-d82d-40a4-b53c-c5a8903a3b29",
    "deepnote_to_be_reexecuted": false,
    "source_hash": "15212e04",
    "execution_start": 1623858874058,
    "execution_millis": 243,
    "deepnote_cell_type": "code"
   },
   "source": "pd = predict_model(model)",
   "execution_count": 18,
   "outputs": [
    {
     "data": {
      "application/vnd.deepnote.dataframe.v2+json": {
       "row_count": 1,
       "column_count": 7,
       "columns": [
        {
         "name": "Model",
         "dtype": "object",
         "stats": {
          "unique_count": 1,
          "nan_count": 0,
          "categories": [
           {
            "name": "Extra Trees Regressor",
            "count": 1
           }
          ]
         }
        },
        {
         "name": "MAE",
         "dtype": "float64",
         "stats": {
          "unique_count": 1,
          "nan_count": 0,
          "min": "5.5171",
          "max": "5.5171",
          "histogram": [
           {
            "bin_start": 5.0171,
            "bin_end": 5.1171,
            "count": 0
           },
           {
            "bin_start": 5.1171,
            "bin_end": 5.2171,
            "count": 0
           },
           {
            "bin_start": 5.2171,
            "bin_end": 5.3171,
            "count": 0
           },
           {
            "bin_start": 5.3171,
            "bin_end": 5.4171000000000005,
            "count": 0
           },
           {
            "bin_start": 5.4171000000000005,
            "bin_end": 5.5171,
            "count": 0
           },
           {
            "bin_start": 5.5171,
            "bin_end": 5.617100000000001,
            "count": 1
           },
           {
            "bin_start": 5.617100000000001,
            "bin_end": 5.7171,
            "count": 0
           },
           {
            "bin_start": 5.7171,
            "bin_end": 5.8171,
            "count": 0
           },
           {
            "bin_start": 5.8171,
            "bin_end": 5.9171000000000005,
            "count": 0
           },
           {
            "bin_start": 5.9171000000000005,
            "bin_end": 6.0171,
            "count": 0
           }
          ]
         }
        },
        {
         "name": "MSE",
         "dtype": "float64",
         "stats": {
          "unique_count": 1,
          "nan_count": 0,
          "min": "174.5466",
          "max": "174.5466",
          "histogram": [
           {
            "bin_start": 174.0466,
            "bin_end": 174.1466,
            "count": 0
           },
           {
            "bin_start": 174.1466,
            "bin_end": 174.2466,
            "count": 0
           },
           {
            "bin_start": 174.2466,
            "bin_end": 174.34660000000002,
            "count": 0
           },
           {
            "bin_start": 174.34660000000002,
            "bin_end": 174.44660000000002,
            "count": 0
           },
           {
            "bin_start": 174.44660000000002,
            "bin_end": 174.5466,
            "count": 0
           },
           {
            "bin_start": 174.5466,
            "bin_end": 174.6466,
            "count": 1
           },
           {
            "bin_start": 174.6466,
            "bin_end": 174.7466,
            "count": 0
           },
           {
            "bin_start": 174.7466,
            "bin_end": 174.84660000000002,
            "count": 0
           },
           {
            "bin_start": 174.84660000000002,
            "bin_end": 174.94660000000002,
            "count": 0
           },
           {
            "bin_start": 174.94660000000002,
            "bin_end": 175.0466,
            "count": 0
           }
          ]
         }
        },
        {
         "name": "RMSE",
         "dtype": "float64",
         "stats": {
          "unique_count": 1,
          "nan_count": 0,
          "min": "13.2116",
          "max": "13.2116",
          "histogram": [
           {
            "bin_start": 12.7116,
            "bin_end": 12.8116,
            "count": 0
           },
           {
            "bin_start": 12.8116,
            "bin_end": 12.9116,
            "count": 0
           },
           {
            "bin_start": 12.9116,
            "bin_end": 13.011600000000001,
            "count": 0
           },
           {
            "bin_start": 13.011600000000001,
            "bin_end": 13.111600000000001,
            "count": 0
           },
           {
            "bin_start": 13.111600000000001,
            "bin_end": 13.2116,
            "count": 0
           },
           {
            "bin_start": 13.2116,
            "bin_end": 13.3116,
            "count": 1
           },
           {
            "bin_start": 13.3116,
            "bin_end": 13.4116,
            "count": 0
           },
           {
            "bin_start": 13.4116,
            "bin_end": 13.511600000000001,
            "count": 0
           },
           {
            "bin_start": 13.511600000000001,
            "bin_end": 13.611600000000001,
            "count": 0
           },
           {
            "bin_start": 13.611600000000001,
            "bin_end": 13.7116,
            "count": 0
           }
          ]
         }
        },
        {
         "name": "R2",
         "dtype": "float64",
         "stats": {
          "unique_count": 1,
          "nan_count": 0,
          "min": "0.9665",
          "max": "0.9665",
          "histogram": [
           {
            "bin_start": 0.4665,
            "bin_end": 0.5665,
            "count": 0
           },
           {
            "bin_start": 0.5665,
            "bin_end": 0.6665,
            "count": 0
           },
           {
            "bin_start": 0.6665,
            "bin_end": 0.7665,
            "count": 0
           },
           {
            "bin_start": 0.7665,
            "bin_end": 0.8665,
            "count": 0
           },
           {
            "bin_start": 0.8665,
            "bin_end": 0.9664999999999999,
            "count": 0
           },
           {
            "bin_start": 0.9664999999999999,
            "bin_end": 1.0665,
            "count": 1
           },
           {
            "bin_start": 1.0665,
            "bin_end": 1.1665,
            "count": 0
           },
           {
            "bin_start": 1.1665,
            "bin_end": 1.2665,
            "count": 0
           },
           {
            "bin_start": 1.2665,
            "bin_end": 1.3664999999999998,
            "count": 0
           },
           {
            "bin_start": 1.3664999999999998,
            "bin_end": 1.4665,
            "count": 0
           }
          ]
         }
        },
        {
         "name": "RMSLE",
         "dtype": "float64",
         "stats": {
          "unique_count": 1,
          "nan_count": 0,
          "min": "0.0781",
          "max": "0.0781",
          "histogram": [
           {
            "bin_start": -0.4219,
            "bin_end": -0.32189999999999996,
            "count": 0
           },
           {
            "bin_start": -0.32189999999999996,
            "bin_end": -0.2219,
            "count": 0
           },
           {
            "bin_start": -0.2219,
            "bin_end": -0.12189999999999995,
            "count": 0
           },
           {
            "bin_start": -0.12189999999999995,
            "bin_end": -0.021899999999999975,
            "count": 0
           },
           {
            "bin_start": -0.021899999999999975,
            "bin_end": 0.0781,
            "count": 0
           },
           {
            "bin_start": 0.0781,
            "bin_end": 0.1781000000000001,
            "count": 1
           },
           {
            "bin_start": 0.1781000000000001,
            "bin_end": 0.27810000000000007,
            "count": 0
           },
           {
            "bin_start": 0.27810000000000007,
            "bin_end": 0.37810000000000005,
            "count": 0
           },
           {
            "bin_start": 0.37810000000000005,
            "bin_end": 0.4781,
            "count": 0
           },
           {
            "bin_start": 0.4781,
            "bin_end": 0.5781000000000001,
            "count": 0
           }
          ]
         }
        },
        {
         "name": "MAPE",
         "dtype": "float64",
         "stats": {
          "unique_count": 1,
          "nan_count": 0,
          "min": "0.038",
          "max": "0.038",
          "histogram": [
           {
            "bin_start": -0.462,
            "bin_end": -0.362,
            "count": 0
           },
           {
            "bin_start": -0.362,
            "bin_end": -0.262,
            "count": 0
           },
           {
            "bin_start": -0.262,
            "bin_end": -0.16199999999999998,
            "count": 0
           },
           {
            "bin_start": -0.16199999999999998,
            "bin_end": -0.062,
            "count": 0
           },
           {
            "bin_start": -0.062,
            "bin_end": 0.03799999999999998,
            "count": 0
           },
           {
            "bin_start": 0.03799999999999998,
            "bin_end": 0.13800000000000007,
            "count": 1
           },
           {
            "bin_start": 0.13800000000000007,
            "bin_end": 0.23800000000000004,
            "count": 0
           },
           {
            "bin_start": 0.23800000000000004,
            "bin_end": 0.338,
            "count": 0
           },
           {
            "bin_start": 0.338,
            "bin_end": 0.438,
            "count": 0
           },
           {
            "bin_start": 0.438,
            "bin_end": 0.538,
            "count": 0
           }
          ]
         }
        },
        {
         "name": "_deepnote_index_column",
         "dtype": "int64"
        }
       ],
       "rows_top": [
        {
         "Model": "Extra Trees Regressor",
         "MAE": 5.5171,
         "MSE": 174.5466,
         "RMSE": 13.2116,
         "R2": 0.9665,
         "RMSLE": 0.0781,
         "MAPE": 0.038,
         "_deepnote_index_column": 0
        }
       ],
       "rows_bottom": null
      },
      "text/plain": "                   Model     MAE       MSE     RMSE      R2   RMSLE   MAPE\n0  Extra Trees Regressor  5.5171  174.5466  13.2116  0.9665  0.0781  0.038",
      "text/html": "<div>\n<style scoped>\n    .dataframe tbody tr th:only-of-type {\n        vertical-align: middle;\n    }\n\n    .dataframe tbody tr th {\n        vertical-align: top;\n    }\n\n    .dataframe thead th {\n        text-align: right;\n    }\n</style>\n<table border=\"1\" class=\"dataframe\">\n  <thead>\n    <tr style=\"text-align: right;\">\n      <th></th>\n      <th>Model</th>\n      <th>MAE</th>\n      <th>MSE</th>\n      <th>RMSE</th>\n      <th>R2</th>\n      <th>RMSLE</th>\n      <th>MAPE</th>\n    </tr>\n  </thead>\n  <tbody>\n    <tr>\n      <th>0</th>\n      <td>Extra Trees Regressor</td>\n      <td>5.5171</td>\n      <td>174.5466</td>\n      <td>13.2116</td>\n      <td>0.9665</td>\n      <td>0.0781</td>\n      <td>0.038</td>\n    </tr>\n  </tbody>\n</table>\n</div>"
     },
     "metadata": {},
     "output_type": "display_data"
    }
   ]
  },
  {
   "cell_type": "code",
   "metadata": {
    "tags": [],
    "cell_id": "00011-b05e3dbe-67f4-4d86-abaf-bb9b58efa6d2",
    "deepnote_to_be_reexecuted": false,
    "source_hash": "f2c307fc",
    "execution_start": 1623858887077,
    "execution_millis": 409,
    "deepnote_cell_type": "code"
   },
   "source": "from src.helpers.diabetes.cega import clarke_error_grid\nclarke_error_grid(pd['label'], pd['Label'], 'Test')",
   "execution_count": 19,
   "outputs": [
    {
     "output_type": "execute_result",
     "execution_count": 19,
     "data": {
      "text/plain": "(<module 'matplotlib.pyplot' from '/shared-libs/python3.8/py/lib/python3.8/site-packages/matplotlib/pyplot.py'>,\n [893, 4, 1, 1, 0])"
     },
     "metadata": {}
    },
    {
     "data": {
      "text/plain": "<Figure size 432x288 with 1 Axes>",
      "image/png": "[encoded data removed]"
     },
     "metadata": {
      "needs_background": "light",
      "image/png": {
       "width": 281,
       "height": 278
      }
     },
     "output_type": "display_data"
    }
   ]
  },
  {
   "cell_type": "code",
   "metadata": {
    "tags": [],
    "cell_id": "00012-e44758b9-cee1-4a74-a554-2a7a9ba2cea6",
    "deepnote_to_be_reexecuted": false,
    "source_hash": "c7dfc275",
    "execution_start": 1623860903202,
    "execution_millis": 1466,
    "deepnote_cell_type": "code"
   },
   "source": "test_parameters = {\n    'ohio_no' : 559,\n    'scope' : 'test',\n    'train_ds_size' : 100000,\n    'window_size' : 6,\n    'prediction_horizon' : 1,\n    'minimal_features' : False,\n}\ntest_parameters['ds_name'] = create_ds_name(test_parameters)\ndf4 = create_tsfresh_dataframe(test_parameters)\ndf6 = df4.drop(columns=['start', 'end', 'start_time', 'end_time'])\npd2 = predict_model(model, data=df6)",
   "execution_count": 42,
   "outputs": [
    {
     "name": "stdout",
     "text": "dataframes/559_test_100000_6_1.pkl\n{'ohio_no': 559, 'scope': 'test', 'train_ds_size': 100000, 'window_size': 6, 'prediction_horizon': 1, 'minimal_features': False, 'ds_name': 'dataframes/559_test_100000_6_1.pkl'}\n",
     "output_type": "stream"
    },
    {
     "data": {
      "text/plain": "<Figure size 432x288 with 1 Axes>",
      "image/png": "[encoded data removed]"
     },
     "metadata": {
      "needs_background": "light",
      "image/png": {
       "width": 382,
       "height": 262
      }
     },
     "output_type": "display_data"
    }
   ]
  },
  {
   "cell_type": "code",
   "metadata": {
    "tags": [],
    "cell_id": "00014-e62c2941-91e2-4e91-a963-542e2dc61379",
    "deepnote_to_be_reexecuted": false,
    "source_hash": "24dd5fe1",
    "execution_start": 1623860911274,
    "execution_millis": 399,
    "deepnote_cell_type": "code"
   },
   "source": "clarke_error_grid(pd2['label'], pd2['Label'], 'Test')",
   "execution_count": 43,
   "outputs": [
    {
     "output_type": "execute_result",
     "execution_count": 43,
     "data": {
      "text/plain": "(<module 'matplotlib.pyplot' from '/shared-libs/python3.8/py/lib/python3.8/site-packages/matplotlib/pyplot.py'>,\n [2484, 13, 1, 10, 0])"
     },
     "metadata": {}
    },
    {
     "data": {
      "text/plain": "<Figure size 432x288 with 1 Axes>",
      "image/png": "[encoded data removed]"
     },
     "metadata": {
      "needs_background": "light",
      "image/png": {
       "width": 281,
       "height": 278
      }
     },
     "output_type": "display_data"
    }
   ]
  },
  {
   "cell_type": "code",
   "metadata": {
    "tags": [],
    "cell_id": "00015-2b003537-ac20-4792-be91-d55607d0cd7b",
    "deepnote_to_be_reexecuted": true,
    "source_hash": "b623e53d",
    "deepnote_cell_type": "code"
   },
   "source": "",
   "execution_count": null,
   "outputs": []
  },
  {
   "cell_type": "code",
   "metadata": {
    "tags": [],
    "cell_id": "00019-f2ebe894-d0d8-45d9-be88-4110a9f8149e",
    "deepnote_to_be_reexecuted": true,
    "source_hash": "b623e53d",
    "deepnote_cell_type": "code"
   },
   "source": "",
   "execution_count": null,
   "outputs": []
  },
  {
   "cell_type": "markdown",
   "source": "<a style='text-decoration:none;line-height:16px;display:flex;color:#5B5B62;padding:10px;justify-content:end;' href='https://deepnote.com?utm_source=created-in-deepnote-cell&projectId=d560f233-0034-499f-bc4e-7ada8795cb9f' target=\"_blank\">\n<img alt='Created in deepnote.com' style='display:inline;max-height:16px;margin:0px;margin-right:7.5px;' src='data:image/svg+xml;base64,PD94bWwgdmVyc2lvbj0iMS4wIiBlbmNvZGluZz0iVVRGLTgiPz4KPHN2ZyB3aWR0aD0iODBweCIgaGVpZ2h0PSI4MHB4IiB2aWV3Qm94PSIwIDAgODAgODAiIHZlcnNpb249IjEuMSIgeG1sbnM9Imh0dHA6Ly93d3cudzMub3JnLzIwMDAvc3ZnIiB4bWxuczp4bGluaz0iaHR0cDovL3d3dy53My5vcmcvMTk5OS94bGluayI+CiAgICA8IS0tIEdlbmVyYXRvcjogU2tldGNoIDU0LjEgKDc2NDkwKSAtIGh0dHBzOi8vc2tldGNoYXBwLmNvbSAtLT4KICAgIDx0aXRsZT5Hcm91cCAzPC90aXRsZT4KICAgIDxkZXNjPkNyZWF0ZWQgd2l0aCBTa2V0Y2guPC9kZXNjPgogICAgPGcgaWQ9IkxhbmRpbmciIHN0cm9rZT0ibm9uZSIgc3Ryb2tlLXdpZHRoPSIxIiBmaWxsPSJub25lIiBmaWxsLXJ1bGU9ImV2ZW5vZGQiPgogICAgICAgIDxnIGlkPSJBcnRib2FyZCIgdHJhbnNmb3JtPSJ0cmFuc2xhdGUoLTEyMzUuMDAwMDAwLCAtNzkuMDAwMDAwKSI+CiAgICAgICAgICAgIDxnIGlkPSJHcm91cC0zIiB0cmFuc2Zvcm09InRyYW5zbGF0ZSgxMjM1LjAwMDAwMCwgNzkuMDAwMDAwKSI+CiAgICAgICAgICAgICAgICA8cG9seWdvbiBpZD0iUGF0aC0yMCIgZmlsbD0iIzAyNjVCNCIgcG9pbnRzPSIyLjM3NjIzNzYyIDgwIDM4LjA0NzY2NjcgODAgNTcuODIxNzgyMiA3My44MDU3NTkyIDU3LjgyMTc4MjIgMzIuNzU5MjczOSAzOS4xNDAyMjc4IDMxLjY4MzE2ODMiPjwvcG9seWdvbj4KICAgICAgICAgICAgICAgIDxwYXRoIGQ9Ik0zNS4wMDc3MTgsODAgQzQyLjkwNjIwMDcsNzYuNDU0OTM1OCA0Ny41NjQ5MTY3LDcxLjU0MjI2NzEgNDguOTgzODY2LDY1LjI2MTk5MzkgQzUxLjExMjI4OTksNTUuODQxNTg0MiA0MS42NzcxNzk1LDQ5LjIxMjIyODQgMjUuNjIzOTg0Niw0OS4yMTIyMjg0IEMyNS40ODQ5Mjg5LDQ5LjEyNjg0NDggMjkuODI2MTI5Niw0My4yODM4MjQ4IDM4LjY0NzU4NjksMzEuNjgzMTY4MyBMNzIuODcxMjg3MSwzMi41NTQ0MjUgTDY1LjI4MDk3Myw2Ny42NzYzNDIxIEw1MS4xMTIyODk5LDc3LjM3NjE0NCBMMzUuMDA3NzE4LDgwIFoiIGlkPSJQYXRoLTIyIiBmaWxsPSIjMDAyODY4Ij48L3BhdGg+CiAgICAgICAgICAgICAgICA8cGF0aCBkPSJNMCwzNy43MzA0NDA1IEwyNy4xMTQ1MzcsMC4yNTcxMTE0MzYgQzYyLjM3MTUxMjMsLTEuOTkwNzE3MDEgODAsMTAuNTAwMzkyNyA4MCwzNy43MzA0NDA1IEM4MCw2NC45NjA0ODgyIDY0Ljc3NjUwMzgsNzkuMDUwMzQxNCAzNC4zMjk1MTEzLDgwIEM0Ny4wNTUzNDg5LDc3LjU2NzA4MDggNTMuNDE4MjY3Nyw3MC4zMTM2MTAzIDUzLjQxODI2NzcsNTguMjM5NTg4NSBDNTMuNDE4MjY3Nyw0MC4xMjg1NTU3IDM2LjMwMzk1NDQsMzcuNzMwNDQwNSAyNS4yMjc0MTcsMzcuNzMwNDQwNSBDMTcuODQzMDU4NiwzNy43MzA0NDA1IDkuNDMzOTE5NjYsMzcuNzMwNDQwNSAwLDM3LjczMDQ0MDUgWiIgaWQ9IlBhdGgtMTkiIGZpbGw9IiMzNzkzRUYiPjwvcGF0aD4KICAgICAgICAgICAgPC9nPgogICAgICAgIDwvZz4KICAgIDwvZz4KPC9zdmc+' > </img>\nCreated in <span style='font-weight:600;margin-left:4px;'>Deepnote</span></a>",
   "metadata": {
    "tags": [],
    "created_in_deepnote_cell": true,
    "deepnote_cell_type": "markdown"
   }
  }
 ],
 "nbformat": 4,
 "nbformat_minor": 2,
 "metadata": {
  "orig_nbformat": 2,
  "deepnote": {
   "is_reactive": false
  },
  "deepnote_notebook_id": "cc098a8b-d0ad-42ad-8a05-eeb1b1febc33",
  "deepnote_execution_queue": []
 }
}