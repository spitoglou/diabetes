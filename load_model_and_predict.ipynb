{
 "cells": [
  {
   "cell_type": "code",
   "execution_count": 1,
   "metadata": {},
   "outputs": [],
   "source": [
    "from pycaret.regression import load_model, predict_model"
   ]
  },
  {
   "cell_type": "code",
   "execution_count": 3,
   "metadata": {},
   "outputs": [
    {
     "name": "stdout",
     "output_type": "stream",
     "text": [
      "Transformation Pipeline and Model Successfully Loaded\n"
     ]
    }
   ],
   "source": [
    "model = load_model('models/559_6_6_1_LGBMRegressor_41d80224-a2cd-4514-afd7-89f7808d6144')"
   ]
  },
  {
   "cell_type": "code",
   "execution_count": 4,
   "metadata": {},
   "outputs": [
    {
     "data": {
      "text/html": [
       "<style>#sk-container-id-1 {color: black;background-color: white;}#sk-container-id-1 pre{padding: 0;}#sk-container-id-1 div.sk-toggleable {background-color: white;}#sk-container-id-1 label.sk-toggleable__label {cursor: pointer;display: block;width: 100%;margin-bottom: 0;padding: 0.3em;box-sizing: border-box;text-align: center;}#sk-container-id-1 label.sk-toggleable__label-arrow:before {content: \"▸\";float: left;margin-right: 0.25em;color: #696969;}#sk-container-id-1 label.sk-toggleable__label-arrow:hover:before {color: black;}#sk-container-id-1 div.sk-estimator:hover label.sk-toggleable__label-arrow:before {color: black;}#sk-container-id-1 div.sk-toggleable__content {max-height: 0;max-width: 0;overflow: hidden;text-align: left;background-color: #f0f8ff;}#sk-container-id-1 div.sk-toggleable__content pre {margin: 0.2em;color: black;border-radius: 0.25em;background-color: #f0f8ff;}#sk-container-id-1 input.sk-toggleable__control:checked~div.sk-toggleable__content {max-height: 200px;max-width: 100%;overflow: auto;}#sk-container-id-1 input.sk-toggleable__control:checked~label.sk-toggleable__label-arrow:before {content: \"▾\";}#sk-container-id-1 div.sk-estimator input.sk-toggleable__control:checked~label.sk-toggleable__label {background-color: #d4ebff;}#sk-container-id-1 div.sk-label input.sk-toggleable__control:checked~label.sk-toggleable__label {background-color: #d4ebff;}#sk-container-id-1 input.sk-hidden--visually {border: 0;clip: rect(1px 1px 1px 1px);clip: rect(1px, 1px, 1px, 1px);height: 1px;margin: -1px;overflow: hidden;padding: 0;position: absolute;width: 1px;}#sk-container-id-1 div.sk-estimator {font-family: monospace;background-color: #f0f8ff;border: 1px dotted black;border-radius: 0.25em;box-sizing: border-box;margin-bottom: 0.5em;}#sk-container-id-1 div.sk-estimator:hover {background-color: #d4ebff;}#sk-container-id-1 div.sk-parallel-item::after {content: \"\";width: 100%;border-bottom: 1px solid gray;flex-grow: 1;}#sk-container-id-1 div.sk-label:hover label.sk-toggleable__label {background-color: #d4ebff;}#sk-container-id-1 div.sk-serial::before {content: \"\";position: absolute;border-left: 1px solid gray;box-sizing: border-box;top: 0;bottom: 0;left: 50%;z-index: 0;}#sk-container-id-1 div.sk-serial {display: flex;flex-direction: column;align-items: center;background-color: white;padding-right: 0.2em;padding-left: 0.2em;position: relative;}#sk-container-id-1 div.sk-item {position: relative;z-index: 1;}#sk-container-id-1 div.sk-parallel {display: flex;align-items: stretch;justify-content: center;background-color: white;position: relative;}#sk-container-id-1 div.sk-item::before, #sk-container-id-1 div.sk-parallel-item::before {content: \"\";position: absolute;border-left: 1px solid gray;box-sizing: border-box;top: 0;bottom: 0;left: 50%;z-index: -1;}#sk-container-id-1 div.sk-parallel-item {display: flex;flex-direction: column;z-index: 1;position: relative;background-color: white;}#sk-container-id-1 div.sk-parallel-item:first-child::after {align-self: flex-end;width: 50%;}#sk-container-id-1 div.sk-parallel-item:last-child::after {align-self: flex-start;width: 50%;}#sk-container-id-1 div.sk-parallel-item:only-child::after {width: 0;}#sk-container-id-1 div.sk-dashed-wrapped {border: 1px dashed gray;margin: 0 0.4em 0.5em 0.4em;box-sizing: border-box;padding-bottom: 0.4em;background-color: white;}#sk-container-id-1 div.sk-label label {font-family: monospace;font-weight: bold;display: inline-block;line-height: 1.2em;}#sk-container-id-1 div.sk-label-container {text-align: center;}#sk-container-id-1 div.sk-container {/* jupyter's `normalize.less` sets `[hidden] { display: none; }` but bootstrap.min.css set `[hidden] { display: none !important; }` so we also need the `!important` here to be able to override the default hidden behavior on the sphinx rendered scikit-learn.org. See: https://github.com/scikit-learn/scikit-learn/issues/21755 */display: inline-block !important;position: relative;}#sk-container-id-1 div.sk-text-repr-fallback {display: none;}</style><div id=\"sk-container-id-1\" class=\"sk-top-container\"><div class=\"sk-text-repr-fallback\"><pre>Pipeline(memory=FastMemory(location=C:\\Users\\spito\\AppData\\Roaming\\MobaXterm\\slash\\var\\log\\xwin\\joblib),\n",
       "         steps=[(&#x27;numerical_imputer&#x27;,\n",
       "                 TransformerWrapper(include=[&#x27;bg_value__variance_larger_than_standard_deviation&#x27;,\n",
       "                                             &#x27;bg_value__has_duplicate_max&#x27;,\n",
       "                                             &#x27;bg_value__has_duplicate_min&#x27;,\n",
       "                                             &#x27;bg_value__has_duplicate&#x27;,\n",
       "                                             &#x27;bg_value__sum_values&#x27;,\n",
       "                                             &#x27;bg_value__abs_energy&#x27;,\n",
       "                                             &#x27;bg_va...\n",
       "                (&#x27;onehot_encoding&#x27;,\n",
       "                 TransformerWrapper(include=[&#x27;part_of_day&#x27;],\n",
       "                                    transformer=OneHotEncoder(cols=[&#x27;part_of_day&#x27;],\n",
       "                                                              handle_missing=&#x27;return_nan&#x27;,\n",
       "                                                              use_cat_names=True))),\n",
       "                (&#x27;feature_selection&#x27;,\n",
       "                 TransformerWrapper(exclude=[],\n",
       "                                    transformer=SelectFromModel(estimator=LGBMRegressor(),\n",
       "                                                                max_features=56,\n",
       "                                                                threshold=-inf))),\n",
       "                (&#x27;trained_model&#x27;, LGBMRegressor(random_state=1974))])</pre><b>In a Jupyter environment, please rerun this cell to show the HTML representation or trust the notebook. <br />On GitHub, the HTML representation is unable to render, please try loading this page with nbviewer.org.</b></div><div class=\"sk-container\" hidden><div class=\"sk-item sk-dashed-wrapped\"><div class=\"sk-label-container\"><div class=\"sk-label sk-toggleable\"><input class=\"sk-toggleable__control sk-hidden--visually\" id=\"sk-estimator-id-1\" type=\"checkbox\" ><label for=\"sk-estimator-id-1\" class=\"sk-toggleable__label sk-toggleable__label-arrow\">Pipeline</label><div class=\"sk-toggleable__content\"><pre>Pipeline(memory=FastMemory(location=C:\\Users\\spito\\AppData\\Roaming\\MobaXterm\\slash\\var\\log\\xwin\\joblib),\n",
       "         steps=[(&#x27;numerical_imputer&#x27;,\n",
       "                 TransformerWrapper(include=[&#x27;bg_value__variance_larger_than_standard_deviation&#x27;,\n",
       "                                             &#x27;bg_value__has_duplicate_max&#x27;,\n",
       "                                             &#x27;bg_value__has_duplicate_min&#x27;,\n",
       "                                             &#x27;bg_value__has_duplicate&#x27;,\n",
       "                                             &#x27;bg_value__sum_values&#x27;,\n",
       "                                             &#x27;bg_value__abs_energy&#x27;,\n",
       "                                             &#x27;bg_va...\n",
       "                (&#x27;onehot_encoding&#x27;,\n",
       "                 TransformerWrapper(include=[&#x27;part_of_day&#x27;],\n",
       "                                    transformer=OneHotEncoder(cols=[&#x27;part_of_day&#x27;],\n",
       "                                                              handle_missing=&#x27;return_nan&#x27;,\n",
       "                                                              use_cat_names=True))),\n",
       "                (&#x27;feature_selection&#x27;,\n",
       "                 TransformerWrapper(exclude=[],\n",
       "                                    transformer=SelectFromModel(estimator=LGBMRegressor(),\n",
       "                                                                max_features=56,\n",
       "                                                                threshold=-inf))),\n",
       "                (&#x27;trained_model&#x27;, LGBMRegressor(random_state=1974))])</pre></div></div></div><div class=\"sk-serial\"><div class=\"sk-item sk-dashed-wrapped\"><div class=\"sk-label-container\"><div class=\"sk-label sk-toggleable\"><input class=\"sk-toggleable__control sk-hidden--visually\" id=\"sk-estimator-id-2\" type=\"checkbox\" ><label for=\"sk-estimator-id-2\" class=\"sk-toggleable__label sk-toggleable__label-arrow\">numerical_imputer: TransformerWrapper</label><div class=\"sk-toggleable__content\"><pre>TransformerWrapper(include=[&#x27;bg_value__variance_larger_than_standard_deviation&#x27;,\n",
       "                            &#x27;bg_value__has_duplicate_max&#x27;,\n",
       "                            &#x27;bg_value__has_duplicate_min&#x27;,\n",
       "                            &#x27;bg_value__has_duplicate&#x27;, &#x27;bg_value__sum_values&#x27;,\n",
       "                            &#x27;bg_value__abs_energy&#x27;, &#x27;bg_value__mean_abs_change&#x27;,\n",
       "                            &#x27;bg_value__mean_change&#x27;,\n",
       "                            &#x27;bg_value__mean_second_derivative_central&#x27;,\n",
       "                            &#x27;bg_value__median&#x27;, &#x27;bg_value__mean&#x27;,\n",
       "                            &#x27;bg_val...\n",
       "                            &#x27;bg_value__count_below_mean&#x27;,\n",
       "                            &#x27;bg_value__last_location_of_maximum&#x27;,\n",
       "                            &#x27;bg_value__first_location_of_maximum&#x27;,\n",
       "                            &#x27;bg_value__last_location_of_minimum&#x27;,\n",
       "                            &#x27;bg_value__first_location_of_minimum&#x27;,\n",
       "                            &#x27;bg_value__percentage_of_reoccurring_values_to_all_values&#x27;,\n",
       "                            &#x27;bg_value__percentage_of_reoccurring_datapoints_to_all_datapoints&#x27;,\n",
       "                            &#x27;bg_value__sum_of_reoccurring_values&#x27;, ...],\n",
       "                   transformer=SimpleImputer())</pre></div></div></div><div class=\"sk-parallel\"><div class=\"sk-parallel-item\"><div class=\"sk-item\"><div class=\"sk-label-container\"><div class=\"sk-label sk-toggleable\"><input class=\"sk-toggleable__control sk-hidden--visually\" id=\"sk-estimator-id-3\" type=\"checkbox\" ><label for=\"sk-estimator-id-3\" class=\"sk-toggleable__label sk-toggleable__label-arrow\">transformer: SimpleImputer</label><div class=\"sk-toggleable__content\"><pre>SimpleImputer()</pre></div></div></div><div class=\"sk-serial\"><div class=\"sk-item\"><div class=\"sk-estimator sk-toggleable\"><input class=\"sk-toggleable__control sk-hidden--visually\" id=\"sk-estimator-id-4\" type=\"checkbox\" ><label for=\"sk-estimator-id-4\" class=\"sk-toggleable__label sk-toggleable__label-arrow\">SimpleImputer</label><div class=\"sk-toggleable__content\"><pre>SimpleImputer()</pre></div></div></div></div></div></div></div></div><div class=\"sk-item sk-dashed-wrapped\"><div class=\"sk-label-container\"><div class=\"sk-label sk-toggleable\"><input class=\"sk-toggleable__control sk-hidden--visually\" id=\"sk-estimator-id-5\" type=\"checkbox\" ><label for=\"sk-estimator-id-5\" class=\"sk-toggleable__label sk-toggleable__label-arrow\">categorical_imputer: TransformerWrapper</label><div class=\"sk-toggleable__content\"><pre>TransformerWrapper(include=[&#x27;part_of_day&#x27;],\n",
       "                   transformer=SimpleImputer(strategy=&#x27;most_frequent&#x27;))</pre></div></div></div><div class=\"sk-parallel\"><div class=\"sk-parallel-item\"><div class=\"sk-item\"><div class=\"sk-label-container\"><div class=\"sk-label sk-toggleable\"><input class=\"sk-toggleable__control sk-hidden--visually\" id=\"sk-estimator-id-6\" type=\"checkbox\" ><label for=\"sk-estimator-id-6\" class=\"sk-toggleable__label sk-toggleable__label-arrow\">transformer: SimpleImputer</label><div class=\"sk-toggleable__content\"><pre>SimpleImputer(strategy=&#x27;most_frequent&#x27;)</pre></div></div></div><div class=\"sk-serial\"><div class=\"sk-item\"><div class=\"sk-estimator sk-toggleable\"><input class=\"sk-toggleable__control sk-hidden--visually\" id=\"sk-estimator-id-7\" type=\"checkbox\" ><label for=\"sk-estimator-id-7\" class=\"sk-toggleable__label sk-toggleable__label-arrow\">SimpleImputer</label><div class=\"sk-toggleable__content\"><pre>SimpleImputer(strategy=&#x27;most_frequent&#x27;)</pre></div></div></div></div></div></div></div></div><div class=\"sk-item sk-dashed-wrapped\"><div class=\"sk-label-container\"><div class=\"sk-label sk-toggleable\"><input class=\"sk-toggleable__control sk-hidden--visually\" id=\"sk-estimator-id-8\" type=\"checkbox\" ><label for=\"sk-estimator-id-8\" class=\"sk-toggleable__label sk-toggleable__label-arrow\">onehot_encoding: TransformerWrapper</label><div class=\"sk-toggleable__content\"><pre>TransformerWrapper(include=[&#x27;part_of_day&#x27;],\n",
       "                   transformer=OneHotEncoder(cols=[&#x27;part_of_day&#x27;],\n",
       "                                             handle_missing=&#x27;return_nan&#x27;,\n",
       "                                             use_cat_names=True))</pre></div></div></div><div class=\"sk-parallel\"><div class=\"sk-parallel-item\"><div class=\"sk-item\"><div class=\"sk-label-container\"><div class=\"sk-label sk-toggleable\"><input class=\"sk-toggleable__control sk-hidden--visually\" id=\"sk-estimator-id-9\" type=\"checkbox\" ><label for=\"sk-estimator-id-9\" class=\"sk-toggleable__label sk-toggleable__label-arrow\">transformer: OneHotEncoder</label><div class=\"sk-toggleable__content\"><pre>OneHotEncoder(cols=[&#x27;part_of_day&#x27;], handle_missing=&#x27;return_nan&#x27;,\n",
       "              use_cat_names=True)</pre></div></div></div><div class=\"sk-serial\"><div class=\"sk-item\"><div class=\"sk-estimator sk-toggleable\"><input class=\"sk-toggleable__control sk-hidden--visually\" id=\"sk-estimator-id-10\" type=\"checkbox\" ><label for=\"sk-estimator-id-10\" class=\"sk-toggleable__label sk-toggleable__label-arrow\">OneHotEncoder</label><div class=\"sk-toggleable__content\"><pre>OneHotEncoder(cols=[&#x27;part_of_day&#x27;], handle_missing=&#x27;return_nan&#x27;,\n",
       "              use_cat_names=True)</pre></div></div></div></div></div></div></div></div><div class=\"sk-item sk-dashed-wrapped\"><div class=\"sk-label-container\"><div class=\"sk-label sk-toggleable\"><input class=\"sk-toggleable__control sk-hidden--visually\" id=\"sk-estimator-id-11\" type=\"checkbox\" ><label for=\"sk-estimator-id-11\" class=\"sk-toggleable__label sk-toggleable__label-arrow\">feature_selection: TransformerWrapper</label><div class=\"sk-toggleable__content\"><pre>TransformerWrapper(exclude=[],\n",
       "                   transformer=SelectFromModel(estimator=LGBMRegressor(),\n",
       "                                               max_features=56,\n",
       "                                               threshold=-inf))</pre></div></div></div><div class=\"sk-parallel\"><div class=\"sk-parallel-item\"><div class=\"sk-item\"><div class=\"sk-label-container\"><div class=\"sk-label sk-toggleable\"><input class=\"sk-toggleable__control sk-hidden--visually\" id=\"sk-estimator-id-12\" type=\"checkbox\" ><label for=\"sk-estimator-id-12\" class=\"sk-toggleable__label sk-toggleable__label-arrow\">transformer: SelectFromModel</label><div class=\"sk-toggleable__content\"><pre>SelectFromModel(estimator=LGBMRegressor(), max_features=56, threshold=-inf)</pre></div></div></div><div class=\"sk-serial\"><div class=\"sk-item sk-dashed-wrapped\"><div class=\"sk-parallel\"><div class=\"sk-parallel-item\"><div class=\"sk-item\"><div class=\"sk-label-container\"><div class=\"sk-label sk-toggleable\"><input class=\"sk-toggleable__control sk-hidden--visually\" id=\"sk-estimator-id-13\" type=\"checkbox\" ><label for=\"sk-estimator-id-13\" class=\"sk-toggleable__label sk-toggleable__label-arrow\">estimator: LGBMRegressor</label><div class=\"sk-toggleable__content\"><pre>LGBMRegressor()</pre></div></div></div><div class=\"sk-serial\"><div class=\"sk-item\"><div class=\"sk-estimator sk-toggleable\"><input class=\"sk-toggleable__control sk-hidden--visually\" id=\"sk-estimator-id-14\" type=\"checkbox\" ><label for=\"sk-estimator-id-14\" class=\"sk-toggleable__label sk-toggleable__label-arrow\">LGBMRegressor</label><div class=\"sk-toggleable__content\"><pre>LGBMRegressor()</pre></div></div></div></div></div></div></div></div></div></div></div></div></div><div class=\"sk-item\"><div class=\"sk-estimator sk-toggleable\"><input class=\"sk-toggleable__control sk-hidden--visually\" id=\"sk-estimator-id-15\" type=\"checkbox\" ><label for=\"sk-estimator-id-15\" class=\"sk-toggleable__label sk-toggleable__label-arrow\">LGBMRegressor</label><div class=\"sk-toggleable__content\"><pre>LGBMRegressor(random_state=1974)</pre></div></div></div></div></div></div></div>"
      ],
      "text/plain": [
       "Pipeline(memory=FastMemory(location=C:\\Users\\spito\\AppData\\Roaming\\MobaXterm\\slash\\var\\log\\xwin\\joblib),\n",
       "         steps=[('numerical_imputer',\n",
       "                 TransformerWrapper(include=['bg_value__variance_larger_than_standard_deviation',\n",
       "                                             'bg_value__has_duplicate_max',\n",
       "                                             'bg_value__has_duplicate_min',\n",
       "                                             'bg_value__has_duplicate',\n",
       "                                             'bg_value__sum_values',\n",
       "                                             'bg_value__abs_energy',\n",
       "                                             'bg_va...\n",
       "                ('onehot_encoding',\n",
       "                 TransformerWrapper(include=['part_of_day'],\n",
       "                                    transformer=OneHotEncoder(cols=['part_of_day'],\n",
       "                                                              handle_missing='return_nan',\n",
       "                                                              use_cat_names=True))),\n",
       "                ('feature_selection',\n",
       "                 TransformerWrapper(exclude=[],\n",
       "                                    transformer=SelectFromModel(estimator=LGBMRegressor(),\n",
       "                                                                max_features=56,\n",
       "                                                                threshold=-inf))),\n",
       "                ('trained_model', LGBMRegressor(random_state=1974))])"
      ]
     },
     "execution_count": 4,
     "metadata": {},
     "output_type": "execute_result"
    }
   ],
   "source": [
    "model"
   ]
  },
  {
   "cell_type": "code",
   "execution_count": 5,
   "metadata": {},
   "outputs": [],
   "source": [
    "from src.bgc_providers.ohio_bgc_provider import OhioBgcProvider\n",
    "test_provider = OhioBgcProvider()\n",
    "test_dataframe = test_provider.tsfresh_dataframe()"
   ]
  },
  {
   "cell_type": "code",
   "execution_count": 7,
   "metadata": {},
   "outputs": [
    {
     "data": {
      "text/html": [
       "<div>\n",
       "<style scoped>\n",
       "    .dataframe tbody tr th:only-of-type {\n",
       "        vertical-align: middle;\n",
       "    }\n",
       "\n",
       "    .dataframe tbody tr th {\n",
       "        vertical-align: top;\n",
       "    }\n",
       "\n",
       "    .dataframe thead th {\n",
       "        text-align: right;\n",
       "    }\n",
       "</style>\n",
       "<table border=\"1\" class=\"dataframe\">\n",
       "  <thead>\n",
       "    <tr style=\"text-align: right;\">\n",
       "      <th></th>\n",
       "      <th>date_time</th>\n",
       "      <th>mock_date</th>\n",
       "      <th>time_of_day</th>\n",
       "      <th>part_of_day</th>\n",
       "      <th>time</th>\n",
       "      <th>bg_value</th>\n",
       "      <th>id</th>\n",
       "    </tr>\n",
       "  </thead>\n",
       "  <tbody>\n",
       "    <tr>\n",
       "      <th>0</th>\n",
       "      <td>2021-12-07 01:17:00</td>\n",
       "      <td>2021-12-07</td>\n",
       "      <td>01:17:00</td>\n",
       "      <td>late night</td>\n",
       "      <td>0.00</td>\n",
       "      <td>101</td>\n",
       "      <td>a</td>\n",
       "    </tr>\n",
       "    <tr>\n",
       "      <th>1</th>\n",
       "      <td>2021-12-07 01:22:00</td>\n",
       "      <td>2021-12-07</td>\n",
       "      <td>01:22:00</td>\n",
       "      <td>late night</td>\n",
       "      <td>0.08</td>\n",
       "      <td>98</td>\n",
       "      <td>a</td>\n",
       "    </tr>\n",
       "    <tr>\n",
       "      <th>2</th>\n",
       "      <td>2021-12-07 01:27:00</td>\n",
       "      <td>2021-12-07</td>\n",
       "      <td>01:27:00</td>\n",
       "      <td>late night</td>\n",
       "      <td>0.17</td>\n",
       "      <td>104</td>\n",
       "      <td>a</td>\n",
       "    </tr>\n",
       "    <tr>\n",
       "      <th>3</th>\n",
       "      <td>2021-12-07 01:32:00</td>\n",
       "      <td>2021-12-07</td>\n",
       "      <td>01:32:00</td>\n",
       "      <td>late night</td>\n",
       "      <td>0.25</td>\n",
       "      <td>112</td>\n",
       "      <td>a</td>\n",
       "    </tr>\n",
       "    <tr>\n",
       "      <th>4</th>\n",
       "      <td>2021-12-07 01:37:00</td>\n",
       "      <td>2021-12-07</td>\n",
       "      <td>01:37:00</td>\n",
       "      <td>late night</td>\n",
       "      <td>0.33</td>\n",
       "      <td>120</td>\n",
       "      <td>a</td>\n",
       "    </tr>\n",
       "    <tr>\n",
       "      <th>5</th>\n",
       "      <td>2021-12-07 01:42:00</td>\n",
       "      <td>2021-12-07</td>\n",
       "      <td>01:42:00</td>\n",
       "      <td>late night</td>\n",
       "      <td>0.42</td>\n",
       "      <td>127</td>\n",
       "      <td>a</td>\n",
       "    </tr>\n",
       "  </tbody>\n",
       "</table>\n",
       "</div>"
      ],
      "text/plain": [
       "            date_time   mock_date time_of_day part_of_day  time  bg_value id\n",
       "0 2021-12-07 01:17:00  2021-12-07    01:17:00  late night  0.00       101  a\n",
       "1 2021-12-07 01:22:00  2021-12-07    01:22:00  late night  0.08        98  a\n",
       "2 2021-12-07 01:27:00  2021-12-07    01:27:00  late night  0.17       104  a\n",
       "3 2021-12-07 01:32:00  2021-12-07    01:32:00  late night  0.25       112  a\n",
       "4 2021-12-07 01:37:00  2021-12-07    01:37:00  late night  0.33       120  a\n",
       "5 2021-12-07 01:42:00  2021-12-07    01:42:00  late night  0.42       127  a"
      ]
     },
     "execution_count": 7,
     "metadata": {},
     "output_type": "execute_result"
    }
   ],
   "source": [
    "mock_last_measurements = test_dataframe.head(6)\n",
    "mock_last_measurements"
   ]
  },
  {
   "cell_type": "code",
   "execution_count": 15,
   "metadata": {},
   "outputs": [],
   "source": [
    "from src.featurizers.tsfresh import TsfreshFeaturizer\n",
    "test_features = TsfreshFeaturizer(mock_last_measurements, 6, 6, plot_chunks=True, minimal_features=False)"
   ]
  },
  {
   "cell_type": "code",
   "execution_count": 24,
   "metadata": {},
   "outputs": [
    {
     "data": {
      "text/plain": [
       "1"
      ]
     },
     "execution_count": 24,
     "metadata": {},
     "output_type": "execute_result"
    }
   ],
   "source": [
    "test_features.chunks = 1\n",
    "test_features.chunks"
   ]
  },
  {
   "cell_type": "code",
   "execution_count": 25,
   "metadata": {},
   "outputs": [
    {
     "name": "stderr",
     "output_type": "stream",
     "text": [
      "  0%|          | 0/1 [00:00<?, ?it/s]"
     ]
    },
    {
     "data": {
      "image/png": "[encoded data removed]",
      "text/plain": [
       "<Figure size 800x550 with 1 Axes>"
      ]
     },
     "metadata": {},
     "output_type": "display_data"
    },
    {
     "name": "stderr",
     "output_type": "stream",
     "text": [
      "100%|██████████| 1/1 [00:07<00:00,  7.94s/it]\n"
     ]
    }
   ],
   "source": [
    "test_features.create_feature_dataframe()"
   ]
  },
  {
   "cell_type": "code",
   "execution_count": 27,
   "metadata": {},
   "outputs": [
    {
     "data": {
      "text/html": [
       "<div>\n",
       "<style scoped>\n",
       "    .dataframe tbody tr th:only-of-type {\n",
       "        vertical-align: middle;\n",
       "    }\n",
       "\n",
       "    .dataframe tbody tr th {\n",
       "        vertical-align: top;\n",
       "    }\n",
       "\n",
       "    .dataframe thead th {\n",
       "        text-align: right;\n",
       "    }\n",
       "</style>\n",
       "<table border=\"1\" class=\"dataframe\">\n",
       "  <thead>\n",
       "    <tr style=\"text-align: right;\">\n",
       "      <th></th>\n",
       "      <th>bg_value__variance_larger_than_standard_deviation</th>\n",
       "      <th>bg_value__has_duplicate_max</th>\n",
       "      <th>bg_value__has_duplicate_min</th>\n",
       "      <th>bg_value__has_duplicate</th>\n",
       "      <th>bg_value__sum_values</th>\n",
       "      <th>bg_value__abs_energy</th>\n",
       "      <th>bg_value__mean_abs_change</th>\n",
       "      <th>bg_value__mean_change</th>\n",
       "      <th>bg_value__mean_second_derivative_central</th>\n",
       "      <th>bg_value__median</th>\n",
       "      <th>...</th>\n",
       "      <th>bg_value__permutation_entropy__dimension_7__tau_1</th>\n",
       "      <th>bg_value__query_similarity_count__query_None__threshold_0.0</th>\n",
       "      <th>bg_value__mean_n_absolute_max__number_of_maxima_7</th>\n",
       "      <th>start</th>\n",
       "      <th>end</th>\n",
       "      <th>start_time</th>\n",
       "      <th>end_time</th>\n",
       "      <th>start_time_of_day</th>\n",
       "      <th>end_time_of_day</th>\n",
       "      <th>part_of_day</th>\n",
       "    </tr>\n",
       "  </thead>\n",
       "  <tbody>\n",
       "    <tr>\n",
       "      <th>0</th>\n",
       "      <td>1.0</td>\n",
       "      <td>0.0</td>\n",
       "      <td>0.0</td>\n",
       "      <td>0.0</td>\n",
       "      <td>662.0</td>\n",
       "      <td>73694.0</td>\n",
       "      <td>6.4</td>\n",
       "      <td>5.2</td>\n",
       "      <td>1.25</td>\n",
       "      <td>108.0</td>\n",
       "      <td>...</td>\n",
       "      <td>NaN</td>\n",
       "      <td>NaN</td>\n",
       "      <td>NaN</td>\n",
       "      <td>0</td>\n",
       "      <td>5</td>\n",
       "      <td>0.0</td>\n",
       "      <td>0.42</td>\n",
       "      <td>01:17:00</td>\n",
       "      <td>01:42:00</td>\n",
       "      <td>late night</td>\n",
       "    </tr>\n",
       "  </tbody>\n",
       "</table>\n",
       "<p>1 rows × 790 columns</p>\n",
       "</div>"
      ],
      "text/plain": [
       "   bg_value__variance_larger_than_standard_deviation  \\\n",
       "0                                                1.0   \n",
       "\n",
       "   bg_value__has_duplicate_max  bg_value__has_duplicate_min  \\\n",
       "0                          0.0                          0.0   \n",
       "\n",
       "   bg_value__has_duplicate  bg_value__sum_values  bg_value__abs_energy  \\\n",
       "0                      0.0                 662.0               73694.0   \n",
       "\n",
       "   bg_value__mean_abs_change  bg_value__mean_change  \\\n",
       "0                        6.4                    5.2   \n",
       "\n",
       "   bg_value__mean_second_derivative_central  bg_value__median  ...  \\\n",
       "0                                      1.25             108.0  ...   \n",
       "\n",
       "   bg_value__permutation_entropy__dimension_7__tau_1  \\\n",
       "0                                                NaN   \n",
       "\n",
       "   bg_value__query_similarity_count__query_None__threshold_0.0  \\\n",
       "0                                                NaN             \n",
       "\n",
       "   bg_value__mean_n_absolute_max__number_of_maxima_7  start  end  start_time  \\\n",
       "0                                                NaN      0    5         0.0   \n",
       "\n",
       "   end_time  start_time_of_day  end_time_of_day  part_of_day  \n",
       "0      0.42           01:17:00         01:42:00   late night  \n",
       "\n",
       "[1 rows x 790 columns]"
      ]
     },
     "execution_count": 27,
     "metadata": {},
     "output_type": "execute_result"
    }
   ],
   "source": [
    "features = test_features.feature_dataframe\n",
    "features"
   ]
  },
  {
   "cell_type": "code",
   "execution_count": 16,
   "metadata": {},
   "outputs": [
    {
     "data": {
      "text/html": [
       "<div>\n",
       "<style scoped>\n",
       "    .dataframe tbody tr th:only-of-type {\n",
       "        vertical-align: middle;\n",
       "    }\n",
       "\n",
       "    .dataframe tbody tr th {\n",
       "        vertical-align: top;\n",
       "    }\n",
       "\n",
       "    .dataframe thead th {\n",
       "        text-align: right;\n",
       "    }\n",
       "</style>\n",
       "<table border=\"1\" class=\"dataframe\">\n",
       "  <thead>\n",
       "    <tr style=\"text-align: right;\">\n",
       "      <th></th>\n",
       "      <th>bg_value__variance_larger_than_standard_deviation</th>\n",
       "      <th>bg_value__has_duplicate_max</th>\n",
       "      <th>bg_value__has_duplicate_min</th>\n",
       "      <th>bg_value__has_duplicate</th>\n",
       "      <th>bg_value__sum_values</th>\n",
       "      <th>bg_value__abs_energy</th>\n",
       "      <th>bg_value__mean_abs_change</th>\n",
       "      <th>bg_value__mean_change</th>\n",
       "      <th>bg_value__mean_second_derivative_central</th>\n",
       "      <th>bg_value__median</th>\n",
       "      <th>...</th>\n",
       "      <th>bg_value__permutation_entropy__dimension_4__tau_1</th>\n",
       "      <th>bg_value__permutation_entropy__dimension_5__tau_1</th>\n",
       "      <th>bg_value__permutation_entropy__dimension_6__tau_1</th>\n",
       "      <th>bg_value__permutation_entropy__dimension_7__tau_1</th>\n",
       "      <th>bg_value__query_similarity_count__query_None__threshold_0.0</th>\n",
       "      <th>bg_value__mean_n_absolute_max__number_of_maxima_7</th>\n",
       "      <th>start</th>\n",
       "      <th>end</th>\n",
       "      <th>start_time</th>\n",
       "      <th>end_time</th>\n",
       "    </tr>\n",
       "  </thead>\n",
       "  <tbody>\n",
       "    <tr>\n",
       "      <th>a</th>\n",
       "      <td>1.0</td>\n",
       "      <td>0.0</td>\n",
       "      <td>0.0</td>\n",
       "      <td>0.0</td>\n",
       "      <td>662.0</td>\n",
       "      <td>73694.0</td>\n",
       "      <td>6.4</td>\n",
       "      <td>5.2</td>\n",
       "      <td>1.25</td>\n",
       "      <td>108.0</td>\n",
       "      <td>...</td>\n",
       "      <td>0.636514</td>\n",
       "      <td>0.693147</td>\n",
       "      <td>-0.0</td>\n",
       "      <td>NaN</td>\n",
       "      <td>NaN</td>\n",
       "      <td>NaN</td>\n",
       "      <td>all</td>\n",
       "      <td>all</td>\n",
       "      <td></td>\n",
       "      <td></td>\n",
       "    </tr>\n",
       "  </tbody>\n",
       "</table>\n",
       "<p>1 rows × 787 columns</p>\n",
       "</div>"
      ],
      "text/plain": [
       "   bg_value__variance_larger_than_standard_deviation  \\\n",
       "a                                                1.0   \n",
       "\n",
       "   bg_value__has_duplicate_max  bg_value__has_duplicate_min  \\\n",
       "a                          0.0                          0.0   \n",
       "\n",
       "   bg_value__has_duplicate  bg_value__sum_values  bg_value__abs_energy  \\\n",
       "a                      0.0                 662.0               73694.0   \n",
       "\n",
       "   bg_value__mean_abs_change  bg_value__mean_change  \\\n",
       "a                        6.4                    5.2   \n",
       "\n",
       "   bg_value__mean_second_derivative_central  bg_value__median  ...  \\\n",
       "a                                      1.25             108.0  ...   \n",
       "\n",
       "   bg_value__permutation_entropy__dimension_4__tau_1  \\\n",
       "a                                           0.636514   \n",
       "\n",
       "   bg_value__permutation_entropy__dimension_5__tau_1  \\\n",
       "a                                           0.693147   \n",
       "\n",
       "   bg_value__permutation_entropy__dimension_6__tau_1  \\\n",
       "a                                               -0.0   \n",
       "\n",
       "   bg_value__permutation_entropy__dimension_7__tau_1  \\\n",
       "a                                                NaN   \n",
       "\n",
       "   bg_value__query_similarity_count__query_None__threshold_0.0  \\\n",
       "a                                                NaN             \n",
       "\n",
       "   bg_value__mean_n_absolute_max__number_of_maxima_7  start  end  start_time  \\\n",
       "a                                                NaN    all  all               \n",
       "\n",
       "   end_time  \n",
       "a            \n",
       "\n",
       "[1 rows x 787 columns]"
      ]
     },
     "execution_count": 16,
     "metadata": {},
     "output_type": "execute_result"
    }
   ],
   "source": [
    "# features = test_features.calculate_master_features()\n",
    "# features\n",
    "# test_features.feature_dataframe"
   ]
  },
  {
   "cell_type": "code",
   "execution_count": 28,
   "metadata": {},
   "outputs": [
    {
     "data": {
      "text/plain": [
       "RangeIndex(start=0, stop=1, step=1)"
      ]
     },
     "execution_count": 28,
     "metadata": {},
     "output_type": "execute_result"
    }
   ],
   "source": [
    "features.index"
   ]
  },
  {
   "cell_type": "code",
   "execution_count": 21,
   "metadata": {},
   "outputs": [
    {
     "data": {
      "text/html": [
       "<div>\n",
       "<style scoped>\n",
       "    .dataframe tbody tr th:only-of-type {\n",
       "        vertical-align: middle;\n",
       "    }\n",
       "\n",
       "    .dataframe tbody tr th {\n",
       "        vertical-align: top;\n",
       "    }\n",
       "\n",
       "    .dataframe thead th {\n",
       "        text-align: right;\n",
       "    }\n",
       "</style>\n",
       "<table border=\"1\" class=\"dataframe\">\n",
       "  <thead>\n",
       "    <tr style=\"text-align: right;\">\n",
       "      <th></th>\n",
       "      <th>value</th>\n",
       "    </tr>\n",
       "    <tr>\n",
       "      <th>variable</th>\n",
       "      <th></th>\n",
       "    </tr>\n",
       "  </thead>\n",
       "  <tbody>\n",
       "    <tr>\n",
       "      <th>bg_value__variance_larger_than_standard_deviation</th>\n",
       "      <td>1.0</td>\n",
       "    </tr>\n",
       "    <tr>\n",
       "      <th>bg_value__has_duplicate_max</th>\n",
       "      <td>0.0</td>\n",
       "    </tr>\n",
       "    <tr>\n",
       "      <th>bg_value__has_duplicate_min</th>\n",
       "      <td>0.0</td>\n",
       "    </tr>\n",
       "    <tr>\n",
       "      <th>bg_value__has_duplicate</th>\n",
       "      <td>0.0</td>\n",
       "    </tr>\n",
       "    <tr>\n",
       "      <th>bg_value__sum_values</th>\n",
       "      <td>662.0</td>\n",
       "    </tr>\n",
       "    <tr>\n",
       "      <th>...</th>\n",
       "      <td>...</td>\n",
       "    </tr>\n",
       "    <tr>\n",
       "      <th>bg_value__mean_n_absolute_max__number_of_maxima_7</th>\n",
       "      <td>NaN</td>\n",
       "    </tr>\n",
       "    <tr>\n",
       "      <th>start</th>\n",
       "      <td>all</td>\n",
       "    </tr>\n",
       "    <tr>\n",
       "      <th>end</th>\n",
       "      <td>all</td>\n",
       "    </tr>\n",
       "    <tr>\n",
       "      <th>start_time</th>\n",
       "      <td></td>\n",
       "    </tr>\n",
       "    <tr>\n",
       "      <th>end_time</th>\n",
       "      <td></td>\n",
       "    </tr>\n",
       "  </tbody>\n",
       "</table>\n",
       "<p>787 rows × 1 columns</p>\n",
       "</div>"
      ],
      "text/plain": [
       "                                                   value\n",
       "variable                                                \n",
       "bg_value__variance_larger_than_standard_deviation    1.0\n",
       "bg_value__has_duplicate_max                          0.0\n",
       "bg_value__has_duplicate_min                          0.0\n",
       "bg_value__has_duplicate                              0.0\n",
       "bg_value__sum_values                               662.0\n",
       "...                                                  ...\n",
       "bg_value__mean_n_absolute_max__number_of_maxima_7    NaN\n",
       "start                                                all\n",
       "end                                                  all\n",
       "start_time                                              \n",
       "end_time                                                \n",
       "\n",
       "[787 rows x 1 columns]"
      ]
     },
     "execution_count": 21,
     "metadata": {},
     "output_type": "execute_result"
    }
   ],
   "source": [
    "import pandas as pd\n",
    "long = pd.melt(features)\n",
    "long.set_index('variable', inplace=True)\n",
    "long\n"
   ]
  },
  {
   "cell_type": "code",
   "execution_count": 29,
   "metadata": {},
   "outputs": [
    {
     "ename": "KeyError",
     "evalue": "\"['bg_value__symmetry_looking__r_00', 'bg_value__symmetry_looking__r_005', 'bg_value__symmetry_looking__r_01', 'bg_value__symmetry_looking__r_015000000000000002', 'bg_value__symmetry_looking__r_02', 'bg_value__symmetry_looking__r_025', 'bg_value__symmetry_looking__r_030000000000000004', 'bg_value__symmetry_looking__r_035000000000000003', 'bg_value__symmetry_looking__r_04', 'bg_value__symmetry_looking__r_045', 'bg_value__symmetry_looking__r_05', 'bg_value__symmetry_looking__r_055', 'bg_value__symmetry_looking__r_06000000000000001', 'bg_value__symmetry_looking__r_065', 'bg_value__symmetry_looking__r_07000000000000001', 'bg_value__symmetry_looking__r_075', 'bg_value__symmetry_looking__r_08', 'bg_value__symmetry_looking__r_08500000000000001', 'bg_value__symmetry_looking__r_09', 'bg_value__symmetry_looking__r_09500000000000001', 'bg_value__large_standard_deviation__r_005', 'bg_value__large_standard_deviation__r_01', 'bg_value__large_standard_deviation__r_015000000000000002', 'bg_value__large_standard_deviation__r_02', 'bg_value__large_standard_deviation__r_025', 'bg_value__large_standard_deviation__r_030000000000000004', 'bg_value__large_standard_deviation__r_035000000000000003', 'bg_value__large_standard_deviation__r_04', 'bg_value__large_standard_deviation__r_045', 'bg_value__large_standard_deviation__r_05', 'bg_value__large_standard_deviation__r_055', 'bg_value__large_standard_deviation__r_06000000000000001', 'bg_value__large_standard_deviation__r_065', 'bg_value__large_standard_deviation__r_07000000000000001', 'bg_value__large_standard_deviation__r_075', 'bg_value__large_standard_deviation__r_08', 'bg_value__large_standard_deviation__r_08500000000000001', 'bg_value__large_standard_deviation__r_09', 'bg_value__large_standard_deviation__r_09500000000000001', 'bg_value__quantile__q_01', 'bg_value__quantile__q_02', 'bg_value__quantile__q_03', 'bg_value__quantile__q_04', 'bg_value__quantile__q_06', 'bg_value__quantile__q_07', 'bg_value__quantile__q_08', 'bg_value__quantile__q_09', 'bg_value__agg_autocorrelation__f_agg_mean__maxlag_40', 'bg_value__agg_autocorrelation__f_agg_median__maxlag_40', 'bg_value__agg_autocorrelation__f_agg_var__maxlag_40', 'bg_value__index_mass_quantile__q_01', 'bg_value__index_mass_quantile__q_02', 'bg_value__index_mass_quantile__q_03', 'bg_value__index_mass_quantile__q_04', 'bg_value__index_mass_quantile__q_06', 'bg_value__index_mass_quantile__q_07', 'bg_value__index_mass_quantile__q_08', 'bg_value__index_mass_quantile__q_09', 'bg_value__cwt_coefficients__coeff_0__w_2__widths_251020', 'bg_value__cwt_coefficients__coeff_0__w_5__widths_251020', 'bg_value__cwt_coefficients__coeff_0__w_10__widths_251020', 'bg_value__cwt_coefficients__coeff_0__w_20__widths_251020', 'bg_value__cwt_coefficients__coeff_1__w_2__widths_251020', 'bg_value__cwt_coefficients__coeff_1__w_5__widths_251020', 'bg_value__cwt_coefficients__coeff_1__w_10__widths_251020', 'bg_value__cwt_coefficients__coeff_1__w_20__widths_251020', 'bg_value__cwt_coefficients__coeff_2__w_2__widths_251020', 'bg_value__cwt_coefficients__coeff_2__w_5__widths_251020', 'bg_value__cwt_coefficients__coeff_2__w_10__widths_251020', 'bg_value__cwt_coefficients__coeff_2__w_20__widths_251020', 'bg_value__cwt_coefficients__coeff_3__w_2__widths_251020', 'bg_value__cwt_coefficients__coeff_3__w_5__widths_251020', 'bg_value__cwt_coefficients__coeff_3__w_10__widths_251020', 'bg_value__cwt_coefficients__coeff_3__w_20__widths_251020', 'bg_value__cwt_coefficients__coeff_4__w_2__widths_251020', 'bg_value__cwt_coefficients__coeff_4__w_5__widths_251020', 'bg_value__cwt_coefficients__coeff_4__w_10__widths_251020', 'bg_value__cwt_coefficients__coeff_4__w_20__widths_251020', 'bg_value__cwt_coefficients__coeff_5__w_2__widths_251020', 'bg_value__cwt_coefficients__coeff_5__w_5__widths_251020', 'bg_value__cwt_coefficients__coeff_5__w_10__widths_251020', 'bg_value__cwt_coefficients__coeff_5__w_20__widths_251020', 'bg_value__change_quantiles__f_agg_mean__isabs_False__qh_02__ql_00', 'bg_value__change_quantiles__f_agg_var__isabs_False__qh_02__ql_00', 'bg_value__change_quantiles__f_agg_mean__isabs_True__qh_02__ql_00', 'bg_value__change_quantiles__f_agg_var__isabs_True__qh_02__ql_00', 'bg_value__change_quantiles__f_agg_mean__isabs_False__qh_04__ql_00', 'bg_value__change_quantiles__f_agg_var__isabs_False__qh_04__ql_00', 'bg_value__change_quantiles__f_agg_mean__isabs_True__qh_04__ql_00', 'bg_value__change_quantiles__f_agg_var__isabs_True__qh_04__ql_00', 'bg_value__change_quantiles__f_agg_mean__isabs_False__qh_06__ql_00', 'bg_value__change_quantiles__f_agg_var__isabs_False__qh_06__ql_00', 'bg_value__change_quantiles__f_agg_mean__isabs_True__qh_06__ql_00', 'bg_value__change_quantiles__f_agg_var__isabs_True__qh_06__ql_00', 'bg_value__change_quantiles__f_agg_mean__isabs_False__qh_08__ql_00', 'bg_value__change_quantiles__f_agg_var__isabs_False__qh_08__ql_00', 'bg_value__change_quantiles__f_agg_mean__isabs_True__qh_08__ql_00', 'bg_value__change_quantiles__f_agg_var__isabs_True__qh_08__ql_00', 'bg_value__change_quantiles__f_agg_mean__isabs_False__qh_10__ql_00', 'bg_value__change_quantiles__f_agg_var__isabs_False__qh_10__ql_00', 'bg_value__change_quantiles__f_agg_mean__isabs_True__qh_10__ql_00', 'bg_value__change_quantiles__f_agg_var__isabs_True__qh_10__ql_00', 'bg_value__change_quantiles__f_agg_mean__isabs_False__qh_04__ql_02', 'bg_value__change_quantiles__f_agg_var__isabs_False__qh_04__ql_02', 'bg_value__change_quantiles__f_agg_mean__isabs_True__qh_04__ql_02', 'bg_value__change_quantiles__f_agg_var__isabs_True__qh_04__ql_02', 'bg_value__change_quantiles__f_agg_mean__isabs_False__qh_06__ql_02', 'bg_value__change_quantiles__f_agg_var__isabs_False__qh_06__ql_02', 'bg_value__change_quantiles__f_agg_mean__isabs_True__qh_06__ql_02', 'bg_value__change_quantiles__f_agg_var__isabs_True__qh_06__ql_02', 'bg_value__change_quantiles__f_agg_mean__isabs_False__qh_08__ql_02', 'bg_value__change_quantiles__f_agg_var__isabs_False__qh_08__ql_02', 'bg_value__change_quantiles__f_agg_mean__isabs_True__qh_08__ql_02', 'bg_value__change_quantiles__f_agg_var__isabs_True__qh_08__ql_02', 'bg_value__change_quantiles__f_agg_mean__isabs_False__qh_10__ql_02', 'bg_value__change_quantiles__f_agg_var__isabs_False__qh_10__ql_02', 'bg_value__change_quantiles__f_agg_mean__isabs_True__qh_10__ql_02', 'bg_value__change_quantiles__f_agg_var__isabs_True__qh_10__ql_02', 'bg_value__change_quantiles__f_agg_mean__isabs_False__qh_06__ql_04', 'bg_value__change_quantiles__f_agg_var__isabs_False__qh_06__ql_04', 'bg_value__change_quantiles__f_agg_mean__isabs_True__qh_06__ql_04', 'bg_value__change_quantiles__f_agg_var__isabs_True__qh_06__ql_04', 'bg_value__change_quantiles__f_agg_mean__isabs_False__qh_08__ql_04', 'bg_value__change_quantiles__f_agg_var__isabs_False__qh_08__ql_04', 'bg_value__change_quantiles__f_agg_mean__isabs_True__qh_08__ql_04', 'bg_value__change_quantiles__f_agg_var__isabs_True__qh_08__ql_04', 'bg_value__change_quantiles__f_agg_mean__isabs_False__qh_10__ql_04', 'bg_value__change_quantiles__f_agg_var__isabs_False__qh_10__ql_04', 'bg_value__change_quantiles__f_agg_mean__isabs_True__qh_10__ql_04', 'bg_value__change_quantiles__f_agg_var__isabs_True__qh_10__ql_04', 'bg_value__change_quantiles__f_agg_mean__isabs_False__qh_08__ql_06', 'bg_value__change_quantiles__f_agg_var__isabs_False__qh_08__ql_06', 'bg_value__change_quantiles__f_agg_mean__isabs_True__qh_08__ql_06', 'bg_value__change_quantiles__f_agg_var__isabs_True__qh_08__ql_06', 'bg_value__change_quantiles__f_agg_mean__isabs_False__qh_10__ql_06', 'bg_value__change_quantiles__f_agg_var__isabs_False__qh_10__ql_06', 'bg_value__change_quantiles__f_agg_mean__isabs_True__qh_10__ql_06', 'bg_value__change_quantiles__f_agg_var__isabs_True__qh_10__ql_06', 'bg_value__change_quantiles__f_agg_mean__isabs_False__qh_10__ql_08', 'bg_value__change_quantiles__f_agg_var__isabs_False__qh_10__ql_08', 'bg_value__change_quantiles__f_agg_mean__isabs_True__qh_10__ql_08', 'bg_value__change_quantiles__f_agg_var__isabs_True__qh_10__ql_08', 'bg_value__fft_coefficient__attr_real__coeff_0', 'bg_value__fft_coefficient__attr_real__coeff_1', 'bg_value__fft_coefficient__attr_real__coeff_2', 'bg_value__fft_coefficient__attr_real__coeff_3', 'bg_value__fft_coefficient__attr_imag__coeff_0', 'bg_value__fft_coefficient__attr_imag__coeff_1', 'bg_value__fft_coefficient__attr_imag__coeff_2', 'bg_value__fft_coefficient__attr_imag__coeff_3', 'bg_value__fft_coefficient__attr_abs__coeff_0', 'bg_value__fft_coefficient__attr_abs__coeff_1', 'bg_value__fft_coefficient__attr_abs__coeff_2', 'bg_value__fft_coefficient__attr_abs__coeff_3', 'bg_value__fft_coefficient__attr_angle__coeff_0', 'bg_value__fft_coefficient__attr_angle__coeff_1', 'bg_value__fft_coefficient__attr_angle__coeff_2', 'bg_value__fft_coefficient__attr_angle__coeff_3', 'bg_value__fft_aggregated__aggtype_centroid', 'bg_value__fft_aggregated__aggtype_variance', 'bg_value__value_count__value_1_217', 'bg_value__range_count__max_1__min_1', 'bg_value__range_count__max_0__min_10000000000000', 'bg_value__range_count__max_10000000000000__min_0', 'bg_value__approximate_entropy__m_2__r_01', 'bg_value__approximate_entropy__m_2__r_03', 'bg_value__approximate_entropy__m_2__r_05', 'bg_value__approximate_entropy__m_2__r_07', 'bg_value__approximate_entropy__m_2__r_09', 'bg_value__linear_trend__attr_pvalue', 'bg_value__linear_trend__attr_rvalue', 'bg_value__linear_trend__attr_intercept', 'bg_value__linear_trend__attr_slope', 'bg_value__linear_trend__attr_stderr', 'bg_value__agg_linear_trend__attr_rvalue__chunk_len_5__f_agg_max', 'bg_value__agg_linear_trend__attr_rvalue__chunk_len_5__f_agg_min', 'bg_value__agg_linear_trend__attr_rvalue__chunk_len_5__f_agg_mean', 'bg_value__agg_linear_trend__attr_rvalue__chunk_len_5__f_agg_var', 'bg_value__agg_linear_trend__attr_intercept__chunk_len_5__f_agg_max', 'bg_value__agg_linear_trend__attr_intercept__chunk_len_5__f_agg_min', 'bg_value__agg_linear_trend__attr_intercept__chunk_len_5__f_agg_mean', 'bg_value__agg_linear_trend__attr_intercept__chunk_len_5__f_agg_var', 'bg_value__agg_linear_trend__attr_slope__chunk_len_5__f_agg_max', 'bg_value__agg_linear_trend__attr_slope__chunk_len_5__f_agg_min', 'bg_value__agg_linear_trend__attr_slope__chunk_len_5__f_agg_mean', 'bg_value__agg_linear_trend__attr_slope__chunk_len_5__f_agg_var', 'bg_value__agg_linear_trend__attr_stderr__chunk_len_5__f_agg_max', 'bg_value__agg_linear_trend__attr_stderr__chunk_len_5__f_agg_min', 'bg_value__agg_linear_trend__attr_stderr__chunk_len_5__f_agg_mean', 'bg_value__agg_linear_trend__attr_stderr__chunk_len_5__f_agg_var', 'bg_value__augmented_dickey_fuller__attr_usedlag__autolag_AIC', 'bg_value__number_crossing_m__m_1_250', 'bg_value__ratio_beyond_r_sigma__r_05', 'bg_value__ratio_beyond_r_sigma__r_15', 'bg_value__ratio_beyond_r_sigma__r_25'] not in index\"",
     "output_type": "error",
     "traceback": [
      "\u001b[1;31m---------------------------------------------------------------------------\u001b[0m",
      "\u001b[1;31mKeyError\u001b[0m                                  Traceback (most recent call last)",
      "Cell \u001b[1;32mIn[29], line 1\u001b[0m\n\u001b[1;32m----> 1\u001b[0m predict_model(model, features)\n",
      "File \u001b[1;32mc:\\Users\\spito\\miniconda3\\envs\\thesis\\lib\\site-packages\\pycaret\\regression\\functional.py:1917\u001b[0m, in \u001b[0;36mpredict_model\u001b[1;34m(estimator, data, round, verbose)\u001b[0m\n\u001b[0;32m   1914\u001b[0m \u001b[39mif\u001b[39;00m experiment \u001b[39mis\u001b[39;00m \u001b[39mNone\u001b[39;00m:\n\u001b[0;32m   1915\u001b[0m     experiment \u001b[39m=\u001b[39m _EXPERIMENT_CLASS()\n\u001b[1;32m-> 1917\u001b[0m \u001b[39mreturn\u001b[39;00m experiment\u001b[39m.\u001b[39;49mpredict_model(\n\u001b[0;32m   1918\u001b[0m     estimator\u001b[39m=\u001b[39;49mestimator,\n\u001b[0;32m   1919\u001b[0m     data\u001b[39m=\u001b[39;49mdata,\n\u001b[0;32m   1920\u001b[0m     \u001b[39mround\u001b[39;49m\u001b[39m=\u001b[39;49m\u001b[39mround\u001b[39;49m,\n\u001b[0;32m   1921\u001b[0m     verbose\u001b[39m=\u001b[39;49mverbose,\n\u001b[0;32m   1922\u001b[0m )\n",
      "File \u001b[1;32mc:\\Users\\spito\\miniconda3\\envs\\thesis\\lib\\site-packages\\pycaret\\regression\\oop.py:2210\u001b[0m, in \u001b[0;36mRegressionExperiment.predict_model\u001b[1;34m(self, estimator, data, round, verbose)\u001b[0m\n\u001b[0;32m   2156\u001b[0m \u001b[39mdef\u001b[39;00m \u001b[39mpredict_model\u001b[39m(\n\u001b[0;32m   2157\u001b[0m     \u001b[39mself\u001b[39m,\n\u001b[0;32m   2158\u001b[0m     estimator,\n\u001b[1;32m   (...)\u001b[0m\n\u001b[0;32m   2161\u001b[0m     verbose: \u001b[39mbool\u001b[39m \u001b[39m=\u001b[39m \u001b[39mTrue\u001b[39;00m,\n\u001b[0;32m   2162\u001b[0m ) \u001b[39m-\u001b[39m\u001b[39m>\u001b[39m pd\u001b[39m.\u001b[39mDataFrame:\n\u001b[0;32m   2163\u001b[0m \u001b[39m    \u001b[39m\u001b[39m\"\"\"\u001b[39;00m\n\u001b[0;32m   2164\u001b[0m \u001b[39m    This function predicts ``Label`` using a trained model. When ``data`` is\u001b[39;00m\n\u001b[0;32m   2165\u001b[0m \u001b[39m    None, it predicts label on the holdout set.\u001b[39;00m\n\u001b[1;32m   (...)\u001b[0m\n\u001b[0;32m   2207\u001b[0m \n\u001b[0;32m   2208\u001b[0m \u001b[39m    \"\"\"\u001b[39;00m\n\u001b[1;32m-> 2210\u001b[0m     \u001b[39mreturn\u001b[39;00m \u001b[39msuper\u001b[39;49m()\u001b[39m.\u001b[39;49mpredict_model(\n\u001b[0;32m   2211\u001b[0m         estimator\u001b[39m=\u001b[39;49mestimator,\n\u001b[0;32m   2212\u001b[0m         data\u001b[39m=\u001b[39;49mdata,\n\u001b[0;32m   2213\u001b[0m         probability_threshold\u001b[39m=\u001b[39;49m\u001b[39mNone\u001b[39;49;00m,\n\u001b[0;32m   2214\u001b[0m         encoded_labels\u001b[39m=\u001b[39;49m\u001b[39mFalse\u001b[39;49;00m,\n\u001b[0;32m   2215\u001b[0m         \u001b[39mround\u001b[39;49m\u001b[39m=\u001b[39;49m\u001b[39mround\u001b[39;49m,\n\u001b[0;32m   2216\u001b[0m         verbose\u001b[39m=\u001b[39;49mverbose,\n\u001b[0;32m   2217\u001b[0m     )\n",
      "File \u001b[1;32mc:\\Users\\spito\\miniconda3\\envs\\thesis\\lib\\site-packages\\pycaret\\internal\\pycaret_experiment\\supervised_experiment.py:4930\u001b[0m, in \u001b[0;36m_SupervisedExperiment.predict_model\u001b[1;34m(self, estimator, data, probability_threshold, encoded_labels, raw_score, round, verbose, ml_usecase, preprocess)\u001b[0m\n\u001b[0;32m   4928\u001b[0m X_test_untransformed \u001b[39m=\u001b[39m data\n\u001b[0;32m   4929\u001b[0m y_test_untransformed \u001b[39m=\u001b[39m target\n\u001b[1;32m-> 4930\u001b[0m data \u001b[39m=\u001b[39m data[X_columns]  \u001b[39m# Ignore all columns but the originals\u001b[39;00m\n\u001b[0;32m   4931\u001b[0m \u001b[39mif\u001b[39;00m preprocess:\n\u001b[0;32m   4932\u001b[0m     X_test_ \u001b[39m=\u001b[39m pipeline\u001b[39m.\u001b[39mtransform(\n\u001b[0;32m   4933\u001b[0m         X\u001b[39m=\u001b[39mdata,\n\u001b[0;32m   4934\u001b[0m         y\u001b[39m=\u001b[39m(target \u001b[39mif\u001b[39;00m preprocess \u001b[39m!=\u001b[39m \u001b[39m\"\u001b[39m\u001b[39mfeatures\u001b[39m\u001b[39m\"\u001b[39m \u001b[39melse\u001b[39;00m \u001b[39mNone\u001b[39;00m),\n\u001b[0;32m   4935\u001b[0m     )\n",
      "File \u001b[1;32mc:\\Users\\spito\\miniconda3\\envs\\thesis\\lib\\site-packages\\pandas\\core\\frame.py:3813\u001b[0m, in \u001b[0;36mDataFrame.__getitem__\u001b[1;34m(self, key)\u001b[0m\n\u001b[0;32m   3811\u001b[0m     \u001b[39mif\u001b[39;00m is_iterator(key):\n\u001b[0;32m   3812\u001b[0m         key \u001b[39m=\u001b[39m \u001b[39mlist\u001b[39m(key)\n\u001b[1;32m-> 3813\u001b[0m     indexer \u001b[39m=\u001b[39m \u001b[39mself\u001b[39;49m\u001b[39m.\u001b[39;49mcolumns\u001b[39m.\u001b[39;49m_get_indexer_strict(key, \u001b[39m\"\u001b[39;49m\u001b[39mcolumns\u001b[39;49m\u001b[39m\"\u001b[39;49m)[\u001b[39m1\u001b[39m]\n\u001b[0;32m   3815\u001b[0m \u001b[39m# take() does not accept boolean indexers\u001b[39;00m\n\u001b[0;32m   3816\u001b[0m \u001b[39mif\u001b[39;00m \u001b[39mgetattr\u001b[39m(indexer, \u001b[39m\"\u001b[39m\u001b[39mdtype\u001b[39m\u001b[39m\"\u001b[39m, \u001b[39mNone\u001b[39;00m) \u001b[39m==\u001b[39m \u001b[39mbool\u001b[39m:\n",
      "File \u001b[1;32mc:\\Users\\spito\\miniconda3\\envs\\thesis\\lib\\site-packages\\pandas\\core\\indexes\\base.py:6070\u001b[0m, in \u001b[0;36mIndex._get_indexer_strict\u001b[1;34m(self, key, axis_name)\u001b[0m\n\u001b[0;32m   6067\u001b[0m \u001b[39melse\u001b[39;00m:\n\u001b[0;32m   6068\u001b[0m     keyarr, indexer, new_indexer \u001b[39m=\u001b[39m \u001b[39mself\u001b[39m\u001b[39m.\u001b[39m_reindex_non_unique(keyarr)\n\u001b[1;32m-> 6070\u001b[0m \u001b[39mself\u001b[39;49m\u001b[39m.\u001b[39;49m_raise_if_missing(keyarr, indexer, axis_name)\n\u001b[0;32m   6072\u001b[0m keyarr \u001b[39m=\u001b[39m \u001b[39mself\u001b[39m\u001b[39m.\u001b[39mtake(indexer)\n\u001b[0;32m   6073\u001b[0m \u001b[39mif\u001b[39;00m \u001b[39misinstance\u001b[39m(key, Index):\n\u001b[0;32m   6074\u001b[0m     \u001b[39m# GH 42790 - Preserve name from an Index\u001b[39;00m\n",
      "File \u001b[1;32mc:\\Users\\spito\\miniconda3\\envs\\thesis\\lib\\site-packages\\pandas\\core\\indexes\\base.py:6133\u001b[0m, in \u001b[0;36mIndex._raise_if_missing\u001b[1;34m(self, key, indexer, axis_name)\u001b[0m\n\u001b[0;32m   6130\u001b[0m     \u001b[39mraise\u001b[39;00m \u001b[39mKeyError\u001b[39;00m(\u001b[39mf\u001b[39m\u001b[39m\"\u001b[39m\u001b[39mNone of [\u001b[39m\u001b[39m{\u001b[39;00mkey\u001b[39m}\u001b[39;00m\u001b[39m] are in the [\u001b[39m\u001b[39m{\u001b[39;00maxis_name\u001b[39m}\u001b[39;00m\u001b[39m]\u001b[39m\u001b[39m\"\u001b[39m)\n\u001b[0;32m   6132\u001b[0m not_found \u001b[39m=\u001b[39m \u001b[39mlist\u001b[39m(ensure_index(key)[missing_mask\u001b[39m.\u001b[39mnonzero()[\u001b[39m0\u001b[39m]]\u001b[39m.\u001b[39munique())\n\u001b[1;32m-> 6133\u001b[0m \u001b[39mraise\u001b[39;00m \u001b[39mKeyError\u001b[39;00m(\u001b[39mf\u001b[39m\u001b[39m\"\u001b[39m\u001b[39m{\u001b[39;00mnot_found\u001b[39m}\u001b[39;00m\u001b[39m not in index\u001b[39m\u001b[39m\"\u001b[39m)\n",
      "\u001b[1;31mKeyError\u001b[0m: \"['bg_value__symmetry_looking__r_00', 'bg_value__symmetry_looking__r_005', 'bg_value__symmetry_looking__r_01', 'bg_value__symmetry_looking__r_015000000000000002', 'bg_value__symmetry_looking__r_02', 'bg_value__symmetry_looking__r_025', 'bg_value__symmetry_looking__r_030000000000000004', 'bg_value__symmetry_looking__r_035000000000000003', 'bg_value__symmetry_looking__r_04', 'bg_value__symmetry_looking__r_045', 'bg_value__symmetry_looking__r_05', 'bg_value__symmetry_looking__r_055', 'bg_value__symmetry_looking__r_06000000000000001', 'bg_value__symmetry_looking__r_065', 'bg_value__symmetry_looking__r_07000000000000001', 'bg_value__symmetry_looking__r_075', 'bg_value__symmetry_looking__r_08', 'bg_value__symmetry_looking__r_08500000000000001', 'bg_value__symmetry_looking__r_09', 'bg_value__symmetry_looking__r_09500000000000001', 'bg_value__large_standard_deviation__r_005', 'bg_value__large_standard_deviation__r_01', 'bg_value__large_standard_deviation__r_015000000000000002', 'bg_value__large_standard_deviation__r_02', 'bg_value__large_standard_deviation__r_025', 'bg_value__large_standard_deviation__r_030000000000000004', 'bg_value__large_standard_deviation__r_035000000000000003', 'bg_value__large_standard_deviation__r_04', 'bg_value__large_standard_deviation__r_045', 'bg_value__large_standard_deviation__r_05', 'bg_value__large_standard_deviation__r_055', 'bg_value__large_standard_deviation__r_06000000000000001', 'bg_value__large_standard_deviation__r_065', 'bg_value__large_standard_deviation__r_07000000000000001', 'bg_value__large_standard_deviation__r_075', 'bg_value__large_standard_deviation__r_08', 'bg_value__large_standard_deviation__r_08500000000000001', 'bg_value__large_standard_deviation__r_09', 'bg_value__large_standard_deviation__r_09500000000000001', 'bg_value__quantile__q_01', 'bg_value__quantile__q_02', 'bg_value__quantile__q_03', 'bg_value__quantile__q_04', 'bg_value__quantile__q_06', 'bg_value__quantile__q_07', 'bg_value__quantile__q_08', 'bg_value__quantile__q_09', 'bg_value__agg_autocorrelation__f_agg_mean__maxlag_40', 'bg_value__agg_autocorrelation__f_agg_median__maxlag_40', 'bg_value__agg_autocorrelation__f_agg_var__maxlag_40', 'bg_value__index_mass_quantile__q_01', 'bg_value__index_mass_quantile__q_02', 'bg_value__index_mass_quantile__q_03', 'bg_value__index_mass_quantile__q_04', 'bg_value__index_mass_quantile__q_06', 'bg_value__index_mass_quantile__q_07', 'bg_value__index_mass_quantile__q_08', 'bg_value__index_mass_quantile__q_09', 'bg_value__cwt_coefficients__coeff_0__w_2__widths_251020', 'bg_value__cwt_coefficients__coeff_0__w_5__widths_251020', 'bg_value__cwt_coefficients__coeff_0__w_10__widths_251020', 'bg_value__cwt_coefficients__coeff_0__w_20__widths_251020', 'bg_value__cwt_coefficients__coeff_1__w_2__widths_251020', 'bg_value__cwt_coefficients__coeff_1__w_5__widths_251020', 'bg_value__cwt_coefficients__coeff_1__w_10__widths_251020', 'bg_value__cwt_coefficients__coeff_1__w_20__widths_251020', 'bg_value__cwt_coefficients__coeff_2__w_2__widths_251020', 'bg_value__cwt_coefficients__coeff_2__w_5__widths_251020', 'bg_value__cwt_coefficients__coeff_2__w_10__widths_251020', 'bg_value__cwt_coefficients__coeff_2__w_20__widths_251020', 'bg_value__cwt_coefficients__coeff_3__w_2__widths_251020', 'bg_value__cwt_coefficients__coeff_3__w_5__widths_251020', 'bg_value__cwt_coefficients__coeff_3__w_10__widths_251020', 'bg_value__cwt_coefficients__coeff_3__w_20__widths_251020', 'bg_value__cwt_coefficients__coeff_4__w_2__widths_251020', 'bg_value__cwt_coefficients__coeff_4__w_5__widths_251020', 'bg_value__cwt_coefficients__coeff_4__w_10__widths_251020', 'bg_value__cwt_coefficients__coeff_4__w_20__widths_251020', 'bg_value__cwt_coefficients__coeff_5__w_2__widths_251020', 'bg_value__cwt_coefficients__coeff_5__w_5__widths_251020', 'bg_value__cwt_coefficients__coeff_5__w_10__widths_251020', 'bg_value__cwt_coefficients__coeff_5__w_20__widths_251020', 'bg_value__change_quantiles__f_agg_mean__isabs_False__qh_02__ql_00', 'bg_value__change_quantiles__f_agg_var__isabs_False__qh_02__ql_00', 'bg_value__change_quantiles__f_agg_mean__isabs_True__qh_02__ql_00', 'bg_value__change_quantiles__f_agg_var__isabs_True__qh_02__ql_00', 'bg_value__change_quantiles__f_agg_mean__isabs_False__qh_04__ql_00', 'bg_value__change_quantiles__f_agg_var__isabs_False__qh_04__ql_00', 'bg_value__change_quantiles__f_agg_mean__isabs_True__qh_04__ql_00', 'bg_value__change_quantiles__f_agg_var__isabs_True__qh_04__ql_00', 'bg_value__change_quantiles__f_agg_mean__isabs_False__qh_06__ql_00', 'bg_value__change_quantiles__f_agg_var__isabs_False__qh_06__ql_00', 'bg_value__change_quantiles__f_agg_mean__isabs_True__qh_06__ql_00', 'bg_value__change_quantiles__f_agg_var__isabs_True__qh_06__ql_00', 'bg_value__change_quantiles__f_agg_mean__isabs_False__qh_08__ql_00', 'bg_value__change_quantiles__f_agg_var__isabs_False__qh_08__ql_00', 'bg_value__change_quantiles__f_agg_mean__isabs_True__qh_08__ql_00', 'bg_value__change_quantiles__f_agg_var__isabs_True__qh_08__ql_00', 'bg_value__change_quantiles__f_agg_mean__isabs_False__qh_10__ql_00', 'bg_value__change_quantiles__f_agg_var__isabs_False__qh_10__ql_00', 'bg_value__change_quantiles__f_agg_mean__isabs_True__qh_10__ql_00', 'bg_value__change_quantiles__f_agg_var__isabs_True__qh_10__ql_00', 'bg_value__change_quantiles__f_agg_mean__isabs_False__qh_04__ql_02', 'bg_value__change_quantiles__f_agg_var__isabs_False__qh_04__ql_02', 'bg_value__change_quantiles__f_agg_mean__isabs_True__qh_04__ql_02', 'bg_value__change_quantiles__f_agg_var__isabs_True__qh_04__ql_02', 'bg_value__change_quantiles__f_agg_mean__isabs_False__qh_06__ql_02', 'bg_value__change_quantiles__f_agg_var__isabs_False__qh_06__ql_02', 'bg_value__change_quantiles__f_agg_mean__isabs_True__qh_06__ql_02', 'bg_value__change_quantiles__f_agg_var__isabs_True__qh_06__ql_02', 'bg_value__change_quantiles__f_agg_mean__isabs_False__qh_08__ql_02', 'bg_value__change_quantiles__f_agg_var__isabs_False__qh_08__ql_02', 'bg_value__change_quantiles__f_agg_mean__isabs_True__qh_08__ql_02', 'bg_value__change_quantiles__f_agg_var__isabs_True__qh_08__ql_02', 'bg_value__change_quantiles__f_agg_mean__isabs_False__qh_10__ql_02', 'bg_value__change_quantiles__f_agg_var__isabs_False__qh_10__ql_02', 'bg_value__change_quantiles__f_agg_mean__isabs_True__qh_10__ql_02', 'bg_value__change_quantiles__f_agg_var__isabs_True__qh_10__ql_02', 'bg_value__change_quantiles__f_agg_mean__isabs_False__qh_06__ql_04', 'bg_value__change_quantiles__f_agg_var__isabs_False__qh_06__ql_04', 'bg_value__change_quantiles__f_agg_mean__isabs_True__qh_06__ql_04', 'bg_value__change_quantiles__f_agg_var__isabs_True__qh_06__ql_04', 'bg_value__change_quantiles__f_agg_mean__isabs_False__qh_08__ql_04', 'bg_value__change_quantiles__f_agg_var__isabs_False__qh_08__ql_04', 'bg_value__change_quantiles__f_agg_mean__isabs_True__qh_08__ql_04', 'bg_value__change_quantiles__f_agg_var__isabs_True__qh_08__ql_04', 'bg_value__change_quantiles__f_agg_mean__isabs_False__qh_10__ql_04', 'bg_value__change_quantiles__f_agg_var__isabs_False__qh_10__ql_04', 'bg_value__change_quantiles__f_agg_mean__isabs_True__qh_10__ql_04', 'bg_value__change_quantiles__f_agg_var__isabs_True__qh_10__ql_04', 'bg_value__change_quantiles__f_agg_mean__isabs_False__qh_08__ql_06', 'bg_value__change_quantiles__f_agg_var__isabs_False__qh_08__ql_06', 'bg_value__change_quantiles__f_agg_mean__isabs_True__qh_08__ql_06', 'bg_value__change_quantiles__f_agg_var__isabs_True__qh_08__ql_06', 'bg_value__change_quantiles__f_agg_mean__isabs_False__qh_10__ql_06', 'bg_value__change_quantiles__f_agg_var__isabs_False__qh_10__ql_06', 'bg_value__change_quantiles__f_agg_mean__isabs_True__qh_10__ql_06', 'bg_value__change_quantiles__f_agg_var__isabs_True__qh_10__ql_06', 'bg_value__change_quantiles__f_agg_mean__isabs_False__qh_10__ql_08', 'bg_value__change_quantiles__f_agg_var__isabs_False__qh_10__ql_08', 'bg_value__change_quantiles__f_agg_mean__isabs_True__qh_10__ql_08', 'bg_value__change_quantiles__f_agg_var__isabs_True__qh_10__ql_08', 'bg_value__fft_coefficient__attr_real__coeff_0', 'bg_value__fft_coefficient__attr_real__coeff_1', 'bg_value__fft_coefficient__attr_real__coeff_2', 'bg_value__fft_coefficient__attr_real__coeff_3', 'bg_value__fft_coefficient__attr_imag__coeff_0', 'bg_value__fft_coefficient__attr_imag__coeff_1', 'bg_value__fft_coefficient__attr_imag__coeff_2', 'bg_value__fft_coefficient__attr_imag__coeff_3', 'bg_value__fft_coefficient__attr_abs__coeff_0', 'bg_value__fft_coefficient__attr_abs__coeff_1', 'bg_value__fft_coefficient__attr_abs__coeff_2', 'bg_value__fft_coefficient__attr_abs__coeff_3', 'bg_value__fft_coefficient__attr_angle__coeff_0', 'bg_value__fft_coefficient__attr_angle__coeff_1', 'bg_value__fft_coefficient__attr_angle__coeff_2', 'bg_value__fft_coefficient__attr_angle__coeff_3', 'bg_value__fft_aggregated__aggtype_centroid', 'bg_value__fft_aggregated__aggtype_variance', 'bg_value__value_count__value_1_217', 'bg_value__range_count__max_1__min_1', 'bg_value__range_count__max_0__min_10000000000000', 'bg_value__range_count__max_10000000000000__min_0', 'bg_value__approximate_entropy__m_2__r_01', 'bg_value__approximate_entropy__m_2__r_03', 'bg_value__approximate_entropy__m_2__r_05', 'bg_value__approximate_entropy__m_2__r_07', 'bg_value__approximate_entropy__m_2__r_09', 'bg_value__linear_trend__attr_pvalue', 'bg_value__linear_trend__attr_rvalue', 'bg_value__linear_trend__attr_intercept', 'bg_value__linear_trend__attr_slope', 'bg_value__linear_trend__attr_stderr', 'bg_value__agg_linear_trend__attr_rvalue__chunk_len_5__f_agg_max', 'bg_value__agg_linear_trend__attr_rvalue__chunk_len_5__f_agg_min', 'bg_value__agg_linear_trend__attr_rvalue__chunk_len_5__f_agg_mean', 'bg_value__agg_linear_trend__attr_rvalue__chunk_len_5__f_agg_var', 'bg_value__agg_linear_trend__attr_intercept__chunk_len_5__f_agg_max', 'bg_value__agg_linear_trend__attr_intercept__chunk_len_5__f_agg_min', 'bg_value__agg_linear_trend__attr_intercept__chunk_len_5__f_agg_mean', 'bg_value__agg_linear_trend__attr_intercept__chunk_len_5__f_agg_var', 'bg_value__agg_linear_trend__attr_slope__chunk_len_5__f_agg_max', 'bg_value__agg_linear_trend__attr_slope__chunk_len_5__f_agg_min', 'bg_value__agg_linear_trend__attr_slope__chunk_len_5__f_agg_mean', 'bg_value__agg_linear_trend__attr_slope__chunk_len_5__f_agg_var', 'bg_value__agg_linear_trend__attr_stderr__chunk_len_5__f_agg_max', 'bg_value__agg_linear_trend__attr_stderr__chunk_len_5__f_agg_min', 'bg_value__agg_linear_trend__attr_stderr__chunk_len_5__f_agg_mean', 'bg_value__agg_linear_trend__attr_stderr__chunk_len_5__f_agg_var', 'bg_value__augmented_dickey_fuller__attr_usedlag__autolag_AIC', 'bg_value__number_crossing_m__m_1_250', 'bg_value__ratio_beyond_r_sigma__r_05', 'bg_value__ratio_beyond_r_sigma__r_15', 'bg_value__ratio_beyond_r_sigma__r_25'] not in index\""
     ]
    }
   ],
   "source": [
    "predict_model(model, features)"
   ]
  },
  {
   "cell_type": "code",
   "execution_count": null,
   "metadata": {},
   "outputs": [],
   "source": []
  }
 ],
 "metadata": {
  "kernelspec": {
   "display_name": "thesis",
   "language": "python",
   "name": "python3"
  },
  "language_info": {
   "codemirror_mode": {
    "name": "ipython",
    "version": 3
   },
   "file_extension": ".py",
   "mimetype": "text/x-python",
   "name": "python",
   "nbconvert_exporter": "python",
   "pygments_lexer": "ipython3",
   "version": "3.9.16"
  },
  "orig_nbformat": 4
 },
 "nbformat": 4,
 "nbformat_minor": 2
}
