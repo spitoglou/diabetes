{
 "cells": [
  {
   "cell_type": "code",
   "execution_count": 1,
   "metadata": {},
   "outputs": [],
   "source": [
    "from pycaret.regression import load_model, predict_model"
   ]
  },
  {
   "cell_type": "code",
   "execution_count": 32,
   "metadata": {},
   "outputs": [],
   "source": [
    "import re\n",
    "import pandas as pd\n",
    "\n",
    "def correct_lgbm_names(df) -> pd.DataFrame:\n",
    "    # Change columns names ([LightGBM] Do not support special JSON characters in feature name.)\n",
    "    new_names = {col: re.sub(r\"[^A-Za-z0-9_]+\", \"\", col) for col in df.columns}\n",
    "    new_n_list = list(new_names.values())\n",
    "    # [LightGBM] Feature appears more than one time.\n",
    "    new_names = {\n",
    "        col: f\"{new_col}_{i}\" if new_col in new_n_list[:i] else new_col\n",
    "        for i, (col, new_col) in enumerate(new_names.items())\n",
    "    }\n",
    "    return df.rename(columns=new_names)\n",
    "    \n",
    "\n",
    "def correct_features(original_df, model_features):\n",
    "    \n",
    "    corrected_df = correct_lgbm_names(original_df)\n",
    "    \n",
    "    # Add columns which (for some reason) are not present but are required by the trained model's pipeline\n",
    "    # Default value \"None\"\n",
    "    for feat in model_features:\n",
    "        found_in_model = feat in corrected_df\n",
    "        if not found_in_model:\n",
    "            print(feat)\n",
    "            if feat != 'label':\n",
    "                corrected_df[feat] = None\n",
    "    return corrected_df"
   ]
  },
  {
   "cell_type": "code",
   "execution_count": 33,
   "metadata": {},
   "outputs": [],
   "source": [
    "from src.featurizers.tsfresh import TsfreshFeaturizer\n",
    "\n",
    "def featurize_stream_df(stream_df, window, horizon):\n",
    "    featurizer = TsfreshFeaturizer(stream_df.tail(window), window, horizon, plot_chunks=False, minimal_features=False)\n",
    "    featurizer.chunks = 1\n",
    "    featurizer.create_feature_dataframe()\n",
    "    return featurizer.feature_dataframe"
   ]
  },
  {
   "cell_type": "code",
   "execution_count": 56,
   "metadata": {},
   "outputs": [
    {
     "name": "stdout",
     "output_type": "stream",
     "text": [
      "Transformation Pipeline and Model Successfully Loaded\n",
      "            date_time   mock_date time_of_day part_of_day  time  bg_value id\n",
      "0 2021-12-07 01:17:00  2021-12-07    01:17:00  late night  0.00       101  a\n",
      "1 2021-12-07 01:22:00  2021-12-07    01:22:00  late night  0.08        98  a\n",
      "2 2021-12-07 01:27:00  2021-12-07    01:27:00  late night  0.17       104  a\n",
      "3 2021-12-07 01:32:00  2021-12-07    01:32:00  late night  0.25       112  a\n",
      "4 2021-12-07 01:37:00  2021-12-07    01:37:00  late night  0.33       120  a\n",
      "5 2021-12-07 01:42:00  2021-12-07    01:42:00  late night  0.42       127  a\n"
     ]
    },
    {
     "name": "stderr",
     "output_type": "stream",
     "text": [
      "100%|██████████| 1/1 [00:05<00:00,  5.59s/it]\n"
     ]
    },
    {
     "name": "stdout",
     "output_type": "stream",
     "text": [
      "bg_value__value_count__value_1_217\n",
      "bg_value__number_crossing_m__m_1_250\n",
      "label\n",
      "147.2868736564205\n",
      "            date_time   mock_date time_of_day part_of_day  time  bg_value id\n",
      "0 2021-12-07 01:22:00  2021-12-07    01:22:00  late night  0.08        98  a\n",
      "1 2021-12-07 01:27:00  2021-12-07    01:27:00  late night  0.17       104  a\n",
      "2 2021-12-07 01:32:00  2021-12-07    01:32:00  late night  0.25       112  a\n",
      "3 2021-12-07 01:37:00  2021-12-07    01:37:00  late night  0.33       120  a\n",
      "4 2021-12-07 01:42:00  2021-12-07    01:42:00  late night  0.42       127  a\n",
      "5 2021-12-07 01:47:00  2021-12-07    01:47:00  late night  0.50       135  a\n"
     ]
    },
    {
     "name": "stderr",
     "output_type": "stream",
     "text": [
      "100%|██████████| 1/1 [00:05<00:00,  5.80s/it]\n"
     ]
    },
    {
     "name": "stdout",
     "output_type": "stream",
     "text": [
      "bg_value__value_count__value_1_217\n",
      "bg_value__number_crossing_m__m_1_250\n",
      "label\n",
      "156.47908464371034\n",
      "            date_time   mock_date time_of_day part_of_day  time  bg_value id\n",
      "0 2021-12-07 01:27:00  2021-12-07    01:27:00  late night  0.17       104  a\n",
      "1 2021-12-07 01:32:00  2021-12-07    01:32:00  late night  0.25       112  a\n",
      "2 2021-12-07 01:37:00  2021-12-07    01:37:00  late night  0.33       120  a\n",
      "3 2021-12-07 01:42:00  2021-12-07    01:42:00  late night  0.42       127  a\n",
      "4 2021-12-07 01:47:00  2021-12-07    01:47:00  late night  0.50       135  a\n",
      "5 2021-12-07 01:52:00  2021-12-07    01:52:00  late night  0.58       142  a\n"
     ]
    },
    {
     "name": "stderr",
     "output_type": "stream",
     "text": [
      "100%|██████████| 1/1 [00:05<00:00,  5.71s/it]\n"
     ]
    },
    {
     "name": "stdout",
     "output_type": "stream",
     "text": [
      "bg_value__value_count__value_1_217\n",
      "bg_value__number_crossing_m__m_1_250\n",
      "label\n",
      "166.68020276724874\n",
      "            date_time   mock_date time_of_day part_of_day  time  bg_value id\n",
      "0 2021-12-07 01:32:00  2021-12-07    01:32:00  late night  0.25       112  a\n",
      "1 2021-12-07 01:37:00  2021-12-07    01:37:00  late night  0.33       120  a\n",
      "2 2021-12-07 01:42:00  2021-12-07    01:42:00  late night  0.42       127  a\n",
      "3 2021-12-07 01:47:00  2021-12-07    01:47:00  late night  0.50       135  a\n",
      "4 2021-12-07 01:52:00  2021-12-07    01:52:00  late night  0.58       142  a\n",
      "5 2021-12-07 01:57:00  2021-12-07    01:57:00  late night  0.67       140  a\n"
     ]
    },
    {
     "name": "stderr",
     "output_type": "stream",
     "text": [
      "100%|██████████| 1/1 [00:05<00:00,  5.50s/it]\n"
     ]
    },
    {
     "name": "stdout",
     "output_type": "stream",
     "text": [
      "bg_value__value_count__value_1_217\n",
      "bg_value__number_crossing_m__m_1_250\n",
      "label\n",
      "137.05337284255495\n",
      "            date_time   mock_date time_of_day part_of_day  time  bg_value id\n",
      "0 2021-12-07 01:37:00  2021-12-07    01:37:00  late night  0.33       120  a\n",
      "1 2021-12-07 01:42:00  2021-12-07    01:42:00  late night  0.42       127  a\n",
      "2 2021-12-07 01:47:00  2021-12-07    01:47:00  late night  0.50       135  a\n",
      "3 2021-12-07 01:52:00  2021-12-07    01:52:00  late night  0.58       142  a\n",
      "4 2021-12-07 01:57:00  2021-12-07    01:57:00  late night  0.67       140  a\n",
      "5 2021-12-07 02:02:00  2021-12-07    02:02:00  late night  0.75       145  a\n"
     ]
    },
    {
     "name": "stderr",
     "output_type": "stream",
     "text": [
      "100%|██████████| 1/1 [00:05<00:00,  5.55s/it]\n"
     ]
    },
    {
     "name": "stdout",
     "output_type": "stream",
     "text": [
      "bg_value__value_count__value_1_217\n",
      "bg_value__number_crossing_m__m_1_250\n",
      "label\n",
      "157.93776991982446\n",
      "            date_time   mock_date time_of_day part_of_day  time  bg_value id\n",
      "0 2021-12-07 01:42:00  2021-12-07    01:42:00  late night  0.42       127  a\n",
      "1 2021-12-07 01:47:00  2021-12-07    01:47:00  late night  0.50       135  a\n",
      "2 2021-12-07 01:52:00  2021-12-07    01:52:00  late night  0.58       142  a\n",
      "3 2021-12-07 01:57:00  2021-12-07    01:57:00  late night  0.67       140  a\n",
      "4 2021-12-07 02:02:00  2021-12-07    02:02:00  late night  0.75       145  a\n",
      "5 2021-12-07 02:07:00  2021-12-07    02:07:00  late night  0.83       148  a\n"
     ]
    },
    {
     "name": "stderr",
     "output_type": "stream",
     "text": [
      "100%|██████████| 1/1 [00:05<00:00,  5.64s/it]\n"
     ]
    },
    {
     "name": "stdout",
     "output_type": "stream",
     "text": [
      "bg_value__value_count__value_1_217\n",
      "bg_value__number_crossing_m__m_1_250\n",
      "label\n",
      "147.30249923222078\n",
      "            date_time   mock_date time_of_day part_of_day  time  bg_value id\n",
      "0 2021-12-07 01:47:00  2021-12-07    01:47:00  late night  0.50       135  a\n",
      "1 2021-12-07 01:52:00  2021-12-07    01:52:00  late night  0.58       142  a\n",
      "2 2021-12-07 01:57:00  2021-12-07    01:57:00  late night  0.67       140  a\n",
      "3 2021-12-07 02:02:00  2021-12-07    02:02:00  late night  0.75       145  a\n",
      "4 2021-12-07 02:07:00  2021-12-07    02:07:00  late night  0.83       148  a\n",
      "5 2021-12-07 02:12:00  2021-12-07    02:12:00  late night  0.92       151  a\n"
     ]
    },
    {
     "name": "stderr",
     "output_type": "stream",
     "text": [
      "100%|██████████| 1/1 [00:05<00:00,  5.53s/it]\n"
     ]
    },
    {
     "name": "stdout",
     "output_type": "stream",
     "text": [
      "bg_value__value_count__value_1_217\n",
      "bg_value__number_crossing_m__m_1_250\n",
      "label\n",
      "164.38411646343044\n",
      "            date_time   mock_date time_of_day part_of_day  time  bg_value id\n",
      "0 2021-12-07 01:52:00  2021-12-07    01:52:00  late night  0.58       142  a\n",
      "1 2021-12-07 01:57:00  2021-12-07    01:57:00  late night  0.67       140  a\n",
      "2 2021-12-07 02:02:00  2021-12-07    02:02:00  late night  0.75       145  a\n",
      "3 2021-12-07 02:07:00  2021-12-07    02:07:00  late night  0.83       148  a\n",
      "4 2021-12-07 02:12:00  2021-12-07    02:12:00  late night  0.92       151  a\n",
      "5 2021-12-07 02:17:00  2021-12-07    02:17:00  late night  1.00       150  a\n"
     ]
    },
    {
     "name": "stderr",
     "output_type": "stream",
     "text": [
      "100%|██████████| 1/1 [00:05<00:00,  5.78s/it]\n"
     ]
    },
    {
     "name": "stdout",
     "output_type": "stream",
     "text": [
      "bg_value__value_count__value_1_217\n",
      "bg_value__number_crossing_m__m_1_250\n",
      "label\n",
      "149.20220954482735\n",
      "            date_time   mock_date time_of_day part_of_day  time  bg_value id\n",
      "0 2021-12-07 01:57:00  2021-12-07    01:57:00  late night  0.67       140  a\n",
      "1 2021-12-07 02:02:00  2021-12-07    02:02:00  late night  0.75       145  a\n",
      "2 2021-12-07 02:07:00  2021-12-07    02:07:00  late night  0.83       148  a\n",
      "3 2021-12-07 02:12:00  2021-12-07    02:12:00  late night  0.92       151  a\n",
      "4 2021-12-07 02:17:00  2021-12-07    02:17:00  late night  1.00       150  a\n",
      "5 2021-12-07 02:22:00  2021-12-07    02:22:00  late night  1.08       124  a\n"
     ]
    },
    {
     "name": "stderr",
     "output_type": "stream",
     "text": [
      "100%|██████████| 1/1 [00:05<00:00,  5.46s/it]\n"
     ]
    },
    {
     "name": "stdout",
     "output_type": "stream",
     "text": [
      "bg_value__value_count__value_1_217\n",
      "bg_value__number_crossing_m__m_1_250\n",
      "label\n",
      "106.29905692776686\n",
      "            date_time   mock_date time_of_day part_of_day  time  bg_value id\n",
      "0 2021-12-07 02:02:00  2021-12-07    02:02:00  late night  0.75       145  a\n",
      "1 2021-12-07 02:07:00  2021-12-07    02:07:00  late night  0.83       148  a\n",
      "2 2021-12-07 02:12:00  2021-12-07    02:12:00  late night  0.92       151  a\n",
      "3 2021-12-07 02:17:00  2021-12-07    02:17:00  late night  1.00       150  a\n",
      "4 2021-12-07 02:22:00  2021-12-07    02:22:00  late night  1.08       124  a\n",
      "5 2021-12-07 02:27:00  2021-12-07    02:27:00  late night  1.17       130  a\n"
     ]
    },
    {
     "name": "stderr",
     "output_type": "stream",
     "text": [
      "100%|██████████| 1/1 [00:05<00:00,  5.52s/it]\n"
     ]
    },
    {
     "name": "stdout",
     "output_type": "stream",
     "text": [
      "bg_value__value_count__value_1_217\n",
      "bg_value__number_crossing_m__m_1_250\n",
      "label\n",
      "118.9727198535413\n",
      "            date_time   mock_date time_of_day part_of_day  time  bg_value id\n",
      "0 2021-12-07 02:07:00  2021-12-07    02:07:00  late night  0.83       148  a\n",
      "1 2021-12-07 02:12:00  2021-12-07    02:12:00  late night  0.92       151  a\n",
      "2 2021-12-07 02:17:00  2021-12-07    02:17:00  late night  1.00       150  a\n",
      "3 2021-12-07 02:22:00  2021-12-07    02:22:00  late night  1.08       124  a\n",
      "4 2021-12-07 02:27:00  2021-12-07    02:27:00  late night  1.17       130  a\n",
      "5 2021-12-07 02:32:00  2021-12-07    02:32:00  late night  1.25       127  a\n"
     ]
    },
    {
     "name": "stderr",
     "output_type": "stream",
     "text": [
      "100%|██████████| 1/1 [00:05<00:00,  5.77s/it]\n"
     ]
    },
    {
     "name": "stdout",
     "output_type": "stream",
     "text": [
      "bg_value__value_count__value_1_217\n",
      "bg_value__number_crossing_m__m_1_250\n",
      "label\n",
      "97.21683853830638\n",
      "            date_time   mock_date time_of_day part_of_day  time  bg_value id\n",
      "0 2021-12-07 02:12:00  2021-12-07    02:12:00  late night  0.92       151  a\n",
      "1 2021-12-07 02:17:00  2021-12-07    02:17:00  late night  1.00       150  a\n",
      "2 2021-12-07 02:22:00  2021-12-07    02:22:00  late night  1.08       124  a\n",
      "3 2021-12-07 02:27:00  2021-12-07    02:27:00  late night  1.17       130  a\n",
      "4 2021-12-07 02:32:00  2021-12-07    02:32:00  late night  1.25       127  a\n",
      "5 2021-12-07 02:37:00  2021-12-07    02:37:00  late night  1.33       121  a\n"
     ]
    },
    {
     "name": "stderr",
     "output_type": "stream",
     "text": [
      "100%|██████████| 1/1 [00:05<00:00,  5.65s/it]\n"
     ]
    },
    {
     "name": "stdout",
     "output_type": "stream",
     "text": [
      "bg_value__value_count__value_1_217\n",
      "bg_value__number_crossing_m__m_1_250\n",
      "label\n",
      "93.14428727679184\n",
      "            date_time   mock_date time_of_day part_of_day  time  bg_value id\n",
      "0 2021-12-07 02:17:00  2021-12-07    02:17:00  late night  1.00       150  a\n",
      "1 2021-12-07 02:22:00  2021-12-07    02:22:00  late night  1.08       124  a\n",
      "2 2021-12-07 02:27:00  2021-12-07    02:27:00  late night  1.17       130  a\n",
      "3 2021-12-07 02:32:00  2021-12-07    02:32:00  late night  1.25       127  a\n",
      "4 2021-12-07 02:37:00  2021-12-07    02:37:00  late night  1.33       121  a\n",
      "5 2021-12-07 02:42:00  2021-12-07    02:42:00  late night  1.42       115  a\n"
     ]
    },
    {
     "name": "stderr",
     "output_type": "stream",
     "text": [
      "100%|██████████| 1/1 [00:05<00:00,  5.70s/it]\n"
     ]
    },
    {
     "name": "stdout",
     "output_type": "stream",
     "text": [
      "bg_value__value_count__value_1_217\n",
      "bg_value__number_crossing_m__m_1_250\n",
      "label\n",
      "90.54716657998888\n",
      "            date_time   mock_date time_of_day part_of_day  time  bg_value id\n",
      "0 2021-12-07 02:22:00  2021-12-07    02:22:00  late night  1.08       124  a\n",
      "1 2021-12-07 02:27:00  2021-12-07    02:27:00  late night  1.17       130  a\n",
      "2 2021-12-07 02:32:00  2021-12-07    02:32:00  late night  1.25       127  a\n",
      "3 2021-12-07 02:37:00  2021-12-07    02:37:00  late night  1.33       121  a\n",
      "4 2021-12-07 02:42:00  2021-12-07    02:42:00  late night  1.42       115  a\n",
      "5 2021-12-07 02:47:00  2021-12-07    02:47:00  late night  1.50       111  a\n"
     ]
    },
    {
     "name": "stderr",
     "output_type": "stream",
     "text": [
      "100%|██████████| 1/1 [00:06<00:00,  6.10s/it]\n"
     ]
    },
    {
     "name": "stdout",
     "output_type": "stream",
     "text": [
      "bg_value__value_count__value_1_217\n",
      "bg_value__number_crossing_m__m_1_250\n",
      "label\n",
      "93.99877780946768\n",
      "            date_time   mock_date time_of_day part_of_day  time  bg_value id\n",
      "0 2021-12-07 02:27:00  2021-12-07    02:27:00  late night  1.17       130  a\n",
      "1 2021-12-07 02:32:00  2021-12-07    02:32:00  late night  1.25       127  a\n",
      "2 2021-12-07 02:37:00  2021-12-07    02:37:00  late night  1.33       121  a\n",
      "3 2021-12-07 02:42:00  2021-12-07    02:42:00  late night  1.42       115  a\n",
      "4 2021-12-07 02:47:00  2021-12-07    02:47:00  late night  1.50       111  a\n",
      "5 2021-12-07 02:52:00  2021-12-07    02:52:00  late night  1.58       109  a\n"
     ]
    },
    {
     "name": "stderr",
     "output_type": "stream",
     "text": [
      "100%|██████████| 1/1 [00:05<00:00,  5.82s/it]\n"
     ]
    },
    {
     "name": "stdout",
     "output_type": "stream",
     "text": [
      "bg_value__value_count__value_1_217\n",
      "bg_value__number_crossing_m__m_1_250\n",
      "label\n",
      "87.94435634273673\n"
     ]
    },
    {
     "data": {
      "text/plain": [
       "[{'prediction_origin_time': Timestamp('2021-12-07 01:42:00'),\n",
       "  'prediction_time': Timestamp('2021-12-07 02:12:00'),\n",
       "  'prediction_value': 147.2868736564205},\n",
       " {'prediction_origin_time': Timestamp('2021-12-07 01:47:00'),\n",
       "  'prediction_time': Timestamp('2021-12-07 02:17:00'),\n",
       "  'prediction_value': 156.47908464371034},\n",
       " {'prediction_origin_time': Timestamp('2021-12-07 01:52:00'),\n",
       "  'prediction_time': Timestamp('2021-12-07 02:22:00'),\n",
       "  'prediction_value': 166.68020276724874},\n",
       " {'prediction_origin_time': Timestamp('2021-12-07 01:57:00'),\n",
       "  'prediction_time': Timestamp('2021-12-07 02:27:00'),\n",
       "  'prediction_value': 137.05337284255495},\n",
       " {'prediction_origin_time': Timestamp('2021-12-07 02:02:00'),\n",
       "  'prediction_time': Timestamp('2021-12-07 02:32:00'),\n",
       "  'prediction_value': 157.93776991982446},\n",
       " {'prediction_origin_time': Timestamp('2021-12-07 02:07:00'),\n",
       "  'prediction_time': Timestamp('2021-12-07 02:37:00'),\n",
       "  'prediction_value': 147.30249923222078},\n",
       " {'prediction_origin_time': Timestamp('2021-12-07 02:12:00'),\n",
       "  'prediction_time': Timestamp('2021-12-07 02:42:00'),\n",
       "  'prediction_value': 164.38411646343044},\n",
       " {'prediction_origin_time': Timestamp('2021-12-07 02:17:00'),\n",
       "  'prediction_time': Timestamp('2021-12-07 02:47:00'),\n",
       "  'prediction_value': 149.20220954482735},\n",
       " {'prediction_origin_time': Timestamp('2021-12-07 02:22:00'),\n",
       "  'prediction_time': Timestamp('2021-12-07 02:52:00'),\n",
       "  'prediction_value': 106.29905692776686},\n",
       " {'prediction_origin_time': Timestamp('2021-12-07 02:27:00'),\n",
       "  'prediction_time': Timestamp('2021-12-07 02:57:00'),\n",
       "  'prediction_value': 118.9727198535413},\n",
       " {'prediction_origin_time': Timestamp('2021-12-07 02:32:00'),\n",
       "  'prediction_time': Timestamp('2021-12-07 03:02:00'),\n",
       "  'prediction_value': 97.21683853830638},\n",
       " {'prediction_origin_time': Timestamp('2021-12-07 02:37:00'),\n",
       "  'prediction_time': Timestamp('2021-12-07 03:07:00'),\n",
       "  'prediction_value': 93.14428727679184},\n",
       " {'prediction_origin_time': Timestamp('2021-12-07 02:42:00'),\n",
       "  'prediction_time': Timestamp('2021-12-07 03:12:00'),\n",
       "  'prediction_value': 90.54716657998888},\n",
       " {'prediction_origin_time': Timestamp('2021-12-07 02:47:00'),\n",
       "  'prediction_time': Timestamp('2021-12-07 03:17:00'),\n",
       "  'prediction_value': 93.99877780946768},\n",
       " {'prediction_origin_time': Timestamp('2021-12-07 02:52:00'),\n",
       "  'prediction_time': Timestamp('2021-12-07 03:22:00'),\n",
       "  'prediction_value': 87.94435634273673}]"
      ]
     },
     "execution_count": 56,
     "metadata": {},
     "output_type": "execute_result"
    }
   ],
   "source": [
    "from pycaret.regression import load_model, predict_model, pull\n",
    "from src.bgc_providers.ohio_bgc_provider import OhioBgcProvider\n",
    "from datetime import datetime, timedelta\n",
    "import pandas as pd\n",
    "\n",
    "model = load_model('models/559_6_6_1_LGBMRegressor_8ef033d3-ac4b-47ba-8231-fb49991f8b7f')\n",
    "saved_model_features = model.feature_names_in_\n",
    "\n",
    "provider = OhioBgcProvider()\n",
    "measurements = provider.tsfresh_dataframe()\n",
    "\n",
    "stream = pd.DataFrame()\n",
    "\n",
    "max_data = 20\n",
    "meas_list = []\n",
    "predictions = []\n",
    "for counter in range(max_data):\n",
    "    measurement = measurements.iloc[counter]\n",
    "    meas_list.append(measurement)\n",
    "    if len(meas_list) >= 6:\n",
    "        last_n = meas_list[-6:]\n",
    "        stream = pd.DataFrame(last_n).reset_index(drop=True)\n",
    "        print(stream)\n",
    "        features = featurize_stream_df(stream, 6, 6)\n",
    "        # features\n",
    "        prediction = predict_model(model, correct_features(features, saved_model_features)).prediction_label[0]\n",
    "        print(prediction)\n",
    "        predictions.append({\n",
    "            'prediction_origin_time': measurement.date_time,\n",
    "            'prediction_time': measurement.date_time + timedelta(minutes=6*5),\n",
    "            'prediction_value': prediction,\n",
    "        })\n",
    "predictions\n",
    "\n",
    "        \n"
   ]
  },
  {
   "cell_type": "code",
   "execution_count": 57,
   "metadata": {},
   "outputs": [
    {
     "data": {
      "text/html": [
       "<div>\n",
       "<style scoped>\n",
       "    .dataframe tbody tr th:only-of-type {\n",
       "        vertical-align: middle;\n",
       "    }\n",
       "\n",
       "    .dataframe tbody tr th {\n",
       "        vertical-align: top;\n",
       "    }\n",
       "\n",
       "    .dataframe thead th {\n",
       "        text-align: right;\n",
       "    }\n",
       "</style>\n",
       "<table border=\"1\" class=\"dataframe\">\n",
       "  <thead>\n",
       "    <tr style=\"text-align: right;\">\n",
       "      <th></th>\n",
       "      <th>date_time</th>\n",
       "      <th>mock_date</th>\n",
       "      <th>time_of_day</th>\n",
       "      <th>part_of_day</th>\n",
       "      <th>time</th>\n",
       "      <th>bg_value</th>\n",
       "      <th>id</th>\n",
       "    </tr>\n",
       "  </thead>\n",
       "  <tbody>\n",
       "    <tr>\n",
       "      <th>0</th>\n",
       "      <td>2021-12-07 01:17:00</td>\n",
       "      <td>2021-12-07</td>\n",
       "      <td>01:17:00</td>\n",
       "      <td>late night</td>\n",
       "      <td>0.00</td>\n",
       "      <td>101</td>\n",
       "      <td>a</td>\n",
       "    </tr>\n",
       "    <tr>\n",
       "      <th>1</th>\n",
       "      <td>2021-12-07 01:22:00</td>\n",
       "      <td>2021-12-07</td>\n",
       "      <td>01:22:00</td>\n",
       "      <td>late night</td>\n",
       "      <td>0.08</td>\n",
       "      <td>98</td>\n",
       "      <td>a</td>\n",
       "    </tr>\n",
       "    <tr>\n",
       "      <th>2</th>\n",
       "      <td>2021-12-07 01:27:00</td>\n",
       "      <td>2021-12-07</td>\n",
       "      <td>01:27:00</td>\n",
       "      <td>late night</td>\n",
       "      <td>0.17</td>\n",
       "      <td>104</td>\n",
       "      <td>a</td>\n",
       "    </tr>\n",
       "    <tr>\n",
       "      <th>3</th>\n",
       "      <td>2021-12-07 01:32:00</td>\n",
       "      <td>2021-12-07</td>\n",
       "      <td>01:32:00</td>\n",
       "      <td>late night</td>\n",
       "      <td>0.25</td>\n",
       "      <td>112</td>\n",
       "      <td>a</td>\n",
       "    </tr>\n",
       "    <tr>\n",
       "      <th>4</th>\n",
       "      <td>2021-12-07 01:37:00</td>\n",
       "      <td>2021-12-07</td>\n",
       "      <td>01:37:00</td>\n",
       "      <td>late night</td>\n",
       "      <td>0.33</td>\n",
       "      <td>120</td>\n",
       "      <td>a</td>\n",
       "    </tr>\n",
       "    <tr>\n",
       "      <th>5</th>\n",
       "      <td>2021-12-07 01:42:00</td>\n",
       "      <td>2021-12-07</td>\n",
       "      <td>01:42:00</td>\n",
       "      <td>late night</td>\n",
       "      <td>0.42</td>\n",
       "      <td>127</td>\n",
       "      <td>a</td>\n",
       "    </tr>\n",
       "    <tr>\n",
       "      <th>6</th>\n",
       "      <td>2021-12-07 01:47:00</td>\n",
       "      <td>2021-12-07</td>\n",
       "      <td>01:47:00</td>\n",
       "      <td>late night</td>\n",
       "      <td>0.50</td>\n",
       "      <td>135</td>\n",
       "      <td>a</td>\n",
       "    </tr>\n",
       "    <tr>\n",
       "      <th>7</th>\n",
       "      <td>2021-12-07 01:52:00</td>\n",
       "      <td>2021-12-07</td>\n",
       "      <td>01:52:00</td>\n",
       "      <td>late night</td>\n",
       "      <td>0.58</td>\n",
       "      <td>142</td>\n",
       "      <td>a</td>\n",
       "    </tr>\n",
       "    <tr>\n",
       "      <th>8</th>\n",
       "      <td>2021-12-07 01:57:00</td>\n",
       "      <td>2021-12-07</td>\n",
       "      <td>01:57:00</td>\n",
       "      <td>late night</td>\n",
       "      <td>0.67</td>\n",
       "      <td>140</td>\n",
       "      <td>a</td>\n",
       "    </tr>\n",
       "    <tr>\n",
       "      <th>9</th>\n",
       "      <td>2021-12-07 02:02:00</td>\n",
       "      <td>2021-12-07</td>\n",
       "      <td>02:02:00</td>\n",
       "      <td>late night</td>\n",
       "      <td>0.75</td>\n",
       "      <td>145</td>\n",
       "      <td>a</td>\n",
       "    </tr>\n",
       "    <tr>\n",
       "      <th>10</th>\n",
       "      <td>2021-12-07 02:07:00</td>\n",
       "      <td>2021-12-07</td>\n",
       "      <td>02:07:00</td>\n",
       "      <td>late night</td>\n",
       "      <td>0.83</td>\n",
       "      <td>148</td>\n",
       "      <td>a</td>\n",
       "    </tr>\n",
       "    <tr>\n",
       "      <th>11</th>\n",
       "      <td>2021-12-07 02:12:00</td>\n",
       "      <td>2021-12-07</td>\n",
       "      <td>02:12:00</td>\n",
       "      <td>late night</td>\n",
       "      <td>0.92</td>\n",
       "      <td>151</td>\n",
       "      <td>a</td>\n",
       "    </tr>\n",
       "    <tr>\n",
       "      <th>12</th>\n",
       "      <td>2021-12-07 02:17:00</td>\n",
       "      <td>2021-12-07</td>\n",
       "      <td>02:17:00</td>\n",
       "      <td>late night</td>\n",
       "      <td>1.00</td>\n",
       "      <td>150</td>\n",
       "      <td>a</td>\n",
       "    </tr>\n",
       "    <tr>\n",
       "      <th>13</th>\n",
       "      <td>2021-12-07 02:22:00</td>\n",
       "      <td>2021-12-07</td>\n",
       "      <td>02:22:00</td>\n",
       "      <td>late night</td>\n",
       "      <td>1.08</td>\n",
       "      <td>124</td>\n",
       "      <td>a</td>\n",
       "    </tr>\n",
       "    <tr>\n",
       "      <th>14</th>\n",
       "      <td>2021-12-07 02:27:00</td>\n",
       "      <td>2021-12-07</td>\n",
       "      <td>02:27:00</td>\n",
       "      <td>late night</td>\n",
       "      <td>1.17</td>\n",
       "      <td>130</td>\n",
       "      <td>a</td>\n",
       "    </tr>\n",
       "    <tr>\n",
       "      <th>15</th>\n",
       "      <td>2021-12-07 02:32:00</td>\n",
       "      <td>2021-12-07</td>\n",
       "      <td>02:32:00</td>\n",
       "      <td>late night</td>\n",
       "      <td>1.25</td>\n",
       "      <td>127</td>\n",
       "      <td>a</td>\n",
       "    </tr>\n",
       "    <tr>\n",
       "      <th>16</th>\n",
       "      <td>2021-12-07 02:37:00</td>\n",
       "      <td>2021-12-07</td>\n",
       "      <td>02:37:00</td>\n",
       "      <td>late night</td>\n",
       "      <td>1.33</td>\n",
       "      <td>121</td>\n",
       "      <td>a</td>\n",
       "    </tr>\n",
       "    <tr>\n",
       "      <th>17</th>\n",
       "      <td>2021-12-07 02:42:00</td>\n",
       "      <td>2021-12-07</td>\n",
       "      <td>02:42:00</td>\n",
       "      <td>late night</td>\n",
       "      <td>1.42</td>\n",
       "      <td>115</td>\n",
       "      <td>a</td>\n",
       "    </tr>\n",
       "    <tr>\n",
       "      <th>18</th>\n",
       "      <td>2021-12-07 02:47:00</td>\n",
       "      <td>2021-12-07</td>\n",
       "      <td>02:47:00</td>\n",
       "      <td>late night</td>\n",
       "      <td>1.50</td>\n",
       "      <td>111</td>\n",
       "      <td>a</td>\n",
       "    </tr>\n",
       "    <tr>\n",
       "      <th>19</th>\n",
       "      <td>2021-12-07 02:52:00</td>\n",
       "      <td>2021-12-07</td>\n",
       "      <td>02:52:00</td>\n",
       "      <td>late night</td>\n",
       "      <td>1.58</td>\n",
       "      <td>109</td>\n",
       "      <td>a</td>\n",
       "    </tr>\n",
       "  </tbody>\n",
       "</table>\n",
       "</div>"
      ],
      "text/plain": [
       "             date_time   mock_date time_of_day part_of_day  time  bg_value id\n",
       "0  2021-12-07 01:17:00  2021-12-07    01:17:00  late night  0.00       101  a\n",
       "1  2021-12-07 01:22:00  2021-12-07    01:22:00  late night  0.08        98  a\n",
       "2  2021-12-07 01:27:00  2021-12-07    01:27:00  late night  0.17       104  a\n",
       "3  2021-12-07 01:32:00  2021-12-07    01:32:00  late night  0.25       112  a\n",
       "4  2021-12-07 01:37:00  2021-12-07    01:37:00  late night  0.33       120  a\n",
       "5  2021-12-07 01:42:00  2021-12-07    01:42:00  late night  0.42       127  a\n",
       "6  2021-12-07 01:47:00  2021-12-07    01:47:00  late night  0.50       135  a\n",
       "7  2021-12-07 01:52:00  2021-12-07    01:52:00  late night  0.58       142  a\n",
       "8  2021-12-07 01:57:00  2021-12-07    01:57:00  late night  0.67       140  a\n",
       "9  2021-12-07 02:02:00  2021-12-07    02:02:00  late night  0.75       145  a\n",
       "10 2021-12-07 02:07:00  2021-12-07    02:07:00  late night  0.83       148  a\n",
       "11 2021-12-07 02:12:00  2021-12-07    02:12:00  late night  0.92       151  a\n",
       "12 2021-12-07 02:17:00  2021-12-07    02:17:00  late night  1.00       150  a\n",
       "13 2021-12-07 02:22:00  2021-12-07    02:22:00  late night  1.08       124  a\n",
       "14 2021-12-07 02:27:00  2021-12-07    02:27:00  late night  1.17       130  a\n",
       "15 2021-12-07 02:32:00  2021-12-07    02:32:00  late night  1.25       127  a\n",
       "16 2021-12-07 02:37:00  2021-12-07    02:37:00  late night  1.33       121  a\n",
       "17 2021-12-07 02:42:00  2021-12-07    02:42:00  late night  1.42       115  a\n",
       "18 2021-12-07 02:47:00  2021-12-07    02:47:00  late night  1.50       111  a\n",
       "19 2021-12-07 02:52:00  2021-12-07    02:52:00  late night  1.58       109  a"
      ]
     },
     "execution_count": 57,
     "metadata": {},
     "output_type": "execute_result"
    }
   ],
   "source": [
    "measurement_df = pd.DataFrame(meas_list)\n",
    "measurement_df"
   ]
  },
  {
   "cell_type": "code",
   "execution_count": 58,
   "metadata": {},
   "outputs": [
    {
     "data": {
      "text/html": [
       "<div>\n",
       "<style scoped>\n",
       "    .dataframe tbody tr th:only-of-type {\n",
       "        vertical-align: middle;\n",
       "    }\n",
       "\n",
       "    .dataframe tbody tr th {\n",
       "        vertical-align: top;\n",
       "    }\n",
       "\n",
       "    .dataframe thead th {\n",
       "        text-align: right;\n",
       "    }\n",
       "</style>\n",
       "<table border=\"1\" class=\"dataframe\">\n",
       "  <thead>\n",
       "    <tr style=\"text-align: right;\">\n",
       "      <th></th>\n",
       "      <th>prediction_origin_time</th>\n",
       "      <th>prediction_time</th>\n",
       "      <th>prediction_value</th>\n",
       "    </tr>\n",
       "  </thead>\n",
       "  <tbody>\n",
       "    <tr>\n",
       "      <th>0</th>\n",
       "      <td>2021-12-07 01:42:00</td>\n",
       "      <td>2021-12-07 02:12:00</td>\n",
       "      <td>147.286874</td>\n",
       "    </tr>\n",
       "    <tr>\n",
       "      <th>1</th>\n",
       "      <td>2021-12-07 01:47:00</td>\n",
       "      <td>2021-12-07 02:17:00</td>\n",
       "      <td>156.479085</td>\n",
       "    </tr>\n",
       "    <tr>\n",
       "      <th>2</th>\n",
       "      <td>2021-12-07 01:52:00</td>\n",
       "      <td>2021-12-07 02:22:00</td>\n",
       "      <td>166.680203</td>\n",
       "    </tr>\n",
       "    <tr>\n",
       "      <th>3</th>\n",
       "      <td>2021-12-07 01:57:00</td>\n",
       "      <td>2021-12-07 02:27:00</td>\n",
       "      <td>137.053373</td>\n",
       "    </tr>\n",
       "    <tr>\n",
       "      <th>4</th>\n",
       "      <td>2021-12-07 02:02:00</td>\n",
       "      <td>2021-12-07 02:32:00</td>\n",
       "      <td>157.937770</td>\n",
       "    </tr>\n",
       "    <tr>\n",
       "      <th>5</th>\n",
       "      <td>2021-12-07 02:07:00</td>\n",
       "      <td>2021-12-07 02:37:00</td>\n",
       "      <td>147.302499</td>\n",
       "    </tr>\n",
       "    <tr>\n",
       "      <th>6</th>\n",
       "      <td>2021-12-07 02:12:00</td>\n",
       "      <td>2021-12-07 02:42:00</td>\n",
       "      <td>164.384116</td>\n",
       "    </tr>\n",
       "    <tr>\n",
       "      <th>7</th>\n",
       "      <td>2021-12-07 02:17:00</td>\n",
       "      <td>2021-12-07 02:47:00</td>\n",
       "      <td>149.202210</td>\n",
       "    </tr>\n",
       "    <tr>\n",
       "      <th>8</th>\n",
       "      <td>2021-12-07 02:22:00</td>\n",
       "      <td>2021-12-07 02:52:00</td>\n",
       "      <td>106.299057</td>\n",
       "    </tr>\n",
       "    <tr>\n",
       "      <th>9</th>\n",
       "      <td>2021-12-07 02:27:00</td>\n",
       "      <td>2021-12-07 02:57:00</td>\n",
       "      <td>118.972720</td>\n",
       "    </tr>\n",
       "    <tr>\n",
       "      <th>10</th>\n",
       "      <td>2021-12-07 02:32:00</td>\n",
       "      <td>2021-12-07 03:02:00</td>\n",
       "      <td>97.216839</td>\n",
       "    </tr>\n",
       "    <tr>\n",
       "      <th>11</th>\n",
       "      <td>2021-12-07 02:37:00</td>\n",
       "      <td>2021-12-07 03:07:00</td>\n",
       "      <td>93.144287</td>\n",
       "    </tr>\n",
       "    <tr>\n",
       "      <th>12</th>\n",
       "      <td>2021-12-07 02:42:00</td>\n",
       "      <td>2021-12-07 03:12:00</td>\n",
       "      <td>90.547167</td>\n",
       "    </tr>\n",
       "    <tr>\n",
       "      <th>13</th>\n",
       "      <td>2021-12-07 02:47:00</td>\n",
       "      <td>2021-12-07 03:17:00</td>\n",
       "      <td>93.998778</td>\n",
       "    </tr>\n",
       "    <tr>\n",
       "      <th>14</th>\n",
       "      <td>2021-12-07 02:52:00</td>\n",
       "      <td>2021-12-07 03:22:00</td>\n",
       "      <td>87.944356</td>\n",
       "    </tr>\n",
       "  </tbody>\n",
       "</table>\n",
       "</div>"
      ],
      "text/plain": [
       "   prediction_origin_time     prediction_time  prediction_value\n",
       "0     2021-12-07 01:42:00 2021-12-07 02:12:00        147.286874\n",
       "1     2021-12-07 01:47:00 2021-12-07 02:17:00        156.479085\n",
       "2     2021-12-07 01:52:00 2021-12-07 02:22:00        166.680203\n",
       "3     2021-12-07 01:57:00 2021-12-07 02:27:00        137.053373\n",
       "4     2021-12-07 02:02:00 2021-12-07 02:32:00        157.937770\n",
       "5     2021-12-07 02:07:00 2021-12-07 02:37:00        147.302499\n",
       "6     2021-12-07 02:12:00 2021-12-07 02:42:00        164.384116\n",
       "7     2021-12-07 02:17:00 2021-12-07 02:47:00        149.202210\n",
       "8     2021-12-07 02:22:00 2021-12-07 02:52:00        106.299057\n",
       "9     2021-12-07 02:27:00 2021-12-07 02:57:00        118.972720\n",
       "10    2021-12-07 02:32:00 2021-12-07 03:02:00         97.216839\n",
       "11    2021-12-07 02:37:00 2021-12-07 03:07:00         93.144287\n",
       "12    2021-12-07 02:42:00 2021-12-07 03:12:00         90.547167\n",
       "13    2021-12-07 02:47:00 2021-12-07 03:17:00         93.998778\n",
       "14    2021-12-07 02:52:00 2021-12-07 03:22:00         87.944356"
      ]
     },
     "execution_count": 58,
     "metadata": {},
     "output_type": "execute_result"
    }
   ],
   "source": [
    "prediction_df = pd.DataFrame(predictions)\n",
    "prediction_df"
   ]
  },
  {
   "cell_type": "code",
   "execution_count": 59,
   "metadata": {},
   "outputs": [
    {
     "data": {
      "text/plain": [
       "<Axes: xlabel='date_time'>"
      ]
     },
     "execution_count": 59,
     "metadata": {},
     "output_type": "execute_result"
    },
    {
     "data": {
      "image/png": "[encoded data removed]",
      "text/plain": [
       "<Figure size 800x550 with 1 Axes>"
      ]
     },
     "metadata": {},
     "output_type": "display_data"
    }
   ],
   "source": [
    "ax = prediction_df.plot(y='prediction_value', x='prediction_time')\n",
    "measurement_df.plot(ax=ax, y='bg_value', x='date_time')\n"
   ]
  },
  {
   "cell_type": "markdown",
   "metadata": {},
   "source": [
    "# Old"
   ]
  },
  {
   "cell_type": "code",
   "execution_count": 15,
   "metadata": {},
   "outputs": [
    {
     "data": {
      "text/plain": [
       "Timestamp('2021-12-07 01:47:00')"
      ]
     },
     "execution_count": 15,
     "metadata": {},
     "output_type": "execute_result"
    }
   ],
   "source": [
    "# from datetime import datetime, timedelta\n",
    "\n",
    "# measurements.iloc[0].date_time + timedelta(minutes=6*5)"
   ]
  },
  {
   "cell_type": "code",
   "execution_count": 3,
   "metadata": {},
   "outputs": [
    {
     "data": {
      "text/html": [
       "<div>\n",
       "<style scoped>\n",
       "    .dataframe tbody tr th:only-of-type {\n",
       "        vertical-align: middle;\n",
       "    }\n",
       "\n",
       "    .dataframe tbody tr th {\n",
       "        vertical-align: top;\n",
       "    }\n",
       "\n",
       "    .dataframe thead th {\n",
       "        text-align: right;\n",
       "    }\n",
       "</style>\n",
       "<table border=\"1\" class=\"dataframe\">\n",
       "  <thead>\n",
       "    <tr style=\"text-align: right;\">\n",
       "      <th></th>\n",
       "      <th>date_time</th>\n",
       "      <th>mock_date</th>\n",
       "      <th>time_of_day</th>\n",
       "      <th>part_of_day</th>\n",
       "      <th>time</th>\n",
       "      <th>bg_value</th>\n",
       "      <th>id</th>\n",
       "    </tr>\n",
       "  </thead>\n",
       "  <tbody>\n",
       "    <tr>\n",
       "      <th>0</th>\n",
       "      <td>2021-12-07 01:17:00</td>\n",
       "      <td>2021-12-07</td>\n",
       "      <td>01:17:00</td>\n",
       "      <td>late night</td>\n",
       "      <td>0.00</td>\n",
       "      <td>101</td>\n",
       "      <td>a</td>\n",
       "    </tr>\n",
       "    <tr>\n",
       "      <th>1</th>\n",
       "      <td>2021-12-07 01:22:00</td>\n",
       "      <td>2021-12-07</td>\n",
       "      <td>01:22:00</td>\n",
       "      <td>late night</td>\n",
       "      <td>0.08</td>\n",
       "      <td>98</td>\n",
       "      <td>a</td>\n",
       "    </tr>\n",
       "    <tr>\n",
       "      <th>2</th>\n",
       "      <td>2021-12-07 01:27:00</td>\n",
       "      <td>2021-12-07</td>\n",
       "      <td>01:27:00</td>\n",
       "      <td>late night</td>\n",
       "      <td>0.17</td>\n",
       "      <td>104</td>\n",
       "      <td>a</td>\n",
       "    </tr>\n",
       "    <tr>\n",
       "      <th>3</th>\n",
       "      <td>2021-12-07 01:32:00</td>\n",
       "      <td>2021-12-07</td>\n",
       "      <td>01:32:00</td>\n",
       "      <td>late night</td>\n",
       "      <td>0.25</td>\n",
       "      <td>112</td>\n",
       "      <td>a</td>\n",
       "    </tr>\n",
       "    <tr>\n",
       "      <th>4</th>\n",
       "      <td>2021-12-07 01:37:00</td>\n",
       "      <td>2021-12-07</td>\n",
       "      <td>01:37:00</td>\n",
       "      <td>late night</td>\n",
       "      <td>0.33</td>\n",
       "      <td>120</td>\n",
       "      <td>a</td>\n",
       "    </tr>\n",
       "    <tr>\n",
       "      <th>5</th>\n",
       "      <td>2021-12-07 01:42:00</td>\n",
       "      <td>2021-12-07</td>\n",
       "      <td>01:42:00</td>\n",
       "      <td>late night</td>\n",
       "      <td>0.42</td>\n",
       "      <td>127</td>\n",
       "      <td>a</td>\n",
       "    </tr>\n",
       "  </tbody>\n",
       "</table>\n",
       "</div>"
      ],
      "text/plain": [
       "            date_time   mock_date time_of_day part_of_day  time  bg_value id\n",
       "0 2021-12-07 01:17:00  2021-12-07    01:17:00  late night  0.00       101  a\n",
       "1 2021-12-07 01:22:00  2021-12-07    01:22:00  late night  0.08        98  a\n",
       "2 2021-12-07 01:27:00  2021-12-07    01:27:00  late night  0.17       104  a\n",
       "3 2021-12-07 01:32:00  2021-12-07    01:32:00  late night  0.25       112  a\n",
       "4 2021-12-07 01:37:00  2021-12-07    01:37:00  late night  0.33       120  a\n",
       "5 2021-12-07 01:42:00  2021-12-07    01:42:00  late night  0.42       127  a"
      ]
     },
     "execution_count": 3,
     "metadata": {},
     "output_type": "execute_result"
    }
   ],
   "source": [
    "# from src.bgc_providers.ohio_bgc_provider import OhioBgcProvider\n",
    "# test_provider = OhioBgcProvider()\n",
    "# test_dataframe = test_provider.tsfresh_dataframe()\n",
    "# mock_last_measurements = test_dataframe.head(6)\n",
    "# mock_last_measurements\n",
    "# features = featurize_stream_df(mock_last_measurements, 6, 6)\n",
    "# features"
   ]
  },
  {
   "cell_type": "code",
   "execution_count": 6,
   "metadata": {},
   "outputs": [
    {
     "name": "stdout",
     "output_type": "stream",
     "text": [
      "Transformation Pipeline and Model Successfully Loaded\n"
     ]
    }
   ],
   "source": [
    "# model = load_model('models/559_6_6_1_LGBMRegressor_8ef033d3-ac4b-47ba-8231-fb49991f8b7f')\n",
    "# saved_model_features = model.feature_names_in_\n",
    "# a = predict_model(model, correct_features(features, saved_model_features))\n",
    "# a.prediction_label[0]"
   ]
  },
  {
   "cell_type": "code",
   "execution_count": 8,
   "metadata": {},
   "outputs": [],
   "source": [
    "# from src.featurizers.tsfresh import TsfreshFeaturizer\n",
    "# test_features = TsfreshFeaturizer(mock_last_measurements, 6, 6, plot_chunks=False, minimal_features=False)\n",
    "# test_features.chunks = 1\n",
    "# test_features.chunks"
   ]
  },
  {
   "cell_type": "code",
   "execution_count": 9,
   "metadata": {},
   "outputs": [],
   "source": [
    "# test_features.create_feature_dataframe()\n",
    "# features = test_features.feature_dataframe\n",
    "# features"
   ]
  },
  {
   "cell_type": "code",
   "execution_count": 10,
   "metadata": {},
   "outputs": [],
   "source": [
    "# import re\n",
    "# new_names = {col: re.sub(r\"[^A-Za-z0-9_]+\", \"\", col) for col in features.columns}\n",
    "# new_n_list = list(new_names.values())\n",
    "# # [LightGBM] Feature appears more than one time.\n",
    "# new_names = {\n",
    "#     col: f\"{new_col}_{i}\" if new_col in new_n_list[:i] else new_col\n",
    "#     for i, (col, new_col) in enumerate(new_names.items())\n",
    "# }\n",
    "# correct_features = features.rename(columns=new_names)\n",
    "# # print(correct_features)\n",
    "# for feat in saved_model_features:\n",
    "#     found_in_model = feat in correct_features\n",
    "#     if not found_in_model:\n",
    "#         print(feat)\n",
    "#         if feat != 'label':\n",
    "#             correct_features[feat] = None"
   ]
  },
  {
   "cell_type": "code",
   "execution_count": null,
   "metadata": {},
   "outputs": [],
   "source": []
  }
 ],
 "metadata": {
  "kernelspec": {
   "display_name": "thesis",
   "language": "python",
   "name": "python3"
  },
  "language_info": {
   "codemirror_mode": {
    "name": "ipython",
    "version": 3
   },
   "file_extension": ".py",
   "mimetype": "text/x-python",
   "name": "python",
   "nbconvert_exporter": "python",
   "pygments_lexer": "ipython3",
   "version": "3.10.12"
  },
  "orig_nbformat": 4
 },
 "nbformat": 4,
 "nbformat_minor": 2
}
