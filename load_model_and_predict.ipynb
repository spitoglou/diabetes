{
 "cells": [
  {
   "cell_type": "code",
   "execution_count": 1,
   "metadata": {},
   "outputs": [],
   "source": [
    "from pycaret.regression import load_model, predict_model"
   ]
  },
  {
   "cell_type": "code",
   "execution_count": 2,
   "metadata": {},
   "outputs": [],
   "source": [
    "import re\n",
    "import pandas as pd\n",
    "\n",
    "def correct_lgbm_names(df) -> pd.DataFrame:\n",
    "    # Change columns names ([LightGBM] Do not support special JSON characters in feature name.)\n",
    "    new_names = {col: re.sub(r\"[^A-Za-z0-9_]+\", \"\", col) for col in df.columns}\n",
    "    new_n_list = list(new_names.values())\n",
    "    # [LightGBM] Feature appears more than one time.\n",
    "    new_names = {\n",
    "        col: f\"{new_col}_{i}\" if new_col in new_n_list[:i] else new_col\n",
    "        for i, (col, new_col) in enumerate(new_names.items())\n",
    "    }\n",
    "    return df.rename(columns=new_names)\n",
    "    \n",
    "\n",
    "def correct_features(original_df, model_features):\n",
    "    \n",
    "    corrected_df = correct_lgbm_names(original_df)\n",
    "    \n",
    "    # Add columns which (for some reason) are not present but are required by the trained model's pipeline\n",
    "    # Default value \"None\"\n",
    "    for feat in model_features:\n",
    "        found_in_model = feat in corrected_df\n",
    "        if not found_in_model:\n",
    "            print(feat)\n",
    "            if feat != 'label':\n",
    "                corrected_df[feat] = None\n",
    "    return corrected_df"
   ]
  },
  {
   "cell_type": "code",
   "execution_count": 3,
   "metadata": {},
   "outputs": [],
   "source": [
    "from src.featurizers.tsfresh import TsfreshFeaturizer\n",
    "\n",
    "def featurize_stream_df(stream_df, window, horizon):\n",
    "    featurizer = TsfreshFeaturizer(stream_df.tail(window), window, horizon, plot_chunks=False, minimal_features=False)\n",
    "    featurizer.chunks = 1\n",
    "    featurizer.create_feature_dataframe()\n",
    "    return featurizer.feature_dataframe"
   ]
  },
  {
   "cell_type": "code",
   "execution_count": 4,
   "metadata": {},
   "outputs": [
    {
     "name": "stdout",
     "output_type": "stream",
     "text": [
      "Transformation Pipeline and Model Successfully Loaded\n",
      "            date_time   mock_date time_of_day part_of_day  time  bg_value id\n",
      "0 2021-12-07 01:17:00  2021-12-07    01:17:00  late night  0.00       101  a\n",
      "1 2021-12-07 01:22:00  2021-12-07    01:22:00  late night  0.08        98  a\n",
      "2 2021-12-07 01:27:00  2021-12-07    01:27:00  late night  0.17       104  a\n",
      "3 2021-12-07 01:32:00  2021-12-07    01:32:00  late night  0.25       112  a\n",
      "4 2021-12-07 01:37:00  2021-12-07    01:37:00  late night  0.33       120  a\n",
      "5 2021-12-07 01:42:00  2021-12-07    01:42:00  late night  0.42       127  a\n"
     ]
    },
    {
     "name": "stderr",
     "output_type": "stream",
     "text": [
      "100%|██████████| 1/1 [00:11<00:00, 11.64s/it]\n"
     ]
    },
    {
     "name": "stdout",
     "output_type": "stream",
     "text": [
      "bg_value__value_count__value_1_217\n",
      "bg_value__number_crossing_m__m_1_250\n",
      "label\n",
      "147.2868736564205\n",
      "            date_time   mock_date time_of_day part_of_day  time  bg_value id\n",
      "0 2021-12-07 01:22:00  2021-12-07    01:22:00  late night  0.08        98  a\n",
      "1 2021-12-07 01:27:00  2021-12-07    01:27:00  late night  0.17       104  a\n",
      "2 2021-12-07 01:32:00  2021-12-07    01:32:00  late night  0.25       112  a\n",
      "3 2021-12-07 01:37:00  2021-12-07    01:37:00  late night  0.33       120  a\n",
      "4 2021-12-07 01:42:00  2021-12-07    01:42:00  late night  0.42       127  a\n",
      "5 2021-12-07 01:47:00  2021-12-07    01:47:00  late night  0.50       135  a\n"
     ]
    },
    {
     "name": "stderr",
     "output_type": "stream",
     "text": [
      "100%|██████████| 1/1 [00:12<00:00, 12.19s/it]\n"
     ]
    },
    {
     "name": "stdout",
     "output_type": "stream",
     "text": [
      "bg_value__value_count__value_1_217\n",
      "bg_value__number_crossing_m__m_1_250\n",
      "label\n",
      "156.47908464371034\n",
      "            date_time   mock_date time_of_day part_of_day  time  bg_value id\n",
      "0 2021-12-07 01:27:00  2021-12-07    01:27:00  late night  0.17       104  a\n",
      "1 2021-12-07 01:32:00  2021-12-07    01:32:00  late night  0.25       112  a\n",
      "2 2021-12-07 01:37:00  2021-12-07    01:37:00  late night  0.33       120  a\n",
      "3 2021-12-07 01:42:00  2021-12-07    01:42:00  late night  0.42       127  a\n",
      "4 2021-12-07 01:47:00  2021-12-07    01:47:00  late night  0.50       135  a\n",
      "5 2021-12-07 01:52:00  2021-12-07    01:52:00  late night  0.58       142  a\n"
     ]
    },
    {
     "name": "stderr",
     "output_type": "stream",
     "text": [
      "100%|██████████| 1/1 [00:14<00:00, 14.04s/it]\n"
     ]
    },
    {
     "name": "stdout",
     "output_type": "stream",
     "text": [
      "bg_value__value_count__value_1_217\n",
      "bg_value__number_crossing_m__m_1_250\n",
      "label\n",
      "166.68020276724874\n",
      "            date_time   mock_date time_of_day part_of_day  time  bg_value id\n",
      "0 2021-12-07 01:32:00  2021-12-07    01:32:00  late night  0.25       112  a\n",
      "1 2021-12-07 01:37:00  2021-12-07    01:37:00  late night  0.33       120  a\n",
      "2 2021-12-07 01:42:00  2021-12-07    01:42:00  late night  0.42       127  a\n",
      "3 2021-12-07 01:47:00  2021-12-07    01:47:00  late night  0.50       135  a\n",
      "4 2021-12-07 01:52:00  2021-12-07    01:52:00  late night  0.58       142  a\n",
      "5 2021-12-07 01:57:00  2021-12-07    01:57:00  late night  0.67       140  a\n"
     ]
    },
    {
     "name": "stderr",
     "output_type": "stream",
     "text": [
      "100%|██████████| 1/1 [00:11<00:00, 11.99s/it]\n"
     ]
    },
    {
     "name": "stdout",
     "output_type": "stream",
     "text": [
      "bg_value__value_count__value_1_217\n",
      "bg_value__number_crossing_m__m_1_250\n",
      "label\n",
      "137.05337284255495\n",
      "            date_time   mock_date time_of_day part_of_day  time  bg_value id\n",
      "0 2021-12-07 01:37:00  2021-12-07    01:37:00  late night  0.33       120  a\n",
      "1 2021-12-07 01:42:00  2021-12-07    01:42:00  late night  0.42       127  a\n",
      "2 2021-12-07 01:47:00  2021-12-07    01:47:00  late night  0.50       135  a\n",
      "3 2021-12-07 01:52:00  2021-12-07    01:52:00  late night  0.58       142  a\n",
      "4 2021-12-07 01:57:00  2021-12-07    01:57:00  late night  0.67       140  a\n",
      "5 2021-12-07 02:02:00  2021-12-07    02:02:00  late night  0.75       145  a\n"
     ]
    },
    {
     "name": "stderr",
     "output_type": "stream",
     "text": [
      "100%|██████████| 1/1 [00:14<00:00, 14.12s/it]\n"
     ]
    },
    {
     "name": "stdout",
     "output_type": "stream",
     "text": [
      "bg_value__value_count__value_1_217\n",
      "bg_value__number_crossing_m__m_1_250\n",
      "label\n",
      "157.93776991982446\n",
      "            date_time   mock_date time_of_day part_of_day  time  bg_value id\n",
      "0 2021-12-07 01:42:00  2021-12-07    01:42:00  late night  0.42       127  a\n",
      "1 2021-12-07 01:47:00  2021-12-07    01:47:00  late night  0.50       135  a\n",
      "2 2021-12-07 01:52:00  2021-12-07    01:52:00  late night  0.58       142  a\n",
      "3 2021-12-07 01:57:00  2021-12-07    01:57:00  late night  0.67       140  a\n",
      "4 2021-12-07 02:02:00  2021-12-07    02:02:00  late night  0.75       145  a\n",
      "5 2021-12-07 02:07:00  2021-12-07    02:07:00  late night  0.83       148  a\n"
     ]
    },
    {
     "name": "stderr",
     "output_type": "stream",
     "text": [
      "100%|██████████| 1/1 [00:12<00:00, 12.16s/it]\n"
     ]
    },
    {
     "name": "stdout",
     "output_type": "stream",
     "text": [
      "bg_value__value_count__value_1_217\n",
      "bg_value__number_crossing_m__m_1_250\n",
      "label\n",
      "147.30249923222078\n",
      "            date_time   mock_date time_of_day part_of_day  time  bg_value id\n",
      "0 2021-12-07 01:47:00  2021-12-07    01:47:00  late night  0.50       135  a\n",
      "1 2021-12-07 01:52:00  2021-12-07    01:52:00  late night  0.58       142  a\n",
      "2 2021-12-07 01:57:00  2021-12-07    01:57:00  late night  0.67       140  a\n",
      "3 2021-12-07 02:02:00  2021-12-07    02:02:00  late night  0.75       145  a\n",
      "4 2021-12-07 02:07:00  2021-12-07    02:07:00  late night  0.83       148  a\n",
      "5 2021-12-07 02:12:00  2021-12-07    02:12:00  late night  0.92       151  a\n"
     ]
    },
    {
     "name": "stderr",
     "output_type": "stream",
     "text": [
      "100%|██████████| 1/1 [00:11<00:00, 11.81s/it]\n"
     ]
    },
    {
     "name": "stdout",
     "output_type": "stream",
     "text": [
      "bg_value__value_count__value_1_217\n",
      "bg_value__number_crossing_m__m_1_250\n",
      "label\n",
      "164.38411646343044\n",
      "            date_time   mock_date time_of_day part_of_day  time  bg_value id\n",
      "0 2021-12-07 01:52:00  2021-12-07    01:52:00  late night  0.58       142  a\n",
      "1 2021-12-07 01:57:00  2021-12-07    01:57:00  late night  0.67       140  a\n",
      "2 2021-12-07 02:02:00  2021-12-07    02:02:00  late night  0.75       145  a\n",
      "3 2021-12-07 02:07:00  2021-12-07    02:07:00  late night  0.83       148  a\n",
      "4 2021-12-07 02:12:00  2021-12-07    02:12:00  late night  0.92       151  a\n",
      "5 2021-12-07 02:17:00  2021-12-07    02:17:00  late night  1.00       150  a\n"
     ]
    },
    {
     "name": "stderr",
     "output_type": "stream",
     "text": [
      "100%|██████████| 1/1 [00:10<00:00, 10.78s/it]\n"
     ]
    },
    {
     "name": "stdout",
     "output_type": "stream",
     "text": [
      "bg_value__value_count__value_1_217\n",
      "bg_value__number_crossing_m__m_1_250\n",
      "label\n",
      "149.20220954482735\n",
      "            date_time   mock_date time_of_day part_of_day  time  bg_value id\n",
      "0 2021-12-07 01:57:00  2021-12-07    01:57:00  late night  0.67       140  a\n",
      "1 2021-12-07 02:02:00  2021-12-07    02:02:00  late night  0.75       145  a\n",
      "2 2021-12-07 02:07:00  2021-12-07    02:07:00  late night  0.83       148  a\n",
      "3 2021-12-07 02:12:00  2021-12-07    02:12:00  late night  0.92       151  a\n",
      "4 2021-12-07 02:17:00  2021-12-07    02:17:00  late night  1.00       150  a\n",
      "5 2021-12-07 02:22:00  2021-12-07    02:22:00  late night  1.08       124  a\n"
     ]
    },
    {
     "name": "stderr",
     "output_type": "stream",
     "text": [
      "100%|██████████| 1/1 [00:10<00:00, 10.29s/it]\n"
     ]
    },
    {
     "name": "stdout",
     "output_type": "stream",
     "text": [
      "bg_value__value_count__value_1_217\n",
      "bg_value__number_crossing_m__m_1_250\n",
      "label\n",
      "106.29905692776686\n",
      "            date_time   mock_date time_of_day part_of_day  time  bg_value id\n",
      "0 2021-12-07 02:02:00  2021-12-07    02:02:00  late night  0.75       145  a\n",
      "1 2021-12-07 02:07:00  2021-12-07    02:07:00  late night  0.83       148  a\n",
      "2 2021-12-07 02:12:00  2021-12-07    02:12:00  late night  0.92       151  a\n",
      "3 2021-12-07 02:17:00  2021-12-07    02:17:00  late night  1.00       150  a\n",
      "4 2021-12-07 02:22:00  2021-12-07    02:22:00  late night  1.08       124  a\n",
      "5 2021-12-07 02:27:00  2021-12-07    02:27:00  late night  1.17       130  a\n"
     ]
    },
    {
     "name": "stderr",
     "output_type": "stream",
     "text": [
      "100%|██████████| 1/1 [00:10<00:00, 10.40s/it]\n"
     ]
    },
    {
     "name": "stdout",
     "output_type": "stream",
     "text": [
      "bg_value__value_count__value_1_217\n",
      "bg_value__number_crossing_m__m_1_250\n",
      "label\n",
      "118.9727198535413\n",
      "            date_time   mock_date time_of_day part_of_day  time  bg_value id\n",
      "0 2021-12-07 02:07:00  2021-12-07    02:07:00  late night  0.83       148  a\n",
      "1 2021-12-07 02:12:00  2021-12-07    02:12:00  late night  0.92       151  a\n",
      "2 2021-12-07 02:17:00  2021-12-07    02:17:00  late night  1.00       150  a\n",
      "3 2021-12-07 02:22:00  2021-12-07    02:22:00  late night  1.08       124  a\n",
      "4 2021-12-07 02:27:00  2021-12-07    02:27:00  late night  1.17       130  a\n",
      "5 2021-12-07 02:32:00  2021-12-07    02:32:00  late night  1.25       127  a\n"
     ]
    },
    {
     "name": "stderr",
     "output_type": "stream",
     "text": [
      "100%|██████████| 1/1 [00:10<00:00, 10.75s/it]\n"
     ]
    },
    {
     "name": "stdout",
     "output_type": "stream",
     "text": [
      "bg_value__value_count__value_1_217\n",
      "bg_value__number_crossing_m__m_1_250\n",
      "label\n",
      "97.21683853830638\n",
      "            date_time   mock_date time_of_day part_of_day  time  bg_value id\n",
      "0 2021-12-07 02:12:00  2021-12-07    02:12:00  late night  0.92       151  a\n",
      "1 2021-12-07 02:17:00  2021-12-07    02:17:00  late night  1.00       150  a\n",
      "2 2021-12-07 02:22:00  2021-12-07    02:22:00  late night  1.08       124  a\n",
      "3 2021-12-07 02:27:00  2021-12-07    02:27:00  late night  1.17       130  a\n",
      "4 2021-12-07 02:32:00  2021-12-07    02:32:00  late night  1.25       127  a\n",
      "5 2021-12-07 02:37:00  2021-12-07    02:37:00  late night  1.33       121  a\n"
     ]
    },
    {
     "name": "stderr",
     "output_type": "stream",
     "text": [
      "100%|██████████| 1/1 [00:09<00:00,  9.98s/it]\n"
     ]
    },
    {
     "name": "stdout",
     "output_type": "stream",
     "text": [
      "bg_value__value_count__value_1_217\n",
      "bg_value__number_crossing_m__m_1_250\n",
      "label\n",
      "93.14428727679184\n",
      "            date_time   mock_date time_of_day part_of_day  time  bg_value id\n",
      "0 2021-12-07 02:17:00  2021-12-07    02:17:00  late night  1.00       150  a\n",
      "1 2021-12-07 02:22:00  2021-12-07    02:22:00  late night  1.08       124  a\n",
      "2 2021-12-07 02:27:00  2021-12-07    02:27:00  late night  1.17       130  a\n",
      "3 2021-12-07 02:32:00  2021-12-07    02:32:00  late night  1.25       127  a\n",
      "4 2021-12-07 02:37:00  2021-12-07    02:37:00  late night  1.33       121  a\n",
      "5 2021-12-07 02:42:00  2021-12-07    02:42:00  late night  1.42       115  a\n"
     ]
    },
    {
     "name": "stderr",
     "output_type": "stream",
     "text": [
      "100%|██████████| 1/1 [00:10<00:00, 10.10s/it]\n"
     ]
    },
    {
     "name": "stdout",
     "output_type": "stream",
     "text": [
      "bg_value__value_count__value_1_217\n",
      "bg_value__number_crossing_m__m_1_250\n",
      "label\n",
      "90.54716657998888\n",
      "            date_time   mock_date time_of_day part_of_day  time  bg_value id\n",
      "0 2021-12-07 02:22:00  2021-12-07    02:22:00  late night  1.08       124  a\n",
      "1 2021-12-07 02:27:00  2021-12-07    02:27:00  late night  1.17       130  a\n",
      "2 2021-12-07 02:32:00  2021-12-07    02:32:00  late night  1.25       127  a\n",
      "3 2021-12-07 02:37:00  2021-12-07    02:37:00  late night  1.33       121  a\n",
      "4 2021-12-07 02:42:00  2021-12-07    02:42:00  late night  1.42       115  a\n",
      "5 2021-12-07 02:47:00  2021-12-07    02:47:00  late night  1.50       111  a\n"
     ]
    },
    {
     "name": "stderr",
     "output_type": "stream",
     "text": [
      "100%|██████████| 1/1 [00:10<00:00, 10.28s/it]\n"
     ]
    },
    {
     "name": "stdout",
     "output_type": "stream",
     "text": [
      "bg_value__value_count__value_1_217\n",
      "bg_value__number_crossing_m__m_1_250\n",
      "label\n",
      "93.99877780946768\n",
      "            date_time   mock_date time_of_day part_of_day  time  bg_value id\n",
      "0 2021-12-07 02:27:00  2021-12-07    02:27:00  late night  1.17       130  a\n",
      "1 2021-12-07 02:32:00  2021-12-07    02:32:00  late night  1.25       127  a\n",
      "2 2021-12-07 02:37:00  2021-12-07    02:37:00  late night  1.33       121  a\n",
      "3 2021-12-07 02:42:00  2021-12-07    02:42:00  late night  1.42       115  a\n",
      "4 2021-12-07 02:47:00  2021-12-07    02:47:00  late night  1.50       111  a\n",
      "5 2021-12-07 02:52:00  2021-12-07    02:52:00  late night  1.58       109  a\n"
     ]
    },
    {
     "name": "stderr",
     "output_type": "stream",
     "text": [
      "100%|██████████| 1/1 [00:10<00:00, 10.27s/it]\n"
     ]
    },
    {
     "name": "stdout",
     "output_type": "stream",
     "text": [
      "bg_value__value_count__value_1_217\n",
      "bg_value__number_crossing_m__m_1_250\n",
      "label\n",
      "87.94435634273673\n",
      "            date_time   mock_date time_of_day part_of_day  time  bg_value id\n",
      "0 2021-12-07 02:32:00  2021-12-07    02:32:00  late night  1.25       127  a\n",
      "1 2021-12-07 02:37:00  2021-12-07    02:37:00  late night  1.33       121  a\n",
      "2 2021-12-07 02:42:00  2021-12-07    02:42:00  late night  1.42       115  a\n",
      "3 2021-12-07 02:47:00  2021-12-07    02:47:00  late night  1.50       111  a\n",
      "4 2021-12-07 02:52:00  2021-12-07    02:52:00  late night  1.58       109  a\n",
      "5 2021-12-07 02:57:00  2021-12-07    02:57:00  late night  1.67       103  a\n"
     ]
    },
    {
     "name": "stderr",
     "output_type": "stream",
     "text": [
      "100%|██████████| 1/1 [00:11<00:00, 11.22s/it]\n"
     ]
    },
    {
     "name": "stdout",
     "output_type": "stream",
     "text": [
      "bg_value__value_count__value_1_217\n",
      "bg_value__number_crossing_m__m_1_250\n",
      "label\n",
      "89.12811355956342\n",
      "            date_time   mock_date time_of_day part_of_day  time  bg_value id\n",
      "0 2021-12-07 02:37:00  2021-12-07    02:37:00  late night  1.33       121  a\n",
      "1 2021-12-07 02:42:00  2021-12-07    02:42:00  late night  1.42       115  a\n",
      "2 2021-12-07 02:47:00  2021-12-07    02:47:00  late night  1.50       111  a\n",
      "3 2021-12-07 02:52:00  2021-12-07    02:52:00  late night  1.58       109  a\n",
      "4 2021-12-07 02:57:00  2021-12-07    02:57:00  late night  1.67       103  a\n",
      "5 2021-12-07 03:02:00  2021-12-07    03:02:00  late night  1.75        89  a\n"
     ]
    },
    {
     "name": "stderr",
     "output_type": "stream",
     "text": [
      "100%|██████████| 1/1 [00:11<00:00, 11.85s/it]\n"
     ]
    },
    {
     "name": "stdout",
     "output_type": "stream",
     "text": [
      "bg_value__value_count__value_1_217\n",
      "bg_value__number_crossing_m__m_1_250\n",
      "label\n",
      "93.72403735043964\n",
      "            date_time   mock_date time_of_day part_of_day  time  bg_value id\n",
      "0 2021-12-07 02:42:00  2021-12-07    02:42:00  late night  1.42       115  a\n",
      "1 2021-12-07 02:47:00  2021-12-07    02:47:00  late night  1.50       111  a\n",
      "2 2021-12-07 02:52:00  2021-12-07    02:52:00  late night  1.58       109  a\n",
      "3 2021-12-07 02:57:00  2021-12-07    02:57:00  late night  1.67       103  a\n",
      "4 2021-12-07 03:02:00  2021-12-07    03:02:00  late night  1.75        89  a\n",
      "5 2021-12-07 03:07:00  2021-12-07    03:07:00  late night  1.83        76  a\n"
     ]
    },
    {
     "name": "stderr",
     "output_type": "stream",
     "text": [
      "100%|██████████| 1/1 [00:10<00:00, 10.53s/it]\n"
     ]
    },
    {
     "name": "stdout",
     "output_type": "stream",
     "text": [
      "bg_value__value_count__value_1_217\n",
      "bg_value__number_crossing_m__m_1_250\n",
      "label\n",
      "77.32013955536637\n",
      "            date_time   mock_date time_of_day part_of_day  time  bg_value id\n",
      "0 2021-12-07 02:47:00  2021-12-07    02:47:00  late night  1.50       111  a\n",
      "1 2021-12-07 02:52:00  2021-12-07    02:52:00  late night  1.58       109  a\n",
      "2 2021-12-07 02:57:00  2021-12-07    02:57:00  late night  1.67       103  a\n",
      "3 2021-12-07 03:02:00  2021-12-07    03:02:00  late night  1.75        89  a\n",
      "4 2021-12-07 03:07:00  2021-12-07    03:07:00  late night  1.83        76  a\n",
      "5 2021-12-07 03:12:00  2021-12-07    03:12:00  late night  1.92        68  a\n"
     ]
    },
    {
     "name": "stderr",
     "output_type": "stream",
     "text": [
      "100%|██████████| 1/1 [00:11<00:00, 11.38s/it]\n"
     ]
    },
    {
     "name": "stdout",
     "output_type": "stream",
     "text": [
      "bg_value__value_count__value_1_217\n",
      "bg_value__number_crossing_m__m_1_250\n",
      "label\n",
      "74.95078008782338\n",
      "            date_time   mock_date time_of_day part_of_day  time  bg_value id\n",
      "0 2021-12-07 02:52:00  2021-12-07    02:52:00  late night  1.58       109  a\n",
      "1 2021-12-07 02:57:00  2021-12-07    02:57:00  late night  1.67       103  a\n",
      "2 2021-12-07 03:02:00  2021-12-07    03:02:00  late night  1.75        89  a\n",
      "3 2021-12-07 03:07:00  2021-12-07    03:07:00  late night  1.83        76  a\n",
      "4 2021-12-07 03:12:00  2021-12-07    03:12:00  late night  1.92        68  a\n",
      "5 2021-12-07 03:17:00  2021-12-07    03:17:00  late night  2.00        64  a\n"
     ]
    },
    {
     "name": "stderr",
     "output_type": "stream",
     "text": [
      "100%|██████████| 1/1 [00:10<00:00, 10.35s/it]\n"
     ]
    },
    {
     "name": "stdout",
     "output_type": "stream",
     "text": [
      "bg_value__value_count__value_1_217\n",
      "bg_value__number_crossing_m__m_1_250\n",
      "label\n",
      "69.78463715185713\n",
      "            date_time   mock_date time_of_day part_of_day  time  bg_value id\n",
      "0 2021-12-07 02:57:00  2021-12-07    02:57:00  late night  1.67       103  a\n",
      "1 2021-12-07 03:02:00  2021-12-07    03:02:00  late night  1.75        89  a\n",
      "2 2021-12-07 03:07:00  2021-12-07    03:07:00  late night  1.83        76  a\n",
      "3 2021-12-07 03:12:00  2021-12-07    03:12:00  late night  1.92        68  a\n",
      "4 2021-12-07 03:17:00  2021-12-07    03:17:00  late night  2.00        64  a\n",
      "5 2021-12-07 03:22:00  2021-12-07    03:22:00  late night  2.08        64  a\n"
     ]
    },
    {
     "name": "stderr",
     "output_type": "stream",
     "text": [
      "100%|██████████| 1/1 [00:11<00:00, 11.10s/it]\n"
     ]
    },
    {
     "name": "stdout",
     "output_type": "stream",
     "text": [
      "bg_value__value_count__value_1_217\n",
      "bg_value__number_crossing_m__m_1_250\n",
      "label\n",
      "96.00940472268591\n",
      "            date_time   mock_date time_of_day part_of_day  time  bg_value id\n",
      "0 2021-12-07 03:02:00  2021-12-07    03:02:00  late night  1.75        89  a\n",
      "1 2021-12-07 03:07:00  2021-12-07    03:07:00  late night  1.83        76  a\n",
      "2 2021-12-07 03:12:00  2021-12-07    03:12:00  late night  1.92        68  a\n",
      "3 2021-12-07 03:17:00  2021-12-07    03:17:00  late night  2.00        64  a\n",
      "4 2021-12-07 03:22:00  2021-12-07    03:22:00  late night  2.08        64  a\n",
      "5 2021-12-07 03:27:00  2021-12-07    03:27:00  late night  2.17        66  a\n"
     ]
    },
    {
     "name": "stderr",
     "output_type": "stream",
     "text": [
      "100%|██████████| 1/1 [00:11<00:00, 11.44s/it]\n"
     ]
    },
    {
     "name": "stdout",
     "output_type": "stream",
     "text": [
      "bg_value__value_count__value_1_217\n",
      "bg_value__number_crossing_m__m_1_250\n",
      "label\n",
      "77.64495830925961\n",
      "            date_time   mock_date time_of_day part_of_day  time  bg_value id\n",
      "0 2021-12-07 03:07:00  2021-12-07    03:07:00  late night  1.83        76  a\n",
      "1 2021-12-07 03:12:00  2021-12-07    03:12:00  late night  1.92        68  a\n",
      "2 2021-12-07 03:17:00  2021-12-07    03:17:00  late night  2.00        64  a\n",
      "3 2021-12-07 03:22:00  2021-12-07    03:22:00  late night  2.08        64  a\n",
      "4 2021-12-07 03:27:00  2021-12-07    03:27:00  late night  2.17        66  a\n",
      "5 2021-12-07 03:32:00  2021-12-07    03:32:00  late night  2.25        68  a\n"
     ]
    },
    {
     "name": "stderr",
     "output_type": "stream",
     "text": [
      "100%|██████████| 1/1 [00:11<00:00, 11.62s/it]\n"
     ]
    },
    {
     "name": "stdout",
     "output_type": "stream",
     "text": [
      "bg_value__value_count__value_1_217\n",
      "bg_value__number_crossing_m__m_1_250\n",
      "label\n",
      "83.7500164844256\n",
      "            date_time   mock_date time_of_day part_of_day  time  bg_value id\n",
      "0 2021-12-07 03:12:00  2021-12-07    03:12:00  late night  1.92        68  a\n",
      "1 2021-12-07 03:17:00  2021-12-07    03:17:00  late night  2.00        64  a\n",
      "2 2021-12-07 03:22:00  2021-12-07    03:22:00  late night  2.08        64  a\n",
      "3 2021-12-07 03:27:00  2021-12-07    03:27:00  late night  2.17        66  a\n",
      "4 2021-12-07 03:32:00  2021-12-07    03:32:00  late night  2.25        68  a\n",
      "5 2021-12-07 03:37:00  2021-12-07    03:37:00  late night  2.33        68  a\n"
     ]
    },
    {
     "name": "stderr",
     "output_type": "stream",
     "text": [
      "100%|██████████| 1/1 [00:10<00:00, 10.54s/it]\n"
     ]
    },
    {
     "name": "stdout",
     "output_type": "stream",
     "text": [
      "bg_value__value_count__value_1_217\n",
      "bg_value__number_crossing_m__m_1_250\n",
      "label\n",
      "86.22031720617912\n",
      "            date_time   mock_date time_of_day part_of_day  time  bg_value id\n",
      "0 2021-12-07 03:17:00  2021-12-07    03:17:00  late night  2.00        64  a\n",
      "1 2021-12-07 03:22:00  2021-12-07    03:22:00  late night  2.08        64  a\n",
      "2 2021-12-07 03:27:00  2021-12-07    03:27:00  late night  2.17        66  a\n",
      "3 2021-12-07 03:32:00  2021-12-07    03:32:00  late night  2.25        68  a\n",
      "4 2021-12-07 03:37:00  2021-12-07    03:37:00  late night  2.33        68  a\n",
      "5 2021-12-07 03:42:00  2021-12-07    03:42:00  late night  2.42        66  a\n"
     ]
    },
    {
     "name": "stderr",
     "output_type": "stream",
     "text": [
      "100%|██████████| 1/1 [00:10<00:00, 10.64s/it]\n"
     ]
    },
    {
     "name": "stdout",
     "output_type": "stream",
     "text": [
      "bg_value__value_count__value_1_217\n",
      "bg_value__number_crossing_m__m_1_250\n",
      "label\n",
      "71.73833128705874\n",
      "            date_time   mock_date time_of_day part_of_day  time  bg_value id\n",
      "0 2021-12-07 03:22:00  2021-12-07    03:22:00  late night  2.08        64  a\n",
      "1 2021-12-07 03:27:00  2021-12-07    03:27:00  late night  2.17        66  a\n",
      "2 2021-12-07 03:32:00  2021-12-07    03:32:00  late night  2.25        68  a\n",
      "3 2021-12-07 03:37:00  2021-12-07    03:37:00  late night  2.33        68  a\n",
      "4 2021-12-07 03:42:00  2021-12-07    03:42:00  late night  2.42        66  a\n",
      "5 2021-12-07 03:47:00  2021-12-07    03:47:00  late night  2.50        66  a\n"
     ]
    },
    {
     "name": "stderr",
     "output_type": "stream",
     "text": [
      "100%|██████████| 1/1 [00:10<00:00, 10.44s/it]\n"
     ]
    },
    {
     "name": "stdout",
     "output_type": "stream",
     "text": [
      "bg_value__value_count__value_1_217\n",
      "bg_value__number_crossing_m__m_1_250\n",
      "label\n",
      "83.00028418779172\n",
      "            date_time   mock_date time_of_day part_of_day  time  bg_value id\n",
      "0 2021-12-07 03:27:00  2021-12-07    03:27:00  late night  2.17        66  a\n",
      "1 2021-12-07 03:32:00  2021-12-07    03:32:00  late night  2.25        68  a\n",
      "2 2021-12-07 03:37:00  2021-12-07    03:37:00  late night  2.33        68  a\n",
      "3 2021-12-07 03:42:00  2021-12-07    03:42:00  late night  2.42        66  a\n",
      "4 2021-12-07 03:47:00  2021-12-07    03:47:00  late night  2.50        66  a\n",
      "5 2021-12-07 03:52:00  2021-12-07    03:52:00  late night  2.58        63  a\n"
     ]
    },
    {
     "name": "stderr",
     "output_type": "stream",
     "text": [
      "100%|██████████| 1/1 [00:10<00:00, 10.62s/it]\n"
     ]
    },
    {
     "name": "stdout",
     "output_type": "stream",
     "text": [
      "bg_value__value_count__value_1_217\n",
      "bg_value__number_crossing_m__m_1_250\n",
      "label\n",
      "73.82186397430833\n",
      "            date_time   mock_date time_of_day part_of_day  time  bg_value id\n",
      "0 2021-12-07 03:32:00  2021-12-07    03:32:00  late night  2.25        68  a\n",
      "1 2021-12-07 03:37:00  2021-12-07    03:37:00  late night  2.33        68  a\n",
      "2 2021-12-07 03:42:00  2021-12-07    03:42:00  late night  2.42        66  a\n",
      "3 2021-12-07 03:47:00  2021-12-07    03:47:00  late night  2.50        66  a\n",
      "4 2021-12-07 03:52:00  2021-12-07    03:52:00  late night  2.58        63  a\n",
      "5 2021-12-07 03:57:00  2021-12-07    03:57:00  late night  2.67        65  a\n"
     ]
    },
    {
     "name": "stderr",
     "output_type": "stream",
     "text": [
      "100%|██████████| 1/1 [00:11<00:00, 11.86s/it]\n"
     ]
    },
    {
     "name": "stdout",
     "output_type": "stream",
     "text": [
      "bg_value__value_count__value_1_217\n",
      "bg_value__number_crossing_m__m_1_250\n",
      "label\n",
      "78.14480464431416\n",
      "            date_time   mock_date time_of_day part_of_day  time  bg_value id\n",
      "0 2021-12-07 03:37:00  2021-12-07    03:37:00  late night  2.33        68  a\n",
      "1 2021-12-07 03:42:00  2021-12-07    03:42:00  late night  2.42        66  a\n",
      "2 2021-12-07 03:47:00  2021-12-07    03:47:00  late night  2.50        66  a\n",
      "3 2021-12-07 03:52:00  2021-12-07    03:52:00  late night  2.58        63  a\n",
      "4 2021-12-07 03:57:00  2021-12-07    03:57:00  late night  2.67        65  a\n",
      "5 2021-12-07 04:02:00  2021-12-07    04:02:00  late night  2.75        69  a\n"
     ]
    },
    {
     "name": "stderr",
     "output_type": "stream",
     "text": [
      "100%|██████████| 1/1 [00:10<00:00, 10.56s/it]\n"
     ]
    },
    {
     "name": "stdout",
     "output_type": "stream",
     "text": [
      "bg_value__value_count__value_1_217\n",
      "bg_value__number_crossing_m__m_1_250\n",
      "label\n",
      "96.6579086996572\n",
      "            date_time   mock_date time_of_day part_of_day  time  bg_value id\n",
      "0 2021-12-07 03:42:00  2021-12-07    03:42:00  late night  2.42        66  a\n",
      "1 2021-12-07 03:47:00  2021-12-07    03:47:00  late night  2.50        66  a\n",
      "2 2021-12-07 03:52:00  2021-12-07    03:52:00  late night  2.58        63  a\n",
      "3 2021-12-07 03:57:00  2021-12-07    03:57:00  late night  2.67        65  a\n",
      "4 2021-12-07 04:02:00  2021-12-07    04:02:00  late night  2.75        69  a\n",
      "5 2021-12-07 04:07:00  2021-12-07    04:07:00  late night  2.83        71  a\n"
     ]
    },
    {
     "name": "stderr",
     "output_type": "stream",
     "text": [
      "100%|██████████| 1/1 [00:10<00:00, 10.84s/it]\n"
     ]
    },
    {
     "name": "stdout",
     "output_type": "stream",
     "text": [
      "bg_value__value_count__value_1_217\n",
      "bg_value__number_crossing_m__m_1_250\n",
      "label\n",
      "85.46289338133592\n",
      "            date_time   mock_date time_of_day part_of_day  time  bg_value id\n",
      "0 2021-12-07 03:47:00  2021-12-07    03:47:00  late night  2.50        66  a\n",
      "1 2021-12-07 03:52:00  2021-12-07    03:52:00  late night  2.58        63  a\n",
      "2 2021-12-07 03:57:00  2021-12-07    03:57:00  late night  2.67        65  a\n",
      "3 2021-12-07 04:02:00  2021-12-07    04:02:00  late night  2.75        69  a\n",
      "4 2021-12-07 04:07:00  2021-12-07    04:07:00  late night  2.83        71  a\n",
      "5 2021-12-07 04:12:00  2021-12-07    04:12:00  late night  2.92        69  a\n"
     ]
    },
    {
     "name": "stderr",
     "output_type": "stream",
     "text": [
      "100%|██████████| 1/1 [00:10<00:00, 10.67s/it]\n"
     ]
    },
    {
     "name": "stdout",
     "output_type": "stream",
     "text": [
      "bg_value__value_count__value_1_217\n",
      "bg_value__number_crossing_m__m_1_250\n",
      "label\n",
      "84.77868344110212\n",
      "            date_time   mock_date time_of_day part_of_day  time  bg_value id\n",
      "0 2021-12-07 03:52:00  2021-12-07    03:52:00  late night  2.58        63  a\n",
      "1 2021-12-07 03:57:00  2021-12-07    03:57:00  late night  2.67        65  a\n",
      "2 2021-12-07 04:02:00  2021-12-07    04:02:00  late night  2.75        69  a\n",
      "3 2021-12-07 04:07:00  2021-12-07    04:07:00  late night  2.83        71  a\n",
      "4 2021-12-07 04:12:00  2021-12-07    04:12:00  late night  2.92        69  a\n",
      "5 2021-12-07 04:17:00  2021-12-07    04:17:00  late night  3.00        66  a\n"
     ]
    },
    {
     "name": "stderr",
     "output_type": "stream",
     "text": [
      "100%|██████████| 1/1 [00:10<00:00, 10.32s/it]\n"
     ]
    },
    {
     "name": "stdout",
     "output_type": "stream",
     "text": [
      "bg_value__value_count__value_1_217\n",
      "bg_value__number_crossing_m__m_1_250\n",
      "label\n",
      "71.0845371844097\n",
      "            date_time   mock_date time_of_day part_of_day  time  bg_value id\n",
      "0 2021-12-07 03:57:00  2021-12-07    03:57:00  late night  2.67        65  a\n",
      "1 2021-12-07 04:02:00  2021-12-07    04:02:00  late night  2.75        69  a\n",
      "2 2021-12-07 04:07:00  2021-12-07    04:07:00  late night  2.83        71  a\n",
      "3 2021-12-07 04:12:00  2021-12-07    04:12:00  late night  2.92        69  a\n",
      "4 2021-12-07 04:17:00  2021-12-07    04:17:00  late night  3.00        66  a\n",
      "5 2021-12-07 04:22:00  2021-12-07    04:22:00  late night  3.08        65  a\n"
     ]
    },
    {
     "name": "stderr",
     "output_type": "stream",
     "text": [
      "100%|██████████| 1/1 [00:10<00:00, 10.49s/it]\n"
     ]
    },
    {
     "name": "stdout",
     "output_type": "stream",
     "text": [
      "bg_value__value_count__value_1_217\n",
      "bg_value__number_crossing_m__m_1_250\n",
      "label\n",
      "75.58648643425653\n",
      "            date_time   mock_date time_of_day part_of_day  time  bg_value id\n",
      "0 2021-12-07 04:02:00  2021-12-07    04:02:00  late night  2.75        69  a\n",
      "1 2021-12-07 04:07:00  2021-12-07    04:07:00  late night  2.83        71  a\n",
      "2 2021-12-07 04:12:00  2021-12-07    04:12:00  late night  2.92        69  a\n",
      "3 2021-12-07 04:17:00  2021-12-07    04:17:00  late night  3.00        66  a\n",
      "4 2021-12-07 04:22:00  2021-12-07    04:22:00  late night  3.08        65  a\n",
      "5 2021-12-07 04:27:00  2021-12-07    04:27:00  late night  3.17        64  a\n"
     ]
    },
    {
     "name": "stderr",
     "output_type": "stream",
     "text": [
      "100%|██████████| 1/1 [00:10<00:00, 10.82s/it]\n"
     ]
    },
    {
     "name": "stdout",
     "output_type": "stream",
     "text": [
      "bg_value__value_count__value_1_217\n",
      "bg_value__number_crossing_m__m_1_250\n",
      "label\n",
      "80.69254869947139\n",
      "            date_time   mock_date time_of_day part_of_day  time  bg_value id\n",
      "0 2021-12-07 04:07:00  2021-12-07    04:07:00  late night  2.83        71  a\n",
      "1 2021-12-07 04:12:00  2021-12-07    04:12:00  late night  2.92        69  a\n",
      "2 2021-12-07 04:17:00  2021-12-07    04:17:00  late night  3.00        66  a\n",
      "3 2021-12-07 04:22:00  2021-12-07    04:22:00  late night  3.08        65  a\n",
      "4 2021-12-07 04:27:00  2021-12-07    04:27:00  late night  3.17        64  a\n",
      "5 2021-12-07 04:32:00  2021-12-07    04:32:00  late night  3.25        63  a\n"
     ]
    },
    {
     "name": "stderr",
     "output_type": "stream",
     "text": [
      "100%|██████████| 1/1 [00:11<00:00, 11.35s/it]\n"
     ]
    },
    {
     "name": "stdout",
     "output_type": "stream",
     "text": [
      "bg_value__value_count__value_1_217\n",
      "bg_value__number_crossing_m__m_1_250\n",
      "label\n",
      "72.05249997445877\n",
      "            date_time   mock_date time_of_day part_of_day  time  bg_value id\n",
      "0 2021-12-07 04:12:00  2021-12-07    04:12:00  late night  2.92        69  a\n",
      "1 2021-12-07 04:17:00  2021-12-07    04:17:00  late night  3.00        66  a\n",
      "2 2021-12-07 04:22:00  2021-12-07    04:22:00  late night  3.08        65  a\n",
      "3 2021-12-07 04:27:00  2021-12-07    04:27:00  late night  3.17        64  a\n",
      "4 2021-12-07 04:32:00  2021-12-07    04:32:00  late night  3.25        63  a\n",
      "5 2021-12-07 04:37:00  2021-12-07    04:37:00  late night  3.33        62  a\n"
     ]
    },
    {
     "name": "stderr",
     "output_type": "stream",
     "text": [
      "100%|██████████| 1/1 [00:10<00:00, 10.51s/it]\n"
     ]
    },
    {
     "name": "stdout",
     "output_type": "stream",
     "text": [
      "bg_value__value_count__value_1_217\n",
      "bg_value__number_crossing_m__m_1_250\n",
      "label\n",
      "70.07889961184331\n",
      "            date_time   mock_date time_of_day part_of_day  time  bg_value id\n",
      "0 2021-12-07 04:17:00  2021-12-07    04:17:00  late night  3.00        66  a\n",
      "1 2021-12-07 04:22:00  2021-12-07    04:22:00  late night  3.08        65  a\n",
      "2 2021-12-07 04:27:00  2021-12-07    04:27:00  late night  3.17        64  a\n",
      "3 2021-12-07 04:32:00  2021-12-07    04:32:00  late night  3.25        63  a\n",
      "4 2021-12-07 04:37:00  2021-12-07    04:37:00  late night  3.33        62  a\n",
      "5 2021-12-07 04:42:00  2021-12-07    04:42:00  late night  3.42        62  a\n"
     ]
    },
    {
     "name": "stderr",
     "output_type": "stream",
     "text": [
      "100%|██████████| 1/1 [00:10<00:00, 10.90s/it]\n"
     ]
    },
    {
     "name": "stdout",
     "output_type": "stream",
     "text": [
      "bg_value__value_count__value_1_217\n",
      "bg_value__number_crossing_m__m_1_250\n",
      "label\n",
      "69.42034965302133\n",
      "            date_time   mock_date time_of_day part_of_day  time  bg_value id\n",
      "0 2021-12-07 04:22:00  2021-12-07    04:22:00  late night  3.08        65  a\n",
      "1 2021-12-07 04:27:00  2021-12-07    04:27:00  late night  3.17        64  a\n",
      "2 2021-12-07 04:32:00  2021-12-07    04:32:00  late night  3.25        63  a\n",
      "3 2021-12-07 04:37:00  2021-12-07    04:37:00  late night  3.33        62  a\n",
      "4 2021-12-07 04:42:00  2021-12-07    04:42:00  late night  3.42        62  a\n",
      "5 2021-12-07 04:47:00  2021-12-07    04:47:00  late night  3.50        60  a\n"
     ]
    },
    {
     "name": "stderr",
     "output_type": "stream",
     "text": [
      "100%|██████████| 1/1 [00:10<00:00, 10.77s/it]\n"
     ]
    },
    {
     "name": "stdout",
     "output_type": "stream",
     "text": [
      "bg_value__value_count__value_1_217\n",
      "bg_value__number_crossing_m__m_1_250\n",
      "label\n",
      "69.3582984147327\n",
      "            date_time   mock_date time_of_day part_of_day  time  bg_value id\n",
      "0 2021-12-07 04:27:00  2021-12-07    04:27:00  late night  3.17        64  a\n",
      "1 2021-12-07 04:32:00  2021-12-07    04:32:00  late night  3.25        63  a\n",
      "2 2021-12-07 04:37:00  2021-12-07    04:37:00  late night  3.33        62  a\n",
      "3 2021-12-07 04:42:00  2021-12-07    04:42:00  late night  3.42        62  a\n",
      "4 2021-12-07 04:47:00  2021-12-07    04:47:00  late night  3.50        60  a\n",
      "5 2021-12-07 04:52:00  2021-12-07    04:52:00  late night  3.58        59  a\n"
     ]
    },
    {
     "name": "stderr",
     "output_type": "stream",
     "text": [
      "100%|██████████| 1/1 [00:12<00:00, 12.34s/it]\n"
     ]
    },
    {
     "name": "stdout",
     "output_type": "stream",
     "text": [
      "bg_value__value_count__value_1_217\n",
      "bg_value__number_crossing_m__m_1_250\n",
      "label\n",
      "72.79320643565079\n",
      "            date_time   mock_date time_of_day part_of_day  time  bg_value id\n",
      "0 2021-12-07 04:32:00  2021-12-07    04:32:00  late night  3.25        63  a\n",
      "1 2021-12-07 04:37:00  2021-12-07    04:37:00  late night  3.33        62  a\n",
      "2 2021-12-07 04:42:00  2021-12-07    04:42:00  late night  3.42        62  a\n",
      "3 2021-12-07 04:47:00  2021-12-07    04:47:00  late night  3.50        60  a\n",
      "4 2021-12-07 04:52:00  2021-12-07    04:52:00  late night  3.58        59  a\n",
      "5 2021-12-07 04:57:00  2021-12-07    04:57:00  late night  3.67        59  a\n"
     ]
    },
    {
     "name": "stderr",
     "output_type": "stream",
     "text": [
      "100%|██████████| 1/1 [00:11<00:00, 11.47s/it]\n"
     ]
    },
    {
     "name": "stdout",
     "output_type": "stream",
     "text": [
      "bg_value__value_count__value_1_217\n",
      "bg_value__number_crossing_m__m_1_250\n",
      "label\n",
      "89.89151801379857\n",
      "            date_time   mock_date time_of_day part_of_day  time  bg_value id\n",
      "0 2021-12-07 04:37:00  2021-12-07    04:37:00  late night  3.33        62  a\n",
      "1 2021-12-07 04:42:00  2021-12-07    04:42:00  late night  3.42        62  a\n",
      "2 2021-12-07 04:47:00  2021-12-07    04:47:00  late night  3.50        60  a\n",
      "3 2021-12-07 04:52:00  2021-12-07    04:52:00  late night  3.58        59  a\n",
      "4 2021-12-07 04:57:00  2021-12-07    04:57:00  late night  3.67        59  a\n",
      "5 2021-12-07 05:02:00  2021-12-07    05:02:00  late night  3.75        59  a\n"
     ]
    },
    {
     "name": "stderr",
     "output_type": "stream",
     "text": [
      "100%|██████████| 1/1 [00:11<00:00, 11.55s/it]\n"
     ]
    },
    {
     "name": "stdout",
     "output_type": "stream",
     "text": [
      "bg_value__value_count__value_1_217\n",
      "bg_value__number_crossing_m__m_1_250\n",
      "label\n",
      "85.15205821025405\n",
      "            date_time   mock_date time_of_day part_of_day  time  bg_value id\n",
      "0 2021-12-07 04:42:00  2021-12-07    04:42:00  late night  3.42        62  a\n",
      "1 2021-12-07 04:47:00  2021-12-07    04:47:00  late night  3.50        60  a\n",
      "2 2021-12-07 04:52:00  2021-12-07    04:52:00  late night  3.58        59  a\n",
      "3 2021-12-07 04:57:00  2021-12-07    04:57:00  late night  3.67        59  a\n",
      "4 2021-12-07 05:02:00  2021-12-07    05:02:00  late night  3.75        59  a\n",
      "5 2021-12-07 05:07:00  2021-12-07    05:07:00  late night  3.83        67  a\n"
     ]
    },
    {
     "name": "stderr",
     "output_type": "stream",
     "text": [
      "100%|██████████| 1/1 [00:11<00:00, 11.97s/it]\n"
     ]
    },
    {
     "name": "stdout",
     "output_type": "stream",
     "text": [
      "bg_value__value_count__value_1_217\n",
      "bg_value__number_crossing_m__m_1_250\n",
      "label\n",
      "105.40225704638316\n",
      "            date_time   mock_date time_of_day part_of_day  time  bg_value id\n",
      "0 2021-12-07 04:47:00  2021-12-07    04:47:00  late night  3.50        60  a\n",
      "1 2021-12-07 04:52:00  2021-12-07    04:52:00  late night  3.58        59  a\n",
      "2 2021-12-07 04:57:00  2021-12-07    04:57:00  late night  3.67        59  a\n",
      "3 2021-12-07 05:02:00  2021-12-07    05:02:00  late night  3.75        59  a\n",
      "4 2021-12-07 05:07:00  2021-12-07    05:07:00  late night  3.83        67  a\n",
      "5 2021-12-07 05:12:00  2021-12-07    05:12:00  late night  3.92        83  a\n"
     ]
    },
    {
     "name": "stderr",
     "output_type": "stream",
     "text": [
      "100%|██████████| 1/1 [00:10<00:00, 10.41s/it]\n"
     ]
    },
    {
     "name": "stdout",
     "output_type": "stream",
     "text": [
      "bg_value__value_count__value_1_217\n",
      "bg_value__number_crossing_m__m_1_250\n",
      "label\n",
      "131.50412577400175\n",
      "            date_time   mock_date time_of_day part_of_day  time  bg_value id\n",
      "0 2021-12-07 04:52:00  2021-12-07    04:52:00  late night  3.58        59  a\n",
      "1 2021-12-07 04:57:00  2021-12-07    04:57:00  late night  3.67        59  a\n",
      "2 2021-12-07 05:02:00  2021-12-07    05:02:00  late night  3.75        59  a\n",
      "3 2021-12-07 05:07:00  2021-12-07    05:07:00  late night  3.83        67  a\n",
      "4 2021-12-07 05:12:00  2021-12-07    05:12:00  late night  3.92        83  a\n",
      "5 2021-12-07 05:17:00  2021-12-07    05:17:00  late night  4.00        98  a\n"
     ]
    },
    {
     "name": "stderr",
     "output_type": "stream",
     "text": [
      "100%|██████████| 1/1 [00:11<00:00, 11.62s/it]\n"
     ]
    },
    {
     "name": "stdout",
     "output_type": "stream",
     "text": [
      "bg_value__value_count__value_1_217\n",
      "bg_value__number_crossing_m__m_1_250\n",
      "label\n",
      "134.81153816141008\n",
      "            date_time   mock_date time_of_day part_of_day  time  bg_value id\n",
      "0 2021-12-07 04:57:00  2021-12-07    04:57:00  late night  3.67        59  a\n",
      "1 2021-12-07 05:02:00  2021-12-07    05:02:00  late night  3.75        59  a\n",
      "2 2021-12-07 05:07:00  2021-12-07    05:07:00  late night  3.83        67  a\n",
      "3 2021-12-07 05:12:00  2021-12-07    05:12:00  late night  3.92        83  a\n",
      "4 2021-12-07 05:17:00  2021-12-07    05:17:00  late night  4.00        98  a\n",
      "5 2021-12-07 05:22:00  2021-12-07    05:22:00  late night  4.08       110  a\n"
     ]
    },
    {
     "name": "stderr",
     "output_type": "stream",
     "text": [
      "100%|██████████| 1/1 [00:11<00:00, 12.00s/it]\n"
     ]
    },
    {
     "name": "stdout",
     "output_type": "stream",
     "text": [
      "bg_value__value_count__value_1_217\n",
      "bg_value__number_crossing_m__m_1_250\n",
      "label\n",
      "146.13299985643278\n",
      "            date_time   mock_date time_of_day part_of_day  time  bg_value id\n",
      "0 2021-12-07 05:02:00  2021-12-07    05:02:00  late night  3.75        59  a\n",
      "1 2021-12-07 05:07:00  2021-12-07    05:07:00  late night  3.83        67  a\n",
      "2 2021-12-07 05:12:00  2021-12-07    05:12:00  late night  3.92        83  a\n",
      "3 2021-12-07 05:17:00  2021-12-07    05:17:00  late night  4.00        98  a\n",
      "4 2021-12-07 05:22:00  2021-12-07    05:22:00  late night  4.08       110  a\n",
      "5 2021-12-07 05:27:00  2021-12-07    05:27:00  late night  4.17       154  a\n"
     ]
    },
    {
     "name": "stderr",
     "output_type": "stream",
     "text": [
      "100%|██████████| 1/1 [00:11<00:00, 11.99s/it]\n"
     ]
    },
    {
     "name": "stdout",
     "output_type": "stream",
     "text": [
      "bg_value__value_count__value_1_217\n",
      "bg_value__number_crossing_m__m_1_250\n",
      "label\n",
      "170.66091116618594\n",
      "            date_time   mock_date time_of_day part_of_day  time  bg_value id\n",
      "0 2021-12-07 05:07:00  2021-12-07    05:07:00  late night  3.83        67  a\n",
      "1 2021-12-07 05:12:00  2021-12-07    05:12:00  late night  3.92        83  a\n",
      "2 2021-12-07 05:17:00  2021-12-07    05:17:00  late night  4.00        98  a\n",
      "3 2021-12-07 05:22:00  2021-12-07    05:22:00  late night  4.08       110  a\n",
      "4 2021-12-07 05:27:00  2021-12-07    05:27:00  late night  4.17       154  a\n",
      "5 2021-12-07 05:32:00  2021-12-07    05:32:00  late night  4.25       130  a\n"
     ]
    },
    {
     "name": "stderr",
     "output_type": "stream",
     "text": [
      "100%|██████████| 1/1 [00:11<00:00, 11.36s/it]\n"
     ]
    },
    {
     "name": "stdout",
     "output_type": "stream",
     "text": [
      "bg_value__value_count__value_1_217\n",
      "bg_value__number_crossing_m__m_1_250\n",
      "label\n",
      "113.93644835924201\n",
      "            date_time   mock_date time_of_day part_of_day  time  bg_value id\n",
      "0 2021-12-07 05:12:00  2021-12-07    05:12:00  late night  3.92        83  a\n",
      "1 2021-12-07 05:17:00  2021-12-07    05:17:00  late night  4.00        98  a\n",
      "2 2021-12-07 05:22:00  2021-12-07    05:22:00  late night  4.08       110  a\n",
      "3 2021-12-07 05:27:00  2021-12-07    05:27:00  late night  4.17       154  a\n",
      "4 2021-12-07 05:32:00  2021-12-07    05:32:00  late night  4.25       130  a\n",
      "5 2021-12-07 05:37:00  2021-12-07    05:37:00  late night  4.33       121  a\n"
     ]
    },
    {
     "name": "stderr",
     "output_type": "stream",
     "text": [
      "100%|██████████| 1/1 [00:10<00:00, 10.34s/it]\n"
     ]
    },
    {
     "name": "stdout",
     "output_type": "stream",
     "text": [
      "bg_value__value_count__value_1_217\n",
      "bg_value__number_crossing_m__m_1_250\n",
      "label\n",
      "118.7802258201477\n",
      "            date_time   mock_date time_of_day part_of_day  time  bg_value id\n",
      "0 2021-12-07 05:17:00  2021-12-07    05:17:00  late night  4.00        98  a\n",
      "1 2021-12-07 05:22:00  2021-12-07    05:22:00  late night  4.08       110  a\n",
      "2 2021-12-07 05:27:00  2021-12-07    05:27:00  late night  4.17       154  a\n",
      "3 2021-12-07 05:32:00  2021-12-07    05:32:00  late night  4.25       130  a\n",
      "4 2021-12-07 05:37:00  2021-12-07    05:37:00  late night  4.33       121  a\n",
      "5 2021-12-07 05:42:00  2021-12-07    05:42:00  late night  4.42       110  a\n"
     ]
    },
    {
     "name": "stderr",
     "output_type": "stream",
     "text": [
      "100%|██████████| 1/1 [00:10<00:00, 10.79s/it]\n"
     ]
    },
    {
     "name": "stdout",
     "output_type": "stream",
     "text": [
      "bg_value__value_count__value_1_217\n",
      "bg_value__number_crossing_m__m_1_250\n",
      "label\n",
      "149.0613678664389\n",
      "            date_time   mock_date time_of_day part_of_day  time  bg_value id\n",
      "0 2021-12-07 05:22:00  2021-12-07    05:22:00  late night  4.08       110  a\n",
      "1 2021-12-07 05:27:00  2021-12-07    05:27:00  late night  4.17       154  a\n",
      "2 2021-12-07 05:32:00  2021-12-07    05:32:00  late night  4.25       130  a\n",
      "3 2021-12-07 05:37:00  2021-12-07    05:37:00  late night  4.33       121  a\n",
      "4 2021-12-07 05:42:00  2021-12-07    05:42:00  late night  4.42       110  a\n",
      "5 2021-12-07 05:47:00  2021-12-07    05:47:00  late night  4.50       106  a\n"
     ]
    },
    {
     "name": "stderr",
     "output_type": "stream",
     "text": [
      "100%|██████████| 1/1 [00:11<00:00, 11.60s/it]\n"
     ]
    },
    {
     "name": "stdout",
     "output_type": "stream",
     "text": [
      "bg_value__value_count__value_1_217\n",
      "bg_value__number_crossing_m__m_1_250\n",
      "label\n",
      "117.86449569135121\n",
      "            date_time   mock_date time_of_day part_of_day  time  bg_value id\n",
      "0 2021-12-07 05:27:00  2021-12-07    05:27:00  late night  4.17       154  a\n",
      "1 2021-12-07 05:32:00  2021-12-07    05:32:00  late night  4.25       130  a\n",
      "2 2021-12-07 05:37:00  2021-12-07    05:37:00  late night  4.33       121  a\n",
      "3 2021-12-07 05:42:00  2021-12-07    05:42:00  late night  4.42       110  a\n",
      "4 2021-12-07 05:47:00  2021-12-07    05:47:00  late night  4.50       106  a\n",
      "5 2021-12-07 05:52:00  2021-12-07    05:52:00  late night  4.58       103  a\n"
     ]
    },
    {
     "name": "stderr",
     "output_type": "stream",
     "text": [
      "100%|██████████| 1/1 [00:11<00:00, 11.21s/it]\n"
     ]
    },
    {
     "name": "stdout",
     "output_type": "stream",
     "text": [
      "bg_value__value_count__value_1_217\n",
      "bg_value__number_crossing_m__m_1_250\n",
      "label\n",
      "101.02840893431988\n",
      "            date_time   mock_date time_of_day part_of_day  time  bg_value id\n",
      "0 2021-12-07 05:32:00  2021-12-07    05:32:00  late night  4.25       130  a\n",
      "1 2021-12-07 05:37:00  2021-12-07    05:37:00  late night  4.33       121  a\n",
      "2 2021-12-07 05:42:00  2021-12-07    05:42:00  late night  4.42       110  a\n",
      "3 2021-12-07 05:47:00  2021-12-07    05:47:00  late night  4.50       106  a\n",
      "4 2021-12-07 05:52:00  2021-12-07    05:52:00  late night  4.58       103  a\n",
      "5 2021-12-07 05:57:00  2021-12-07    05:57:00  late night  4.67       103  a\n"
     ]
    },
    {
     "name": "stderr",
     "output_type": "stream",
     "text": [
      "100%|██████████| 1/1 [00:10<00:00, 10.41s/it]\n"
     ]
    },
    {
     "name": "stdout",
     "output_type": "stream",
     "text": [
      "bg_value__value_count__value_1_217\n",
      "bg_value__number_crossing_m__m_1_250\n",
      "label\n",
      "97.08545034108228\n",
      "            date_time   mock_date time_of_day part_of_day  time  bg_value id\n",
      "0 2021-12-07 05:37:00  2021-12-07    05:37:00  late night  4.33       121  a\n",
      "1 2021-12-07 05:42:00  2021-12-07    05:42:00  late night  4.42       110  a\n",
      "2 2021-12-07 05:47:00  2021-12-07    05:47:00  late night  4.50       106  a\n",
      "3 2021-12-07 05:52:00  2021-12-07    05:52:00  late night  4.58       103  a\n",
      "4 2021-12-07 05:57:00  2021-12-07    05:57:00  late night  4.67       103  a\n",
      "5 2021-12-07 06:02:00  2021-12-07    06:02:00  late night  4.75       108  a\n"
     ]
    },
    {
     "name": "stderr",
     "output_type": "stream",
     "text": [
      "100%|██████████| 1/1 [00:10<00:00, 10.89s/it]\n"
     ]
    },
    {
     "name": "stdout",
     "output_type": "stream",
     "text": [
      "bg_value__value_count__value_1_217\n",
      "bg_value__number_crossing_m__m_1_250\n",
      "label\n",
      "108.20676355569735\n",
      "            date_time   mock_date time_of_day part_of_day  time  bg_value id\n",
      "0 2021-12-07 05:42:00  2021-12-07    05:42:00  late night  4.42       110  a\n",
      "1 2021-12-07 05:47:00  2021-12-07    05:47:00  late night  4.50       106  a\n",
      "2 2021-12-07 05:52:00  2021-12-07    05:52:00  late night  4.58       103  a\n",
      "3 2021-12-07 05:57:00  2021-12-07    05:57:00  late night  4.67       103  a\n",
      "4 2021-12-07 06:02:00  2021-12-07    06:02:00  late night  4.75       108  a\n",
      "5 2021-12-07 06:07:00  2021-12-07    06:07:00  late night  4.83       116  a\n"
     ]
    },
    {
     "name": "stderr",
     "output_type": "stream",
     "text": [
      "100%|██████████| 1/1 [00:10<00:00, 10.46s/it]\n"
     ]
    },
    {
     "name": "stdout",
     "output_type": "stream",
     "text": [
      "bg_value__value_count__value_1_217\n",
      "bg_value__number_crossing_m__m_1_250\n",
      "label\n",
      "125.1936771472034\n",
      "            date_time   mock_date time_of_day part_of_day  time  bg_value id\n",
      "0 2021-12-07 05:47:00  2021-12-07    05:47:00  late night  4.50       106  a\n",
      "1 2021-12-07 05:52:00  2021-12-07    05:52:00  late night  4.58       103  a\n",
      "2 2021-12-07 05:57:00  2021-12-07    05:57:00  late night  4.67       103  a\n",
      "3 2021-12-07 06:02:00  2021-12-07    06:02:00  late night  4.75       108  a\n",
      "4 2021-12-07 06:07:00  2021-12-07    06:07:00  late night  4.83       116  a\n",
      "5 2021-12-07 06:12:00  2021-12-07    06:12:00  late night  4.92       121  a\n"
     ]
    },
    {
     "name": "stderr",
     "output_type": "stream",
     "text": [
      "100%|██████████| 1/1 [00:10<00:00, 10.06s/it]\n"
     ]
    },
    {
     "name": "stdout",
     "output_type": "stream",
     "text": [
      "bg_value__value_count__value_1_217\n",
      "bg_value__number_crossing_m__m_1_250\n",
      "label\n",
      "132.1510998785065\n",
      "            date_time   mock_date time_of_day part_of_day  time  bg_value id\n",
      "0 2021-12-07 05:52:00  2021-12-07    05:52:00  late night  4.58       103  a\n",
      "1 2021-12-07 05:57:00  2021-12-07    05:57:00  late night  4.67       103  a\n",
      "2 2021-12-07 06:02:00  2021-12-07    06:02:00  late night  4.75       108  a\n",
      "3 2021-12-07 06:07:00  2021-12-07    06:07:00  late night  4.83       116  a\n",
      "4 2021-12-07 06:12:00  2021-12-07    06:12:00  late night  4.92       121  a\n",
      "5 2021-12-07 06:17:00  2021-12-07    06:17:00  late night  5.00       123  a\n"
     ]
    },
    {
     "name": "stderr",
     "output_type": "stream",
     "text": [
      "100%|██████████| 1/1 [00:10<00:00, 10.28s/it]\n"
     ]
    },
    {
     "name": "stdout",
     "output_type": "stream",
     "text": [
      "bg_value__value_count__value_1_217\n",
      "bg_value__number_crossing_m__m_1_250\n",
      "label\n",
      "124.0937549142772\n",
      "            date_time   mock_date time_of_day part_of_day  time  bg_value id\n",
      "0 2021-12-07 05:57:00  2021-12-07    05:57:00  late night  4.67       103  a\n",
      "1 2021-12-07 06:02:00  2021-12-07    06:02:00  late night  4.75       108  a\n",
      "2 2021-12-07 06:07:00  2021-12-07    06:07:00  late night  4.83       116  a\n",
      "3 2021-12-07 06:12:00  2021-12-07    06:12:00  late night  4.92       121  a\n",
      "4 2021-12-07 06:17:00  2021-12-07    06:17:00  late night  5.00       123  a\n",
      "5 2021-12-07 06:22:00  2021-12-07    06:22:00  late night  5.08       117  a\n"
     ]
    },
    {
     "name": "stderr",
     "output_type": "stream",
     "text": [
      "100%|██████████| 1/1 [00:11<00:00, 11.02s/it]\n"
     ]
    },
    {
     "name": "stdout",
     "output_type": "stream",
     "text": [
      "bg_value__value_count__value_1_217\n",
      "bg_value__number_crossing_m__m_1_250\n",
      "label\n",
      "117.21931185490931\n",
      "            date_time   mock_date time_of_day part_of_day  time  bg_value id\n",
      "0 2021-12-07 06:02:00  2021-12-07    06:02:00  late night  4.75       108  a\n",
      "1 2021-12-07 06:07:00  2021-12-07    06:07:00  late night  4.83       116  a\n",
      "2 2021-12-07 06:12:00  2021-12-07    06:12:00  late night  4.92       121  a\n",
      "3 2021-12-07 06:17:00  2021-12-07    06:17:00  late night  5.00       123  a\n",
      "4 2021-12-07 06:22:00  2021-12-07    06:22:00  late night  5.08       117  a\n",
      "5 2021-12-07 06:27:00  2021-12-07    06:27:00  late night  5.17       109  a\n"
     ]
    },
    {
     "name": "stderr",
     "output_type": "stream",
     "text": [
      "100%|██████████| 1/1 [00:10<00:00, 10.57s/it]\n"
     ]
    },
    {
     "name": "stdout",
     "output_type": "stream",
     "text": [
      "bg_value__value_count__value_1_217\n",
      "bg_value__number_crossing_m__m_1_250\n",
      "label\n",
      "78.9314951976324\n",
      "            date_time   mock_date time_of_day part_of_day  time  bg_value id\n",
      "0 2021-12-07 06:07:00  2021-12-07    06:07:00  late night  4.83       116  a\n",
      "1 2021-12-07 06:12:00  2021-12-07    06:12:00  late night  4.92       121  a\n",
      "2 2021-12-07 06:17:00  2021-12-07    06:17:00  late night  5.00       123  a\n",
      "3 2021-12-07 06:22:00  2021-12-07    06:22:00  late night  5.08       117  a\n",
      "4 2021-12-07 06:27:00  2021-12-07    06:27:00  late night  5.17       109  a\n",
      "5 2021-12-07 06:32:00  2021-12-07    06:32:00  late night  5.25        90  a\n"
     ]
    },
    {
     "name": "stderr",
     "output_type": "stream",
     "text": [
      "100%|██████████| 1/1 [00:10<00:00, 10.32s/it]\n"
     ]
    },
    {
     "name": "stdout",
     "output_type": "stream",
     "text": [
      "bg_value__value_count__value_1_217\n",
      "bg_value__number_crossing_m__m_1_250\n",
      "label\n",
      "85.16352218889428\n",
      "            date_time   mock_date time_of_day part_of_day  time  bg_value id\n",
      "0 2021-12-07 06:12:00  2021-12-07    06:12:00  late night  4.92       121  a\n",
      "1 2021-12-07 06:17:00  2021-12-07    06:17:00  late night  5.00       123  a\n",
      "2 2021-12-07 06:22:00  2021-12-07    06:22:00  late night  5.08       117  a\n",
      "3 2021-12-07 06:27:00  2021-12-07    06:27:00  late night  5.17       109  a\n",
      "4 2021-12-07 06:32:00  2021-12-07    06:32:00  late night  5.25        90  a\n",
      "5 2021-12-07 06:37:00  2021-12-07    06:37:00  late night  5.33        80  a\n"
     ]
    },
    {
     "name": "stderr",
     "output_type": "stream",
     "text": [
      "100%|██████████| 1/1 [00:11<00:00, 11.13s/it]\n"
     ]
    },
    {
     "name": "stdout",
     "output_type": "stream",
     "text": [
      "bg_value__value_count__value_1_217\n",
      "bg_value__number_crossing_m__m_1_250\n",
      "label\n",
      "88.28696225096122\n",
      "            date_time   mock_date time_of_day part_of_day  time  bg_value id\n",
      "0 2021-12-07 06:17:00  2021-12-07    06:17:00  late night  5.00       123  a\n",
      "1 2021-12-07 06:22:00  2021-12-07    06:22:00  late night  5.08       117  a\n",
      "2 2021-12-07 06:27:00  2021-12-07    06:27:00  late night  5.17       109  a\n",
      "3 2021-12-07 06:32:00  2021-12-07    06:32:00  late night  5.25        90  a\n",
      "4 2021-12-07 06:37:00  2021-12-07    06:37:00  late night  5.33        80  a\n",
      "5 2021-12-07 06:42:00  2021-12-07    06:42:00  late night  5.42        73  a\n"
     ]
    },
    {
     "name": "stderr",
     "output_type": "stream",
     "text": [
      "100%|██████████| 1/1 [00:10<00:00, 10.18s/it]\n"
     ]
    },
    {
     "name": "stdout",
     "output_type": "stream",
     "text": [
      "bg_value__value_count__value_1_217\n",
      "bg_value__number_crossing_m__m_1_250\n",
      "label\n",
      "80.80265943076164\n",
      "            date_time   mock_date time_of_day part_of_day  time  bg_value id\n",
      "0 2021-12-07 06:22:00  2021-12-07    06:22:00  late night  5.08       117  a\n",
      "1 2021-12-07 06:27:00  2021-12-07    06:27:00  late night  5.17       109  a\n",
      "2 2021-12-07 06:32:00  2021-12-07    06:32:00  late night  5.25        90  a\n",
      "3 2021-12-07 06:37:00  2021-12-07    06:37:00  late night  5.33        80  a\n",
      "4 2021-12-07 06:42:00  2021-12-07    06:42:00  late night  5.42        73  a\n",
      "5 2021-12-07 06:47:00  2021-12-07    06:47:00  late night  5.50        65  a\n"
     ]
    },
    {
     "name": "stderr",
     "output_type": "stream",
     "text": [
      "100%|██████████| 1/1 [00:10<00:00, 10.50s/it]\n"
     ]
    },
    {
     "name": "stdout",
     "output_type": "stream",
     "text": [
      "bg_value__value_count__value_1_217\n",
      "bg_value__number_crossing_m__m_1_250\n",
      "label\n",
      "76.02864743210687\n",
      "            date_time   mock_date time_of_day part_of_day  time  bg_value id\n",
      "0 2021-12-07 06:27:00  2021-12-07    06:27:00  late night  5.17       109  a\n",
      "1 2021-12-07 06:32:00  2021-12-07    06:32:00  late night  5.25        90  a\n",
      "2 2021-12-07 06:37:00  2021-12-07    06:37:00  late night  5.33        80  a\n",
      "3 2021-12-07 06:42:00  2021-12-07    06:42:00  late night  5.42        73  a\n",
      "4 2021-12-07 06:47:00  2021-12-07    06:47:00  late night  5.50        65  a\n",
      "5 2021-12-07 06:52:00  2021-12-07    06:52:00  late night  5.58        65  a\n"
     ]
    },
    {
     "name": "stderr",
     "output_type": "stream",
     "text": [
      "100%|██████████| 1/1 [00:10<00:00, 10.90s/it]\n"
     ]
    },
    {
     "name": "stdout",
     "output_type": "stream",
     "text": [
      "bg_value__value_count__value_1_217\n",
      "bg_value__number_crossing_m__m_1_250\n",
      "label\n",
      "84.80929549984324\n",
      "            date_time   mock_date time_of_day part_of_day  time  bg_value id\n",
      "0 2021-12-07 06:32:00  2021-12-07    06:32:00  late night  5.25        90  a\n",
      "1 2021-12-07 06:37:00  2021-12-07    06:37:00  late night  5.33        80  a\n",
      "2 2021-12-07 06:42:00  2021-12-07    06:42:00  late night  5.42        73  a\n",
      "3 2021-12-07 06:47:00  2021-12-07    06:47:00  late night  5.50        65  a\n",
      "4 2021-12-07 06:52:00  2021-12-07    06:52:00  late night  5.58        65  a\n",
      "5 2021-12-07 06:57:00  2021-12-07    06:57:00  late night  5.67        65  a\n"
     ]
    },
    {
     "name": "stderr",
     "output_type": "stream",
     "text": [
      "100%|██████████| 1/1 [00:11<00:00, 11.40s/it]\n"
     ]
    },
    {
     "name": "stdout",
     "output_type": "stream",
     "text": [
      "bg_value__value_count__value_1_217\n",
      "bg_value__number_crossing_m__m_1_250\n",
      "label\n",
      "84.5356855177876\n",
      "            date_time   mock_date time_of_day part_of_day  time  bg_value id\n",
      "0 2021-12-07 06:37:00  2021-12-07    06:37:00  late night  5.33        80  a\n",
      "1 2021-12-07 06:42:00  2021-12-07    06:42:00  late night  5.42        73  a\n",
      "2 2021-12-07 06:47:00  2021-12-07    06:47:00  late night  5.50        65  a\n",
      "3 2021-12-07 06:52:00  2021-12-07    06:52:00  late night  5.58        65  a\n",
      "4 2021-12-07 06:57:00  2021-12-07    06:57:00  late night  5.67        65  a\n",
      "5 2021-12-07 07:02:00  2021-12-07    07:02:00     morning  5.75        66  a\n"
     ]
    },
    {
     "name": "stderr",
     "output_type": "stream",
     "text": [
      "100%|██████████| 1/1 [00:11<00:00, 11.46s/it]\n"
     ]
    },
    {
     "name": "stdout",
     "output_type": "stream",
     "text": [
      "bg_value__value_count__value_1_217\n",
      "bg_value__number_crossing_m__m_1_250\n",
      "label\n",
      "81.87422868667949\n",
      "            date_time   mock_date time_of_day part_of_day  time  bg_value id\n",
      "0 2021-12-07 06:42:00  2021-12-07    06:42:00  late night  5.42        73  a\n",
      "1 2021-12-07 06:47:00  2021-12-07    06:47:00  late night  5.50        65  a\n",
      "2 2021-12-07 06:52:00  2021-12-07    06:52:00  late night  5.58        65  a\n",
      "3 2021-12-07 06:57:00  2021-12-07    06:57:00  late night  5.67        65  a\n",
      "4 2021-12-07 07:02:00  2021-12-07    07:02:00     morning  5.75        66  a\n",
      "5 2021-12-07 07:07:00  2021-12-07    07:07:00     morning  5.83        66  a\n"
     ]
    },
    {
     "name": "stderr",
     "output_type": "stream",
     "text": [
      "100%|██████████| 1/1 [00:11<00:00, 11.29s/it]\n"
     ]
    },
    {
     "name": "stdout",
     "output_type": "stream",
     "text": [
      "bg_value__value_count__value_1_217\n",
      "bg_value__number_crossing_m__m_1_250\n",
      "label\n",
      "72.32214529913134\n",
      "            date_time   mock_date time_of_day part_of_day  time  bg_value id\n",
      "0 2021-12-07 06:47:00  2021-12-07    06:47:00  late night  5.50        65  a\n",
      "1 2021-12-07 06:52:00  2021-12-07    06:52:00  late night  5.58        65  a\n",
      "2 2021-12-07 06:57:00  2021-12-07    06:57:00  late night  5.67        65  a\n",
      "3 2021-12-07 07:02:00  2021-12-07    07:02:00     morning  5.75        66  a\n",
      "4 2021-12-07 07:07:00  2021-12-07    07:07:00     morning  5.83        66  a\n",
      "5 2021-12-07 07:12:00  2021-12-07    07:12:00     morning  5.92        65  a\n"
     ]
    },
    {
     "name": "stderr",
     "output_type": "stream",
     "text": [
      "100%|██████████| 1/1 [00:11<00:00, 11.39s/it]\n"
     ]
    },
    {
     "name": "stdout",
     "output_type": "stream",
     "text": [
      "bg_value__value_count__value_1_217\n",
      "bg_value__number_crossing_m__m_1_250\n",
      "label\n",
      "72.23768174947828\n",
      "            date_time   mock_date time_of_day part_of_day  time  bg_value id\n",
      "0 2021-12-07 06:52:00  2021-12-07    06:52:00  late night  5.58        65  a\n",
      "1 2021-12-07 06:57:00  2021-12-07    06:57:00  late night  5.67        65  a\n",
      "2 2021-12-07 07:02:00  2021-12-07    07:02:00     morning  5.75        66  a\n",
      "3 2021-12-07 07:07:00  2021-12-07    07:07:00     morning  5.83        66  a\n",
      "4 2021-12-07 07:12:00  2021-12-07    07:12:00     morning  5.92        65  a\n",
      "5 2021-12-07 07:17:00  2021-12-07    07:17:00     morning  6.00        72  a\n"
     ]
    },
    {
     "name": "stderr",
     "output_type": "stream",
     "text": [
      "100%|██████████| 1/1 [00:10<00:00, 10.85s/it]\n"
     ]
    },
    {
     "name": "stdout",
     "output_type": "stream",
     "text": [
      "bg_value__value_count__value_1_217\n",
      "bg_value__number_crossing_m__m_1_250\n",
      "label\n",
      "84.13424127480745\n",
      "            date_time   mock_date time_of_day part_of_day  time  bg_value id\n",
      "0 2021-12-07 06:57:00  2021-12-07    06:57:00  late night  5.67        65  a\n",
      "1 2021-12-07 07:02:00  2021-12-07    07:02:00     morning  5.75        66  a\n",
      "2 2021-12-07 07:07:00  2021-12-07    07:07:00     morning  5.83        66  a\n",
      "3 2021-12-07 07:12:00  2021-12-07    07:12:00     morning  5.92        65  a\n",
      "4 2021-12-07 07:17:00  2021-12-07    07:17:00     morning  6.00        72  a\n",
      "5 2021-12-07 07:22:00  2021-12-07    07:22:00     morning  6.08        77  a\n"
     ]
    },
    {
     "name": "stderr",
     "output_type": "stream",
     "text": [
      "100%|██████████| 1/1 [00:07<00:00,  7.68s/it]\n"
     ]
    },
    {
     "name": "stdout",
     "output_type": "stream",
     "text": [
      "bg_value__value_count__value_1_217\n",
      "bg_value__number_crossing_m__m_1_250\n",
      "label\n",
      "93.50531385668901\n",
      "            date_time   mock_date time_of_day part_of_day  time  bg_value id\n",
      "0 2021-12-07 07:02:00  2021-12-07    07:02:00     morning  5.75        66  a\n",
      "1 2021-12-07 07:07:00  2021-12-07    07:07:00     morning  5.83        66  a\n",
      "2 2021-12-07 07:12:00  2021-12-07    07:12:00     morning  5.92        65  a\n",
      "3 2021-12-07 07:17:00  2021-12-07    07:17:00     morning  6.00        72  a\n",
      "4 2021-12-07 07:22:00  2021-12-07    07:22:00     morning  6.08        77  a\n",
      "5 2021-12-07 07:27:00  2021-12-07    07:27:00     morning  6.17        79  a\n"
     ]
    },
    {
     "name": "stderr",
     "output_type": "stream",
     "text": [
      "100%|██████████| 1/1 [00:07<00:00,  7.95s/it]\n"
     ]
    },
    {
     "name": "stdout",
     "output_type": "stream",
     "text": [
      "bg_value__value_count__value_1_217\n",
      "bg_value__number_crossing_m__m_1_250\n",
      "label\n",
      "97.87941493964507\n",
      "            date_time   mock_date time_of_day part_of_day  time  bg_value id\n",
      "0 2021-12-07 07:07:00  2021-12-07    07:07:00     morning  5.83        66  a\n",
      "1 2021-12-07 07:12:00  2021-12-07    07:12:00     morning  5.92        65  a\n",
      "2 2021-12-07 07:17:00  2021-12-07    07:17:00     morning  6.00        72  a\n",
      "3 2021-12-07 07:22:00  2021-12-07    07:22:00     morning  6.08        77  a\n",
      "4 2021-12-07 07:27:00  2021-12-07    07:27:00     morning  6.17        79  a\n",
      "5 2021-12-07 07:32:00  2021-12-07    07:32:00     morning  6.25        79  a\n"
     ]
    },
    {
     "name": "stderr",
     "output_type": "stream",
     "text": [
      "100%|██████████| 1/1 [00:06<00:00,  6.32s/it]\n"
     ]
    },
    {
     "name": "stdout",
     "output_type": "stream",
     "text": [
      "bg_value__value_count__value_1_217\n",
      "bg_value__number_crossing_m__m_1_250\n",
      "label\n",
      "100.97103299268339\n",
      "            date_time   mock_date time_of_day part_of_day  time  bg_value id\n",
      "0 2021-12-07 07:12:00  2021-12-07    07:12:00     morning  5.92        65  a\n",
      "1 2021-12-07 07:17:00  2021-12-07    07:17:00     morning  6.00        72  a\n",
      "2 2021-12-07 07:22:00  2021-12-07    07:22:00     morning  6.08        77  a\n",
      "3 2021-12-07 07:27:00  2021-12-07    07:27:00     morning  6.17        79  a\n",
      "4 2021-12-07 07:32:00  2021-12-07    07:32:00     morning  6.25        79  a\n",
      "5 2021-12-07 07:37:00  2021-12-07    07:37:00     morning  6.33        72  a\n"
     ]
    },
    {
     "name": "stderr",
     "output_type": "stream",
     "text": [
      "100%|██████████| 1/1 [00:06<00:00,  6.33s/it]\n"
     ]
    },
    {
     "name": "stdout",
     "output_type": "stream",
     "text": [
      "bg_value__value_count__value_1_217\n",
      "bg_value__number_crossing_m__m_1_250\n",
      "label\n",
      "77.65273705303767\n",
      "            date_time   mock_date time_of_day part_of_day  time  bg_value id\n",
      "0 2021-12-07 07:17:00  2021-12-07    07:17:00     morning  6.00        72  a\n",
      "1 2021-12-07 07:22:00  2021-12-07    07:22:00     morning  6.08        77  a\n",
      "2 2021-12-07 07:27:00  2021-12-07    07:27:00     morning  6.17        79  a\n",
      "3 2021-12-07 07:32:00  2021-12-07    07:32:00     morning  6.25        79  a\n",
      "4 2021-12-07 07:37:00  2021-12-07    07:37:00     morning  6.33        72  a\n",
      "5 2021-12-07 07:42:00  2021-12-07    07:42:00     morning  6.42        67  a\n"
     ]
    },
    {
     "name": "stderr",
     "output_type": "stream",
     "text": [
      "100%|██████████| 1/1 [00:06<00:00,  6.48s/it]\n"
     ]
    },
    {
     "name": "stdout",
     "output_type": "stream",
     "text": [
      "bg_value__value_count__value_1_217\n",
      "bg_value__number_crossing_m__m_1_250\n",
      "label\n",
      "71.24656604478672\n",
      "            date_time   mock_date time_of_day part_of_day  time  bg_value id\n",
      "0 2021-12-07 07:22:00  2021-12-07    07:22:00     morning  6.08        77  a\n",
      "1 2021-12-07 07:27:00  2021-12-07    07:27:00     morning  6.17        79  a\n",
      "2 2021-12-07 07:32:00  2021-12-07    07:32:00     morning  6.25        79  a\n",
      "3 2021-12-07 07:37:00  2021-12-07    07:37:00     morning  6.33        72  a\n",
      "4 2021-12-07 07:42:00  2021-12-07    07:42:00     morning  6.42        67  a\n",
      "5 2021-12-07 07:47:00  2021-12-07    07:47:00     morning  6.50        67  a\n"
     ]
    },
    {
     "name": "stderr",
     "output_type": "stream",
     "text": [
      "100%|██████████| 1/1 [00:06<00:00,  6.77s/it]\n"
     ]
    },
    {
     "name": "stdout",
     "output_type": "stream",
     "text": [
      "bg_value__value_count__value_1_217\n",
      "bg_value__number_crossing_m__m_1_250\n",
      "label\n",
      "90.0583569178501\n",
      "            date_time   mock_date time_of_day part_of_day  time  bg_value id\n",
      "0 2021-12-07 07:27:00  2021-12-07    07:27:00     morning  6.17        79  a\n",
      "1 2021-12-07 07:32:00  2021-12-07    07:32:00     morning  6.25        79  a\n",
      "2 2021-12-07 07:37:00  2021-12-07    07:37:00     morning  6.33        72  a\n",
      "3 2021-12-07 07:42:00  2021-12-07    07:42:00     morning  6.42        67  a\n",
      "4 2021-12-07 07:47:00  2021-12-07    07:47:00     morning  6.50        67  a\n",
      "5 2021-12-07 07:52:00  2021-12-07    07:52:00     morning  6.58        69  a\n"
     ]
    },
    {
     "name": "stderr",
     "output_type": "stream",
     "text": [
      "100%|██████████| 1/1 [00:06<00:00,  6.49s/it]\n"
     ]
    },
    {
     "name": "stdout",
     "output_type": "stream",
     "text": [
      "bg_value__value_count__value_1_217\n",
      "bg_value__number_crossing_m__m_1_250\n",
      "label\n",
      "85.03633105630557\n",
      "            date_time   mock_date time_of_day part_of_day  time  bg_value id\n",
      "0 2021-12-07 07:32:00  2021-12-07    07:32:00     morning  6.25        79  a\n",
      "1 2021-12-07 07:37:00  2021-12-07    07:37:00     morning  6.33        72  a\n",
      "2 2021-12-07 07:42:00  2021-12-07    07:42:00     morning  6.42        67  a\n",
      "3 2021-12-07 07:47:00  2021-12-07    07:47:00     morning  6.50        67  a\n",
      "4 2021-12-07 07:52:00  2021-12-07    07:52:00     morning  6.58        69  a\n",
      "5 2021-12-07 07:57:00  2021-12-07    07:57:00     morning  6.67        67  a\n"
     ]
    },
    {
     "name": "stderr",
     "output_type": "stream",
     "text": [
      "100%|██████████| 1/1 [00:06<00:00,  6.40s/it]\n"
     ]
    },
    {
     "name": "stdout",
     "output_type": "stream",
     "text": [
      "bg_value__value_count__value_1_217\n",
      "bg_value__number_crossing_m__m_1_250\n",
      "label\n",
      "83.71892134216039\n",
      "            date_time   mock_date time_of_day part_of_day  time  bg_value id\n",
      "0 2021-12-07 07:37:00  2021-12-07    07:37:00     morning  6.33        72  a\n",
      "1 2021-12-07 07:42:00  2021-12-07    07:42:00     morning  6.42        67  a\n",
      "2 2021-12-07 07:47:00  2021-12-07    07:47:00     morning  6.50        67  a\n",
      "3 2021-12-07 07:52:00  2021-12-07    07:52:00     morning  6.58        69  a\n",
      "4 2021-12-07 07:57:00  2021-12-07    07:57:00     morning  6.67        67  a\n",
      "5 2021-12-07 08:02:00  2021-12-07    08:02:00     morning  6.75        66  a\n"
     ]
    },
    {
     "name": "stderr",
     "output_type": "stream",
     "text": [
      "100%|██████████| 1/1 [00:06<00:00,  6.43s/it]\n"
     ]
    },
    {
     "name": "stdout",
     "output_type": "stream",
     "text": [
      "bg_value__value_count__value_1_217\n",
      "bg_value__number_crossing_m__m_1_250\n",
      "label\n",
      "76.24300793431736\n",
      "            date_time   mock_date time_of_day part_of_day  time  bg_value id\n",
      "0 2021-12-07 07:42:00  2021-12-07    07:42:00     morning  6.42        67  a\n",
      "1 2021-12-07 07:47:00  2021-12-07    07:47:00     morning  6.50        67  a\n",
      "2 2021-12-07 07:52:00  2021-12-07    07:52:00     morning  6.58        69  a\n",
      "3 2021-12-07 07:57:00  2021-12-07    07:57:00     morning  6.67        67  a\n",
      "4 2021-12-07 08:02:00  2021-12-07    08:02:00     morning  6.75        66  a\n",
      "5 2021-12-07 08:07:00  2021-12-07    08:07:00     morning  6.83        68  a\n"
     ]
    },
    {
     "name": "stderr",
     "output_type": "stream",
     "text": [
      "100%|██████████| 1/1 [00:06<00:00,  6.46s/it]\n"
     ]
    },
    {
     "name": "stdout",
     "output_type": "stream",
     "text": [
      "bg_value__value_count__value_1_217\n",
      "bg_value__number_crossing_m__m_1_250\n",
      "label\n",
      "85.99511893849372\n",
      "            date_time   mock_date time_of_day part_of_day  time  bg_value id\n",
      "0 2021-12-07 07:47:00  2021-12-07    07:47:00     morning  6.50        67  a\n",
      "1 2021-12-07 07:52:00  2021-12-07    07:52:00     morning  6.58        69  a\n",
      "2 2021-12-07 07:57:00  2021-12-07    07:57:00     morning  6.67        67  a\n",
      "3 2021-12-07 08:02:00  2021-12-07    08:02:00     morning  6.75        66  a\n",
      "4 2021-12-07 08:07:00  2021-12-07    08:07:00     morning  6.83        68  a\n",
      "5 2021-12-07 08:12:00  2021-12-07    08:12:00     morning  6.92        68  a\n"
     ]
    },
    {
     "name": "stderr",
     "output_type": "stream",
     "text": [
      "100%|██████████| 1/1 [00:06<00:00,  6.82s/it]\n"
     ]
    },
    {
     "name": "stdout",
     "output_type": "stream",
     "text": [
      "bg_value__value_count__value_1_217\n",
      "bg_value__number_crossing_m__m_1_250\n",
      "label\n",
      "81.59932378564073\n",
      "            date_time   mock_date time_of_day part_of_day  time  bg_value id\n",
      "0 2021-12-07 07:52:00  2021-12-07    07:52:00     morning  6.58        69  a\n",
      "1 2021-12-07 07:57:00  2021-12-07    07:57:00     morning  6.67        67  a\n",
      "2 2021-12-07 08:02:00  2021-12-07    08:02:00     morning  6.75        66  a\n",
      "3 2021-12-07 08:07:00  2021-12-07    08:07:00     morning  6.83        68  a\n",
      "4 2021-12-07 08:12:00  2021-12-07    08:12:00     morning  6.92        68  a\n",
      "5 2021-12-07 08:17:00  2021-12-07    08:17:00     morning  7.00        64  a\n"
     ]
    },
    {
     "name": "stderr",
     "output_type": "stream",
     "text": [
      "100%|██████████| 1/1 [00:07<00:00,  7.48s/it]\n"
     ]
    },
    {
     "name": "stdout",
     "output_type": "stream",
     "text": [
      "bg_value__value_count__value_1_217\n",
      "bg_value__number_crossing_m__m_1_250\n",
      "label\n",
      "75.51076099626498\n",
      "            date_time   mock_date time_of_day part_of_day  time  bg_value id\n",
      "0 2021-12-07 07:57:00  2021-12-07    07:57:00     morning  6.67        67  a\n",
      "1 2021-12-07 08:02:00  2021-12-07    08:02:00     morning  6.75        66  a\n",
      "2 2021-12-07 08:07:00  2021-12-07    08:07:00     morning  6.83        68  a\n",
      "3 2021-12-07 08:12:00  2021-12-07    08:12:00     morning  6.92        68  a\n",
      "4 2021-12-07 08:17:00  2021-12-07    08:17:00     morning  7.00        64  a\n",
      "5 2021-12-07 08:22:00  2021-12-07    08:22:00     morning  7.08        63  a\n"
     ]
    },
    {
     "name": "stderr",
     "output_type": "stream",
     "text": [
      "100%|██████████| 1/1 [00:08<00:00,  8.88s/it]\n"
     ]
    },
    {
     "name": "stdout",
     "output_type": "stream",
     "text": [
      "bg_value__value_count__value_1_217\n",
      "bg_value__number_crossing_m__m_1_250\n",
      "label\n",
      "78.54852306807324\n",
      "            date_time   mock_date time_of_day part_of_day  time  bg_value id\n",
      "0 2021-12-07 08:02:00  2021-12-07    08:02:00     morning  6.75        66  a\n",
      "1 2021-12-07 08:07:00  2021-12-07    08:07:00     morning  6.83        68  a\n",
      "2 2021-12-07 08:12:00  2021-12-07    08:12:00     morning  6.92        68  a\n",
      "3 2021-12-07 08:17:00  2021-12-07    08:17:00     morning  7.00        64  a\n",
      "4 2021-12-07 08:22:00  2021-12-07    08:22:00     morning  7.08        63  a\n",
      "5 2021-12-07 08:27:00  2021-12-07    08:27:00     morning  7.17        65  a\n"
     ]
    },
    {
     "name": "stderr",
     "output_type": "stream",
     "text": [
      "100%|██████████| 1/1 [00:13<00:00, 13.90s/it]\n"
     ]
    },
    {
     "name": "stdout",
     "output_type": "stream",
     "text": [
      "bg_value__value_count__value_1_217\n",
      "bg_value__number_crossing_m__m_1_250\n",
      "label\n",
      "85.37588074677718\n",
      "            date_time   mock_date time_of_day part_of_day  time  bg_value id\n",
      "0 2021-12-07 08:07:00  2021-12-07    08:07:00     morning  6.83        68  a\n",
      "1 2021-12-07 08:12:00  2021-12-07    08:12:00     morning  6.92        68  a\n",
      "2 2021-12-07 08:17:00  2021-12-07    08:17:00     morning  7.00        64  a\n",
      "3 2021-12-07 08:22:00  2021-12-07    08:22:00     morning  7.08        63  a\n",
      "4 2021-12-07 08:27:00  2021-12-07    08:27:00     morning  7.17        65  a\n",
      "5 2021-12-07 08:32:00  2021-12-07    08:32:00     morning  7.25        63  a\n"
     ]
    },
    {
     "name": "stderr",
     "output_type": "stream",
     "text": [
      "100%|██████████| 1/1 [00:12<00:00, 12.28s/it]\n"
     ]
    },
    {
     "name": "stdout",
     "output_type": "stream",
     "text": [
      "bg_value__value_count__value_1_217\n",
      "bg_value__number_crossing_m__m_1_250\n",
      "label\n",
      "81.42689425330313\n",
      "            date_time   mock_date time_of_day part_of_day  time  bg_value id\n",
      "0 2021-12-07 08:12:00  2021-12-07    08:12:00     morning  6.92        68  a\n",
      "1 2021-12-07 08:17:00  2021-12-07    08:17:00     morning  7.00        64  a\n",
      "2 2021-12-07 08:22:00  2021-12-07    08:22:00     morning  7.08        63  a\n",
      "3 2021-12-07 08:27:00  2021-12-07    08:27:00     morning  7.17        65  a\n",
      "4 2021-12-07 08:32:00  2021-12-07    08:32:00     morning  7.25        63  a\n",
      "5 2021-12-07 08:37:00  2021-12-07    08:37:00     morning  7.33        65  a\n"
     ]
    },
    {
     "name": "stderr",
     "output_type": "stream",
     "text": [
      "100%|██████████| 1/1 [00:06<00:00,  6.72s/it]\n"
     ]
    },
    {
     "name": "stdout",
     "output_type": "stream",
     "text": [
      "bg_value__value_count__value_1_217\n",
      "bg_value__number_crossing_m__m_1_250\n",
      "label\n",
      "81.13732737898519\n",
      "            date_time   mock_date time_of_day part_of_day  time  bg_value id\n",
      "0 2021-12-07 08:17:00  2021-12-07    08:17:00     morning  7.00        64  a\n",
      "1 2021-12-07 08:22:00  2021-12-07    08:22:00     morning  7.08        63  a\n",
      "2 2021-12-07 08:27:00  2021-12-07    08:27:00     morning  7.17        65  a\n",
      "3 2021-12-07 08:32:00  2021-12-07    08:32:00     morning  7.25        63  a\n",
      "4 2021-12-07 08:37:00  2021-12-07    08:37:00     morning  7.33        65  a\n",
      "5 2021-12-07 08:42:00  2021-12-07    08:42:00     morning  7.42        68  a\n"
     ]
    },
    {
     "name": "stderr",
     "output_type": "stream",
     "text": [
      "100%|██████████| 1/1 [00:06<00:00,  6.61s/it]\n"
     ]
    },
    {
     "name": "stdout",
     "output_type": "stream",
     "text": [
      "bg_value__value_count__value_1_217\n",
      "bg_value__number_crossing_m__m_1_250\n",
      "label\n",
      "84.43175243908381\n",
      "            date_time   mock_date time_of_day part_of_day  time  bg_value id\n",
      "0 2021-12-07 08:22:00  2021-12-07    08:22:00     morning  7.08        63  a\n",
      "1 2021-12-07 08:27:00  2021-12-07    08:27:00     morning  7.17        65  a\n",
      "2 2021-12-07 08:32:00  2021-12-07    08:32:00     morning  7.25        63  a\n",
      "3 2021-12-07 08:37:00  2021-12-07    08:37:00     morning  7.33        65  a\n",
      "4 2021-12-07 08:42:00  2021-12-07    08:42:00     morning  7.42        68  a\n",
      "5 2021-12-07 08:47:00  2021-12-07    08:47:00     morning  7.50        68  a\n"
     ]
    },
    {
     "name": "stderr",
     "output_type": "stream",
     "text": [
      "100%|██████████| 1/1 [00:06<00:00,  6.46s/it]\n"
     ]
    },
    {
     "name": "stdout",
     "output_type": "stream",
     "text": [
      "bg_value__value_count__value_1_217\n",
      "bg_value__number_crossing_m__m_1_250\n",
      "label\n",
      "83.32242774784517\n",
      "            date_time   mock_date time_of_day part_of_day  time  bg_value id\n",
      "0 2021-12-07 08:27:00  2021-12-07    08:27:00     morning  7.17        65  a\n",
      "1 2021-12-07 08:32:00  2021-12-07    08:32:00     morning  7.25        63  a\n",
      "2 2021-12-07 08:37:00  2021-12-07    08:37:00     morning  7.33        65  a\n",
      "3 2021-12-07 08:42:00  2021-12-07    08:42:00     morning  7.42        68  a\n",
      "4 2021-12-07 08:47:00  2021-12-07    08:47:00     morning  7.50        68  a\n",
      "5 2021-12-07 08:52:00  2021-12-07    08:52:00     morning  7.58        68  a\n"
     ]
    },
    {
     "name": "stderr",
     "output_type": "stream",
     "text": [
      "100%|██████████| 1/1 [00:06<00:00,  6.38s/it]\n"
     ]
    },
    {
     "name": "stdout",
     "output_type": "stream",
     "text": [
      "bg_value__value_count__value_1_217\n",
      "bg_value__number_crossing_m__m_1_250\n",
      "label\n",
      "82.25540280471147\n",
      "            date_time   mock_date time_of_day part_of_day  time  bg_value id\n",
      "0 2021-12-07 08:32:00  2021-12-07    08:32:00     morning  7.25        63  a\n",
      "1 2021-12-07 08:37:00  2021-12-07    08:37:00     morning  7.33        65  a\n",
      "2 2021-12-07 08:42:00  2021-12-07    08:42:00     morning  7.42        68  a\n",
      "3 2021-12-07 08:47:00  2021-12-07    08:47:00     morning  7.50        68  a\n",
      "4 2021-12-07 08:52:00  2021-12-07    08:52:00     morning  7.58        68  a\n",
      "5 2021-12-07 08:57:00  2021-12-07    08:57:00     morning  7.67        71  a\n"
     ]
    },
    {
     "name": "stderr",
     "output_type": "stream",
     "text": [
      "100%|██████████| 1/1 [00:06<00:00,  6.31s/it]\n"
     ]
    },
    {
     "name": "stdout",
     "output_type": "stream",
     "text": [
      "bg_value__value_count__value_1_217\n",
      "bg_value__number_crossing_m__m_1_250\n",
      "label\n",
      "91.31430093999433\n",
      "            date_time   mock_date time_of_day part_of_day  time  bg_value id\n",
      "0 2021-12-07 08:37:00  2021-12-07    08:37:00     morning  7.33        65  a\n",
      "1 2021-12-07 08:42:00  2021-12-07    08:42:00     morning  7.42        68  a\n",
      "2 2021-12-07 08:47:00  2021-12-07    08:47:00     morning  7.50        68  a\n",
      "3 2021-12-07 08:52:00  2021-12-07    08:52:00     morning  7.58        68  a\n",
      "4 2021-12-07 08:57:00  2021-12-07    08:57:00     morning  7.67        71  a\n",
      "5 2021-12-07 09:02:00  2021-12-07    09:02:00     morning  7.75        73  a\n"
     ]
    },
    {
     "name": "stderr",
     "output_type": "stream",
     "text": [
      "100%|██████████| 1/1 [00:06<00:00,  6.63s/it]\n"
     ]
    },
    {
     "name": "stdout",
     "output_type": "stream",
     "text": [
      "bg_value__value_count__value_1_217\n",
      "bg_value__number_crossing_m__m_1_250\n",
      "label\n",
      "91.00640809219166\n",
      "            date_time   mock_date time_of_day part_of_day  time  bg_value id\n",
      "0 2021-12-07 08:42:00  2021-12-07    08:42:00     morning  7.42        68  a\n",
      "1 2021-12-07 08:47:00  2021-12-07    08:47:00     morning  7.50        68  a\n",
      "2 2021-12-07 08:52:00  2021-12-07    08:52:00     morning  7.58        68  a\n",
      "3 2021-12-07 08:57:00  2021-12-07    08:57:00     morning  7.67        71  a\n",
      "4 2021-12-07 09:02:00  2021-12-07    09:02:00     morning  7.75        73  a\n",
      "5 2021-12-07 09:07:00  2021-12-07    09:07:00     morning  7.83        71  a\n"
     ]
    },
    {
     "name": "stderr",
     "output_type": "stream",
     "text": [
      "100%|██████████| 1/1 [00:06<00:00,  6.86s/it]\n"
     ]
    },
    {
     "name": "stdout",
     "output_type": "stream",
     "text": [
      "bg_value__value_count__value_1_217\n",
      "bg_value__number_crossing_m__m_1_250\n",
      "label\n",
      "79.11200561040238\n",
      "            date_time   mock_date time_of_day part_of_day  time  bg_value id\n",
      "0 2021-12-07 08:47:00  2021-12-07    08:47:00     morning  7.50        68  a\n",
      "1 2021-12-07 08:52:00  2021-12-07    08:52:00     morning  7.58        68  a\n",
      "2 2021-12-07 08:57:00  2021-12-07    08:57:00     morning  7.67        71  a\n",
      "3 2021-12-07 09:02:00  2021-12-07    09:02:00     morning  7.75        73  a\n",
      "4 2021-12-07 09:07:00  2021-12-07    09:07:00     morning  7.83        71  a\n",
      "5 2021-12-07 09:12:00  2021-12-07    09:12:00     morning  7.92        73  a\n"
     ]
    },
    {
     "name": "stderr",
     "output_type": "stream",
     "text": [
      "100%|██████████| 1/1 [00:07<00:00,  7.32s/it]\n"
     ]
    },
    {
     "name": "stdout",
     "output_type": "stream",
     "text": [
      "bg_value__value_count__value_1_217\n",
      "bg_value__number_crossing_m__m_1_250\n",
      "label\n",
      "83.40646128904814\n",
      "            date_time   mock_date time_of_day part_of_day  time  bg_value id\n",
      "0 2021-12-07 08:52:00  2021-12-07    08:52:00     morning  7.58        68  a\n",
      "1 2021-12-07 08:57:00  2021-12-07    08:57:00     morning  7.67        71  a\n",
      "2 2021-12-07 09:02:00  2021-12-07    09:02:00     morning  7.75        73  a\n",
      "3 2021-12-07 09:07:00  2021-12-07    09:07:00     morning  7.83        71  a\n",
      "4 2021-12-07 09:12:00  2021-12-07    09:12:00     morning  7.92        73  a\n",
      "5 2021-12-07 09:17:00  2021-12-07    09:17:00     morning  8.00        81  a\n"
     ]
    },
    {
     "name": "stderr",
     "output_type": "stream",
     "text": [
      "100%|██████████| 1/1 [00:06<00:00,  6.50s/it]\n"
     ]
    },
    {
     "name": "stdout",
     "output_type": "stream",
     "text": [
      "bg_value__value_count__value_1_217\n",
      "bg_value__number_crossing_m__m_1_250\n",
      "label\n",
      "129.24647842474602\n",
      "            date_time   mock_date time_of_day part_of_day  time  bg_value id\n",
      "0 2021-12-07 08:57:00  2021-12-07    08:57:00     morning  7.67        71  a\n",
      "1 2021-12-07 09:02:00  2021-12-07    09:02:00     morning  7.75        73  a\n",
      "2 2021-12-07 09:07:00  2021-12-07    09:07:00     morning  7.83        71  a\n",
      "3 2021-12-07 09:12:00  2021-12-07    09:12:00     morning  7.92        73  a\n",
      "4 2021-12-07 09:17:00  2021-12-07    09:17:00     morning  8.00        81  a\n",
      "5 2021-12-07 09:22:00  2021-12-07    09:22:00     morning  8.08        91  a\n"
     ]
    },
    {
     "name": "stderr",
     "output_type": "stream",
     "text": [
      "100%|██████████| 1/1 [00:06<00:00,  6.69s/it]\n"
     ]
    },
    {
     "name": "stdout",
     "output_type": "stream",
     "text": [
      "bg_value__value_count__value_1_217\n",
      "bg_value__number_crossing_m__m_1_250\n",
      "label\n",
      "108.70278628834116\n",
      "            date_time   mock_date time_of_day part_of_day  time  bg_value id\n",
      "0 2021-12-07 09:02:00  2021-12-07    09:02:00     morning  7.75        73  a\n",
      "1 2021-12-07 09:07:00  2021-12-07    09:07:00     morning  7.83        71  a\n",
      "2 2021-12-07 09:12:00  2021-12-07    09:12:00     morning  7.92        73  a\n",
      "3 2021-12-07 09:17:00  2021-12-07    09:17:00     morning  8.00        81  a\n",
      "4 2021-12-07 09:22:00  2021-12-07    09:22:00     morning  8.08        91  a\n",
      "5 2021-12-07 09:27:00  2021-12-07    09:27:00     morning  8.17        90  a\n"
     ]
    },
    {
     "name": "stderr",
     "output_type": "stream",
     "text": [
      "100%|██████████| 1/1 [00:06<00:00,  6.74s/it]\n"
     ]
    },
    {
     "name": "stdout",
     "output_type": "stream",
     "text": [
      "bg_value__value_count__value_1_217\n",
      "bg_value__number_crossing_m__m_1_250\n",
      "label\n",
      "114.07760466045109\n",
      "            date_time   mock_date time_of_day part_of_day  time  bg_value id\n",
      "0 2021-12-07 09:07:00  2021-12-07    09:07:00     morning  7.83        71  a\n",
      "1 2021-12-07 09:12:00  2021-12-07    09:12:00     morning  7.92        73  a\n",
      "2 2021-12-07 09:17:00  2021-12-07    09:17:00     morning  8.00        81  a\n",
      "3 2021-12-07 09:22:00  2021-12-07    09:22:00     morning  8.08        91  a\n",
      "4 2021-12-07 09:27:00  2021-12-07    09:27:00     morning  8.17        90  a\n",
      "5 2021-12-07 09:32:00  2021-12-07    09:32:00     morning  8.25        75  a\n"
     ]
    },
    {
     "name": "stderr",
     "output_type": "stream",
     "text": [
      "100%|██████████| 1/1 [00:06<00:00,  6.67s/it]\n"
     ]
    },
    {
     "name": "stdout",
     "output_type": "stream",
     "text": [
      "bg_value__value_count__value_1_217\n",
      "bg_value__number_crossing_m__m_1_250\n",
      "label\n",
      "88.86101159630033\n",
      "            date_time   mock_date time_of_day part_of_day  time  bg_value id\n",
      "0 2021-12-07 09:12:00  2021-12-07    09:12:00     morning  7.92        73  a\n",
      "1 2021-12-07 09:17:00  2021-12-07    09:17:00     morning  8.00        81  a\n",
      "2 2021-12-07 09:22:00  2021-12-07    09:22:00     morning  8.08        91  a\n",
      "3 2021-12-07 09:27:00  2021-12-07    09:27:00     morning  8.17        90  a\n",
      "4 2021-12-07 09:32:00  2021-12-07    09:32:00     morning  8.25        75  a\n",
      "5 2021-12-07 09:37:00  2021-12-07    09:37:00     morning  8.33        70  a\n"
     ]
    },
    {
     "name": "stderr",
     "output_type": "stream",
     "text": [
      "100%|██████████| 1/1 [00:06<00:00,  6.55s/it]\n"
     ]
    },
    {
     "name": "stdout",
     "output_type": "stream",
     "text": [
      "bg_value__value_count__value_1_217\n",
      "bg_value__number_crossing_m__m_1_250\n",
      "label\n",
      "96.28083349277018\n",
      "            date_time   mock_date time_of_day part_of_day  time  bg_value id\n",
      "0 2021-12-07 09:17:00  2021-12-07    09:17:00     morning  8.00        81  a\n",
      "1 2021-12-07 09:22:00  2021-12-07    09:22:00     morning  8.08        91  a\n",
      "2 2021-12-07 09:27:00  2021-12-07    09:27:00     morning  8.17        90  a\n",
      "3 2021-12-07 09:32:00  2021-12-07    09:32:00     morning  8.25        75  a\n",
      "4 2021-12-07 09:37:00  2021-12-07    09:37:00     morning  8.33        70  a\n",
      "5 2021-12-07 09:42:00  2021-12-07    09:42:00     morning  8.42        70  a\n"
     ]
    },
    {
     "name": "stderr",
     "output_type": "stream",
     "text": [
      "100%|██████████| 1/1 [00:06<00:00,  6.43s/it]\n"
     ]
    },
    {
     "name": "stdout",
     "output_type": "stream",
     "text": [
      "bg_value__value_count__value_1_217\n",
      "bg_value__number_crossing_m__m_1_250\n",
      "label\n",
      "78.06358002750251\n",
      "            date_time   mock_date time_of_day part_of_day  time  bg_value id\n",
      "0 2021-12-07 09:22:00  2021-12-07    09:22:00     morning  8.08        91  a\n",
      "1 2021-12-07 09:27:00  2021-12-07    09:27:00     morning  8.17        90  a\n",
      "2 2021-12-07 09:32:00  2021-12-07    09:32:00     morning  8.25        75  a\n",
      "3 2021-12-07 09:37:00  2021-12-07    09:37:00     morning  8.33        70  a\n",
      "4 2021-12-07 09:42:00  2021-12-07    09:42:00     morning  8.42        70  a\n",
      "5 2021-12-07 09:47:00  2021-12-07    09:47:00     morning  8.50        68  a\n"
     ]
    },
    {
     "name": "stderr",
     "output_type": "stream",
     "text": [
      "100%|██████████| 1/1 [00:07<00:00,  7.25s/it]\n"
     ]
    },
    {
     "name": "stdout",
     "output_type": "stream",
     "text": [
      "bg_value__value_count__value_1_217\n",
      "bg_value__number_crossing_m__m_1_250\n",
      "label\n",
      "77.01211478065666\n",
      "            date_time   mock_date time_of_day part_of_day  time  bg_value id\n",
      "0 2021-12-07 09:27:00  2021-12-07    09:27:00     morning  8.17        90  a\n",
      "1 2021-12-07 09:32:00  2021-12-07    09:32:00     morning  8.25        75  a\n",
      "2 2021-12-07 09:37:00  2021-12-07    09:37:00     morning  8.33        70  a\n",
      "3 2021-12-07 09:42:00  2021-12-07    09:42:00     morning  8.42        70  a\n",
      "4 2021-12-07 09:47:00  2021-12-07    09:47:00     morning  8.50        68  a\n",
      "5 2021-12-07 09:52:00  2021-12-07    09:52:00     morning  8.58        68  a\n"
     ]
    },
    {
     "name": "stderr",
     "output_type": "stream",
     "text": [
      "100%|██████████| 1/1 [00:07<00:00,  7.58s/it]\n"
     ]
    },
    {
     "name": "stdout",
     "output_type": "stream",
     "text": [
      "bg_value__value_count__value_1_217\n",
      "bg_value__number_crossing_m__m_1_250\n",
      "label\n",
      "86.48188837922721\n",
      "            date_time   mock_date time_of_day part_of_day  time  bg_value id\n",
      "0 2021-12-07 09:32:00  2021-12-07    09:32:00     morning  8.25        75  a\n",
      "1 2021-12-07 09:37:00  2021-12-07    09:37:00     morning  8.33        70  a\n",
      "2 2021-12-07 09:42:00  2021-12-07    09:42:00     morning  8.42        70  a\n",
      "3 2021-12-07 09:47:00  2021-12-07    09:47:00     morning  8.50        68  a\n",
      "4 2021-12-07 09:52:00  2021-12-07    09:52:00     morning  8.58        68  a\n",
      "5 2021-12-07 09:57:00  2021-12-07    09:57:00     morning  8.67        66  a\n"
     ]
    },
    {
     "name": "stderr",
     "output_type": "stream",
     "text": [
      "100%|██████████| 1/1 [00:07<00:00,  7.57s/it]\n"
     ]
    },
    {
     "name": "stdout",
     "output_type": "stream",
     "text": [
      "bg_value__value_count__value_1_217\n",
      "bg_value__number_crossing_m__m_1_250\n",
      "label\n",
      "80.00331075705725\n",
      "            date_time   mock_date time_of_day part_of_day  time  bg_value id\n",
      "0 2021-12-07 09:37:00  2021-12-07    09:37:00     morning  8.33        70  a\n",
      "1 2021-12-07 09:42:00  2021-12-07    09:42:00     morning  8.42        70  a\n",
      "2 2021-12-07 09:47:00  2021-12-07    09:47:00     morning  8.50        68  a\n",
      "3 2021-12-07 09:52:00  2021-12-07    09:52:00     morning  8.58        68  a\n",
      "4 2021-12-07 09:57:00  2021-12-07    09:57:00     morning  8.67        66  a\n",
      "5 2021-12-07 10:02:00  2021-12-07    10:02:00     morning  8.75        64  a\n"
     ]
    },
    {
     "name": "stderr",
     "output_type": "stream",
     "text": [
      "100%|██████████| 1/1 [00:06<00:00,  6.42s/it]\n"
     ]
    },
    {
     "name": "stdout",
     "output_type": "stream",
     "text": [
      "bg_value__value_count__value_1_217\n",
      "bg_value__number_crossing_m__m_1_250\n",
      "label\n",
      "78.54189932022692\n",
      "            date_time   mock_date time_of_day part_of_day  time  bg_value id\n",
      "0 2021-12-07 09:42:00  2021-12-07    09:42:00     morning  8.42        70  a\n",
      "1 2021-12-07 09:47:00  2021-12-07    09:47:00     morning  8.50        68  a\n",
      "2 2021-12-07 09:52:00  2021-12-07    09:52:00     morning  8.58        68  a\n",
      "3 2021-12-07 09:57:00  2021-12-07    09:57:00     morning  8.67        66  a\n",
      "4 2021-12-07 10:02:00  2021-12-07    10:02:00     morning  8.75        64  a\n",
      "5 2021-12-07 10:07:00  2021-12-07    10:07:00     morning  8.83        63  a\n"
     ]
    },
    {
     "name": "stderr",
     "output_type": "stream",
     "text": [
      "100%|██████████| 1/1 [00:07<00:00,  7.42s/it]\n"
     ]
    },
    {
     "name": "stdout",
     "output_type": "stream",
     "text": [
      "bg_value__value_count__value_1_217\n",
      "bg_value__number_crossing_m__m_1_250\n",
      "label\n",
      "78.35853358594512\n",
      "            date_time   mock_date time_of_day part_of_day  time  bg_value id\n",
      "0 2021-12-07 09:47:00  2021-12-07    09:47:00     morning  8.50        68  a\n",
      "1 2021-12-07 09:52:00  2021-12-07    09:52:00     morning  8.58        68  a\n",
      "2 2021-12-07 09:57:00  2021-12-07    09:57:00     morning  8.67        66  a\n",
      "3 2021-12-07 10:02:00  2021-12-07    10:02:00     morning  8.75        64  a\n",
      "4 2021-12-07 10:07:00  2021-12-07    10:07:00     morning  8.83        63  a\n",
      "5 2021-12-07 10:12:00  2021-12-07    10:12:00     morning  8.92        66  a\n"
     ]
    },
    {
     "name": "stderr",
     "output_type": "stream",
     "text": [
      "100%|██████████| 1/1 [00:07<00:00,  7.56s/it]\n"
     ]
    },
    {
     "name": "stdout",
     "output_type": "stream",
     "text": [
      "bg_value__value_count__value_1_217\n",
      "bg_value__number_crossing_m__m_1_250\n",
      "label\n",
      "87.86932871498384\n",
      "            date_time   mock_date time_of_day part_of_day  time  bg_value id\n",
      "0 2021-12-07 09:52:00  2021-12-07    09:52:00     morning  8.58        68  a\n",
      "1 2021-12-07 09:57:00  2021-12-07    09:57:00     morning  8.67        66  a\n",
      "2 2021-12-07 10:02:00  2021-12-07    10:02:00     morning  8.75        64  a\n",
      "3 2021-12-07 10:07:00  2021-12-07    10:07:00     morning  8.83        63  a\n",
      "4 2021-12-07 10:12:00  2021-12-07    10:12:00     morning  8.92        66  a\n",
      "5 2021-12-07 10:17:00  2021-12-07    10:17:00     morning  9.00        67  a\n"
     ]
    },
    {
     "name": "stderr",
     "output_type": "stream",
     "text": [
      "100%|██████████| 1/1 [00:06<00:00,  6.59s/it]\n"
     ]
    },
    {
     "name": "stdout",
     "output_type": "stream",
     "text": [
      "bg_value__value_count__value_1_217\n",
      "bg_value__number_crossing_m__m_1_250\n",
      "label\n",
      "82.84484618681817\n",
      "            date_time   mock_date time_of_day part_of_day  time  bg_value id\n",
      "0 2021-12-07 09:57:00  2021-12-07    09:57:00     morning  8.67        66  a\n",
      "1 2021-12-07 10:02:00  2021-12-07    10:02:00     morning  8.75        64  a\n",
      "2 2021-12-07 10:07:00  2021-12-07    10:07:00     morning  8.83        63  a\n",
      "3 2021-12-07 10:12:00  2021-12-07    10:12:00     morning  8.92        66  a\n",
      "4 2021-12-07 10:17:00  2021-12-07    10:17:00     morning  9.00        67  a\n",
      "5 2021-12-07 10:22:00  2021-12-07    10:22:00     morning  9.08        69  a\n"
     ]
    },
    {
     "name": "stderr",
     "output_type": "stream",
     "text": [
      "100%|██████████| 1/1 [00:06<00:00,  6.54s/it]\n"
     ]
    },
    {
     "name": "stdout",
     "output_type": "stream",
     "text": [
      "bg_value__value_count__value_1_217\n",
      "bg_value__number_crossing_m__m_1_250\n",
      "label\n",
      "87.83691371244683\n",
      "            date_time   mock_date time_of_day part_of_day  time  bg_value id\n",
      "0 2021-12-07 10:02:00  2021-12-07    10:02:00     morning  8.75        64  a\n",
      "1 2021-12-07 10:07:00  2021-12-07    10:07:00     morning  8.83        63  a\n",
      "2 2021-12-07 10:12:00  2021-12-07    10:12:00     morning  8.92        66  a\n",
      "3 2021-12-07 10:17:00  2021-12-07    10:17:00     morning  9.00        67  a\n",
      "4 2021-12-07 10:22:00  2021-12-07    10:22:00     morning  9.08        69  a\n",
      "5 2021-12-07 10:27:00  2021-12-07    10:27:00     morning  9.17        70  a\n"
     ]
    },
    {
     "name": "stderr",
     "output_type": "stream",
     "text": [
      "100%|██████████| 1/1 [00:06<00:00,  6.18s/it]\n"
     ]
    },
    {
     "name": "stdout",
     "output_type": "stream",
     "text": [
      "bg_value__value_count__value_1_217\n",
      "bg_value__number_crossing_m__m_1_250\n",
      "label\n",
      "90.3099729998854\n",
      "            date_time   mock_date time_of_day part_of_day  time  bg_value id\n",
      "0 2021-12-07 10:07:00  2021-12-07    10:07:00     morning  8.83        63  a\n",
      "1 2021-12-07 10:12:00  2021-12-07    10:12:00     morning  8.92        66  a\n",
      "2 2021-12-07 10:17:00  2021-12-07    10:17:00     morning  9.00        67  a\n",
      "3 2021-12-07 10:22:00  2021-12-07    10:22:00     morning  9.08        69  a\n",
      "4 2021-12-07 10:27:00  2021-12-07    10:27:00     morning  9.17        70  a\n",
      "5 2021-12-07 10:32:00  2021-12-07    10:32:00     morning  9.25        71  a\n"
     ]
    },
    {
     "name": "stderr",
     "output_type": "stream",
     "text": [
      "100%|██████████| 1/1 [00:07<00:00,  7.00s/it]\n"
     ]
    },
    {
     "name": "stdout",
     "output_type": "stream",
     "text": [
      "bg_value__value_count__value_1_217\n",
      "bg_value__number_crossing_m__m_1_250\n",
      "label\n",
      "83.21597307572038\n",
      "            date_time   mock_date time_of_day part_of_day  time  bg_value id\n",
      "0 2021-12-07 10:12:00  2021-12-07    10:12:00     morning  8.92        66  a\n",
      "1 2021-12-07 10:17:00  2021-12-07    10:17:00     morning  9.00        67  a\n",
      "2 2021-12-07 10:22:00  2021-12-07    10:22:00     morning  9.08        69  a\n",
      "3 2021-12-07 10:27:00  2021-12-07    10:27:00     morning  9.17        70  a\n",
      "4 2021-12-07 10:32:00  2021-12-07    10:32:00     morning  9.25        71  a\n",
      "5 2021-12-07 10:37:00  2021-12-07    10:37:00     morning  9.33        75  a\n"
     ]
    },
    {
     "name": "stderr",
     "output_type": "stream",
     "text": [
      "100%|██████████| 1/1 [00:05<00:00,  5.87s/it]\n"
     ]
    },
    {
     "name": "stdout",
     "output_type": "stream",
     "text": [
      "bg_value__value_count__value_1_217\n",
      "bg_value__number_crossing_m__m_1_250\n",
      "label\n",
      "101.72691691102021\n",
      "            date_time   mock_date time_of_day part_of_day  time  bg_value id\n",
      "0 2021-12-07 10:17:00  2021-12-07    10:17:00     morning  9.00        67  a\n",
      "1 2021-12-07 10:22:00  2021-12-07    10:22:00     morning  9.08        69  a\n",
      "2 2021-12-07 10:27:00  2021-12-07    10:27:00     morning  9.17        70  a\n",
      "3 2021-12-07 10:32:00  2021-12-07    10:32:00     morning  9.25        71  a\n",
      "4 2021-12-07 10:37:00  2021-12-07    10:37:00     morning  9.33        75  a\n",
      "5 2021-12-07 10:42:00  2021-12-07    10:42:00     morning  9.42        74  a\n"
     ]
    },
    {
     "name": "stderr",
     "output_type": "stream",
     "text": [
      "100%|██████████| 1/1 [00:05<00:00,  5.70s/it]\n"
     ]
    },
    {
     "name": "stdout",
     "output_type": "stream",
     "text": [
      "bg_value__value_count__value_1_217\n",
      "bg_value__number_crossing_m__m_1_250\n",
      "label\n",
      "84.29771932189458\n",
      "            date_time   mock_date time_of_day part_of_day  time  bg_value id\n",
      "0 2021-12-07 10:22:00  2021-12-07    10:22:00     morning  9.08        69  a\n",
      "1 2021-12-07 10:27:00  2021-12-07    10:27:00     morning  9.17        70  a\n",
      "2 2021-12-07 10:32:00  2021-12-07    10:32:00     morning  9.25        71  a\n",
      "3 2021-12-07 10:37:00  2021-12-07    10:37:00     morning  9.33        75  a\n",
      "4 2021-12-07 10:42:00  2021-12-07    10:42:00     morning  9.42        74  a\n",
      "5 2021-12-07 10:47:00  2021-12-07    10:47:00     morning  9.50        76  a\n"
     ]
    },
    {
     "name": "stderr",
     "output_type": "stream",
     "text": [
      "100%|██████████| 1/1 [00:05<00:00,  5.81s/it]\n"
     ]
    },
    {
     "name": "stdout",
     "output_type": "stream",
     "text": [
      "bg_value__value_count__value_1_217\n",
      "bg_value__number_crossing_m__m_1_250\n",
      "label\n",
      "116.5429312287202\n",
      "            date_time   mock_date time_of_day part_of_day  time  bg_value id\n",
      "0 2021-12-07 10:27:00  2021-12-07    10:27:00     morning  9.17        70  a\n",
      "1 2021-12-07 10:32:00  2021-12-07    10:32:00     morning  9.25        71  a\n",
      "2 2021-12-07 10:37:00  2021-12-07    10:37:00     morning  9.33        75  a\n",
      "3 2021-12-07 10:42:00  2021-12-07    10:42:00     morning  9.42        74  a\n",
      "4 2021-12-07 10:47:00  2021-12-07    10:47:00     morning  9.50        76  a\n",
      "5 2021-12-07 10:52:00  2021-12-07    10:52:00     morning  9.58        79  a\n"
     ]
    },
    {
     "name": "stderr",
     "output_type": "stream",
     "text": [
      "100%|██████████| 1/1 [00:05<00:00,  5.91s/it]\n"
     ]
    },
    {
     "name": "stdout",
     "output_type": "stream",
     "text": [
      "bg_value__value_count__value_1_217\n",
      "bg_value__number_crossing_m__m_1_250\n",
      "label\n",
      "115.66404945869871\n",
      "            date_time   mock_date time_of_day part_of_day  time  bg_value id\n",
      "0 2021-12-07 10:32:00  2021-12-07    10:32:00     morning  9.25        71  a\n",
      "1 2021-12-07 10:37:00  2021-12-07    10:37:00     morning  9.33        75  a\n",
      "2 2021-12-07 10:42:00  2021-12-07    10:42:00     morning  9.42        74  a\n",
      "3 2021-12-07 10:47:00  2021-12-07    10:47:00     morning  9.50        76  a\n",
      "4 2021-12-07 10:52:00  2021-12-07    10:52:00     morning  9.58        79  a\n",
      "5 2021-12-07 10:57:00  2021-12-07    10:57:00     morning  9.67        80  a\n"
     ]
    },
    {
     "name": "stderr",
     "output_type": "stream",
     "text": [
      "100%|██████████| 1/1 [00:07<00:00,  7.36s/it]\n"
     ]
    },
    {
     "name": "stdout",
     "output_type": "stream",
     "text": [
      "bg_value__value_count__value_1_217\n",
      "bg_value__number_crossing_m__m_1_250\n",
      "label\n",
      "120.17832588807866\n",
      "            date_time   mock_date time_of_day part_of_day  time  bg_value id\n",
      "0 2021-12-07 10:37:00  2021-12-07    10:37:00     morning  9.33        75  a\n",
      "1 2021-12-07 10:42:00  2021-12-07    10:42:00     morning  9.42        74  a\n",
      "2 2021-12-07 10:47:00  2021-12-07    10:47:00     morning  9.50        76  a\n",
      "3 2021-12-07 10:52:00  2021-12-07    10:52:00     morning  9.58        79  a\n",
      "4 2021-12-07 10:57:00  2021-12-07    10:57:00     morning  9.67        80  a\n",
      "5 2021-12-07 11:02:00  2021-12-07    11:02:00     morning  9.75        92  a\n"
     ]
    },
    {
     "name": "stderr",
     "output_type": "stream",
     "text": [
      "100%|██████████| 1/1 [00:08<00:00,  8.03s/it]\n"
     ]
    },
    {
     "name": "stdout",
     "output_type": "stream",
     "text": [
      "bg_value__value_count__value_1_217\n",
      "bg_value__number_crossing_m__m_1_250\n",
      "label\n",
      "187.79456883742546\n",
      "            date_time   mock_date time_of_day part_of_day  time  bg_value id\n",
      "0 2021-12-07 10:42:00  2021-12-07    10:42:00     morning  9.42        74  a\n",
      "1 2021-12-07 10:47:00  2021-12-07    10:47:00     morning  9.50        76  a\n",
      "2 2021-12-07 10:52:00  2021-12-07    10:52:00     morning  9.58        79  a\n",
      "3 2021-12-07 10:57:00  2021-12-07    10:57:00     morning  9.67        80  a\n",
      "4 2021-12-07 11:02:00  2021-12-07    11:02:00     morning  9.75        92  a\n",
      "5 2021-12-07 11:07:00  2021-12-07    11:07:00     morning  9.83       147  a\n"
     ]
    },
    {
     "name": "stderr",
     "output_type": "stream",
     "text": [
      "100%|██████████| 1/1 [00:06<00:00,  6.42s/it]\n"
     ]
    },
    {
     "name": "stdout",
     "output_type": "stream",
     "text": [
      "bg_value__value_count__value_1_217\n",
      "bg_value__number_crossing_m__m_1_250\n",
      "label\n",
      "202.37450077964337\n",
      "            date_time   mock_date time_of_day part_of_day  time  bg_value id\n",
      "0 2021-12-07 10:47:00  2021-12-07    10:47:00     morning  9.50        76  a\n",
      "1 2021-12-07 10:52:00  2021-12-07    10:52:00     morning  9.58        79  a\n",
      "2 2021-12-07 10:57:00  2021-12-07    10:57:00     morning  9.67        80  a\n",
      "3 2021-12-07 11:02:00  2021-12-07    11:02:00     morning  9.75        92  a\n",
      "4 2021-12-07 11:07:00  2021-12-07    11:07:00     morning  9.83       147  a\n",
      "5 2021-12-07 11:12:00  2021-12-07    11:12:00     morning  9.92       166  a\n"
     ]
    },
    {
     "name": "stderr",
     "output_type": "stream",
     "text": [
      "100%|██████████| 1/1 [00:06<00:00,  6.08s/it]\n"
     ]
    },
    {
     "name": "stdout",
     "output_type": "stream",
     "text": [
      "bg_value__value_count__value_1_217\n",
      "bg_value__number_crossing_m__m_1_250\n",
      "label\n",
      "208.25034006358794\n",
      "            date_time   mock_date time_of_day part_of_day   time  bg_value id\n",
      "0 2021-12-07 10:52:00  2021-12-07    10:52:00     morning   9.58        79  a\n",
      "1 2021-12-07 10:57:00  2021-12-07    10:57:00     morning   9.67        80  a\n",
      "2 2021-12-07 11:02:00  2021-12-07    11:02:00     morning   9.75        92  a\n",
      "3 2021-12-07 11:07:00  2021-12-07    11:07:00     morning   9.83       147  a\n",
      "4 2021-12-07 11:12:00  2021-12-07    11:12:00     morning   9.92       166  a\n",
      "5 2021-12-07 11:17:00  2021-12-07    11:17:00     morning  10.00       213  a\n"
     ]
    },
    {
     "name": "stderr",
     "output_type": "stream",
     "text": [
      "100%|██████████| 1/1 [00:06<00:00,  6.15s/it]\n"
     ]
    },
    {
     "name": "stdout",
     "output_type": "stream",
     "text": [
      "bg_value__value_count__value_1_217\n",
      "bg_value__number_crossing_m__m_1_250\n",
      "label\n",
      "212.15791472836497\n",
      "            date_time   mock_date time_of_day part_of_day   time  bg_value id\n",
      "0 2021-12-07 10:57:00  2021-12-07    10:57:00     morning   9.67        80  a\n",
      "1 2021-12-07 11:02:00  2021-12-07    11:02:00     morning   9.75        92  a\n",
      "2 2021-12-07 11:07:00  2021-12-07    11:07:00     morning   9.83       147  a\n",
      "3 2021-12-07 11:12:00  2021-12-07    11:12:00     morning   9.92       166  a\n",
      "4 2021-12-07 11:17:00  2021-12-07    11:17:00     morning  10.00       213  a\n",
      "5 2021-12-07 11:22:00  2021-12-07    11:22:00     morning  10.08       235  a\n"
     ]
    },
    {
     "name": "stderr",
     "output_type": "stream",
     "text": [
      "100%|██████████| 1/1 [00:06<00:00,  6.29s/it]\n"
     ]
    },
    {
     "name": "stdout",
     "output_type": "stream",
     "text": [
      "bg_value__value_count__value_1_217\n",
      "bg_value__number_crossing_m__m_1_250\n",
      "label\n",
      "232.7889601684728\n",
      "            date_time   mock_date time_of_day part_of_day   time  bg_value id\n",
      "0 2021-12-07 11:02:00  2021-12-07    11:02:00     morning   9.75        92  a\n",
      "1 2021-12-07 11:07:00  2021-12-07    11:07:00     morning   9.83       147  a\n",
      "2 2021-12-07 11:12:00  2021-12-07    11:12:00     morning   9.92       166  a\n",
      "3 2021-12-07 11:17:00  2021-12-07    11:17:00     morning  10.00       213  a\n",
      "4 2021-12-07 11:22:00  2021-12-07    11:22:00     morning  10.08       235  a\n",
      "5 2021-12-07 11:27:00  2021-12-07    11:27:00     morning  10.17       240  a\n"
     ]
    },
    {
     "name": "stderr",
     "output_type": "stream",
     "text": [
      "100%|██████████| 1/1 [00:06<00:00,  6.79s/it]\n"
     ]
    },
    {
     "name": "stdout",
     "output_type": "stream",
     "text": [
      "bg_value__value_count__value_1_217\n",
      "bg_value__number_crossing_m__m_1_250\n",
      "label\n",
      "195.40777068449447\n",
      "            date_time   mock_date time_of_day part_of_day   time  bg_value id\n",
      "0 2021-12-07 11:07:00  2021-12-07    11:07:00     morning   9.83       147  a\n",
      "1 2021-12-07 11:12:00  2021-12-07    11:12:00     morning   9.92       166  a\n",
      "2 2021-12-07 11:17:00  2021-12-07    11:17:00     morning  10.00       213  a\n",
      "3 2021-12-07 11:22:00  2021-12-07    11:22:00     morning  10.08       235  a\n",
      "4 2021-12-07 11:27:00  2021-12-07    11:27:00     morning  10.17       240  a\n",
      "5 2021-12-07 11:32:00  2021-12-07    11:32:00     morning  10.25       232  a\n"
     ]
    },
    {
     "name": "stderr",
     "output_type": "stream",
     "text": [
      "100%|██████████| 1/1 [00:06<00:00,  6.36s/it]\n"
     ]
    },
    {
     "name": "stdout",
     "output_type": "stream",
     "text": [
      "bg_value__value_count__value_1_217\n",
      "bg_value__number_crossing_m__m_1_250\n",
      "label\n",
      "231.39574985192067\n",
      "            date_time   mock_date time_of_day part_of_day   time  bg_value id\n",
      "0 2021-12-07 11:12:00  2021-12-07    11:12:00     morning   9.92       166  a\n",
      "1 2021-12-07 11:17:00  2021-12-07    11:17:00     morning  10.00       213  a\n",
      "2 2021-12-07 11:22:00  2021-12-07    11:22:00     morning  10.08       235  a\n",
      "3 2021-12-07 11:27:00  2021-12-07    11:27:00     morning  10.17       240  a\n",
      "4 2021-12-07 11:32:00  2021-12-07    11:32:00     morning  10.25       232  a\n",
      "5 2021-12-07 11:37:00  2021-12-07    11:37:00     morning  10.33       221  a\n"
     ]
    },
    {
     "name": "stderr",
     "output_type": "stream",
     "text": [
      "100%|██████████| 1/1 [00:06<00:00,  6.86s/it]\n"
     ]
    },
    {
     "name": "stdout",
     "output_type": "stream",
     "text": [
      "bg_value__value_count__value_1_217\n",
      "bg_value__number_crossing_m__m_1_250\n",
      "label\n",
      "222.69562671805292\n",
      "            date_time   mock_date time_of_day part_of_day   time  bg_value id\n",
      "0 2021-12-07 11:17:00  2021-12-07    11:17:00     morning  10.00       213  a\n",
      "1 2021-12-07 11:22:00  2021-12-07    11:22:00     morning  10.08       235  a\n",
      "2 2021-12-07 11:27:00  2021-12-07    11:27:00     morning  10.17       240  a\n",
      "3 2021-12-07 11:32:00  2021-12-07    11:32:00     morning  10.25       232  a\n",
      "4 2021-12-07 11:37:00  2021-12-07    11:37:00     morning  10.33       221  a\n",
      "5 2021-12-07 11:42:00  2021-12-07    11:42:00     morning  10.42       206  a\n"
     ]
    },
    {
     "name": "stderr",
     "output_type": "stream",
     "text": [
      "100%|██████████| 1/1 [00:07<00:00,  7.27s/it]\n"
     ]
    },
    {
     "name": "stdout",
     "output_type": "stream",
     "text": [
      "bg_value__value_count__value_1_217\n",
      "bg_value__number_crossing_m__m_1_250\n",
      "label\n",
      "182.98085269283337\n",
      "            date_time   mock_date time_of_day part_of_day   time  bg_value id\n",
      "0 2021-12-07 11:22:00  2021-12-07    11:22:00     morning  10.08       235  a\n",
      "1 2021-12-07 11:27:00  2021-12-07    11:27:00     morning  10.17       240  a\n",
      "2 2021-12-07 11:32:00  2021-12-07    11:32:00     morning  10.25       232  a\n",
      "3 2021-12-07 11:37:00  2021-12-07    11:37:00     morning  10.33       221  a\n",
      "4 2021-12-07 11:42:00  2021-12-07    11:42:00     morning  10.42       206  a\n",
      "5 2021-12-07 11:47:00  2021-12-07    11:47:00     morning  10.50       194  a\n"
     ]
    },
    {
     "name": "stderr",
     "output_type": "stream",
     "text": [
      "100%|██████████| 1/1 [00:06<00:00,  6.57s/it]\n"
     ]
    },
    {
     "name": "stdout",
     "output_type": "stream",
     "text": [
      "bg_value__value_count__value_1_217\n",
      "bg_value__number_crossing_m__m_1_250\n",
      "label\n",
      "158.54653436034326\n",
      "            date_time   mock_date time_of_day part_of_day   time  bg_value id\n",
      "0 2021-12-07 11:27:00  2021-12-07    11:27:00     morning  10.17       240  a\n",
      "1 2021-12-07 11:32:00  2021-12-07    11:32:00     morning  10.25       232  a\n",
      "2 2021-12-07 11:37:00  2021-12-07    11:37:00     morning  10.33       221  a\n",
      "3 2021-12-07 11:42:00  2021-12-07    11:42:00     morning  10.42       206  a\n",
      "4 2021-12-07 11:47:00  2021-12-07    11:47:00     morning  10.50       194  a\n",
      "5 2021-12-07 11:52:00  2021-12-07    11:52:00     morning  10.58       185  a\n"
     ]
    },
    {
     "name": "stderr",
     "output_type": "stream",
     "text": [
      "100%|██████████| 1/1 [00:06<00:00,  6.18s/it]\n"
     ]
    },
    {
     "name": "stdout",
     "output_type": "stream",
     "text": [
      "bg_value__value_count__value_1_217\n",
      "bg_value__number_crossing_m__m_1_250\n",
      "label\n",
      "160.32434793453052\n",
      "            date_time   mock_date time_of_day part_of_day   time  bg_value id\n",
      "0 2021-12-07 11:32:00  2021-12-07    11:32:00     morning  10.25       232  a\n",
      "1 2021-12-07 11:37:00  2021-12-07    11:37:00     morning  10.33       221  a\n",
      "2 2021-12-07 11:42:00  2021-12-07    11:42:00     morning  10.42       206  a\n",
      "3 2021-12-07 11:47:00  2021-12-07    11:47:00     morning  10.50       194  a\n",
      "4 2021-12-07 11:52:00  2021-12-07    11:52:00     morning  10.58       185  a\n",
      "5 2021-12-07 11:57:00  2021-12-07    11:57:00     morning  10.67       178  a\n"
     ]
    },
    {
     "name": "stderr",
     "output_type": "stream",
     "text": [
      "100%|██████████| 1/1 [00:06<00:00,  6.42s/it]\n"
     ]
    },
    {
     "name": "stdout",
     "output_type": "stream",
     "text": [
      "bg_value__value_count__value_1_217\n",
      "bg_value__number_crossing_m__m_1_250\n",
      "label\n",
      "163.56153950192893\n",
      "            date_time   mock_date time_of_day part_of_day   time  bg_value id\n",
      "0 2021-12-07 11:37:00  2021-12-07    11:37:00     morning  10.33       221  a\n",
      "1 2021-12-07 11:42:00  2021-12-07    11:42:00     morning  10.42       206  a\n",
      "2 2021-12-07 11:47:00  2021-12-07    11:47:00     morning  10.50       194  a\n",
      "3 2021-12-07 11:52:00  2021-12-07    11:52:00     morning  10.58       185  a\n",
      "4 2021-12-07 11:57:00  2021-12-07    11:57:00     morning  10.67       178  a\n",
      "5 2021-12-07 12:02:00  2021-12-07    12:02:00   afternoon  10.75       178  a\n"
     ]
    },
    {
     "name": "stderr",
     "output_type": "stream",
     "text": [
      "100%|██████████| 1/1 [00:06<00:00,  6.45s/it]\n"
     ]
    },
    {
     "name": "stdout",
     "output_type": "stream",
     "text": [
      "bg_value__value_count__value_1_217\n",
      "bg_value__number_crossing_m__m_1_250\n",
      "label\n",
      "169.57913361577693\n",
      "            date_time   mock_date time_of_day part_of_day   time  bg_value id\n",
      "0 2021-12-07 11:42:00  2021-12-07    11:42:00     morning  10.42       206  a\n",
      "1 2021-12-07 11:47:00  2021-12-07    11:47:00     morning  10.50       194  a\n",
      "2 2021-12-07 11:52:00  2021-12-07    11:52:00     morning  10.58       185  a\n",
      "3 2021-12-07 11:57:00  2021-12-07    11:57:00     morning  10.67       178  a\n",
      "4 2021-12-07 12:02:00  2021-12-07    12:02:00   afternoon  10.75       178  a\n",
      "5 2021-12-07 12:07:00  2021-12-07    12:07:00   afternoon  10.83       176  a\n"
     ]
    },
    {
     "name": "stderr",
     "output_type": "stream",
     "text": [
      "100%|██████████| 1/1 [00:06<00:00,  6.53s/it]\n"
     ]
    },
    {
     "name": "stdout",
     "output_type": "stream",
     "text": [
      "bg_value__value_count__value_1_217\n",
      "bg_value__number_crossing_m__m_1_250\n",
      "label\n",
      "172.37910253031765\n",
      "            date_time   mock_date time_of_day part_of_day   time  bg_value id\n",
      "0 2021-12-07 11:47:00  2021-12-07    11:47:00     morning  10.50       194  a\n",
      "1 2021-12-07 11:52:00  2021-12-07    11:52:00     morning  10.58       185  a\n",
      "2 2021-12-07 11:57:00  2021-12-07    11:57:00     morning  10.67       178  a\n",
      "3 2021-12-07 12:02:00  2021-12-07    12:02:00   afternoon  10.75       178  a\n",
      "4 2021-12-07 12:07:00  2021-12-07    12:07:00   afternoon  10.83       176  a\n",
      "5 2021-12-07 12:12:00  2021-12-07    12:12:00   afternoon  10.92       172  a\n"
     ]
    },
    {
     "name": "stderr",
     "output_type": "stream",
     "text": [
      "100%|██████████| 1/1 [00:06<00:00,  6.55s/it]\n"
     ]
    },
    {
     "name": "stdout",
     "output_type": "stream",
     "text": [
      "bg_value__value_count__value_1_217\n",
      "bg_value__number_crossing_m__m_1_250\n",
      "label\n",
      "166.185592932618\n",
      "            date_time   mock_date time_of_day part_of_day   time  bg_value id\n",
      "0 2021-12-07 11:52:00  2021-12-07    11:52:00     morning  10.58       185  a\n",
      "1 2021-12-07 11:57:00  2021-12-07    11:57:00     morning  10.67       178  a\n",
      "2 2021-12-07 12:02:00  2021-12-07    12:02:00   afternoon  10.75       178  a\n",
      "3 2021-12-07 12:07:00  2021-12-07    12:07:00   afternoon  10.83       176  a\n",
      "4 2021-12-07 12:12:00  2021-12-07    12:12:00   afternoon  10.92       172  a\n",
      "5 2021-12-07 12:17:00  2021-12-07    12:17:00   afternoon  11.00       174  a\n"
     ]
    },
    {
     "name": "stderr",
     "output_type": "stream",
     "text": [
      "100%|██████████| 1/1 [00:07<00:00,  7.52s/it]\n"
     ]
    },
    {
     "name": "stdout",
     "output_type": "stream",
     "text": [
      "bg_value__value_count__value_1_217\n",
      "bg_value__number_crossing_m__m_1_250\n",
      "label\n",
      "174.80272782419826\n",
      "            date_time   mock_date time_of_day part_of_day   time  bg_value id\n",
      "0 2021-12-07 11:57:00  2021-12-07    11:57:00     morning  10.67       178  a\n",
      "1 2021-12-07 12:02:00  2021-12-07    12:02:00   afternoon  10.75       178  a\n",
      "2 2021-12-07 12:07:00  2021-12-07    12:07:00   afternoon  10.83       176  a\n",
      "3 2021-12-07 12:12:00  2021-12-07    12:12:00   afternoon  10.92       172  a\n",
      "4 2021-12-07 12:17:00  2021-12-07    12:17:00   afternoon  11.00       174  a\n",
      "5 2021-12-07 12:22:00  2021-12-07    12:22:00   afternoon  11.08       195  a\n"
     ]
    },
    {
     "name": "stderr",
     "output_type": "stream",
     "text": [
      "100%|██████████| 1/1 [00:06<00:00,  6.13s/it]\n"
     ]
    },
    {
     "name": "stdout",
     "output_type": "stream",
     "text": [
      "bg_value__value_count__value_1_217\n",
      "bg_value__number_crossing_m__m_1_250\n",
      "label\n",
      "234.1089378498309\n",
      "            date_time   mock_date time_of_day part_of_day   time  bg_value id\n",
      "0 2021-12-07 12:02:00  2021-12-07    12:02:00   afternoon  10.75       178  a\n",
      "1 2021-12-07 12:07:00  2021-12-07    12:07:00   afternoon  10.83       176  a\n",
      "2 2021-12-07 12:12:00  2021-12-07    12:12:00   afternoon  10.92       172  a\n",
      "3 2021-12-07 12:17:00  2021-12-07    12:17:00   afternoon  11.00       174  a\n",
      "4 2021-12-07 12:22:00  2021-12-07    12:22:00   afternoon  11.08       195  a\n",
      "5 2021-12-07 12:27:00  2021-12-07    12:27:00   afternoon  11.17       193  a\n"
     ]
    },
    {
     "name": "stderr",
     "output_type": "stream",
     "text": [
      "100%|██████████| 1/1 [00:06<00:00,  6.22s/it]\n"
     ]
    },
    {
     "name": "stdout",
     "output_type": "stream",
     "text": [
      "bg_value__value_count__value_1_217\n",
      "bg_value__number_crossing_m__m_1_250\n",
      "label\n",
      "212.57207331202093\n",
      "            date_time   mock_date time_of_day part_of_day   time  bg_value id\n",
      "0 2021-12-07 12:07:00  2021-12-07    12:07:00   afternoon  10.83       176  a\n",
      "1 2021-12-07 12:12:00  2021-12-07    12:12:00   afternoon  10.92       172  a\n",
      "2 2021-12-07 12:17:00  2021-12-07    12:17:00   afternoon  11.00       174  a\n",
      "3 2021-12-07 12:22:00  2021-12-07    12:22:00   afternoon  11.08       195  a\n",
      "4 2021-12-07 12:27:00  2021-12-07    12:27:00   afternoon  11.17       193  a\n",
      "5 2021-12-07 12:32:00  2021-12-07    12:32:00   afternoon  11.25       192  a\n"
     ]
    },
    {
     "name": "stderr",
     "output_type": "stream",
     "text": [
      "100%|██████████| 1/1 [00:06<00:00,  6.12s/it]\n"
     ]
    },
    {
     "name": "stdout",
     "output_type": "stream",
     "text": [
      "bg_value__value_count__value_1_217\n",
      "bg_value__number_crossing_m__m_1_250\n",
      "label\n",
      "216.48543530066598\n",
      "            date_time   mock_date time_of_day part_of_day   time  bg_value id\n",
      "0 2021-12-07 12:12:00  2021-12-07    12:12:00   afternoon  10.92       172  a\n",
      "1 2021-12-07 12:17:00  2021-12-07    12:17:00   afternoon  11.00       174  a\n",
      "2 2021-12-07 12:22:00  2021-12-07    12:22:00   afternoon  11.08       195  a\n",
      "3 2021-12-07 12:27:00  2021-12-07    12:27:00   afternoon  11.17       193  a\n",
      "4 2021-12-07 12:32:00  2021-12-07    12:32:00   afternoon  11.25       192  a\n",
      "5 2021-12-07 12:37:00  2021-12-07    12:37:00   afternoon  11.33       201  a\n"
     ]
    },
    {
     "name": "stderr",
     "output_type": "stream",
     "text": [
      "100%|██████████| 1/1 [00:06<00:00,  6.22s/it]\n"
     ]
    },
    {
     "name": "stdout",
     "output_type": "stream",
     "text": [
      "bg_value__value_count__value_1_217\n",
      "bg_value__number_crossing_m__m_1_250\n",
      "label\n",
      "221.7206114792146\n",
      "            date_time   mock_date time_of_day part_of_day   time  bg_value id\n",
      "0 2021-12-07 12:17:00  2021-12-07    12:17:00   afternoon  11.00       174  a\n",
      "1 2021-12-07 12:22:00  2021-12-07    12:22:00   afternoon  11.08       195  a\n",
      "2 2021-12-07 12:27:00  2021-12-07    12:27:00   afternoon  11.17       193  a\n",
      "3 2021-12-07 12:32:00  2021-12-07    12:32:00   afternoon  11.25       192  a\n",
      "4 2021-12-07 12:37:00  2021-12-07    12:37:00   afternoon  11.33       201  a\n",
      "5 2021-12-07 12:42:00  2021-12-07    12:42:00   afternoon  11.42       212  a\n"
     ]
    },
    {
     "name": "stderr",
     "output_type": "stream",
     "text": [
      "100%|██████████| 1/1 [00:06<00:00,  6.76s/it]\n"
     ]
    },
    {
     "name": "stdout",
     "output_type": "stream",
     "text": [
      "bg_value__value_count__value_1_217\n",
      "bg_value__number_crossing_m__m_1_250\n",
      "label\n",
      "242.43206077544784\n",
      "            date_time   mock_date time_of_day part_of_day   time  bg_value id\n",
      "0 2021-12-07 12:22:00  2021-12-07    12:22:00   afternoon  11.08       195  a\n",
      "1 2021-12-07 12:27:00  2021-12-07    12:27:00   afternoon  11.17       193  a\n",
      "2 2021-12-07 12:32:00  2021-12-07    12:32:00   afternoon  11.25       192  a\n",
      "3 2021-12-07 12:37:00  2021-12-07    12:37:00   afternoon  11.33       201  a\n",
      "4 2021-12-07 12:42:00  2021-12-07    12:42:00   afternoon  11.42       212  a\n",
      "5 2021-12-07 12:47:00  2021-12-07    12:47:00   afternoon  11.50       226  a\n"
     ]
    },
    {
     "name": "stderr",
     "output_type": "stream",
     "text": [
      "100%|██████████| 1/1 [00:06<00:00,  6.42s/it]\n"
     ]
    },
    {
     "name": "stdout",
     "output_type": "stream",
     "text": [
      "bg_value__value_count__value_1_217\n",
      "bg_value__number_crossing_m__m_1_250\n",
      "label\n",
      "237.63181271051857\n",
      "            date_time   mock_date time_of_day part_of_day   time  bg_value id\n",
      "0 2021-12-07 12:27:00  2021-12-07    12:27:00   afternoon  11.17       193  a\n",
      "1 2021-12-07 12:32:00  2021-12-07    12:32:00   afternoon  11.25       192  a\n",
      "2 2021-12-07 12:37:00  2021-12-07    12:37:00   afternoon  11.33       201  a\n",
      "3 2021-12-07 12:42:00  2021-12-07    12:42:00   afternoon  11.42       212  a\n",
      "4 2021-12-07 12:47:00  2021-12-07    12:47:00   afternoon  11.50       226  a\n",
      "5 2021-12-07 12:52:00  2021-12-07    12:52:00   afternoon  11.58       243  a\n"
     ]
    },
    {
     "name": "stderr",
     "output_type": "stream",
     "text": [
      "100%|██████████| 1/1 [00:06<00:00,  6.12s/it]\n"
     ]
    },
    {
     "name": "stdout",
     "output_type": "stream",
     "text": [
      "bg_value__value_count__value_1_217\n",
      "bg_value__number_crossing_m__m_1_250\n",
      "label\n",
      "248.39885635371164\n",
      "            date_time   mock_date time_of_day part_of_day   time  bg_value id\n",
      "0 2021-12-07 12:32:00  2021-12-07    12:32:00   afternoon  11.25       192  a\n",
      "1 2021-12-07 12:37:00  2021-12-07    12:37:00   afternoon  11.33       201  a\n",
      "2 2021-12-07 12:42:00  2021-12-07    12:42:00   afternoon  11.42       212  a\n",
      "3 2021-12-07 12:47:00  2021-12-07    12:47:00   afternoon  11.50       226  a\n",
      "4 2021-12-07 12:52:00  2021-12-07    12:52:00   afternoon  11.58       243  a\n",
      "5 2021-12-07 12:57:00  2021-12-07    12:57:00   afternoon  11.67       240  a\n"
     ]
    },
    {
     "name": "stderr",
     "output_type": "stream",
     "text": [
      "100%|██████████| 1/1 [00:06<00:00,  6.06s/it]\n"
     ]
    },
    {
     "name": "stdout",
     "output_type": "stream",
     "text": [
      "bg_value__value_count__value_1_217\n",
      "bg_value__number_crossing_m__m_1_250\n",
      "label\n",
      "247.8594703387577\n",
      "            date_time   mock_date time_of_day part_of_day   time  bg_value id\n",
      "0 2021-12-07 12:37:00  2021-12-07    12:37:00   afternoon  11.33       201  a\n",
      "1 2021-12-07 12:42:00  2021-12-07    12:42:00   afternoon  11.42       212  a\n",
      "2 2021-12-07 12:47:00  2021-12-07    12:47:00   afternoon  11.50       226  a\n",
      "3 2021-12-07 12:52:00  2021-12-07    12:52:00   afternoon  11.58       243  a\n",
      "4 2021-12-07 12:57:00  2021-12-07    12:57:00   afternoon  11.67       240  a\n",
      "5 2021-12-07 13:02:00  2021-12-07    13:02:00   afternoon  11.75       229  a\n"
     ]
    },
    {
     "name": "stderr",
     "output_type": "stream",
     "text": [
      "100%|██████████| 1/1 [00:06<00:00,  6.25s/it]\n"
     ]
    },
    {
     "name": "stdout",
     "output_type": "stream",
     "text": [
      "bg_value__value_count__value_1_217\n",
      "bg_value__number_crossing_m__m_1_250\n",
      "label\n",
      "198.99304357203926\n",
      "            date_time   mock_date time_of_day part_of_day   time  bg_value id\n",
      "0 2021-12-07 12:42:00  2021-12-07    12:42:00   afternoon  11.42       212  a\n",
      "1 2021-12-07 12:47:00  2021-12-07    12:47:00   afternoon  11.50       226  a\n",
      "2 2021-12-07 12:52:00  2021-12-07    12:52:00   afternoon  11.58       243  a\n",
      "3 2021-12-07 12:57:00  2021-12-07    12:57:00   afternoon  11.67       240  a\n",
      "4 2021-12-07 13:02:00  2021-12-07    13:02:00   afternoon  11.75       229  a\n",
      "5 2021-12-07 13:07:00  2021-12-07    13:07:00   afternoon  11.83       223  a\n"
     ]
    },
    {
     "name": "stderr",
     "output_type": "stream",
     "text": [
      "100%|██████████| 1/1 [00:06<00:00,  6.10s/it]\n"
     ]
    },
    {
     "name": "stdout",
     "output_type": "stream",
     "text": [
      "bg_value__value_count__value_1_217\n",
      "bg_value__number_crossing_m__m_1_250\n",
      "label\n",
      "196.165914768119\n",
      "            date_time   mock_date time_of_day part_of_day   time  bg_value id\n",
      "0 2021-12-07 12:47:00  2021-12-07    12:47:00   afternoon  11.50       226  a\n",
      "1 2021-12-07 12:52:00  2021-12-07    12:52:00   afternoon  11.58       243  a\n",
      "2 2021-12-07 12:57:00  2021-12-07    12:57:00   afternoon  11.67       240  a\n",
      "3 2021-12-07 13:02:00  2021-12-07    13:02:00   afternoon  11.75       229  a\n",
      "4 2021-12-07 13:07:00  2021-12-07    13:07:00   afternoon  11.83       223  a\n",
      "5 2021-12-07 13:12:00  2021-12-07    13:12:00   afternoon  11.92       214  a\n"
     ]
    },
    {
     "name": "stderr",
     "output_type": "stream",
     "text": [
      "100%|██████████| 1/1 [00:06<00:00,  6.17s/it]\n"
     ]
    },
    {
     "name": "stdout",
     "output_type": "stream",
     "text": [
      "bg_value__value_count__value_1_217\n",
      "bg_value__number_crossing_m__m_1_250\n",
      "label\n",
      "201.26739540928205\n",
      "            date_time   mock_date time_of_day part_of_day   time  bg_value id\n",
      "0 2021-12-07 12:52:00  2021-12-07    12:52:00   afternoon  11.58       243  a\n",
      "1 2021-12-07 12:57:00  2021-12-07    12:57:00   afternoon  11.67       240  a\n",
      "2 2021-12-07 13:02:00  2021-12-07    13:02:00   afternoon  11.75       229  a\n",
      "3 2021-12-07 13:07:00  2021-12-07    13:07:00   afternoon  11.83       223  a\n",
      "4 2021-12-07 13:12:00  2021-12-07    13:12:00   afternoon  11.92       214  a\n",
      "5 2021-12-07 13:17:00  2021-12-07    13:17:00   afternoon  12.00       210  a\n"
     ]
    },
    {
     "name": "stderr",
     "output_type": "stream",
     "text": [
      "100%|██████████| 1/1 [00:06<00:00,  6.23s/it]\n"
     ]
    },
    {
     "name": "stdout",
     "output_type": "stream",
     "text": [
      "bg_value__value_count__value_1_217\n",
      "bg_value__number_crossing_m__m_1_250\n",
      "label\n",
      "187.0083711049787\n",
      "            date_time   mock_date time_of_day part_of_day   time  bg_value id\n",
      "0 2021-12-07 12:57:00  2021-12-07    12:57:00   afternoon  11.67       240  a\n",
      "1 2021-12-07 13:02:00  2021-12-07    13:02:00   afternoon  11.75       229  a\n",
      "2 2021-12-07 13:07:00  2021-12-07    13:07:00   afternoon  11.83       223  a\n",
      "3 2021-12-07 13:12:00  2021-12-07    13:12:00   afternoon  11.92       214  a\n",
      "4 2021-12-07 13:17:00  2021-12-07    13:17:00   afternoon  12.00       210  a\n",
      "5 2021-12-07 13:22:00  2021-12-07    13:22:00   afternoon  12.08       206  a\n"
     ]
    },
    {
     "name": "stderr",
     "output_type": "stream",
     "text": [
      "100%|██████████| 1/1 [00:06<00:00,  6.24s/it]\n"
     ]
    },
    {
     "name": "stdout",
     "output_type": "stream",
     "text": [
      "bg_value__value_count__value_1_217\n",
      "bg_value__number_crossing_m__m_1_250\n",
      "label\n",
      "185.64329006848604\n",
      "            date_time   mock_date time_of_day part_of_day   time  bg_value id\n",
      "0 2021-12-07 13:02:00  2021-12-07    13:02:00   afternoon  11.75       229  a\n",
      "1 2021-12-07 13:07:00  2021-12-07    13:07:00   afternoon  11.83       223  a\n",
      "2 2021-12-07 13:12:00  2021-12-07    13:12:00   afternoon  11.92       214  a\n",
      "3 2021-12-07 13:17:00  2021-12-07    13:17:00   afternoon  12.00       210  a\n",
      "4 2021-12-07 13:22:00  2021-12-07    13:22:00   afternoon  12.08       206  a\n",
      "5 2021-12-07 13:27:00  2021-12-07    13:27:00   afternoon  12.17       196  a\n"
     ]
    },
    {
     "name": "stderr",
     "output_type": "stream",
     "text": [
      "100%|██████████| 1/1 [00:06<00:00,  6.19s/it]\n"
     ]
    },
    {
     "name": "stdout",
     "output_type": "stream",
     "text": [
      "bg_value__value_count__value_1_217\n",
      "bg_value__number_crossing_m__m_1_250\n",
      "label\n",
      "164.96526431353857\n",
      "            date_time   mock_date time_of_day part_of_day   time  bg_value id\n",
      "0 2021-12-07 13:07:00  2021-12-07    13:07:00   afternoon  11.83       223  a\n",
      "1 2021-12-07 13:12:00  2021-12-07    13:12:00   afternoon  11.92       214  a\n",
      "2 2021-12-07 13:17:00  2021-12-07    13:17:00   afternoon  12.00       210  a\n",
      "3 2021-12-07 13:22:00  2021-12-07    13:22:00   afternoon  12.08       206  a\n",
      "4 2021-12-07 13:27:00  2021-12-07    13:27:00   afternoon  12.17       196  a\n",
      "5 2021-12-07 13:32:00  2021-12-07    13:32:00   afternoon  12.25       181  a\n"
     ]
    },
    {
     "name": "stderr",
     "output_type": "stream",
     "text": [
      "100%|██████████| 1/1 [00:06<00:00,  6.35s/it]\n"
     ]
    },
    {
     "name": "stdout",
     "output_type": "stream",
     "text": [
      "bg_value__value_count__value_1_217\n",
      "bg_value__number_crossing_m__m_1_250\n",
      "label\n",
      "157.59575249514788\n",
      "            date_time   mock_date time_of_day part_of_day   time  bg_value id\n",
      "0 2021-12-07 13:12:00  2021-12-07    13:12:00   afternoon  11.92       214  a\n",
      "1 2021-12-07 13:17:00  2021-12-07    13:17:00   afternoon  12.00       210  a\n",
      "2 2021-12-07 13:22:00  2021-12-07    13:22:00   afternoon  12.08       206  a\n",
      "3 2021-12-07 13:27:00  2021-12-07    13:27:00   afternoon  12.17       196  a\n",
      "4 2021-12-07 13:32:00  2021-12-07    13:32:00   afternoon  12.25       181  a\n",
      "5 2021-12-07 13:37:00  2021-12-07    13:37:00   afternoon  12.33       220  a\n"
     ]
    },
    {
     "name": "stderr",
     "output_type": "stream",
     "text": [
      "100%|██████████| 1/1 [00:06<00:00,  6.26s/it]\n"
     ]
    },
    {
     "name": "stdout",
     "output_type": "stream",
     "text": [
      "bg_value__value_count__value_1_217\n",
      "bg_value__number_crossing_m__m_1_250\n",
      "label\n",
      "167.3694121298944\n",
      "            date_time   mock_date time_of_day part_of_day   time  bg_value id\n",
      "0 2021-12-07 13:17:00  2021-12-07    13:17:00   afternoon  12.00       210  a\n",
      "1 2021-12-07 13:22:00  2021-12-07    13:22:00   afternoon  12.08       206  a\n",
      "2 2021-12-07 13:27:00  2021-12-07    13:27:00   afternoon  12.17       196  a\n",
      "3 2021-12-07 13:32:00  2021-12-07    13:32:00   afternoon  12.25       181  a\n",
      "4 2021-12-07 13:37:00  2021-12-07    13:37:00   afternoon  12.33       220  a\n",
      "5 2021-12-07 13:42:00  2021-12-07    13:42:00   afternoon  12.42       220  a\n"
     ]
    },
    {
     "name": "stderr",
     "output_type": "stream",
     "text": [
      "100%|██████████| 1/1 [00:06<00:00,  6.02s/it]\n"
     ]
    },
    {
     "name": "stdout",
     "output_type": "stream",
     "text": [
      "bg_value__value_count__value_1_217\n",
      "bg_value__number_crossing_m__m_1_250\n",
      "label\n",
      "155.98058262360252\n",
      "            date_time   mock_date time_of_day part_of_day   time  bg_value id\n",
      "0 2021-12-07 13:22:00  2021-12-07    13:22:00   afternoon  12.08       206  a\n",
      "1 2021-12-07 13:27:00  2021-12-07    13:27:00   afternoon  12.17       196  a\n",
      "2 2021-12-07 13:32:00  2021-12-07    13:32:00   afternoon  12.25       181  a\n",
      "3 2021-12-07 13:37:00  2021-12-07    13:37:00   afternoon  12.33       220  a\n",
      "4 2021-12-07 13:42:00  2021-12-07    13:42:00   afternoon  12.42       220  a\n",
      "5 2021-12-07 13:47:00  2021-12-07    13:47:00   afternoon  12.50       210  a\n"
     ]
    },
    {
     "name": "stderr",
     "output_type": "stream",
     "text": [
      "100%|██████████| 1/1 [00:06<00:00,  6.03s/it]\n"
     ]
    },
    {
     "name": "stdout",
     "output_type": "stream",
     "text": [
      "bg_value__value_count__value_1_217\n",
      "bg_value__number_crossing_m__m_1_250\n",
      "label\n",
      "153.10396840372866\n",
      "            date_time   mock_date time_of_day part_of_day   time  bg_value id\n",
      "0 2021-12-07 13:27:00  2021-12-07    13:27:00   afternoon  12.17       196  a\n",
      "1 2021-12-07 13:32:00  2021-12-07    13:32:00   afternoon  12.25       181  a\n",
      "2 2021-12-07 13:37:00  2021-12-07    13:37:00   afternoon  12.33       220  a\n",
      "3 2021-12-07 13:42:00  2021-12-07    13:42:00   afternoon  12.42       220  a\n",
      "4 2021-12-07 13:47:00  2021-12-07    13:47:00   afternoon  12.50       210  a\n",
      "5 2021-12-07 13:52:00  2021-12-07    13:52:00   afternoon  12.58       192  a\n"
     ]
    },
    {
     "name": "stderr",
     "output_type": "stream",
     "text": [
      "100%|██████████| 1/1 [00:06<00:00,  6.16s/it]\n"
     ]
    },
    {
     "name": "stdout",
     "output_type": "stream",
     "text": [
      "bg_value__value_count__value_1_217\n",
      "bg_value__number_crossing_m__m_1_250\n",
      "label\n",
      "194.40849495403134\n",
      "            date_time   mock_date time_of_day part_of_day   time  bg_value id\n",
      "0 2021-12-07 13:32:00  2021-12-07    13:32:00   afternoon  12.25       181  a\n",
      "1 2021-12-07 13:37:00  2021-12-07    13:37:00   afternoon  12.33       220  a\n",
      "2 2021-12-07 13:42:00  2021-12-07    13:42:00   afternoon  12.42       220  a\n",
      "3 2021-12-07 13:47:00  2021-12-07    13:47:00   afternoon  12.50       210  a\n",
      "4 2021-12-07 13:52:00  2021-12-07    13:52:00   afternoon  12.58       192  a\n",
      "5 2021-12-07 13:57:00  2021-12-07    13:57:00   afternoon  12.67       183  a\n"
     ]
    },
    {
     "name": "stderr",
     "output_type": "stream",
     "text": [
      "100%|██████████| 1/1 [00:07<00:00,  7.16s/it]\n"
     ]
    },
    {
     "name": "stdout",
     "output_type": "stream",
     "text": [
      "bg_value__value_count__value_1_217\n",
      "bg_value__number_crossing_m__m_1_250\n",
      "label\n",
      "150.09390718049522\n",
      "            date_time   mock_date time_of_day part_of_day   time  bg_value id\n",
      "0 2021-12-07 13:37:00  2021-12-07    13:37:00   afternoon  12.33       220  a\n",
      "1 2021-12-07 13:42:00  2021-12-07    13:42:00   afternoon  12.42       220  a\n",
      "2 2021-12-07 13:47:00  2021-12-07    13:47:00   afternoon  12.50       210  a\n",
      "3 2021-12-07 13:52:00  2021-12-07    13:52:00   afternoon  12.58       192  a\n",
      "4 2021-12-07 13:57:00  2021-12-07    13:57:00   afternoon  12.67       183  a\n",
      "5 2021-12-07 14:02:00  2021-12-07    14:02:00   afternoon  12.75       175  a\n"
     ]
    },
    {
     "name": "stderr",
     "output_type": "stream",
     "text": [
      "100%|██████████| 1/1 [00:06<00:00,  6.11s/it]\n"
     ]
    },
    {
     "name": "stdout",
     "output_type": "stream",
     "text": [
      "bg_value__value_count__value_1_217\n",
      "bg_value__number_crossing_m__m_1_250\n",
      "label\n",
      "151.05348622132416\n",
      "            date_time   mock_date time_of_day part_of_day   time  bg_value id\n",
      "0 2021-12-07 13:42:00  2021-12-07    13:42:00   afternoon  12.42       220  a\n",
      "1 2021-12-07 13:47:00  2021-12-07    13:47:00   afternoon  12.50       210  a\n",
      "2 2021-12-07 13:52:00  2021-12-07    13:52:00   afternoon  12.58       192  a\n",
      "3 2021-12-07 13:57:00  2021-12-07    13:57:00   afternoon  12.67       183  a\n",
      "4 2021-12-07 14:02:00  2021-12-07    14:02:00   afternoon  12.75       175  a\n",
      "5 2021-12-07 14:07:00  2021-12-07    14:07:00   afternoon  12.83       162  a\n"
     ]
    },
    {
     "name": "stderr",
     "output_type": "stream",
     "text": [
      "100%|██████████| 1/1 [00:06<00:00,  6.03s/it]\n"
     ]
    },
    {
     "name": "stdout",
     "output_type": "stream",
     "text": [
      "bg_value__value_count__value_1_217\n",
      "bg_value__number_crossing_m__m_1_250\n",
      "label\n",
      "131.0116987792884\n",
      "            date_time   mock_date time_of_day part_of_day   time  bg_value id\n",
      "0 2021-12-07 13:47:00  2021-12-07    13:47:00   afternoon  12.50       210  a\n",
      "1 2021-12-07 13:52:00  2021-12-07    13:52:00   afternoon  12.58       192  a\n",
      "2 2021-12-07 13:57:00  2021-12-07    13:57:00   afternoon  12.67       183  a\n",
      "3 2021-12-07 14:02:00  2021-12-07    14:02:00   afternoon  12.75       175  a\n",
      "4 2021-12-07 14:07:00  2021-12-07    14:07:00   afternoon  12.83       162  a\n",
      "5 2021-12-07 14:12:00  2021-12-07    14:12:00   afternoon  12.92       154  a\n"
     ]
    },
    {
     "name": "stderr",
     "output_type": "stream",
     "text": [
      "100%|██████████| 1/1 [00:06<00:00,  6.42s/it]\n"
     ]
    },
    {
     "name": "stdout",
     "output_type": "stream",
     "text": [
      "bg_value__value_count__value_1_217\n",
      "bg_value__number_crossing_m__m_1_250\n",
      "label\n",
      "138.57292880553342\n",
      "            date_time   mock_date time_of_day part_of_day   time  bg_value id\n",
      "0 2021-12-07 13:52:00  2021-12-07    13:52:00   afternoon  12.58       192  a\n",
      "1 2021-12-07 13:57:00  2021-12-07    13:57:00   afternoon  12.67       183  a\n",
      "2 2021-12-07 14:02:00  2021-12-07    14:02:00   afternoon  12.75       175  a\n",
      "3 2021-12-07 14:07:00  2021-12-07    14:07:00   afternoon  12.83       162  a\n",
      "4 2021-12-07 14:12:00  2021-12-07    14:12:00   afternoon  12.92       154  a\n",
      "5 2021-12-07 14:17:00  2021-12-07    14:17:00   afternoon  13.00       147  a\n"
     ]
    },
    {
     "name": "stderr",
     "output_type": "stream",
     "text": [
      "100%|██████████| 1/1 [00:06<00:00,  6.47s/it]\n"
     ]
    },
    {
     "name": "stdout",
     "output_type": "stream",
     "text": [
      "bg_value__value_count__value_1_217\n",
      "bg_value__number_crossing_m__m_1_250\n",
      "label\n",
      "116.0337362600122\n",
      "            date_time   mock_date time_of_day part_of_day   time  bg_value id\n",
      "0 2021-12-07 13:57:00  2021-12-07    13:57:00   afternoon  12.67       183  a\n",
      "1 2021-12-07 14:02:00  2021-12-07    14:02:00   afternoon  12.75       175  a\n",
      "2 2021-12-07 14:07:00  2021-12-07    14:07:00   afternoon  12.83       162  a\n",
      "3 2021-12-07 14:12:00  2021-12-07    14:12:00   afternoon  12.92       154  a\n",
      "4 2021-12-07 14:17:00  2021-12-07    14:17:00   afternoon  13.00       147  a\n",
      "5 2021-12-07 14:22:00  2021-12-07    14:22:00   afternoon  13.08       140  a\n"
     ]
    },
    {
     "name": "stderr",
     "output_type": "stream",
     "text": [
      "100%|██████████| 1/1 [00:06<00:00,  6.24s/it]\n"
     ]
    },
    {
     "name": "stdout",
     "output_type": "stream",
     "text": [
      "bg_value__value_count__value_1_217\n",
      "bg_value__number_crossing_m__m_1_250\n",
      "label\n",
      "114.54331854662566\n",
      "            date_time   mock_date time_of_day part_of_day   time  bg_value id\n",
      "0 2021-12-07 14:02:00  2021-12-07    14:02:00   afternoon  12.75       175  a\n",
      "1 2021-12-07 14:07:00  2021-12-07    14:07:00   afternoon  12.83       162  a\n",
      "2 2021-12-07 14:12:00  2021-12-07    14:12:00   afternoon  12.92       154  a\n",
      "3 2021-12-07 14:17:00  2021-12-07    14:17:00   afternoon  13.00       147  a\n",
      "4 2021-12-07 14:22:00  2021-12-07    14:22:00   afternoon  13.08       140  a\n",
      "5 2021-12-07 14:27:00  2021-12-07    14:27:00   afternoon  13.17       135  a\n"
     ]
    },
    {
     "name": "stderr",
     "output_type": "stream",
     "text": [
      "100%|██████████| 1/1 [00:06<00:00,  6.12s/it]\n"
     ]
    },
    {
     "name": "stdout",
     "output_type": "stream",
     "text": [
      "bg_value__value_count__value_1_217\n",
      "bg_value__number_crossing_m__m_1_250\n",
      "label\n",
      "110.54034456835461\n",
      "            date_time   mock_date time_of_day part_of_day   time  bg_value id\n",
      "0 2021-12-07 14:07:00  2021-12-07    14:07:00   afternoon  12.83       162  a\n",
      "1 2021-12-07 14:12:00  2021-12-07    14:12:00   afternoon  12.92       154  a\n",
      "2 2021-12-07 14:17:00  2021-12-07    14:17:00   afternoon  13.00       147  a\n",
      "3 2021-12-07 14:22:00  2021-12-07    14:22:00   afternoon  13.08       140  a\n",
      "4 2021-12-07 14:27:00  2021-12-07    14:27:00   afternoon  13.17       135  a\n",
      "5 2021-12-07 14:32:00  2021-12-07    14:32:00   afternoon  13.25       132  a\n"
     ]
    },
    {
     "name": "stderr",
     "output_type": "stream",
     "text": [
      "100%|██████████| 1/1 [00:06<00:00,  6.15s/it]\n"
     ]
    },
    {
     "name": "stdout",
     "output_type": "stream",
     "text": [
      "bg_value__value_count__value_1_217\n",
      "bg_value__number_crossing_m__m_1_250\n",
      "label\n",
      "114.6186549782324\n",
      "            date_time   mock_date time_of_day part_of_day   time  bg_value id\n",
      "0 2021-12-07 14:12:00  2021-12-07    14:12:00   afternoon  12.92       154  a\n",
      "1 2021-12-07 14:17:00  2021-12-07    14:17:00   afternoon  13.00       147  a\n",
      "2 2021-12-07 14:22:00  2021-12-07    14:22:00   afternoon  13.08       140  a\n",
      "3 2021-12-07 14:27:00  2021-12-07    14:27:00   afternoon  13.17       135  a\n",
      "4 2021-12-07 14:32:00  2021-12-07    14:32:00   afternoon  13.25       132  a\n",
      "5 2021-12-07 14:37:00  2021-12-07    14:37:00   afternoon  13.33       128  a\n"
     ]
    },
    {
     "name": "stderr",
     "output_type": "stream",
     "text": [
      "100%|██████████| 1/1 [00:06<00:00,  6.13s/it]\n"
     ]
    },
    {
     "name": "stdout",
     "output_type": "stream",
     "text": [
      "bg_value__value_count__value_1_217\n",
      "bg_value__number_crossing_m__m_1_250\n",
      "label\n",
      "108.44002498235535\n",
      "            date_time   mock_date time_of_day part_of_day   time  bg_value id\n",
      "0 2021-12-07 14:17:00  2021-12-07    14:17:00   afternoon  13.00       147  a\n",
      "1 2021-12-07 14:22:00  2021-12-07    14:22:00   afternoon  13.08       140  a\n",
      "2 2021-12-07 14:27:00  2021-12-07    14:27:00   afternoon  13.17       135  a\n",
      "3 2021-12-07 14:32:00  2021-12-07    14:32:00   afternoon  13.25       132  a\n",
      "4 2021-12-07 14:37:00  2021-12-07    14:37:00   afternoon  13.33       128  a\n",
      "5 2021-12-07 14:42:00  2021-12-07    14:42:00   afternoon  13.42       124  a\n"
     ]
    },
    {
     "name": "stderr",
     "output_type": "stream",
     "text": [
      "100%|██████████| 1/1 [00:06<00:00,  6.12s/it]\n"
     ]
    },
    {
     "name": "stdout",
     "output_type": "stream",
     "text": [
      "bg_value__value_count__value_1_217\n",
      "bg_value__number_crossing_m__m_1_250\n",
      "label\n",
      "104.96057169400238\n",
      "            date_time   mock_date time_of_day part_of_day   time  bg_value id\n",
      "0 2021-12-07 14:22:00  2021-12-07    14:22:00   afternoon  13.08       140  a\n",
      "1 2021-12-07 14:27:00  2021-12-07    14:27:00   afternoon  13.17       135  a\n",
      "2 2021-12-07 14:32:00  2021-12-07    14:32:00   afternoon  13.25       132  a\n",
      "3 2021-12-07 14:37:00  2021-12-07    14:37:00   afternoon  13.33       128  a\n",
      "4 2021-12-07 14:42:00  2021-12-07    14:42:00   afternoon  13.42       124  a\n",
      "5 2021-12-07 14:47:00  2021-12-07    14:47:00   afternoon  13.50       121  a\n"
     ]
    },
    {
     "name": "stderr",
     "output_type": "stream",
     "text": [
      "100%|██████████| 1/1 [00:06<00:00,  6.32s/it]\n"
     ]
    },
    {
     "name": "stdout",
     "output_type": "stream",
     "text": [
      "bg_value__value_count__value_1_217\n",
      "bg_value__number_crossing_m__m_1_250\n",
      "label\n",
      "103.48532594618625\n",
      "            date_time   mock_date time_of_day part_of_day   time  bg_value id\n",
      "0 2021-12-07 14:27:00  2021-12-07    14:27:00   afternoon  13.17       135  a\n",
      "1 2021-12-07 14:32:00  2021-12-07    14:32:00   afternoon  13.25       132  a\n",
      "2 2021-12-07 14:37:00  2021-12-07    14:37:00   afternoon  13.33       128  a\n",
      "3 2021-12-07 14:42:00  2021-12-07    14:42:00   afternoon  13.42       124  a\n",
      "4 2021-12-07 14:47:00  2021-12-07    14:47:00   afternoon  13.50       121  a\n",
      "5 2021-12-07 14:52:00  2021-12-07    14:52:00   afternoon  13.58       118  a\n"
     ]
    },
    {
     "name": "stderr",
     "output_type": "stream",
     "text": [
      "100%|██████████| 1/1 [00:06<00:00,  6.14s/it]\n"
     ]
    },
    {
     "name": "stdout",
     "output_type": "stream",
     "text": [
      "bg_value__value_count__value_1_217\n",
      "bg_value__number_crossing_m__m_1_250\n",
      "label\n",
      "102.408121348364\n",
      "            date_time   mock_date time_of_day part_of_day   time  bg_value id\n",
      "0 2021-12-07 14:32:00  2021-12-07    14:32:00   afternoon  13.25       132  a\n",
      "1 2021-12-07 14:37:00  2021-12-07    14:37:00   afternoon  13.33       128  a\n",
      "2 2021-12-07 14:42:00  2021-12-07    14:42:00   afternoon  13.42       124  a\n",
      "3 2021-12-07 14:47:00  2021-12-07    14:47:00   afternoon  13.50       121  a\n",
      "4 2021-12-07 14:52:00  2021-12-07    14:52:00   afternoon  13.58       118  a\n",
      "5 2021-12-07 14:57:00  2021-12-07    14:57:00   afternoon  13.67       114  a\n"
     ]
    },
    {
     "name": "stderr",
     "output_type": "stream",
     "text": [
      "100%|██████████| 1/1 [00:06<00:00,  6.35s/it]\n"
     ]
    },
    {
     "name": "stdout",
     "output_type": "stream",
     "text": [
      "bg_value__value_count__value_1_217\n",
      "bg_value__number_crossing_m__m_1_250\n",
      "label\n",
      "95.534959550074\n",
      "            date_time   mock_date time_of_day part_of_day   time  bg_value id\n",
      "0 2021-12-07 14:37:00  2021-12-07    14:37:00   afternoon  13.33       128  a\n",
      "1 2021-12-07 14:42:00  2021-12-07    14:42:00   afternoon  13.42       124  a\n",
      "2 2021-12-07 14:47:00  2021-12-07    14:47:00   afternoon  13.50       121  a\n",
      "3 2021-12-07 14:52:00  2021-12-07    14:52:00   afternoon  13.58       118  a\n",
      "4 2021-12-07 14:57:00  2021-12-07    14:57:00   afternoon  13.67       114  a\n",
      "5 2021-12-07 15:02:00  2021-12-07    15:02:00   afternoon  13.75       114  a\n"
     ]
    },
    {
     "name": "stderr",
     "output_type": "stream",
     "text": [
      "100%|██████████| 1/1 [00:06<00:00,  6.24s/it]\n"
     ]
    },
    {
     "name": "stdout",
     "output_type": "stream",
     "text": [
      "bg_value__value_count__value_1_217\n",
      "bg_value__number_crossing_m__m_1_250\n",
      "label\n",
      "109.10472863715862\n",
      "            date_time   mock_date time_of_day part_of_day   time  bg_value id\n",
      "0 2021-12-07 14:42:00  2021-12-07    14:42:00   afternoon  13.42       124  a\n",
      "1 2021-12-07 14:47:00  2021-12-07    14:47:00   afternoon  13.50       121  a\n",
      "2 2021-12-07 14:52:00  2021-12-07    14:52:00   afternoon  13.58       118  a\n",
      "3 2021-12-07 14:57:00  2021-12-07    14:57:00   afternoon  13.67       114  a\n",
      "4 2021-12-07 15:02:00  2021-12-07    15:02:00   afternoon  13.75       114  a\n",
      "5 2021-12-07 15:07:00  2021-12-07    15:07:00   afternoon  13.83       116  a\n"
     ]
    },
    {
     "name": "stderr",
     "output_type": "stream",
     "text": [
      "100%|██████████| 1/1 [00:06<00:00,  6.16s/it]\n"
     ]
    },
    {
     "name": "stdout",
     "output_type": "stream",
     "text": [
      "bg_value__value_count__value_1_217\n",
      "bg_value__number_crossing_m__m_1_250\n",
      "label\n",
      "116.49395830881402\n",
      "            date_time   mock_date time_of_day part_of_day   time  bg_value id\n",
      "0 2021-12-07 14:47:00  2021-12-07    14:47:00   afternoon  13.50       121  a\n",
      "1 2021-12-07 14:52:00  2021-12-07    14:52:00   afternoon  13.58       118  a\n",
      "2 2021-12-07 14:57:00  2021-12-07    14:57:00   afternoon  13.67       114  a\n",
      "3 2021-12-07 15:02:00  2021-12-07    15:02:00   afternoon  13.75       114  a\n",
      "4 2021-12-07 15:07:00  2021-12-07    15:07:00   afternoon  13.83       116  a\n",
      "5 2021-12-07 15:12:00  2021-12-07    15:12:00   afternoon  13.92       120  a\n"
     ]
    },
    {
     "name": "stderr",
     "output_type": "stream",
     "text": [
      "100%|██████████| 1/1 [00:06<00:00,  6.12s/it]\n"
     ]
    },
    {
     "name": "stdout",
     "output_type": "stream",
     "text": [
      "bg_value__value_count__value_1_217\n",
      "bg_value__number_crossing_m__m_1_250\n",
      "label\n",
      "124.14269502639792\n",
      "            date_time   mock_date time_of_day part_of_day   time  bg_value id\n",
      "0 2021-12-07 14:52:00  2021-12-07    14:52:00   afternoon  13.58       118  a\n",
      "1 2021-12-07 14:57:00  2021-12-07    14:57:00   afternoon  13.67       114  a\n",
      "2 2021-12-07 15:02:00  2021-12-07    15:02:00   afternoon  13.75       114  a\n",
      "3 2021-12-07 15:07:00  2021-12-07    15:07:00   afternoon  13.83       116  a\n",
      "4 2021-12-07 15:12:00  2021-12-07    15:12:00   afternoon  13.92       120  a\n",
      "5 2021-12-07 15:17:00  2021-12-07    15:17:00   afternoon  14.00       114  a\n"
     ]
    },
    {
     "name": "stderr",
     "output_type": "stream",
     "text": [
      "100%|██████████| 1/1 [00:06<00:00,  6.33s/it]\n"
     ]
    },
    {
     "name": "stdout",
     "output_type": "stream",
     "text": [
      "bg_value__value_count__value_1_217\n",
      "bg_value__number_crossing_m__m_1_250\n",
      "label\n",
      "122.88123535125418\n",
      "            date_time   mock_date time_of_day part_of_day   time  bg_value id\n",
      "0 2021-12-07 14:57:00  2021-12-07    14:57:00   afternoon  13.67       114  a\n",
      "1 2021-12-07 15:02:00  2021-12-07    15:02:00   afternoon  13.75       114  a\n",
      "2 2021-12-07 15:07:00  2021-12-07    15:07:00   afternoon  13.83       116  a\n",
      "3 2021-12-07 15:12:00  2021-12-07    15:12:00   afternoon  13.92       120  a\n",
      "4 2021-12-07 15:17:00  2021-12-07    15:17:00   afternoon  14.00       114  a\n",
      "5 2021-12-07 15:22:00  2021-12-07    15:22:00   afternoon  14.08       112  a\n"
     ]
    },
    {
     "name": "stderr",
     "output_type": "stream",
     "text": [
      "100%|██████████| 1/1 [00:06<00:00,  6.16s/it]\n"
     ]
    },
    {
     "name": "stdout",
     "output_type": "stream",
     "text": [
      "bg_value__value_count__value_1_217\n",
      "bg_value__number_crossing_m__m_1_250\n",
      "label\n",
      "109.95088026491776\n",
      "            date_time   mock_date time_of_day part_of_day   time  bg_value id\n",
      "0 2021-12-07 15:02:00  2021-12-07    15:02:00   afternoon  13.75       114  a\n",
      "1 2021-12-07 15:07:00  2021-12-07    15:07:00   afternoon  13.83       116  a\n",
      "2 2021-12-07 15:12:00  2021-12-07    15:12:00   afternoon  13.92       120  a\n",
      "3 2021-12-07 15:17:00  2021-12-07    15:17:00   afternoon  14.00       114  a\n",
      "4 2021-12-07 15:22:00  2021-12-07    15:22:00   afternoon  14.08       112  a\n",
      "5 2021-12-07 15:27:00  2021-12-07    15:27:00   afternoon  14.17       110  a\n"
     ]
    },
    {
     "name": "stderr",
     "output_type": "stream",
     "text": [
      "100%|██████████| 1/1 [00:06<00:00,  6.19s/it]\n"
     ]
    },
    {
     "name": "stdout",
     "output_type": "stream",
     "text": [
      "bg_value__value_count__value_1_217\n",
      "bg_value__number_crossing_m__m_1_250\n",
      "label\n",
      "101.71428224007825\n",
      "            date_time   mock_date time_of_day part_of_day   time  bg_value id\n",
      "0 2021-12-07 15:07:00  2021-12-07    15:07:00   afternoon  13.83       116  a\n",
      "1 2021-12-07 15:12:00  2021-12-07    15:12:00   afternoon  13.92       120  a\n",
      "2 2021-12-07 15:17:00  2021-12-07    15:17:00   afternoon  14.00       114  a\n",
      "3 2021-12-07 15:22:00  2021-12-07    15:22:00   afternoon  14.08       112  a\n",
      "4 2021-12-07 15:27:00  2021-12-07    15:27:00   afternoon  14.17       110  a\n",
      "5 2021-12-07 15:32:00  2021-12-07    15:32:00   afternoon  14.25       106  a\n"
     ]
    },
    {
     "name": "stderr",
     "output_type": "stream",
     "text": [
      "100%|██████████| 1/1 [00:06<00:00,  6.08s/it]\n"
     ]
    },
    {
     "name": "stdout",
     "output_type": "stream",
     "text": [
      "bg_value__value_count__value_1_217\n",
      "bg_value__number_crossing_m__m_1_250\n",
      "label\n",
      "97.5214691061535\n",
      "            date_time   mock_date time_of_day part_of_day   time  bg_value id\n",
      "0 2021-12-07 15:12:00  2021-12-07    15:12:00   afternoon  13.92       120  a\n",
      "1 2021-12-07 15:17:00  2021-12-07    15:17:00   afternoon  14.00       114  a\n",
      "2 2021-12-07 15:22:00  2021-12-07    15:22:00   afternoon  14.08       112  a\n",
      "3 2021-12-07 15:27:00  2021-12-07    15:27:00   afternoon  14.17       110  a\n",
      "4 2021-12-07 15:32:00  2021-12-07    15:32:00   afternoon  14.25       106  a\n",
      "5 2021-12-07 15:37:00  2021-12-07    15:37:00   afternoon  14.33        99  a\n"
     ]
    },
    {
     "name": "stderr",
     "output_type": "stream",
     "text": [
      "100%|██████████| 1/1 [00:06<00:00,  6.31s/it]\n"
     ]
    },
    {
     "name": "stdout",
     "output_type": "stream",
     "text": [
      "bg_value__value_count__value_1_217\n",
      "bg_value__number_crossing_m__m_1_250\n",
      "label\n",
      "87.15841755765983\n",
      "            date_time   mock_date time_of_day part_of_day   time  bg_value id\n",
      "0 2021-12-07 15:17:00  2021-12-07    15:17:00   afternoon  14.00       114  a\n",
      "1 2021-12-07 15:22:00  2021-12-07    15:22:00   afternoon  14.08       112  a\n",
      "2 2021-12-07 15:27:00  2021-12-07    15:27:00   afternoon  14.17       110  a\n",
      "3 2021-12-07 15:32:00  2021-12-07    15:32:00   afternoon  14.25       106  a\n",
      "4 2021-12-07 15:37:00  2021-12-07    15:37:00   afternoon  14.33        99  a\n",
      "5 2021-12-07 15:42:00  2021-12-07    15:42:00   afternoon  14.42        97  a\n"
     ]
    },
    {
     "name": "stderr",
     "output_type": "stream",
     "text": [
      "100%|██████████| 1/1 [00:06<00:00,  6.41s/it]\n"
     ]
    },
    {
     "name": "stdout",
     "output_type": "stream",
     "text": [
      "bg_value__value_count__value_1_217\n",
      "bg_value__number_crossing_m__m_1_250\n",
      "label\n",
      "94.63447685476288\n",
      "            date_time   mock_date time_of_day part_of_day   time  bg_value id\n",
      "0 2021-12-07 15:22:00  2021-12-07    15:22:00   afternoon  14.08       112  a\n",
      "1 2021-12-07 15:27:00  2021-12-07    15:27:00   afternoon  14.17       110  a\n",
      "2 2021-12-07 15:32:00  2021-12-07    15:32:00   afternoon  14.25       106  a\n",
      "3 2021-12-07 15:37:00  2021-12-07    15:37:00   afternoon  14.33        99  a\n",
      "4 2021-12-07 15:42:00  2021-12-07    15:42:00   afternoon  14.42        97  a\n",
      "5 2021-12-07 15:47:00  2021-12-07    15:47:00   afternoon  14.50        97  a\n"
     ]
    },
    {
     "name": "stderr",
     "output_type": "stream",
     "text": [
      "100%|██████████| 1/1 [00:06<00:00,  6.37s/it]\n"
     ]
    },
    {
     "name": "stdout",
     "output_type": "stream",
     "text": [
      "bg_value__value_count__value_1_217\n",
      "bg_value__number_crossing_m__m_1_250\n",
      "label\n",
      "96.43445696153461\n",
      "            date_time   mock_date time_of_day part_of_day   time  bg_value id\n",
      "0 2021-12-07 15:27:00  2021-12-07    15:27:00   afternoon  14.17       110  a\n",
      "1 2021-12-07 15:32:00  2021-12-07    15:32:00   afternoon  14.25       106  a\n",
      "2 2021-12-07 15:37:00  2021-12-07    15:37:00   afternoon  14.33        99  a\n",
      "3 2021-12-07 15:42:00  2021-12-07    15:42:00   afternoon  14.42        97  a\n",
      "4 2021-12-07 15:47:00  2021-12-07    15:47:00   afternoon  14.50        97  a\n",
      "5 2021-12-07 15:52:00  2021-12-07    15:52:00   afternoon  14.58        98  a\n"
     ]
    },
    {
     "name": "stderr",
     "output_type": "stream",
     "text": [
      "100%|██████████| 1/1 [00:06<00:00,  6.23s/it]\n"
     ]
    },
    {
     "name": "stdout",
     "output_type": "stream",
     "text": [
      "bg_value__value_count__value_1_217\n",
      "bg_value__number_crossing_m__m_1_250\n",
      "label\n",
      "95.12394765306327\n",
      "            date_time   mock_date time_of_day part_of_day   time  bg_value id\n",
      "0 2021-12-07 15:32:00  2021-12-07    15:32:00   afternoon  14.25       106  a\n",
      "1 2021-12-07 15:37:00  2021-12-07    15:37:00   afternoon  14.33        99  a\n",
      "2 2021-12-07 15:42:00  2021-12-07    15:42:00   afternoon  14.42        97  a\n",
      "3 2021-12-07 15:47:00  2021-12-07    15:47:00   afternoon  14.50        97  a\n",
      "4 2021-12-07 15:52:00  2021-12-07    15:52:00   afternoon  14.58        98  a\n",
      "5 2021-12-07 15:57:00  2021-12-07    15:57:00   afternoon  14.67        99  a\n"
     ]
    },
    {
     "name": "stderr",
     "output_type": "stream",
     "text": [
      "100%|██████████| 1/1 [00:06<00:00,  6.22s/it]\n"
     ]
    },
    {
     "name": "stdout",
     "output_type": "stream",
     "text": [
      "bg_value__value_count__value_1_217\n",
      "bg_value__number_crossing_m__m_1_250\n",
      "label\n",
      "99.9341621425239\n",
      "            date_time   mock_date time_of_day part_of_day   time  bg_value id\n",
      "0 2021-12-07 15:37:00  2021-12-07    15:37:00   afternoon  14.33        99  a\n",
      "1 2021-12-07 15:42:00  2021-12-07    15:42:00   afternoon  14.42        97  a\n",
      "2 2021-12-07 15:47:00  2021-12-07    15:47:00   afternoon  14.50        97  a\n",
      "3 2021-12-07 15:52:00  2021-12-07    15:52:00   afternoon  14.58        98  a\n",
      "4 2021-12-07 15:57:00  2021-12-07    15:57:00   afternoon  14.67        99  a\n",
      "5 2021-12-07 16:02:00  2021-12-07    16:02:00     evening  14.75       100  a\n"
     ]
    },
    {
     "name": "stderr",
     "output_type": "stream",
     "text": [
      "100%|██████████| 1/1 [00:06<00:00,  6.07s/it]\n"
     ]
    },
    {
     "name": "stdout",
     "output_type": "stream",
     "text": [
      "bg_value__value_count__value_1_217\n",
      "bg_value__number_crossing_m__m_1_250\n",
      "label\n",
      "103.59046231908407\n",
      "            date_time   mock_date time_of_day part_of_day   time  bg_value id\n",
      "0 2021-12-07 15:42:00  2021-12-07    15:42:00   afternoon  14.42        97  a\n",
      "1 2021-12-07 15:47:00  2021-12-07    15:47:00   afternoon  14.50        97  a\n",
      "2 2021-12-07 15:52:00  2021-12-07    15:52:00   afternoon  14.58        98  a\n",
      "3 2021-12-07 15:57:00  2021-12-07    15:57:00   afternoon  14.67        99  a\n",
      "4 2021-12-07 16:02:00  2021-12-07    16:02:00     evening  14.75       100  a\n",
      "5 2021-12-07 16:07:00  2021-12-07    16:07:00     evening  14.83       103  a\n"
     ]
    },
    {
     "name": "stderr",
     "output_type": "stream",
     "text": [
      "100%|██████████| 1/1 [00:06<00:00,  6.06s/it]\n"
     ]
    },
    {
     "name": "stdout",
     "output_type": "stream",
     "text": [
      "bg_value__value_count__value_1_217\n",
      "bg_value__number_crossing_m__m_1_250\n",
      "label\n",
      "111.04129824756036\n",
      "            date_time   mock_date time_of_day part_of_day   time  bg_value id\n",
      "0 2021-12-07 15:47:00  2021-12-07    15:47:00   afternoon  14.50        97  a\n",
      "1 2021-12-07 15:52:00  2021-12-07    15:52:00   afternoon  14.58        98  a\n",
      "2 2021-12-07 15:57:00  2021-12-07    15:57:00   afternoon  14.67        99  a\n",
      "3 2021-12-07 16:02:00  2021-12-07    16:02:00     evening  14.75       100  a\n",
      "4 2021-12-07 16:07:00  2021-12-07    16:07:00     evening  14.83       103  a\n",
      "5 2021-12-07 16:12:00  2021-12-07    16:12:00     evening  14.92       107  a\n"
     ]
    },
    {
     "name": "stderr",
     "output_type": "stream",
     "text": [
      "100%|██████████| 1/1 [00:06<00:00,  6.27s/it]\n"
     ]
    },
    {
     "name": "stdout",
     "output_type": "stream",
     "text": [
      "bg_value__value_count__value_1_217\n",
      "bg_value__number_crossing_m__m_1_250\n",
      "label\n",
      "120.06524757772672\n",
      "            date_time   mock_date time_of_day part_of_day   time  bg_value id\n",
      "0 2021-12-07 15:52:00  2021-12-07    15:52:00   afternoon  14.58        98  a\n",
      "1 2021-12-07 15:57:00  2021-12-07    15:57:00   afternoon  14.67        99  a\n",
      "2 2021-12-07 16:02:00  2021-12-07    16:02:00     evening  14.75       100  a\n",
      "3 2021-12-07 16:07:00  2021-12-07    16:07:00     evening  14.83       103  a\n",
      "4 2021-12-07 16:12:00  2021-12-07    16:12:00     evening  14.92       107  a\n",
      "5 2021-12-07 16:17:00  2021-12-07    16:17:00     evening  15.00       109  a\n"
     ]
    },
    {
     "name": "stderr",
     "output_type": "stream",
     "text": [
      "100%|██████████| 1/1 [00:06<00:00,  6.31s/it]\n"
     ]
    },
    {
     "name": "stdout",
     "output_type": "stream",
     "text": [
      "bg_value__value_count__value_1_217\n",
      "bg_value__number_crossing_m__m_1_250\n",
      "label\n",
      "118.57483312981002\n",
      "            date_time   mock_date time_of_day part_of_day   time  bg_value id\n",
      "0 2021-12-07 15:57:00  2021-12-07    15:57:00   afternoon  14.67        99  a\n",
      "1 2021-12-07 16:02:00  2021-12-07    16:02:00     evening  14.75       100  a\n",
      "2 2021-12-07 16:07:00  2021-12-07    16:07:00     evening  14.83       103  a\n",
      "3 2021-12-07 16:12:00  2021-12-07    16:12:00     evening  14.92       107  a\n",
      "4 2021-12-07 16:17:00  2021-12-07    16:17:00     evening  15.00       109  a\n",
      "5 2021-12-07 16:22:00  2021-12-07    16:22:00     evening  15.08       101  a\n"
     ]
    },
    {
     "name": "stderr",
     "output_type": "stream",
     "text": [
      "100%|██████████| 1/1 [00:06<00:00,  6.27s/it]\n"
     ]
    },
    {
     "name": "stdout",
     "output_type": "stream",
     "text": [
      "bg_value__value_count__value_1_217\n",
      "bg_value__number_crossing_m__m_1_250\n",
      "label\n",
      "105.66418454034597\n",
      "            date_time   mock_date time_of_day part_of_day   time  bg_value id\n",
      "0 2021-12-07 16:02:00  2021-12-07    16:02:00     evening  14.75       100  a\n",
      "1 2021-12-07 16:07:00  2021-12-07    16:07:00     evening  14.83       103  a\n",
      "2 2021-12-07 16:12:00  2021-12-07    16:12:00     evening  14.92       107  a\n",
      "3 2021-12-07 16:17:00  2021-12-07    16:17:00     evening  15.00       109  a\n",
      "4 2021-12-07 16:22:00  2021-12-07    16:22:00     evening  15.08       101  a\n",
      "5 2021-12-07 16:27:00  2021-12-07    16:27:00     evening  15.17        97  a\n"
     ]
    },
    {
     "name": "stderr",
     "output_type": "stream",
     "text": [
      "100%|██████████| 1/1 [00:06<00:00,  6.25s/it]\n"
     ]
    },
    {
     "name": "stdout",
     "output_type": "stream",
     "text": [
      "bg_value__value_count__value_1_217\n",
      "bg_value__number_crossing_m__m_1_250\n",
      "label\n",
      "99.83032183516443\n",
      "            date_time   mock_date time_of_day part_of_day   time  bg_value id\n",
      "0 2021-12-07 16:07:00  2021-12-07    16:07:00     evening  14.83       103  a\n",
      "1 2021-12-07 16:12:00  2021-12-07    16:12:00     evening  14.92       107  a\n",
      "2 2021-12-07 16:17:00  2021-12-07    16:17:00     evening  15.00       109  a\n",
      "3 2021-12-07 16:22:00  2021-12-07    16:22:00     evening  15.08       101  a\n",
      "4 2021-12-07 16:27:00  2021-12-07    16:27:00     evening  15.17        97  a\n",
      "5 2021-12-07 16:32:00  2021-12-07    16:32:00     evening  15.25       101  a\n"
     ]
    },
    {
     "name": "stderr",
     "output_type": "stream",
     "text": [
      "100%|██████████| 1/1 [00:06<00:00,  6.37s/it]\n"
     ]
    },
    {
     "name": "stdout",
     "output_type": "stream",
     "text": [
      "bg_value__value_count__value_1_217\n",
      "bg_value__number_crossing_m__m_1_250\n",
      "label\n",
      "110.35894601712984\n",
      "            date_time   mock_date time_of_day part_of_day   time  bg_value id\n",
      "0 2021-12-07 16:12:00  2021-12-07    16:12:00     evening  14.92       107  a\n",
      "1 2021-12-07 16:17:00  2021-12-07    16:17:00     evening  15.00       109  a\n",
      "2 2021-12-07 16:22:00  2021-12-07    16:22:00     evening  15.08       101  a\n",
      "3 2021-12-07 16:27:00  2021-12-07    16:27:00     evening  15.17        97  a\n",
      "4 2021-12-07 16:32:00  2021-12-07    16:32:00     evening  15.25       101  a\n",
      "5 2021-12-07 16:37:00  2021-12-07    16:37:00     evening  15.33       102  a\n"
     ]
    },
    {
     "name": "stderr",
     "output_type": "stream",
     "text": [
      "100%|██████████| 1/1 [00:06<00:00,  6.17s/it]\n"
     ]
    },
    {
     "name": "stdout",
     "output_type": "stream",
     "text": [
      "bg_value__value_count__value_1_217\n",
      "bg_value__number_crossing_m__m_1_250\n",
      "label\n",
      "102.34618014094563\n",
      "            date_time   mock_date time_of_day part_of_day   time  bg_value id\n",
      "0 2021-12-07 16:17:00  2021-12-07    16:17:00     evening  15.00       109  a\n",
      "1 2021-12-07 16:22:00  2021-12-07    16:22:00     evening  15.08       101  a\n",
      "2 2021-12-07 16:27:00  2021-12-07    16:27:00     evening  15.17        97  a\n",
      "3 2021-12-07 16:32:00  2021-12-07    16:32:00     evening  15.25       101  a\n",
      "4 2021-12-07 16:37:00  2021-12-07    16:37:00     evening  15.33       102  a\n",
      "5 2021-12-07 16:42:00  2021-12-07    16:42:00     evening  15.42       100  a\n"
     ]
    },
    {
     "name": "stderr",
     "output_type": "stream",
     "text": [
      "100%|██████████| 1/1 [00:06<00:00,  6.12s/it]\n"
     ]
    },
    {
     "name": "stdout",
     "output_type": "stream",
     "text": [
      "bg_value__value_count__value_1_217\n",
      "bg_value__number_crossing_m__m_1_250\n",
      "label\n",
      "103.04370024702371\n",
      "            date_time   mock_date time_of_day part_of_day   time  bg_value id\n",
      "0 2021-12-07 16:22:00  2021-12-07    16:22:00     evening  15.08       101  a\n",
      "1 2021-12-07 16:27:00  2021-12-07    16:27:00     evening  15.17        97  a\n",
      "2 2021-12-07 16:32:00  2021-12-07    16:32:00     evening  15.25       101  a\n",
      "3 2021-12-07 16:37:00  2021-12-07    16:37:00     evening  15.33       102  a\n",
      "4 2021-12-07 16:42:00  2021-12-07    16:42:00     evening  15.42       100  a\n",
      "5 2021-12-07 16:47:00  2021-12-07    16:47:00     evening  15.50       100  a\n"
     ]
    },
    {
     "name": "stderr",
     "output_type": "stream",
     "text": [
      "100%|██████████| 1/1 [00:06<00:00,  6.18s/it]\n"
     ]
    },
    {
     "name": "stdout",
     "output_type": "stream",
     "text": [
      "bg_value__value_count__value_1_217\n",
      "bg_value__number_crossing_m__m_1_250\n",
      "label\n",
      "102.88613676070463\n",
      "            date_time   mock_date time_of_day part_of_day   time  bg_value id\n",
      "0 2021-12-07 16:27:00  2021-12-07    16:27:00     evening  15.17        97  a\n",
      "1 2021-12-07 16:32:00  2021-12-07    16:32:00     evening  15.25       101  a\n",
      "2 2021-12-07 16:37:00  2021-12-07    16:37:00     evening  15.33       102  a\n",
      "3 2021-12-07 16:42:00  2021-12-07    16:42:00     evening  15.42       100  a\n",
      "4 2021-12-07 16:47:00  2021-12-07    16:47:00     evening  15.50       100  a\n",
      "5 2021-12-07 16:52:00  2021-12-07    16:52:00     evening  15.58       103  a\n"
     ]
    },
    {
     "name": "stderr",
     "output_type": "stream",
     "text": [
      "100%|██████████| 1/1 [00:06<00:00,  6.12s/it]\n"
     ]
    },
    {
     "name": "stdout",
     "output_type": "stream",
     "text": [
      "bg_value__value_count__value_1_217\n",
      "bg_value__number_crossing_m__m_1_250\n",
      "label\n",
      "106.02354977627128\n",
      "            date_time   mock_date time_of_day part_of_day   time  bg_value id\n",
      "0 2021-12-07 16:32:00  2021-12-07    16:32:00     evening  15.25       101  a\n",
      "1 2021-12-07 16:37:00  2021-12-07    16:37:00     evening  15.33       102  a\n",
      "2 2021-12-07 16:42:00  2021-12-07    16:42:00     evening  15.42       100  a\n",
      "3 2021-12-07 16:47:00  2021-12-07    16:47:00     evening  15.50       100  a\n",
      "4 2021-12-07 16:52:00  2021-12-07    16:52:00     evening  15.58       103  a\n",
      "5 2021-12-07 16:57:00  2021-12-07    16:57:00     evening  15.67        97  a\n"
     ]
    },
    {
     "name": "stderr",
     "output_type": "stream",
     "text": [
      "100%|██████████| 1/1 [00:06<00:00,  6.03s/it]\n"
     ]
    },
    {
     "name": "stdout",
     "output_type": "stream",
     "text": [
      "bg_value__value_count__value_1_217\n",
      "bg_value__number_crossing_m__m_1_250\n",
      "label\n",
      "94.1382716632192\n",
      "            date_time   mock_date time_of_day part_of_day   time  bg_value id\n",
      "0 2021-12-07 16:37:00  2021-12-07    16:37:00     evening  15.33       102  a\n",
      "1 2021-12-07 16:42:00  2021-12-07    16:42:00     evening  15.42       100  a\n",
      "2 2021-12-07 16:47:00  2021-12-07    16:47:00     evening  15.50       100  a\n",
      "3 2021-12-07 16:52:00  2021-12-07    16:52:00     evening  15.58       103  a\n",
      "4 2021-12-07 16:57:00  2021-12-07    16:57:00     evening  15.67        97  a\n",
      "5 2021-12-07 17:02:00  2021-12-07    17:02:00     evening  15.75        93  a\n"
     ]
    },
    {
     "name": "stderr",
     "output_type": "stream",
     "text": [
      "100%|██████████| 1/1 [00:06<00:00,  6.41s/it]\n"
     ]
    },
    {
     "name": "stdout",
     "output_type": "stream",
     "text": [
      "bg_value__value_count__value_1_217\n",
      "bg_value__number_crossing_m__m_1_250\n",
      "label\n",
      "99.35020270143404\n",
      "            date_time   mock_date time_of_day part_of_day   time  bg_value id\n",
      "0 2021-12-07 16:42:00  2021-12-07    16:42:00     evening  15.42       100  a\n",
      "1 2021-12-07 16:47:00  2021-12-07    16:47:00     evening  15.50       100  a\n",
      "2 2021-12-07 16:52:00  2021-12-07    16:52:00     evening  15.58       103  a\n",
      "3 2021-12-07 16:57:00  2021-12-07    16:57:00     evening  15.67        97  a\n",
      "4 2021-12-07 17:02:00  2021-12-07    17:02:00     evening  15.75        93  a\n",
      "5 2021-12-07 17:07:00  2021-12-07    17:07:00     evening  15.83        91  a\n"
     ]
    },
    {
     "name": "stderr",
     "output_type": "stream",
     "text": [
      "100%|██████████| 1/1 [00:06<00:00,  6.19s/it]\n"
     ]
    },
    {
     "name": "stdout",
     "output_type": "stream",
     "text": [
      "bg_value__value_count__value_1_217\n",
      "bg_value__number_crossing_m__m_1_250\n",
      "label\n",
      "94.39547385381643\n",
      "            date_time   mock_date time_of_day part_of_day   time  bg_value id\n",
      "0 2021-12-07 16:47:00  2021-12-07    16:47:00     evening  15.50       100  a\n",
      "1 2021-12-07 16:52:00  2021-12-07    16:52:00     evening  15.58       103  a\n",
      "2 2021-12-07 16:57:00  2021-12-07    16:57:00     evening  15.67        97  a\n",
      "3 2021-12-07 17:02:00  2021-12-07    17:02:00     evening  15.75        93  a\n",
      "4 2021-12-07 17:07:00  2021-12-07    17:07:00     evening  15.83        91  a\n",
      "5 2021-12-07 17:12:00  2021-12-07    17:12:00     evening  15.92        91  a\n"
     ]
    },
    {
     "name": "stderr",
     "output_type": "stream",
     "text": [
      "100%|██████████| 1/1 [00:06<00:00,  6.07s/it]\n"
     ]
    },
    {
     "name": "stdout",
     "output_type": "stream",
     "text": [
      "bg_value__value_count__value_1_217\n",
      "bg_value__number_crossing_m__m_1_250\n",
      "label\n",
      "91.57399327068613\n",
      "            date_time   mock_date time_of_day part_of_day   time  bg_value id\n",
      "0 2021-12-07 16:52:00  2021-12-07    16:52:00     evening  15.58       103  a\n",
      "1 2021-12-07 16:57:00  2021-12-07    16:57:00     evening  15.67        97  a\n",
      "2 2021-12-07 17:02:00  2021-12-07    17:02:00     evening  15.75        93  a\n",
      "3 2021-12-07 17:07:00  2021-12-07    17:07:00     evening  15.83        91  a\n",
      "4 2021-12-07 17:12:00  2021-12-07    17:12:00     evening  15.92        91  a\n",
      "5 2021-12-07 17:17:00  2021-12-07    17:17:00     evening  16.00        89  a\n"
     ]
    },
    {
     "name": "stderr",
     "output_type": "stream",
     "text": [
      "100%|██████████| 1/1 [00:06<00:00,  6.15s/it]\n"
     ]
    },
    {
     "name": "stdout",
     "output_type": "stream",
     "text": [
      "bg_value__value_count__value_1_217\n",
      "bg_value__number_crossing_m__m_1_250\n",
      "label\n",
      "89.04372350722232\n",
      "            date_time   mock_date time_of_day part_of_day   time  bg_value id\n",
      "0 2021-12-07 16:57:00  2021-12-07    16:57:00     evening  15.67        97  a\n",
      "1 2021-12-07 17:02:00  2021-12-07    17:02:00     evening  15.75        93  a\n",
      "2 2021-12-07 17:07:00  2021-12-07    17:07:00     evening  15.83        91  a\n",
      "3 2021-12-07 17:12:00  2021-12-07    17:12:00     evening  15.92        91  a\n",
      "4 2021-12-07 17:17:00  2021-12-07    17:17:00     evening  16.00        89  a\n",
      "5 2021-12-07 17:22:00  2021-12-07    17:22:00     evening  16.08        87  a\n"
     ]
    },
    {
     "name": "stderr",
     "output_type": "stream",
     "text": [
      "100%|██████████| 1/1 [00:06<00:00,  6.56s/it]\n"
     ]
    },
    {
     "name": "stdout",
     "output_type": "stream",
     "text": [
      "bg_value__value_count__value_1_217\n",
      "bg_value__number_crossing_m__m_1_250\n",
      "label\n",
      "86.35625289187425\n",
      "            date_time   mock_date time_of_day part_of_day   time  bg_value id\n",
      "0 2021-12-07 17:02:00  2021-12-07    17:02:00     evening  15.75        93  a\n",
      "1 2021-12-07 17:07:00  2021-12-07    17:07:00     evening  15.83        91  a\n",
      "2 2021-12-07 17:12:00  2021-12-07    17:12:00     evening  15.92        91  a\n",
      "3 2021-12-07 17:17:00  2021-12-07    17:17:00     evening  16.00        89  a\n",
      "4 2021-12-07 17:22:00  2021-12-07    17:22:00     evening  16.08        87  a\n",
      "5 2021-12-07 17:27:00  2021-12-07    17:27:00     evening  16.17        86  a\n"
     ]
    },
    {
     "name": "stderr",
     "output_type": "stream",
     "text": [
      "100%|██████████| 1/1 [00:07<00:00,  7.41s/it]\n"
     ]
    },
    {
     "name": "stdout",
     "output_type": "stream",
     "text": [
      "bg_value__value_count__value_1_217\n",
      "bg_value__number_crossing_m__m_1_250\n",
      "label\n",
      "85.5320533974597\n",
      "            date_time   mock_date time_of_day part_of_day   time  bg_value id\n",
      "0 2021-12-07 17:07:00  2021-12-07    17:07:00     evening  15.83        91  a\n",
      "1 2021-12-07 17:12:00  2021-12-07    17:12:00     evening  15.92        91  a\n",
      "2 2021-12-07 17:17:00  2021-12-07    17:17:00     evening  16.00        89  a\n",
      "3 2021-12-07 17:22:00  2021-12-07    17:22:00     evening  16.08        87  a\n",
      "4 2021-12-07 17:27:00  2021-12-07    17:27:00     evening  16.17        86  a\n",
      "5 2021-12-07 17:32:00  2021-12-07    17:32:00     evening  16.25        85  a\n"
     ]
    },
    {
     "name": "stderr",
     "output_type": "stream",
     "text": [
      "100%|██████████| 1/1 [00:06<00:00,  6.10s/it]\n"
     ]
    },
    {
     "name": "stdout",
     "output_type": "stream",
     "text": [
      "bg_value__value_count__value_1_217\n",
      "bg_value__number_crossing_m__m_1_250\n",
      "label\n",
      "86.15946292457363\n",
      "            date_time   mock_date time_of_day part_of_day   time  bg_value id\n",
      "0 2021-12-07 17:12:00  2021-12-07    17:12:00     evening  15.92        91  a\n",
      "1 2021-12-07 17:17:00  2021-12-07    17:17:00     evening  16.00        89  a\n",
      "2 2021-12-07 17:22:00  2021-12-07    17:22:00     evening  16.08        87  a\n",
      "3 2021-12-07 17:27:00  2021-12-07    17:27:00     evening  16.17        86  a\n",
      "4 2021-12-07 17:32:00  2021-12-07    17:32:00     evening  16.25        85  a\n",
      "5 2021-12-07 17:37:00  2021-12-07    17:37:00     evening  16.33        87  a\n"
     ]
    },
    {
     "name": "stderr",
     "output_type": "stream",
     "text": [
      "100%|██████████| 1/1 [00:06<00:00,  6.07s/it]\n"
     ]
    },
    {
     "name": "stdout",
     "output_type": "stream",
     "text": [
      "bg_value__value_count__value_1_217\n",
      "bg_value__number_crossing_m__m_1_250\n",
      "label\n",
      "92.24165410805534\n",
      "            date_time   mock_date time_of_day part_of_day   time  bg_value id\n",
      "0 2021-12-07 17:17:00  2021-12-07    17:17:00     evening  16.00        89  a\n",
      "1 2021-12-07 17:22:00  2021-12-07    17:22:00     evening  16.08        87  a\n",
      "2 2021-12-07 17:27:00  2021-12-07    17:27:00     evening  16.17        86  a\n",
      "3 2021-12-07 17:32:00  2021-12-07    17:32:00     evening  16.25        85  a\n",
      "4 2021-12-07 17:37:00  2021-12-07    17:37:00     evening  16.33        87  a\n",
      "5 2021-12-07 17:42:00  2021-12-07    17:42:00     evening  16.42        88  a\n"
     ]
    },
    {
     "name": "stderr",
     "output_type": "stream",
     "text": [
      "100%|██████████| 1/1 [00:06<00:00,  6.54s/it]\n"
     ]
    },
    {
     "name": "stdout",
     "output_type": "stream",
     "text": [
      "bg_value__value_count__value_1_217\n",
      "bg_value__number_crossing_m__m_1_250\n",
      "label\n",
      "96.26719731777101\n",
      "            date_time   mock_date time_of_day part_of_day   time  bg_value id\n",
      "0 2021-12-07 17:22:00  2021-12-07    17:22:00     evening  16.08        87  a\n",
      "1 2021-12-07 17:27:00  2021-12-07    17:27:00     evening  16.17        86  a\n",
      "2 2021-12-07 17:32:00  2021-12-07    17:32:00     evening  16.25        85  a\n",
      "3 2021-12-07 17:37:00  2021-12-07    17:37:00     evening  16.33        87  a\n",
      "4 2021-12-07 17:42:00  2021-12-07    17:42:00     evening  16.42        88  a\n",
      "5 2021-12-07 17:47:00  2021-12-07    17:47:00     evening  16.50        88  a\n"
     ]
    },
    {
     "name": "stderr",
     "output_type": "stream",
     "text": [
      "100%|██████████| 1/1 [00:06<00:00,  6.69s/it]\n"
     ]
    },
    {
     "name": "stdout",
     "output_type": "stream",
     "text": [
      "bg_value__value_count__value_1_217\n",
      "bg_value__number_crossing_m__m_1_250\n",
      "label\n",
      "95.83285106506759\n",
      "            date_time   mock_date time_of_day part_of_day   time  bg_value id\n",
      "0 2021-12-07 17:27:00  2021-12-07    17:27:00     evening  16.17        86  a\n",
      "1 2021-12-07 17:32:00  2021-12-07    17:32:00     evening  16.25        85  a\n",
      "2 2021-12-07 17:37:00  2021-12-07    17:37:00     evening  16.33        87  a\n",
      "3 2021-12-07 17:42:00  2021-12-07    17:42:00     evening  16.42        88  a\n",
      "4 2021-12-07 17:47:00  2021-12-07    17:47:00     evening  16.50        88  a\n",
      "5 2021-12-07 17:52:00  2021-12-07    17:52:00     evening  16.58        87  a\n"
     ]
    },
    {
     "name": "stderr",
     "output_type": "stream",
     "text": [
      "100%|██████████| 1/1 [00:06<00:00,  6.48s/it]\n"
     ]
    },
    {
     "name": "stdout",
     "output_type": "stream",
     "text": [
      "bg_value__value_count__value_1_217\n",
      "bg_value__number_crossing_m__m_1_250\n",
      "label\n",
      "96.7259719952718\n",
      "            date_time   mock_date time_of_day part_of_day   time  bg_value id\n",
      "0 2021-12-07 17:32:00  2021-12-07    17:32:00     evening  16.25        85  a\n",
      "1 2021-12-07 17:37:00  2021-12-07    17:37:00     evening  16.33        87  a\n",
      "2 2021-12-07 17:42:00  2021-12-07    17:42:00     evening  16.42        88  a\n",
      "3 2021-12-07 17:47:00  2021-12-07    17:47:00     evening  16.50        88  a\n",
      "4 2021-12-07 17:52:00  2021-12-07    17:52:00     evening  16.58        87  a\n",
      "5 2021-12-07 17:57:00  2021-12-07    17:57:00     evening  16.67        88  a\n"
     ]
    },
    {
     "name": "stderr",
     "output_type": "stream",
     "text": [
      "100%|██████████| 1/1 [00:06<00:00,  6.52s/it]\n"
     ]
    },
    {
     "name": "stdout",
     "output_type": "stream",
     "text": [
      "bg_value__value_count__value_1_217\n",
      "bg_value__number_crossing_m__m_1_250\n",
      "label\n",
      "95.78070245534407\n",
      "            date_time   mock_date time_of_day part_of_day   time  bg_value id\n",
      "0 2021-12-07 17:37:00  2021-12-07    17:37:00     evening  16.33        87  a\n",
      "1 2021-12-07 17:42:00  2021-12-07    17:42:00     evening  16.42        88  a\n",
      "2 2021-12-07 17:47:00  2021-12-07    17:47:00     evening  16.50        88  a\n",
      "3 2021-12-07 17:52:00  2021-12-07    17:52:00     evening  16.58        87  a\n",
      "4 2021-12-07 17:57:00  2021-12-07    17:57:00     evening  16.67        88  a\n",
      "5 2021-12-07 18:02:00  2021-12-07    18:02:00     evening  16.75        92  a\n"
     ]
    },
    {
     "name": "stderr",
     "output_type": "stream",
     "text": [
      "100%|██████████| 1/1 [00:06<00:00,  6.13s/it]\n"
     ]
    },
    {
     "name": "stdout",
     "output_type": "stream",
     "text": [
      "bg_value__value_count__value_1_217\n",
      "bg_value__number_crossing_m__m_1_250\n",
      "label\n",
      "100.06753661885625\n",
      "            date_time   mock_date time_of_day part_of_day   time  bg_value id\n",
      "0 2021-12-07 17:42:00  2021-12-07    17:42:00     evening  16.42        88  a\n",
      "1 2021-12-07 17:47:00  2021-12-07    17:47:00     evening  16.50        88  a\n",
      "2 2021-12-07 17:52:00  2021-12-07    17:52:00     evening  16.58        87  a\n",
      "3 2021-12-07 17:57:00  2021-12-07    17:57:00     evening  16.67        88  a\n",
      "4 2021-12-07 18:02:00  2021-12-07    18:02:00     evening  16.75        92  a\n",
      "5 2021-12-07 18:07:00  2021-12-07    18:07:00     evening  16.83        92  a\n"
     ]
    },
    {
     "name": "stderr",
     "output_type": "stream",
     "text": [
      "100%|██████████| 1/1 [00:06<00:00,  6.61s/it]\n"
     ]
    },
    {
     "name": "stdout",
     "output_type": "stream",
     "text": [
      "bg_value__value_count__value_1_217\n",
      "bg_value__number_crossing_m__m_1_250\n",
      "label\n",
      "99.92327145711452\n",
      "            date_time   mock_date time_of_day part_of_day   time  bg_value id\n",
      "0 2021-12-07 17:47:00  2021-12-07    17:47:00     evening  16.50        88  a\n",
      "1 2021-12-07 17:52:00  2021-12-07    17:52:00     evening  16.58        87  a\n",
      "2 2021-12-07 17:57:00  2021-12-07    17:57:00     evening  16.67        88  a\n",
      "3 2021-12-07 18:02:00  2021-12-07    18:02:00     evening  16.75        92  a\n",
      "4 2021-12-07 18:07:00  2021-12-07    18:07:00     evening  16.83        92  a\n",
      "5 2021-12-07 18:12:00  2021-12-07    18:12:00     evening  16.92        89  a\n"
     ]
    },
    {
     "name": "stderr",
     "output_type": "stream",
     "text": [
      "100%|██████████| 1/1 [00:06<00:00,  6.64s/it]\n"
     ]
    },
    {
     "name": "stdout",
     "output_type": "stream",
     "text": [
      "bg_value__value_count__value_1_217\n",
      "bg_value__number_crossing_m__m_1_250\n",
      "label\n",
      "96.4610441420534\n",
      "            date_time   mock_date time_of_day part_of_day   time  bg_value id\n",
      "0 2021-12-07 17:52:00  2021-12-07    17:52:00     evening  16.58        87  a\n",
      "1 2021-12-07 17:57:00  2021-12-07    17:57:00     evening  16.67        88  a\n",
      "2 2021-12-07 18:02:00  2021-12-07    18:02:00     evening  16.75        92  a\n",
      "3 2021-12-07 18:07:00  2021-12-07    18:07:00     evening  16.83        92  a\n",
      "4 2021-12-07 18:12:00  2021-12-07    18:12:00     evening  16.92        89  a\n",
      "5 2021-12-07 18:17:00  2021-12-07    18:17:00     evening  17.00        92  a\n"
     ]
    },
    {
     "name": "stderr",
     "output_type": "stream",
     "text": [
      "100%|██████████| 1/1 [00:06<00:00,  6.42s/it]\n"
     ]
    },
    {
     "name": "stdout",
     "output_type": "stream",
     "text": [
      "bg_value__value_count__value_1_217\n",
      "bg_value__number_crossing_m__m_1_250\n",
      "label\n",
      "99.38746396096556\n",
      "            date_time   mock_date time_of_day part_of_day   time  bg_value id\n",
      "0 2021-12-07 17:57:00  2021-12-07    17:57:00     evening  16.67        88  a\n",
      "1 2021-12-07 18:02:00  2021-12-07    18:02:00     evening  16.75        92  a\n",
      "2 2021-12-07 18:07:00  2021-12-07    18:07:00     evening  16.83        92  a\n",
      "3 2021-12-07 18:12:00  2021-12-07    18:12:00     evening  16.92        89  a\n",
      "4 2021-12-07 18:17:00  2021-12-07    18:17:00     evening  17.00        92  a\n",
      "5 2021-12-07 18:22:00  2021-12-07    18:22:00     evening  17.08        90  a\n"
     ]
    },
    {
     "name": "stderr",
     "output_type": "stream",
     "text": [
      "100%|██████████| 1/1 [00:06<00:00,  6.16s/it]\n"
     ]
    },
    {
     "name": "stdout",
     "output_type": "stream",
     "text": [
      "bg_value__value_count__value_1_217\n",
      "bg_value__number_crossing_m__m_1_250\n",
      "label\n",
      "93.7969571117118\n",
      "            date_time   mock_date time_of_day part_of_day   time  bg_value id\n",
      "0 2021-12-07 18:02:00  2021-12-07    18:02:00     evening  16.75        92  a\n",
      "1 2021-12-07 18:07:00  2021-12-07    18:07:00     evening  16.83        92  a\n",
      "2 2021-12-07 18:12:00  2021-12-07    18:12:00     evening  16.92        89  a\n",
      "3 2021-12-07 18:17:00  2021-12-07    18:17:00     evening  17.00        92  a\n",
      "4 2021-12-07 18:22:00  2021-12-07    18:22:00     evening  17.08        90  a\n",
      "5 2021-12-07 18:27:00  2021-12-07    18:27:00     evening  17.17        89  a\n"
     ]
    },
    {
     "name": "stderr",
     "output_type": "stream",
     "text": [
      "100%|██████████| 1/1 [00:06<00:00,  6.44s/it]\n"
     ]
    },
    {
     "name": "stdout",
     "output_type": "stream",
     "text": [
      "bg_value__value_count__value_1_217\n",
      "bg_value__number_crossing_m__m_1_250\n",
      "label\n",
      "92.37631899215673\n",
      "            date_time   mock_date time_of_day part_of_day   time  bg_value id\n",
      "0 2021-12-07 18:07:00  2021-12-07    18:07:00     evening  16.83        92  a\n",
      "1 2021-12-07 18:12:00  2021-12-07    18:12:00     evening  16.92        89  a\n",
      "2 2021-12-07 18:17:00  2021-12-07    18:17:00     evening  17.00        92  a\n",
      "3 2021-12-07 18:22:00  2021-12-07    18:22:00     evening  17.08        90  a\n",
      "4 2021-12-07 18:27:00  2021-12-07    18:27:00     evening  17.17        89  a\n",
      "5 2021-12-07 18:32:00  2021-12-07    18:32:00     evening  17.25        86  a\n"
     ]
    },
    {
     "name": "stderr",
     "output_type": "stream",
     "text": [
      "100%|██████████| 1/1 [00:06<00:00,  6.35s/it]\n"
     ]
    },
    {
     "name": "stdout",
     "output_type": "stream",
     "text": [
      "bg_value__value_count__value_1_217\n",
      "bg_value__number_crossing_m__m_1_250\n",
      "label\n",
      "89.33576570945414\n",
      "            date_time   mock_date time_of_day part_of_day   time  bg_value id\n",
      "0 2021-12-07 18:12:00  2021-12-07    18:12:00     evening  16.92        89  a\n",
      "1 2021-12-07 18:17:00  2021-12-07    18:17:00     evening  17.00        92  a\n",
      "2 2021-12-07 18:22:00  2021-12-07    18:22:00     evening  17.08        90  a\n",
      "3 2021-12-07 18:27:00  2021-12-07    18:27:00     evening  17.17        89  a\n",
      "4 2021-12-07 18:32:00  2021-12-07    18:32:00     evening  17.25        86  a\n",
      "5 2021-12-07 18:37:00  2021-12-07    18:37:00     evening  17.33        87  a\n"
     ]
    },
    {
     "name": "stderr",
     "output_type": "stream",
     "text": [
      "100%|██████████| 1/1 [00:07<00:00,  7.24s/it]\n"
     ]
    },
    {
     "name": "stdout",
     "output_type": "stream",
     "text": [
      "bg_value__value_count__value_1_217\n",
      "bg_value__number_crossing_m__m_1_250\n",
      "label\n",
      "95.05156402988565\n",
      "            date_time   mock_date time_of_day part_of_day   time  bg_value id\n",
      "0 2021-12-07 18:17:00  2021-12-07    18:17:00     evening  17.00        92  a\n",
      "1 2021-12-07 18:22:00  2021-12-07    18:22:00     evening  17.08        90  a\n",
      "2 2021-12-07 18:27:00  2021-12-07    18:27:00     evening  17.17        89  a\n",
      "3 2021-12-07 18:32:00  2021-12-07    18:32:00     evening  17.25        86  a\n",
      "4 2021-12-07 18:37:00  2021-12-07    18:37:00     evening  17.33        87  a\n",
      "5 2021-12-07 18:42:00  2021-12-07    18:42:00     evening  17.42        90  a\n"
     ]
    },
    {
     "name": "stderr",
     "output_type": "stream",
     "text": [
      "100%|██████████| 1/1 [00:06<00:00,  6.34s/it]\n"
     ]
    },
    {
     "name": "stdout",
     "output_type": "stream",
     "text": [
      "bg_value__value_count__value_1_217\n",
      "bg_value__number_crossing_m__m_1_250\n",
      "label\n",
      "99.33440333729212\n",
      "            date_time   mock_date time_of_day part_of_day   time  bg_value id\n",
      "0 2021-12-07 18:22:00  2021-12-07    18:22:00     evening  17.08        90  a\n",
      "1 2021-12-07 18:27:00  2021-12-07    18:27:00     evening  17.17        89  a\n",
      "2 2021-12-07 18:32:00  2021-12-07    18:32:00     evening  17.25        86  a\n",
      "3 2021-12-07 18:37:00  2021-12-07    18:37:00     evening  17.33        87  a\n",
      "4 2021-12-07 18:42:00  2021-12-07    18:42:00     evening  17.42        90  a\n",
      "5 2021-12-07 18:47:00  2021-12-07    18:47:00     evening  17.50        92  a\n"
     ]
    },
    {
     "name": "stderr",
     "output_type": "stream",
     "text": [
      "100%|██████████| 1/1 [00:06<00:00,  6.53s/it]\n"
     ]
    },
    {
     "name": "stdout",
     "output_type": "stream",
     "text": [
      "bg_value__value_count__value_1_217\n",
      "bg_value__number_crossing_m__m_1_250\n",
      "label\n",
      "104.28287298976441\n",
      "            date_time   mock_date time_of_day part_of_day   time  bg_value id\n",
      "0 2021-12-07 18:27:00  2021-12-07    18:27:00     evening  17.17        89  a\n",
      "1 2021-12-07 18:32:00  2021-12-07    18:32:00     evening  17.25        86  a\n",
      "2 2021-12-07 18:37:00  2021-12-07    18:37:00     evening  17.33        87  a\n",
      "3 2021-12-07 18:42:00  2021-12-07    18:42:00     evening  17.42        90  a\n",
      "4 2021-12-07 18:47:00  2021-12-07    18:47:00     evening  17.50        92  a\n",
      "5 2021-12-07 18:52:00  2021-12-07    18:52:00     evening  17.58        95  a\n"
     ]
    },
    {
     "name": "stderr",
     "output_type": "stream",
     "text": [
      "100%|██████████| 1/1 [00:06<00:00,  6.70s/it]\n"
     ]
    },
    {
     "name": "stdout",
     "output_type": "stream",
     "text": [
      "bg_value__value_count__value_1_217\n",
      "bg_value__number_crossing_m__m_1_250\n",
      "label\n",
      "108.96335901900382\n",
      "            date_time   mock_date time_of_day part_of_day   time  bg_value id\n",
      "0 2021-12-07 18:32:00  2021-12-07    18:32:00     evening  17.25        86  a\n",
      "1 2021-12-07 18:37:00  2021-12-07    18:37:00     evening  17.33        87  a\n",
      "2 2021-12-07 18:42:00  2021-12-07    18:42:00     evening  17.42        90  a\n",
      "3 2021-12-07 18:47:00  2021-12-07    18:47:00     evening  17.50        92  a\n",
      "4 2021-12-07 18:52:00  2021-12-07    18:52:00     evening  17.58        95  a\n",
      "5 2021-12-07 18:57:00  2021-12-07    18:57:00     evening  17.67        95  a\n"
     ]
    },
    {
     "name": "stderr",
     "output_type": "stream",
     "text": [
      "100%|██████████| 1/1 [00:07<00:00,  7.05s/it]\n"
     ]
    },
    {
     "name": "stdout",
     "output_type": "stream",
     "text": [
      "bg_value__value_count__value_1_217\n",
      "bg_value__number_crossing_m__m_1_250\n",
      "label\n",
      "111.37834383932316\n",
      "            date_time   mock_date time_of_day part_of_day   time  bg_value id\n",
      "0 2021-12-07 18:37:00  2021-12-07    18:37:00     evening  17.33        87  a\n",
      "1 2021-12-07 18:42:00  2021-12-07    18:42:00     evening  17.42        90  a\n",
      "2 2021-12-07 18:47:00  2021-12-07    18:47:00     evening  17.50        92  a\n",
      "3 2021-12-07 18:52:00  2021-12-07    18:52:00     evening  17.58        95  a\n",
      "4 2021-12-07 18:57:00  2021-12-07    18:57:00     evening  17.67        95  a\n",
      "5 2021-12-07 19:02:00  2021-12-07    19:02:00     evening  17.75        95  a\n"
     ]
    },
    {
     "name": "stderr",
     "output_type": "stream",
     "text": [
      "100%|██████████| 1/1 [00:06<00:00,  6.34s/it]\n"
     ]
    },
    {
     "name": "stdout",
     "output_type": "stream",
     "text": [
      "bg_value__value_count__value_1_217\n",
      "bg_value__number_crossing_m__m_1_250\n",
      "label\n",
      "102.7258173778557\n",
      "            date_time   mock_date time_of_day part_of_day   time  bg_value id\n",
      "0 2021-12-07 18:42:00  2021-12-07    18:42:00     evening  17.42        90  a\n",
      "1 2021-12-07 18:47:00  2021-12-07    18:47:00     evening  17.50        92  a\n",
      "2 2021-12-07 18:52:00  2021-12-07    18:52:00     evening  17.58        95  a\n",
      "3 2021-12-07 18:57:00  2021-12-07    18:57:00     evening  17.67        95  a\n",
      "4 2021-12-07 19:02:00  2021-12-07    19:02:00     evening  17.75        95  a\n",
      "5 2021-12-07 19:07:00  2021-12-07    19:07:00     evening  17.83        96  a\n"
     ]
    },
    {
     "name": "stderr",
     "output_type": "stream",
     "text": [
      "100%|██████████| 1/1 [00:05<00:00,  5.95s/it]\n"
     ]
    },
    {
     "name": "stdout",
     "output_type": "stream",
     "text": [
      "bg_value__value_count__value_1_217\n",
      "bg_value__number_crossing_m__m_1_250\n",
      "label\n",
      "106.08173557357414\n",
      "            date_time   mock_date time_of_day part_of_day   time  bg_value id\n",
      "0 2021-12-07 18:47:00  2021-12-07    18:47:00     evening  17.50        92  a\n",
      "1 2021-12-07 18:52:00  2021-12-07    18:52:00     evening  17.58        95  a\n",
      "2 2021-12-07 18:57:00  2021-12-07    18:57:00     evening  17.67        95  a\n",
      "3 2021-12-07 19:02:00  2021-12-07    19:02:00     evening  17.75        95  a\n",
      "4 2021-12-07 19:07:00  2021-12-07    19:07:00     evening  17.83        96  a\n",
      "5 2021-12-07 19:12:00  2021-12-07    19:12:00     evening  17.92        96  a\n"
     ]
    },
    {
     "name": "stderr",
     "output_type": "stream",
     "text": [
      "100%|██████████| 1/1 [00:05<00:00,  5.78s/it]\n"
     ]
    },
    {
     "name": "stdout",
     "output_type": "stream",
     "text": [
      "bg_value__value_count__value_1_217\n",
      "bg_value__number_crossing_m__m_1_250\n",
      "label\n",
      "102.82474744738174\n",
      "            date_time   mock_date time_of_day part_of_day   time  bg_value id\n",
      "0 2021-12-07 18:52:00  2021-12-07    18:52:00     evening  17.58        95  a\n",
      "1 2021-12-07 18:57:00  2021-12-07    18:57:00     evening  17.67        95  a\n",
      "2 2021-12-07 19:02:00  2021-12-07    19:02:00     evening  17.75        95  a\n",
      "3 2021-12-07 19:07:00  2021-12-07    19:07:00     evening  17.83        96  a\n",
      "4 2021-12-07 19:12:00  2021-12-07    19:12:00     evening  17.92        96  a\n",
      "5 2021-12-07 19:17:00  2021-12-07    19:17:00     evening  18.00        94  a\n"
     ]
    },
    {
     "name": "stderr",
     "output_type": "stream",
     "text": [
      "100%|██████████| 1/1 [00:05<00:00,  5.69s/it]\n"
     ]
    },
    {
     "name": "stdout",
     "output_type": "stream",
     "text": [
      "bg_value__value_count__value_1_217\n",
      "bg_value__number_crossing_m__m_1_250\n",
      "label\n",
      "95.65069170985618\n",
      "            date_time   mock_date time_of_day part_of_day   time  bg_value id\n",
      "0 2021-12-07 18:57:00  2021-12-07    18:57:00     evening  17.67        95  a\n",
      "1 2021-12-07 19:02:00  2021-12-07    19:02:00     evening  17.75        95  a\n",
      "2 2021-12-07 19:07:00  2021-12-07    19:07:00     evening  17.83        96  a\n",
      "3 2021-12-07 19:12:00  2021-12-07    19:12:00     evening  17.92        96  a\n",
      "4 2021-12-07 19:17:00  2021-12-07    19:17:00     evening  18.00        94  a\n",
      "5 2021-12-07 19:22:00  2021-12-07    19:22:00     evening  18.08        94  a\n"
     ]
    },
    {
     "name": "stderr",
     "output_type": "stream",
     "text": [
      "100%|██████████| 1/1 [00:05<00:00,  5.58s/it]\n"
     ]
    },
    {
     "name": "stdout",
     "output_type": "stream",
     "text": [
      "bg_value__value_count__value_1_217\n",
      "bg_value__number_crossing_m__m_1_250\n",
      "label\n",
      "97.52628215629967\n",
      "            date_time   mock_date time_of_day part_of_day   time  bg_value id\n",
      "0 2021-12-07 19:02:00  2021-12-07    19:02:00     evening  17.75        95  a\n",
      "1 2021-12-07 19:07:00  2021-12-07    19:07:00     evening  17.83        96  a\n",
      "2 2021-12-07 19:12:00  2021-12-07    19:12:00     evening  17.92        96  a\n",
      "3 2021-12-07 19:17:00  2021-12-07    19:17:00     evening  18.00        94  a\n",
      "4 2021-12-07 19:22:00  2021-12-07    19:22:00     evening  18.08        94  a\n",
      "5 2021-12-07 19:27:00  2021-12-07    19:27:00     evening  18.17       101  a\n"
     ]
    },
    {
     "name": "stderr",
     "output_type": "stream",
     "text": [
      "100%|██████████| 1/1 [00:05<00:00,  5.65s/it]\n"
     ]
    },
    {
     "name": "stdout",
     "output_type": "stream",
     "text": [
      "bg_value__value_count__value_1_217\n",
      "bg_value__number_crossing_m__m_1_250\n",
      "label\n",
      "106.42876867010398\n",
      "            date_time   mock_date time_of_day part_of_day   time  bg_value id\n",
      "0 2021-12-07 19:07:00  2021-12-07    19:07:00     evening  17.83        96  a\n",
      "1 2021-12-07 19:12:00  2021-12-07    19:12:00     evening  17.92        96  a\n",
      "2 2021-12-07 19:17:00  2021-12-07    19:17:00     evening  18.00        94  a\n",
      "3 2021-12-07 19:22:00  2021-12-07    19:22:00     evening  18.08        94  a\n",
      "4 2021-12-07 19:27:00  2021-12-07    19:27:00     evening  18.17       101  a\n",
      "5 2021-12-07 19:32:00  2021-12-07    19:32:00     evening  18.25       104  a\n"
     ]
    },
    {
     "name": "stderr",
     "output_type": "stream",
     "text": [
      "100%|██████████| 1/1 [00:05<00:00,  5.70s/it]\n"
     ]
    },
    {
     "name": "stdout",
     "output_type": "stream",
     "text": [
      "bg_value__value_count__value_1_217\n",
      "bg_value__number_crossing_m__m_1_250\n",
      "label\n",
      "110.06759932092342\n",
      "            date_time   mock_date time_of_day part_of_day   time  bg_value id\n",
      "0 2021-12-07 19:12:00  2021-12-07    19:12:00     evening  17.92        96  a\n",
      "1 2021-12-07 19:17:00  2021-12-07    19:17:00     evening  18.00        94  a\n",
      "2 2021-12-07 19:22:00  2021-12-07    19:22:00     evening  18.08        94  a\n",
      "3 2021-12-07 19:27:00  2021-12-07    19:27:00     evening  18.17       101  a\n",
      "4 2021-12-07 19:32:00  2021-12-07    19:32:00     evening  18.25       104  a\n",
      "5 2021-12-07 19:37:00  2021-12-07    19:37:00     evening  18.33        97  a\n"
     ]
    },
    {
     "name": "stderr",
     "output_type": "stream",
     "text": [
      "100%|██████████| 1/1 [00:05<00:00,  5.78s/it]\n"
     ]
    },
    {
     "name": "stdout",
     "output_type": "stream",
     "text": [
      "bg_value__value_count__value_1_217\n",
      "bg_value__number_crossing_m__m_1_250\n",
      "label\n",
      "109.52383012166607\n",
      "            date_time   mock_date time_of_day part_of_day   time  bg_value id\n",
      "0 2021-12-07 19:17:00  2021-12-07    19:17:00     evening  18.00        94  a\n",
      "1 2021-12-07 19:22:00  2021-12-07    19:22:00     evening  18.08        94  a\n",
      "2 2021-12-07 19:27:00  2021-12-07    19:27:00     evening  18.17       101  a\n",
      "3 2021-12-07 19:32:00  2021-12-07    19:32:00     evening  18.25       104  a\n",
      "4 2021-12-07 19:37:00  2021-12-07    19:37:00     evening  18.33        97  a\n",
      "5 2021-12-07 19:42:00  2021-12-07    19:42:00     evening  18.42        96  a\n"
     ]
    },
    {
     "name": "stderr",
     "output_type": "stream",
     "text": [
      "100%|██████████| 1/1 [00:05<00:00,  5.70s/it]\n"
     ]
    },
    {
     "name": "stdout",
     "output_type": "stream",
     "text": [
      "bg_value__value_count__value_1_217\n",
      "bg_value__number_crossing_m__m_1_250\n",
      "label\n",
      "109.06039718721452\n",
      "            date_time   mock_date time_of_day part_of_day   time  bg_value id\n",
      "0 2021-12-07 19:22:00  2021-12-07    19:22:00     evening  18.08        94  a\n",
      "1 2021-12-07 19:27:00  2021-12-07    19:27:00     evening  18.17       101  a\n",
      "2 2021-12-07 19:32:00  2021-12-07    19:32:00     evening  18.25       104  a\n",
      "3 2021-12-07 19:37:00  2021-12-07    19:37:00     evening  18.33        97  a\n",
      "4 2021-12-07 19:42:00  2021-12-07    19:42:00     evening  18.42        96  a\n",
      "5 2021-12-07 19:47:00  2021-12-07    19:47:00     evening  18.50        96  a\n"
     ]
    },
    {
     "name": "stderr",
     "output_type": "stream",
     "text": [
      "100%|██████████| 1/1 [00:05<00:00,  5.81s/it]\n"
     ]
    },
    {
     "name": "stdout",
     "output_type": "stream",
     "text": [
      "bg_value__value_count__value_1_217\n",
      "bg_value__number_crossing_m__m_1_250\n",
      "label\n",
      "98.13694977313752\n",
      "            date_time   mock_date time_of_day part_of_day   time  bg_value id\n",
      "0 2021-12-07 19:27:00  2021-12-07    19:27:00     evening  18.17       101  a\n",
      "1 2021-12-07 19:32:00  2021-12-07    19:32:00     evening  18.25       104  a\n",
      "2 2021-12-07 19:37:00  2021-12-07    19:37:00     evening  18.33        97  a\n",
      "3 2021-12-07 19:42:00  2021-12-07    19:42:00     evening  18.42        96  a\n",
      "4 2021-12-07 19:47:00  2021-12-07    19:47:00     evening  18.50        96  a\n",
      "5 2021-12-07 19:52:00  2021-12-07    19:52:00     evening  18.58        96  a\n"
     ]
    },
    {
     "name": "stderr",
     "output_type": "stream",
     "text": [
      "100%|██████████| 1/1 [00:06<00:00,  6.22s/it]\n"
     ]
    },
    {
     "name": "stdout",
     "output_type": "stream",
     "text": [
      "bg_value__value_count__value_1_217\n",
      "bg_value__number_crossing_m__m_1_250\n",
      "label\n",
      "92.16372213935848\n",
      "            date_time   mock_date time_of_day part_of_day   time  bg_value id\n",
      "0 2021-12-07 19:32:00  2021-12-07    19:32:00     evening  18.25       104  a\n",
      "1 2021-12-07 19:37:00  2021-12-07    19:37:00     evening  18.33        97  a\n",
      "2 2021-12-07 19:42:00  2021-12-07    19:42:00     evening  18.42        96  a\n",
      "3 2021-12-07 19:47:00  2021-12-07    19:47:00     evening  18.50        96  a\n",
      "4 2021-12-07 19:52:00  2021-12-07    19:52:00     evening  18.58        96  a\n",
      "5 2021-12-07 19:57:00  2021-12-07    19:57:00     evening  18.67        93  a\n"
     ]
    },
    {
     "name": "stderr",
     "output_type": "stream",
     "text": [
      "100%|██████████| 1/1 [00:05<00:00,  5.71s/it]\n"
     ]
    },
    {
     "name": "stdout",
     "output_type": "stream",
     "text": [
      "bg_value__value_count__value_1_217\n",
      "bg_value__number_crossing_m__m_1_250\n",
      "label\n",
      "93.80165866783348\n",
      "            date_time   mock_date time_of_day part_of_day   time  bg_value id\n",
      "0 2021-12-07 19:37:00  2021-12-07    19:37:00     evening  18.33        97  a\n",
      "1 2021-12-07 19:42:00  2021-12-07    19:42:00     evening  18.42        96  a\n",
      "2 2021-12-07 19:47:00  2021-12-07    19:47:00     evening  18.50        96  a\n",
      "3 2021-12-07 19:52:00  2021-12-07    19:52:00     evening  18.58        96  a\n",
      "4 2021-12-07 19:57:00  2021-12-07    19:57:00     evening  18.67        93  a\n",
      "5 2021-12-07 20:02:00  2021-12-07    20:02:00     evening  18.75        86  a\n"
     ]
    },
    {
     "name": "stderr",
     "output_type": "stream",
     "text": [
      "100%|██████████| 1/1 [00:05<00:00,  5.65s/it]\n"
     ]
    },
    {
     "name": "stdout",
     "output_type": "stream",
     "text": [
      "bg_value__value_count__value_1_217\n",
      "bg_value__number_crossing_m__m_1_250\n",
      "label\n",
      "87.96089129731745\n",
      "            date_time   mock_date time_of_day part_of_day   time  bg_value id\n",
      "0 2021-12-07 19:42:00  2021-12-07    19:42:00     evening  18.42        96  a\n",
      "1 2021-12-07 19:47:00  2021-12-07    19:47:00     evening  18.50        96  a\n",
      "2 2021-12-07 19:52:00  2021-12-07    19:52:00     evening  18.58        96  a\n",
      "3 2021-12-07 19:57:00  2021-12-07    19:57:00     evening  18.67        93  a\n",
      "4 2021-12-07 20:02:00  2021-12-07    20:02:00     evening  18.75        86  a\n",
      "5 2021-12-07 20:07:00  2021-12-07    20:07:00     evening  18.83        86  a\n"
     ]
    },
    {
     "name": "stderr",
     "output_type": "stream",
     "text": [
      "100%|██████████| 1/1 [00:05<00:00,  5.68s/it]\n"
     ]
    },
    {
     "name": "stdout",
     "output_type": "stream",
     "text": [
      "bg_value__value_count__value_1_217\n",
      "bg_value__number_crossing_m__m_1_250\n",
      "label\n",
      "94.82965617613364\n",
      "            date_time   mock_date time_of_day part_of_day   time  bg_value id\n",
      "0 2021-12-07 19:47:00  2021-12-07    19:47:00     evening  18.50        96  a\n",
      "1 2021-12-07 19:52:00  2021-12-07    19:52:00     evening  18.58        96  a\n",
      "2 2021-12-07 19:57:00  2021-12-07    19:57:00     evening  18.67        93  a\n",
      "3 2021-12-07 20:02:00  2021-12-07    20:02:00     evening  18.75        86  a\n",
      "4 2021-12-07 20:07:00  2021-12-07    20:07:00     evening  18.83        86  a\n",
      "5 2021-12-07 20:12:00  2021-12-07    20:12:00     evening  18.92        86  a\n"
     ]
    },
    {
     "name": "stderr",
     "output_type": "stream",
     "text": [
      "100%|██████████| 1/1 [00:05<00:00,  5.54s/it]\n"
     ]
    },
    {
     "name": "stdout",
     "output_type": "stream",
     "text": [
      "bg_value__value_count__value_1_217\n",
      "bg_value__number_crossing_m__m_1_250\n",
      "label\n",
      "95.8313964676067\n",
      "            date_time   mock_date time_of_day part_of_day   time  bg_value id\n",
      "0 2021-12-07 19:52:00  2021-12-07    19:52:00     evening  18.58        96  a\n",
      "1 2021-12-07 19:57:00  2021-12-07    19:57:00     evening  18.67        93  a\n",
      "2 2021-12-07 20:02:00  2021-12-07    20:02:00     evening  18.75        86  a\n",
      "3 2021-12-07 20:07:00  2021-12-07    20:07:00     evening  18.83        86  a\n",
      "4 2021-12-07 20:12:00  2021-12-07    20:12:00     evening  18.92        86  a\n",
      "5 2021-12-08 00:04:00  2021-12-08    00:04:00  late night  22.78       343  a\n"
     ]
    },
    {
     "name": "stderr",
     "output_type": "stream",
     "text": [
      "100%|██████████| 1/1 [00:05<00:00,  5.64s/it]\n"
     ]
    },
    {
     "name": "stdout",
     "output_type": "stream",
     "text": [
      "bg_value__value_count__value_1_217\n",
      "bg_value__number_crossing_m__m_1_250\n",
      "label\n",
      "266.09299858829723\n",
      "            date_time   mock_date time_of_day part_of_day   time  bg_value id\n",
      "0 2021-12-07 19:57:00  2021-12-07    19:57:00     evening  18.67        93  a\n",
      "1 2021-12-07 20:02:00  2021-12-07    20:02:00     evening  18.75        86  a\n",
      "2 2021-12-07 20:07:00  2021-12-07    20:07:00     evening  18.83        86  a\n",
      "3 2021-12-07 20:12:00  2021-12-07    20:12:00     evening  18.92        86  a\n",
      "4 2021-12-08 00:04:00  2021-12-08    00:04:00  late night  22.78       343  a\n",
      "5 2021-12-08 00:09:00  2021-12-08    00:09:00  late night  22.87       346  a\n"
     ]
    },
    {
     "name": "stderr",
     "output_type": "stream",
     "text": [
      "100%|██████████| 1/1 [00:05<00:00,  5.67s/it]\n"
     ]
    },
    {
     "name": "stdout",
     "output_type": "stream",
     "text": [
      "bg_value__value_count__value_1_217\n",
      "bg_value__number_crossing_m__m_1_250\n",
      "label\n",
      "310.4025793130524\n",
      "            date_time   mock_date time_of_day part_of_day   time  bg_value id\n",
      "0 2021-12-07 20:02:00  2021-12-07    20:02:00     evening  18.75        86  a\n",
      "1 2021-12-07 20:07:00  2021-12-07    20:07:00     evening  18.83        86  a\n",
      "2 2021-12-07 20:12:00  2021-12-07    20:12:00     evening  18.92        86  a\n",
      "3 2021-12-08 00:04:00  2021-12-08    00:04:00  late night  22.78       343  a\n",
      "4 2021-12-08 00:09:00  2021-12-08    00:09:00  late night  22.87       346  a\n",
      "5 2021-12-08 00:14:00  2021-12-08    00:14:00  late night  22.95       346  a\n"
     ]
    },
    {
     "name": "stderr",
     "output_type": "stream",
     "text": [
      "100%|██████████| 1/1 [00:05<00:00,  5.70s/it]\n"
     ]
    },
    {
     "name": "stdout",
     "output_type": "stream",
     "text": [
      "bg_value__value_count__value_1_217\n",
      "bg_value__number_crossing_m__m_1_250\n",
      "label\n",
      "331.4771285528696\n",
      "            date_time   mock_date time_of_day part_of_day   time  bg_value id\n",
      "0 2021-12-07 20:07:00  2021-12-07    20:07:00     evening  18.83        86  a\n",
      "1 2021-12-07 20:12:00  2021-12-07    20:12:00     evening  18.92        86  a\n",
      "2 2021-12-08 00:04:00  2021-12-08    00:04:00  late night  22.78       343  a\n",
      "3 2021-12-08 00:09:00  2021-12-08    00:09:00  late night  22.87       346  a\n",
      "4 2021-12-08 00:14:00  2021-12-08    00:14:00  late night  22.95       346  a\n",
      "5 2021-12-08 00:19:00  2021-12-08    00:19:00  late night  23.03       344  a\n"
     ]
    },
    {
     "name": "stderr",
     "output_type": "stream",
     "text": [
      "100%|██████████| 1/1 [00:05<00:00,  5.74s/it]\n"
     ]
    },
    {
     "name": "stdout",
     "output_type": "stream",
     "text": [
      "bg_value__value_count__value_1_217\n",
      "bg_value__number_crossing_m__m_1_250\n",
      "label\n",
      "316.8680104350486\n",
      "            date_time   mock_date time_of_day part_of_day   time  bg_value id\n",
      "0 2021-12-07 20:12:00  2021-12-07    20:12:00     evening  18.92        86  a\n",
      "1 2021-12-08 00:04:00  2021-12-08    00:04:00  late night  22.78       343  a\n",
      "2 2021-12-08 00:09:00  2021-12-08    00:09:00  late night  22.87       346  a\n",
      "3 2021-12-08 00:14:00  2021-12-08    00:14:00  late night  22.95       346  a\n",
      "4 2021-12-08 00:19:00  2021-12-08    00:19:00  late night  23.03       344  a\n",
      "5 2021-12-08 00:24:00  2021-12-08    00:24:00  late night  23.12       340  a\n"
     ]
    },
    {
     "name": "stderr",
     "output_type": "stream",
     "text": [
      "100%|██████████| 1/1 [00:05<00:00,  5.71s/it]\n"
     ]
    },
    {
     "name": "stdout",
     "output_type": "stream",
     "text": [
      "bg_value__value_count__value_1_217\n",
      "bg_value__number_crossing_m__m_1_250\n",
      "label\n",
      "310.40211296690546\n",
      "            date_time   mock_date time_of_day part_of_day   time  bg_value id\n",
      "0 2021-12-08 00:04:00  2021-12-08    00:04:00  late night  22.78       343  a\n",
      "1 2021-12-08 00:09:00  2021-12-08    00:09:00  late night  22.87       346  a\n",
      "2 2021-12-08 00:14:00  2021-12-08    00:14:00  late night  22.95       346  a\n",
      "3 2021-12-08 00:19:00  2021-12-08    00:19:00  late night  23.03       344  a\n",
      "4 2021-12-08 00:24:00  2021-12-08    00:24:00  late night  23.12       340  a\n",
      "5 2021-12-08 00:29:00  2021-12-08    00:29:00  late night  23.20       339  a\n"
     ]
    },
    {
     "name": "stderr",
     "output_type": "stream",
     "text": [
      "100%|██████████| 1/1 [00:06<00:00,  6.18s/it]\n"
     ]
    },
    {
     "name": "stdout",
     "output_type": "stream",
     "text": [
      "bg_value__value_count__value_1_217\n",
      "bg_value__number_crossing_m__m_1_250\n",
      "label\n",
      "326.18518525586984\n",
      "            date_time   mock_date time_of_day part_of_day   time  bg_value id\n",
      "0 2021-12-08 00:09:00  2021-12-08    00:09:00  late night  22.87       346  a\n",
      "1 2021-12-08 00:14:00  2021-12-08    00:14:00  late night  22.95       346  a\n",
      "2 2021-12-08 00:19:00  2021-12-08    00:19:00  late night  23.03       344  a\n",
      "3 2021-12-08 00:24:00  2021-12-08    00:24:00  late night  23.12       340  a\n",
      "4 2021-12-08 00:29:00  2021-12-08    00:29:00  late night  23.20       339  a\n",
      "5 2021-12-08 00:34:00  2021-12-08    00:34:00  late night  23.28       347  a\n"
     ]
    },
    {
     "name": "stderr",
     "output_type": "stream",
     "text": [
      "100%|██████████| 1/1 [00:06<00:00,  6.67s/it]\n"
     ]
    },
    {
     "name": "stdout",
     "output_type": "stream",
     "text": [
      "bg_value__value_count__value_1_217\n",
      "bg_value__number_crossing_m__m_1_250\n",
      "label\n",
      "327.9394749716255\n",
      "            date_time   mock_date time_of_day part_of_day   time  bg_value id\n",
      "0 2021-12-08 00:14:00  2021-12-08    00:14:00  late night  22.95       346  a\n",
      "1 2021-12-08 00:19:00  2021-12-08    00:19:00  late night  23.03       344  a\n",
      "2 2021-12-08 00:24:00  2021-12-08    00:24:00  late night  23.12       340  a\n",
      "3 2021-12-08 00:29:00  2021-12-08    00:29:00  late night  23.20       339  a\n",
      "4 2021-12-08 00:34:00  2021-12-08    00:34:00  late night  23.28       347  a\n",
      "5 2021-12-08 00:39:00  2021-12-08    00:39:00  late night  23.37       340  a\n"
     ]
    },
    {
     "name": "stderr",
     "output_type": "stream",
     "text": [
      "100%|██████████| 1/1 [00:06<00:00,  6.46s/it]\n"
     ]
    },
    {
     "name": "stdout",
     "output_type": "stream",
     "text": [
      "bg_value__value_count__value_1_217\n",
      "bg_value__number_crossing_m__m_1_250\n",
      "label\n",
      "326.94172149234055\n",
      "            date_time   mock_date time_of_day part_of_day   time  bg_value id\n",
      "0 2021-12-08 00:19:00  2021-12-08    00:19:00  late night  23.03       344  a\n",
      "1 2021-12-08 00:24:00  2021-12-08    00:24:00  late night  23.12       340  a\n",
      "2 2021-12-08 00:29:00  2021-12-08    00:29:00  late night  23.20       339  a\n",
      "3 2021-12-08 00:34:00  2021-12-08    00:34:00  late night  23.28       347  a\n",
      "4 2021-12-08 00:39:00  2021-12-08    00:39:00  late night  23.37       340  a\n",
      "5 2021-12-08 00:44:00  2021-12-08    00:44:00  late night  23.45       329  a\n"
     ]
    },
    {
     "name": "stderr",
     "output_type": "stream",
     "text": [
      "100%|██████████| 1/1 [00:07<00:00,  7.54s/it]\n"
     ]
    },
    {
     "name": "stdout",
     "output_type": "stream",
     "text": [
      "bg_value__value_count__value_1_217\n",
      "bg_value__number_crossing_m__m_1_250\n",
      "label\n",
      "290.2543363398502\n",
      "            date_time   mock_date time_of_day part_of_day   time  bg_value id\n",
      "0 2021-12-08 00:24:00  2021-12-08    00:24:00  late night  23.12       340  a\n",
      "1 2021-12-08 00:29:00  2021-12-08    00:29:00  late night  23.20       339  a\n",
      "2 2021-12-08 00:34:00  2021-12-08    00:34:00  late night  23.28       347  a\n",
      "3 2021-12-08 00:39:00  2021-12-08    00:39:00  late night  23.37       340  a\n",
      "4 2021-12-08 00:44:00  2021-12-08    00:44:00  late night  23.45       329  a\n",
      "5 2021-12-08 00:49:00  2021-12-08    00:49:00  late night  23.53       317  a\n"
     ]
    },
    {
     "name": "stderr",
     "output_type": "stream",
     "text": [
      "100%|██████████| 1/1 [00:06<00:00,  6.50s/it]\n"
     ]
    },
    {
     "name": "stdout",
     "output_type": "stream",
     "text": [
      "bg_value__value_count__value_1_217\n",
      "bg_value__number_crossing_m__m_1_250\n",
      "label\n",
      "285.60503692962607\n",
      "            date_time   mock_date time_of_day part_of_day   time  bg_value id\n",
      "0 2021-12-08 00:29:00  2021-12-08    00:29:00  late night  23.20       339  a\n",
      "1 2021-12-08 00:34:00  2021-12-08    00:34:00  late night  23.28       347  a\n",
      "2 2021-12-08 00:39:00  2021-12-08    00:39:00  late night  23.37       340  a\n",
      "3 2021-12-08 00:44:00  2021-12-08    00:44:00  late night  23.45       329  a\n",
      "4 2021-12-08 00:49:00  2021-12-08    00:49:00  late night  23.53       317  a\n",
      "5 2021-12-08 00:54:00  2021-12-08    00:54:00  late night  23.62       312  a\n"
     ]
    },
    {
     "name": "stderr",
     "output_type": "stream",
     "text": [
      "100%|██████████| 1/1 [00:06<00:00,  6.33s/it]\n"
     ]
    },
    {
     "name": "stdout",
     "output_type": "stream",
     "text": [
      "bg_value__value_count__value_1_217\n",
      "bg_value__number_crossing_m__m_1_250\n",
      "label\n",
      "286.55493358912577\n",
      "            date_time   mock_date time_of_day part_of_day   time  bg_value id\n",
      "0 2021-12-08 00:34:00  2021-12-08    00:34:00  late night  23.28       347  a\n",
      "1 2021-12-08 00:39:00  2021-12-08    00:39:00  late night  23.37       340  a\n",
      "2 2021-12-08 00:44:00  2021-12-08    00:44:00  late night  23.45       329  a\n",
      "3 2021-12-08 00:49:00  2021-12-08    00:49:00  late night  23.53       317  a\n",
      "4 2021-12-08 00:54:00  2021-12-08    00:54:00  late night  23.62       312  a\n",
      "5 2021-12-08 00:59:00  2021-12-08    00:59:00  late night  23.70       314  a\n"
     ]
    },
    {
     "name": "stderr",
     "output_type": "stream",
     "text": [
      "100%|██████████| 1/1 [00:06<00:00,  6.32s/it]\n"
     ]
    },
    {
     "name": "stdout",
     "output_type": "stream",
     "text": [
      "bg_value__value_count__value_1_217\n",
      "bg_value__number_crossing_m__m_1_250\n",
      "label\n",
      "303.1262420443962\n",
      "            date_time   mock_date time_of_day part_of_day   time  bg_value id\n",
      "0 2021-12-08 00:39:00  2021-12-08    00:39:00  late night  23.37       340  a\n",
      "1 2021-12-08 00:44:00  2021-12-08    00:44:00  late night  23.45       329  a\n",
      "2 2021-12-08 00:49:00  2021-12-08    00:49:00  late night  23.53       317  a\n",
      "3 2021-12-08 00:54:00  2021-12-08    00:54:00  late night  23.62       312  a\n",
      "4 2021-12-08 00:59:00  2021-12-08    00:59:00  late night  23.70       314  a\n",
      "5 2021-12-08 01:04:00  2021-12-08    01:04:00  late night  23.78       311  a\n"
     ]
    },
    {
     "name": "stderr",
     "output_type": "stream",
     "text": [
      "100%|██████████| 1/1 [00:06<00:00,  6.52s/it]\n"
     ]
    },
    {
     "name": "stdout",
     "output_type": "stream",
     "text": [
      "bg_value__value_count__value_1_217\n",
      "bg_value__number_crossing_m__m_1_250\n",
      "label\n",
      "292.6898458225577\n",
      "            date_time   mock_date time_of_day part_of_day   time  bg_value id\n",
      "0 2021-12-08 00:44:00  2021-12-08    00:44:00  late night  23.45       329  a\n",
      "1 2021-12-08 00:49:00  2021-12-08    00:49:00  late night  23.53       317  a\n",
      "2 2021-12-08 00:54:00  2021-12-08    00:54:00  late night  23.62       312  a\n",
      "3 2021-12-08 00:59:00  2021-12-08    00:59:00  late night  23.70       314  a\n",
      "4 2021-12-08 01:04:00  2021-12-08    01:04:00  late night  23.78       311  a\n",
      "5 2021-12-08 01:09:00  2021-12-08    01:09:00  late night  23.87       296  a\n"
     ]
    },
    {
     "name": "stderr",
     "output_type": "stream",
     "text": [
      "100%|██████████| 1/1 [00:06<00:00,  6.45s/it]\n"
     ]
    },
    {
     "name": "stdout",
     "output_type": "stream",
     "text": [
      "bg_value__value_count__value_1_217\n",
      "bg_value__number_crossing_m__m_1_250\n",
      "label\n",
      "259.5529487841402\n",
      "            date_time   mock_date time_of_day part_of_day   time  bg_value id\n",
      "0 2021-12-08 00:49:00  2021-12-08    00:49:00  late night  23.53       317  a\n",
      "1 2021-12-08 00:54:00  2021-12-08    00:54:00  late night  23.62       312  a\n",
      "2 2021-12-08 00:59:00  2021-12-08    00:59:00  late night  23.70       314  a\n",
      "3 2021-12-08 01:04:00  2021-12-08    01:04:00  late night  23.78       311  a\n",
      "4 2021-12-08 01:09:00  2021-12-08    01:09:00  late night  23.87       296  a\n",
      "5 2021-12-08 01:14:00  2021-12-08    01:14:00  late night  23.95       287  a\n"
     ]
    },
    {
     "name": "stderr",
     "output_type": "stream",
     "text": [
      "100%|██████████| 1/1 [00:06<00:00,  6.47s/it]\n"
     ]
    },
    {
     "name": "stdout",
     "output_type": "stream",
     "text": [
      "bg_value__value_count__value_1_217\n",
      "bg_value__number_crossing_m__m_1_250\n",
      "label\n",
      "270.6844666391003\n",
      "            date_time   mock_date time_of_day part_of_day   time  bg_value id\n",
      "0 2021-12-08 00:54:00  2021-12-08    00:54:00  late night  23.62       312  a\n",
      "1 2021-12-08 00:59:00  2021-12-08    00:59:00  late night  23.70       314  a\n",
      "2 2021-12-08 01:04:00  2021-12-08    01:04:00  late night  23.78       311  a\n",
      "3 2021-12-08 01:09:00  2021-12-08    01:09:00  late night  23.87       296  a\n",
      "4 2021-12-08 01:14:00  2021-12-08    01:14:00  late night  23.95       287  a\n",
      "5 2021-12-08 01:19:00  2021-12-08    01:19:00  late night  24.03       282  a\n"
     ]
    },
    {
     "name": "stderr",
     "output_type": "stream",
     "text": [
      "100%|██████████| 1/1 [00:06<00:00,  6.29s/it]\n"
     ]
    },
    {
     "name": "stdout",
     "output_type": "stream",
     "text": [
      "bg_value__value_count__value_1_217\n",
      "bg_value__number_crossing_m__m_1_250\n",
      "label\n",
      "264.26271352797386\n",
      "            date_time   mock_date time_of_day part_of_day   time  bg_value id\n",
      "0 2021-12-08 00:59:00  2021-12-08    00:59:00  late night  23.70       314  a\n",
      "1 2021-12-08 01:04:00  2021-12-08    01:04:00  late night  23.78       311  a\n",
      "2 2021-12-08 01:09:00  2021-12-08    01:09:00  late night  23.87       296  a\n",
      "3 2021-12-08 01:14:00  2021-12-08    01:14:00  late night  23.95       287  a\n",
      "4 2021-12-08 01:19:00  2021-12-08    01:19:00  late night  24.03       282  a\n",
      "5 2021-12-08 01:24:00  2021-12-08    01:24:00  late night  24.12       279  a\n"
     ]
    },
    {
     "name": "stderr",
     "output_type": "stream",
     "text": [
      "100%|██████████| 1/1 [00:06<00:00,  6.20s/it]\n"
     ]
    },
    {
     "name": "stdout",
     "output_type": "stream",
     "text": [
      "bg_value__value_count__value_1_217\n",
      "bg_value__number_crossing_m__m_1_250\n",
      "label\n",
      "273.3282786521765\n",
      "            date_time   mock_date time_of_day part_of_day   time  bg_value id\n",
      "0 2021-12-08 01:04:00  2021-12-08    01:04:00  late night  23.78       311  a\n",
      "1 2021-12-08 01:09:00  2021-12-08    01:09:00  late night  23.87       296  a\n",
      "2 2021-12-08 01:14:00  2021-12-08    01:14:00  late night  23.95       287  a\n",
      "3 2021-12-08 01:19:00  2021-12-08    01:19:00  late night  24.03       282  a\n",
      "4 2021-12-08 01:24:00  2021-12-08    01:24:00  late night  24.12       279  a\n",
      "5 2021-12-08 01:29:00  2021-12-08    01:29:00  late night  24.20       275  a\n"
     ]
    },
    {
     "name": "stderr",
     "output_type": "stream",
     "text": [
      "100%|██████████| 1/1 [00:06<00:00,  6.22s/it]\n"
     ]
    },
    {
     "name": "stdout",
     "output_type": "stream",
     "text": [
      "bg_value__value_count__value_1_217\n",
      "bg_value__number_crossing_m__m_1_250\n",
      "label\n",
      "248.92897457191742\n",
      "            date_time   mock_date time_of_day part_of_day   time  bg_value id\n",
      "0 2021-12-08 01:09:00  2021-12-08    01:09:00  late night  23.87       296  a\n",
      "1 2021-12-08 01:14:00  2021-12-08    01:14:00  late night  23.95       287  a\n",
      "2 2021-12-08 01:19:00  2021-12-08    01:19:00  late night  24.03       282  a\n",
      "3 2021-12-08 01:24:00  2021-12-08    01:24:00  late night  24.12       279  a\n",
      "4 2021-12-08 01:29:00  2021-12-08    01:29:00  late night  24.20       275  a\n",
      "5 2021-12-08 01:34:00  2021-12-08    01:34:00  late night  24.28       273  a\n"
     ]
    },
    {
     "name": "stderr",
     "output_type": "stream",
     "text": [
      "100%|██████████| 1/1 [00:06<00:00,  6.29s/it]\n"
     ]
    },
    {
     "name": "stdout",
     "output_type": "stream",
     "text": [
      "bg_value__value_count__value_1_217\n",
      "bg_value__number_crossing_m__m_1_250\n",
      "label\n",
      "246.57475299041187\n",
      "            date_time   mock_date time_of_day part_of_day   time  bg_value id\n",
      "0 2021-12-08 01:14:00  2021-12-08    01:14:00  late night  23.95       287  a\n",
      "1 2021-12-08 01:19:00  2021-12-08    01:19:00  late night  24.03       282  a\n",
      "2 2021-12-08 01:24:00  2021-12-08    01:24:00  late night  24.12       279  a\n",
      "3 2021-12-08 01:29:00  2021-12-08    01:29:00  late night  24.20       275  a\n",
      "4 2021-12-08 01:34:00  2021-12-08    01:34:00  late night  24.28       273  a\n",
      "5 2021-12-08 01:39:00  2021-12-08    01:39:00  late night  24.37       273  a\n"
     ]
    },
    {
     "name": "stderr",
     "output_type": "stream",
     "text": [
      "100%|██████████| 1/1 [00:06<00:00,  6.09s/it]\n"
     ]
    },
    {
     "name": "stdout",
     "output_type": "stream",
     "text": [
      "bg_value__value_count__value_1_217\n",
      "bg_value__number_crossing_m__m_1_250\n",
      "label\n",
      "255.8151227826281\n",
      "            date_time   mock_date time_of_day part_of_day   time  bg_value id\n",
      "0 2021-12-08 01:19:00  2021-12-08    01:19:00  late night  24.03       282  a\n",
      "1 2021-12-08 01:24:00  2021-12-08    01:24:00  late night  24.12       279  a\n",
      "2 2021-12-08 01:29:00  2021-12-08    01:29:00  late night  24.20       275  a\n",
      "3 2021-12-08 01:34:00  2021-12-08    01:34:00  late night  24.28       273  a\n",
      "4 2021-12-08 01:39:00  2021-12-08    01:39:00  late night  24.37       273  a\n",
      "5 2021-12-08 01:44:00  2021-12-08    01:44:00  late night  24.45       270  a\n"
     ]
    },
    {
     "name": "stderr",
     "output_type": "stream",
     "text": [
      "100%|██████████| 1/1 [00:06<00:00,  6.62s/it]\n"
     ]
    },
    {
     "name": "stdout",
     "output_type": "stream",
     "text": [
      "bg_value__value_count__value_1_217\n",
      "bg_value__number_crossing_m__m_1_250\n",
      "label\n",
      "248.92125138632636\n",
      "            date_time   mock_date time_of_day part_of_day   time  bg_value id\n",
      "0 2021-12-08 01:24:00  2021-12-08    01:24:00  late night  24.12       279  a\n",
      "1 2021-12-08 01:29:00  2021-12-08    01:29:00  late night  24.20       275  a\n",
      "2 2021-12-08 01:34:00  2021-12-08    01:34:00  late night  24.28       273  a\n",
      "3 2021-12-08 01:39:00  2021-12-08    01:39:00  late night  24.37       273  a\n",
      "4 2021-12-08 01:44:00  2021-12-08    01:44:00  late night  24.45       270  a\n",
      "5 2021-12-08 01:49:00  2021-12-08    01:49:00  late night  24.53       267  a\n"
     ]
    },
    {
     "name": "stderr",
     "output_type": "stream",
     "text": [
      "100%|██████████| 1/1 [00:07<00:00,  7.23s/it]\n"
     ]
    },
    {
     "name": "stdout",
     "output_type": "stream",
     "text": [
      "bg_value__value_count__value_1_217\n",
      "bg_value__number_crossing_m__m_1_250\n",
      "label\n",
      "249.01007179792464\n",
      "            date_time   mock_date time_of_day part_of_day   time  bg_value id\n",
      "0 2021-12-08 01:29:00  2021-12-08    01:29:00  late night  24.20       275  a\n",
      "1 2021-12-08 01:34:00  2021-12-08    01:34:00  late night  24.28       273  a\n",
      "2 2021-12-08 01:39:00  2021-12-08    01:39:00  late night  24.37       273  a\n",
      "3 2021-12-08 01:44:00  2021-12-08    01:44:00  late night  24.45       270  a\n",
      "4 2021-12-08 01:49:00  2021-12-08    01:49:00  late night  24.53       267  a\n",
      "5 2021-12-08 01:54:00  2021-12-08    01:54:00  late night  24.62       264  a\n"
     ]
    },
    {
     "name": "stderr",
     "output_type": "stream",
     "text": [
      "100%|██████████| 1/1 [00:06<00:00,  6.39s/it]\n"
     ]
    },
    {
     "name": "stdout",
     "output_type": "stream",
     "text": [
      "bg_value__value_count__value_1_217\n",
      "bg_value__number_crossing_m__m_1_250\n",
      "label\n",
      "245.12721648573654\n",
      "            date_time   mock_date time_of_day part_of_day   time  bg_value id\n",
      "0 2021-12-08 01:34:00  2021-12-08    01:34:00  late night  24.28       273  a\n",
      "1 2021-12-08 01:39:00  2021-12-08    01:39:00  late night  24.37       273  a\n",
      "2 2021-12-08 01:44:00  2021-12-08    01:44:00  late night  24.45       270  a\n",
      "3 2021-12-08 01:49:00  2021-12-08    01:49:00  late night  24.53       267  a\n",
      "4 2021-12-08 01:54:00  2021-12-08    01:54:00  late night  24.62       264  a\n",
      "5 2021-12-08 01:59:00  2021-12-08    01:59:00  late night  24.70       266  a\n"
     ]
    },
    {
     "name": "stderr",
     "output_type": "stream",
     "text": [
      "100%|██████████| 1/1 [00:07<00:00,  7.05s/it]\n"
     ]
    },
    {
     "name": "stdout",
     "output_type": "stream",
     "text": [
      "bg_value__value_count__value_1_217\n",
      "bg_value__number_crossing_m__m_1_250\n",
      "label\n",
      "255.85990067593042\n",
      "            date_time   mock_date time_of_day part_of_day   time  bg_value id\n",
      "0 2021-12-08 01:39:00  2021-12-08    01:39:00  late night  24.37       273  a\n",
      "1 2021-12-08 01:44:00  2021-12-08    01:44:00  late night  24.45       270  a\n",
      "2 2021-12-08 01:49:00  2021-12-08    01:49:00  late night  24.53       267  a\n",
      "3 2021-12-08 01:54:00  2021-12-08    01:54:00  late night  24.62       264  a\n",
      "4 2021-12-08 01:59:00  2021-12-08    01:59:00  late night  24.70       266  a\n",
      "5 2021-12-08 02:04:00  2021-12-08    02:04:00  late night  24.78       268  a\n"
     ]
    },
    {
     "name": "stderr",
     "output_type": "stream",
     "text": [
      "100%|██████████| 1/1 [00:06<00:00,  6.28s/it]\n"
     ]
    },
    {
     "name": "stdout",
     "output_type": "stream",
     "text": [
      "bg_value__value_count__value_1_217\n",
      "bg_value__number_crossing_m__m_1_250\n",
      "label\n",
      "262.71475849325634\n",
      "            date_time   mock_date time_of_day part_of_day   time  bg_value id\n",
      "0 2021-12-08 01:44:00  2021-12-08    01:44:00  late night  24.45       270  a\n",
      "1 2021-12-08 01:49:00  2021-12-08    01:49:00  late night  24.53       267  a\n",
      "2 2021-12-08 01:54:00  2021-12-08    01:54:00  late night  24.62       264  a\n",
      "3 2021-12-08 01:59:00  2021-12-08    01:59:00  late night  24.70       266  a\n",
      "4 2021-12-08 02:04:00  2021-12-08    02:04:00  late night  24.78       268  a\n",
      "5 2021-12-08 02:09:00  2021-12-08    02:09:00  late night  24.87       267  a\n"
     ]
    },
    {
     "name": "stderr",
     "output_type": "stream",
     "text": [
      "100%|██████████| 1/1 [00:06<00:00,  6.28s/it]\n"
     ]
    },
    {
     "name": "stdout",
     "output_type": "stream",
     "text": [
      "bg_value__value_count__value_1_217\n",
      "bg_value__number_crossing_m__m_1_250\n",
      "label\n",
      "256.4023827755558\n",
      "            date_time   mock_date time_of_day part_of_day   time  bg_value id\n",
      "0 2021-12-08 01:49:00  2021-12-08    01:49:00  late night  24.53       267  a\n",
      "1 2021-12-08 01:54:00  2021-12-08    01:54:00  late night  24.62       264  a\n",
      "2 2021-12-08 01:59:00  2021-12-08    01:59:00  late night  24.70       266  a\n",
      "3 2021-12-08 02:04:00  2021-12-08    02:04:00  late night  24.78       268  a\n",
      "4 2021-12-08 02:09:00  2021-12-08    02:09:00  late night  24.87       267  a\n",
      "5 2021-12-08 02:14:00  2021-12-08    02:14:00  late night  24.95       265  a\n"
     ]
    },
    {
     "name": "stderr",
     "output_type": "stream",
     "text": [
      "100%|██████████| 1/1 [00:06<00:00,  6.17s/it]\n"
     ]
    },
    {
     "name": "stdout",
     "output_type": "stream",
     "text": [
      "bg_value__value_count__value_1_217\n",
      "bg_value__number_crossing_m__m_1_250\n",
      "label\n",
      "251.5521802765214\n",
      "            date_time   mock_date time_of_day part_of_day   time  bg_value id\n",
      "0 2021-12-08 01:54:00  2021-12-08    01:54:00  late night  24.62       264  a\n",
      "1 2021-12-08 01:59:00  2021-12-08    01:59:00  late night  24.70       266  a\n",
      "2 2021-12-08 02:04:00  2021-12-08    02:04:00  late night  24.78       268  a\n",
      "3 2021-12-08 02:09:00  2021-12-08    02:09:00  late night  24.87       267  a\n",
      "4 2021-12-08 02:14:00  2021-12-08    02:14:00  late night  24.95       265  a\n",
      "5 2021-12-08 02:19:00  2021-12-08    02:19:00  late night  25.03       262  a\n"
     ]
    },
    {
     "name": "stderr",
     "output_type": "stream",
     "text": [
      "100%|██████████| 1/1 [00:05<00:00,  5.93s/it]\n"
     ]
    },
    {
     "name": "stdout",
     "output_type": "stream",
     "text": [
      "bg_value__value_count__value_1_217\n",
      "bg_value__number_crossing_m__m_1_250\n",
      "label\n",
      "240.4597004505907\n",
      "            date_time   mock_date time_of_day part_of_day   time  bg_value id\n",
      "0 2021-12-08 01:59:00  2021-12-08    01:59:00  late night  24.70       266  a\n",
      "1 2021-12-08 02:04:00  2021-12-08    02:04:00  late night  24.78       268  a\n",
      "2 2021-12-08 02:09:00  2021-12-08    02:09:00  late night  24.87       267  a\n",
      "3 2021-12-08 02:14:00  2021-12-08    02:14:00  late night  24.95       265  a\n",
      "4 2021-12-08 02:19:00  2021-12-08    02:19:00  late night  25.03       262  a\n",
      "5 2021-12-08 02:24:00  2021-12-08    02:24:00  late night  25.12       259  a\n"
     ]
    },
    {
     "name": "stderr",
     "output_type": "stream",
     "text": [
      "100%|██████████| 1/1 [00:06<00:00,  6.34s/it]\n"
     ]
    },
    {
     "name": "stdout",
     "output_type": "stream",
     "text": [
      "bg_value__value_count__value_1_217\n",
      "bg_value__number_crossing_m__m_1_250\n",
      "label\n",
      "240.1066167570049\n",
      "            date_time   mock_date time_of_day part_of_day   time  bg_value id\n",
      "0 2021-12-08 02:04:00  2021-12-08    02:04:00  late night  24.78       268  a\n",
      "1 2021-12-08 02:09:00  2021-12-08    02:09:00  late night  24.87       267  a\n",
      "2 2021-12-08 02:14:00  2021-12-08    02:14:00  late night  24.95       265  a\n",
      "3 2021-12-08 02:19:00  2021-12-08    02:19:00  late night  25.03       262  a\n",
      "4 2021-12-08 02:24:00  2021-12-08    02:24:00  late night  25.12       259  a\n",
      "5 2021-12-08 02:29:00  2021-12-08    02:29:00  late night  25.20       259  a\n"
     ]
    },
    {
     "name": "stderr",
     "output_type": "stream",
     "text": [
      "100%|██████████| 1/1 [00:06<00:00,  6.23s/it]\n"
     ]
    },
    {
     "name": "stdout",
     "output_type": "stream",
     "text": [
      "bg_value__value_count__value_1_217\n",
      "bg_value__number_crossing_m__m_1_250\n",
      "label\n",
      "249.087024659749\n",
      "            date_time   mock_date time_of_day part_of_day   time  bg_value id\n",
      "0 2021-12-08 02:09:00  2021-12-08    02:09:00  late night  24.87       267  a\n",
      "1 2021-12-08 02:14:00  2021-12-08    02:14:00  late night  24.95       265  a\n",
      "2 2021-12-08 02:19:00  2021-12-08    02:19:00  late night  25.03       262  a\n",
      "3 2021-12-08 02:24:00  2021-12-08    02:24:00  late night  25.12       259  a\n",
      "4 2021-12-08 02:29:00  2021-12-08    02:29:00  late night  25.20       259  a\n",
      "5 2021-12-08 02:34:00  2021-12-08    02:34:00  late night  25.28       258  a\n"
     ]
    },
    {
     "name": "stderr",
     "output_type": "stream",
     "text": [
      "100%|██████████| 1/1 [00:06<00:00,  6.21s/it]\n"
     ]
    },
    {
     "name": "stdout",
     "output_type": "stream",
     "text": [
      "bg_value__value_count__value_1_217\n",
      "bg_value__number_crossing_m__m_1_250\n",
      "label\n",
      "249.08921985025543\n",
      "            date_time   mock_date time_of_day part_of_day   time  bg_value id\n",
      "0 2021-12-08 02:14:00  2021-12-08    02:14:00  late night  24.95       265  a\n",
      "1 2021-12-08 02:19:00  2021-12-08    02:19:00  late night  25.03       262  a\n",
      "2 2021-12-08 02:24:00  2021-12-08    02:24:00  late night  25.12       259  a\n",
      "3 2021-12-08 02:29:00  2021-12-08    02:29:00  late night  25.20       259  a\n",
      "4 2021-12-08 02:34:00  2021-12-08    02:34:00  late night  25.28       258  a\n",
      "5 2021-12-08 02:39:00  2021-12-08    02:39:00  late night  25.37       258  a\n"
     ]
    },
    {
     "name": "stderr",
     "output_type": "stream",
     "text": [
      "100%|██████████| 1/1 [00:06<00:00,  6.15s/it]\n"
     ]
    },
    {
     "name": "stdout",
     "output_type": "stream",
     "text": [
      "bg_value__value_count__value_1_217\n",
      "bg_value__number_crossing_m__m_1_250\n",
      "label\n",
      "277.3174602922354\n",
      "            date_time   mock_date time_of_day part_of_day   time  bg_value id\n",
      "0 2021-12-08 02:19:00  2021-12-08    02:19:00  late night  25.03       262  a\n",
      "1 2021-12-08 02:24:00  2021-12-08    02:24:00  late night  25.12       259  a\n",
      "2 2021-12-08 02:29:00  2021-12-08    02:29:00  late night  25.20       259  a\n",
      "3 2021-12-08 02:34:00  2021-12-08    02:34:00  late night  25.28       258  a\n",
      "4 2021-12-08 02:39:00  2021-12-08    02:39:00  late night  25.37       258  a\n",
      "5 2021-12-08 02:44:00  2021-12-08    02:44:00  late night  25.45       257  a\n"
     ]
    },
    {
     "name": "stderr",
     "output_type": "stream",
     "text": [
      "100%|██████████| 1/1 [00:06<00:00,  6.15s/it]\n"
     ]
    },
    {
     "name": "stdout",
     "output_type": "stream",
     "text": [
      "bg_value__value_count__value_1_217\n",
      "bg_value__number_crossing_m__m_1_250\n",
      "label\n",
      "266.36389985316987\n",
      "            date_time   mock_date time_of_day part_of_day   time  bg_value id\n",
      "0 2021-12-08 02:24:00  2021-12-08    02:24:00  late night  25.12       259  a\n",
      "1 2021-12-08 02:29:00  2021-12-08    02:29:00  late night  25.20       259  a\n",
      "2 2021-12-08 02:34:00  2021-12-08    02:34:00  late night  25.28       258  a\n",
      "3 2021-12-08 02:39:00  2021-12-08    02:39:00  late night  25.37       258  a\n",
      "4 2021-12-08 02:44:00  2021-12-08    02:44:00  late night  25.45       257  a\n",
      "5 2021-12-08 02:49:00  2021-12-08    02:49:00  late night  25.53       257  a\n"
     ]
    },
    {
     "name": "stderr",
     "output_type": "stream",
     "text": [
      "100%|██████████| 1/1 [00:05<00:00,  5.99s/it]\n"
     ]
    },
    {
     "name": "stdout",
     "output_type": "stream",
     "text": [
      "bg_value__value_count__value_1_217\n",
      "bg_value__number_crossing_m__m_1_250\n",
      "label\n",
      "283.983233640198\n",
      "            date_time   mock_date time_of_day part_of_day   time  bg_value id\n",
      "0 2021-12-08 02:29:00  2021-12-08    02:29:00  late night  25.20       259  a\n",
      "1 2021-12-08 02:34:00  2021-12-08    02:34:00  late night  25.28       258  a\n",
      "2 2021-12-08 02:39:00  2021-12-08    02:39:00  late night  25.37       258  a\n",
      "3 2021-12-08 02:44:00  2021-12-08    02:44:00  late night  25.45       257  a\n",
      "4 2021-12-08 02:49:00  2021-12-08    02:49:00  late night  25.53       257  a\n",
      "5 2021-12-08 02:54:00  2021-12-08    02:54:00  late night  25.62       257  a\n"
     ]
    },
    {
     "name": "stderr",
     "output_type": "stream",
     "text": [
      "100%|██████████| 1/1 [00:05<00:00,  6.00s/it]\n"
     ]
    },
    {
     "name": "stdout",
     "output_type": "stream",
     "text": [
      "bg_value__value_count__value_1_217\n",
      "bg_value__number_crossing_m__m_1_250\n",
      "label\n",
      "264.39805230485854\n",
      "            date_time   mock_date time_of_day part_of_day   time  bg_value id\n",
      "0 2021-12-08 02:34:00  2021-12-08    02:34:00  late night  25.28       258  a\n",
      "1 2021-12-08 02:39:00  2021-12-08    02:39:00  late night  25.37       258  a\n",
      "2 2021-12-08 02:44:00  2021-12-08    02:44:00  late night  25.45       257  a\n",
      "3 2021-12-08 02:49:00  2021-12-08    02:49:00  late night  25.53       257  a\n",
      "4 2021-12-08 02:54:00  2021-12-08    02:54:00  late night  25.62       257  a\n",
      "5 2021-12-08 02:59:00  2021-12-08    02:59:00  late night  25.70       254  a\n"
     ]
    },
    {
     "name": "stderr",
     "output_type": "stream",
     "text": [
      "100%|██████████| 1/1 [00:06<00:00,  6.26s/it]\n"
     ]
    },
    {
     "name": "stdout",
     "output_type": "stream",
     "text": [
      "bg_value__value_count__value_1_217\n",
      "bg_value__number_crossing_m__m_1_250\n",
      "label\n",
      "263.7967635675344\n",
      "            date_time   mock_date time_of_day part_of_day   time  bg_value id\n",
      "0 2021-12-08 02:39:00  2021-12-08    02:39:00  late night  25.37       258  a\n",
      "1 2021-12-08 02:44:00  2021-12-08    02:44:00  late night  25.45       257  a\n",
      "2 2021-12-08 02:49:00  2021-12-08    02:49:00  late night  25.53       257  a\n",
      "3 2021-12-08 02:54:00  2021-12-08    02:54:00  late night  25.62       257  a\n",
      "4 2021-12-08 02:59:00  2021-12-08    02:59:00  late night  25.70       254  a\n",
      "5 2021-12-08 03:04:00  2021-12-08    03:04:00  late night  25.78       252  a\n"
     ]
    },
    {
     "name": "stderr",
     "output_type": "stream",
     "text": [
      "100%|██████████| 1/1 [00:06<00:00,  6.01s/it]\n"
     ]
    },
    {
     "name": "stdout",
     "output_type": "stream",
     "text": [
      "bg_value__value_count__value_1_217\n",
      "bg_value__number_crossing_m__m_1_250\n",
      "label\n",
      "242.59269885384126\n",
      "            date_time   mock_date time_of_day part_of_day   time  bg_value id\n",
      "0 2021-12-08 02:44:00  2021-12-08    02:44:00  late night  25.45       257  a\n",
      "1 2021-12-08 02:49:00  2021-12-08    02:49:00  late night  25.53       257  a\n",
      "2 2021-12-08 02:54:00  2021-12-08    02:54:00  late night  25.62       257  a\n",
      "3 2021-12-08 02:59:00  2021-12-08    02:59:00  late night  25.70       254  a\n",
      "4 2021-12-08 03:04:00  2021-12-08    03:04:00  late night  25.78       252  a\n",
      "5 2021-12-08 03:09:00  2021-12-08    03:09:00  late night  25.87       250  a\n"
     ]
    },
    {
     "name": "stderr",
     "output_type": "stream",
     "text": [
      "100%|██████████| 1/1 [00:06<00:00,  6.05s/it]\n"
     ]
    },
    {
     "name": "stdout",
     "output_type": "stream",
     "text": [
      "bg_value__value_count__value_1_217\n",
      "bg_value__number_crossing_m__m_1_250\n",
      "label\n",
      "241.36530926601554\n",
      "            date_time   mock_date time_of_day part_of_day   time  bg_value id\n",
      "0 2021-12-08 02:49:00  2021-12-08    02:49:00  late night  25.53       257  a\n",
      "1 2021-12-08 02:54:00  2021-12-08    02:54:00  late night  25.62       257  a\n",
      "2 2021-12-08 02:59:00  2021-12-08    02:59:00  late night  25.70       254  a\n",
      "3 2021-12-08 03:04:00  2021-12-08    03:04:00  late night  25.78       252  a\n",
      "4 2021-12-08 03:09:00  2021-12-08    03:09:00  late night  25.87       250  a\n",
      "5 2021-12-08 03:14:00  2021-12-08    03:14:00  late night  25.95       248  a\n"
     ]
    },
    {
     "name": "stderr",
     "output_type": "stream",
     "text": [
      "100%|██████████| 1/1 [00:10<00:00, 10.72s/it]\n"
     ]
    },
    {
     "name": "stdout",
     "output_type": "stream",
     "text": [
      "bg_value__value_count__value_1_217\n",
      "bg_value__number_crossing_m__m_1_250\n",
      "label\n",
      "239.52712463115753\n",
      "            date_time   mock_date time_of_day part_of_day   time  bg_value id\n",
      "0 2021-12-08 02:54:00  2021-12-08    02:54:00  late night  25.62       257  a\n",
      "1 2021-12-08 02:59:00  2021-12-08    02:59:00  late night  25.70       254  a\n",
      "2 2021-12-08 03:04:00  2021-12-08    03:04:00  late night  25.78       252  a\n",
      "3 2021-12-08 03:09:00  2021-12-08    03:09:00  late night  25.87       250  a\n",
      "4 2021-12-08 03:14:00  2021-12-08    03:14:00  late night  25.95       248  a\n",
      "5 2021-12-08 03:19:00  2021-12-08    03:19:00  late night  26.03       247  a\n"
     ]
    },
    {
     "name": "stderr",
     "output_type": "stream",
     "text": [
      "100%|██████████| 1/1 [00:07<00:00,  7.15s/it]\n"
     ]
    },
    {
     "name": "stdout",
     "output_type": "stream",
     "text": [
      "bg_value__value_count__value_1_217\n",
      "bg_value__number_crossing_m__m_1_250\n",
      "label\n",
      "240.5836006664879\n",
      "            date_time   mock_date time_of_day part_of_day   time  bg_value id\n",
      "0 2021-12-08 02:59:00  2021-12-08    02:59:00  late night  25.70       254  a\n",
      "1 2021-12-08 03:04:00  2021-12-08    03:04:00  late night  25.78       252  a\n",
      "2 2021-12-08 03:09:00  2021-12-08    03:09:00  late night  25.87       250  a\n",
      "3 2021-12-08 03:14:00  2021-12-08    03:14:00  late night  25.95       248  a\n",
      "4 2021-12-08 03:19:00  2021-12-08    03:19:00  late night  26.03       247  a\n",
      "5 2021-12-08 03:24:00  2021-12-08    03:24:00  late night  26.12       245  a\n"
     ]
    },
    {
     "name": "stderr",
     "output_type": "stream",
     "text": [
      "100%|██████████| 1/1 [00:06<00:00,  6.07s/it]\n"
     ]
    },
    {
     "name": "stdout",
     "output_type": "stream",
     "text": [
      "bg_value__value_count__value_1_217\n",
      "bg_value__number_crossing_m__m_1_250\n",
      "label\n",
      "237.61782880871942\n",
      "            date_time   mock_date time_of_day part_of_day   time  bg_value id\n",
      "0 2021-12-08 03:04:00  2021-12-08    03:04:00  late night  25.78       252  a\n",
      "1 2021-12-08 03:09:00  2021-12-08    03:09:00  late night  25.87       250  a\n",
      "2 2021-12-08 03:14:00  2021-12-08    03:14:00  late night  25.95       248  a\n",
      "3 2021-12-08 03:19:00  2021-12-08    03:19:00  late night  26.03       247  a\n",
      "4 2021-12-08 03:24:00  2021-12-08    03:24:00  late night  26.12       245  a\n",
      "5 2021-12-08 03:29:00  2021-12-08    03:29:00  late night  26.20       242  a\n"
     ]
    },
    {
     "name": "stderr",
     "output_type": "stream",
     "text": [
      "100%|██████████| 1/1 [00:05<00:00,  5.89s/it]\n"
     ]
    },
    {
     "name": "stdout",
     "output_type": "stream",
     "text": [
      "bg_value__value_count__value_1_217\n",
      "bg_value__number_crossing_m__m_1_250\n",
      "label\n",
      "232.1695293352812\n",
      "            date_time   mock_date time_of_day part_of_day   time  bg_value id\n",
      "0 2021-12-08 03:09:00  2021-12-08    03:09:00  late night  25.87       250  a\n",
      "1 2021-12-08 03:14:00  2021-12-08    03:14:00  late night  25.95       248  a\n",
      "2 2021-12-08 03:19:00  2021-12-08    03:19:00  late night  26.03       247  a\n",
      "3 2021-12-08 03:24:00  2021-12-08    03:24:00  late night  26.12       245  a\n",
      "4 2021-12-08 03:29:00  2021-12-08    03:29:00  late night  26.20       242  a\n",
      "5 2021-12-08 03:34:00  2021-12-08    03:34:00  late night  26.28       238  a\n"
     ]
    },
    {
     "name": "stderr",
     "output_type": "stream",
     "text": [
      "100%|██████████| 1/1 [00:05<00:00,  5.86s/it]\n"
     ]
    },
    {
     "name": "stdout",
     "output_type": "stream",
     "text": [
      "bg_value__value_count__value_1_217\n",
      "bg_value__number_crossing_m__m_1_250\n",
      "label\n",
      "217.32850043109698\n",
      "            date_time   mock_date time_of_day part_of_day   time  bg_value id\n",
      "0 2021-12-08 03:14:00  2021-12-08    03:14:00  late night  25.95       248  a\n",
      "1 2021-12-08 03:19:00  2021-12-08    03:19:00  late night  26.03       247  a\n",
      "2 2021-12-08 03:24:00  2021-12-08    03:24:00  late night  26.12       245  a\n",
      "3 2021-12-08 03:29:00  2021-12-08    03:29:00  late night  26.20       242  a\n",
      "4 2021-12-08 03:34:00  2021-12-08    03:34:00  late night  26.28       238  a\n",
      "5 2021-12-08 03:39:00  2021-12-08    03:39:00  late night  26.37       240  a\n"
     ]
    },
    {
     "name": "stderr",
     "output_type": "stream",
     "text": [
      "100%|██████████| 1/1 [00:05<00:00,  5.93s/it]\n"
     ]
    },
    {
     "name": "stdout",
     "output_type": "stream",
     "text": [
      "bg_value__value_count__value_1_217\n",
      "bg_value__number_crossing_m__m_1_250\n",
      "label\n",
      "229.13409984929805\n",
      "            date_time   mock_date time_of_day part_of_day   time  bg_value id\n",
      "0 2021-12-08 03:19:00  2021-12-08    03:19:00  late night  26.03       247  a\n",
      "1 2021-12-08 03:24:00  2021-12-08    03:24:00  late night  26.12       245  a\n",
      "2 2021-12-08 03:29:00  2021-12-08    03:29:00  late night  26.20       242  a\n",
      "3 2021-12-08 03:34:00  2021-12-08    03:34:00  late night  26.28       238  a\n",
      "4 2021-12-08 03:39:00  2021-12-08    03:39:00  late night  26.37       240  a\n",
      "5 2021-12-08 03:44:00  2021-12-08    03:44:00  late night  26.45       237  a\n"
     ]
    },
    {
     "name": "stderr",
     "output_type": "stream",
     "text": [
      "100%|██████████| 1/1 [00:05<00:00,  5.95s/it]\n"
     ]
    },
    {
     "name": "stdout",
     "output_type": "stream",
     "text": [
      "bg_value__value_count__value_1_217\n",
      "bg_value__number_crossing_m__m_1_250\n",
      "label\n",
      "228.76214062194035\n",
      "            date_time   mock_date time_of_day part_of_day   time  bg_value id\n",
      "0 2021-12-08 03:24:00  2021-12-08    03:24:00  late night  26.12       245  a\n",
      "1 2021-12-08 03:29:00  2021-12-08    03:29:00  late night  26.20       242  a\n",
      "2 2021-12-08 03:34:00  2021-12-08    03:34:00  late night  26.28       238  a\n",
      "3 2021-12-08 03:39:00  2021-12-08    03:39:00  late night  26.37       240  a\n",
      "4 2021-12-08 03:44:00  2021-12-08    03:44:00  late night  26.45       237  a\n",
      "5 2021-12-08 03:49:00  2021-12-08    03:49:00  late night  26.53       233  a\n"
     ]
    },
    {
     "name": "stderr",
     "output_type": "stream",
     "text": [
      "100%|██████████| 1/1 [00:06<00:00,  6.01s/it]\n"
     ]
    },
    {
     "name": "stdout",
     "output_type": "stream",
     "text": [
      "bg_value__value_count__value_1_217\n",
      "bg_value__number_crossing_m__m_1_250\n",
      "label\n",
      "218.65772086753918\n",
      "            date_time   mock_date time_of_day part_of_day   time  bg_value id\n",
      "0 2021-12-08 03:29:00  2021-12-08    03:29:00  late night  26.20       242  a\n",
      "1 2021-12-08 03:34:00  2021-12-08    03:34:00  late night  26.28       238  a\n",
      "2 2021-12-08 03:39:00  2021-12-08    03:39:00  late night  26.37       240  a\n",
      "3 2021-12-08 03:44:00  2021-12-08    03:44:00  late night  26.45       237  a\n",
      "4 2021-12-08 03:49:00  2021-12-08    03:49:00  late night  26.53       233  a\n",
      "5 2021-12-08 03:54:00  2021-12-08    03:54:00  late night  26.62       230  a\n"
     ]
    },
    {
     "name": "stderr",
     "output_type": "stream",
     "text": [
      "100%|██████████| 1/1 [00:05<00:00,  5.98s/it]\n"
     ]
    },
    {
     "name": "stdout",
     "output_type": "stream",
     "text": [
      "bg_value__value_count__value_1_217\n",
      "bg_value__number_crossing_m__m_1_250\n",
      "label\n",
      "206.85219688202383\n",
      "            date_time   mock_date time_of_day part_of_day   time  bg_value id\n",
      "0 2021-12-08 03:34:00  2021-12-08    03:34:00  late night  26.28       238  a\n",
      "1 2021-12-08 03:39:00  2021-12-08    03:39:00  late night  26.37       240  a\n",
      "2 2021-12-08 03:44:00  2021-12-08    03:44:00  late night  26.45       237  a\n",
      "3 2021-12-08 03:49:00  2021-12-08    03:49:00  late night  26.53       233  a\n",
      "4 2021-12-08 03:54:00  2021-12-08    03:54:00  late night  26.62       230  a\n",
      "5 2021-12-08 03:59:00  2021-12-08    03:59:00  late night  26.70       226  a\n"
     ]
    },
    {
     "name": "stderr",
     "output_type": "stream",
     "text": [
      "100%|██████████| 1/1 [00:05<00:00,  5.98s/it]\n"
     ]
    },
    {
     "name": "stdout",
     "output_type": "stream",
     "text": [
      "bg_value__value_count__value_1_217\n",
      "bg_value__number_crossing_m__m_1_250\n",
      "label\n",
      "207.84656690414553\n",
      "            date_time   mock_date time_of_day part_of_day   time  bg_value id\n",
      "0 2021-12-08 03:39:00  2021-12-08    03:39:00  late night  26.37       240  a\n",
      "1 2021-12-08 03:44:00  2021-12-08    03:44:00  late night  26.45       237  a\n",
      "2 2021-12-08 03:49:00  2021-12-08    03:49:00  late night  26.53       233  a\n",
      "3 2021-12-08 03:54:00  2021-12-08    03:54:00  late night  26.62       230  a\n",
      "4 2021-12-08 03:59:00  2021-12-08    03:59:00  late night  26.70       226  a\n",
      "5 2021-12-08 04:04:00  2021-12-08    04:04:00  late night  26.78       224  a\n"
     ]
    },
    {
     "name": "stderr",
     "output_type": "stream",
     "text": [
      "100%|██████████| 1/1 [00:06<00:00,  6.08s/it]\n"
     ]
    },
    {
     "name": "stdout",
     "output_type": "stream",
     "text": [
      "bg_value__value_count__value_1_217\n",
      "bg_value__number_crossing_m__m_1_250\n",
      "label\n",
      "202.71214446260225\n",
      "            date_time   mock_date time_of_day part_of_day   time  bg_value id\n",
      "0 2021-12-08 03:44:00  2021-12-08    03:44:00  late night  26.45       237  a\n",
      "1 2021-12-08 03:49:00  2021-12-08    03:49:00  late night  26.53       233  a\n",
      "2 2021-12-08 03:54:00  2021-12-08    03:54:00  late night  26.62       230  a\n",
      "3 2021-12-08 03:59:00  2021-12-08    03:59:00  late night  26.70       226  a\n",
      "4 2021-12-08 04:04:00  2021-12-08    04:04:00  late night  26.78       224  a\n",
      "5 2021-12-08 04:09:00  2021-12-08    04:09:00  late night  26.87       223  a\n"
     ]
    },
    {
     "name": "stderr",
     "output_type": "stream",
     "text": [
      "100%|██████████| 1/1 [00:06<00:00,  6.71s/it]\n"
     ]
    },
    {
     "name": "stdout",
     "output_type": "stream",
     "text": [
      "bg_value__value_count__value_1_217\n",
      "bg_value__number_crossing_m__m_1_250\n",
      "label\n",
      "211.02331380360485\n",
      "            date_time   mock_date time_of_day part_of_day   time  bg_value id\n",
      "0 2021-12-08 03:49:00  2021-12-08    03:49:00  late night  26.53       233  a\n",
      "1 2021-12-08 03:54:00  2021-12-08    03:54:00  late night  26.62       230  a\n",
      "2 2021-12-08 03:59:00  2021-12-08    03:59:00  late night  26.70       226  a\n",
      "3 2021-12-08 04:04:00  2021-12-08    04:04:00  late night  26.78       224  a\n",
      "4 2021-12-08 04:09:00  2021-12-08    04:09:00  late night  26.87       223  a\n",
      "5 2021-12-08 04:14:00  2021-12-08    04:14:00  late night  26.95       221  a\n"
     ]
    },
    {
     "name": "stderr",
     "output_type": "stream",
     "text": [
      "100%|██████████| 1/1 [00:06<00:00,  6.20s/it]\n"
     ]
    },
    {
     "name": "stdout",
     "output_type": "stream",
     "text": [
      "bg_value__value_count__value_1_217\n",
      "bg_value__number_crossing_m__m_1_250\n",
      "label\n",
      "208.397283913519\n",
      "            date_time   mock_date time_of_day part_of_day   time  bg_value id\n",
      "0 2021-12-08 03:54:00  2021-12-08    03:54:00  late night  26.62       230  a\n",
      "1 2021-12-08 03:59:00  2021-12-08    03:59:00  late night  26.70       226  a\n",
      "2 2021-12-08 04:04:00  2021-12-08    04:04:00  late night  26.78       224  a\n",
      "3 2021-12-08 04:09:00  2021-12-08    04:09:00  late night  26.87       223  a\n",
      "4 2021-12-08 04:14:00  2021-12-08    04:14:00  late night  26.95       221  a\n",
      "5 2021-12-08 04:19:00  2021-12-08    04:19:00  late night  27.03       222  a\n"
     ]
    },
    {
     "name": "stderr",
     "output_type": "stream",
     "text": [
      "100%|██████████| 1/1 [00:06<00:00,  6.21s/it]\n"
     ]
    },
    {
     "name": "stdout",
     "output_type": "stream",
     "text": [
      "bg_value__value_count__value_1_217\n",
      "bg_value__number_crossing_m__m_1_250\n",
      "label\n",
      "207.59058388645266\n",
      "            date_time   mock_date time_of_day part_of_day   time  bg_value id\n",
      "0 2021-12-08 03:59:00  2021-12-08    03:59:00  late night  26.70       226  a\n",
      "1 2021-12-08 04:04:00  2021-12-08    04:04:00  late night  26.78       224  a\n",
      "2 2021-12-08 04:09:00  2021-12-08    04:09:00  late night  26.87       223  a\n",
      "3 2021-12-08 04:14:00  2021-12-08    04:14:00  late night  26.95       221  a\n",
      "4 2021-12-08 04:19:00  2021-12-08    04:19:00  late night  27.03       222  a\n",
      "5 2021-12-08 04:24:00  2021-12-08    04:24:00  late night  27.12       224  a\n"
     ]
    },
    {
     "name": "stderr",
     "output_type": "stream",
     "text": [
      "100%|██████████| 1/1 [00:05<00:00,  5.91s/it]\n"
     ]
    },
    {
     "name": "stdout",
     "output_type": "stream",
     "text": [
      "bg_value__value_count__value_1_217\n",
      "bg_value__number_crossing_m__m_1_250\n",
      "label\n",
      "208.52398864767423\n",
      "            date_time   mock_date time_of_day part_of_day   time  bg_value id\n",
      "0 2021-12-08 04:04:00  2021-12-08    04:04:00  late night  26.78       224  a\n",
      "1 2021-12-08 04:09:00  2021-12-08    04:09:00  late night  26.87       223  a\n",
      "2 2021-12-08 04:14:00  2021-12-08    04:14:00  late night  26.95       221  a\n",
      "3 2021-12-08 04:19:00  2021-12-08    04:19:00  late night  27.03       222  a\n",
      "4 2021-12-08 04:24:00  2021-12-08    04:24:00  late night  27.12       224  a\n",
      "5 2021-12-08 04:29:00  2021-12-08    04:29:00  late night  27.20       220  a\n"
     ]
    },
    {
     "name": "stderr",
     "output_type": "stream",
     "text": [
      "100%|██████████| 1/1 [00:06<00:00,  6.08s/it]\n"
     ]
    },
    {
     "name": "stdout",
     "output_type": "stream",
     "text": [
      "bg_value__value_count__value_1_217\n",
      "bg_value__number_crossing_m__m_1_250\n",
      "label\n",
      "212.50656691434133\n",
      "            date_time   mock_date time_of_day part_of_day   time  bg_value id\n",
      "0 2021-12-08 04:09:00  2021-12-08    04:09:00  late night  26.87       223  a\n",
      "1 2021-12-08 04:14:00  2021-12-08    04:14:00  late night  26.95       221  a\n",
      "2 2021-12-08 04:19:00  2021-12-08    04:19:00  late night  27.03       222  a\n",
      "3 2021-12-08 04:24:00  2021-12-08    04:24:00  late night  27.12       224  a\n",
      "4 2021-12-08 04:29:00  2021-12-08    04:29:00  late night  27.20       220  a\n",
      "5 2021-12-08 04:34:00  2021-12-08    04:34:00  late night  27.28       213  a\n"
     ]
    },
    {
     "name": "stderr",
     "output_type": "stream",
     "text": [
      "100%|██████████| 1/1 [00:05<00:00,  5.81s/it]\n"
     ]
    },
    {
     "name": "stdout",
     "output_type": "stream",
     "text": [
      "bg_value__value_count__value_1_217\n",
      "bg_value__number_crossing_m__m_1_250\n",
      "label\n",
      "194.0968518238362\n",
      "            date_time   mock_date time_of_day part_of_day   time  bg_value id\n",
      "0 2021-12-08 04:14:00  2021-12-08    04:14:00  late night  26.95       221  a\n",
      "1 2021-12-08 04:19:00  2021-12-08    04:19:00  late night  27.03       222  a\n",
      "2 2021-12-08 04:24:00  2021-12-08    04:24:00  late night  27.12       224  a\n",
      "3 2021-12-08 04:29:00  2021-12-08    04:29:00  late night  27.20       220  a\n",
      "4 2021-12-08 04:34:00  2021-12-08    04:34:00  late night  27.28       213  a\n",
      "5 2021-12-08 04:39:00  2021-12-08    04:39:00  late night  27.37       210  a\n"
     ]
    },
    {
     "name": "stderr",
     "output_type": "stream",
     "text": [
      "100%|██████████| 1/1 [00:05<00:00,  5.89s/it]\n"
     ]
    },
    {
     "name": "stdout",
     "output_type": "stream",
     "text": [
      "bg_value__value_count__value_1_217\n",
      "bg_value__number_crossing_m__m_1_250\n",
      "label\n",
      "201.29746494491792\n",
      "            date_time   mock_date time_of_day part_of_day   time  bg_value id\n",
      "0 2021-12-08 04:19:00  2021-12-08    04:19:00  late night  27.03       222  a\n",
      "1 2021-12-08 04:24:00  2021-12-08    04:24:00  late night  27.12       224  a\n",
      "2 2021-12-08 04:29:00  2021-12-08    04:29:00  late night  27.20       220  a\n",
      "3 2021-12-08 04:34:00  2021-12-08    04:34:00  late night  27.28       213  a\n",
      "4 2021-12-08 04:39:00  2021-12-08    04:39:00  late night  27.37       210  a\n",
      "5 2021-12-08 04:44:00  2021-12-08    04:44:00  late night  27.45       205  a\n"
     ]
    },
    {
     "name": "stderr",
     "output_type": "stream",
     "text": [
      "100%|██████████| 1/1 [00:06<00:00,  6.30s/it]\n"
     ]
    },
    {
     "name": "stdout",
     "output_type": "stream",
     "text": [
      "bg_value__value_count__value_1_217\n",
      "bg_value__number_crossing_m__m_1_250\n",
      "label\n",
      "199.0055964707277\n",
      "            date_time   mock_date time_of_day part_of_day   time  bg_value id\n",
      "0 2021-12-08 04:24:00  2021-12-08    04:24:00  late night  27.12       224  a\n",
      "1 2021-12-08 04:29:00  2021-12-08    04:29:00  late night  27.20       220  a\n",
      "2 2021-12-08 04:34:00  2021-12-08    04:34:00  late night  27.28       213  a\n",
      "3 2021-12-08 04:39:00  2021-12-08    04:39:00  late night  27.37       210  a\n",
      "4 2021-12-08 04:44:00  2021-12-08    04:44:00  late night  27.45       205  a\n",
      "5 2021-12-08 04:49:00  2021-12-08    04:49:00  late night  27.53       197  a\n"
     ]
    },
    {
     "name": "stderr",
     "output_type": "stream",
     "text": [
      "100%|██████████| 1/1 [00:05<00:00,  5.89s/it]\n"
     ]
    },
    {
     "name": "stdout",
     "output_type": "stream",
     "text": [
      "bg_value__value_count__value_1_217\n",
      "bg_value__number_crossing_m__m_1_250\n",
      "label\n",
      "186.22039928529637\n",
      "            date_time   mock_date time_of_day part_of_day   time  bg_value id\n",
      "0 2021-12-08 04:29:00  2021-12-08    04:29:00  late night  27.20       220  a\n",
      "1 2021-12-08 04:34:00  2021-12-08    04:34:00  late night  27.28       213  a\n",
      "2 2021-12-08 04:39:00  2021-12-08    04:39:00  late night  27.37       210  a\n",
      "3 2021-12-08 04:44:00  2021-12-08    04:44:00  late night  27.45       205  a\n",
      "4 2021-12-08 04:49:00  2021-12-08    04:49:00  late night  27.53       197  a\n",
      "5 2021-12-08 04:54:00  2021-12-08    04:54:00  late night  27.62       192  a\n"
     ]
    },
    {
     "name": "stderr",
     "output_type": "stream",
     "text": [
      "100%|██████████| 1/1 [00:05<00:00,  5.69s/it]\n"
     ]
    },
    {
     "name": "stdout",
     "output_type": "stream",
     "text": [
      "bg_value__value_count__value_1_217\n",
      "bg_value__number_crossing_m__m_1_250\n",
      "label\n",
      "186.5546672129232\n",
      "            date_time   mock_date time_of_day part_of_day   time  bg_value id\n",
      "0 2021-12-08 04:34:00  2021-12-08    04:34:00  late night  27.28       213  a\n",
      "1 2021-12-08 04:39:00  2021-12-08    04:39:00  late night  27.37       210  a\n",
      "2 2021-12-08 04:44:00  2021-12-08    04:44:00  late night  27.45       205  a\n",
      "3 2021-12-08 04:49:00  2021-12-08    04:49:00  late night  27.53       197  a\n",
      "4 2021-12-08 04:54:00  2021-12-08    04:54:00  late night  27.62       192  a\n",
      "5 2021-12-08 04:59:00  2021-12-08    04:59:00  late night  27.70       186  a\n"
     ]
    },
    {
     "name": "stderr",
     "output_type": "stream",
     "text": [
      "100%|██████████| 1/1 [00:05<00:00,  5.49s/it]\n"
     ]
    },
    {
     "name": "stdout",
     "output_type": "stream",
     "text": [
      "bg_value__value_count__value_1_217\n",
      "bg_value__number_crossing_m__m_1_250\n",
      "label\n",
      "174.45069163064323\n",
      "            date_time   mock_date time_of_day part_of_day   time  bg_value id\n",
      "0 2021-12-08 04:39:00  2021-12-08    04:39:00  late night  27.37       210  a\n",
      "1 2021-12-08 04:44:00  2021-12-08    04:44:00  late night  27.45       205  a\n",
      "2 2021-12-08 04:49:00  2021-12-08    04:49:00  late night  27.53       197  a\n",
      "3 2021-12-08 04:54:00  2021-12-08    04:54:00  late night  27.62       192  a\n",
      "4 2021-12-08 04:59:00  2021-12-08    04:59:00  late night  27.70       186  a\n",
      "5 2021-12-08 05:04:00  2021-12-08    05:04:00  late night  27.78       188  a\n"
     ]
    },
    {
     "name": "stderr",
     "output_type": "stream",
     "text": [
      "100%|██████████| 1/1 [00:06<00:00,  6.15s/it]\n"
     ]
    },
    {
     "name": "stdout",
     "output_type": "stream",
     "text": [
      "bg_value__value_count__value_1_217\n",
      "bg_value__number_crossing_m__m_1_250\n",
      "label\n",
      "193.8287373192585\n",
      "            date_time   mock_date time_of_day part_of_day   time  bg_value id\n",
      "0 2021-12-08 04:44:00  2021-12-08    04:44:00  late night  27.45       205  a\n",
      "1 2021-12-08 04:49:00  2021-12-08    04:49:00  late night  27.53       197  a\n",
      "2 2021-12-08 04:54:00  2021-12-08    04:54:00  late night  27.62       192  a\n",
      "3 2021-12-08 04:59:00  2021-12-08    04:59:00  late night  27.70       186  a\n",
      "4 2021-12-08 05:04:00  2021-12-08    05:04:00  late night  27.78       188  a\n",
      "5 2021-12-08 05:09:00  2021-12-08    05:09:00  late night  27.87       209  a\n"
     ]
    },
    {
     "name": "stderr",
     "output_type": "stream",
     "text": [
      "100%|██████████| 1/1 [00:05<00:00,  5.71s/it]\n"
     ]
    },
    {
     "name": "stdout",
     "output_type": "stream",
     "text": [
      "bg_value__value_count__value_1_217\n",
      "bg_value__number_crossing_m__m_1_250\n",
      "label\n",
      "229.92402852111593\n",
      "            date_time   mock_date time_of_day part_of_day   time  bg_value id\n",
      "0 2021-12-08 04:49:00  2021-12-08    04:49:00  late night  27.53       197  a\n",
      "1 2021-12-08 04:54:00  2021-12-08    04:54:00  late night  27.62       192  a\n",
      "2 2021-12-08 04:59:00  2021-12-08    04:59:00  late night  27.70       186  a\n",
      "3 2021-12-08 05:04:00  2021-12-08    05:04:00  late night  27.78       188  a\n",
      "4 2021-12-08 05:09:00  2021-12-08    05:09:00  late night  27.87       209  a\n",
      "5 2021-12-08 05:14:00  2021-12-08    05:14:00  late night  27.95       218  a\n"
     ]
    },
    {
     "name": "stderr",
     "output_type": "stream",
     "text": [
      "100%|██████████| 1/1 [00:05<00:00,  5.73s/it]\n"
     ]
    },
    {
     "name": "stdout",
     "output_type": "stream",
     "text": [
      "bg_value__value_count__value_1_217\n",
      "bg_value__number_crossing_m__m_1_250\n",
      "label\n",
      "232.0080084130958\n",
      "            date_time   mock_date time_of_day part_of_day   time  bg_value id\n",
      "0 2021-12-08 04:54:00  2021-12-08    04:54:00  late night  27.62       192  a\n",
      "1 2021-12-08 04:59:00  2021-12-08    04:59:00  late night  27.70       186  a\n",
      "2 2021-12-08 05:04:00  2021-12-08    05:04:00  late night  27.78       188  a\n",
      "3 2021-12-08 05:09:00  2021-12-08    05:09:00  late night  27.87       209  a\n",
      "4 2021-12-08 05:14:00  2021-12-08    05:14:00  late night  27.95       218  a\n",
      "5 2021-12-08 05:19:00  2021-12-08    05:19:00  late night  28.03       218  a\n"
     ]
    },
    {
     "name": "stderr",
     "output_type": "stream",
     "text": [
      "100%|██████████| 1/1 [00:05<00:00,  5.35s/it]\n"
     ]
    },
    {
     "name": "stdout",
     "output_type": "stream",
     "text": [
      "bg_value__value_count__value_1_217\n",
      "bg_value__number_crossing_m__m_1_250\n",
      "label\n",
      "226.77940110671577\n",
      "            date_time   mock_date time_of_day part_of_day   time  bg_value id\n",
      "0 2021-12-08 04:59:00  2021-12-08    04:59:00  late night  27.70       186  a\n",
      "1 2021-12-08 05:04:00  2021-12-08    05:04:00  late night  27.78       188  a\n",
      "2 2021-12-08 05:09:00  2021-12-08    05:09:00  late night  27.87       209  a\n",
      "3 2021-12-08 05:14:00  2021-12-08    05:14:00  late night  27.95       218  a\n",
      "4 2021-12-08 05:19:00  2021-12-08    05:19:00  late night  28.03       218  a\n",
      "5 2021-12-08 05:24:00  2021-12-08    05:24:00  late night  28.12       213  a\n"
     ]
    },
    {
     "name": "stderr",
     "output_type": "stream",
     "text": [
      "100%|██████████| 1/1 [00:05<00:00,  5.53s/it]\n"
     ]
    },
    {
     "name": "stdout",
     "output_type": "stream",
     "text": [
      "bg_value__value_count__value_1_217\n",
      "bg_value__number_crossing_m__m_1_250\n",
      "label\n",
      "225.59726008483034\n",
      "            date_time   mock_date time_of_day part_of_day   time  bg_value id\n",
      "0 2021-12-08 05:04:00  2021-12-08    05:04:00  late night  27.78       188  a\n",
      "1 2021-12-08 05:09:00  2021-12-08    05:09:00  late night  27.87       209  a\n",
      "2 2021-12-08 05:14:00  2021-12-08    05:14:00  late night  27.95       218  a\n",
      "3 2021-12-08 05:19:00  2021-12-08    05:19:00  late night  28.03       218  a\n",
      "4 2021-12-08 05:24:00  2021-12-08    05:24:00  late night  28.12       213  a\n",
      "5 2021-12-08 05:29:00  2021-12-08    05:29:00  late night  28.20       215  a\n"
     ]
    },
    {
     "name": "stderr",
     "output_type": "stream",
     "text": [
      "100%|██████████| 1/1 [00:05<00:00,  5.52s/it]\n"
     ]
    },
    {
     "name": "stdout",
     "output_type": "stream",
     "text": [
      "bg_value__value_count__value_1_217\n",
      "bg_value__number_crossing_m__m_1_250\n",
      "label\n",
      "227.1203221437106\n",
      "            date_time   mock_date time_of_day part_of_day   time  bg_value id\n",
      "0 2021-12-08 05:09:00  2021-12-08    05:09:00  late night  27.87       209  a\n",
      "1 2021-12-08 05:14:00  2021-12-08    05:14:00  late night  27.95       218  a\n",
      "2 2021-12-08 05:19:00  2021-12-08    05:19:00  late night  28.03       218  a\n",
      "3 2021-12-08 05:24:00  2021-12-08    05:24:00  late night  28.12       213  a\n",
      "4 2021-12-08 05:29:00  2021-12-08    05:29:00  late night  28.20       215  a\n",
      "5 2021-12-08 05:34:00  2021-12-08    05:34:00  late night  28.28       219  a\n"
     ]
    },
    {
     "name": "stderr",
     "output_type": "stream",
     "text": [
      "100%|██████████| 1/1 [00:05<00:00,  5.60s/it]\n"
     ]
    },
    {
     "name": "stdout",
     "output_type": "stream",
     "text": [
      "bg_value__value_count__value_1_217\n",
      "bg_value__number_crossing_m__m_1_250\n",
      "label\n",
      "230.1301502638405\n",
      "            date_time   mock_date time_of_day part_of_day   time  bg_value id\n",
      "0 2021-12-08 05:14:00  2021-12-08    05:14:00  late night  27.95       218  a\n",
      "1 2021-12-08 05:19:00  2021-12-08    05:19:00  late night  28.03       218  a\n",
      "2 2021-12-08 05:24:00  2021-12-08    05:24:00  late night  28.12       213  a\n",
      "3 2021-12-08 05:29:00  2021-12-08    05:29:00  late night  28.20       215  a\n",
      "4 2021-12-08 05:34:00  2021-12-08    05:34:00  late night  28.28       219  a\n",
      "5 2021-12-08 05:39:00  2021-12-08    05:39:00  late night  28.37       225  a\n"
     ]
    },
    {
     "name": "stderr",
     "output_type": "stream",
     "text": [
      "100%|██████████| 1/1 [00:05<00:00,  5.38s/it]\n"
     ]
    },
    {
     "name": "stdout",
     "output_type": "stream",
     "text": [
      "bg_value__value_count__value_1_217\n",
      "bg_value__number_crossing_m__m_1_250\n",
      "label\n",
      "235.97841969282297\n",
      "            date_time   mock_date time_of_day part_of_day   time  bg_value id\n",
      "0 2021-12-08 05:19:00  2021-12-08    05:19:00  late night  28.03       218  a\n",
      "1 2021-12-08 05:24:00  2021-12-08    05:24:00  late night  28.12       213  a\n",
      "2 2021-12-08 05:29:00  2021-12-08    05:29:00  late night  28.20       215  a\n",
      "3 2021-12-08 05:34:00  2021-12-08    05:34:00  late night  28.28       219  a\n",
      "4 2021-12-08 05:39:00  2021-12-08    05:39:00  late night  28.37       225  a\n",
      "5 2021-12-08 05:44:00  2021-12-08    05:44:00  late night  28.45       232  a\n"
     ]
    },
    {
     "name": "stderr",
     "output_type": "stream",
     "text": [
      "100%|██████████| 1/1 [00:05<00:00,  5.44s/it]\n"
     ]
    },
    {
     "name": "stdout",
     "output_type": "stream",
     "text": [
      "bg_value__value_count__value_1_217\n",
      "bg_value__number_crossing_m__m_1_250\n",
      "label\n",
      "249.93839581986418\n",
      "            date_time   mock_date time_of_day part_of_day   time  bg_value id\n",
      "0 2021-12-08 05:24:00  2021-12-08    05:24:00  late night  28.12       213  a\n",
      "1 2021-12-08 05:29:00  2021-12-08    05:29:00  late night  28.20       215  a\n",
      "2 2021-12-08 05:34:00  2021-12-08    05:34:00  late night  28.28       219  a\n",
      "3 2021-12-08 05:39:00  2021-12-08    05:39:00  late night  28.37       225  a\n",
      "4 2021-12-08 05:44:00  2021-12-08    05:44:00  late night  28.45       232  a\n",
      "5 2021-12-08 05:49:00  2021-12-08    05:49:00  late night  28.53       244  a\n"
     ]
    },
    {
     "name": "stderr",
     "output_type": "stream",
     "text": [
      "100%|██████████| 1/1 [00:05<00:00,  5.62s/it]\n"
     ]
    },
    {
     "name": "stdout",
     "output_type": "stream",
     "text": [
      "bg_value__value_count__value_1_217\n",
      "bg_value__number_crossing_m__m_1_250\n",
      "label\n",
      "258.9076604821545\n",
      "            date_time   mock_date time_of_day part_of_day   time  bg_value id\n",
      "0 2021-12-08 05:29:00  2021-12-08    05:29:00  late night  28.20       215  a\n",
      "1 2021-12-08 05:34:00  2021-12-08    05:34:00  late night  28.28       219  a\n",
      "2 2021-12-08 05:39:00  2021-12-08    05:39:00  late night  28.37       225  a\n",
      "3 2021-12-08 05:44:00  2021-12-08    05:44:00  late night  28.45       232  a\n",
      "4 2021-12-08 05:49:00  2021-12-08    05:49:00  late night  28.53       244  a\n",
      "5 2021-12-08 05:54:00  2021-12-08    05:54:00  late night  28.62       245  a\n"
     ]
    },
    {
     "name": "stderr",
     "output_type": "stream",
     "text": [
      "100%|██████████| 1/1 [00:05<00:00,  5.61s/it]\n"
     ]
    },
    {
     "name": "stdout",
     "output_type": "stream",
     "text": [
      "bg_value__value_count__value_1_217\n",
      "bg_value__number_crossing_m__m_1_250\n",
      "label\n",
      "237.3828930904267\n",
      "            date_time   mock_date time_of_day part_of_day   time  bg_value id\n",
      "0 2021-12-08 05:34:00  2021-12-08    05:34:00  late night  28.28       219  a\n",
      "1 2021-12-08 05:39:00  2021-12-08    05:39:00  late night  28.37       225  a\n",
      "2 2021-12-08 05:44:00  2021-12-08    05:44:00  late night  28.45       232  a\n",
      "3 2021-12-08 05:49:00  2021-12-08    05:49:00  late night  28.53       244  a\n",
      "4 2021-12-08 05:54:00  2021-12-08    05:54:00  late night  28.62       245  a\n",
      "5 2021-12-08 05:59:00  2021-12-08    05:59:00  late night  28.70       242  a\n"
     ]
    },
    {
     "name": "stderr",
     "output_type": "stream",
     "text": [
      "100%|██████████| 1/1 [00:05<00:00,  5.83s/it]\n"
     ]
    },
    {
     "name": "stdout",
     "output_type": "stream",
     "text": [
      "bg_value__value_count__value_1_217\n",
      "bg_value__number_crossing_m__m_1_250\n",
      "label\n",
      "245.82345607295858\n"
     ]
    },
    {
     "data": {
      "text/plain": [
       "[{'prediction_origin_time': Timestamp('2021-12-07 01:42:00'),\n",
       "  'prediction_time': Timestamp('2021-12-07 02:12:00'),\n",
       "  'prediction_value': 147.2868736564205},\n",
       " {'prediction_origin_time': Timestamp('2021-12-07 01:47:00'),\n",
       "  'prediction_time': Timestamp('2021-12-07 02:17:00'),\n",
       "  'prediction_value': 156.47908464371034},\n",
       " {'prediction_origin_time': Timestamp('2021-12-07 01:52:00'),\n",
       "  'prediction_time': Timestamp('2021-12-07 02:22:00'),\n",
       "  'prediction_value': 166.68020276724874},\n",
       " {'prediction_origin_time': Timestamp('2021-12-07 01:57:00'),\n",
       "  'prediction_time': Timestamp('2021-12-07 02:27:00'),\n",
       "  'prediction_value': 137.05337284255495},\n",
       " {'prediction_origin_time': Timestamp('2021-12-07 02:02:00'),\n",
       "  'prediction_time': Timestamp('2021-12-07 02:32:00'),\n",
       "  'prediction_value': 157.93776991982446},\n",
       " {'prediction_origin_time': Timestamp('2021-12-07 02:07:00'),\n",
       "  'prediction_time': Timestamp('2021-12-07 02:37:00'),\n",
       "  'prediction_value': 147.30249923222078},\n",
       " {'prediction_origin_time': Timestamp('2021-12-07 02:12:00'),\n",
       "  'prediction_time': Timestamp('2021-12-07 02:42:00'),\n",
       "  'prediction_value': 164.38411646343044},\n",
       " {'prediction_origin_time': Timestamp('2021-12-07 02:17:00'),\n",
       "  'prediction_time': Timestamp('2021-12-07 02:47:00'),\n",
       "  'prediction_value': 149.20220954482735},\n",
       " {'prediction_origin_time': Timestamp('2021-12-07 02:22:00'),\n",
       "  'prediction_time': Timestamp('2021-12-07 02:52:00'),\n",
       "  'prediction_value': 106.29905692776686},\n",
       " {'prediction_origin_time': Timestamp('2021-12-07 02:27:00'),\n",
       "  'prediction_time': Timestamp('2021-12-07 02:57:00'),\n",
       "  'prediction_value': 118.9727198535413},\n",
       " {'prediction_origin_time': Timestamp('2021-12-07 02:32:00'),\n",
       "  'prediction_time': Timestamp('2021-12-07 03:02:00'),\n",
       "  'prediction_value': 97.21683853830638},\n",
       " {'prediction_origin_time': Timestamp('2021-12-07 02:37:00'),\n",
       "  'prediction_time': Timestamp('2021-12-07 03:07:00'),\n",
       "  'prediction_value': 93.14428727679184},\n",
       " {'prediction_origin_time': Timestamp('2021-12-07 02:42:00'),\n",
       "  'prediction_time': Timestamp('2021-12-07 03:12:00'),\n",
       "  'prediction_value': 90.54716657998888},\n",
       " {'prediction_origin_time': Timestamp('2021-12-07 02:47:00'),\n",
       "  'prediction_time': Timestamp('2021-12-07 03:17:00'),\n",
       "  'prediction_value': 93.99877780946768},\n",
       " {'prediction_origin_time': Timestamp('2021-12-07 02:52:00'),\n",
       "  'prediction_time': Timestamp('2021-12-07 03:22:00'),\n",
       "  'prediction_value': 87.94435634273673},\n",
       " {'prediction_origin_time': Timestamp('2021-12-07 02:57:00'),\n",
       "  'prediction_time': Timestamp('2021-12-07 03:27:00'),\n",
       "  'prediction_value': 89.12811355956342},\n",
       " {'prediction_origin_time': Timestamp('2021-12-07 03:02:00'),\n",
       "  'prediction_time': Timestamp('2021-12-07 03:32:00'),\n",
       "  'prediction_value': 93.72403735043964},\n",
       " {'prediction_origin_time': Timestamp('2021-12-07 03:07:00'),\n",
       "  'prediction_time': Timestamp('2021-12-07 03:37:00'),\n",
       "  'prediction_value': 77.32013955536637},\n",
       " {'prediction_origin_time': Timestamp('2021-12-07 03:12:00'),\n",
       "  'prediction_time': Timestamp('2021-12-07 03:42:00'),\n",
       "  'prediction_value': 74.95078008782338},\n",
       " {'prediction_origin_time': Timestamp('2021-12-07 03:17:00'),\n",
       "  'prediction_time': Timestamp('2021-12-07 03:47:00'),\n",
       "  'prediction_value': 69.78463715185713},\n",
       " {'prediction_origin_time': Timestamp('2021-12-07 03:22:00'),\n",
       "  'prediction_time': Timestamp('2021-12-07 03:52:00'),\n",
       "  'prediction_value': 96.00940472268591},\n",
       " {'prediction_origin_time': Timestamp('2021-12-07 03:27:00'),\n",
       "  'prediction_time': Timestamp('2021-12-07 03:57:00'),\n",
       "  'prediction_value': 77.64495830925961},\n",
       " {'prediction_origin_time': Timestamp('2021-12-07 03:32:00'),\n",
       "  'prediction_time': Timestamp('2021-12-07 04:02:00'),\n",
       "  'prediction_value': 83.7500164844256},\n",
       " {'prediction_origin_time': Timestamp('2021-12-07 03:37:00'),\n",
       "  'prediction_time': Timestamp('2021-12-07 04:07:00'),\n",
       "  'prediction_value': 86.22031720617912},\n",
       " {'prediction_origin_time': Timestamp('2021-12-07 03:42:00'),\n",
       "  'prediction_time': Timestamp('2021-12-07 04:12:00'),\n",
       "  'prediction_value': 71.73833128705874},\n",
       " {'prediction_origin_time': Timestamp('2021-12-07 03:47:00'),\n",
       "  'prediction_time': Timestamp('2021-12-07 04:17:00'),\n",
       "  'prediction_value': 83.00028418779172},\n",
       " {'prediction_origin_time': Timestamp('2021-12-07 03:52:00'),\n",
       "  'prediction_time': Timestamp('2021-12-07 04:22:00'),\n",
       "  'prediction_value': 73.82186397430833},\n",
       " {'prediction_origin_time': Timestamp('2021-12-07 03:57:00'),\n",
       "  'prediction_time': Timestamp('2021-12-07 04:27:00'),\n",
       "  'prediction_value': 78.14480464431416},\n",
       " {'prediction_origin_time': Timestamp('2021-12-07 04:02:00'),\n",
       "  'prediction_time': Timestamp('2021-12-07 04:32:00'),\n",
       "  'prediction_value': 96.6579086996572},\n",
       " {'prediction_origin_time': Timestamp('2021-12-07 04:07:00'),\n",
       "  'prediction_time': Timestamp('2021-12-07 04:37:00'),\n",
       "  'prediction_value': 85.46289338133592},\n",
       " {'prediction_origin_time': Timestamp('2021-12-07 04:12:00'),\n",
       "  'prediction_time': Timestamp('2021-12-07 04:42:00'),\n",
       "  'prediction_value': 84.77868344110212},\n",
       " {'prediction_origin_time': Timestamp('2021-12-07 04:17:00'),\n",
       "  'prediction_time': Timestamp('2021-12-07 04:47:00'),\n",
       "  'prediction_value': 71.0845371844097},\n",
       " {'prediction_origin_time': Timestamp('2021-12-07 04:22:00'),\n",
       "  'prediction_time': Timestamp('2021-12-07 04:52:00'),\n",
       "  'prediction_value': 75.58648643425653},\n",
       " {'prediction_origin_time': Timestamp('2021-12-07 04:27:00'),\n",
       "  'prediction_time': Timestamp('2021-12-07 04:57:00'),\n",
       "  'prediction_value': 80.69254869947139},\n",
       " {'prediction_origin_time': Timestamp('2021-12-07 04:32:00'),\n",
       "  'prediction_time': Timestamp('2021-12-07 05:02:00'),\n",
       "  'prediction_value': 72.05249997445877},\n",
       " {'prediction_origin_time': Timestamp('2021-12-07 04:37:00'),\n",
       "  'prediction_time': Timestamp('2021-12-07 05:07:00'),\n",
       "  'prediction_value': 70.07889961184331},\n",
       " {'prediction_origin_time': Timestamp('2021-12-07 04:42:00'),\n",
       "  'prediction_time': Timestamp('2021-12-07 05:12:00'),\n",
       "  'prediction_value': 69.42034965302133},\n",
       " {'prediction_origin_time': Timestamp('2021-12-07 04:47:00'),\n",
       "  'prediction_time': Timestamp('2021-12-07 05:17:00'),\n",
       "  'prediction_value': 69.3582984147327},\n",
       " {'prediction_origin_time': Timestamp('2021-12-07 04:52:00'),\n",
       "  'prediction_time': Timestamp('2021-12-07 05:22:00'),\n",
       "  'prediction_value': 72.79320643565079},\n",
       " {'prediction_origin_time': Timestamp('2021-12-07 04:57:00'),\n",
       "  'prediction_time': Timestamp('2021-12-07 05:27:00'),\n",
       "  'prediction_value': 89.89151801379857},\n",
       " {'prediction_origin_time': Timestamp('2021-12-07 05:02:00'),\n",
       "  'prediction_time': Timestamp('2021-12-07 05:32:00'),\n",
       "  'prediction_value': 85.15205821025405},\n",
       " {'prediction_origin_time': Timestamp('2021-12-07 05:07:00'),\n",
       "  'prediction_time': Timestamp('2021-12-07 05:37:00'),\n",
       "  'prediction_value': 105.40225704638316},\n",
       " {'prediction_origin_time': Timestamp('2021-12-07 05:12:00'),\n",
       "  'prediction_time': Timestamp('2021-12-07 05:42:00'),\n",
       "  'prediction_value': 131.50412577400175},\n",
       " {'prediction_origin_time': Timestamp('2021-12-07 05:17:00'),\n",
       "  'prediction_time': Timestamp('2021-12-07 05:47:00'),\n",
       "  'prediction_value': 134.81153816141008},\n",
       " {'prediction_origin_time': Timestamp('2021-12-07 05:22:00'),\n",
       "  'prediction_time': Timestamp('2021-12-07 05:52:00'),\n",
       "  'prediction_value': 146.13299985643278},\n",
       " {'prediction_origin_time': Timestamp('2021-12-07 05:27:00'),\n",
       "  'prediction_time': Timestamp('2021-12-07 05:57:00'),\n",
       "  'prediction_value': 170.66091116618594},\n",
       " {'prediction_origin_time': Timestamp('2021-12-07 05:32:00'),\n",
       "  'prediction_time': Timestamp('2021-12-07 06:02:00'),\n",
       "  'prediction_value': 113.93644835924201},\n",
       " {'prediction_origin_time': Timestamp('2021-12-07 05:37:00'),\n",
       "  'prediction_time': Timestamp('2021-12-07 06:07:00'),\n",
       "  'prediction_value': 118.7802258201477},\n",
       " {'prediction_origin_time': Timestamp('2021-12-07 05:42:00'),\n",
       "  'prediction_time': Timestamp('2021-12-07 06:12:00'),\n",
       "  'prediction_value': 149.0613678664389},\n",
       " {'prediction_origin_time': Timestamp('2021-12-07 05:47:00'),\n",
       "  'prediction_time': Timestamp('2021-12-07 06:17:00'),\n",
       "  'prediction_value': 117.86449569135121},\n",
       " {'prediction_origin_time': Timestamp('2021-12-07 05:52:00'),\n",
       "  'prediction_time': Timestamp('2021-12-07 06:22:00'),\n",
       "  'prediction_value': 101.02840893431988},\n",
       " {'prediction_origin_time': Timestamp('2021-12-07 05:57:00'),\n",
       "  'prediction_time': Timestamp('2021-12-07 06:27:00'),\n",
       "  'prediction_value': 97.08545034108228},\n",
       " {'prediction_origin_time': Timestamp('2021-12-07 06:02:00'),\n",
       "  'prediction_time': Timestamp('2021-12-07 06:32:00'),\n",
       "  'prediction_value': 108.20676355569735},\n",
       " {'prediction_origin_time': Timestamp('2021-12-07 06:07:00'),\n",
       "  'prediction_time': Timestamp('2021-12-07 06:37:00'),\n",
       "  'prediction_value': 125.1936771472034},\n",
       " {'prediction_origin_time': Timestamp('2021-12-07 06:12:00'),\n",
       "  'prediction_time': Timestamp('2021-12-07 06:42:00'),\n",
       "  'prediction_value': 132.1510998785065},\n",
       " {'prediction_origin_time': Timestamp('2021-12-07 06:17:00'),\n",
       "  'prediction_time': Timestamp('2021-12-07 06:47:00'),\n",
       "  'prediction_value': 124.0937549142772},\n",
       " {'prediction_origin_time': Timestamp('2021-12-07 06:22:00'),\n",
       "  'prediction_time': Timestamp('2021-12-07 06:52:00'),\n",
       "  'prediction_value': 117.21931185490931},\n",
       " {'prediction_origin_time': Timestamp('2021-12-07 06:27:00'),\n",
       "  'prediction_time': Timestamp('2021-12-07 06:57:00'),\n",
       "  'prediction_value': 78.9314951976324},\n",
       " {'prediction_origin_time': Timestamp('2021-12-07 06:32:00'),\n",
       "  'prediction_time': Timestamp('2021-12-07 07:02:00'),\n",
       "  'prediction_value': 85.16352218889428},\n",
       " {'prediction_origin_time': Timestamp('2021-12-07 06:37:00'),\n",
       "  'prediction_time': Timestamp('2021-12-07 07:07:00'),\n",
       "  'prediction_value': 88.28696225096122},\n",
       " {'prediction_origin_time': Timestamp('2021-12-07 06:42:00'),\n",
       "  'prediction_time': Timestamp('2021-12-07 07:12:00'),\n",
       "  'prediction_value': 80.80265943076164},\n",
       " {'prediction_origin_time': Timestamp('2021-12-07 06:47:00'),\n",
       "  'prediction_time': Timestamp('2021-12-07 07:17:00'),\n",
       "  'prediction_value': 76.02864743210687},\n",
       " {'prediction_origin_time': Timestamp('2021-12-07 06:52:00'),\n",
       "  'prediction_time': Timestamp('2021-12-07 07:22:00'),\n",
       "  'prediction_value': 84.80929549984324},\n",
       " {'prediction_origin_time': Timestamp('2021-12-07 06:57:00'),\n",
       "  'prediction_time': Timestamp('2021-12-07 07:27:00'),\n",
       "  'prediction_value': 84.5356855177876},\n",
       " {'prediction_origin_time': Timestamp('2021-12-07 07:02:00'),\n",
       "  'prediction_time': Timestamp('2021-12-07 07:32:00'),\n",
       "  'prediction_value': 81.87422868667949},\n",
       " {'prediction_origin_time': Timestamp('2021-12-07 07:07:00'),\n",
       "  'prediction_time': Timestamp('2021-12-07 07:37:00'),\n",
       "  'prediction_value': 72.32214529913134},\n",
       " {'prediction_origin_time': Timestamp('2021-12-07 07:12:00'),\n",
       "  'prediction_time': Timestamp('2021-12-07 07:42:00'),\n",
       "  'prediction_value': 72.23768174947828},\n",
       " {'prediction_origin_time': Timestamp('2021-12-07 07:17:00'),\n",
       "  'prediction_time': Timestamp('2021-12-07 07:47:00'),\n",
       "  'prediction_value': 84.13424127480745},\n",
       " {'prediction_origin_time': Timestamp('2021-12-07 07:22:00'),\n",
       "  'prediction_time': Timestamp('2021-12-07 07:52:00'),\n",
       "  'prediction_value': 93.50531385668901},\n",
       " {'prediction_origin_time': Timestamp('2021-12-07 07:27:00'),\n",
       "  'prediction_time': Timestamp('2021-12-07 07:57:00'),\n",
       "  'prediction_value': 97.87941493964507},\n",
       " {'prediction_origin_time': Timestamp('2021-12-07 07:32:00'),\n",
       "  'prediction_time': Timestamp('2021-12-07 08:02:00'),\n",
       "  'prediction_value': 100.97103299268339},\n",
       " {'prediction_origin_time': Timestamp('2021-12-07 07:37:00'),\n",
       "  'prediction_time': Timestamp('2021-12-07 08:07:00'),\n",
       "  'prediction_value': 77.65273705303767},\n",
       " {'prediction_origin_time': Timestamp('2021-12-07 07:42:00'),\n",
       "  'prediction_time': Timestamp('2021-12-07 08:12:00'),\n",
       "  'prediction_value': 71.24656604478672},\n",
       " {'prediction_origin_time': Timestamp('2021-12-07 07:47:00'),\n",
       "  'prediction_time': Timestamp('2021-12-07 08:17:00'),\n",
       "  'prediction_value': 90.0583569178501},\n",
       " {'prediction_origin_time': Timestamp('2021-12-07 07:52:00'),\n",
       "  'prediction_time': Timestamp('2021-12-07 08:22:00'),\n",
       "  'prediction_value': 85.03633105630557},\n",
       " {'prediction_origin_time': Timestamp('2021-12-07 07:57:00'),\n",
       "  'prediction_time': Timestamp('2021-12-07 08:27:00'),\n",
       "  'prediction_value': 83.71892134216039},\n",
       " {'prediction_origin_time': Timestamp('2021-12-07 08:02:00'),\n",
       "  'prediction_time': Timestamp('2021-12-07 08:32:00'),\n",
       "  'prediction_value': 76.24300793431736},\n",
       " {'prediction_origin_time': Timestamp('2021-12-07 08:07:00'),\n",
       "  'prediction_time': Timestamp('2021-12-07 08:37:00'),\n",
       "  'prediction_value': 85.99511893849372},\n",
       " {'prediction_origin_time': Timestamp('2021-12-07 08:12:00'),\n",
       "  'prediction_time': Timestamp('2021-12-07 08:42:00'),\n",
       "  'prediction_value': 81.59932378564073},\n",
       " {'prediction_origin_time': Timestamp('2021-12-07 08:17:00'),\n",
       "  'prediction_time': Timestamp('2021-12-07 08:47:00'),\n",
       "  'prediction_value': 75.51076099626498},\n",
       " {'prediction_origin_time': Timestamp('2021-12-07 08:22:00'),\n",
       "  'prediction_time': Timestamp('2021-12-07 08:52:00'),\n",
       "  'prediction_value': 78.54852306807324},\n",
       " {'prediction_origin_time': Timestamp('2021-12-07 08:27:00'),\n",
       "  'prediction_time': Timestamp('2021-12-07 08:57:00'),\n",
       "  'prediction_value': 85.37588074677718},\n",
       " {'prediction_origin_time': Timestamp('2021-12-07 08:32:00'),\n",
       "  'prediction_time': Timestamp('2021-12-07 09:02:00'),\n",
       "  'prediction_value': 81.42689425330313},\n",
       " {'prediction_origin_time': Timestamp('2021-12-07 08:37:00'),\n",
       "  'prediction_time': Timestamp('2021-12-07 09:07:00'),\n",
       "  'prediction_value': 81.13732737898519},\n",
       " {'prediction_origin_time': Timestamp('2021-12-07 08:42:00'),\n",
       "  'prediction_time': Timestamp('2021-12-07 09:12:00'),\n",
       "  'prediction_value': 84.43175243908381},\n",
       " {'prediction_origin_time': Timestamp('2021-12-07 08:47:00'),\n",
       "  'prediction_time': Timestamp('2021-12-07 09:17:00'),\n",
       "  'prediction_value': 83.32242774784517},\n",
       " {'prediction_origin_time': Timestamp('2021-12-07 08:52:00'),\n",
       "  'prediction_time': Timestamp('2021-12-07 09:22:00'),\n",
       "  'prediction_value': 82.25540280471147},\n",
       " {'prediction_origin_time': Timestamp('2021-12-07 08:57:00'),\n",
       "  'prediction_time': Timestamp('2021-12-07 09:27:00'),\n",
       "  'prediction_value': 91.31430093999433},\n",
       " {'prediction_origin_time': Timestamp('2021-12-07 09:02:00'),\n",
       "  'prediction_time': Timestamp('2021-12-07 09:32:00'),\n",
       "  'prediction_value': 91.00640809219166},\n",
       " {'prediction_origin_time': Timestamp('2021-12-07 09:07:00'),\n",
       "  'prediction_time': Timestamp('2021-12-07 09:37:00'),\n",
       "  'prediction_value': 79.11200561040238},\n",
       " {'prediction_origin_time': Timestamp('2021-12-07 09:12:00'),\n",
       "  'prediction_time': Timestamp('2021-12-07 09:42:00'),\n",
       "  'prediction_value': 83.40646128904814},\n",
       " {'prediction_origin_time': Timestamp('2021-12-07 09:17:00'),\n",
       "  'prediction_time': Timestamp('2021-12-07 09:47:00'),\n",
       "  'prediction_value': 129.24647842474602},\n",
       " {'prediction_origin_time': Timestamp('2021-12-07 09:22:00'),\n",
       "  'prediction_time': Timestamp('2021-12-07 09:52:00'),\n",
       "  'prediction_value': 108.70278628834116},\n",
       " {'prediction_origin_time': Timestamp('2021-12-07 09:27:00'),\n",
       "  'prediction_time': Timestamp('2021-12-07 09:57:00'),\n",
       "  'prediction_value': 114.07760466045109},\n",
       " {'prediction_origin_time': Timestamp('2021-12-07 09:32:00'),\n",
       "  'prediction_time': Timestamp('2021-12-07 10:02:00'),\n",
       "  'prediction_value': 88.86101159630033},\n",
       " {'prediction_origin_time': Timestamp('2021-12-07 09:37:00'),\n",
       "  'prediction_time': Timestamp('2021-12-07 10:07:00'),\n",
       "  'prediction_value': 96.28083349277018},\n",
       " {'prediction_origin_time': Timestamp('2021-12-07 09:42:00'),\n",
       "  'prediction_time': Timestamp('2021-12-07 10:12:00'),\n",
       "  'prediction_value': 78.06358002750251},\n",
       " {'prediction_origin_time': Timestamp('2021-12-07 09:47:00'),\n",
       "  'prediction_time': Timestamp('2021-12-07 10:17:00'),\n",
       "  'prediction_value': 77.01211478065666},\n",
       " {'prediction_origin_time': Timestamp('2021-12-07 09:52:00'),\n",
       "  'prediction_time': Timestamp('2021-12-07 10:22:00'),\n",
       "  'prediction_value': 86.48188837922721},\n",
       " {'prediction_origin_time': Timestamp('2021-12-07 09:57:00'),\n",
       "  'prediction_time': Timestamp('2021-12-07 10:27:00'),\n",
       "  'prediction_value': 80.00331075705725},\n",
       " {'prediction_origin_time': Timestamp('2021-12-07 10:02:00'),\n",
       "  'prediction_time': Timestamp('2021-12-07 10:32:00'),\n",
       "  'prediction_value': 78.54189932022692},\n",
       " {'prediction_origin_time': Timestamp('2021-12-07 10:07:00'),\n",
       "  'prediction_time': Timestamp('2021-12-07 10:37:00'),\n",
       "  'prediction_value': 78.35853358594512},\n",
       " {'prediction_origin_time': Timestamp('2021-12-07 10:12:00'),\n",
       "  'prediction_time': Timestamp('2021-12-07 10:42:00'),\n",
       "  'prediction_value': 87.86932871498384},\n",
       " {'prediction_origin_time': Timestamp('2021-12-07 10:17:00'),\n",
       "  'prediction_time': Timestamp('2021-12-07 10:47:00'),\n",
       "  'prediction_value': 82.84484618681817},\n",
       " {'prediction_origin_time': Timestamp('2021-12-07 10:22:00'),\n",
       "  'prediction_time': Timestamp('2021-12-07 10:52:00'),\n",
       "  'prediction_value': 87.83691371244683},\n",
       " {'prediction_origin_time': Timestamp('2021-12-07 10:27:00'),\n",
       "  'prediction_time': Timestamp('2021-12-07 10:57:00'),\n",
       "  'prediction_value': 90.3099729998854},\n",
       " {'prediction_origin_time': Timestamp('2021-12-07 10:32:00'),\n",
       "  'prediction_time': Timestamp('2021-12-07 11:02:00'),\n",
       "  'prediction_value': 83.21597307572038},\n",
       " {'prediction_origin_time': Timestamp('2021-12-07 10:37:00'),\n",
       "  'prediction_time': Timestamp('2021-12-07 11:07:00'),\n",
       "  'prediction_value': 101.72691691102021},\n",
       " {'prediction_origin_time': Timestamp('2021-12-07 10:42:00'),\n",
       "  'prediction_time': Timestamp('2021-12-07 11:12:00'),\n",
       "  'prediction_value': 84.29771932189458},\n",
       " {'prediction_origin_time': Timestamp('2021-12-07 10:47:00'),\n",
       "  'prediction_time': Timestamp('2021-12-07 11:17:00'),\n",
       "  'prediction_value': 116.5429312287202},\n",
       " {'prediction_origin_time': Timestamp('2021-12-07 10:52:00'),\n",
       "  'prediction_time': Timestamp('2021-12-07 11:22:00'),\n",
       "  'prediction_value': 115.66404945869871},\n",
       " {'prediction_origin_time': Timestamp('2021-12-07 10:57:00'),\n",
       "  'prediction_time': Timestamp('2021-12-07 11:27:00'),\n",
       "  'prediction_value': 120.17832588807866},\n",
       " {'prediction_origin_time': Timestamp('2021-12-07 11:02:00'),\n",
       "  'prediction_time': Timestamp('2021-12-07 11:32:00'),\n",
       "  'prediction_value': 187.79456883742546},\n",
       " {'prediction_origin_time': Timestamp('2021-12-07 11:07:00'),\n",
       "  'prediction_time': Timestamp('2021-12-07 11:37:00'),\n",
       "  'prediction_value': 202.37450077964337},\n",
       " {'prediction_origin_time': Timestamp('2021-12-07 11:12:00'),\n",
       "  'prediction_time': Timestamp('2021-12-07 11:42:00'),\n",
       "  'prediction_value': 208.25034006358794},\n",
       " {'prediction_origin_time': Timestamp('2021-12-07 11:17:00'),\n",
       "  'prediction_time': Timestamp('2021-12-07 11:47:00'),\n",
       "  'prediction_value': 212.15791472836497},\n",
       " {'prediction_origin_time': Timestamp('2021-12-07 11:22:00'),\n",
       "  'prediction_time': Timestamp('2021-12-07 11:52:00'),\n",
       "  'prediction_value': 232.7889601684728},\n",
       " {'prediction_origin_time': Timestamp('2021-12-07 11:27:00'),\n",
       "  'prediction_time': Timestamp('2021-12-07 11:57:00'),\n",
       "  'prediction_value': 195.40777068449447},\n",
       " {'prediction_origin_time': Timestamp('2021-12-07 11:32:00'),\n",
       "  'prediction_time': Timestamp('2021-12-07 12:02:00'),\n",
       "  'prediction_value': 231.39574985192067},\n",
       " {'prediction_origin_time': Timestamp('2021-12-07 11:37:00'),\n",
       "  'prediction_time': Timestamp('2021-12-07 12:07:00'),\n",
       "  'prediction_value': 222.69562671805292},\n",
       " {'prediction_origin_time': Timestamp('2021-12-07 11:42:00'),\n",
       "  'prediction_time': Timestamp('2021-12-07 12:12:00'),\n",
       "  'prediction_value': 182.98085269283337},\n",
       " {'prediction_origin_time': Timestamp('2021-12-07 11:47:00'),\n",
       "  'prediction_time': Timestamp('2021-12-07 12:17:00'),\n",
       "  'prediction_value': 158.54653436034326},\n",
       " {'prediction_origin_time': Timestamp('2021-12-07 11:52:00'),\n",
       "  'prediction_time': Timestamp('2021-12-07 12:22:00'),\n",
       "  'prediction_value': 160.32434793453052},\n",
       " {'prediction_origin_time': Timestamp('2021-12-07 11:57:00'),\n",
       "  'prediction_time': Timestamp('2021-12-07 12:27:00'),\n",
       "  'prediction_value': 163.56153950192893},\n",
       " {'prediction_origin_time': Timestamp('2021-12-07 12:02:00'),\n",
       "  'prediction_time': Timestamp('2021-12-07 12:32:00'),\n",
       "  'prediction_value': 169.57913361577693},\n",
       " {'prediction_origin_time': Timestamp('2021-12-07 12:07:00'),\n",
       "  'prediction_time': Timestamp('2021-12-07 12:37:00'),\n",
       "  'prediction_value': 172.37910253031765},\n",
       " {'prediction_origin_time': Timestamp('2021-12-07 12:12:00'),\n",
       "  'prediction_time': Timestamp('2021-12-07 12:42:00'),\n",
       "  'prediction_value': 166.185592932618},\n",
       " {'prediction_origin_time': Timestamp('2021-12-07 12:17:00'),\n",
       "  'prediction_time': Timestamp('2021-12-07 12:47:00'),\n",
       "  'prediction_value': 174.80272782419826},\n",
       " {'prediction_origin_time': Timestamp('2021-12-07 12:22:00'),\n",
       "  'prediction_time': Timestamp('2021-12-07 12:52:00'),\n",
       "  'prediction_value': 234.1089378498309},\n",
       " {'prediction_origin_time': Timestamp('2021-12-07 12:27:00'),\n",
       "  'prediction_time': Timestamp('2021-12-07 12:57:00'),\n",
       "  'prediction_value': 212.57207331202093},\n",
       " {'prediction_origin_time': Timestamp('2021-12-07 12:32:00'),\n",
       "  'prediction_time': Timestamp('2021-12-07 13:02:00'),\n",
       "  'prediction_value': 216.48543530066598},\n",
       " {'prediction_origin_time': Timestamp('2021-12-07 12:37:00'),\n",
       "  'prediction_time': Timestamp('2021-12-07 13:07:00'),\n",
       "  'prediction_value': 221.7206114792146},\n",
       " {'prediction_origin_time': Timestamp('2021-12-07 12:42:00'),\n",
       "  'prediction_time': Timestamp('2021-12-07 13:12:00'),\n",
       "  'prediction_value': 242.43206077544784},\n",
       " {'prediction_origin_time': Timestamp('2021-12-07 12:47:00'),\n",
       "  'prediction_time': Timestamp('2021-12-07 13:17:00'),\n",
       "  'prediction_value': 237.63181271051857},\n",
       " {'prediction_origin_time': Timestamp('2021-12-07 12:52:00'),\n",
       "  'prediction_time': Timestamp('2021-12-07 13:22:00'),\n",
       "  'prediction_value': 248.39885635371164},\n",
       " {'prediction_origin_time': Timestamp('2021-12-07 12:57:00'),\n",
       "  'prediction_time': Timestamp('2021-12-07 13:27:00'),\n",
       "  'prediction_value': 247.8594703387577},\n",
       " {'prediction_origin_time': Timestamp('2021-12-07 13:02:00'),\n",
       "  'prediction_time': Timestamp('2021-12-07 13:32:00'),\n",
       "  'prediction_value': 198.99304357203926},\n",
       " {'prediction_origin_time': Timestamp('2021-12-07 13:07:00'),\n",
       "  'prediction_time': Timestamp('2021-12-07 13:37:00'),\n",
       "  'prediction_value': 196.165914768119},\n",
       " {'prediction_origin_time': Timestamp('2021-12-07 13:12:00'),\n",
       "  'prediction_time': Timestamp('2021-12-07 13:42:00'),\n",
       "  'prediction_value': 201.26739540928205},\n",
       " {'prediction_origin_time': Timestamp('2021-12-07 13:17:00'),\n",
       "  'prediction_time': Timestamp('2021-12-07 13:47:00'),\n",
       "  'prediction_value': 187.0083711049787},\n",
       " {'prediction_origin_time': Timestamp('2021-12-07 13:22:00'),\n",
       "  'prediction_time': Timestamp('2021-12-07 13:52:00'),\n",
       "  'prediction_value': 185.64329006848604},\n",
       " {'prediction_origin_time': Timestamp('2021-12-07 13:27:00'),\n",
       "  'prediction_time': Timestamp('2021-12-07 13:57:00'),\n",
       "  'prediction_value': 164.96526431353857},\n",
       " {'prediction_origin_time': Timestamp('2021-12-07 13:32:00'),\n",
       "  'prediction_time': Timestamp('2021-12-07 14:02:00'),\n",
       "  'prediction_value': 157.59575249514788},\n",
       " {'prediction_origin_time': Timestamp('2021-12-07 13:37:00'),\n",
       "  'prediction_time': Timestamp('2021-12-07 14:07:00'),\n",
       "  'prediction_value': 167.3694121298944},\n",
       " {'prediction_origin_time': Timestamp('2021-12-07 13:42:00'),\n",
       "  'prediction_time': Timestamp('2021-12-07 14:12:00'),\n",
       "  'prediction_value': 155.98058262360252},\n",
       " {'prediction_origin_time': Timestamp('2021-12-07 13:47:00'),\n",
       "  'prediction_time': Timestamp('2021-12-07 14:17:00'),\n",
       "  'prediction_value': 153.10396840372866},\n",
       " {'prediction_origin_time': Timestamp('2021-12-07 13:52:00'),\n",
       "  'prediction_time': Timestamp('2021-12-07 14:22:00'),\n",
       "  'prediction_value': 194.40849495403134},\n",
       " {'prediction_origin_time': Timestamp('2021-12-07 13:57:00'),\n",
       "  'prediction_time': Timestamp('2021-12-07 14:27:00'),\n",
       "  'prediction_value': 150.09390718049522},\n",
       " {'prediction_origin_time': Timestamp('2021-12-07 14:02:00'),\n",
       "  'prediction_time': Timestamp('2021-12-07 14:32:00'),\n",
       "  'prediction_value': 151.05348622132416},\n",
       " {'prediction_origin_time': Timestamp('2021-12-07 14:07:00'),\n",
       "  'prediction_time': Timestamp('2021-12-07 14:37:00'),\n",
       "  'prediction_value': 131.0116987792884},\n",
       " {'prediction_origin_time': Timestamp('2021-12-07 14:12:00'),\n",
       "  'prediction_time': Timestamp('2021-12-07 14:42:00'),\n",
       "  'prediction_value': 138.57292880553342},\n",
       " {'prediction_origin_time': Timestamp('2021-12-07 14:17:00'),\n",
       "  'prediction_time': Timestamp('2021-12-07 14:47:00'),\n",
       "  'prediction_value': 116.0337362600122},\n",
       " {'prediction_origin_time': Timestamp('2021-12-07 14:22:00'),\n",
       "  'prediction_time': Timestamp('2021-12-07 14:52:00'),\n",
       "  'prediction_value': 114.54331854662566},\n",
       " {'prediction_origin_time': Timestamp('2021-12-07 14:27:00'),\n",
       "  'prediction_time': Timestamp('2021-12-07 14:57:00'),\n",
       "  'prediction_value': 110.54034456835461},\n",
       " {'prediction_origin_time': Timestamp('2021-12-07 14:32:00'),\n",
       "  'prediction_time': Timestamp('2021-12-07 15:02:00'),\n",
       "  'prediction_value': 114.6186549782324},\n",
       " {'prediction_origin_time': Timestamp('2021-12-07 14:37:00'),\n",
       "  'prediction_time': Timestamp('2021-12-07 15:07:00'),\n",
       "  'prediction_value': 108.44002498235535},\n",
       " {'prediction_origin_time': Timestamp('2021-12-07 14:42:00'),\n",
       "  'prediction_time': Timestamp('2021-12-07 15:12:00'),\n",
       "  'prediction_value': 104.96057169400238},\n",
       " {'prediction_origin_time': Timestamp('2021-12-07 14:47:00'),\n",
       "  'prediction_time': Timestamp('2021-12-07 15:17:00'),\n",
       "  'prediction_value': 103.48532594618625},\n",
       " {'prediction_origin_time': Timestamp('2021-12-07 14:52:00'),\n",
       "  'prediction_time': Timestamp('2021-12-07 15:22:00'),\n",
       "  'prediction_value': 102.408121348364},\n",
       " {'prediction_origin_time': Timestamp('2021-12-07 14:57:00'),\n",
       "  'prediction_time': Timestamp('2021-12-07 15:27:00'),\n",
       "  'prediction_value': 95.534959550074},\n",
       " {'prediction_origin_time': Timestamp('2021-12-07 15:02:00'),\n",
       "  'prediction_time': Timestamp('2021-12-07 15:32:00'),\n",
       "  'prediction_value': 109.10472863715862},\n",
       " {'prediction_origin_time': Timestamp('2021-12-07 15:07:00'),\n",
       "  'prediction_time': Timestamp('2021-12-07 15:37:00'),\n",
       "  'prediction_value': 116.49395830881402},\n",
       " {'prediction_origin_time': Timestamp('2021-12-07 15:12:00'),\n",
       "  'prediction_time': Timestamp('2021-12-07 15:42:00'),\n",
       "  'prediction_value': 124.14269502639792},\n",
       " {'prediction_origin_time': Timestamp('2021-12-07 15:17:00'),\n",
       "  'prediction_time': Timestamp('2021-12-07 15:47:00'),\n",
       "  'prediction_value': 122.88123535125418},\n",
       " {'prediction_origin_time': Timestamp('2021-12-07 15:22:00'),\n",
       "  'prediction_time': Timestamp('2021-12-07 15:52:00'),\n",
       "  'prediction_value': 109.95088026491776},\n",
       " {'prediction_origin_time': Timestamp('2021-12-07 15:27:00'),\n",
       "  'prediction_time': Timestamp('2021-12-07 15:57:00'),\n",
       "  'prediction_value': 101.71428224007825},\n",
       " {'prediction_origin_time': Timestamp('2021-12-07 15:32:00'),\n",
       "  'prediction_time': Timestamp('2021-12-07 16:02:00'),\n",
       "  'prediction_value': 97.5214691061535},\n",
       " {'prediction_origin_time': Timestamp('2021-12-07 15:37:00'),\n",
       "  'prediction_time': Timestamp('2021-12-07 16:07:00'),\n",
       "  'prediction_value': 87.15841755765983},\n",
       " {'prediction_origin_time': Timestamp('2021-12-07 15:42:00'),\n",
       "  'prediction_time': Timestamp('2021-12-07 16:12:00'),\n",
       "  'prediction_value': 94.63447685476288},\n",
       " {'prediction_origin_time': Timestamp('2021-12-07 15:47:00'),\n",
       "  'prediction_time': Timestamp('2021-12-07 16:17:00'),\n",
       "  'prediction_value': 96.43445696153461},\n",
       " {'prediction_origin_time': Timestamp('2021-12-07 15:52:00'),\n",
       "  'prediction_time': Timestamp('2021-12-07 16:22:00'),\n",
       "  'prediction_value': 95.12394765306327},\n",
       " {'prediction_origin_time': Timestamp('2021-12-07 15:57:00'),\n",
       "  'prediction_time': Timestamp('2021-12-07 16:27:00'),\n",
       "  'prediction_value': 99.9341621425239},\n",
       " {'prediction_origin_time': Timestamp('2021-12-07 16:02:00'),\n",
       "  'prediction_time': Timestamp('2021-12-07 16:32:00'),\n",
       "  'prediction_value': 103.59046231908407},\n",
       " {'prediction_origin_time': Timestamp('2021-12-07 16:07:00'),\n",
       "  'prediction_time': Timestamp('2021-12-07 16:37:00'),\n",
       "  'prediction_value': 111.04129824756036},\n",
       " {'prediction_origin_time': Timestamp('2021-12-07 16:12:00'),\n",
       "  'prediction_time': Timestamp('2021-12-07 16:42:00'),\n",
       "  'prediction_value': 120.06524757772672},\n",
       " {'prediction_origin_time': Timestamp('2021-12-07 16:17:00'),\n",
       "  'prediction_time': Timestamp('2021-12-07 16:47:00'),\n",
       "  'prediction_value': 118.57483312981002},\n",
       " {'prediction_origin_time': Timestamp('2021-12-07 16:22:00'),\n",
       "  'prediction_time': Timestamp('2021-12-07 16:52:00'),\n",
       "  'prediction_value': 105.66418454034597},\n",
       " {'prediction_origin_time': Timestamp('2021-12-07 16:27:00'),\n",
       "  'prediction_time': Timestamp('2021-12-07 16:57:00'),\n",
       "  'prediction_value': 99.83032183516443},\n",
       " {'prediction_origin_time': Timestamp('2021-12-07 16:32:00'),\n",
       "  'prediction_time': Timestamp('2021-12-07 17:02:00'),\n",
       "  'prediction_value': 110.35894601712984},\n",
       " {'prediction_origin_time': Timestamp('2021-12-07 16:37:00'),\n",
       "  'prediction_time': Timestamp('2021-12-07 17:07:00'),\n",
       "  'prediction_value': 102.34618014094563},\n",
       " {'prediction_origin_time': Timestamp('2021-12-07 16:42:00'),\n",
       "  'prediction_time': Timestamp('2021-12-07 17:12:00'),\n",
       "  'prediction_value': 103.04370024702371},\n",
       " {'prediction_origin_time': Timestamp('2021-12-07 16:47:00'),\n",
       "  'prediction_time': Timestamp('2021-12-07 17:17:00'),\n",
       "  'prediction_value': 102.88613676070463},\n",
       " {'prediction_origin_time': Timestamp('2021-12-07 16:52:00'),\n",
       "  'prediction_time': Timestamp('2021-12-07 17:22:00'),\n",
       "  'prediction_value': 106.02354977627128},\n",
       " {'prediction_origin_time': Timestamp('2021-12-07 16:57:00'),\n",
       "  'prediction_time': Timestamp('2021-12-07 17:27:00'),\n",
       "  'prediction_value': 94.1382716632192},\n",
       " {'prediction_origin_time': Timestamp('2021-12-07 17:02:00'),\n",
       "  'prediction_time': Timestamp('2021-12-07 17:32:00'),\n",
       "  'prediction_value': 99.35020270143404},\n",
       " {'prediction_origin_time': Timestamp('2021-12-07 17:07:00'),\n",
       "  'prediction_time': Timestamp('2021-12-07 17:37:00'),\n",
       "  'prediction_value': 94.39547385381643},\n",
       " {'prediction_origin_time': Timestamp('2021-12-07 17:12:00'),\n",
       "  'prediction_time': Timestamp('2021-12-07 17:42:00'),\n",
       "  'prediction_value': 91.57399327068613},\n",
       " {'prediction_origin_time': Timestamp('2021-12-07 17:17:00'),\n",
       "  'prediction_time': Timestamp('2021-12-07 17:47:00'),\n",
       "  'prediction_value': 89.04372350722232},\n",
       " {'prediction_origin_time': Timestamp('2021-12-07 17:22:00'),\n",
       "  'prediction_time': Timestamp('2021-12-07 17:52:00'),\n",
       "  'prediction_value': 86.35625289187425},\n",
       " {'prediction_origin_time': Timestamp('2021-12-07 17:27:00'),\n",
       "  'prediction_time': Timestamp('2021-12-07 17:57:00'),\n",
       "  'prediction_value': 85.5320533974597},\n",
       " {'prediction_origin_time': Timestamp('2021-12-07 17:32:00'),\n",
       "  'prediction_time': Timestamp('2021-12-07 18:02:00'),\n",
       "  'prediction_value': 86.15946292457363},\n",
       " {'prediction_origin_time': Timestamp('2021-12-07 17:37:00'),\n",
       "  'prediction_time': Timestamp('2021-12-07 18:07:00'),\n",
       "  'prediction_value': 92.24165410805534},\n",
       " {'prediction_origin_time': Timestamp('2021-12-07 17:42:00'),\n",
       "  'prediction_time': Timestamp('2021-12-07 18:12:00'),\n",
       "  'prediction_value': 96.26719731777101},\n",
       " {'prediction_origin_time': Timestamp('2021-12-07 17:47:00'),\n",
       "  'prediction_time': Timestamp('2021-12-07 18:17:00'),\n",
       "  'prediction_value': 95.83285106506759},\n",
       " {'prediction_origin_time': Timestamp('2021-12-07 17:52:00'),\n",
       "  'prediction_time': Timestamp('2021-12-07 18:22:00'),\n",
       "  'prediction_value': 96.7259719952718},\n",
       " {'prediction_origin_time': Timestamp('2021-12-07 17:57:00'),\n",
       "  'prediction_time': Timestamp('2021-12-07 18:27:00'),\n",
       "  'prediction_value': 95.78070245534407},\n",
       " {'prediction_origin_time': Timestamp('2021-12-07 18:02:00'),\n",
       "  'prediction_time': Timestamp('2021-12-07 18:32:00'),\n",
       "  'prediction_value': 100.06753661885625},\n",
       " {'prediction_origin_time': Timestamp('2021-12-07 18:07:00'),\n",
       "  'prediction_time': Timestamp('2021-12-07 18:37:00'),\n",
       "  'prediction_value': 99.92327145711452},\n",
       " {'prediction_origin_time': Timestamp('2021-12-07 18:12:00'),\n",
       "  'prediction_time': Timestamp('2021-12-07 18:42:00'),\n",
       "  'prediction_value': 96.4610441420534},\n",
       " {'prediction_origin_time': Timestamp('2021-12-07 18:17:00'),\n",
       "  'prediction_time': Timestamp('2021-12-07 18:47:00'),\n",
       "  'prediction_value': 99.38746396096556},\n",
       " {'prediction_origin_time': Timestamp('2021-12-07 18:22:00'),\n",
       "  'prediction_time': Timestamp('2021-12-07 18:52:00'),\n",
       "  'prediction_value': 93.7969571117118},\n",
       " {'prediction_origin_time': Timestamp('2021-12-07 18:27:00'),\n",
       "  'prediction_time': Timestamp('2021-12-07 18:57:00'),\n",
       "  'prediction_value': 92.37631899215673},\n",
       " {'prediction_origin_time': Timestamp('2021-12-07 18:32:00'),\n",
       "  'prediction_time': Timestamp('2021-12-07 19:02:00'),\n",
       "  'prediction_value': 89.33576570945414},\n",
       " {'prediction_origin_time': Timestamp('2021-12-07 18:37:00'),\n",
       "  'prediction_time': Timestamp('2021-12-07 19:07:00'),\n",
       "  'prediction_value': 95.05156402988565},\n",
       " {'prediction_origin_time': Timestamp('2021-12-07 18:42:00'),\n",
       "  'prediction_time': Timestamp('2021-12-07 19:12:00'),\n",
       "  'prediction_value': 99.33440333729212},\n",
       " {'prediction_origin_time': Timestamp('2021-12-07 18:47:00'),\n",
       "  'prediction_time': Timestamp('2021-12-07 19:17:00'),\n",
       "  'prediction_value': 104.28287298976441},\n",
       " {'prediction_origin_time': Timestamp('2021-12-07 18:52:00'),\n",
       "  'prediction_time': Timestamp('2021-12-07 19:22:00'),\n",
       "  'prediction_value': 108.96335901900382},\n",
       " {'prediction_origin_time': Timestamp('2021-12-07 18:57:00'),\n",
       "  'prediction_time': Timestamp('2021-12-07 19:27:00'),\n",
       "  'prediction_value': 111.37834383932316},\n",
       " {'prediction_origin_time': Timestamp('2021-12-07 19:02:00'),\n",
       "  'prediction_time': Timestamp('2021-12-07 19:32:00'),\n",
       "  'prediction_value': 102.7258173778557},\n",
       " {'prediction_origin_time': Timestamp('2021-12-07 19:07:00'),\n",
       "  'prediction_time': Timestamp('2021-12-07 19:37:00'),\n",
       "  'prediction_value': 106.08173557357414},\n",
       " {'prediction_origin_time': Timestamp('2021-12-07 19:12:00'),\n",
       "  'prediction_time': Timestamp('2021-12-07 19:42:00'),\n",
       "  'prediction_value': 102.82474744738174},\n",
       " {'prediction_origin_time': Timestamp('2021-12-07 19:17:00'),\n",
       "  'prediction_time': Timestamp('2021-12-07 19:47:00'),\n",
       "  'prediction_value': 95.65069170985618},\n",
       " {'prediction_origin_time': Timestamp('2021-12-07 19:22:00'),\n",
       "  'prediction_time': Timestamp('2021-12-07 19:52:00'),\n",
       "  'prediction_value': 97.52628215629967},\n",
       " {'prediction_origin_time': Timestamp('2021-12-07 19:27:00'),\n",
       "  'prediction_time': Timestamp('2021-12-07 19:57:00'),\n",
       "  'prediction_value': 106.42876867010398},\n",
       " {'prediction_origin_time': Timestamp('2021-12-07 19:32:00'),\n",
       "  'prediction_time': Timestamp('2021-12-07 20:02:00'),\n",
       "  'prediction_value': 110.06759932092342},\n",
       " {'prediction_origin_time': Timestamp('2021-12-07 19:37:00'),\n",
       "  'prediction_time': Timestamp('2021-12-07 20:07:00'),\n",
       "  'prediction_value': 109.52383012166607},\n",
       " {'prediction_origin_time': Timestamp('2021-12-07 19:42:00'),\n",
       "  'prediction_time': Timestamp('2021-12-07 20:12:00'),\n",
       "  'prediction_value': 109.06039718721452},\n",
       " {'prediction_origin_time': Timestamp('2021-12-07 19:47:00'),\n",
       "  'prediction_time': Timestamp('2021-12-07 20:17:00'),\n",
       "  'prediction_value': 98.13694977313752},\n",
       " {'prediction_origin_time': Timestamp('2021-12-07 19:52:00'),\n",
       "  'prediction_time': Timestamp('2021-12-07 20:22:00'),\n",
       "  'prediction_value': 92.16372213935848},\n",
       " {'prediction_origin_time': Timestamp('2021-12-07 19:57:00'),\n",
       "  'prediction_time': Timestamp('2021-12-07 20:27:00'),\n",
       "  'prediction_value': 93.80165866783348},\n",
       " {'prediction_origin_time': Timestamp('2021-12-07 20:02:00'),\n",
       "  'prediction_time': Timestamp('2021-12-07 20:32:00'),\n",
       "  'prediction_value': 87.96089129731745},\n",
       " {'prediction_origin_time': Timestamp('2021-12-07 20:07:00'),\n",
       "  'prediction_time': Timestamp('2021-12-07 20:37:00'),\n",
       "  'prediction_value': 94.82965617613364},\n",
       " {'prediction_origin_time': Timestamp('2021-12-07 20:12:00'),\n",
       "  'prediction_time': Timestamp('2021-12-07 20:42:00'),\n",
       "  'prediction_value': 95.8313964676067},\n",
       " {'prediction_origin_time': Timestamp('2021-12-08 00:04:00'),\n",
       "  'prediction_time': Timestamp('2021-12-08 00:34:00'),\n",
       "  'prediction_value': 266.09299858829723},\n",
       " {'prediction_origin_time': Timestamp('2021-12-08 00:09:00'),\n",
       "  'prediction_time': Timestamp('2021-12-08 00:39:00'),\n",
       "  'prediction_value': 310.4025793130524},\n",
       " {'prediction_origin_time': Timestamp('2021-12-08 00:14:00'),\n",
       "  'prediction_time': Timestamp('2021-12-08 00:44:00'),\n",
       "  'prediction_value': 331.4771285528696},\n",
       " {'prediction_origin_time': Timestamp('2021-12-08 00:19:00'),\n",
       "  'prediction_time': Timestamp('2021-12-08 00:49:00'),\n",
       "  'prediction_value': 316.8680104350486},\n",
       " {'prediction_origin_time': Timestamp('2021-12-08 00:24:00'),\n",
       "  'prediction_time': Timestamp('2021-12-08 00:54:00'),\n",
       "  'prediction_value': 310.40211296690546},\n",
       " {'prediction_origin_time': Timestamp('2021-12-08 00:29:00'),\n",
       "  'prediction_time': Timestamp('2021-12-08 00:59:00'),\n",
       "  'prediction_value': 326.18518525586984},\n",
       " {'prediction_origin_time': Timestamp('2021-12-08 00:34:00'),\n",
       "  'prediction_time': Timestamp('2021-12-08 01:04:00'),\n",
       "  'prediction_value': 327.9394749716255},\n",
       " {'prediction_origin_time': Timestamp('2021-12-08 00:39:00'),\n",
       "  'prediction_time': Timestamp('2021-12-08 01:09:00'),\n",
       "  'prediction_value': 326.94172149234055},\n",
       " {'prediction_origin_time': Timestamp('2021-12-08 00:44:00'),\n",
       "  'prediction_time': Timestamp('2021-12-08 01:14:00'),\n",
       "  'prediction_value': 290.2543363398502},\n",
       " {'prediction_origin_time': Timestamp('2021-12-08 00:49:00'),\n",
       "  'prediction_time': Timestamp('2021-12-08 01:19:00'),\n",
       "  'prediction_value': 285.60503692962607},\n",
       " {'prediction_origin_time': Timestamp('2021-12-08 00:54:00'),\n",
       "  'prediction_time': Timestamp('2021-12-08 01:24:00'),\n",
       "  'prediction_value': 286.55493358912577},\n",
       " {'prediction_origin_time': Timestamp('2021-12-08 00:59:00'),\n",
       "  'prediction_time': Timestamp('2021-12-08 01:29:00'),\n",
       "  'prediction_value': 303.1262420443962},\n",
       " {'prediction_origin_time': Timestamp('2021-12-08 01:04:00'),\n",
       "  'prediction_time': Timestamp('2021-12-08 01:34:00'),\n",
       "  'prediction_value': 292.6898458225577},\n",
       " {'prediction_origin_time': Timestamp('2021-12-08 01:09:00'),\n",
       "  'prediction_time': Timestamp('2021-12-08 01:39:00'),\n",
       "  'prediction_value': 259.5529487841402},\n",
       " {'prediction_origin_time': Timestamp('2021-12-08 01:14:00'),\n",
       "  'prediction_time': Timestamp('2021-12-08 01:44:00'),\n",
       "  'prediction_value': 270.6844666391003},\n",
       " {'prediction_origin_time': Timestamp('2021-12-08 01:19:00'),\n",
       "  'prediction_time': Timestamp('2021-12-08 01:49:00'),\n",
       "  'prediction_value': 264.26271352797386},\n",
       " {'prediction_origin_time': Timestamp('2021-12-08 01:24:00'),\n",
       "  'prediction_time': Timestamp('2021-12-08 01:54:00'),\n",
       "  'prediction_value': 273.3282786521765},\n",
       " {'prediction_origin_time': Timestamp('2021-12-08 01:29:00'),\n",
       "  'prediction_time': Timestamp('2021-12-08 01:59:00'),\n",
       "  'prediction_value': 248.92897457191742},\n",
       " {'prediction_origin_time': Timestamp('2021-12-08 01:34:00'),\n",
       "  'prediction_time': Timestamp('2021-12-08 02:04:00'),\n",
       "  'prediction_value': 246.57475299041187},\n",
       " {'prediction_origin_time': Timestamp('2021-12-08 01:39:00'),\n",
       "  'prediction_time': Timestamp('2021-12-08 02:09:00'),\n",
       "  'prediction_value': 255.8151227826281},\n",
       " {'prediction_origin_time': Timestamp('2021-12-08 01:44:00'),\n",
       "  'prediction_time': Timestamp('2021-12-08 02:14:00'),\n",
       "  'prediction_value': 248.92125138632636},\n",
       " {'prediction_origin_time': Timestamp('2021-12-08 01:49:00'),\n",
       "  'prediction_time': Timestamp('2021-12-08 02:19:00'),\n",
       "  'prediction_value': 249.01007179792464},\n",
       " {'prediction_origin_time': Timestamp('2021-12-08 01:54:00'),\n",
       "  'prediction_time': Timestamp('2021-12-08 02:24:00'),\n",
       "  'prediction_value': 245.12721648573654},\n",
       " {'prediction_origin_time': Timestamp('2021-12-08 01:59:00'),\n",
       "  'prediction_time': Timestamp('2021-12-08 02:29:00'),\n",
       "  'prediction_value': 255.85990067593042},\n",
       " {'prediction_origin_time': Timestamp('2021-12-08 02:04:00'),\n",
       "  'prediction_time': Timestamp('2021-12-08 02:34:00'),\n",
       "  'prediction_value': 262.71475849325634},\n",
       " {'prediction_origin_time': Timestamp('2021-12-08 02:09:00'),\n",
       "  'prediction_time': Timestamp('2021-12-08 02:39:00'),\n",
       "  'prediction_value': 256.4023827755558},\n",
       " {'prediction_origin_time': Timestamp('2021-12-08 02:14:00'),\n",
       "  'prediction_time': Timestamp('2021-12-08 02:44:00'),\n",
       "  'prediction_value': 251.5521802765214},\n",
       " {'prediction_origin_time': Timestamp('2021-12-08 02:19:00'),\n",
       "  'prediction_time': Timestamp('2021-12-08 02:49:00'),\n",
       "  'prediction_value': 240.4597004505907},\n",
       " {'prediction_origin_time': Timestamp('2021-12-08 02:24:00'),\n",
       "  'prediction_time': Timestamp('2021-12-08 02:54:00'),\n",
       "  'prediction_value': 240.1066167570049},\n",
       " {'prediction_origin_time': Timestamp('2021-12-08 02:29:00'),\n",
       "  'prediction_time': Timestamp('2021-12-08 02:59:00'),\n",
       "  'prediction_value': 249.087024659749},\n",
       " {'prediction_origin_time': Timestamp('2021-12-08 02:34:00'),\n",
       "  'prediction_time': Timestamp('2021-12-08 03:04:00'),\n",
       "  'prediction_value': 249.08921985025543},\n",
       " {'prediction_origin_time': Timestamp('2021-12-08 02:39:00'),\n",
       "  'prediction_time': Timestamp('2021-12-08 03:09:00'),\n",
       "  'prediction_value': 277.3174602922354},\n",
       " {'prediction_origin_time': Timestamp('2021-12-08 02:44:00'),\n",
       "  'prediction_time': Timestamp('2021-12-08 03:14:00'),\n",
       "  'prediction_value': 266.36389985316987},\n",
       " {'prediction_origin_time': Timestamp('2021-12-08 02:49:00'),\n",
       "  'prediction_time': Timestamp('2021-12-08 03:19:00'),\n",
       "  'prediction_value': 283.983233640198},\n",
       " {'prediction_origin_time': Timestamp('2021-12-08 02:54:00'),\n",
       "  'prediction_time': Timestamp('2021-12-08 03:24:00'),\n",
       "  'prediction_value': 264.39805230485854},\n",
       " {'prediction_origin_time': Timestamp('2021-12-08 02:59:00'),\n",
       "  'prediction_time': Timestamp('2021-12-08 03:29:00'),\n",
       "  'prediction_value': 263.7967635675344},\n",
       " {'prediction_origin_time': Timestamp('2021-12-08 03:04:00'),\n",
       "  'prediction_time': Timestamp('2021-12-08 03:34:00'),\n",
       "  'prediction_value': 242.59269885384126},\n",
       " {'prediction_origin_time': Timestamp('2021-12-08 03:09:00'),\n",
       "  'prediction_time': Timestamp('2021-12-08 03:39:00'),\n",
       "  'prediction_value': 241.36530926601554},\n",
       " {'prediction_origin_time': Timestamp('2021-12-08 03:14:00'),\n",
       "  'prediction_time': Timestamp('2021-12-08 03:44:00'),\n",
       "  'prediction_value': 239.52712463115753},\n",
       " {'prediction_origin_time': Timestamp('2021-12-08 03:19:00'),\n",
       "  'prediction_time': Timestamp('2021-12-08 03:49:00'),\n",
       "  'prediction_value': 240.5836006664879},\n",
       " {'prediction_origin_time': Timestamp('2021-12-08 03:24:00'),\n",
       "  'prediction_time': Timestamp('2021-12-08 03:54:00'),\n",
       "  'prediction_value': 237.61782880871942},\n",
       " {'prediction_origin_time': Timestamp('2021-12-08 03:29:00'),\n",
       "  'prediction_time': Timestamp('2021-12-08 03:59:00'),\n",
       "  'prediction_value': 232.1695293352812},\n",
       " {'prediction_origin_time': Timestamp('2021-12-08 03:34:00'),\n",
       "  'prediction_time': Timestamp('2021-12-08 04:04:00'),\n",
       "  'prediction_value': 217.32850043109698},\n",
       " {'prediction_origin_time': Timestamp('2021-12-08 03:39:00'),\n",
       "  'prediction_time': Timestamp('2021-12-08 04:09:00'),\n",
       "  'prediction_value': 229.13409984929805},\n",
       " {'prediction_origin_time': Timestamp('2021-12-08 03:44:00'),\n",
       "  'prediction_time': Timestamp('2021-12-08 04:14:00'),\n",
       "  'prediction_value': 228.76214062194035},\n",
       " {'prediction_origin_time': Timestamp('2021-12-08 03:49:00'),\n",
       "  'prediction_time': Timestamp('2021-12-08 04:19:00'),\n",
       "  'prediction_value': 218.65772086753918},\n",
       " {'prediction_origin_time': Timestamp('2021-12-08 03:54:00'),\n",
       "  'prediction_time': Timestamp('2021-12-08 04:24:00'),\n",
       "  'prediction_value': 206.85219688202383},\n",
       " {'prediction_origin_time': Timestamp('2021-12-08 03:59:00'),\n",
       "  'prediction_time': Timestamp('2021-12-08 04:29:00'),\n",
       "  'prediction_value': 207.84656690414553},\n",
       " {'prediction_origin_time': Timestamp('2021-12-08 04:04:00'),\n",
       "  'prediction_time': Timestamp('2021-12-08 04:34:00'),\n",
       "  'prediction_value': 202.71214446260225},\n",
       " {'prediction_origin_time': Timestamp('2021-12-08 04:09:00'),\n",
       "  'prediction_time': Timestamp('2021-12-08 04:39:00'),\n",
       "  'prediction_value': 211.02331380360485},\n",
       " {'prediction_origin_time': Timestamp('2021-12-08 04:14:00'),\n",
       "  'prediction_time': Timestamp('2021-12-08 04:44:00'),\n",
       "  'prediction_value': 208.397283913519},\n",
       " {'prediction_origin_time': Timestamp('2021-12-08 04:19:00'),\n",
       "  'prediction_time': Timestamp('2021-12-08 04:49:00'),\n",
       "  'prediction_value': 207.59058388645266},\n",
       " {'prediction_origin_time': Timestamp('2021-12-08 04:24:00'),\n",
       "  'prediction_time': Timestamp('2021-12-08 04:54:00'),\n",
       "  'prediction_value': 208.52398864767423},\n",
       " {'prediction_origin_time': Timestamp('2021-12-08 04:29:00'),\n",
       "  'prediction_time': Timestamp('2021-12-08 04:59:00'),\n",
       "  'prediction_value': 212.50656691434133},\n",
       " {'prediction_origin_time': Timestamp('2021-12-08 04:34:00'),\n",
       "  'prediction_time': Timestamp('2021-12-08 05:04:00'),\n",
       "  'prediction_value': 194.0968518238362},\n",
       " {'prediction_origin_time': Timestamp('2021-12-08 04:39:00'),\n",
       "  'prediction_time': Timestamp('2021-12-08 05:09:00'),\n",
       "  'prediction_value': 201.29746494491792},\n",
       " {'prediction_origin_time': Timestamp('2021-12-08 04:44:00'),\n",
       "  'prediction_time': Timestamp('2021-12-08 05:14:00'),\n",
       "  'prediction_value': 199.0055964707277},\n",
       " {'prediction_origin_time': Timestamp('2021-12-08 04:49:00'),\n",
       "  'prediction_time': Timestamp('2021-12-08 05:19:00'),\n",
       "  'prediction_value': 186.22039928529637},\n",
       " {'prediction_origin_time': Timestamp('2021-12-08 04:54:00'),\n",
       "  'prediction_time': Timestamp('2021-12-08 05:24:00'),\n",
       "  'prediction_value': 186.5546672129232},\n",
       " {'prediction_origin_time': Timestamp('2021-12-08 04:59:00'),\n",
       "  'prediction_time': Timestamp('2021-12-08 05:29:00'),\n",
       "  'prediction_value': 174.45069163064323},\n",
       " {'prediction_origin_time': Timestamp('2021-12-08 05:04:00'),\n",
       "  'prediction_time': Timestamp('2021-12-08 05:34:00'),\n",
       "  'prediction_value': 193.8287373192585},\n",
       " {'prediction_origin_time': Timestamp('2021-12-08 05:09:00'),\n",
       "  'prediction_time': Timestamp('2021-12-08 05:39:00'),\n",
       "  'prediction_value': 229.92402852111593},\n",
       " {'prediction_origin_time': Timestamp('2021-12-08 05:14:00'),\n",
       "  'prediction_time': Timestamp('2021-12-08 05:44:00'),\n",
       "  'prediction_value': 232.0080084130958},\n",
       " {'prediction_origin_time': Timestamp('2021-12-08 05:19:00'),\n",
       "  'prediction_time': Timestamp('2021-12-08 05:49:00'),\n",
       "  'prediction_value': 226.77940110671577},\n",
       " {'prediction_origin_time': Timestamp('2021-12-08 05:24:00'),\n",
       "  'prediction_time': Timestamp('2021-12-08 05:54:00'),\n",
       "  'prediction_value': 225.59726008483034},\n",
       " {'prediction_origin_time': Timestamp('2021-12-08 05:29:00'),\n",
       "  'prediction_time': Timestamp('2021-12-08 05:59:00'),\n",
       "  'prediction_value': 227.1203221437106},\n",
       " {'prediction_origin_time': Timestamp('2021-12-08 05:34:00'),\n",
       "  'prediction_time': Timestamp('2021-12-08 06:04:00'),\n",
       "  'prediction_value': 230.1301502638405},\n",
       " {'prediction_origin_time': Timestamp('2021-12-08 05:39:00'),\n",
       "  'prediction_time': Timestamp('2021-12-08 06:09:00'),\n",
       "  'prediction_value': 235.97841969282297},\n",
       " {'prediction_origin_time': Timestamp('2021-12-08 05:44:00'),\n",
       "  'prediction_time': Timestamp('2021-12-08 06:14:00'),\n",
       "  'prediction_value': 249.93839581986418},\n",
       " {'prediction_origin_time': Timestamp('2021-12-08 05:49:00'),\n",
       "  'prediction_time': Timestamp('2021-12-08 06:19:00'),\n",
       "  'prediction_value': 258.9076604821545},\n",
       " {'prediction_origin_time': Timestamp('2021-12-08 05:54:00'),\n",
       "  'prediction_time': Timestamp('2021-12-08 06:24:00'),\n",
       "  'prediction_value': 237.3828930904267},\n",
       " {'prediction_origin_time': Timestamp('2021-12-08 05:59:00'),\n",
       "  'prediction_time': Timestamp('2021-12-08 06:29:00'),\n",
       "  'prediction_value': 245.82345607295858}]"
      ]
     },
     "execution_count": 4,
     "metadata": {},
     "output_type": "execute_result"
    }
   ],
   "source": [
    "from pycaret.regression import load_model, predict_model, pull\n",
    "from src.bgc_providers.ohio_bgc_provider import OhioBgcProvider\n",
    "from datetime import datetime, timedelta\n",
    "import pandas as pd\n",
    "\n",
    "model = load_model('models/559_6_6_1_LGBMRegressor_8ef033d3-ac4b-47ba-8231-fb49991f8b7f')\n",
    "saved_model_features = model.feature_names_in_\n",
    "\n",
    "provider = OhioBgcProvider()\n",
    "measurements = provider.tsfresh_dataframe()\n",
    "\n",
    "stream = pd.DataFrame()\n",
    "\n",
    "max_data = 300\n",
    "meas_list = []\n",
    "predictions = []\n",
    "for counter in range(max_data):\n",
    "    measurement = measurements.iloc[counter]\n",
    "    meas_list.append(measurement)\n",
    "    if len(meas_list) >= 6:\n",
    "        last_n = meas_list[-6:]\n",
    "        stream = pd.DataFrame(last_n).reset_index(drop=True)\n",
    "        print(stream)\n",
    "        features = featurize_stream_df(stream, 6, 6)\n",
    "        # features\n",
    "        prediction = predict_model(model, correct_features(features, saved_model_features)).prediction_label[0]\n",
    "        print(prediction)\n",
    "        predictions.append({\n",
    "            'prediction_origin_time': measurement.date_time,\n",
    "            'prediction_time': measurement.date_time + timedelta(minutes=6*5),\n",
    "            'prediction_value': prediction,\n",
    "        })\n",
    "predictions\n",
    "\n",
    "        \n"
   ]
  },
  {
   "cell_type": "code",
   "execution_count": 5,
   "metadata": {},
   "outputs": [
    {
     "data": {
      "text/html": [
       "<div>\n",
       "<style scoped>\n",
       "    .dataframe tbody tr th:only-of-type {\n",
       "        vertical-align: middle;\n",
       "    }\n",
       "\n",
       "    .dataframe tbody tr th {\n",
       "        vertical-align: top;\n",
       "    }\n",
       "\n",
       "    .dataframe thead th {\n",
       "        text-align: right;\n",
       "    }\n",
       "</style>\n",
       "<table border=\"1\" class=\"dataframe\">\n",
       "  <thead>\n",
       "    <tr style=\"text-align: right;\">\n",
       "      <th></th>\n",
       "      <th>date_time</th>\n",
       "      <th>mock_date</th>\n",
       "      <th>time_of_day</th>\n",
       "      <th>part_of_day</th>\n",
       "      <th>time</th>\n",
       "      <th>bg_value</th>\n",
       "      <th>id</th>\n",
       "    </tr>\n",
       "  </thead>\n",
       "  <tbody>\n",
       "    <tr>\n",
       "      <th>0</th>\n",
       "      <td>2021-12-07 01:17:00</td>\n",
       "      <td>2021-12-07</td>\n",
       "      <td>01:17:00</td>\n",
       "      <td>late night</td>\n",
       "      <td>0.00</td>\n",
       "      <td>101</td>\n",
       "      <td>a</td>\n",
       "    </tr>\n",
       "    <tr>\n",
       "      <th>1</th>\n",
       "      <td>2021-12-07 01:22:00</td>\n",
       "      <td>2021-12-07</td>\n",
       "      <td>01:22:00</td>\n",
       "      <td>late night</td>\n",
       "      <td>0.08</td>\n",
       "      <td>98</td>\n",
       "      <td>a</td>\n",
       "    </tr>\n",
       "    <tr>\n",
       "      <th>2</th>\n",
       "      <td>2021-12-07 01:27:00</td>\n",
       "      <td>2021-12-07</td>\n",
       "      <td>01:27:00</td>\n",
       "      <td>late night</td>\n",
       "      <td>0.17</td>\n",
       "      <td>104</td>\n",
       "      <td>a</td>\n",
       "    </tr>\n",
       "    <tr>\n",
       "      <th>3</th>\n",
       "      <td>2021-12-07 01:32:00</td>\n",
       "      <td>2021-12-07</td>\n",
       "      <td>01:32:00</td>\n",
       "      <td>late night</td>\n",
       "      <td>0.25</td>\n",
       "      <td>112</td>\n",
       "      <td>a</td>\n",
       "    </tr>\n",
       "    <tr>\n",
       "      <th>4</th>\n",
       "      <td>2021-12-07 01:37:00</td>\n",
       "      <td>2021-12-07</td>\n",
       "      <td>01:37:00</td>\n",
       "      <td>late night</td>\n",
       "      <td>0.33</td>\n",
       "      <td>120</td>\n",
       "      <td>a</td>\n",
       "    </tr>\n",
       "    <tr>\n",
       "      <th>...</th>\n",
       "      <td>...</td>\n",
       "      <td>...</td>\n",
       "      <td>...</td>\n",
       "      <td>...</td>\n",
       "      <td>...</td>\n",
       "      <td>...</td>\n",
       "      <td>...</td>\n",
       "    </tr>\n",
       "    <tr>\n",
       "      <th>295</th>\n",
       "      <td>2021-12-08 05:39:00</td>\n",
       "      <td>2021-12-08</td>\n",
       "      <td>05:39:00</td>\n",
       "      <td>late night</td>\n",
       "      <td>28.37</td>\n",
       "      <td>225</td>\n",
       "      <td>a</td>\n",
       "    </tr>\n",
       "    <tr>\n",
       "      <th>296</th>\n",
       "      <td>2021-12-08 05:44:00</td>\n",
       "      <td>2021-12-08</td>\n",
       "      <td>05:44:00</td>\n",
       "      <td>late night</td>\n",
       "      <td>28.45</td>\n",
       "      <td>232</td>\n",
       "      <td>a</td>\n",
       "    </tr>\n",
       "    <tr>\n",
       "      <th>297</th>\n",
       "      <td>2021-12-08 05:49:00</td>\n",
       "      <td>2021-12-08</td>\n",
       "      <td>05:49:00</td>\n",
       "      <td>late night</td>\n",
       "      <td>28.53</td>\n",
       "      <td>244</td>\n",
       "      <td>a</td>\n",
       "    </tr>\n",
       "    <tr>\n",
       "      <th>298</th>\n",
       "      <td>2021-12-08 05:54:00</td>\n",
       "      <td>2021-12-08</td>\n",
       "      <td>05:54:00</td>\n",
       "      <td>late night</td>\n",
       "      <td>28.62</td>\n",
       "      <td>245</td>\n",
       "      <td>a</td>\n",
       "    </tr>\n",
       "    <tr>\n",
       "      <th>299</th>\n",
       "      <td>2021-12-08 05:59:00</td>\n",
       "      <td>2021-12-08</td>\n",
       "      <td>05:59:00</td>\n",
       "      <td>late night</td>\n",
       "      <td>28.70</td>\n",
       "      <td>242</td>\n",
       "      <td>a</td>\n",
       "    </tr>\n",
       "  </tbody>\n",
       "</table>\n",
       "<p>300 rows × 7 columns</p>\n",
       "</div>"
      ],
      "text/plain": [
       "              date_time   mock_date time_of_day part_of_day   time  bg_value  \\\n",
       "0   2021-12-07 01:17:00  2021-12-07    01:17:00  late night   0.00       101   \n",
       "1   2021-12-07 01:22:00  2021-12-07    01:22:00  late night   0.08        98   \n",
       "2   2021-12-07 01:27:00  2021-12-07    01:27:00  late night   0.17       104   \n",
       "3   2021-12-07 01:32:00  2021-12-07    01:32:00  late night   0.25       112   \n",
       "4   2021-12-07 01:37:00  2021-12-07    01:37:00  late night   0.33       120   \n",
       "..                  ...         ...         ...         ...    ...       ...   \n",
       "295 2021-12-08 05:39:00  2021-12-08    05:39:00  late night  28.37       225   \n",
       "296 2021-12-08 05:44:00  2021-12-08    05:44:00  late night  28.45       232   \n",
       "297 2021-12-08 05:49:00  2021-12-08    05:49:00  late night  28.53       244   \n",
       "298 2021-12-08 05:54:00  2021-12-08    05:54:00  late night  28.62       245   \n",
       "299 2021-12-08 05:59:00  2021-12-08    05:59:00  late night  28.70       242   \n",
       "\n",
       "    id  \n",
       "0    a  \n",
       "1    a  \n",
       "2    a  \n",
       "3    a  \n",
       "4    a  \n",
       "..  ..  \n",
       "295  a  \n",
       "296  a  \n",
       "297  a  \n",
       "298  a  \n",
       "299  a  \n",
       "\n",
       "[300 rows x 7 columns]"
      ]
     },
     "execution_count": 5,
     "metadata": {},
     "output_type": "execute_result"
    }
   ],
   "source": [
    "measurement_df = pd.DataFrame(meas_list)\n",
    "measurement_df"
   ]
  },
  {
   "cell_type": "code",
   "execution_count": 6,
   "metadata": {},
   "outputs": [
    {
     "data": {
      "text/html": [
       "<div>\n",
       "<style scoped>\n",
       "    .dataframe tbody tr th:only-of-type {\n",
       "        vertical-align: middle;\n",
       "    }\n",
       "\n",
       "    .dataframe tbody tr th {\n",
       "        vertical-align: top;\n",
       "    }\n",
       "\n",
       "    .dataframe thead th {\n",
       "        text-align: right;\n",
       "    }\n",
       "</style>\n",
       "<table border=\"1\" class=\"dataframe\">\n",
       "  <thead>\n",
       "    <tr style=\"text-align: right;\">\n",
       "      <th></th>\n",
       "      <th>prediction_origin_time</th>\n",
       "      <th>prediction_time</th>\n",
       "      <th>prediction_value</th>\n",
       "    </tr>\n",
       "  </thead>\n",
       "  <tbody>\n",
       "    <tr>\n",
       "      <th>0</th>\n",
       "      <td>2021-12-07 01:42:00</td>\n",
       "      <td>2021-12-07 02:12:00</td>\n",
       "      <td>147.286874</td>\n",
       "    </tr>\n",
       "    <tr>\n",
       "      <th>1</th>\n",
       "      <td>2021-12-07 01:47:00</td>\n",
       "      <td>2021-12-07 02:17:00</td>\n",
       "      <td>156.479085</td>\n",
       "    </tr>\n",
       "    <tr>\n",
       "      <th>2</th>\n",
       "      <td>2021-12-07 01:52:00</td>\n",
       "      <td>2021-12-07 02:22:00</td>\n",
       "      <td>166.680203</td>\n",
       "    </tr>\n",
       "    <tr>\n",
       "      <th>3</th>\n",
       "      <td>2021-12-07 01:57:00</td>\n",
       "      <td>2021-12-07 02:27:00</td>\n",
       "      <td>137.053373</td>\n",
       "    </tr>\n",
       "    <tr>\n",
       "      <th>4</th>\n",
       "      <td>2021-12-07 02:02:00</td>\n",
       "      <td>2021-12-07 02:32:00</td>\n",
       "      <td>157.937770</td>\n",
       "    </tr>\n",
       "    <tr>\n",
       "      <th>...</th>\n",
       "      <td>...</td>\n",
       "      <td>...</td>\n",
       "      <td>...</td>\n",
       "    </tr>\n",
       "    <tr>\n",
       "      <th>290</th>\n",
       "      <td>2021-12-08 05:39:00</td>\n",
       "      <td>2021-12-08 06:09:00</td>\n",
       "      <td>235.978420</td>\n",
       "    </tr>\n",
       "    <tr>\n",
       "      <th>291</th>\n",
       "      <td>2021-12-08 05:44:00</td>\n",
       "      <td>2021-12-08 06:14:00</td>\n",
       "      <td>249.938396</td>\n",
       "    </tr>\n",
       "    <tr>\n",
       "      <th>292</th>\n",
       "      <td>2021-12-08 05:49:00</td>\n",
       "      <td>2021-12-08 06:19:00</td>\n",
       "      <td>258.907660</td>\n",
       "    </tr>\n",
       "    <tr>\n",
       "      <th>293</th>\n",
       "      <td>2021-12-08 05:54:00</td>\n",
       "      <td>2021-12-08 06:24:00</td>\n",
       "      <td>237.382893</td>\n",
       "    </tr>\n",
       "    <tr>\n",
       "      <th>294</th>\n",
       "      <td>2021-12-08 05:59:00</td>\n",
       "      <td>2021-12-08 06:29:00</td>\n",
       "      <td>245.823456</td>\n",
       "    </tr>\n",
       "  </tbody>\n",
       "</table>\n",
       "<p>295 rows × 3 columns</p>\n",
       "</div>"
      ],
      "text/plain": [
       "    prediction_origin_time     prediction_time  prediction_value\n",
       "0      2021-12-07 01:42:00 2021-12-07 02:12:00        147.286874\n",
       "1      2021-12-07 01:47:00 2021-12-07 02:17:00        156.479085\n",
       "2      2021-12-07 01:52:00 2021-12-07 02:22:00        166.680203\n",
       "3      2021-12-07 01:57:00 2021-12-07 02:27:00        137.053373\n",
       "4      2021-12-07 02:02:00 2021-12-07 02:32:00        157.937770\n",
       "..                     ...                 ...               ...\n",
       "290    2021-12-08 05:39:00 2021-12-08 06:09:00        235.978420\n",
       "291    2021-12-08 05:44:00 2021-12-08 06:14:00        249.938396\n",
       "292    2021-12-08 05:49:00 2021-12-08 06:19:00        258.907660\n",
       "293    2021-12-08 05:54:00 2021-12-08 06:24:00        237.382893\n",
       "294    2021-12-08 05:59:00 2021-12-08 06:29:00        245.823456\n",
       "\n",
       "[295 rows x 3 columns]"
      ]
     },
     "execution_count": 6,
     "metadata": {},
     "output_type": "execute_result"
    }
   ],
   "source": [
    "prediction_df = pd.DataFrame(predictions)\n",
    "prediction_df"
   ]
  },
  {
   "cell_type": "code",
   "execution_count": 7,
   "metadata": {},
   "outputs": [
    {
     "data": {
      "text/plain": [
       "<Axes: xlabel='date_time'>"
      ]
     },
     "execution_count": 7,
     "metadata": {},
     "output_type": "execute_result"
    },
    {
     "data": {
      "image/png": "[encoded data removed]",
      "text/plain": [
       "<Figure size 800x550 with 1 Axes>"
      ]
     },
     "metadata": {},
     "output_type": "display_data"
    }
   ],
   "source": [
    "ax = prediction_df.plot(y='prediction_value', x='prediction_time')\n",
    "measurement_df.plot(ax=ax, y='bg_value', x='date_time')\n"
   ]
  },
  {
   "cell_type": "markdown",
   "metadata": {},
   "source": [
    "# Old"
   ]
  },
  {
   "cell_type": "code",
   "execution_count": 8,
   "metadata": {},
   "outputs": [],
   "source": [
    "# from datetime import datetime, timedelta\n",
    "\n",
    "# measurements.iloc[0].date_time + timedelta(minutes=6*5)"
   ]
  },
  {
   "cell_type": "code",
   "execution_count": 9,
   "metadata": {},
   "outputs": [],
   "source": [
    "# from src.bgc_providers.ohio_bgc_provider import OhioBgcProvider\n",
    "# test_provider = OhioBgcProvider()\n",
    "# test_dataframe = test_provider.tsfresh_dataframe()\n",
    "# mock_last_measurements = test_dataframe.head(6)\n",
    "# mock_last_measurements\n",
    "# features = featurize_stream_df(mock_last_measurements, 6, 6)\n",
    "# features"
   ]
  },
  {
   "cell_type": "code",
   "execution_count": 10,
   "metadata": {},
   "outputs": [],
   "source": [
    "# model = load_model('models/559_6_6_1_LGBMRegressor_8ef033d3-ac4b-47ba-8231-fb49991f8b7f')\n",
    "# saved_model_features = model.feature_names_in_\n",
    "# a = predict_model(model, correct_features(features, saved_model_features))\n",
    "# a.prediction_label[0]"
   ]
  },
  {
   "cell_type": "code",
   "execution_count": 11,
   "metadata": {},
   "outputs": [],
   "source": [
    "# from src.featurizers.tsfresh import TsfreshFeaturizer\n",
    "# test_features = TsfreshFeaturizer(mock_last_measurements, 6, 6, plot_chunks=False, minimal_features=False)\n",
    "# test_features.chunks = 1\n",
    "# test_features.chunks"
   ]
  },
  {
   "cell_type": "code",
   "execution_count": 12,
   "metadata": {},
   "outputs": [],
   "source": [
    "# test_features.create_feature_dataframe()\n",
    "# features = test_features.feature_dataframe\n",
    "# features"
   ]
  },
  {
   "cell_type": "code",
   "execution_count": 13,
   "metadata": {},
   "outputs": [],
   "source": [
    "# import re\n",
    "# new_names = {col: re.sub(r\"[^A-Za-z0-9_]+\", \"\", col) for col in features.columns}\n",
    "# new_n_list = list(new_names.values())\n",
    "# # [LightGBM] Feature appears more than one time.\n",
    "# new_names = {\n",
    "#     col: f\"{new_col}_{i}\" if new_col in new_n_list[:i] else new_col\n",
    "#     for i, (col, new_col) in enumerate(new_names.items())\n",
    "# }\n",
    "# correct_features = features.rename(columns=new_names)\n",
    "# # print(correct_features)\n",
    "# for feat in saved_model_features:\n",
    "#     found_in_model = feat in correct_features\n",
    "#     if not found_in_model:\n",
    "#         print(feat)\n",
    "#         if feat != 'label':\n",
    "#             correct_features[feat] = None"
   ]
  },
  {
   "cell_type": "code",
   "execution_count": null,
   "metadata": {},
   "outputs": [],
   "source": []
  }
 ],
 "metadata": {
  "kernelspec": {
   "display_name": "thesis",
   "language": "python",
   "name": "python3"
  },
  "language_info": {
   "codemirror_mode": {
    "name": "ipython",
    "version": 3
   },
   "file_extension": ".py",
   "mimetype": "text/x-python",
   "name": "python",
   "nbconvert_exporter": "python",
   "pygments_lexer": "ipython3",
   "version": "3.10.12"
  },
  "orig_nbformat": 4
 },
 "nbformat": 4,
 "nbformat_minor": 2
}
