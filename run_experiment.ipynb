{
 "cells": [
  {
   "cell_type": "code",
   "metadata": {
    "tags": [],
    "cell_id": "00000-ffa473a8-330c-4bc3-9da1-cd41da924e2b",
    "deepnote_to_be_reexecuted": false,
    "source_hash": "bad42357",
    "execution_start": 1623992509475,
    "execution_millis": 4257,
    "deepnote_cell_type": "code"
   },
   "source": "from src.helpers.experiment import create_tsfresh_dataframe\nfrom src.helpers.diabetes.cega import clarke_error_grid\nfrom src.helpers.diabetes.madex import mean_adjusted_exponent_error\nfrom pycaret.regression import setup, create_model, compare_models, predict_model\nfrom loguru import logger\nimport warnings\nimport numpy as np\nfrom sklearn.metrics import mean_squared_error\nimport pandas",
   "outputs": [],
   "execution_count": null
  },
  {
   "cell_type": "code",
   "metadata": {
    "tags": [],
    "cell_id": "00000-602d53d0-2de5-41d4-abc3-62f56fb211c7",
    "deepnote_to_be_reexecuted": false,
    "source_hash": "6942cf37",
    "execution_start": 1623992513744,
    "execution_millis": 5,
    "deepnote_cell_type": "code"
   },
   "source": "def run_experiment(train_parameters, unseen_data_parameters):\n\n    source_df = create_tsfresh_dataframe(train_parameters)\n    clean_df = source_df.drop(\n        columns=['start', 'end', 'start_time', 'end_time'])\n\n    setup(clean_df,\n        target='label',\n        feature_selection=True,\n        html=False,\n        silent=True,\n        session_id=1974\n        )\n\n    best3 = compare_models(\n        exclude=['catboost', 'xgboost'],\n        sort='RMSE',\n        n_select=3,\n        verbose=False\n    )\n    master_output = {}\n    for selected_model in best3:\n        output = {}\n        model = create_model(selected_model)\n        model_name = model.__str__().split('(')[0]\n        output['model'] = model\n        output['model_name'] = model_name\n        pd = predict_model(model)\n        (_, res) = clarke_error_grid(pd['label'], pd['Label'], 'Test')\n        output['internal_cga_analysis'] = res\n        rmse = np.sqrt(mean_squared_error(pd['label'], pd['Label']))\n        rmadex = np.sqrt(mean_adjusted_exponent_error(\n            pd['label'], pd['Label']))\n        output['internal_rmse'] = rmse\n        output['internal_rmadex'] = rmadex\n\n        unseen_df = create_tsfresh_dataframe(unseen_data_parameters)\n        clean_unseen_df = unseen_df.drop(\n            columns=['start', 'end', 'start_time', 'end_time'])\n        unseen_pd = predict_model(model, data=clean_unseen_df)\n        (_, res) = clarke_error_grid(unseen_pd['label'], unseen_pd['Label'], 'Test')\n        output['unseen_cga_analysis'] = res\n        rmse = np.sqrt(mean_squared_error(unseen_pd['label'], unseen_pd['Label']))\n        rmadex = np.sqrt(mean_adjusted_exponent_error(\n            unseen_pd['label'], unseen_pd['Label']))\n        output['unseen_rmse'] = rmse\n        output['unseen_rmadex'] = rmadex\n        logger.info(output)\n        master_output[model_name] = output\n        # df_array.append()\n    print(master_output)\n    return master_output\n    # final = pandas.concat(df_array)\n    # final",
   "outputs": [],
   "execution_count": null
  },
  {
   "cell_type": "code",
   "metadata": {
    "tags": [],
    "cell_id": "00002-15ad3251-de1e-4308-9a8b-0b98c0305459",
    "deepnote_to_be_reexecuted": false,
    "source_hash": "e9cf4031",
    "execution_start": 1623992513757,
    "execution_millis": 71186,
    "deepnote_cell_type": "code"
   },
   "source": "parameters = {\n    'ohio_no': 559,\n    'scope': 'train',\n    'train_ds_size': 100,\n    'window_size': 6,\n    'prediction_horizon': 1,\n    'minimal_features': False,\n}\n\ntest_parameters = {\n    'ohio_no': 559,\n    'scope': 'test',\n    'train_ds_size': 100,\n    'window_size': 6,\n    'prediction_horizon': 1,\n    'minimal_features': False,\n}\n\noutput = run_experiment(parameters, test_parameters)",
   "outputs": [
    {
     "name": "stderr",
     "text": "2021-06-18 05:01:53.752 | INFO     | src.helpers.experiment:create_ds_name:12 - dataframes/559_train_100_6_1.pkl\n2021-06-18 05:01:53.940 | INFO     | src.helpers.experiment:create_tsfresh_dataframe:19 - {'ohio_no': 559, 'scope': 'train', 'train_ds_size': 100, 'window_size': 6, 'prediction_horizon': 1, 'minimal_features': False}\n",
     "output_type": "stream"
    },
    {
     "data": {
      "text/plain": "<Figure size 432x288 with 1 Axes>",
      "image/png": "[encoded data removed]"
     },
     "metadata": {
      "needs_background": "light",
      "image/png": {
       "width": 375,
       "height": 262
      }
     },
     "output_type": "display_data"
    },
    {
     "name": "stderr",
     "text": "2021-06-18 05:01:54.826 | INFO     | src.helpers.experiment:create_tsfresh_dataframe:22 - Found existing picle file. Continuing...\n2021-06-18 05:01:54.827 | INFO     | src.helpers.dataframe:read_df:11 - Attempting to read from pickle file dataframes/559_train_100_6_1.pkl\nSetup Succesfully Completed!\n",
     "output_type": "stream"
    },
    {
     "data": {
      "application/vnd.deepnote.dataframe.v2+json": {
       "row_count": 57,
       "column_count": 2,
       "columns": [
        {
         "name": "Description",
         "dtype": "object",
         "stats": {
          "unique_count": 57,
          "nan_count": 0,
          "categories": [
           {
            "name": "session_id",
            "count": 1
           },
           {
            "name": "Target",
            "count": 1
           },
           {
            "name": "55 others",
            "count": 55
           }
          ]
         }
        },
        {
         "name": "Value",
         "dtype": "object",
         "stats": {
          "unique_count": 24,
          "nan_count": 7,
          "categories": [
           {
            "name": "False",
            "count": 20
           },
           {
            "name": "21 others",
            "count": 30
           },
           {
            "name": "Missing",
            "count": 7
           }
          ]
         }
        },
        {
         "name": "_deepnote_index_column",
         "dtype": "int64"
        }
       ],
       "rows_top": [
        {
         "Description": "session_id",
         "Value": "1974",
         "_deepnote_index_column": 0
        },
        {
         "Description": "Target",
         "Value": "label",
         "_deepnote_index_column": 1
        },
        {
         "Description": "Original Data",
         "Value": "(94, 788)",
         "_deepnote_index_column": 2
        },
        {
         "Description": "Missing Values",
         "Value": "True",
         "_deepnote_index_column": 3
        },
        {
         "Description": "Numeric Features",
         "Value": "275",
         "_deepnote_index_column": 4
        },
        {
         "Description": "Categorical Features",
         "Value": "512",
         "_deepnote_index_column": 5
        },
        {
         "Description": "Ordinal Features",
         "Value": "False",
         "_deepnote_index_column": 6
        },
        {
         "Description": "High Cardinality Features",
         "Value": "False",
         "_deepnote_index_column": 7
        },
        {
         "Description": "High Cardinality Method",
         "Value": "None",
         "_deepnote_index_column": 8
        },
        {
         "Description": "Transformed Train Set",
         "Value": "(65, 257)",
         "_deepnote_index_column": 9
        },
        {
         "Description": "Transformed Test Set",
         "Value": "(29, 257)",
         "_deepnote_index_column": 10
        },
        {
         "Description": "Shuffle Train-Test",
         "Value": "True",
         "_deepnote_index_column": 11
        },
        {
         "Description": "Stratify Train-Test",
         "Value": "False",
         "_deepnote_index_column": 12
        },
        {
         "Description": "Fold Generator",
         "Value": "KFold",
         "_deepnote_index_column": 13
        },
        {
         "Description": "Fold Number",
         "Value": "10",
         "_deepnote_index_column": 14
        },
        {
         "Description": "CPU Jobs",
         "Value": "-1",
         "_deepnote_index_column": 15
        },
        {
         "Description": "Use GPU",
         "Value": "False",
         "_deepnote_index_column": 16
        },
        {
         "Description": "Log Experiment",
         "Value": "False",
         "_deepnote_index_column": 17
        },
        {
         "Description": "Experiment Name",
         "Value": "reg-default-name",
         "_deepnote_index_column": 18
        },
        {
         "Description": "USI",
         "Value": "4776",
         "_deepnote_index_column": 19
        },
        {
         "Description": "Imputation Type",
         "Value": "simple",
         "_deepnote_index_column": 20
        },
        {
         "Description": "Iterative Imputation Iteration",
         "Value": "None",
         "_deepnote_index_column": 21
        },
        {
         "Description": "Numeric Imputer",
         "Value": "mean",
         "_deepnote_index_column": 22
        },
        {
         "Description": "Iterative Imputation Numeric Model",
         "Value": "None",
         "_deepnote_index_column": 23
        },
        {
         "Description": "Categorical Imputer",
         "Value": "constant",
         "_deepnote_index_column": 24
        },
        {
         "Description": "Iterative Imputation Categorical Model",
         "Value": "None",
         "_deepnote_index_column": 25
        },
        {
         "Description": "Unknown Categoricals Handling",
         "Value": "least_frequent",
         "_deepnote_index_column": 26
        },
        {
         "Description": "Normalize",
         "Value": "False",
         "_deepnote_index_column": 27
        },
        {
         "Description": "Normalize Method",
         "Value": "None",
         "_deepnote_index_column": 28
        },
        {
         "Description": "Transformation",
         "Value": "False",
         "_deepnote_index_column": 29
        },
        {
         "Description": "Transformation Method",
         "Value": "None",
         "_deepnote_index_column": 30
        },
        {
         "Description": "PCA",
         "Value": "False",
         "_deepnote_index_column": 31
        },
        {
         "Description": "PCA Method",
         "Value": "None",
         "_deepnote_index_column": 32
        },
        {
         "Description": "PCA Components",
         "Value": "None",
         "_deepnote_index_column": 33
        },
        {
         "Description": "Ignore Low Variance",
         "Value": "False",
         "_deepnote_index_column": 34
        },
        {
         "Description": "Combine Rare Levels",
         "Value": "False",
         "_deepnote_index_column": 35
        },
        {
         "Description": "Rare Level Threshold",
         "Value": "None",
         "_deepnote_index_column": 36
        },
        {
         "Description": "Numeric Binning",
         "Value": "False",
         "_deepnote_index_column": 37
        },
        {
         "Description": "Remove Outliers",
         "Value": "False",
         "_deepnote_index_column": 38
        },
        {
         "Description": "Outliers Threshold",
         "Value": "None",
         "_deepnote_index_column": 39
        },
        {
         "Description": "Remove Multicollinearity",
         "Value": "False",
         "_deepnote_index_column": 40
        },
        {
         "Description": "Multicollinearity Threshold",
         "Value": "None",
         "_deepnote_index_column": 41
        },
        {
         "Description": "Clustering",
         "Value": "False",
         "_deepnote_index_column": 42
        },
        {
         "Description": "Clustering Iteration",
         "Value": "None",
         "_deepnote_index_column": 43
        },
        {
         "Description": "Polynomial Features",
         "Value": "False",
         "_deepnote_index_column": 44
        },
        {
         "Description": "Polynomial Degree",
         "Value": "None",
         "_deepnote_index_column": 45
        },
        {
         "Description": "Trignometry Features",
         "Value": "False",
         "_deepnote_index_column": 46
        },
        {
         "Description": "Polynomial Threshold",
         "Value": "None",
         "_deepnote_index_column": 47
        },
        {
         "Description": "Group Features",
         "Value": "False",
         "_deepnote_index_column": 48
        },
        {
         "Description": "Feature Selection",
         "Value": "True",
         "_deepnote_index_column": 49
        },
        {
         "Description": "Feature Selection Method",
         "Value": "classic",
         "_deepnote_index_column": 50
        },
        {
         "Description": "Features Selection Threshold",
         "Value": "0.8",
         "_deepnote_index_column": 51
        },
        {
         "Description": "Feature Interaction",
         "Value": "False",
         "_deepnote_index_column": 52
        },
        {
         "Description": "Feature Ratio",
         "Value": "False",
         "_deepnote_index_column": 53
        },
        {
         "Description": "Interaction Threshold",
         "Value": "None",
         "_deepnote_index_column": 54
        },
        {
         "Description": "Transform Target",
         "Value": "False",
         "_deepnote_index_column": 55
        },
        {
         "Description": "Transform Target Method",
         "Value": "box-cox",
         "_deepnote_index_column": 56
        }
       ],
       "rows_bottom": null
      },
      "text/plain": "                               Description             Value\n0                               session_id              1974\n1                                   Target             label\n2                            Original Data         (94, 788)\n3                           Missing Values              True\n4                         Numeric Features               275\n5                     Categorical Features               512\n6                         Ordinal Features             False\n7                High Cardinality Features             False\n8                  High Cardinality Method              None\n9                    Transformed Train Set         (65, 257)\n10                    Transformed Test Set         (29, 257)\n11                      Shuffle Train-Test              True\n12                     Stratify Train-Test             False\n13                          Fold Generator             KFold\n14                             Fold Number                10\n15                                CPU Jobs                -1\n16                                 Use GPU             False\n17                          Log Experiment             False\n18                         Experiment Name  reg-default-name\n19                                     USI              4776\n20                         Imputation Type            simple\n21          Iterative Imputation Iteration              None\n22                         Numeric Imputer              mean\n23      Iterative Imputation Numeric Model              None\n24                     Categorical Imputer          constant\n25  Iterative Imputation Categorical Model              None\n26           Unknown Categoricals Handling    least_frequent\n27                               Normalize             False\n28                        Normalize Method              None\n29                          Transformation             False\n30                   Transformation Method              None\n31                                     PCA             False\n32                              PCA Method              None\n33                          PCA Components              None\n34                     Ignore Low Variance             False\n35                     Combine Rare Levels             False\n36                    Rare Level Threshold              None\n37                         Numeric Binning             False\n38                         Remove Outliers             False\n39                      Outliers Threshold              None\n40                Remove Multicollinearity             False\n41             Multicollinearity Threshold              None\n42                              Clustering             False\n43                    Clustering Iteration              None\n44                     Polynomial Features             False\n45                       Polynomial Degree              None\n46                    Trignometry Features             False\n47                    Polynomial Threshold              None\n48                          Group Features             False\n49                       Feature Selection              True\n50                Feature Selection Method           classic\n51            Features Selection Threshold               0.8\n52                     Feature Interaction             False\n53                           Feature Ratio             False\n54                   Interaction Threshold              None\n55                        Transform Target             False\n56                 Transform Target Method           box-cox",
      "text/html": "<div>\n<style scoped>\n    .dataframe tbody tr th:only-of-type {\n        vertical-align: middle;\n    }\n\n    .dataframe tbody tr th {\n        vertical-align: top;\n    }\n\n    .dataframe thead th {\n        text-align: right;\n    }\n</style>\n<table border=\"1\" class=\"dataframe\">\n  <thead>\n    <tr style=\"text-align: right;\">\n      <th></th>\n      <th>Description</th>\n      <th>Value</th>\n    </tr>\n  </thead>\n  <tbody>\n    <tr>\n      <th>0</th>\n      <td>session_id</td>\n      <td>1974</td>\n    </tr>\n    <tr>\n      <th>1</th>\n      <td>Target</td>\n      <td>label</td>\n    </tr>\n    <tr>\n      <th>2</th>\n      <td>Original Data</td>\n      <td>(94, 788)</td>\n    </tr>\n    <tr>\n      <th>3</th>\n      <td>Missing Values</td>\n      <td>True</td>\n    </tr>\n    <tr>\n      <th>4</th>\n      <td>Numeric Features</td>\n      <td>275</td>\n    </tr>\n    <tr>\n      <th>5</th>\n      <td>Categorical Features</td>\n      <td>512</td>\n    </tr>\n    <tr>\n      <th>6</th>\n      <td>Ordinal Features</td>\n      <td>False</td>\n    </tr>\n    <tr>\n      <th>7</th>\n      <td>High Cardinality Features</td>\n      <td>False</td>\n    </tr>\n    <tr>\n      <th>8</th>\n      <td>High Cardinality Method</td>\n      <td>None</td>\n    </tr>\n    <tr>\n      <th>9</th>\n      <td>Transformed Train Set</td>\n      <td>(65, 257)</td>\n    </tr>\n    <tr>\n      <th>10</th>\n      <td>Transformed Test Set</td>\n      <td>(29, 257)</td>\n    </tr>\n    <tr>\n      <th>11</th>\n      <td>Shuffle Train-Test</td>\n      <td>True</td>\n    </tr>\n    <tr>\n      <th>12</th>\n      <td>Stratify Train-Test</td>\n      <td>False</td>\n    </tr>\n    <tr>\n      <th>13</th>\n      <td>Fold Generator</td>\n      <td>KFold</td>\n    </tr>\n    <tr>\n      <th>14</th>\n      <td>Fold Number</td>\n      <td>10</td>\n    </tr>\n    <tr>\n      <th>15</th>\n      <td>CPU Jobs</td>\n      <td>-1</td>\n    </tr>\n    <tr>\n      <th>16</th>\n      <td>Use GPU</td>\n      <td>False</td>\n    </tr>\n    <tr>\n      <th>17</th>\n      <td>Log Experiment</td>\n      <td>False</td>\n    </tr>\n    <tr>\n      <th>18</th>\n      <td>Experiment Name</td>\n      <td>reg-default-name</td>\n    </tr>\n    <tr>\n      <th>19</th>\n      <td>USI</td>\n      <td>4776</td>\n    </tr>\n    <tr>\n      <th>20</th>\n      <td>Imputation Type</td>\n      <td>simple</td>\n    </tr>\n    <tr>\n      <th>21</th>\n      <td>Iterative Imputation Iteration</td>\n      <td>None</td>\n    </tr>\n    <tr>\n      <th>22</th>\n      <td>Numeric Imputer</td>\n      <td>mean</td>\n    </tr>\n    <tr>\n      <th>23</th>\n      <td>Iterative Imputation Numeric Model</td>\n      <td>None</td>\n    </tr>\n    <tr>\n      <th>24</th>\n      <td>Categorical Imputer</td>\n      <td>constant</td>\n    </tr>\n    <tr>\n      <th>25</th>\n      <td>Iterative Imputation Categorical Model</td>\n      <td>None</td>\n    </tr>\n    <tr>\n      <th>26</th>\n      <td>Unknown Categoricals Handling</td>\n      <td>least_frequent</td>\n    </tr>\n    <tr>\n      <th>27</th>\n      <td>Normalize</td>\n      <td>False</td>\n    </tr>\n    <tr>\n      <th>28</th>\n      <td>Normalize Method</td>\n      <td>None</td>\n    </tr>\n    <tr>\n      <th>29</th>\n      <td>Transformation</td>\n      <td>False</td>\n    </tr>\n    <tr>\n      <th>30</th>\n      <td>Transformation Method</td>\n      <td>None</td>\n    </tr>\n    <tr>\n      <th>31</th>\n      <td>PCA</td>\n      <td>False</td>\n    </tr>\n    <tr>\n      <th>32</th>\n      <td>PCA Method</td>\n      <td>None</td>\n    </tr>\n    <tr>\n      <th>33</th>\n      <td>PCA Components</td>\n      <td>None</td>\n    </tr>\n    <tr>\n      <th>34</th>\n      <td>Ignore Low Variance</td>\n      <td>False</td>\n    </tr>\n    <tr>\n      <th>35</th>\n      <td>Combine Rare Levels</td>\n      <td>False</td>\n    </tr>\n    <tr>\n      <th>36</th>\n      <td>Rare Level Threshold</td>\n      <td>None</td>\n    </tr>\n    <tr>\n      <th>37</th>\n      <td>Numeric Binning</td>\n      <td>False</td>\n    </tr>\n    <tr>\n      <th>38</th>\n      <td>Remove Outliers</td>\n      <td>False</td>\n    </tr>\n    <tr>\n      <th>39</th>\n      <td>Outliers Threshold</td>\n      <td>None</td>\n    </tr>\n    <tr>\n      <th>40</th>\n      <td>Remove Multicollinearity</td>\n      <td>False</td>\n    </tr>\n    <tr>\n      <th>41</th>\n      <td>Multicollinearity Threshold</td>\n      <td>None</td>\n    </tr>\n    <tr>\n      <th>42</th>\n      <td>Clustering</td>\n      <td>False</td>\n    </tr>\n    <tr>\n      <th>43</th>\n      <td>Clustering Iteration</td>\n      <td>None</td>\n    </tr>\n    <tr>\n      <th>44</th>\n      <td>Polynomial Features</td>\n      <td>False</td>\n    </tr>\n    <tr>\n      <th>45</th>\n      <td>Polynomial Degree</td>\n      <td>None</td>\n    </tr>\n    <tr>\n      <th>46</th>\n      <td>Trignometry Features</td>\n      <td>False</td>\n    </tr>\n    <tr>\n      <th>47</th>\n      <td>Polynomial Threshold</td>\n      <td>None</td>\n    </tr>\n    <tr>\n      <th>48</th>\n      <td>Group Features</td>\n      <td>False</td>\n    </tr>\n    <tr>\n      <th>49</th>\n      <td>Feature Selection</td>\n      <td>True</td>\n    </tr>\n    <tr>\n      <th>50</th>\n      <td>Feature Selection Method</td>\n      <td>classic</td>\n    </tr>\n    <tr>\n      <th>51</th>\n      <td>Features Selection Threshold</td>\n      <td>0.8</td>\n    </tr>\n    <tr>\n      <th>52</th>\n      <td>Feature Interaction</td>\n      <td>False</td>\n    </tr>\n    <tr>\n      <th>53</th>\n      <td>Feature Ratio</td>\n      <td>False</td>\n    </tr>\n    <tr>\n      <th>54</th>\n      <td>Interaction Threshold</td>\n      <td>None</td>\n    </tr>\n    <tr>\n      <th>55</th>\n      <td>Transform Target</td>\n      <td>False</td>\n    </tr>\n    <tr>\n      <th>56</th>\n      <td>Transform Target Method</td>\n      <td>box-cox</td>\n    </tr>\n  </tbody>\n</table>\n</div>"
     },
     "metadata": {},
     "output_type": "display_data"
    },
    {
     "data": {
      "application/vnd.deepnote.dataframe.v2+json": {
       "row_count": 12,
       "column_count": 6,
       "columns": [
        {
         "name": "MAE",
         "dtype": "float64",
         "stats": {
          "unique_count": 12,
          "nan_count": 0,
          "min": "2.6032",
          "max": "10.8265",
          "histogram": [
           {
            "bin_start": 2.6032,
            "bin_end": 3.42553,
            "count": 4
           },
           {
            "bin_start": 3.42553,
            "bin_end": 4.247859999999999,
            "count": 0
           },
           {
            "bin_start": 4.247859999999999,
            "bin_end": 5.070189999999999,
            "count": 1
           },
           {
            "bin_start": 5.070189999999999,
            "bin_end": 5.892519999999999,
            "count": 3
           },
           {
            "bin_start": 5.892519999999999,
            "bin_end": 6.714849999999999,
            "count": 0
           },
           {
            "bin_start": 6.714849999999999,
            "bin_end": 7.537179999999998,
            "count": 1
           },
           {
            "bin_start": 7.537179999999998,
            "bin_end": 8.359509999999998,
            "count": 1
           },
           {
            "bin_start": 8.359509999999998,
            "bin_end": 9.181839999999998,
            "count": 1
           },
           {
            "bin_start": 9.181839999999998,
            "bin_end": 10.004169999999998,
            "count": 0
           },
           {
            "bin_start": 10.004169999999998,
            "bin_end": 10.8265,
            "count": 1
           }
          ]
         }
        },
        {
         "name": "MSE",
         "dtype": "float64",
         "stats": {
          "unique_count": 12,
          "nan_count": 0,
          "min": "14.765",
          "max": "227.3631",
          "histogram": [
           {
            "bin_start": 14.765,
            "bin_end": 36.02481,
            "count": 5
           },
           {
            "bin_start": 36.02481,
            "bin_end": 57.28462,
            "count": 1
           },
           {
            "bin_start": 57.28462,
            "bin_end": 78.54442999999999,
            "count": 2
           },
           {
            "bin_start": 78.54442999999999,
            "bin_end": 99.80424,
            "count": 1
           },
           {
            "bin_start": 99.80424,
            "bin_end": 121.06405,
            "count": 1
           },
           {
            "bin_start": 121.06405,
            "bin_end": 142.32385999999997,
            "count": 1
           },
           {
            "bin_start": 142.32385999999997,
            "bin_end": 163.58366999999998,
            "count": 0
           },
           {
            "bin_start": 163.58366999999998,
            "bin_end": 184.84348,
            "count": 0
           },
           {
            "bin_start": 184.84348,
            "bin_end": 206.10328999999996,
            "count": 0
           },
           {
            "bin_start": 206.10328999999996,
            "bin_end": 227.3631,
            "count": 1
           }
          ]
         }
        },
        {
         "name": "RMSE",
         "dtype": "float64",
         "stats": {
          "unique_count": 12,
          "nan_count": 0,
          "min": "3.535",
          "max": "15.0786",
          "histogram": [
           {
            "bin_start": 3.535,
            "bin_end": 4.689360000000001,
            "count": 4
           },
           {
            "bin_start": 4.689360000000001,
            "bin_end": 5.84372,
            "count": 0
           },
           {
            "bin_start": 5.84372,
            "bin_end": 6.99808,
            "count": 2
           },
           {
            "bin_start": 6.99808,
            "bin_end": 8.15244,
            "count": 2
           },
           {
            "bin_start": 8.15244,
            "bin_end": 9.3068,
            "count": 0
           },
           {
            "bin_start": 9.3068,
            "bin_end": 10.46116,
            "count": 1
           },
           {
            "bin_start": 10.46116,
            "bin_end": 11.61552,
            "count": 2
           },
           {
            "bin_start": 11.61552,
            "bin_end": 12.76988,
            "count": 0
           },
           {
            "bin_start": 12.76988,
            "bin_end": 13.924240000000001,
            "count": 0
           },
           {
            "bin_start": 13.924240000000001,
            "bin_end": 15.0786,
            "count": 1
           }
          ]
         }
        },
        {
         "name": "R2",
         "dtype": "float64",
         "stats": {
          "unique_count": 12,
          "nan_count": 0,
          "min": "-1.8333",
          "max": "0.958",
          "histogram": [
           {
            "bin_start": -1.8333,
            "bin_end": -1.55417,
            "count": 1
           },
           {
            "bin_start": -1.55417,
            "bin_end": -1.27504,
            "count": 0
           },
           {
            "bin_start": -1.27504,
            "bin_end": -0.99591,
            "count": 0
           },
           {
            "bin_start": -0.99591,
            "bin_end": -0.71678,
            "count": 0
           },
           {
            "bin_start": -0.71678,
            "bin_end": -0.4376500000000001,
            "count": 0
           },
           {
            "bin_start": -0.4376500000000001,
            "bin_end": -0.15852,
            "count": 0
           },
           {
            "bin_start": -0.15852,
            "bin_end": 0.1206100000000001,
            "count": 0
           },
           {
            "bin_start": 0.1206100000000001,
            "bin_end": 0.39974,
            "count": 0
           },
           {
            "bin_start": 0.39974,
            "bin_end": 0.6788699999999999,
            "count": 1
           },
           {
            "bin_start": 0.6788699999999999,
            "bin_end": 0.958,
            "count": 10
           }
          ]
         }
        },
        {
         "name": "RMSLE",
         "dtype": "float64",
         "stats": {
          "unique_count": 12,
          "nan_count": 0,
          "min": "0.0235",
          "max": "0.1268",
          "histogram": [
           {
            "bin_start": 0.0235,
            "bin_end": 0.03383,
            "count": 1
           },
           {
            "bin_start": 0.03383,
            "bin_end": 0.044160000000000005,
            "count": 0
           },
           {
            "bin_start": 0.044160000000000005,
            "bin_end": 0.054490000000000004,
            "count": 2
           },
           {
            "bin_start": 0.054490000000000004,
            "bin_end": 0.06482,
            "count": 1
           },
           {
            "bin_start": 0.06482,
            "bin_end": 0.07515,
            "count": 2
           },
           {
            "bin_start": 0.07515,
            "bin_end": 0.08548,
            "count": 2
           },
           {
            "bin_start": 0.08548,
            "bin_end": 0.09581,
            "count": 2
           },
           {
            "bin_start": 0.09581,
            "bin_end": 0.10614000000000001,
            "count": 1
           },
           {
            "bin_start": 0.10614000000000001,
            "bin_end": 0.11647000000000002,
            "count": 0
           },
           {
            "bin_start": 0.11647000000000002,
            "bin_end": 0.1268,
            "count": 1
           }
          ]
         }
        },
        {
         "name": "MAPE",
         "dtype": "float64",
         "stats": {
          "unique_count": 12,
          "nan_count": 0,
          "min": "0.0201",
          "max": "0.0999",
          "histogram": [
           {
            "bin_start": 0.0201,
            "bin_end": 0.02808,
            "count": 1
           },
           {
            "bin_start": 0.02808,
            "bin_end": 0.03606,
            "count": 1
           },
           {
            "bin_start": 0.03606,
            "bin_end": 0.04404,
            "count": 2
           },
           {
            "bin_start": 0.04404,
            "bin_end": 0.052020000000000004,
            "count": 0
           },
           {
            "bin_start": 0.052020000000000004,
            "bin_end": 0.060000000000000005,
            "count": 0
           },
           {
            "bin_start": 0.060000000000000005,
            "bin_end": 0.06798000000000001,
            "count": 4
           },
           {
            "bin_start": 0.06798000000000001,
            "bin_end": 0.07596,
            "count": 1
           },
           {
            "bin_start": 0.07596,
            "bin_end": 0.08394000000000001,
            "count": 1
           },
           {
            "bin_start": 0.08394000000000001,
            "bin_end": 0.09192,
            "count": 1
           },
           {
            "bin_start": 0.09192,
            "bin_end": 0.0999,
            "count": 1
           }
          ]
         }
        },
        {
         "name": "_deepnote_index_column",
         "dtype": "object"
        }
       ],
       "rows_top": [
        {
         "MAE": 5.1202,
         "MSE": 34.7709,
         "RMSE": 5.8967,
         "R2": 0.932,
         "RMSLE": 0.0653,
         "MAPE": 0.0614,
         "_deepnote_index_column": "0"
        },
        {
         "MAE": 8.0958,
         "MSE": 126.8685,
         "RMSE": 11.2636,
         "R2": 0.8666,
         "RMSLE": 0.0951,
         "MAPE": 0.0778,
         "_deepnote_index_column": "1"
        },
        {
         "MAE": 10.8265,
         "MSE": 227.3631,
         "RMSE": 15.0786,
         "R2": 0.801,
         "RMSLE": 0.1268,
         "MAPE": 0.0999,
         "_deepnote_index_column": "2"
        },
        {
         "MAE": 5.5679,
         "MSE": 56.076,
         "RMSE": 7.4884,
         "R2": 0.9203,
         "RMSLE": 0.0783,
         "MAPE": 0.0615,
         "_deepnote_index_column": "3"
        },
        {
         "MAE": 7.008,
         "MSE": 90.7767,
         "RMSE": 9.5277,
         "R2": 0.8664,
         "RMSLE": 0.0886,
         "MAPE": 0.0693,
         "_deepnote_index_column": "4"
        },
        {
         "MAE": 2.857,
         "MSE": 14.765,
         "RMSE": 3.8425,
         "R2": 0.958,
         "RMSLE": 0.0484,
         "MAPE": 0.0378,
         "_deepnote_index_column": "5"
        },
        {
         "MAE": 2.8907,
         "MSE": 17.9442,
         "RMSE": 4.2361,
         "R2": -1.8333,
         "RMSLE": 0.0617,
         "MAPE": 0.0415,
         "_deepnote_index_column": "6"
        },
        {
         "MAE": 2.7347,
         "MSE": 18.1996,
         "RMSE": 4.2661,
         "R2": 0.881,
         "RMSLE": 0.0497,
         "MAPE": 0.0336,
         "_deepnote_index_column": "7"
        },
        {
         "MAE": 8.6213,
         "MSE": 115.969,
         "RMSE": 10.7689,
         "R2": 0.8396,
         "RMSLE": 0.103,
         "MAPE": 0.0842,
         "_deepnote_index_column": "8"
        },
        {
         "MAE": 4.8988,
         "MSE": 34.7752,
         "RMSE": 5.8971,
         "R2": 0.8276,
         "RMSLE": 0.0728,
         "MAPE": 0.0618,
         "_deepnote_index_column": "9"
        },
        {
         "MAE": 5.8621,
         "MSE": 73.7508,
         "RMSE": 7.8266,
         "R2": 0.6059,
         "RMSLE": 0.079,
         "MAPE": 0.0629,
         "_deepnote_index_column": "Mean"
        },
        {
         "MAE": 2.6032,
         "MSE": 64.4368,
         "RMSE": 3.535,
         "R2": 0.8144,
         "RMSLE": 0.0235,
         "MAPE": 0.0201,
         "_deepnote_index_column": "SD"
        }
       ],
       "rows_bottom": null
      },
      "text/plain": "          MAE       MSE     RMSE      R2   RMSLE    MAPE\n0      5.1202   34.7709   5.8967  0.9320  0.0653  0.0614\n1      8.0958  126.8685  11.2636  0.8666  0.0951  0.0778\n2     10.8265  227.3631  15.0786  0.8010  0.1268  0.0999\n3      5.5679   56.0760   7.4884  0.9203  0.0783  0.0615\n4      7.0080   90.7767   9.5277  0.8664  0.0886  0.0693\n5      2.8570   14.7650   3.8425  0.9580  0.0484  0.0378\n6      2.8907   17.9442   4.2361 -1.8333  0.0617  0.0415\n7      2.7347   18.1996   4.2661  0.8810  0.0497  0.0336\n8      8.6213  115.9690  10.7689  0.8396  0.1030  0.0842\n9      4.8988   34.7752   5.8971  0.8276  0.0728  0.0618\nMean   5.8621   73.7508   7.8266  0.6059  0.0790  0.0629\nSD     2.6032   64.4368   3.5350  0.8144  0.0235  0.0201",
      "text/html": "<div>\n<style scoped>\n    .dataframe tbody tr th:only-of-type {\n        vertical-align: middle;\n    }\n\n    .dataframe tbody tr th {\n        vertical-align: top;\n    }\n\n    .dataframe thead th {\n        text-align: right;\n    }\n</style>\n<table border=\"1\" class=\"dataframe\">\n  <thead>\n    <tr style=\"text-align: right;\">\n      <th></th>\n      <th>MAE</th>\n      <th>MSE</th>\n      <th>RMSE</th>\n      <th>R2</th>\n      <th>RMSLE</th>\n      <th>MAPE</th>\n    </tr>\n  </thead>\n  <tbody>\n    <tr>\n      <th>0</th>\n      <td>5.1202</td>\n      <td>34.7709</td>\n      <td>5.8967</td>\n      <td>0.9320</td>\n      <td>0.0653</td>\n      <td>0.0614</td>\n    </tr>\n    <tr>\n      <th>1</th>\n      <td>8.0958</td>\n      <td>126.8685</td>\n      <td>11.2636</td>\n      <td>0.8666</td>\n      <td>0.0951</td>\n      <td>0.0778</td>\n    </tr>\n    <tr>\n      <th>2</th>\n      <td>10.8265</td>\n      <td>227.3631</td>\n      <td>15.0786</td>\n      <td>0.8010</td>\n      <td>0.1268</td>\n      <td>0.0999</td>\n    </tr>\n    <tr>\n      <th>3</th>\n      <td>5.5679</td>\n      <td>56.0760</td>\n      <td>7.4884</td>\n      <td>0.9203</td>\n      <td>0.0783</td>\n      <td>0.0615</td>\n    </tr>\n    <tr>\n      <th>4</th>\n      <td>7.0080</td>\n      <td>90.7767</td>\n      <td>9.5277</td>\n      <td>0.8664</td>\n      <td>0.0886</td>\n      <td>0.0693</td>\n    </tr>\n    <tr>\n      <th>5</th>\n      <td>2.8570</td>\n      <td>14.7650</td>\n      <td>3.8425</td>\n      <td>0.9580</td>\n      <td>0.0484</td>\n      <td>0.0378</td>\n    </tr>\n    <tr>\n      <th>6</th>\n      <td>2.8907</td>\n      <td>17.9442</td>\n      <td>4.2361</td>\n      <td>-1.8333</td>\n      <td>0.0617</td>\n      <td>0.0415</td>\n    </tr>\n    <tr>\n      <th>7</th>\n      <td>2.7347</td>\n      <td>18.1996</td>\n      <td>4.2661</td>\n      <td>0.8810</td>\n      <td>0.0497</td>\n      <td>0.0336</td>\n    </tr>\n    <tr>\n      <th>8</th>\n      <td>8.6213</td>\n      <td>115.9690</td>\n      <td>10.7689</td>\n      <td>0.8396</td>\n      <td>0.1030</td>\n      <td>0.0842</td>\n    </tr>\n    <tr>\n      <th>9</th>\n      <td>4.8988</td>\n      <td>34.7752</td>\n      <td>5.8971</td>\n      <td>0.8276</td>\n      <td>0.0728</td>\n      <td>0.0618</td>\n    </tr>\n    <tr>\n      <th>Mean</th>\n      <td>5.8621</td>\n      <td>73.7508</td>\n      <td>7.8266</td>\n      <td>0.6059</td>\n      <td>0.0790</td>\n      <td>0.0629</td>\n    </tr>\n    <tr>\n      <th>SD</th>\n      <td>2.6032</td>\n      <td>64.4368</td>\n      <td>3.5350</td>\n      <td>0.8144</td>\n      <td>0.0235</td>\n      <td>0.0201</td>\n    </tr>\n  </tbody>\n</table>\n</div>"
     },
     "metadata": {},
     "output_type": "display_data"
    },
    {
     "data": {
      "application/vnd.deepnote.dataframe.v2+json": {
       "row_count": 1,
       "column_count": 7,
       "columns": [
        {
         "name": "Model",
         "dtype": "object",
         "stats": {
          "unique_count": 1,
          "nan_count": 0,
          "categories": [
           {
            "name": "Gradient Boosting Regressor",
            "count": 1
           }
          ]
         }
        },
        {
         "name": "MAE",
         "dtype": "float64",
         "stats": {
          "unique_count": 1,
          "nan_count": 0,
          "min": "6.704",
          "max": "6.704",
          "histogram": [
           {
            "bin_start": 6.204,
            "bin_end": 6.303999999999999,
            "count": 0
           },
           {
            "bin_start": 6.303999999999999,
            "bin_end": 6.404,
            "count": 0
           },
           {
            "bin_start": 6.404,
            "bin_end": 6.504,
            "count": 0
           },
           {
            "bin_start": 6.504,
            "bin_end": 6.604,
            "count": 0
           },
           {
            "bin_start": 6.604,
            "bin_end": 6.704,
            "count": 0
           },
           {
            "bin_start": 6.704,
            "bin_end": 6.804,
            "count": 1
           },
           {
            "bin_start": 6.804,
            "bin_end": 6.904,
            "count": 0
           },
           {
            "bin_start": 6.904,
            "bin_end": 7.004,
            "count": 0
           },
           {
            "bin_start": 7.004,
            "bin_end": 7.104,
            "count": 0
           },
           {
            "bin_start": 7.104,
            "bin_end": 7.204,
            "count": 0
           }
          ]
         }
        },
        {
         "name": "MSE",
         "dtype": "float64",
         "stats": {
          "unique_count": 1,
          "nan_count": 0,
          "min": "105.7595",
          "max": "105.7595",
          "histogram": [
           {
            "bin_start": 105.2595,
            "bin_end": 105.3595,
            "count": 0
           },
           {
            "bin_start": 105.3595,
            "bin_end": 105.4595,
            "count": 0
           },
           {
            "bin_start": 105.4595,
            "bin_end": 105.5595,
            "count": 0
           },
           {
            "bin_start": 105.5595,
            "bin_end": 105.65950000000001,
            "count": 0
           },
           {
            "bin_start": 105.65950000000001,
            "bin_end": 105.7595,
            "count": 0
           },
           {
            "bin_start": 105.7595,
            "bin_end": 105.8595,
            "count": 1
           },
           {
            "bin_start": 105.8595,
            "bin_end": 105.9595,
            "count": 0
           },
           {
            "bin_start": 105.9595,
            "bin_end": 106.0595,
            "count": 0
           },
           {
            "bin_start": 106.0595,
            "bin_end": 106.15950000000001,
            "count": 0
           },
           {
            "bin_start": 106.15950000000001,
            "bin_end": 106.2595,
            "count": 0
           }
          ]
         }
        },
        {
         "name": "RMSE",
         "dtype": "float64",
         "stats": {
          "unique_count": 1,
          "nan_count": 0,
          "min": "10.2839",
          "max": "10.2839",
          "histogram": [
           {
            "bin_start": 9.7839,
            "bin_end": 9.883899999999999,
            "count": 0
           },
           {
            "bin_start": 9.883899999999999,
            "bin_end": 9.983899999999998,
            "count": 0
           },
           {
            "bin_start": 9.983899999999998,
            "bin_end": 10.0839,
            "count": 0
           },
           {
            "bin_start": 10.0839,
            "bin_end": 10.1839,
            "count": 0
           },
           {
            "bin_start": 10.1839,
            "bin_end": 10.2839,
            "count": 0
           },
           {
            "bin_start": 10.2839,
            "bin_end": 10.383899999999999,
            "count": 1
           },
           {
            "bin_start": 10.383899999999999,
            "bin_end": 10.483899999999998,
            "count": 0
           },
           {
            "bin_start": 10.483899999999998,
            "bin_end": 10.5839,
            "count": 0
           },
           {
            "bin_start": 10.5839,
            "bin_end": 10.6839,
            "count": 0
           },
           {
            "bin_start": 10.6839,
            "bin_end": 10.7839,
            "count": 0
           }
          ]
         }
        },
        {
         "name": "R2",
         "dtype": "float64",
         "stats": {
          "unique_count": 1,
          "nan_count": 0,
          "min": "0.8793",
          "max": "0.8793",
          "histogram": [
           {
            "bin_start": 0.37929999999999997,
            "bin_end": 0.47929999999999995,
            "count": 0
           },
           {
            "bin_start": 0.47929999999999995,
            "bin_end": 0.5792999999999999,
            "count": 0
           },
           {
            "bin_start": 0.5792999999999999,
            "bin_end": 0.6793,
            "count": 0
           },
           {
            "bin_start": 0.6793,
            "bin_end": 0.7793,
            "count": 0
           },
           {
            "bin_start": 0.7793,
            "bin_end": 0.8793,
            "count": 0
           },
           {
            "bin_start": 0.8793,
            "bin_end": 0.9793000000000001,
            "count": 1
           },
           {
            "bin_start": 0.9793000000000001,
            "bin_end": 1.0793,
            "count": 0
           },
           {
            "bin_start": 1.0793,
            "bin_end": 1.1793,
            "count": 0
           },
           {
            "bin_start": 1.1793,
            "bin_end": 1.2793,
            "count": 0
           },
           {
            "bin_start": 1.2793,
            "bin_end": 1.3793,
            "count": 0
           }
          ]
         }
        },
        {
         "name": "RMSLE",
         "dtype": "float64",
         "stats": {
          "unique_count": 1,
          "nan_count": 0,
          "min": "0.0885",
          "max": "0.0885",
          "histogram": [
           {
            "bin_start": -0.4115,
            "bin_end": -0.3115,
            "count": 0
           },
           {
            "bin_start": -0.3115,
            "bin_end": -0.21149999999999997,
            "count": 0
           },
           {
            "bin_start": -0.21149999999999997,
            "bin_end": -0.11149999999999993,
            "count": 0
           },
           {
            "bin_start": -0.11149999999999993,
            "bin_end": -0.011499999999999955,
            "count": 0
           },
           {
            "bin_start": -0.011499999999999955,
            "bin_end": 0.08850000000000002,
            "count": 1
           },
           {
            "bin_start": 0.08850000000000002,
            "bin_end": 0.1885000000000001,
            "count": 0
           },
           {
            "bin_start": 0.1885000000000001,
            "bin_end": 0.2885000000000001,
            "count": 0
           },
           {
            "bin_start": 0.2885000000000001,
            "bin_end": 0.38850000000000007,
            "count": 0
           },
           {
            "bin_start": 0.38850000000000007,
            "bin_end": 0.48850000000000005,
            "count": 0
           },
           {
            "bin_start": 0.48850000000000005,
            "bin_end": 0.5885,
            "count": 0
           }
          ]
         }
        },
        {
         "name": "MAPE",
         "dtype": "float64",
         "stats": {
          "unique_count": 1,
          "nan_count": 0,
          "min": "0.0658",
          "max": "0.0658",
          "histogram": [
           {
            "bin_start": -0.43420000000000003,
            "bin_end": -0.33420000000000005,
            "count": 0
           },
           {
            "bin_start": -0.33420000000000005,
            "bin_end": -0.23420000000000002,
            "count": 0
           },
           {
            "bin_start": -0.23420000000000002,
            "bin_end": -0.13419999999999999,
            "count": 0
           },
           {
            "bin_start": -0.13419999999999999,
            "bin_end": -0.03420000000000001,
            "count": 0
           },
           {
            "bin_start": -0.03420000000000001,
            "bin_end": 0.06579999999999997,
            "count": 0
           },
           {
            "bin_start": 0.06579999999999997,
            "bin_end": 0.16580000000000006,
            "count": 1
           },
           {
            "bin_start": 0.16580000000000006,
            "bin_end": 0.26580000000000004,
            "count": 0
           },
           {
            "bin_start": 0.26580000000000004,
            "bin_end": 0.3658,
            "count": 0
           },
           {
            "bin_start": 0.3658,
            "bin_end": 0.4658,
            "count": 0
           },
           {
            "bin_start": 0.4658,
            "bin_end": 0.5658,
            "count": 0
           }
          ]
         }
        },
        {
         "name": "_deepnote_index_column",
         "dtype": "int64"
        }
       ],
       "rows_top": [
        {
         "Model": "Gradient Boosting Regressor",
         "MAE": 6.704,
         "MSE": 105.7595,
         "RMSE": 10.2839,
         "R2": 0.8793,
         "RMSLE": 0.0885,
         "MAPE": 0.0658,
         "_deepnote_index_column": 0
        }
       ],
       "rows_bottom": null
      },
      "text/plain": "                         Model    MAE       MSE     RMSE      R2   RMSLE  \\\n0  Gradient Boosting Regressor  6.704  105.7595  10.2839  0.8793  0.0885   \n\n     MAPE  \n0  0.0658  ",
      "text/html": "<div>\n<style scoped>\n    .dataframe tbody tr th:only-of-type {\n        vertical-align: middle;\n    }\n\n    .dataframe tbody tr th {\n        vertical-align: top;\n    }\n\n    .dataframe thead th {\n        text-align: right;\n    }\n</style>\n<table border=\"1\" class=\"dataframe\">\n  <thead>\n    <tr style=\"text-align: right;\">\n      <th></th>\n      <th>Model</th>\n      <th>MAE</th>\n      <th>MSE</th>\n      <th>RMSE</th>\n      <th>R2</th>\n      <th>RMSLE</th>\n      <th>MAPE</th>\n    </tr>\n  </thead>\n  <tbody>\n    <tr>\n      <th>0</th>\n      <td>Gradient Boosting Regressor</td>\n      <td>6.704</td>\n      <td>105.7595</td>\n      <td>10.2839</td>\n      <td>0.8793</td>\n      <td>0.0885</td>\n      <td>0.0658</td>\n    </tr>\n  </tbody>\n</table>\n</div>"
     },
     "metadata": {},
     "output_type": "display_data"
    },
    {
     "name": "stderr",
     "text": "2021-06-18 05:02:46.801 | INFO     | src.helpers.experiment:create_ds_name:12 - dataframes/559_test_100_6_1.pkl\n2021-06-18 05:02:46.893 | INFO     | src.helpers.experiment:create_tsfresh_dataframe:19 - {'ohio_no': 559, 'scope': 'test', 'train_ds_size': 100, 'window_size': 6, 'prediction_horizon': 1, 'minimal_features': False}\n",
     "output_type": "stream"
    },
    {
     "data": {
      "text/plain": "<Figure size 432x288 with 1 Axes>",
      "image/png": "[encoded data removed]"
     },
     "metadata": {
      "needs_background": "light",
      "image/png": {
       "width": 281,
       "height": 278
      }
     },
     "output_type": "display_data"
    },
    {
     "data": {
      "text/plain": "<Figure size 432x288 with 1 Axes>",
      "image/png": "[encoded data removed]"
     },
     "metadata": {
      "needs_background": "light",
      "image/png": {
       "width": 375,
       "height": 262
      }
     },
     "output_type": "display_data"
    },
    {
     "name": "stderr",
     "text": "2021-06-18 05:02:47.571 | INFO     | src.helpers.experiment:create_tsfresh_dataframe:22 - Found existing picle file. Continuing...\n2021-06-18 05:02:47.572 | INFO     | src.helpers.dataframe:read_df:11 - Attempting to read from pickle file dataframes/559_test_100_6_1.pkl\n2021-06-18 05:02:48.550 | INFO     | __main__:run_experiment:48 - {'model': GradientBoostingRegressor(alpha=0.9, ccp_alpha=0.0, criterion='friedman_mse',\n                          init=None, learning_rate=0.1, loss='ls', max_depth=3,\n                          max_features=None, max_leaf_nodes=None,\n                          min_impurity_decrease=0.0, min_impurity_split=None,\n                          min_samples_leaf=1, min_samples_split=2,\n                          min_weight_fraction_leaf=0.0, n_estimators=100,\n                          n_iter_no_change=None, presort='deprecated',\n                          random_state=1974, subsample=1.0, tol=0.0001,\n                          validation_fraction=0.1, verbose=0, warm_start=False), 'model_name': 'GradientBoostingRegressor', 'internal_cga_analysis': [27, 2, 0, 0, 0], 'internal_rmse': 10.283941812187193, 'internal_rmadex': 11.13894160487266, 'unseen_cga_analysis': [0, 9, 0, 85, 0], 'unseen_rmse': 165.79541384792708, 'unseen_rmadex': 26288.862475517828}\n",
     "output_type": "stream"
    },
    {
     "data": {
      "application/vnd.deepnote.dataframe.v2+json": {
       "row_count": 12,
       "column_count": 6,
       "columns": [
        {
         "name": "MAE",
         "dtype": "float64",
         "stats": {
          "unique_count": 12,
          "nan_count": 0,
          "min": "2.9055",
          "max": "11.2657",
          "histogram": [
           {
            "bin_start": 2.9055,
            "bin_end": 3.74152,
            "count": 4
           },
           {
            "bin_start": 3.74152,
            "bin_end": 4.57754,
            "count": 1
           },
           {
            "bin_start": 4.57754,
            "bin_end": 5.41356,
            "count": 1
           },
           {
            "bin_start": 5.41356,
            "bin_end": 6.24958,
            "count": 1
           },
           {
            "bin_start": 6.24958,
            "bin_end": 7.0856,
            "count": 1
           },
           {
            "bin_start": 7.0856,
            "bin_end": 7.921620000000001,
            "count": 2
           },
           {
            "bin_start": 7.921620000000001,
            "bin_end": 8.75764,
            "count": 0
           },
           {
            "bin_start": 8.75764,
            "bin_end": 9.59366,
            "count": 0
           },
           {
            "bin_start": 9.59366,
            "bin_end": 10.429680000000001,
            "count": 1
           },
           {
            "bin_start": 10.429680000000001,
            "bin_end": 11.2657,
            "count": 1
           }
          ]
         }
        },
        {
         "name": "MSE",
         "dtype": "float64",
         "stats": {
          "unique_count": 12,
          "nan_count": 0,
          "min": "13.129",
          "max": "323.5678",
          "histogram": [
           {
            "bin_start": 13.129,
            "bin_end": 44.17287999999999,
            "count": 5
           },
           {
            "bin_start": 44.17287999999999,
            "bin_end": 75.21676,
            "count": 1
           },
           {
            "bin_start": 75.21676,
            "bin_end": 106.26063999999998,
            "count": 2
           },
           {
            "bin_start": 106.26063999999998,
            "bin_end": 137.30451999999997,
            "count": 2
           },
           {
            "bin_start": 137.30451999999997,
            "bin_end": 168.34839999999997,
            "count": 0
           },
           {
            "bin_start": 168.34839999999997,
            "bin_end": 199.39227999999994,
            "count": 0
           },
           {
            "bin_start": 199.39227999999994,
            "bin_end": 230.43615999999994,
            "count": 1
           },
           {
            "bin_start": 230.43615999999994,
            "bin_end": 261.48004,
            "count": 0
           },
           {
            "bin_start": 261.48004,
            "bin_end": 292.52392,
            "count": 0
           },
           {
            "bin_start": 292.52392,
            "bin_end": 323.5678,
            "count": 1
           }
          ]
         }
        },
        {
         "name": "RMSE",
         "dtype": "float64",
         "stats": {
          "unique_count": 12,
          "nan_count": 0,
          "min": "3.6234",
          "max": "17.988",
          "histogram": [
           {
            "bin_start": 3.6234,
            "bin_end": 5.0598600000000005,
            "count": 5
           },
           {
            "bin_start": 5.0598600000000005,
            "bin_end": 6.49632,
            "count": 0
           },
           {
            "bin_start": 6.49632,
            "bin_end": 7.932779999999999,
            "count": 1
           },
           {
            "bin_start": 7.932779999999999,
            "bin_end": 9.36924,
            "count": 2
           },
           {
            "bin_start": 9.36924,
            "bin_end": 10.8057,
            "count": 1
           },
           {
            "bin_start": 10.8057,
            "bin_end": 12.242159999999998,
            "count": 1
           },
           {
            "bin_start": 12.242159999999998,
            "bin_end": 13.678619999999999,
            "count": 0
           },
           {
            "bin_start": 13.678619999999999,
            "bin_end": 15.115079999999999,
            "count": 1
           },
           {
            "bin_start": 15.115079999999999,
            "bin_end": 16.55154,
            "count": 0
           },
           {
            "bin_start": 16.55154,
            "bin_end": 17.988,
            "count": 1
           }
          ]
         }
        },
        {
         "name": "R2",
         "dtype": "float64",
         "stats": {
          "unique_count": 12,
          "nan_count": 0,
          "min": "-1.4035",
          "max": "0.9646",
          "histogram": [
           {
            "bin_start": -1.4035,
            "bin_end": -1.16669,
            "count": 1
           },
           {
            "bin_start": -1.16669,
            "bin_end": -0.9298799999999999,
            "count": 0
           },
           {
            "bin_start": -0.9298799999999999,
            "bin_end": -0.6930699999999999,
            "count": 0
           },
           {
            "bin_start": -0.6930699999999999,
            "bin_end": -0.4562599999999999,
            "count": 0
           },
           {
            "bin_start": -0.4562599999999999,
            "bin_end": -0.21944999999999992,
            "count": 0
           },
           {
            "bin_start": -0.21944999999999992,
            "bin_end": 0.017360000000000264,
            "count": 0
           },
           {
            "bin_start": 0.017360000000000264,
            "bin_end": 0.25417000000000023,
            "count": 0
           },
           {
            "bin_start": 0.25417000000000023,
            "bin_end": 0.4909800000000002,
            "count": 0
           },
           {
            "bin_start": 0.4909800000000002,
            "bin_end": 0.7277900000000004,
            "count": 4
           },
           {
            "bin_start": 0.7277900000000004,
            "bin_end": 0.9646,
            "count": 7
           }
          ]
         }
        },
        {
         "name": "RMSLE",
         "dtype": "float64",
         "stats": {
          "unique_count": 12,
          "nan_count": 0,
          "min": "0.0312",
          "max": "0.1447",
          "histogram": [
           {
            "bin_start": 0.0312,
            "bin_end": 0.04255,
            "count": 1
           },
           {
            "bin_start": 0.04255,
            "bin_end": 0.053899999999999997,
            "count": 1
           },
           {
            "bin_start": 0.053899999999999997,
            "bin_end": 0.06525,
            "count": 4
           },
           {
            "bin_start": 0.06525,
            "bin_end": 0.0766,
            "count": 0
           },
           {
            "bin_start": 0.0766,
            "bin_end": 0.08795,
            "count": 1
           },
           {
            "bin_start": 0.08795,
            "bin_end": 0.0993,
            "count": 2
           },
           {
            "bin_start": 0.0993,
            "bin_end": 0.11065,
            "count": 1
           },
           {
            "bin_start": 0.11065,
            "bin_end": 0.122,
            "count": 0
           },
           {
            "bin_start": 0.122,
            "bin_end": 0.13335,
            "count": 1
           },
           {
            "bin_start": 0.13335,
            "bin_end": 0.1447,
            "count": 1
           }
          ]
         }
        },
        {
         "name": "MAPE",
         "dtype": "float64",
         "stats": {
          "unique_count": 12,
          "nan_count": 0,
          "min": "0.0213",
          "max": "0.0974",
          "histogram": [
           {
            "bin_start": 0.0213,
            "bin_end": 0.028909999999999998,
            "count": 1
           },
           {
            "bin_start": 0.028909999999999998,
            "bin_end": 0.03652,
            "count": 0
           },
           {
            "bin_start": 0.03652,
            "bin_end": 0.04413,
            "count": 2
           },
           {
            "bin_start": 0.04413,
            "bin_end": 0.05174,
            "count": 2
           },
           {
            "bin_start": 0.05174,
            "bin_end": 0.05935,
            "count": 1
           },
           {
            "bin_start": 0.05935,
            "bin_end": 0.06696,
            "count": 1
           },
           {
            "bin_start": 0.06696,
            "bin_end": 0.07457,
            "count": 2
           },
           {
            "bin_start": 0.07457,
            "bin_end": 0.08218,
            "count": 0
           },
           {
            "bin_start": 0.08218,
            "bin_end": 0.08979000000000001,
            "count": 1
           },
           {
            "bin_start": 0.08979000000000001,
            "bin_end": 0.0974,
            "count": 2
           }
          ]
         }
        },
        {
         "name": "_deepnote_index_column",
         "dtype": "object"
        }
       ],
       "rows_top": [
        {
         "MAE": 4.6643,
         "MSE": 43.06,
         "RMSE": 6.562,
         "R2": 0.9158,
         "RMSLE": 0.0634,
         "MAPE": 0.051,
         "_deepnote_index_column": "0"
        },
        {
         "MAE": 11.2657,
         "MSE": 323.5678,
         "RMSE": 17.988,
         "R2": 0.6598,
         "RMSLE": 0.1447,
         "MAPE": 0.0974,
         "_deepnote_index_column": "1"
        },
        {
         "MAE": 10.3871,
         "MSE": 215.0601,
         "RMSE": 14.6649,
         "R2": 0.8118,
         "RMSLE": 0.1238,
         "MAPE": 0.0969,
         "_deepnote_index_column": "2"
        },
        {
         "MAE": 4.0814,
         "MSE": 24.9089,
         "RMSE": 4.9909,
         "R2": 0.9646,
         "RMSLE": 0.062,
         "MAPE": 0.0532,
         "_deepnote_index_column": "3"
        },
        {
         "MAE": 7.8443,
         "MSE": 112.3206,
         "RMSE": 10.5981,
         "R2": 0.8348,
         "RMSLE": 0.088,
         "MAPE": 0.0711,
         "_deepnote_index_column": "4"
        },
        {
         "MAE": 3.1833,
         "MSE": 25.2716,
         "RMSE": 5.0271,
         "R2": 0.928,
         "RMSLE": 0.0643,
         "MAPE": 0.0445,
         "_deepnote_index_column": "5"
        },
        {
         "MAE": 2.955,
         "MSE": 15.2222,
         "RMSE": 3.9016,
         "R2": -1.4035,
         "RMSLE": 0.0551,
         "MAPE": 0.0427,
         "_deepnote_index_column": "6"
        },
        {
         "MAE": 2.9917,
         "MSE": 13.129,
         "RMSE": 3.6234,
         "R2": 0.9141,
         "RMSLE": 0.045,
         "MAPE": 0.0394,
         "_deepnote_index_column": "7"
        },
        {
         "MAE": 7.3583,
         "MSE": 125.4653,
         "RMSE": 11.2011,
         "R2": 0.8264,
         "RMSLE": 0.1095,
         "MAPE": 0.0721,
         "_deepnote_index_column": "8"
        },
        {
         "MAE": 6.8517,
         "MSE": 64.4619,
         "RMSE": 8.0288,
         "R2": 0.6804,
         "RMSLE": 0.0977,
         "MAPE": 0.0863,
         "_deepnote_index_column": "9"
        },
        {
         "MAE": 6.1583,
         "MSE": 96.2467,
         "RMSE": 8.6586,
         "R2": 0.6132,
         "RMSLE": 0.0854,
         "MAPE": 0.0655,
         "_deepnote_index_column": "Mean"
        },
        {
         "MAE": 2.9055,
         "MSE": 97.1302,
         "RMSE": 4.6125,
         "R2": 0.6792,
         "RMSLE": 0.0312,
         "MAPE": 0.0213,
         "_deepnote_index_column": "SD"
        }
       ],
       "rows_bottom": null
      },
      "text/plain": "          MAE       MSE     RMSE      R2   RMSLE    MAPE\n0      4.6643   43.0600   6.5620  0.9158  0.0634  0.0510\n1     11.2657  323.5678  17.9880  0.6598  0.1447  0.0974\n2     10.3871  215.0601  14.6649  0.8118  0.1238  0.0969\n3      4.0814   24.9089   4.9909  0.9646  0.0620  0.0532\n4      7.8443  112.3206  10.5981  0.8348  0.0880  0.0711\n5      3.1833   25.2716   5.0271  0.9280  0.0643  0.0445\n6      2.9550   15.2222   3.9016 -1.4035  0.0551  0.0427\n7      2.9917   13.1290   3.6234  0.9141  0.0450  0.0394\n8      7.3583  125.4653  11.2011  0.8264  0.1095  0.0721\n9      6.8517   64.4619   8.0288  0.6804  0.0977  0.0863\nMean   6.1583   96.2467   8.6586  0.6132  0.0854  0.0655\nSD     2.9055   97.1302   4.6125  0.6792  0.0312  0.0213",
      "text/html": "<div>\n<style scoped>\n    .dataframe tbody tr th:only-of-type {\n        vertical-align: middle;\n    }\n\n    .dataframe tbody tr th {\n        vertical-align: top;\n    }\n\n    .dataframe thead th {\n        text-align: right;\n    }\n</style>\n<table border=\"1\" class=\"dataframe\">\n  <thead>\n    <tr style=\"text-align: right;\">\n      <th></th>\n      <th>MAE</th>\n      <th>MSE</th>\n      <th>RMSE</th>\n      <th>R2</th>\n      <th>RMSLE</th>\n      <th>MAPE</th>\n    </tr>\n  </thead>\n  <tbody>\n    <tr>\n      <th>0</th>\n      <td>4.6643</td>\n      <td>43.0600</td>\n      <td>6.5620</td>\n      <td>0.9158</td>\n      <td>0.0634</td>\n      <td>0.0510</td>\n    </tr>\n    <tr>\n      <th>1</th>\n      <td>11.2657</td>\n      <td>323.5678</td>\n      <td>17.9880</td>\n      <td>0.6598</td>\n      <td>0.1447</td>\n      <td>0.0974</td>\n    </tr>\n    <tr>\n      <th>2</th>\n      <td>10.3871</td>\n      <td>215.0601</td>\n      <td>14.6649</td>\n      <td>0.8118</td>\n      <td>0.1238</td>\n      <td>0.0969</td>\n    </tr>\n    <tr>\n      <th>3</th>\n      <td>4.0814</td>\n      <td>24.9089</td>\n      <td>4.9909</td>\n      <td>0.9646</td>\n      <td>0.0620</td>\n      <td>0.0532</td>\n    </tr>\n    <tr>\n      <th>4</th>\n      <td>7.8443</td>\n      <td>112.3206</td>\n      <td>10.5981</td>\n      <td>0.8348</td>\n      <td>0.0880</td>\n      <td>0.0711</td>\n    </tr>\n    <tr>\n      <th>5</th>\n      <td>3.1833</td>\n      <td>25.2716</td>\n      <td>5.0271</td>\n      <td>0.9280</td>\n      <td>0.0643</td>\n      <td>0.0445</td>\n    </tr>\n    <tr>\n      <th>6</th>\n      <td>2.9550</td>\n      <td>15.2222</td>\n      <td>3.9016</td>\n      <td>-1.4035</td>\n      <td>0.0551</td>\n      <td>0.0427</td>\n    </tr>\n    <tr>\n      <th>7</th>\n      <td>2.9917</td>\n      <td>13.1290</td>\n      <td>3.6234</td>\n      <td>0.9141</td>\n      <td>0.0450</td>\n      <td>0.0394</td>\n    </tr>\n    <tr>\n      <th>8</th>\n      <td>7.3583</td>\n      <td>125.4653</td>\n      <td>11.2011</td>\n      <td>0.8264</td>\n      <td>0.1095</td>\n      <td>0.0721</td>\n    </tr>\n    <tr>\n      <th>9</th>\n      <td>6.8517</td>\n      <td>64.4619</td>\n      <td>8.0288</td>\n      <td>0.6804</td>\n      <td>0.0977</td>\n      <td>0.0863</td>\n    </tr>\n    <tr>\n      <th>Mean</th>\n      <td>6.1583</td>\n      <td>96.2467</td>\n      <td>8.6586</td>\n      <td>0.6132</td>\n      <td>0.0854</td>\n      <td>0.0655</td>\n    </tr>\n    <tr>\n      <th>SD</th>\n      <td>2.9055</td>\n      <td>97.1302</td>\n      <td>4.6125</td>\n      <td>0.6792</td>\n      <td>0.0312</td>\n      <td>0.0213</td>\n    </tr>\n  </tbody>\n</table>\n</div>"
     },
     "metadata": {},
     "output_type": "display_data"
    },
    {
     "data": {
      "application/vnd.deepnote.dataframe.v2+json": {
       "row_count": 1,
       "column_count": 7,
       "columns": [
        {
         "name": "Model",
         "dtype": "object",
         "stats": {
          "unique_count": 1,
          "nan_count": 0,
          "categories": [
           {
            "name": "Extra Trees Regressor",
            "count": 1
           }
          ]
         }
        },
        {
         "name": "MAE",
         "dtype": "float64",
         "stats": {
          "unique_count": 1,
          "nan_count": 0,
          "min": "9.1586",
          "max": "9.1586",
          "histogram": [
           {
            "bin_start": 8.6586,
            "bin_end": 8.7586,
            "count": 0
           },
           {
            "bin_start": 8.7586,
            "bin_end": 8.8586,
            "count": 0
           },
           {
            "bin_start": 8.8586,
            "bin_end": 8.9586,
            "count": 0
           },
           {
            "bin_start": 8.9586,
            "bin_end": 9.0586,
            "count": 0
           },
           {
            "bin_start": 9.0586,
            "bin_end": 9.1586,
            "count": 0
           },
           {
            "bin_start": 9.1586,
            "bin_end": 9.2586,
            "count": 1
           },
           {
            "bin_start": 9.2586,
            "bin_end": 9.3586,
            "count": 0
           },
           {
            "bin_start": 9.3586,
            "bin_end": 9.4586,
            "count": 0
           },
           {
            "bin_start": 9.4586,
            "bin_end": 9.5586,
            "count": 0
           },
           {
            "bin_start": 9.5586,
            "bin_end": 9.6586,
            "count": 0
           }
          ]
         }
        },
        {
         "name": "MSE",
         "dtype": "float64",
         "stats": {
          "unique_count": 1,
          "nan_count": 0,
          "min": "119.4162",
          "max": "119.4162",
          "histogram": [
           {
            "bin_start": 118.9162,
            "bin_end": 119.0162,
            "count": 0
           },
           {
            "bin_start": 119.0162,
            "bin_end": 119.1162,
            "count": 0
           },
           {
            "bin_start": 119.1162,
            "bin_end": 119.2162,
            "count": 0
           },
           {
            "bin_start": 119.2162,
            "bin_end": 119.31620000000001,
            "count": 0
           },
           {
            "bin_start": 119.31620000000001,
            "bin_end": 119.4162,
            "count": 0
           },
           {
            "bin_start": 119.4162,
            "bin_end": 119.5162,
            "count": 1
           },
           {
            "bin_start": 119.5162,
            "bin_end": 119.6162,
            "count": 0
           },
           {
            "bin_start": 119.6162,
            "bin_end": 119.7162,
            "count": 0
           },
           {
            "bin_start": 119.7162,
            "bin_end": 119.81620000000001,
            "count": 0
           },
           {
            "bin_start": 119.81620000000001,
            "bin_end": 119.9162,
            "count": 0
           }
          ]
         }
        },
        {
         "name": "RMSE",
         "dtype": "float64",
         "stats": {
          "unique_count": 1,
          "nan_count": 0,
          "min": "10.9278",
          "max": "10.9278",
          "histogram": [
           {
            "bin_start": 10.4278,
            "bin_end": 10.5278,
            "count": 0
           },
           {
            "bin_start": 10.5278,
            "bin_end": 10.627799999999999,
            "count": 0
           },
           {
            "bin_start": 10.627799999999999,
            "bin_end": 10.7278,
            "count": 0
           },
           {
            "bin_start": 10.7278,
            "bin_end": 10.8278,
            "count": 0
           },
           {
            "bin_start": 10.8278,
            "bin_end": 10.9278,
            "count": 0
           },
           {
            "bin_start": 10.9278,
            "bin_end": 11.0278,
            "count": 1
           },
           {
            "bin_start": 11.0278,
            "bin_end": 11.127799999999999,
            "count": 0
           },
           {
            "bin_start": 11.127799999999999,
            "bin_end": 11.2278,
            "count": 0
           },
           {
            "bin_start": 11.2278,
            "bin_end": 11.3278,
            "count": 0
           },
           {
            "bin_start": 11.3278,
            "bin_end": 11.4278,
            "count": 0
           }
          ]
         }
        },
        {
         "name": "R2",
         "dtype": "float64",
         "stats": {
          "unique_count": 1,
          "nan_count": 0,
          "min": "0.8637",
          "max": "0.8637",
          "histogram": [
           {
            "bin_start": 0.3637,
            "bin_end": 0.4637,
            "count": 0
           },
           {
            "bin_start": 0.4637,
            "bin_end": 0.5637000000000001,
            "count": 0
           },
           {
            "bin_start": 0.5637000000000001,
            "bin_end": 0.6637000000000001,
            "count": 0
           },
           {
            "bin_start": 0.6637000000000001,
            "bin_end": 0.7637,
            "count": 0
           },
           {
            "bin_start": 0.7637,
            "bin_end": 0.8637,
            "count": 0
           },
           {
            "bin_start": 0.8637,
            "bin_end": 0.9637000000000001,
            "count": 1
           },
           {
            "bin_start": 0.9637000000000001,
            "bin_end": 1.0637,
            "count": 0
           },
           {
            "bin_start": 1.0637,
            "bin_end": 1.1637,
            "count": 0
           },
           {
            "bin_start": 1.1637,
            "bin_end": 1.2637,
            "count": 0
           },
           {
            "bin_start": 1.2637,
            "bin_end": 1.3637000000000001,
            "count": 0
           }
          ]
         }
        },
        {
         "name": "RMSLE",
         "dtype": "float64",
         "stats": {
          "unique_count": 1,
          "nan_count": 0,
          "min": "0.1236",
          "max": "0.1236",
          "histogram": [
           {
            "bin_start": -0.3764,
            "bin_end": -0.2764,
            "count": 0
           },
           {
            "bin_start": -0.2764,
            "bin_end": -0.1764,
            "count": 0
           },
           {
            "bin_start": -0.1764,
            "bin_end": -0.07639999999999997,
            "count": 0
           },
           {
            "bin_start": -0.07639999999999997,
            "bin_end": 0.02360000000000001,
            "count": 0
           },
           {
            "bin_start": 0.02360000000000001,
            "bin_end": 0.12359999999999999,
            "count": 0
           },
           {
            "bin_start": 0.12359999999999999,
            "bin_end": 0.22360000000000008,
            "count": 1
           },
           {
            "bin_start": 0.22360000000000008,
            "bin_end": 0.32360000000000005,
            "count": 0
           },
           {
            "bin_start": 0.32360000000000005,
            "bin_end": 0.42360000000000003,
            "count": 0
           },
           {
            "bin_start": 0.42360000000000003,
            "bin_end": 0.5236000000000001,
            "count": 0
           },
           {
            "bin_start": 0.5236000000000001,
            "bin_end": 0.6236,
            "count": 0
           }
          ]
         }
        },
        {
         "name": "MAPE",
         "dtype": "float64",
         "stats": {
          "unique_count": 1,
          "nan_count": 0,
          "min": "0.1114",
          "max": "0.1114",
          "histogram": [
           {
            "bin_start": -0.3886,
            "bin_end": -0.28859999999999997,
            "count": 0
           },
           {
            "bin_start": -0.28859999999999997,
            "bin_end": -0.1886,
            "count": 0
           },
           {
            "bin_start": -0.1886,
            "bin_end": -0.08859999999999996,
            "count": 0
           },
           {
            "bin_start": -0.08859999999999996,
            "bin_end": 0.011400000000000021,
            "count": 0
           },
           {
            "bin_start": 0.011400000000000021,
            "bin_end": 0.1114,
            "count": 0
           },
           {
            "bin_start": 0.1114,
            "bin_end": 0.2114000000000001,
            "count": 1
           },
           {
            "bin_start": 0.2114000000000001,
            "bin_end": 0.31140000000000007,
            "count": 0
           },
           {
            "bin_start": 0.31140000000000007,
            "bin_end": 0.41140000000000004,
            "count": 0
           },
           {
            "bin_start": 0.41140000000000004,
            "bin_end": 0.5114000000000001,
            "count": 0
           },
           {
            "bin_start": 0.5114000000000001,
            "bin_end": 0.6113999999999999,
            "count": 0
           }
          ]
         }
        },
        {
         "name": "_deepnote_index_column",
         "dtype": "int64"
        }
       ],
       "rows_top": [
        {
         "Model": "Extra Trees Regressor",
         "MAE": 9.1586,
         "MSE": 119.4162,
         "RMSE": 10.9278,
         "R2": 0.8637,
         "RMSLE": 0.1236,
         "MAPE": 0.1114,
         "_deepnote_index_column": 0
        }
       ],
       "rows_bottom": null
      },
      "text/plain": "                   Model     MAE       MSE     RMSE      R2   RMSLE    MAPE\n0  Extra Trees Regressor  9.1586  119.4162  10.9278  0.8637  0.1236  0.1114",
      "text/html": "<div>\n<style scoped>\n    .dataframe tbody tr th:only-of-type {\n        vertical-align: middle;\n    }\n\n    .dataframe tbody tr th {\n        vertical-align: top;\n    }\n\n    .dataframe thead th {\n        text-align: right;\n    }\n</style>\n<table border=\"1\" class=\"dataframe\">\n  <thead>\n    <tr style=\"text-align: right;\">\n      <th></th>\n      <th>Model</th>\n      <th>MAE</th>\n      <th>MSE</th>\n      <th>RMSE</th>\n      <th>R2</th>\n      <th>RMSLE</th>\n      <th>MAPE</th>\n    </tr>\n  </thead>\n  <tbody>\n    <tr>\n      <th>0</th>\n      <td>Extra Trees Regressor</td>\n      <td>9.1586</td>\n      <td>119.4162</td>\n      <td>10.9278</td>\n      <td>0.8637</td>\n      <td>0.1236</td>\n      <td>0.1114</td>\n    </tr>\n  </tbody>\n</table>\n</div>"
     },
     "metadata": {},
     "output_type": "display_data"
    },
    {
     "name": "stderr",
     "text": "2021-06-18 05:02:54.133 | INFO     | src.helpers.experiment:create_ds_name:12 - dataframes/559_test_100_6_1.pkl\n2021-06-18 05:02:54.161 | INFO     | src.helpers.experiment:create_tsfresh_dataframe:19 - {'ohio_no': 559, 'scope': 'test', 'train_ds_size': 100, 'window_size': 6, 'prediction_horizon': 1, 'minimal_features': False}\n",
     "output_type": "stream"
    },
    {
     "data": {
      "text/plain": "<Figure size 432x288 with 1 Axes>",
      "image/png": "[encoded data removed]"
     },
     "metadata": {
      "needs_background": "light",
      "image/png": {
       "width": 281,
       "height": 278
      }
     },
     "output_type": "display_data"
    },
    {
     "data": {
      "text/plain": "<Figure size 432x288 with 1 Axes>",
      "image/png": "[encoded data removed]"
     },
     "metadata": {
      "needs_background": "light",
      "image/png": {
       "width": 375,
       "height": 262
      }
     },
     "output_type": "display_data"
    },
    {
     "name": "stderr",
     "text": "2021-06-18 05:02:54.856 | INFO     | src.helpers.experiment:create_tsfresh_dataframe:22 - Found existing picle file. Continuing...\n2021-06-18 05:02:54.857 | INFO     | src.helpers.dataframe:read_df:11 - Attempting to read from pickle file dataframes/559_test_100_6_1.pkl\n2021-06-18 05:02:55.764 | INFO     | __main__:run_experiment:48 - {'model': ExtraTreesRegressor(bootstrap=False, ccp_alpha=0.0, criterion='mse',\n                    max_depth=None, max_features='auto', max_leaf_nodes=None,\n                    max_samples=None, min_impurity_decrease=0.0,\n                    min_impurity_split=None, min_samples_leaf=1,\n                    min_samples_split=2, min_weight_fraction_leaf=0.0,\n                    n_estimators=100, n_jobs=-1, oob_score=False,\n                    random_state=1974, verbose=0, warm_start=False), 'model_name': 'ExtraTreesRegressor', 'internal_cga_analysis': [25, 2, 0, 2, 0], 'internal_rmse': 10.927769750691947, 'internal_rmadex': 12.678007072761455, 'unseen_cga_analysis': [0, 9, 0, 85, 0], 'unseen_rmse': 162.34306829162873, 'unseen_rmadex': 19847.05375718746}\n",
     "output_type": "stream"
    },
    {
     "data": {
      "application/vnd.deepnote.dataframe.v2+json": {
       "row_count": 12,
       "column_count": 6,
       "columns": [
        {
         "name": "MAE",
         "dtype": "float64",
         "stats": {
          "unique_count": 12,
          "nan_count": 0,
          "min": "2.3794",
          "max": "11.2971",
          "histogram": [
           {
            "bin_start": 2.3794,
            "bin_end": 3.2711699999999997,
            "count": 1
           },
           {
            "bin_start": 3.2711699999999997,
            "bin_end": 4.16294,
            "count": 2
           },
           {
            "bin_start": 4.16294,
            "bin_end": 5.05471,
            "count": 1
           },
           {
            "bin_start": 5.05471,
            "bin_end": 5.946479999999999,
            "count": 0
           },
           {
            "bin_start": 5.946479999999999,
            "bin_end": 6.83825,
            "count": 4
           },
           {
            "bin_start": 6.83825,
            "bin_end": 7.73002,
            "count": 1
           },
           {
            "bin_start": 7.73002,
            "bin_end": 8.621789999999999,
            "count": 1
           },
           {
            "bin_start": 8.621789999999999,
            "bin_end": 9.51356,
            "count": 1
           },
           {
            "bin_start": 9.51356,
            "bin_end": 10.40533,
            "count": 0
           },
           {
            "bin_start": 10.40533,
            "bin_end": 11.2971,
            "count": 1
           }
          ]
         }
        },
        {
         "name": "MSE",
         "dtype": "float64",
         "stats": {
          "unique_count": 12,
          "nan_count": 0,
          "min": "21.7694",
          "max": "259.1411",
          "histogram": [
           {
            "bin_start": 21.7694,
            "bin_end": 45.506569999999996,
            "count": 3
           },
           {
            "bin_start": 45.506569999999996,
            "bin_end": 69.24374,
            "count": 1
           },
           {
            "bin_start": 69.24374,
            "bin_end": 92.98091000000001,
            "count": 3
           },
           {
            "bin_start": 92.98091000000001,
            "bin_end": 116.71808,
            "count": 3
           },
           {
            "bin_start": 116.71808,
            "bin_end": 140.45524999999998,
            "count": 0
           },
           {
            "bin_start": 140.45524999999998,
            "bin_end": 164.19242,
            "count": 0
           },
           {
            "bin_start": 164.19242,
            "bin_end": 187.92959,
            "count": 0
           },
           {
            "bin_start": 187.92959,
            "bin_end": 211.66675999999998,
            "count": 0
           },
           {
            "bin_start": 211.66675999999998,
            "bin_end": 235.40392999999997,
            "count": 1
           },
           {
            "bin_start": 235.40392999999997,
            "bin_end": 259.1411,
            "count": 1
           }
          ]
         }
        },
        {
         "name": "RMSE",
         "dtype": "float64",
         "stats": {
          "unique_count": 12,
          "nan_count": 0,
          "min": "3.6919",
          "max": "16.0979",
          "histogram": [
           {
            "bin_start": 3.6919,
            "bin_end": 4.9325,
            "count": 2
           },
           {
            "bin_start": 4.9325,
            "bin_end": 6.1731,
            "count": 2
           },
           {
            "bin_start": 6.1731,
            "bin_end": 7.4137,
            "count": 0
           },
           {
            "bin_start": 7.4137,
            "bin_end": 8.6543,
            "count": 1
           },
           {
            "bin_start": 8.6543,
            "bin_end": 9.8949,
            "count": 3
           },
           {
            "bin_start": 9.8949,
            "bin_end": 11.1355,
            "count": 2
           },
           {
            "bin_start": 11.1355,
            "bin_end": 12.3761,
            "count": 0
           },
           {
            "bin_start": 12.3761,
            "bin_end": 13.6167,
            "count": 0
           },
           {
            "bin_start": 13.6167,
            "bin_end": 14.8573,
            "count": 0
           },
           {
            "bin_start": 14.8573,
            "bin_end": 16.0979,
            "count": 2
           }
          ]
         }
        },
        {
         "name": "R2",
         "dtype": "float64",
         "stats": {
          "unique_count": 12,
          "nan_count": 0,
          "min": "-2.9152",
          "max": "1.1212",
          "histogram": [
           {
            "bin_start": -2.9152,
            "bin_end": -2.51156,
            "count": 1
           },
           {
            "bin_start": -2.51156,
            "bin_end": -2.10792,
            "count": 0
           },
           {
            "bin_start": -2.10792,
            "bin_end": -1.7042799999999998,
            "count": 0
           },
           {
            "bin_start": -1.7042799999999998,
            "bin_end": -1.3006399999999998,
            "count": 0
           },
           {
            "bin_start": -1.3006399999999998,
            "bin_end": -0.8969999999999998,
            "count": 0
           },
           {
            "bin_start": -0.8969999999999998,
            "bin_end": -0.4933599999999996,
            "count": 0
           },
           {
            "bin_start": -0.4933599999999996,
            "bin_end": -0.0897199999999998,
            "count": 0
           },
           {
            "bin_start": -0.0897199999999998,
            "bin_end": 0.3139200000000004,
            "count": 0
           },
           {
            "bin_start": 0.3139200000000004,
            "bin_end": 0.7175600000000006,
            "count": 2
           },
           {
            "bin_start": 0.7175600000000006,
            "bin_end": 1.1212,
            "count": 9
           }
          ]
         }
        },
        {
         "name": "RMSLE",
         "dtype": "float64",
         "stats": {
          "unique_count": 11,
          "nan_count": 0,
          "min": "0.0227",
          "max": "0.1315",
          "histogram": [
           {
            "bin_start": 0.0227,
            "bin_end": 0.03358,
            "count": 1
           },
           {
            "bin_start": 0.03358,
            "bin_end": 0.04446,
            "count": 0
           },
           {
            "bin_start": 0.04446,
            "bin_end": 0.05534,
            "count": 0
           },
           {
            "bin_start": 0.05534,
            "bin_end": 0.06622,
            "count": 1
           },
           {
            "bin_start": 0.06622,
            "bin_end": 0.0771,
            "count": 2
           },
           {
            "bin_start": 0.0771,
            "bin_end": 0.08798,
            "count": 1
           },
           {
            "bin_start": 0.08798,
            "bin_end": 0.09886,
            "count": 3
           },
           {
            "bin_start": 0.09886,
            "bin_end": 0.10974,
            "count": 2
           },
           {
            "bin_start": 0.10974,
            "bin_end": 0.12062,
            "count": 0
           },
           {
            "bin_start": 0.12062,
            "bin_end": 0.1315,
            "count": 2
           }
          ]
         }
        },
        {
         "name": "MAPE",
         "dtype": "float64",
         "stats": {
          "unique_count": 12,
          "nan_count": 0,
          "min": "0.0173",
          "max": "0.1098",
          "histogram": [
           {
            "bin_start": 0.0173,
            "bin_end": 0.026549999999999997,
            "count": 1
           },
           {
            "bin_start": 0.026549999999999997,
            "bin_end": 0.0358,
            "count": 0
           },
           {
            "bin_start": 0.0358,
            "bin_end": 0.04504999999999999,
            "count": 0
           },
           {
            "bin_start": 0.04504999999999999,
            "bin_end": 0.0543,
            "count": 2
           },
           {
            "bin_start": 0.0543,
            "bin_end": 0.06355,
            "count": 1
           },
           {
            "bin_start": 0.06355,
            "bin_end": 0.07279999999999999,
            "count": 3
           },
           {
            "bin_start": 0.07279999999999999,
            "bin_end": 0.08205,
            "count": 1
           },
           {
            "bin_start": 0.08205,
            "bin_end": 0.09129999999999999,
            "count": 3
           },
           {
            "bin_start": 0.09129999999999999,
            "bin_end": 0.10054999999999999,
            "count": 0
           },
           {
            "bin_start": 0.10054999999999999,
            "bin_end": 0.1098,
            "count": 1
           }
          ]
         }
        },
        {
         "name": "_deepnote_index_column",
         "dtype": "object"
        }
       ],
       "rows_top": [
        {
         "MAE": 5.9957,
         "MSE": 60.5046,
         "RMSE": 7.7785,
         "R2": 0.8817,
         "RMSLE": 0.0845,
         "MAPE": 0.07,
         "_deepnote_index_column": "0"
        },
        {
         "MAE": 9.46,
         "MSE": 259.1411,
         "RMSE": 16.0979,
         "R2": 0.7275,
         "RMSLE": 0.1304,
         "MAPE": 0.0839,
         "_deepnote_index_column": "1"
        },
        {
         "MAE": 11.2971,
         "MSE": 231.2096,
         "RMSE": 15.2056,
         "R2": 0.7977,
         "RMSLE": 0.1315,
         "MAPE": 0.1098,
         "_deepnote_index_column": "2"
        },
        {
         "MAE": 6.1286,
         "MSE": 76.2491,
         "RMSE": 8.7321,
         "R2": 0.8916,
         "RMSLE": 0.0959,
         "MAPE": 0.0717,
         "_deepnote_index_column": "3"
        },
        {
         "MAE": 7.5557,
         "MSE": 100.6894,
         "RMSE": 10.0344,
         "R2": 0.8519,
         "RMSLE": 0.0915,
         "MAPE": 0.0715,
         "_deepnote_index_column": "4"
        },
        {
         "MAE": 4.2683,
         "MSE": 21.7694,
         "RMSE": 4.6658,
         "R2": 0.938,
         "RMSLE": 0.0605,
         "MAPE": 0.0584,
         "_deepnote_index_column": "5"
        },
        {
         "MAE": 3.4933,
         "MSE": 24.7964,
         "RMSE": 4.9796,
         "R2": -2.9152,
         "RMSLE": 0.0719,
         "MAPE": 0.0504,
         "_deepnote_index_column": "6"
        },
        {
         "MAE": 4.07,
         "MSE": 37.8345,
         "RMSE": 6.151,
         "R2": 0.7525,
         "RMSLE": 0.0719,
         "MAPE": 0.0499,
         "_deepnote_index_column": "7"
        },
        {
         "MAE": 8.49,
         "MSE": 113.8069,
         "RMSE": 10.668,
         "R2": 0.8426,
         "RMSLE": 0.1045,
         "MAPE": 0.0864,
         "_deepnote_index_column": "8"
        },
        {
         "MAE": 6.62,
         "MSE": 80.3094,
         "RMSE": 8.9615,
         "R2": 0.6018,
         "RMSLE": 0.1049,
         "MAPE": 0.0823,
         "_deepnote_index_column": "9"
        },
        {
         "MAE": 6.7379,
         "MSE": 100.631,
         "RMSE": 9.3274,
         "R2": 0.437,
         "RMSLE": 0.0948,
         "MAPE": 0.0734,
         "_deepnote_index_column": "Mean"
        },
        {
         "MAE": 2.3794,
         "MSE": 78.0262,
         "RMSE": 3.6919,
         "R2": 1.1212,
         "RMSLE": 0.0227,
         "MAPE": 0.0173,
         "_deepnote_index_column": "SD"
        }
       ],
       "rows_bottom": null
      },
      "text/plain": "          MAE       MSE     RMSE      R2   RMSLE    MAPE\n0      5.9957   60.5046   7.7785  0.8817  0.0845  0.0700\n1      9.4600  259.1411  16.0979  0.7275  0.1304  0.0839\n2     11.2971  231.2096  15.2056  0.7977  0.1315  0.1098\n3      6.1286   76.2491   8.7321  0.8916  0.0959  0.0717\n4      7.5557  100.6894  10.0344  0.8519  0.0915  0.0715\n5      4.2683   21.7694   4.6658  0.9380  0.0605  0.0584\n6      3.4933   24.7964   4.9796 -2.9152  0.0719  0.0504\n7      4.0700   37.8345   6.1510  0.7525  0.0719  0.0499\n8      8.4900  113.8069  10.6680  0.8426  0.1045  0.0864\n9      6.6200   80.3094   8.9615  0.6018  0.1049  0.0823\nMean   6.7379  100.6310   9.3274  0.4370  0.0948  0.0734\nSD     2.3794   78.0262   3.6919  1.1212  0.0227  0.0173",
      "text/html": "<div>\n<style scoped>\n    .dataframe tbody tr th:only-of-type {\n        vertical-align: middle;\n    }\n\n    .dataframe tbody tr th {\n        vertical-align: top;\n    }\n\n    .dataframe thead th {\n        text-align: right;\n    }\n</style>\n<table border=\"1\" class=\"dataframe\">\n  <thead>\n    <tr style=\"text-align: right;\">\n      <th></th>\n      <th>MAE</th>\n      <th>MSE</th>\n      <th>RMSE</th>\n      <th>R2</th>\n      <th>RMSLE</th>\n      <th>MAPE</th>\n    </tr>\n  </thead>\n  <tbody>\n    <tr>\n      <th>0</th>\n      <td>5.9957</td>\n      <td>60.5046</td>\n      <td>7.7785</td>\n      <td>0.8817</td>\n      <td>0.0845</td>\n      <td>0.0700</td>\n    </tr>\n    <tr>\n      <th>1</th>\n      <td>9.4600</td>\n      <td>259.1411</td>\n      <td>16.0979</td>\n      <td>0.7275</td>\n      <td>0.1304</td>\n      <td>0.0839</td>\n    </tr>\n    <tr>\n      <th>2</th>\n      <td>11.2971</td>\n      <td>231.2096</td>\n      <td>15.2056</td>\n      <td>0.7977</td>\n      <td>0.1315</td>\n      <td>0.1098</td>\n    </tr>\n    <tr>\n      <th>3</th>\n      <td>6.1286</td>\n      <td>76.2491</td>\n      <td>8.7321</td>\n      <td>0.8916</td>\n      <td>0.0959</td>\n      <td>0.0717</td>\n    </tr>\n    <tr>\n      <th>4</th>\n      <td>7.5557</td>\n      <td>100.6894</td>\n      <td>10.0344</td>\n      <td>0.8519</td>\n      <td>0.0915</td>\n      <td>0.0715</td>\n    </tr>\n    <tr>\n      <th>5</th>\n      <td>4.2683</td>\n      <td>21.7694</td>\n      <td>4.6658</td>\n      <td>0.9380</td>\n      <td>0.0605</td>\n      <td>0.0584</td>\n    </tr>\n    <tr>\n      <th>6</th>\n      <td>3.4933</td>\n      <td>24.7964</td>\n      <td>4.9796</td>\n      <td>-2.9152</td>\n      <td>0.0719</td>\n      <td>0.0504</td>\n    </tr>\n    <tr>\n      <th>7</th>\n      <td>4.0700</td>\n      <td>37.8345</td>\n      <td>6.1510</td>\n      <td>0.7525</td>\n      <td>0.0719</td>\n      <td>0.0499</td>\n    </tr>\n    <tr>\n      <th>8</th>\n      <td>8.4900</td>\n      <td>113.8069</td>\n      <td>10.6680</td>\n      <td>0.8426</td>\n      <td>0.1045</td>\n      <td>0.0864</td>\n    </tr>\n    <tr>\n      <th>9</th>\n      <td>6.6200</td>\n      <td>80.3094</td>\n      <td>8.9615</td>\n      <td>0.6018</td>\n      <td>0.1049</td>\n      <td>0.0823</td>\n    </tr>\n    <tr>\n      <th>Mean</th>\n      <td>6.7379</td>\n      <td>100.6310</td>\n      <td>9.3274</td>\n      <td>0.4370</td>\n      <td>0.0948</td>\n      <td>0.0734</td>\n    </tr>\n    <tr>\n      <th>SD</th>\n      <td>2.3794</td>\n      <td>78.0262</td>\n      <td>3.6919</td>\n      <td>1.1212</td>\n      <td>0.0227</td>\n      <td>0.0173</td>\n    </tr>\n  </tbody>\n</table>\n</div>"
     },
     "metadata": {},
     "output_type": "display_data"
    },
    {
     "data": {
      "application/vnd.deepnote.dataframe.v2+json": {
       "row_count": 1,
       "column_count": 7,
       "columns": [
        {
         "name": "Model",
         "dtype": "object",
         "stats": {
          "unique_count": 1,
          "nan_count": 0,
          "categories": [
           {
            "name": "Random Forest Regressor",
            "count": 1
           }
          ]
         }
        },
        {
         "name": "MAE",
         "dtype": "float64",
         "stats": {
          "unique_count": 1,
          "nan_count": 0,
          "min": "5.5407",
          "max": "5.5407",
          "histogram": [
           {
            "bin_start": 5.0407,
            "bin_end": 5.1407,
            "count": 0
           },
           {
            "bin_start": 5.1407,
            "bin_end": 5.2407,
            "count": 0
           },
           {
            "bin_start": 5.2407,
            "bin_end": 5.3407,
            "count": 0
           },
           {
            "bin_start": 5.3407,
            "bin_end": 5.4407000000000005,
            "count": 0
           },
           {
            "bin_start": 5.4407000000000005,
            "bin_end": 5.5407,
            "count": 0
           },
           {
            "bin_start": 5.5407,
            "bin_end": 5.640700000000001,
            "count": 1
           },
           {
            "bin_start": 5.640700000000001,
            "bin_end": 5.7407,
            "count": 0
           },
           {
            "bin_start": 5.7407,
            "bin_end": 5.8407,
            "count": 0
           },
           {
            "bin_start": 5.8407,
            "bin_end": 5.9407000000000005,
            "count": 0
           },
           {
            "bin_start": 5.9407000000000005,
            "bin_end": 6.0407,
            "count": 0
           }
          ]
         }
        },
        {
         "name": "MSE",
         "dtype": "float64",
         "stats": {
          "unique_count": 1,
          "nan_count": 0,
          "min": "67.5902",
          "max": "67.5902",
          "histogram": [
           {
            "bin_start": 67.0902,
            "bin_end": 67.19019999999999,
            "count": 0
           },
           {
            "bin_start": 67.19019999999999,
            "bin_end": 67.2902,
            "count": 0
           },
           {
            "bin_start": 67.2902,
            "bin_end": 67.3902,
            "count": 0
           },
           {
            "bin_start": 67.3902,
            "bin_end": 67.4902,
            "count": 0
           },
           {
            "bin_start": 67.4902,
            "bin_end": 67.5902,
            "count": 0
           },
           {
            "bin_start": 67.5902,
            "bin_end": 67.69019999999999,
            "count": 1
           },
           {
            "bin_start": 67.69019999999999,
            "bin_end": 67.7902,
            "count": 0
           },
           {
            "bin_start": 67.7902,
            "bin_end": 67.8902,
            "count": 0
           },
           {
            "bin_start": 67.8902,
            "bin_end": 67.9902,
            "count": 0
           },
           {
            "bin_start": 67.9902,
            "bin_end": 68.0902,
            "count": 0
           }
          ]
         }
        },
        {
         "name": "RMSE",
         "dtype": "float64",
         "stats": {
          "unique_count": 1,
          "nan_count": 0,
          "min": "8.2213",
          "max": "8.2213",
          "histogram": [
           {
            "bin_start": 7.721299999999999,
            "bin_end": 7.821299999999999,
            "count": 0
           },
           {
            "bin_start": 7.821299999999999,
            "bin_end": 7.9213,
            "count": 0
           },
           {
            "bin_start": 7.9213,
            "bin_end": 8.0213,
            "count": 0
           },
           {
            "bin_start": 8.0213,
            "bin_end": 8.1213,
            "count": 0
           },
           {
            "bin_start": 8.1213,
            "bin_end": 8.2213,
            "count": 0
           },
           {
            "bin_start": 8.2213,
            "bin_end": 8.321299999999999,
            "count": 1
           },
           {
            "bin_start": 8.321299999999999,
            "bin_end": 8.421299999999999,
            "count": 0
           },
           {
            "bin_start": 8.421299999999999,
            "bin_end": 8.5213,
            "count": 0
           },
           {
            "bin_start": 8.5213,
            "bin_end": 8.6213,
            "count": 0
           },
           {
            "bin_start": 8.6213,
            "bin_end": 8.7213,
            "count": 0
           }
          ]
         }
        },
        {
         "name": "R2",
         "dtype": "float64",
         "stats": {
          "unique_count": 1,
          "nan_count": 0,
          "min": "0.9229",
          "max": "0.9229",
          "histogram": [
           {
            "bin_start": 0.42290000000000005,
            "bin_end": 0.5229,
            "count": 0
           },
           {
            "bin_start": 0.5229,
            "bin_end": 0.6229,
            "count": 0
           },
           {
            "bin_start": 0.6229,
            "bin_end": 0.7229000000000001,
            "count": 0
           },
           {
            "bin_start": 0.7229000000000001,
            "bin_end": 0.8229000000000001,
            "count": 0
           },
           {
            "bin_start": 0.8229000000000001,
            "bin_end": 0.9229,
            "count": 0
           },
           {
            "bin_start": 0.9229,
            "bin_end": 1.0229000000000001,
            "count": 1
           },
           {
            "bin_start": 1.0229000000000001,
            "bin_end": 1.1229,
            "count": 0
           },
           {
            "bin_start": 1.1229,
            "bin_end": 1.2229,
            "count": 0
           },
           {
            "bin_start": 1.2229,
            "bin_end": 1.3229000000000002,
            "count": 0
           },
           {
            "bin_start": 1.3229000000000002,
            "bin_end": 1.4229,
            "count": 0
           }
          ]
         }
        },
        {
         "name": "RMSLE",
         "dtype": "float64",
         "stats": {
          "unique_count": 1,
          "nan_count": 0,
          "min": "0.0758",
          "max": "0.0758",
          "histogram": [
           {
            "bin_start": -0.4242,
            "bin_end": -0.32420000000000004,
            "count": 0
           },
           {
            "bin_start": -0.32420000000000004,
            "bin_end": -0.2242,
            "count": 0
           },
           {
            "bin_start": -0.2242,
            "bin_end": -0.12419999999999998,
            "count": 0
           },
           {
            "bin_start": -0.12419999999999998,
            "bin_end": -0.0242,
            "count": 0
           },
           {
            "bin_start": -0.0242,
            "bin_end": 0.07579999999999998,
            "count": 0
           },
           {
            "bin_start": 0.07579999999999998,
            "bin_end": 0.17580000000000007,
            "count": 1
           },
           {
            "bin_start": 0.17580000000000007,
            "bin_end": 0.27580000000000005,
            "count": 0
           },
           {
            "bin_start": 0.27580000000000005,
            "bin_end": 0.3758,
            "count": 0
           },
           {
            "bin_start": 0.3758,
            "bin_end": 0.4758,
            "count": 0
           },
           {
            "bin_start": 0.4758,
            "bin_end": 0.5758,
            "count": 0
           }
          ]
         }
        },
        {
         "name": "MAPE",
         "dtype": "float64",
         "stats": {
          "unique_count": 1,
          "nan_count": 0,
          "min": "0.0566",
          "max": "0.0566",
          "histogram": [
           {
            "bin_start": -0.4434,
            "bin_end": -0.34340000000000004,
            "count": 0
           },
           {
            "bin_start": -0.34340000000000004,
            "bin_end": -0.2434,
            "count": 0
           },
           {
            "bin_start": -0.2434,
            "bin_end": -0.14339999999999997,
            "count": 0
           },
           {
            "bin_start": -0.14339999999999997,
            "bin_end": -0.043399999999999994,
            "count": 0
           },
           {
            "bin_start": -0.043399999999999994,
            "bin_end": 0.056599999999999984,
            "count": 0
           },
           {
            "bin_start": 0.056599999999999984,
            "bin_end": 0.15660000000000007,
            "count": 1
           },
           {
            "bin_start": 0.15660000000000007,
            "bin_end": 0.25660000000000005,
            "count": 0
           },
           {
            "bin_start": 0.25660000000000005,
            "bin_end": 0.35660000000000003,
            "count": 0
           },
           {
            "bin_start": 0.35660000000000003,
            "bin_end": 0.4566,
            "count": 0
           },
           {
            "bin_start": 0.4566,
            "bin_end": 0.5566,
            "count": 0
           }
          ]
         }
        },
        {
         "name": "_deepnote_index_column",
         "dtype": "int64"
        }
       ],
       "rows_top": [
        {
         "Model": "Random Forest Regressor",
         "MAE": 5.5407,
         "MSE": 67.5902,
         "RMSE": 8.2213,
         "R2": 0.9229,
         "RMSLE": 0.0758,
         "MAPE": 0.0566,
         "_deepnote_index_column": 0
        }
       ],
       "rows_bottom": null
      },
      "text/plain": "                     Model     MAE      MSE    RMSE      R2   RMSLE    MAPE\n0  Random Forest Regressor  5.5407  67.5902  8.2213  0.9229  0.0758  0.0566",
      "text/html": "<div>\n<style scoped>\n    .dataframe tbody tr th:only-of-type {\n        vertical-align: middle;\n    }\n\n    .dataframe tbody tr th {\n        vertical-align: top;\n    }\n\n    .dataframe thead th {\n        text-align: right;\n    }\n</style>\n<table border=\"1\" class=\"dataframe\">\n  <thead>\n    <tr style=\"text-align: right;\">\n      <th></th>\n      <th>Model</th>\n      <th>MAE</th>\n      <th>MSE</th>\n      <th>RMSE</th>\n      <th>R2</th>\n      <th>RMSLE</th>\n      <th>MAPE</th>\n    </tr>\n  </thead>\n  <tbody>\n    <tr>\n      <th>0</th>\n      <td>Random Forest Regressor</td>\n      <td>5.5407</td>\n      <td>67.5902</td>\n      <td>8.2213</td>\n      <td>0.9229</td>\n      <td>0.0758</td>\n      <td>0.0566</td>\n    </tr>\n  </tbody>\n</table>\n</div>"
     },
     "metadata": {},
     "output_type": "display_data"
    },
    {
     "name": "stderr",
     "text": "2021-06-18 05:03:02.959 | INFO     | src.helpers.experiment:create_ds_name:12 - dataframes/559_test_100_6_1.pkl\n2021-06-18 05:03:02.983 | INFO     | src.helpers.experiment:create_tsfresh_dataframe:19 - {'ohio_no': 559, 'scope': 'test', 'train_ds_size': 100, 'window_size': 6, 'prediction_horizon': 1, 'minimal_features': False}\n",
     "output_type": "stream"
    },
    {
     "data": {
      "text/plain": "<Figure size 432x288 with 1 Axes>",
      "image/png": "[encoded data removed]"
     },
     "metadata": {
      "needs_background": "light",
      "image/png": {
       "width": 281,
       "height": 278
      }
     },
     "output_type": "display_data"
    },
    {
     "data": {
      "text/plain": "<Figure size 432x288 with 1 Axes>",
      "image/png": "[encoded data removed]"
     },
     "metadata": {
      "needs_background": "light",
      "image/png": {
       "width": 375,
       "height": 262
      }
     },
     "output_type": "display_data"
    },
    {
     "name": "stderr",
     "text": "2021-06-18 05:03:03.665 | INFO     | src.helpers.experiment:create_tsfresh_dataframe:22 - Found existing picle file. Continuing...\n2021-06-18 05:03:03.667 | INFO     | src.helpers.dataframe:read_df:11 - Attempting to read from pickle file dataframes/559_test_100_6_1.pkl\n2021-06-18 05:03:04.585 | INFO     | __main__:run_experiment:48 - {'model': RandomForestRegressor(bootstrap=True, ccp_alpha=0.0, criterion='mse',\n                      max_depth=None, max_features='auto', max_leaf_nodes=None,\n                      max_samples=None, min_impurity_decrease=0.0,\n                      min_impurity_split=None, min_samples_leaf=1,\n                      min_samples_split=2, min_weight_fraction_leaf=0.0,\n                      n_estimators=100, n_jobs=-1, oob_score=False,\n                      random_state=1974, verbose=0, warm_start=False), 'model_name': 'RandomForestRegressor', 'internal_cga_analysis': [28, 1, 0, 0, 0], 'internal_rmse': 8.221323410539792, 'internal_rmadex': 8.910538649287322, 'unseen_cga_analysis': [0, 9, 0, 85, 0], 'unseen_rmse': 166.98403891747108, 'unseen_rmadex': 25434.040689417096}\n{'GradientBoostingRegressor': {'model': GradientBoostingRegressor(alpha=0.9, ccp_alpha=0.0, criterion='friedman_mse',\n                          init=None, learning_rate=0.1, loss='ls', max_depth=3,\n                          max_features=None, max_leaf_nodes=None,\n                          min_impurity_decrease=0.0, min_impurity_split=None,\n                          min_samples_leaf=1, min_samples_split=2,\n                          min_weight_fraction_leaf=0.0, n_estimators=100,\n                          n_iter_no_change=None, presort='deprecated',\n                          random_state=1974, subsample=1.0, tol=0.0001,\n                          validation_fraction=0.1, verbose=0, warm_start=False), 'model_name': 'GradientBoostingRegressor', 'internal_cga_analysis': [27, 2, 0, 0, 0], 'internal_rmse': 10.283941812187193, 'internal_rmadex': 11.13894160487266, 'unseen_cga_analysis': [0, 9, 0, 85, 0], 'unseen_rmse': 165.79541384792708, 'unseen_rmadex': 26288.862475517828}, 'ExtraTreesRegressor': {'model': ExtraTreesRegressor(bootstrap=False, ccp_alpha=0.0, criterion='mse',\n                    max_depth=None, max_features='auto', max_leaf_nodes=None,\n                    max_samples=None, min_impurity_decrease=0.0,\n                    min_impurity_split=None, min_samples_leaf=1,\n                    min_samples_split=2, min_weight_fraction_leaf=0.0,\n                    n_estimators=100, n_jobs=-1, oob_score=False,\n                    random_state=1974, verbose=0, warm_start=False), 'model_name': 'ExtraTreesRegressor', 'internal_cga_analysis': [25, 2, 0, 2, 0], 'internal_rmse': 10.927769750691947, 'internal_rmadex': 12.678007072761455, 'unseen_cga_analysis': [0, 9, 0, 85, 0], 'unseen_rmse': 162.34306829162873, 'unseen_rmadex': 19847.05375718746}, 'RandomForestRegressor': {'model': RandomForestRegressor(bootstrap=True, ccp_alpha=0.0, criterion='mse',\n                      max_depth=None, max_features='auto', max_leaf_nodes=None,\n                      max_samples=None, min_impurity_decrease=0.0,\n                      min_impurity_split=None, min_samples_leaf=1,\n                      min_samples_split=2, min_weight_fraction_leaf=0.0,\n                      n_estimators=100, n_jobs=-1, oob_score=False,\n                      random_state=1974, verbose=0, warm_start=False), 'model_name': 'RandomForestRegressor', 'internal_cga_analysis': [28, 1, 0, 0, 0], 'internal_rmse': 8.221323410539792, 'internal_rmadex': 8.910538649287322, 'unseen_cga_analysis': [0, 9, 0, 85, 0], 'unseen_rmse': 166.98403891747108, 'unseen_rmadex': 25434.040689417096}}\n",
     "output_type": "stream"
    },
    {
     "data": {
      "text/plain": "<Figure size 432x288 with 1 Axes>",
      "image/png": "[encoded data removed]"
     },
     "metadata": {
      "needs_background": "light",
      "image/png": {
       "width": 281,
       "height": 278
      }
     },
     "output_type": "display_data"
    }
   ],
   "execution_count": null
  },
  {
   "cell_type": "code",
   "metadata": {
    "tags": [],
    "cell_id": "00003-291ac73e-8000-4e88-a284-750c0732c6de",
    "deepnote_to_be_reexecuted": false,
    "source_hash": "6d30f04e",
    "execution_start": 1623992584947,
    "execution_millis": 13,
    "deepnote_cell_type": "code"
   },
   "source": "output",
   "outputs": [
    {
     "output_type": "execute_result",
     "execution_count": 4,
     "data": {
      "text/plain": "{'GradientBoostingRegressor': {'model': GradientBoostingRegressor(alpha=0.9, ccp_alpha=0.0, criterion='friedman_mse',\n                            init=None, learning_rate=0.1, loss='ls', max_depth=3,\n                            max_features=None, max_leaf_nodes=None,\n                            min_impurity_decrease=0.0, min_impurity_split=None,\n                            min_samples_leaf=1, min_samples_split=2,\n                            min_weight_fraction_leaf=0.0, n_estimators=100,\n                            n_iter_no_change=None, presort='deprecated',\n                            random_state=1974, subsample=1.0, tol=0.0001,\n                            validation_fraction=0.1, verbose=0, warm_start=False),\n  'model_name': 'GradientBoostingRegressor',\n  'internal_cga_analysis': [27, 2, 0, 0, 0],\n  'internal_rmse': 10.283941812187193,\n  'internal_rmadex': 11.13894160487266,\n  'unseen_cga_analysis': [0, 9, 0, 85, 0],\n  'unseen_rmse': 165.79541384792708,\n  'unseen_rmadex': 26288.862475517828},\n 'ExtraTreesRegressor': {'model': ExtraTreesRegressor(bootstrap=False, ccp_alpha=0.0, criterion='mse',\n                      max_depth=None, max_features='auto', max_leaf_nodes=None,\n                      max_samples=None, min_impurity_decrease=0.0,\n                      min_impurity_split=None, min_samples_leaf=1,\n                      min_samples_split=2, min_weight_fraction_leaf=0.0,\n                      n_estimators=100, n_jobs=-1, oob_score=False,\n                      random_state=1974, verbose=0, warm_start=False),\n  'model_name': 'ExtraTreesRegressor',\n  'internal_cga_analysis': [25, 2, 0, 2, 0],\n  'internal_rmse': 10.927769750691947,\n  'internal_rmadex': 12.678007072761455,\n  'unseen_cga_analysis': [0, 9, 0, 85, 0],\n  'unseen_rmse': 162.34306829162873,\n  'unseen_rmadex': 19847.05375718746},\n 'RandomForestRegressor': {'model': RandomForestRegressor(bootstrap=True, ccp_alpha=0.0, criterion='mse',\n                        max_depth=None, max_features='auto', max_leaf_nodes=None,\n                        max_samples=None, min_impurity_decrease=0.0,\n                        min_impurity_split=None, min_samples_leaf=1,\n                        min_samples_split=2, min_weight_fraction_leaf=0.0,\n                        n_estimators=100, n_jobs=-1, oob_score=False,\n                        random_state=1974, verbose=0, warm_start=False),\n  'model_name': 'RandomForestRegressor',\n  'internal_cga_analysis': [28, 1, 0, 0, 0],\n  'internal_rmse': 8.221323410539792,\n  'internal_rmadex': 8.910538649287322,\n  'unseen_cga_analysis': [0, 9, 0, 85, 0],\n  'unseen_rmse': 166.98403891747108,\n  'unseen_rmadex': 25434.040689417096}}"
     },
     "metadata": {}
    }
   ],
   "execution_count": null
  },
  {
   "cell_type": "code",
   "metadata": {
    "tags": [],
    "cell_id": "00004-639f8837-ce58-4b6a-ad3f-b58da081ec4e",
    "deepnote_to_be_reexecuted": false,
    "source_hash": "a7e38489",
    "execution_start": 1623992584957,
    "execution_millis": 430,
    "deepnote_cell_type": "code"
   },
   "source": "pandas.DataFrame.from_dict(output, orient='index')",
   "outputs": [
    {
     "output_type": "execute_result",
     "execution_count": 5,
     "data": {
      "application/vnd.deepnote.dataframe.v2+json": {
       "row_count": 3,
       "column_count": 8,
       "columns": [
        {
         "name": "model",
         "dtype": "object",
         "stats": {
          "unique_count": 3,
          "nan_count": 0,
          "categories": [
           {
            "name": "GradientBoostingRegressor(alpha=0.9, ccp_alpha=0.0, criterion='friedman_mse',\n                          init=None, learning_rate=0.1, loss='ls', max_depth=3,\n                          max_features=None, max_leaf_nodes=None,\n                          min_impurity_decrease=0.0, min_impurity_split=None,\n                          min_samples_leaf=1, min_samples_split=2,\n                          min_weight_fraction_leaf=0.0, n_estimators=100,\n                          n_iter_no_change=None, presort='deprecated',\n                          random_state=1974, subsample=1.0, tol=0.0001,\n                          validation_fraction=0.1, verbose=0, warm_start=False)",
            "count": 1
           },
           {
            "name": "ExtraTreesRegressor(bootstrap=False, ccp_alpha=0.0, criterion='mse',\n                    max_depth=None, max_features='auto', max_leaf_nodes=None,\n                    max_samples=None, min_impurity_decrease=0.0,\n                    min_impurity_split=None, min_samples_leaf=1,\n                    min_samples_split=2, min_weight_fraction_leaf=0.0,\n                    n_estimators=100, n_jobs=-1, oob_score=False,\n                    random_state=1974, verbose=0, warm_start=False)",
            "count": 1
           },
           {
            "name": "RandomForestRegressor(bootstrap=True, ccp_alpha=0.0, criterion='mse',\n                      max_depth=None, max_features='auto', max_leaf_nodes=None,\n                      max_samples=None, min_impurity_decrease=0.0,\n                      min_impurity_split=None, min_samples_leaf=1,\n                      min_samples_split=2, min_weight_fraction_leaf=0.0,\n                      n_estimators=100, n_jobs=-1, oob_score=False,\n                      random_state=1974, verbose=0, warm_start=False)",
            "count": 1
           }
          ]
         }
        },
        {
         "name": "model_name",
         "dtype": "object",
         "stats": {
          "unique_count": 3,
          "nan_count": 0,
          "categories": [
           {
            "name": "GradientBoostingRegressor",
            "count": 1
           },
           {
            "name": "ExtraTreesRegressor",
            "count": 1
           },
           {
            "name": "RandomForestRegressor",
            "count": 1
           }
          ]
         }
        },
        {
         "name": "internal_cga_analysis",
         "dtype": "object",
         "stats": {
          "unique_count": 3,
          "nan_count": 0,
          "categories": [
           {
            "name": "[27, 2, 0, 0, 0]",
            "count": 1
           },
           {
            "name": "[25, 2, 0, 2, 0]",
            "count": 1
           },
           {
            "name": "[28, 1, 0, 0, 0]",
            "count": 1
           }
          ]
         }
        },
        {
         "name": "internal_rmse",
         "dtype": "float64",
         "stats": {
          "unique_count": 3,
          "nan_count": 0,
          "min": "8.221323410539792",
          "max": "10.927769750691947",
          "histogram": [
           {
            "bin_start": 8.221323410539792,
            "bin_end": 8.491968044555009,
            "count": 1
           },
           {
            "bin_start": 8.491968044555009,
            "bin_end": 8.762612678570223,
            "count": 0
           },
           {
            "bin_start": 8.762612678570223,
            "bin_end": 9.03325731258544,
            "count": 0
           },
           {
            "bin_start": 9.03325731258544,
            "bin_end": 9.303901946600654,
            "count": 0
           },
           {
            "bin_start": 9.303901946600654,
            "bin_end": 9.57454658061587,
            "count": 0
           },
           {
            "bin_start": 9.57454658061587,
            "bin_end": 9.845191214631086,
            "count": 0
           },
           {
            "bin_start": 9.845191214631086,
            "bin_end": 10.1158358486463,
            "count": 0
           },
           {
            "bin_start": 10.1158358486463,
            "bin_end": 10.386480482661517,
            "count": 1
           },
           {
            "bin_start": 10.386480482661517,
            "bin_end": 10.657125116676731,
            "count": 0
           },
           {
            "bin_start": 10.657125116676731,
            "bin_end": 10.927769750691947,
            "count": 1
           }
          ]
         }
        },
        {
         "name": "internal_rmadex",
         "dtype": "float64",
         "stats": {
          "unique_count": 3,
          "nan_count": 0,
          "min": "8.910538649287322",
          "max": "12.678007072761455",
          "histogram": [
           {
            "bin_start": 8.910538649287322,
            "bin_end": 9.287285491634735,
            "count": 1
           },
           {
            "bin_start": 9.287285491634735,
            "bin_end": 9.664032333982147,
            "count": 0
           },
           {
            "bin_start": 9.664032333982147,
            "bin_end": 10.040779176329561,
            "count": 0
           },
           {
            "bin_start": 10.040779176329561,
            "bin_end": 10.417526018676975,
            "count": 0
           },
           {
            "bin_start": 10.417526018676975,
            "bin_end": 10.794272861024389,
            "count": 0
           },
           {
            "bin_start": 10.794272861024389,
            "bin_end": 11.171019703371801,
            "count": 1
           },
           {
            "bin_start": 11.171019703371801,
            "bin_end": 11.547766545719215,
            "count": 0
           },
           {
            "bin_start": 11.547766545719215,
            "bin_end": 11.924513388066629,
            "count": 0
           },
           {
            "bin_start": 11.924513388066629,
            "bin_end": 12.30126023041404,
            "count": 0
           },
           {
            "bin_start": 12.30126023041404,
            "bin_end": 12.678007072761455,
            "count": 1
           }
          ]
         }
        },
        {
         "name": "unseen_cga_analysis",
         "dtype": "object",
         "stats": {
          "unique_count": 3,
          "nan_count": 0,
          "categories": [
           {
            "name": "[0, 9, 0, 85, 0]",
            "count": 3
           }
          ]
         }
        },
        {
         "name": "unseen_rmse",
         "dtype": "float64",
         "stats": {
          "unique_count": 3,
          "nan_count": 0,
          "min": "162.34306829162873",
          "max": "166.98403891747108",
          "histogram": [
           {
            "bin_start": 162.34306829162873,
            "bin_end": 162.80716535421297,
            "count": 1
           },
           {
            "bin_start": 162.80716535421297,
            "bin_end": 163.27126241679719,
            "count": 0
           },
           {
            "bin_start": 163.27126241679719,
            "bin_end": 163.73535947938143,
            "count": 0
           },
           {
            "bin_start": 163.73535947938143,
            "bin_end": 164.19945654196567,
            "count": 0
           },
           {
            "bin_start": 164.19945654196567,
            "bin_end": 164.66355360454992,
            "count": 0
           },
           {
            "bin_start": 164.66355360454992,
            "bin_end": 165.12765066713413,
            "count": 0
           },
           {
            "bin_start": 165.12765066713413,
            "bin_end": 165.59174772971838,
            "count": 0
           },
           {
            "bin_start": 165.59174772971838,
            "bin_end": 166.05584479230262,
            "count": 1
           },
           {
            "bin_start": 166.05584479230262,
            "bin_end": 166.51994185488684,
            "count": 0
           },
           {
            "bin_start": 166.51994185488684,
            "bin_end": 166.98403891747108,
            "count": 1
           }
          ]
         }
        },
        {
         "name": "unseen_rmadex",
         "dtype": "float64",
         "stats": {
          "unique_count": 3,
          "nan_count": 0,
          "min": "19847.05375718746",
          "max": "26288.862475517828",
          "histogram": [
           {
            "bin_start": 19847.05375718746,
            "bin_end": 20491.234629020495,
            "count": 1
           },
           {
            "bin_start": 20491.234629020495,
            "bin_end": 21135.415500853534,
            "count": 0
           },
           {
            "bin_start": 21135.415500853534,
            "bin_end": 21779.59637268657,
            "count": 0
           },
           {
            "bin_start": 21779.59637268657,
            "bin_end": 22423.777244519606,
            "count": 0
           },
           {
            "bin_start": 22423.777244519606,
            "bin_end": 23067.958116352645,
            "count": 0
           },
           {
            "bin_start": 23067.958116352645,
            "bin_end": 23712.13898818568,
            "count": 0
           },
           {
            "bin_start": 23712.13898818568,
            "bin_end": 24356.319860018717,
            "count": 0
           },
           {
            "bin_start": 24356.319860018717,
            "bin_end": 25000.500731851753,
            "count": 0
           },
           {
            "bin_start": 25000.500731851753,
            "bin_end": 25644.681603684792,
            "count": 1
           },
           {
            "bin_start": 25644.681603684792,
            "bin_end": 26288.862475517828,
            "count": 1
           }
          ]
         }
        },
        {
         "name": "_deepnote_index_column",
         "dtype": "object"
        }
       ],
       "rows_top": [
        {
         "model": "GradientBoostingRegressor(alpha=0.9, ccp_alpha=0.0, criterion='friedman_mse',\n                     …",
         "model_name": "GradientBoostingRegressor",
         "internal_cga_analysis": "[27, 2, 0, 0, 0]",
         "internal_rmse": 10.283941812187193,
         "internal_rmadex": 11.13894160487266,
         "unseen_cga_analysis": "[0, 9, 0, 85, 0]",
         "unseen_rmse": 165.79541384792708,
         "unseen_rmadex": 26288.862475517828,
         "_deepnote_index_column": "GradientBoostingRegressor"
        },
        {
         "model": "ExtraTreesRegressor(bootstrap=False, ccp_alpha=0.0, criterion='mse',\n                    max_depth=…",
         "model_name": "ExtraTreesRegressor",
         "internal_cga_analysis": "[25, 2, 0, 2, 0]",
         "internal_rmse": 10.927769750691947,
         "internal_rmadex": 12.678007072761455,
         "unseen_cga_analysis": "[0, 9, 0, 85, 0]",
         "unseen_rmse": 162.34306829162873,
         "unseen_rmadex": 19847.05375718746,
         "_deepnote_index_column": "ExtraTreesRegressor"
        },
        {
         "model": "RandomForestRegressor(bootstrap=True, ccp_alpha=0.0, criterion='mse',\n                      max_dep…",
         "model_name": "RandomForestRegressor",
         "internal_cga_analysis": "[28, 1, 0, 0, 0]",
         "internal_rmse": 8.221323410539792,
         "internal_rmadex": 8.910538649287322,
         "unseen_cga_analysis": "[0, 9, 0, 85, 0]",
         "unseen_rmse": 166.98403891747108,
         "unseen_rmadex": 25434.040689417096,
         "_deepnote_index_column": "RandomForestRegressor"
        }
       ],
       "rows_bottom": null
      },
      "text/plain": "                                                                       model  \\\nGradientBoostingRegressor  ([DecisionTreeRegressor(ccp_alpha=0.0, criteri...   \nExtraTreesRegressor        (ExtraTreeRegressor(ccp_alpha=0.0, criterion='...   \nRandomForestRegressor      (DecisionTreeRegressor(ccp_alpha=0.0, criterio...   \n\n                                          model_name internal_cga_analysis  \\\nGradientBoostingRegressor  GradientBoostingRegressor      [27, 2, 0, 0, 0]   \nExtraTreesRegressor              ExtraTreesRegressor      [25, 2, 0, 2, 0]   \nRandomForestRegressor          RandomForestRegressor      [28, 1, 0, 0, 0]   \n\n                           internal_rmse  internal_rmadex unseen_cga_analysis  \\\nGradientBoostingRegressor      10.283942        11.138942    [0, 9, 0, 85, 0]   \nExtraTreesRegressor            10.927770        12.678007    [0, 9, 0, 85, 0]   \nRandomForestRegressor           8.221323         8.910539    [0, 9, 0, 85, 0]   \n\n                           unseen_rmse  unseen_rmadex  \nGradientBoostingRegressor   165.795414   26288.862476  \nExtraTreesRegressor         162.343068   19847.053757  \nRandomForestRegressor       166.984039   25434.040689  ",
      "text/html": "<div>\n<style scoped>\n    .dataframe tbody tr th:only-of-type {\n        vertical-align: middle;\n    }\n\n    .dataframe tbody tr th {\n        vertical-align: top;\n    }\n\n    .dataframe thead th {\n        text-align: right;\n    }\n</style>\n<table border=\"1\" class=\"dataframe\">\n  <thead>\n    <tr style=\"text-align: right;\">\n      <th></th>\n      <th>model</th>\n      <th>model_name</th>\n      <th>internal_cga_analysis</th>\n      <th>internal_rmse</th>\n      <th>internal_rmadex</th>\n      <th>unseen_cga_analysis</th>\n      <th>unseen_rmse</th>\n      <th>unseen_rmadex</th>\n    </tr>\n  </thead>\n  <tbody>\n    <tr>\n      <th>GradientBoostingRegressor</th>\n      <td>([DecisionTreeRegressor(ccp_alpha=0.0, criteri...</td>\n      <td>GradientBoostingRegressor</td>\n      <td>[27, 2, 0, 0, 0]</td>\n      <td>10.283942</td>\n      <td>11.138942</td>\n      <td>[0, 9, 0, 85, 0]</td>\n      <td>165.795414</td>\n      <td>26288.862476</td>\n    </tr>\n    <tr>\n      <th>ExtraTreesRegressor</th>\n      <td>(ExtraTreeRegressor(ccp_alpha=0.0, criterion='...</td>\n      <td>ExtraTreesRegressor</td>\n      <td>[25, 2, 0, 2, 0]</td>\n      <td>10.927770</td>\n      <td>12.678007</td>\n      <td>[0, 9, 0, 85, 0]</td>\n      <td>162.343068</td>\n      <td>19847.053757</td>\n    </tr>\n    <tr>\n      <th>RandomForestRegressor</th>\n      <td>(DecisionTreeRegressor(ccp_alpha=0.0, criterio...</td>\n      <td>RandomForestRegressor</td>\n      <td>[28, 1, 0, 0, 0]</td>\n      <td>8.221323</td>\n      <td>8.910539</td>\n      <td>[0, 9, 0, 85, 0]</td>\n      <td>166.984039</td>\n      <td>25434.040689</td>\n    </tr>\n  </tbody>\n</table>\n</div>"
     },
     "metadata": {}
    }
   ],
   "execution_count": null
  },
  {
   "cell_type": "code",
   "metadata": {
    "tags": [],
    "cell_id": "00005-509cf4c7-f0c0-4711-8996-50233f238ce8",
    "deepnote_to_be_reexecuted": false,
    "source_hash": "b623e53d",
    "execution_start": 1623992585427,
    "execution_millis": 0,
    "deepnote_cell_type": "code"
   },
   "source": "",
   "outputs": [],
   "execution_count": null
  },
  {
   "cell_type": "markdown",
   "source": "<a style='text-decoration:none;line-height:16px;display:flex;color:#5B5B62;padding:10px;justify-content:end;' href='https://deepnote.com?utm_source=created-in-deepnote-cell&projectId=d560f233-0034-499f-bc4e-7ada8795cb9f' target=\"_blank\">\n<img alt='Created in deepnote.com' style='display:inline;max-height:16px;margin:0px;margin-right:7.5px;' src='data:image/svg+xml;base64,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' > </img>\nCreated in <span style='font-weight:600;margin-left:4px;'>Deepnote</span></a>",
   "metadata": {
    "tags": [],
    "created_in_deepnote_cell": true,
    "deepnote_cell_type": "markdown"
   }
  }
 ],
 "nbformat": 4,
 "nbformat_minor": 2,
 "metadata": {
  "orig_nbformat": 2,
  "deepnote": {
   "is_reactive": false
  },
  "deepnote_notebook_id": "ae0e57d1-9ff4-4e55-8afd-9efad26fceea",
  "deepnote_execution_queue": []
 }
}