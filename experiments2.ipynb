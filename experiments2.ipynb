{
 "cells": [
  {
   "cell_type": "code",
   "metadata": {
    "tags": [],
    "cell_id": "00000-29836531-53af-471b-be63-2327ca6cfb1b",
    "deepnote_to_be_reexecuted": false,
    "source_hash": "1af276a1",
    "execution_start": 1623928710203,
    "execution_millis": 130129,
    "deepnote_cell_type": "code"
   },
   "source": "!pip install loguru\n!pip install pycaret[full]\n!pip install lxml\n!pip install tsfresh",
   "outputs": [
    {
     "name": "stdout",
     "text": "Collecting loguru\n  Downloading loguru-0.5.3-py3-none-any.whl (57 kB)\n\u001b[K     |████████████████████████████████| 57 kB 9.3 MB/s \n\u001b[?25hInstalling collected packages: loguru\nSuccessfully installed loguru-0.5.3\nCollecting pycaret[full]\n  Downloading pycaret-2.3.1-py3-none-any.whl (261 kB)\n\u001b[K     |████████████████████████████████| 261 kB 13.7 MB/s \n\u001b[?25hCollecting mlxtend>=0.17.0\n  Downloading mlxtend-0.18.0-py2.py3-none-any.whl (1.3 MB)\n\u001b[K     |████████████████████████████████| 1.3 MB 35.6 MB/s \n\u001b[?25hRequirement already satisfied: IPython in /shared-libs/python3.8/py-core/lib/python3.8/site-packages (from pycaret[full]) (7.24.1)\nCollecting wordcloud\n  Downloading wordcloud-1.8.1-cp38-cp38-manylinux1_x86_64.whl (371 kB)\n\u001b[K     |████████████████████████████████| 371 kB 35.7 MB/s \n\u001b[?25hCollecting spacy<2.4.0\n  Downloading spacy-2.3.7-cp38-cp38-manylinux_2_17_x86_64.manylinux2014_x86_64.whl (10.5 MB)\n\u001b[K     |████████████████████████████████| 10.5 MB 33.4 MB/s \n\u001b[?25hCollecting lightgbm>=2.3.1\n  Downloading lightgbm-3.2.1-py3-none-manylinux1_x86_64.whl (2.0 MB)\n\u001b[K     |████████████████████████████████| 2.0 MB 36.4 MB/s \n\u001b[?25hCollecting kmodes>=0.10.1\n  Downloading kmodes-0.11.0-py2.py3-none-any.whl (18 kB)\nCollecting mlflow\n  Downloading mlflow-1.17.0-py3-none-any.whl (14.2 MB)\n\u001b[K     |████████████████████████████████| 14.2 MB 34.0 MB/s \n\u001b[?25hCollecting pandas-profiling>=2.8.0\n  Downloading pandas_profiling-3.0.0-py2.py3-none-any.whl (248 kB)\n\u001b[K     |████████████████████████████████| 248 kB 63.7 MB/s \n\u001b[?25hRequirement already satisfied: nltk in /shared-libs/python3.8/py/lib/python3.8/site-packages (from pycaret[full]) (3.6.2)\nRequirement already satisfied: seaborn in /shared-libs/python3.8/py/lib/python3.8/site-packages (from pycaret[full]) (0.11.1)\nRequirement already satisfied: textblob in /shared-libs/python3.8/py/lib/python3.8/site-packages (from pycaret[full]) (0.15.3)\nCollecting ipywidgets\n  Downloading ipywidgets-7.6.3-py2.py3-none-any.whl (121 kB)\n\u001b[K     |████████████████████████████████| 121 kB 86.1 MB/s \n\u001b[?25hCollecting cufflinks>=0.17.0\n  Downloading cufflinks-0.17.3.tar.gz (81 kB)\n\u001b[K     |████████████████████████████████| 81 kB 17.0 MB/s \n\u001b[?25hCollecting scikit-learn==0.23.2\n  Downloading scikit_learn-0.23.2-cp38-cp38-manylinux1_x86_64.whl (6.8 MB)\n\u001b[K     |████████████████████████████████| 6.8 MB 71.7 MB/s \n\u001b[?25hCollecting umap-learn\n  Downloading umap-learn-0.5.1.tar.gz (80 kB)\n\u001b[K     |████████████████████████████████| 80 kB 22.8 MB/s \n\u001b[?25hRequirement already satisfied: numpy==1.19.5 in /shared-libs/python3.8/py/lib/python3.8/site-packages (from pycaret[full]) (1.19.5)\nCollecting scikit-plot\n  Downloading scikit_plot-0.3.7-py3-none-any.whl (33 kB)\nCollecting Boruta\n  Downloading Boruta-0.3-py3-none-any.whl (56 kB)\n\u001b[K     |████████████████████████████████| 56 kB 12.4 MB/s \n\u001b[?25hRequirement already satisfied: matplotlib in /shared-libs/python3.8/py/lib/python3.8/site-packages (from pycaret[full]) (3.4.2)\nCollecting yellowbrick>=1.0.1\n  Downloading yellowbrick-1.3.post1-py3-none-any.whl (271 kB)\n\u001b[K     |████████████████████████████████| 271 kB 81.2 MB/s \n\u001b[?25hCollecting gensim<4.0.0\n  Downloading gensim-3.8.3-cp38-cp38-manylinux1_x86_64.whl (24.2 MB)\n\u001b[K     |████████████████████████████████| 24.2 MB 62.3 MB/s \n\u001b[?25hRequirement already satisfied: pandas in /shared-libs/python3.8/py/lib/python3.8/site-packages (from pycaret[full]) (1.2.4)\nRequirement already satisfied: joblib in /shared-libs/python3.8/py/lib/python3.8/site-packages (from pycaret[full]) (1.0.1)\nRequirement already satisfied: plotly>=4.4.1 in /shared-libs/python3.8/py/lib/python3.8/site-packages (from pycaret[full]) (4.14.3)\nCollecting pyLDAvis\n  Downloading pyLDAvis-3.3.1.tar.gz (1.7 MB)\n\u001b[K     |████████████████████████████████| 1.7 MB 66.6 MB/s \n\u001b[?25h  Installing build dependencies ... \u001b[?25ldone\n\u001b[?25h  Getting requirements to build wheel ... \u001b[?25ldone\n\u001b[?25h  Installing backend dependencies ... \u001b[?25ldone\n\u001b[?25h    Preparing wheel metadata ... \u001b[?25ldone\n\u001b[?25hCollecting pyod\n  Downloading pyod-0.8.9.tar.gz (104 kB)\n\u001b[K     |████████████████████████████████| 104 kB 54.8 MB/s \n\u001b[?25hCollecting scipy<=1.5.4\n  Downloading scipy-1.5.4-cp38-cp38-manylinux1_x86_64.whl (25.8 MB)\n\u001b[K     |████████████████████████████████| 25.8 MB 73.3 MB/s \n\u001b[?25hCollecting imbalanced-learn==0.7.0\n  Downloading imbalanced_learn-0.7.0-py3-none-any.whl (167 kB)\n\u001b[K     |████████████████████████████████| 167 kB 83.1 MB/s \n\u001b[?25hCollecting psutil\n  Downloading psutil-5.8.0-cp38-cp38-manylinux2010_x86_64.whl (296 kB)\n\u001b[K     |████████████████████████████████| 296 kB 89.5 MB/s \n\u001b[?25hCollecting google-cloud-storage\n  Downloading google_cloud_storage-1.38.0-py2.py3-none-any.whl (103 kB)\n\u001b[K     |████████████████████████████████| 103 kB 83.9 MB/s \n\u001b[?25hCollecting xgboost>=1.1.0\n  Downloading xgboost-1.4.2-py3-none-manylinux2010_x86_64.whl (166.7 MB)\n\u001b[K     |████████████████████████████████| 166.7 MB 40.2 MB/s \n\u001b[?25hCollecting ray[tune]>=1.0.0\n  Downloading ray-1.4.0-cp38-cp38-manylinux2014_x86_64.whl (49.2 MB)\n\u001b[K     |████████████████████████████████| 49.2 MB 52.4 MB/s \n\u001b[?25hCollecting tune-sklearn>=0.2.1\n  Downloading tune_sklearn-0.3.0-py3-none-any.whl (39 kB)\nCollecting awscli\n  Downloading awscli-1.19.96-py2.py3-none-any.whl (3.6 MB)\n\u001b[K     |████████████████████████████████| 3.6 MB 66.5 MB/s \n\u001b[?25hCollecting hyperopt\n  Downloading hyperopt-0.2.5-py2.py3-none-any.whl (965 kB)\n\u001b[K     |████████████████████████████████| 965 kB 67.7 MB/s \n\u001b[?25hCollecting catboost>=0.23.2\n  Downloading catboost-0.26-cp38-none-manylinux1_x86_64.whl (69.2 MB)\n\u001b[K     |████████████████████████████████| 69.2 MB 191 kB/s \n\u001b[?25hCollecting scikit-optimize>=0.8.1\n  Downloading scikit_optimize-0.8.1-py2.py3-none-any.whl (101 kB)\n\u001b[K     |████████████████████████████████| 101 kB 9.9 MB/s \n\u001b[?25hRequirement already satisfied: azure-storage-blob in /shared-libs/python3.8/py/lib/python3.8/site-packages (from pycaret[full]) (12.8.1)\nCollecting optuna\n  Downloading optuna-2.8.0-py3-none-any.whl (301 kB)\n\u001b[K     |████████████████████████████████| 301 kB 80.8 MB/s \n\u001b[?25hCollecting shap\n  Downloading shap-0.39.0.tar.gz (356 kB)\n\u001b[K     |████████████████████████████████| 356 kB 78.6 MB/s \n\u001b[?25hRequirement already satisfied: threadpoolctl>=2.0.0 in /shared-libs/python3.8/py/lib/python3.8/site-packages (from scikit-learn==0.23.2->pycaret[full]) (2.1.0)\nCollecting graphviz\n  Downloading graphviz-0.16-py2.py3-none-any.whl (19 kB)\nRequirement already satisfied: six in /shared-libs/python3.8/py-core/lib/python3.8/site-packages (from catboost>=0.23.2->pycaret[full]) (1.16.0)\nCollecting colorlover>=0.2.1\n  Downloading colorlover-0.3.0-py3-none-any.whl (8.9 kB)\nRequirement already satisfied: setuptools>=34.4.1 in /root/venv/lib/python3.8/site-packages (from cufflinks>=0.17.0->pycaret[full]) (57.0.0)\nRequirement already satisfied: smart-open>=1.8.1 in /shared-libs/python3.8/py/lib/python3.8/site-packages (from gensim<4.0.0->pycaret[full]) (3.0.0)\nRequirement already satisfied: traitlets>=4.2 in /shared-libs/python3.8/py-core/lib/python3.8/site-packages (from IPython->pycaret[full]) (5.0.5)\nRequirement already satisfied: pexpect>4.3 in /shared-libs/python3.8/py-core/lib/python3.8/site-packages (from IPython->pycaret[full]) (4.8.0)\nRequirement already satisfied: prompt-toolkit!=3.0.0,!=3.0.1,<3.1.0,>=2.0.0 in /shared-libs/python3.8/py-core/lib/python3.8/site-packages (from IPython->pycaret[full]) (3.0.18)\nRequirement already satisfied: jedi>=0.16 in /shared-libs/python3.8/py-core/lib/python3.8/site-packages (from IPython->pycaret[full]) (0.17.2)\nRequirement already satisfied: pickleshare in /shared-libs/python3.8/py-core/lib/python3.8/site-packages (from IPython->pycaret[full]) (0.7.5)\nRequirement already satisfied: pygments in /shared-libs/python3.8/py-core/lib/python3.8/site-packages (from IPython->pycaret[full]) (2.9.0)\nRequirement already satisfied: matplotlib-inline in /shared-libs/python3.8/py-core/lib/python3.8/site-packages (from IPython->pycaret[full]) (0.1.2)\nRequirement already satisfied: backcall in /shared-libs/python3.8/py-core/lib/python3.8/site-packages (from IPython->pycaret[full]) (0.2.0)\nRequirement already satisfied: decorator in /shared-libs/python3.8/py-core/lib/python3.8/site-packages (from IPython->pycaret[full]) (5.0.9)\nCollecting widgetsnbextension~=3.5.0\n  Downloading widgetsnbextension-3.5.1-py2.py3-none-any.whl (2.2 MB)\n\u001b[K     |████████████████████████████████| 2.2 MB 34.0 MB/s \n\u001b[?25hCollecting jupyterlab-widgets>=1.0.0\n  Downloading jupyterlab_widgets-1.0.0-py3-none-any.whl (243 kB)\n\u001b[K     |████████████████████████████████| 243 kB 81.7 MB/s \n\u001b[?25hRequirement already satisfied: ipykernel>=4.5.1 in /shared-libs/python3.8/py-core/lib/python3.8/site-packages (from ipywidgets->pycaret[full]) (5.5.5)\nRequirement already satisfied: nbformat>=4.2.0 in /shared-libs/python3.8/py-core/lib/python3.8/site-packages (from ipywidgets->pycaret[full]) (5.1.3)\nRequirement already satisfied: jupyter-client in /shared-libs/python3.8/py-core/lib/python3.8/site-packages (from ipykernel>=4.5.1->ipywidgets->pycaret[full]) (6.1.12)\nRequirement already satisfied: tornado>=4.2 in /shared-libs/python3.8/py-core/lib/python3.8/site-packages (from ipykernel>=4.5.1->ipywidgets->pycaret[full]) (6.1)\nRequirement already satisfied: parso<0.8.0,>=0.7.0 in /shared-libs/python3.8/py-core/lib/python3.8/site-packages (from jedi>=0.16->IPython->pycaret[full]) (0.7.1)\nRequirement already satisfied: wheel in /root/venv/lib/python3.8/site-packages (from lightgbm>=2.3.1->pycaret[full]) (0.36.2)\nRequirement already satisfied: cycler>=0.10 in /shared-libs/python3.8/py/lib/python3.8/site-packages (from matplotlib->pycaret[full]) (0.10.0)\nRequirement already satisfied: kiwisolver>=1.0.1 in /shared-libs/python3.8/py/lib/python3.8/site-packages (from matplotlib->pycaret[full]) (1.3.1)\nRequirement already satisfied: python-dateutil>=2.7 in /shared-libs/python3.8/py-core/lib/python3.8/site-packages (from matplotlib->pycaret[full]) (2.8.1)\nRequirement already satisfied: pillow>=6.2.0 in /shared-libs/python3.8/py/lib/python3.8/site-packages (from matplotlib->pycaret[full]) (8.2.0)\nRequirement already satisfied: pyparsing>=2.2.1 in /shared-libs/python3.8/py-core/lib/python3.8/site-packages (from matplotlib->pycaret[full]) (2.4.7)\nRequirement already satisfied: jupyter-core in /shared-libs/python3.8/py-core/lib/python3.8/site-packages (from nbformat>=4.2.0->ipywidgets->pycaret[full]) (4.7.1)\nRequirement already satisfied: ipython-genutils in /shared-libs/python3.8/py-core/lib/python3.8/site-packages (from nbformat>=4.2.0->ipywidgets->pycaret[full]) (0.2.0)\nRequirement already satisfied: jsonschema!=2.5.0,>=2.4 in /shared-libs/python3.8/py-core/lib/python3.8/site-packages (from nbformat>=4.2.0->ipywidgets->pycaret[full]) (3.2.0)\nRequirement already satisfied: pyrsistent>=0.14.0 in /shared-libs/python3.8/py-core/lib/python3.8/site-packages (from jsonschema!=2.5.0,>=2.4->nbformat>=4.2.0->ipywidgets->pycaret[full]) (0.17.3)\nRequirement already satisfied: attrs>=17.4.0 in /shared-libs/python3.8/py-core/lib/python3.8/site-packages (from jsonschema!=2.5.0,>=2.4->nbformat>=4.2.0->ipywidgets->pycaret[full]) (21.2.0)\nRequirement already satisfied: pytz>=2017.3 in /shared-libs/python3.8/py/lib/python3.8/site-packages (from pandas->pycaret[full]) (2021.1)\nCollecting pydantic>=1.8.1\n  Downloading pydantic-1.8.2-cp38-cp38-manylinux2014_x86_64.whl (13.7 MB)\n\u001b[K     |████████████████████████████████| 13.7 MB 64.0 MB/s \n\u001b[?25hCollecting missingno>=0.4.2\n  Downloading missingno-0.4.2-py3-none-any.whl (9.7 kB)\nRequirement already satisfied: PyYAML>=5.0.0 in /shared-libs/python3.8/py/lib/python3.8/site-packages (from pandas-profiling>=2.8.0->pycaret[full]) (5.4.1)\nCollecting phik>=0.11.1\n  Downloading phik-0.11.2.tar.gz (1.1 MB)\n\u001b[K     |████████████████████████████████| 1.1 MB 76.3 MB/s \n\u001b[?25hRequirement already satisfied: tqdm>=4.48.2 in /shared-libs/python3.8/py/lib/python3.8/site-packages (from pandas-profiling>=2.8.0->pycaret[full]) (4.61.0)\nCollecting visions[type_image_path]==0.7.1\n  Downloading visions-0.7.1-py3-none-any.whl (102 kB)\n\u001b[K     |████████████████████████████████| 102 kB 63.1 MB/s \n\u001b[?25hCollecting tangled-up-in-unicode==0.1.0\n  Downloading tangled_up_in_unicode-0.1.0-py3-none-any.whl (3.1 MB)\n\u001b[K     |████████████████████████████████| 3.1 MB 34.9 MB/s \n\u001b[?25hCollecting htmlmin>=0.1.12\n  Downloading htmlmin-0.1.12.tar.gz (19 kB)\nRequirement already satisfied: requests>=2.24.0 in /shared-libs/python3.8/py/lib/python3.8/site-packages (from pandas-profiling>=2.8.0->pycaret[full]) (2.25.1)\nRequirement already satisfied: jinja2>=2.11.1 in /shared-libs/python3.8/py-core/lib/python3.8/site-packages (from pandas-profiling>=2.8.0->pycaret[full]) (3.0.1)\nCollecting networkx>=2.4\n  Downloading networkx-2.5.1-py3-none-any.whl (1.6 MB)\n\u001b[K     |████████████████████████████████| 1.6 MB 60.6 MB/s \n\u001b[?25hCollecting bottleneck\n  Downloading Bottleneck-1.3.2.tar.gz (88 kB)\n\u001b[K     |████████████████████████████████| 88 kB 13.8 MB/s \n\u001b[?25h  Installing build dependencies ... \u001b[?25ldone\n\u001b[?25h  Getting requirements to build wheel ... \u001b[?25ldone\n\u001b[?25h    Preparing wheel metadata ... \u001b[?25ldone\n\u001b[?25hCollecting multimethod==1.4\n  Downloading multimethod-1.4-py2.py3-none-any.whl (7.3 kB)\nCollecting imagehash\n  Downloading ImageHash-4.2.0-py2.py3-none-any.whl (295 kB)\n\u001b[K     |████████████████████████████████| 295 kB 72.2 MB/s \n\u001b[?25hRequirement already satisfied: MarkupSafe>=2.0 in /shared-libs/python3.8/py-core/lib/python3.8/site-packages (from jinja2>=2.11.1->pandas-profiling>=2.8.0->pycaret[full]) (2.0.1)\nCollecting decorator\n  Downloading decorator-4.4.2-py2.py3-none-any.whl (9.2 kB)\nRequirement already satisfied: ptyprocess>=0.5 in /shared-libs/python3.8/py-core/lib/python3.8/site-packages (from pexpect>4.3->IPython->pycaret[full]) (0.7.0)\nRequirement already satisfied: retrying>=1.3.3 in /shared-libs/python3.8/py/lib/python3.8/site-packages (from plotly>=4.4.1->pycaret[full]) (1.3.3)\nRequirement already satisfied: wcwidth in /shared-libs/python3.8/py-core/lib/python3.8/site-packages (from prompt-toolkit!=3.0.0,!=3.0.1,<3.1.0,>=2.0.0->IPython->pycaret[full]) (0.2.5)\nRequirement already satisfied: typing-extensions>=3.7.4.3 in /shared-libs/python3.8/py/lib/python3.8/site-packages (from pydantic>=1.8.1->pandas-profiling>=2.8.0->pycaret[full]) (3.7.4.3)\nCollecting py-spy>=0.2.0\n  Downloading py_spy-0.3.7-py2.py3-none-manylinux1_x86_64.whl (3.1 MB)\n\u001b[K     |████████████████████████████████| 3.1 MB 69.6 MB/s \n\u001b[?25hRequirement already satisfied: prometheus-client>=0.7.1 in /shared-libs/python3.8/py-core/lib/python3.8/site-packages (from ray[tune]>=1.0.0->pycaret[full]) (0.11.0)\nRequirement already satisfied: grpcio>=1.28.1 in /shared-libs/python3.8/py/lib/python3.8/site-packages (from ray[tune]>=1.0.0->pycaret[full]) (1.32.0)\nCollecting colorama\n  Downloading colorama-0.4.4-py2.py3-none-any.whl (16 kB)\nRequirement already satisfied: click>=7.0 in /shared-libs/python3.8/py/lib/python3.8/site-packages (from ray[tune]>=1.0.0->pycaret[full]) (7.1.2)\nRequirement already satisfied: filelock in /shared-libs/python3.8/py-core/lib/python3.8/site-packages (from ray[tune]>=1.0.0->pycaret[full]) (3.0.12)\nCollecting opencensus\n  Downloading opencensus-0.7.13-py2.py3-none-any.whl (127 kB)\n\u001b[K     |████████████████████████████████| 127 kB 86.2 MB/s \n\u001b[?25hCollecting gpustat\n  Downloading gpustat-0.6.0.tar.gz (78 kB)\n\u001b[K     |████████████████████████████████| 78 kB 17.1 MB/s \n\u001b[?25hCollecting msgpack<2.0.0,>=1.0.0\n  Downloading msgpack-1.0.2-cp38-cp38-manylinux1_x86_64.whl (302 kB)\n\u001b[K     |████████████████████████████████| 302 kB 84.4 MB/s \n\u001b[?25hRequirement already satisfied: protobuf>=3.15.3 in /shared-libs/python3.8/py/lib/python3.8/site-packages (from ray[tune]>=1.0.0->pycaret[full]) (3.17.2)\nCollecting aioredis\n  Downloading aioredis-1.3.1-py3-none-any.whl (65 kB)\n\u001b[K     |████████████████████████████████| 65 kB 9.5 MB/s \n\u001b[?25hCollecting aiohttp\n  Downloading aiohttp-3.7.4.post0-cp38-cp38-manylinux2014_x86_64.whl (1.5 MB)\n\u001b[K     |████████████████████████████████| 1.5 MB 77.8 MB/s \n\u001b[?25hCollecting aiohttp-cors\n  Downloading aiohttp_cors-0.7.0-py3-none-any.whl (27 kB)\nCollecting redis>=3.5.0\n  Downloading redis-3.5.3-py2.py3-none-any.whl (72 kB)\n\u001b[K     |████████████████████████████████| 72 kB 1.5 MB/s \n\u001b[?25hRequirement already satisfied: tabulate in /shared-libs/python3.8/py/lib/python3.8/site-packages (from ray[tune]>=1.0.0->pycaret[full]) (0.8.9)\nCollecting tensorboardX\n  Downloading tensorboardX-2.2-py2.py3-none-any.whl (120 kB)\n\u001b[K     |████████████████████████████████| 120 kB 68.5 MB/s \n\u001b[?25hRequirement already satisfied: idna<3,>=2.5 in /shared-libs/python3.8/py/lib/python3.8/site-packages (from requests>=2.24.0->pandas-profiling>=2.8.0->pycaret[full]) (2.10)\nRequirement already satisfied: urllib3<1.27,>=1.21.1 in /shared-libs/python3.8/py/lib/python3.8/site-packages (from requests>=2.24.0->pandas-profiling>=2.8.0->pycaret[full]) (1.26.5)\nRequirement already satisfied: certifi>=2017.4.17 in /shared-libs/python3.8/py/lib/python3.8/site-packages (from requests>=2.24.0->pandas-profiling>=2.8.0->pycaret[full]) (2021.5.30)\nRequirement already satisfied: chardet<5,>=3.0.2 in /shared-libs/python3.8/py/lib/python3.8/site-packages (from requests>=2.24.0->pandas-profiling>=2.8.0->pycaret[full]) (3.0.4)\nCollecting pyaml>=16.9\n  Downloading pyaml-20.4.0-py2.py3-none-any.whl (17 kB)\nCollecting thinc<7.5.0,>=7.4.1\n  Downloading thinc-7.4.5-cp38-cp38-manylinux2014_x86_64.whl (1.1 MB)\n\u001b[K     |████████████████████████████████| 1.1 MB 61.4 MB/s \n\u001b[?25hRequirement already satisfied: preshed<3.1.0,>=3.0.2 in /shared-libs/python3.8/py/lib/python3.8/site-packages (from spacy<2.4.0->pycaret[full]) (3.0.5)\nCollecting catalogue<1.1.0,>=0.0.7\n  Downloading catalogue-1.0.0-py2.py3-none-any.whl (7.7 kB)\nRequirement already satisfied: murmurhash<1.1.0,>=0.28.0 in /shared-libs/python3.8/py/lib/python3.8/site-packages (from spacy<2.4.0->pycaret[full]) (1.0.5)\nRequirement already satisfied: wasabi<1.1.0,>=0.4.0 in /shared-libs/python3.8/py/lib/python3.8/site-packages (from spacy<2.4.0->pycaret[full]) (0.8.2)\nCollecting srsly<1.1.0,>=1.0.2\n  Downloading srsly-1.0.5-cp38-cp38-manylinux2014_x86_64.whl (186 kB)\n\u001b[K     |████████████████████████████████| 186 kB 80.9 MB/s \n\u001b[?25hRequirement already satisfied: blis<0.8.0,>=0.4.0 in /shared-libs/python3.8/py/lib/python3.8/site-packages (from spacy<2.4.0->pycaret[full]) (0.7.4)\nRequirement already satisfied: cymem<2.1.0,>=2.0.2 in /shared-libs/python3.8/py/lib/python3.8/site-packages (from spacy<2.4.0->pycaret[full]) (2.0.5)\nCollecting plac<1.2.0,>=0.9.6\n  Downloading plac-1.1.3-py2.py3-none-any.whl (20 kB)\nRequirement already satisfied: notebook>=4.4.1 in /shared-libs/python3.8/py-core/lib/python3.8/site-packages (from widgetsnbextension~=3.5.0->ipywidgets->pycaret[full]) (7.0.0.dev0)\nRequirement already satisfied: Send2Trash>=1.5.0 in /shared-libs/python3.8/py-core/lib/python3.8/site-packages (from notebook>=4.4.1->widgetsnbextension~=3.5.0->ipywidgets->pycaret[full]) (1.5.0)\nRequirement already satisfied: terminado>=0.8.3 in /shared-libs/python3.8/py-core/lib/python3.8/site-packages (from notebook>=4.4.1->widgetsnbextension~=3.5.0->ipywidgets->pycaret[full]) (0.10.0)\nRequirement already satisfied: pyzmq>=17 in /shared-libs/python3.8/py-core/lib/python3.8/site-packages (from notebook>=4.4.1->widgetsnbextension~=3.5.0->ipywidgets->pycaret[full]) (22.1.0)\nRequirement already satisfied: nbconvert in /shared-libs/python3.8/py-core/lib/python3.8/site-packages (from notebook>=4.4.1->widgetsnbextension~=3.5.0->ipywidgets->pycaret[full]) (6.0.7)\nRequirement already satisfied: argon2-cffi in /shared-libs/python3.8/py-core/lib/python3.8/site-packages (from notebook>=4.4.1->widgetsnbextension~=3.5.0->ipywidgets->pycaret[full]) (20.1.0)\nCollecting async-timeout<4.0,>=3.0\n  Downloading async_timeout-3.0.1-py3-none-any.whl (8.2 kB)\nCollecting multidict<7.0,>=4.5\n  Downloading multidict-5.1.0-cp38-cp38-manylinux2014_x86_64.whl (159 kB)\n\u001b[K     |████████████████████████████████| 159 kB 83.0 MB/s \n\u001b[?25hCollecting yarl<2.0,>=1.0\n  Downloading yarl-1.6.3-cp38-cp38-manylinux2014_x86_64.whl (324 kB)\n\u001b[K     |████████████████████████████████| 324 kB 79.2 MB/s \n\u001b[?25hCollecting hiredis\n  Downloading hiredis-2.0.0-cp38-cp38-manylinux2010_x86_64.whl (85 kB)\n\u001b[K     |████████████████████████████████| 85 kB 12.8 MB/s \n\u001b[?25hRequirement already satisfied: cffi>=1.0.0 in /shared-libs/python3.8/py-core/lib/python3.8/site-packages (from argon2-cffi->notebook>=4.4.1->widgetsnbextension~=3.5.0->ipywidgets->pycaret[full]) (1.14.5)\nRequirement already satisfied: pycparser in /shared-libs/python3.8/py-core/lib/python3.8/site-packages (from cffi>=1.0.0->argon2-cffi->notebook>=4.4.1->widgetsnbextension~=3.5.0->ipywidgets->pycaret[full]) (2.20)\nCollecting colorama\n  Downloading colorama-0.4.3-py2.py3-none-any.whl (15 kB)\nCollecting botocore==1.20.96\n  Downloading botocore-1.20.96-py2.py3-none-any.whl (7.6 MB)\n\u001b[K     |████████████████████████████████| 7.6 MB 40.9 MB/s \n\u001b[?25hRequirement already satisfied: rsa<4.8,>=3.1.2 in /shared-libs/python3.8/py/lib/python3.8/site-packages (from awscli->pycaret[full]) (4.7.2)\nCollecting docutils<0.16,>=0.10\n  Downloading docutils-0.15.2-py3-none-any.whl (547 kB)\n\u001b[K     |████████████████████████████████| 547 kB 47.6 MB/s \n\u001b[?25hRequirement already satisfied: s3transfer<0.5.0,>=0.4.0 in /shared-libs/python3.8/py/lib/python3.8/site-packages (from awscli->pycaret[full]) (0.4.2)\nRequirement already satisfied: jmespath<1.0.0,>=0.7.1 in /shared-libs/python3.8/py/lib/python3.8/site-packages (from botocore==1.20.96->awscli->pycaret[full]) (0.10.0)\nRequirement already satisfied: pyasn1>=0.1.3 in /shared-libs/python3.8/py/lib/python3.8/site-packages (from rsa<4.8,>=3.1.2->awscli->pycaret[full]) (0.4.8)\nRequirement already satisfied: azure-core<2.0.0,>=1.10.0 in /shared-libs/python3.8/py/lib/python3.8/site-packages (from azure-storage-blob->pycaret[full]) (1.14.0)\nRequirement already satisfied: cryptography>=2.1.4 in /shared-libs/python3.8/py/lib/python3.8/site-packages (from azure-storage-blob->pycaret[full]) (3.4.7)\nRequirement already satisfied: msrest>=0.6.18 in /shared-libs/python3.8/py/lib/python3.8/site-packages (from azure-storage-blob->pycaret[full]) (0.6.21)\nRequirement already satisfied: requests-oauthlib>=0.5.0 in /shared-libs/python3.8/py/lib/python3.8/site-packages (from msrest>=0.6.18->azure-storage-blob->pycaret[full]) (1.3.0)\nRequirement already satisfied: isodate>=0.6.0 in /shared-libs/python3.8/py/lib/python3.8/site-packages (from msrest>=0.6.18->azure-storage-blob->pycaret[full]) (0.6.0)\nRequirement already satisfied: oauthlib>=3.0.0 in /shared-libs/python3.8/py/lib/python3.8/site-packages (from requests-oauthlib>=0.5.0->msrest>=0.6.18->azure-storage-blob->pycaret[full]) (3.1.1)\nRequirement already satisfied: google-cloud-core<2.0dev,>=1.4.1 in /shared-libs/python3.8/py/lib/python3.8/site-packages (from google-cloud-storage->pycaret[full]) (1.6.0)\nRequirement already satisfied: google-auth<2.0dev,>=1.11.0 in /shared-libs/python3.8/py/lib/python3.8/site-packages (from google-cloud-storage->pycaret[full]) (1.30.1)\nRequirement already satisfied: google-resumable-media<2.0dev,>=1.2.0 in /shared-libs/python3.8/py/lib/python3.8/site-packages (from google-cloud-storage->pycaret[full]) (1.3.0)\nRequirement already satisfied: cachetools<5.0,>=2.0.0 in /shared-libs/python3.8/py/lib/python3.8/site-packages (from google-auth<2.0dev,>=1.11.0->google-cloud-storage->pycaret[full]) (4.2.2)\nRequirement already satisfied: pyasn1-modules>=0.2.1 in /shared-libs/python3.8/py/lib/python3.8/site-packages (from google-auth<2.0dev,>=1.11.0->google-cloud-storage->pycaret[full]) (0.2.8)\nRequirement already satisfied: google-api-core<2.0.0dev,>=1.21.0 in /shared-libs/python3.8/py/lib/python3.8/site-packages (from google-cloud-core<2.0dev,>=1.4.1->google-cloud-storage->pycaret[full]) (1.29.0)\nRequirement already satisfied: packaging>=14.3 in /shared-libs/python3.8/py-core/lib/python3.8/site-packages (from google-api-core<2.0.0dev,>=1.21.0->google-cloud-core<2.0dev,>=1.4.1->google-cloud-storage->pycaret[full]) (20.9)\nRequirement already satisfied: googleapis-common-protos<2.0dev,>=1.6.0 in /shared-libs/python3.8/py/lib/python3.8/site-packages (from google-api-core<2.0.0dev,>=1.21.0->google-cloud-core<2.0dev,>=1.4.1->google-cloud-storage->pycaret[full]) (1.53.0)\nRequirement already satisfied: google-crc32c<2.0dev,>=1.0 in /shared-libs/python3.8/py/lib/python3.8/site-packages (from google-resumable-media<2.0dev,>=1.2.0->google-cloud-storage->pycaret[full]) (1.1.2)\nCollecting nvidia-ml-py3>=7.352.0\n  Downloading nvidia-ml-py3-7.352.0.tar.gz (19 kB)\nCollecting blessings>=1.6\n  Downloading blessings-1.7-py3-none-any.whl (18 kB)\nRequirement already satisfied: future in /shared-libs/python3.8/py/lib/python3.8/site-packages (from hyperopt->pycaret[full]) (0.18.2)\nCollecting cloudpickle\n  Downloading cloudpickle-1.6.0-py3-none-any.whl (23 kB)\nCollecting PyWavelets\n  Downloading PyWavelets-1.1.1-cp38-cp38-manylinux1_x86_64.whl (4.4 MB)\n\u001b[K     |████████████████████████████████| 4.4 MB 41.5 MB/s \n\u001b[?25hCollecting gunicorn\n  Downloading gunicorn-20.1.0-py3-none-any.whl (79 kB)\n\u001b[K     |████████████████████████████████| 79 kB 20.2 MB/s \n\u001b[?25hCollecting querystring-parser\n  Downloading querystring_parser-1.2.4-py2.py3-none-any.whl (7.9 kB)\nCollecting prometheus-flask-exporter\n  Downloading prometheus_flask_exporter-0.18.2.tar.gz (22 kB)\nRequirement already satisfied: sqlalchemy in /shared-libs/python3.8/py/lib/python3.8/site-packages (from mlflow->pycaret[full]) (1.4.17)\nCollecting gitpython>=2.1.0\n  Downloading GitPython-3.1.14-py3-none-any.whl (159 kB)\n\u001b[K     |████████████████████████████████| 159 kB 83.4 MB/s \n\u001b[?25hRequirement already satisfied: sqlparse>=0.3.1 in /shared-libs/python3.8/py/lib/python3.8/site-packages (from mlflow->pycaret[full]) (0.4.1)\nCollecting docker>=4.0.0\n  Downloading docker-5.0.0-py2.py3-none-any.whl (146 kB)\n\u001b[K     |████████████████████████████████| 146 kB 84.7 MB/s \n\u001b[?25hRequirement already satisfied: entrypoints in /shared-libs/python3.8/py-core/lib/python3.8/site-packages (from mlflow->pycaret[full]) (0.3)\nCollecting databricks-cli>=0.8.7\n  Downloading databricks-cli-0.14.3.tar.gz (54 kB)\n\u001b[K     |████████████████████████████████| 54 kB 7.8 MB/s \n\u001b[?25hCollecting Flask\n  Downloading Flask-2.0.1-py3-none-any.whl (94 kB)\n\u001b[K     |████████████████████████████████| 94 kB 9.3 MB/s \n\u001b[?25hCollecting alembic<=1.4.1\n  Downloading alembic-1.4.1.tar.gz (1.1 MB)\n\u001b[K     |████████████████████████████████| 1.1 MB 56.1 MB/s \n\u001b[?25hCollecting Mako\n  Downloading Mako-1.1.4-py2.py3-none-any.whl (75 kB)\n\u001b[K     |████████████████████████████████| 75 kB 11.2 MB/s \n\u001b[?25hCollecting python-editor>=0.3\n  Downloading python_editor-1.0.4-py3-none-any.whl (4.9 kB)\nCollecting websocket-client>=0.32.0\n  Downloading websocket_client-1.1.0-py2.py3-none-any.whl (68 kB)\n\u001b[K     |████████████████████████████████| 68 kB 16.4 MB/s \n\u001b[?25hCollecting gitdb<5,>=4.0.1\n  Downloading gitdb-4.0.7-py3-none-any.whl (63 kB)\n\u001b[K     |████████████████████████████████| 63 kB 2.6 MB/s \n\u001b[?25hCollecting smmap<5,>=3.0.1\n  Downloading smmap-4.0.0-py2.py3-none-any.whl (24 kB)\nRequirement already satisfied: greenlet!=0.4.17 in /shared-libs/python3.8/py/lib/python3.8/site-packages (from sqlalchemy->mlflow->pycaret[full]) (1.1.0)\nRequirement already satisfied: Werkzeug>=2.0 in /shared-libs/python3.8/py/lib/python3.8/site-packages (from Flask->mlflow->pycaret[full]) (2.0.1)\nCollecting itsdangerous>=2.0\n  Downloading itsdangerous-2.0.1-py3-none-any.whl (18 kB)\nRequirement already satisfied: jupyterlab-pygments in /shared-libs/python3.8/py-core/lib/python3.8/site-packages (from nbconvert->notebook>=4.4.1->widgetsnbextension~=3.5.0->ipywidgets->pycaret[full]) (0.1.2)\nRequirement already satisfied: testpath in /shared-libs/python3.8/py-core/lib/python3.8/site-packages (from nbconvert->notebook>=4.4.1->widgetsnbextension~=3.5.0->ipywidgets->pycaret[full]) (0.5.0)\nRequirement already satisfied: pandocfilters>=1.4.1 in /shared-libs/python3.8/py-core/lib/python3.8/site-packages (from nbconvert->notebook>=4.4.1->widgetsnbextension~=3.5.0->ipywidgets->pycaret[full]) (1.4.3)\nRequirement already satisfied: mistune<2,>=0.8.1 in /shared-libs/python3.8/py-core/lib/python3.8/site-packages (from nbconvert->notebook>=4.4.1->widgetsnbextension~=3.5.0->ipywidgets->pycaret[full]) (0.8.4)\nRequirement already satisfied: defusedxml in /shared-libs/python3.8/py-core/lib/python3.8/site-packages (from nbconvert->notebook>=4.4.1->widgetsnbextension~=3.5.0->ipywidgets->pycaret[full]) (0.7.1)\nRequirement already satisfied: bleach in /shared-libs/python3.8/py-core/lib/python3.8/site-packages (from nbconvert->notebook>=4.4.1->widgetsnbextension~=3.5.0->ipywidgets->pycaret[full]) (3.3.0)\nRequirement already satisfied: nbclient<0.6.0,>=0.5.0 in /shared-libs/python3.8/py-core/lib/python3.8/site-packages (from nbconvert->notebook>=4.4.1->widgetsnbextension~=3.5.0->ipywidgets->pycaret[full]) (0.5.3)\nRequirement already satisfied: nest-asyncio in /shared-libs/python3.8/py-core/lib/python3.8/site-packages (from nbclient<0.6.0,>=0.5.0->nbconvert->notebook>=4.4.1->widgetsnbextension~=3.5.0->ipywidgets->pycaret[full]) (1.5.1)\nRequirement already satisfied: async-generator in /shared-libs/python3.8/py-core/lib/python3.8/site-packages (from nbclient<0.6.0,>=0.5.0->nbconvert->notebook>=4.4.1->widgetsnbextension~=3.5.0->ipywidgets->pycaret[full]) (1.10)\nRequirement already satisfied: webencodings in /shared-libs/python3.8/py-core/lib/python3.8/site-packages (from bleach->nbconvert->notebook>=4.4.1->widgetsnbextension~=3.5.0->ipywidgets->pycaret[full]) (0.5.1)\nRequirement already satisfied: regex in /shared-libs/python3.8/py/lib/python3.8/site-packages (from nltk->pycaret[full]) (2021.4.4)\nCollecting opencensus-context==0.1.2\n  Downloading opencensus_context-0.1.2-py2.py3-none-any.whl (4.4 kB)\nCollecting cmaes>=0.8.2\n  Downloading cmaes-0.8.2-py3-none-any.whl (15 kB)\nCollecting colorlog\n  Downloading colorlog-5.0.1-py2.py3-none-any.whl (10 kB)\nCollecting cliff\n  Downloading cliff-3.8.0-py3-none-any.whl (80 kB)\n\u001b[K     |████████████████████████████████| 80 kB 21.1 MB/s \n\u001b[?25hCollecting pbr!=2.1.0,>=2.0.0\n  Downloading pbr-5.6.0-py2.py3-none-any.whl (111 kB)\n\u001b[K     |████████████████████████████████| 111 kB 85.0 MB/s \n\u001b[?25hCollecting PrettyTable>=0.7.2\n  Downloading prettytable-2.1.0-py3-none-any.whl (22 kB)\nCollecting cmd2>=1.0.0\n  Downloading cmd2-2.1.0-py3-none-any.whl (140 kB)\n\u001b[K     |████████████████████████████████| 140 kB 82.5 MB/s \n\u001b[?25hCollecting stevedore>=2.0.1\n  Downloading stevedore-3.3.0-py3-none-any.whl (49 kB)\n\u001b[K     |████████████████████████████████| 49 kB 15.8 MB/s \n\u001b[?25hCollecting pyperclip>=1.6\n  Downloading pyperclip-1.8.2.tar.gz (20 kB)\nCollecting numexpr\n  Downloading numexpr-2.7.3-cp38-cp38-manylinux2010_x86_64.whl (473 kB)\n\u001b[K     |████████████████████████████████| 473 kB 78.9 MB/s \n\u001b[?25hCollecting pyLDAvis\n  Downloading pyLDAvis-3.3.0.tar.gz (1.7 MB)\n\u001b[K     |████████████████████████████████| 1.7 MB 80.3 MB/s \n\u001b[?25h  Installing build dependencies ... \u001b[?25ldone\n\u001b[?25h  Getting requirements to build wheel ... \u001b[?25ldone\n\u001b[?25h  Installing backend dependencies ... \u001b[?25ldone\n\u001b[?25h    Preparing wheel metadata ... \u001b[?25ldone\n\u001b[?25h  Downloading pyLDAvis-3.2.2.tar.gz (1.7 MB)\n\u001b[K     |████████████████████████████████| 1.7 MB 28.6 MB/s \n\u001b[?25hCollecting funcy\n  Downloading funcy-1.16-py2.py3-none-any.whl (32 kB)\nCollecting numba>=0.35\n  Downloading numba-0.53.1-cp38-cp38-manylinux2014_x86_64.whl (3.4 MB)\n\u001b[K     |████████████████████████████████| 3.4 MB 62.2 MB/s \n\u001b[?25hCollecting statsmodels\n  Downloading statsmodels-0.12.2-cp38-cp38-manylinux1_x86_64.whl (9.4 MB)\n\u001b[K     |████████████████████████████████| 9.4 MB 61.8 MB/s \n\u001b[?25hCollecting llvmlite<0.37,>=0.36.0rc1\n  Downloading llvmlite-0.36.0-cp38-cp38-manylinux2010_x86_64.whl (25.3 MB)\n\u001b[K     |████████████████████████████████| 25.3 MB 44.8 MB/s \n\u001b[?25hCollecting slicer==0.0.7\n  Downloading slicer-0.0.7-py3-none-any.whl (14 kB)\nCollecting patsy>=0.5\n  Downloading patsy-0.5.1-py2.py3-none-any.whl (231 kB)\n\u001b[K     |████████████████████████████████| 231 kB 76.5 MB/s \n\u001b[?25hCollecting pynndescent>=0.5\n  Downloading pynndescent-0.5.2.tar.gz (1.1 MB)\n\u001b[K     |████████████████████████████████| 1.1 MB 65.5 MB/s \n\u001b[?25hBuilding wheels for collected packages: cufflinks, htmlmin, phik, bottleneck, gpustat, nvidia-ml-py3, alembic, databricks-cli, pyperclip, prometheus-flask-exporter, pyLDAvis, pyod, shap, umap-learn, pynndescent\n  Building wheel for cufflinks (setup.py) ... \u001b[?25ldone\n\u001b[?25h  Created wheel for cufflinks: filename=cufflinks-0.17.3-py3-none-any.whl size=67918 sha256=af1ec6d4fc9be984f30ff7595e7de1ce37d7350c44ae25a59eb360cb7a82728c\n  Stored in directory: /root/.cache/pip/wheels/6b/76/62/6da97734911ffcbdd559fd1a3f28526321f0ae699182a23866\n  Building wheel for htmlmin (setup.py) ... \u001b[?25ldone\n\u001b[?25h  Created wheel for htmlmin: filename=htmlmin-0.1.12-py3-none-any.whl size=27098 sha256=67632a33df61da5eacb9e0ff954a35c5ad14ba6f2fe55d5cad1eb35b2c31dec3\n  Stored in directory: /root/.cache/pip/wheels/23/14/6e/4be5bfeeb027f4939a01764b48edd5996acf574b0913fe5243\n  Building wheel for phik (setup.py) ... \u001b[?25ldone\n\u001b[?25h  Created wheel for phik: filename=phik-0.11.2-py3-none-any.whl size=1107437 sha256=cb9913cfda30af35939f2856200f8bc4a065b488fbe38f6349c4677d78b4634e\n  Stored in directory: /root/.cache/pip/wheels/72/9a/23/097c93fd8341220d92674891b6a9a30f0e389719d9b7291bd2\n  Building wheel for bottleneck (PEP 517) ... \u001b[?25ldone\n\u001b[?25h  Created wheel for bottleneck: filename=Bottleneck-1.3.2-cp38-cp38-linux_x86_64.whl size=114507 sha256=0ed9210174bacfcd7a53e3e4b8a64a46c6aa0ba4535caecda1ac89df78d0f414\n  Stored in directory: /root/.cache/pip/wheels/29/60/c9/98f744fb5c7d1ffb38d096318d9e873a08c0f5df07d6487626\n  Building wheel for gpustat (setup.py) ... \u001b[?25ldone\n\u001b[?25h  Created wheel for gpustat: filename=gpustat-0.6.0-py3-none-any.whl size=12617 sha256=c502950a537fd418abb63179def13795031defe38572735fed2d4a4f27092484\n  Stored in directory: /root/.cache/pip/wheels/0d/d9/80/b6cbcdc9946c7b50ce35441cc9e7d8c5a9d066469ba99bae44\n  Building wheel for nvidia-ml-py3 (setup.py) ... \u001b[?25ldone\n\u001b[?25h  Created wheel for nvidia-ml-py3: filename=nvidia_ml_py3-7.352.0-py3-none-any.whl size=19189 sha256=7f2a659c35c41e470ed57ab63671d8ba2cab269ac3c7edf24c5440ea9304640f\n  Stored in directory: /root/.cache/pip/wheels/b9/b1/68/cb4feab29709d4155310d29a421389665dcab9eb3b679b527b\n  Building wheel for alembic (setup.py) ... \u001b[?25ldone\n\u001b[?25h  Created wheel for alembic: filename=alembic-1.4.1-py2.py3-none-any.whl size=158170 sha256=098f826a9bc5d6fc7331be93f7671b21b459ec17ea2bdd39b687a05a003f6a15\n  Stored in directory: /root/.cache/pip/wheels/9d/de/6d/ca8d461ec29e010b1267d7353d0b058819770f7680bb9360e4\n  Building wheel for databricks-cli (setup.py) ... \u001b[?25ldone\n\u001b[?25h  Created wheel for databricks-cli: filename=databricks_cli-0.14.3-py3-none-any.whl size=100557 sha256=0e5c6f7f5062a2bf73bb13598634544a44a9e4a6f11ae2aa4cae7b1cda0e857e\n  Stored in directory: /root/.cache/pip/wheels/e9/f3/dc/eeff77dbc147629fa716741fc216520abbc0e15ce4b876706f\n  Building wheel for pyperclip (setup.py) ... \u001b[?25ldone\n\u001b[?25h  Created wheel for pyperclip: filename=pyperclip-1.8.2-py3-none-any.whl size=11137 sha256=fa91fa23910b94a48d0c6825bea35a431f5289ffa76db0da7c11f8af2c9ff951\n  Stored in directory: /root/.cache/pip/wheels/7f/1a/65/84ff8c386bec21fca6d220ea1f5498a0367883a78dd5ba6122\n  Building wheel for prometheus-flask-exporter (setup.py) ... \u001b[?25ldone\n\u001b[?25h  Created wheel for prometheus-flask-exporter: filename=prometheus_flask_exporter-0.18.2-py3-none-any.whl size=17416 sha256=4326385e901ba47403a0e9861cce0bfcf9130ef9a2ef3f48559877f4facc6c1f\n  Stored in directory: /root/.cache/pip/wheels/69/6f/b4/2087abb1172ae32c58e366dc09746de46a72b0e9fb2c022920\n  Building wheel for pyLDAvis (setup.py) ... \u001b[?25ldone\n\u001b[?25h  Created wheel for pyLDAvis: filename=pyLDAvis-3.2.2-py2.py3-none-any.whl size=135618 sha256=3b71ea7cf531bd4356b5b4d6fc110f676dce2a11cf359a53da8e6e59b2183a49\n  Stored in directory: /root/.cache/pip/wheels/2a/5b/b3/26b52781cdeea9c815e147cfd4ac4a0a3472bce92142115670\n  Building wheel for pyod (setup.py) ... \u001b[?25ldone\n\u001b[?25h  Created wheel for pyod: filename=pyod-0.8.9-py3-none-any.whl size=121413 sha256=7719b6b19d279649af8aa937e85d4394389e5f3ec9f06e9324b04a5afc13ead1\n  Stored in directory: /root/.cache/pip/wheels/8f/d9/6d/df101a4fa21ac257176d4c6ff4e24edd9c1fd992e53a0a7535\n  Building wheel for shap (setup.py) ... \u001b[?25ldone\n\u001b[?25h  Created wheel for shap: filename=shap-0.39.0-cp38-cp38-linux_x86_64.whl size=417842 sha256=9bd64e6b7bc14823bd336b7dc9b254281810abb364e93e0b3e638fa8fc13db9f\n  Stored in directory: /root/.cache/pip/wheels/3d/c9/06/734ed80d6d61fad331974bf62017b4ea6b33488082b9f5e67e\n  Building wheel for umap-learn (setup.py) ... \u001b[?25ldone\n\u001b[?25h  Created wheel for umap-learn: filename=umap_learn-0.5.1-py3-none-any.whl size=76566 sha256=b4523b7a515e8ddae58279b4e5a351943179c2fe322da4efea42bdce843d0267\n  Stored in directory: /root/.cache/pip/wheels/95/85/b7/b4b7040e49367b6d1505d7e8fb57e3e79b22fa6ac26f72520b\n  Building wheel for pynndescent (setup.py) ... \u001b[?25ldone\n\u001b[?25h  Created wheel for pynndescent: filename=pynndescent-0.5.2-py3-none-any.whl size=51360 sha256=b2473075aa294c3b04f595a7ecfc21fac3015a770a16c6122a7fd3c02bdeffef\n  Stored in directory: /root/.cache/pip/wheels/bb/81/5d/c78c8f15f3c815197129f91ec435d8ae0bb0a7a856d962c3ce\nSuccessfully built cufflinks htmlmin phik bottleneck gpustat nvidia-ml-py3 alembic databricks-cli pyperclip prometheus-flask-exporter pyLDAvis pyod shap umap-learn pynndescent\nInstalling collected packages: decorator, multidict, yarl, async-timeout, tangled-up-in-unicode, smmap, scipy, PyWavelets, psutil, opencensus-context, nvidia-ml-py3, networkx, multimethod, llvmlite, itsdangerous, hiredis, bottleneck, blessings, aiohttp, widgetsnbextension, websocket-client, visions, srsly, scikit-learn, redis, python-editor, pyperclip, pydantic, py-spy, plac, pbr, patsy, opencensus, numba, msgpack, Mako, jupyterlab-widgets, imagehash, gpustat, gitdb, Flask, colorama, catalogue, aioredis, aiohttp-cors, thinc, tensorboardX, stevedore, statsmodels, ray, querystring-parser, pynndescent, prometheus-flask-exporter, PrettyTable, phik, numexpr, missingno, ipywidgets, htmlmin, gunicorn, gitpython, funcy, docker, databricks-cli, colorlover, cmd2, cloudpickle, botocore, alembic, yellowbrick, wordcloud, umap-learn, spacy, slicer, scikit-plot, pyod, pyLDAvis, pyaml, pandas-profiling, mlxtend, mlflow, lightgbm, kmodes, imbalanced-learn, graphviz, gensim, docutils, cufflinks, colorlog, cmaes, cliff, Boruta, xgboost, tune-sklearn, shap, scikit-optimize, pycaret, optuna, hyperopt, google-cloud-storage, catboost, awscli\n  Attempting uninstall: decorator\n    Found existing installation: decorator 5.0.9\n    Not uninstalling decorator at /shared-libs/python3.8/py-core/lib/python3.8/site-packages, outside environment /root/venv\n    Can't uninstall 'decorator'. No files were found to uninstall.\n  Attempting uninstall: scipy\n    Found existing installation: scipy 1.6.3\n    Not uninstalling scipy at /shared-libs/python3.8/py/lib/python3.8/site-packages, outside environment /root/venv\n    Can't uninstall 'scipy'. No files were found to uninstall.\n  Attempting uninstall: srsly\n    Found existing installation: srsly 2.4.1\n    Not uninstalling srsly at /shared-libs/python3.8/py/lib/python3.8/site-packages, outside environment /root/venv\n    Can't uninstall 'srsly'. No files were found to uninstall.\n  Attempting uninstall: scikit-learn\n    Found existing installation: scikit-learn 0.24.2\n    Not uninstalling scikit-learn at /shared-libs/python3.8/py/lib/python3.8/site-packages, outside environment /root/venv\n    Can't uninstall 'scikit-learn'. No files were found to uninstall.\n  Attempting uninstall: pydantic\n    Found existing installation: pydantic 1.7.4\n    Not uninstalling pydantic at /shared-libs/python3.8/py/lib/python3.8/site-packages, outside environment /root/venv\n    Can't uninstall 'pydantic'. No files were found to uninstall.\n  Attempting uninstall: catalogue\n    Found existing installation: catalogue 2.0.4\n    Not uninstalling catalogue at /shared-libs/python3.8/py/lib/python3.8/site-packages, outside environment /root/venv\n    Can't uninstall 'catalogue'. No files were found to uninstall.\n  Attempting uninstall: thinc\n    Found existing installation: thinc 8.0.3\n    Not uninstalling thinc at /shared-libs/python3.8/py/lib/python3.8/site-packages, outside environment /root/venv\n    Can't uninstall 'thinc'. No files were found to uninstall.\n  Attempting uninstall: botocore\n    Found existing installation: botocore 1.20.87\n    Not uninstalling botocore at /shared-libs/python3.8/py/lib/python3.8/site-packages, outside environment /root/venv\n    Can't uninstall 'botocore'. No files were found to uninstall.\n  Attempting uninstall: spacy\n    Found existing installation: spacy 3.0.6\n    Not uninstalling spacy at /shared-libs/python3.8/py/lib/python3.8/site-packages, outside environment /root/venv\n    Can't uninstall 'spacy'. No files were found to uninstall.\n  Attempting uninstall: docutils\n    Found existing installation: docutils 0.17.1\n    Not uninstalling docutils at /shared-libs/python3.8/py/lib/python3.8/site-packages, outside environment /root/venv\n    Can't uninstall 'docutils'. No files were found to uninstall.\nSuccessfully installed Boruta-0.3 Flask-2.0.1 Mako-1.1.4 PrettyTable-2.1.0 PyWavelets-1.1.1 aiohttp-3.7.4.post0 aiohttp-cors-0.7.0 aioredis-1.3.1 alembic-1.4.1 async-timeout-3.0.1 awscli-1.19.96 blessings-1.7 botocore-1.20.96 bottleneck-1.3.2 catalogue-1.0.0 catboost-0.26 cliff-3.8.0 cloudpickle-1.6.0 cmaes-0.8.2 cmd2-2.1.0 colorama-0.4.3 colorlog-5.0.1 colorlover-0.3.0 cufflinks-0.17.3 databricks-cli-0.14.3 decorator-4.4.2 docker-5.0.0 docutils-0.15.2 funcy-1.16 gensim-3.8.3 gitdb-4.0.7 gitpython-3.1.14 google-cloud-storage-1.38.0 gpustat-0.6.0 graphviz-0.16 gunicorn-20.1.0 hiredis-2.0.0 htmlmin-0.1.12 hyperopt-0.2.5 imagehash-4.2.0 imbalanced-learn-0.7.0 ipywidgets-7.6.3 itsdangerous-2.0.1 jupyterlab-widgets-1.0.0 kmodes-0.11.0 lightgbm-3.2.1 llvmlite-0.36.0 missingno-0.4.2 mlflow-1.17.0 mlxtend-0.18.0 msgpack-1.0.2 multidict-5.1.0 multimethod-1.4 networkx-2.5.1 numba-0.53.1 numexpr-2.7.3 nvidia-ml-py3-7.352.0 opencensus-0.7.13 opencensus-context-0.1.2 optuna-2.8.0 pandas-profiling-3.0.0 patsy-0.5.1 pbr-5.6.0 phik-0.11.2 plac-1.1.3 prometheus-flask-exporter-0.18.2 psutil-5.8.0 py-spy-0.3.7 pyLDAvis-3.2.2 pyaml-20.4.0 pycaret-2.3.1 pydantic-1.8.2 pynndescent-0.5.2 pyod-0.8.9 pyperclip-1.8.2 python-editor-1.0.4 querystring-parser-1.2.4 ray-1.4.0 redis-3.5.3 scikit-learn-0.23.2 scikit-optimize-0.8.1 scikit-plot-0.3.7 scipy-1.5.4 shap-0.39.0 slicer-0.0.7 smmap-4.0.0 spacy-2.3.7 srsly-1.0.5 statsmodels-0.12.2 stevedore-3.3.0 tangled-up-in-unicode-0.1.0 tensorboardX-2.2 thinc-7.4.5 tune-sklearn-0.3.0 umap-learn-0.5.1 visions-0.7.1 websocket-client-1.1.0 widgetsnbextension-3.5.1 wordcloud-1.8.1 xgboost-1.4.2 yarl-1.6.3 yellowbrick-1.3.post1\nRequirement already satisfied: lxml in /shared-libs/python3.8/py/lib/python3.8/site-packages (4.6.3)\nCollecting tsfresh\n  Downloading tsfresh-0.18.0-py2.py3-none-any.whl (94 kB)\n\u001b[K     |████████████████████████████████| 94 kB 7.9 MB/s \n\u001b[?25hRequirement already satisfied: patsy>=0.4.1 in /root/venv/lib/python3.8/site-packages (from tsfresh) (0.5.1)\nRequirement already satisfied: scipy>=1.2.0 in /root/venv/lib/python3.8/site-packages (from tsfresh) (1.5.4)\nRequirement already satisfied: statsmodels>=0.9.0 in /root/venv/lib/python3.8/site-packages (from tsfresh) (0.12.2)\nRequirement already satisfied: scikit-learn>=0.22.0 in /root/venv/lib/python3.8/site-packages (from tsfresh) (0.23.2)\nRequirement already satisfied: requests>=2.9.1 in /shared-libs/python3.8/py/lib/python3.8/site-packages (from tsfresh) (2.25.1)\nCollecting dask[dataframe]>=2.9.0\n  Downloading dask-2021.6.0-py3-none-any.whl (965 kB)\n\u001b[K     |████████████████████████████████| 965 kB 50.7 MB/s \n\u001b[?25hRequirement already satisfied: pandas>=0.25.0 in /shared-libs/python3.8/py/lib/python3.8/site-packages (from tsfresh) (1.2.4)\nCollecting matrixprofile>=1.1.10<2.0.0\n  Downloading matrixprofile-1.1.10-cp38-cp38-manylinux2010_x86_64.whl (1.2 MB)\n\u001b[K     |████████████████████████████████| 1.2 MB 75.5 MB/s \n\u001b[?25hRequirement already satisfied: numpy>=1.15.1 in /shared-libs/python3.8/py/lib/python3.8/site-packages (from tsfresh) (1.19.5)\nCollecting distributed>=2.11.0\n  Downloading distributed-2021.6.0-py3-none-any.whl (715 kB)\n\u001b[K     |████████████████████████████████| 715 kB 73.9 MB/s \n\u001b[?25hRequirement already satisfied: tqdm>=4.10.0 in /shared-libs/python3.8/py/lib/python3.8/site-packages (from tsfresh) (4.61.0)\nCollecting stumpy>=1.7.2\n  Downloading stumpy-1.8.0-py3-none-any.whl (94 kB)\n\u001b[K     |████████████████████████████████| 94 kB 7.6 MB/s \n\u001b[?25hRequirement already satisfied: toolz>=0.8.2 in /shared-libs/python3.8/py/lib/python3.8/site-packages (from dask[dataframe]>=2.9.0->tsfresh) (0.11.1)\nRequirement already satisfied: cloudpickle>=1.1.1 in /root/venv/lib/python3.8/site-packages (from dask[dataframe]>=2.9.0->tsfresh) (1.6.0)\nCollecting partd>=0.3.10\n  Downloading partd-1.2.0-py3-none-any.whl (19 kB)\nRequirement already satisfied: pyyaml in /shared-libs/python3.8/py/lib/python3.8/site-packages (from dask[dataframe]>=2.9.0->tsfresh) (5.4.1)\nCollecting fsspec>=0.6.0\n  Downloading fsspec-2021.6.0-py3-none-any.whl (114 kB)\n\u001b[K     |████████████████████████████████| 114 kB 83.2 MB/s \n\u001b[?25hRequirement already satisfied: psutil>=5.0 in /root/venv/lib/python3.8/site-packages (from distributed>=2.11.0->tsfresh) (5.8.0)\nCollecting tblib>=1.6.0\n  Downloading tblib-1.7.0-py2.py3-none-any.whl (12 kB)\nRequirement already satisfied: msgpack>=0.6.0 in /root/venv/lib/python3.8/site-packages (from distributed>=2.11.0->tsfresh) (1.0.2)\nRequirement already satisfied: click>=6.6 in /shared-libs/python3.8/py/lib/python3.8/site-packages (from distributed>=2.11.0->tsfresh) (7.1.2)\nCollecting zict>=0.1.3\n  Downloading zict-2.0.0-py3-none-any.whl (10 kB)\nRequirement already satisfied: setuptools in /root/venv/lib/python3.8/site-packages (from distributed>=2.11.0->tsfresh) (57.0.0)\nRequirement already satisfied: tornado>=6.0.3 in /shared-libs/python3.8/py-core/lib/python3.8/site-packages (from distributed>=2.11.0->tsfresh) (6.1)\nCollecting sortedcontainers!=2.0.0,!=2.0.1\n  Downloading sortedcontainers-2.4.0-py2.py3-none-any.whl (29 kB)\nRequirement already satisfied: matplotlib>=3.0.3 in /shared-libs/python3.8/py/lib/python3.8/site-packages (from matrixprofile>=1.1.10<2.0.0->tsfresh) (3.4.2)\nCollecting protobuf==3.11.2\n  Downloading protobuf-3.11.2-cp38-cp38-manylinux1_x86_64.whl (1.3 MB)\n\u001b[K     |████████████████████████████████| 1.3 MB 71.7 MB/s \n\u001b[?25hRequirement already satisfied: six>=1.9 in /shared-libs/python3.8/py-core/lib/python3.8/site-packages (from protobuf==3.11.2->matrixprofile>=1.1.10<2.0.0->tsfresh) (1.16.0)\nRequirement already satisfied: kiwisolver>=1.0.1 in /shared-libs/python3.8/py/lib/python3.8/site-packages (from matplotlib>=3.0.3->matrixprofile>=1.1.10<2.0.0->tsfresh) (1.3.1)\nRequirement already satisfied: pillow>=6.2.0 in /shared-libs/python3.8/py/lib/python3.8/site-packages (from matplotlib>=3.0.3->matrixprofile>=1.1.10<2.0.0->tsfresh) (8.2.0)\nRequirement already satisfied: python-dateutil>=2.7 in /shared-libs/python3.8/py-core/lib/python3.8/site-packages (from matplotlib>=3.0.3->matrixprofile>=1.1.10<2.0.0->tsfresh) (2.8.1)\nRequirement already satisfied: pyparsing>=2.2.1 in /shared-libs/python3.8/py-core/lib/python3.8/site-packages (from matplotlib>=3.0.3->matrixprofile>=1.1.10<2.0.0->tsfresh) (2.4.7)\nRequirement already satisfied: cycler>=0.10 in /shared-libs/python3.8/py/lib/python3.8/site-packages (from matplotlib>=3.0.3->matrixprofile>=1.1.10<2.0.0->tsfresh) (0.10.0)\nRequirement already satisfied: pytz>=2017.3 in /shared-libs/python3.8/py/lib/python3.8/site-packages (from pandas>=0.25.0->tsfresh) (2021.1)\nCollecting locket\n  Downloading locket-0.2.1-py2.py3-none-any.whl (4.1 kB)\nRequirement already satisfied: certifi>=2017.4.17 in /shared-libs/python3.8/py/lib/python3.8/site-packages (from requests>=2.9.1->tsfresh) (2021.5.30)\nRequirement already satisfied: idna<3,>=2.5 in /shared-libs/python3.8/py/lib/python3.8/site-packages (from requests>=2.9.1->tsfresh) (2.10)\nRequirement already satisfied: chardet<5,>=3.0.2 in /shared-libs/python3.8/py/lib/python3.8/site-packages (from requests>=2.9.1->tsfresh) (3.0.4)\nRequirement already satisfied: urllib3<1.27,>=1.21.1 in /shared-libs/python3.8/py/lib/python3.8/site-packages (from requests>=2.9.1->tsfresh) (1.26.5)\nRequirement already satisfied: joblib>=0.11 in /shared-libs/python3.8/py/lib/python3.8/site-packages (from scikit-learn>=0.22.0->tsfresh) (1.0.1)\nRequirement already satisfied: threadpoolctl>=2.0.0 in /shared-libs/python3.8/py/lib/python3.8/site-packages (from scikit-learn>=0.22.0->tsfresh) (2.1.0)\nRequirement already satisfied: numba>=0.48 in /root/venv/lib/python3.8/site-packages (from stumpy>=1.7.2->tsfresh) (0.53.1)\nRequirement already satisfied: llvmlite<0.37,>=0.36.0rc1 in /root/venv/lib/python3.8/site-packages (from numba>=0.48->stumpy>=1.7.2->tsfresh) (0.36.0)\nCollecting heapdict\n  Downloading HeapDict-1.0.1-py3-none-any.whl (3.9 kB)\nInstalling collected packages: locket, partd, heapdict, fsspec, zict, tblib, sortedcontainers, protobuf, dask, stumpy, matrixprofile, distributed, tsfresh\n  Attempting uninstall: protobuf\n    Found existing installation: protobuf 3.17.2\n    Not uninstalling protobuf at /shared-libs/python3.8/py/lib/python3.8/site-packages, outside environment /root/venv\n    Can't uninstall 'protobuf'. No files were found to uninstall.\n\u001b[31mERROR: pip's dependency resolver does not currently take into account all the packages that are installed. This behaviour is the source of the following dependency conflicts.\nray 1.4.0 requires protobuf>=3.15.3, but you have protobuf 3.11.2 which is incompatible.\ntensorflow 2.4.1 requires six~=1.15.0, but you have six 1.16.0 which is incompatible.\nproto-plus 1.18.1 requires protobuf>=3.12.0, but you have protobuf 3.11.2 which is incompatible.\ngoogleapis-common-protos 1.53.0 requires protobuf>=3.12.0, but you have protobuf 3.11.2 which is incompatible.\ngoogle-cloud-bigquery 2.18.0 requires protobuf>=3.12.0, but you have protobuf 3.11.2 which is incompatible.\ngoogle-api-core 1.29.0 requires protobuf>=3.12.0, but you have protobuf 3.11.2 which is incompatible.\u001b[0m\nSuccessfully installed dask-2021.6.0 distributed-2021.6.0 fsspec-2021.6.0 heapdict-1.0.1 locket-0.2.1 matrixprofile-1.1.10 partd-1.2.0 protobuf-3.11.2 sortedcontainers-2.4.0 stumpy-1.8.0 tblib-1.7.0 tsfresh-0.18.0 zict-2.0.0\n",
     "output_type": "stream"
    }
   ],
   "execution_count": null
  },
  {
   "cell_type": "code",
   "source": "from src.helpers.experiment import create_tsfresh_dataframe\nfrom src.helpers.diabetes.cega import clarke_error_grid\nfrom pycaret.regression import setup, create_model, compare_models, predict_model\nfrom loguru import logger",
   "metadata": {
    "tags": [],
    "cell_id": "00001-f1c85b87-d686-424e-bc0f-10123b616d1c",
    "deepnote_to_be_reexecuted": false,
    "source_hash": "1ec0cbdb",
    "execution_start": 1623930008137,
    "execution_millis": 3767,
    "deepnote_cell_type": "code"
   },
   "outputs": [],
   "execution_count": null
  },
  {
   "cell_type": "code",
   "source": "import numpy as np\nfrom sklearn.metrics import mean_squared_error\nimport matplotlib.pyplot as plt\n\n\ndef mean_adjusted_exponent_error(y_true, y_pred, center=125, critical_range=55, slope=100, verbose=False):\n    def exponent(y_hat: float, y_i: float, a=center, b=critical_range, c=slope) -> float:\n        return 2 - np.tanh(((y_i - a) / b)) * ((y_hat - y_i) / c)\n    sum_ = 0\n    for i in range(len(y_true)):\n        exp = exponent(y_pred[i], y_true[i])\n        if verbose:\n            print(exp)\n        sum_ += abs((y_pred[i] - y_true[i])) ** exp\n    return sum_ / len(y_true)\n\n\ndef graph_vs_mse(value, value_range, action=None, save_folder='.'):\n    prediction = np.arange(value - value_range, value + value_range)\n    errors = []\n    mse = []\n    for pred in prediction:\n        errors.append(mean_adjusted_exponent_error([value], [pred]))\n        mse.append(mean_squared_error([value], [pred]))\n    plt.plot(prediction, errors, label='madex')\n    plt.plot(prediction, mse, label='mse', ls='dotted')\n    plt.axvline(value, label='Reference Value', color='k', ls='--')\n    plt.xlabel('Predicted Value')\n    plt.ylabel('Error')\n    plt.title('{} +- {}'.format(value, value_range))\n    plt.legend()\n    if action == 'save':\n        plt.savefig(\n            f'{save_folder}/compare_vs_mse({value}+-{value_range}).png')\n        plt.clf()\n    else:\n        return plt",
   "metadata": {
    "tags": [],
    "cell_id": "00002-254d7e9f-279d-47d6-8fe1-d21fefd0c617",
    "deepnote_to_be_reexecuted": false,
    "source_hash": "a6fa277c",
    "execution_start": 1623930641892,
    "execution_millis": 0,
    "deepnote_cell_type": "code"
   },
   "outputs": [],
   "execution_count": null
  },
  {
   "cell_type": "code",
   "source": "parameters = {\n    'ohio_no': 559,\n    'scope': 'train',\n    'train_ds_size': 3000,\n    'window_size': 6,\n    'prediction_horizon': 1,\n    'minimal_features': False,\n}",
   "metadata": {
    "tags": [],
    "cell_id": "00001-d955b863-4a82-4a89-9b52-88b619bd88a7",
    "deepnote_to_be_reexecuted": false,
    "source_hash": "d29a8c67",
    "execution_start": 1623930081325,
    "execution_millis": 0,
    "deepnote_cell_type": "code"
   },
   "outputs": [],
   "execution_count": null
  },
  {
   "cell_type": "code",
   "source": "df2 = create_tsfresh_dataframe(parameters)\ndf3 = df2.drop(columns=['start', 'end', 'start_time', 'end_time'])\ndf3",
   "metadata": {
    "tags": [],
    "cell_id": "00002-12c545ab-de26-4bc5-9ef8-85971e84eab9",
    "deepnote_to_be_reexecuted": false,
    "source_hash": "c2640055",
    "execution_start": 1623930081755,
    "execution_millis": 1367,
    "deepnote_cell_type": "code"
   },
   "outputs": [
    {
     "name": "stderr",
     "text": "2021-06-17 11:41:21.752 | INFO     | src.helpers.experiment:create_ds_name:12 - dataframes/559_train_3000_6_1.pkl\n2021-06-17 11:41:21.816 | INFO     | src.helpers.experiment:create_tsfresh_dataframe:19 - {'ohio_no': 559, 'scope': 'train', 'train_ds_size': 3000, 'window_size': 6, 'prediction_horizon': 1, 'minimal_features': False}\n",
     "output_type": "stream"
    },
    {
     "data": {
      "text/plain": "<Figure size 432x288 with 1 Axes>",
      "image/png": "[encoded data removed]"
     },
     "metadata": {
      "needs_background": "light",
      "image/png": {
       "width": 375,
       "height": 262
      }
     },
     "output_type": "display_data"
    },
    {
     "name": "stderr",
     "text": "2021-06-17 11:41:22.145 | INFO     | src.helpers.experiment:create_tsfresh_dataframe:22 - Found existing picle file. Continuing...\n2021-06-17 11:41:22.146 | INFO     | src.helpers.dataframe:read_df:11 - Attempting to read from pickle file dataframes/559_train_3000_6_1.pkl\n",
     "output_type": "stream"
    },
    {
     "output_type": "execute_result",
     "execution_count": 8,
     "data": {
      "application/vnd.deepnote.dataframe.v2+json": {
       "row_count": 2994,
       "column_count": 788,
       "columns": [
        {
         "name": "bg_value__variance_larger_than_standard_deviation",
         "dtype": "float64",
         "stats": {
          "unique_count": 2,
          "nan_count": 0,
          "min": "0.0",
          "max": "1.0",
          "histogram": [
           {
            "bin_start": 0,
            "bin_end": 0.1,
            "count": 193
           },
           {
            "bin_start": 0.1,
            "bin_end": 0.2,
            "count": 0
           },
           {
            "bin_start": 0.2,
            "bin_end": 0.30000000000000004,
            "count": 0
           },
           {
            "bin_start": 0.30000000000000004,
            "bin_end": 0.4,
            "count": 0
           },
           {
            "bin_start": 0.4,
            "bin_end": 0.5,
            "count": 0
           },
           {
            "bin_start": 0.5,
            "bin_end": 0.6000000000000001,
            "count": 0
           },
           {
            "bin_start": 0.6000000000000001,
            "bin_end": 0.7000000000000001,
            "count": 0
           },
           {
            "bin_start": 0.7000000000000001,
            "bin_end": 0.8,
            "count": 0
           },
           {
            "bin_start": 0.8,
            "bin_end": 0.9,
            "count": 0
           },
           {
            "bin_start": 0.9,
            "bin_end": 1,
            "count": 2801
           }
          ]
         }
        },
        {
         "name": "bg_value__has_duplicate_max",
         "dtype": "float64",
         "stats": {
          "unique_count": 2,
          "nan_count": 0,
          "min": "0.0",
          "max": "1.0",
          "histogram": [
           {
            "bin_start": 0,
            "bin_end": 0.1,
            "count": 2576
           },
           {
            "bin_start": 0.1,
            "bin_end": 0.2,
            "count": 0
           },
           {
            "bin_start": 0.2,
            "bin_end": 0.30000000000000004,
            "count": 0
           },
           {
            "bin_start": 0.30000000000000004,
            "bin_end": 0.4,
            "count": 0
           },
           {
            "bin_start": 0.4,
            "bin_end": 0.5,
            "count": 0
           },
           {
            "bin_start": 0.5,
            "bin_end": 0.6000000000000001,
            "count": 0
           },
           {
            "bin_start": 0.6000000000000001,
            "bin_end": 0.7000000000000001,
            "count": 0
           },
           {
            "bin_start": 0.7000000000000001,
            "bin_end": 0.8,
            "count": 0
           },
           {
            "bin_start": 0.8,
            "bin_end": 0.9,
            "count": 0
           },
           {
            "bin_start": 0.9,
            "bin_end": 1,
            "count": 418
           }
          ]
         }
        },
        {
         "name": "bg_value__has_duplicate_min",
         "dtype": "float64",
         "stats": {
          "unique_count": 2,
          "nan_count": 0,
          "min": "0.0",
          "max": "1.0",
          "histogram": [
           {
            "bin_start": 0,
            "bin_end": 0.1,
            "count": 2511
           },
           {
            "bin_start": 0.1,
            "bin_end": 0.2,
            "count": 0
           },
           {
            "bin_start": 0.2,
            "bin_end": 0.30000000000000004,
            "count": 0
           },
           {
            "bin_start": 0.30000000000000004,
            "bin_end": 0.4,
            "count": 0
           },
           {
            "bin_start": 0.4,
            "bin_end": 0.5,
            "count": 0
           },
           {
            "bin_start": 0.5,
            "bin_end": 0.6000000000000001,
            "count": 0
           },
           {
            "bin_start": 0.6000000000000001,
            "bin_end": 0.7000000000000001,
            "count": 0
           },
           {
            "bin_start": 0.7000000000000001,
            "bin_end": 0.8,
            "count": 0
           },
           {
            "bin_start": 0.8,
            "bin_end": 0.9,
            "count": 0
           },
           {
            "bin_start": 0.9,
            "bin_end": 1,
            "count": 483
           }
          ]
         }
        },
        {
         "name": "bg_value__has_duplicate",
         "dtype": "float64",
         "stats": {
          "unique_count": 2,
          "nan_count": 0,
          "min": "0.0",
          "max": "1.0",
          "histogram": [
           {
            "bin_start": 0,
            "bin_end": 0.1,
            "count": 1598
           },
           {
            "bin_start": 0.1,
            "bin_end": 0.2,
            "count": 0
           },
           {
            "bin_start": 0.2,
            "bin_end": 0.30000000000000004,
            "count": 0
           },
           {
            "bin_start": 0.30000000000000004,
            "bin_end": 0.4,
            "count": 0
           },
           {
            "bin_start": 0.4,
            "bin_end": 0.5,
            "count": 0
           },
           {
            "bin_start": 0.5,
            "bin_end": 0.6000000000000001,
            "count": 0
           },
           {
            "bin_start": 0.6000000000000001,
            "bin_end": 0.7000000000000001,
            "count": 0
           },
           {
            "bin_start": 0.7000000000000001,
            "bin_end": 0.8,
            "count": 0
           },
           {
            "bin_start": 0.8,
            "bin_end": 0.9,
            "count": 0
           },
           {
            "bin_start": 0.9,
            "bin_end": 1,
            "count": 1396
           }
          ]
         }
        },
        {
         "name": "bg_value__sum_values",
         "dtype": "float64",
         "stats": {
          "unique_count": 1304,
          "nan_count": 0,
          "min": "336.0",
          "max": "2288.0",
          "histogram": [
           {
            "bin_start": 336,
            "bin_end": 531.2,
            "count": 357
           },
           {
            "bin_start": 531.2,
            "bin_end": 726.4,
            "count": 608
           },
           {
            "bin_start": 726.4,
            "bin_end": 921.5999999999999,
            "count": 486
           },
           {
            "bin_start": 921.5999999999999,
            "bin_end": 1116.8,
            "count": 326
           },
           {
            "bin_start": 1116.8,
            "bin_end": 1312,
            "count": 530
           },
           {
            "bin_start": 1312,
            "bin_end": 1507.1999999999998,
            "count": 248
           },
           {
            "bin_start": 1507.1999999999998,
            "bin_end": 1702.3999999999999,
            "count": 216
           },
           {
            "bin_start": 1702.3999999999999,
            "bin_end": 1897.6,
            "count": 111
           },
           {
            "bin_start": 1897.6,
            "bin_end": 2092.8,
            "count": 70
           },
           {
            "bin_start": 2092.8,
            "bin_end": 2288,
            "count": 42
           }
          ]
         }
        },
        {
         "name": "bg_value__abs_energy",
         "dtype": "float64",
         "stats": {
          "unique_count": 2876,
          "nan_count": 0,
          "min": "18868.0",
          "max": "874426.0",
          "histogram": [
           {
            "bin_start": 18868,
            "bin_end": 104423.8,
            "count": 1141
           },
           {
            "bin_start": 104423.8,
            "bin_end": 189979.6,
            "count": 534
           },
           {
            "bin_start": 189979.6,
            "bin_end": 275535.4,
            "count": 559
           },
           {
            "bin_start": 275535.4,
            "bin_end": 361091.2,
            "count": 279
           },
           {
            "bin_start": 361091.2,
            "bin_end": 446647,
            "count": 197
           },
           {
            "bin_start": 446647,
            "bin_end": 532202.8,
            "count": 126
           },
           {
            "bin_start": 532202.8,
            "bin_end": 617758.6,
            "count": 55
           },
           {
            "bin_start": 617758.6,
            "bin_end": 703314.4,
            "count": 41
           },
           {
            "bin_start": 703314.4,
            "bin_end": 788870.2000000001,
            "count": 53
           },
           {
            "bin_start": 788870.2000000001,
            "bin_end": 874426,
            "count": 9
           }
          ]
         }
        },
        {
         "name": "bg_value__mean_abs_change",
         "dtype": "float64",
         "stats": {
          "unique_count": 118,
          "nan_count": 0,
          "min": "0.0",
          "max": "53.4",
          "histogram": [
           {
            "bin_start": 0,
            "bin_end": 5.34,
            "count": 2006
           },
           {
            "bin_start": 5.34,
            "bin_end": 10.68,
            "count": 748
           },
           {
            "bin_start": 10.68,
            "bin_end": 16.02,
            "count": 189
           },
           {
            "bin_start": 16.02,
            "bin_end": 21.36,
            "count": 28
           },
           {
            "bin_start": 21.36,
            "bin_end": 26.7,
            "count": 5
           },
           {
            "bin_start": 26.7,
            "bin_end": 32.04,
            "count": 8
           },
           {
            "bin_start": 32.04,
            "bin_end": 37.379999999999995,
            "count": 5
           },
           {
            "bin_start": 37.379999999999995,
            "bin_end": 42.72,
            "count": 0
           },
           {
            "bin_start": 42.72,
            "bin_end": 48.06,
            "count": 0
           },
           {
            "bin_start": 48.06,
            "bin_end": 53.4,
            "count": 5
           }
          ]
         }
        },
        {
         "name": "bg_value__mean_change",
         "dtype": "float64",
         "stats": {
          "unique_count": 194,
          "nan_count": 0,
          "min": "-34.2",
          "max": "52.0",
          "histogram": [
           {
            "bin_start": -34.2,
            "bin_end": -25.580000000000002,
            "count": 7
           },
           {
            "bin_start": -25.580000000000002,
            "bin_end": -16.96,
            "count": 9
           },
           {
            "bin_start": -16.96,
            "bin_end": -8.34,
            "count": 131
           },
           {
            "bin_start": -8.34,
            "bin_end": 0.28000000000000114,
            "count": 1549
           },
           {
            "bin_start": 0.28000000000000114,
            "bin_end": 8.900000000000006,
            "count": 1128
           },
           {
            "bin_start": 8.900000000000006,
            "bin_end": 17.520000000000003,
            "count": 152
           },
           {
            "bin_start": 17.520000000000003,
            "bin_end": 26.14,
            "count": 10
           },
           {
            "bin_start": 26.14,
            "bin_end": 34.760000000000005,
            "count": 3
           },
           {
            "bin_start": 34.760000000000005,
            "bin_end": 43.38000000000001,
            "count": 0
           },
           {
            "bin_start": 43.38000000000001,
            "bin_end": 52,
            "count": 5
           }
          ]
         }
        },
        {
         "name": "bg_value__mean_second_derivative_central",
         "dtype": "float64",
         "stats": {
          "unique_count": 84,
          "nan_count": 0,
          "min": "-32.625",
          "max": "32.5",
          "histogram": [
           {
            "bin_start": -32.625,
            "bin_end": -26.1125,
            "count": 1
           },
           {
            "bin_start": -26.1125,
            "bin_end": -19.6,
            "count": 0
           },
           {
            "bin_start": -19.6,
            "bin_end": -13.087499999999999,
            "count": 2
           },
           {
            "bin_start": -13.087499999999999,
            "bin_end": -6.574999999999999,
            "count": 2
           },
           {
            "bin_start": -6.574999999999999,
            "bin_end": -0.0625,
            "count": 1347
           },
           {
            "bin_start": -0.0625,
            "bin_end": 6.450000000000003,
            "count": 1637
           },
           {
            "bin_start": 6.450000000000003,
            "bin_end": 12.962499999999999,
            "count": 2
           },
           {
            "bin_start": 12.962499999999999,
            "bin_end": 19.475,
            "count": 1
           },
           {
            "bin_start": 19.475,
            "bin_end": 25.987500000000004,
            "count": 1
           },
           {
            "bin_start": 25.987500000000004,
            "bin_end": 32.5,
            "count": 1
           }
          ]
         }
        },
        {
         "name": "bg_value__median",
         "dtype": "float64",
         "stats": {
          "unique_count": 550,
          "nan_count": 0,
          "min": "56.5",
          "max": "384.5",
          "histogram": [
           {
            "bin_start": 56.5,
            "bin_end": 89.3,
            "count": 380
           },
           {
            "bin_start": 89.3,
            "bin_end": 122.1,
            "count": 613
           },
           {
            "bin_start": 122.1,
            "bin_end": 154.89999999999998,
            "count": 476
           },
           {
            "bin_start": 154.89999999999998,
            "bin_end": 187.7,
            "count": 334
           },
           {
            "bin_start": 187.7,
            "bin_end": 220.5,
            "count": 511
           },
           {
            "bin_start": 220.5,
            "bin_end": 253.29999999999998,
            "count": 249
           },
           {
            "bin_start": 253.29999999999998,
            "bin_end": 286.09999999999997,
            "count": 217
           },
           {
            "bin_start": 286.09999999999997,
            "bin_end": 318.9,
            "count": 105
           },
           {
            "bin_start": 318.9,
            "bin_end": 351.7,
            "count": 79
           },
           {
            "bin_start": 351.7,
            "bin_end": 384.5,
            "count": 30
           }
          ]
         }
        },
        {
         "name": "bg_value__mean",
         "dtype": "float64",
         "stats": {
          "unique_count": 1304,
          "nan_count": 0,
          "min": "56.0",
          "max": "381.3333333333333",
          "histogram": [
           {
            "bin_start": 56,
            "bin_end": 88.53333333333333,
            "count": 357
           },
           {
            "bin_start": 88.53333333333333,
            "bin_end": 121.06666666666666,
            "count": 608
           },
           {
            "bin_start": 121.06666666666666,
            "bin_end": 153.6,
            "count": 486
           },
           {
            "bin_start": 153.6,
            "bin_end": 186.13333333333333,
            "count": 326
           },
           {
            "bin_start": 186.13333333333333,
            "bin_end": 218.66666666666666,
            "count": 530
           },
           {
            "bin_start": 218.66666666666666,
            "bin_end": 251.2,
            "count": 248
           },
           {
            "bin_start": 251.2,
            "bin_end": 283.73333333333335,
            "count": 216
           },
           {
            "bin_start": 283.73333333333335,
            "bin_end": 316.26666666666665,
            "count": 111
           },
           {
            "bin_start": 316.26666666666665,
            "bin_end": 348.79999999999995,
            "count": 70
           },
           {
            "bin_start": 348.79999999999995,
            "bin_end": 381.3333333333333,
            "count": 42
           }
          ]
         }
        },
        {
         "name": "bg_value__length",
         "dtype": "float64",
         "stats": {
          "unique_count": 1,
          "nan_count": 0,
          "min": "6.0",
          "max": "6.0",
          "histogram": [
           {
            "bin_start": 5.5,
            "bin_end": 5.6,
            "count": 0
           },
           {
            "bin_start": 5.6,
            "bin_end": 5.7,
            "count": 0
           },
           {
            "bin_start": 5.7,
            "bin_end": 5.8,
            "count": 0
           },
           {
            "bin_start": 5.8,
            "bin_end": 5.9,
            "count": 0
           },
           {
            "bin_start": 5.9,
            "bin_end": 6,
            "count": 0
           },
           {
            "bin_start": 6,
            "bin_end": 6.1,
            "count": 2994
           },
           {
            "bin_start": 6.1,
            "bin_end": 6.2,
            "count": 0
           },
           {
            "bin_start": 6.2,
            "bin_end": 6.3,
            "count": 0
           },
           {
            "bin_start": 6.3,
            "bin_end": 6.4,
            "count": 0
           },
           {
            "bin_start": 6.4,
            "bin_end": 6.5,
            "count": 0
           }
          ]
         }
        },
        {
         "name": "bg_value__standard_deviation",
         "dtype": "float64",
         "stats": {
          "unique_count": 1594,
          "nan_count": 0,
          "min": "0.0",
          "max": "129.5038609463054",
          "histogram": [
           {
            "bin_start": 0,
            "bin_end": 12.95038609463054,
            "count": 2515
           },
           {
            "bin_start": 12.95038609463054,
            "bin_end": 25.90077218926108,
            "count": 411
           },
           {
            "bin_start": 25.90077218926108,
            "bin_end": 38.85115828389162,
            "count": 48
           },
           {
            "bin_start": 38.85115828389162,
            "bin_end": 51.80154437852216,
            "count": 5
           },
           {
            "bin_start": 51.80154437852216,
            "bin_end": 64.7519304731527,
            "count": 7
           },
           {
            "bin_start": 64.7519304731527,
            "bin_end": 77.70231656778324,
            "count": 2
           },
           {
            "bin_start": 77.70231656778324,
            "bin_end": 90.65270266241377,
            "count": 1
           },
           {
            "bin_start": 90.65270266241377,
            "bin_end": 103.60308875704432,
            "count": 2
           },
           {
            "bin_start": 103.60308875704432,
            "bin_end": 116.55347485167486,
            "count": 0
           },
           {
            "bin_start": 116.55347485167486,
            "bin_end": 129.5038609463054,
            "count": 3
           }
          ]
         }
        },
        {
         "name": "bg_value__variation_coefficient",
         "dtype": "float64",
         "stats": {
          "unique_count": 2885,
          "nan_count": 0,
          "min": "0.0",
          "max": "0.718416603566094",
          "histogram": [
           {
            "bin_start": 0,
            "bin_end": 0.07184166035660941,
            "count": 2412
           },
           {
            "bin_start": 0.07184166035660941,
            "bin_end": 0.14368332071321882,
            "count": 433
           },
           {
            "bin_start": 0.14368332071321882,
            "bin_end": 0.21552498106982823,
            "count": 125
           },
           {
            "bin_start": 0.21552498106982823,
            "bin_end": 0.28736664142643764,
            "count": 10
           },
           {
            "bin_start": 0.28736664142643764,
            "bin_end": 0.3592083017830471,
            "count": 4
           },
           {
            "bin_start": 0.3592083017830471,
            "bin_end": 0.43104996213965646,
            "count": 3
           },
           {
            "bin_start": 0.43104996213965646,
            "bin_end": 0.5028916224962658,
            "count": 2
           },
           {
            "bin_start": 0.5028916224962658,
            "bin_end": 0.5747332828528753,
            "count": 0
           },
           {
            "bin_start": 0.5747332828528753,
            "bin_end": 0.6465749432094847,
            "count": 3
           },
           {
            "bin_start": 0.6465749432094847,
            "bin_end": 0.718416603566094,
            "count": 2
           }
          ]
         }
        },
        {
         "name": "bg_value__variance",
         "dtype": "float64",
         "stats": {
          "unique_count": 1701,
          "nan_count": 0,
          "min": "0.0",
          "max": "16771.25",
          "histogram": [
           {
            "bin_start": 0,
            "bin_end": 1677.125,
            "count": 2974
           },
           {
            "bin_start": 1677.125,
            "bin_end": 3354.25,
            "count": 9
           },
           {
            "bin_start": 3354.25,
            "bin_end": 5031.375,
            "count": 3
           },
           {
            "bin_start": 5031.375,
            "bin_end": 6708.5,
            "count": 3
           },
           {
            "bin_start": 6708.5,
            "bin_end": 8385.625,
            "count": 0
           },
           {
            "bin_start": 8385.625,
            "bin_end": 10062.75,
            "count": 2
           },
           {
            "bin_start": 10062.75,
            "bin_end": 11739.875,
            "count": 0
           },
           {
            "bin_start": 11739.875,
            "bin_end": 13417,
            "count": 0
           },
           {
            "bin_start": 13417,
            "bin_end": 15094.125,
            "count": 2
           },
           {
            "bin_start": 15094.125,
            "bin_end": 16771.25,
            "count": 1
           }
          ]
         }
        },
        {
         "name": "bg_value__skewness",
         "dtype": "float64",
         "stats": {
          "unique_count": 2590,
          "nan_count": 0,
          "min": "-2.449489742783283",
          "max": "2.4494897427832827",
          "histogram": [
           {
            "bin_start": -2.449489742783283,
            "bin_end": -1.9595917942266265,
            "count": 36
           },
           {
            "bin_start": -1.9595917942266265,
            "bin_end": -1.46969384566997,
            "count": 85
           },
           {
            "bin_start": -1.46969384566997,
            "bin_end": -0.9797958971133136,
            "count": 174
           },
           {
            "bin_start": -0.9797958971133136,
            "bin_end": -0.489897948556657,
            "count": 460
           },
           {
            "bin_start": -0.489897948556657,
            "bin_end": -4.440892098500626e-16,
            "count": 649
           },
           {
            "bin_start": -4.440892098500626e-16,
            "bin_end": 0.4898979485566559,
            "count": 745
           },
           {
            "bin_start": 0.4898979485566559,
            "bin_end": 0.9797958971133127,
            "count": 491
           },
           {
            "bin_start": 0.9797958971133127,
            "bin_end": 1.469693845669969,
            "count": 217
           },
           {
            "bin_start": 1.469693845669969,
            "bin_end": 1.9595917942266259,
            "count": 92
           },
           {
            "bin_start": 1.9595917942266259,
            "bin_end": 2.4494897427832827,
            "count": 45
           }
          ]
         }
        },
        {
         "name": "bg_value__kurtosis",
         "dtype": "float64",
         "stats": {
          "unique_count": 2469,
          "nan_count": 0,
          "min": "-3.3333333333333335",
          "max": "6.0000000000005365",
          "histogram": [
           {
            "bin_start": -3.3333333333333335,
            "bin_end": -2.399999999999946,
            "count": 97
           },
           {
            "bin_start": -2.399999999999946,
            "bin_end": -1.4666666666665593,
            "count": 758
           },
           {
            "bin_start": -1.4666666666665593,
            "bin_end": -0.533333333333172,
            "count": 871
           },
           {
            "bin_start": -0.533333333333172,
            "bin_end": 0.40000000000021485,
            "count": 542
           },
           {
            "bin_start": 0.40000000000021485,
            "bin_end": 1.3333333333336017,
            "count": 273
           },
           {
            "bin_start": 1.3333333333336017,
            "bin_end": 2.2666666666669895,
            "count": 164
           },
           {
            "bin_start": 2.2666666666669895,
            "bin_end": 3.2000000000003763,
            "count": 138
           },
           {
            "bin_start": 3.2000000000003763,
            "bin_end": 4.133333333333763,
            "count": 70
           },
           {
            "bin_start": 4.133333333333763,
            "bin_end": 5.06666666666715,
            "count": 38
           },
           {
            "bin_start": 5.06666666666715,
            "bin_end": 6.0000000000005365,
            "count": 43
           }
          ]
         }
        },
        {
         "name": "bg_value__root_mean_square",
         "dtype": "float64",
         "stats": {
          "unique_count": 2876,
          "nan_count": 0,
          "min": "56.07732756352309",
          "max": "381.7560302950913",
          "histogram": [
           {
            "bin_start": 56.07732756352309,
            "bin_end": 88.64519783667991,
            "count": 355
           },
           {
            "bin_start": 88.64519783667991,
            "bin_end": 121.21306810983674,
            "count": 604
           },
           {
            "bin_start": 121.21306810983674,
            "bin_end": 153.78093838299355,
            "count": 489
           },
           {
            "bin_start": 153.78093838299355,
            "bin_end": 186.34880865615037,
            "count": 326
           },
           {
            "bin_start": 186.34880865615037,
            "bin_end": 218.91667892930718,
            "count": 534
           },
           {
            "bin_start": 218.91667892930718,
            "bin_end": 251.48454920246402,
            "count": 249
           },
           {
            "bin_start": 251.48454920246402,
            "bin_end": 284.05241947562087,
            "count": 213
           },
           {
            "bin_start": 284.05241947562087,
            "bin_end": 316.6202897487777,
            "count": 112
           },
           {
            "bin_start": 316.6202897487777,
            "bin_end": 349.1881600219345,
            "count": 72
           },
           {
            "bin_start": 349.1881600219345,
            "bin_end": 381.7560302950913,
            "count": 40
           }
          ]
         }
        },
        {
         "name": "bg_value__absolute_sum_of_changes",
         "dtype": "float64",
         "stats": {
          "unique_count": 118,
          "nan_count": 0,
          "min": "0.0",
          "max": "267.0",
          "histogram": [
           {
            "bin_start": 0,
            "bin_end": 26.7,
            "count": 2006
           },
           {
            "bin_start": 26.7,
            "bin_end": 53.4,
            "count": 748
           },
           {
            "bin_start": 53.4,
            "bin_end": 80.1,
            "count": 189
           },
           {
            "bin_start": 80.1,
            "bin_end": 106.8,
            "count": 28
           },
           {
            "bin_start": 106.8,
            "bin_end": 133.5,
            "count": 5
           },
           {
            "bin_start": 133.5,
            "bin_end": 160.2,
            "count": 8
           },
           {
            "bin_start": 160.2,
            "bin_end": 186.9,
            "count": 5
           },
           {
            "bin_start": 186.9,
            "bin_end": 213.6,
            "count": 0
           },
           {
            "bin_start": 213.6,
            "bin_end": 240.29999999999998,
            "count": 0
           },
           {
            "bin_start": 240.29999999999998,
            "bin_end": 267,
            "count": 5
           }
          ]
         }
        },
        {
         "name": "bg_value__longest_strike_below_mean",
         "dtype": "float64",
         "stats": {
          "unique_count": 6,
          "nan_count": 0,
          "min": "0.0",
          "max": "5.0",
          "histogram": [
           {
            "bin_start": 0,
            "bin_end": 0.5,
            "count": 4
           },
           {
            "bin_start": 0.5,
            "bin_end": 1,
            "count": 0
           },
           {
            "bin_start": 1,
            "bin_end": 1.5,
            "count": 131
           },
           {
            "bin_start": 1.5,
            "bin_end": 2,
            "count": 0
           },
           {
            "bin_start": 2,
            "bin_end": 2.5,
            "count": 845
           },
           {
            "bin_start": 2.5,
            "bin_end": 3,
            "count": 0
           },
           {
            "bin_start": 3,
            "bin_end": 3.5,
            "count": 1509
           },
           {
            "bin_start": 3.5,
            "bin_end": 4,
            "count": 0
           },
           {
            "bin_start": 4,
            "bin_end": 4.5,
            "count": 470
           },
           {
            "bin_start": 4.5,
            "bin_end": 5,
            "count": 35
           }
          ]
         }
        },
        {
         "name": "bg_value__longest_strike_above_mean",
         "dtype": "float64",
         "stats": {
          "unique_count": 6,
          "nan_count": 0,
          "min": "0.0",
          "max": "5.0",
          "histogram": [
           {
            "bin_start": 0,
            "bin_end": 0.5,
            "count": 4
           },
           {
            "bin_start": 0.5,
            "bin_end": 1,
            "count": 0
           },
           {
            "bin_start": 1,
            "bin_end": 1.5,
            "count": 159
           },
           {
            "bin_start": 1.5,
            "bin_end": 2,
            "count": 0
           },
           {
            "bin_start": 2,
            "bin_end": 2.5,
            "count": 854
           },
           {
            "bin_start": 2.5,
            "bin_end": 3,
            "count": 0
           },
           {
            "bin_start": 3,
            "bin_end": 3.5,
            "count": 1503
           },
           {
            "bin_start": 3.5,
            "bin_end": 4,
            "count": 0
           },
           {
            "bin_start": 4,
            "bin_end": 4.5,
            "count": 445
           },
           {
            "bin_start": 4.5,
            "bin_end": 5,
            "count": 29
           }
          ]
         }
        },
        {
         "name": "bg_value__count_above_mean",
         "dtype": "float64",
         "stats": {
          "unique_count": 6,
          "nan_count": 0,
          "min": "0.0",
          "max": "5.0",
          "histogram": [
           {
            "bin_start": 0,
            "bin_end": 0.5,
            "count": 4
           },
           {
            "bin_start": 0.5,
            "bin_end": 1,
            "count": 0
           },
           {
            "bin_start": 1,
            "bin_end": 1.5,
            "count": 67
           },
           {
            "bin_start": 1.5,
            "bin_end": 2,
            "count": 0
           },
           {
            "bin_start": 2,
            "bin_end": 2.5,
            "count": 656
           },
           {
            "bin_start": 2.5,
            "bin_end": 3,
            "count": 0
           },
           {
            "bin_start": 3,
            "bin_end": 3.5,
            "count": 1710
           },
           {
            "bin_start": 3.5,
            "bin_end": 4,
            "count": 0
           },
           {
            "bin_start": 4,
            "bin_end": 4.5,
            "count": 518
           },
           {
            "bin_start": 4.5,
            "bin_end": 5,
            "count": 39
           }
          ]
         }
        },
        {
         "name": "bg_value__count_below_mean",
         "dtype": "float64",
         "stats": {
          "unique_count": 6,
          "nan_count": 0,
          "min": "0.0",
          "max": "5.0",
          "histogram": [
           {
            "bin_start": 0,
            "bin_end": 0.5,
            "count": 4
           },
           {
            "bin_start": 0.5,
            "bin_end": 1,
            "count": 0
           },
           {
            "bin_start": 1,
            "bin_end": 1.5,
            "count": 58
           },
           {
            "bin_start": 1.5,
            "bin_end": 2,
            "count": 0
           },
           {
            "bin_start": 2,
            "bin_end": 2.5,
            "count": 617
           },
           {
            "bin_start": 2.5,
            "bin_end": 3,
            "count": 0
           },
           {
            "bin_start": 3,
            "bin_end": 3.5,
            "count": 1712
           },
           {
            "bin_start": 3.5,
            "bin_end": 4,
            "count": 0
           },
           {
            "bin_start": 4,
            "bin_end": 4.5,
            "count": 562
           },
           {
            "bin_start": 4.5,
            "bin_end": 5,
            "count": 41
           }
          ]
         }
        },
        {
         "name": "bg_value__last_location_of_maximum",
         "dtype": "float64",
         "stats": {
          "unique_count": 6,
          "nan_count": 0,
          "min": "0.16666666666666663",
          "max": "1.0",
          "histogram": [
           {
            "bin_start": 0.16666666666666663,
            "bin_end": 0.24999999999999997,
            "count": 1077
           },
           {
            "bin_start": 0.24999999999999997,
            "bin_end": 0.3333333333333333,
            "count": 0
           },
           {
            "bin_start": 0.3333333333333333,
            "bin_end": 0.41666666666666663,
            "count": 245
           },
           {
            "bin_start": 0.41666666666666663,
            "bin_end": 0.5,
            "count": 0
           },
           {
            "bin_start": 0.5,
            "bin_end": 0.5833333333333334,
            "count": 202
           },
           {
            "bin_start": 0.5833333333333334,
            "bin_end": 0.6666666666666666,
            "count": 0
           },
           {
            "bin_start": 0.6666666666666666,
            "bin_end": 0.75,
            "count": 201
           },
           {
            "bin_start": 0.75,
            "bin_end": 0.8333333333333334,
            "count": 0
           },
           {
            "bin_start": 0.8333333333333334,
            "bin_end": 0.9166666666666667,
            "count": 216
           },
           {
            "bin_start": 0.9166666666666667,
            "bin_end": 1,
            "count": 1053
           }
          ]
         }
        },
        {
         "name": "bg_value__first_location_of_maximum",
         "dtype": "float64",
         "stats": {
          "unique_count": 6,
          "nan_count": 0,
          "min": "0.0",
          "max": "0.8333333333333334",
          "histogram": [
           {
            "bin_start": 0,
            "bin_end": 0.08333333333333334,
            "count": 1256
           },
           {
            "bin_start": 0.08333333333333334,
            "bin_end": 0.16666666666666669,
            "count": 209
           },
           {
            "bin_start": 0.16666666666666669,
            "bin_end": 0.25,
            "count": 0
           },
           {
            "bin_start": 0.25,
            "bin_end": 0.33333333333333337,
            "count": 192
           },
           {
            "bin_start": 0.33333333333333337,
            "bin_end": 0.41666666666666674,
            "count": 0
           },
           {
            "bin_start": 0.41666666666666674,
            "bin_end": 0.5,
            "count": 0
           },
           {
            "bin_start": 0.5,
            "bin_end": 0.5833333333333334,
            "count": 211
           },
           {
            "bin_start": 0.5833333333333334,
            "bin_end": 0.6666666666666667,
            "count": 229
           },
           {
            "bin_start": 0.6666666666666667,
            "bin_end": 0.7500000000000001,
            "count": 0
           },
           {
            "bin_start": 0.7500000000000001,
            "bin_end": 0.8333333333333334,
            "count": 897
           }
          ]
         }
        },
        {
         "name": "bg_value__last_location_of_minimum",
         "dtype": "float64",
         "stats": {
          "unique_count": 6,
          "nan_count": 0,
          "min": "0.16666666666666663",
          "max": "1.0",
          "histogram": [
           {
            "bin_start": 0.16666666666666663,
            "bin_end": 0.24999999999999997,
            "count": 905
           },
           {
            "bin_start": 0.24999999999999997,
            "bin_end": 0.3333333333333333,
            "count": 0
           },
           {
            "bin_start": 0.3333333333333333,
            "bin_end": 0.41666666666666663,
            "count": 226
           },
           {
            "bin_start": 0.41666666666666663,
            "bin_end": 0.5,
            "count": 0
           },
           {
            "bin_start": 0.5,
            "bin_end": 0.5833333333333334,
            "count": 200
           },
           {
            "bin_start": 0.5833333333333334,
            "bin_end": 0.6666666666666666,
            "count": 0
           },
           {
            "bin_start": 0.6666666666666666,
            "bin_end": 0.75,
            "count": 202
           },
           {
            "bin_start": 0.75,
            "bin_end": 0.8333333333333334,
            "count": 0
           },
           {
            "bin_start": 0.8333333333333334,
            "bin_end": 0.9166666666666667,
            "count": 206
           },
           {
            "bin_start": 0.9166666666666667,
            "bin_end": 1,
            "count": 1255
           }
          ]
         }
        },
        {
         "name": "bg_value__first_location_of_minimum",
         "dtype": "float64",
         "stats": {
          "unique_count": 6,
          "nan_count": 0,
          "min": "0.0",
          "max": "0.8333333333333334",
          "histogram": [
           {
            "bin_start": 0,
            "bin_end": 0.08333333333333334,
            "count": 1085
           },
           {
            "bin_start": 0.08333333333333334,
            "bin_end": 0.16666666666666669,
            "count": 216
           },
           {
            "bin_start": 0.16666666666666669,
            "bin_end": 0.25,
            "count": 0
           },
           {
            "bin_start": 0.25,
            "bin_end": 0.33333333333333337,
            "count": 203
           },
           {
            "bin_start": 0.33333333333333337,
            "bin_end": 0.41666666666666674,
            "count": 0
           },
           {
            "bin_start": 0.41666666666666674,
            "bin_end": 0.5,
            "count": 0
           },
           {
            "bin_start": 0.5,
            "bin_end": 0.5833333333333334,
            "count": 197
           },
           {
            "bin_start": 0.5833333333333334,
            "bin_end": 0.6666666666666667,
            "count": 237
           },
           {
            "bin_start": 0.6666666666666667,
            "bin_end": 0.7500000000000001,
            "count": 0
           },
           {
            "bin_start": 0.7500000000000001,
            "bin_end": 0.8333333333333334,
            "count": 1056
           }
          ]
         }
        },
        {
         "name": "bg_value__percentage_of_reoccurring_values_to_all_values",
         "dtype": "float64",
         "stats": {
          "unique_count": 7,
          "nan_count": 0,
          "min": "0.0",
          "max": "1.0",
          "histogram": [
           {
            "bin_start": 0,
            "bin_end": 0.1,
            "count": 1598
           },
           {
            "bin_start": 0.1,
            "bin_end": 0.2,
            "count": 0
           },
           {
            "bin_start": 0.2,
            "bin_end": 0.30000000000000004,
            "count": 942
           },
           {
            "bin_start": 0.30000000000000004,
            "bin_end": 0.4,
            "count": 32
           },
           {
            "bin_start": 0.4,
            "bin_end": 0.5,
            "count": 0
           },
           {
            "bin_start": 0.5,
            "bin_end": 0.6000000000000001,
            "count": 236
           },
           {
            "bin_start": 0.6000000000000001,
            "bin_end": 0.7000000000000001,
            "count": 114
           },
           {
            "bin_start": 0.7000000000000001,
            "bin_end": 0.8,
            "count": 0
           },
           {
            "bin_start": 0.8,
            "bin_end": 0.9,
            "count": 0
           },
           {
            "bin_start": 0.9,
            "bin_end": 1,
            "count": 72
           }
          ]
         }
        },
        {
         "name": "bg_value__percentage_of_reoccurring_datapoints_to_all_datapoints",
         "dtype": "float64",
         "stats": {
          "unique_count": 6,
          "nan_count": 0,
          "min": "0.0",
          "max": "1.0",
          "histogram": [
           {
            "bin_start": 0,
            "bin_end": 0.1,
            "count": 1598
           },
           {
            "bin_start": 0.1,
            "bin_end": 0.2,
            "count": 0
           },
           {
            "bin_start": 0.2,
            "bin_end": 0.30000000000000004,
            "count": 0
           },
           {
            "bin_start": 0.30000000000000004,
            "bin_end": 0.4,
            "count": 779
           },
           {
            "bin_start": 0.4,
            "bin_end": 0.5,
            "count": 0
           },
           {
            "bin_start": 0.5,
            "bin_end": 0.6000000000000001,
            "count": 163
           },
           {
            "bin_start": 0.6000000000000001,
            "bin_end": 0.7000000000000001,
            "count": 247
           },
           {
            "bin_start": 0.7000000000000001,
            "bin_end": 0.8,
            "count": 0
           },
           {
            "bin_start": 0.8,
            "bin_end": 0.9,
            "count": 135
           },
           {
            "bin_start": 0.9,
            "bin_end": 1,
            "count": 72
           }
          ]
         }
        },
        {
         "name": "bg_value__sum_of_reoccurring_values",
         "dtype": "float64",
         "stats": {
          "unique_count": 273,
          "nan_count": 0,
          "min": "0.0",
          "max": "774.0",
          "histogram": [
           {
            "bin_start": 0,
            "bin_end": 77.4,
            "count": 1681
           },
           {
            "bin_start": 77.4,
            "bin_end": 154.8,
            "count": 477
           },
           {
            "bin_start": 154.8,
            "bin_end": 232.20000000000002,
            "count": 456
           },
           {
            "bin_start": 232.20000000000002,
            "bin_end": 309.6,
            "count": 201
           },
           {
            "bin_start": 309.6,
            "bin_end": 387,
            "count": 83
           },
           {
            "bin_start": 387,
            "bin_end": 464.40000000000003,
            "count": 49
           },
           {
            "bin_start": 464.40000000000003,
            "bin_end": 541.8000000000001,
            "count": 20
           },
           {
            "bin_start": 541.8000000000001,
            "bin_end": 619.2,
            "count": 19
           },
           {
            "bin_start": 619.2,
            "bin_end": 696.6,
            "count": 1
           },
           {
            "bin_start": 696.6,
            "bin_end": 774,
            "count": 7
           }
          ]
         }
        },
        {
         "name": "bg_value__sum_of_reoccurring_data_points",
         "dtype": "float64",
         "stats": {
          "unique_count": 379,
          "nan_count": 0,
          "min": "0.0",
          "max": "1823.0",
          "histogram": [
           {
            "bin_start": 0,
            "bin_end": 182.3,
            "count": 1717
           },
           {
            "bin_start": 182.3,
            "bin_end": 364.6,
            "count": 472
           },
           {
            "bin_start": 364.6,
            "bin_end": 546.9000000000001,
            "count": 463
           },
           {
            "bin_start": 546.9000000000001,
            "bin_end": 729.2,
            "count": 185
           },
           {
            "bin_start": 729.2,
            "bin_end": 911.5,
            "count": 69
           },
           {
            "bin_start": 911.5,
            "bin_end": 1093.8000000000002,
            "count": 50
           },
           {
            "bin_start": 1093.8000000000002,
            "bin_end": 1276.1000000000001,
            "count": 26
           },
           {
            "bin_start": 1276.1000000000001,
            "bin_end": 1458.4,
            "count": 8
           },
           {
            "bin_start": 1458.4,
            "bin_end": 1640.7,
            "count": 1
           },
           {
            "bin_start": 1640.7,
            "bin_end": 1823,
            "count": 3
           }
          ]
         }
        },
        {
         "name": "bg_value__ratio_value_number_to_time_series_length",
         "dtype": "float64",
         "stats": {
          "unique_count": 6,
          "nan_count": 0,
          "min": "0.16666666666666666",
          "max": "1.0",
          "histogram": [
           {
            "bin_start": 0.16666666666666666,
            "bin_end": 0.25,
            "count": 4
           },
           {
            "bin_start": 0.25,
            "bin_end": 0.33333333333333337,
            "count": 65
           },
           {
            "bin_start": 0.33333333333333337,
            "bin_end": 0.41666666666666663,
            "count": 0
           },
           {
            "bin_start": 0.41666666666666663,
            "bin_end": 0.5,
            "count": 0
           },
           {
            "bin_start": 0.5,
            "bin_end": 0.5833333333333334,
            "count": 170
           },
           {
            "bin_start": 0.5833333333333334,
            "bin_end": 0.6666666666666666,
            "count": 0
           },
           {
            "bin_start": 0.6666666666666666,
            "bin_end": 0.75,
            "count": 378
           },
           {
            "bin_start": 0.75,
            "bin_end": 0.8333333333333334,
            "count": 0
           },
           {
            "bin_start": 0.8333333333333334,
            "bin_end": 0.9166666666666667,
            "count": 779
           },
           {
            "bin_start": 0.9166666666666667,
            "bin_end": 1,
            "count": 1598
           }
          ]
         }
        },
        {
         "name": "bg_value__sample_entropy",
         "dtype": "float64",
         "stats": {
          "unique_count": 6,
          "nan_count": 2529,
          "min": "0.40546510810816444",
          "max": "inf",
          "histogram": [
           {
            "bin_start": 0.40546510810816444,
            "bin_end": 0.474779826164159,
            "count": 1
           },
           {
            "bin_start": 0.474779826164159,
            "bin_end": 0.5440945442201535,
            "count": 4
           },
           {
            "bin_start": 0.5440945442201535,
            "bin_end": 0.613409262276148,
            "count": 0
           },
           {
            "bin_start": 0.613409262276148,
            "bin_end": 0.6827239803321425,
            "count": 0
           },
           {
            "bin_start": 0.6827239803321425,
            "bin_end": 0.7520386983881371,
            "count": 28
           },
           {
            "bin_start": 0.7520386983881371,
            "bin_end": 0.8213534164441316,
            "count": 0
           },
           {
            "bin_start": 0.8213534164441316,
            "bin_end": 0.8906681345001262,
            "count": 0
           },
           {
            "bin_start": 0.8906681345001262,
            "bin_end": 0.9599828525561207,
            "count": 1
           },
           {
            "bin_start": 0.9599828525561207,
            "bin_end": 1.0292975706121152,
            "count": 0
           },
           {
            "bin_start": 1.0292975706121152,
            "bin_end": 1.0986122886681098,
            "count": 55
           }
          ]
         }
        },
        {
         "name": "bg_value__maximum",
         "dtype": "float64"
        },
        {
         "name": "bg_value__minimum",
         "dtype": "float64"
        },
        {
         "name": "bg_value__benford_correlation",
         "dtype": "float64"
        },
        {
         "name": "bg_value__time_reversal_asymmetry_statistic__lag_1",
         "dtype": "float64"
        },
        {
         "name": "bg_value__time_reversal_asymmetry_statistic__lag_2",
         "dtype": "float64"
        },
        {
         "name": "bg_value__time_reversal_asymmetry_statistic__lag_3",
         "dtype": "float64"
        },
        {
         "name": "bg_value__c3__lag_1",
         "dtype": "float64"
        },
        {
         "name": "bg_value__c3__lag_2",
         "dtype": "float64"
        },
        {
         "name": "bg_value__c3__lag_3",
         "dtype": "float64"
        },
        {
         "name": "bg_value__cid_ce__normalize_True",
         "dtype": "float64"
        },
        {
         "name": "bg_value__cid_ce__normalize_False",
         "dtype": "float64"
        },
        {
         "name": "bg_value__symmetry_looking__r_0.0",
         "dtype": "float64"
        },
        {
         "name": "bg_value__symmetry_looking__r_0.05",
         "dtype": "float64"
        },
        {
         "name": "bg_value__symmetry_looking__r_0.1",
         "dtype": "float64"
        },
        {
         "name": "bg_value__symmetry_looking__r_0.15000000000000002",
         "dtype": "float64"
        },
        {
         "name": "bg_value__symmetry_looking__r_0.2",
         "dtype": "float64"
        },
        {
         "name": "bg_value__symmetry_looking__r_0.25",
         "dtype": "float64"
        },
        {
         "name": "bg_value__symmetry_looking__r_0.30000000000000004",
         "dtype": "float64"
        },
        {
         "name": "bg_value__symmetry_looking__r_0.35000000000000003",
         "dtype": "float64"
        },
        {
         "name": "bg_value__symmetry_looking__r_0.4",
         "dtype": "float64"
        },
        {
         "name": "bg_value__symmetry_looking__r_0.45",
         "dtype": "float64"
        },
        {
         "name": "bg_value__symmetry_looking__r_0.5",
         "dtype": "float64"
        },
        {
         "name": "bg_value__symmetry_looking__r_0.55",
         "dtype": "float64"
        },
        {
         "name": "bg_value__symmetry_looking__r_0.6000000000000001",
         "dtype": "float64"
        },
        {
         "name": "bg_value__symmetry_looking__r_0.65",
         "dtype": "float64"
        },
        {
         "name": "bg_value__symmetry_looking__r_0.7000000000000001",
         "dtype": "float64"
        },
        {
         "name": "bg_value__symmetry_looking__r_0.75",
         "dtype": "float64"
        },
        {
         "name": "bg_value__symmetry_looking__r_0.8",
         "dtype": "float64"
        },
        {
         "name": "bg_value__symmetry_looking__r_0.8500000000000001",
         "dtype": "float64"
        },
        {
         "name": "bg_value__symmetry_looking__r_0.9",
         "dtype": "float64"
        },
        {
         "name": "bg_value__symmetry_looking__r_0.9500000000000001",
         "dtype": "float64"
        },
        {
         "name": "bg_value__large_standard_deviation__r_0.05",
         "dtype": "float64"
        },
        {
         "name": "bg_value__large_standard_deviation__r_0.1",
         "dtype": "float64"
        },
        {
         "name": "bg_value__large_standard_deviation__r_0.15000000000000002",
         "dtype": "float64"
        },
        {
         "name": "bg_value__large_standard_deviation__r_0.2",
         "dtype": "float64"
        },
        {
         "name": "bg_value__large_standard_deviation__r_0.25",
         "dtype": "float64"
        },
        {
         "name": "bg_value__large_standard_deviation__r_0.30000000000000004",
         "dtype": "float64"
        },
        {
         "name": "bg_value__large_standard_deviation__r_0.35000000000000003",
         "dtype": "float64"
        },
        {
         "name": "bg_value__large_standard_deviation__r_0.4",
         "dtype": "float64"
        },
        {
         "name": "bg_value__large_standard_deviation__r_0.45",
         "dtype": "float64"
        },
        {
         "name": "bg_value__large_standard_deviation__r_0.5",
         "dtype": "float64"
        },
        {
         "name": "bg_value__large_standard_deviation__r_0.55",
         "dtype": "float64"
        },
        {
         "name": "bg_value__large_standard_deviation__r_0.6000000000000001",
         "dtype": "float64"
        },
        {
         "name": "bg_value__large_standard_deviation__r_0.65",
         "dtype": "float64"
        },
        {
         "name": "bg_value__large_standard_deviation__r_0.7000000000000001",
         "dtype": "float64"
        },
        {
         "name": "bg_value__large_standard_deviation__r_0.75",
         "dtype": "float64"
        },
        {
         "name": "bg_value__large_standard_deviation__r_0.8",
         "dtype": "float64"
        },
        {
         "name": "bg_value__large_standard_deviation__r_0.8500000000000001",
         "dtype": "float64"
        },
        {
         "name": "bg_value__large_standard_deviation__r_0.9",
         "dtype": "float64"
        },
        {
         "name": "bg_value__large_standard_deviation__r_0.9500000000000001",
         "dtype": "float64"
        },
        {
         "name": "bg_value__quantile__q_0.1",
         "dtype": "float64"
        },
        {
         "name": "bg_value__quantile__q_0.2",
         "dtype": "float64"
        },
        {
         "name": "bg_value__quantile__q_0.3",
         "dtype": "float64"
        },
        {
         "name": "bg_value__quantile__q_0.4",
         "dtype": "float64"
        },
        {
         "name": "bg_value__quantile__q_0.6",
         "dtype": "float64"
        },
        {
         "name": "bg_value__quantile__q_0.7",
         "dtype": "float64"
        },
        {
         "name": "bg_value__quantile__q_0.8",
         "dtype": "float64"
        },
        {
         "name": "bg_value__quantile__q_0.9",
         "dtype": "float64"
        },
        {
         "name": "bg_value__autocorrelation__lag_0",
         "dtype": "float64"
        },
        {
         "name": "bg_value__autocorrelation__lag_1",
         "dtype": "float64"
        },
        {
         "name": "bg_value__autocorrelation__lag_2",
         "dtype": "float64"
        },
        {
         "name": "bg_value__autocorrelation__lag_3",
         "dtype": "float64"
        },
        {
         "name": "bg_value__autocorrelation__lag_4",
         "dtype": "float64"
        },
        {
         "name": "bg_value__autocorrelation__lag_5",
         "dtype": "float64"
        },
        {
         "name": "bg_value__autocorrelation__lag_6",
         "dtype": "float64"
        },
        {
         "name": "bg_value__autocorrelation__lag_7",
         "dtype": "float64"
        },
        {
         "name": "bg_value__autocorrelation__lag_8",
         "dtype": "float64"
        },
        {
         "name": "bg_value__autocorrelation__lag_9",
         "dtype": "float64"
        },
        {
         "name": "bg_value__agg_autocorrelation__f_agg_\"mean\"__maxlag_40",
         "dtype": "float64"
        },
        {
         "name": "bg_value__agg_autocorrelation__f_agg_\"median\"__maxlag_40",
         "dtype": "float64"
        },
        {
         "name": "bg_value__agg_autocorrelation__f_agg_\"var\"__maxlag_40",
         "dtype": "float64"
        },
        {
         "name": "bg_value__partial_autocorrelation__lag_0",
         "dtype": "float64"
        },
        {
         "name": "bg_value__partial_autocorrelation__lag_1",
         "dtype": "float64"
        },
        {
         "name": "bg_value__partial_autocorrelation__lag_2",
         "dtype": "float64"
        },
        {
         "name": "bg_value__partial_autocorrelation__lag_3",
         "dtype": "float64"
        },
        {
         "name": "bg_value__partial_autocorrelation__lag_4",
         "dtype": "float64"
        },
        {
         "name": "bg_value__partial_autocorrelation__lag_5",
         "dtype": "float64"
        },
        {
         "name": "bg_value__partial_autocorrelation__lag_6",
         "dtype": "float64"
        },
        {
         "name": "bg_value__partial_autocorrelation__lag_7",
         "dtype": "float64"
        },
        {
         "name": "bg_value__partial_autocorrelation__lag_8",
         "dtype": "float64"
        },
        {
         "name": "bg_value__partial_autocorrelation__lag_9",
         "dtype": "float64"
        },
        {
         "name": "bg_value__number_cwt_peaks__n_1",
         "dtype": "float64"
        },
        {
         "name": "bg_value__number_cwt_peaks__n_5",
         "dtype": "float64"
        },
        {
         "name": "bg_value__number_peaks__n_1",
         "dtype": "float64"
        },
        {
         "name": "bg_value__number_peaks__n_3",
         "dtype": "float64"
        },
        {
         "name": "bg_value__number_peaks__n_5",
         "dtype": "float64"
        },
        {
         "name": "bg_value__number_peaks__n_10",
         "dtype": "float64"
        },
        {
         "name": "bg_value__number_peaks__n_50",
         "dtype": "float64"
        },
        {
         "name": "bg_value__binned_entropy__max_bins_10",
         "dtype": "float64"
        },
        {
         "name": "bg_value__index_mass_quantile__q_0.1",
         "dtype": "float64"
        },
        {
         "name": "bg_value__index_mass_quantile__q_0.2",
         "dtype": "float64"
        },
        {
         "name": "bg_value__index_mass_quantile__q_0.3",
         "dtype": "float64"
        },
        {
         "name": "bg_value__index_mass_quantile__q_0.4",
         "dtype": "float64"
        },
        {
         "name": "bg_value__index_mass_quantile__q_0.6",
         "dtype": "float64"
        },
        {
         "name": "bg_value__index_mass_quantile__q_0.7",
         "dtype": "float64"
        },
        {
         "name": "bg_value__index_mass_quantile__q_0.8",
         "dtype": "float64"
        },
        {
         "name": "bg_value__index_mass_quantile__q_0.9",
         "dtype": "float64"
        },
        {
         "name": "bg_value__cwt_coefficients__coeff_0__w_2__widths_(2, 5, 10, 20)",
         "dtype": "float64"
        },
        {
         "name": "bg_value__cwt_coefficients__coeff_0__w_5__widths_(2, 5, 10, 20)",
         "dtype": "float64"
        },
        {
         "name": "bg_value__cwt_coefficients__coeff_0__w_10__widths_(2, 5, 10, 20)",
         "dtype": "float64"
        },
        {
         "name": "bg_value__cwt_coefficients__coeff_0__w_20__widths_(2, 5, 10, 20)",
         "dtype": "float64"
        },
        {
         "name": "bg_value__cwt_coefficients__coeff_1__w_2__widths_(2, 5, 10, 20)",
         "dtype": "float64"
        },
        {
         "name": "bg_value__cwt_coefficients__coeff_1__w_5__widths_(2, 5, 10, 20)",
         "dtype": "float64"
        },
        {
         "name": "bg_value__cwt_coefficients__coeff_1__w_10__widths_(2, 5, 10, 20)",
         "dtype": "float64"
        },
        {
         "name": "bg_value__cwt_coefficients__coeff_1__w_20__widths_(2, 5, 10, 20)",
         "dtype": "float64"
        },
        {
         "name": "bg_value__cwt_coefficients__coeff_2__w_2__widths_(2, 5, 10, 20)",
         "dtype": "float64"
        },
        {
         "name": "bg_value__cwt_coefficients__coeff_2__w_5__widths_(2, 5, 10, 20)",
         "dtype": "float64"
        },
        {
         "name": "bg_value__cwt_coefficients__coeff_2__w_10__widths_(2, 5, 10, 20)",
         "dtype": "float64"
        },
        {
         "name": "bg_value__cwt_coefficients__coeff_2__w_20__widths_(2, 5, 10, 20)",
         "dtype": "float64"
        },
        {
         "name": "bg_value__cwt_coefficients__coeff_3__w_2__widths_(2, 5, 10, 20)",
         "dtype": "float64"
        },
        {
         "name": "bg_value__cwt_coefficients__coeff_3__w_5__widths_(2, 5, 10, 20)",
         "dtype": "float64"
        },
        {
         "name": "bg_value__cwt_coefficients__coeff_3__w_10__widths_(2, 5, 10, 20)",
         "dtype": "float64"
        },
        {
         "name": "bg_value__cwt_coefficients__coeff_3__w_20__widths_(2, 5, 10, 20)",
         "dtype": "float64"
        },
        {
         "name": "bg_value__cwt_coefficients__coeff_4__w_2__widths_(2, 5, 10, 20)",
         "dtype": "float64"
        },
        {
         "name": "bg_value__cwt_coefficients__coeff_4__w_5__widths_(2, 5, 10, 20)",
         "dtype": "float64"
        },
        {
         "name": "bg_value__cwt_coefficients__coeff_4__w_10__widths_(2, 5, 10, 20)",
         "dtype": "float64"
        },
        {
         "name": "bg_value__cwt_coefficients__coeff_4__w_20__widths_(2, 5, 10, 20)",
         "dtype": "float64"
        },
        {
         "name": "bg_value__cwt_coefficients__coeff_5__w_2__widths_(2, 5, 10, 20)",
         "dtype": "float64"
        },
        {
         "name": "bg_value__cwt_coefficients__coeff_5__w_5__widths_(2, 5, 10, 20)",
         "dtype": "float64"
        },
        {
         "name": "bg_value__cwt_coefficients__coeff_5__w_10__widths_(2, 5, 10, 20)",
         "dtype": "float64"
        },
        {
         "name": "bg_value__cwt_coefficients__coeff_5__w_20__widths_(2, 5, 10, 20)",
         "dtype": "float64"
        },
        {
         "name": "bg_value__cwt_coefficients__coeff_6__w_2__widths_(2, 5, 10, 20)",
         "dtype": "float64"
        },
        {
         "name": "bg_value__cwt_coefficients__coeff_6__w_5__widths_(2, 5, 10, 20)",
         "dtype": "float64"
        },
        {
         "name": "bg_value__cwt_coefficients__coeff_6__w_10__widths_(2, 5, 10, 20)",
         "dtype": "float64"
        },
        {
         "name": "bg_value__cwt_coefficients__coeff_6__w_20__widths_(2, 5, 10, 20)",
         "dtype": "float64"
        },
        {
         "name": "bg_value__cwt_coefficients__coeff_7__w_2__widths_(2, 5, 10, 20)",
         "dtype": "float64"
        },
        {
         "name": "bg_value__cwt_coefficients__coeff_7__w_5__widths_(2, 5, 10, 20)",
         "dtype": "float64"
        },
        {
         "name": "bg_value__cwt_coefficients__coeff_7__w_10__widths_(2, 5, 10, 20)",
         "dtype": "float64"
        },
        {
         "name": "bg_value__cwt_coefficients__coeff_7__w_20__widths_(2, 5, 10, 20)",
         "dtype": "float64"
        },
        {
         "name": "bg_value__cwt_coefficients__coeff_8__w_2__widths_(2, 5, 10, 20)",
         "dtype": "float64"
        },
        {
         "name": "bg_value__cwt_coefficients__coeff_8__w_5__widths_(2, 5, 10, 20)",
         "dtype": "float64"
        },
        {
         "name": "bg_value__cwt_coefficients__coeff_8__w_10__widths_(2, 5, 10, 20)",
         "dtype": "float64"
        },
        {
         "name": "bg_value__cwt_coefficients__coeff_8__w_20__widths_(2, 5, 10, 20)",
         "dtype": "float64"
        },
        {
         "name": "bg_value__cwt_coefficients__coeff_9__w_2__widths_(2, 5, 10, 20)",
         "dtype": "float64"
        },
        {
         "name": "bg_value__cwt_coefficients__coeff_9__w_5__widths_(2, 5, 10, 20)",
         "dtype": "float64"
        },
        {
         "name": "bg_value__cwt_coefficients__coeff_9__w_10__widths_(2, 5, 10, 20)",
         "dtype": "float64"
        },
        {
         "name": "bg_value__cwt_coefficients__coeff_9__w_20__widths_(2, 5, 10, 20)",
         "dtype": "float64"
        },
        {
         "name": "bg_value__cwt_coefficients__coeff_10__w_2__widths_(2, 5, 10, 20)",
         "dtype": "float64"
        },
        {
         "name": "bg_value__cwt_coefficients__coeff_10__w_5__widths_(2, 5, 10, 20)",
         "dtype": "float64"
        },
        {
         "name": "bg_value__cwt_coefficients__coeff_10__w_10__widths_(2, 5, 10, 20)",
         "dtype": "float64"
        },
        {
         "name": "bg_value__cwt_coefficients__coeff_10__w_20__widths_(2, 5, 10, 20)",
         "dtype": "float64"
        },
        {
         "name": "bg_value__cwt_coefficients__coeff_11__w_2__widths_(2, 5, 10, 20)",
         "dtype": "float64"
        },
        {
         "name": "bg_value__cwt_coefficients__coeff_11__w_5__widths_(2, 5, 10, 20)",
         "dtype": "float64"
        },
        {
         "name": "bg_value__cwt_coefficients__coeff_11__w_10__widths_(2, 5, 10, 20)",
         "dtype": "float64"
        },
        {
         "name": "bg_value__cwt_coefficients__coeff_11__w_20__widths_(2, 5, 10, 20)",
         "dtype": "float64"
        },
        {
         "name": "bg_value__cwt_coefficients__coeff_12__w_2__widths_(2, 5, 10, 20)",
         "dtype": "float64"
        },
        {
         "name": "bg_value__cwt_coefficients__coeff_12__w_5__widths_(2, 5, 10, 20)",
         "dtype": "float64"
        },
        {
         "name": "bg_value__cwt_coefficients__coeff_12__w_10__widths_(2, 5, 10, 20)",
         "dtype": "float64"
        },
        {
         "name": "bg_value__cwt_coefficients__coeff_12__w_20__widths_(2, 5, 10, 20)",
         "dtype": "float64"
        },
        {
         "name": "bg_value__cwt_coefficients__coeff_13__w_2__widths_(2, 5, 10, 20)",
         "dtype": "float64"
        },
        {
         "name": "bg_value__cwt_coefficients__coeff_13__w_5__widths_(2, 5, 10, 20)",
         "dtype": "float64"
        },
        {
         "name": "bg_value__cwt_coefficients__coeff_13__w_10__widths_(2, 5, 10, 20)",
         "dtype": "float64"
        },
        {
         "name": "bg_value__cwt_coefficients__coeff_13__w_20__widths_(2, 5, 10, 20)",
         "dtype": "float64"
        },
        {
         "name": "bg_value__cwt_coefficients__coeff_14__w_2__widths_(2, 5, 10, 20)",
         "dtype": "float64"
        },
        {
         "name": "bg_value__cwt_coefficients__coeff_14__w_5__widths_(2, 5, 10, 20)",
         "dtype": "float64"
        },
        {
         "name": "bg_value__cwt_coefficients__coeff_14__w_10__widths_(2, 5, 10, 20)",
         "dtype": "float64"
        },
        {
         "name": "bg_value__cwt_coefficients__coeff_14__w_20__widths_(2, 5, 10, 20)",
         "dtype": "float64"
        },
        {
         "name": "bg_value__spkt_welch_density__coeff_2",
         "dtype": "float64"
        },
        {
         "name": "bg_value__spkt_welch_density__coeff_5",
         "dtype": "float64"
        },
        {
         "name": "bg_value__spkt_welch_density__coeff_8",
         "dtype": "float64"
        },
        {
         "name": "bg_value__ar_coefficient__coeff_0__k_10",
         "dtype": "float64"
        },
        {
         "name": "bg_value__ar_coefficient__coeff_1__k_10",
         "dtype": "float64"
        },
        {
         "name": "bg_value__ar_coefficient__coeff_2__k_10",
         "dtype": "float64"
        },
        {
         "name": "bg_value__ar_coefficient__coeff_3__k_10",
         "dtype": "float64"
        },
        {
         "name": "bg_value__ar_coefficient__coeff_4__k_10",
         "dtype": "float64"
        },
        {
         "name": "bg_value__ar_coefficient__coeff_5__k_10",
         "dtype": "float64"
        },
        {
         "name": "bg_value__ar_coefficient__coeff_6__k_10",
         "dtype": "float64"
        },
        {
         "name": "bg_value__ar_coefficient__coeff_7__k_10",
         "dtype": "float64"
        },
        {
         "name": "bg_value__ar_coefficient__coeff_8__k_10",
         "dtype": "float64"
        },
        {
         "name": "bg_value__ar_coefficient__coeff_9__k_10",
         "dtype": "float64"
        },
        {
         "name": "bg_value__ar_coefficient__coeff_10__k_10",
         "dtype": "float64"
        },
        {
         "name": "bg_value__change_quantiles__f_agg_\"mean\"__isabs_False__qh_0.2__ql_0.0",
         "dtype": "float64"
        },
        {
         "name": "bg_value__change_quantiles__f_agg_\"var\"__isabs_False__qh_0.2__ql_0.0",
         "dtype": "float64"
        },
        {
         "name": "bg_value__change_quantiles__f_agg_\"mean\"__isabs_True__qh_0.2__ql_0.0",
         "dtype": "float64"
        },
        {
         "name": "bg_value__change_quantiles__f_agg_\"var\"__isabs_True__qh_0.2__ql_0.0",
         "dtype": "float64"
        },
        {
         "name": "bg_value__change_quantiles__f_agg_\"mean\"__isabs_False__qh_0.4__ql_0.0",
         "dtype": "float64"
        },
        {
         "name": "bg_value__change_quantiles__f_agg_\"var\"__isabs_False__qh_0.4__ql_0.0",
         "dtype": "float64"
        },
        {
         "name": "bg_value__change_quantiles__f_agg_\"mean\"__isabs_True__qh_0.4__ql_0.0",
         "dtype": "float64"
        },
        {
         "name": "bg_value__change_quantiles__f_agg_\"var\"__isabs_True__qh_0.4__ql_0.0",
         "dtype": "float64"
        },
        {
         "name": "bg_value__change_quantiles__f_agg_\"mean\"__isabs_False__qh_0.6__ql_0.0",
         "dtype": "float64"
        },
        {
         "name": "bg_value__change_quantiles__f_agg_\"var\"__isabs_False__qh_0.6__ql_0.0",
         "dtype": "float64"
        },
        {
         "name": "bg_value__change_quantiles__f_agg_\"mean\"__isabs_True__qh_0.6__ql_0.0",
         "dtype": "float64"
        },
        {
         "name": "bg_value__change_quantiles__f_agg_\"var\"__isabs_True__qh_0.6__ql_0.0",
         "dtype": "float64"
        },
        {
         "name": "bg_value__change_quantiles__f_agg_\"mean\"__isabs_False__qh_0.8__ql_0.0",
         "dtype": "float64"
        },
        {
         "name": "bg_value__change_quantiles__f_agg_\"var\"__isabs_False__qh_0.8__ql_0.0",
         "dtype": "float64"
        },
        {
         "name": "bg_value__change_quantiles__f_agg_\"mean\"__isabs_True__qh_0.8__ql_0.0",
         "dtype": "float64"
        },
        {
         "name": "bg_value__change_quantiles__f_agg_\"var\"__isabs_True__qh_0.8__ql_0.0",
         "dtype": "float64"
        },
        {
         "name": "bg_value__change_quantiles__f_agg_\"mean\"__isabs_False__qh_1.0__ql_0.0",
         "dtype": "float64"
        },
        {
         "name": "bg_value__change_quantiles__f_agg_\"var\"__isabs_False__qh_1.0__ql_0.0",
         "dtype": "float64"
        },
        {
         "name": "bg_value__change_quantiles__f_agg_\"mean\"__isabs_True__qh_1.0__ql_0.0",
         "dtype": "float64"
        },
        {
         "name": "bg_value__change_quantiles__f_agg_\"var\"__isabs_True__qh_1.0__ql_0.0",
         "dtype": "float64"
        },
        {
         "name": "bg_value__change_quantiles__f_agg_\"mean\"__isabs_False__qh_0.4__ql_0.2",
         "dtype": "float64"
        },
        {
         "name": "bg_value__change_quantiles__f_agg_\"var\"__isabs_False__qh_0.4__ql_0.2",
         "dtype": "float64"
        },
        {
         "name": "bg_value__change_quantiles__f_agg_\"mean\"__isabs_True__qh_0.4__ql_0.2",
         "dtype": "float64"
        },
        {
         "name": "bg_value__change_quantiles__f_agg_\"var\"__isabs_True__qh_0.4__ql_0.2",
         "dtype": "float64"
        },
        {
         "name": "bg_value__change_quantiles__f_agg_\"mean\"__isabs_False__qh_0.6__ql_0.2",
         "dtype": "float64"
        },
        {
         "name": "bg_value__change_quantiles__f_agg_\"var\"__isabs_False__qh_0.6__ql_0.2",
         "dtype": "float64"
        },
        {
         "name": "bg_value__change_quantiles__f_agg_\"mean\"__isabs_True__qh_0.6__ql_0.2",
         "dtype": "float64"
        },
        {
         "name": "bg_value__change_quantiles__f_agg_\"var\"__isabs_True__qh_0.6__ql_0.2",
         "dtype": "float64"
        },
        {
         "name": "bg_value__change_quantiles__f_agg_\"mean\"__isabs_False__qh_0.8__ql_0.2",
         "dtype": "float64"
        },
        {
         "name": "bg_value__change_quantiles__f_agg_\"var\"__isabs_False__qh_0.8__ql_0.2",
         "dtype": "float64"
        },
        {
         "name": "bg_value__change_quantiles__f_agg_\"mean\"__isabs_True__qh_0.8__ql_0.2",
         "dtype": "float64"
        },
        {
         "name": "bg_value__change_quantiles__f_agg_\"var\"__isabs_True__qh_0.8__ql_0.2",
         "dtype": "float64"
        },
        {
         "name": "bg_value__change_quantiles__f_agg_\"mean\"__isabs_False__qh_1.0__ql_0.2",
         "dtype": "float64"
        },
        {
         "name": "bg_value__change_quantiles__f_agg_\"var\"__isabs_False__qh_1.0__ql_0.2",
         "dtype": "float64"
        },
        {
         "name": "bg_value__change_quantiles__f_agg_\"mean\"__isabs_True__qh_1.0__ql_0.2",
         "dtype": "float64"
        },
        {
         "name": "bg_value__change_quantiles__f_agg_\"var\"__isabs_True__qh_1.0__ql_0.2",
         "dtype": "float64"
        },
        {
         "name": "bg_value__change_quantiles__f_agg_\"mean\"__isabs_False__qh_0.6__ql_0.4",
         "dtype": "float64"
        },
        {
         "name": "bg_value__change_quantiles__f_agg_\"var\"__isabs_False__qh_0.6__ql_0.4",
         "dtype": "float64"
        },
        {
         "name": "bg_value__change_quantiles__f_agg_\"mean\"__isabs_True__qh_0.6__ql_0.4",
         "dtype": "float64"
        },
        {
         "name": "bg_value__change_quantiles__f_agg_\"var\"__isabs_True__qh_0.6__ql_0.4",
         "dtype": "float64"
        },
        {
         "name": "bg_value__change_quantiles__f_agg_\"mean\"__isabs_False__qh_0.8__ql_0.4",
         "dtype": "float64"
        },
        {
         "name": "bg_value__change_quantiles__f_agg_\"var\"__isabs_False__qh_0.8__ql_0.4",
         "dtype": "float64"
        },
        {
         "name": "bg_value__change_quantiles__f_agg_\"mean\"__isabs_True__qh_0.8__ql_0.4",
         "dtype": "float64"
        },
        {
         "name": "bg_value__change_quantiles__f_agg_\"var\"__isabs_True__qh_0.8__ql_0.4",
         "dtype": "float64"
        },
        {
         "name": "bg_value__change_quantiles__f_agg_\"mean\"__isabs_False__qh_1.0__ql_0.4",
         "dtype": "float64"
        },
        {
         "name": "bg_value__change_quantiles__f_agg_\"var\"__isabs_False__qh_1.0__ql_0.4",
         "dtype": "float64"
        },
        {
         "name": "bg_value__change_quantiles__f_agg_\"mean\"__isabs_True__qh_1.0__ql_0.4",
         "dtype": "float64"
        },
        {
         "name": "bg_value__change_quantiles__f_agg_\"var\"__isabs_True__qh_1.0__ql_0.4",
         "dtype": "float64"
        },
        {
         "name": "bg_value__change_quantiles__f_agg_\"mean\"__isabs_False__qh_0.8__ql_0.6",
         "dtype": "float64"
        },
        {
         "name": "bg_value__change_quantiles__f_agg_\"var\"__isabs_False__qh_0.8__ql_0.6",
         "dtype": "float64"
        },
        {
         "name": "bg_value__change_quantiles__f_agg_\"mean\"__isabs_True__qh_0.8__ql_0.6",
         "dtype": "float64"
        },
        {
         "name": "bg_value__change_quantiles__f_agg_\"var\"__isabs_True__qh_0.8__ql_0.6",
         "dtype": "float64"
        },
        {
         "name": "bg_value__change_quantiles__f_agg_\"mean\"__isabs_False__qh_1.0__ql_0.6",
         "dtype": "float64"
        },
        {
         "name": "bg_value__change_quantiles__f_agg_\"var\"__isabs_False__qh_1.0__ql_0.6",
         "dtype": "float64"
        },
        {
         "name": "bg_value__change_quantiles__f_agg_\"mean\"__isabs_True__qh_1.0__ql_0.6",
         "dtype": "float64"
        },
        {
         "name": "bg_value__change_quantiles__f_agg_\"var\"__isabs_True__qh_1.0__ql_0.6",
         "dtype": "float64"
        },
        {
         "name": "bg_value__change_quantiles__f_agg_\"mean\"__isabs_False__qh_1.0__ql_0.8",
         "dtype": "float64"
        },
        {
         "name": "bg_value__change_quantiles__f_agg_\"var\"__isabs_False__qh_1.0__ql_0.8",
         "dtype": "float64"
        },
        {
         "name": "bg_value__change_quantiles__f_agg_\"mean\"__isabs_True__qh_1.0__ql_0.8",
         "dtype": "float64"
        },
        {
         "name": "bg_value__change_quantiles__f_agg_\"var\"__isabs_True__qh_1.0__ql_0.8",
         "dtype": "float64"
        },
        {
         "name": "bg_value__fft_coefficient__attr_\"real\"__coeff_0",
         "dtype": "float64"
        },
        {
         "name": "bg_value__fft_coefficient__attr_\"real\"__coeff_1",
         "dtype": "float64"
        },
        {
         "name": "bg_value__fft_coefficient__attr_\"real\"__coeff_2",
         "dtype": "float64"
        },
        {
         "name": "bg_value__fft_coefficient__attr_\"real\"__coeff_3",
         "dtype": "float64"
        },
        {
         "name": "bg_value__fft_coefficient__attr_\"real\"__coeff_4",
         "dtype": "float64"
        },
        {
         "name": "bg_value__fft_coefficient__attr_\"real\"__coeff_5",
         "dtype": "float64"
        },
        {
         "name": "bg_value__fft_coefficient__attr_\"real\"__coeff_6",
         "dtype": "float64"
        },
        {
         "name": "bg_value__fft_coefficient__attr_\"real\"__coeff_7",
         "dtype": "float64"
        },
        {
         "name": "bg_value__fft_coefficient__attr_\"real\"__coeff_8",
         "dtype": "float64"
        },
        {
         "name": "bg_value__fft_coefficient__attr_\"real\"__coeff_9",
         "dtype": "float64"
        },
        {
         "name": "bg_value__fft_coefficient__attr_\"real\"__coeff_10",
         "dtype": "float64"
        },
        {
         "name": "bg_value__fft_coefficient__attr_\"real\"__coeff_11",
         "dtype": "float64"
        },
        {
         "name": "bg_value__fft_coefficient__attr_\"real\"__coeff_12",
         "dtype": "float64"
        },
        {
         "name": "bg_value__fft_coefficient__attr_\"real\"__coeff_13",
         "dtype": "float64"
        },
        {
         "name": "bg_value__fft_coefficient__attr_\"real\"__coeff_14",
         "dtype": "float64"
        },
        {
         "name": "bg_value__fft_coefficient__attr_\"real\"__coeff_15",
         "dtype": "float64"
        },
        {
         "name": "bg_value__fft_coefficient__attr_\"real\"__coeff_16",
         "dtype": "float64"
        },
        {
         "name": "bg_value__fft_coefficient__attr_\"real\"__coeff_17",
         "dtype": "float64"
        },
        {
         "name": "bg_value__fft_coefficient__attr_\"real\"__coeff_18",
         "dtype": "float64"
        },
        {
         "name": "bg_value__fft_coefficient__attr_\"real\"__coeff_19",
         "dtype": "float64"
        },
        {
         "name": "bg_value__fft_coefficient__attr_\"real\"__coeff_20",
         "dtype": "float64"
        },
        {
         "name": "bg_value__fft_coefficient__attr_\"real\"__coeff_21",
         "dtype": "float64"
        },
        {
         "name": "bg_value__fft_coefficient__attr_\"real\"__coeff_22",
         "dtype": "float64"
        },
        {
         "name": "bg_value__fft_coefficient__attr_\"real\"__coeff_23",
         "dtype": "float64"
        },
        {
         "name": "bg_value__fft_coefficient__attr_\"real\"__coeff_24",
         "dtype": "float64"
        },
        {
         "name": "bg_value__fft_coefficient__attr_\"real\"__coeff_25",
         "dtype": "float64"
        },
        {
         "name": "bg_value__fft_coefficient__attr_\"real\"__coeff_26",
         "dtype": "float64"
        },
        {
         "name": "bg_value__fft_coefficient__attr_\"real\"__coeff_27",
         "dtype": "float64"
        },
        {
         "name": "bg_value__fft_coefficient__attr_\"real\"__coeff_28",
         "dtype": "float64"
        },
        {
         "name": "bg_value__fft_coefficient__attr_\"real\"__coeff_29",
         "dtype": "float64"
        },
        {
         "name": "bg_value__fft_coefficient__attr_\"real\"__coeff_30",
         "dtype": "float64"
        },
        {
         "name": "bg_value__fft_coefficient__attr_\"real\"__coeff_31",
         "dtype": "float64"
        },
        {
         "name": "bg_value__fft_coefficient__attr_\"real\"__coeff_32",
         "dtype": "float64"
        },
        {
         "name": "bg_value__fft_coefficient__attr_\"real\"__coeff_33",
         "dtype": "float64"
        },
        {
         "name": "bg_value__fft_coefficient__attr_\"real\"__coeff_34",
         "dtype": "float64"
        },
        {
         "name": "bg_value__fft_coefficient__attr_\"real\"__coeff_35",
         "dtype": "float64"
        },
        {
         "name": "bg_value__fft_coefficient__attr_\"real\"__coeff_36",
         "dtype": "float64"
        },
        {
         "name": "bg_value__fft_coefficient__attr_\"real\"__coeff_37",
         "dtype": "float64"
        },
        {
         "name": "bg_value__fft_coefficient__attr_\"real\"__coeff_38",
         "dtype": "float64"
        },
        {
         "name": "bg_value__fft_coefficient__attr_\"real\"__coeff_39",
         "dtype": "float64"
        },
        {
         "name": "bg_value__fft_coefficient__attr_\"real\"__coeff_40",
         "dtype": "float64"
        },
        {
         "name": "bg_value__fft_coefficient__attr_\"real\"__coeff_41",
         "dtype": "float64"
        },
        {
         "name": "bg_value__fft_coefficient__attr_\"real\"__coeff_42",
         "dtype": "float64"
        },
        {
         "name": "bg_value__fft_coefficient__attr_\"real\"__coeff_43",
         "dtype": "float64"
        },
        {
         "name": "bg_value__fft_coefficient__attr_\"real\"__coeff_44",
         "dtype": "float64"
        },
        {
         "name": "bg_value__fft_coefficient__attr_\"real\"__coeff_45",
         "dtype": "float64"
        },
        {
         "name": "bg_value__fft_coefficient__attr_\"real\"__coeff_46",
         "dtype": "float64"
        },
        {
         "name": "bg_value__fft_coefficient__attr_\"real\"__coeff_47",
         "dtype": "float64"
        },
        {
         "name": "bg_value__fft_coefficient__attr_\"real\"__coeff_48",
         "dtype": "float64"
        },
        {
         "name": "bg_value__fft_coefficient__attr_\"real\"__coeff_49",
         "dtype": "float64"
        },
        {
         "name": "bg_value__fft_coefficient__attr_\"real\"__coeff_50",
         "dtype": "float64"
        },
        {
         "name": "bg_value__fft_coefficient__attr_\"real\"__coeff_51",
         "dtype": "float64"
        },
        {
         "name": "bg_value__fft_coefficient__attr_\"real\"__coeff_52",
         "dtype": "float64"
        },
        {
         "name": "bg_value__fft_coefficient__attr_\"real\"__coeff_53",
         "dtype": "float64"
        },
        {
         "name": "bg_value__fft_coefficient__attr_\"real\"__coeff_54",
         "dtype": "float64"
        },
        {
         "name": "bg_value__fft_coefficient__attr_\"real\"__coeff_55",
         "dtype": "float64"
        },
        {
         "name": "bg_value__fft_coefficient__attr_\"real\"__coeff_56",
         "dtype": "float64"
        },
        {
         "name": "bg_value__fft_coefficient__attr_\"real\"__coeff_57",
         "dtype": "float64"
        },
        {
         "name": "bg_value__fft_coefficient__attr_\"real\"__coeff_58",
         "dtype": "float64"
        },
        {
         "name": "bg_value__fft_coefficient__attr_\"real\"__coeff_59",
         "dtype": "float64"
        },
        {
         "name": "bg_value__fft_coefficient__attr_\"real\"__coeff_60",
         "dtype": "float64"
        },
        {
         "name": "bg_value__fft_coefficient__attr_\"real\"__coeff_61",
         "dtype": "float64"
        },
        {
         "name": "bg_value__fft_coefficient__attr_\"real\"__coeff_62",
         "dtype": "float64"
        },
        {
         "name": "bg_value__fft_coefficient__attr_\"real\"__coeff_63",
         "dtype": "float64"
        },
        {
         "name": "bg_value__fft_coefficient__attr_\"real\"__coeff_64",
         "dtype": "float64"
        },
        {
         "name": "bg_value__fft_coefficient__attr_\"real\"__coeff_65",
         "dtype": "float64"
        },
        {
         "name": "bg_value__fft_coefficient__attr_\"real\"__coeff_66",
         "dtype": "float64"
        },
        {
         "name": "bg_value__fft_coefficient__attr_\"real\"__coeff_67",
         "dtype": "float64"
        },
        {
         "name": "bg_value__fft_coefficient__attr_\"real\"__coeff_68",
         "dtype": "float64"
        },
        {
         "name": "bg_value__fft_coefficient__attr_\"real\"__coeff_69",
         "dtype": "float64"
        },
        {
         "name": "bg_value__fft_coefficient__attr_\"real\"__coeff_70",
         "dtype": "float64"
        },
        {
         "name": "bg_value__fft_coefficient__attr_\"real\"__coeff_71",
         "dtype": "float64"
        },
        {
         "name": "bg_value__fft_coefficient__attr_\"real\"__coeff_72",
         "dtype": "float64"
        },
        {
         "name": "bg_value__fft_coefficient__attr_\"real\"__coeff_73",
         "dtype": "float64"
        },
        {
         "name": "bg_value__fft_coefficient__attr_\"real\"__coeff_74",
         "dtype": "float64"
        },
        {
         "name": "bg_value__fft_coefficient__attr_\"real\"__coeff_75",
         "dtype": "float64"
        },
        {
         "name": "bg_value__fft_coefficient__attr_\"real\"__coeff_76",
         "dtype": "float64"
        },
        {
         "name": "bg_value__fft_coefficient__attr_\"real\"__coeff_77",
         "dtype": "float64"
        },
        {
         "name": "bg_value__fft_coefficient__attr_\"real\"__coeff_78",
         "dtype": "float64"
        },
        {
         "name": "bg_value__fft_coefficient__attr_\"real\"__coeff_79",
         "dtype": "float64"
        },
        {
         "name": "bg_value__fft_coefficient__attr_\"real\"__coeff_80",
         "dtype": "float64"
        },
        {
         "name": "bg_value__fft_coefficient__attr_\"real\"__coeff_81",
         "dtype": "float64"
        },
        {
         "name": "bg_value__fft_coefficient__attr_\"real\"__coeff_82",
         "dtype": "float64"
        },
        {
         "name": "bg_value__fft_coefficient__attr_\"real\"__coeff_83",
         "dtype": "float64"
        },
        {
         "name": "bg_value__fft_coefficient__attr_\"real\"__coeff_84",
         "dtype": "float64"
        },
        {
         "name": "bg_value__fft_coefficient__attr_\"real\"__coeff_85",
         "dtype": "float64"
        },
        {
         "name": "bg_value__fft_coefficient__attr_\"real\"__coeff_86",
         "dtype": "float64"
        },
        {
         "name": "bg_value__fft_coefficient__attr_\"real\"__coeff_87",
         "dtype": "float64"
        },
        {
         "name": "bg_value__fft_coefficient__attr_\"real\"__coeff_88",
         "dtype": "float64"
        },
        {
         "name": "bg_value__fft_coefficient__attr_\"real\"__coeff_89",
         "dtype": "float64"
        },
        {
         "name": "bg_value__fft_coefficient__attr_\"real\"__coeff_90",
         "dtype": "float64"
        },
        {
         "name": "bg_value__fft_coefficient__attr_\"real\"__coeff_91",
         "dtype": "float64"
        },
        {
         "name": "bg_value__fft_coefficient__attr_\"real\"__coeff_92",
         "dtype": "float64"
        },
        {
         "name": "bg_value__fft_coefficient__attr_\"real\"__coeff_93",
         "dtype": "float64"
        },
        {
         "name": "bg_value__fft_coefficient__attr_\"real\"__coeff_94",
         "dtype": "float64"
        },
        {
         "name": "bg_value__fft_coefficient__attr_\"real\"__coeff_95",
         "dtype": "float64"
        },
        {
         "name": "bg_value__fft_coefficient__attr_\"real\"__coeff_96",
         "dtype": "float64"
        },
        {
         "name": "bg_value__fft_coefficient__attr_\"real\"__coeff_97",
         "dtype": "float64"
        },
        {
         "name": "bg_value__fft_coefficient__attr_\"real\"__coeff_98",
         "dtype": "float64"
        },
        {
         "name": "bg_value__fft_coefficient__attr_\"real\"__coeff_99",
         "dtype": "float64"
        },
        {
         "name": "bg_value__fft_coefficient__attr_\"imag\"__coeff_0",
         "dtype": "float64"
        },
        {
         "name": "bg_value__fft_coefficient__attr_\"imag\"__coeff_1",
         "dtype": "float64"
        },
        {
         "name": "bg_value__fft_coefficient__attr_\"imag\"__coeff_2",
         "dtype": "float64"
        },
        {
         "name": "bg_value__fft_coefficient__attr_\"imag\"__coeff_3",
         "dtype": "float64"
        },
        {
         "name": "bg_value__fft_coefficient__attr_\"imag\"__coeff_4",
         "dtype": "float64"
        },
        {
         "name": "bg_value__fft_coefficient__attr_\"imag\"__coeff_5",
         "dtype": "float64"
        },
        {
         "name": "bg_value__fft_coefficient__attr_\"imag\"__coeff_6",
         "dtype": "float64"
        },
        {
         "name": "bg_value__fft_coefficient__attr_\"imag\"__coeff_7",
         "dtype": "float64"
        },
        {
         "name": "bg_value__fft_coefficient__attr_\"imag\"__coeff_8",
         "dtype": "float64"
        },
        {
         "name": "bg_value__fft_coefficient__attr_\"imag\"__coeff_9",
         "dtype": "float64"
        },
        {
         "name": "bg_value__fft_coefficient__attr_\"imag\"__coeff_10",
         "dtype": "float64"
        },
        {
         "name": "bg_value__fft_coefficient__attr_\"imag\"__coeff_11",
         "dtype": "float64"
        },
        {
         "name": "bg_value__fft_coefficient__attr_\"imag\"__coeff_12",
         "dtype": "float64"
        },
        {
         "name": "bg_value__fft_coefficient__attr_\"imag\"__coeff_13",
         "dtype": "float64"
        },
        {
         "name": "bg_value__fft_coefficient__attr_\"imag\"__coeff_14",
         "dtype": "float64"
        },
        {
         "name": "bg_value__fft_coefficient__attr_\"imag\"__coeff_15",
         "dtype": "float64"
        },
        {
         "name": "bg_value__fft_coefficient__attr_\"imag\"__coeff_16",
         "dtype": "float64"
        },
        {
         "name": "bg_value__fft_coefficient__attr_\"imag\"__coeff_17",
         "dtype": "float64"
        },
        {
         "name": "bg_value__fft_coefficient__attr_\"imag\"__coeff_18",
         "dtype": "float64"
        },
        {
         "name": "bg_value__fft_coefficient__attr_\"imag\"__coeff_19",
         "dtype": "float64"
        },
        {
         "name": "bg_value__fft_coefficient__attr_\"imag\"__coeff_20",
         "dtype": "float64"
        },
        {
         "name": "bg_value__fft_coefficient__attr_\"imag\"__coeff_21",
         "dtype": "float64"
        },
        {
         "name": "bg_value__fft_coefficient__attr_\"imag\"__coeff_22",
         "dtype": "float64"
        },
        {
         "name": "bg_value__fft_coefficient__attr_\"imag\"__coeff_23",
         "dtype": "float64"
        },
        {
         "name": "bg_value__fft_coefficient__attr_\"imag\"__coeff_24",
         "dtype": "float64"
        },
        {
         "name": "bg_value__fft_coefficient__attr_\"imag\"__coeff_25",
         "dtype": "float64"
        },
        {
         "name": "bg_value__fft_coefficient__attr_\"imag\"__coeff_26",
         "dtype": "float64"
        },
        {
         "name": "bg_value__fft_coefficient__attr_\"imag\"__coeff_27",
         "dtype": "float64"
        },
        {
         "name": "bg_value__fft_coefficient__attr_\"imag\"__coeff_28",
         "dtype": "float64"
        },
        {
         "name": "bg_value__fft_coefficient__attr_\"imag\"__coeff_29",
         "dtype": "float64"
        },
        {
         "name": "bg_value__fft_coefficient__attr_\"imag\"__coeff_30",
         "dtype": "float64"
        },
        {
         "name": "bg_value__fft_coefficient__attr_\"imag\"__coeff_31",
         "dtype": "float64"
        },
        {
         "name": "bg_value__fft_coefficient__attr_\"imag\"__coeff_32",
         "dtype": "float64"
        },
        {
         "name": "bg_value__fft_coefficient__attr_\"imag\"__coeff_33",
         "dtype": "float64"
        },
        {
         "name": "bg_value__fft_coefficient__attr_\"imag\"__coeff_34",
         "dtype": "float64"
        },
        {
         "name": "bg_value__fft_coefficient__attr_\"imag\"__coeff_35",
         "dtype": "float64"
        },
        {
         "name": "bg_value__fft_coefficient__attr_\"imag\"__coeff_36",
         "dtype": "float64"
        },
        {
         "name": "bg_value__fft_coefficient__attr_\"imag\"__coeff_37",
         "dtype": "float64"
        },
        {
         "name": "bg_value__fft_coefficient__attr_\"imag\"__coeff_38",
         "dtype": "float64"
        },
        {
         "name": "bg_value__fft_coefficient__attr_\"imag\"__coeff_39",
         "dtype": "float64"
        },
        {
         "name": "bg_value__fft_coefficient__attr_\"imag\"__coeff_40",
         "dtype": "float64"
        },
        {
         "name": "bg_value__fft_coefficient__attr_\"imag\"__coeff_41",
         "dtype": "float64"
        },
        {
         "name": "bg_value__fft_coefficient__attr_\"imag\"__coeff_42",
         "dtype": "float64"
        },
        {
         "name": "bg_value__fft_coefficient__attr_\"imag\"__coeff_43",
         "dtype": "float64"
        },
        {
         "name": "bg_value__fft_coefficient__attr_\"imag\"__coeff_44",
         "dtype": "float64"
        },
        {
         "name": "bg_value__fft_coefficient__attr_\"imag\"__coeff_45",
         "dtype": "float64"
        },
        {
         "name": "bg_value__fft_coefficient__attr_\"imag\"__coeff_46",
         "dtype": "float64"
        },
        {
         "name": "bg_value__fft_coefficient__attr_\"imag\"__coeff_47",
         "dtype": "float64"
        },
        {
         "name": "bg_value__fft_coefficient__attr_\"imag\"__coeff_48",
         "dtype": "float64"
        },
        {
         "name": "bg_value__fft_coefficient__attr_\"imag\"__coeff_49",
         "dtype": "float64"
        },
        {
         "name": "bg_value__fft_coefficient__attr_\"imag\"__coeff_50",
         "dtype": "float64"
        },
        {
         "name": "bg_value__fft_coefficient__attr_\"imag\"__coeff_51",
         "dtype": "float64"
        },
        {
         "name": "bg_value__fft_coefficient__attr_\"imag\"__coeff_52",
         "dtype": "float64"
        },
        {
         "name": "bg_value__fft_coefficient__attr_\"imag\"__coeff_53",
         "dtype": "float64"
        },
        {
         "name": "bg_value__fft_coefficient__attr_\"imag\"__coeff_54",
         "dtype": "float64"
        },
        {
         "name": "bg_value__fft_coefficient__attr_\"imag\"__coeff_55",
         "dtype": "float64"
        },
        {
         "name": "bg_value__fft_coefficient__attr_\"imag\"__coeff_56",
         "dtype": "float64"
        },
        {
         "name": "bg_value__fft_coefficient__attr_\"imag\"__coeff_57",
         "dtype": "float64"
        },
        {
         "name": "bg_value__fft_coefficient__attr_\"imag\"__coeff_58",
         "dtype": "float64"
        },
        {
         "name": "bg_value__fft_coefficient__attr_\"imag\"__coeff_59",
         "dtype": "float64"
        },
        {
         "name": "bg_value__fft_coefficient__attr_\"imag\"__coeff_60",
         "dtype": "float64"
        },
        {
         "name": "bg_value__fft_coefficient__attr_\"imag\"__coeff_61",
         "dtype": "float64"
        },
        {
         "name": "bg_value__fft_coefficient__attr_\"imag\"__coeff_62",
         "dtype": "float64"
        },
        {
         "name": "bg_value__fft_coefficient__attr_\"imag\"__coeff_63",
         "dtype": "float64"
        },
        {
         "name": "bg_value__fft_coefficient__attr_\"imag\"__coeff_64",
         "dtype": "float64"
        },
        {
         "name": "bg_value__fft_coefficient__attr_\"imag\"__coeff_65",
         "dtype": "float64"
        },
        {
         "name": "bg_value__fft_coefficient__attr_\"imag\"__coeff_66",
         "dtype": "float64"
        },
        {
         "name": "bg_value__fft_coefficient__attr_\"imag\"__coeff_67",
         "dtype": "float64"
        },
        {
         "name": "bg_value__fft_coefficient__attr_\"imag\"__coeff_68",
         "dtype": "float64"
        },
        {
         "name": "bg_value__fft_coefficient__attr_\"imag\"__coeff_69",
         "dtype": "float64"
        },
        {
         "name": "bg_value__fft_coefficient__attr_\"imag\"__coeff_70",
         "dtype": "float64"
        },
        {
         "name": "bg_value__fft_coefficient__attr_\"imag\"__coeff_71",
         "dtype": "float64"
        },
        {
         "name": "bg_value__fft_coefficient__attr_\"imag\"__coeff_72",
         "dtype": "float64"
        },
        {
         "name": "bg_value__fft_coefficient__attr_\"imag\"__coeff_73",
         "dtype": "float64"
        },
        {
         "name": "bg_value__fft_coefficient__attr_\"imag\"__coeff_74",
         "dtype": "float64"
        },
        {
         "name": "bg_value__fft_coefficient__attr_\"imag\"__coeff_75",
         "dtype": "float64"
        },
        {
         "name": "bg_value__fft_coefficient__attr_\"imag\"__coeff_76",
         "dtype": "float64"
        },
        {
         "name": "bg_value__fft_coefficient__attr_\"imag\"__coeff_77",
         "dtype": "float64"
        },
        {
         "name": "bg_value__fft_coefficient__attr_\"imag\"__coeff_78",
         "dtype": "float64"
        },
        {
         "name": "bg_value__fft_coefficient__attr_\"imag\"__coeff_79",
         "dtype": "float64"
        },
        {
         "name": "bg_value__fft_coefficient__attr_\"imag\"__coeff_80",
         "dtype": "float64"
        },
        {
         "name": "bg_value__fft_coefficient__attr_\"imag\"__coeff_81",
         "dtype": "float64"
        },
        {
         "name": "bg_value__fft_coefficient__attr_\"imag\"__coeff_82",
         "dtype": "float64"
        },
        {
         "name": "bg_value__fft_coefficient__attr_\"imag\"__coeff_83",
         "dtype": "float64"
        },
        {
         "name": "bg_value__fft_coefficient__attr_\"imag\"__coeff_84",
         "dtype": "float64"
        },
        {
         "name": "bg_value__fft_coefficient__attr_\"imag\"__coeff_85",
         "dtype": "float64"
        },
        {
         "name": "bg_value__fft_coefficient__attr_\"imag\"__coeff_86",
         "dtype": "float64"
        },
        {
         "name": "bg_value__fft_coefficient__attr_\"imag\"__coeff_87",
         "dtype": "float64"
        },
        {
         "name": "bg_value__fft_coefficient__attr_\"imag\"__coeff_88",
         "dtype": "float64"
        },
        {
         "name": "bg_value__fft_coefficient__attr_\"imag\"__coeff_89",
         "dtype": "float64"
        },
        {
         "name": "bg_value__fft_coefficient__attr_\"imag\"__coeff_90",
         "dtype": "float64"
        },
        {
         "name": "bg_value__fft_coefficient__attr_\"imag\"__coeff_91",
         "dtype": "float64"
        },
        {
         "name": "bg_value__fft_coefficient__attr_\"imag\"__coeff_92",
         "dtype": "float64"
        },
        {
         "name": "bg_value__fft_coefficient__attr_\"imag\"__coeff_93",
         "dtype": "float64"
        },
        {
         "name": "bg_value__fft_coefficient__attr_\"imag\"__coeff_94",
         "dtype": "float64"
        },
        {
         "name": "bg_value__fft_coefficient__attr_\"imag\"__coeff_95",
         "dtype": "float64"
        },
        {
         "name": "bg_value__fft_coefficient__attr_\"imag\"__coeff_96",
         "dtype": "float64"
        },
        {
         "name": "bg_value__fft_coefficient__attr_\"imag\"__coeff_97",
         "dtype": "float64"
        },
        {
         "name": "bg_value__fft_coefficient__attr_\"imag\"__coeff_98",
         "dtype": "float64"
        },
        {
         "name": "bg_value__fft_coefficient__attr_\"imag\"__coeff_99",
         "dtype": "float64"
        },
        {
         "name": "bg_value__fft_coefficient__attr_\"abs\"__coeff_0",
         "dtype": "float64"
        },
        {
         "name": "bg_value__fft_coefficient__attr_\"abs\"__coeff_1",
         "dtype": "float64"
        },
        {
         "name": "bg_value__fft_coefficient__attr_\"abs\"__coeff_2",
         "dtype": "float64"
        },
        {
         "name": "bg_value__fft_coefficient__attr_\"abs\"__coeff_3",
         "dtype": "float64"
        },
        {
         "name": "bg_value__fft_coefficient__attr_\"abs\"__coeff_4",
         "dtype": "float64"
        },
        {
         "name": "bg_value__fft_coefficient__attr_\"abs\"__coeff_5",
         "dtype": "float64"
        },
        {
         "name": "bg_value__fft_coefficient__attr_\"abs\"__coeff_6",
         "dtype": "float64"
        },
        {
         "name": "bg_value__fft_coefficient__attr_\"abs\"__coeff_7",
         "dtype": "float64"
        },
        {
         "name": "bg_value__fft_coefficient__attr_\"abs\"__coeff_8",
         "dtype": "float64"
        },
        {
         "name": "bg_value__fft_coefficient__attr_\"abs\"__coeff_9",
         "dtype": "float64"
        },
        {
         "name": "bg_value__fft_coefficient__attr_\"abs\"__coeff_10",
         "dtype": "float64"
        },
        {
         "name": "bg_value__fft_coefficient__attr_\"abs\"__coeff_11",
         "dtype": "float64"
        },
        {
         "name": "bg_value__fft_coefficient__attr_\"abs\"__coeff_12",
         "dtype": "float64"
        },
        {
         "name": "bg_value__fft_coefficient__attr_\"abs\"__coeff_13",
         "dtype": "float64"
        },
        {
         "name": "bg_value__fft_coefficient__attr_\"abs\"__coeff_14",
         "dtype": "float64"
        },
        {
         "name": "bg_value__fft_coefficient__attr_\"abs\"__coeff_15",
         "dtype": "float64"
        },
        {
         "name": "bg_value__fft_coefficient__attr_\"abs\"__coeff_16",
         "dtype": "float64"
        },
        {
         "name": "bg_value__fft_coefficient__attr_\"abs\"__coeff_17",
         "dtype": "float64"
        },
        {
         "name": "bg_value__fft_coefficient__attr_\"abs\"__coeff_18",
         "dtype": "float64"
        },
        {
         "name": "bg_value__fft_coefficient__attr_\"abs\"__coeff_19",
         "dtype": "float64"
        },
        {
         "name": "bg_value__fft_coefficient__attr_\"abs\"__coeff_20",
         "dtype": "float64"
        },
        {
         "name": "bg_value__fft_coefficient__attr_\"abs\"__coeff_21",
         "dtype": "float64"
        },
        {
         "name": "bg_value__fft_coefficient__attr_\"abs\"__coeff_22",
         "dtype": "float64"
        },
        {
         "name": "bg_value__fft_coefficient__attr_\"abs\"__coeff_23",
         "dtype": "float64"
        },
        {
         "name": "bg_value__fft_coefficient__attr_\"abs\"__coeff_24",
         "dtype": "float64"
        },
        {
         "name": "bg_value__fft_coefficient__attr_\"abs\"__coeff_25",
         "dtype": "float64"
        },
        {
         "name": "bg_value__fft_coefficient__attr_\"abs\"__coeff_26",
         "dtype": "float64"
        },
        {
         "name": "bg_value__fft_coefficient__attr_\"abs\"__coeff_27",
         "dtype": "float64"
        },
        {
         "name": "bg_value__fft_coefficient__attr_\"abs\"__coeff_28",
         "dtype": "float64"
        },
        {
         "name": "bg_value__fft_coefficient__attr_\"abs\"__coeff_29",
         "dtype": "float64"
        },
        {
         "name": "bg_value__fft_coefficient__attr_\"abs\"__coeff_30",
         "dtype": "float64"
        },
        {
         "name": "bg_value__fft_coefficient__attr_\"abs\"__coeff_31",
         "dtype": "float64"
        },
        {
         "name": "bg_value__fft_coefficient__attr_\"abs\"__coeff_32",
         "dtype": "float64"
        },
        {
         "name": "bg_value__fft_coefficient__attr_\"abs\"__coeff_33",
         "dtype": "float64"
        },
        {
         "name": "bg_value__fft_coefficient__attr_\"abs\"__coeff_34",
         "dtype": "float64"
        },
        {
         "name": "bg_value__fft_coefficient__attr_\"abs\"__coeff_35",
         "dtype": "float64"
        },
        {
         "name": "_deepnote_index_column",
         "dtype": "int64"
        }
       ],
       "rows_top": [
        {
         "bg_value__variance_larger_than_standard_deviation": 1,
         "bg_value__has_duplicate_max": 0,
         "bg_value__has_duplicate_min": 0,
         "bg_value__has_duplicate": 0,
         "bg_value__sum_values": 662,
         "bg_value__abs_energy": 73694,
         "bg_value__mean_abs_change": 6.4,
         "bg_value__mean_change": 5.2,
         "bg_value__mean_second_derivative_central": 1.25,
         "bg_value__median": 108,
         "bg_value__mean": 110.33333333333333,
         "bg_value__length": 6,
         "bg_value__standard_deviation": 10.43498389499902,
         "bg_value__variation_coefficient": 0.09457689330814822,
         "bg_value__variance": 108.8888888888889,
         "bg_value__skewness": 0.521096806614317,
         "bg_value__kurtosis": -1.4025327988338168,
         "bg_value__root_mean_square": 110.82568895943456,
         "bg_value__absolute_sum_of_changes": 32,
         "bg_value__longest_strike_below_mean": 3,
         "bg_value__longest_strike_above_mean": 3,
         "bg_value__count_above_mean": 3,
         "bg_value__count_below_mean": 3,
         "bg_value__last_location_of_maximum": 1,
         "bg_value__first_location_of_maximum": 0.8333333333333334,
         "bg_value__last_location_of_minimum": 0.33333333333333337,
         "bg_value__first_location_of_minimum": 0.16666666666666666,
         "bg_value__percentage_of_reoccurring_values_to_all_values": 0,
         "bg_value__percentage_of_reoccurring_datapoints_to_all_datapoints": 0,
         "bg_value__sum_of_reoccurring_values": 0,
         "bg_value__sum_of_reoccurring_data_points": 0,
         "bg_value__ratio_value_number_to_time_series_length": 1,
         "bg_value__sample_entropy": "nan",
         "bg_value__maximum": 127,
         "bg_value__minimum": 98,
         "bg_value__benford_correlation": 0.8087054810756913,
         "bg_value__time_reversal_asymmetry_statistic__lag_1": 299409.5,
         "bg_value__time_reversal_asymmetry_statistic__lag_2": 583748,
         "bg_value__time_reversal_asymmetry_statistic__lag_3": 0,
         "bg_value__c3__lag_1": 1318884,
         "bg_value__c3__lag_2": 1327216,
         "bg_value__c3__lag_3": 0,
         "bg_value__cid_ce__normalize_True": 1.4278569641963725,
         "bg_value__cid_ce__normalize_False": 14.89966442575134,
         "bg_value__symmetry_looking__r_0.0": 0,
         "bg_value__symmetry_looking__r_0.05": 0,
         "bg_value__symmetry_looking__r_0.1": 1,
         "bg_value__symmetry_looking__r_0.15000000000000002": 1,
         "bg_value__symmetry_looking__r_0.2": 1,
         "bg_value__symmetry_looking__r_0.25": 1,
         "bg_value__symmetry_looking__r_0.30000000000000004": 1,
         "bg_value__symmetry_looking__r_0.35000000000000003": 1,
         "bg_value__symmetry_looking__r_0.4": 1,
         "bg_value__symmetry_looking__r_0.45": 1,
         "bg_value__symmetry_looking__r_0.5": 1,
         "bg_value__symmetry_looking__r_0.55": 1,
         "bg_value__symmetry_looking__r_0.6000000000000001": 1,
         "bg_value__symmetry_looking__r_0.65": 1,
         "bg_value__symmetry_looking__r_0.7000000000000001": 1,
         "bg_value__symmetry_looking__r_0.75": 1,
         "bg_value__symmetry_looking__r_0.8": 1,
         "bg_value__symmetry_looking__r_0.8500000000000001": 1,
         "bg_value__symmetry_looking__r_0.9": 1,
         "bg_value__symmetry_looking__r_0.9500000000000001": 1,
         "bg_value__large_standard_deviation__r_0.05": 1,
         "bg_value__large_standard_deviation__r_0.1": 1,
         "bg_value__large_standard_deviation__r_0.15000000000000002": 1,
         "bg_value__large_standard_deviation__r_0.2": 1,
         "bg_value__large_standard_deviation__r_0.25": 1,
         "bg_value__large_standard_deviation__r_0.30000000000000004": 1,
         "bg_value__large_standard_deviation__r_0.35000000000000003": 1,
         "bg_value__large_standard_deviation__r_0.4": 0,
         "bg_value__large_standard_deviation__r_0.45": 0,
         "bg_value__large_standard_deviation__r_0.5": 0,
         "bg_value__large_standard_deviation__r_0.55": 0,
         "bg_value__large_standard_deviation__r_0.6000000000000001": 0,
         "bg_value__large_standard_deviation__r_0.65": 0,
         "bg_value__large_standard_deviation__r_0.7000000000000001": 0,
         "bg_value__large_standard_deviation__r_0.75": 0,
         "bg_value__large_standard_deviation__r_0.8": 0,
         "bg_value__large_standard_deviation__r_0.8500000000000001": 0,
         "bg_value__large_standard_deviation__r_0.9": 0,
         "bg_value__large_standard_deviation__r_0.9500000000000001": 0,
         "bg_value__quantile__q_0.1": 99.5,
         "bg_value__quantile__q_0.2": 101,
         "bg_value__quantile__q_0.3": 102.5,
         "bg_value__quantile__q_0.4": 104,
         "bg_value__quantile__q_0.6": 112,
         "bg_value__quantile__q_0.7": 116,
         "bg_value__quantile__q_0.8": 120,
         "bg_value__quantile__q_0.9": 123.5,
         "bg_value__autocorrelation__lag_0": 1,
         "bg_value__autocorrelation__lag_1": 0.6610204081632653,
         "bg_value__autocorrelation__lag_2": 0.011734693877550962,
         "bg_value__autocorrelation__lag_3": -0.7357142857142857,
         "bg_value__autocorrelation__lag_4": -1.3581632653061222,
         "bg_value__autocorrelation__lag_5": -1.4285714285714282,
         "bg_value__autocorrelation__lag_6": "nan",
         "bg_value__autocorrelation__lag_7": "nan",
         "bg_value__autocorrelation__lag_8": "nan",
         "bg_value__autocorrelation__lag_9": "nan",
         "bg_value__agg_autocorrelation__f_agg_\"mean\"__maxlag_40": -0.5699387755102039,
         "bg_value__agg_autocorrelation__f_agg_\"median\"__maxlag_40": -0.7357142857142857,
         "bg_value__agg_autocorrelation__f_agg_\"var\"__maxlag_40": 0.6479267871720115,
         "bg_value__partial_autocorrelation__lag_0": 1,
         "bg_value__partial_autocorrelation__lag_1": 0.6610204081632652,
         "bg_value__partial_autocorrelation__lag_2": -0.7551936073989564,
         "bg_value__partial_autocorrelation__lag_3": "nan",
         "bg_value__partial_autocorrelation__lag_4": "nan",
         "bg_value__partial_autocorrelation__lag_5": "nan",
         "bg_value__partial_autocorrelation__lag_6": "nan",
         "bg_value__partial_autocorrelation__lag_7": "nan",
         "bg_value__partial_autocorrelation__lag_8": "nan",
         "bg_value__partial_autocorrelation__lag_9": "nan",
         "bg_value__number_cwt_peaks__n_1": 1,
         "bg_value__number_cwt_peaks__n_5": 1,
         "bg_value__number_peaks__n_1": 0,
         "bg_value__number_peaks__n_3": 0,
         "bg_value__number_peaks__n_5": 0,
         "bg_value__number_peaks__n_10": 0,
         "bg_value__number_peaks__n_50": 0,
         "bg_value__binned_entropy__max_bins_10": 1.791759469228055,
         "bg_value__index_mass_quantile__q_0.1": 0.16666666666666666,
         "bg_value__index_mass_quantile__q_0.2": 0.3333333333333333,
         "bg_value__index_mass_quantile__q_0.3": 0.3333333333333333,
         "bg_value__index_mass_quantile__q_0.4": 0.5,
         "bg_value__index_mass_quantile__q_0.6": 0.6666666666666666,
         "bg_value__index_mass_quantile__q_0.7": 0.8333333333333334,
         "bg_value__index_mass_quantile__q_0.8": 0.8333333333333334,
         "bg_value__index_mass_quantile__q_0.9": 1,
         "bg_value__cwt_coefficients__coeff_0__w_2__widths_(2, 5, 10, 20)": 59.70684584961003,
         "bg_value__cwt_coefficients__coeff_0__w_5__widths_(2, 5, 10, 20)": 98.35924113798261,
         "bg_value__cwt_coefficients__coeff_0__w_10__widths_(2, 5, 10, 20)": 79.49650910477614,
         "bg_value__cwt_coefficients__coeff_0__w_20__widths_(2, 5, 10, 20)": 58.11574459646398,
         "bg_value__cwt_coefficients__coeff_1__w_2__widths_(2, 5, 10, 20)": 114.27108296625073,
         "bg_value__cwt_coefficients__coeff_1__w_5__widths_(2, 5, 10, 20)": 139.8820735847361,
         "bg_value__cwt_coefficients__coeff_1__w_10__widths_(2, 5, 10, 20)": 109.85886632742398,
         "bg_value__cwt_coefficients__coeff_1__w_20__widths_(2, 5, 10, 20)": 79.77326351503352,
         "bg_value__cwt_coefficients__coeff_2__w_2__widths_(2, 5, 10, 20)": 136.75565457028242,
         "bg_value__cwt_coefficients__coeff_2__w_5__widths_(2, 5, 10, 20)": 179.86297627913282,
         "bg_value__cwt_coefficients__coeff_2__w_10__widths_(2, 5, 10, 20)": 141.56846223632203,
         "bg_value__cwt_coefficients__coeff_2__w_20__widths_(2, 5, 10, 20)": 102.83141767078747,
         "bg_value__cwt_coefficients__coeff_3__w_2__widths_(2, 5, 10, 20)": 128.51241728302782,
         "bg_value__cwt_coefficients__coeff_3__w_5__widths_(2, 5, 10, 20)": 214.62587170798665,
         "bg_value__cwt_coefficients__coeff_3__w_10__widths_(2, 5, 10, 20)": 173.63507138110222,
         "bg_value__cwt_coefficients__coeff_3__w_20__widths_(2, 5, 10, 20)": 126.96333679275965,
         "bg_value__cwt_coefficients__coeff_4__w_2__widths_(2, 5, 10, 20)": 160.59412993307532,
         "bg_value__cwt_coefficients__coeff_4__w_5__widths_(2, 5, 10, 20)": 191.7514501753613,
         "bg_value__cwt_coefficients__coeff_4__w_10__widths_(2, 5, 10, 20)": 149.05481905311706,
         "bg_value__cwt_coefficients__coeff_4__w_20__widths_(2, 5, 10, 20)": 107.9383647213125,
         "bg_value__cwt_coefficients__coeff_5__w_2__widths_(2, 5, 10, 20)": 143.90390508670396,
         "bg_value__cwt_coefficients__coeff_5__w_5__widths_(2, 5, 10, 20)": 158.86787571389908,
         "bg_value__cwt_coefficients__coeff_5__w_10__widths_(2, 5, 10, 20)": 123.10167942159997,
         "bg_value__cwt_coefficients__coeff_5__w_20__widths_(2, 5, 10, 20)": 89.09671554956316,
         "bg_value__cwt_coefficients__coeff_6__w_2__widths_(2, 5, 10, 20)": "nan",
         "bg_value__cwt_coefficients__coeff_6__w_5__widths_(2, 5, 10, 20)": "nan",
         "bg_value__cwt_coefficients__coeff_6__w_10__widths_(2, 5, 10, 20)": "nan",
         "bg_value__cwt_coefficients__coeff_6__w_20__widths_(2, 5, 10, 20)": "nan",
         "bg_value__cwt_coefficients__coeff_7__w_2__widths_(2, 5, 10, 20)": "nan",
         "bg_value__cwt_coefficients__coeff_7__w_5__widths_(2, 5, 10, 20)": "nan",
         "bg_value__cwt_coefficients__coeff_7__w_10__widths_(2, 5, 10, 20)": "nan",
         "bg_value__cwt_coefficients__coeff_7__w_20__widths_(2, 5, 10, 20)": "nan",
         "bg_value__cwt_coefficients__coeff_8__w_2__widths_(2, 5, 10, 20)": "nan",
         "bg_value__cwt_coefficients__coeff_8__w_5__widths_(2, 5, 10, 20)": "nan",
         "bg_value__cwt_coefficients__coeff_8__w_10__widths_(2, 5, 10, 20)": "nan",
         "bg_value__cwt_coefficients__coeff_8__w_20__widths_(2, 5, 10, 20)": "nan",
         "bg_value__cwt_coefficients__coeff_9__w_2__widths_(2, 5, 10, 20)": "nan",
         "bg_value__cwt_coefficients__coeff_9__w_5__widths_(2, 5, 10, 20)": "nan",
         "bg_value__cwt_coefficients__coeff_9__w_10__widths_(2, 5, 10, 20)": "nan",
         "bg_value__cwt_coefficients__coeff_9__w_20__widths_(2, 5, 10, 20)": "nan",
         "bg_value__cwt_coefficients__coeff_10__w_2__widths_(2, 5, 10, 20)": "nan",
         "bg_value__cwt_coefficients__coeff_10__w_5__widths_(2, 5, 10, 20)": "nan",
         "bg_value__cwt_coefficients__coeff_10__w_10__widths_(2, 5, 10, 20)": "nan",
         "bg_value__cwt_coefficients__coeff_10__w_20__widths_(2, 5, 10, 20)": "nan",
         "bg_value__cwt_coefficients__coeff_11__w_2__widths_(2, 5, 10, 20)": "nan",
         "bg_value__cwt_coefficients__coeff_11__w_5__widths_(2, 5, 10, 20)": "nan",
         "bg_value__cwt_coefficients__coeff_11__w_10__widths_(2, 5, 10, 20)": "nan",
         "bg_value__cwt_coefficients__coeff_11__w_20__widths_(2, 5, 10, 20)": "nan",
         "bg_value__cwt_coefficients__coeff_12__w_2__widths_(2, 5, 10, 20)": "nan",
         "bg_value__cwt_coefficients__coeff_12__w_5__widths_(2, 5, 10, 20)": "nan",
         "bg_value__cwt_coefficients__coeff_12__w_10__widths_(2, 5, 10, 20)": "nan",
         "bg_value__cwt_coefficients__coeff_12__w_20__widths_(2, 5, 10, 20)": "nan",
         "bg_value__cwt_coefficients__coeff_13__w_2__widths_(2, 5, 10, 20)": "nan",
         "bg_value__cwt_coefficients__coeff_13__w_5__widths_(2, 5, 10, 20)": "nan",
         "bg_value__cwt_coefficients__coeff_13__w_10__widths_(2, 5, 10, 20)": "nan",
         "bg_value__cwt_coefficients__coeff_13__w_20__widths_(2, 5, 10, 20)": "nan",
         "bg_value__cwt_coefficients__coeff_14__w_2__widths_(2, 5, 10, 20)": "nan",
         "bg_value__cwt_coefficients__coeff_14__w_5__widths_(2, 5, 10, 20)": "nan",
         "bg_value__cwt_coefficients__coeff_14__w_10__widths_(2, 5, 10, 20)": "nan",
         "bg_value__cwt_coefficients__coeff_14__w_20__widths_(2, 5, 10, 20)": "nan",
         "bg_value__spkt_welch_density__coeff_2": 15.05555555555553,
         "bg_value__spkt_welch_density__coeff_5": "nan",
         "bg_value__spkt_welch_density__coeff_8": "nan",
         "bg_value__ar_coefficient__coeff_0__k_10": "nan",
         "bg_value__ar_coefficient__coeff_1__k_10": "nan",
         "bg_value__ar_coefficient__coeff_2__k_10": "nan",
         "bg_value__ar_coefficient__coeff_3__k_10": "nan",
         "bg_value__ar_coefficient__coeff_4__k_10": "nan",
         "bg_value__ar_coefficient__coeff_5__k_10": "nan",
         "bg_value__ar_coefficient__coeff_6__k_10": "nan",
         "bg_value__ar_coefficient__coeff_7__k_10": "nan",
         "bg_value__ar_coefficient__coeff_8__k_10": "nan",
         "bg_value__ar_coefficient__coeff_9__k_10": "nan",
         "bg_value__ar_coefficient__coeff_10__k_10": 0,
         "bg_value__change_quantiles__f_agg_\"mean\"__isabs_False__qh_0.2__ql_0.0": -3,
         "bg_value__change_quantiles__f_agg_\"var\"__isabs_False__qh_0.2__ql_0.0": 0,
         "bg_value__change_quantiles__f_agg_\"mean\"__isabs_True__qh_0.2__ql_0.0": 3,
         "bg_value__change_quantiles__f_agg_\"var\"__isabs_True__qh_0.2__ql_0.0": 0,
         "bg_value__change_quantiles__f_agg_\"mean\"__isabs_False__qh_0.4__ql_0.0": 1.5,
         "bg_value__change_quantiles__f_agg_\"var\"__isabs_False__qh_0.4__ql_0.0": 20.25,
         "bg_value__change_quantiles__f_agg_\"mean\"__isabs_True__qh_0.4__ql_0.0": 4.5,
         "bg_value__change_quantiles__f_agg_\"var\"__isabs_True__qh_0.4__ql_0.0": 2.25,
         "bg_value__change_quantiles__f_agg_\"mean\"__isabs_False__qh_0.6__ql_0.0": 3.6666666666666665,
         "bg_value__change_quantiles__f_agg_\"var\"__isabs_False__qh_0.6__ql_0.0": 22.888888888888886,
         "bg_value__change_quantiles__f_agg_\"mean\"__isabs_True__qh_0.6__ql_0.0": 5.666666666666667,
         "bg_value__change_quantiles__f_agg_\"var\"__isabs_True__qh_0.6__ql_0.0": 4.222222222222222,
         "bg_value__change_quantiles__f_agg_\"mean\"__isabs_False__qh_0.8__ql_0.0": 4.75,
         "bg_value__change_quantiles__f_agg_\"var\"__isabs_False__qh_0.8__ql_0.0": 20.6875,
         "bg_value__change_quantiles__f_agg_\"mean\"__isabs_True__qh_0.8__ql_0.0": 6.25,
         "bg_value__change_quantiles__f_agg_\"var\"__isabs_True__qh_0.8__ql_0.0": 4.1875,
         "bg_value__change_quantiles__f_agg_\"mean\"__isabs_False__qh_1.0__ql_0.0": 5.2,
         "bg_value__change_quantiles__f_agg_\"var\"__isabs_False__qh_1.0__ql_0.0": 17.36,
         "bg_value__change_quantiles__f_agg_\"mean\"__isabs_True__qh_1.0__ql_0.0": 6.4,
         "bg_value__change_quantiles__f_agg_\"var\"__isabs_True__qh_1.0__ql_0.0": 3.44,
         "bg_value__change_quantiles__f_agg_\"mean\"__isabs_False__qh_0.4__ql_0.2": 0,
         "bg_value__change_quantiles__f_agg_\"var\"__isabs_False__qh_0.4__ql_0.2": 0,
         "bg_value__change_quantiles__f_agg_\"mean\"__isabs_True__qh_0.4__ql_0.2": 0,
         "bg_value__change_quantiles__f_agg_\"var\"__isabs_True__qh_0.4__ql_0.2": 0,
         "bg_value__change_quantiles__f_agg_\"mean\"__isabs_False__qh_0.6__ql_0.2": 8,
         "bg_value__change_quantiles__f_agg_\"var\"__isabs_False__qh_0.6__ql_0.2": 0,
         "bg_value__change_quantiles__f_agg_\"mean\"__isabs_True__qh_0.6__ql_0.2": 8,
         "bg_value__change_quantiles__f_agg_\"var\"__isabs_True__qh_0.6__ql_0.2": 0,
         "bg_value__change_quantiles__f_agg_\"mean\"__isabs_False__qh_0.8__ql_0.2": 8,
         "bg_value__change_quantiles__f_agg_\"var\"__isabs_False__qh_0.8__ql_0.2": 0,
         "bg_value__change_quantiles__f_agg_\"mean\"__isabs_True__qh_0.8__ql_0.2": 8,
         "bg_value__change_quantiles__f_agg_\"var\"__isabs_True__qh_0.8__ql_0.2": 0,
         "bg_value__change_quantiles__f_agg_\"mean\"__isabs_False__qh_1.0__ql_0.2": 7.666666666666667,
         "bg_value__change_quantiles__f_agg_\"var\"__isabs_False__qh_1.0__ql_0.2": 0.22222222222222224,
         "bg_value__change_quantiles__f_agg_\"mean\"__isabs_True__qh_1.0__ql_0.2": 7.666666666666667,
         "bg_value__change_quantiles__f_agg_\"var\"__isabs_True__qh_1.0__ql_0.2": 0.22222222222222224,
         "bg_value__change_quantiles__f_agg_\"mean\"__isabs_False__qh_0.6__ql_0.4": 8,
         "bg_value__change_quantiles__f_agg_\"var\"__isabs_False__qh_0.6__ql_0.4": 0,
         "bg_value__change_quantiles__f_agg_\"mean\"__isabs_True__qh_0.6__ql_0.4": 8,
         "bg_value__change_quantiles__f_agg_\"var\"__isabs_True__qh_0.6__ql_0.4": 0,
         "bg_value__change_quantiles__f_agg_\"mean\"__isabs_False__qh_0.8__ql_0.4": 8,
         "bg_value__change_quantiles__f_agg_\"var\"__isabs_False__qh_0.8__ql_0.4": 0,
         "bg_value__change_quantiles__f_agg_\"mean\"__isabs_True__qh_0.8__ql_0.4": 8,
         "bg_value__change_quantiles__f_agg_\"var\"__isabs_True__qh_0.8__ql_0.4": 0,
         "bg_value__change_quantiles__f_agg_\"mean\"__isabs_False__qh_1.0__ql_0.4": 7.666666666666667,
         "bg_value__change_quantiles__f_agg_\"var\"__isabs_False__qh_1.0__ql_0.4": 0.22222222222222224,
         "bg_value__change_quantiles__f_agg_\"mean\"__isabs_True__qh_1.0__ql_0.4": 7.666666666666667,
         "bg_value__change_quantiles__f_agg_\"var\"__isabs_True__qh_1.0__ql_0.4": 0.22222222222222224,
         "bg_value__change_quantiles__f_agg_\"mean\"__isabs_False__qh_0.8__ql_0.6": 8,
         "bg_value__change_quantiles__f_agg_\"var\"__isabs_False__qh_0.8__ql_0.6": 0,
         "bg_value__change_quantiles__f_agg_\"mean\"__isabs_True__qh_0.8__ql_0.6": 8,
         "bg_value__change_quantiles__f_agg_\"var\"__isabs_True__qh_0.8__ql_0.6": 0,
         "bg_value__change_quantiles__f_agg_\"mean\"__isabs_False__qh_1.0__ql_0.6": 7.5,
         "bg_value__change_quantiles__f_agg_\"var\"__isabs_False__qh_1.0__ql_0.6": 0.25,
         "bg_value__change_quantiles__f_agg_\"mean\"__isabs_True__qh_1.0__ql_0.6": 7.5,
         "bg_value__change_quantiles__f_agg_\"var\"__isabs_True__qh_1.0__ql_0.6": 0.25,
         "bg_value__change_quantiles__f_agg_\"mean\"__isabs_False__qh_1.0__ql_0.8": 7,
         "bg_value__change_quantiles__f_agg_\"var\"__isabs_False__qh_1.0__ql_0.8": 0,
         "bg_value__change_quantiles__f_agg_\"mean\"__isabs_True__qh_1.0__ql_0.8": 7,
         "bg_value__change_quantiles__f_agg_\"var\"__isabs_True__qh_1.0__ql_0.8": 0,
         "bg_value__fft_coefficient__attr_\"real\"__coeff_0": 662,
         "bg_value__fft_coefficient__attr_\"real\"__coeff_1": -10.5,
         "bg_value__fft_coefficient__attr_\"real\"__coeff_2": -11.5,
         "bg_value__fft_coefficient__attr_\"real\"__coeff_3": -12,
         "bg_value__fft_coefficient__attr_\"real\"__coeff_4": "nan",
         "bg_value__fft_coefficient__attr_\"real\"__coeff_5": "nan",
         "bg_value__fft_coefficient__attr_\"real\"__coeff_6": "nan",
         "bg_value__fft_coefficient__attr_\"real\"__coeff_7": "nan",
         "bg_value__fft_coefficient__attr_\"real\"__coeff_8": "nan",
         "bg_value__fft_coefficient__attr_\"real\"__coeff_9": "nan",
         "bg_value__fft_coefficient__attr_\"real\"__coeff_10": "nan",
         "bg_value__fft_coefficient__attr_\"real\"__coeff_11": "nan",
         "bg_value__fft_coefficient__attr_\"real\"__coeff_12": "nan",
         "bg_value__fft_coefficient__attr_\"real\"__coeff_13": "nan",
         "bg_value__fft_coefficient__attr_\"real\"__coeff_14": "nan",
         "bg_value__fft_coefficient__attr_\"real\"__coeff_15": "nan",
         "bg_value__fft_coefficient__attr_\"real\"__coeff_16": "nan",
         "bg_value__fft_coefficient__attr_\"real\"__coeff_17": "nan",
         "bg_value__fft_coefficient__attr_\"real\"__coeff_18": "nan",
         "bg_value__fft_coefficient__attr_\"real\"__coeff_19": "nan",
         "bg_value__fft_coefficient__attr_\"real\"__coeff_20": "nan",
         "bg_value__fft_coefficient__attr_\"real\"__coeff_21": "nan",
         "bg_value__fft_coefficient__attr_\"real\"__coeff_22": "nan",
         "bg_value__fft_coefficient__attr_\"real\"__coeff_23": "nan",
         "bg_value__fft_coefficient__attr_\"real\"__coeff_24": "nan",
         "bg_value__fft_coefficient__attr_\"real\"__coeff_25": "nan",
         "bg_value__fft_coefficient__attr_\"real\"__coeff_26": "nan",
         "bg_value__fft_coefficient__attr_\"real\"__coeff_27": "nan",
         "bg_value__fft_coefficient__attr_\"real\"__coeff_28": "nan",
         "bg_value__fft_coefficient__attr_\"real\"__coeff_29": "nan",
         "bg_value__fft_coefficient__attr_\"real\"__coeff_30": "nan",
         "bg_value__fft_coefficient__attr_\"real\"__coeff_31": "nan",
         "bg_value__fft_coefficient__attr_\"real\"__coeff_32": "nan",
         "bg_value__fft_coefficient__attr_\"real\"__coeff_33": "nan",
         "bg_value__fft_coefficient__attr_\"real\"__coeff_34": "nan",
         "bg_value__fft_coefficient__attr_\"real\"__coeff_35": "nan",
         "bg_value__fft_coefficient__attr_\"real\"__coeff_36": "nan",
         "bg_value__fft_coefficient__attr_\"real\"__coeff_37": "nan",
         "bg_value__fft_coefficient__attr_\"real\"__coeff_38": "nan",
         "bg_value__fft_coefficient__attr_\"real\"__coeff_39": "nan",
         "bg_value__fft_coefficient__attr_\"real\"__coeff_40": "nan",
         "bg_value__fft_coefficient__attr_\"real\"__coeff_41": "nan",
         "bg_value__fft_coefficient__attr_\"real\"__coeff_42": "nan",
         "bg_value__fft_coefficient__attr_\"real\"__coeff_43": "nan",
         "bg_value__fft_coefficient__attr_\"real\"__coeff_44": "nan",
         "bg_value__fft_coefficient__attr_\"real\"__coeff_45": "nan",
         "bg_value__fft_coefficient__attr_\"real\"__coeff_46": "nan",
         "bg_value__fft_coefficient__attr_\"real\"__coeff_47": "nan",
         "bg_value__fft_coefficient__attr_\"real\"__coeff_48": "nan",
         "bg_value__fft_coefficient__attr_\"real\"__coeff_49": "nan",
         "bg_value__fft_coefficient__attr_\"real\"__coeff_50": "nan",
         "bg_value__fft_coefficient__attr_\"real\"__coeff_51": "nan",
         "bg_value__fft_coefficient__attr_\"real\"__coeff_52": "nan",
         "bg_value__fft_coefficient__attr_\"real\"__coeff_53": "nan",
         "bg_value__fft_coefficient__attr_\"real\"__coeff_54": "nan",
         "bg_value__fft_coefficient__attr_\"real\"__coeff_55": "nan",
         "bg_value__fft_coefficient__attr_\"real\"__coeff_56": "nan",
         "bg_value__fft_coefficient__attr_\"real\"__coeff_57": "nan",
         "bg_value__fft_coefficient__attr_\"real\"__coeff_58": "nan",
         "bg_value__fft_coefficient__attr_\"real\"__coeff_59": "nan",
         "bg_value__fft_coefficient__attr_\"real\"__coeff_60": "nan",
         "bg_value__fft_coefficient__attr_\"real\"__coeff_61": "nan",
         "bg_value__fft_coefficient__attr_\"real\"__coeff_62": "nan",
         "bg_value__fft_coefficient__attr_\"real\"__coeff_63": "nan",
         "bg_value__fft_coefficient__attr_\"real\"__coeff_64": "nan",
         "bg_value__fft_coefficient__attr_\"real\"__coeff_65": "nan",
         "bg_value__fft_coefficient__attr_\"real\"__coeff_66": "nan",
         "bg_value__fft_coefficient__attr_\"real\"__coeff_67": "nan",
         "bg_value__fft_coefficient__attr_\"real\"__coeff_68": "nan",
         "bg_value__fft_coefficient__attr_\"real\"__coeff_69": "nan",
         "bg_value__fft_coefficient__attr_\"real\"__coeff_70": "nan",
         "bg_value__fft_coefficient__attr_\"real\"__coeff_71": "nan",
         "bg_value__fft_coefficient__attr_\"real\"__coeff_72": "nan",
         "bg_value__fft_coefficient__attr_\"real\"__coeff_73": "nan",
         "bg_value__fft_coefficient__attr_\"real\"__coeff_74": "nan",
         "bg_value__fft_coefficient__attr_\"real\"__coeff_75": "nan",
         "bg_value__fft_coefficient__attr_\"real\"__coeff_76": "nan",
         "bg_value__fft_coefficient__attr_\"real\"__coeff_77": "nan",
         "bg_value__fft_coefficient__attr_\"real\"__coeff_78": "nan",
         "bg_value__fft_coefficient__attr_\"real\"__coeff_79": "nan",
         "bg_value__fft_coefficient__attr_\"real\"__coeff_80": "nan",
         "bg_value__fft_coefficient__attr_\"real\"__coeff_81": "nan",
         "bg_value__fft_coefficient__attr_\"real\"__coeff_82": "nan",
         "bg_value__fft_coefficient__attr_\"real\"__coeff_83": "nan",
         "bg_value__fft_coefficient__attr_\"real\"__coeff_84": "nan",
         "bg_value__fft_coefficient__attr_\"real\"__coeff_85": "nan",
         "bg_value__fft_coefficient__attr_\"real\"__coeff_86": "nan",
         "bg_value__fft_coefficient__attr_\"real\"__coeff_87": "nan",
         "bg_value__fft_coefficient__attr_\"real\"__coeff_88": "nan",
         "bg_value__fft_coefficient__attr_\"real\"__coeff_89": "nan",
         "bg_value__fft_coefficient__attr_\"real\"__coeff_90": "nan",
         "bg_value__fft_coefficient__attr_\"real\"__coeff_91": "nan",
         "bg_value__fft_coefficient__attr_\"real\"__coeff_92": "nan",
         "bg_value__fft_coefficient__attr_\"real\"__coeff_93": "nan",
         "bg_value__fft_coefficient__attr_\"real\"__coeff_94": "nan",
         "bg_value__fft_coefficient__attr_\"real\"__coeff_95": "nan",
         "bg_value__fft_coefficient__attr_\"real\"__coeff_96": "nan",
         "bg_value__fft_coefficient__attr_\"real\"__coeff_97": "nan",
         "bg_value__fft_coefficient__attr_\"real\"__coeff_98": "nan",
         "bg_value__fft_coefficient__attr_\"real\"__coeff_99": "nan",
         "bg_value__fft_coefficient__attr_\"imag\"__coeff_0": 0,
         "bg_value__fft_coefficient__attr_\"imag\"__coeff_1": 38.97114317029974,
         "bg_value__fft_coefficient__attr_\"imag\"__coeff_2": 11.258330249197702,
         "bg_value__fft_coefficient__attr_\"imag\"__coeff_3": 0,
         "bg_value__fft_coefficient__attr_\"imag\"__coeff_4": "nan",
         "bg_value__fft_coefficient__attr_\"imag\"__coeff_5": "nan",
         "bg_value__fft_coefficient__attr_\"imag\"__coeff_6": "nan",
         "bg_value__fft_coefficient__attr_\"imag\"__coeff_7": "nan",
         "bg_value__fft_coefficient__attr_\"imag\"__coeff_8": "nan",
         "bg_value__fft_coefficient__attr_\"imag\"__coeff_9": "nan",
         "bg_value__fft_coefficient__attr_\"imag\"__coeff_10": "nan",
         "bg_value__fft_coefficient__attr_\"imag\"__coeff_11": "nan",
         "bg_value__fft_coefficient__attr_\"imag\"__coeff_12": "nan",
         "bg_value__fft_coefficient__attr_\"imag\"__coeff_13": "nan",
         "bg_value__fft_coefficient__attr_\"imag\"__coeff_14": "nan",
         "bg_value__fft_coefficient__attr_\"imag\"__coeff_15": "nan",
         "bg_value__fft_coefficient__attr_\"imag\"__coeff_16": "nan",
         "bg_value__fft_coefficient__attr_\"imag\"__coeff_17": "nan",
         "bg_value__fft_coefficient__attr_\"imag\"__coeff_18": "nan",
         "bg_value__fft_coefficient__attr_\"imag\"__coeff_19": "nan",
         "bg_value__fft_coefficient__attr_\"imag\"__coeff_20": "nan",
         "bg_value__fft_coefficient__attr_\"imag\"__coeff_21": "nan",
         "bg_value__fft_coefficient__attr_\"imag\"__coeff_22": "nan",
         "bg_value__fft_coefficient__attr_\"imag\"__coeff_23": "nan",
         "bg_value__fft_coefficient__attr_\"imag\"__coeff_24": "nan",
         "bg_value__fft_coefficient__attr_\"imag\"__coeff_25": "nan",
         "bg_value__fft_coefficient__attr_\"imag\"__coeff_26": "nan",
         "bg_value__fft_coefficient__attr_\"imag\"__coeff_27": "nan",
         "bg_value__fft_coefficient__attr_\"imag\"__coeff_28": "nan",
         "bg_value__fft_coefficient__attr_\"imag\"__coeff_29": "nan",
         "bg_value__fft_coefficient__attr_\"imag\"__coeff_30": "nan",
         "bg_value__fft_coefficient__attr_\"imag\"__coeff_31": "nan",
         "bg_value__fft_coefficient__attr_\"imag\"__coeff_32": "nan",
         "bg_value__fft_coefficient__attr_\"imag\"__coeff_33": "nan",
         "bg_value__fft_coefficient__attr_\"imag\"__coeff_34": "nan",
         "bg_value__fft_coefficient__attr_\"imag\"__coeff_35": "nan",
         "bg_value__fft_coefficient__attr_\"imag\"__coeff_36": "nan",
         "bg_value__fft_coefficient__attr_\"imag\"__coeff_37": "nan",
         "bg_value__fft_coefficient__attr_\"imag\"__coeff_38": "nan",
         "bg_value__fft_coefficient__attr_\"imag\"__coeff_39": "nan",
         "bg_value__fft_coefficient__attr_\"imag\"__coeff_40": "nan",
         "bg_value__fft_coefficient__attr_\"imag\"__coeff_41": "nan",
         "bg_value__fft_coefficient__attr_\"imag\"__coeff_42": "nan",
         "bg_value__fft_coefficient__attr_\"imag\"__coeff_43": "nan",
         "bg_value__fft_coefficient__attr_\"imag\"__coeff_44": "nan",
         "bg_value__fft_coefficient__attr_\"imag\"__coeff_45": "nan",
         "bg_value__fft_coefficient__attr_\"imag\"__coeff_46": "nan",
         "bg_value__fft_coefficient__attr_\"imag\"__coeff_47": "nan",
         "bg_value__fft_coefficient__attr_\"imag\"__coeff_48": "nan",
         "bg_value__fft_coefficient__attr_\"imag\"__coeff_49": "nan",
         "bg_value__fft_coefficient__attr_\"imag\"__coeff_50": "nan",
         "bg_value__fft_coefficient__attr_\"imag\"__coeff_51": "nan",
         "bg_value__fft_coefficient__attr_\"imag\"__coeff_52": "nan",
         "bg_value__fft_coefficient__attr_\"imag\"__coeff_53": "nan",
         "bg_value__fft_coefficient__attr_\"imag\"__coeff_54": "nan",
         "bg_value__fft_coefficient__attr_\"imag\"__coeff_55": "nan",
         "bg_value__fft_coefficient__attr_\"imag\"__coeff_56": "nan",
         "bg_value__fft_coefficient__attr_\"imag\"__coeff_57": "nan",
         "bg_value__fft_coefficient__attr_\"imag\"__coeff_58": "nan",
         "bg_value__fft_coefficient__attr_\"imag\"__coeff_59": "nan",
         "bg_value__fft_coefficient__attr_\"imag\"__coeff_60": "nan",
         "bg_value__fft_coefficient__attr_\"imag\"__coeff_61": "nan",
         "bg_value__fft_coefficient__attr_\"imag\"__coeff_62": "nan",
         "bg_value__fft_coefficient__attr_\"imag\"__coeff_63": "nan",
         "bg_value__fft_coefficient__attr_\"imag\"__coeff_64": "nan",
         "bg_value__fft_coefficient__attr_\"imag\"__coeff_65": "nan",
         "bg_value__fft_coefficient__attr_\"imag\"__coeff_66": "nan",
         "bg_value__fft_coefficient__attr_\"imag\"__coeff_67": "nan",
         "bg_value__fft_coefficient__attr_\"imag\"__coeff_68": "nan",
         "bg_value__fft_coefficient__attr_\"imag\"__coeff_69": "nan",
         "bg_value__fft_coefficient__attr_\"imag\"__coeff_70": "nan",
         "bg_value__fft_coefficient__attr_\"imag\"__coeff_71": "nan",
         "bg_value__fft_coefficient__attr_\"imag\"__coeff_72": "nan",
         "bg_value__fft_coefficient__attr_\"imag\"__coeff_73": "nan",
         "bg_value__fft_coefficient__attr_\"imag\"__coeff_74": "nan",
         "bg_value__fft_coefficient__attr_\"imag\"__coeff_75": "nan",
         "bg_value__fft_coefficient__attr_\"imag\"__coeff_76": "nan",
         "bg_value__fft_coefficient__attr_\"imag\"__coeff_77": "nan",
         "bg_value__fft_coefficient__attr_\"imag\"__coeff_78": "nan",
         "bg_value__fft_coefficient__attr_\"imag\"__coeff_79": "nan",
         "bg_value__fft_coefficient__attr_\"imag\"__coeff_80": "nan",
         "bg_value__fft_coefficient__attr_\"imag\"__coeff_81": "nan",
         "bg_value__fft_coefficient__attr_\"imag\"__coeff_82": "nan",
         "bg_value__fft_coefficient__attr_\"imag\"__coeff_83": "nan",
         "bg_value__fft_coefficient__attr_\"imag\"__coeff_84": "nan",
         "bg_value__fft_coefficient__attr_\"imag\"__coeff_85": "nan",
         "bg_value__fft_coefficient__attr_\"imag\"__coeff_86": "nan",
         "bg_value__fft_coefficient__attr_\"imag\"__coeff_87": "nan",
         "bg_value__fft_coefficient__attr_\"imag\"__coeff_88": "nan",
         "bg_value__fft_coefficient__attr_\"imag\"__coeff_89": "nan",
         "bg_value__fft_coefficient__attr_\"imag\"__coeff_90": "nan",
         "bg_value__fft_coefficient__attr_\"imag\"__coeff_91": "nan",
         "bg_value__fft_coefficient__attr_\"imag\"__coeff_92": "nan",
         "bg_value__fft_coefficient__attr_\"imag\"__coeff_93": "nan",
         "bg_value__fft_coefficient__attr_\"imag\"__coeff_94": "nan",
         "bg_value__fft_coefficient__attr_\"imag\"__coeff_95": "nan",
         "bg_value__fft_coefficient__attr_\"imag\"__coeff_96": "nan",
         "bg_value__fft_coefficient__attr_\"imag\"__coeff_97": "nan",
         "bg_value__fft_coefficient__attr_\"imag\"__coeff_98": "nan",
         "bg_value__fft_coefficient__attr_\"imag\"__coeff_99": "nan",
         "bg_value__fft_coefficient__attr_\"abs\"__coeff_0": 662,
         "bg_value__fft_coefficient__attr_\"abs\"__coeff_1": 40.36087214122113,
         "bg_value__fft_coefficient__attr_\"abs\"__coeff_2": 16.09347693943108,
         "bg_value__fft_coefficient__attr_\"abs\"__coeff_3": 12,
         "bg_value__fft_coefficient__attr_\"abs\"__coeff_4": "nan",
         "bg_value__fft_coefficient__attr_\"abs\"__coeff_5": "nan",
         "bg_value__fft_coefficient__attr_\"abs\"__coeff_6": "nan",
         "bg_value__fft_coefficient__attr_\"abs\"__coeff_7": "nan",
         "bg_value__fft_coefficient__attr_\"abs\"__coeff_8": "nan",
         "bg_value__fft_coefficient__attr_\"abs\"__coeff_9": "nan",
         "bg_value__fft_coefficient__attr_\"abs\"__coeff_10": "nan",
         "bg_value__fft_coefficient__attr_\"abs\"__coeff_11": "nan",
         "bg_value__fft_coefficient__attr_\"abs\"__coeff_12": "nan",
         "bg_value__fft_coefficient__attr_\"abs\"__coeff_13": "nan",
         "bg_value__fft_coefficient__attr_\"abs\"__coeff_14": "nan",
         "bg_value__fft_coefficient__attr_\"abs\"__coeff_15": "nan",
         "bg_value__fft_coefficient__attr_\"abs\"__coeff_16": "nan",
         "bg_value__fft_coefficient__attr_\"abs\"__coeff_17": "nan",
         "bg_value__fft_coefficient__attr_\"abs\"__coeff_18": "nan",
         "bg_value__fft_coefficient__attr_\"abs\"__coeff_19": "nan",
         "bg_value__fft_coefficient__attr_\"abs\"__coeff_20": "nan",
         "bg_value__fft_coefficient__attr_\"abs\"__coeff_21": "nan",
         "bg_value__fft_coefficient__attr_\"abs\"__coeff_22": "nan",
         "bg_value__fft_coefficient__attr_\"abs\"__coeff_23": "nan",
         "bg_value__fft_coefficient__attr_\"abs\"__coeff_24": "nan",
         "bg_value__fft_coefficient__attr_\"abs\"__coeff_25": "nan",
         "bg_value__fft_coefficient__attr_\"abs\"__coeff_26": "nan",
         "bg_value__fft_coefficient__attr_\"abs\"__coeff_27": "nan",
         "bg_value__fft_coefficient__attr_\"abs\"__coeff_28": "nan",
         "bg_value__fft_coefficient__attr_\"abs\"__coeff_29": "nan",
         "bg_value__fft_coefficient__attr_\"abs\"__coeff_30": "nan",
         "bg_value__fft_coefficient__attr_\"abs\"__coeff_31": "nan",
         "bg_value__fft_coefficient__attr_\"abs\"__coeff_32": "nan",
         "bg_value__fft_coefficient__attr_\"abs\"__coeff_33": "nan",
         "bg_value__fft_coefficient__attr_\"abs\"__coeff_34": "nan",
         "bg_value__fft_coefficient__attr_\"abs\"__coeff_35": "nan",
         "_deepnote_index_column": 0
        }
       ],
       "rows_bottom": [
        {
         "bg_value__variance_larger_than_standard_deviation": 1,
         "bg_value__has_duplicate_max": 0,
         "bg_value__has_duplicate_min": 0,
         "bg_value__has_duplicate": 0,
         "bg_value__sum_values": 1217,
         "bg_value__abs_energy": 247107,
         "bg_value__mean_abs_change": 4,
         "bg_value__mean_change": 2.8,
         "bg_value__mean_second_derivative_central": 0.625,
         "bg_value__median": 201.5,
         "bg_value__mean": 202.83333333333334,
         "bg_value__length": 6,
         "bg_value__standard_deviation": 6.568020165079344,
         "bg_value__variation_coefficient": 0.03238136482372725,
         "bg_value__variance": 43.138888888888886,
         "bg_value__skewness": 0.2871030481423968,
         "bg_value__kurtosis": -2.2822827180759373,
         "bg_value__root_mean_square": 202.93964620053913,
         "bg_value__absolute_sum_of_changes": 20,
         "bg_value__longest_strike_below_mean": 3,
         "bg_value__longest_strike_above_mean": 3,
         "bg_value__count_above_mean": 3,
         "bg_value__count_below_mean": 3,
         "bg_value__last_location_of_maximum": 1,
         "bg_value__first_location_of_maximum": 0.8333333333333334,
         "bg_value__last_location_of_minimum": 0.33333333333333337,
         "bg_value__first_location_of_minimum": 0.16666666666666666,
         "bg_value__percentage_of_reoccurring_values_to_all_values": 0,
         "bg_value__percentage_of_reoccurring_datapoints_to_all_datapoints": 0,
         "bg_value__sum_of_reoccurring_values": 0,
         "bg_value__sum_of_reoccurring_data_points": 0,
         "bg_value__ratio_value_number_to_time_series_length": 1,
         "bg_value__sample_entropy": "nan",
         "bg_value__maximum": 212,
         "bg_value__minimum": 195,
         "bg_value__benford_correlation": 0.8767112912521223,
         "bg_value__time_reversal_asymmetry_statistic__lag_1": 602155,
         "bg_value__time_reversal_asymmetry_statistic__lag_2": 1191453.5,
         "bg_value__time_reversal_asymmetry_statistic__lag_3": 0,
         "bg_value__c3__lag_1": 8272173.75,
         "bg_value__c3__lag_2": 8332980,
         "bg_value__c3__lag_3": 0,
         "bg_value__cid_ce__normalize_True": 1.5675393622763985,
         "bg_value__cid_ce__normalize_False": 10.295630140987,
         "bg_value__symmetry_looking__r_0.0": 0,
         "bg_value__symmetry_looking__r_0.05": 0,
         "bg_value__symmetry_looking__r_0.1": 1,
         "bg_value__symmetry_looking__r_0.15000000000000002": 1,
         "bg_value__symmetry_looking__r_0.2": 1,
         "bg_value__symmetry_looking__r_0.25": 1,
         "bg_value__symmetry_looking__r_0.30000000000000004": 1,
         "bg_value__symmetry_looking__r_0.35000000000000003": 1,
         "bg_value__symmetry_looking__r_0.4": 1,
         "bg_value__symmetry_looking__r_0.45": 1,
         "bg_value__symmetry_looking__r_0.5": 1,
         "bg_value__symmetry_looking__r_0.55": 1,
         "bg_value__symmetry_looking__r_0.6000000000000001": 1,
         "bg_value__symmetry_looking__r_0.65": 1,
         "bg_value__symmetry_looking__r_0.7000000000000001": 1,
         "bg_value__symmetry_looking__r_0.75": 1,
         "bg_value__symmetry_looking__r_0.8": 1,
         "bg_value__symmetry_looking__r_0.8500000000000001": 1,
         "bg_value__symmetry_looking__r_0.9": 1,
         "bg_value__symmetry_looking__r_0.9500000000000001": 1,
         "bg_value__large_standard_deviation__r_0.05": 1,
         "bg_value__large_standard_deviation__r_0.1": 1,
         "bg_value__large_standard_deviation__r_0.15000000000000002": 1,
         "bg_value__large_standard_deviation__r_0.2": 1,
         "bg_value__large_standard_deviation__r_0.25": 1,
         "bg_value__large_standard_deviation__r_0.30000000000000004": 1,
         "bg_value__large_standard_deviation__r_0.35000000000000003": 1,
         "bg_value__large_standard_deviation__r_0.4": 0,
         "bg_value__large_standard_deviation__r_0.45": 0,
         "bg_value__large_standard_deviation__r_0.5": 0,
         "bg_value__large_standard_deviation__r_0.55": 0,
         "bg_value__large_standard_deviation__r_0.6000000000000001": 0,
         "bg_value__large_standard_deviation__r_0.65": 0,
         "bg_value__large_standard_deviation__r_0.7000000000000001": 0,
         "bg_value__large_standard_deviation__r_0.75": 0,
         "bg_value__large_standard_deviation__r_0.8": 0,
         "bg_value__large_standard_deviation__r_0.8500000000000001": 0,
         "bg_value__large_standard_deviation__r_0.9": 0,
         "bg_value__large_standard_deviation__r_0.9500000000000001": 0,
         "bg_value__quantile__q_0.1": 196,
         "bg_value__quantile__q_0.2": 197,
         "bg_value__quantile__q_0.3": 197.5,
         "bg_value__quantile__q_0.4": 198,
         "bg_value__quantile__q_0.6": 205,
         "bg_value__quantile__q_0.7": 207.5,
         "bg_value__quantile__q_0.8": 210,
         "bg_value__quantile__q_0.9": 211,
         "bg_value__autocorrelation__lag_0": 1,
         "bg_value__autocorrelation__lag_1": 0.7053444945267227,
         "bg_value__autocorrelation__lag_2": -0.0621377978106888,
         "bg_value__autocorrelation__lag_3": -0.9278815196394078,
         "bg_value__autocorrelation__lag_4": -1.2337411461687062,
         "bg_value__autocorrelation__lag_5": -1.0270444301352233,
         "bg_value__autocorrelation__lag_6": "nan",
         "bg_value__autocorrelation__lag_7": "nan",
         "bg_value__autocorrelation__lag_8": "nan",
         "bg_value__autocorrelation__lag_9": "nan",
         "bg_value__agg_autocorrelation__f_agg_\"mean\"__maxlag_40": -0.5090920798454606,
         "bg_value__agg_autocorrelation__f_agg_\"median\"__maxlag_40": -0.9278815196394077,
         "bg_value__agg_autocorrelation__f_agg_\"var\"__maxlag_40": 0.5286799649557661,
         "bg_value__partial_autocorrelation__lag_0": 1,
         "bg_value__partial_autocorrelation__lag_1": 0.7053444945267227,
         "bg_value__partial_autocorrelation__lag_2": -1.113752725619797,
         "bg_value__partial_autocorrelation__lag_3": "nan",
         "bg_value__partial_autocorrelation__lag_4": "nan",
         "bg_value__partial_autocorrelation__lag_5": "nan",
         "bg_value__partial_autocorrelation__lag_6": "nan",
         "bg_value__partial_autocorrelation__lag_7": "nan",
         "bg_value__partial_autocorrelation__lag_8": "nan",
         "bg_value__partial_autocorrelation__lag_9": "nan",
         "bg_value__number_cwt_peaks__n_1": 1,
         "bg_value__number_cwt_peaks__n_5": 1,
         "bg_value__number_peaks__n_1": 0,
         "bg_value__number_peaks__n_3": 0,
         "bg_value__number_peaks__n_5": 0,
         "bg_value__number_peaks__n_10": 0,
         "bg_value__number_peaks__n_50": 0,
         "bg_value__binned_entropy__max_bins_10": 1.5607104090414063,
         "bg_value__index_mass_quantile__q_0.1": 0.16666666666666666,
         "bg_value__index_mass_quantile__q_0.2": 0.3333333333333333,
         "bg_value__index_mass_quantile__q_0.3": 0.3333333333333333,
         "bg_value__index_mass_quantile__q_0.4": 0.5,
         "bg_value__index_mass_quantile__q_0.6": 0.6666666666666666,
         "bg_value__index_mass_quantile__q_0.7": 0.8333333333333334,
         "bg_value__index_mass_quantile__q_0.8": 0.8333333333333334,
         "bg_value__index_mass_quantile__q_0.9": 1,
         "bg_value__cwt_coefficients__coeff_0__w_2__widths_(2, 5, 10, 20)": 118.71943166677386,
         "bg_value__cwt_coefficients__coeff_0__w_5__widths_(2, 5, 10, 20)": 192.02870550292386,
         "bg_value__cwt_coefficients__coeff_0__w_10__widths_(2, 5, 10, 20)": 154.8935259738644,
         "bg_value__cwt_coefficients__coeff_0__w_20__widths_(2, 5, 10, 20)": 113.18048807047192,
         "bg_value__cwt_coefficients__coeff_1__w_2__widths_(2, 5, 10, 20)": 226.52882071115135,
         "bg_value__cwt_coefficients__coeff_1__w_5__widths_(2, 5, 10, 20)": 269.2640816012053,
         "bg_value__cwt_coefficients__coeff_1__w_10__widths_(2, 5, 10, 20)": 210.70022302949707,
         "bg_value__cwt_coefficients__coeff_1__w_20__widths_(2, 5, 10, 20)": 152.8633050217653,
         "bg_value__cwt_coefficients__coeff_2__w_2__widths_(2, 5, 10, 20)": 266.9040080567768,
         "bg_value__cwt_coefficients__coeff_2__w_5__widths_(2, 5, 10, 20)": 339.67802657307266,
         "bg_value__cwt_coefficients__coeff_2__w_10__widths_(2, 5, 10, 20)": 266.28406716718484,
         "bg_value__cwt_coefficients__coeff_2__w_20__widths_(2, 5, 10, 20)": 193.23195848516633,
         "bg_value__cwt_coefficients__coeff_3__w_2__widths_(2, 5, 10, 20)": 241.29344392402493,
         "bg_value__cwt_coefficients__coeff_3__w_5__widths_(2, 5, 10, 20)": 395.51913673944813,
         "bg_value__cwt_coefficients__coeff_3__w_10__widths_(2, 5, 10, 20)": 319.39055646450885,
         "bg_value__cwt_coefficients__coeff_3__w_20__widths_(2, 5, 10, 20)": 233.4389137296885,
         "bg_value__cwt_coefficients__coeff_4__w_2__widths_(2, 5, 10, 20)": 283.3055765847918,
         "bg_value__cwt_coefficients__coeff_4__w_5__widths_(2, 5, 10, 20)": 346.63972398021406,
         "bg_value__cwt_coefficients__coeff_4__w_10__widths_(2, 5, 10, 20)": 270.4210216599112,
         "bg_value__cwt_coefficients__coeff_4__w_20__widths_(2, 5, 10, 20)": 196.00087914610816,
         "bg_value__cwt_coefficients__coeff_5__w_2__widths_(2, 5, 10, 20)": 245.57349302995826,
         "bg_value__cwt_coefficients__coeff_5__w_5__widths_(2, 5, 10, 20)": 280.990258169567,
         "bg_value__cwt_coefficients__coeff_5__w_10__widths_(2, 5, 10, 20)": 218.75138455845547,
         "bg_value__cwt_coefficients__coeff_5__w_20__widths_(2, 5, 10, 20)": 158.50535485797357,
         "bg_value__cwt_coefficients__coeff_6__w_2__widths_(2, 5, 10, 20)": "nan",
         "bg_value__cwt_coefficients__coeff_6__w_5__widths_(2, 5, 10, 20)": "nan",
         "bg_value__cwt_coefficients__coeff_6__w_10__widths_(2, 5, 10, 20)": "nan",
         "bg_value__cwt_coefficients__coeff_6__w_20__widths_(2, 5, 10, 20)": "nan",
         "bg_value__cwt_coefficients__coeff_7__w_2__widths_(2, 5, 10, 20)": "nan",
         "bg_value__cwt_coefficients__coeff_7__w_5__widths_(2, 5, 10, 20)": "nan",
         "bg_value__cwt_coefficients__coeff_7__w_10__widths_(2, 5, 10, 20)": "nan",
         "bg_value__cwt_coefficients__coeff_7__w_20__widths_(2, 5, 10, 20)": "nan",
         "bg_value__cwt_coefficients__coeff_8__w_2__widths_(2, 5, 10, 20)": "nan",
         "bg_value__cwt_coefficients__coeff_8__w_5__widths_(2, 5, 10, 20)": "nan",
         "bg_value__cwt_coefficients__coeff_8__w_10__widths_(2, 5, 10, 20)": "nan",
         "bg_value__cwt_coefficients__coeff_8__w_20__widths_(2, 5, 10, 20)": "nan",
         "bg_value__cwt_coefficients__coeff_9__w_2__widths_(2, 5, 10, 20)": "nan",
         "bg_value__cwt_coefficients__coeff_9__w_5__widths_(2, 5, 10, 20)": "nan",
         "bg_value__cwt_coefficients__coeff_9__w_10__widths_(2, 5, 10, 20)": "nan",
         "bg_value__cwt_coefficients__coeff_9__w_20__widths_(2, 5, 10, 20)": "nan",
         "bg_value__cwt_coefficients__coeff_10__w_2__widths_(2, 5, 10, 20)": "nan",
         "bg_value__cwt_coefficients__coeff_10__w_5__widths_(2, 5, 10, 20)": "nan",
         "bg_value__cwt_coefficients__coeff_10__w_10__widths_(2, 5, 10, 20)": "nan",
         "bg_value__cwt_coefficients__coeff_10__w_20__widths_(2, 5, 10, 20)": "nan",
         "bg_value__cwt_coefficients__coeff_11__w_2__widths_(2, 5, 10, 20)": "nan",
         "bg_value__cwt_coefficients__coeff_11__w_5__widths_(2, 5, 10, 20)": "nan",
         "bg_value__cwt_coefficients__coeff_11__w_10__widths_(2, 5, 10, 20)": "nan",
         "bg_value__cwt_coefficients__coeff_11__w_20__widths_(2, 5, 10, 20)": "nan",
         "bg_value__cwt_coefficients__coeff_12__w_2__widths_(2, 5, 10, 20)": "nan",
         "bg_value__cwt_coefficients__coeff_12__w_5__widths_(2, 5, 10, 20)": "nan",
         "bg_value__cwt_coefficients__coeff_12__w_10__widths_(2, 5, 10, 20)": "nan",
         "bg_value__cwt_coefficients__coeff_12__w_20__widths_(2, 5, 10, 20)": "nan",
         "bg_value__cwt_coefficients__coeff_13__w_2__widths_(2, 5, 10, 20)": "nan",
         "bg_value__cwt_coefficients__coeff_13__w_5__widths_(2, 5, 10, 20)": "nan",
         "bg_value__cwt_coefficients__coeff_13__w_10__widths_(2, 5, 10, 20)": "nan",
         "bg_value__cwt_coefficients__coeff_13__w_20__widths_(2, 5, 10, 20)": "nan",
         "bg_value__cwt_coefficients__coeff_14__w_2__widths_(2, 5, 10, 20)": "nan",
         "bg_value__cwt_coefficients__coeff_14__w_5__widths_(2, 5, 10, 20)": "nan",
         "bg_value__cwt_coefficients__coeff_14__w_10__widths_(2, 5, 10, 20)": "nan",
         "bg_value__cwt_coefficients__coeff_14__w_20__widths_(2, 5, 10, 20)": "nan",
         "bg_value__spkt_welch_density__coeff_2": 22.16666666666664,
         "bg_value__spkt_welch_density__coeff_5": "nan",
         "bg_value__spkt_welch_density__coeff_8": "nan",
         "bg_value__ar_coefficient__coeff_0__k_10": "nan",
         "bg_value__ar_coefficient__coeff_1__k_10": "nan",
         "bg_value__ar_coefficient__coeff_2__k_10": "nan",
         "bg_value__ar_coefficient__coeff_3__k_10": "nan",
         "bg_value__ar_coefficient__coeff_4__k_10": "nan",
         "bg_value__ar_coefficient__coeff_5__k_10": "nan",
         "bg_value__ar_coefficient__coeff_6__k_10": "nan",
         "bg_value__ar_coefficient__coeff_7__k_10": "nan",
         "bg_value__ar_coefficient__coeff_8__k_10": "nan",
         "bg_value__ar_coefficient__coeff_9__k_10": "nan",
         "bg_value__ar_coefficient__coeff_10__k_10": 0,
         "bg_value__change_quantiles__f_agg_\"mean\"__isabs_False__qh_0.2__ql_0.0": 2,
         "bg_value__change_quantiles__f_agg_\"var\"__isabs_False__qh_0.2__ql_0.0": 0,
         "bg_value__change_quantiles__f_agg_\"mean\"__isabs_True__qh_0.2__ql_0.0": 2,
         "bg_value__change_quantiles__f_agg_\"var\"__isabs_True__qh_0.2__ql_0.0": 0,
         "bg_value__change_quantiles__f_agg_\"mean\"__isabs_False__qh_0.4__ql_0.0": -0.5,
         "bg_value__change_quantiles__f_agg_\"var\"__isabs_False__qh_0.4__ql_0.0": 6.25,
         "bg_value__change_quantiles__f_agg_\"mean\"__isabs_True__qh_0.4__ql_0.0": 2.5,
         "bg_value__change_quantiles__f_agg_\"var\"__isabs_True__qh_0.4__ql_0.0": 0.25,
         "bg_value__change_quantiles__f_agg_\"mean\"__isabs_False__qh_0.6__ql_0.0": 2.3333333333333335,
         "bg_value__change_quantiles__f_agg_\"var\"__isabs_False__qh_0.6__ql_0.0": 20.222222222222225,
         "bg_value__change_quantiles__f_agg_\"mean\"__isabs_True__qh_0.6__ql_0.0": 4.333333333333333,
         "bg_value__change_quantiles__f_agg_\"var\"__isabs_True__qh_0.6__ql_0.0": 6.888888888888888,
         "bg_value__change_quantiles__f_agg_\"mean\"__isabs_False__qh_0.8__ql_0.0": 3,
         "bg_value__change_quantiles__f_agg_\"var\"__isabs_False__qh_0.8__ql_0.0": 16.5,
         "bg_value__change_quantiles__f_agg_\"mean\"__isabs_True__qh_0.8__ql_0.0": 4.5,
         "bg_value__change_quantiles__f_agg_\"var\"__isabs_True__qh_0.8__ql_0.0": 5.25,
         "bg_value__change_quantiles__f_agg_\"mean\"__isabs_False__qh_1.0__ql_0.0": 2.8,
         "bg_value__change_quantiles__f_agg_\"var\"__isabs_False__qh_1.0__ql_0.0": 13.360000000000003,
         "bg_value__change_quantiles__f_agg_\"mean\"__isabs_True__qh_1.0__ql_0.0": 4,
         "bg_value__change_quantiles__f_agg_\"var\"__isabs_True__qh_1.0__ql_0.0": 5.2,
         "bg_value__change_quantiles__f_agg_\"mean\"__isabs_False__qh_0.4__ql_0.2": 0,
         "bg_value__change_quantiles__f_agg_\"var\"__isabs_False__qh_0.4__ql_0.2": 0,
         "bg_value__change_quantiles__f_agg_\"mean\"__isabs_True__qh_0.4__ql_0.2": 0,
         "bg_value__change_quantiles__f_agg_\"var\"__isabs_True__qh_0.4__ql_0.2": 0,
         "bg_value__change_quantiles__f_agg_\"mean\"__isabs_False__qh_0.6__ql_0.2": 8,
         "bg_value__change_quantiles__f_agg_\"var\"__isabs_False__qh_0.6__ql_0.2": 0,
         "bg_value__change_quantiles__f_agg_\"mean\"__isabs_True__qh_0.6__ql_0.2": 8,
         "bg_value__change_quantiles__f_agg_\"var\"__isabs_True__qh_0.6__ql_0.2": 0,
         "bg_value__change_quantiles__f_agg_\"mean\"__isabs_False__qh_0.8__ql_0.2": 6.5,
         "bg_value__change_quantiles__f_agg_\"var\"__isabs_False__qh_0.8__ql_0.2": 2.25,
         "bg_value__change_quantiles__f_agg_\"mean\"__isabs_True__qh_0.8__ql_0.2": 6.5,
         "bg_value__change_quantiles__f_agg_\"var\"__isabs_True__qh_0.8__ql_0.2": 2.25,
         "bg_value__change_quantiles__f_agg_\"mean\"__isabs_False__qh_1.0__ql_0.2": 5,
         "bg_value__change_quantiles__f_agg_\"var\"__isabs_False__qh_1.0__ql_0.2": 6,
         "bg_value__change_quantiles__f_agg_\"mean\"__isabs_True__qh_1.0__ql_0.2": 5,
         "bg_value__change_quantiles__f_agg_\"var\"__isabs_True__qh_1.0__ql_0.2": 6,
         "bg_value__change_quantiles__f_agg_\"mean\"__isabs_False__qh_0.6__ql_0.4": 0,
         "bg_value__change_quantiles__f_agg_\"var\"__isabs_False__qh_0.6__ql_0.4": 0,
         "bg_value__change_quantiles__f_agg_\"mean\"__isabs_True__qh_0.6__ql_0.4": 0,
         "bg_value__change_quantiles__f_agg_\"var\"__isabs_True__qh_0.6__ql_0.4": 0,
         "bg_value__change_quantiles__f_agg_\"mean\"__isabs_False__qh_0.8__ql_0.4": 5,
         "bg_value__change_quantiles__f_agg_\"var\"__isabs_False__qh_0.8__ql_0.4": 0,
         "bg_value__change_quantiles__f_agg_\"mean\"__isabs_True__qh_0.8__ql_0.4": 5,
         "bg_value__change_quantiles__f_agg_\"var\"__isabs_True__qh_0.8__ql_0.4": 0,
         "bg_value__change_quantiles__f_agg_\"mean\"__isabs_False__qh_1.0__ql_0.4": 3.5,
         "bg_value__change_quantiles__f_agg_\"var\"__isabs_False__qh_1.0__ql_0.4": 2.25,
         "bg_value__change_quantiles__f_agg_\"mean\"__isabs_True__qh_1.0__ql_0.4": 3.5,
         "bg_value__change_quantiles__f_agg_\"var\"__isabs_True__qh_1.0__ql_0.4": 2.25,
         "bg_value__change_quantiles__f_agg_\"mean\"__isabs_False__qh_0.8__ql_0.6": 5,
         "bg_value__change_quantiles__f_agg_\"var\"__isabs_False__qh_0.8__ql_0.6": 0,
         "bg_value__change_quantiles__f_agg_\"mean\"__isabs_True__qh_0.8__ql_0.6": 5,
         "bg_value__change_quantiles__f_agg_\"var\"__isabs_True__qh_0.8__ql_0.6": 0,
         "bg_value__change_quantiles__f_agg_\"mean\"__isabs_False__qh_1.0__ql_0.6": 3.5,
         "bg_value__change_quantiles__f_agg_\"var\"__isabs_False__qh_1.0__ql_0.6": 2.25,
         "bg_value__change_quantiles__f_agg_\"mean\"__isabs_True__qh_1.0__ql_0.6": 3.5,
         "bg_value__change_quantiles__f_agg_\"var\"__isabs_True__qh_1.0__ql_0.6": 2.25,
         "bg_value__change_quantiles__f_agg_\"mean\"__isabs_False__qh_1.0__ql_0.8": 2,
         "bg_value__change_quantiles__f_agg_\"var\"__isabs_False__qh_1.0__ql_0.8": 0,
         "bg_value__change_quantiles__f_agg_\"mean\"__isabs_True__qh_1.0__ql_0.8": 2,
         "bg_value__change_quantiles__f_agg_\"var\"__isabs_True__qh_1.0__ql_0.8": 0,
         "bg_value__fft_coefficient__attr_\"real\"__coeff_0": 1217,
         "bg_value__fft_coefficient__attr_\"real\"__coeff_1": -6.999999999999999,
         "bg_value__fft_coefficient__attr_\"real\"__coeff_2": -4.000000000000001,
         "bg_value__fft_coefficient__attr_\"real\"__coeff_3": -7,
         "bg_value__fft_coefficient__attr_\"real\"__coeff_4": "nan",
         "bg_value__fft_coefficient__attr_\"real\"__coeff_5": "nan",
         "bg_value__fft_coefficient__attr_\"real\"__coeff_6": "nan",
         "bg_value__fft_coefficient__attr_\"real\"__coeff_7": "nan",
         "bg_value__fft_coefficient__attr_\"real\"__coeff_8": "nan",
         "bg_value__fft_coefficient__attr_\"real\"__coeff_9": "nan",
         "bg_value__fft_coefficient__attr_\"real\"__coeff_10": "nan",
         "bg_value__fft_coefficient__attr_\"real\"__coeff_11": "nan",
         "bg_value__fft_coefficient__attr_\"real\"__coeff_12": "nan",
         "bg_value__fft_coefficient__attr_\"real\"__coeff_13": "nan",
         "bg_value__fft_coefficient__attr_\"real\"__coeff_14": "nan",
         "bg_value__fft_coefficient__attr_\"real\"__coeff_15": "nan",
         "bg_value__fft_coefficient__attr_\"real\"__coeff_16": "nan",
         "bg_value__fft_coefficient__attr_\"real\"__coeff_17": "nan",
         "bg_value__fft_coefficient__attr_\"real\"__coeff_18": "nan",
         "bg_value__fft_coefficient__attr_\"real\"__coeff_19": "nan",
         "bg_value__fft_coefficient__attr_\"real\"__coeff_20": "nan",
         "bg_value__fft_coefficient__attr_\"real\"__coeff_21": "nan",
         "bg_value__fft_coefficient__attr_\"real\"__coeff_22": "nan",
         "bg_value__fft_coefficient__attr_\"real\"__coeff_23": "nan",
         "bg_value__fft_coefficient__attr_\"real\"__coeff_24": "nan",
         "bg_value__fft_coefficient__attr_\"real\"__coeff_25": "nan",
         "bg_value__fft_coefficient__attr_\"real\"__coeff_26": "nan",
         "bg_value__fft_coefficient__attr_\"real\"__coeff_27": "nan",
         "bg_value__fft_coefficient__attr_\"real\"__coeff_28": "nan",
         "bg_value__fft_coefficient__attr_\"real\"__coeff_29": "nan",
         "bg_value__fft_coefficient__attr_\"real\"__coeff_30": "nan",
         "bg_value__fft_coefficient__attr_\"real\"__coeff_31": "nan",
         "bg_value__fft_coefficient__attr_\"real\"__coeff_32": "nan",
         "bg_value__fft_coefficient__attr_\"real\"__coeff_33": "nan",
         "bg_value__fft_coefficient__attr_\"real\"__coeff_34": "nan",
         "bg_value__fft_coefficient__attr_\"real\"__coeff_35": "nan",
         "bg_value__fft_coefficient__attr_\"real\"__coeff_36": "nan",
         "bg_value__fft_coefficient__attr_\"real\"__coeff_37": "nan",
         "bg_value__fft_coefficient__attr_\"real\"__coeff_38": "nan",
         "bg_value__fft_coefficient__attr_\"real\"__coeff_39": "nan",
         "bg_value__fft_coefficient__attr_\"real\"__coeff_40": "nan",
         "bg_value__fft_coefficient__attr_\"real\"__coeff_41": "nan",
         "bg_value__fft_coefficient__attr_\"real\"__coeff_42": "nan",
         "bg_value__fft_coefficient__attr_\"real\"__coeff_43": "nan",
         "bg_value__fft_coefficient__attr_\"real\"__coeff_44": "nan",
         "bg_value__fft_coefficient__attr_\"real\"__coeff_45": "nan",
         "bg_value__fft_coefficient__attr_\"real\"__coeff_46": "nan",
         "bg_value__fft_coefficient__attr_\"real\"__coeff_47": "nan",
         "bg_value__fft_coefficient__attr_\"real\"__coeff_48": "nan",
         "bg_value__fft_coefficient__attr_\"real\"__coeff_49": "nan",
         "bg_value__fft_coefficient__attr_\"real\"__coeff_50": "nan",
         "bg_value__fft_coefficient__attr_\"real\"__coeff_51": "nan",
         "bg_value__fft_coefficient__attr_\"real\"__coeff_52": "nan",
         "bg_value__fft_coefficient__attr_\"real\"__coeff_53": "nan",
         "bg_value__fft_coefficient__attr_\"real\"__coeff_54": "nan",
         "bg_value__fft_coefficient__attr_\"real\"__coeff_55": "nan",
         "bg_value__fft_coefficient__attr_\"real\"__coeff_56": "nan",
         "bg_value__fft_coefficient__attr_\"real\"__coeff_57": "nan",
         "bg_value__fft_coefficient__attr_\"real\"__coeff_58": "nan",
         "bg_value__fft_coefficient__attr_\"real\"__coeff_59": "nan",
         "bg_value__fft_coefficient__attr_\"real\"__coeff_60": "nan",
         "bg_value__fft_coefficient__attr_\"real\"__coeff_61": "nan",
         "bg_value__fft_coefficient__attr_\"real\"__coeff_62": "nan",
         "bg_value__fft_coefficient__attr_\"real\"__coeff_63": "nan",
         "bg_value__fft_coefficient__attr_\"real\"__coeff_64": "nan",
         "bg_value__fft_coefficient__attr_\"real\"__coeff_65": "nan",
         "bg_value__fft_coefficient__attr_\"real\"__coeff_66": "nan",
         "bg_value__fft_coefficient__attr_\"real\"__coeff_67": "nan",
         "bg_value__fft_coefficient__attr_\"real\"__coeff_68": "nan",
         "bg_value__fft_coefficient__attr_\"real\"__coeff_69": "nan",
         "bg_value__fft_coefficient__attr_\"real\"__coeff_70": "nan",
         "bg_value__fft_coefficient__attr_\"real\"__coeff_71": "nan",
         "bg_value__fft_coefficient__attr_\"real\"__coeff_72": "nan",
         "bg_value__fft_coefficient__attr_\"real\"__coeff_73": "nan",
         "bg_value__fft_coefficient__attr_\"real\"__coeff_74": "nan",
         "bg_value__fft_coefficient__attr_\"real\"__coeff_75": "nan",
         "bg_value__fft_coefficient__attr_\"real\"__coeff_76": "nan",
         "bg_value__fft_coefficient__attr_\"real\"__coeff_77": "nan",
         "bg_value__fft_coefficient__attr_\"real\"__coeff_78": "nan",
         "bg_value__fft_coefficient__attr_\"real\"__coeff_79": "nan",
         "bg_value__fft_coefficient__attr_\"real\"__coeff_80": "nan",
         "bg_value__fft_coefficient__attr_\"real\"__coeff_81": "nan",
         "bg_value__fft_coefficient__attr_\"real\"__coeff_82": "nan",
         "bg_value__fft_coefficient__attr_\"real\"__coeff_83": "nan",
         "bg_value__fft_coefficient__attr_\"real\"__coeff_84": "nan",
         "bg_value__fft_coefficient__attr_\"real\"__coeff_85": "nan",
         "bg_value__fft_coefficient__attr_\"real\"__coeff_86": "nan",
         "bg_value__fft_coefficient__attr_\"real\"__coeff_87": "nan",
         "bg_value__fft_coefficient__attr_\"real\"__coeff_88": "nan",
         "bg_value__fft_coefficient__attr_\"real\"__coeff_89": "nan",
         "bg_value__fft_coefficient__attr_\"real\"__coeff_90": "nan",
         "bg_value__fft_coefficient__attr_\"real\"__coeff_91": "nan",
         "bg_value__fft_coefficient__attr_\"real\"__coeff_92": "nan",
         "bg_value__fft_coefficient__attr_\"real\"__coeff_93": "nan",
         "bg_value__fft_coefficient__attr_\"real\"__coeff_94": "nan",
         "bg_value__fft_coefficient__attr_\"real\"__coeff_95": "nan",
         "bg_value__fft_coefficient__attr_\"real\"__coeff_96": "nan",
         "bg_value__fft_coefficient__attr_\"real\"__coeff_97": "nan",
         "bg_value__fft_coefficient__attr_\"real\"__coeff_98": "nan",
         "bg_value__fft_coefficient__attr_\"real\"__coeff_99": "nan",
         "bg_value__fft_coefficient__attr_\"imag\"__coeff_0": 0,
         "bg_value__fft_coefficient__attr_\"imag\"__coeff_1": 25.980762113533157,
         "bg_value__fft_coefficient__attr_\"imag\"__coeff_2": 3.4641016151377535,
         "bg_value__fft_coefficient__attr_\"imag\"__coeff_3": 0,
         "bg_value__fft_coefficient__attr_\"imag\"__coeff_4": "nan",
         "bg_value__fft_coefficient__attr_\"imag\"__coeff_5": "nan",
         "bg_value__fft_coefficient__attr_\"imag\"__coeff_6": "nan",
         "bg_value__fft_coefficient__attr_\"imag\"__coeff_7": "nan",
         "bg_value__fft_coefficient__attr_\"imag\"__coeff_8": "nan",
         "bg_value__fft_coefficient__attr_\"imag\"__coeff_9": "nan",
         "bg_value__fft_coefficient__attr_\"imag\"__coeff_10": "nan",
         "bg_value__fft_coefficient__attr_\"imag\"__coeff_11": "nan",
         "bg_value__fft_coefficient__attr_\"imag\"__coeff_12": "nan",
         "bg_value__fft_coefficient__attr_\"imag\"__coeff_13": "nan",
         "bg_value__fft_coefficient__attr_\"imag\"__coeff_14": "nan",
         "bg_value__fft_coefficient__attr_\"imag\"__coeff_15": "nan",
         "bg_value__fft_coefficient__attr_\"imag\"__coeff_16": "nan",
         "bg_value__fft_coefficient__attr_\"imag\"__coeff_17": "nan",
         "bg_value__fft_coefficient__attr_\"imag\"__coeff_18": "nan",
         "bg_value__fft_coefficient__attr_\"imag\"__coeff_19": "nan",
         "bg_value__fft_coefficient__attr_\"imag\"__coeff_20": "nan",
         "bg_value__fft_coefficient__attr_\"imag\"__coeff_21": "nan",
         "bg_value__fft_coefficient__attr_\"imag\"__coeff_22": "nan",
         "bg_value__fft_coefficient__attr_\"imag\"__coeff_23": "nan",
         "bg_value__fft_coefficient__attr_\"imag\"__coeff_24": "nan",
         "bg_value__fft_coefficient__attr_\"imag\"__coeff_25": "nan",
         "bg_value__fft_coefficient__attr_\"imag\"__coeff_26": "nan",
         "bg_value__fft_coefficient__attr_\"imag\"__coeff_27": "nan",
         "bg_value__fft_coefficient__attr_\"imag\"__coeff_28": "nan",
         "bg_value__fft_coefficient__attr_\"imag\"__coeff_29": "nan",
         "bg_value__fft_coefficient__attr_\"imag\"__coeff_30": "nan",
         "bg_value__fft_coefficient__attr_\"imag\"__coeff_31": "nan",
         "bg_value__fft_coefficient__attr_\"imag\"__coeff_32": "nan",
         "bg_value__fft_coefficient__attr_\"imag\"__coeff_33": "nan",
         "bg_value__fft_coefficient__attr_\"imag\"__coeff_34": "nan",
         "bg_value__fft_coefficient__attr_\"imag\"__coeff_35": "nan",
         "bg_value__fft_coefficient__attr_\"imag\"__coeff_36": "nan",
         "bg_value__fft_coefficient__attr_\"imag\"__coeff_37": "nan",
         "bg_value__fft_coefficient__attr_\"imag\"__coeff_38": "nan",
         "bg_value__fft_coefficient__attr_\"imag\"__coeff_39": "nan",
         "bg_value__fft_coefficient__attr_\"imag\"__coeff_40": "nan",
         "bg_value__fft_coefficient__attr_\"imag\"__coeff_41": "nan",
         "bg_value__fft_coefficient__attr_\"imag\"__coeff_42": "nan",
         "bg_value__fft_coefficient__attr_\"imag\"__coeff_43": "nan",
         "bg_value__fft_coefficient__attr_\"imag\"__coeff_44": "nan",
         "bg_value__fft_coefficient__attr_\"imag\"__coeff_45": "nan",
         "bg_value__fft_coefficient__attr_\"imag\"__coeff_46": "nan",
         "bg_value__fft_coefficient__attr_\"imag\"__coeff_47": "nan",
         "bg_value__fft_coefficient__attr_\"imag\"__coeff_48": "nan",
         "bg_value__fft_coefficient__attr_\"imag\"__coeff_49": "nan",
         "bg_value__fft_coefficient__attr_\"imag\"__coeff_50": "nan",
         "bg_value__fft_coefficient__attr_\"imag\"__coeff_51": "nan",
         "bg_value__fft_coefficient__attr_\"imag\"__coeff_52": "nan",
         "bg_value__fft_coefficient__attr_\"imag\"__coeff_53": "nan",
         "bg_value__fft_coefficient__attr_\"imag\"__coeff_54": "nan",
         "bg_value__fft_coefficient__attr_\"imag\"__coeff_55": "nan",
         "bg_value__fft_coefficient__attr_\"imag\"__coeff_56": "nan",
         "bg_value__fft_coefficient__attr_\"imag\"__coeff_57": "nan",
         "bg_value__fft_coefficient__attr_\"imag\"__coeff_58": "nan",
         "bg_value__fft_coefficient__attr_\"imag\"__coeff_59": "nan",
         "bg_value__fft_coefficient__attr_\"imag\"__coeff_60": "nan",
         "bg_value__fft_coefficient__attr_\"imag\"__coeff_61": "nan",
         "bg_value__fft_coefficient__attr_\"imag\"__coeff_62": "nan",
         "bg_value__fft_coefficient__attr_\"imag\"__coeff_63": "nan",
         "bg_value__fft_coefficient__attr_\"imag\"__coeff_64": "nan",
         "bg_value__fft_coefficient__attr_\"imag\"__coeff_65": "nan",
         "bg_value__fft_coefficient__attr_\"imag\"__coeff_66": "nan",
         "bg_value__fft_coefficient__attr_\"imag\"__coeff_67": "nan",
         "bg_value__fft_coefficient__attr_\"imag\"__coeff_68": "nan",
         "bg_value__fft_coefficient__attr_\"imag\"__coeff_69": "nan",
         "bg_value__fft_coefficient__attr_\"imag\"__coeff_70": "nan",
         "bg_value__fft_coefficient__attr_\"imag\"__coeff_71": "nan",
         "bg_value__fft_coefficient__attr_\"imag\"__coeff_72": "nan",
         "bg_value__fft_coefficient__attr_\"imag\"__coeff_73": "nan",
         "bg_value__fft_coefficient__attr_\"imag\"__coeff_74": "nan",
         "bg_value__fft_coefficient__attr_\"imag\"__coeff_75": "nan",
         "bg_value__fft_coefficient__attr_\"imag\"__coeff_76": "nan",
         "bg_value__fft_coefficient__attr_\"imag\"__coeff_77": "nan",
         "bg_value__fft_coefficient__attr_\"imag\"__coeff_78": "nan",
         "bg_value__fft_coefficient__attr_\"imag\"__coeff_79": "nan",
         "bg_value__fft_coefficient__attr_\"imag\"__coeff_80": "nan",
         "bg_value__fft_coefficient__attr_\"imag\"__coeff_81": "nan",
         "bg_value__fft_coefficient__attr_\"imag\"__coeff_82": "nan",
         "bg_value__fft_coefficient__attr_\"imag\"__coeff_83": "nan",
         "bg_value__fft_coefficient__attr_\"imag\"__coeff_84": "nan",
         "bg_value__fft_coefficient__attr_\"imag\"__coeff_85": "nan",
         "bg_value__fft_coefficient__attr_\"imag\"__coeff_86": "nan",
         "bg_value__fft_coefficient__attr_\"imag\"__coeff_87": "nan",
         "bg_value__fft_coefficient__attr_\"imag\"__coeff_88": "nan",
         "bg_value__fft_coefficient__attr_\"imag\"__coeff_89": "nan",
         "bg_value__fft_coefficient__attr_\"imag\"__coeff_90": "nan",
         "bg_value__fft_coefficient__attr_\"imag\"__coeff_91": "nan",
         "bg_value__fft_coefficient__attr_\"imag\"__coeff_92": "nan",
         "bg_value__fft_coefficient__attr_\"imag\"__coeff_93": "nan",
         "bg_value__fft_coefficient__attr_\"imag\"__coeff_94": "nan",
         "bg_value__fft_coefficient__attr_\"imag\"__coeff_95": "nan",
         "bg_value__fft_coefficient__attr_\"imag\"__coeff_96": "nan",
         "bg_value__fft_coefficient__attr_\"imag\"__coeff_97": "nan",
         "bg_value__fft_coefficient__attr_\"imag\"__coeff_98": "nan",
         "bg_value__fft_coefficient__attr_\"imag\"__coeff_99": "nan",
         "bg_value__fft_coefficient__attr_\"abs\"__coeff_0": 1217,
         "bg_value__fft_coefficient__attr_\"abs\"__coeff_1": 26.90724809414742,
         "bg_value__fft_coefficient__attr_\"abs\"__coeff_2": 5.291502622129181,
         "bg_value__fft_coefficient__attr_\"abs\"__coeff_3": 7,
         "bg_value__fft_coefficient__attr_\"abs\"__coeff_4": "nan",
         "bg_value__fft_coefficient__attr_\"abs\"__coeff_5": "nan",
         "bg_value__fft_coefficient__attr_\"abs\"__coeff_6": "nan",
         "bg_value__fft_coefficient__attr_\"abs\"__coeff_7": "nan",
         "bg_value__fft_coefficient__attr_\"abs\"__coeff_8": "nan",
         "bg_value__fft_coefficient__attr_\"abs\"__coeff_9": "nan",
         "bg_value__fft_coefficient__attr_\"abs\"__coeff_10": "nan",
         "bg_value__fft_coefficient__attr_\"abs\"__coeff_11": "nan",
         "bg_value__fft_coefficient__attr_\"abs\"__coeff_12": "nan",
         "bg_value__fft_coefficient__attr_\"abs\"__coeff_13": "nan",
         "bg_value__fft_coefficient__attr_\"abs\"__coeff_14": "nan",
         "bg_value__fft_coefficient__attr_\"abs\"__coeff_15": "nan",
         "bg_value__fft_coefficient__attr_\"abs\"__coeff_16": "nan",
         "bg_value__fft_coefficient__attr_\"abs\"__coeff_17": "nan",
         "bg_value__fft_coefficient__attr_\"abs\"__coeff_18": "nan",
         "bg_value__fft_coefficient__attr_\"abs\"__coeff_19": "nan",
         "bg_value__fft_coefficient__attr_\"abs\"__coeff_20": "nan",
         "bg_value__fft_coefficient__attr_\"abs\"__coeff_21": "nan",
         "bg_value__fft_coefficient__attr_\"abs\"__coeff_22": "nan",
         "bg_value__fft_coefficient__attr_\"abs\"__coeff_23": "nan",
         "bg_value__fft_coefficient__attr_\"abs\"__coeff_24": "nan",
         "bg_value__fft_coefficient__attr_\"abs\"__coeff_25": "nan",
         "bg_value__fft_coefficient__attr_\"abs\"__coeff_26": "nan",
         "bg_value__fft_coefficient__attr_\"abs\"__coeff_27": "nan",
         "bg_value__fft_coefficient__attr_\"abs\"__coeff_28": "nan",
         "bg_value__fft_coefficient__attr_\"abs\"__coeff_29": "nan",
         "bg_value__fft_coefficient__attr_\"abs\"__coeff_30": "nan",
         "bg_value__fft_coefficient__attr_\"abs\"__coeff_31": "nan",
         "bg_value__fft_coefficient__attr_\"abs\"__coeff_32": "nan",
         "bg_value__fft_coefficient__attr_\"abs\"__coeff_33": "nan",
         "bg_value__fft_coefficient__attr_\"abs\"__coeff_34": "nan",
         "bg_value__fft_coefficient__attr_\"abs\"__coeff_35": "nan",
         "_deepnote_index_column": 2993
        }
       ]
      },
      "text/plain": "      bg_value__variance_larger_than_standard_deviation  \\\n0                                                   1.0   \n1                                                   1.0   \n2                                                   1.0   \n3                                                   1.0   \n4                                                   1.0   \n...                                                 ...   \n2989                                                1.0   \n2990                                                1.0   \n2991                                                1.0   \n2992                                                1.0   \n2993                                                1.0   \n\n      bg_value__has_duplicate_max  bg_value__has_duplicate_min  \\\n0                             0.0                          0.0   \n1                             0.0                          0.0   \n2                             0.0                          0.0   \n3                             0.0                          0.0   \n4                             0.0                          0.0   \n...                           ...                          ...   \n2989                          0.0                          0.0   \n2990                          0.0                          0.0   \n2991                          0.0                          0.0   \n2992                          0.0                          0.0   \n2993                          0.0                          0.0   \n\n      bg_value__has_duplicate  bg_value__sum_values  bg_value__abs_energy  \\\n0                         0.0                 662.0               73694.0   \n1                         0.0                 696.0               81718.0   \n2                         0.0                 740.0               92278.0   \n3                         0.0                 776.0              101062.0   \n4                         0.0                 809.0              109543.0   \n...                       ...                   ...                   ...   \n2989                      0.0                1073.0              194245.0   \n2990                      0.0                1126.0              212318.0   \n2991                      0.0                1169.0              228099.0   \n2992                      0.0                1199.0              239799.0   \n2993                      0.0                1217.0              247107.0   \n\n      bg_value__mean_abs_change  bg_value__mean_change  \\\n0                           6.4                    5.2   \n1                           7.4                    7.4   \n2                           7.6                    7.6   \n3                           6.4                    5.6   \n4                           5.8                    5.0   \n...                         ...                    ...   \n2989                       11.4                   10.2   \n2990                        8.2                    7.0   \n2991                        6.2                    5.0   \n2992                        4.4                    3.2   \n2993                        4.0                    2.8   \n\n      bg_value__mean_second_derivative_central  bg_value__median  \\\n0                                        1.250             108.0   \n1                                        0.250             116.0   \n2                                       -0.125             123.5   \n3                                       -1.250             131.0   \n4                                       -0.250             137.5   \n...                                        ...               ...   \n2989                                    -2.625             187.0   \n2990                                    -2.000             194.5   \n2991                                    -0.750             196.0   \n2992                                     0.125             197.5   \n2993                                     0.625             201.5   \n\n      bg_value__mean  bg_value__length  bg_value__standard_deviation  \\\n0         110.333333               6.0                     10.434984   \n1         116.000000               6.0                     12.793227   \n2         123.333333               6.0                     12.982895   \n3         129.333333               6.0                     10.796090   \n4         134.833333               6.0                      8.782875   \n...              ...               ...                           ...   \n2989      178.833333               6.0                     19.819323   \n2990      187.666667               6.0                     12.944325   \n2991      194.833333               6.0                      7.514800   \n2992      199.833333               6.0                      5.756639   \n2993      202.833333               6.0                      6.568020   \n\n      bg_value__variation_coefficient  bg_value__variance  bg_value__skewness  \\\n0                            0.094577          108.888889            0.521097   \n1                            0.110286          163.666667            0.068667   \n2                            0.105267          168.555556           -0.060232   \n3                            0.083475          116.555556           -0.472553   \n4                            0.065139           77.138889           -0.736883   \n...                               ...                 ...                 ...   \n2989                         0.110826          392.805556           -0.946231   \n2990                         0.068975          167.555556           -1.556717   \n2991                         0.038570           56.472222           -1.167799   \n2992                         0.028807           33.138889            1.015000   \n2993                         0.032381           43.138889            0.287103   \n\n      bg_value__kurtosis  bg_value__root_mean_square  \\\n0              -1.402533                  110.825689   \n1              -1.328672                  116.703328   \n2              -1.177717                  124.014784   \n3              -1.326205                  129.783152   \n4              -0.840936                  135.119083   \n...                  ...                         ...   \n2989           -0.551626                  179.928226   \n2990            1.730984                  188.112555   \n2991            2.776628                  194.978204   \n2992           -0.417882                  199.916232   \n2993           -2.282283                  202.939646   \n\n      bg_value__absolute_sum_of_changes  bg_value__longest_strike_below_mean  \\\n0                                  32.0                                  3.0   \n1                                  37.0                                  3.0   \n2                                  38.0                                  3.0   \n3                                  32.0                                  3.0   \n4                                  29.0                                  2.0   \n...                                 ...                                  ...   \n2989                               57.0                                  2.0   \n2990                               41.0                                  2.0   \n2991                               31.0                                  2.0   \n2992                               22.0                                  4.0   \n2993                               20.0                                  3.0   \n\n      bg_value__longest_strike_above_mean  bg_value__count_above_mean  \\\n0                                     3.0                         3.0   \n1                                     3.0                         3.0   \n2                                     3.0                         3.0   \n3                                     3.0                         3.0   \n4                                     4.0                         4.0   \n...                                   ...                         ...   \n2989                                  4.0                         4.0   \n2990                                  4.0                         4.0   \n2991                                  4.0                         4.0   \n2992                                  2.0                         2.0   \n2993                                  3.0                         3.0   \n\n      bg_value__count_below_mean  bg_value__last_location_of_maximum  \\\n0                            3.0                            1.000000   \n1                            3.0                            1.000000   \n2                            3.0                            1.000000   \n3                            3.0                            0.833333   \n4                            2.0                            1.000000   \n...                          ...                                 ...   \n2989                         2.0                            0.833333   \n2990                         2.0                            0.666667   \n2991                         2.0                            1.000000   \n2992                         4.0                            1.000000   \n2993                         3.0                            1.000000   \n\n      bg_value__first_location_of_maximum  bg_value__last_location_of_minimum  \\\n0                                0.833333                            0.333333   \n1                                0.833333                            0.166667   \n2                                0.833333                            0.166667   \n3                                0.666667                            0.166667   \n4                                0.833333                            0.166667   \n...                                   ...                                 ...   \n2989                             0.666667                            0.166667   \n2990                             0.500000                            0.166667   \n2991                             0.833333                            0.166667   \n2992                             0.833333                            0.166667   \n2993                             0.833333                            0.333333   \n\n      bg_value__first_location_of_minimum  \\\n0                                0.166667   \n1                                0.000000   \n2                                0.000000   \n3                                0.000000   \n4                                0.000000   \n...                                   ...   \n2989                             0.000000   \n2990                             0.000000   \n2991                             0.000000   \n2992                             0.000000   \n2993                             0.166667   \n\n      bg_value__percentage_of_reoccurring_values_to_all_values  \\\n0                                                   0.0          \n1                                                   0.0          \n2                                                   0.0          \n3                                                   0.0          \n4                                                   0.0          \n...                                                 ...          \n2989                                                0.0          \n2990                                                0.0          \n2991                                                0.0          \n2992                                                0.0          \n2993                                                0.0          \n\n      bg_value__percentage_of_reoccurring_datapoints_to_all_datapoints  \\\n0                                                   0.0                  \n1                                                   0.0                  \n2                                                   0.0                  \n3                                                   0.0                  \n4                                                   0.0                  \n...                                                 ...                  \n2989                                                0.0                  \n2990                                                0.0                  \n2991                                                0.0                  \n2992                                                0.0                  \n2993                                                0.0                  \n\n      bg_value__sum_of_reoccurring_values  \\\n0                                     0.0   \n1                                     0.0   \n2                                     0.0   \n3                                     0.0   \n4                                     0.0   \n...                                   ...   \n2989                                  0.0   \n2990                                  0.0   \n2991                                  0.0   \n2992                                  0.0   \n2993                                  0.0   \n\n      bg_value__sum_of_reoccurring_data_points  \\\n0                                          0.0   \n1                                          0.0   \n2                                          0.0   \n3                                          0.0   \n4                                          0.0   \n...                                        ...   \n2989                                       0.0   \n2990                                       0.0   \n2991                                       0.0   \n2992                                       0.0   \n2993                                       0.0   \n\n      bg_value__ratio_value_number_to_time_series_length  \\\n0                                                   1.0    \n1                                                   1.0    \n2                                                   1.0    \n3                                                   1.0    \n4                                                   1.0    \n...                                                 ...    \n2989                                                1.0    \n2990                                                1.0    \n2991                                                1.0    \n2992                                                1.0    \n2993                                                1.0    \n\n      bg_value__sample_entropy  bg_value__maximum  bg_value__minimum  \\\n0                          NaN              127.0               98.0   \n1                          NaN              135.0               98.0   \n2                          NaN              142.0              104.0   \n3                          NaN              142.0              112.0   \n4                          NaN              145.0              120.0   \n...                        ...                ...                ...   \n2989                       NaN              198.0              144.0   \n2990                       inf              198.0              162.0   \n2991                       inf              205.0              180.0   \n2992                       inf              210.0              194.0   \n2993                       NaN              212.0              195.0   \n\n      bg_value__benford_correlation  \\\n0                          0.808705   \n1                          0.808705   \n2                          0.864123   \n3                          0.864123   \n4                          0.864123   \n...                             ...   \n2989                       0.864123   \n2990                       0.864123   \n2991                       0.927906   \n2992                       0.954077   \n2993                       0.876711   \n\n      bg_value__time_reversal_asymmetry_statistic__lag_1  \\\n0                                             299409.50    \n1                                             405785.75    \n2                                             465527.00    \n3                                             413987.50    \n4                                             336572.50    \n...                                                 ...    \n2989                                         1334281.50    \n2990                                          842633.25    \n2991                                          526993.25    \n2992                                          468163.00    \n2993                                          602155.00    \n\n      bg_value__time_reversal_asymmetry_statistic__lag_2  \\\n0                                              583748.0    \n1                                              809940.0    \n2                                              928410.0    \n3                                              834870.0    \n4                                              698616.0    \n...                                                 ...    \n2989                                          2804877.0    \n2990                                          1777248.0    \n2991                                          1062418.5    \n2992                                           910183.5    \n2993                                          1191453.5    \n\n      bg_value__time_reversal_asymmetry_statistic__lag_3  bg_value__c3__lag_1  \\\n0                                                   0.0            1318884.00   \n1                                                   0.0            1575886.00   \n2                                                   0.0            1899157.50   \n3                                                   0.0            2220667.50   \n4                                                   0.0            2514597.50   \n...                                                 ...                   ...   \n2989                                                0.0            6065145.00   \n2990                                                0.0            6916927.50   \n2991                                                0.0            7471436.25   \n2992                                                0.0            7863108.75   \n2993                                                0.0            8272173.75   \n\n      bg_value__c3__lag_2  bg_value__c3__lag_3  \\\n0               1327216.0                  0.0   \n1               1539376.0                  0.0   \n2               1852304.0                  0.0   \n3               2143904.0                  0.0   \n4               2441465.0                  0.0   \n...                   ...                  ...   \n2989            5630310.0                  0.0   \n2990            6574770.0                  0.0   \n2991            7388115.0                  0.0   \n2992            7973205.0                  0.0   \n2993            8332980.0                  0.0   \n\n      bg_value__cid_ce__normalize_True  bg_value__cid_ce__normalize_False  \\\n0                             1.427857                          14.899664   \n1                             1.300947                          16.643317   \n2                             1.311679                          17.029386   \n3                             1.404745                          15.165751   \n4                             1.573548                          13.820275   \n...                                ...                                ...   \n2989                          1.487377                          29.478806   \n2990                          1.810117                          23.430749   \n2991                          2.262203                          17.000000   \n2992                          1.887001                          10.862780   \n2993                          1.567539                          10.295630   \n\n      bg_value__symmetry_looking__r_0.0  bg_value__symmetry_looking__r_0.05  \\\n0                                   0.0                                 0.0   \n1                                   0.0                                 1.0   \n2                                   0.0                                 1.0   \n3                                   0.0                                 0.0   \n4                                   0.0                                 0.0   \n...                                 ...                                 ...   \n2989                                0.0                                 0.0   \n2990                                0.0                                 0.0   \n2991                                0.0                                 1.0   \n2992                                0.0                                 0.0   \n2993                                0.0                                 0.0   \n\n      bg_value__symmetry_looking__r_0.1  \\\n0                                   1.0   \n1                                   1.0   \n2                                   1.0   \n3                                   1.0   \n4                                   0.0   \n...                                 ...   \n2989                                0.0   \n2990                                0.0   \n2991                                1.0   \n2992                                0.0   \n2993                                1.0   \n\n      bg_value__symmetry_looking__r_0.15000000000000002  \\\n0                                                   1.0   \n1                                                   1.0   \n2                                                   1.0   \n3                                                   1.0   \n4                                                   1.0   \n...                                                 ...   \n2989                                                0.0   \n2990                                                0.0   \n2991                                                1.0   \n2992                                                1.0   \n2993                                                1.0   \n\n      bg_value__symmetry_looking__r_0.2  bg_value__symmetry_looking__r_0.25  \\\n0                                   1.0                                 1.0   \n1                                   1.0                                 1.0   \n2                                   1.0                                 1.0   \n3                                   1.0                                 1.0   \n4                                   1.0                                 1.0   \n...                                 ...                                 ...   \n2989                                1.0                                 1.0   \n2990                                1.0                                 1.0   \n2991                                1.0                                 1.0   \n2992                                1.0                                 1.0   \n2993                                1.0                                 1.0   \n\n      bg_value__symmetry_looking__r_0.30000000000000004  \\\n0                                                   1.0   \n1                                                   1.0   \n2                                                   1.0   \n3                                                   1.0   \n4                                                   1.0   \n...                                                 ...   \n2989                                                1.0   \n2990                                                1.0   \n2991                                                1.0   \n2992                                                1.0   \n2993                                                1.0   \n\n      bg_value__symmetry_looking__r_0.35000000000000003  \\\n0                                                   1.0   \n1                                                   1.0   \n2                                                   1.0   \n3                                                   1.0   \n4                                                   1.0   \n...                                                 ...   \n2989                                                1.0   \n2990                                                1.0   \n2991                                                1.0   \n2992                                                1.0   \n2993                                                1.0   \n\n      bg_value__symmetry_looking__r_0.4  bg_value__symmetry_looking__r_0.45  \\\n0                                   1.0                                 1.0   \n1                                   1.0                                 1.0   \n2                                   1.0                                 1.0   \n3                                   1.0                                 1.0   \n4                                   1.0                                 1.0   \n...                                 ...                                 ...   \n2989                                1.0                                 1.0   \n2990                                1.0                                 1.0   \n2991                                1.0                                 1.0   \n2992                                1.0                                 1.0   \n2993                                1.0                                 1.0   \n\n      bg_value__symmetry_looking__r_0.5  bg_value__symmetry_looking__r_0.55  \\\n0                                   1.0                                 1.0   \n1                                   1.0                                 1.0   \n2                                   1.0                                 1.0   \n3                                   1.0                                 1.0   \n4                                   1.0                                 1.0   \n...                                 ...                                 ...   \n2989                                1.0                                 1.0   \n2990                                1.0                                 1.0   \n2991                                1.0                                 1.0   \n2992                                1.0                                 1.0   \n2993                                1.0                                 1.0   \n\n      bg_value__symmetry_looking__r_0.6000000000000001  \\\n0                                                  1.0   \n1                                                  1.0   \n2                                                  1.0   \n3                                                  1.0   \n4                                                  1.0   \n...                                                ...   \n2989                                               1.0   \n2990                                               1.0   \n2991                                               1.0   \n2992                                               1.0   \n2993                                               1.0   \n\n      bg_value__symmetry_looking__r_0.65  \\\n0                                    1.0   \n1                                    1.0   \n2                                    1.0   \n3                                    1.0   \n4                                    1.0   \n...                                  ...   \n2989                                 1.0   \n2990                                 1.0   \n2991                                 1.0   \n2992                                 1.0   \n2993                                 1.0   \n\n      bg_value__symmetry_looking__r_0.7000000000000001  \\\n0                                                  1.0   \n1                                                  1.0   \n2                                                  1.0   \n3                                                  1.0   \n4                                                  1.0   \n...                                                ...   \n2989                                               1.0   \n2990                                               1.0   \n2991                                               1.0   \n2992                                               1.0   \n2993                                               1.0   \n\n      bg_value__symmetry_looking__r_0.75  bg_value__symmetry_looking__r_0.8  \\\n0                                    1.0                                1.0   \n1                                    1.0                                1.0   \n2                                    1.0                                1.0   \n3                                    1.0                                1.0   \n4                                    1.0                                1.0   \n...                                  ...                                ...   \n2989                                 1.0                                1.0   \n2990                                 1.0                                1.0   \n2991                                 1.0                                1.0   \n2992                                 1.0                                1.0   \n2993                                 1.0                                1.0   \n\n      bg_value__symmetry_looking__r_0.8500000000000001  \\\n0                                                  1.0   \n1                                                  1.0   \n2                                                  1.0   \n3                                                  1.0   \n4                                                  1.0   \n...                                                ...   \n2989                                               1.0   \n2990                                               1.0   \n2991                                               1.0   \n2992                                               1.0   \n2993                                               1.0   \n\n      bg_value__symmetry_looking__r_0.9  \\\n0                                   1.0   \n1                                   1.0   \n2                                   1.0   \n3                                   1.0   \n4                                   1.0   \n...                                 ...   \n2989                                1.0   \n2990                                1.0   \n2991                                1.0   \n2992                                1.0   \n2993                                1.0   \n\n      bg_value__symmetry_looking__r_0.9500000000000001  \\\n0                                                  1.0   \n1                                                  1.0   \n2                                                  1.0   \n3                                                  1.0   \n4                                                  1.0   \n...                                                ...   \n2989                                               1.0   \n2990                                               1.0   \n2991                                               1.0   \n2992                                               1.0   \n2993                                               1.0   \n\n      bg_value__large_standard_deviation__r_0.05  \\\n0                                            1.0   \n1                                            1.0   \n2                                            1.0   \n3                                            1.0   \n4                                            1.0   \n...                                          ...   \n2989                                         1.0   \n2990                                         1.0   \n2991                                         1.0   \n2992                                         1.0   \n2993                                         1.0   \n\n      bg_value__large_standard_deviation__r_0.1  \\\n0                                           1.0   \n1                                           1.0   \n2                                           1.0   \n3                                           1.0   \n4                                           1.0   \n...                                         ...   \n2989                                        1.0   \n2990                                        1.0   \n2991                                        1.0   \n2992                                        1.0   \n2993                                        1.0   \n\n      bg_value__large_standard_deviation__r_0.15000000000000002  \\\n0                                                   1.0           \n1                                                   1.0           \n2                                                   1.0           \n3                                                   1.0           \n4                                                   1.0           \n...                                                 ...           \n2989                                                1.0           \n2990                                                1.0           \n2991                                                1.0           \n2992                                                1.0           \n2993                                                1.0           \n\n      bg_value__large_standard_deviation__r_0.2  \\\n0                                           1.0   \n1                                           1.0   \n2                                           1.0   \n3                                           1.0   \n4                                           1.0   \n...                                         ...   \n2989                                        1.0   \n2990                                        1.0   \n2991                                        1.0   \n2992                                        1.0   \n2993                                        1.0   \n\n      bg_value__large_standard_deviation__r_0.25  \\\n0                                            1.0   \n1                                            1.0   \n2                                            1.0   \n3                                            1.0   \n4                                            1.0   \n...                                          ...   \n2989                                         1.0   \n2990                                         1.0   \n2991                                         1.0   \n2992                                         1.0   \n2993                                         1.0   \n\n      bg_value__large_standard_deviation__r_0.30000000000000004  \\\n0                                                   1.0           \n1                                                   1.0           \n2                                                   1.0           \n3                                                   1.0           \n4                                                   1.0           \n...                                                 ...           \n2989                                                1.0           \n2990                                                1.0           \n2991                                                1.0           \n2992                                                1.0           \n2993                                                1.0           \n\n      bg_value__large_standard_deviation__r_0.35000000000000003  \\\n0                                                   1.0           \n1                                                   0.0           \n2                                                   0.0           \n3                                                   1.0           \n4                                                   1.0           \n...                                                 ...           \n2989                                                1.0           \n2990                                                1.0           \n2991                                                0.0           \n2992                                                1.0           \n2993                                                1.0           \n\n      bg_value__large_standard_deviation__r_0.4  \\\n0                                           0.0   \n1                                           0.0   \n2                                           0.0   \n3                                           0.0   \n4                                           0.0   \n...                                         ...   \n2989                                        0.0   \n2990                                        0.0   \n2991                                        0.0   \n2992                                        0.0   \n2993                                        0.0   \n\n      bg_value__large_standard_deviation__r_0.45  \\\n0                                            0.0   \n1                                            0.0   \n2                                            0.0   \n3                                            0.0   \n4                                            0.0   \n...                                          ...   \n2989                                         0.0   \n2990                                         0.0   \n2991                                         0.0   \n2992                                         0.0   \n2993                                         0.0   \n\n      bg_value__large_standard_deviation__r_0.5  \\\n0                                           0.0   \n1                                           0.0   \n2                                           0.0   \n3                                           0.0   \n4                                           0.0   \n...                                         ...   \n2989                                        0.0   \n2990                                        0.0   \n2991                                        0.0   \n2992                                        0.0   \n2993                                        0.0   \n\n      bg_value__large_standard_deviation__r_0.55  \\\n0                                            0.0   \n1                                            0.0   \n2                                            0.0   \n3                                            0.0   \n4                                            0.0   \n...                                          ...   \n2989                                         0.0   \n2990                                         0.0   \n2991                                         0.0   \n2992                                         0.0   \n2993                                         0.0   \n\n      bg_value__large_standard_deviation__r_0.6000000000000001  \\\n0                                                   0.0          \n1                                                   0.0          \n2                                                   0.0          \n3                                                   0.0          \n4                                                   0.0          \n...                                                 ...          \n2989                                                0.0          \n2990                                                0.0          \n2991                                                0.0          \n2992                                                0.0          \n2993                                                0.0          \n\n      bg_value__large_standard_deviation__r_0.65  \\\n0                                            0.0   \n1                                            0.0   \n2                                            0.0   \n3                                            0.0   \n4                                            0.0   \n...                                          ...   \n2989                                         0.0   \n2990                                         0.0   \n2991                                         0.0   \n2992                                         0.0   \n2993                                         0.0   \n\n      bg_value__large_standard_deviation__r_0.7000000000000001  \\\n0                                                   0.0          \n1                                                   0.0          \n2                                                   0.0          \n3                                                   0.0          \n4                                                   0.0          \n...                                                 ...          \n2989                                                0.0          \n2990                                                0.0          \n2991                                                0.0          \n2992                                                0.0          \n2993                                                0.0          \n\n      bg_value__large_standard_deviation__r_0.75  \\\n0                                            0.0   \n1                                            0.0   \n2                                            0.0   \n3                                            0.0   \n4                                            0.0   \n...                                          ...   \n2989                                         0.0   \n2990                                         0.0   \n2991                                         0.0   \n2992                                         0.0   \n2993                                         0.0   \n\n      bg_value__large_standard_deviation__r_0.8  \\\n0                                           0.0   \n1                                           0.0   \n2                                           0.0   \n3                                           0.0   \n4                                           0.0   \n...                                         ...   \n2989                                        0.0   \n2990                                        0.0   \n2991                                        0.0   \n2992                                        0.0   \n2993                                        0.0   \n\n      bg_value__large_standard_deviation__r_0.8500000000000001  \\\n0                                                   0.0          \n1                                                   0.0          \n2                                                   0.0          \n3                                                   0.0          \n4                                                   0.0          \n...                                                 ...          \n2989                                                0.0          \n2990                                                0.0          \n2991                                                0.0          \n2992                                                0.0          \n2993                                                0.0          \n\n      bg_value__large_standard_deviation__r_0.9  \\\n0                                           0.0   \n1                                           0.0   \n2                                           0.0   \n3                                           0.0   \n4                                           0.0   \n...                                         ...   \n2989                                        0.0   \n2990                                        0.0   \n2991                                        0.0   \n2992                                        0.0   \n2993                                        0.0   \n\n      bg_value__large_standard_deviation__r_0.9500000000000001  \\\n0                                                   0.0          \n1                                                   0.0          \n2                                                   0.0          \n3                                                   0.0          \n4                                                   0.0          \n...                                                 ...          \n2989                                                0.0          \n2990                                                0.0          \n2991                                                0.0          \n2992                                                0.0          \n2993                                                0.0          \n\n      bg_value__quantile__q_0.1  bg_value__quantile__q_0.2  \\\n0                          99.5                      101.0   \n1                         101.0                      104.0   \n2                         108.0                      112.0   \n3                         116.0                      120.0   \n4                         123.5                      127.0   \n...                         ...                        ...   \n2989                      153.0                      162.0   \n2990                      171.0                      180.0   \n2991                      187.0                      194.0   \n2992                      194.5                      195.0   \n2993                      196.0                      197.0   \n\n      bg_value__quantile__q_0.3  bg_value__quantile__q_0.4  \\\n0                         102.5                      104.0   \n1                         108.0                      112.0   \n2                         116.0                      120.0   \n3                         123.5                      127.0   \n4                         131.0                      135.0   \n...                         ...                        ...   \n2989                      171.0                      180.0   \n2990                      187.0                      194.0   \n2991                      194.5                      195.0   \n2992                      196.0                      197.0   \n2993                      197.5                      198.0   \n\n      bg_value__quantile__q_0.6  bg_value__quantile__q_0.7  \\\n0                         112.0                      116.0   \n1                         120.0                      123.5   \n2                         127.0                      131.0   \n3                         135.0                      137.5   \n4                         140.0                      141.0   \n...                         ...                        ...   \n2989                      194.0                      194.5   \n2990                      195.0                      196.0   \n2991                      197.0                      197.5   \n2992                      198.0                      201.5   \n2993                      205.0                      207.5   \n\n      bg_value__quantile__q_0.8  bg_value__quantile__q_0.9  \\\n0                         120.0                      123.5   \n1                         127.0                      131.0   \n2                         135.0                      138.5   \n3                         140.0                      141.0   \n4                         142.0                      143.5   \n...                         ...                        ...   \n2989                      195.0                      196.5   \n2990                      197.0                      197.5   \n2991                      198.0                      201.5   \n2992                      205.0                      207.5   \n2993                      210.0                      211.0   \n\n      bg_value__autocorrelation__lag_0  bg_value__autocorrelation__lag_1  \\\n0                                  1.0                          0.661020   \n1                                  1.0                          0.612220   \n2                                  1.0                          0.599473   \n3                                  1.0                          0.647283   \n4                                  1.0                          0.533165   \n...                                ...                               ...   \n2989                               1.0                          0.603338   \n2990                               1.0                          0.427188   \n2991                               1.0                          0.115593   \n2992                               1.0                          0.429338   \n2993                               1.0                          0.705344   \n\n      bg_value__autocorrelation__lag_2  bg_value__autocorrelation__lag_3  \\\n0                             0.011735                         -0.735714   \n1                             0.085540                         -0.570265   \n2                             0.077785                         -0.524720   \n3                             0.039561                         -0.690181   \n4                             0.048974                         -0.626936   \n...                                ...                               ...   \n2989                         -0.018068                         -0.706103   \n2990                         -0.147546                         -0.521883   \n2991                         -0.170684                          0.164781   \n2992                         -0.153814                         -0.423303   \n2993                         -0.062138                         -0.927882   \n\n      bg_value__autocorrelation__lag_4  bg_value__autocorrelation__lag_5  \\\n0                            -1.358163                         -1.428571   \n1                            -1.301426                         -2.089613   \n2                            -1.296638                         -2.141068   \n3                            -1.368923                         -1.586273   \n4                            -1.012964                         -1.954987   \n...                                ...                               ...   \n2989                         -1.196238                         -1.433633   \n2990                         -0.775199                         -1.429708   \n2991                         -0.359567                         -2.670438   \n2992                         -0.735960                         -1.789606   \n2993                         -1.233741                         -1.027044   \n\n      bg_value__autocorrelation__lag_6  bg_value__autocorrelation__lag_7  \\\n0                                  NaN                               NaN   \n1                                  NaN                               NaN   \n2                                  NaN                               NaN   \n3                                  NaN                               NaN   \n4                                  NaN                               NaN   \n...                                ...                               ...   \n2989                               NaN                               NaN   \n2990                               NaN                               NaN   \n2991                               NaN                               NaN   \n2992                               NaN                               NaN   \n2993                               NaN                               NaN   \n\n      bg_value__autocorrelation__lag_8  bg_value__autocorrelation__lag_9  \\\n0                                  NaN                               NaN   \n1                                  NaN                               NaN   \n2                                  NaN                               NaN   \n3                                  NaN                               NaN   \n4                                  NaN                               NaN   \n...                                ...                               ...   \n2989                               NaN                               NaN   \n2990                               NaN                               NaN   \n2991                               NaN                               NaN   \n2992                               NaN                               NaN   \n2993                               NaN                               NaN   \n\n      bg_value__agg_autocorrelation__f_agg_\"mean\"__maxlag_40  \\\n0                                             -0.569939        \n1                                             -0.652709        \n2                                             -0.657034        \n3                                             -0.591706        \n4                                             -0.602550        \n...                                                 ...        \n2989                                          -0.550141        \n2990                                          -0.489430        \n2991                                          -0.584063        \n2992                                          -0.534669        \n2993                                          -0.509092        \n\n      bg_value__agg_autocorrelation__f_agg_\"median\"__maxlag_40  \\\n0                                             -0.735714          \n1                                             -0.570265          \n2                                             -0.524720          \n3                                             -0.690181          \n4                                             -0.626936          \n...                                                 ...          \n2989                                          -0.706103          \n2990                                          -0.521883          \n2991                                          -0.170684          \n2992                                          -0.423303          \n2993                                          -0.927882          \n\n      bg_value__agg_autocorrelation__f_agg_\"var\"__maxlag_40  \\\n0                                              0.647927       \n1                                              0.927476       \n2                                              0.949545       \n3                                              0.707304       \n4                                              0.742491       \n...                                                 ...       \n2989                                           0.567188       \n2990                                           0.384783       \n2991                                           1.124905       \n2992                                           0.540429       \n2993                                           0.528680       \n\n      bg_value__partial_autocorrelation__lag_0  \\\n0                                          1.0   \n1                                          1.0   \n2                                          1.0   \n3                                          1.0   \n4                                          1.0   \n...                                        ...   \n2989                                       1.0   \n2990                                       1.0   \n2991                                       1.0   \n2992                                       1.0   \n2993                                       1.0   \n\n      bg_value__partial_autocorrelation__lag_1  \\\n0                                     0.661020   \n1                                     0.612220   \n2                                     0.599473   \n3                                     0.647283   \n4                                     0.533165   \n...                                        ...   \n2989                                  0.603338   \n2990                                  0.427188   \n2991                                  0.115593   \n2992                                  0.429338   \n2993                                  0.705344   \n\n      bg_value__partial_autocorrelation__lag_2  \\\n0                                    -0.755194   \n1                                    -0.462699   \n2                                    -0.439538   \n3                                    -0.653008   \n4                                    -0.328741   \n...                                        ...   \n2989                                 -0.600777   \n2990                                 -0.403709   \n2991                                 -0.186538   \n2992                                 -0.414561   \n2993                                 -1.113753   \n\n      bg_value__partial_autocorrelation__lag_3  \\\n0                                          NaN   \n1                                          NaN   \n2                                          NaN   \n3                                          NaN   \n4                                          NaN   \n...                                        ...   \n2989                                       NaN   \n2990                                       NaN   \n2991                                       NaN   \n2992                                       NaN   \n2993                                       NaN   \n\n      bg_value__partial_autocorrelation__lag_4  \\\n0                                          NaN   \n1                                          NaN   \n2                                          NaN   \n3                                          NaN   \n4                                          NaN   \n...                                        ...   \n2989                                       NaN   \n2990                                       NaN   \n2991                                       NaN   \n2992                                       NaN   \n2993                                       NaN   \n\n      bg_value__partial_autocorrelation__lag_5  \\\n0                                          NaN   \n1                                          NaN   \n2                                          NaN   \n3                                          NaN   \n4                                          NaN   \n...                                        ...   \n2989                                       NaN   \n2990                                       NaN   \n2991                                       NaN   \n2992                                       NaN   \n2993                                       NaN   \n\n      bg_value__partial_autocorrelation__lag_6  \\\n0                                          NaN   \n1                                          NaN   \n2                                          NaN   \n3                                          NaN   \n4                                          NaN   \n...                                        ...   \n2989                                       NaN   \n2990                                       NaN   \n2991                                       NaN   \n2992                                       NaN   \n2993                                       NaN   \n\n      bg_value__partial_autocorrelation__lag_7  \\\n0                                          NaN   \n1                                          NaN   \n2                                          NaN   \n3                                          NaN   \n4                                          NaN   \n...                                        ...   \n2989                                       NaN   \n2990                                       NaN   \n2991                                       NaN   \n2992                                       NaN   \n2993                                       NaN   \n\n      bg_value__partial_autocorrelation__lag_8  \\\n0                                          NaN   \n1                                          NaN   \n2                                          NaN   \n3                                          NaN   \n4                                          NaN   \n...                                        ...   \n2989                                       NaN   \n2990                                       NaN   \n2991                                       NaN   \n2992                                       NaN   \n2993                                       NaN   \n\n      bg_value__partial_autocorrelation__lag_9  \\\n0                                          NaN   \n1                                          NaN   \n2                                          NaN   \n3                                          NaN   \n4                                          NaN   \n...                                        ...   \n2989                                       NaN   \n2990                                       NaN   \n2991                                       NaN   \n2992                                       NaN   \n2993                                       NaN   \n\n      bg_value__number_cwt_peaks__n_1  bg_value__number_cwt_peaks__n_5  \\\n0                                 1.0                              1.0   \n1                                 1.0                              1.0   \n2                                 1.0                              1.0   \n3                                 1.0                              1.0   \n4                                 1.0                              1.0   \n...                               ...                              ...   \n2989                              1.0                              1.0   \n2990                              1.0                              1.0   \n2991                              1.0                              1.0   \n2992                              1.0                              1.0   \n2993                              1.0                              1.0   \n\n      bg_value__number_peaks__n_1  bg_value__number_peaks__n_3  \\\n0                             0.0                          0.0   \n1                             0.0                          0.0   \n2                             0.0                          0.0   \n3                             1.0                          0.0   \n4                             1.0                          0.0   \n...                           ...                          ...   \n2989                          1.0                          0.0   \n2990                          1.0                          0.0   \n2991                          1.0                          0.0   \n2992                          1.0                          0.0   \n2993                          0.0                          0.0   \n\n      bg_value__number_peaks__n_5  bg_value__number_peaks__n_10  \\\n0                             0.0                           0.0   \n1                             0.0                           0.0   \n2                             0.0                           0.0   \n3                             0.0                           0.0   \n4                             0.0                           0.0   \n...                           ...                           ...   \n2989                          0.0                           0.0   \n2990                          0.0                           0.0   \n2991                          0.0                           0.0   \n2992                          0.0                           0.0   \n2993                          0.0                           0.0   \n\n      bg_value__number_peaks__n_50  bg_value__binned_entropy__max_bins_10  \\\n0                              0.0                               1.791759   \n1                              0.0                               1.791759   \n2                              0.0                               1.791759   \n3                              0.0                               1.560710   \n4                              0.0                               1.560710   \n...                            ...                                    ...   \n2989                           0.0                               1.242453   \n2990                           0.0                               1.242453   \n2991                           0.0                               1.560710   \n2992                           0.0                               1.560710   \n2993                           0.0                               1.560710   \n\n      bg_value__index_mass_quantile__q_0.1  \\\n0                                 0.166667   \n1                                 0.166667   \n2                                 0.166667   \n3                                 0.166667   \n4                                 0.166667   \n...                                    ...   \n2989                              0.166667   \n2990                              0.166667   \n2991                              0.166667   \n2992                              0.166667   \n2993                              0.166667   \n\n      bg_value__index_mass_quantile__q_0.2  \\\n0                                 0.333333   \n1                                 0.333333   \n2                                 0.333333   \n3                                 0.333333   \n4                                 0.333333   \n...                                    ...   \n2989                              0.333333   \n2990                              0.333333   \n2991                              0.333333   \n2992                              0.333333   \n2993                              0.333333   \n\n      bg_value__index_mass_quantile__q_0.3  \\\n0                                 0.333333   \n1                                 0.500000   \n2                                 0.500000   \n3                                 0.500000   \n4                                 0.333333   \n...                                    ...   \n2989                              0.500000   \n2990                              0.333333   \n2991                              0.333333   \n2992                              0.333333   \n2993                              0.333333   \n\n      bg_value__index_mass_quantile__q_0.4  \\\n0                                      0.5   \n1                                      0.5   \n2                                      0.5   \n3                                      0.5   \n4                                      0.5   \n...                                    ...   \n2989                                   0.5   \n2990                                   0.5   \n2991                                   0.5   \n2992                                   0.5   \n2993                                   0.5   \n\n      bg_value__index_mass_quantile__q_0.6  \\\n0                                 0.666667   \n1                                 0.666667   \n2                                 0.666667   \n3                                 0.666667   \n4                                 0.666667   \n...                                    ...   \n2989                              0.666667   \n2990                              0.666667   \n2991                              0.666667   \n2992                              0.666667   \n2993                              0.666667   \n\n      bg_value__index_mass_quantile__q_0.7  \\\n0                                 0.833333   \n1                                 0.833333   \n2                                 0.833333   \n3                                 0.833333   \n4                                 0.833333   \n...                                    ...   \n2989                              0.833333   \n2990                              0.833333   \n2991                              0.833333   \n2992                              0.833333   \n2993                              0.833333   \n\n      bg_value__index_mass_quantile__q_0.8  \\\n0                                 0.833333   \n1                                 0.833333   \n2                                 0.833333   \n3                                 0.833333   \n4                                 0.833333   \n...                                    ...   \n2989                              0.833333   \n2990                              0.833333   \n2991                              0.833333   \n2992                              0.833333   \n2993                              0.833333   \n\n      bg_value__index_mass_quantile__q_0.9  \\\n0                                      1.0   \n1                                      1.0   \n2                                      1.0   \n3                                      1.0   \n4                                      1.0   \n...                                    ...   \n2989                                   1.0   \n2990                                   1.0   \n2991                                   1.0   \n2992                                   1.0   \n2993                                   1.0   \n\n      bg_value__cwt_coefficients__coeff_0__w_2__widths_(2, 5, 10, 20)  \\\n0                                             59.706846                 \n1                                             57.986708                 \n2                                             61.687079                 \n3                                             66.659933                 \n4                                             71.272311                 \n...                                                 ...                 \n2989                                          84.628157                 \n2990                                          96.093477                 \n2991                                         108.328076                 \n2992                                         117.413835                 \n2993                                         118.719432                 \n\n      bg_value__cwt_coefficients__coeff_0__w_5__widths_(2, 5, 10, 20)  \\\n0                                             98.359241                 \n1                                            101.291432                 \n2                                            108.337271                 \n3                                            115.890555                 \n4                                            123.363126                 \n...                                                 ...                 \n2989                                         155.896248                 \n2990                                         172.441863                 \n2991                                         185.070454                 \n2992                                         190.999226                 \n2993                                         192.028706                 \n\n      bg_value__cwt_coefficients__coeff_0__w_10__widths_(2, 5, 10, 20)  \\\n0                                             79.496509                  \n1                                             82.261140                  \n2                                             88.015177                  \n3                                             94.066485                  \n4                                            100.101911                  \n...                                                 ...                  \n2989                                         127.153217                  \n2990                                         140.332526                  \n2991                                         149.959237                  \n2992                                         154.097414                  \n2993                                         154.893526                  \n\n      bg_value__cwt_coefficients__coeff_0__w_20__widths_(2, 5, 10, 20)  \\\n0                                             58.115745                  \n1                                             60.203704                  \n2                                             64.420101                  \n3                                             68.834590                  \n4                                             73.246195                  \n...                                                 ...                  \n2989                                          93.151212                  \n2990                                         102.752320                  \n2991                                         109.689960                  \n2992                                         112.603530                  \n2993                                         113.180488                  \n\n      bg_value__cwt_coefficients__coeff_1__w_2__widths_(2, 5, 10, 20)  \\\n0                                            114.271083                 \n1                                            116.299641                 \n2                                            124.616122                 \n3                                            133.686668                 \n4                                            142.560420                 \n...                                                 ...                 \n2989                                         176.340508                 \n2990                                         198.605985                 \n2991                                         217.722623                 \n2992                                         226.830014                 \n2993                                         226.528821                 \n\n      bg_value__cwt_coefficients__coeff_1__w_5__widths_(2, 5, 10, 20)  \\\n0                                            139.882074                 \n1                                            145.781656                 \n2                                            155.627452                 \n3                                            166.156708                 \n4                                            176.384590                 \n...                                                 ...                 \n2989                                         227.462183                 \n2990                                         246.968314                 \n2991                                         259.774626                 \n2992                                         266.153303                 \n2993                                         269.264082                 \n\n      bg_value__cwt_coefficients__coeff_1__w_10__widths_(2, 5, 10, 20)  \\\n0                                            109.858866                  \n1                                            114.793170                  \n2                                            122.483947                  \n3                                            130.705331                  \n4                                            138.669352                  \n...                                                 ...                  \n2989                                         179.679780                  \n2990                                         194.224897                  \n2991                                         203.281482                  \n2992                                         207.903021                  \n2993                                         210.700223                  \n\n      bg_value__cwt_coefficients__coeff_1__w_20__widths_(2, 5, 10, 20)  \\\n0                                             79.773264                  \n1                                             83.408386                  \n2                                             88.985423                  \n3                                             94.947092                  \n4                                            100.717887                  \n...                                                 ...                  \n2989                                         130.653473                  \n2990                                         141.078758                  \n2991                                         147.479972                  \n2992                                         150.769542                  \n2993                                         152.863305                  \n\n      bg_value__cwt_coefficients__coeff_2__w_2__widths_(2, 5, 10, 20)  \\\n0                                            136.755655                 \n1                                            144.464531                 \n2                                            154.750286                 \n3                                            165.244317                 \n4                                            176.957287                 \n...                                                 ...                 \n2989                                         227.770995                 \n2990                                         250.533259                 \n2991                                         263.286276                 \n2992                                         265.820570                 \n2993                                         266.904008                 \n\n      bg_value__cwt_coefficients__coeff_2__w_5__widths_(2, 5, 10, 20)  \\\n0                                            179.862976                 \n1                                            188.696456                 \n2                                            201.250345                 \n3                                            214.177738                 \n4                                            224.457149                 \n...                                                 ...                 \n2989                                         295.559503                 \n2990                                         314.439714                 \n2991                                         326.892290                 \n2992                                         334.727212                 \n2993                                         339.678027                 \n\n      bg_value__cwt_coefficients__coeff_2__w_10__widths_(2, 5, 10, 20)  \\\n0                                            141.568462                  \n1                                            148.463934                  \n2                                            158.275929                  \n3                                            168.360766                  \n4                                            175.937529                  \n...                                                 ...                  \n2989                                         232.399572                  \n2990                                         246.227991                  \n2991                                         255.621364                  \n2992                                         262.129993                  \n2993                                         266.284067                  \n\n      bg_value__cwt_coefficients__coeff_2__w_20__widths_(2, 5, 10, 20)  \\\n0                                            102.831418                  \n1                                            107.831533                  \n2                                            114.947045                  \n3                                            122.256298                  \n4                                            127.668429                  \n...                                                 ...                  \n2989                                         168.771001                  \n2990                                         178.633746                  \n2991                                         185.384846                  \n2992                                         190.170911                  \n2993                                         193.231958                  \n\n      bg_value__cwt_coefficients__coeff_3__w_2__widths_(2, 5, 10, 20)  \\\n0                                            128.512417                 \n1                                            139.271998                 \n2                                            148.818378                 \n3                                            159.267815                 \n4                                            166.586312                 \n...                                                 ...                 \n2989                                         227.789651                 \n2990                                         237.699718                 \n2991                                         237.391060                 \n2992                                         236.263314                 \n2993                                         241.293444                 \n\n      bg_value__cwt_coefficients__coeff_3__w_5__widths_(2, 5, 10, 20)  \\\n0                                            214.625872                 \n1                                            226.409580                 \n2                                            240.877334                 \n3                                            253.210560                 \n4                                            263.966487                 \n...                                                 ...                 \n2989                                         351.408386                 \n2990                                         368.482046                 \n2991                                         380.938051                 \n2992                                         389.483042                 \n2993                                         395.519137                 \n\n      bg_value__cwt_coefficients__coeff_3__w_10__widths_(2, 5, 10, 20)  \\\n0                                            173.635071                  \n1                                            182.699409                  \n2                                            194.279561                  \n3                                            203.850077                  \n4                                            212.514109                  \n...                                                 ...                  \n2989                                         282.115553                  \n2990                                         295.994873                  \n2991                                         306.989447                  \n2992                                         314.632589                  \n2993                                         319.390556                  \n\n      bg_value__cwt_coefficients__coeff_3__w_20__widths_(2, 5, 10, 20)  \\\n0                                            126.963337                  \n1                                            133.510578                  \n2                                            141.956374                  \n3                                            148.883895                  \n4                                            155.214311                  \n...                                                 ...                  \n2989                                         205.910773                  \n2990                                         216.071502                  \n2991                                         224.267195                  \n2992                                         229.980176                  \n2993                                         233.438914                  \n\n      bg_value__cwt_coefficients__coeff_4__w_2__widths_(2, 5, 10, 20)  \\\n0                                            160.594130                 \n1                                            171.246102                 \n2                                            181.379656                 \n3                                            189.487861                 \n4                                            193.801577                 \n...                                                 ...                 \n2989                                         268.814236                 \n2990                                         269.769113                 \n2991                                         269.431076                 \n2992                                         274.777089                 \n2993                                         283.305577                 \n\n      bg_value__cwt_coefficients__coeff_4__w_5__widths_(2, 5, 10, 20)  \\\n0                                            191.751450                 \n1                                            204.422116                 \n2                                            217.268797                 \n3                                            226.741089                 \n4                                            234.835310                 \n...                                                 ...                 \n2989                                         317.906849                 \n2990                                         328.309040                 \n2991                                         335.570396                 \n2992                                         341.093037                 \n2993                                         346.639724                 \n\n      bg_value__cwt_coefficients__coeff_4__w_10__widths_(2, 5, 10, 20)  \\\n0                                            149.054819                  \n1                                            158.890437                  \n2                                            168.959391                  \n3                                            176.377327                  \n4                                            182.934410                  \n...                                                 ...                  \n2989                                         246.898693                  \n2990                                         255.899513                  \n2991                                         262.296560                  \n2992                                         266.556089                  \n2993                                         270.421022                  \n\n      bg_value__cwt_coefficients__coeff_4__w_20__widths_(2, 5, 10, 20)  \\\n0                                            107.938365                  \n1                                            115.058194                  \n2                                            122.364563                  \n3                                            127.747860                  \n4                                            132.542611                  \n...                                                 ...                  \n2989                                         178.755013                  \n2990                                         185.435315                  \n2991                                         190.201178                  \n2992                                         193.281067                  \n2993                                         196.000879                  \n\n      bg_value__cwt_coefficients__coeff_5__w_2__widths_(2, 5, 10, 20)  \\\n0                                            143.903905                 \n1                                            152.619715                 \n2                                            161.132991                 \n3                                            164.434032                 \n4                                            166.260055                 \n...                                                 ...                 \n2989                                         229.869759                 \n2990                                         227.911443                 \n2991                                         232.244783                 \n2992                                         240.368201                 \n2993                                         245.573493                 \n\n      bg_value__cwt_coefficients__coeff_5__w_5__widths_(2, 5, 10, 20)  \\\n0                                            158.867876                 \n1                                            169.352485                 \n2                                            179.499655                 \n3                                            185.906681                 \n4                                            191.468825                 \n...                                                 ...                 \n2989                                         261.833593                 \n2990                                         266.395439                 \n2991                                         270.230886                 \n2992                                         275.102695                 \n2993                                         280.990258                 \n\n      bg_value__cwt_coefficients__coeff_5__w_10__widths_(2, 5, 10, 20)  \\\n0                                            123.101679                  \n1                                            131.314920                  \n2                                            139.263060                  \n3                                            144.494633                  \n4                                            149.163835                  \n...                                                 ...                  \n2989                                         203.674438                  \n2990                                         207.950669                  \n2991                                         210.884688                  \n2992                                         214.219417                  \n2993                                         218.751385                  \n\n      bg_value__cwt_coefficients__coeff_5__w_20__widths_(2, 5, 10, 20)  \\\n0                                             89.096716                  \n1                                             95.056934                  \n2                                            100.824845                  \n3                                            104.658060                  \n4                                            108.100875                  \n...                                                 ...                  \n2989                                         147.550788                  \n2990                                         150.778192                  \n2991                                         152.896546                  \n2992                                         155.231743                  \n2993                                         158.505355                  \n\n      bg_value__cwt_coefficients__coeff_6__w_2__widths_(2, 5, 10, 20)  \\\n0                                                   NaN                 \n1                                                   NaN                 \n2                                                   NaN                 \n3                                                   NaN                 \n4                                                   NaN                 \n...                                                 ...                 \n2989                                                NaN                 \n2990                                                NaN                 \n2991                                                NaN                 \n2992                                                NaN                 \n2993                                                NaN                 \n\n      bg_value__cwt_coefficients__coeff_6__w_5__widths_(2, 5, 10, 20)  \\\n0                                                   NaN                 \n1                                                   NaN                 \n2                                                   NaN                 \n3                                                   NaN                 \n4                                                   NaN                 \n...                                                 ...                 \n2989                                                NaN                 \n2990                                                NaN                 \n2991                                                NaN                 \n2992                                                NaN                 \n2993                                                NaN                 \n\n      bg_value__cwt_coefficients__coeff_6__w_10__widths_(2, 5, 10, 20)  \\\n0                                                   NaN                  \n1                                                   NaN                  \n2                                                   NaN                  \n3                                                   NaN                  \n4                                                   NaN                  \n...                                                 ...                  \n2989                                                NaN                  \n2990                                                NaN                  \n2991                                                NaN                  \n2992                                                NaN                  \n2993                                                NaN                  \n\n      bg_value__cwt_coefficients__coeff_6__w_20__widths_(2, 5, 10, 20)  \\\n0                                                   NaN                  \n1                                                   NaN                  \n2                                                   NaN                  \n3                                                   NaN                  \n4                                                   NaN                  \n...                                                 ...                  \n2989                                                NaN                  \n2990                                                NaN                  \n2991                                                NaN                  \n2992                                                NaN                  \n2993                                                NaN                  \n\n      bg_value__cwt_coefficients__coeff_7__w_2__widths_(2, 5, 10, 20)  \\\n0                                                   NaN                 \n1                                                   NaN                 \n2                                                   NaN                 \n3                                                   NaN                 \n4                                                   NaN                 \n...                                                 ...                 \n2989                                                NaN                 \n2990                                                NaN                 \n2991                                                NaN                 \n2992                                                NaN                 \n2993                                                NaN                 \n\n      bg_value__cwt_coefficients__coeff_7__w_5__widths_(2, 5, 10, 20)  \\\n0                                                   NaN                 \n1                                                   NaN                 \n2                                                   NaN                 \n3                                                   NaN                 \n4                                                   NaN                 \n...                                                 ...                 \n2989                                                NaN                 \n2990                                                NaN                 \n2991                                                NaN                 \n2992                                                NaN                 \n2993                                                NaN                 \n\n      bg_value__cwt_coefficients__coeff_7__w_10__widths_(2, 5, 10, 20)  \\\n0                                                   NaN                  \n1                                                   NaN                  \n2                                                   NaN                  \n3                                                   NaN                  \n4                                                   NaN                  \n...                                                 ...                  \n2989                                                NaN                  \n2990                                                NaN                  \n2991                                                NaN                  \n2992                                                NaN                  \n2993                                                NaN                  \n\n      bg_value__cwt_coefficients__coeff_7__w_20__widths_(2, 5, 10, 20)  \\\n0                                                   NaN                  \n1                                                   NaN                  \n2                                                   NaN                  \n3                                                   NaN                  \n4                                                   NaN                  \n...                                                 ...                  \n2989                                                NaN                  \n2990                                                NaN                  \n2991                                                NaN                  \n2992                                                NaN                  \n2993                                                NaN                  \n\n      bg_value__cwt_coefficients__coeff_8__w_2__widths_(2, 5, 10, 20)  \\\n0                                                   NaN                 \n1                                                   NaN                 \n2                                                   NaN                 \n3                                                   NaN                 \n4                                                   NaN                 \n...                                                 ...                 \n2989                                                NaN                 \n2990                                                NaN                 \n2991                                                NaN                 \n2992                                                NaN                 \n2993                                                NaN                 \n\n      bg_value__cwt_coefficients__coeff_8__w_5__widths_(2, 5, 10, 20)  \\\n0                                                   NaN                 \n1                                                   NaN                 \n2                                                   NaN                 \n3                                                   NaN                 \n4                                                   NaN                 \n...                                                 ...                 \n2989                                                NaN                 \n2990                                                NaN                 \n2991                                                NaN                 \n2992                                                NaN                 \n2993                                                NaN                 \n\n      bg_value__cwt_coefficients__coeff_8__w_10__widths_(2, 5, 10, 20)  \\\n0                                                   NaN                  \n1                                                   NaN                  \n2                                                   NaN                  \n3                                                   NaN                  \n4                                                   NaN                  \n...                                                 ...                  \n2989                                                NaN                  \n2990                                                NaN                  \n2991                                                NaN                  \n2992                                                NaN                  \n2993                                                NaN                  \n\n      bg_value__cwt_coefficients__coeff_8__w_20__widths_(2, 5, 10, 20)  \\\n0                                                   NaN                  \n1                                                   NaN                  \n2                                                   NaN                  \n3                                                   NaN                  \n4                                                   NaN                  \n...                                                 ...                  \n2989                                                NaN                  \n2990                                                NaN                  \n2991                                                NaN                  \n2992                                                NaN                  \n2993                                                NaN                  \n\n      bg_value__cwt_coefficients__coeff_9__w_2__widths_(2, 5, 10, 20)  \\\n0                                                   NaN                 \n1                                                   NaN                 \n2                                                   NaN                 \n3                                                   NaN                 \n4                                                   NaN                 \n...                                                 ...                 \n2989                                                NaN                 \n2990                                                NaN                 \n2991                                                NaN                 \n2992                                                NaN                 \n2993                                                NaN                 \n\n      bg_value__cwt_coefficients__coeff_9__w_5__widths_(2, 5, 10, 20)  \\\n0                                                   NaN                 \n1                                                   NaN                 \n2                                                   NaN                 \n3                                                   NaN                 \n4                                                   NaN                 \n...                                                 ...                 \n2989                                                NaN                 \n2990                                                NaN                 \n2991                                                NaN                 \n2992                                                NaN                 \n2993                                                NaN                 \n\n      bg_value__cwt_coefficients__coeff_9__w_10__widths_(2, 5, 10, 20)  \\\n0                                                   NaN                  \n1                                                   NaN                  \n2                                                   NaN                  \n3                                                   NaN                  \n4                                                   NaN                  \n...                                                 ...                  \n2989                                                NaN                  \n2990                                                NaN                  \n2991                                                NaN                  \n2992                                                NaN                  \n2993                                                NaN                  \n\n      bg_value__cwt_coefficients__coeff_9__w_20__widths_(2, 5, 10, 20)  \\\n0                                                   NaN                  \n1                                                   NaN                  \n2                                                   NaN                  \n3                                                   NaN                  \n4                                                   NaN                  \n...                                                 ...                  \n2989                                                NaN                  \n2990                                                NaN                  \n2991                                                NaN                  \n2992                                                NaN                  \n2993                                                NaN                  \n\n      bg_value__cwt_coefficients__coeff_10__w_2__widths_(2, 5, 10, 20)  \\\n0                                                   NaN                  \n1                                                   NaN                  \n2                                                   NaN                  \n3                                                   NaN                  \n4                                                   NaN                  \n...                                                 ...                  \n2989                                                NaN                  \n2990                                                NaN                  \n2991                                                NaN                  \n2992                                                NaN                  \n2993                                                NaN                  \n\n      bg_value__cwt_coefficients__coeff_10__w_5__widths_(2, 5, 10, 20)  \\\n0                                                   NaN                  \n1                                                   NaN                  \n2                                                   NaN                  \n3                                                   NaN                  \n4                                                   NaN                  \n...                                                 ...                  \n2989                                                NaN                  \n2990                                                NaN                  \n2991                                                NaN                  \n2992                                                NaN                  \n2993                                                NaN                  \n\n      bg_value__cwt_coefficients__coeff_10__w_10__widths_(2, 5, 10, 20)  \\\n0                                                   NaN                   \n1                                                   NaN                   \n2                                                   NaN                   \n3                                                   NaN                   \n4                                                   NaN                   \n...                                                 ...                   \n2989                                                NaN                   \n2990                                                NaN                   \n2991                                                NaN                   \n2992                                                NaN                   \n2993                                                NaN                   \n\n      bg_value__cwt_coefficients__coeff_10__w_20__widths_(2, 5, 10, 20)  \\\n0                                                   NaN                   \n1                                                   NaN                   \n2                                                   NaN                   \n3                                                   NaN                   \n4                                                   NaN                   \n...                                                 ...                   \n2989                                                NaN                   \n2990                                                NaN                   \n2991                                                NaN                   \n2992                                                NaN                   \n2993                                                NaN                   \n\n      bg_value__cwt_coefficients__coeff_11__w_2__widths_(2, 5, 10, 20)  \\\n0                                                   NaN                  \n1                                                   NaN                  \n2                                                   NaN                  \n3                                                   NaN                  \n4                                                   NaN                  \n...                                                 ...                  \n2989                                                NaN                  \n2990                                                NaN                  \n2991                                                NaN                  \n2992                                                NaN                  \n2993                                                NaN                  \n\n      bg_value__cwt_coefficients__coeff_11__w_5__widths_(2, 5, 10, 20)  \\\n0                                                   NaN                  \n1                                                   NaN                  \n2                                                   NaN                  \n3                                                   NaN                  \n4                                                   NaN                  \n...                                                 ...                  \n2989                                                NaN                  \n2990                                                NaN                  \n2991                                                NaN                  \n2992                                                NaN                  \n2993                                                NaN                  \n\n      bg_value__cwt_coefficients__coeff_11__w_10__widths_(2, 5, 10, 20)  \\\n0                                                   NaN                   \n1                                                   NaN                   \n2                                                   NaN                   \n3                                                   NaN                   \n4                                                   NaN                   \n...                                                 ...                   \n2989                                                NaN                   \n2990                                                NaN                   \n2991                                                NaN                   \n2992                                                NaN                   \n2993                                                NaN                   \n\n      bg_value__cwt_coefficients__coeff_11__w_20__widths_(2, 5, 10, 20)  \\\n0                                                   NaN                   \n1                                                   NaN                   \n2                                                   NaN                   \n3                                                   NaN                   \n4                                                   NaN                   \n...                                                 ...                   \n2989                                                NaN                   \n2990                                                NaN                   \n2991                                                NaN                   \n2992                                                NaN                   \n2993                                                NaN                   \n\n      bg_value__cwt_coefficients__coeff_12__w_2__widths_(2, 5, 10, 20)  \\\n0                                                   NaN                  \n1                                                   NaN                  \n2                                                   NaN                  \n3                                                   NaN                  \n4                                                   NaN                  \n...                                                 ...                  \n2989                                                NaN                  \n2990                                                NaN                  \n2991                                                NaN                  \n2992                                                NaN                  \n2993                                                NaN                  \n\n      bg_value__cwt_coefficients__coeff_12__w_5__widths_(2, 5, 10, 20)  \\\n0                                                   NaN                  \n1                                                   NaN                  \n2                                                   NaN                  \n3                                                   NaN                  \n4                                                   NaN                  \n...                                                 ...                  \n2989                                                NaN                  \n2990                                                NaN                  \n2991                                                NaN                  \n2992                                                NaN                  \n2993                                                NaN                  \n\n      bg_value__cwt_coefficients__coeff_12__w_10__widths_(2, 5, 10, 20)  \\\n0                                                   NaN                   \n1                                                   NaN                   \n2                                                   NaN                   \n3                                                   NaN                   \n4                                                   NaN                   \n...                                                 ...                   \n2989                                                NaN                   \n2990                                                NaN                   \n2991                                                NaN                   \n2992                                                NaN                   \n2993                                                NaN                   \n\n      bg_value__cwt_coefficients__coeff_12__w_20__widths_(2, 5, 10, 20)  \\\n0                                                   NaN                   \n1                                                   NaN                   \n2                                                   NaN                   \n3                                                   NaN                   \n4                                                   NaN                   \n...                                                 ...                   \n2989                                                NaN                   \n2990                                                NaN                   \n2991                                                NaN                   \n2992                                                NaN                   \n2993                                                NaN                   \n\n      bg_value__cwt_coefficients__coeff_13__w_2__widths_(2, 5, 10, 20)  \\\n0                                                   NaN                  \n1                                                   NaN                  \n2                                                   NaN                  \n3                                                   NaN                  \n4                                                   NaN                  \n...                                                 ...                  \n2989                                                NaN                  \n2990                                                NaN                  \n2991                                                NaN                  \n2992                                                NaN                  \n2993                                                NaN                  \n\n      bg_value__cwt_coefficients__coeff_13__w_5__widths_(2, 5, 10, 20)  \\\n0                                                   NaN                  \n1                                                   NaN                  \n2                                                   NaN                  \n3                                                   NaN                  \n4                                                   NaN                  \n...                                                 ...                  \n2989                                                NaN                  \n2990                                                NaN                  \n2991                                                NaN                  \n2992                                                NaN                  \n2993                                                NaN                  \n\n      bg_value__cwt_coefficients__coeff_13__w_10__widths_(2, 5, 10, 20)  \\\n0                                                   NaN                   \n1                                                   NaN                   \n2                                                   NaN                   \n3                                                   NaN                   \n4                                                   NaN                   \n...                                                 ...                   \n2989                                                NaN                   \n2990                                                NaN                   \n2991                                                NaN                   \n2992                                                NaN                   \n2993                                                NaN                   \n\n      bg_value__cwt_coefficients__coeff_13__w_20__widths_(2, 5, 10, 20)  \\\n0                                                   NaN                   \n1                                                   NaN                   \n2                                                   NaN                   \n3                                                   NaN                   \n4                                                   NaN                   \n...                                                 ...                   \n2989                                                NaN                   \n2990                                                NaN                   \n2991                                                NaN                   \n2992                                                NaN                   \n2993                                                NaN                   \n\n      bg_value__cwt_coefficients__coeff_14__w_2__widths_(2, 5, 10, 20)  \\\n0                                                   NaN                  \n1                                                   NaN                  \n2                                                   NaN                  \n3                                                   NaN                  \n4                                                   NaN                  \n...                                                 ...                  \n2989                                                NaN                  \n2990                                                NaN                  \n2991                                                NaN                  \n2992                                                NaN                  \n2993                                                NaN                  \n\n      bg_value__cwt_coefficients__coeff_14__w_5__widths_(2, 5, 10, 20)  \\\n0                                                   NaN                  \n1                                                   NaN                  \n2                                                   NaN                  \n3                                                   NaN                  \n4                                                   NaN                  \n...                                                 ...                  \n2989                                                NaN                  \n2990                                                NaN                  \n2991                                                NaN                  \n2992                                                NaN                  \n2993                                                NaN                  \n\n      bg_value__cwt_coefficients__coeff_14__w_10__widths_(2, 5, 10, 20)  \\\n0                                                   NaN                   \n1                                                   NaN                   \n2                                                   NaN                   \n3                                                   NaN                   \n4                                                   NaN                   \n...                                                 ...                   \n2989                                                NaN                   \n2990                                                NaN                   \n2991                                                NaN                   \n2992                                                NaN                   \n2993                                                NaN                   \n\n      bg_value__cwt_coefficients__coeff_14__w_20__widths_(2, 5, 10, 20)  \\\n0                                                   NaN                   \n1                                                   NaN                   \n2                                                   NaN                   \n3                                                   NaN                   \n4                                                   NaN                   \n...                                                 ...                   \n2989                                                NaN                   \n2990                                                NaN                   \n2991                                                NaN                   \n2992                                                NaN                   \n2993                                                NaN                   \n\n      bg_value__spkt_welch_density__coeff_2  \\\n0                                 15.055556   \n1                                  8.388889   \n2                                  9.500000   \n3                                 28.388889   \n4                                 21.500000   \n...                                     ...   \n2989                              70.055556   \n2990                              30.388889   \n2991                              16.166667   \n2992                              27.722222   \n2993                              22.166667   \n\n      bg_value__spkt_welch_density__coeff_5  \\\n0                                       NaN   \n1                                       NaN   \n2                                       NaN   \n3                                       NaN   \n4                                       NaN   \n...                                     ...   \n2989                                    NaN   \n2990                                    NaN   \n2991                                    NaN   \n2992                                    NaN   \n2993                                    NaN   \n\n      bg_value__spkt_welch_density__coeff_8  \\\n0                                       NaN   \n1                                       NaN   \n2                                       NaN   \n3                                       NaN   \n4                                       NaN   \n...                                     ...   \n2989                                    NaN   \n2990                                    NaN   \n2991                                    NaN   \n2992                                    NaN   \n2993                                    NaN   \n\n      bg_value__ar_coefficient__coeff_0__k_10  \\\n0                                         NaN   \n1                                         NaN   \n2                                         NaN   \n3                                         NaN   \n4                                         NaN   \n...                                       ...   \n2989                                      NaN   \n2990                                      NaN   \n2991                                      NaN   \n2992                                      NaN   \n2993                                      NaN   \n\n      bg_value__ar_coefficient__coeff_1__k_10  \\\n0                                         NaN   \n1                                         NaN   \n2                                         NaN   \n3                                         NaN   \n4                                         NaN   \n...                                       ...   \n2989                                      NaN   \n2990                                      NaN   \n2991                                      NaN   \n2992                                      NaN   \n2993                                      NaN   \n\n      bg_value__ar_coefficient__coeff_2__k_10  \\\n0                                         NaN   \n1                                         NaN   \n2                                         NaN   \n3                                         NaN   \n4                                         NaN   \n...                                       ...   \n2989                                      NaN   \n2990                                      NaN   \n2991                                      NaN   \n2992                                      NaN   \n2993                                      NaN   \n\n      bg_value__ar_coefficient__coeff_3__k_10  \\\n0                                         NaN   \n1                                         NaN   \n2                                         NaN   \n3                                         NaN   \n4                                         NaN   \n...                                       ...   \n2989                                      NaN   \n2990                                      NaN   \n2991                                      NaN   \n2992                                      NaN   \n2993                                      NaN   \n\n      bg_value__ar_coefficient__coeff_4__k_10  \\\n0                                         NaN   \n1                                         NaN   \n2                                         NaN   \n3                                         NaN   \n4                                         NaN   \n...                                       ...   \n2989                                      NaN   \n2990                                      NaN   \n2991                                      NaN   \n2992                                      NaN   \n2993                                      NaN   \n\n      bg_value__ar_coefficient__coeff_5__k_10  \\\n0                                         NaN   \n1                                         NaN   \n2                                         NaN   \n3                                         NaN   \n4                                         NaN   \n...                                       ...   \n2989                                      NaN   \n2990                                      NaN   \n2991                                      NaN   \n2992                                      NaN   \n2993                                      NaN   \n\n      bg_value__ar_coefficient__coeff_6__k_10  \\\n0                                         NaN   \n1                                         NaN   \n2                                         NaN   \n3                                         NaN   \n4                                         NaN   \n...                                       ...   \n2989                                      NaN   \n2990                                      NaN   \n2991                                      NaN   \n2992                                      NaN   \n2993                                      NaN   \n\n      bg_value__ar_coefficient__coeff_7__k_10  \\\n0                                         NaN   \n1                                         NaN   \n2                                         NaN   \n3                                         NaN   \n4                                         NaN   \n...                                       ...   \n2989                                      NaN   \n2990                                      NaN   \n2991                                      NaN   \n2992                                      NaN   \n2993                                      NaN   \n\n      bg_value__ar_coefficient__coeff_8__k_10  \\\n0                                         NaN   \n1                                         NaN   \n2                                         NaN   \n3                                         NaN   \n4                                         NaN   \n...                                       ...   \n2989                                      NaN   \n2990                                      NaN   \n2991                                      NaN   \n2992                                      NaN   \n2993                                      NaN   \n\n      bg_value__ar_coefficient__coeff_9__k_10  \\\n0                                         NaN   \n1                                         NaN   \n2                                         NaN   \n3                                         NaN   \n4                                         NaN   \n...                                       ...   \n2989                                      NaN   \n2990                                      NaN   \n2991                                      NaN   \n2992                                      NaN   \n2993                                      NaN   \n\n      bg_value__ar_coefficient__coeff_10__k_10  \\\n0                                          0.0   \n1                                          0.0   \n2                                          0.0   \n3                                          0.0   \n4                                          0.0   \n...                                        ...   \n2989                                       0.0   \n2990                                       0.0   \n2991                                       0.0   \n2992                                       0.0   \n2993                                       0.0   \n\n      bg_value__change_quantiles__f_agg_\"mean\"__isabs_False__qh_0.2__ql_0.0  \\\n0                                                  -3.0                       \n1                                                   6.0                       \n2                                                   8.0                       \n3                                                   8.0                       \n4                                                   7.0                       \n...                                                 ...                       \n2989                                               18.0                       \n2990                                               18.0                       \n2991                                               14.0                       \n2992                                                0.0                       \n2993                                                2.0                       \n\n      bg_value__change_quantiles__f_agg_\"var\"__isabs_False__qh_0.2__ql_0.0  \\\n0                                                   0.0                      \n1                                                   0.0                      \n2                                                   0.0                      \n3                                                   0.0                      \n4                                                   0.0                      \n...                                                 ...                      \n2989                                                0.0                      \n2990                                                0.0                      \n2991                                                0.0                      \n2992                                                0.0                      \n2993                                                0.0                      \n\n      bg_value__change_quantiles__f_agg_\"mean\"__isabs_True__qh_0.2__ql_0.0  \\\n0                                                   3.0                      \n1                                                   6.0                      \n2                                                   8.0                      \n3                                                   8.0                      \n4                                                   7.0                      \n...                                                 ...                      \n2989                                               18.0                      \n2990                                               18.0                      \n2991                                               14.0                      \n2992                                                0.0                      \n2993                                                2.0                      \n\n      bg_value__change_quantiles__f_agg_\"var\"__isabs_True__qh_0.2__ql_0.0  \\\n0                                                   0.0                     \n1                                                   0.0                     \n2                                                   0.0                     \n3                                                   0.0                     \n4                                                   0.0                     \n...                                                 ...                     \n2989                                                0.0                     \n2990                                                0.0                     \n2991                                                0.0                     \n2992                                                0.0                     \n2993                                                0.0                     \n\n      bg_value__change_quantiles__f_agg_\"mean\"__isabs_False__qh_0.4__ql_0.0  \\\n0                                                   1.5                       \n1                                                   7.0                       \n2                                                   8.0                       \n3                                                   7.5                       \n4                                                   7.5                       \n...                                                 ...                       \n2989                                               18.0                       \n2990                                               16.0                       \n2991                                               14.0                       \n2992                                                2.0                       \n2993                                               -0.5                       \n\n      bg_value__change_quantiles__f_agg_\"var\"__isabs_False__qh_0.4__ql_0.0  \\\n0                                                 20.25                      \n1                                                  1.00                      \n2                                                  0.00                      \n3                                                  0.25                      \n4                                                  0.25                      \n...                                                 ...                      \n2989                                               0.00                      \n2990                                               4.00                      \n2991                                               0.00                      \n2992                                               0.00                      \n2993                                               6.25                      \n\n      bg_value__change_quantiles__f_agg_\"mean\"__isabs_True__qh_0.4__ql_0.0  \\\n0                                                   4.5                      \n1                                                   7.0                      \n2                                                   8.0                      \n3                                                   7.5                      \n4                                                   7.5                      \n...                                                 ...                      \n2989                                               18.0                      \n2990                                               16.0                      \n2991                                               14.0                      \n2992                                                2.0                      \n2993                                                2.5                      \n\n      bg_value__change_quantiles__f_agg_\"var\"__isabs_True__qh_0.4__ql_0.0  \\\n0                                                  2.25                     \n1                                                  1.00                     \n2                                                  0.00                     \n3                                                  0.25                     \n4                                                  0.25                     \n...                                                 ...                     \n2989                                               0.00                     \n2990                                               4.00                     \n2991                                               0.00                     \n2992                                               0.00                     \n2993                                               0.25                     \n\n      bg_value__change_quantiles__f_agg_\"mean\"__isabs_False__qh_0.6__ql_0.0  \\\n0                                              3.666667                       \n1                                              7.333333                       \n2                                              7.666667                       \n3                                              7.666667                       \n4                                              7.500000                       \n...                                                 ...                       \n2989                                          16.666667                       \n2990                                          16.000000                       \n2991                                           8.000000                       \n2992                                           1.000000                       \n2993                                           2.333333                       \n\n      bg_value__change_quantiles__f_agg_\"var\"__isabs_False__qh_0.6__ql_0.0  \\\n0                                             22.888889                      \n1                                              0.888889                      \n2                                              0.222222                      \n3                                              0.222222                      \n4                                              0.250000                      \n...                                                 ...                      \n2989                                           3.555556                      \n2990                                           4.000000                      \n2991                                          36.000000                      \n2992                                           8.666667                      \n2993                                          20.222222                      \n\n      bg_value__change_quantiles__f_agg_\"mean\"__isabs_True__qh_0.6__ql_0.0  \\\n0                                              5.666667                      \n1                                              7.333333                      \n2                                              7.666667                      \n3                                              7.666667                      \n4                                              7.500000                      \n...                                                 ...                      \n2989                                          16.666667                      \n2990                                          16.000000                      \n2991                                           8.000000                      \n2992                                           3.000000                      \n2993                                           4.333333                      \n\n      bg_value__change_quantiles__f_agg_\"var\"__isabs_True__qh_0.6__ql_0.0  \\\n0                                              4.222222                     \n1                                              0.888889                     \n2                                              0.222222                     \n3                                              0.222222                     \n4                                              0.250000                     \n...                                                 ...                     \n2989                                           3.555556                     \n2990                                           4.000000                     \n2991                                          36.000000                     \n2992                                           0.666667                     \n2993                                           6.888889                     \n\n      bg_value__change_quantiles__f_agg_\"mean\"__isabs_False__qh_0.8__ql_0.0  \\\n0                                              4.750000                       \n1                                              7.250000                       \n2                                              7.750000                       \n3                                              7.666667                       \n4                                              5.000000                       \n...                                                 ...                       \n2989                                          16.666667                       \n2990                                          11.333333                       \n2991                                           4.250000                       \n2992                                           2.750000                       \n2993                                           3.000000                       \n\n      bg_value__change_quantiles__f_agg_\"var\"__isabs_False__qh_0.8__ql_0.0  \\\n0                                             20.687500                      \n1                                              0.687500                      \n2                                              0.187500                      \n3                                              0.222222                      \n4                                             16.500000                      \n...                                                 ...                      \n2989                                           3.555556                      \n2990                                          46.222222                      \n2991                                          38.187500                      \n2992                                          15.687500                      \n2993                                          16.500000                      \n\n      bg_value__change_quantiles__f_agg_\"mean\"__isabs_True__qh_0.8__ql_0.0  \\\n0                                              6.250000                      \n1                                              7.250000                      \n2                                              7.750000                      \n3                                              7.666667                      \n4                                              6.000000                      \n...                                                 ...                      \n2989                                          16.666667                      \n2990                                          11.333333                      \n2991                                           5.750000                      \n2992                                           4.250000                      \n2993                                           4.500000                      \n\n      bg_value__change_quantiles__f_agg_\"var\"__isabs_True__qh_0.8__ql_0.0  \\\n0                                              4.187500                     \n1                                              0.687500                     \n2                                              0.187500                     \n3                                              0.222222                     \n4                                              5.500000                     \n...                                                 ...                     \n2989                                           3.555556                     \n2990                                          46.222222                     \n2991                                          23.187500                     \n2992                                           5.187500                     \n2993                                           5.250000                     \n\n      bg_value__change_quantiles__f_agg_\"mean\"__isabs_False__qh_1.0__ql_0.0  \\\n0                                                   5.2                       \n1                                                   7.4                       \n2                                                   7.6                       \n3                                                   5.6                       \n4                                                   5.0                       \n...                                                 ...                       \n2989                                               10.2                       \n2990                                                7.0                       \n2991                                                5.0                       \n2992                                                3.2                       \n2993                                                2.8                       \n\n      bg_value__change_quantiles__f_agg_\"var\"__isabs_False__qh_1.0__ql_0.0  \\\n0                                                 17.36                      \n1                                                  0.64                      \n2                                                  0.24                      \n3                                                 14.64                      \n4                                                 13.20                      \n...                                                 ...                      \n2989                                              69.76                      \n2990                                              60.80                      \n2991                                              32.80                      \n2992                                              13.36                      \n2993                                              13.36                      \n\n      bg_value__change_quantiles__f_agg_\"mean\"__isabs_True__qh_1.0__ql_0.0  \\\n0                                                   6.4                      \n1                                                   7.4                      \n2                                                   7.6                      \n3                                                   6.4                      \n4                                                   5.8                      \n...                                                 ...                      \n2989                                               11.4                      \n2990                                                8.2                      \n2991                                                6.2                      \n2992                                                4.4                      \n2993                                                4.0                      \n\n      bg_value__change_quantiles__f_agg_\"var\"__isabs_True__qh_1.0__ql_0.0  \\\n0                                                  3.44                     \n1                                                  0.64                     \n2                                                  0.24                     \n3                                                  5.04                     \n4                                                  4.56                     \n...                                                 ...                     \n2989                                              43.84                     \n2990                                              42.56                     \n2991                                              19.36                     \n2992                                               4.24                     \n2993                                               5.20                     \n\n      bg_value__change_quantiles__f_agg_\"mean\"__isabs_False__qh_0.4__ql_0.2  \\\n0                                                   0.0                       \n1                                                   8.0                       \n2                                                   8.0                       \n3                                                   7.0                       \n4                                                   8.0                       \n...                                                 ...                       \n2989                                               18.0                       \n2990                                               14.0                       \n2991                                                0.0                       \n2992                                                2.0                       \n2993                                                0.0                       \n\n      bg_value__change_quantiles__f_agg_\"var\"__isabs_False__qh_0.4__ql_0.2  \\\n0                                                   0.0                      \n1                                                   0.0                      \n2                                                   0.0                      \n3                                                   0.0                      \n4                                                   0.0                      \n...                                                 ...                      \n2989                                                0.0                      \n2990                                                0.0                      \n2991                                                0.0                      \n2992                                                0.0                      \n2993                                                0.0                      \n\n      bg_value__change_quantiles__f_agg_\"mean\"__isabs_True__qh_0.4__ql_0.2  \\\n0                                                   0.0                      \n1                                                   8.0                      \n2                                                   8.0                      \n3                                                   7.0                      \n4                                                   8.0                      \n...                                                 ...                      \n2989                                               18.0                      \n2990                                               14.0                      \n2991                                                0.0                      \n2992                                                2.0                      \n2993                                                0.0                      \n\n      bg_value__change_quantiles__f_agg_\"var\"__isabs_True__qh_0.4__ql_0.2  \\\n0                                                   0.0                     \n1                                                   0.0                     \n2                                                   0.0                     \n3                                                   0.0                     \n4                                                   0.0                     \n...                                                 ...                     \n2989                                                0.0                     \n2990                                                0.0                     \n2991                                                0.0                     \n2992                                                0.0                     \n2993                                                0.0                     \n\n      bg_value__change_quantiles__f_agg_\"mean\"__isabs_False__qh_0.6__ql_0.2  \\\n0                                                   8.0                       \n1                                                   8.0                       \n2                                                   7.5                       \n3                                                   7.5                       \n4                                                   8.0                       \n...                                                 ...                       \n2989                                               16.0                       \n2990                                               14.0                       \n2991                                                2.0                       \n2992                                               -0.5                       \n2993                                                8.0                       \n\n      bg_value__change_quantiles__f_agg_\"var\"__isabs_False__qh_0.6__ql_0.2  \\\n0                                                  0.00                      \n1                                                  0.00                      \n2                                                  0.25                      \n3                                                  0.25                      \n4                                                  0.00                      \n...                                                 ...                      \n2989                                               4.00                      \n2990                                               0.00                      \n2991                                               0.00                      \n2992                                               6.25                      \n2993                                               0.00                      \n\n      bg_value__change_quantiles__f_agg_\"mean\"__isabs_True__qh_0.6__ql_0.2  \\\n0                                                   8.0                      \n1                                                   8.0                      \n2                                                   7.5                      \n3                                                   7.5                      \n4                                                   8.0                      \n...                                                 ...                      \n2989                                               16.0                      \n2990                                               14.0                      \n2991                                                2.0                      \n2992                                                2.5                      \n2993                                                8.0                      \n\n      bg_value__change_quantiles__f_agg_\"var\"__isabs_True__qh_0.6__ql_0.2  \\\n0                                                  0.00                     \n1                                                  0.00                     \n2                                                  0.25                     \n3                                                  0.25                     \n4                                                  0.00                     \n...                                                 ...                     \n2989                                               4.00                     \n2990                                               0.00                     \n2991                                               0.00                     \n2992                                               0.25                     \n2993                                               0.00                     \n\n      bg_value__change_quantiles__f_agg_\"mean\"__isabs_False__qh_0.8__ql_0.2  \\\n0                                              8.000000                       \n1                                              7.666667                       \n2                                              7.666667                       \n3                                              7.500000                       \n4                                              4.333333                       \n...                                                 ...                       \n2989                                          16.000000                       \n2990                                           8.000000                       \n2991                                           1.000000                       \n2992                                           2.333333                       \n2993                                           6.500000                       \n\n      bg_value__change_quantiles__f_agg_\"var\"__isabs_False__qh_0.8__ql_0.2  \\\n0                                              0.000000                      \n1                                              0.222222                      \n2                                              0.222222                      \n3                                              0.250000                      \n4                                             20.222222                      \n...                                                 ...                      \n2989                                           4.000000                      \n2990                                          36.000000                      \n2991                                           8.666667                      \n2992                                          20.222222                      \n2993                                           2.250000                      \n\n      bg_value__change_quantiles__f_agg_\"mean\"__isabs_True__qh_0.8__ql_0.2  \\\n0                                              8.000000                      \n1                                              7.666667                      \n2                                              7.666667                      \n3                                              7.500000                      \n4                                              5.666667                      \n...                                                 ...                      \n2989                                          16.000000                      \n2990                                           8.000000                      \n2991                                           3.000000                      \n2992                                           4.333333                      \n2993                                           6.500000                      \n\n      bg_value__change_quantiles__f_agg_\"var\"__isabs_True__qh_0.8__ql_0.2  \\\n0                                              0.000000                     \n1                                              0.222222                     \n2                                              0.222222                     \n3                                              0.250000                     \n4                                              6.888889                     \n...                                                 ...                     \n2989                                           4.000000                     \n2990                                          36.000000                     \n2991                                           0.666667                     \n2992                                           6.888889                     \n2993                                           2.250000                     \n\n      bg_value__change_quantiles__f_agg_\"mean\"__isabs_False__qh_1.0__ql_0.2  \\\n0                                              7.666667                       \n1                                              7.750000                       \n2                                              7.500000                       \n3                                              5.000000                       \n4                                              4.500000                       \n...                                                 ...                       \n2989                                           8.250000                       \n2990                                           4.250000                       \n2991                                           2.750000                       \n2992                                           3.000000                       \n2993                                           5.000000                       \n\n      bg_value__change_quantiles__f_agg_\"var\"__isabs_False__qh_1.0__ql_0.2  \\\n0                                              0.222222                      \n1                                              0.187500                      \n2                                              0.250000                      \n3                                             16.500000                      \n4                                             15.250000                      \n...                                                 ...                      \n2989                                          68.187500                      \n2990                                          38.187500                      \n2991                                          15.687500                      \n2992                                          16.500000                      \n2993                                           6.000000                      \n\n      bg_value__change_quantiles__f_agg_\"mean\"__isabs_True__qh_1.0__ql_0.2  \\\n0                                              7.666667                      \n1                                              7.750000                      \n2                                              7.500000                      \n3                                              6.000000                      \n4                                              5.500000                      \n...                                                 ...                      \n2989                                           9.750000                      \n2990                                           5.750000                      \n2991                                           4.250000                      \n2992                                           4.500000                      \n2993                                           5.000000                      \n\n      bg_value__change_quantiles__f_agg_\"var\"__isabs_True__qh_1.0__ql_0.2  \\\n0                                              0.222222                     \n1                                              0.187500                     \n2                                              0.250000                     \n3                                              5.500000                     \n4                                              5.250000                     \n...                                                 ...                     \n2989                                          41.187500                     \n2990                                          23.187500                     \n2991                                           5.187500                     \n2992                                           5.250000                     \n2993                                           6.000000                     \n\n      bg_value__change_quantiles__f_agg_\"mean\"__isabs_False__qh_0.6__ql_0.4  \\\n0                                                   8.0                       \n1                                                   8.0                       \n2                                                   7.0                       \n3                                                   8.0                       \n4                                                   0.0                       \n...                                                 ...                       \n2989                                               14.0                       \n2990                                                0.0                       \n2991                                                2.0                       \n2992                                                0.0                       \n2993                                                0.0                       \n\n      bg_value__change_quantiles__f_agg_\"var\"__isabs_False__qh_0.6__ql_0.4  \\\n0                                                   0.0                      \n1                                                   0.0                      \n2                                                   0.0                      \n3                                                   0.0                      \n4                                                   0.0                      \n...                                                 ...                      \n2989                                                0.0                      \n2990                                                0.0                      \n2991                                                0.0                      \n2992                                                0.0                      \n2993                                                0.0                      \n\n      bg_value__change_quantiles__f_agg_\"mean\"__isabs_True__qh_0.6__ql_0.4  \\\n0                                                   8.0                      \n1                                                   8.0                      \n2                                                   7.0                      \n3                                                   8.0                      \n4                                                   0.0                      \n...                                                 ...                      \n2989                                               14.0                      \n2990                                                0.0                      \n2991                                                2.0                      \n2992                                                0.0                      \n2993                                                0.0                      \n\n      bg_value__change_quantiles__f_agg_\"var\"__isabs_True__qh_0.6__ql_0.4  \\\n0                                                   0.0                     \n1                                                   0.0                     \n2                                                   0.0                     \n3                                                   0.0                     \n4                                                   0.0                     \n...                                                 ...                     \n2989                                                0.0                     \n2990                                                0.0                     \n2991                                                0.0                     \n2992                                                0.0                     \n2993                                                0.0                     \n\n      bg_value__change_quantiles__f_agg_\"mean\"__isabs_False__qh_0.8__ql_0.4  \\\n0                                                   8.0                       \n1                                                   7.5                       \n2                                                   7.5                       \n3                                                   8.0                       \n4                                                   2.5                       \n...                                                 ...                       \n2989                                               14.0                       \n2990                                                2.0                       \n2991                                               -0.5                       \n2992                                                8.0                       \n2993                                                5.0                       \n\n      bg_value__change_quantiles__f_agg_\"var\"__isabs_False__qh_0.8__ql_0.4  \\\n0                                                  0.00                      \n1                                                  0.25                      \n2                                                  0.25                      \n3                                                  0.00                      \n4                                                 20.25                      \n...                                                 ...                      \n2989                                               0.00                      \n2990                                               0.00                      \n2991                                               6.25                      \n2992                                               0.00                      \n2993                                               0.00                      \n\n      bg_value__change_quantiles__f_agg_\"mean\"__isabs_True__qh_0.8__ql_0.4  \\\n0                                                   8.0                      \n1                                                   7.5                      \n2                                                   7.5                      \n3                                                   8.0                      \n4                                                   4.5                      \n...                                                 ...                      \n2989                                               14.0                      \n2990                                                2.0                      \n2991                                                2.5                      \n2992                                                8.0                      \n2993                                                5.0                      \n\n      bg_value__change_quantiles__f_agg_\"var\"__isabs_True__qh_0.8__ql_0.4  \\\n0                                                  0.00                     \n1                                                  0.25                     \n2                                                  0.25                     \n3                                                  0.00                     \n4                                                  6.25                     \n...                                                 ...                     \n2989                                               0.00                     \n2990                                               0.00                     \n2991                                               0.25                     \n2992                                               0.00                     \n2993                                               0.00                     \n\n      bg_value__change_quantiles__f_agg_\"mean\"__isabs_False__qh_1.0__ql_0.4  \\\n0                                              7.666667                       \n1                                              7.666667                       \n2                                              7.333333                       \n3                                              4.333333                       \n4                                              3.333333                       \n...                                                 ...                       \n2989                                           5.000000                       \n2990                                           1.000000                       \n2991                                           2.333333                       \n2992                                           6.500000                       \n2993                                           3.500000                       \n\n      bg_value__change_quantiles__f_agg_\"var\"__isabs_False__qh_1.0__ql_0.4  \\\n0                                              0.222222                      \n1                                              0.222222                      \n2                                              0.222222                      \n3                                             20.222222                      \n4                                             14.888889                      \n...                                                 ...                      \n2989                                          48.666667                      \n2990                                           8.666667                      \n2991                                          20.222222                      \n2992                                           2.250000                      \n2993                                           2.250000                      \n\n      ...  bg_value__fft_coefficient__attr_\"abs\"__coeff_74  \\\n0     ...                                              NaN   \n1     ...                                              NaN   \n2     ...                                              NaN   \n3     ...                                              NaN   \n4     ...                                              NaN   \n...   ...                                              ...   \n2989  ...                                              NaN   \n2990  ...                                              NaN   \n2991  ...                                              NaN   \n2992  ...                                              NaN   \n2993  ...                                              NaN   \n\n      bg_value__fft_coefficient__attr_\"abs\"__coeff_75  \\\n0                                                 NaN   \n1                                                 NaN   \n2                                                 NaN   \n3                                                 NaN   \n4                                                 NaN   \n...                                               ...   \n2989                                              NaN   \n2990                                              NaN   \n2991                                              NaN   \n2992                                              NaN   \n2993                                              NaN   \n\n      bg_value__fft_coefficient__attr_\"abs\"__coeff_76  \\\n0                                                 NaN   \n1                                                 NaN   \n2                                                 NaN   \n3                                                 NaN   \n4                                                 NaN   \n...                                               ...   \n2989                                              NaN   \n2990                                              NaN   \n2991                                              NaN   \n2992                                              NaN   \n2993                                              NaN   \n\n      bg_value__fft_coefficient__attr_\"abs\"__coeff_77  \\\n0                                                 NaN   \n1                                                 NaN   \n2                                                 NaN   \n3                                                 NaN   \n4                                                 NaN   \n...                                               ...   \n2989                                              NaN   \n2990                                              NaN   \n2991                                              NaN   \n2992                                              NaN   \n2993                                              NaN   \n\n      bg_value__fft_coefficient__attr_\"abs\"__coeff_78  \\\n0                                                 NaN   \n1                                                 NaN   \n2                                                 NaN   \n3                                                 NaN   \n4                                                 NaN   \n...                                               ...   \n2989                                              NaN   \n2990                                              NaN   \n2991                                              NaN   \n2992                                              NaN   \n2993                                              NaN   \n\n      bg_value__fft_coefficient__attr_\"abs\"__coeff_79  \\\n0                                                 NaN   \n1                                                 NaN   \n2                                                 NaN   \n3                                                 NaN   \n4                                                 NaN   \n...                                               ...   \n2989                                              NaN   \n2990                                              NaN   \n2991                                              NaN   \n2992                                              NaN   \n2993                                              NaN   \n\n      bg_value__fft_coefficient__attr_\"abs\"__coeff_80  \\\n0                                                 NaN   \n1                                                 NaN   \n2                                                 NaN   \n3                                                 NaN   \n4                                                 NaN   \n...                                               ...   \n2989                                              NaN   \n2990                                              NaN   \n2991                                              NaN   \n2992                                              NaN   \n2993                                              NaN   \n\n      bg_value__fft_coefficient__attr_\"abs\"__coeff_81  \\\n0                                                 NaN   \n1                                                 NaN   \n2                                                 NaN   \n3                                                 NaN   \n4                                                 NaN   \n...                                               ...   \n2989                                              NaN   \n2990                                              NaN   \n2991                                              NaN   \n2992                                              NaN   \n2993                                              NaN   \n\n      bg_value__fft_coefficient__attr_\"abs\"__coeff_82  \\\n0                                                 NaN   \n1                                                 NaN   \n2                                                 NaN   \n3                                                 NaN   \n4                                                 NaN   \n...                                               ...   \n2989                                              NaN   \n2990                                              NaN   \n2991                                              NaN   \n2992                                              NaN   \n2993                                              NaN   \n\n      bg_value__fft_coefficient__attr_\"abs\"__coeff_83  \\\n0                                                 NaN   \n1                                                 NaN   \n2                                                 NaN   \n3                                                 NaN   \n4                                                 NaN   \n...                                               ...   \n2989                                              NaN   \n2990                                              NaN   \n2991                                              NaN   \n2992                                              NaN   \n2993                                              NaN   \n\n      bg_value__fft_coefficient__attr_\"abs\"__coeff_84  \\\n0                                                 NaN   \n1                                                 NaN   \n2                                                 NaN   \n3                                                 NaN   \n4                                                 NaN   \n...                                               ...   \n2989                                              NaN   \n2990                                              NaN   \n2991                                              NaN   \n2992                                              NaN   \n2993                                              NaN   \n\n      bg_value__fft_coefficient__attr_\"abs\"__coeff_85  \\\n0                                                 NaN   \n1                                                 NaN   \n2                                                 NaN   \n3                                                 NaN   \n4                                                 NaN   \n...                                               ...   \n2989                                              NaN   \n2990                                              NaN   \n2991                                              NaN   \n2992                                              NaN   \n2993                                              NaN   \n\n      bg_value__fft_coefficient__attr_\"abs\"__coeff_86  \\\n0                                                 NaN   \n1                                                 NaN   \n2                                                 NaN   \n3                                                 NaN   \n4                                                 NaN   \n...                                               ...   \n2989                                              NaN   \n2990                                              NaN   \n2991                                              NaN   \n2992                                              NaN   \n2993                                              NaN   \n\n      bg_value__fft_coefficient__attr_\"abs\"__coeff_87  \\\n0                                                 NaN   \n1                                                 NaN   \n2                                                 NaN   \n3                                                 NaN   \n4                                                 NaN   \n...                                               ...   \n2989                                              NaN   \n2990                                              NaN   \n2991                                              NaN   \n2992                                              NaN   \n2993                                              NaN   \n\n      bg_value__fft_coefficient__attr_\"abs\"__coeff_88  \\\n0                                                 NaN   \n1                                                 NaN   \n2                                                 NaN   \n3                                                 NaN   \n4                                                 NaN   \n...                                               ...   \n2989                                              NaN   \n2990                                              NaN   \n2991                                              NaN   \n2992                                              NaN   \n2993                                              NaN   \n\n      bg_value__fft_coefficient__attr_\"abs\"__coeff_89  \\\n0                                                 NaN   \n1                                                 NaN   \n2                                                 NaN   \n3                                                 NaN   \n4                                                 NaN   \n...                                               ...   \n2989                                              NaN   \n2990                                              NaN   \n2991                                              NaN   \n2992                                              NaN   \n2993                                              NaN   \n\n      bg_value__fft_coefficient__attr_\"abs\"__coeff_90  \\\n0                                                 NaN   \n1                                                 NaN   \n2                                                 NaN   \n3                                                 NaN   \n4                                                 NaN   \n...                                               ...   \n2989                                              NaN   \n2990                                              NaN   \n2991                                              NaN   \n2992                                              NaN   \n2993                                              NaN   \n\n      bg_value__fft_coefficient__attr_\"abs\"__coeff_91  \\\n0                                                 NaN   \n1                                                 NaN   \n2                                                 NaN   \n3                                                 NaN   \n4                                                 NaN   \n...                                               ...   \n2989                                              NaN   \n2990                                              NaN   \n2991                                              NaN   \n2992                                              NaN   \n2993                                              NaN   \n\n      bg_value__fft_coefficient__attr_\"abs\"__coeff_92  \\\n0                                                 NaN   \n1                                                 NaN   \n2                                                 NaN   \n3                                                 NaN   \n4                                                 NaN   \n...                                               ...   \n2989                                              NaN   \n2990                                              NaN   \n2991                                              NaN   \n2992                                              NaN   \n2993                                              NaN   \n\n      bg_value__fft_coefficient__attr_\"abs\"__coeff_93  \\\n0                                                 NaN   \n1                                                 NaN   \n2                                                 NaN   \n3                                                 NaN   \n4                                                 NaN   \n...                                               ...   \n2989                                              NaN   \n2990                                              NaN   \n2991                                              NaN   \n2992                                              NaN   \n2993                                              NaN   \n\n      bg_value__fft_coefficient__attr_\"abs\"__coeff_94  \\\n0                                                 NaN   \n1                                                 NaN   \n2                                                 NaN   \n3                                                 NaN   \n4                                                 NaN   \n...                                               ...   \n2989                                              NaN   \n2990                                              NaN   \n2991                                              NaN   \n2992                                              NaN   \n2993                                              NaN   \n\n      bg_value__fft_coefficient__attr_\"abs\"__coeff_95  \\\n0                                                 NaN   \n1                                                 NaN   \n2                                                 NaN   \n3                                                 NaN   \n4                                                 NaN   \n...                                               ...   \n2989                                              NaN   \n2990                                              NaN   \n2991                                              NaN   \n2992                                              NaN   \n2993                                              NaN   \n\n      bg_value__fft_coefficient__attr_\"abs\"__coeff_96  \\\n0                                                 NaN   \n1                                                 NaN   \n2                                                 NaN   \n3                                                 NaN   \n4                                                 NaN   \n...                                               ...   \n2989                                              NaN   \n2990                                              NaN   \n2991                                              NaN   \n2992                                              NaN   \n2993                                              NaN   \n\n      bg_value__fft_coefficient__attr_\"abs\"__coeff_97  \\\n0                                                 NaN   \n1                                                 NaN   \n2                                                 NaN   \n3                                                 NaN   \n4                                                 NaN   \n...                                               ...   \n2989                                              NaN   \n2990                                              NaN   \n2991                                              NaN   \n2992                                              NaN   \n2993                                              NaN   \n\n      bg_value__fft_coefficient__attr_\"abs\"__coeff_98  \\\n0                                                 NaN   \n1                                                 NaN   \n2                                                 NaN   \n3                                                 NaN   \n4                                                 NaN   \n...                                               ...   \n2989                                              NaN   \n2990                                              NaN   \n2991                                              NaN   \n2992                                              NaN   \n2993                                              NaN   \n\n      bg_value__fft_coefficient__attr_\"abs\"__coeff_99  \\\n0                                                 NaN   \n1                                                 NaN   \n2                                                 NaN   \n3                                                 NaN   \n4                                                 NaN   \n...                                               ...   \n2989                                              NaN   \n2990                                              NaN   \n2991                                              NaN   \n2992                                              NaN   \n2993                                              NaN   \n\n      bg_value__fft_coefficient__attr_\"angle\"__coeff_0  \\\n0                                                  0.0   \n1                                                  0.0   \n2                                                  0.0   \n3                                                  0.0   \n4                                                  0.0   \n...                                                ...   \n2989                                               0.0   \n2990                                               0.0   \n2991                                               0.0   \n2992                                               0.0   \n2993                                               0.0   \n\n      bg_value__fft_coefficient__attr_\"angle\"__coeff_1  \\\n0                                           105.079138   \n1                                           118.909591   \n2                                           121.090409   \n3                                           132.216349   \n4                                           139.715412   \n...                                                ...   \n2989                                        143.869138   \n2990                                        159.637403   \n2991                                        146.329503   \n2992                                         86.995508   \n2993                                        105.079138   \n\n      bg_value__fft_coefficient__attr_\"angle\"__coeff_2  \\\n0                                           135.608399   \n1                                           146.582019   \n2                                           151.066965   \n3                                           166.102114   \n4                                           135.608399   \n...                                                ...   \n2989                                        156.233616   \n2990                                        148.933035   \n2991                                        154.715004   \n2992                                        172.410911   \n2993                                        139.106605   \n\n      bg_value__fft_coefficient__attr_\"angle\"__coeff_3  \\\n0                                                180.0   \n1                                                180.0   \n2                                                180.0   \n3                                                180.0   \n4                                                180.0   \n...                                                ...   \n2989                                             180.0   \n2990                                             180.0   \n2991                                             180.0   \n2992                                             180.0   \n2993                                             180.0   \n\n      bg_value__fft_coefficient__attr_\"angle\"__coeff_4  \\\n0                                                  NaN   \n1                                                  NaN   \n2                                                  NaN   \n3                                                  NaN   \n4                                                  NaN   \n...                                                ...   \n2989                                               NaN   \n2990                                               NaN   \n2991                                               NaN   \n2992                                               NaN   \n2993                                               NaN   \n\n      bg_value__fft_coefficient__attr_\"angle\"__coeff_5  \\\n0                                                  NaN   \n1                                                  NaN   \n2                                                  NaN   \n3                                                  NaN   \n4                                                  NaN   \n...                                                ...   \n2989                                               NaN   \n2990                                               NaN   \n2991                                               NaN   \n2992                                               NaN   \n2993                                               NaN   \n\n      bg_value__fft_coefficient__attr_\"angle\"__coeff_6  \\\n0                                                  NaN   \n1                                                  NaN   \n2                                                  NaN   \n3                                                  NaN   \n4                                                  NaN   \n...                                                ...   \n2989                                               NaN   \n2990                                               NaN   \n2991                                               NaN   \n2992                                               NaN   \n2993                                               NaN   \n\n      bg_value__fft_coefficient__attr_\"angle\"__coeff_7  \\\n0                                                  NaN   \n1                                                  NaN   \n2                                                  NaN   \n3                                                  NaN   \n4                                                  NaN   \n...                                                ...   \n2989                                               NaN   \n2990                                               NaN   \n2991                                               NaN   \n2992                                               NaN   \n2993                                               NaN   \n\n      bg_value__fft_coefficient__attr_\"angle\"__coeff_8  \\\n0                                                  NaN   \n1                                                  NaN   \n2                                                  NaN   \n3                                                  NaN   \n4                                                  NaN   \n...                                                ...   \n2989                                               NaN   \n2990                                               NaN   \n2991                                               NaN   \n2992                                               NaN   \n2993                                               NaN   \n\n      bg_value__fft_coefficient__attr_\"angle\"__coeff_9  \\\n0                                                  NaN   \n1                                                  NaN   \n2                                                  NaN   \n3                                                  NaN   \n4                                                  NaN   \n...                                                ...   \n2989                                               NaN   \n2990                                               NaN   \n2991                                               NaN   \n2992                                               NaN   \n2993                                               NaN   \n\n      bg_value__fft_coefficient__attr_\"angle\"__coeff_10  \\\n0                                                   NaN   \n1                                                   NaN   \n2                                                   NaN   \n3                                                   NaN   \n4                                                   NaN   \n...                                                 ...   \n2989                                                NaN   \n2990                                                NaN   \n2991                                                NaN   \n2992                                                NaN   \n2993                                                NaN   \n\n      bg_value__fft_coefficient__attr_\"angle\"__coeff_11  \\\n0                                                   NaN   \n1                                                   NaN   \n2                                                   NaN   \n3                                                   NaN   \n4                                                   NaN   \n...                                                 ...   \n2989                                                NaN   \n2990                                                NaN   \n2991                                                NaN   \n2992                                                NaN   \n2993                                                NaN   \n\n      bg_value__fft_coefficient__attr_\"angle\"__coeff_12  \\\n0                                                   NaN   \n1                                                   NaN   \n2                                                   NaN   \n3                                                   NaN   \n4                                                   NaN   \n...                                                 ...   \n2989                                                NaN   \n2990                                                NaN   \n2991                                                NaN   \n2992                                                NaN   \n2993                                                NaN   \n\n      bg_value__fft_coefficient__attr_\"angle\"__coeff_13  \\\n0                                                   NaN   \n1                                                   NaN   \n2                                                   NaN   \n3                                                   NaN   \n4                                                   NaN   \n...                                                 ...   \n2989                                                NaN   \n2990                                                NaN   \n2991                                                NaN   \n2992                                                NaN   \n2993                                                NaN   \n\n      bg_value__fft_coefficient__attr_\"angle\"__coeff_14  \\\n0                                                   NaN   \n1                                                   NaN   \n2                                                   NaN   \n3                                                   NaN   \n4                                                   NaN   \n...                                                 ...   \n2989                                                NaN   \n2990                                                NaN   \n2991                                                NaN   \n2992                                                NaN   \n2993                                                NaN   \n\n      bg_value__fft_coefficient__attr_\"angle\"__coeff_15  \\\n0                                                   NaN   \n1                                                   NaN   \n2                                                   NaN   \n3                                                   NaN   \n4                                                   NaN   \n...                                                 ...   \n2989                                                NaN   \n2990                                                NaN   \n2991                                                NaN   \n2992                                                NaN   \n2993                                                NaN   \n\n      bg_value__fft_coefficient__attr_\"angle\"__coeff_16  \\\n0                                                   NaN   \n1                                                   NaN   \n2                                                   NaN   \n3                                                   NaN   \n4                                                   NaN   \n...                                                 ...   \n2989                                                NaN   \n2990                                                NaN   \n2991                                                NaN   \n2992                                                NaN   \n2993                                                NaN   \n\n      bg_value__fft_coefficient__attr_\"angle\"__coeff_17  \\\n0                                                   NaN   \n1                                                   NaN   \n2                                                   NaN   \n3                                                   NaN   \n4                                                   NaN   \n...                                                 ...   \n2989                                                NaN   \n2990                                                NaN   \n2991                                                NaN   \n2992                                                NaN   \n2993                                                NaN   \n\n      bg_value__fft_coefficient__attr_\"angle\"__coeff_18  \\\n0                                                   NaN   \n1                                                   NaN   \n2                                                   NaN   \n3                                                   NaN   \n4                                                   NaN   \n...                                                 ...   \n2989                                                NaN   \n2990                                                NaN   \n2991                                                NaN   \n2992                                                NaN   \n2993                                                NaN   \n\n      bg_value__fft_coefficient__attr_\"angle\"__coeff_19  \\\n0                                                   NaN   \n1                                                   NaN   \n2                                                   NaN   \n3                                                   NaN   \n4                                                   NaN   \n...                                                 ...   \n2989                                                NaN   \n2990                                                NaN   \n2991                                                NaN   \n2992                                                NaN   \n2993                                                NaN   \n\n      bg_value__fft_coefficient__attr_\"angle\"__coeff_20  \\\n0                                                   NaN   \n1                                                   NaN   \n2                                                   NaN   \n3                                                   NaN   \n4                                                   NaN   \n...                                                 ...   \n2989                                                NaN   \n2990                                                NaN   \n2991                                                NaN   \n2992                                                NaN   \n2993                                                NaN   \n\n      bg_value__fft_coefficient__attr_\"angle\"__coeff_21  \\\n0                                                   NaN   \n1                                                   NaN   \n2                                                   NaN   \n3                                                   NaN   \n4                                                   NaN   \n...                                                 ...   \n2989                                                NaN   \n2990                                                NaN   \n2991                                                NaN   \n2992                                                NaN   \n2993                                                NaN   \n\n      bg_value__fft_coefficient__attr_\"angle\"__coeff_22  \\\n0                                                   NaN   \n1                                                   NaN   \n2                                                   NaN   \n3                                                   NaN   \n4                                                   NaN   \n...                                                 ...   \n2989                                                NaN   \n2990                                                NaN   \n2991                                                NaN   \n2992                                                NaN   \n2993                                                NaN   \n\n      bg_value__fft_coefficient__attr_\"angle\"__coeff_23  \\\n0                                                   NaN   \n1                                                   NaN   \n2                                                   NaN   \n3                                                   NaN   \n4                                                   NaN   \n...                                                 ...   \n2989                                                NaN   \n2990                                                NaN   \n2991                                                NaN   \n2992                                                NaN   \n2993                                                NaN   \n\n      bg_value__fft_coefficient__attr_\"angle\"__coeff_24  \\\n0                                                   NaN   \n1                                                   NaN   \n2                                                   NaN   \n3                                                   NaN   \n4                                                   NaN   \n...                                                 ...   \n2989                                                NaN   \n2990                                                NaN   \n2991                                                NaN   \n2992                                                NaN   \n2993                                                NaN   \n\n      bg_value__fft_coefficient__attr_\"angle\"__coeff_25  \\\n0                                                   NaN   \n1                                                   NaN   \n2                                                   NaN   \n3                                                   NaN   \n4                                                   NaN   \n...                                                 ...   \n2989                                                NaN   \n2990                                                NaN   \n2991                                                NaN   \n2992                                                NaN   \n2993                                                NaN   \n\n      bg_value__fft_coefficient__attr_\"angle\"__coeff_26  \\\n0                                                   NaN   \n1                                                   NaN   \n2                                                   NaN   \n3                                                   NaN   \n4                                                   NaN   \n...                                                 ...   \n2989                                                NaN   \n2990                                                NaN   \n2991                                                NaN   \n2992                                                NaN   \n2993                                                NaN   \n\n      bg_value__fft_coefficient__attr_\"angle\"__coeff_27  \\\n0                                                   NaN   \n1                                                   NaN   \n2                                                   NaN   \n3                                                   NaN   \n4                                                   NaN   \n...                                                 ...   \n2989                                                NaN   \n2990                                                NaN   \n2991                                                NaN   \n2992                                                NaN   \n2993                                                NaN   \n\n      bg_value__fft_coefficient__attr_\"angle\"__coeff_28  \\\n0                                                   NaN   \n1                                                   NaN   \n2                                                   NaN   \n3                                                   NaN   \n4                                                   NaN   \n...                                                 ...   \n2989                                                NaN   \n2990                                                NaN   \n2991                                                NaN   \n2992                                                NaN   \n2993                                                NaN   \n\n      bg_value__fft_coefficient__attr_\"angle\"__coeff_29  \\\n0                                                   NaN   \n1                                                   NaN   \n2                                                   NaN   \n3                                                   NaN   \n4                                                   NaN   \n...                                                 ...   \n2989                                                NaN   \n2990                                                NaN   \n2991                                                NaN   \n2992                                                NaN   \n2993                                                NaN   \n\n      bg_value__fft_coefficient__attr_\"angle\"__coeff_30  \\\n0                                                   NaN   \n1                                                   NaN   \n2                                                   NaN   \n3                                                   NaN   \n4                                                   NaN   \n...                                                 ...   \n2989                                                NaN   \n2990                                                NaN   \n2991                                                NaN   \n2992                                                NaN   \n2993                                                NaN   \n\n      bg_value__fft_coefficient__attr_\"angle\"__coeff_31  \\\n0                                                   NaN   \n1                                                   NaN   \n2                                                   NaN   \n3                                                   NaN   \n4                                                   NaN   \n...                                                 ...   \n2989                                                NaN   \n2990                                                NaN   \n2991                                                NaN   \n2992                                                NaN   \n2993                                                NaN   \n\n      bg_value__fft_coefficient__attr_\"angle\"__coeff_32  \\\n0                                                   NaN   \n1                                                   NaN   \n2                                                   NaN   \n3                                                   NaN   \n4                                                   NaN   \n...                                                 ...   \n2989                                                NaN   \n2990                                                NaN   \n2991                                                NaN   \n2992                                                NaN   \n2993                                                NaN   \n\n      bg_value__fft_coefficient__attr_\"angle\"__coeff_33  \\\n0                                                   NaN   \n1                                                   NaN   \n2                                                   NaN   \n3                                                   NaN   \n4                                                   NaN   \n...                                                 ...   \n2989                                                NaN   \n2990                                                NaN   \n2991                                                NaN   \n2992                                                NaN   \n2993                                                NaN   \n\n      bg_value__fft_coefficient__attr_\"angle\"__coeff_34  \\\n0                                                   NaN   \n1                                                   NaN   \n2                                                   NaN   \n3                                                   NaN   \n4                                                   NaN   \n...                                                 ...   \n2989                                                NaN   \n2990                                                NaN   \n2991                                                NaN   \n2992                                                NaN   \n2993                                                NaN   \n\n      bg_value__fft_coefficient__attr_\"angle\"__coeff_35  \\\n0                                                   NaN   \n1                                                   NaN   \n2                                                   NaN   \n3                                                   NaN   \n4                                                   NaN   \n...                                                 ...   \n2989                                                NaN   \n2990                                                NaN   \n2991                                                NaN   \n2992                                                NaN   \n2993                                                NaN   \n\n      bg_value__fft_coefficient__attr_\"angle\"__coeff_36  \\\n0                                                   NaN   \n1                                                   NaN   \n2                                                   NaN   \n3                                                   NaN   \n4                                                   NaN   \n...                                                 ...   \n2989                                                NaN   \n2990                                                NaN   \n2991                                                NaN   \n2992                                                NaN   \n2993                                                NaN   \n\n      bg_value__fft_coefficient__attr_\"angle\"__coeff_37  \\\n0                                                   NaN   \n1                                                   NaN   \n2                                                   NaN   \n3                                                   NaN   \n4                                                   NaN   \n...                                                 ...   \n2989                                                NaN   \n2990                                                NaN   \n2991                                                NaN   \n2992                                                NaN   \n2993                                                NaN   \n\n      bg_value__fft_coefficient__attr_\"angle\"__coeff_38  \\\n0                                                   NaN   \n1                                                   NaN   \n2                                                   NaN   \n3                                                   NaN   \n4                                                   NaN   \n...                                                 ...   \n2989                                                NaN   \n2990                                                NaN   \n2991                                                NaN   \n2992                                                NaN   \n2993                                                NaN   \n\n      bg_value__fft_coefficient__attr_\"angle\"__coeff_39  \\\n0                                                   NaN   \n1                                                   NaN   \n2                                                   NaN   \n3                                                   NaN   \n4                                                   NaN   \n...                                                 ...   \n2989                                                NaN   \n2990                                                NaN   \n2991                                                NaN   \n2992                                                NaN   \n2993                                                NaN   \n\n      bg_value__fft_coefficient__attr_\"angle\"__coeff_40  \\\n0                                                   NaN   \n1                                                   NaN   \n2                                                   NaN   \n3                                                   NaN   \n4                                                   NaN   \n...                                                 ...   \n2989                                                NaN   \n2990                                                NaN   \n2991                                                NaN   \n2992                                                NaN   \n2993                                                NaN   \n\n      bg_value__fft_coefficient__attr_\"angle\"__coeff_41  \\\n0                                                   NaN   \n1                                                   NaN   \n2                                                   NaN   \n3                                                   NaN   \n4                                                   NaN   \n...                                                 ...   \n2989                                                NaN   \n2990                                                NaN   \n2991                                                NaN   \n2992                                                NaN   \n2993                                                NaN   \n\n      bg_value__fft_coefficient__attr_\"angle\"__coeff_42  \\\n0                                                   NaN   \n1                                                   NaN   \n2                                                   NaN   \n3                                                   NaN   \n4                                                   NaN   \n...                                                 ...   \n2989                                                NaN   \n2990                                                NaN   \n2991                                                NaN   \n2992                                                NaN   \n2993                                                NaN   \n\n      bg_value__fft_coefficient__attr_\"angle\"__coeff_43  \\\n0                                                   NaN   \n1                                                   NaN   \n2                                                   NaN   \n3                                                   NaN   \n4                                                   NaN   \n...                                                 ...   \n2989                                                NaN   \n2990                                                NaN   \n2991                                                NaN   \n2992                                                NaN   \n2993                                                NaN   \n\n      bg_value__fft_coefficient__attr_\"angle\"__coeff_44  \\\n0                                                   NaN   \n1                                                   NaN   \n2                                                   NaN   \n3                                                   NaN   \n4                                                   NaN   \n...                                                 ...   \n2989                                                NaN   \n2990                                                NaN   \n2991                                                NaN   \n2992                                                NaN   \n2993                                                NaN   \n\n      bg_value__fft_coefficient__attr_\"angle\"__coeff_45  \\\n0                                                   NaN   \n1                                                   NaN   \n2                                                   NaN   \n3                                                   NaN   \n4                                                   NaN   \n...                                                 ...   \n2989                                                NaN   \n2990                                                NaN   \n2991                                                NaN   \n2992                                                NaN   \n2993                                                NaN   \n\n      bg_value__fft_coefficient__attr_\"angle\"__coeff_46  \\\n0                                                   NaN   \n1                                                   NaN   \n2                                                   NaN   \n3                                                   NaN   \n4                                                   NaN   \n...                                                 ...   \n2989                                                NaN   \n2990                                                NaN   \n2991                                                NaN   \n2992                                                NaN   \n2993                                                NaN   \n\n      bg_value__fft_coefficient__attr_\"angle\"__coeff_47  \\\n0                                                   NaN   \n1                                                   NaN   \n2                                                   NaN   \n3                                                   NaN   \n4                                                   NaN   \n...                                                 ...   \n2989                                                NaN   \n2990                                                NaN   \n2991                                                NaN   \n2992                                                NaN   \n2993                                                NaN   \n\n      bg_value__fft_coefficient__attr_\"angle\"__coeff_48  \\\n0                                                   NaN   \n1                                                   NaN   \n2                                                   NaN   \n3                                                   NaN   \n4                                                   NaN   \n...                                                 ...   \n2989                                                NaN   \n2990                                                NaN   \n2991                                                NaN   \n2992                                                NaN   \n2993                                                NaN   \n\n      bg_value__fft_coefficient__attr_\"angle\"__coeff_49  \\\n0                                                   NaN   \n1                                                   NaN   \n2                                                   NaN   \n3                                                   NaN   \n4                                                   NaN   \n...                                                 ...   \n2989                                                NaN   \n2990                                                NaN   \n2991                                                NaN   \n2992                                                NaN   \n2993                                                NaN   \n\n      bg_value__fft_coefficient__attr_\"angle\"__coeff_50  \\\n0                                                   NaN   \n1                                                   NaN   \n2                                                   NaN   \n3                                                   NaN   \n4                                                   NaN   \n...                                                 ...   \n2989                                                NaN   \n2990                                                NaN   \n2991                                                NaN   \n2992                                                NaN   \n2993                                                NaN   \n\n      bg_value__fft_coefficient__attr_\"angle\"__coeff_51  \\\n0                                                   NaN   \n1                                                   NaN   \n2                                                   NaN   \n3                                                   NaN   \n4                                                   NaN   \n...                                                 ...   \n2989                                                NaN   \n2990                                                NaN   \n2991                                                NaN   \n2992                                                NaN   \n2993                                                NaN   \n\n      bg_value__fft_coefficient__attr_\"angle\"__coeff_52  \\\n0                                                   NaN   \n1                                                   NaN   \n2                                                   NaN   \n3                                                   NaN   \n4                                                   NaN   \n...                                                 ...   \n2989                                                NaN   \n2990                                                NaN   \n2991                                                NaN   \n2992                                                NaN   \n2993                                                NaN   \n\n      bg_value__fft_coefficient__attr_\"angle\"__coeff_53  \\\n0                                                   NaN   \n1                                                   NaN   \n2                                                   NaN   \n3                                                   NaN   \n4                                                   NaN   \n...                                                 ...   \n2989                                                NaN   \n2990                                                NaN   \n2991                                                NaN   \n2992                                                NaN   \n2993                                                NaN   \n\n      bg_value__fft_coefficient__attr_\"angle\"__coeff_54  \\\n0                                                   NaN   \n1                                                   NaN   \n2                                                   NaN   \n3                                                   NaN   \n4                                                   NaN   \n...                                                 ...   \n2989                                                NaN   \n2990                                                NaN   \n2991                                                NaN   \n2992                                                NaN   \n2993                                                NaN   \n\n      bg_value__fft_coefficient__attr_\"angle\"__coeff_55  \\\n0                                                   NaN   \n1                                                   NaN   \n2                                                   NaN   \n3                                                   NaN   \n4                                                   NaN   \n...                                                 ...   \n2989                                                NaN   \n2990                                                NaN   \n2991                                                NaN   \n2992                                                NaN   \n2993                                                NaN   \n\n      bg_value__fft_coefficient__attr_\"angle\"__coeff_56  \\\n0                                                   NaN   \n1                                                   NaN   \n2                                                   NaN   \n3                                                   NaN   \n4                                                   NaN   \n...                                                 ...   \n2989                                                NaN   \n2990                                                NaN   \n2991                                                NaN   \n2992                                                NaN   \n2993                                                NaN   \n\n      bg_value__fft_coefficient__attr_\"angle\"__coeff_57  \\\n0                                                   NaN   \n1                                                   NaN   \n2                                                   NaN   \n3                                                   NaN   \n4                                                   NaN   \n...                                                 ...   \n2989                                                NaN   \n2990                                                NaN   \n2991                                                NaN   \n2992                                                NaN   \n2993                                                NaN   \n\n      bg_value__fft_coefficient__attr_\"angle\"__coeff_58  \\\n0                                                   NaN   \n1                                                   NaN   \n2                                                   NaN   \n3                                                   NaN   \n4                                                   NaN   \n...                                                 ...   \n2989                                                NaN   \n2990                                                NaN   \n2991                                                NaN   \n2992                                                NaN   \n2993                                                NaN   \n\n      bg_value__fft_coefficient__attr_\"angle\"__coeff_59  \\\n0                                                   NaN   \n1                                                   NaN   \n2                                                   NaN   \n3                                                   NaN   \n4                                                   NaN   \n...                                                 ...   \n2989                                                NaN   \n2990                                                NaN   \n2991                                                NaN   \n2992                                                NaN   \n2993                                                NaN   \n\n      bg_value__fft_coefficient__attr_\"angle\"__coeff_60  \\\n0                                                   NaN   \n1                                                   NaN   \n2                                                   NaN   \n3                                                   NaN   \n4                                                   NaN   \n...                                                 ...   \n2989                                                NaN   \n2990                                                NaN   \n2991                                                NaN   \n2992                                                NaN   \n2993                                                NaN   \n\n      bg_value__fft_coefficient__attr_\"angle\"__coeff_61  \\\n0                                                   NaN   \n1                                                   NaN   \n2                                                   NaN   \n3                                                   NaN   \n4                                                   NaN   \n...                                                 ...   \n2989                                                NaN   \n2990                                                NaN   \n2991                                                NaN   \n2992                                                NaN   \n2993                                                NaN   \n\n      bg_value__fft_coefficient__attr_\"angle\"__coeff_62  \\\n0                                                   NaN   \n1                                                   NaN   \n2                                                   NaN   \n3                                                   NaN   \n4                                                   NaN   \n...                                                 ...   \n2989                                                NaN   \n2990                                                NaN   \n2991                                                NaN   \n2992                                                NaN   \n2993                                                NaN   \n\n      bg_value__fft_coefficient__attr_\"angle\"__coeff_63  \\\n0                                                   NaN   \n1                                                   NaN   \n2                                                   NaN   \n3                                                   NaN   \n4                                                   NaN   \n...                                                 ...   \n2989                                                NaN   \n2990                                                NaN   \n2991                                                NaN   \n2992                                                NaN   \n2993                                                NaN   \n\n      bg_value__fft_coefficient__attr_\"angle\"__coeff_64  \\\n0                                                   NaN   \n1                                                   NaN   \n2                                                   NaN   \n3                                                   NaN   \n4                                                   NaN   \n...                                                 ...   \n2989                                                NaN   \n2990                                                NaN   \n2991                                                NaN   \n2992                                                NaN   \n2993                                                NaN   \n\n      bg_value__fft_coefficient__attr_\"angle\"__coeff_65  \\\n0                                                   NaN   \n1                                                   NaN   \n2                                                   NaN   \n3                                                   NaN   \n4                                                   NaN   \n...                                                 ...   \n2989                                                NaN   \n2990                                                NaN   \n2991                                                NaN   \n2992                                                NaN   \n2993                                                NaN   \n\n      bg_value__fft_coefficient__attr_\"angle\"__coeff_66  \\\n0                                                   NaN   \n1                                                   NaN   \n2                                                   NaN   \n3                                                   NaN   \n4                                                   NaN   \n...                                                 ...   \n2989                                                NaN   \n2990                                                NaN   \n2991                                                NaN   \n2992                                                NaN   \n2993                                                NaN   \n\n      bg_value__fft_coefficient__attr_\"angle\"__coeff_67  \\\n0                                                   NaN   \n1                                                   NaN   \n2                                                   NaN   \n3                                                   NaN   \n4                                                   NaN   \n...                                                 ...   \n2989                                                NaN   \n2990                                                NaN   \n2991                                                NaN   \n2992                                                NaN   \n2993                                                NaN   \n\n      bg_value__fft_coefficient__attr_\"angle\"__coeff_68  \\\n0                                                   NaN   \n1                                                   NaN   \n2                                                   NaN   \n3                                                   NaN   \n4                                                   NaN   \n...                                                 ...   \n2989                                                NaN   \n2990                                                NaN   \n2991                                                NaN   \n2992                                                NaN   \n2993                                                NaN   \n\n      bg_value__fft_coefficient__attr_\"angle\"__coeff_69  \\\n0                                                   NaN   \n1                                                   NaN   \n2                                                   NaN   \n3                                                   NaN   \n4                                                   NaN   \n...                                                 ...   \n2989                                                NaN   \n2990                                                NaN   \n2991                                                NaN   \n2992                                                NaN   \n2993                                                NaN   \n\n      bg_value__fft_coefficient__attr_\"angle\"__coeff_70  \\\n0                                                   NaN   \n1                                                   NaN   \n2                                                   NaN   \n3                                                   NaN   \n4                                                   NaN   \n...                                                 ...   \n2989                                                NaN   \n2990                                                NaN   \n2991                                                NaN   \n2992                                                NaN   \n2993                                                NaN   \n\n      bg_value__fft_coefficient__attr_\"angle\"__coeff_71  \\\n0                                                   NaN   \n1                                                   NaN   \n2                                                   NaN   \n3                                                   NaN   \n4                                                   NaN   \n...                                                 ...   \n2989                                                NaN   \n2990                                                NaN   \n2991                                                NaN   \n2992                                                NaN   \n2993                                                NaN   \n\n      bg_value__fft_coefficient__attr_\"angle\"__coeff_72  \\\n0                                                   NaN   \n1                                                   NaN   \n2                                                   NaN   \n3                                                   NaN   \n4                                                   NaN   \n...                                                 ...   \n2989                                                NaN   \n2990                                                NaN   \n2991                                                NaN   \n2992                                                NaN   \n2993                                                NaN   \n\n      bg_value__fft_coefficient__attr_\"angle\"__coeff_73  \\\n0                                                   NaN   \n1                                                   NaN   \n2                                                   NaN   \n3                                                   NaN   \n4                                                   NaN   \n...                                                 ...   \n2989                                                NaN   \n2990                                                NaN   \n2991                                                NaN   \n2992                                                NaN   \n2993                                                NaN   \n\n      bg_value__fft_coefficient__attr_\"angle\"__coeff_74  \\\n0                                                   NaN   \n1                                                   NaN   \n2                                                   NaN   \n3                                                   NaN   \n4                                                   NaN   \n...                                                 ...   \n2989                                                NaN   \n2990                                                NaN   \n2991                                                NaN   \n2992                                                NaN   \n2993                                                NaN   \n\n      bg_value__fft_coefficient__attr_\"angle\"__coeff_75  \\\n0                                                   NaN   \n1                                                   NaN   \n2                                                   NaN   \n3                                                   NaN   \n4                                                   NaN   \n...                                                 ...   \n2989                                                NaN   \n2990                                                NaN   \n2991                                                NaN   \n2992                                                NaN   \n2993                                                NaN   \n\n      bg_value__fft_coefficient__attr_\"angle\"__coeff_76  \\\n0                                                   NaN   \n1                                                   NaN   \n2                                                   NaN   \n3                                                   NaN   \n4                                                   NaN   \n...                                                 ...   \n2989                                                NaN   \n2990                                                NaN   \n2991                                                NaN   \n2992                                                NaN   \n2993                                                NaN   \n\n      bg_value__fft_coefficient__attr_\"angle\"__coeff_77  \\\n0                                                   NaN   \n1                                                   NaN   \n2                                                   NaN   \n3                                                   NaN   \n4                                                   NaN   \n...                                                 ...   \n2989                                                NaN   \n2990                                                NaN   \n2991                                                NaN   \n2992                                                NaN   \n2993                                                NaN   \n\n      bg_value__fft_coefficient__attr_\"angle\"__coeff_78  \\\n0                                                   NaN   \n1                                                   NaN   \n2                                                   NaN   \n3                                                   NaN   \n4                                                   NaN   \n...                                                 ...   \n2989                                                NaN   \n2990                                                NaN   \n2991                                                NaN   \n2992                                                NaN   \n2993                                                NaN   \n\n      bg_value__fft_coefficient__attr_\"angle\"__coeff_79  \\\n0                                                   NaN   \n1                                                   NaN   \n2                                                   NaN   \n3                                                   NaN   \n4                                                   NaN   \n...                                                 ...   \n2989                                                NaN   \n2990                                                NaN   \n2991                                                NaN   \n2992                                                NaN   \n2993                                                NaN   \n\n      bg_value__fft_coefficient__attr_\"angle\"__coeff_80  \\\n0                                                   NaN   \n1                                                   NaN   \n2                                                   NaN   \n3                                                   NaN   \n4                                                   NaN   \n...                                                 ...   \n2989                                                NaN   \n2990                                                NaN   \n2991                                                NaN   \n2992                                                NaN   \n2993                                                NaN   \n\n      bg_value__fft_coefficient__attr_\"angle\"__coeff_81  \\\n0                                                   NaN   \n1                                                   NaN   \n2                                                   NaN   \n3                                                   NaN   \n4                                                   NaN   \n...                                                 ...   \n2989                                                NaN   \n2990                                                NaN   \n2991                                                NaN   \n2992                                                NaN   \n2993                                                NaN   \n\n      bg_value__fft_coefficient__attr_\"angle\"__coeff_82  \\\n0                                                   NaN   \n1                                                   NaN   \n2                                                   NaN   \n3                                                   NaN   \n4                                                   NaN   \n...                                                 ...   \n2989                                                NaN   \n2990                                                NaN   \n2991                                                NaN   \n2992                                                NaN   \n2993                                                NaN   \n\n      bg_value__fft_coefficient__attr_\"angle\"__coeff_83  \\\n0                                                   NaN   \n1                                                   NaN   \n2                                                   NaN   \n3                                                   NaN   \n4                                                   NaN   \n...                                                 ...   \n2989                                                NaN   \n2990                                                NaN   \n2991                                                NaN   \n2992                                                NaN   \n2993                                                NaN   \n\n      bg_value__fft_coefficient__attr_\"angle\"__coeff_84  \\\n0                                                   NaN   \n1                                                   NaN   \n2                                                   NaN   \n3                                                   NaN   \n4                                                   NaN   \n...                                                 ...   \n2989                                                NaN   \n2990                                                NaN   \n2991                                                NaN   \n2992                                                NaN   \n2993                                                NaN   \n\n      bg_value__fft_coefficient__attr_\"angle\"__coeff_85  \\\n0                                                   NaN   \n1                                                   NaN   \n2                                                   NaN   \n3                                                   NaN   \n4                                                   NaN   \n...                                                 ...   \n2989                                                NaN   \n2990                                                NaN   \n2991                                                NaN   \n2992                                                NaN   \n2993                                                NaN   \n\n      bg_value__fft_coefficient__attr_\"angle\"__coeff_86  \\\n0                                                   NaN   \n1                                                   NaN   \n2                                                   NaN   \n3                                                   NaN   \n4                                                   NaN   \n...                                                 ...   \n2989                                                NaN   \n2990                                                NaN   \n2991                                                NaN   \n2992                                                NaN   \n2993                                                NaN   \n\n      bg_value__fft_coefficient__attr_\"angle\"__coeff_87  \\\n0                                                   NaN   \n1                                                   NaN   \n2                                                   NaN   \n3                                                   NaN   \n4                                                   NaN   \n...                                                 ...   \n2989                                                NaN   \n2990                                                NaN   \n2991                                                NaN   \n2992                                                NaN   \n2993                                                NaN   \n\n      bg_value__fft_coefficient__attr_\"angle\"__coeff_88  \\\n0                                                   NaN   \n1                                                   NaN   \n2                                                   NaN   \n3                                                   NaN   \n4                                                   NaN   \n...                                                 ...   \n2989                                                NaN   \n2990                                                NaN   \n2991                                                NaN   \n2992                                                NaN   \n2993                                                NaN   \n\n      bg_value__fft_coefficient__attr_\"angle\"__coeff_89  \\\n0                                                   NaN   \n1                                                   NaN   \n2                                                   NaN   \n3                                                   NaN   \n4                                                   NaN   \n...                                                 ...   \n2989                                                NaN   \n2990                                                NaN   \n2991                                                NaN   \n2992                                                NaN   \n2993                                                NaN   \n\n      bg_value__fft_coefficient__attr_\"angle\"__coeff_90  \\\n0                                                   NaN   \n1                                                   NaN   \n2                                                   NaN   \n3                                                   NaN   \n4                                                   NaN   \n...                                                 ...   \n2989                                                NaN   \n2990                                                NaN   \n2991                                                NaN   \n2992                                                NaN   \n2993                                                NaN   \n\n      bg_value__fft_coefficient__attr_\"angle\"__coeff_91  \\\n0                                                   NaN   \n1                                                   NaN   \n2                                                   NaN   \n3                                                   NaN   \n4                                                   NaN   \n...                                                 ...   \n2989                                                NaN   \n2990                                                NaN   \n2991                                                NaN   \n2992                                                NaN   \n2993                                                NaN   \n\n      bg_value__fft_coefficient__attr_\"angle\"__coeff_92  \\\n0                                                   NaN   \n1                                                   NaN   \n2                                                   NaN   \n3                                                   NaN   \n4                                                   NaN   \n...                                                 ...   \n2989                                                NaN   \n2990                                                NaN   \n2991                                                NaN   \n2992                                                NaN   \n2993                                                NaN   \n\n      bg_value__fft_coefficient__attr_\"angle\"__coeff_93  \\\n0                                                   NaN   \n1                                                   NaN   \n2                                                   NaN   \n3                                                   NaN   \n4                                                   NaN   \n...                                                 ...   \n2989                                                NaN   \n2990                                                NaN   \n2991                                                NaN   \n2992                                                NaN   \n2993                                                NaN   \n\n      bg_value__fft_coefficient__attr_\"angle\"__coeff_94  \\\n0                                                   NaN   \n1                                                   NaN   \n2                                                   NaN   \n3                                                   NaN   \n4                                                   NaN   \n...                                                 ...   \n2989                                                NaN   \n2990                                                NaN   \n2991                                                NaN   \n2992                                                NaN   \n2993                                                NaN   \n\n      bg_value__fft_coefficient__attr_\"angle\"__coeff_95  \\\n0                                                   NaN   \n1                                                   NaN   \n2                                                   NaN   \n3                                                   NaN   \n4                                                   NaN   \n...                                                 ...   \n2989                                                NaN   \n2990                                                NaN   \n2991                                                NaN   \n2992                                                NaN   \n2993                                                NaN   \n\n      bg_value__fft_coefficient__attr_\"angle\"__coeff_96  \\\n0                                                   NaN   \n1                                                   NaN   \n2                                                   NaN   \n3                                                   NaN   \n4                                                   NaN   \n...                                                 ...   \n2989                                                NaN   \n2990                                                NaN   \n2991                                                NaN   \n2992                                                NaN   \n2993                                                NaN   \n\n      bg_value__fft_coefficient__attr_\"angle\"__coeff_97  \\\n0                                                   NaN   \n1                                                   NaN   \n2                                                   NaN   \n3                                                   NaN   \n4                                                   NaN   \n...                                                 ...   \n2989                                                NaN   \n2990                                                NaN   \n2991                                                NaN   \n2992                                                NaN   \n2993                                                NaN   \n\n      bg_value__fft_coefficient__attr_\"angle\"__coeff_98  \\\n0                                                   NaN   \n1                                                   NaN   \n2                                                   NaN   \n3                                                   NaN   \n4                                                   NaN   \n...                                                 ...   \n2989                                                NaN   \n2990                                                NaN   \n2991                                                NaN   \n2992                                                NaN   \n2993                                                NaN   \n\n      bg_value__fft_coefficient__attr_\"angle\"__coeff_99  \\\n0                                                   NaN   \n1                                                   NaN   \n2                                                   NaN   \n3                                                   NaN   \n4                                                   NaN   \n...                                                 ...   \n2989                                                NaN   \n2990                                                NaN   \n2991                                                NaN   \n2992                                                NaN   \n2993                                                NaN   \n\n      bg_value__fft_aggregated__aggtype_\"centroid\"  \\\n0                                         0.148603   \n1                                         0.205191   \n2                                         0.198009   \n3                                         0.140152   \n4                                         0.137150   \n...                                            ...   \n2989                                      0.187219   \n2990                                      0.139567   \n2991                                      0.098768   \n2992                                      0.063041   \n2993                                      0.046561   \n\n      bg_value__fft_aggregated__aggtype_\"variance\"  \\\n0                                         0.269153   \n1                                         0.394261   \n2                                         0.381371   \n3                                         0.261925   \n4                                         0.285430   \n...                                            ...   \n2989                                      0.349388   \n2990                                      0.281921   \n2991                                      0.221479   \n2992                                      0.133314   \n2993                                      0.086252   \n\n      bg_value__fft_aggregated__aggtype_\"skew\"  \\\n0                                          NaN   \n1                                          NaN   \n2                                          NaN   \n3                                          NaN   \n4                                          NaN   \n...                                        ...   \n2989                                       NaN   \n2990                                       NaN   \n2991                                       NaN   \n2992                                       NaN   \n2993                                       NaN   \n\n      bg_value__fft_aggregated__aggtype_\"kurtosis\"  \\\n0                                              NaN   \n1                                              NaN   \n2                                              NaN   \n3                                              NaN   \n4                                              NaN   \n...                                            ...   \n2989                                           NaN   \n2990                                           NaN   \n2991                                           NaN   \n2992                                           NaN   \n2993                                           NaN   \n\n      bg_value__value_count__value_0  bg_value__value_count__value_1  \\\n0                                0.0                             0.0   \n1                                0.0                             0.0   \n2                                0.0                             0.0   \n3                                0.0                             0.0   \n4                                0.0                             0.0   \n...                              ...                             ...   \n2989                             0.0                             0.0   \n2990                             0.0                             0.0   \n2991                             0.0                             0.0   \n2992                             0.0                             0.0   \n2993                             0.0                             0.0   \n\n      bg_value__value_count__value_-1  bg_value__range_count__max_1__min_-1  \\\n0                                 0.0                                   0.0   \n1                                 0.0                                   0.0   \n2                                 0.0                                   0.0   \n3                                 0.0                                   0.0   \n4                                 0.0                                   0.0   \n...                               ...                                   ...   \n2989                              0.0                                   0.0   \n2990                              0.0                                   0.0   \n2991                              0.0                                   0.0   \n2992                              0.0                                   0.0   \n2993                              0.0                                   0.0   \n\n      bg_value__range_count__max_0__min_1000000000000.0  \\\n0                                                   0.0   \n1                                                   0.0   \n2                                                   0.0   \n3                                                   0.0   \n4                                                   0.0   \n...                                                 ...   \n2989                                                0.0   \n2990                                                0.0   \n2991                                                0.0   \n2992                                                0.0   \n2993                                                0.0   \n\n      bg_value__range_count__max_1000000000000.0__min_0  \\\n0                                                   6.0   \n1                                                   6.0   \n2                                                   6.0   \n3                                                   6.0   \n4                                                   6.0   \n...                                                 ...   \n2989                                                6.0   \n2990                                                6.0   \n2991                                                6.0   \n2992                                                6.0   \n2993                                                6.0   \n\n      bg_value__approximate_entropy__m_2__r_0.1  \\\n0                                      0.223144   \n1                                      0.223144   \n2                                      0.223144   \n3                                      0.223144   \n4                                      0.223144   \n...                                         ...   \n2989                                   0.223144   \n2990                                   0.054115   \n2991                                   0.223144   \n2992                                   0.223144   \n2993                                   0.223144   \n\n      bg_value__approximate_entropy__m_2__r_0.3  \\\n0                                      0.223144   \n1                                      0.223144   \n2                                      0.223144   \n3                                      0.223144   \n4                                      0.223144   \n...                                         ...   \n2989                                   0.054115   \n2990                                   0.273838   \n2991                                   0.054115   \n2992                                   0.054115   \n2993                                   0.223144   \n\n      bg_value__approximate_entropy__m_2__r_0.5  \\\n0                                      0.223144   \n1                                      0.223144   \n2                                      0.223144   \n3                                      0.223144   \n4                                      0.223144   \n...                                         ...   \n2989                                   0.054115   \n2990                                   0.089450   \n2991                                   0.273838   \n2992                                   0.054115   \n2993                                   0.054115   \n\n      bg_value__approximate_entropy__m_2__r_0.7  \\\n0                                      0.054115   \n1                                      0.182597   \n2                                      0.182597   \n3                                      0.054115   \n4                                      0.273838   \n...                                         ...   \n2989                                   0.054115   \n2990                                   0.089450   \n2991                                   0.089450   \n2992                                   0.089450   \n2993                                   0.054115   \n\n      bg_value__approximate_entropy__m_2__r_0.9  \\\n0                                      0.182597   \n1                                      0.182597   \n2                                      0.182597   \n3                                      0.182597   \n4                                      0.089450   \n...                                         ...   \n2989                                   0.072736   \n2990                                   0.089450   \n2991                                   0.089450   \n2992                                   0.089450   \n2993                                   0.331374   \n\n      bg_value__friedrich_coefficients__coeff_0__m_3__r_30  \\\n0                                             -0.005520      \n1                                              0.000936      \n2                                             -0.000155      \n3                                             -0.002123      \n4                                             -0.004209      \n...                                                 ...      \n2989                                          -0.000304      \n2990                                          -0.001063      \n2991                                          -0.103053      \n2992                                           0.146683      \n2993                                          -0.010610      \n\n      bg_value__friedrich_coefficients__coeff_1__m_3__r_30  \\\n0                                              1.792452      \n1                                             -0.320071      \n2                                              0.055543      \n3                                              0.785852      \n4                                              1.608779      \n...                                                 ...      \n2989                                           0.143196      \n2990                                           0.553655      \n2991                                          58.946813      \n2992                                         -87.438249      \n2993                                           6.431750      \n\n      bg_value__friedrich_coefficients__coeff_2__m_3__r_30  \\\n0                                           -193.211572      \n1                                             36.346794      \n2                                             -6.625472      \n3                                            -96.719366      \n4                                           -204.647332      \n...                                                 ...      \n2989                                         -22.447282      \n2990                                         -96.269214      \n2991                                      -11230.899632      \n2992                                       17369.649663      \n2993                                       -1299.068350      \n\n      bg_value__friedrich_coefficients__coeff_3__m_3__r_30  \\\n0                                          6.919540e+03      \n1                                         -1.363070e+03      \n2                                          2.708388e+02      \n3                                          3.966028e+03      \n4                                          8.672101e+03      \n...                                                 ...      \n2989                                       1.189391e+03      \n2990                                       5.601263e+03      \n2991                                       7.127063e+05      \n2992                                      -1.149870e+06      \n2993                                       8.742920e+04      \n\n      bg_value__max_langevin_fixed_point__m_3__r_30  \\\n0                                        123.151339   \n1                                        125.229203   \n2                                        156.287304   \n3                                        140.949346   \n4                                        141.591598   \n...                                             ...   \n2989                                     196.344621   \n2990                                     196.372636   \n2991                                     197.818014   \n2992                                     204.580763   \n2993                                     211.170105   \n\n      bg_value__linear_trend__attr_\"pvalue\"  \\\n0                              3.135598e-03   \n1                              7.317403e-07   \n2                              1.043077e-07   \n3                              1.594748e-03   \n4                              3.683927e-03   \n...                                     ...   \n2989                           7.553855e-03   \n2990                           3.443697e-02   \n2991                           3.181010e-02   \n2992                           2.314825e-02   \n2993                           1.082810e-02   \n\n      bg_value__linear_trend__attr_\"rvalue\"  \\\n0                                  0.953924   \n1                                  0.999301   \n2                                  0.999736   \n3                                  0.967214   \n4                                  0.950024   \n...                                     ...   \n2989                               0.928171   \n2990                               0.844392   \n2991                               0.850608   \n2992                               0.873059   \n2993                               0.913789   \n\n      bg_value__linear_trend__attr_\"intercept\"  \\\n0                                    95.761905   \n1                                    97.285714   \n2                                   104.333333   \n3                                   114.047619   \n4                                   122.619048   \n...                                        ...   \n2989                                151.904762   \n2990                                171.666667   \n2991                                185.476190   \n2992                                192.476190   \n2993                                194.047619   \n\n      bg_value__linear_trend__attr_\"slope\"  \\\n0                                 5.828571   \n1                                 7.485714   \n2                                 7.600000   \n3                                 6.114286   \n4                                 4.885714   \n...                                    ...   \n2989                             10.771429   \n2990                              6.400000   \n2991                              3.742857   \n2992                              2.942857   \n2993                              3.514286   \n\n      bg_value__linear_trend__attr_\"stderr\"  \\\n0                                  0.916664   \n1                                  0.139971   \n2                                  0.087287   \n3                                  0.802716   \n4                                  0.802716   \n...                                     ...   \n2989                               2.159428   \n2990                               2.030247   \n2991                               1.156819   \n2992                               0.821812   \n2993                               0.781069   \n\n      bg_value__agg_linear_trend__attr_\"rvalue\"__chunk_len_5__f_agg_\"max\"  \\\n0                                                   1.0                     \n1                                                   1.0                     \n2                                                   1.0                     \n3                                                  -1.0                     \n4                                                   1.0                     \n...                                                 ...                     \n2989                                               -1.0                     \n2990                                               -1.0                     \n2991                                                1.0                     \n2992                                                1.0                     \n2993                                                1.0                     \n\n      bg_value__agg_linear_trend__attr_\"rvalue\"__chunk_len_5__f_agg_\"min\"  \\\n0                                                   1.0                     \n1                                                   1.0                     \n2                                                   1.0                     \n3                                                   1.0                     \n4                                                   1.0                     \n...                                                 ...                     \n2989                                                1.0                     \n2990                                                1.0                     \n2991                                                1.0                     \n2992                                                1.0                     \n2993                                                1.0                     \n\n      bg_value__agg_linear_trend__attr_\"rvalue\"__chunk_len_5__f_agg_\"mean\"  \\\n0                                                   1.0                      \n1                                                   1.0                      \n2                                                   1.0                      \n3                                                   1.0                      \n4                                                   1.0                      \n...                                                 ...                      \n2989                                                1.0                      \n2990                                                1.0                      \n2991                                                1.0                      \n2992                                                1.0                      \n2993                                                1.0                      \n\n      bg_value__agg_linear_trend__attr_\"rvalue\"__chunk_len_5__f_agg_\"var\"  \\\n0                                                  -1.0                     \n1                                                  -1.0                     \n2                                                  -1.0                     \n3                                                  -1.0                     \n4                                                  -1.0                     \n...                                                 ...                     \n2989                                               -1.0                     \n2990                                               -1.0                     \n2991                                               -1.0                     \n2992                                               -1.0                     \n2993                                               -1.0                     \n\n      bg_value__agg_linear_trend__attr_\"rvalue\"__chunk_len_10__f_agg_\"max\"  \\\n0                                                   NaN                      \n1                                                   NaN                      \n2                                                   NaN                      \n3                                                   NaN                      \n4                                                   NaN                      \n...                                                 ...                      \n2989                                                NaN                      \n2990                                                NaN                      \n2991                                                NaN                      \n2992                                                NaN                      \n2993                                                NaN                      \n\n      bg_value__agg_linear_trend__attr_\"rvalue\"__chunk_len_10__f_agg_\"min\"  \\\n0                                                   NaN                      \n1                                                   NaN                      \n2                                                   NaN                      \n3                                                   NaN                      \n4                                                   NaN                      \n...                                                 ...                      \n2989                                                NaN                      \n2990                                                NaN                      \n2991                                                NaN                      \n2992                                                NaN                      \n2993                                                NaN                      \n\n      bg_value__agg_linear_trend__attr_\"rvalue\"__chunk_len_10__f_agg_\"mean\"  \\\n0                                                   NaN                       \n1                                                   NaN                       \n2                                                   NaN                       \n3                                                   NaN                       \n4                                                   NaN                       \n...                                                 ...                       \n2989                                                NaN                       \n2990                                                NaN                       \n2991                                                NaN                       \n2992                                                NaN                       \n2993                                                NaN                       \n\n      bg_value__agg_linear_trend__attr_\"rvalue\"__chunk_len_10__f_agg_\"var\"  \\\n0                                                   NaN                      \n1                                                   NaN                      \n2                                                   NaN                      \n3                                                   NaN                      \n4                                                   NaN                      \n...                                                 ...                      \n2989                                                NaN                      \n2990                                                NaN                      \n2991                                                NaN                      \n2992                                                NaN                      \n2993                                                NaN                      \n\n      bg_value__agg_linear_trend__attr_\"rvalue\"__chunk_len_50__f_agg_\"max\"  \\\n0                                                   NaN                      \n1                                                   NaN                      \n2                                                   NaN                      \n3                                                   NaN                      \n4                                                   NaN                      \n...                                                 ...                      \n2989                                                NaN                      \n2990                                                NaN                      \n2991                                                NaN                      \n2992                                                NaN                      \n2993                                                NaN                      \n\n      bg_value__agg_linear_trend__attr_\"rvalue\"__chunk_len_50__f_agg_\"min\"  \\\n0                                                   NaN                      \n1                                                   NaN                      \n2                                                   NaN                      \n3                                                   NaN                      \n4                                                   NaN                      \n...                                                 ...                      \n2989                                                NaN                      \n2990                                                NaN                      \n2991                                                NaN                      \n2992                                                NaN                      \n2993                                                NaN                      \n\n      bg_value__agg_linear_trend__attr_\"rvalue\"__chunk_len_50__f_agg_\"mean\"  \\\n0                                                   NaN                       \n1                                                   NaN                       \n2                                                   NaN                       \n3                                                   NaN                       \n4                                                   NaN                       \n...                                                 ...                       \n2989                                                NaN                       \n2990                                                NaN                       \n2991                                                NaN                       \n2992                                                NaN                       \n2993                                                NaN                       \n\n      bg_value__agg_linear_trend__attr_\"rvalue\"__chunk_len_50__f_agg_\"var\"  \\\n0                                                   NaN                      \n1                                                   NaN                      \n2                                                   NaN                      \n3                                                   NaN                      \n4                                                   NaN                      \n...                                                 ...                      \n2989                                                NaN                      \n2990                                                NaN                      \n2991                                                NaN                      \n2992                                                NaN                      \n2993                                                NaN                      \n\n      bg_value__agg_linear_trend__attr_\"intercept\"__chunk_len_5__f_agg_\"max\"  \\\n0                                                 120.0                        \n1                                                 127.0                        \n2                                                 135.0                        \n3                                                 142.0                        \n4                                                 142.0                        \n...                                                 ...                        \n2989                                              198.0                        \n2990                                              198.0                        \n2991                                              198.0                        \n2992                                              205.0                        \n2993                                              210.0                        \n\n      bg_value__agg_linear_trend__attr_\"intercept\"__chunk_len_5__f_agg_\"min\"  \\\n0                                                  98.0                        \n1                                                  98.0                        \n2                                                 104.0                        \n3                                                 112.0                        \n4                                                 120.0                        \n...                                                 ...                        \n2989                                              144.0                        \n2990                                              162.0                        \n2991                                              180.0                        \n2992                                              194.0                        \n2993                                              195.0                        \n\n      bg_value__agg_linear_trend__attr_\"intercept\"__chunk_len_5__f_agg_\"mean\"  \\\n0                                                 107.0                         \n1                                                 112.2                         \n2                                                 119.6                         \n3                                                 127.2                         \n4                                                 132.8                         \n...                                                 ...                         \n2989                                              175.6                         \n2990                                              185.8                         \n2991                                              192.8                         \n2992                                              197.8                         \n2993                                              201.0                         \n\n      bg_value__agg_linear_trend__attr_\"intercept\"__chunk_len_5__f_agg_\"var\"  \\\n0                                                 64.00                        \n1                                                109.76                        \n2                                                118.64                        \n3                                                112.56                        \n4                                                 67.76                        \n...                                                 ...                        \n2989                                             408.64                        \n2990                                             180.16                        \n2991                                              42.96                        \n2992                                              14.96                        \n2993                                              31.60                        \n\n      bg_value__agg_linear_trend__attr_\"intercept\"__chunk_len_10__f_agg_\"max\"  \\\n0                                                   NaN                         \n1                                                   NaN                         \n2                                                   NaN                         \n3                                                   NaN                         \n4                                                   NaN                         \n...                                                 ...                         \n2989                                                NaN                         \n2990                                                NaN                         \n2991                                                NaN                         \n2992                                                NaN                         \n2993                                                NaN                         \n\n      bg_value__agg_linear_trend__attr_\"intercept\"__chunk_len_10__f_agg_\"min\"  \\\n0                                                   NaN                         \n1                                                   NaN                         \n2                                                   NaN                         \n3                                                   NaN                         \n4                                                   NaN                         \n...                                                 ...                         \n2989                                                NaN                         \n2990                                                NaN                         \n2991                                                NaN                         \n2992                                                NaN                         \n2993                                                NaN                         \n\n      bg_value__agg_linear_trend__attr_\"intercept\"__chunk_len_10__f_agg_\"mean\"  \\\n0                                                   NaN                          \n1                                                   NaN                          \n2                                                   NaN                          \n3                                                   NaN                          \n4                                                   NaN                          \n...                                                 ...                          \n2989                                                NaN                          \n2990                                                NaN                          \n2991                                                NaN                          \n2992                                                NaN                          \n2993                                                NaN                          \n\n      bg_value__agg_linear_trend__attr_\"intercept\"__chunk_len_10__f_agg_\"var\"  \\\n0                                                   NaN                         \n1                                                   NaN                         \n2                                                   NaN                         \n3                                                   NaN                         \n4                                                   NaN                         \n...                                                 ...                         \n2989                                                NaN                         \n2990                                                NaN                         \n2991                                                NaN                         \n2992                                                NaN                         \n2993                                                NaN                         \n\n      bg_value__agg_linear_trend__attr_\"intercept\"__chunk_len_50__f_agg_\"max\"  \\\n0                                                   NaN                         \n1                                                   NaN                         \n2                                                   NaN                         \n3                                                   NaN                         \n4                                                   NaN                         \n...                                                 ...                         \n2989                                                NaN                         \n2990                                                NaN                         \n2991                                                NaN                         \n2992                                                NaN                         \n2993                                                NaN                         \n\n      bg_value__agg_linear_trend__attr_\"intercept\"__chunk_len_50__f_agg_\"min\"  \\\n0                                                   NaN                         \n1                                                   NaN                         \n2                                                   NaN                         \n3                                                   NaN                         \n4                                                   NaN                         \n...                                                 ...                         \n2989                                                NaN                         \n2990                                                NaN                         \n2991                                                NaN                         \n2992                                                NaN                         \n2993                                                NaN                         \n\n      bg_value__agg_linear_trend__attr_\"intercept\"__chunk_len_50__f_agg_\"mean\"  \\\n0                                                   NaN                          \n1                                                   NaN                          \n2                                                   NaN                          \n3                                                   NaN                          \n4                                                   NaN                          \n...                                                 ...                          \n2989                                                NaN                          \n2990                                                NaN                          \n2991                                                NaN                          \n2992                                                NaN                          \n2993                                                NaN                          \n\n      bg_value__agg_linear_trend__attr_\"intercept\"__chunk_len_50__f_agg_\"var\"  \\\n0                                                   NaN                         \n1                                                   NaN                         \n2                                                   NaN                         \n3                                                   NaN                         \n4                                                   NaN                         \n...                                                 ...                         \n2989                                                NaN                         \n2990                                                NaN                         \n2991                                                NaN                         \n2992                                                NaN                         \n2993                                                NaN                         \n\n      bg_value__agg_linear_trend__attr_\"slope\"__chunk_len_5__f_agg_\"max\"  \\\n0                                                   7.0                    \n1                                                   8.0                    \n2                                                   7.0                    \n3                                                  -2.0                    \n4                                                   3.0                    \n...                                                 ...                    \n2989                                               -3.0                    \n2990                                               -1.0                    \n2991                                                7.0                    \n2992                                                5.0                    \n2993                                                2.0                    \n\n      bg_value__agg_linear_trend__attr_\"slope\"__chunk_len_5__f_agg_\"min\"  \\\n0                                                  29.0                    \n1                                                  37.0                    \n2                                                  38.0                    \n3                                                  28.0                    \n4                                                  25.0                    \n...                                                 ...                    \n2989                                               51.0                    \n2990                                               35.0                    \n2991                                               25.0                    \n2992                                               16.0                    \n2993                                               17.0                    \n\n      bg_value__agg_linear_trend__attr_\"slope\"__chunk_len_5__f_agg_\"mean\"  \\\n0                                                  20.0                     \n1                                                  22.8                     \n2                                                  22.4                     \n3                                                  12.8                     \n4                                                  12.2                     \n...                                                 ...                     \n2989                                               19.4                     \n2990                                               11.2                     \n2991                                               12.2                     \n2992                                               12.2                     \n2993                                               11.0                     \n\n      bg_value__agg_linear_trend__attr_\"slope\"__chunk_len_5__f_agg_\"var\"  \\\n0                                                -64.00                    \n1                                               -109.76                    \n2                                               -118.64                    \n3                                               -112.56                    \n4                                                -67.76                    \n...                                                 ...                    \n2989                                            -408.64                    \n2990                                            -180.16                    \n2991                                             -42.96                    \n2992                                             -14.96                    \n2993                                             -31.60                    \n\n      bg_value__agg_linear_trend__attr_\"slope\"__chunk_len_10__f_agg_\"max\"  \\\n0                                                   NaN                     \n1                                                   NaN                     \n2                                                   NaN                     \n3                                                   NaN                     \n4                                                   NaN                     \n...                                                 ...                     \n2989                                                NaN                     \n2990                                                NaN                     \n2991                                                NaN                     \n2992                                                NaN                     \n2993                                                NaN                     \n\n      bg_value__agg_linear_trend__attr_\"slope\"__chunk_len_10__f_agg_\"min\"  \\\n0                                                   NaN                     \n1                                                   NaN                     \n2                                                   NaN                     \n3                                                   NaN                     \n4                                                   NaN                     \n...                                                 ...                     \n2989                                                NaN                     \n2990                                                NaN                     \n2991                                                NaN                     \n2992                                                NaN                     \n2993                                                NaN                     \n\n      bg_value__agg_linear_trend__attr_\"slope\"__chunk_len_10__f_agg_\"mean\"  \\\n0                                                   NaN                      \n1                                                   NaN                      \n2                                                   NaN                      \n3                                                   NaN                      \n4                                                   NaN                      \n...                                                 ...                      \n2989                                                NaN                      \n2990                                                NaN                      \n2991                                                NaN                      \n2992                                                NaN                      \n2993                                                NaN                      \n\n      bg_value__agg_linear_trend__attr_\"slope\"__chunk_len_10__f_agg_\"var\"  \\\n0                                                   NaN                     \n1                                                   NaN                     \n2                                                   NaN                     \n3                                                   NaN                     \n4                                                   NaN                     \n...                                                 ...                     \n2989                                                NaN                     \n2990                                                NaN                     \n2991                                                NaN                     \n2992                                                NaN                     \n2993                                                NaN                     \n\n      bg_value__agg_linear_trend__attr_\"slope\"__chunk_len_50__f_agg_\"max\"  \\\n0                                                   NaN                     \n1                                                   NaN                     \n2                                                   NaN                     \n3                                                   NaN                     \n4                                                   NaN                     \n...                                                 ...                     \n2989                                                NaN                     \n2990                                                NaN                     \n2991                                                NaN                     \n2992                                                NaN                     \n2993                                                NaN                     \n\n      bg_value__agg_linear_trend__attr_\"slope\"__chunk_len_50__f_agg_\"min\"  \\\n0                                                   NaN                     \n1                                                   NaN                     \n2                                                   NaN                     \n3                                                   NaN                     \n4                                                   NaN                     \n...                                                 ...                     \n2989                                                NaN                     \n2990                                                NaN                     \n2991                                                NaN                     \n2992                                                NaN                     \n2993                                                NaN                     \n\n      bg_value__agg_linear_trend__attr_\"slope\"__chunk_len_50__f_agg_\"mean\"  \\\n0                                                   NaN                      \n1                                                   NaN                      \n2                                                   NaN                      \n3                                                   NaN                      \n4                                                   NaN                      \n...                                                 ...                      \n2989                                                NaN                      \n2990                                                NaN                      \n2991                                                NaN                      \n2992                                                NaN                      \n2993                                                NaN                      \n\n      bg_value__agg_linear_trend__attr_\"slope\"__chunk_len_50__f_agg_\"var\"  \\\n0                                                   NaN                     \n1                                                   NaN                     \n2                                                   NaN                     \n3                                                   NaN                     \n4                                                   NaN                     \n...                                                 ...                     \n2989                                                NaN                     \n2990                                                NaN                     \n2991                                                NaN                     \n2992                                                NaN                     \n2993                                                NaN                     \n\n      bg_value__agg_linear_trend__attr_\"stderr\"__chunk_len_5__f_agg_\"max\"  \\\n0                                                   0.0                     \n1                                                   0.0                     \n2                                                   0.0                     \n3                                                   0.0                     \n4                                                   0.0                     \n...                                                 ...                     \n2989                                                0.0                     \n2990                                                0.0                     \n2991                                                0.0                     \n2992                                                0.0                     \n2993                                                0.0                     \n\n      bg_value__agg_linear_trend__attr_\"stderr\"__chunk_len_5__f_agg_\"min\"  \\\n0                                                   0.0                     \n1                                                   0.0                     \n2                                                   0.0                     \n3                                                   0.0                     \n4                                                   0.0                     \n...                                                 ...                     \n2989                                                0.0                     \n2990                                                0.0                     \n2991                                                0.0                     \n2992                                                0.0                     \n2993                                                0.0                     \n\n      bg_value__agg_linear_trend__attr_\"stderr\"__chunk_len_5__f_agg_\"mean\"  \\\n0                                                   0.0                      \n1                                                   0.0                      \n2                                                   0.0                      \n3                                                   0.0                      \n4                                                   0.0                      \n...                                                 ...                      \n2989                                                0.0                      \n2990                                                0.0                      \n2991                                                0.0                      \n2992                                                0.0                      \n2993                                                0.0                      \n\n      bg_value__agg_linear_trend__attr_\"stderr\"__chunk_len_5__f_agg_\"var\"  \\\n0                                                   0.0                     \n1                                                   0.0                     \n2                                                   0.0                     \n3                                                   0.0                     \n4                                                   0.0                     \n...                                                 ...                     \n2989                                                0.0                     \n2990                                                0.0                     \n2991                                                0.0                     \n2992                                                0.0                     \n2993                                                0.0                     \n\n      bg_value__agg_linear_trend__attr_\"stderr\"__chunk_len_10__f_agg_\"max\"  \\\n0                                                   NaN                      \n1                                                   NaN                      \n2                                                   NaN                      \n3                                                   NaN                      \n4                                                   NaN                      \n...                                                 ...                      \n2989                                                NaN                      \n2990                                                NaN                      \n2991                                                NaN                      \n2992                                                NaN                      \n2993                                                NaN                      \n\n      bg_value__agg_linear_trend__attr_\"stderr\"__chunk_len_10__f_agg_\"min\"  \\\n0                                                   NaN                      \n1                                                   NaN                      \n2                                                   NaN                      \n3                                                   NaN                      \n4                                                   NaN                      \n...                                                 ...                      \n2989                                                NaN                      \n2990                                                NaN                      \n2991                                                NaN                      \n2992                                                NaN                      \n2993                                                NaN                      \n\n      bg_value__agg_linear_trend__attr_\"stderr\"__chunk_len_10__f_agg_\"mean\"  \\\n0                                                   NaN                       \n1                                                   NaN                       \n2                                                   NaN                       \n3                                                   NaN                       \n4                                                   NaN                       \n...                                                 ...                       \n2989                                                NaN                       \n2990                                                NaN                       \n2991                                                NaN                       \n2992                                                NaN                       \n2993                                                NaN                       \n\n      bg_value__agg_linear_trend__attr_\"stderr\"__chunk_len_10__f_agg_\"var\"  \\\n0                                                   NaN                      \n1                                                   NaN                      \n2                                                   NaN                      \n3                                                   NaN                      \n4                                                   NaN                      \n...                                                 ...                      \n2989                                                NaN                      \n2990                                                NaN                      \n2991                                                NaN                      \n2992                                                NaN                      \n2993                                                NaN                      \n\n      bg_value__agg_linear_trend__attr_\"stderr\"__chunk_len_50__f_agg_\"max\"  \\\n0                                                   NaN                      \n1                                                   NaN                      \n2                                                   NaN                      \n3                                                   NaN                      \n4                                                   NaN                      \n...                                                 ...                      \n2989                                                NaN                      \n2990                                                NaN                      \n2991                                                NaN                      \n2992                                                NaN                      \n2993                                                NaN                      \n\n      bg_value__agg_linear_trend__attr_\"stderr\"__chunk_len_50__f_agg_\"min\"  \\\n0                                                   NaN                      \n1                                                   NaN                      \n2                                                   NaN                      \n3                                                   NaN                      \n4                                                   NaN                      \n...                                                 ...                      \n2989                                                NaN                      \n2990                                                NaN                      \n2991                                                NaN                      \n2992                                                NaN                      \n2993                                                NaN                      \n\n      bg_value__agg_linear_trend__attr_\"stderr\"__chunk_len_50__f_agg_\"mean\"  \\\n0                                                   NaN                       \n1                                                   NaN                       \n2                                                   NaN                       \n3                                                   NaN                       \n4                                                   NaN                       \n...                                                 ...                       \n2989                                                NaN                       \n2990                                                NaN                       \n2991                                                NaN                       \n2992                                                NaN                       \n2993                                                NaN                       \n\n      bg_value__agg_linear_trend__attr_\"stderr\"__chunk_len_50__f_agg_\"var\"  \\\n0                                                   NaN                      \n1                                                   NaN                      \n2                                                   NaN                      \n3                                                   NaN                      \n4                                                   NaN                      \n...                                                 ...                      \n2989                                                NaN                      \n2990                                                NaN                      \n2991                                                NaN                      \n2992                                                NaN                      \n2993                                                NaN                      \n\n      bg_value__augmented_dickey_fuller__attr_\"teststat\"__autolag_\"AIC\"  \\\n0                                             -5.802731                   \n1                                              0.977706                   \n2                                             -1.193191                   \n3                                             -1.861625                   \n4                                             -1.645681                   \n...                                                 ...                   \n2989                                          -3.180283                   \n2990                                          -5.050477                   \n2991                                          -2.391088                   \n2992                                           0.202291                   \n2993                                          -1.433850                   \n\n      bg_value__augmented_dickey_fuller__attr_\"pvalue\"__autolag_\"AIC\"  \\\n0                                          4.590802e-07                 \n1                                          9.940251e-01                 \n2                                          6.765181e-01                 \n3                                          3.503234e-01                 \n4                                          4.592939e-01                 \n...                                                 ...                 \n2989                                       2.115474e-02                 \n2990                                       1.761620e-05                 \n2991                                       1.442675e-01                 \n2992                                       9.723898e-01                 \n2993                                       5.659450e-01                 \n\n      bg_value__augmented_dickey_fuller__attr_\"usedlag\"__autolag_\"AIC\"  \\\n0                                                   1.0                  \n1                                                   0.0                  \n2                                                   1.0                  \n3                                                   0.0                  \n4                                                   0.0                  \n...                                                 ...                  \n2989                                                1.0                  \n2990                                                0.0                  \n2991                                                0.0                  \n2992                                                0.0                  \n2993                                                1.0                  \n\n      bg_value__number_crossing_m__m_0  bg_value__number_crossing_m__m_-1  \\\n0                                  0.0                                0.0   \n1                                  0.0                                0.0   \n2                                  0.0                                0.0   \n3                                  0.0                                0.0   \n4                                  0.0                                0.0   \n...                                ...                                ...   \n2989                               0.0                                0.0   \n2990                               0.0                                0.0   \n2991                               0.0                                0.0   \n2992                               0.0                                0.0   \n2993                               0.0                                0.0   \n\n      bg_value__number_crossing_m__m_1  \\\n0                                  0.0   \n1                                  0.0   \n2                                  0.0   \n3                                  0.0   \n4                                  0.0   \n...                                ...   \n2989                               0.0   \n2990                               0.0   \n2991                               0.0   \n2992                               0.0   \n2993                               0.0   \n\n      bg_value__energy_ratio_by_chunks__num_segments_10__segment_focus_0  \\\n0                                              0.138424                    \n1                                              0.117526                    \n2                                              0.117211                    \n3                                              0.124122                    \n4                                              0.131455                    \n...                                                 ...                    \n2989                                           0.106752                    \n2990                                           0.123607                    \n2991                                           0.142044                    \n2992                                           0.156948                    \n2993                                           0.158652                    \n\n      bg_value__energy_ratio_by_chunks__num_segments_10__segment_focus_1  \\\n0                                              0.130323                    \n1                                              0.132358                    \n2                                              0.135937                    \n3                                              0.142487                    \n4                                              0.147239                    \n...                                                 ...                    \n2989                                           0.135108                    \n2990                                           0.152601                    \n2991                                           0.164999                    \n2992                                           0.163487                    \n2993                                           0.153881                    \n\n      bg_value__energy_ratio_by_chunks__num_segments_10__segment_focus_2  \\\n0                                              0.146769                    \n1                                              0.153504                    \n2                                              0.156050                    \n3                                              0.159595                    \n4                                              0.166373                    \n...                                                 ...                    \n2989                                           0.166800                    \n2990                                           0.177262                    \n2991                                           0.171873                    \n2992                                           0.158570                    \n2993                                           0.157053                    \n\n      bg_value__energy_ratio_by_chunks__num_segments_10__segment_focus_3  \\\n0                                              0.170217                    \n1                                              0.176216                    \n2                                              0.174787                    \n3                                              0.180335                    \n4                                              0.184074                    \n...                                                 ...                    \n2989                                           0.193755                    \n2990                                           0.184648                    \n2991                                           0.166704                    \n2992                                           0.161840                    \n2993                                           0.170068                    \n\n      bg_value__energy_ratio_by_chunks__num_segments_10__segment_focus_4  \\\n0                                              0.195403                    \n1                                              0.197374                    \n2                                              0.197501                    \n3                                              0.199521                    \n4                                              0.178925                    \n...                                                 ...                    \n2989                                           0.201828                    \n2990                                           0.179095                    \n2991                                           0.170141                    \n2992                                           0.175251                    \n2993                                           0.178465                    \n\n      bg_value__energy_ratio_by_chunks__num_segments_10__segment_focus_5  \\\n0                                              0.218864                    \n1                                              0.223023                    \n2                                              0.218514                    \n3                                              0.193940                    \n4                                              0.191934                    \n...                                                 ...                    \n2989                                           0.195758                    \n2990                                           0.182787                    \n2991                                           0.184240                    \n2992                                           0.183904                    \n2993                                           0.181881                    \n\n      bg_value__energy_ratio_by_chunks__num_segments_10__segment_focus_6  \\\n0                                                   0.0                    \n1                                                   0.0                    \n2                                                   0.0                    \n3                                                   0.0                    \n4                                                   0.0                    \n...                                                 ...                    \n2989                                                0.0                    \n2990                                                0.0                    \n2991                                                0.0                    \n2992                                                0.0                    \n2993                                                0.0                    \n\n      bg_value__energy_ratio_by_chunks__num_segments_10__segment_focus_7  \\\n0                                                   0.0                    \n1                                                   0.0                    \n2                                                   0.0                    \n3                                                   0.0                    \n4                                                   0.0                    \n...                                                 ...                    \n2989                                                0.0                    \n2990                                                0.0                    \n2991                                                0.0                    \n2992                                                0.0                    \n2993                                                0.0                    \n\n      bg_value__energy_ratio_by_chunks__num_segments_10__segment_focus_8  \\\n0                                                   0.0                    \n1                                                   0.0                    \n2                                                   0.0                    \n3                                                   0.0                    \n4                                                   0.0                    \n...                                                 ...                    \n2989                                                0.0                    \n2990                                                0.0                    \n2991                                                0.0                    \n2992                                                0.0                    \n2993                                                0.0                    \n\n      bg_value__energy_ratio_by_chunks__num_segments_10__segment_focus_9  \\\n0                                                   0.0                    \n1                                                   0.0                    \n2                                                   0.0                    \n3                                                   0.0                    \n4                                                   0.0                    \n...                                                 ...                    \n2989                                                0.0                    \n2990                                                0.0                    \n2991                                                0.0                    \n2992                                                0.0                    \n2993                                                0.0                    \n\n      bg_value__ratio_beyond_r_sigma__r_0.5  \\\n0                                  0.833333   \n1                                  0.666667   \n2                                  0.666667   \n3                                  0.833333   \n4                                  0.833333   \n...                                     ...   \n2989                               0.833333   \n2990                               0.833333   \n2991                               0.333333   \n2992                               0.666667   \n2993                               0.833333   \n\n      bg_value__ratio_beyond_r_sigma__r_1  \\\n0                                0.333333   \n1                                0.333333   \n2                                0.333333   \n3                                0.333333   \n4                                0.333333   \n...                                   ...   \n2989                             0.166667   \n2990                             0.166667   \n2991                             0.333333   \n2992                             0.333333   \n2993                             0.500000   \n\n      bg_value__ratio_beyond_r_sigma__r_1.5  \\\n0                                  0.166667   \n1                                  0.000000   \n2                                  0.000000   \n3                                  0.166667   \n4                                  0.166667   \n...                                     ...   \n2989                               0.166667   \n2990                               0.166667   \n2991                               0.166667   \n2992                               0.166667   \n2993                               0.000000   \n\n      bg_value__ratio_beyond_r_sigma__r_2  \\\n0                                     0.0   \n1                                     0.0   \n2                                     0.0   \n3                                     0.0   \n4                                     0.0   \n...                                   ...   \n2989                                  0.0   \n2990                                  0.0   \n2991                                  0.0   \n2992                                  0.0   \n2993                                  0.0   \n\n      bg_value__ratio_beyond_r_sigma__r_2.5  \\\n0                                       0.0   \n1                                       0.0   \n2                                       0.0   \n3                                       0.0   \n4                                       0.0   \n...                                     ...   \n2989                                    0.0   \n2990                                    0.0   \n2991                                    0.0   \n2992                                    0.0   \n2993                                    0.0   \n\n      bg_value__ratio_beyond_r_sigma__r_3  \\\n0                                     0.0   \n1                                     0.0   \n2                                     0.0   \n3                                     0.0   \n4                                     0.0   \n...                                   ...   \n2989                                  0.0   \n2990                                  0.0   \n2991                                  0.0   \n2992                                  0.0   \n2993                                  0.0   \n\n      bg_value__ratio_beyond_r_sigma__r_5  \\\n0                                     0.0   \n1                                     0.0   \n2                                     0.0   \n3                                     0.0   \n4                                     0.0   \n...                                   ...   \n2989                                  0.0   \n2990                                  0.0   \n2991                                  0.0   \n2992                                  0.0   \n2993                                  0.0   \n\n      bg_value__ratio_beyond_r_sigma__r_6  \\\n0                                     0.0   \n1                                     0.0   \n2                                     0.0   \n3                                     0.0   \n4                                     0.0   \n...                                   ...   \n2989                                  0.0   \n2990                                  0.0   \n2991                                  0.0   \n2992                                  0.0   \n2993                                  0.0   \n\n      bg_value__ratio_beyond_r_sigma__r_7  \\\n0                                     0.0   \n1                                     0.0   \n2                                     0.0   \n3                                     0.0   \n4                                     0.0   \n...                                   ...   \n2989                                  0.0   \n2990                                  0.0   \n2991                                  0.0   \n2992                                  0.0   \n2993                                  0.0   \n\n      bg_value__ratio_beyond_r_sigma__r_10  bg_value__count_above__t_0  \\\n0                                      0.0                         1.0   \n1                                      0.0                         1.0   \n2                                      0.0                         1.0   \n3                                      0.0                         1.0   \n4                                      0.0                         1.0   \n...                                    ...                         ...   \n2989                                   0.0                         1.0   \n2990                                   0.0                         1.0   \n2991                                   0.0                         1.0   \n2992                                   0.0                         1.0   \n2993                                   0.0                         1.0   \n\n      bg_value__count_below__t_0  bg_value__lempel_ziv_complexity__bins_2  \\\n0                            0.0                                      0.5   \n1                            0.0                                      0.5   \n2                            0.0                                      0.5   \n3                            0.0                                      0.5   \n4                            0.0                                      0.5   \n...                          ...                                      ...   \n2989                         0.0                                      0.5   \n2990                         0.0                                      0.5   \n2991                         0.0                                      0.5   \n2992                         0.0                                      0.5   \n2993                         0.0                                      0.5   \n\n      bg_value__lempel_ziv_complexity__bins_3  \\\n0                                    0.666667   \n1                                    0.666667   \n2                                    0.666667   \n3                                    0.666667   \n4                                    0.666667   \n...                                       ...   \n2989                                 0.666667   \n2990                                 0.666667   \n2991                                 0.500000   \n2992                                 0.666667   \n2993                                 0.666667   \n\n      bg_value__lempel_ziv_complexity__bins_5  \\\n0                                    0.666667   \n1                                    0.833333   \n2                                    0.833333   \n3                                    0.666667   \n4                                    0.833333   \n...                                       ...   \n2989                                 0.833333   \n2990                                 0.666667   \n2991                                 0.666667   \n2992                                 0.833333   \n2993                                 0.666667   \n\n      bg_value__lempel_ziv_complexity__bins_10  \\\n0                                     1.000000   \n1                                     1.000000   \n2                                     1.000000   \n3                                     0.833333   \n4                                     0.833333   \n...                                        ...   \n2989                                  0.833333   \n2990                                  0.833333   \n2991                                  0.833333   \n2992                                  1.000000   \n2993                                  0.833333   \n\n      bg_value__lempel_ziv_complexity__bins_100  \\\n0                                           1.0   \n1                                           1.0   \n2                                           1.0   \n3                                           1.0   \n4                                           1.0   \n...                                         ...   \n2989                                        1.0   \n2990                                        1.0   \n2991                                        1.0   \n2992                                        1.0   \n2993                                        1.0   \n\n      bg_value__fourier_entropy__bins_2  bg_value__fourier_entropy__bins_3  \\\n0                              0.562335                           0.562335   \n1                              0.562335                           0.562335   \n2                              0.562335                           0.562335   \n3                              0.562335                           0.562335   \n4                              0.693147                           1.039721   \n...                                 ...                                ...   \n2989                           0.693147                           1.039721   \n2990                           0.693147                           0.693147   \n2991                           0.693147                           0.693147   \n2992                           0.562335                           0.562335   \n2993                           0.562335                           0.562335   \n\n      bg_value__fourier_entropy__bins_5  bg_value__fourier_entropy__bins_10  \\\n0                              0.562335                            0.562335   \n1                              0.562335                            1.039721   \n2                              1.039721                            1.039721   \n3                              1.039721                            1.386294   \n4                              1.039721                            1.386294   \n...                                 ...                                 ...   \n2989                           1.039721                            1.039721   \n2990                           0.693147                            1.386294   \n2991                           0.693147                            1.386294   \n2992                           1.039721                            1.039721   \n2993                           0.562335                            1.039721   \n\n      bg_value__fourier_entropy__bins_100  \\\n0                                1.386294   \n1                                1.386294   \n2                                1.386294   \n3                                1.386294   \n4                                1.386294   \n...                                   ...   \n2989                             1.386294   \n2990                             1.386294   \n2991                             1.386294   \n2992                             1.039721   \n2993                             1.386294   \n\n      bg_value__permutation_entropy__dimension_3__tau_1  \\\n0                                              0.562335   \n1                                             -0.000000   \n2                                             -0.000000   \n3                                              0.562335   \n4                                              1.039721   \n...                                                 ...   \n2989                                           0.562335   \n2990                                           1.039721   \n2991                                           1.039721   \n2992                                           1.039721   \n2993                                           0.562335   \n\n      bg_value__permutation_entropy__dimension_4__tau_1  \\\n0                                              0.636514   \n1                                             -0.000000   \n2                                             -0.000000   \n3                                              0.636514   \n4                                              1.098612   \n...                                                 ...   \n2989                                           0.636514   \n2990                                           1.098612   \n2991                                           1.098612   \n2992                                           1.098612   \n2993                                           0.636514   \n\n      bg_value__permutation_entropy__dimension_5__tau_1  \\\n0                                              0.693147   \n1                                             -0.000000   \n2                                             -0.000000   \n3                                              0.693147   \n4                                              0.693147   \n...                                                 ...   \n2989                                           0.693147   \n2990                                           0.693147   \n2991                                           0.693147   \n2992                                           0.693147   \n2993                                           0.693147   \n\n      bg_value__permutation_entropy__dimension_6__tau_1  \\\n0                                                  -0.0   \n1                                                  -0.0   \n2                                                  -0.0   \n3                                                  -0.0   \n4                                                  -0.0   \n...                                                 ...   \n2989                                               -0.0   \n2990                                               -0.0   \n2991                                               -0.0   \n2992                                               -0.0   \n2993                                               -0.0   \n\n      bg_value__permutation_entropy__dimension_7__tau_1  \\\n0                                                   NaN   \n1                                                   NaN   \n2                                                   NaN   \n3                                                   NaN   \n4                                                   NaN   \n...                                                 ...   \n2989                                                NaN   \n2990                                                NaN   \n2991                                                NaN   \n2992                                                NaN   \n2993                                                NaN   \n\n      bg_value__query_similarity_count__query_None__threshold_0.0  \\\n0                                                   NaN             \n1                                                   NaN             \n2                                                   NaN             \n3                                                   NaN             \n4                                                   NaN             \n...                                                 ...             \n2989                                                NaN             \n2990                                                NaN             \n2991                                                NaN             \n2992                                                NaN             \n2993                                                NaN             \n\n      bg_value__matrix_profile__feature_\"min\"__threshold_0.98  \\\n0                                                   NaN         \n1                                                   NaN         \n2                                                   NaN         \n3                                                   NaN         \n4                                                   NaN         \n...                                                 ...         \n2989                                                NaN         \n2990                                                NaN         \n2991                                                NaN         \n2992                                                NaN         \n2993                                                NaN         \n\n      bg_value__matrix_profile__feature_\"max\"__threshold_0.98  \\\n0                                                   NaN         \n1                                                   NaN         \n2                                                   NaN         \n3                                                   NaN         \n4                                                   NaN         \n...                                                 ...         \n2989                                                NaN         \n2990                                                NaN         \n2991                                                NaN         \n2992                                                NaN         \n2993                                                NaN         \n\n      bg_value__matrix_profile__feature_\"mean\"__threshold_0.98  \\\n0                                                   NaN          \n1                                                   NaN          \n2                                                   NaN          \n3                                                   NaN          \n4                                                   NaN          \n...                                                 ...          \n2989                                                NaN          \n2990                                                NaN          \n2991                                                NaN          \n2992                                                NaN          \n2993                                                NaN          \n\n      bg_value__matrix_profile__feature_\"median\"__threshold_0.98  \\\n0                                                   NaN            \n1                                                   NaN            \n2                                                   NaN            \n3                                                   NaN            \n4                                                   NaN            \n...                                                 ...            \n2989                                                NaN            \n2990                                                NaN            \n2991                                                NaN            \n2992                                                NaN            \n2993                                                NaN            \n\n      bg_value__matrix_profile__feature_\"25\"__threshold_0.98  \\\n0                                                   NaN        \n1                                                   NaN        \n2                                                   NaN        \n3                                                   NaN        \n4                                                   NaN        \n...                                                 ...        \n2989                                                NaN        \n2990                                                NaN        \n2991                                                NaN        \n2992                                                NaN        \n2993                                                NaN        \n\n      bg_value__matrix_profile__feature_\"75\"__threshold_0.98  label  \n0                                                   NaN         135  \n1                                                   NaN         142  \n2                                                   NaN         140  \n3                                                   NaN         145  \n4                                                   NaN         148  \n...                                                 ...         ...  \n2989                                                NaN         197  \n2990                                                NaN         205  \n2991                                                NaN         210  \n2992                                                NaN         212  \n2993                                                NaN         215  \n\n[2994 rows x 788 columns]",
      "text/html": "<div>\n<style scoped>\n    .dataframe tbody tr th:only-of-type {\n        vertical-align: middle;\n    }\n\n    .dataframe tbody tr th {\n        vertical-align: top;\n    }\n\n    .dataframe thead th {\n        text-align: right;\n    }\n</style>\n<table border=\"1\" class=\"dataframe\">\n  <thead>\n    <tr style=\"text-align: right;\">\n      <th></th>\n      <th>bg_value__variance_larger_than_standard_deviation</th>\n      <th>bg_value__has_duplicate_max</th>\n      <th>bg_value__has_duplicate_min</th>\n      <th>bg_value__has_duplicate</th>\n      <th>bg_value__sum_values</th>\n      <th>bg_value__abs_energy</th>\n      <th>bg_value__mean_abs_change</th>\n      <th>bg_value__mean_change</th>\n      <th>bg_value__mean_second_derivative_central</th>\n      <th>bg_value__median</th>\n      <th>bg_value__mean</th>\n      <th>bg_value__length</th>\n      <th>bg_value__standard_deviation</th>\n      <th>bg_value__variation_coefficient</th>\n      <th>bg_value__variance</th>\n      <th>bg_value__skewness</th>\n      <th>bg_value__kurtosis</th>\n      <th>bg_value__root_mean_square</th>\n      <th>bg_value__absolute_sum_of_changes</th>\n      <th>bg_value__longest_strike_below_mean</th>\n      <th>bg_value__longest_strike_above_mean</th>\n      <th>bg_value__count_above_mean</th>\n      <th>bg_value__count_below_mean</th>\n      <th>bg_value__last_location_of_maximum</th>\n      <th>bg_value__first_location_of_maximum</th>\n      <th>bg_value__last_location_of_minimum</th>\n      <th>bg_value__first_location_of_minimum</th>\n      <th>bg_value__percentage_of_reoccurring_values_to_all_values</th>\n      <th>bg_value__percentage_of_reoccurring_datapoints_to_all_datapoints</th>\n      <th>bg_value__sum_of_reoccurring_values</th>\n      <th>bg_value__sum_of_reoccurring_data_points</th>\n      <th>bg_value__ratio_value_number_to_time_series_length</th>\n      <th>bg_value__sample_entropy</th>\n      <th>bg_value__maximum</th>\n      <th>bg_value__minimum</th>\n      <th>bg_value__benford_correlation</th>\n      <th>bg_value__time_reversal_asymmetry_statistic__lag_1</th>\n      <th>bg_value__time_reversal_asymmetry_statistic__lag_2</th>\n      <th>bg_value__time_reversal_asymmetry_statistic__lag_3</th>\n      <th>bg_value__c3__lag_1</th>\n      <th>bg_value__c3__lag_2</th>\n      <th>bg_value__c3__lag_3</th>\n      <th>bg_value__cid_ce__normalize_True</th>\n      <th>bg_value__cid_ce__normalize_False</th>\n      <th>bg_value__symmetry_looking__r_0.0</th>\n      <th>bg_value__symmetry_looking__r_0.05</th>\n      <th>bg_value__symmetry_looking__r_0.1</th>\n      <th>bg_value__symmetry_looking__r_0.15000000000000002</th>\n      <th>bg_value__symmetry_looking__r_0.2</th>\n      <th>bg_value__symmetry_looking__r_0.25</th>\n      <th>bg_value__symmetry_looking__r_0.30000000000000004</th>\n      <th>bg_value__symmetry_looking__r_0.35000000000000003</th>\n      <th>bg_value__symmetry_looking__r_0.4</th>\n      <th>bg_value__symmetry_looking__r_0.45</th>\n      <th>bg_value__symmetry_looking__r_0.5</th>\n      <th>bg_value__symmetry_looking__r_0.55</th>\n      <th>bg_value__symmetry_looking__r_0.6000000000000001</th>\n      <th>bg_value__symmetry_looking__r_0.65</th>\n      <th>bg_value__symmetry_looking__r_0.7000000000000001</th>\n      <th>bg_value__symmetry_looking__r_0.75</th>\n      <th>bg_value__symmetry_looking__r_0.8</th>\n      <th>bg_value__symmetry_looking__r_0.8500000000000001</th>\n      <th>bg_value__symmetry_looking__r_0.9</th>\n      <th>bg_value__symmetry_looking__r_0.9500000000000001</th>\n      <th>bg_value__large_standard_deviation__r_0.05</th>\n      <th>bg_value__large_standard_deviation__r_0.1</th>\n      <th>bg_value__large_standard_deviation__r_0.15000000000000002</th>\n      <th>bg_value__large_standard_deviation__r_0.2</th>\n      <th>bg_value__large_standard_deviation__r_0.25</th>\n      <th>bg_value__large_standard_deviation__r_0.30000000000000004</th>\n      <th>bg_value__large_standard_deviation__r_0.35000000000000003</th>\n      <th>bg_value__large_standard_deviation__r_0.4</th>\n      <th>bg_value__large_standard_deviation__r_0.45</th>\n      <th>bg_value__large_standard_deviation__r_0.5</th>\n      <th>bg_value__large_standard_deviation__r_0.55</th>\n      <th>bg_value__large_standard_deviation__r_0.6000000000000001</th>\n      <th>bg_value__large_standard_deviation__r_0.65</th>\n      <th>bg_value__large_standard_deviation__r_0.7000000000000001</th>\n      <th>bg_value__large_standard_deviation__r_0.75</th>\n      <th>bg_value__large_standard_deviation__r_0.8</th>\n      <th>bg_value__large_standard_deviation__r_0.8500000000000001</th>\n      <th>bg_value__large_standard_deviation__r_0.9</th>\n      <th>bg_value__large_standard_deviation__r_0.9500000000000001</th>\n      <th>bg_value__quantile__q_0.1</th>\n      <th>bg_value__quantile__q_0.2</th>\n      <th>bg_value__quantile__q_0.3</th>\n      <th>bg_value__quantile__q_0.4</th>\n      <th>bg_value__quantile__q_0.6</th>\n      <th>bg_value__quantile__q_0.7</th>\n      <th>bg_value__quantile__q_0.8</th>\n      <th>bg_value__quantile__q_0.9</th>\n      <th>bg_value__autocorrelation__lag_0</th>\n      <th>bg_value__autocorrelation__lag_1</th>\n      <th>bg_value__autocorrelation__lag_2</th>\n      <th>bg_value__autocorrelation__lag_3</th>\n      <th>bg_value__autocorrelation__lag_4</th>\n      <th>bg_value__autocorrelation__lag_5</th>\n      <th>bg_value__autocorrelation__lag_6</th>\n      <th>bg_value__autocorrelation__lag_7</th>\n      <th>bg_value__autocorrelation__lag_8</th>\n      <th>bg_value__autocorrelation__lag_9</th>\n      <th>bg_value__agg_autocorrelation__f_agg_\"mean\"__maxlag_40</th>\n      <th>bg_value__agg_autocorrelation__f_agg_\"median\"__maxlag_40</th>\n      <th>bg_value__agg_autocorrelation__f_agg_\"var\"__maxlag_40</th>\n      <th>bg_value__partial_autocorrelation__lag_0</th>\n      <th>bg_value__partial_autocorrelation__lag_1</th>\n      <th>bg_value__partial_autocorrelation__lag_2</th>\n      <th>bg_value__partial_autocorrelation__lag_3</th>\n      <th>bg_value__partial_autocorrelation__lag_4</th>\n      <th>bg_value__partial_autocorrelation__lag_5</th>\n      <th>bg_value__partial_autocorrelation__lag_6</th>\n      <th>bg_value__partial_autocorrelation__lag_7</th>\n      <th>bg_value__partial_autocorrelation__lag_8</th>\n      <th>bg_value__partial_autocorrelation__lag_9</th>\n      <th>bg_value__number_cwt_peaks__n_1</th>\n      <th>bg_value__number_cwt_peaks__n_5</th>\n      <th>bg_value__number_peaks__n_1</th>\n      <th>bg_value__number_peaks__n_3</th>\n      <th>bg_value__number_peaks__n_5</th>\n      <th>bg_value__number_peaks__n_10</th>\n      <th>bg_value__number_peaks__n_50</th>\n      <th>bg_value__binned_entropy__max_bins_10</th>\n      <th>bg_value__index_mass_quantile__q_0.1</th>\n      <th>bg_value__index_mass_quantile__q_0.2</th>\n      <th>bg_value__index_mass_quantile__q_0.3</th>\n      <th>bg_value__index_mass_quantile__q_0.4</th>\n      <th>bg_value__index_mass_quantile__q_0.6</th>\n      <th>bg_value__index_mass_quantile__q_0.7</th>\n      <th>bg_value__index_mass_quantile__q_0.8</th>\n      <th>bg_value__index_mass_quantile__q_0.9</th>\n      <th>bg_value__cwt_coefficients__coeff_0__w_2__widths_(2, 5, 10, 20)</th>\n      <th>bg_value__cwt_coefficients__coeff_0__w_5__widths_(2, 5, 10, 20)</th>\n      <th>bg_value__cwt_coefficients__coeff_0__w_10__widths_(2, 5, 10, 20)</th>\n      <th>bg_value__cwt_coefficients__coeff_0__w_20__widths_(2, 5, 10, 20)</th>\n      <th>bg_value__cwt_coefficients__coeff_1__w_2__widths_(2, 5, 10, 20)</th>\n      <th>bg_value__cwt_coefficients__coeff_1__w_5__widths_(2, 5, 10, 20)</th>\n      <th>bg_value__cwt_coefficients__coeff_1__w_10__widths_(2, 5, 10, 20)</th>\n      <th>bg_value__cwt_coefficients__coeff_1__w_20__widths_(2, 5, 10, 20)</th>\n      <th>bg_value__cwt_coefficients__coeff_2__w_2__widths_(2, 5, 10, 20)</th>\n      <th>bg_value__cwt_coefficients__coeff_2__w_5__widths_(2, 5, 10, 20)</th>\n      <th>bg_value__cwt_coefficients__coeff_2__w_10__widths_(2, 5, 10, 20)</th>\n      <th>bg_value__cwt_coefficients__coeff_2__w_20__widths_(2, 5, 10, 20)</th>\n      <th>bg_value__cwt_coefficients__coeff_3__w_2__widths_(2, 5, 10, 20)</th>\n      <th>bg_value__cwt_coefficients__coeff_3__w_5__widths_(2, 5, 10, 20)</th>\n      <th>bg_value__cwt_coefficients__coeff_3__w_10__widths_(2, 5, 10, 20)</th>\n      <th>bg_value__cwt_coefficients__coeff_3__w_20__widths_(2, 5, 10, 20)</th>\n      <th>bg_value__cwt_coefficients__coeff_4__w_2__widths_(2, 5, 10, 20)</th>\n      <th>bg_value__cwt_coefficients__coeff_4__w_5__widths_(2, 5, 10, 20)</th>\n      <th>bg_value__cwt_coefficients__coeff_4__w_10__widths_(2, 5, 10, 20)</th>\n      <th>bg_value__cwt_coefficients__coeff_4__w_20__widths_(2, 5, 10, 20)</th>\n      <th>bg_value__cwt_coefficients__coeff_5__w_2__widths_(2, 5, 10, 20)</th>\n      <th>bg_value__cwt_coefficients__coeff_5__w_5__widths_(2, 5, 10, 20)</th>\n      <th>bg_value__cwt_coefficients__coeff_5__w_10__widths_(2, 5, 10, 20)</th>\n      <th>bg_value__cwt_coefficients__coeff_5__w_20__widths_(2, 5, 10, 20)</th>\n      <th>bg_value__cwt_coefficients__coeff_6__w_2__widths_(2, 5, 10, 20)</th>\n      <th>bg_value__cwt_coefficients__coeff_6__w_5__widths_(2, 5, 10, 20)</th>\n      <th>bg_value__cwt_coefficients__coeff_6__w_10__widths_(2, 5, 10, 20)</th>\n      <th>bg_value__cwt_coefficients__coeff_6__w_20__widths_(2, 5, 10, 20)</th>\n      <th>bg_value__cwt_coefficients__coeff_7__w_2__widths_(2, 5, 10, 20)</th>\n      <th>bg_value__cwt_coefficients__coeff_7__w_5__widths_(2, 5, 10, 20)</th>\n      <th>bg_value__cwt_coefficients__coeff_7__w_10__widths_(2, 5, 10, 20)</th>\n      <th>bg_value__cwt_coefficients__coeff_7__w_20__widths_(2, 5, 10, 20)</th>\n      <th>bg_value__cwt_coefficients__coeff_8__w_2__widths_(2, 5, 10, 20)</th>\n      <th>bg_value__cwt_coefficients__coeff_8__w_5__widths_(2, 5, 10, 20)</th>\n      <th>bg_value__cwt_coefficients__coeff_8__w_10__widths_(2, 5, 10, 20)</th>\n      <th>bg_value__cwt_coefficients__coeff_8__w_20__widths_(2, 5, 10, 20)</th>\n      <th>bg_value__cwt_coefficients__coeff_9__w_2__widths_(2, 5, 10, 20)</th>\n      <th>bg_value__cwt_coefficients__coeff_9__w_5__widths_(2, 5, 10, 20)</th>\n      <th>bg_value__cwt_coefficients__coeff_9__w_10__widths_(2, 5, 10, 20)</th>\n      <th>bg_value__cwt_coefficients__coeff_9__w_20__widths_(2, 5, 10, 20)</th>\n      <th>bg_value__cwt_coefficients__coeff_10__w_2__widths_(2, 5, 10, 20)</th>\n      <th>bg_value__cwt_coefficients__coeff_10__w_5__widths_(2, 5, 10, 20)</th>\n      <th>bg_value__cwt_coefficients__coeff_10__w_10__widths_(2, 5, 10, 20)</th>\n      <th>bg_value__cwt_coefficients__coeff_10__w_20__widths_(2, 5, 10, 20)</th>\n      <th>bg_value__cwt_coefficients__coeff_11__w_2__widths_(2, 5, 10, 20)</th>\n      <th>bg_value__cwt_coefficients__coeff_11__w_5__widths_(2, 5, 10, 20)</th>\n      <th>bg_value__cwt_coefficients__coeff_11__w_10__widths_(2, 5, 10, 20)</th>\n      <th>bg_value__cwt_coefficients__coeff_11__w_20__widths_(2, 5, 10, 20)</th>\n      <th>bg_value__cwt_coefficients__coeff_12__w_2__widths_(2, 5, 10, 20)</th>\n      <th>bg_value__cwt_coefficients__coeff_12__w_5__widths_(2, 5, 10, 20)</th>\n      <th>bg_value__cwt_coefficients__coeff_12__w_10__widths_(2, 5, 10, 20)</th>\n      <th>bg_value__cwt_coefficients__coeff_12__w_20__widths_(2, 5, 10, 20)</th>\n      <th>bg_value__cwt_coefficients__coeff_13__w_2__widths_(2, 5, 10, 20)</th>\n      <th>bg_value__cwt_coefficients__coeff_13__w_5__widths_(2, 5, 10, 20)</th>\n      <th>bg_value__cwt_coefficients__coeff_13__w_10__widths_(2, 5, 10, 20)</th>\n      <th>bg_value__cwt_coefficients__coeff_13__w_20__widths_(2, 5, 10, 20)</th>\n      <th>bg_value__cwt_coefficients__coeff_14__w_2__widths_(2, 5, 10, 20)</th>\n      <th>bg_value__cwt_coefficients__coeff_14__w_5__widths_(2, 5, 10, 20)</th>\n      <th>bg_value__cwt_coefficients__coeff_14__w_10__widths_(2, 5, 10, 20)</th>\n      <th>bg_value__cwt_coefficients__coeff_14__w_20__widths_(2, 5, 10, 20)</th>\n      <th>bg_value__spkt_welch_density__coeff_2</th>\n      <th>bg_value__spkt_welch_density__coeff_5</th>\n      <th>bg_value__spkt_welch_density__coeff_8</th>\n      <th>bg_value__ar_coefficient__coeff_0__k_10</th>\n      <th>bg_value__ar_coefficient__coeff_1__k_10</th>\n      <th>bg_value__ar_coefficient__coeff_2__k_10</th>\n      <th>bg_value__ar_coefficient__coeff_3__k_10</th>\n      <th>bg_value__ar_coefficient__coeff_4__k_10</th>\n      <th>bg_value__ar_coefficient__coeff_5__k_10</th>\n      <th>bg_value__ar_coefficient__coeff_6__k_10</th>\n      <th>bg_value__ar_coefficient__coeff_7__k_10</th>\n      <th>bg_value__ar_coefficient__coeff_8__k_10</th>\n      <th>bg_value__ar_coefficient__coeff_9__k_10</th>\n      <th>bg_value__ar_coefficient__coeff_10__k_10</th>\n      <th>bg_value__change_quantiles__f_agg_\"mean\"__isabs_False__qh_0.2__ql_0.0</th>\n      <th>bg_value__change_quantiles__f_agg_\"var\"__isabs_False__qh_0.2__ql_0.0</th>\n      <th>bg_value__change_quantiles__f_agg_\"mean\"__isabs_True__qh_0.2__ql_0.0</th>\n      <th>bg_value__change_quantiles__f_agg_\"var\"__isabs_True__qh_0.2__ql_0.0</th>\n      <th>bg_value__change_quantiles__f_agg_\"mean\"__isabs_False__qh_0.4__ql_0.0</th>\n      <th>bg_value__change_quantiles__f_agg_\"var\"__isabs_False__qh_0.4__ql_0.0</th>\n      <th>bg_value__change_quantiles__f_agg_\"mean\"__isabs_True__qh_0.4__ql_0.0</th>\n      <th>bg_value__change_quantiles__f_agg_\"var\"__isabs_True__qh_0.4__ql_0.0</th>\n      <th>bg_value__change_quantiles__f_agg_\"mean\"__isabs_False__qh_0.6__ql_0.0</th>\n      <th>bg_value__change_quantiles__f_agg_\"var\"__isabs_False__qh_0.6__ql_0.0</th>\n      <th>bg_value__change_quantiles__f_agg_\"mean\"__isabs_True__qh_0.6__ql_0.0</th>\n      <th>bg_value__change_quantiles__f_agg_\"var\"__isabs_True__qh_0.6__ql_0.0</th>\n      <th>bg_value__change_quantiles__f_agg_\"mean\"__isabs_False__qh_0.8__ql_0.0</th>\n      <th>bg_value__change_quantiles__f_agg_\"var\"__isabs_False__qh_0.8__ql_0.0</th>\n      <th>bg_value__change_quantiles__f_agg_\"mean\"__isabs_True__qh_0.8__ql_0.0</th>\n      <th>bg_value__change_quantiles__f_agg_\"var\"__isabs_True__qh_0.8__ql_0.0</th>\n      <th>bg_value__change_quantiles__f_agg_\"mean\"__isabs_False__qh_1.0__ql_0.0</th>\n      <th>bg_value__change_quantiles__f_agg_\"var\"__isabs_False__qh_1.0__ql_0.0</th>\n      <th>bg_value__change_quantiles__f_agg_\"mean\"__isabs_True__qh_1.0__ql_0.0</th>\n      <th>bg_value__change_quantiles__f_agg_\"var\"__isabs_True__qh_1.0__ql_0.0</th>\n      <th>bg_value__change_quantiles__f_agg_\"mean\"__isabs_False__qh_0.4__ql_0.2</th>\n      <th>bg_value__change_quantiles__f_agg_\"var\"__isabs_False__qh_0.4__ql_0.2</th>\n      <th>bg_value__change_quantiles__f_agg_\"mean\"__isabs_True__qh_0.4__ql_0.2</th>\n      <th>bg_value__change_quantiles__f_agg_\"var\"__isabs_True__qh_0.4__ql_0.2</th>\n      <th>bg_value__change_quantiles__f_agg_\"mean\"__isabs_False__qh_0.6__ql_0.2</th>\n      <th>bg_value__change_quantiles__f_agg_\"var\"__isabs_False__qh_0.6__ql_0.2</th>\n      <th>bg_value__change_quantiles__f_agg_\"mean\"__isabs_True__qh_0.6__ql_0.2</th>\n      <th>bg_value__change_quantiles__f_agg_\"var\"__isabs_True__qh_0.6__ql_0.2</th>\n      <th>bg_value__change_quantiles__f_agg_\"mean\"__isabs_False__qh_0.8__ql_0.2</th>\n      <th>bg_value__change_quantiles__f_agg_\"var\"__isabs_False__qh_0.8__ql_0.2</th>\n      <th>bg_value__change_quantiles__f_agg_\"mean\"__isabs_True__qh_0.8__ql_0.2</th>\n      <th>bg_value__change_quantiles__f_agg_\"var\"__isabs_True__qh_0.8__ql_0.2</th>\n      <th>bg_value__change_quantiles__f_agg_\"mean\"__isabs_False__qh_1.0__ql_0.2</th>\n      <th>bg_value__change_quantiles__f_agg_\"var\"__isabs_False__qh_1.0__ql_0.2</th>\n      <th>bg_value__change_quantiles__f_agg_\"mean\"__isabs_True__qh_1.0__ql_0.2</th>\n      <th>bg_value__change_quantiles__f_agg_\"var\"__isabs_True__qh_1.0__ql_0.2</th>\n      <th>bg_value__change_quantiles__f_agg_\"mean\"__isabs_False__qh_0.6__ql_0.4</th>\n      <th>bg_value__change_quantiles__f_agg_\"var\"__isabs_False__qh_0.6__ql_0.4</th>\n      <th>bg_value__change_quantiles__f_agg_\"mean\"__isabs_True__qh_0.6__ql_0.4</th>\n      <th>bg_value__change_quantiles__f_agg_\"var\"__isabs_True__qh_0.6__ql_0.4</th>\n      <th>bg_value__change_quantiles__f_agg_\"mean\"__isabs_False__qh_0.8__ql_0.4</th>\n      <th>bg_value__change_quantiles__f_agg_\"var\"__isabs_False__qh_0.8__ql_0.4</th>\n      <th>bg_value__change_quantiles__f_agg_\"mean\"__isabs_True__qh_0.8__ql_0.4</th>\n      <th>bg_value__change_quantiles__f_agg_\"var\"__isabs_True__qh_0.8__ql_0.4</th>\n      <th>bg_value__change_quantiles__f_agg_\"mean\"__isabs_False__qh_1.0__ql_0.4</th>\n      <th>bg_value__change_quantiles__f_agg_\"var\"__isabs_False__qh_1.0__ql_0.4</th>\n      <th>...</th>\n      <th>bg_value__fft_coefficient__attr_\"abs\"__coeff_74</th>\n      <th>bg_value__fft_coefficient__attr_\"abs\"__coeff_75</th>\n      <th>bg_value__fft_coefficient__attr_\"abs\"__coeff_76</th>\n      <th>bg_value__fft_coefficient__attr_\"abs\"__coeff_77</th>\n      <th>bg_value__fft_coefficient__attr_\"abs\"__coeff_78</th>\n      <th>bg_value__fft_coefficient__attr_\"abs\"__coeff_79</th>\n      <th>bg_value__fft_coefficient__attr_\"abs\"__coeff_80</th>\n      <th>bg_value__fft_coefficient__attr_\"abs\"__coeff_81</th>\n      <th>bg_value__fft_coefficient__attr_\"abs\"__coeff_82</th>\n      <th>bg_value__fft_coefficient__attr_\"abs\"__coeff_83</th>\n      <th>bg_value__fft_coefficient__attr_\"abs\"__coeff_84</th>\n      <th>bg_value__fft_coefficient__attr_\"abs\"__coeff_85</th>\n      <th>bg_value__fft_coefficient__attr_\"abs\"__coeff_86</th>\n      <th>bg_value__fft_coefficient__attr_\"abs\"__coeff_87</th>\n      <th>bg_value__fft_coefficient__attr_\"abs\"__coeff_88</th>\n      <th>bg_value__fft_coefficient__attr_\"abs\"__coeff_89</th>\n      <th>bg_value__fft_coefficient__attr_\"abs\"__coeff_90</th>\n      <th>bg_value__fft_coefficient__attr_\"abs\"__coeff_91</th>\n      <th>bg_value__fft_coefficient__attr_\"abs\"__coeff_92</th>\n      <th>bg_value__fft_coefficient__attr_\"abs\"__coeff_93</th>\n      <th>bg_value__fft_coefficient__attr_\"abs\"__coeff_94</th>\n      <th>bg_value__fft_coefficient__attr_\"abs\"__coeff_95</th>\n      <th>bg_value__fft_coefficient__attr_\"abs\"__coeff_96</th>\n      <th>bg_value__fft_coefficient__attr_\"abs\"__coeff_97</th>\n      <th>bg_value__fft_coefficient__attr_\"abs\"__coeff_98</th>\n      <th>bg_value__fft_coefficient__attr_\"abs\"__coeff_99</th>\n      <th>bg_value__fft_coefficient__attr_\"angle\"__coeff_0</th>\n      <th>bg_value__fft_coefficient__attr_\"angle\"__coeff_1</th>\n      <th>bg_value__fft_coefficient__attr_\"angle\"__coeff_2</th>\n      <th>bg_value__fft_coefficient__attr_\"angle\"__coeff_3</th>\n      <th>bg_value__fft_coefficient__attr_\"angle\"__coeff_4</th>\n      <th>bg_value__fft_coefficient__attr_\"angle\"__coeff_5</th>\n      <th>bg_value__fft_coefficient__attr_\"angle\"__coeff_6</th>\n      <th>bg_value__fft_coefficient__attr_\"angle\"__coeff_7</th>\n      <th>bg_value__fft_coefficient__attr_\"angle\"__coeff_8</th>\n      <th>bg_value__fft_coefficient__attr_\"angle\"__coeff_9</th>\n      <th>bg_value__fft_coefficient__attr_\"angle\"__coeff_10</th>\n      <th>bg_value__fft_coefficient__attr_\"angle\"__coeff_11</th>\n      <th>bg_value__fft_coefficient__attr_\"angle\"__coeff_12</th>\n      <th>bg_value__fft_coefficient__attr_\"angle\"__coeff_13</th>\n      <th>bg_value__fft_coefficient__attr_\"angle\"__coeff_14</th>\n      <th>bg_value__fft_coefficient__attr_\"angle\"__coeff_15</th>\n      <th>bg_value__fft_coefficient__attr_\"angle\"__coeff_16</th>\n      <th>bg_value__fft_coefficient__attr_\"angle\"__coeff_17</th>\n      <th>bg_value__fft_coefficient__attr_\"angle\"__coeff_18</th>\n      <th>bg_value__fft_coefficient__attr_\"angle\"__coeff_19</th>\n      <th>bg_value__fft_coefficient__attr_\"angle\"__coeff_20</th>\n      <th>bg_value__fft_coefficient__attr_\"angle\"__coeff_21</th>\n      <th>bg_value__fft_coefficient__attr_\"angle\"__coeff_22</th>\n      <th>bg_value__fft_coefficient__attr_\"angle\"__coeff_23</th>\n      <th>bg_value__fft_coefficient__attr_\"angle\"__coeff_24</th>\n      <th>bg_value__fft_coefficient__attr_\"angle\"__coeff_25</th>\n      <th>bg_value__fft_coefficient__attr_\"angle\"__coeff_26</th>\n      <th>bg_value__fft_coefficient__attr_\"angle\"__coeff_27</th>\n      <th>bg_value__fft_coefficient__attr_\"angle\"__coeff_28</th>\n      <th>bg_value__fft_coefficient__attr_\"angle\"__coeff_29</th>\n      <th>bg_value__fft_coefficient__attr_\"angle\"__coeff_30</th>\n      <th>bg_value__fft_coefficient__attr_\"angle\"__coeff_31</th>\n      <th>bg_value__fft_coefficient__attr_\"angle\"__coeff_32</th>\n      <th>bg_value__fft_coefficient__attr_\"angle\"__coeff_33</th>\n      <th>bg_value__fft_coefficient__attr_\"angle\"__coeff_34</th>\n      <th>bg_value__fft_coefficient__attr_\"angle\"__coeff_35</th>\n      <th>bg_value__fft_coefficient__attr_\"angle\"__coeff_36</th>\n      <th>bg_value__fft_coefficient__attr_\"angle\"__coeff_37</th>\n      <th>bg_value__fft_coefficient__attr_\"angle\"__coeff_38</th>\n      <th>bg_value__fft_coefficient__attr_\"angle\"__coeff_39</th>\n      <th>bg_value__fft_coefficient__attr_\"angle\"__coeff_40</th>\n      <th>bg_value__fft_coefficient__attr_\"angle\"__coeff_41</th>\n      <th>bg_value__fft_coefficient__attr_\"angle\"__coeff_42</th>\n      <th>bg_value__fft_coefficient__attr_\"angle\"__coeff_43</th>\n      <th>bg_value__fft_coefficient__attr_\"angle\"__coeff_44</th>\n      <th>bg_value__fft_coefficient__attr_\"angle\"__coeff_45</th>\n      <th>bg_value__fft_coefficient__attr_\"angle\"__coeff_46</th>\n      <th>bg_value__fft_coefficient__attr_\"angle\"__coeff_47</th>\n      <th>bg_value__fft_coefficient__attr_\"angle\"__coeff_48</th>\n      <th>bg_value__fft_coefficient__attr_\"angle\"__coeff_49</th>\n      <th>bg_value__fft_coefficient__attr_\"angle\"__coeff_50</th>\n      <th>bg_value__fft_coefficient__attr_\"angle\"__coeff_51</th>\n      <th>bg_value__fft_coefficient__attr_\"angle\"__coeff_52</th>\n      <th>bg_value__fft_coefficient__attr_\"angle\"__coeff_53</th>\n      <th>bg_value__fft_coefficient__attr_\"angle\"__coeff_54</th>\n      <th>bg_value__fft_coefficient__attr_\"angle\"__coeff_55</th>\n      <th>bg_value__fft_coefficient__attr_\"angle\"__coeff_56</th>\n      <th>bg_value__fft_coefficient__attr_\"angle\"__coeff_57</th>\n      <th>bg_value__fft_coefficient__attr_\"angle\"__coeff_58</th>\n      <th>bg_value__fft_coefficient__attr_\"angle\"__coeff_59</th>\n      <th>bg_value__fft_coefficient__attr_\"angle\"__coeff_60</th>\n      <th>bg_value__fft_coefficient__attr_\"angle\"__coeff_61</th>\n      <th>bg_value__fft_coefficient__attr_\"angle\"__coeff_62</th>\n      <th>bg_value__fft_coefficient__attr_\"angle\"__coeff_63</th>\n      <th>bg_value__fft_coefficient__attr_\"angle\"__coeff_64</th>\n      <th>bg_value__fft_coefficient__attr_\"angle\"__coeff_65</th>\n      <th>bg_value__fft_coefficient__attr_\"angle\"__coeff_66</th>\n      <th>bg_value__fft_coefficient__attr_\"angle\"__coeff_67</th>\n      <th>bg_value__fft_coefficient__attr_\"angle\"__coeff_68</th>\n      <th>bg_value__fft_coefficient__attr_\"angle\"__coeff_69</th>\n      <th>bg_value__fft_coefficient__attr_\"angle\"__coeff_70</th>\n      <th>bg_value__fft_coefficient__attr_\"angle\"__coeff_71</th>\n      <th>bg_value__fft_coefficient__attr_\"angle\"__coeff_72</th>\n      <th>bg_value__fft_coefficient__attr_\"angle\"__coeff_73</th>\n      <th>bg_value__fft_coefficient__attr_\"angle\"__coeff_74</th>\n      <th>bg_value__fft_coefficient__attr_\"angle\"__coeff_75</th>\n      <th>bg_value__fft_coefficient__attr_\"angle\"__coeff_76</th>\n      <th>bg_value__fft_coefficient__attr_\"angle\"__coeff_77</th>\n      <th>bg_value__fft_coefficient__attr_\"angle\"__coeff_78</th>\n      <th>bg_value__fft_coefficient__attr_\"angle\"__coeff_79</th>\n      <th>bg_value__fft_coefficient__attr_\"angle\"__coeff_80</th>\n      <th>bg_value__fft_coefficient__attr_\"angle\"__coeff_81</th>\n      <th>bg_value__fft_coefficient__attr_\"angle\"__coeff_82</th>\n      <th>bg_value__fft_coefficient__attr_\"angle\"__coeff_83</th>\n      <th>bg_value__fft_coefficient__attr_\"angle\"__coeff_84</th>\n      <th>bg_value__fft_coefficient__attr_\"angle\"__coeff_85</th>\n      <th>bg_value__fft_coefficient__attr_\"angle\"__coeff_86</th>\n      <th>bg_value__fft_coefficient__attr_\"angle\"__coeff_87</th>\n      <th>bg_value__fft_coefficient__attr_\"angle\"__coeff_88</th>\n      <th>bg_value__fft_coefficient__attr_\"angle\"__coeff_89</th>\n      <th>bg_value__fft_coefficient__attr_\"angle\"__coeff_90</th>\n      <th>bg_value__fft_coefficient__attr_\"angle\"__coeff_91</th>\n      <th>bg_value__fft_coefficient__attr_\"angle\"__coeff_92</th>\n      <th>bg_value__fft_coefficient__attr_\"angle\"__coeff_93</th>\n      <th>bg_value__fft_coefficient__attr_\"angle\"__coeff_94</th>\n      <th>bg_value__fft_coefficient__attr_\"angle\"__coeff_95</th>\n      <th>bg_value__fft_coefficient__attr_\"angle\"__coeff_96</th>\n      <th>bg_value__fft_coefficient__attr_\"angle\"__coeff_97</th>\n      <th>bg_value__fft_coefficient__attr_\"angle\"__coeff_98</th>\n      <th>bg_value__fft_coefficient__attr_\"angle\"__coeff_99</th>\n      <th>bg_value__fft_aggregated__aggtype_\"centroid\"</th>\n      <th>bg_value__fft_aggregated__aggtype_\"variance\"</th>\n      <th>bg_value__fft_aggregated__aggtype_\"skew\"</th>\n      <th>bg_value__fft_aggregated__aggtype_\"kurtosis\"</th>\n      <th>bg_value__value_count__value_0</th>\n      <th>bg_value__value_count__value_1</th>\n      <th>bg_value__value_count__value_-1</th>\n      <th>bg_value__range_count__max_1__min_-1</th>\n      <th>bg_value__range_count__max_0__min_1000000000000.0</th>\n      <th>bg_value__range_count__max_1000000000000.0__min_0</th>\n      <th>bg_value__approximate_entropy__m_2__r_0.1</th>\n      <th>bg_value__approximate_entropy__m_2__r_0.3</th>\n      <th>bg_value__approximate_entropy__m_2__r_0.5</th>\n      <th>bg_value__approximate_entropy__m_2__r_0.7</th>\n      <th>bg_value__approximate_entropy__m_2__r_0.9</th>\n      <th>bg_value__friedrich_coefficients__coeff_0__m_3__r_30</th>\n      <th>bg_value__friedrich_coefficients__coeff_1__m_3__r_30</th>\n      <th>bg_value__friedrich_coefficients__coeff_2__m_3__r_30</th>\n      <th>bg_value__friedrich_coefficients__coeff_3__m_3__r_30</th>\n      <th>bg_value__max_langevin_fixed_point__m_3__r_30</th>\n      <th>bg_value__linear_trend__attr_\"pvalue\"</th>\n      <th>bg_value__linear_trend__attr_\"rvalue\"</th>\n      <th>bg_value__linear_trend__attr_\"intercept\"</th>\n      <th>bg_value__linear_trend__attr_\"slope\"</th>\n      <th>bg_value__linear_trend__attr_\"stderr\"</th>\n      <th>bg_value__agg_linear_trend__attr_\"rvalue\"__chunk_len_5__f_agg_\"max\"</th>\n      <th>bg_value__agg_linear_trend__attr_\"rvalue\"__chunk_len_5__f_agg_\"min\"</th>\n      <th>bg_value__agg_linear_trend__attr_\"rvalue\"__chunk_len_5__f_agg_\"mean\"</th>\n      <th>bg_value__agg_linear_trend__attr_\"rvalue\"__chunk_len_5__f_agg_\"var\"</th>\n      <th>bg_value__agg_linear_trend__attr_\"rvalue\"__chunk_len_10__f_agg_\"max\"</th>\n      <th>bg_value__agg_linear_trend__attr_\"rvalue\"__chunk_len_10__f_agg_\"min\"</th>\n      <th>bg_value__agg_linear_trend__attr_\"rvalue\"__chunk_len_10__f_agg_\"mean\"</th>\n      <th>bg_value__agg_linear_trend__attr_\"rvalue\"__chunk_len_10__f_agg_\"var\"</th>\n      <th>bg_value__agg_linear_trend__attr_\"rvalue\"__chunk_len_50__f_agg_\"max\"</th>\n      <th>bg_value__agg_linear_trend__attr_\"rvalue\"__chunk_len_50__f_agg_\"min\"</th>\n      <th>bg_value__agg_linear_trend__attr_\"rvalue\"__chunk_len_50__f_agg_\"mean\"</th>\n      <th>bg_value__agg_linear_trend__attr_\"rvalue\"__chunk_len_50__f_agg_\"var\"</th>\n      <th>bg_value__agg_linear_trend__attr_\"intercept\"__chunk_len_5__f_agg_\"max\"</th>\n      <th>bg_value__agg_linear_trend__attr_\"intercept\"__chunk_len_5__f_agg_\"min\"</th>\n      <th>bg_value__agg_linear_trend__attr_\"intercept\"__chunk_len_5__f_agg_\"mean\"</th>\n      <th>bg_value__agg_linear_trend__attr_\"intercept\"__chunk_len_5__f_agg_\"var\"</th>\n      <th>bg_value__agg_linear_trend__attr_\"intercept\"__chunk_len_10__f_agg_\"max\"</th>\n      <th>bg_value__agg_linear_trend__attr_\"intercept\"__chunk_len_10__f_agg_\"min\"</th>\n      <th>bg_value__agg_linear_trend__attr_\"intercept\"__chunk_len_10__f_agg_\"mean\"</th>\n      <th>bg_value__agg_linear_trend__attr_\"intercept\"__chunk_len_10__f_agg_\"var\"</th>\n      <th>bg_value__agg_linear_trend__attr_\"intercept\"__chunk_len_50__f_agg_\"max\"</th>\n      <th>bg_value__agg_linear_trend__attr_\"intercept\"__chunk_len_50__f_agg_\"min\"</th>\n      <th>bg_value__agg_linear_trend__attr_\"intercept\"__chunk_len_50__f_agg_\"mean\"</th>\n      <th>bg_value__agg_linear_trend__attr_\"intercept\"__chunk_len_50__f_agg_\"var\"</th>\n      <th>bg_value__agg_linear_trend__attr_\"slope\"__chunk_len_5__f_agg_\"max\"</th>\n      <th>bg_value__agg_linear_trend__attr_\"slope\"__chunk_len_5__f_agg_\"min\"</th>\n      <th>bg_value__agg_linear_trend__attr_\"slope\"__chunk_len_5__f_agg_\"mean\"</th>\n      <th>bg_value__agg_linear_trend__attr_\"slope\"__chunk_len_5__f_agg_\"var\"</th>\n      <th>bg_value__agg_linear_trend__attr_\"slope\"__chunk_len_10__f_agg_\"max\"</th>\n      <th>bg_value__agg_linear_trend__attr_\"slope\"__chunk_len_10__f_agg_\"min\"</th>\n      <th>bg_value__agg_linear_trend__attr_\"slope\"__chunk_len_10__f_agg_\"mean\"</th>\n      <th>bg_value__agg_linear_trend__attr_\"slope\"__chunk_len_10__f_agg_\"var\"</th>\n      <th>bg_value__agg_linear_trend__attr_\"slope\"__chunk_len_50__f_agg_\"max\"</th>\n      <th>bg_value__agg_linear_trend__attr_\"slope\"__chunk_len_50__f_agg_\"min\"</th>\n      <th>bg_value__agg_linear_trend__attr_\"slope\"__chunk_len_50__f_agg_\"mean\"</th>\n      <th>bg_value__agg_linear_trend__attr_\"slope\"__chunk_len_50__f_agg_\"var\"</th>\n      <th>bg_value__agg_linear_trend__attr_\"stderr\"__chunk_len_5__f_agg_\"max\"</th>\n      <th>bg_value__agg_linear_trend__attr_\"stderr\"__chunk_len_5__f_agg_\"min\"</th>\n      <th>bg_value__agg_linear_trend__attr_\"stderr\"__chunk_len_5__f_agg_\"mean\"</th>\n      <th>bg_value__agg_linear_trend__attr_\"stderr\"__chunk_len_5__f_agg_\"var\"</th>\n      <th>bg_value__agg_linear_trend__attr_\"stderr\"__chunk_len_10__f_agg_\"max\"</th>\n      <th>bg_value__agg_linear_trend__attr_\"stderr\"__chunk_len_10__f_agg_\"min\"</th>\n      <th>bg_value__agg_linear_trend__attr_\"stderr\"__chunk_len_10__f_agg_\"mean\"</th>\n      <th>bg_value__agg_linear_trend__attr_\"stderr\"__chunk_len_10__f_agg_\"var\"</th>\n      <th>bg_value__agg_linear_trend__attr_\"stderr\"__chunk_len_50__f_agg_\"max\"</th>\n      <th>bg_value__agg_linear_trend__attr_\"stderr\"__chunk_len_50__f_agg_\"min\"</th>\n      <th>bg_value__agg_linear_trend__attr_\"stderr\"__chunk_len_50__f_agg_\"mean\"</th>\n      <th>bg_value__agg_linear_trend__attr_\"stderr\"__chunk_len_50__f_agg_\"var\"</th>\n      <th>bg_value__augmented_dickey_fuller__attr_\"teststat\"__autolag_\"AIC\"</th>\n      <th>bg_value__augmented_dickey_fuller__attr_\"pvalue\"__autolag_\"AIC\"</th>\n      <th>bg_value__augmented_dickey_fuller__attr_\"usedlag\"__autolag_\"AIC\"</th>\n      <th>bg_value__number_crossing_m__m_0</th>\n      <th>bg_value__number_crossing_m__m_-1</th>\n      <th>bg_value__number_crossing_m__m_1</th>\n      <th>bg_value__energy_ratio_by_chunks__num_segments_10__segment_focus_0</th>\n      <th>bg_value__energy_ratio_by_chunks__num_segments_10__segment_focus_1</th>\n      <th>bg_value__energy_ratio_by_chunks__num_segments_10__segment_focus_2</th>\n      <th>bg_value__energy_ratio_by_chunks__num_segments_10__segment_focus_3</th>\n      <th>bg_value__energy_ratio_by_chunks__num_segments_10__segment_focus_4</th>\n      <th>bg_value__energy_ratio_by_chunks__num_segments_10__segment_focus_5</th>\n      <th>bg_value__energy_ratio_by_chunks__num_segments_10__segment_focus_6</th>\n      <th>bg_value__energy_ratio_by_chunks__num_segments_10__segment_focus_7</th>\n      <th>bg_value__energy_ratio_by_chunks__num_segments_10__segment_focus_8</th>\n      <th>bg_value__energy_ratio_by_chunks__num_segments_10__segment_focus_9</th>\n      <th>bg_value__ratio_beyond_r_sigma__r_0.5</th>\n      <th>bg_value__ratio_beyond_r_sigma__r_1</th>\n      <th>bg_value__ratio_beyond_r_sigma__r_1.5</th>\n      <th>bg_value__ratio_beyond_r_sigma__r_2</th>\n      <th>bg_value__ratio_beyond_r_sigma__r_2.5</th>\n      <th>bg_value__ratio_beyond_r_sigma__r_3</th>\n      <th>bg_value__ratio_beyond_r_sigma__r_5</th>\n      <th>bg_value__ratio_beyond_r_sigma__r_6</th>\n      <th>bg_value__ratio_beyond_r_sigma__r_7</th>\n      <th>bg_value__ratio_beyond_r_sigma__r_10</th>\n      <th>bg_value__count_above__t_0</th>\n      <th>bg_value__count_below__t_0</th>\n      <th>bg_value__lempel_ziv_complexity__bins_2</th>\n      <th>bg_value__lempel_ziv_complexity__bins_3</th>\n      <th>bg_value__lempel_ziv_complexity__bins_5</th>\n      <th>bg_value__lempel_ziv_complexity__bins_10</th>\n      <th>bg_value__lempel_ziv_complexity__bins_100</th>\n      <th>bg_value__fourier_entropy__bins_2</th>\n      <th>bg_value__fourier_entropy__bins_3</th>\n      <th>bg_value__fourier_entropy__bins_5</th>\n      <th>bg_value__fourier_entropy__bins_10</th>\n      <th>bg_value__fourier_entropy__bins_100</th>\n      <th>bg_value__permutation_entropy__dimension_3__tau_1</th>\n      <th>bg_value__permutation_entropy__dimension_4__tau_1</th>\n      <th>bg_value__permutation_entropy__dimension_5__tau_1</th>\n      <th>bg_value__permutation_entropy__dimension_6__tau_1</th>\n      <th>bg_value__permutation_entropy__dimension_7__tau_1</th>\n      <th>bg_value__query_similarity_count__query_None__threshold_0.0</th>\n      <th>bg_value__matrix_profile__feature_\"min\"__threshold_0.98</th>\n      <th>bg_value__matrix_profile__feature_\"max\"__threshold_0.98</th>\n      <th>bg_value__matrix_profile__feature_\"mean\"__threshold_0.98</th>\n      <th>bg_value__matrix_profile__feature_\"median\"__threshold_0.98</th>\n      <th>bg_value__matrix_profile__feature_\"25\"__threshold_0.98</th>\n      <th>bg_value__matrix_profile__feature_\"75\"__threshold_0.98</th>\n      <th>label</th>\n    </tr>\n  </thead>\n  <tbody>\n    <tr>\n      <th>0</th>\n      <td>1.0</td>\n      <td>0.0</td>\n      <td>0.0</td>\n      <td>0.0</td>\n      <td>662.0</td>\n      <td>73694.0</td>\n      <td>6.4</td>\n      <td>5.2</td>\n      <td>1.250</td>\n      <td>108.0</td>\n      <td>110.333333</td>\n      <td>6.0</td>\n      <td>10.434984</td>\n      <td>0.094577</td>\n      <td>108.888889</td>\n      <td>0.521097</td>\n      <td>-1.402533</td>\n      <td>110.825689</td>\n      <td>32.0</td>\n      <td>3.0</td>\n      <td>3.0</td>\n      <td>3.0</td>\n      <td>3.0</td>\n      <td>1.000000</td>\n      <td>0.833333</td>\n      <td>0.333333</td>\n      <td>0.166667</td>\n      <td>0.0</td>\n      <td>0.0</td>\n      <td>0.0</td>\n      <td>0.0</td>\n      <td>1.0</td>\n      <td>NaN</td>\n      <td>127.0</td>\n      <td>98.0</td>\n      <td>0.808705</td>\n      <td>299409.50</td>\n      <td>583748.0</td>\n      <td>0.0</td>\n      <td>1318884.00</td>\n      <td>1327216.0</td>\n      <td>0.0</td>\n      <td>1.427857</td>\n      <td>14.899664</td>\n      <td>0.0</td>\n      <td>0.0</td>\n      <td>1.0</td>\n      <td>1.0</td>\n      <td>1.0</td>\n      <td>1.0</td>\n      <td>1.0</td>\n      <td>1.0</td>\n      <td>1.0</td>\n      <td>1.0</td>\n      <td>1.0</td>\n      <td>1.0</td>\n      <td>1.0</td>\n      <td>1.0</td>\n      <td>1.0</td>\n      <td>1.0</td>\n      <td>1.0</td>\n      <td>1.0</td>\n      <td>1.0</td>\n      <td>1.0</td>\n      <td>1.0</td>\n      <td>1.0</td>\n      <td>1.0</td>\n      <td>1.0</td>\n      <td>1.0</td>\n      <td>1.0</td>\n      <td>1.0</td>\n      <td>0.0</td>\n      <td>0.0</td>\n      <td>0.0</td>\n      <td>0.0</td>\n      <td>0.0</td>\n      <td>0.0</td>\n      <td>0.0</td>\n      <td>0.0</td>\n      <td>0.0</td>\n      <td>0.0</td>\n      <td>0.0</td>\n      <td>0.0</td>\n      <td>99.5</td>\n      <td>101.0</td>\n      <td>102.5</td>\n      <td>104.0</td>\n      <td>112.0</td>\n      <td>116.0</td>\n      <td>120.0</td>\n      <td>123.5</td>\n      <td>1.0</td>\n      <td>0.661020</td>\n      <td>0.011735</td>\n      <td>-0.735714</td>\n      <td>-1.358163</td>\n      <td>-1.428571</td>\n      <td>NaN</td>\n      <td>NaN</td>\n      <td>NaN</td>\n      <td>NaN</td>\n      <td>-0.569939</td>\n      <td>-0.735714</td>\n      <td>0.647927</td>\n      <td>1.0</td>\n      <td>0.661020</td>\n      <td>-0.755194</td>\n      <td>NaN</td>\n      <td>NaN</td>\n      <td>NaN</td>\n      <td>NaN</td>\n      <td>NaN</td>\n      <td>NaN</td>\n      <td>NaN</td>\n      <td>1.0</td>\n      <td>1.0</td>\n      <td>0.0</td>\n      <td>0.0</td>\n      <td>0.0</td>\n      <td>0.0</td>\n      <td>0.0</td>\n      <td>1.791759</td>\n      <td>0.166667</td>\n      <td>0.333333</td>\n      <td>0.333333</td>\n      <td>0.5</td>\n      <td>0.666667</td>\n      <td>0.833333</td>\n      <td>0.833333</td>\n      <td>1.0</td>\n      <td>59.706846</td>\n      <td>98.359241</td>\n      <td>79.496509</td>\n      <td>58.115745</td>\n      <td>114.271083</td>\n      <td>139.882074</td>\n      <td>109.858866</td>\n      <td>79.773264</td>\n      <td>136.755655</td>\n      <td>179.862976</td>\n      <td>141.568462</td>\n      <td>102.831418</td>\n      <td>128.512417</td>\n      <td>214.625872</td>\n      <td>173.635071</td>\n      <td>126.963337</td>\n      <td>160.594130</td>\n      <td>191.751450</td>\n      <td>149.054819</td>\n      <td>107.938365</td>\n      <td>143.903905</td>\n      <td>158.867876</td>\n      <td>123.101679</td>\n      <td>89.096716</td>\n      <td>NaN</td>\n      <td>NaN</td>\n      <td>NaN</td>\n      <td>NaN</td>\n      <td>NaN</td>\n      <td>NaN</td>\n      <td>NaN</td>\n      <td>NaN</td>\n      <td>NaN</td>\n      <td>NaN</td>\n      <td>NaN</td>\n      <td>NaN</td>\n      <td>NaN</td>\n      <td>NaN</td>\n      <td>NaN</td>\n      <td>NaN</td>\n      <td>NaN</td>\n      <td>NaN</td>\n      <td>NaN</td>\n      <td>NaN</td>\n      <td>NaN</td>\n      <td>NaN</td>\n      <td>NaN</td>\n      <td>NaN</td>\n      <td>NaN</td>\n      <td>NaN</td>\n      <td>NaN</td>\n      <td>NaN</td>\n      <td>NaN</td>\n      <td>NaN</td>\n      <td>NaN</td>\n      <td>NaN</td>\n      <td>NaN</td>\n      <td>NaN</td>\n      <td>NaN</td>\n      <td>NaN</td>\n      <td>15.055556</td>\n      <td>NaN</td>\n      <td>NaN</td>\n      <td>NaN</td>\n      <td>NaN</td>\n      <td>NaN</td>\n      <td>NaN</td>\n      <td>NaN</td>\n      <td>NaN</td>\n      <td>NaN</td>\n      <td>NaN</td>\n      <td>NaN</td>\n      <td>NaN</td>\n      <td>0.0</td>\n      <td>-3.0</td>\n      <td>0.0</td>\n      <td>3.0</td>\n      <td>0.0</td>\n      <td>1.5</td>\n      <td>20.25</td>\n      <td>4.5</td>\n      <td>2.25</td>\n      <td>3.666667</td>\n      <td>22.888889</td>\n      <td>5.666667</td>\n      <td>4.222222</td>\n      <td>4.750000</td>\n      <td>20.687500</td>\n      <td>6.250000</td>\n      <td>4.187500</td>\n      <td>5.2</td>\n      <td>17.36</td>\n      <td>6.4</td>\n      <td>3.44</td>\n      <td>0.0</td>\n      <td>0.0</td>\n      <td>0.0</td>\n      <td>0.0</td>\n      <td>8.0</td>\n      <td>0.00</td>\n      <td>8.0</td>\n      <td>0.00</td>\n      <td>8.000000</td>\n      <td>0.000000</td>\n      <td>8.000000</td>\n      <td>0.000000</td>\n      <td>7.666667</td>\n      <td>0.222222</td>\n      <td>7.666667</td>\n      <td>0.222222</td>\n      <td>8.0</td>\n      <td>0.0</td>\n      <td>8.0</td>\n      <td>0.0</td>\n      <td>8.0</td>\n      <td>0.00</td>\n      <td>8.0</td>\n      <td>0.00</td>\n      <td>7.666667</td>\n      <td>0.222222</td>\n      <td>...</td>\n      <td>NaN</td>\n      <td>NaN</td>\n      <td>NaN</td>\n      <td>NaN</td>\n      <td>NaN</td>\n      <td>NaN</td>\n      <td>NaN</td>\n      <td>NaN</td>\n      <td>NaN</td>\n      <td>NaN</td>\n      <td>NaN</td>\n      <td>NaN</td>\n      <td>NaN</td>\n      <td>NaN</td>\n      <td>NaN</td>\n      <td>NaN</td>\n      <td>NaN</td>\n      <td>NaN</td>\n      <td>NaN</td>\n      <td>NaN</td>\n      <td>NaN</td>\n      <td>NaN</td>\n      <td>NaN</td>\n      <td>NaN</td>\n      <td>NaN</td>\n      <td>NaN</td>\n      <td>0.0</td>\n      <td>105.079138</td>\n      <td>135.608399</td>\n      <td>180.0</td>\n      <td>NaN</td>\n      <td>NaN</td>\n      <td>NaN</td>\n      <td>NaN</td>\n      <td>NaN</td>\n      <td>NaN</td>\n      <td>NaN</td>\n      <td>NaN</td>\n      <td>NaN</td>\n      <td>NaN</td>\n      <td>NaN</td>\n      <td>NaN</td>\n      <td>NaN</td>\n      <td>NaN</td>\n      <td>NaN</td>\n      <td>NaN</td>\n      <td>NaN</td>\n      <td>NaN</td>\n      <td>NaN</td>\n      <td>NaN</td>\n      <td>NaN</td>\n      <td>NaN</td>\n      <td>NaN</td>\n      <td>NaN</td>\n      <td>NaN</td>\n      <td>NaN</td>\n      <td>NaN</td>\n      <td>NaN</td>\n      <td>NaN</td>\n      <td>NaN</td>\n      <td>NaN</td>\n      <td>NaN</td>\n      <td>NaN</td>\n      <td>NaN</td>\n      <td>NaN</td>\n      <td>NaN</td>\n      <td>NaN</td>\n      <td>NaN</td>\n      <td>NaN</td>\n      <td>NaN</td>\n      <td>NaN</td>\n      <td>NaN</td>\n      <td>NaN</td>\n      <td>NaN</td>\n      <td>NaN</td>\n      <td>NaN</td>\n      <td>NaN</td>\n      <td>NaN</td>\n      <td>NaN</td>\n      <td>NaN</td>\n      <td>NaN</td>\n      <td>NaN</td>\n      <td>NaN</td>\n      <td>NaN</td>\n      <td>NaN</td>\n      <td>NaN</td>\n      <td>NaN</td>\n      <td>NaN</td>\n      <td>NaN</td>\n      <td>NaN</td>\n      <td>NaN</td>\n      <td>NaN</td>\n      <td>NaN</td>\n      <td>NaN</td>\n      <td>NaN</td>\n      <td>NaN</td>\n      <td>NaN</td>\n      <td>NaN</td>\n      <td>NaN</td>\n      <td>NaN</td>\n      <td>NaN</td>\n      <td>NaN</td>\n      <td>NaN</td>\n      <td>NaN</td>\n      <td>NaN</td>\n      <td>NaN</td>\n      <td>NaN</td>\n      <td>NaN</td>\n      <td>NaN</td>\n      <td>NaN</td>\n      <td>NaN</td>\n      <td>NaN</td>\n      <td>NaN</td>\n      <td>NaN</td>\n      <td>NaN</td>\n      <td>NaN</td>\n      <td>NaN</td>\n      <td>NaN</td>\n      <td>NaN</td>\n      <td>NaN</td>\n      <td>NaN</td>\n      <td>NaN</td>\n      <td>NaN</td>\n      <td>NaN</td>\n      <td>NaN</td>\n      <td>NaN</td>\n      <td>0.148603</td>\n      <td>0.269153</td>\n      <td>NaN</td>\n      <td>NaN</td>\n      <td>0.0</td>\n      <td>0.0</td>\n      <td>0.0</td>\n      <td>0.0</td>\n      <td>0.0</td>\n      <td>6.0</td>\n      <td>0.223144</td>\n      <td>0.223144</td>\n      <td>0.223144</td>\n      <td>0.054115</td>\n      <td>0.182597</td>\n      <td>-0.005520</td>\n      <td>1.792452</td>\n      <td>-193.211572</td>\n      <td>6.919540e+03</td>\n      <td>123.151339</td>\n      <td>3.135598e-03</td>\n      <td>0.953924</td>\n      <td>95.761905</td>\n      <td>5.828571</td>\n      <td>0.916664</td>\n      <td>1.0</td>\n      <td>1.0</td>\n      <td>1.0</td>\n      <td>-1.0</td>\n      <td>NaN</td>\n      <td>NaN</td>\n      <td>NaN</td>\n      <td>NaN</td>\n      <td>NaN</td>\n      <td>NaN</td>\n      <td>NaN</td>\n      <td>NaN</td>\n      <td>120.0</td>\n      <td>98.0</td>\n      <td>107.0</td>\n      <td>64.00</td>\n      <td>NaN</td>\n      <td>NaN</td>\n      <td>NaN</td>\n      <td>NaN</td>\n      <td>NaN</td>\n      <td>NaN</td>\n      <td>NaN</td>\n      <td>NaN</td>\n      <td>7.0</td>\n      <td>29.0</td>\n      <td>20.0</td>\n      <td>-64.00</td>\n      <td>NaN</td>\n      <td>NaN</td>\n      <td>NaN</td>\n      <td>NaN</td>\n      <td>NaN</td>\n      <td>NaN</td>\n      <td>NaN</td>\n      <td>NaN</td>\n      <td>0.0</td>\n      <td>0.0</td>\n      <td>0.0</td>\n      <td>0.0</td>\n      <td>NaN</td>\n      <td>NaN</td>\n      <td>NaN</td>\n      <td>NaN</td>\n      <td>NaN</td>\n      <td>NaN</td>\n      <td>NaN</td>\n      <td>NaN</td>\n      <td>-5.802731</td>\n      <td>4.590802e-07</td>\n      <td>1.0</td>\n      <td>0.0</td>\n      <td>0.0</td>\n      <td>0.0</td>\n      <td>0.138424</td>\n      <td>0.130323</td>\n      <td>0.146769</td>\n      <td>0.170217</td>\n      <td>0.195403</td>\n      <td>0.218864</td>\n      <td>0.0</td>\n      <td>0.0</td>\n      <td>0.0</td>\n      <td>0.0</td>\n      <td>0.833333</td>\n      <td>0.333333</td>\n      <td>0.166667</td>\n      <td>0.0</td>\n      <td>0.0</td>\n      <td>0.0</td>\n      <td>0.0</td>\n      <td>0.0</td>\n      <td>0.0</td>\n      <td>0.0</td>\n      <td>1.0</td>\n      <td>0.0</td>\n      <td>0.5</td>\n      <td>0.666667</td>\n      <td>0.666667</td>\n      <td>1.000000</td>\n      <td>1.0</td>\n      <td>0.562335</td>\n      <td>0.562335</td>\n      <td>0.562335</td>\n      <td>0.562335</td>\n      <td>1.386294</td>\n      <td>0.562335</td>\n      <td>0.636514</td>\n      <td>0.693147</td>\n      <td>-0.0</td>\n      <td>NaN</td>\n      <td>NaN</td>\n      <td>NaN</td>\n      <td>NaN</td>\n      <td>NaN</td>\n      <td>NaN</td>\n      <td>NaN</td>\n      <td>NaN</td>\n      <td>135</td>\n    </tr>\n    <tr>\n      <th>1</th>\n      <td>1.0</td>\n      <td>0.0</td>\n      <td>0.0</td>\n      <td>0.0</td>\n      <td>696.0</td>\n      <td>81718.0</td>\n      <td>7.4</td>\n      <td>7.4</td>\n      <td>0.250</td>\n      <td>116.0</td>\n      <td>116.000000</td>\n      <td>6.0</td>\n      <td>12.793227</td>\n      <td>0.110286</td>\n      <td>163.666667</td>\n      <td>0.068667</td>\n      <td>-1.328672</td>\n      <td>116.703328</td>\n      <td>37.0</td>\n      <td>3.0</td>\n      <td>3.0</td>\n      <td>3.0</td>\n      <td>3.0</td>\n      <td>1.000000</td>\n      <td>0.833333</td>\n      <td>0.166667</td>\n      <td>0.000000</td>\n      <td>0.0</td>\n      <td>0.0</td>\n      <td>0.0</td>\n      <td>0.0</td>\n      <td>1.0</td>\n      <td>NaN</td>\n      <td>135.0</td>\n      <td>98.0</td>\n      <td>0.808705</td>\n      <td>405785.75</td>\n      <td>809940.0</td>\n      <td>0.0</td>\n      <td>1575886.00</td>\n      <td>1539376.0</td>\n      <td>0.0</td>\n      <td>1.300947</td>\n      <td>16.643317</td>\n      <td>0.0</td>\n      <td>1.0</td>\n      <td>1.0</td>\n      <td>1.0</td>\n      <td>1.0</td>\n      <td>1.0</td>\n      <td>1.0</td>\n      <td>1.0</td>\n      <td>1.0</td>\n      <td>1.0</td>\n      <td>1.0</td>\n      <td>1.0</td>\n      <td>1.0</td>\n      <td>1.0</td>\n      <td>1.0</td>\n      <td>1.0</td>\n      <td>1.0</td>\n      <td>1.0</td>\n      <td>1.0</td>\n      <td>1.0</td>\n      <td>1.0</td>\n      <td>1.0</td>\n      <td>1.0</td>\n      <td>1.0</td>\n      <td>1.0</td>\n      <td>1.0</td>\n      <td>0.0</td>\n      <td>0.0</td>\n      <td>0.0</td>\n      <td>0.0</td>\n      <td>0.0</td>\n      <td>0.0</td>\n      <td>0.0</td>\n      <td>0.0</td>\n      <td>0.0</td>\n      <td>0.0</td>\n      <td>0.0</td>\n      <td>0.0</td>\n      <td>0.0</td>\n      <td>101.0</td>\n      <td>104.0</td>\n      <td>108.0</td>\n      <td>112.0</td>\n      <td>120.0</td>\n      <td>123.5</td>\n      <td>127.0</td>\n      <td>131.0</td>\n      <td>1.0</td>\n      <td>0.612220</td>\n      <td>0.085540</td>\n      <td>-0.570265</td>\n      <td>-1.301426</td>\n      <td>-2.089613</td>\n      <td>NaN</td>\n      <td>NaN</td>\n      <td>NaN</td>\n      <td>NaN</td>\n      <td>-0.652709</td>\n      <td>-0.570265</td>\n      <td>0.927476</td>\n      <td>1.0</td>\n      <td>0.612220</td>\n      <td>-0.462699</td>\n      <td>NaN</td>\n      <td>NaN</td>\n      <td>NaN</td>\n      <td>NaN</td>\n      <td>NaN</td>\n      <td>NaN</td>\n      <td>NaN</td>\n      <td>1.0</td>\n      <td>1.0</td>\n      <td>0.0</td>\n      <td>0.0</td>\n      <td>0.0</td>\n      <td>0.0</td>\n      <td>0.0</td>\n      <td>1.791759</td>\n      <td>0.166667</td>\n      <td>0.333333</td>\n      <td>0.500000</td>\n      <td>0.5</td>\n      <td>0.666667</td>\n      <td>0.833333</td>\n      <td>0.833333</td>\n      <td>1.0</td>\n      <td>57.986708</td>\n      <td>101.291432</td>\n      <td>82.261140</td>\n      <td>60.203704</td>\n      <td>116.299641</td>\n      <td>145.781656</td>\n      <td>114.793170</td>\n      <td>83.408386</td>\n      <td>144.464531</td>\n      <td>188.696456</td>\n      <td>148.463934</td>\n      <td>107.831533</td>\n      <td>139.271998</td>\n      <td>226.409580</td>\n      <td>182.699409</td>\n      <td>133.510578</td>\n      <td>171.246102</td>\n      <td>204.422116</td>\n      <td>158.890437</td>\n      <td>115.058194</td>\n      <td>152.619715</td>\n      <td>169.352485</td>\n      <td>131.314920</td>\n      <td>95.056934</td>\n      <td>NaN</td>\n      <td>NaN</td>\n      <td>NaN</td>\n      <td>NaN</td>\n      <td>NaN</td>\n      <td>NaN</td>\n      <td>NaN</td>\n      <td>NaN</td>\n      <td>NaN</td>\n      <td>NaN</td>\n      <td>NaN</td>\n      <td>NaN</td>\n      <td>NaN</td>\n      <td>NaN</td>\n      <td>NaN</td>\n      <td>NaN</td>\n      <td>NaN</td>\n      <td>NaN</td>\n      <td>NaN</td>\n      <td>NaN</td>\n      <td>NaN</td>\n      <td>NaN</td>\n      <td>NaN</td>\n      <td>NaN</td>\n      <td>NaN</td>\n      <td>NaN</td>\n      <td>NaN</td>\n      <td>NaN</td>\n      <td>NaN</td>\n      <td>NaN</td>\n      <td>NaN</td>\n      <td>NaN</td>\n      <td>NaN</td>\n      <td>NaN</td>\n      <td>NaN</td>\n      <td>NaN</td>\n      <td>8.388889</td>\n      <td>NaN</td>\n      <td>NaN</td>\n      <td>NaN</td>\n      <td>NaN</td>\n      <td>NaN</td>\n      <td>NaN</td>\n      <td>NaN</td>\n      <td>NaN</td>\n      <td>NaN</td>\n      <td>NaN</td>\n      <td>NaN</td>\n      <td>NaN</td>\n      <td>0.0</td>\n      <td>6.0</td>\n      <td>0.0</td>\n      <td>6.0</td>\n      <td>0.0</td>\n      <td>7.0</td>\n      <td>1.00</td>\n      <td>7.0</td>\n      <td>1.00</td>\n      <td>7.333333</td>\n      <td>0.888889</td>\n      <td>7.333333</td>\n      <td>0.888889</td>\n      <td>7.250000</td>\n      <td>0.687500</td>\n      <td>7.250000</td>\n      <td>0.687500</td>\n      <td>7.4</td>\n      <td>0.64</td>\n      <td>7.4</td>\n      <td>0.64</td>\n      <td>8.0</td>\n      <td>0.0</td>\n      <td>8.0</td>\n      <td>0.0</td>\n      <td>8.0</td>\n      <td>0.00</td>\n      <td>8.0</td>\n      <td>0.00</td>\n      <td>7.666667</td>\n      <td>0.222222</td>\n      <td>7.666667</td>\n      <td>0.222222</td>\n      <td>7.750000</td>\n      <td>0.187500</td>\n      <td>7.750000</td>\n      <td>0.187500</td>\n      <td>8.0</td>\n      <td>0.0</td>\n      <td>8.0</td>\n      <td>0.0</td>\n      <td>7.5</td>\n      <td>0.25</td>\n      <td>7.5</td>\n      <td>0.25</td>\n      <td>7.666667</td>\n      <td>0.222222</td>\n      <td>...</td>\n      <td>NaN</td>\n      <td>NaN</td>\n      <td>NaN</td>\n      <td>NaN</td>\n      <td>NaN</td>\n      <td>NaN</td>\n      <td>NaN</td>\n      <td>NaN</td>\n      <td>NaN</td>\n      <td>NaN</td>\n      <td>NaN</td>\n      <td>NaN</td>\n      <td>NaN</td>\n      <td>NaN</td>\n      <td>NaN</td>\n      <td>NaN</td>\n      <td>NaN</td>\n      <td>NaN</td>\n      <td>NaN</td>\n      <td>NaN</td>\n      <td>NaN</td>\n      <td>NaN</td>\n      <td>NaN</td>\n      <td>NaN</td>\n      <td>NaN</td>\n      <td>NaN</td>\n      <td>0.0</td>\n      <td>118.909591</td>\n      <td>146.582019</td>\n      <td>180.0</td>\n      <td>NaN</td>\n      <td>NaN</td>\n      <td>NaN</td>\n      <td>NaN</td>\n      <td>NaN</td>\n      <td>NaN</td>\n      <td>NaN</td>\n      <td>NaN</td>\n      <td>NaN</td>\n      <td>NaN</td>\n      <td>NaN</td>\n      <td>NaN</td>\n      <td>NaN</td>\n      <td>NaN</td>\n      <td>NaN</td>\n      <td>NaN</td>\n      <td>NaN</td>\n      <td>NaN</td>\n      <td>NaN</td>\n      <td>NaN</td>\n      <td>NaN</td>\n      <td>NaN</td>\n      <td>NaN</td>\n      <td>NaN</td>\n      <td>NaN</td>\n      <td>NaN</td>\n      <td>NaN</td>\n      <td>NaN</td>\n      <td>NaN</td>\n      <td>NaN</td>\n      <td>NaN</td>\n      <td>NaN</td>\n      <td>NaN</td>\n      <td>NaN</td>\n      <td>NaN</td>\n      <td>NaN</td>\n      <td>NaN</td>\n      <td>NaN</td>\n      <td>NaN</td>\n      <td>NaN</td>\n      <td>NaN</td>\n      <td>NaN</td>\n      <td>NaN</td>\n      <td>NaN</td>\n      <td>NaN</td>\n      <td>NaN</td>\n      <td>NaN</td>\n      <td>NaN</td>\n      <td>NaN</td>\n      <td>NaN</td>\n      <td>NaN</td>\n      <td>NaN</td>\n      <td>NaN</td>\n      <td>NaN</td>\n      <td>NaN</td>\n      <td>NaN</td>\n      <td>NaN</td>\n      <td>NaN</td>\n      <td>NaN</td>\n      <td>NaN</td>\n      <td>NaN</td>\n      <td>NaN</td>\n      <td>NaN</td>\n      <td>NaN</td>\n      <td>NaN</td>\n      <td>NaN</td>\n      <td>NaN</td>\n      <td>NaN</td>\n      <td>NaN</td>\n      <td>NaN</td>\n      <td>NaN</td>\n      <td>NaN</td>\n      <td>NaN</td>\n      <td>NaN</td>\n      <td>NaN</td>\n      <td>NaN</td>\n      <td>NaN</td>\n      <td>NaN</td>\n      <td>NaN</td>\n      <td>NaN</td>\n      <td>NaN</td>\n      <td>NaN</td>\n      <td>NaN</td>\n      <td>NaN</td>\n      <td>NaN</td>\n      <td>NaN</td>\n      <td>NaN</td>\n      <td>NaN</td>\n      <td>NaN</td>\n      <td>NaN</td>\n      <td>NaN</td>\n      <td>NaN</td>\n      <td>NaN</td>\n      <td>NaN</td>\n      <td>NaN</td>\n      <td>NaN</td>\n      <td>0.205191</td>\n      <td>0.394261</td>\n      <td>NaN</td>\n      <td>NaN</td>\n      <td>0.0</td>\n      <td>0.0</td>\n      <td>0.0</td>\n      <td>0.0</td>\n      <td>0.0</td>\n      <td>6.0</td>\n      <td>0.223144</td>\n      <td>0.223144</td>\n      <td>0.223144</td>\n      <td>0.182597</td>\n      <td>0.182597</td>\n      <td>0.000936</td>\n      <td>-0.320071</td>\n      <td>36.346794</td>\n      <td>-1.363070e+03</td>\n      <td>125.229203</td>\n      <td>7.317403e-07</td>\n      <td>0.999301</td>\n      <td>97.285714</td>\n      <td>7.485714</td>\n      <td>0.139971</td>\n      <td>1.0</td>\n      <td>1.0</td>\n      <td>1.0</td>\n      <td>-1.0</td>\n      <td>NaN</td>\n      <td>NaN</td>\n      <td>NaN</td>\n      <td>NaN</td>\n      <td>NaN</td>\n      <td>NaN</td>\n      <td>NaN</td>\n      <td>NaN</td>\n      <td>127.0</td>\n      <td>98.0</td>\n      <td>112.2</td>\n      <td>109.76</td>\n      <td>NaN</td>\n      <td>NaN</td>\n      <td>NaN</td>\n      <td>NaN</td>\n      <td>NaN</td>\n      <td>NaN</td>\n      <td>NaN</td>\n      <td>NaN</td>\n      <td>8.0</td>\n      <td>37.0</td>\n      <td>22.8</td>\n      <td>-109.76</td>\n      <td>NaN</td>\n      <td>NaN</td>\n      <td>NaN</td>\n      <td>NaN</td>\n      <td>NaN</td>\n      <td>NaN</td>\n      <td>NaN</td>\n      <td>NaN</td>\n      <td>0.0</td>\n      <td>0.0</td>\n      <td>0.0</td>\n      <td>0.0</td>\n      <td>NaN</td>\n      <td>NaN</td>\n      <td>NaN</td>\n      <td>NaN</td>\n      <td>NaN</td>\n      <td>NaN</td>\n      <td>NaN</td>\n      <td>NaN</td>\n      <td>0.977706</td>\n      <td>9.940251e-01</td>\n      <td>0.0</td>\n      <td>0.0</td>\n      <td>0.0</td>\n      <td>0.0</td>\n      <td>0.117526</td>\n      <td>0.132358</td>\n      <td>0.153504</td>\n      <td>0.176216</td>\n      <td>0.197374</td>\n      <td>0.223023</td>\n      <td>0.0</td>\n      <td>0.0</td>\n      <td>0.0</td>\n      <td>0.0</td>\n      <td>0.666667</td>\n      <td>0.333333</td>\n      <td>0.000000</td>\n      <td>0.0</td>\n      <td>0.0</td>\n      <td>0.0</td>\n      <td>0.0</td>\n      <td>0.0</td>\n      <td>0.0</td>\n      <td>0.0</td>\n      <td>1.0</td>\n      <td>0.0</td>\n      <td>0.5</td>\n      <td>0.666667</td>\n      <td>0.833333</td>\n      <td>1.000000</td>\n      <td>1.0</td>\n      <td>0.562335</td>\n      <td>0.562335</td>\n      <td>0.562335</td>\n      <td>1.039721</td>\n      <td>1.386294</td>\n      <td>-0.000000</td>\n      <td>-0.000000</td>\n      <td>-0.000000</td>\n      <td>-0.0</td>\n      <td>NaN</td>\n      <td>NaN</td>\n      <td>NaN</td>\n      <td>NaN</td>\n      <td>NaN</td>\n      <td>NaN</td>\n      <td>NaN</td>\n      <td>NaN</td>\n      <td>142</td>\n    </tr>\n    <tr>\n      <th>2</th>\n      <td>1.0</td>\n      <td>0.0</td>\n      <td>0.0</td>\n      <td>0.0</td>\n      <td>740.0</td>\n      <td>92278.0</td>\n      <td>7.6</td>\n      <td>7.6</td>\n      <td>-0.125</td>\n      <td>123.5</td>\n      <td>123.333333</td>\n      <td>6.0</td>\n      <td>12.982895</td>\n      <td>0.105267</td>\n      <td>168.555556</td>\n      <td>-0.060232</td>\n      <td>-1.177717</td>\n      <td>124.014784</td>\n      <td>38.0</td>\n      <td>3.0</td>\n      <td>3.0</td>\n      <td>3.0</td>\n      <td>3.0</td>\n      <td>1.000000</td>\n      <td>0.833333</td>\n      <td>0.166667</td>\n      <td>0.000000</td>\n      <td>0.0</td>\n      <td>0.0</td>\n      <td>0.0</td>\n      <td>0.0</td>\n      <td>1.0</td>\n      <td>NaN</td>\n      <td>142.0</td>\n      <td>104.0</td>\n      <td>0.864123</td>\n      <td>465527.00</td>\n      <td>928410.0</td>\n      <td>0.0</td>\n      <td>1899157.50</td>\n      <td>1852304.0</td>\n      <td>0.0</td>\n      <td>1.311679</td>\n      <td>17.029386</td>\n      <td>0.0</td>\n      <td>1.0</td>\n      <td>1.0</td>\n      <td>1.0</td>\n      <td>1.0</td>\n      <td>1.0</td>\n      <td>1.0</td>\n      <td>1.0</td>\n      <td>1.0</td>\n      <td>1.0</td>\n      <td>1.0</td>\n      <td>1.0</td>\n      <td>1.0</td>\n      <td>1.0</td>\n      <td>1.0</td>\n      <td>1.0</td>\n      <td>1.0</td>\n      <td>1.0</td>\n      <td>1.0</td>\n      <td>1.0</td>\n      <td>1.0</td>\n      <td>1.0</td>\n      <td>1.0</td>\n      <td>1.0</td>\n      <td>1.0</td>\n      <td>1.0</td>\n      <td>0.0</td>\n      <td>0.0</td>\n      <td>0.0</td>\n      <td>0.0</td>\n      <td>0.0</td>\n      <td>0.0</td>\n      <td>0.0</td>\n      <td>0.0</td>\n      <td>0.0</td>\n      <td>0.0</td>\n      <td>0.0</td>\n      <td>0.0</td>\n      <td>0.0</td>\n      <td>108.0</td>\n      <td>112.0</td>\n      <td>116.0</td>\n      <td>120.0</td>\n      <td>127.0</td>\n      <td>131.0</td>\n      <td>135.0</td>\n      <td>138.5</td>\n      <td>1.0</td>\n      <td>0.599473</td>\n      <td>0.077785</td>\n      <td>-0.524720</td>\n      <td>-1.296638</td>\n      <td>-2.141068</td>\n      <td>NaN</td>\n      <td>NaN</td>\n      <td>NaN</td>\n      <td>NaN</td>\n      <td>-0.657034</td>\n      <td>-0.524720</td>\n      <td>0.949545</td>\n      <td>1.0</td>\n      <td>0.599473</td>\n      <td>-0.439538</td>\n      <td>NaN</td>\n      <td>NaN</td>\n      <td>NaN</td>\n      <td>NaN</td>\n      <td>NaN</td>\n      <td>NaN</td>\n      <td>NaN</td>\n      <td>1.0</td>\n      <td>1.0</td>\n      <td>0.0</td>\n      <td>0.0</td>\n      <td>0.0</td>\n      <td>0.0</td>\n      <td>0.0</td>\n      <td>1.791759</td>\n      <td>0.166667</td>\n      <td>0.333333</td>\n      <td>0.500000</td>\n      <td>0.5</td>\n      <td>0.666667</td>\n      <td>0.833333</td>\n      <td>0.833333</td>\n      <td>1.0</td>\n      <td>61.687079</td>\n      <td>108.337271</td>\n      <td>88.015177</td>\n      <td>64.420101</td>\n      <td>124.616122</td>\n      <td>155.627452</td>\n      <td>122.483947</td>\n      <td>88.985423</td>\n      <td>154.750286</td>\n      <td>201.250345</td>\n      <td>158.275929</td>\n      <td>114.947045</td>\n      <td>148.818378</td>\n      <td>240.877334</td>\n      <td>194.279561</td>\n      <td>141.956374</td>\n      <td>181.379656</td>\n      <td>217.268797</td>\n      <td>168.959391</td>\n      <td>122.364563</td>\n      <td>161.132991</td>\n      <td>179.499655</td>\n      <td>139.263060</td>\n      <td>100.824845</td>\n      <td>NaN</td>\n      <td>NaN</td>\n      <td>NaN</td>\n      <td>NaN</td>\n      <td>NaN</td>\n      <td>NaN</td>\n      <td>NaN</td>\n      <td>NaN</td>\n      <td>NaN</td>\n      <td>NaN</td>\n      <td>NaN</td>\n      <td>NaN</td>\n      <td>NaN</td>\n      <td>NaN</td>\n      <td>NaN</td>\n      <td>NaN</td>\n      <td>NaN</td>\n      <td>NaN</td>\n      <td>NaN</td>\n      <td>NaN</td>\n      <td>NaN</td>\n      <td>NaN</td>\n      <td>NaN</td>\n      <td>NaN</td>\n      <td>NaN</td>\n      <td>NaN</td>\n      <td>NaN</td>\n      <td>NaN</td>\n      <td>NaN</td>\n      <td>NaN</td>\n      <td>NaN</td>\n      <td>NaN</td>\n      <td>NaN</td>\n      <td>NaN</td>\n      <td>NaN</td>\n      <td>NaN</td>\n      <td>9.500000</td>\n      <td>NaN</td>\n      <td>NaN</td>\n      <td>NaN</td>\n      <td>NaN</td>\n      <td>NaN</td>\n      <td>NaN</td>\n      <td>NaN</td>\n      <td>NaN</td>\n      <td>NaN</td>\n      <td>NaN</td>\n      <td>NaN</td>\n      <td>NaN</td>\n      <td>0.0</td>\n      <td>8.0</td>\n      <td>0.0</td>\n      <td>8.0</td>\n      <td>0.0</td>\n      <td>8.0</td>\n      <td>0.00</td>\n      <td>8.0</td>\n      <td>0.00</td>\n      <td>7.666667</td>\n      <td>0.222222</td>\n      <td>7.666667</td>\n      <td>0.222222</td>\n      <td>7.750000</td>\n      <td>0.187500</td>\n      <td>7.750000</td>\n      <td>0.187500</td>\n      <td>7.6</td>\n      <td>0.24</td>\n      <td>7.6</td>\n      <td>0.24</td>\n      <td>8.0</td>\n      <td>0.0</td>\n      <td>8.0</td>\n      <td>0.0</td>\n      <td>7.5</td>\n      <td>0.25</td>\n      <td>7.5</td>\n      <td>0.25</td>\n      <td>7.666667</td>\n      <td>0.222222</td>\n      <td>7.666667</td>\n      <td>0.222222</td>\n      <td>7.500000</td>\n      <td>0.250000</td>\n      <td>7.500000</td>\n      <td>0.250000</td>\n      <td>7.0</td>\n      <td>0.0</td>\n      <td>7.0</td>\n      <td>0.0</td>\n      <td>7.5</td>\n      <td>0.25</td>\n      <td>7.5</td>\n      <td>0.25</td>\n      <td>7.333333</td>\n      <td>0.222222</td>\n      <td>...</td>\n      <td>NaN</td>\n      <td>NaN</td>\n      <td>NaN</td>\n      <td>NaN</td>\n      <td>NaN</td>\n      <td>NaN</td>\n      <td>NaN</td>\n      <td>NaN</td>\n      <td>NaN</td>\n      <td>NaN</td>\n      <td>NaN</td>\n      <td>NaN</td>\n      <td>NaN</td>\n      <td>NaN</td>\n      <td>NaN</td>\n      <td>NaN</td>\n      <td>NaN</td>\n      <td>NaN</td>\n      <td>NaN</td>\n      <td>NaN</td>\n      <td>NaN</td>\n      <td>NaN</td>\n      <td>NaN</td>\n      <td>NaN</td>\n      <td>NaN</td>\n      <td>NaN</td>\n      <td>0.0</td>\n      <td>121.090409</td>\n      <td>151.066965</td>\n      <td>180.0</td>\n      <td>NaN</td>\n      <td>NaN</td>\n      <td>NaN</td>\n      <td>NaN</td>\n      <td>NaN</td>\n      <td>NaN</td>\n      <td>NaN</td>\n      <td>NaN</td>\n      <td>NaN</td>\n      <td>NaN</td>\n      <td>NaN</td>\n      <td>NaN</td>\n      <td>NaN</td>\n      <td>NaN</td>\n      <td>NaN</td>\n      <td>NaN</td>\n      <td>NaN</td>\n      <td>NaN</td>\n      <td>NaN</td>\n      <td>NaN</td>\n      <td>NaN</td>\n      <td>NaN</td>\n      <td>NaN</td>\n      <td>NaN</td>\n      <td>NaN</td>\n      <td>NaN</td>\n      <td>NaN</td>\n      <td>NaN</td>\n      <td>NaN</td>\n      <td>NaN</td>\n      <td>NaN</td>\n      <td>NaN</td>\n      <td>NaN</td>\n      <td>NaN</td>\n      <td>NaN</td>\n      <td>NaN</td>\n      <td>NaN</td>\n      <td>NaN</td>\n      <td>NaN</td>\n      <td>NaN</td>\n      <td>NaN</td>\n      <td>NaN</td>\n      <td>NaN</td>\n      <td>NaN</td>\n      <td>NaN</td>\n      <td>NaN</td>\n      <td>NaN</td>\n      <td>NaN</td>\n      <td>NaN</td>\n      <td>NaN</td>\n      <td>NaN</td>\n      <td>NaN</td>\n      <td>NaN</td>\n      <td>NaN</td>\n      <td>NaN</td>\n      <td>NaN</td>\n      <td>NaN</td>\n      <td>NaN</td>\n      <td>NaN</td>\n      <td>NaN</td>\n      <td>NaN</td>\n      <td>NaN</td>\n      <td>NaN</td>\n      <td>NaN</td>\n      <td>NaN</td>\n      <td>NaN</td>\n      <td>NaN</td>\n      <td>NaN</td>\n      <td>NaN</td>\n      <td>NaN</td>\n      <td>NaN</td>\n      <td>NaN</td>\n      <td>NaN</td>\n      <td>NaN</td>\n      <td>NaN</td>\n      <td>NaN</td>\n      <td>NaN</td>\n      <td>NaN</td>\n      <td>NaN</td>\n      <td>NaN</td>\n      <td>NaN</td>\n      <td>NaN</td>\n      <td>NaN</td>\n      <td>NaN</td>\n      <td>NaN</td>\n      <td>NaN</td>\n      <td>NaN</td>\n      <td>NaN</td>\n      <td>NaN</td>\n      <td>NaN</td>\n      <td>NaN</td>\n      <td>NaN</td>\n      <td>NaN</td>\n      <td>NaN</td>\n      <td>NaN</td>\n      <td>NaN</td>\n      <td>0.198009</td>\n      <td>0.381371</td>\n      <td>NaN</td>\n      <td>NaN</td>\n      <td>0.0</td>\n      <td>0.0</td>\n      <td>0.0</td>\n      <td>0.0</td>\n      <td>0.0</td>\n      <td>6.0</td>\n      <td>0.223144</td>\n      <td>0.223144</td>\n      <td>0.223144</td>\n      <td>0.182597</td>\n      <td>0.182597</td>\n      <td>-0.000155</td>\n      <td>0.055543</td>\n      <td>-6.625472</td>\n      <td>2.708388e+02</td>\n      <td>156.287304</td>\n      <td>1.043077e-07</td>\n      <td>0.999736</td>\n      <td>104.333333</td>\n      <td>7.600000</td>\n      <td>0.087287</td>\n      <td>1.0</td>\n      <td>1.0</td>\n      <td>1.0</td>\n      <td>-1.0</td>\n      <td>NaN</td>\n      <td>NaN</td>\n      <td>NaN</td>\n      <td>NaN</td>\n      <td>NaN</td>\n      <td>NaN</td>\n      <td>NaN</td>\n      <td>NaN</td>\n      <td>135.0</td>\n      <td>104.0</td>\n      <td>119.6</td>\n      <td>118.64</td>\n      <td>NaN</td>\n      <td>NaN</td>\n      <td>NaN</td>\n      <td>NaN</td>\n      <td>NaN</td>\n      <td>NaN</td>\n      <td>NaN</td>\n      <td>NaN</td>\n      <td>7.0</td>\n      <td>38.0</td>\n      <td>22.4</td>\n      <td>-118.64</td>\n      <td>NaN</td>\n      <td>NaN</td>\n      <td>NaN</td>\n      <td>NaN</td>\n      <td>NaN</td>\n      <td>NaN</td>\n      <td>NaN</td>\n      <td>NaN</td>\n      <td>0.0</td>\n      <td>0.0</td>\n      <td>0.0</td>\n      <td>0.0</td>\n      <td>NaN</td>\n      <td>NaN</td>\n      <td>NaN</td>\n      <td>NaN</td>\n      <td>NaN</td>\n      <td>NaN</td>\n      <td>NaN</td>\n      <td>NaN</td>\n      <td>-1.193191</td>\n      <td>6.765181e-01</td>\n      <td>1.0</td>\n      <td>0.0</td>\n      <td>0.0</td>\n      <td>0.0</td>\n      <td>0.117211</td>\n      <td>0.135937</td>\n      <td>0.156050</td>\n      <td>0.174787</td>\n      <td>0.197501</td>\n      <td>0.218514</td>\n      <td>0.0</td>\n      <td>0.0</td>\n      <td>0.0</td>\n      <td>0.0</td>\n      <td>0.666667</td>\n      <td>0.333333</td>\n      <td>0.000000</td>\n      <td>0.0</td>\n      <td>0.0</td>\n      <td>0.0</td>\n      <td>0.0</td>\n      <td>0.0</td>\n      <td>0.0</td>\n      <td>0.0</td>\n      <td>1.0</td>\n      <td>0.0</td>\n      <td>0.5</td>\n      <td>0.666667</td>\n      <td>0.833333</td>\n      <td>1.000000</td>\n      <td>1.0</td>\n      <td>0.562335</td>\n      <td>0.562335</td>\n      <td>1.039721</td>\n      <td>1.039721</td>\n      <td>1.386294</td>\n      <td>-0.000000</td>\n      <td>-0.000000</td>\n      <td>-0.000000</td>\n      <td>-0.0</td>\n      <td>NaN</td>\n      <td>NaN</td>\n      <td>NaN</td>\n      <td>NaN</td>\n      <td>NaN</td>\n      <td>NaN</td>\n      <td>NaN</td>\n      <td>NaN</td>\n      <td>140</td>\n    </tr>\n    <tr>\n      <th>3</th>\n      <td>1.0</td>\n      <td>0.0</td>\n      <td>0.0</td>\n      <td>0.0</td>\n      <td>776.0</td>\n      <td>101062.0</td>\n      <td>6.4</td>\n      <td>5.6</td>\n      <td>-1.250</td>\n      <td>131.0</td>\n      <td>129.333333</td>\n      <td>6.0</td>\n      <td>10.796090</td>\n      <td>0.083475</td>\n      <td>116.555556</td>\n      <td>-0.472553</td>\n      <td>-1.326205</td>\n      <td>129.783152</td>\n      <td>32.0</td>\n      <td>3.0</td>\n      <td>3.0</td>\n      <td>3.0</td>\n      <td>3.0</td>\n      <td>0.833333</td>\n      <td>0.666667</td>\n      <td>0.166667</td>\n      <td>0.000000</td>\n      <td>0.0</td>\n      <td>0.0</td>\n      <td>0.0</td>\n      <td>0.0</td>\n      <td>1.0</td>\n      <td>NaN</td>\n      <td>142.0</td>\n      <td>112.0</td>\n      <td>0.864123</td>\n      <td>413987.50</td>\n      <td>834870.0</td>\n      <td>0.0</td>\n      <td>2220667.50</td>\n      <td>2143904.0</td>\n      <td>0.0</td>\n      <td>1.404745</td>\n      <td>15.165751</td>\n      <td>0.0</td>\n      <td>0.0</td>\n      <td>1.0</td>\n      <td>1.0</td>\n      <td>1.0</td>\n      <td>1.0</td>\n      <td>1.0</td>\n      <td>1.0</td>\n      <td>1.0</td>\n      <td>1.0</td>\n      <td>1.0</td>\n      <td>1.0</td>\n      <td>1.0</td>\n      <td>1.0</td>\n      <td>1.0</td>\n      <td>1.0</td>\n      <td>1.0</td>\n      <td>1.0</td>\n      <td>1.0</td>\n      <td>1.0</td>\n      <td>1.0</td>\n      <td>1.0</td>\n      <td>1.0</td>\n      <td>1.0</td>\n      <td>1.0</td>\n      <td>1.0</td>\n      <td>1.0</td>\n      <td>0.0</td>\n      <td>0.0</td>\n      <td>0.0</td>\n      <td>0.0</td>\n      <td>0.0</td>\n      <td>0.0</td>\n      <td>0.0</td>\n      <td>0.0</td>\n      <td>0.0</td>\n      <td>0.0</td>\n      <td>0.0</td>\n      <td>0.0</td>\n      <td>116.0</td>\n      <td>120.0</td>\n      <td>123.5</td>\n      <td>127.0</td>\n      <td>135.0</td>\n      <td>137.5</td>\n      <td>140.0</td>\n      <td>141.0</td>\n      <td>1.0</td>\n      <td>0.647283</td>\n      <td>0.039561</td>\n      <td>-0.690181</td>\n      <td>-1.368923</td>\n      <td>-1.586273</td>\n      <td>NaN</td>\n      <td>NaN</td>\n      <td>NaN</td>\n      <td>NaN</td>\n      <td>-0.591706</td>\n      <td>-0.690181</td>\n      <td>0.707304</td>\n      <td>1.0</td>\n      <td>0.647283</td>\n      <td>-0.653008</td>\n      <td>NaN</td>\n      <td>NaN</td>\n      <td>NaN</td>\n      <td>NaN</td>\n      <td>NaN</td>\n      <td>NaN</td>\n      <td>NaN</td>\n      <td>1.0</td>\n      <td>1.0</td>\n      <td>1.0</td>\n      <td>0.0</td>\n      <td>0.0</td>\n      <td>0.0</td>\n      <td>0.0</td>\n      <td>1.560710</td>\n      <td>0.166667</td>\n      <td>0.333333</td>\n      <td>0.500000</td>\n      <td>0.5</td>\n      <td>0.666667</td>\n      <td>0.833333</td>\n      <td>0.833333</td>\n      <td>1.0</td>\n      <td>66.659933</td>\n      <td>115.890555</td>\n      <td>94.066485</td>\n      <td>68.834590</td>\n      <td>133.686668</td>\n      <td>166.156708</td>\n      <td>130.705331</td>\n      <td>94.947092</td>\n      <td>165.244317</td>\n      <td>214.177738</td>\n      <td>168.360766</td>\n      <td>122.256298</td>\n      <td>159.267815</td>\n      <td>253.210560</td>\n      <td>203.850077</td>\n      <td>148.883895</td>\n      <td>189.487861</td>\n      <td>226.741089</td>\n      <td>176.377327</td>\n      <td>127.747860</td>\n      <td>164.434032</td>\n      <td>185.906681</td>\n      <td>144.494633</td>\n      <td>104.658060</td>\n      <td>NaN</td>\n      <td>NaN</td>\n      <td>NaN</td>\n      <td>NaN</td>\n      <td>NaN</td>\n      <td>NaN</td>\n      <td>NaN</td>\n      <td>NaN</td>\n      <td>NaN</td>\n      <td>NaN</td>\n      <td>NaN</td>\n      <td>NaN</td>\n      <td>NaN</td>\n      <td>NaN</td>\n      <td>NaN</td>\n      <td>NaN</td>\n      <td>NaN</td>\n      <td>NaN</td>\n      <td>NaN</td>\n      <td>NaN</td>\n      <td>NaN</td>\n      <td>NaN</td>\n      <td>NaN</td>\n      <td>NaN</td>\n      <td>NaN</td>\n      <td>NaN</td>\n      <td>NaN</td>\n      <td>NaN</td>\n      <td>NaN</td>\n      <td>NaN</td>\n      <td>NaN</td>\n      <td>NaN</td>\n      <td>NaN</td>\n      <td>NaN</td>\n      <td>NaN</td>\n      <td>NaN</td>\n      <td>28.388889</td>\n      <td>NaN</td>\n      <td>NaN</td>\n      <td>NaN</td>\n      <td>NaN</td>\n      <td>NaN</td>\n      <td>NaN</td>\n      <td>NaN</td>\n      <td>NaN</td>\n      <td>NaN</td>\n      <td>NaN</td>\n      <td>NaN</td>\n      <td>NaN</td>\n      <td>0.0</td>\n      <td>8.0</td>\n      <td>0.0</td>\n      <td>8.0</td>\n      <td>0.0</td>\n      <td>7.5</td>\n      <td>0.25</td>\n      <td>7.5</td>\n      <td>0.25</td>\n      <td>7.666667</td>\n      <td>0.222222</td>\n      <td>7.666667</td>\n      <td>0.222222</td>\n      <td>7.666667</td>\n      <td>0.222222</td>\n      <td>7.666667</td>\n      <td>0.222222</td>\n      <td>5.6</td>\n      <td>14.64</td>\n      <td>6.4</td>\n      <td>5.04</td>\n      <td>7.0</td>\n      <td>0.0</td>\n      <td>7.0</td>\n      <td>0.0</td>\n      <td>7.5</td>\n      <td>0.25</td>\n      <td>7.5</td>\n      <td>0.25</td>\n      <td>7.500000</td>\n      <td>0.250000</td>\n      <td>7.500000</td>\n      <td>0.250000</td>\n      <td>5.000000</td>\n      <td>16.500000</td>\n      <td>6.000000</td>\n      <td>5.500000</td>\n      <td>8.0</td>\n      <td>0.0</td>\n      <td>8.0</td>\n      <td>0.0</td>\n      <td>8.0</td>\n      <td>0.00</td>\n      <td>8.0</td>\n      <td>0.00</td>\n      <td>4.333333</td>\n      <td>20.222222</td>\n      <td>...</td>\n      <td>NaN</td>\n      <td>NaN</td>\n      <td>NaN</td>\n      <td>NaN</td>\n      <td>NaN</td>\n      <td>NaN</td>\n      <td>NaN</td>\n      <td>NaN</td>\n      <td>NaN</td>\n      <td>NaN</td>\n      <td>NaN</td>\n      <td>NaN</td>\n      <td>NaN</td>\n      <td>NaN</td>\n      <td>NaN</td>\n      <td>NaN</td>\n      <td>NaN</td>\n      <td>NaN</td>\n      <td>NaN</td>\n      <td>NaN</td>\n      <td>NaN</td>\n      <td>NaN</td>\n      <td>NaN</td>\n      <td>NaN</td>\n      <td>NaN</td>\n      <td>NaN</td>\n      <td>0.0</td>\n      <td>132.216349</td>\n      <td>166.102114</td>\n      <td>180.0</td>\n      <td>NaN</td>\n      <td>NaN</td>\n      <td>NaN</td>\n      <td>NaN</td>\n      <td>NaN</td>\n      <td>NaN</td>\n      <td>NaN</td>\n      <td>NaN</td>\n      <td>NaN</td>\n      <td>NaN</td>\n      <td>NaN</td>\n      <td>NaN</td>\n      <td>NaN</td>\n      <td>NaN</td>\n      <td>NaN</td>\n      <td>NaN</td>\n      <td>NaN</td>\n      <td>NaN</td>\n      <td>NaN</td>\n      <td>NaN</td>\n      <td>NaN</td>\n      <td>NaN</td>\n      <td>NaN</td>\n      <td>NaN</td>\n      <td>NaN</td>\n      <td>NaN</td>\n      <td>NaN</td>\n      <td>NaN</td>\n      <td>NaN</td>\n      <td>NaN</td>\n      <td>NaN</td>\n      <td>NaN</td>\n      <td>NaN</td>\n      <td>NaN</td>\n      <td>NaN</td>\n      <td>NaN</td>\n      <td>NaN</td>\n      <td>NaN</td>\n      <td>NaN</td>\n      <td>NaN</td>\n      <td>NaN</td>\n      <td>NaN</td>\n      <td>NaN</td>\n      <td>NaN</td>\n      <td>NaN</td>\n      <td>NaN</td>\n      <td>NaN</td>\n      <td>NaN</td>\n      <td>NaN</td>\n      <td>NaN</td>\n      <td>NaN</td>\n      <td>NaN</td>\n      <td>NaN</td>\n      <td>NaN</td>\n      <td>NaN</td>\n      <td>NaN</td>\n      <td>NaN</td>\n      <td>NaN</td>\n      <td>NaN</td>\n      <td>NaN</td>\n      <td>NaN</td>\n      <td>NaN</td>\n      <td>NaN</td>\n      <td>NaN</td>\n      <td>NaN</td>\n      <td>NaN</td>\n      <td>NaN</td>\n      <td>NaN</td>\n      <td>NaN</td>\n      <td>NaN</td>\n      <td>NaN</td>\n      <td>NaN</td>\n      <td>NaN</td>\n      <td>NaN</td>\n      <td>NaN</td>\n      <td>NaN</td>\n      <td>NaN</td>\n      <td>NaN</td>\n      <td>NaN</td>\n      <td>NaN</td>\n      <td>NaN</td>\n      <td>NaN</td>\n      <td>NaN</td>\n      <td>NaN</td>\n      <td>NaN</td>\n      <td>NaN</td>\n      <td>NaN</td>\n      <td>NaN</td>\n      <td>NaN</td>\n      <td>NaN</td>\n      <td>NaN</td>\n      <td>NaN</td>\n      <td>NaN</td>\n      <td>NaN</td>\n      <td>NaN</td>\n      <td>NaN</td>\n      <td>0.140152</td>\n      <td>0.261925</td>\n      <td>NaN</td>\n      <td>NaN</td>\n      <td>0.0</td>\n      <td>0.0</td>\n      <td>0.0</td>\n      <td>0.0</td>\n      <td>0.0</td>\n      <td>6.0</td>\n      <td>0.223144</td>\n      <td>0.223144</td>\n      <td>0.223144</td>\n      <td>0.054115</td>\n      <td>0.182597</td>\n      <td>-0.002123</td>\n      <td>0.785852</td>\n      <td>-96.719366</td>\n      <td>3.966028e+03</td>\n      <td>140.949346</td>\n      <td>1.594748e-03</td>\n      <td>0.967214</td>\n      <td>114.047619</td>\n      <td>6.114286</td>\n      <td>0.802716</td>\n      <td>-1.0</td>\n      <td>1.0</td>\n      <td>1.0</td>\n      <td>-1.0</td>\n      <td>NaN</td>\n      <td>NaN</td>\n      <td>NaN</td>\n      <td>NaN</td>\n      <td>NaN</td>\n      <td>NaN</td>\n      <td>NaN</td>\n      <td>NaN</td>\n      <td>142.0</td>\n      <td>112.0</td>\n      <td>127.2</td>\n      <td>112.56</td>\n      <td>NaN</td>\n      <td>NaN</td>\n      <td>NaN</td>\n      <td>NaN</td>\n      <td>NaN</td>\n      <td>NaN</td>\n      <td>NaN</td>\n      <td>NaN</td>\n      <td>-2.0</td>\n      <td>28.0</td>\n      <td>12.8</td>\n      <td>-112.56</td>\n      <td>NaN</td>\n      <td>NaN</td>\n      <td>NaN</td>\n      <td>NaN</td>\n      <td>NaN</td>\n      <td>NaN</td>\n      <td>NaN</td>\n      <td>NaN</td>\n      <td>0.0</td>\n      <td>0.0</td>\n      <td>0.0</td>\n      <td>0.0</td>\n      <td>NaN</td>\n      <td>NaN</td>\n      <td>NaN</td>\n      <td>NaN</td>\n      <td>NaN</td>\n      <td>NaN</td>\n      <td>NaN</td>\n      <td>NaN</td>\n      <td>-1.861625</td>\n      <td>3.503234e-01</td>\n      <td>0.0</td>\n      <td>0.0</td>\n      <td>0.0</td>\n      <td>0.0</td>\n      <td>0.124122</td>\n      <td>0.142487</td>\n      <td>0.159595</td>\n      <td>0.180335</td>\n      <td>0.199521</td>\n      <td>0.193940</td>\n      <td>0.0</td>\n      <td>0.0</td>\n      <td>0.0</td>\n      <td>0.0</td>\n      <td>0.833333</td>\n      <td>0.333333</td>\n      <td>0.166667</td>\n      <td>0.0</td>\n      <td>0.0</td>\n      <td>0.0</td>\n      <td>0.0</td>\n      <td>0.0</td>\n      <td>0.0</td>\n      <td>0.0</td>\n      <td>1.0</td>\n      <td>0.0</td>\n      <td>0.5</td>\n      <td>0.666667</td>\n      <td>0.666667</td>\n      <td>0.833333</td>\n      <td>1.0</td>\n      <td>0.562335</td>\n      <td>0.562335</td>\n      <td>1.039721</td>\n      <td>1.386294</td>\n      <td>1.386294</td>\n      <td>0.562335</td>\n      <td>0.636514</td>\n      <td>0.693147</td>\n      <td>-0.0</td>\n      <td>NaN</td>\n      <td>NaN</td>\n      <td>NaN</td>\n      <td>NaN</td>\n      <td>NaN</td>\n      <td>NaN</td>\n      <td>NaN</td>\n      <td>NaN</td>\n      <td>145</td>\n    </tr>\n    <tr>\n      <th>4</th>\n      <td>1.0</td>\n      <td>0.0</td>\n      <td>0.0</td>\n      <td>0.0</td>\n      <td>809.0</td>\n      <td>109543.0</td>\n      <td>5.8</td>\n      <td>5.0</td>\n      <td>-0.250</td>\n      <td>137.5</td>\n      <td>134.833333</td>\n      <td>6.0</td>\n      <td>8.782875</td>\n      <td>0.065139</td>\n      <td>77.138889</td>\n      <td>-0.736883</td>\n      <td>-0.840936</td>\n      <td>135.119083</td>\n      <td>29.0</td>\n      <td>2.0</td>\n      <td>4.0</td>\n      <td>4.0</td>\n      <td>2.0</td>\n      <td>1.000000</td>\n      <td>0.833333</td>\n      <td>0.166667</td>\n      <td>0.000000</td>\n      <td>0.0</td>\n      <td>0.0</td>\n      <td>0.0</td>\n      <td>0.0</td>\n      <td>1.0</td>\n      <td>NaN</td>\n      <td>145.0</td>\n      <td>120.0</td>\n      <td>0.864123</td>\n      <td>336572.50</td>\n      <td>698616.0</td>\n      <td>0.0</td>\n      <td>2514597.50</td>\n      <td>2441465.0</td>\n      <td>0.0</td>\n      <td>1.573548</td>\n      <td>13.820275</td>\n      <td>0.0</td>\n      <td>0.0</td>\n      <td>0.0</td>\n      <td>1.0</td>\n      <td>1.0</td>\n      <td>1.0</td>\n      <td>1.0</td>\n      <td>1.0</td>\n      <td>1.0</td>\n      <td>1.0</td>\n      <td>1.0</td>\n      <td>1.0</td>\n      <td>1.0</td>\n      <td>1.0</td>\n      <td>1.0</td>\n      <td>1.0</td>\n      <td>1.0</td>\n      <td>1.0</td>\n      <td>1.0</td>\n      <td>1.0</td>\n      <td>1.0</td>\n      <td>1.0</td>\n      <td>1.0</td>\n      <td>1.0</td>\n      <td>1.0</td>\n      <td>1.0</td>\n      <td>1.0</td>\n      <td>0.0</td>\n      <td>0.0</td>\n      <td>0.0</td>\n      <td>0.0</td>\n      <td>0.0</td>\n      <td>0.0</td>\n      <td>0.0</td>\n      <td>0.0</td>\n      <td>0.0</td>\n      <td>0.0</td>\n      <td>0.0</td>\n      <td>0.0</td>\n      <td>123.5</td>\n      <td>127.0</td>\n      <td>131.0</td>\n      <td>135.0</td>\n      <td>140.0</td>\n      <td>141.0</td>\n      <td>142.0</td>\n      <td>143.5</td>\n      <td>1.0</td>\n      <td>0.533165</td>\n      <td>0.048974</td>\n      <td>-0.626936</td>\n      <td>-1.012964</td>\n      <td>-1.954987</td>\n      <td>NaN</td>\n      <td>NaN</td>\n      <td>NaN</td>\n      <td>NaN</td>\n      <td>-0.602550</td>\n      <td>-0.626936</td>\n      <td>0.742491</td>\n      <td>1.0</td>\n      <td>0.533165</td>\n      <td>-0.328741</td>\n      <td>NaN</td>\n      <td>NaN</td>\n      <td>NaN</td>\n      <td>NaN</td>\n      <td>NaN</td>\n      <td>NaN</td>\n      <td>NaN</td>\n      <td>1.0</td>\n      <td>1.0</td>\n      <td>1.0</td>\n      <td>0.0</td>\n      <td>0.0</td>\n      <td>0.0</td>\n      <td>0.0</td>\n      <td>1.560710</td>\n      <td>0.166667</td>\n      <td>0.333333</td>\n      <td>0.333333</td>\n      <td>0.5</td>\n      <td>0.666667</td>\n      <td>0.833333</td>\n      <td>0.833333</td>\n      <td>1.0</td>\n      <td>71.272311</td>\n      <td>123.363126</td>\n      <td>100.101911</td>\n      <td>73.246195</td>\n      <td>142.560420</td>\n      <td>176.384590</td>\n      <td>138.669352</td>\n      <td>100.717887</td>\n      <td>176.957287</td>\n      <td>224.457149</td>\n      <td>175.937529</td>\n      <td>127.668429</td>\n      <td>166.586312</td>\n      <td>263.966487</td>\n      <td>212.514109</td>\n      <td>155.214311</td>\n      <td>193.801577</td>\n      <td>234.835310</td>\n      <td>182.934410</td>\n      <td>132.542611</td>\n      <td>166.260055</td>\n      <td>191.468825</td>\n      <td>149.163835</td>\n      <td>108.100875</td>\n      <td>NaN</td>\n      <td>NaN</td>\n      <td>NaN</td>\n      <td>NaN</td>\n      <td>NaN</td>\n      <td>NaN</td>\n      <td>NaN</td>\n      <td>NaN</td>\n      <td>NaN</td>\n      <td>NaN</td>\n      <td>NaN</td>\n      <td>NaN</td>\n      <td>NaN</td>\n      <td>NaN</td>\n      <td>NaN</td>\n      <td>NaN</td>\n      <td>NaN</td>\n      <td>NaN</td>\n      <td>NaN</td>\n      <td>NaN</td>\n      <td>NaN</td>\n      <td>NaN</td>\n      <td>NaN</td>\n      <td>NaN</td>\n      <td>NaN</td>\n      <td>NaN</td>\n      <td>NaN</td>\n      <td>NaN</td>\n      <td>NaN</td>\n      <td>NaN</td>\n      <td>NaN</td>\n      <td>NaN</td>\n      <td>NaN</td>\n      <td>NaN</td>\n      <td>NaN</td>\n      <td>NaN</td>\n      <td>21.500000</td>\n      <td>NaN</td>\n      <td>NaN</td>\n      <td>NaN</td>\n      <td>NaN</td>\n      <td>NaN</td>\n      <td>NaN</td>\n      <td>NaN</td>\n      <td>NaN</td>\n      <td>NaN</td>\n      <td>NaN</td>\n      <td>NaN</td>\n      <td>NaN</td>\n      <td>0.0</td>\n      <td>7.0</td>\n      <td>0.0</td>\n      <td>7.0</td>\n      <td>0.0</td>\n      <td>7.5</td>\n      <td>0.25</td>\n      <td>7.5</td>\n      <td>0.25</td>\n      <td>7.500000</td>\n      <td>0.250000</td>\n      <td>7.500000</td>\n      <td>0.250000</td>\n      <td>5.000000</td>\n      <td>16.500000</td>\n      <td>6.000000</td>\n      <td>5.500000</td>\n      <td>5.0</td>\n      <td>13.20</td>\n      <td>5.8</td>\n      <td>4.56</td>\n      <td>8.0</td>\n      <td>0.0</td>\n      <td>8.0</td>\n      <td>0.0</td>\n      <td>8.0</td>\n      <td>0.00</td>\n      <td>8.0</td>\n      <td>0.00</td>\n      <td>4.333333</td>\n      <td>20.222222</td>\n      <td>5.666667</td>\n      <td>6.888889</td>\n      <td>4.500000</td>\n      <td>15.250000</td>\n      <td>5.500000</td>\n      <td>5.250000</td>\n      <td>0.0</td>\n      <td>0.0</td>\n      <td>0.0</td>\n      <td>0.0</td>\n      <td>2.5</td>\n      <td>20.25</td>\n      <td>4.5</td>\n      <td>6.25</td>\n      <td>3.333333</td>\n      <td>14.888889</td>\n      <td>...</td>\n      <td>NaN</td>\n      <td>NaN</td>\n      <td>NaN</td>\n      <td>NaN</td>\n      <td>NaN</td>\n      <td>NaN</td>\n      <td>NaN</td>\n      <td>NaN</td>\n      <td>NaN</td>\n      <td>NaN</td>\n      <td>NaN</td>\n      <td>NaN</td>\n      <td>NaN</td>\n      <td>NaN</td>\n      <td>NaN</td>\n      <td>NaN</td>\n      <td>NaN</td>\n      <td>NaN</td>\n      <td>NaN</td>\n      <td>NaN</td>\n      <td>NaN</td>\n      <td>NaN</td>\n      <td>NaN</td>\n      <td>NaN</td>\n      <td>NaN</td>\n      <td>NaN</td>\n      <td>0.0</td>\n      <td>139.715412</td>\n      <td>135.608399</td>\n      <td>180.0</td>\n      <td>NaN</td>\n      <td>NaN</td>\n      <td>NaN</td>\n      <td>NaN</td>\n      <td>NaN</td>\n      <td>NaN</td>\n      <td>NaN</td>\n      <td>NaN</td>\n      <td>NaN</td>\n      <td>NaN</td>\n      <td>NaN</td>\n      <td>NaN</td>\n      <td>NaN</td>\n      <td>NaN</td>\n      <td>NaN</td>\n      <td>NaN</td>\n      <td>NaN</td>\n      <td>NaN</td>\n      <td>NaN</td>\n      <td>NaN</td>\n      <td>NaN</td>\n      <td>NaN</td>\n      <td>NaN</td>\n      <td>NaN</td>\n      <td>NaN</td>\n      <td>NaN</td>\n      <td>NaN</td>\n      <td>NaN</td>\n      <td>NaN</td>\n      <td>NaN</td>\n      <td>NaN</td>\n      <td>NaN</td>\n      <td>NaN</td>\n      <td>NaN</td>\n      <td>NaN</td>\n      <td>NaN</td>\n      <td>NaN</td>\n      <td>NaN</td>\n      <td>NaN</td>\n      <td>NaN</td>\n      <td>NaN</td>\n      <td>NaN</td>\n      <td>NaN</td>\n      <td>NaN</td>\n      <td>NaN</td>\n      <td>NaN</td>\n      <td>NaN</td>\n      <td>NaN</td>\n      <td>NaN</td>\n      <td>NaN</td>\n      <td>NaN</td>\n      <td>NaN</td>\n      <td>NaN</td>\n      <td>NaN</td>\n      <td>NaN</td>\n      <td>NaN</td>\n      <td>NaN</td>\n      <td>NaN</td>\n      <td>NaN</td>\n      <td>NaN</td>\n      <td>NaN</td>\n      <td>NaN</td>\n      <td>NaN</td>\n      <td>NaN</td>\n      <td>NaN</td>\n      <td>NaN</td>\n      <td>NaN</td>\n      <td>NaN</td>\n      <td>NaN</td>\n      <td>NaN</td>\n      <td>NaN</td>\n      <td>NaN</td>\n      <td>NaN</td>\n      <td>NaN</td>\n      <td>NaN</td>\n      <td>NaN</td>\n      <td>NaN</td>\n      <td>NaN</td>\n      <td>NaN</td>\n      <td>NaN</td>\n      <td>NaN</td>\n      <td>NaN</td>\n      <td>NaN</td>\n      <td>NaN</td>\n      <td>NaN</td>\n      <td>NaN</td>\n      <td>NaN</td>\n      <td>NaN</td>\n      <td>NaN</td>\n      <td>NaN</td>\n      <td>NaN</td>\n      <td>NaN</td>\n      <td>NaN</td>\n      <td>NaN</td>\n      <td>NaN</td>\n      <td>NaN</td>\n      <td>0.137150</td>\n      <td>0.285430</td>\n      <td>NaN</td>\n      <td>NaN</td>\n      <td>0.0</td>\n      <td>0.0</td>\n      <td>0.0</td>\n      <td>0.0</td>\n      <td>0.0</td>\n      <td>6.0</td>\n      <td>0.223144</td>\n      <td>0.223144</td>\n      <td>0.223144</td>\n      <td>0.273838</td>\n      <td>0.089450</td>\n      <td>-0.004209</td>\n      <td>1.608779</td>\n      <td>-204.647332</td>\n      <td>8.672101e+03</td>\n      <td>141.591598</td>\n      <td>3.683927e-03</td>\n      <td>0.950024</td>\n      <td>122.619048</td>\n      <td>4.885714</td>\n      <td>0.802716</td>\n      <td>1.0</td>\n      <td>1.0</td>\n      <td>1.0</td>\n      <td>-1.0</td>\n      <td>NaN</td>\n      <td>NaN</td>\n      <td>NaN</td>\n      <td>NaN</td>\n      <td>NaN</td>\n      <td>NaN</td>\n      <td>NaN</td>\n      <td>NaN</td>\n      <td>142.0</td>\n      <td>120.0</td>\n      <td>132.8</td>\n      <td>67.76</td>\n      <td>NaN</td>\n      <td>NaN</td>\n      <td>NaN</td>\n      <td>NaN</td>\n      <td>NaN</td>\n      <td>NaN</td>\n      <td>NaN</td>\n      <td>NaN</td>\n      <td>3.0</td>\n      <td>25.0</td>\n      <td>12.2</td>\n      <td>-67.76</td>\n      <td>NaN</td>\n      <td>NaN</td>\n      <td>NaN</td>\n      <td>NaN</td>\n      <td>NaN</td>\n      <td>NaN</td>\n      <td>NaN</td>\n      <td>NaN</td>\n      <td>0.0</td>\n      <td>0.0</td>\n      <td>0.0</td>\n      <td>0.0</td>\n      <td>NaN</td>\n      <td>NaN</td>\n      <td>NaN</td>\n      <td>NaN</td>\n      <td>NaN</td>\n      <td>NaN</td>\n      <td>NaN</td>\n      <td>NaN</td>\n      <td>-1.645681</td>\n      <td>4.592939e-01</td>\n      <td>0.0</td>\n      <td>0.0</td>\n      <td>0.0</td>\n      <td>0.0</td>\n      <td>0.131455</td>\n      <td>0.147239</td>\n      <td>0.166373</td>\n      <td>0.184074</td>\n      <td>0.178925</td>\n      <td>0.191934</td>\n      <td>0.0</td>\n      <td>0.0</td>\n      <td>0.0</td>\n      <td>0.0</td>\n      <td>0.833333</td>\n      <td>0.333333</td>\n      <td>0.166667</td>\n      <td>0.0</td>\n      <td>0.0</td>\n      <td>0.0</td>\n      <td>0.0</td>\n      <td>0.0</td>\n      <td>0.0</td>\n      <td>0.0</td>\n      <td>1.0</td>\n      <td>0.0</td>\n      <td>0.5</td>\n      <td>0.666667</td>\n      <td>0.833333</td>\n      <td>0.833333</td>\n      <td>1.0</td>\n      <td>0.693147</td>\n      <td>1.039721</td>\n      <td>1.039721</td>\n      <td>1.386294</td>\n      <td>1.386294</td>\n      <td>1.039721</td>\n      <td>1.098612</td>\n      <td>0.693147</td>\n      <td>-0.0</td>\n      <td>NaN</td>\n      <td>NaN</td>\n      <td>NaN</td>\n      <td>NaN</td>\n      <td>NaN</td>\n      <td>NaN</td>\n      <td>NaN</td>\n      <td>NaN</td>\n      <td>148</td>\n    </tr>\n    <tr>\n      <th>...</th>\n      <td>...</td>\n      <td>...</td>\n      <td>...</td>\n      <td>...</td>\n      <td>...</td>\n      <td>...</td>\n      <td>...</td>\n      <td>...</td>\n      <td>...</td>\n      <td>...</td>\n      <td>...</td>\n      <td>...</td>\n      <td>...</td>\n      <td>...</td>\n      <td>...</td>\n      <td>...</td>\n      <td>...</td>\n      <td>...</td>\n      <td>...</td>\n      <td>...</td>\n      <td>...</td>\n      <td>...</td>\n      <td>...</td>\n      <td>...</td>\n      <td>...</td>\n      <td>...</td>\n      <td>...</td>\n      <td>...</td>\n      <td>...</td>\n      <td>...</td>\n      <td>...</td>\n      <td>...</td>\n      <td>...</td>\n      <td>...</td>\n      <td>...</td>\n      <td>...</td>\n      <td>...</td>\n      <td>...</td>\n      <td>...</td>\n      <td>...</td>\n      <td>...</td>\n      <td>...</td>\n      <td>...</td>\n      <td>...</td>\n      <td>...</td>\n      <td>...</td>\n      <td>...</td>\n      <td>...</td>\n      <td>...</td>\n      <td>...</td>\n      <td>...</td>\n      <td>...</td>\n      <td>...</td>\n      <td>...</td>\n      <td>...</td>\n      <td>...</td>\n      <td>...</td>\n      <td>...</td>\n      <td>...</td>\n      <td>...</td>\n      <td>...</td>\n      <td>...</td>\n      <td>...</td>\n      <td>...</td>\n      <td>...</td>\n      <td>...</td>\n      <td>...</td>\n      <td>...</td>\n      <td>...</td>\n      <td>...</td>\n      <td>...</td>\n      <td>...</td>\n      <td>...</td>\n      <td>...</td>\n      <td>...</td>\n      <td>...</td>\n      <td>...</td>\n      <td>...</td>\n      <td>...</td>\n      <td>...</td>\n      <td>...</td>\n      <td>...</td>\n      <td>...</td>\n      <td>...</td>\n      <td>...</td>\n      <td>...</td>\n      <td>...</td>\n      <td>...</td>\n      <td>...</td>\n      <td>...</td>\n      <td>...</td>\n      <td>...</td>\n      <td>...</td>\n      <td>...</td>\n      <td>...</td>\n      <td>...</td>\n      <td>...</td>\n      <td>...</td>\n      <td>...</td>\n      <td>...</td>\n      <td>...</td>\n      <td>...</td>\n      <td>...</td>\n      <td>...</td>\n      <td>...</td>\n      <td>...</td>\n      <td>...</td>\n      <td>...</td>\n      <td>...</td>\n      <td>...</td>\n      <td>...</td>\n      <td>...</td>\n      <td>...</td>\n      <td>...</td>\n      <td>...</td>\n      <td>...</td>\n      <td>...</td>\n      <td>...</td>\n      <td>...</td>\n      <td>...</td>\n      <td>...</td>\n      <td>...</td>\n      <td>...</td>\n      <td>...</td>\n      <td>...</td>\n      <td>...</td>\n      <td>...</td>\n      <td>...</td>\n      <td>...</td>\n      <td>...</td>\n      <td>...</td>\n      <td>...</td>\n      <td>...</td>\n      <td>...</td>\n      <td>...</td>\n      <td>...</td>\n      <td>...</td>\n      <td>...</td>\n      <td>...</td>\n      <td>...</td>\n      <td>...</td>\n      <td>...</td>\n      <td>...</td>\n      <td>...</td>\n      <td>...</td>\n      <td>...</td>\n      <td>...</td>\n      <td>...</td>\n      <td>...</td>\n      <td>...</td>\n      <td>...</td>\n      <td>...</td>\n      <td>...</td>\n      <td>...</td>\n      <td>...</td>\n      <td>...</td>\n      <td>...</td>\n      <td>...</td>\n      <td>...</td>\n      <td>...</td>\n      <td>...</td>\n      <td>...</td>\n      <td>...</td>\n      <td>...</td>\n      <td>...</td>\n      <td>...</td>\n      <td>...</td>\n      <td>...</td>\n      <td>...</td>\n      <td>...</td>\n      <td>...</td>\n      <td>...</td>\n      <td>...</td>\n      <td>...</td>\n      <td>...</td>\n      <td>...</td>\n      <td>...</td>\n      <td>...</td>\n      <td>...</td>\n      <td>...</td>\n      <td>...</td>\n      <td>...</td>\n      <td>...</td>\n      <td>...</td>\n      <td>...</td>\n      <td>...</td>\n      <td>...</td>\n      <td>...</td>\n      <td>...</td>\n      <td>...</td>\n      <td>...</td>\n      <td>...</td>\n      <td>...</td>\n      <td>...</td>\n      <td>...</td>\n      <td>...</td>\n      <td>...</td>\n      <td>...</td>\n      <td>...</td>\n      <td>...</td>\n      <td>...</td>\n      <td>...</td>\n      <td>...</td>\n      <td>...</td>\n      <td>...</td>\n      <td>...</td>\n      <td>...</td>\n      <td>...</td>\n      <td>...</td>\n      <td>...</td>\n      <td>...</td>\n      <td>...</td>\n      <td>...</td>\n      <td>...</td>\n      <td>...</td>\n      <td>...</td>\n      <td>...</td>\n      <td>...</td>\n      <td>...</td>\n      <td>...</td>\n      <td>...</td>\n      <td>...</td>\n      <td>...</td>\n      <td>...</td>\n      <td>...</td>\n      <td>...</td>\n      <td>...</td>\n      <td>...</td>\n      <td>...</td>\n      <td>...</td>\n      <td>...</td>\n      <td>...</td>\n      <td>...</td>\n      <td>...</td>\n      <td>...</td>\n      <td>...</td>\n      <td>...</td>\n      <td>...</td>\n      <td>...</td>\n      <td>...</td>\n      <td>...</td>\n      <td>...</td>\n      <td>...</td>\n      <td>...</td>\n      <td>...</td>\n      <td>...</td>\n      <td>...</td>\n      <td>...</td>\n      <td>...</td>\n      <td>...</td>\n      <td>...</td>\n      <td>...</td>\n      <td>...</td>\n      <td>...</td>\n      <td>...</td>\n      <td>...</td>\n      <td>...</td>\n      <td>...</td>\n      <td>...</td>\n      <td>...</td>\n      <td>...</td>\n      <td>...</td>\n      <td>...</td>\n      <td>...</td>\n      <td>...</td>\n      <td>...</td>\n      <td>...</td>\n      <td>...</td>\n      <td>...</td>\n      <td>...</td>\n      <td>...</td>\n      <td>...</td>\n      <td>...</td>\n      <td>...</td>\n      <td>...</td>\n      <td>...</td>\n      <td>...</td>\n      <td>...</td>\n      <td>...</td>\n      <td>...</td>\n      <td>...</td>\n      <td>...</td>\n      <td>...</td>\n      <td>...</td>\n      <td>...</td>\n      <td>...</td>\n      <td>...</td>\n      <td>...</td>\n      <td>...</td>\n      <td>...</td>\n      <td>...</td>\n      <td>...</td>\n      <td>...</td>\n      <td>...</td>\n      <td>...</td>\n      <td>...</td>\n      <td>...</td>\n      <td>...</td>\n      <td>...</td>\n      <td>...</td>\n      <td>...</td>\n      <td>...</td>\n      <td>...</td>\n      <td>...</td>\n      <td>...</td>\n      <td>...</td>\n      <td>...</td>\n      <td>...</td>\n      <td>...</td>\n      <td>...</td>\n      <td>...</td>\n      <td>...</td>\n      <td>...</td>\n      <td>...</td>\n      <td>...</td>\n      <td>...</td>\n      <td>...</td>\n      <td>...</td>\n      <td>...</td>\n      <td>...</td>\n      <td>...</td>\n      <td>...</td>\n      <td>...</td>\n      <td>...</td>\n      <td>...</td>\n      <td>...</td>\n      <td>...</td>\n      <td>...</td>\n      <td>...</td>\n      <td>...</td>\n      <td>...</td>\n      <td>...</td>\n      <td>...</td>\n      <td>...</td>\n      <td>...</td>\n      <td>...</td>\n      <td>...</td>\n      <td>...</td>\n      <td>...</td>\n      <td>...</td>\n      <td>...</td>\n      <td>...</td>\n      <td>...</td>\n      <td>...</td>\n      <td>...</td>\n      <td>...</td>\n      <td>...</td>\n      <td>...</td>\n      <td>...</td>\n      <td>...</td>\n      <td>...</td>\n      <td>...</td>\n      <td>...</td>\n      <td>...</td>\n      <td>...</td>\n      <td>...</td>\n      <td>...</td>\n      <td>...</td>\n      <td>...</td>\n      <td>...</td>\n      <td>...</td>\n      <td>...</td>\n      <td>...</td>\n      <td>...</td>\n      <td>...</td>\n      <td>...</td>\n      <td>...</td>\n      <td>...</td>\n      <td>...</td>\n      <td>...</td>\n      <td>...</td>\n      <td>...</td>\n      <td>...</td>\n      <td>...</td>\n      <td>...</td>\n      <td>...</td>\n      <td>...</td>\n      <td>...</td>\n      <td>...</td>\n      <td>...</td>\n      <td>...</td>\n      <td>...</td>\n      <td>...</td>\n      <td>...</td>\n      <td>...</td>\n      <td>...</td>\n      <td>...</td>\n      <td>...</td>\n      <td>...</td>\n      <td>...</td>\n      <td>...</td>\n      <td>...</td>\n      <td>...</td>\n      <td>...</td>\n      <td>...</td>\n      <td>...</td>\n      <td>...</td>\n      <td>...</td>\n      <td>...</td>\n      <td>...</td>\n      <td>...</td>\n      <td>...</td>\n      <td>...</td>\n      <td>...</td>\n      <td>...</td>\n      <td>...</td>\n      <td>...</td>\n      <td>...</td>\n      <td>...</td>\n      <td>...</td>\n      <td>...</td>\n      <td>...</td>\n      <td>...</td>\n      <td>...</td>\n      <td>...</td>\n      <td>...</td>\n      <td>...</td>\n      <td>...</td>\n      <td>...</td>\n      <td>...</td>\n      <td>...</td>\n      <td>...</td>\n      <td>...</td>\n      <td>...</td>\n      <td>...</td>\n      <td>...</td>\n      <td>...</td>\n      <td>...</td>\n      <td>...</td>\n      <td>...</td>\n      <td>...</td>\n      <td>...</td>\n      <td>...</td>\n      <td>...</td>\n      <td>...</td>\n      <td>...</td>\n      <td>...</td>\n      <td>...</td>\n      <td>...</td>\n      <td>...</td>\n      <td>...</td>\n      <td>...</td>\n      <td>...</td>\n      <td>...</td>\n      <td>...</td>\n      <td>...</td>\n      <td>...</td>\n      <td>...</td>\n      <td>...</td>\n      <td>...</td>\n      <td>...</td>\n      <td>...</td>\n      <td>...</td>\n      <td>...</td>\n      <td>...</td>\n      <td>...</td>\n      <td>...</td>\n      <td>...</td>\n      <td>...</td>\n      <td>...</td>\n      <td>...</td>\n      <td>...</td>\n      <td>...</td>\n      <td>...</td>\n      <td>...</td>\n      <td>...</td>\n      <td>...</td>\n      <td>...</td>\n      <td>...</td>\n      <td>...</td>\n      <td>...</td>\n      <td>...</td>\n      <td>...</td>\n      <td>...</td>\n      <td>...</td>\n      <td>...</td>\n      <td>...</td>\n      <td>...</td>\n      <td>...</td>\n      <td>...</td>\n      <td>...</td>\n      <td>...</td>\n      <td>...</td>\n      <td>...</td>\n      <td>...</td>\n      <td>...</td>\n      <td>...</td>\n      <td>...</td>\n      <td>...</td>\n      <td>...</td>\n      <td>...</td>\n      <td>...</td>\n      <td>...</td>\n      <td>...</td>\n      <td>...</td>\n      <td>...</td>\n      <td>...</td>\n      <td>...</td>\n      <td>...</td>\n      <td>...</td>\n      <td>...</td>\n    </tr>\n    <tr>\n      <th>2989</th>\n      <td>1.0</td>\n      <td>0.0</td>\n      <td>0.0</td>\n      <td>0.0</td>\n      <td>1073.0</td>\n      <td>194245.0</td>\n      <td>11.4</td>\n      <td>10.2</td>\n      <td>-2.625</td>\n      <td>187.0</td>\n      <td>178.833333</td>\n      <td>6.0</td>\n      <td>19.819323</td>\n      <td>0.110826</td>\n      <td>392.805556</td>\n      <td>-0.946231</td>\n      <td>-0.551626</td>\n      <td>179.928226</td>\n      <td>57.0</td>\n      <td>2.0</td>\n      <td>4.0</td>\n      <td>4.0</td>\n      <td>2.0</td>\n      <td>0.833333</td>\n      <td>0.666667</td>\n      <td>0.166667</td>\n      <td>0.000000</td>\n      <td>0.0</td>\n      <td>0.0</td>\n      <td>0.0</td>\n      <td>0.0</td>\n      <td>1.0</td>\n      <td>NaN</td>\n      <td>198.0</td>\n      <td>144.0</td>\n      <td>0.864123</td>\n      <td>1334281.50</td>\n      <td>2804877.0</td>\n      <td>0.0</td>\n      <td>6065145.00</td>\n      <td>5630310.0</td>\n      <td>0.0</td>\n      <td>1.487377</td>\n      <td>29.478806</td>\n      <td>0.0</td>\n      <td>0.0</td>\n      <td>0.0</td>\n      <td>0.0</td>\n      <td>1.0</td>\n      <td>1.0</td>\n      <td>1.0</td>\n      <td>1.0</td>\n      <td>1.0</td>\n      <td>1.0</td>\n      <td>1.0</td>\n      <td>1.0</td>\n      <td>1.0</td>\n      <td>1.0</td>\n      <td>1.0</td>\n      <td>1.0</td>\n      <td>1.0</td>\n      <td>1.0</td>\n      <td>1.0</td>\n      <td>1.0</td>\n      <td>1.0</td>\n      <td>1.0</td>\n      <td>1.0</td>\n      <td>1.0</td>\n      <td>1.0</td>\n      <td>1.0</td>\n      <td>1.0</td>\n      <td>0.0</td>\n      <td>0.0</td>\n      <td>0.0</td>\n      <td>0.0</td>\n      <td>0.0</td>\n      <td>0.0</td>\n      <td>0.0</td>\n      <td>0.0</td>\n      <td>0.0</td>\n      <td>0.0</td>\n      <td>0.0</td>\n      <td>0.0</td>\n      <td>153.0</td>\n      <td>162.0</td>\n      <td>171.0</td>\n      <td>180.0</td>\n      <td>194.0</td>\n      <td>194.5</td>\n      <td>195.0</td>\n      <td>196.5</td>\n      <td>1.0</td>\n      <td>0.603338</td>\n      <td>-0.018068</td>\n      <td>-0.706103</td>\n      <td>-1.196238</td>\n      <td>-1.433633</td>\n      <td>NaN</td>\n      <td>NaN</td>\n      <td>NaN</td>\n      <td>NaN</td>\n      <td>-0.550141</td>\n      <td>-0.706103</td>\n      <td>0.567188</td>\n      <td>1.0</td>\n      <td>0.603338</td>\n      <td>-0.600777</td>\n      <td>NaN</td>\n      <td>NaN</td>\n      <td>NaN</td>\n      <td>NaN</td>\n      <td>NaN</td>\n      <td>NaN</td>\n      <td>NaN</td>\n      <td>1.0</td>\n      <td>1.0</td>\n      <td>1.0</td>\n      <td>0.0</td>\n      <td>0.0</td>\n      <td>0.0</td>\n      <td>0.0</td>\n      <td>1.242453</td>\n      <td>0.166667</td>\n      <td>0.333333</td>\n      <td>0.500000</td>\n      <td>0.5</td>\n      <td>0.666667</td>\n      <td>0.833333</td>\n      <td>0.833333</td>\n      <td>1.0</td>\n      <td>84.628157</td>\n      <td>155.896248</td>\n      <td>127.153217</td>\n      <td>93.151212</td>\n      <td>176.340508</td>\n      <td>227.462183</td>\n      <td>179.679780</td>\n      <td>130.653473</td>\n      <td>227.770995</td>\n      <td>295.559503</td>\n      <td>232.399572</td>\n      <td>168.771001</td>\n      <td>227.789651</td>\n      <td>351.408386</td>\n      <td>282.115553</td>\n      <td>205.910773</td>\n      <td>268.814236</td>\n      <td>317.906849</td>\n      <td>246.898693</td>\n      <td>178.755013</td>\n      <td>229.869759</td>\n      <td>261.833593</td>\n      <td>203.674438</td>\n      <td>147.550788</td>\n      <td>NaN</td>\n      <td>NaN</td>\n      <td>NaN</td>\n      <td>NaN</td>\n      <td>NaN</td>\n      <td>NaN</td>\n      <td>NaN</td>\n      <td>NaN</td>\n      <td>NaN</td>\n      <td>NaN</td>\n      <td>NaN</td>\n      <td>NaN</td>\n      <td>NaN</td>\n      <td>NaN</td>\n      <td>NaN</td>\n      <td>NaN</td>\n      <td>NaN</td>\n      <td>NaN</td>\n      <td>NaN</td>\n      <td>NaN</td>\n      <td>NaN</td>\n      <td>NaN</td>\n      <td>NaN</td>\n      <td>NaN</td>\n      <td>NaN</td>\n      <td>NaN</td>\n      <td>NaN</td>\n      <td>NaN</td>\n      <td>NaN</td>\n      <td>NaN</td>\n      <td>NaN</td>\n      <td>NaN</td>\n      <td>NaN</td>\n      <td>NaN</td>\n      <td>NaN</td>\n      <td>NaN</td>\n      <td>70.055556</td>\n      <td>NaN</td>\n      <td>NaN</td>\n      <td>NaN</td>\n      <td>NaN</td>\n      <td>NaN</td>\n      <td>NaN</td>\n      <td>NaN</td>\n      <td>NaN</td>\n      <td>NaN</td>\n      <td>NaN</td>\n      <td>NaN</td>\n      <td>NaN</td>\n      <td>0.0</td>\n      <td>18.0</td>\n      <td>0.0</td>\n      <td>18.0</td>\n      <td>0.0</td>\n      <td>18.0</td>\n      <td>0.00</td>\n      <td>18.0</td>\n      <td>0.00</td>\n      <td>16.666667</td>\n      <td>3.555556</td>\n      <td>16.666667</td>\n      <td>3.555556</td>\n      <td>16.666667</td>\n      <td>3.555556</td>\n      <td>16.666667</td>\n      <td>3.555556</td>\n      <td>10.2</td>\n      <td>69.76</td>\n      <td>11.4</td>\n      <td>43.84</td>\n      <td>18.0</td>\n      <td>0.0</td>\n      <td>18.0</td>\n      <td>0.0</td>\n      <td>16.0</td>\n      <td>4.00</td>\n      <td>16.0</td>\n      <td>4.00</td>\n      <td>16.000000</td>\n      <td>4.000000</td>\n      <td>16.000000</td>\n      <td>4.000000</td>\n      <td>8.250000</td>\n      <td>68.187500</td>\n      <td>9.750000</td>\n      <td>41.187500</td>\n      <td>14.0</td>\n      <td>0.0</td>\n      <td>14.0</td>\n      <td>0.0</td>\n      <td>14.0</td>\n      <td>0.00</td>\n      <td>14.0</td>\n      <td>0.00</td>\n      <td>5.000000</td>\n      <td>48.666667</td>\n      <td>...</td>\n      <td>NaN</td>\n      <td>NaN</td>\n      <td>NaN</td>\n      <td>NaN</td>\n      <td>NaN</td>\n      <td>NaN</td>\n      <td>NaN</td>\n      <td>NaN</td>\n      <td>NaN</td>\n      <td>NaN</td>\n      <td>NaN</td>\n      <td>NaN</td>\n      <td>NaN</td>\n      <td>NaN</td>\n      <td>NaN</td>\n      <td>NaN</td>\n      <td>NaN</td>\n      <td>NaN</td>\n      <td>NaN</td>\n      <td>NaN</td>\n      <td>NaN</td>\n      <td>NaN</td>\n      <td>NaN</td>\n      <td>NaN</td>\n      <td>NaN</td>\n      <td>NaN</td>\n      <td>0.0</td>\n      <td>143.869138</td>\n      <td>156.233616</td>\n      <td>180.0</td>\n      <td>NaN</td>\n      <td>NaN</td>\n      <td>NaN</td>\n      <td>NaN</td>\n      <td>NaN</td>\n      <td>NaN</td>\n      <td>NaN</td>\n      <td>NaN</td>\n      <td>NaN</td>\n      <td>NaN</td>\n      <td>NaN</td>\n      <td>NaN</td>\n      <td>NaN</td>\n      <td>NaN</td>\n      <td>NaN</td>\n      <td>NaN</td>\n      <td>NaN</td>\n      <td>NaN</td>\n      <td>NaN</td>\n      <td>NaN</td>\n      <td>NaN</td>\n      <td>NaN</td>\n      <td>NaN</td>\n      <td>NaN</td>\n      <td>NaN</td>\n      <td>NaN</td>\n      <td>NaN</td>\n      <td>NaN</td>\n      <td>NaN</td>\n      <td>NaN</td>\n      <td>NaN</td>\n      <td>NaN</td>\n      <td>NaN</td>\n      <td>NaN</td>\n      <td>NaN</td>\n      <td>NaN</td>\n      <td>NaN</td>\n      <td>NaN</td>\n      <td>NaN</td>\n      <td>NaN</td>\n      <td>NaN</td>\n      <td>NaN</td>\n      <td>NaN</td>\n      <td>NaN</td>\n      <td>NaN</td>\n      <td>NaN</td>\n      <td>NaN</td>\n      <td>NaN</td>\n      <td>NaN</td>\n      <td>NaN</td>\n      <td>NaN</td>\n      <td>NaN</td>\n      <td>NaN</td>\n      <td>NaN</td>\n      <td>NaN</td>\n      <td>NaN</td>\n      <td>NaN</td>\n      <td>NaN</td>\n      <td>NaN</td>\n      <td>NaN</td>\n      <td>NaN</td>\n      <td>NaN</td>\n      <td>NaN</td>\n      <td>NaN</td>\n      <td>NaN</td>\n      <td>NaN</td>\n      <td>NaN</td>\n      <td>NaN</td>\n      <td>NaN</td>\n      <td>NaN</td>\n      <td>NaN</td>\n      <td>NaN</td>\n      <td>NaN</td>\n      <td>NaN</td>\n      <td>NaN</td>\n      <td>NaN</td>\n      <td>NaN</td>\n      <td>NaN</td>\n      <td>NaN</td>\n      <td>NaN</td>\n      <td>NaN</td>\n      <td>NaN</td>\n      <td>NaN</td>\n      <td>NaN</td>\n      <td>NaN</td>\n      <td>NaN</td>\n      <td>NaN</td>\n      <td>NaN</td>\n      <td>NaN</td>\n      <td>NaN</td>\n      <td>NaN</td>\n      <td>NaN</td>\n      <td>NaN</td>\n      <td>NaN</td>\n      <td>NaN</td>\n      <td>NaN</td>\n      <td>0.187219</td>\n      <td>0.349388</td>\n      <td>NaN</td>\n      <td>NaN</td>\n      <td>0.0</td>\n      <td>0.0</td>\n      <td>0.0</td>\n      <td>0.0</td>\n      <td>0.0</td>\n      <td>6.0</td>\n      <td>0.223144</td>\n      <td>0.054115</td>\n      <td>0.054115</td>\n      <td>0.054115</td>\n      <td>0.072736</td>\n      <td>-0.000304</td>\n      <td>0.143196</td>\n      <td>-22.447282</td>\n      <td>1.189391e+03</td>\n      <td>196.344621</td>\n      <td>7.553855e-03</td>\n      <td>0.928171</td>\n      <td>151.904762</td>\n      <td>10.771429</td>\n      <td>2.159428</td>\n      <td>-1.0</td>\n      <td>1.0</td>\n      <td>1.0</td>\n      <td>-1.0</td>\n      <td>NaN</td>\n      <td>NaN</td>\n      <td>NaN</td>\n      <td>NaN</td>\n      <td>NaN</td>\n      <td>NaN</td>\n      <td>NaN</td>\n      <td>NaN</td>\n      <td>198.0</td>\n      <td>144.0</td>\n      <td>175.6</td>\n      <td>408.64</td>\n      <td>NaN</td>\n      <td>NaN</td>\n      <td>NaN</td>\n      <td>NaN</td>\n      <td>NaN</td>\n      <td>NaN</td>\n      <td>NaN</td>\n      <td>NaN</td>\n      <td>-3.0</td>\n      <td>51.0</td>\n      <td>19.4</td>\n      <td>-408.64</td>\n      <td>NaN</td>\n      <td>NaN</td>\n      <td>NaN</td>\n      <td>NaN</td>\n      <td>NaN</td>\n      <td>NaN</td>\n      <td>NaN</td>\n      <td>NaN</td>\n      <td>0.0</td>\n      <td>0.0</td>\n      <td>0.0</td>\n      <td>0.0</td>\n      <td>NaN</td>\n      <td>NaN</td>\n      <td>NaN</td>\n      <td>NaN</td>\n      <td>NaN</td>\n      <td>NaN</td>\n      <td>NaN</td>\n      <td>NaN</td>\n      <td>-3.180283</td>\n      <td>2.115474e-02</td>\n      <td>1.0</td>\n      <td>0.0</td>\n      <td>0.0</td>\n      <td>0.0</td>\n      <td>0.106752</td>\n      <td>0.135108</td>\n      <td>0.166800</td>\n      <td>0.193755</td>\n      <td>0.201828</td>\n      <td>0.195758</td>\n      <td>0.0</td>\n      <td>0.0</td>\n      <td>0.0</td>\n      <td>0.0</td>\n      <td>0.833333</td>\n      <td>0.166667</td>\n      <td>0.166667</td>\n      <td>0.0</td>\n      <td>0.0</td>\n      <td>0.0</td>\n      <td>0.0</td>\n      <td>0.0</td>\n      <td>0.0</td>\n      <td>0.0</td>\n      <td>1.0</td>\n      <td>0.0</td>\n      <td>0.5</td>\n      <td>0.666667</td>\n      <td>0.833333</td>\n      <td>0.833333</td>\n      <td>1.0</td>\n      <td>0.693147</td>\n      <td>1.039721</td>\n      <td>1.039721</td>\n      <td>1.039721</td>\n      <td>1.386294</td>\n      <td>0.562335</td>\n      <td>0.636514</td>\n      <td>0.693147</td>\n      <td>-0.0</td>\n      <td>NaN</td>\n      <td>NaN</td>\n      <td>NaN</td>\n      <td>NaN</td>\n      <td>NaN</td>\n      <td>NaN</td>\n      <td>NaN</td>\n      <td>NaN</td>\n      <td>197</td>\n    </tr>\n    <tr>\n      <th>2990</th>\n      <td>1.0</td>\n      <td>0.0</td>\n      <td>0.0</td>\n      <td>0.0</td>\n      <td>1126.0</td>\n      <td>212318.0</td>\n      <td>8.2</td>\n      <td>7.0</td>\n      <td>-2.000</td>\n      <td>194.5</td>\n      <td>187.666667</td>\n      <td>6.0</td>\n      <td>12.944325</td>\n      <td>0.068975</td>\n      <td>167.555556</td>\n      <td>-1.556717</td>\n      <td>1.730984</td>\n      <td>188.112555</td>\n      <td>41.0</td>\n      <td>2.0</td>\n      <td>4.0</td>\n      <td>4.0</td>\n      <td>2.0</td>\n      <td>0.666667</td>\n      <td>0.500000</td>\n      <td>0.166667</td>\n      <td>0.000000</td>\n      <td>0.0</td>\n      <td>0.0</td>\n      <td>0.0</td>\n      <td>0.0</td>\n      <td>1.0</td>\n      <td>inf</td>\n      <td>198.0</td>\n      <td>162.0</td>\n      <td>0.864123</td>\n      <td>842633.25</td>\n      <td>1777248.0</td>\n      <td>0.0</td>\n      <td>6916927.50</td>\n      <td>6574770.0</td>\n      <td>0.0</td>\n      <td>1.810117</td>\n      <td>23.430749</td>\n      <td>0.0</td>\n      <td>0.0</td>\n      <td>0.0</td>\n      <td>0.0</td>\n      <td>1.0</td>\n      <td>1.0</td>\n      <td>1.0</td>\n      <td>1.0</td>\n      <td>1.0</td>\n      <td>1.0</td>\n      <td>1.0</td>\n      <td>1.0</td>\n      <td>1.0</td>\n      <td>1.0</td>\n      <td>1.0</td>\n      <td>1.0</td>\n      <td>1.0</td>\n      <td>1.0</td>\n      <td>1.0</td>\n      <td>1.0</td>\n      <td>1.0</td>\n      <td>1.0</td>\n      <td>1.0</td>\n      <td>1.0</td>\n      <td>1.0</td>\n      <td>1.0</td>\n      <td>1.0</td>\n      <td>0.0</td>\n      <td>0.0</td>\n      <td>0.0</td>\n      <td>0.0</td>\n      <td>0.0</td>\n      <td>0.0</td>\n      <td>0.0</td>\n      <td>0.0</td>\n      <td>0.0</td>\n      <td>0.0</td>\n      <td>0.0</td>\n      <td>0.0</td>\n      <td>171.0</td>\n      <td>180.0</td>\n      <td>187.0</td>\n      <td>194.0</td>\n      <td>195.0</td>\n      <td>196.0</td>\n      <td>197.0</td>\n      <td>197.5</td>\n      <td>1.0</td>\n      <td>0.427188</td>\n      <td>-0.147546</td>\n      <td>-0.521883</td>\n      <td>-0.775199</td>\n      <td>-1.429708</td>\n      <td>NaN</td>\n      <td>NaN</td>\n      <td>NaN</td>\n      <td>NaN</td>\n      <td>-0.489430</td>\n      <td>-0.521883</td>\n      <td>0.384783</td>\n      <td>1.0</td>\n      <td>0.427188</td>\n      <td>-0.403709</td>\n      <td>NaN</td>\n      <td>NaN</td>\n      <td>NaN</td>\n      <td>NaN</td>\n      <td>NaN</td>\n      <td>NaN</td>\n      <td>NaN</td>\n      <td>1.0</td>\n      <td>1.0</td>\n      <td>1.0</td>\n      <td>0.0</td>\n      <td>0.0</td>\n      <td>0.0</td>\n      <td>0.0</td>\n      <td>1.242453</td>\n      <td>0.166667</td>\n      <td>0.333333</td>\n      <td>0.333333</td>\n      <td>0.5</td>\n      <td>0.666667</td>\n      <td>0.833333</td>\n      <td>0.833333</td>\n      <td>1.0</td>\n      <td>96.093477</td>\n      <td>172.441863</td>\n      <td>140.332526</td>\n      <td>102.752320</td>\n      <td>198.605985</td>\n      <td>246.968314</td>\n      <td>194.224897</td>\n      <td>141.078758</td>\n      <td>250.533259</td>\n      <td>314.439714</td>\n      <td>246.227991</td>\n      <td>178.633746</td>\n      <td>237.699718</td>\n      <td>368.482046</td>\n      <td>295.994873</td>\n      <td>216.071502</td>\n      <td>269.769113</td>\n      <td>328.309040</td>\n      <td>255.899513</td>\n      <td>185.435315</td>\n      <td>227.911443</td>\n      <td>266.395439</td>\n      <td>207.950669</td>\n      <td>150.778192</td>\n      <td>NaN</td>\n      <td>NaN</td>\n      <td>NaN</td>\n      <td>NaN</td>\n      <td>NaN</td>\n      <td>NaN</td>\n      <td>NaN</td>\n      <td>NaN</td>\n      <td>NaN</td>\n      <td>NaN</td>\n      <td>NaN</td>\n      <td>NaN</td>\n      <td>NaN</td>\n      <td>NaN</td>\n      <td>NaN</td>\n      <td>NaN</td>\n      <td>NaN</td>\n      <td>NaN</td>\n      <td>NaN</td>\n      <td>NaN</td>\n      <td>NaN</td>\n      <td>NaN</td>\n      <td>NaN</td>\n      <td>NaN</td>\n      <td>NaN</td>\n      <td>NaN</td>\n      <td>NaN</td>\n      <td>NaN</td>\n      <td>NaN</td>\n      <td>NaN</td>\n      <td>NaN</td>\n      <td>NaN</td>\n      <td>NaN</td>\n      <td>NaN</td>\n      <td>NaN</td>\n      <td>NaN</td>\n      <td>30.388889</td>\n      <td>NaN</td>\n      <td>NaN</td>\n      <td>NaN</td>\n      <td>NaN</td>\n      <td>NaN</td>\n      <td>NaN</td>\n      <td>NaN</td>\n      <td>NaN</td>\n      <td>NaN</td>\n      <td>NaN</td>\n      <td>NaN</td>\n      <td>NaN</td>\n      <td>0.0</td>\n      <td>18.0</td>\n      <td>0.0</td>\n      <td>18.0</td>\n      <td>0.0</td>\n      <td>16.0</td>\n      <td>4.00</td>\n      <td>16.0</td>\n      <td>4.00</td>\n      <td>16.000000</td>\n      <td>4.000000</td>\n      <td>16.000000</td>\n      <td>4.000000</td>\n      <td>11.333333</td>\n      <td>46.222222</td>\n      <td>11.333333</td>\n      <td>46.222222</td>\n      <td>7.0</td>\n      <td>60.80</td>\n      <td>8.2</td>\n      <td>42.56</td>\n      <td>14.0</td>\n      <td>0.0</td>\n      <td>14.0</td>\n      <td>0.0</td>\n      <td>14.0</td>\n      <td>0.00</td>\n      <td>14.0</td>\n      <td>0.00</td>\n      <td>8.000000</td>\n      <td>36.000000</td>\n      <td>8.000000</td>\n      <td>36.000000</td>\n      <td>4.250000</td>\n      <td>38.187500</td>\n      <td>5.750000</td>\n      <td>23.187500</td>\n      <td>0.0</td>\n      <td>0.0</td>\n      <td>0.0</td>\n      <td>0.0</td>\n      <td>2.0</td>\n      <td>0.00</td>\n      <td>2.0</td>\n      <td>0.00</td>\n      <td>1.000000</td>\n      <td>8.666667</td>\n      <td>...</td>\n      <td>NaN</td>\n      <td>NaN</td>\n      <td>NaN</td>\n      <td>NaN</td>\n      <td>NaN</td>\n      <td>NaN</td>\n      <td>NaN</td>\n      <td>NaN</td>\n      <td>NaN</td>\n      <td>NaN</td>\n      <td>NaN</td>\n      <td>NaN</td>\n      <td>NaN</td>\n      <td>NaN</td>\n      <td>NaN</td>\n      <td>NaN</td>\n      <td>NaN</td>\n      <td>NaN</td>\n      <td>NaN</td>\n      <td>NaN</td>\n      <td>NaN</td>\n      <td>NaN</td>\n      <td>NaN</td>\n      <td>NaN</td>\n      <td>NaN</td>\n      <td>NaN</td>\n      <td>0.0</td>\n      <td>159.637403</td>\n      <td>148.933035</td>\n      <td>180.0</td>\n      <td>NaN</td>\n      <td>NaN</td>\n      <td>NaN</td>\n      <td>NaN</td>\n      <td>NaN</td>\n      <td>NaN</td>\n      <td>NaN</td>\n      <td>NaN</td>\n      <td>NaN</td>\n      <td>NaN</td>\n      <td>NaN</td>\n      <td>NaN</td>\n      <td>NaN</td>\n      <td>NaN</td>\n      <td>NaN</td>\n      <td>NaN</td>\n      <td>NaN</td>\n      <td>NaN</td>\n      <td>NaN</td>\n      <td>NaN</td>\n      <td>NaN</td>\n      <td>NaN</td>\n      <td>NaN</td>\n      <td>NaN</td>\n      <td>NaN</td>\n      <td>NaN</td>\n      <td>NaN</td>\n      <td>NaN</td>\n      <td>NaN</td>\n      <td>NaN</td>\n      <td>NaN</td>\n      <td>NaN</td>\n      <td>NaN</td>\n      <td>NaN</td>\n      <td>NaN</td>\n      <td>NaN</td>\n      <td>NaN</td>\n      <td>NaN</td>\n      <td>NaN</td>\n      <td>NaN</td>\n      <td>NaN</td>\n      <td>NaN</td>\n      <td>NaN</td>\n      <td>NaN</td>\n      <td>NaN</td>\n      <td>NaN</td>\n      <td>NaN</td>\n      <td>NaN</td>\n      <td>NaN</td>\n      <td>NaN</td>\n      <td>NaN</td>\n      <td>NaN</td>\n      <td>NaN</td>\n      <td>NaN</td>\n      <td>NaN</td>\n      <td>NaN</td>\n      <td>NaN</td>\n      <td>NaN</td>\n      <td>NaN</td>\n      <td>NaN</td>\n      <td>NaN</td>\n      <td>NaN</td>\n      <td>NaN</td>\n      <td>NaN</td>\n      <td>NaN</td>\n      <td>NaN</td>\n      <td>NaN</td>\n      <td>NaN</td>\n      <td>NaN</td>\n      <td>NaN</td>\n      <td>NaN</td>\n      <td>NaN</td>\n      <td>NaN</td>\n      <td>NaN</td>\n      <td>NaN</td>\n      <td>NaN</td>\n      <td>NaN</td>\n      <td>NaN</td>\n      <td>NaN</td>\n      <td>NaN</td>\n      <td>NaN</td>\n      <td>NaN</td>\n      <td>NaN</td>\n      <td>NaN</td>\n      <td>NaN</td>\n      <td>NaN</td>\n      <td>NaN</td>\n      <td>NaN</td>\n      <td>NaN</td>\n      <td>NaN</td>\n      <td>NaN</td>\n      <td>NaN</td>\n      <td>NaN</td>\n      <td>NaN</td>\n      <td>NaN</td>\n      <td>NaN</td>\n      <td>0.139567</td>\n      <td>0.281921</td>\n      <td>NaN</td>\n      <td>NaN</td>\n      <td>0.0</td>\n      <td>0.0</td>\n      <td>0.0</td>\n      <td>0.0</td>\n      <td>0.0</td>\n      <td>6.0</td>\n      <td>0.054115</td>\n      <td>0.273838</td>\n      <td>0.089450</td>\n      <td>0.089450</td>\n      <td>0.089450</td>\n      <td>-0.001063</td>\n      <td>0.553655</td>\n      <td>-96.269214</td>\n      <td>5.601263e+03</td>\n      <td>196.372636</td>\n      <td>3.443697e-02</td>\n      <td>0.844392</td>\n      <td>171.666667</td>\n      <td>6.400000</td>\n      <td>2.030247</td>\n      <td>-1.0</td>\n      <td>1.0</td>\n      <td>1.0</td>\n      <td>-1.0</td>\n      <td>NaN</td>\n      <td>NaN</td>\n      <td>NaN</td>\n      <td>NaN</td>\n      <td>NaN</td>\n      <td>NaN</td>\n      <td>NaN</td>\n      <td>NaN</td>\n      <td>198.0</td>\n      <td>162.0</td>\n      <td>185.8</td>\n      <td>180.16</td>\n      <td>NaN</td>\n      <td>NaN</td>\n      <td>NaN</td>\n      <td>NaN</td>\n      <td>NaN</td>\n      <td>NaN</td>\n      <td>NaN</td>\n      <td>NaN</td>\n      <td>-1.0</td>\n      <td>35.0</td>\n      <td>11.2</td>\n      <td>-180.16</td>\n      <td>NaN</td>\n      <td>NaN</td>\n      <td>NaN</td>\n      <td>NaN</td>\n      <td>NaN</td>\n      <td>NaN</td>\n      <td>NaN</td>\n      <td>NaN</td>\n      <td>0.0</td>\n      <td>0.0</td>\n      <td>0.0</td>\n      <td>0.0</td>\n      <td>NaN</td>\n      <td>NaN</td>\n      <td>NaN</td>\n      <td>NaN</td>\n      <td>NaN</td>\n      <td>NaN</td>\n      <td>NaN</td>\n      <td>NaN</td>\n      <td>-5.050477</td>\n      <td>1.761620e-05</td>\n      <td>0.0</td>\n      <td>0.0</td>\n      <td>0.0</td>\n      <td>0.0</td>\n      <td>0.123607</td>\n      <td>0.152601</td>\n      <td>0.177262</td>\n      <td>0.184648</td>\n      <td>0.179095</td>\n      <td>0.182787</td>\n      <td>0.0</td>\n      <td>0.0</td>\n      <td>0.0</td>\n      <td>0.0</td>\n      <td>0.833333</td>\n      <td>0.166667</td>\n      <td>0.166667</td>\n      <td>0.0</td>\n      <td>0.0</td>\n      <td>0.0</td>\n      <td>0.0</td>\n      <td>0.0</td>\n      <td>0.0</td>\n      <td>0.0</td>\n      <td>1.0</td>\n      <td>0.0</td>\n      <td>0.5</td>\n      <td>0.666667</td>\n      <td>0.666667</td>\n      <td>0.833333</td>\n      <td>1.0</td>\n      <td>0.693147</td>\n      <td>0.693147</td>\n      <td>0.693147</td>\n      <td>1.386294</td>\n      <td>1.386294</td>\n      <td>1.039721</td>\n      <td>1.098612</td>\n      <td>0.693147</td>\n      <td>-0.0</td>\n      <td>NaN</td>\n      <td>NaN</td>\n      <td>NaN</td>\n      <td>NaN</td>\n      <td>NaN</td>\n      <td>NaN</td>\n      <td>NaN</td>\n      <td>NaN</td>\n      <td>205</td>\n    </tr>\n    <tr>\n      <th>2991</th>\n      <td>1.0</td>\n      <td>0.0</td>\n      <td>0.0</td>\n      <td>0.0</td>\n      <td>1169.0</td>\n      <td>228099.0</td>\n      <td>6.2</td>\n      <td>5.0</td>\n      <td>-0.750</td>\n      <td>196.0</td>\n      <td>194.833333</td>\n      <td>6.0</td>\n      <td>7.514800</td>\n      <td>0.038570</td>\n      <td>56.472222</td>\n      <td>-1.167799</td>\n      <td>2.776628</td>\n      <td>194.978204</td>\n      <td>31.0</td>\n      <td>2.0</td>\n      <td>4.0</td>\n      <td>4.0</td>\n      <td>2.0</td>\n      <td>1.000000</td>\n      <td>0.833333</td>\n      <td>0.166667</td>\n      <td>0.000000</td>\n      <td>0.0</td>\n      <td>0.0</td>\n      <td>0.0</td>\n      <td>0.0</td>\n      <td>1.0</td>\n      <td>inf</td>\n      <td>205.0</td>\n      <td>180.0</td>\n      <td>0.927906</td>\n      <td>526993.25</td>\n      <td>1062418.5</td>\n      <td>0.0</td>\n      <td>7471436.25</td>\n      <td>7388115.0</td>\n      <td>0.0</td>\n      <td>2.262203</td>\n      <td>17.000000</td>\n      <td>0.0</td>\n      <td>1.0</td>\n      <td>1.0</td>\n      <td>1.0</td>\n      <td>1.0</td>\n      <td>1.0</td>\n      <td>1.0</td>\n      <td>1.0</td>\n      <td>1.0</td>\n      <td>1.0</td>\n      <td>1.0</td>\n      <td>1.0</td>\n      <td>1.0</td>\n      <td>1.0</td>\n      <td>1.0</td>\n      <td>1.0</td>\n      <td>1.0</td>\n      <td>1.0</td>\n      <td>1.0</td>\n      <td>1.0</td>\n      <td>1.0</td>\n      <td>1.0</td>\n      <td>1.0</td>\n      <td>1.0</td>\n      <td>1.0</td>\n      <td>1.0</td>\n      <td>0.0</td>\n      <td>0.0</td>\n      <td>0.0</td>\n      <td>0.0</td>\n      <td>0.0</td>\n      <td>0.0</td>\n      <td>0.0</td>\n      <td>0.0</td>\n      <td>0.0</td>\n      <td>0.0</td>\n      <td>0.0</td>\n      <td>0.0</td>\n      <td>0.0</td>\n      <td>187.0</td>\n      <td>194.0</td>\n      <td>194.5</td>\n      <td>195.0</td>\n      <td>197.0</td>\n      <td>197.5</td>\n      <td>198.0</td>\n      <td>201.5</td>\n      <td>1.0</td>\n      <td>0.115593</td>\n      <td>-0.170684</td>\n      <td>0.164781</td>\n      <td>-0.359567</td>\n      <td>-2.670438</td>\n      <td>NaN</td>\n      <td>NaN</td>\n      <td>NaN</td>\n      <td>NaN</td>\n      <td>-0.584063</td>\n      <td>-0.170684</td>\n      <td>1.124905</td>\n      <td>1.0</td>\n      <td>0.115593</td>\n      <td>-0.186538</td>\n      <td>NaN</td>\n      <td>NaN</td>\n      <td>NaN</td>\n      <td>NaN</td>\n      <td>NaN</td>\n      <td>NaN</td>\n      <td>NaN</td>\n      <td>1.0</td>\n      <td>1.0</td>\n      <td>1.0</td>\n      <td>0.0</td>\n      <td>0.0</td>\n      <td>0.0</td>\n      <td>0.0</td>\n      <td>1.560710</td>\n      <td>0.166667</td>\n      <td>0.333333</td>\n      <td>0.333333</td>\n      <td>0.5</td>\n      <td>0.666667</td>\n      <td>0.833333</td>\n      <td>0.833333</td>\n      <td>1.0</td>\n      <td>108.328076</td>\n      <td>185.070454</td>\n      <td>149.959237</td>\n      <td>109.689960</td>\n      <td>217.722623</td>\n      <td>259.774626</td>\n      <td>203.281482</td>\n      <td>147.479972</td>\n      <td>263.286276</td>\n      <td>326.892290</td>\n      <td>255.621364</td>\n      <td>185.384846</td>\n      <td>237.391060</td>\n      <td>380.938051</td>\n      <td>306.989447</td>\n      <td>224.267195</td>\n      <td>269.431076</td>\n      <td>335.570396</td>\n      <td>262.296560</td>\n      <td>190.201178</td>\n      <td>232.244783</td>\n      <td>270.230886</td>\n      <td>210.884688</td>\n      <td>152.896546</td>\n      <td>NaN</td>\n      <td>NaN</td>\n      <td>NaN</td>\n      <td>NaN</td>\n      <td>NaN</td>\n      <td>NaN</td>\n      <td>NaN</td>\n      <td>NaN</td>\n      <td>NaN</td>\n      <td>NaN</td>\n      <td>NaN</td>\n      <td>NaN</td>\n      <td>NaN</td>\n      <td>NaN</td>\n      <td>NaN</td>\n      <td>NaN</td>\n      <td>NaN</td>\n      <td>NaN</td>\n      <td>NaN</td>\n      <td>NaN</td>\n      <td>NaN</td>\n      <td>NaN</td>\n      <td>NaN</td>\n      <td>NaN</td>\n      <td>NaN</td>\n      <td>NaN</td>\n      <td>NaN</td>\n      <td>NaN</td>\n      <td>NaN</td>\n      <td>NaN</td>\n      <td>NaN</td>\n      <td>NaN</td>\n      <td>NaN</td>\n      <td>NaN</td>\n      <td>NaN</td>\n      <td>NaN</td>\n      <td>16.166667</td>\n      <td>NaN</td>\n      <td>NaN</td>\n      <td>NaN</td>\n      <td>NaN</td>\n      <td>NaN</td>\n      <td>NaN</td>\n      <td>NaN</td>\n      <td>NaN</td>\n      <td>NaN</td>\n      <td>NaN</td>\n      <td>NaN</td>\n      <td>NaN</td>\n      <td>0.0</td>\n      <td>14.0</td>\n      <td>0.0</td>\n      <td>14.0</td>\n      <td>0.0</td>\n      <td>14.0</td>\n      <td>0.00</td>\n      <td>14.0</td>\n      <td>0.00</td>\n      <td>8.000000</td>\n      <td>36.000000</td>\n      <td>8.000000</td>\n      <td>36.000000</td>\n      <td>4.250000</td>\n      <td>38.187500</td>\n      <td>5.750000</td>\n      <td>23.187500</td>\n      <td>5.0</td>\n      <td>32.80</td>\n      <td>6.2</td>\n      <td>19.36</td>\n      <td>0.0</td>\n      <td>0.0</td>\n      <td>0.0</td>\n      <td>0.0</td>\n      <td>2.0</td>\n      <td>0.00</td>\n      <td>2.0</td>\n      <td>0.00</td>\n      <td>1.000000</td>\n      <td>8.666667</td>\n      <td>3.000000</td>\n      <td>0.666667</td>\n      <td>2.750000</td>\n      <td>15.687500</td>\n      <td>4.250000</td>\n      <td>5.187500</td>\n      <td>2.0</td>\n      <td>0.0</td>\n      <td>2.0</td>\n      <td>0.0</td>\n      <td>-0.5</td>\n      <td>6.25</td>\n      <td>2.5</td>\n      <td>0.25</td>\n      <td>2.333333</td>\n      <td>20.222222</td>\n      <td>...</td>\n      <td>NaN</td>\n      <td>NaN</td>\n      <td>NaN</td>\n      <td>NaN</td>\n      <td>NaN</td>\n      <td>NaN</td>\n      <td>NaN</td>\n      <td>NaN</td>\n      <td>NaN</td>\n      <td>NaN</td>\n      <td>NaN</td>\n      <td>NaN</td>\n      <td>NaN</td>\n      <td>NaN</td>\n      <td>NaN</td>\n      <td>NaN</td>\n      <td>NaN</td>\n      <td>NaN</td>\n      <td>NaN</td>\n      <td>NaN</td>\n      <td>NaN</td>\n      <td>NaN</td>\n      <td>NaN</td>\n      <td>NaN</td>\n      <td>NaN</td>\n      <td>NaN</td>\n      <td>0.0</td>\n      <td>146.329503</td>\n      <td>154.715004</td>\n      <td>180.0</td>\n      <td>NaN</td>\n      <td>NaN</td>\n      <td>NaN</td>\n      <td>NaN</td>\n      <td>NaN</td>\n      <td>NaN</td>\n      <td>NaN</td>\n      <td>NaN</td>\n      <td>NaN</td>\n      <td>NaN</td>\n      <td>NaN</td>\n      <td>NaN</td>\n      <td>NaN</td>\n      <td>NaN</td>\n      <td>NaN</td>\n      <td>NaN</td>\n      <td>NaN</td>\n      <td>NaN</td>\n      <td>NaN</td>\n      <td>NaN</td>\n      <td>NaN</td>\n      <td>NaN</td>\n      <td>NaN</td>\n      <td>NaN</td>\n      <td>NaN</td>\n      <td>NaN</td>\n      <td>NaN</td>\n      <td>NaN</td>\n      <td>NaN</td>\n      <td>NaN</td>\n      <td>NaN</td>\n      <td>NaN</td>\n      <td>NaN</td>\n      <td>NaN</td>\n      <td>NaN</td>\n      <td>NaN</td>\n      <td>NaN</td>\n      <td>NaN</td>\n      <td>NaN</td>\n      <td>NaN</td>\n      <td>NaN</td>\n      <td>NaN</td>\n      <td>NaN</td>\n      <td>NaN</td>\n      <td>NaN</td>\n      <td>NaN</td>\n      <td>NaN</td>\n      <td>NaN</td>\n      <td>NaN</td>\n      <td>NaN</td>\n      <td>NaN</td>\n      <td>NaN</td>\n      <td>NaN</td>\n      <td>NaN</td>\n      <td>NaN</td>\n      <td>NaN</td>\n      <td>NaN</td>\n      <td>NaN</td>\n      <td>NaN</td>\n      <td>NaN</td>\n      <td>NaN</td>\n      <td>NaN</td>\n      <td>NaN</td>\n      <td>NaN</td>\n      <td>NaN</td>\n      <td>NaN</td>\n      <td>NaN</td>\n      <td>NaN</td>\n      <td>NaN</td>\n      <td>NaN</td>\n      <td>NaN</td>\n      <td>NaN</td>\n      <td>NaN</td>\n      <td>NaN</td>\n      <td>NaN</td>\n      <td>NaN</td>\n      <td>NaN</td>\n      <td>NaN</td>\n      <td>NaN</td>\n      <td>NaN</td>\n      <td>NaN</td>\n      <td>NaN</td>\n      <td>NaN</td>\n      <td>NaN</td>\n      <td>NaN</td>\n      <td>NaN</td>\n      <td>NaN</td>\n      <td>NaN</td>\n      <td>NaN</td>\n      <td>NaN</td>\n      <td>NaN</td>\n      <td>NaN</td>\n      <td>NaN</td>\n      <td>NaN</td>\n      <td>NaN</td>\n      <td>NaN</td>\n      <td>0.098768</td>\n      <td>0.221479</td>\n      <td>NaN</td>\n      <td>NaN</td>\n      <td>0.0</td>\n      <td>0.0</td>\n      <td>0.0</td>\n      <td>0.0</td>\n      <td>0.0</td>\n      <td>6.0</td>\n      <td>0.223144</td>\n      <td>0.054115</td>\n      <td>0.273838</td>\n      <td>0.089450</td>\n      <td>0.089450</td>\n      <td>-0.103053</td>\n      <td>58.946813</td>\n      <td>-11230.899632</td>\n      <td>7.127063e+05</td>\n      <td>197.818014</td>\n      <td>3.181010e-02</td>\n      <td>0.850608</td>\n      <td>185.476190</td>\n      <td>3.742857</td>\n      <td>1.156819</td>\n      <td>1.0</td>\n      <td>1.0</td>\n      <td>1.0</td>\n      <td>-1.0</td>\n      <td>NaN</td>\n      <td>NaN</td>\n      <td>NaN</td>\n      <td>NaN</td>\n      <td>NaN</td>\n      <td>NaN</td>\n      <td>NaN</td>\n      <td>NaN</td>\n      <td>198.0</td>\n      <td>180.0</td>\n      <td>192.8</td>\n      <td>42.96</td>\n      <td>NaN</td>\n      <td>NaN</td>\n      <td>NaN</td>\n      <td>NaN</td>\n      <td>NaN</td>\n      <td>NaN</td>\n      <td>NaN</td>\n      <td>NaN</td>\n      <td>7.0</td>\n      <td>25.0</td>\n      <td>12.2</td>\n      <td>-42.96</td>\n      <td>NaN</td>\n      <td>NaN</td>\n      <td>NaN</td>\n      <td>NaN</td>\n      <td>NaN</td>\n      <td>NaN</td>\n      <td>NaN</td>\n      <td>NaN</td>\n      <td>0.0</td>\n      <td>0.0</td>\n      <td>0.0</td>\n      <td>0.0</td>\n      <td>NaN</td>\n      <td>NaN</td>\n      <td>NaN</td>\n      <td>NaN</td>\n      <td>NaN</td>\n      <td>NaN</td>\n      <td>NaN</td>\n      <td>NaN</td>\n      <td>-2.391088</td>\n      <td>1.442675e-01</td>\n      <td>0.0</td>\n      <td>0.0</td>\n      <td>0.0</td>\n      <td>0.0</td>\n      <td>0.142044</td>\n      <td>0.164999</td>\n      <td>0.171873</td>\n      <td>0.166704</td>\n      <td>0.170141</td>\n      <td>0.184240</td>\n      <td>0.0</td>\n      <td>0.0</td>\n      <td>0.0</td>\n      <td>0.0</td>\n      <td>0.333333</td>\n      <td>0.333333</td>\n      <td>0.166667</td>\n      <td>0.0</td>\n      <td>0.0</td>\n      <td>0.0</td>\n      <td>0.0</td>\n      <td>0.0</td>\n      <td>0.0</td>\n      <td>0.0</td>\n      <td>1.0</td>\n      <td>0.0</td>\n      <td>0.5</td>\n      <td>0.500000</td>\n      <td>0.666667</td>\n      <td>0.833333</td>\n      <td>1.0</td>\n      <td>0.693147</td>\n      <td>0.693147</td>\n      <td>0.693147</td>\n      <td>1.386294</td>\n      <td>1.386294</td>\n      <td>1.039721</td>\n      <td>1.098612</td>\n      <td>0.693147</td>\n      <td>-0.0</td>\n      <td>NaN</td>\n      <td>NaN</td>\n      <td>NaN</td>\n      <td>NaN</td>\n      <td>NaN</td>\n      <td>NaN</td>\n      <td>NaN</td>\n      <td>NaN</td>\n      <td>210</td>\n    </tr>\n    <tr>\n      <th>2992</th>\n      <td>1.0</td>\n      <td>0.0</td>\n      <td>0.0</td>\n      <td>0.0</td>\n      <td>1199.0</td>\n      <td>239799.0</td>\n      <td>4.4</td>\n      <td>3.2</td>\n      <td>0.125</td>\n      <td>197.5</td>\n      <td>199.833333</td>\n      <td>6.0</td>\n      <td>5.756639</td>\n      <td>0.028807</td>\n      <td>33.138889</td>\n      <td>1.015000</td>\n      <td>-0.417882</td>\n      <td>199.916232</td>\n      <td>22.0</td>\n      <td>4.0</td>\n      <td>2.0</td>\n      <td>2.0</td>\n      <td>4.0</td>\n      <td>1.000000</td>\n      <td>0.833333</td>\n      <td>0.166667</td>\n      <td>0.000000</td>\n      <td>0.0</td>\n      <td>0.0</td>\n      <td>0.0</td>\n      <td>0.0</td>\n      <td>1.0</td>\n      <td>inf</td>\n      <td>210.0</td>\n      <td>194.0</td>\n      <td>0.954077</td>\n      <td>468163.00</td>\n      <td>910183.5</td>\n      <td>0.0</td>\n      <td>7863108.75</td>\n      <td>7973205.0</td>\n      <td>0.0</td>\n      <td>1.887001</td>\n      <td>10.862780</td>\n      <td>0.0</td>\n      <td>0.0</td>\n      <td>0.0</td>\n      <td>1.0</td>\n      <td>1.0</td>\n      <td>1.0</td>\n      <td>1.0</td>\n      <td>1.0</td>\n      <td>1.0</td>\n      <td>1.0</td>\n      <td>1.0</td>\n      <td>1.0</td>\n      <td>1.0</td>\n      <td>1.0</td>\n      <td>1.0</td>\n      <td>1.0</td>\n      <td>1.0</td>\n      <td>1.0</td>\n      <td>1.0</td>\n      <td>1.0</td>\n      <td>1.0</td>\n      <td>1.0</td>\n      <td>1.0</td>\n      <td>1.0</td>\n      <td>1.0</td>\n      <td>1.0</td>\n      <td>1.0</td>\n      <td>0.0</td>\n      <td>0.0</td>\n      <td>0.0</td>\n      <td>0.0</td>\n      <td>0.0</td>\n      <td>0.0</td>\n      <td>0.0</td>\n      <td>0.0</td>\n      <td>0.0</td>\n      <td>0.0</td>\n      <td>0.0</td>\n      <td>0.0</td>\n      <td>194.5</td>\n      <td>195.0</td>\n      <td>196.0</td>\n      <td>197.0</td>\n      <td>198.0</td>\n      <td>201.5</td>\n      <td>205.0</td>\n      <td>207.5</td>\n      <td>1.0</td>\n      <td>0.429338</td>\n      <td>-0.153814</td>\n      <td>-0.423303</td>\n      <td>-0.735960</td>\n      <td>-1.789606</td>\n      <td>NaN</td>\n      <td>NaN</td>\n      <td>NaN</td>\n      <td>NaN</td>\n      <td>-0.534669</td>\n      <td>-0.423303</td>\n      <td>0.540429</td>\n      <td>1.0</td>\n      <td>0.429338</td>\n      <td>-0.414561</td>\n      <td>NaN</td>\n      <td>NaN</td>\n      <td>NaN</td>\n      <td>NaN</td>\n      <td>NaN</td>\n      <td>NaN</td>\n      <td>NaN</td>\n      <td>1.0</td>\n      <td>1.0</td>\n      <td>1.0</td>\n      <td>0.0</td>\n      <td>0.0</td>\n      <td>0.0</td>\n      <td>0.0</td>\n      <td>1.560710</td>\n      <td>0.166667</td>\n      <td>0.333333</td>\n      <td>0.333333</td>\n      <td>0.5</td>\n      <td>0.666667</td>\n      <td>0.833333</td>\n      <td>0.833333</td>\n      <td>1.0</td>\n      <td>117.413835</td>\n      <td>190.999226</td>\n      <td>154.097414</td>\n      <td>112.603530</td>\n      <td>226.830014</td>\n      <td>266.153303</td>\n      <td>207.903021</td>\n      <td>150.769542</td>\n      <td>265.820570</td>\n      <td>334.727212</td>\n      <td>262.129993</td>\n      <td>190.170911</td>\n      <td>236.263314</td>\n      <td>389.483042</td>\n      <td>314.632589</td>\n      <td>229.980176</td>\n      <td>274.777089</td>\n      <td>341.093037</td>\n      <td>266.556089</td>\n      <td>193.281067</td>\n      <td>240.368201</td>\n      <td>275.102695</td>\n      <td>214.219417</td>\n      <td>155.231743</td>\n      <td>NaN</td>\n      <td>NaN</td>\n      <td>NaN</td>\n      <td>NaN</td>\n      <td>NaN</td>\n      <td>NaN</td>\n      <td>NaN</td>\n      <td>NaN</td>\n      <td>NaN</td>\n      <td>NaN</td>\n      <td>NaN</td>\n      <td>NaN</td>\n      <td>NaN</td>\n      <td>NaN</td>\n      <td>NaN</td>\n      <td>NaN</td>\n      <td>NaN</td>\n      <td>NaN</td>\n      <td>NaN</td>\n      <td>NaN</td>\n      <td>NaN</td>\n      <td>NaN</td>\n      <td>NaN</td>\n      <td>NaN</td>\n      <td>NaN</td>\n      <td>NaN</td>\n      <td>NaN</td>\n      <td>NaN</td>\n      <td>NaN</td>\n      <td>NaN</td>\n      <td>NaN</td>\n      <td>NaN</td>\n      <td>NaN</td>\n      <td>NaN</td>\n      <td>NaN</td>\n      <td>NaN</td>\n      <td>27.722222</td>\n      <td>NaN</td>\n      <td>NaN</td>\n      <td>NaN</td>\n      <td>NaN</td>\n      <td>NaN</td>\n      <td>NaN</td>\n      <td>NaN</td>\n      <td>NaN</td>\n      <td>NaN</td>\n      <td>NaN</td>\n      <td>NaN</td>\n      <td>NaN</td>\n      <td>0.0</td>\n      <td>0.0</td>\n      <td>0.0</td>\n      <td>0.0</td>\n      <td>0.0</td>\n      <td>2.0</td>\n      <td>0.00</td>\n      <td>2.0</td>\n      <td>0.00</td>\n      <td>1.000000</td>\n      <td>8.666667</td>\n      <td>3.000000</td>\n      <td>0.666667</td>\n      <td>2.750000</td>\n      <td>15.687500</td>\n      <td>4.250000</td>\n      <td>5.187500</td>\n      <td>3.2</td>\n      <td>13.36</td>\n      <td>4.4</td>\n      <td>4.24</td>\n      <td>2.0</td>\n      <td>0.0</td>\n      <td>2.0</td>\n      <td>0.0</td>\n      <td>-0.5</td>\n      <td>6.25</td>\n      <td>2.5</td>\n      <td>0.25</td>\n      <td>2.333333</td>\n      <td>20.222222</td>\n      <td>4.333333</td>\n      <td>6.888889</td>\n      <td>3.000000</td>\n      <td>16.500000</td>\n      <td>4.500000</td>\n      <td>5.250000</td>\n      <td>0.0</td>\n      <td>0.0</td>\n      <td>0.0</td>\n      <td>0.0</td>\n      <td>8.0</td>\n      <td>0.00</td>\n      <td>8.0</td>\n      <td>0.00</td>\n      <td>6.500000</td>\n      <td>2.250000</td>\n      <td>...</td>\n      <td>NaN</td>\n      <td>NaN</td>\n      <td>NaN</td>\n      <td>NaN</td>\n      <td>NaN</td>\n      <td>NaN</td>\n      <td>NaN</td>\n      <td>NaN</td>\n      <td>NaN</td>\n      <td>NaN</td>\n      <td>NaN</td>\n      <td>NaN</td>\n      <td>NaN</td>\n      <td>NaN</td>\n      <td>NaN</td>\n      <td>NaN</td>\n      <td>NaN</td>\n      <td>NaN</td>\n      <td>NaN</td>\n      <td>NaN</td>\n      <td>NaN</td>\n      <td>NaN</td>\n      <td>NaN</td>\n      <td>NaN</td>\n      <td>NaN</td>\n      <td>NaN</td>\n      <td>0.0</td>\n      <td>86.995508</td>\n      <td>172.410911</td>\n      <td>180.0</td>\n      <td>NaN</td>\n      <td>NaN</td>\n      <td>NaN</td>\n      <td>NaN</td>\n      <td>NaN</td>\n      <td>NaN</td>\n      <td>NaN</td>\n      <td>NaN</td>\n      <td>NaN</td>\n      <td>NaN</td>\n      <td>NaN</td>\n      <td>NaN</td>\n      <td>NaN</td>\n      <td>NaN</td>\n      <td>NaN</td>\n      <td>NaN</td>\n      <td>NaN</td>\n      <td>NaN</td>\n      <td>NaN</td>\n      <td>NaN</td>\n      <td>NaN</td>\n      <td>NaN</td>\n      <td>NaN</td>\n      <td>NaN</td>\n      <td>NaN</td>\n      <td>NaN</td>\n      <td>NaN</td>\n      <td>NaN</td>\n      <td>NaN</td>\n      <td>NaN</td>\n      <td>NaN</td>\n      <td>NaN</td>\n      <td>NaN</td>\n      <td>NaN</td>\n      <td>NaN</td>\n      <td>NaN</td>\n      <td>NaN</td>\n      <td>NaN</td>\n      <td>NaN</td>\n      <td>NaN</td>\n      <td>NaN</td>\n      <td>NaN</td>\n      <td>NaN</td>\n      <td>NaN</td>\n      <td>NaN</td>\n      <td>NaN</td>\n      <td>NaN</td>\n      <td>NaN</td>\n      <td>NaN</td>\n      <td>NaN</td>\n      <td>NaN</td>\n      <td>NaN</td>\n      <td>NaN</td>\n      <td>NaN</td>\n      <td>NaN</td>\n      <td>NaN</td>\n      <td>NaN</td>\n      <td>NaN</td>\n      <td>NaN</td>\n      <td>NaN</td>\n      <td>NaN</td>\n      <td>NaN</td>\n      <td>NaN</td>\n      <td>NaN</td>\n      <td>NaN</td>\n      <td>NaN</td>\n      <td>NaN</td>\n      <td>NaN</td>\n      <td>NaN</td>\n      <td>NaN</td>\n      <td>NaN</td>\n      <td>NaN</td>\n      <td>NaN</td>\n      <td>NaN</td>\n      <td>NaN</td>\n      <td>NaN</td>\n      <td>NaN</td>\n      <td>NaN</td>\n      <td>NaN</td>\n      <td>NaN</td>\n      <td>NaN</td>\n      <td>NaN</td>\n      <td>NaN</td>\n      <td>NaN</td>\n      <td>NaN</td>\n      <td>NaN</td>\n      <td>NaN</td>\n      <td>NaN</td>\n      <td>NaN</td>\n      <td>NaN</td>\n      <td>NaN</td>\n      <td>NaN</td>\n      <td>NaN</td>\n      <td>NaN</td>\n      <td>NaN</td>\n      <td>NaN</td>\n      <td>0.063041</td>\n      <td>0.133314</td>\n      <td>NaN</td>\n      <td>NaN</td>\n      <td>0.0</td>\n      <td>0.0</td>\n      <td>0.0</td>\n      <td>0.0</td>\n      <td>0.0</td>\n      <td>6.0</td>\n      <td>0.223144</td>\n      <td>0.054115</td>\n      <td>0.054115</td>\n      <td>0.089450</td>\n      <td>0.089450</td>\n      <td>0.146683</td>\n      <td>-87.438249</td>\n      <td>17369.649663</td>\n      <td>-1.149870e+06</td>\n      <td>204.580763</td>\n      <td>2.314825e-02</td>\n      <td>0.873059</td>\n      <td>192.476190</td>\n      <td>2.942857</td>\n      <td>0.821812</td>\n      <td>1.0</td>\n      <td>1.0</td>\n      <td>1.0</td>\n      <td>-1.0</td>\n      <td>NaN</td>\n      <td>NaN</td>\n      <td>NaN</td>\n      <td>NaN</td>\n      <td>NaN</td>\n      <td>NaN</td>\n      <td>NaN</td>\n      <td>NaN</td>\n      <td>205.0</td>\n      <td>194.0</td>\n      <td>197.8</td>\n      <td>14.96</td>\n      <td>NaN</td>\n      <td>NaN</td>\n      <td>NaN</td>\n      <td>NaN</td>\n      <td>NaN</td>\n      <td>NaN</td>\n      <td>NaN</td>\n      <td>NaN</td>\n      <td>5.0</td>\n      <td>16.0</td>\n      <td>12.2</td>\n      <td>-14.96</td>\n      <td>NaN</td>\n      <td>NaN</td>\n      <td>NaN</td>\n      <td>NaN</td>\n      <td>NaN</td>\n      <td>NaN</td>\n      <td>NaN</td>\n      <td>NaN</td>\n      <td>0.0</td>\n      <td>0.0</td>\n      <td>0.0</td>\n      <td>0.0</td>\n      <td>NaN</td>\n      <td>NaN</td>\n      <td>NaN</td>\n      <td>NaN</td>\n      <td>NaN</td>\n      <td>NaN</td>\n      <td>NaN</td>\n      <td>NaN</td>\n      <td>0.202291</td>\n      <td>9.723898e-01</td>\n      <td>0.0</td>\n      <td>0.0</td>\n      <td>0.0</td>\n      <td>0.0</td>\n      <td>0.156948</td>\n      <td>0.163487</td>\n      <td>0.158570</td>\n      <td>0.161840</td>\n      <td>0.175251</td>\n      <td>0.183904</td>\n      <td>0.0</td>\n      <td>0.0</td>\n      <td>0.0</td>\n      <td>0.0</td>\n      <td>0.666667</td>\n      <td>0.333333</td>\n      <td>0.166667</td>\n      <td>0.0</td>\n      <td>0.0</td>\n      <td>0.0</td>\n      <td>0.0</td>\n      <td>0.0</td>\n      <td>0.0</td>\n      <td>0.0</td>\n      <td>1.0</td>\n      <td>0.0</td>\n      <td>0.5</td>\n      <td>0.666667</td>\n      <td>0.833333</td>\n      <td>1.000000</td>\n      <td>1.0</td>\n      <td>0.562335</td>\n      <td>0.562335</td>\n      <td>1.039721</td>\n      <td>1.039721</td>\n      <td>1.039721</td>\n      <td>1.039721</td>\n      <td>1.098612</td>\n      <td>0.693147</td>\n      <td>-0.0</td>\n      <td>NaN</td>\n      <td>NaN</td>\n      <td>NaN</td>\n      <td>NaN</td>\n      <td>NaN</td>\n      <td>NaN</td>\n      <td>NaN</td>\n      <td>NaN</td>\n      <td>212</td>\n    </tr>\n    <tr>\n      <th>2993</th>\n      <td>1.0</td>\n      <td>0.0</td>\n      <td>0.0</td>\n      <td>0.0</td>\n      <td>1217.0</td>\n      <td>247107.0</td>\n      <td>4.0</td>\n      <td>2.8</td>\n      <td>0.625</td>\n      <td>201.5</td>\n      <td>202.833333</td>\n      <td>6.0</td>\n      <td>6.568020</td>\n      <td>0.032381</td>\n      <td>43.138889</td>\n      <td>0.287103</td>\n      <td>-2.282283</td>\n      <td>202.939646</td>\n      <td>20.0</td>\n      <td>3.0</td>\n      <td>3.0</td>\n      <td>3.0</td>\n      <td>3.0</td>\n      <td>1.000000</td>\n      <td>0.833333</td>\n      <td>0.333333</td>\n      <td>0.166667</td>\n      <td>0.0</td>\n      <td>0.0</td>\n      <td>0.0</td>\n      <td>0.0</td>\n      <td>1.0</td>\n      <td>NaN</td>\n      <td>212.0</td>\n      <td>195.0</td>\n      <td>0.876711</td>\n      <td>602155.00</td>\n      <td>1191453.5</td>\n      <td>0.0</td>\n      <td>8272173.75</td>\n      <td>8332980.0</td>\n      <td>0.0</td>\n      <td>1.567539</td>\n      <td>10.295630</td>\n      <td>0.0</td>\n      <td>0.0</td>\n      <td>1.0</td>\n      <td>1.0</td>\n      <td>1.0</td>\n      <td>1.0</td>\n      <td>1.0</td>\n      <td>1.0</td>\n      <td>1.0</td>\n      <td>1.0</td>\n      <td>1.0</td>\n      <td>1.0</td>\n      <td>1.0</td>\n      <td>1.0</td>\n      <td>1.0</td>\n      <td>1.0</td>\n      <td>1.0</td>\n      <td>1.0</td>\n      <td>1.0</td>\n      <td>1.0</td>\n      <td>1.0</td>\n      <td>1.0</td>\n      <td>1.0</td>\n      <td>1.0</td>\n      <td>1.0</td>\n      <td>1.0</td>\n      <td>1.0</td>\n      <td>0.0</td>\n      <td>0.0</td>\n      <td>0.0</td>\n      <td>0.0</td>\n      <td>0.0</td>\n      <td>0.0</td>\n      <td>0.0</td>\n      <td>0.0</td>\n      <td>0.0</td>\n      <td>0.0</td>\n      <td>0.0</td>\n      <td>0.0</td>\n      <td>196.0</td>\n      <td>197.0</td>\n      <td>197.5</td>\n      <td>198.0</td>\n      <td>205.0</td>\n      <td>207.5</td>\n      <td>210.0</td>\n      <td>211.0</td>\n      <td>1.0</td>\n      <td>0.705344</td>\n      <td>-0.062138</td>\n      <td>-0.927882</td>\n      <td>-1.233741</td>\n      <td>-1.027044</td>\n      <td>NaN</td>\n      <td>NaN</td>\n      <td>NaN</td>\n      <td>NaN</td>\n      <td>-0.509092</td>\n      <td>-0.927882</td>\n      <td>0.528680</td>\n      <td>1.0</td>\n      <td>0.705344</td>\n      <td>-1.113753</td>\n      <td>NaN</td>\n      <td>NaN</td>\n      <td>NaN</td>\n      <td>NaN</td>\n      <td>NaN</td>\n      <td>NaN</td>\n      <td>NaN</td>\n      <td>1.0</td>\n      <td>1.0</td>\n      <td>0.0</td>\n      <td>0.0</td>\n      <td>0.0</td>\n      <td>0.0</td>\n      <td>0.0</td>\n      <td>1.560710</td>\n      <td>0.166667</td>\n      <td>0.333333</td>\n      <td>0.333333</td>\n      <td>0.5</td>\n      <td>0.666667</td>\n      <td>0.833333</td>\n      <td>0.833333</td>\n      <td>1.0</td>\n      <td>118.719432</td>\n      <td>192.028706</td>\n      <td>154.893526</td>\n      <td>113.180488</td>\n      <td>226.528821</td>\n      <td>269.264082</td>\n      <td>210.700223</td>\n      <td>152.863305</td>\n      <td>266.904008</td>\n      <td>339.678027</td>\n      <td>266.284067</td>\n      <td>193.231958</td>\n      <td>241.293444</td>\n      <td>395.519137</td>\n      <td>319.390556</td>\n      <td>233.438914</td>\n      <td>283.305577</td>\n      <td>346.639724</td>\n      <td>270.421022</td>\n      <td>196.000879</td>\n      <td>245.573493</td>\n      <td>280.990258</td>\n      <td>218.751385</td>\n      <td>158.505355</td>\n      <td>NaN</td>\n      <td>NaN</td>\n      <td>NaN</td>\n      <td>NaN</td>\n      <td>NaN</td>\n      <td>NaN</td>\n      <td>NaN</td>\n      <td>NaN</td>\n      <td>NaN</td>\n      <td>NaN</td>\n      <td>NaN</td>\n      <td>NaN</td>\n      <td>NaN</td>\n      <td>NaN</td>\n      <td>NaN</td>\n      <td>NaN</td>\n      <td>NaN</td>\n      <td>NaN</td>\n      <td>NaN</td>\n      <td>NaN</td>\n      <td>NaN</td>\n      <td>NaN</td>\n      <td>NaN</td>\n      <td>NaN</td>\n      <td>NaN</td>\n      <td>NaN</td>\n      <td>NaN</td>\n      <td>NaN</td>\n      <td>NaN</td>\n      <td>NaN</td>\n      <td>NaN</td>\n      <td>NaN</td>\n      <td>NaN</td>\n      <td>NaN</td>\n      <td>NaN</td>\n      <td>NaN</td>\n      <td>22.166667</td>\n      <td>NaN</td>\n      <td>NaN</td>\n      <td>NaN</td>\n      <td>NaN</td>\n      <td>NaN</td>\n      <td>NaN</td>\n      <td>NaN</td>\n      <td>NaN</td>\n      <td>NaN</td>\n      <td>NaN</td>\n      <td>NaN</td>\n      <td>NaN</td>\n      <td>0.0</td>\n      <td>2.0</td>\n      <td>0.0</td>\n      <td>2.0</td>\n      <td>0.0</td>\n      <td>-0.5</td>\n      <td>6.25</td>\n      <td>2.5</td>\n      <td>0.25</td>\n      <td>2.333333</td>\n      <td>20.222222</td>\n      <td>4.333333</td>\n      <td>6.888889</td>\n      <td>3.000000</td>\n      <td>16.500000</td>\n      <td>4.500000</td>\n      <td>5.250000</td>\n      <td>2.8</td>\n      <td>13.36</td>\n      <td>4.0</td>\n      <td>5.20</td>\n      <td>0.0</td>\n      <td>0.0</td>\n      <td>0.0</td>\n      <td>0.0</td>\n      <td>8.0</td>\n      <td>0.00</td>\n      <td>8.0</td>\n      <td>0.00</td>\n      <td>6.500000</td>\n      <td>2.250000</td>\n      <td>6.500000</td>\n      <td>2.250000</td>\n      <td>5.000000</td>\n      <td>6.000000</td>\n      <td>5.000000</td>\n      <td>6.000000</td>\n      <td>0.0</td>\n      <td>0.0</td>\n      <td>0.0</td>\n      <td>0.0</td>\n      <td>5.0</td>\n      <td>0.00</td>\n      <td>5.0</td>\n      <td>0.00</td>\n      <td>3.500000</td>\n      <td>2.250000</td>\n      <td>...</td>\n      <td>NaN</td>\n      <td>NaN</td>\n      <td>NaN</td>\n      <td>NaN</td>\n      <td>NaN</td>\n      <td>NaN</td>\n      <td>NaN</td>\n      <td>NaN</td>\n      <td>NaN</td>\n      <td>NaN</td>\n      <td>NaN</td>\n      <td>NaN</td>\n      <td>NaN</td>\n      <td>NaN</td>\n      <td>NaN</td>\n      <td>NaN</td>\n      <td>NaN</td>\n      <td>NaN</td>\n      <td>NaN</td>\n      <td>NaN</td>\n      <td>NaN</td>\n      <td>NaN</td>\n      <td>NaN</td>\n      <td>NaN</td>\n      <td>NaN</td>\n      <td>NaN</td>\n      <td>0.0</td>\n      <td>105.079138</td>\n      <td>139.106605</td>\n      <td>180.0</td>\n      <td>NaN</td>\n      <td>NaN</td>\n      <td>NaN</td>\n      <td>NaN</td>\n      <td>NaN</td>\n      <td>NaN</td>\n      <td>NaN</td>\n      <td>NaN</td>\n      <td>NaN</td>\n      <td>NaN</td>\n      <td>NaN</td>\n      <td>NaN</td>\n      <td>NaN</td>\n      <td>NaN</td>\n      <td>NaN</td>\n      <td>NaN</td>\n      <td>NaN</td>\n      <td>NaN</td>\n      <td>NaN</td>\n      <td>NaN</td>\n      <td>NaN</td>\n      <td>NaN</td>\n      <td>NaN</td>\n      <td>NaN</td>\n      <td>NaN</td>\n      <td>NaN</td>\n      <td>NaN</td>\n      <td>NaN</td>\n      <td>NaN</td>\n      <td>NaN</td>\n      <td>NaN</td>\n      <td>NaN</td>\n      <td>NaN</td>\n      <td>NaN</td>\n      <td>NaN</td>\n      <td>NaN</td>\n      <td>NaN</td>\n      <td>NaN</td>\n      <td>NaN</td>\n      <td>NaN</td>\n      <td>NaN</td>\n      <td>NaN</td>\n      <td>NaN</td>\n      <td>NaN</td>\n      <td>NaN</td>\n      <td>NaN</td>\n      <td>NaN</td>\n      <td>NaN</td>\n      <td>NaN</td>\n      <td>NaN</td>\n      <td>NaN</td>\n      <td>NaN</td>\n      <td>NaN</td>\n      <td>NaN</td>\n      <td>NaN</td>\n      <td>NaN</td>\n      <td>NaN</td>\n      <td>NaN</td>\n      <td>NaN</td>\n      <td>NaN</td>\n      <td>NaN</td>\n      <td>NaN</td>\n      <td>NaN</td>\n      <td>NaN</td>\n      <td>NaN</td>\n      <td>NaN</td>\n      <td>NaN</td>\n      <td>NaN</td>\n      <td>NaN</td>\n      <td>NaN</td>\n      <td>NaN</td>\n      <td>NaN</td>\n      <td>NaN</td>\n      <td>NaN</td>\n      <td>NaN</td>\n      <td>NaN</td>\n      <td>NaN</td>\n      <td>NaN</td>\n      <td>NaN</td>\n      <td>NaN</td>\n      <td>NaN</td>\n      <td>NaN</td>\n      <td>NaN</td>\n      <td>NaN</td>\n      <td>NaN</td>\n      <td>NaN</td>\n      <td>NaN</td>\n      <td>NaN</td>\n      <td>NaN</td>\n      <td>NaN</td>\n      <td>NaN</td>\n      <td>NaN</td>\n      <td>NaN</td>\n      <td>NaN</td>\n      <td>NaN</td>\n      <td>NaN</td>\n      <td>0.046561</td>\n      <td>0.086252</td>\n      <td>NaN</td>\n      <td>NaN</td>\n      <td>0.0</td>\n      <td>0.0</td>\n      <td>0.0</td>\n      <td>0.0</td>\n      <td>0.0</td>\n      <td>6.0</td>\n      <td>0.223144</td>\n      <td>0.223144</td>\n      <td>0.054115</td>\n      <td>0.054115</td>\n      <td>0.331374</td>\n      <td>-0.010610</td>\n      <td>6.431750</td>\n      <td>-1299.068350</td>\n      <td>8.742920e+04</td>\n      <td>211.170105</td>\n      <td>1.082810e-02</td>\n      <td>0.913789</td>\n      <td>194.047619</td>\n      <td>3.514286</td>\n      <td>0.781069</td>\n      <td>1.0</td>\n      <td>1.0</td>\n      <td>1.0</td>\n      <td>-1.0</td>\n      <td>NaN</td>\n      <td>NaN</td>\n      <td>NaN</td>\n      <td>NaN</td>\n      <td>NaN</td>\n      <td>NaN</td>\n      <td>NaN</td>\n      <td>NaN</td>\n      <td>210.0</td>\n      <td>195.0</td>\n      <td>201.0</td>\n      <td>31.60</td>\n      <td>NaN</td>\n      <td>NaN</td>\n      <td>NaN</td>\n      <td>NaN</td>\n      <td>NaN</td>\n      <td>NaN</td>\n      <td>NaN</td>\n      <td>NaN</td>\n      <td>2.0</td>\n      <td>17.0</td>\n      <td>11.0</td>\n      <td>-31.60</td>\n      <td>NaN</td>\n      <td>NaN</td>\n      <td>NaN</td>\n      <td>NaN</td>\n      <td>NaN</td>\n      <td>NaN</td>\n      <td>NaN</td>\n      <td>NaN</td>\n      <td>0.0</td>\n      <td>0.0</td>\n      <td>0.0</td>\n      <td>0.0</td>\n      <td>NaN</td>\n      <td>NaN</td>\n      <td>NaN</td>\n      <td>NaN</td>\n      <td>NaN</td>\n      <td>NaN</td>\n      <td>NaN</td>\n      <td>NaN</td>\n      <td>-1.433850</td>\n      <td>5.659450e-01</td>\n      <td>1.0</td>\n      <td>0.0</td>\n      <td>0.0</td>\n      <td>0.0</td>\n      <td>0.158652</td>\n      <td>0.153881</td>\n      <td>0.157053</td>\n      <td>0.170068</td>\n      <td>0.178465</td>\n      <td>0.181881</td>\n      <td>0.0</td>\n      <td>0.0</td>\n      <td>0.0</td>\n      <td>0.0</td>\n      <td>0.833333</td>\n      <td>0.500000</td>\n      <td>0.000000</td>\n      <td>0.0</td>\n      <td>0.0</td>\n      <td>0.0</td>\n      <td>0.0</td>\n      <td>0.0</td>\n      <td>0.0</td>\n      <td>0.0</td>\n      <td>1.0</td>\n      <td>0.0</td>\n      <td>0.5</td>\n      <td>0.666667</td>\n      <td>0.666667</td>\n      <td>0.833333</td>\n      <td>1.0</td>\n      <td>0.562335</td>\n      <td>0.562335</td>\n      <td>0.562335</td>\n      <td>1.039721</td>\n      <td>1.386294</td>\n      <td>0.562335</td>\n      <td>0.636514</td>\n      <td>0.693147</td>\n      <td>-0.0</td>\n      <td>NaN</td>\n      <td>NaN</td>\n      <td>NaN</td>\n      <td>NaN</td>\n      <td>NaN</td>\n      <td>NaN</td>\n      <td>NaN</td>\n      <td>NaN</td>\n      <td>215</td>\n    </tr>\n  </tbody>\n</table>\n<p>2994 rows × 788 columns</p>\n</div>"
     },
     "metadata": {}
    }
   ],
   "execution_count": null
  },
  {
   "cell_type": "code",
   "source": "exp_reg = setup(df3,\n                    target='label',\n                    feature_selection=True,\n                    html=True,\n                    silent=True\n                    )",
   "metadata": {
    "tags": [],
    "cell_id": "00004-cc6341b2-8387-4ba2-aa46-4bd61568c6f9",
    "deepnote_to_be_reexecuted": false,
    "source_hash": "70262c54",
    "execution_start": 1623930123234,
    "execution_millis": 5956,
    "deepnote_cell_type": "code"
   },
   "outputs": [
    {
     "output_type": "clearOutput"
    },
    {
     "data": {
      "text/plain": "<pandas.io.formats.style.Styler at 0x7fcab02445e0>",
      "text/html": "<style  type=\"text/css\" >\n#T_a3acb_row3_col1,#T_a3acb_row49_col1{\n            background-color:  lightgreen;\n        }</style><table id=\"T_a3acb_\" ><thead>    <tr>        <th class=\"blank level0\" ></th>        <th class=\"col_heading level0 col0\" >Description</th>        <th class=\"col_heading level0 col1\" >Value</th>    </tr></thead><tbody>\n                <tr>\n                        <th id=\"T_a3acb_level0_row0\" class=\"row_heading level0 row0\" >0</th>\n                        <td id=\"T_a3acb_row0_col0\" class=\"data row0 col0\" >session_id</td>\n                        <td id=\"T_a3acb_row0_col1\" class=\"data row0 col1\" >2345</td>\n            </tr>\n            <tr>\n                        <th id=\"T_a3acb_level0_row1\" class=\"row_heading level0 row1\" >1</th>\n                        <td id=\"T_a3acb_row1_col0\" class=\"data row1 col0\" >Target</td>\n                        <td id=\"T_a3acb_row1_col1\" class=\"data row1 col1\" >label</td>\n            </tr>\n            <tr>\n                        <th id=\"T_a3acb_level0_row2\" class=\"row_heading level0 row2\" >2</th>\n                        <td id=\"T_a3acb_row2_col0\" class=\"data row2 col0\" >Original Data</td>\n                        <td id=\"T_a3acb_row2_col1\" class=\"data row2 col1\" >(2994, 788)</td>\n            </tr>\n            <tr>\n                        <th id=\"T_a3acb_level0_row3\" class=\"row_heading level0 row3\" >3</th>\n                        <td id=\"T_a3acb_row3_col0\" class=\"data row3 col0\" >Missing Values</td>\n                        <td id=\"T_a3acb_row3_col1\" class=\"data row3 col1\" >True</td>\n            </tr>\n            <tr>\n                        <th id=\"T_a3acb_level0_row4\" class=\"row_heading level0 row4\" >4</th>\n                        <td id=\"T_a3acb_row4_col0\" class=\"data row4 col0\" >Numeric Features</td>\n                        <td id=\"T_a3acb_row4_col1\" class=\"data row4 col1\" >260</td>\n            </tr>\n            <tr>\n                        <th id=\"T_a3acb_level0_row5\" class=\"row_heading level0 row5\" >5</th>\n                        <td id=\"T_a3acb_row5_col0\" class=\"data row5 col0\" >Categorical Features</td>\n                        <td id=\"T_a3acb_row5_col1\" class=\"data row5 col1\" >527</td>\n            </tr>\n            <tr>\n                        <th id=\"T_a3acb_level0_row6\" class=\"row_heading level0 row6\" >6</th>\n                        <td id=\"T_a3acb_row6_col0\" class=\"data row6 col0\" >Ordinal Features</td>\n                        <td id=\"T_a3acb_row6_col1\" class=\"data row6 col1\" >False</td>\n            </tr>\n            <tr>\n                        <th id=\"T_a3acb_level0_row7\" class=\"row_heading level0 row7\" >7</th>\n                        <td id=\"T_a3acb_row7_col0\" class=\"data row7 col0\" >High Cardinality Features</td>\n                        <td id=\"T_a3acb_row7_col1\" class=\"data row7 col1\" >False</td>\n            </tr>\n            <tr>\n                        <th id=\"T_a3acb_level0_row8\" class=\"row_heading level0 row8\" >8</th>\n                        <td id=\"T_a3acb_row8_col0\" class=\"data row8 col0\" >High Cardinality Method</td>\n                        <td id=\"T_a3acb_row8_col1\" class=\"data row8 col1\" >None</td>\n            </tr>\n            <tr>\n                        <th id=\"T_a3acb_level0_row9\" class=\"row_heading level0 row9\" >9</th>\n                        <td id=\"T_a3acb_row9_col0\" class=\"data row9 col0\" >Transformed Train Set</td>\n                        <td id=\"T_a3acb_row9_col1\" class=\"data row9 col1\" >(2095, 223)</td>\n            </tr>\n            <tr>\n                        <th id=\"T_a3acb_level0_row10\" class=\"row_heading level0 row10\" >10</th>\n                        <td id=\"T_a3acb_row10_col0\" class=\"data row10 col0\" >Transformed Test Set</td>\n                        <td id=\"T_a3acb_row10_col1\" class=\"data row10 col1\" >(899, 223)</td>\n            </tr>\n            <tr>\n                        <th id=\"T_a3acb_level0_row11\" class=\"row_heading level0 row11\" >11</th>\n                        <td id=\"T_a3acb_row11_col0\" class=\"data row11 col0\" >Shuffle Train-Test</td>\n                        <td id=\"T_a3acb_row11_col1\" class=\"data row11 col1\" >True</td>\n            </tr>\n            <tr>\n                        <th id=\"T_a3acb_level0_row12\" class=\"row_heading level0 row12\" >12</th>\n                        <td id=\"T_a3acb_row12_col0\" class=\"data row12 col0\" >Stratify Train-Test</td>\n                        <td id=\"T_a3acb_row12_col1\" class=\"data row12 col1\" >False</td>\n            </tr>\n            <tr>\n                        <th id=\"T_a3acb_level0_row13\" class=\"row_heading level0 row13\" >13</th>\n                        <td id=\"T_a3acb_row13_col0\" class=\"data row13 col0\" >Fold Generator</td>\n                        <td id=\"T_a3acb_row13_col1\" class=\"data row13 col1\" >KFold</td>\n            </tr>\n            <tr>\n                        <th id=\"T_a3acb_level0_row14\" class=\"row_heading level0 row14\" >14</th>\n                        <td id=\"T_a3acb_row14_col0\" class=\"data row14 col0\" >Fold Number</td>\n                        <td id=\"T_a3acb_row14_col1\" class=\"data row14 col1\" >10</td>\n            </tr>\n            <tr>\n                        <th id=\"T_a3acb_level0_row15\" class=\"row_heading level0 row15\" >15</th>\n                        <td id=\"T_a3acb_row15_col0\" class=\"data row15 col0\" >CPU Jobs</td>\n                        <td id=\"T_a3acb_row15_col1\" class=\"data row15 col1\" >-1</td>\n            </tr>\n            <tr>\n                        <th id=\"T_a3acb_level0_row16\" class=\"row_heading level0 row16\" >16</th>\n                        <td id=\"T_a3acb_row16_col0\" class=\"data row16 col0\" >Use GPU</td>\n                        <td id=\"T_a3acb_row16_col1\" class=\"data row16 col1\" >False</td>\n            </tr>\n            <tr>\n                        <th id=\"T_a3acb_level0_row17\" class=\"row_heading level0 row17\" >17</th>\n                        <td id=\"T_a3acb_row17_col0\" class=\"data row17 col0\" >Log Experiment</td>\n                        <td id=\"T_a3acb_row17_col1\" class=\"data row17 col1\" >False</td>\n            </tr>\n            <tr>\n                        <th id=\"T_a3acb_level0_row18\" class=\"row_heading level0 row18\" >18</th>\n                        <td id=\"T_a3acb_row18_col0\" class=\"data row18 col0\" >Experiment Name</td>\n                        <td id=\"T_a3acb_row18_col1\" class=\"data row18 col1\" >reg-default-name</td>\n            </tr>\n            <tr>\n                        <th id=\"T_a3acb_level0_row19\" class=\"row_heading level0 row19\" >19</th>\n                        <td id=\"T_a3acb_row19_col0\" class=\"data row19 col0\" >USI</td>\n                        <td id=\"T_a3acb_row19_col1\" class=\"data row19 col1\" >bb89</td>\n            </tr>\n            <tr>\n                        <th id=\"T_a3acb_level0_row20\" class=\"row_heading level0 row20\" >20</th>\n                        <td id=\"T_a3acb_row20_col0\" class=\"data row20 col0\" >Imputation Type</td>\n                        <td id=\"T_a3acb_row20_col1\" class=\"data row20 col1\" >simple</td>\n            </tr>\n            <tr>\n                        <th id=\"T_a3acb_level0_row21\" class=\"row_heading level0 row21\" >21</th>\n                        <td id=\"T_a3acb_row21_col0\" class=\"data row21 col0\" >Iterative Imputation Iteration</td>\n                        <td id=\"T_a3acb_row21_col1\" class=\"data row21 col1\" >None</td>\n            </tr>\n            <tr>\n                        <th id=\"T_a3acb_level0_row22\" class=\"row_heading level0 row22\" >22</th>\n                        <td id=\"T_a3acb_row22_col0\" class=\"data row22 col0\" >Numeric Imputer</td>\n                        <td id=\"T_a3acb_row22_col1\" class=\"data row22 col1\" >mean</td>\n            </tr>\n            <tr>\n                        <th id=\"T_a3acb_level0_row23\" class=\"row_heading level0 row23\" >23</th>\n                        <td id=\"T_a3acb_row23_col0\" class=\"data row23 col0\" >Iterative Imputation Numeric Model</td>\n                        <td id=\"T_a3acb_row23_col1\" class=\"data row23 col1\" >None</td>\n            </tr>\n            <tr>\n                        <th id=\"T_a3acb_level0_row24\" class=\"row_heading level0 row24\" >24</th>\n                        <td id=\"T_a3acb_row24_col0\" class=\"data row24 col0\" >Categorical Imputer</td>\n                        <td id=\"T_a3acb_row24_col1\" class=\"data row24 col1\" >constant</td>\n            </tr>\n            <tr>\n                        <th id=\"T_a3acb_level0_row25\" class=\"row_heading level0 row25\" >25</th>\n                        <td id=\"T_a3acb_row25_col0\" class=\"data row25 col0\" >Iterative Imputation Categorical Model</td>\n                        <td id=\"T_a3acb_row25_col1\" class=\"data row25 col1\" >None</td>\n            </tr>\n            <tr>\n                        <th id=\"T_a3acb_level0_row26\" class=\"row_heading level0 row26\" >26</th>\n                        <td id=\"T_a3acb_row26_col0\" class=\"data row26 col0\" >Unknown Categoricals Handling</td>\n                        <td id=\"T_a3acb_row26_col1\" class=\"data row26 col1\" >least_frequent</td>\n            </tr>\n            <tr>\n                        <th id=\"T_a3acb_level0_row27\" class=\"row_heading level0 row27\" >27</th>\n                        <td id=\"T_a3acb_row27_col0\" class=\"data row27 col0\" >Normalize</td>\n                        <td id=\"T_a3acb_row27_col1\" class=\"data row27 col1\" >False</td>\n            </tr>\n            <tr>\n                        <th id=\"T_a3acb_level0_row28\" class=\"row_heading level0 row28\" >28</th>\n                        <td id=\"T_a3acb_row28_col0\" class=\"data row28 col0\" >Normalize Method</td>\n                        <td id=\"T_a3acb_row28_col1\" class=\"data row28 col1\" >None</td>\n            </tr>\n            <tr>\n                        <th id=\"T_a3acb_level0_row29\" class=\"row_heading level0 row29\" >29</th>\n                        <td id=\"T_a3acb_row29_col0\" class=\"data row29 col0\" >Transformation</td>\n                        <td id=\"T_a3acb_row29_col1\" class=\"data row29 col1\" >False</td>\n            </tr>\n            <tr>\n                        <th id=\"T_a3acb_level0_row30\" class=\"row_heading level0 row30\" >30</th>\n                        <td id=\"T_a3acb_row30_col0\" class=\"data row30 col0\" >Transformation Method</td>\n                        <td id=\"T_a3acb_row30_col1\" class=\"data row30 col1\" >None</td>\n            </tr>\n            <tr>\n                        <th id=\"T_a3acb_level0_row31\" class=\"row_heading level0 row31\" >31</th>\n                        <td id=\"T_a3acb_row31_col0\" class=\"data row31 col0\" >PCA</td>\n                        <td id=\"T_a3acb_row31_col1\" class=\"data row31 col1\" >False</td>\n            </tr>\n            <tr>\n                        <th id=\"T_a3acb_level0_row32\" class=\"row_heading level0 row32\" >32</th>\n                        <td id=\"T_a3acb_row32_col0\" class=\"data row32 col0\" >PCA Method</td>\n                        <td id=\"T_a3acb_row32_col1\" class=\"data row32 col1\" >None</td>\n            </tr>\n            <tr>\n                        <th id=\"T_a3acb_level0_row33\" class=\"row_heading level0 row33\" >33</th>\n                        <td id=\"T_a3acb_row33_col0\" class=\"data row33 col0\" >PCA Components</td>\n                        <td id=\"T_a3acb_row33_col1\" class=\"data row33 col1\" >None</td>\n            </tr>\n            <tr>\n                        <th id=\"T_a3acb_level0_row34\" class=\"row_heading level0 row34\" >34</th>\n                        <td id=\"T_a3acb_row34_col0\" class=\"data row34 col0\" >Ignore Low Variance</td>\n                        <td id=\"T_a3acb_row34_col1\" class=\"data row34 col1\" >False</td>\n            </tr>\n            <tr>\n                        <th id=\"T_a3acb_level0_row35\" class=\"row_heading level0 row35\" >35</th>\n                        <td id=\"T_a3acb_row35_col0\" class=\"data row35 col0\" >Combine Rare Levels</td>\n                        <td id=\"T_a3acb_row35_col1\" class=\"data row35 col1\" >False</td>\n            </tr>\n            <tr>\n                        <th id=\"T_a3acb_level0_row36\" class=\"row_heading level0 row36\" >36</th>\n                        <td id=\"T_a3acb_row36_col0\" class=\"data row36 col0\" >Rare Level Threshold</td>\n                        <td id=\"T_a3acb_row36_col1\" class=\"data row36 col1\" >None</td>\n            </tr>\n            <tr>\n                        <th id=\"T_a3acb_level0_row37\" class=\"row_heading level0 row37\" >37</th>\n                        <td id=\"T_a3acb_row37_col0\" class=\"data row37 col0\" >Numeric Binning</td>\n                        <td id=\"T_a3acb_row37_col1\" class=\"data row37 col1\" >False</td>\n            </tr>\n            <tr>\n                        <th id=\"T_a3acb_level0_row38\" class=\"row_heading level0 row38\" >38</th>\n                        <td id=\"T_a3acb_row38_col0\" class=\"data row38 col0\" >Remove Outliers</td>\n                        <td id=\"T_a3acb_row38_col1\" class=\"data row38 col1\" >False</td>\n            </tr>\n            <tr>\n                        <th id=\"T_a3acb_level0_row39\" class=\"row_heading level0 row39\" >39</th>\n                        <td id=\"T_a3acb_row39_col0\" class=\"data row39 col0\" >Outliers Threshold</td>\n                        <td id=\"T_a3acb_row39_col1\" class=\"data row39 col1\" >None</td>\n            </tr>\n            <tr>\n                        <th id=\"T_a3acb_level0_row40\" class=\"row_heading level0 row40\" >40</th>\n                        <td id=\"T_a3acb_row40_col0\" class=\"data row40 col0\" >Remove Multicollinearity</td>\n                        <td id=\"T_a3acb_row40_col1\" class=\"data row40 col1\" >False</td>\n            </tr>\n            <tr>\n                        <th id=\"T_a3acb_level0_row41\" class=\"row_heading level0 row41\" >41</th>\n                        <td id=\"T_a3acb_row41_col0\" class=\"data row41 col0\" >Multicollinearity Threshold</td>\n                        <td id=\"T_a3acb_row41_col1\" class=\"data row41 col1\" >None</td>\n            </tr>\n            <tr>\n                        <th id=\"T_a3acb_level0_row42\" class=\"row_heading level0 row42\" >42</th>\n                        <td id=\"T_a3acb_row42_col0\" class=\"data row42 col0\" >Clustering</td>\n                        <td id=\"T_a3acb_row42_col1\" class=\"data row42 col1\" >False</td>\n            </tr>\n            <tr>\n                        <th id=\"T_a3acb_level0_row43\" class=\"row_heading level0 row43\" >43</th>\n                        <td id=\"T_a3acb_row43_col0\" class=\"data row43 col0\" >Clustering Iteration</td>\n                        <td id=\"T_a3acb_row43_col1\" class=\"data row43 col1\" >None</td>\n            </tr>\n            <tr>\n                        <th id=\"T_a3acb_level0_row44\" class=\"row_heading level0 row44\" >44</th>\n                        <td id=\"T_a3acb_row44_col0\" class=\"data row44 col0\" >Polynomial Features</td>\n                        <td id=\"T_a3acb_row44_col1\" class=\"data row44 col1\" >False</td>\n            </tr>\n            <tr>\n                        <th id=\"T_a3acb_level0_row45\" class=\"row_heading level0 row45\" >45</th>\n                        <td id=\"T_a3acb_row45_col0\" class=\"data row45 col0\" >Polynomial Degree</td>\n                        <td id=\"T_a3acb_row45_col1\" class=\"data row45 col1\" >None</td>\n            </tr>\n            <tr>\n                        <th id=\"T_a3acb_level0_row46\" class=\"row_heading level0 row46\" >46</th>\n                        <td id=\"T_a3acb_row46_col0\" class=\"data row46 col0\" >Trignometry Features</td>\n                        <td id=\"T_a3acb_row46_col1\" class=\"data row46 col1\" >False</td>\n            </tr>\n            <tr>\n                        <th id=\"T_a3acb_level0_row47\" class=\"row_heading level0 row47\" >47</th>\n                        <td id=\"T_a3acb_row47_col0\" class=\"data row47 col0\" >Polynomial Threshold</td>\n                        <td id=\"T_a3acb_row47_col1\" class=\"data row47 col1\" >None</td>\n            </tr>\n            <tr>\n                        <th id=\"T_a3acb_level0_row48\" class=\"row_heading level0 row48\" >48</th>\n                        <td id=\"T_a3acb_row48_col0\" class=\"data row48 col0\" >Group Features</td>\n                        <td id=\"T_a3acb_row48_col1\" class=\"data row48 col1\" >False</td>\n            </tr>\n            <tr>\n                        <th id=\"T_a3acb_level0_row49\" class=\"row_heading level0 row49\" >49</th>\n                        <td id=\"T_a3acb_row49_col0\" class=\"data row49 col0\" >Feature Selection</td>\n                        <td id=\"T_a3acb_row49_col1\" class=\"data row49 col1\" >True</td>\n            </tr>\n            <tr>\n                        <th id=\"T_a3acb_level0_row50\" class=\"row_heading level0 row50\" >50</th>\n                        <td id=\"T_a3acb_row50_col0\" class=\"data row50 col0\" >Feature Selection Method</td>\n                        <td id=\"T_a3acb_row50_col1\" class=\"data row50 col1\" >classic</td>\n            </tr>\n            <tr>\n                        <th id=\"T_a3acb_level0_row51\" class=\"row_heading level0 row51\" >51</th>\n                        <td id=\"T_a3acb_row51_col0\" class=\"data row51 col0\" >Features Selection Threshold</td>\n                        <td id=\"T_a3acb_row51_col1\" class=\"data row51 col1\" >0.800000</td>\n            </tr>\n            <tr>\n                        <th id=\"T_a3acb_level0_row52\" class=\"row_heading level0 row52\" >52</th>\n                        <td id=\"T_a3acb_row52_col0\" class=\"data row52 col0\" >Feature Interaction</td>\n                        <td id=\"T_a3acb_row52_col1\" class=\"data row52 col1\" >False</td>\n            </tr>\n            <tr>\n                        <th id=\"T_a3acb_level0_row53\" class=\"row_heading level0 row53\" >53</th>\n                        <td id=\"T_a3acb_row53_col0\" class=\"data row53 col0\" >Feature Ratio</td>\n                        <td id=\"T_a3acb_row53_col1\" class=\"data row53 col1\" >False</td>\n            </tr>\n            <tr>\n                        <th id=\"T_a3acb_level0_row54\" class=\"row_heading level0 row54\" >54</th>\n                        <td id=\"T_a3acb_row54_col0\" class=\"data row54 col0\" >Interaction Threshold</td>\n                        <td id=\"T_a3acb_row54_col1\" class=\"data row54 col1\" >None</td>\n            </tr>\n            <tr>\n                        <th id=\"T_a3acb_level0_row55\" class=\"row_heading level0 row55\" >55</th>\n                        <td id=\"T_a3acb_row55_col0\" class=\"data row55 col0\" >Transform Target</td>\n                        <td id=\"T_a3acb_row55_col1\" class=\"data row55 col1\" >False</td>\n            </tr>\n            <tr>\n                        <th id=\"T_a3acb_level0_row56\" class=\"row_heading level0 row56\" >56</th>\n                        <td id=\"T_a3acb_row56_col0\" class=\"data row56 col0\" >Transform Target Method</td>\n                        <td id=\"T_a3acb_row56_col1\" class=\"data row56 col1\" >box-cox</td>\n            </tr>\n    </tbody></table>"
     },
     "metadata": {},
     "output_type": "display_data"
    }
   ],
   "execution_count": null
  },
  {
   "cell_type": "code",
   "source": "best3 = compare_models(\n    exclude=['catboost', 'xgboost'],\n    sort='RMSE',\n    n_select=3,\n    # verbose=False\n)\nlogger.info(best3)",
   "metadata": {
    "tags": [],
    "cell_id": "00003-5b6f4aaf-5a6a-447b-9393-c2039a527346",
    "deepnote_to_be_reexecuted": false,
    "source_hash": "8b418fa7",
    "execution_start": 1623930134566,
    "execution_millis": 238100,
    "deepnote_cell_type": "code"
   },
   "outputs": [
    {
     "output_type": "clearOutput"
    },
    {
     "data": {
      "text/plain": "<pandas.io.formats.style.Styler at 0x7fcab1b50850>",
      "text/html": "<style  type=\"text/css\" >\n    #T_8197c_ th {\n          text-align: left;\n    }#T_8197c_row0_col0,#T_8197c_row0_col1,#T_8197c_row0_col6,#T_8197c_row1_col0,#T_8197c_row1_col1,#T_8197c_row1_col2,#T_8197c_row1_col3,#T_8197c_row1_col4,#T_8197c_row1_col5,#T_8197c_row1_col6,#T_8197c_row2_col0,#T_8197c_row2_col2,#T_8197c_row2_col3,#T_8197c_row2_col4,#T_8197c_row2_col5,#T_8197c_row3_col0,#T_8197c_row3_col1,#T_8197c_row3_col2,#T_8197c_row3_col3,#T_8197c_row3_col4,#T_8197c_row3_col5,#T_8197c_row3_col6,#T_8197c_row4_col0,#T_8197c_row4_col1,#T_8197c_row4_col2,#T_8197c_row4_col3,#T_8197c_row4_col4,#T_8197c_row4_col5,#T_8197c_row4_col6,#T_8197c_row5_col0,#T_8197c_row5_col1,#T_8197c_row5_col2,#T_8197c_row5_col3,#T_8197c_row5_col4,#T_8197c_row5_col5,#T_8197c_row5_col6,#T_8197c_row6_col0,#T_8197c_row6_col1,#T_8197c_row6_col2,#T_8197c_row6_col3,#T_8197c_row6_col4,#T_8197c_row6_col5,#T_8197c_row6_col6,#T_8197c_row7_col0,#T_8197c_row7_col1,#T_8197c_row7_col2,#T_8197c_row7_col3,#T_8197c_row7_col4,#T_8197c_row7_col5,#T_8197c_row7_col6,#T_8197c_row8_col0,#T_8197c_row8_col1,#T_8197c_row8_col2,#T_8197c_row8_col3,#T_8197c_row8_col4,#T_8197c_row8_col5,#T_8197c_row8_col6,#T_8197c_row9_col0,#T_8197c_row9_col1,#T_8197c_row9_col2,#T_8197c_row9_col3,#T_8197c_row9_col4,#T_8197c_row9_col5,#T_8197c_row9_col6,#T_8197c_row10_col0,#T_8197c_row10_col1,#T_8197c_row10_col2,#T_8197c_row10_col3,#T_8197c_row10_col4,#T_8197c_row10_col5,#T_8197c_row10_col6,#T_8197c_row11_col0,#T_8197c_row11_col1,#T_8197c_row11_col2,#T_8197c_row11_col3,#T_8197c_row11_col4,#T_8197c_row11_col5,#T_8197c_row11_col6,#T_8197c_row12_col0,#T_8197c_row12_col1,#T_8197c_row12_col2,#T_8197c_row12_col3,#T_8197c_row12_col4,#T_8197c_row12_col5,#T_8197c_row12_col6,#T_8197c_row13_col0,#T_8197c_row13_col1,#T_8197c_row13_col2,#T_8197c_row13_col3,#T_8197c_row13_col4,#T_8197c_row13_col5,#T_8197c_row13_col6,#T_8197c_row14_col0,#T_8197c_row14_col1,#T_8197c_row14_col2,#T_8197c_row14_col3,#T_8197c_row14_col4,#T_8197c_row14_col5,#T_8197c_row14_col6,#T_8197c_row15_col0,#T_8197c_row15_col1,#T_8197c_row15_col2,#T_8197c_row15_col3,#T_8197c_row15_col4,#T_8197c_row15_col5,#T_8197c_row15_col6{\n            text-align:  left;\n            text-align:  left;\n        }#T_8197c_row0_col2,#T_8197c_row0_col3,#T_8197c_row0_col4,#T_8197c_row0_col5,#T_8197c_row2_col1,#T_8197c_row2_col6{\n            text-align:  left;\n            text-align:  left;\n            background-color:  yellow;\n        }#T_8197c_row0_col7,#T_8197c_row1_col7,#T_8197c_row3_col7,#T_8197c_row4_col7,#T_8197c_row5_col7,#T_8197c_row6_col7,#T_8197c_row7_col7,#T_8197c_row8_col7,#T_8197c_row9_col7,#T_8197c_row10_col7,#T_8197c_row11_col7,#T_8197c_row12_col7,#T_8197c_row13_col7,#T_8197c_row14_col7,#T_8197c_row15_col7{\n            text-align:  left;\n            text-align:  left;\n            background-color:  lightgrey;\n        }#T_8197c_row2_col7{\n            text-align:  left;\n            text-align:  left;\n            background-color:  yellow;\n            background-color:  lightgrey;\n        }</style><table id=\"T_8197c_\" ><thead>    <tr>        <th class=\"blank level0\" ></th>        <th class=\"col_heading level0 col0\" >Model</th>        <th class=\"col_heading level0 col1\" >MAE</th>        <th class=\"col_heading level0 col2\" >MSE</th>        <th class=\"col_heading level0 col3\" >RMSE</th>        <th class=\"col_heading level0 col4\" >R2</th>        <th class=\"col_heading level0 col5\" >RMSLE</th>        <th class=\"col_heading level0 col6\" >MAPE</th>        <th class=\"col_heading level0 col7\" >TT (Sec)</th>    </tr></thead><tbody>\n                <tr>\n                        <th id=\"T_8197c_level0_row0\" class=\"row_heading level0 row0\" >et</th>\n                        <td id=\"T_8197c_row0_col0\" class=\"data row0 col0\" >Extra Trees Regressor</td>\n                        <td id=\"T_8197c_row0_col1\" class=\"data row0 col1\" >4.5701</td>\n                        <td id=\"T_8197c_row0_col2\" class=\"data row0 col2\" >102.9995</td>\n                        <td id=\"T_8197c_row0_col3\" class=\"data row0 col3\" >9.5219</td>\n                        <td id=\"T_8197c_row0_col4\" class=\"data row0 col4\" >0.9807</td>\n                        <td id=\"T_8197c_row0_col5\" class=\"data row0 col5\" >0.0594</td>\n                        <td id=\"T_8197c_row0_col6\" class=\"data row0 col6\" >0.0300</td>\n                        <td id=\"T_8197c_row0_col7\" class=\"data row0 col7\" >4.3530</td>\n            </tr>\n            <tr>\n                        <th id=\"T_8197c_level0_row1\" class=\"row_heading level0 row1\" >rf</th>\n                        <td id=\"T_8197c_row1_col0\" class=\"data row1 col0\" >Random Forest Regressor</td>\n                        <td id=\"T_8197c_row1_col1\" class=\"data row1 col1\" >4.7897</td>\n                        <td id=\"T_8197c_row1_col2\" class=\"data row1 col2\" >106.8684</td>\n                        <td id=\"T_8197c_row1_col3\" class=\"data row1 col3\" >9.6381</td>\n                        <td id=\"T_8197c_row1_col4\" class=\"data row1 col4\" >0.9800</td>\n                        <td id=\"T_8197c_row1_col5\" class=\"data row1 col5\" >0.0596</td>\n                        <td id=\"T_8197c_row1_col6\" class=\"data row1 col6\" >0.0310</td>\n                        <td id=\"T_8197c_row1_col7\" class=\"data row1 col7\" >8.8500</td>\n            </tr>\n            <tr>\n                        <th id=\"T_8197c_level0_row2\" class=\"row_heading level0 row2\" >omp</th>\n                        <td id=\"T_8197c_row2_col0\" class=\"data row2 col0\" >Orthogonal Matching Pursuit</td>\n                        <td id=\"T_8197c_row2_col1\" class=\"data row2 col1\" >4.4661</td>\n                        <td id=\"T_8197c_row2_col2\" class=\"data row2 col2\" >117.4169</td>\n                        <td id=\"T_8197c_row2_col3\" class=\"data row2 col3\" >9.7863</td>\n                        <td id=\"T_8197c_row2_col4\" class=\"data row2 col4\" >0.9773</td>\n                        <td id=\"T_8197c_row2_col5\" class=\"data row2 col5\" >0.0608</td>\n                        <td id=\"T_8197c_row2_col6\" class=\"data row2 col6\" >0.0297</td>\n                        <td id=\"T_8197c_row2_col7\" class=\"data row2 col7\" >0.0300</td>\n            </tr>\n            <tr>\n                        <th id=\"T_8197c_level0_row3\" class=\"row_heading level0 row3\" >gbr</th>\n                        <td id=\"T_8197c_row3_col0\" class=\"data row3 col0\" >Gradient Boosting Regressor</td>\n                        <td id=\"T_8197c_row3_col1\" class=\"data row3 col1\" >4.9066</td>\n                        <td id=\"T_8197c_row3_col2\" class=\"data row3 col2\" >111.3788</td>\n                        <td id=\"T_8197c_row3_col3\" class=\"data row3 col3\" >9.8533</td>\n                        <td id=\"T_8197c_row3_col4\" class=\"data row3 col4\" >0.9791</td>\n                        <td id=\"T_8197c_row3_col5\" class=\"data row3 col5\" >0.0626</td>\n                        <td id=\"T_8197c_row3_col6\" class=\"data row3 col6\" >0.0328</td>\n                        <td id=\"T_8197c_row3_col7\" class=\"data row3 col7\" >3.6300</td>\n            </tr>\n            <tr>\n                        <th id=\"T_8197c_level0_row4\" class=\"row_heading level0 row4\" >lightgbm</th>\n                        <td id=\"T_8197c_row4_col0\" class=\"data row4 col0\" >Light Gradient Boosting Machine</td>\n                        <td id=\"T_8197c_row4_col1\" class=\"data row4 col1\" >4.9067</td>\n                        <td id=\"T_8197c_row4_col2\" class=\"data row4 col2\" >113.3873</td>\n                        <td id=\"T_8197c_row4_col3\" class=\"data row4 col3\" >9.9753</td>\n                        <td id=\"T_8197c_row4_col4\" class=\"data row4 col4\" >0.9788</td>\n                        <td id=\"T_8197c_row4_col5\" class=\"data row4 col5\" >0.0622</td>\n                        <td id=\"T_8197c_row4_col6\" class=\"data row4 col6\" >0.0322</td>\n                        <td id=\"T_8197c_row4_col7\" class=\"data row4 col7\" >1.2720</td>\n            </tr>\n            <tr>\n                        <th id=\"T_8197c_level0_row5\" class=\"row_heading level0 row5\" >dt</th>\n                        <td id=\"T_8197c_row5_col0\" class=\"data row5 col0\" >Decision Tree Regressor</td>\n                        <td id=\"T_8197c_row5_col1\" class=\"data row5 col1\" >7.3960</td>\n                        <td id=\"T_8197c_row5_col2\" class=\"data row5 col2\" >191.8824</td>\n                        <td id=\"T_8197c_row5_col3\" class=\"data row5 col3\" >13.4432</td>\n                        <td id=\"T_8197c_row5_col4\" class=\"data row5 col4\" >0.9637</td>\n                        <td id=\"T_8197c_row5_col5\" class=\"data row5 col5\" >0.0818</td>\n                        <td id=\"T_8197c_row5_col6\" class=\"data row5 col6\" >0.0470</td>\n                        <td id=\"T_8197c_row5_col7\" class=\"data row5 col7\" >0.1710</td>\n            </tr>\n            <tr>\n                        <th id=\"T_8197c_level0_row6\" class=\"row_heading level0 row6\" >knn</th>\n                        <td id=\"T_8197c_row6_col0\" class=\"data row6 col0\" >K Neighbors Regressor</td>\n                        <td id=\"T_8197c_row6_col1\" class=\"data row6 col1\" >7.5831</td>\n                        <td id=\"T_8197c_row6_col2\" class=\"data row6 col2\" >199.8118</td>\n                        <td id=\"T_8197c_row6_col3\" class=\"data row6 col3\" >13.6911</td>\n                        <td id=\"T_8197c_row6_col4\" class=\"data row6 col4\" >0.9627</td>\n                        <td id=\"T_8197c_row6_col5\" class=\"data row6 col5\" >0.0913</td>\n                        <td id=\"T_8197c_row6_col6\" class=\"data row6 col6\" >0.0518</td>\n                        <td id=\"T_8197c_row6_col7\" class=\"data row6 col7\" >0.1240</td>\n            </tr>\n            <tr>\n                        <th id=\"T_8197c_level0_row7\" class=\"row_heading level0 row7\" >en</th>\n                        <td id=\"T_8197c_row7_col0\" class=\"data row7 col0\" >Elastic Net</td>\n                        <td id=\"T_8197c_row7_col1\" class=\"data row7 col1\" >4.8892</td>\n                        <td id=\"T_8197c_row7_col2\" class=\"data row7 col2\" >575.8399</td>\n                        <td id=\"T_8197c_row7_col3\" class=\"data row7 col3\" >16.9526</td>\n                        <td id=\"T_8197c_row7_col4\" class=\"data row7 col4\" >0.8955</td>\n                        <td id=\"T_8197c_row7_col5\" class=\"data row7 col5\" >0.0841</td>\n                        <td id=\"T_8197c_row7_col6\" class=\"data row7 col6\" >0.0324</td>\n                        <td id=\"T_8197c_row7_col7\" class=\"data row7 col7\" >0.1210</td>\n            </tr>\n            <tr>\n                        <th id=\"T_8197c_level0_row8\" class=\"row_heading level0 row8\" >lasso</th>\n                        <td id=\"T_8197c_row8_col0\" class=\"data row8 col0\" >Lasso Regression</td>\n                        <td id=\"T_8197c_row8_col1\" class=\"data row8 col1\" >4.8921</td>\n                        <td id=\"T_8197c_row8_col2\" class=\"data row8 col2\" >623.9454</td>\n                        <td id=\"T_8197c_row8_col3\" class=\"data row8 col3\" >17.2066</td>\n                        <td id=\"T_8197c_row8_col4\" class=\"data row8 col4\" >0.8873</td>\n                        <td id=\"T_8197c_row8_col5\" class=\"data row8 col5\" >0.0804</td>\n                        <td id=\"T_8197c_row8_col6\" class=\"data row8 col6\" >0.0324</td>\n                        <td id=\"T_8197c_row8_col7\" class=\"data row8 col7\" >0.1190</td>\n            </tr>\n            <tr>\n                        <th id=\"T_8197c_level0_row9\" class=\"row_heading level0 row9\" >ada</th>\n                        <td id=\"T_8197c_row9_col0\" class=\"data row9 col0\" >AdaBoost Regressor</td>\n                        <td id=\"T_8197c_row9_col1\" class=\"data row9 col1\" >14.3886</td>\n                        <td id=\"T_8197c_row9_col2\" class=\"data row9 col2\" >356.5218</td>\n                        <td id=\"T_8197c_row9_col3\" class=\"data row9 col3\" >18.7916</td>\n                        <td id=\"T_8197c_row9_col4\" class=\"data row9 col4\" >0.9323</td>\n                        <td id=\"T_8197c_row9_col5\" class=\"data row9 col5\" >0.1409</td>\n                        <td id=\"T_8197c_row9_col6\" class=\"data row9 col6\" >0.1103</td>\n                        <td id=\"T_8197c_row9_col7\" class=\"data row9 col7\" >1.5260</td>\n            </tr>\n            <tr>\n                        <th id=\"T_8197c_level0_row10\" class=\"row_heading level0 row10\" >br</th>\n                        <td id=\"T_8197c_row10_col0\" class=\"data row10 col0\" >Bayesian Ridge</td>\n                        <td id=\"T_8197c_row10_col1\" class=\"data row10 col1\" >5.0675</td>\n                        <td id=\"T_8197c_row10_col2\" class=\"data row10 col2\" >616.8015</td>\n                        <td id=\"T_8197c_row10_col3\" class=\"data row10 col3\" >19.1724</td>\n                        <td id=\"T_8197c_row10_col4\" class=\"data row10 col4\" >0.8808</td>\n                        <td id=\"T_8197c_row10_col5\" class=\"data row10 col5\" >0.0869</td>\n                        <td id=\"T_8197c_row10_col6\" class=\"data row10 col6\" >0.0329</td>\n                        <td id=\"T_8197c_row10_col7\" class=\"data row10 col7\" >0.0900</td>\n            </tr>\n            <tr>\n                        <th id=\"T_8197c_level0_row11\" class=\"row_heading level0 row11\" >ridge</th>\n                        <td id=\"T_8197c_row11_col0\" class=\"data row11 col0\" >Ridge Regression</td>\n                        <td id=\"T_8197c_row11_col1\" class=\"data row11 col1\" >5.8191</td>\n                        <td id=\"T_8197c_row11_col2\" class=\"data row11 col2\" >748.6954</td>\n                        <td id=\"T_8197c_row11_col3\" class=\"data row11 col3\" >21.7055</td>\n                        <td id=\"T_8197c_row11_col4\" class=\"data row11 col4\" >0.8539</td>\n                        <td id=\"T_8197c_row11_col5\" class=\"data row11 col5\" >0.1074</td>\n                        <td id=\"T_8197c_row11_col6\" class=\"data row11 col6\" >0.0374</td>\n                        <td id=\"T_8197c_row11_col7\" class=\"data row11 col7\" >0.0320</td>\n            </tr>\n            <tr>\n                        <th id=\"T_8197c_level0_row12\" class=\"row_heading level0 row12\" >llar</th>\n                        <td id=\"T_8197c_row12_col0\" class=\"data row12 col0\" >Lasso Least Angle Regression</td>\n                        <td id=\"T_8197c_row12_col1\" class=\"data row12 col1\" >41.0379</td>\n                        <td id=\"T_8197c_row12_col2\" class=\"data row12 col2\" >2435.1696</td>\n                        <td id=\"T_8197c_row12_col3\" class=\"data row12 col3\" >49.3078</td>\n                        <td id=\"T_8197c_row12_col4\" class=\"data row12 col4\" >0.5393</td>\n                        <td id=\"T_8197c_row12_col5\" class=\"data row12 col5\" >0.3216</td>\n                        <td id=\"T_8197c_row12_col6\" class=\"data row12 col6\" >0.3033</td>\n                        <td id=\"T_8197c_row12_col7\" class=\"data row12 col7\" >0.3400</td>\n            </tr>\n            <tr>\n                        <th id=\"T_8197c_level0_row13\" class=\"row_heading level0 row13\" >lr</th>\n                        <td id=\"T_8197c_row13_col0\" class=\"data row13 col0\" >Linear Regression</td>\n                        <td id=\"T_8197c_row13_col1\" class=\"data row13 col1\" >28.6997</td>\n                        <td id=\"T_8197c_row13_col2\" class=\"data row13 col2\" >28202.0650</td>\n                        <td id=\"T_8197c_row13_col3\" class=\"data row13 col3\" >80.0657</td>\n                        <td id=\"T_8197c_row13_col4\" class=\"data row13 col4\" >-3.9554</td>\n                        <td id=\"T_8197c_row13_col5\" class=\"data row13 col5\" >0.2339</td>\n                        <td id=\"T_8197c_row13_col6\" class=\"data row13 col6\" >0.2131</td>\n                        <td id=\"T_8197c_row13_col7\" class=\"data row13 col7\" >0.5020</td>\n            </tr>\n            <tr>\n                        <th id=\"T_8197c_level0_row14\" class=\"row_heading level0 row14\" >huber</th>\n                        <td id=\"T_8197c_row14_col0\" class=\"data row14 col0\" >Huber Regressor</td>\n                        <td id=\"T_8197c_row14_col1\" class=\"data row14 col1\" >166.0859</td>\n                        <td id=\"T_8197c_row14_col2\" class=\"data row14 col2\" >5662468.3529</td>\n                        <td id=\"T_8197c_row14_col3\" class=\"data row14 col3\" >869.4942</td>\n                        <td id=\"T_8197c_row14_col4\" class=\"data row14 col4\" >-991.4985</td>\n                        <td id=\"T_8197c_row14_col5\" class=\"data row14 col5\" >3.2468</td>\n                        <td id=\"T_8197c_row14_col6\" class=\"data row14 col6\" >1.0304</td>\n                        <td id=\"T_8197c_row14_col7\" class=\"data row14 col7\" >0.1990</td>\n            </tr>\n            <tr>\n                        <th id=\"T_8197c_level0_row15\" class=\"row_heading level0 row15\" >par</th>\n                        <td id=\"T_8197c_row15_col0\" class=\"data row15 col0\" >Passive Aggressive Regressor</td>\n                        <td id=\"T_8197c_row15_col1\" class=\"data row15 col1\" >265.4813</td>\n                        <td id=\"T_8197c_row15_col2\" class=\"data row15 col2\" >15520572.0971</td>\n                        <td id=\"T_8197c_row15_col3\" class=\"data row15 col3\" >2152.2417</td>\n                        <td id=\"T_8197c_row15_col4\" class=\"data row15 col4\" >-2868.8338</td>\n                        <td id=\"T_8197c_row15_col5\" class=\"data row15 col5\" >0.8140</td>\n                        <td id=\"T_8197c_row15_col6\" class=\"data row15 col6\" >1.9407</td>\n                        <td id=\"T_8197c_row15_col7\" class=\"data row15 col7\" >0.0520</td>\n            </tr>\n    </tbody></table>"
     },
     "metadata": {},
     "output_type": "display_data"
    },
    {
     "name": "stderr",
     "text": "2021-06-17 11:46:12.651 | INFO     | __main__:<module>:7 - [ExtraTreesRegressor(bootstrap=False, ccp_alpha=0.0, criterion='mse',\n                    max_depth=None, max_features='auto', max_leaf_nodes=None,\n                    max_samples=None, min_impurity_decrease=0.0,\n                    min_impurity_split=None, min_samples_leaf=1,\n                    min_samples_split=2, min_weight_fraction_leaf=0.0,\n                    n_estimators=100, n_jobs=-1, oob_score=False,\n                    random_state=2345, verbose=0, warm_start=False), RandomForestRegressor(bootstrap=True, ccp_alpha=0.0, criterion='mse',\n                      max_depth=None, max_features='auto', max_leaf_nodes=None,\n                      max_samples=None, min_impurity_decrease=0.0,\n                      min_impurity_split=None, min_samples_leaf=1,\n                      min_samples_split=2, min_weight_fraction_leaf=0.0,\n                      n_estimators=100, n_jobs=-1, oob_score=False,\n                      random_state=2345, verbose=0, warm_start=False), OrthogonalMatchingPursuit(fit_intercept=True, n_nonzero_coefs=None,\n                          normalize=True, precompute='auto', tol=None)]\n",
     "output_type": "stream"
    }
   ],
   "execution_count": null
  },
  {
   "cell_type": "code",
   "source": "model = create_model('et')",
   "metadata": {
    "tags": [],
    "cell_id": "00004-1908745e-20d0-4970-b1cc-e2b62a2a81f6",
    "deepnote_to_be_reexecuted": false,
    "source_hash": "6586f968",
    "execution_start": 1623930455432,
    "execution_millis": 48572,
    "deepnote_cell_type": "code"
   },
   "outputs": [
    {
     "output_type": "clearOutput"
    },
    {
     "data": {
      "text/plain": "<pandas.io.formats.style.Styler at 0x7fcab041a430>",
      "text/html": "<style  type=\"text/css\" >\n#T_e2872_row10_col0,#T_e2872_row10_col1,#T_e2872_row10_col2,#T_e2872_row10_col3,#T_e2872_row10_col4,#T_e2872_row10_col5{\n            background:  yellow;\n        }</style><table id=\"T_e2872_\" ><thead>    <tr>        <th class=\"blank level0\" ></th>        <th class=\"col_heading level0 col0\" >MAE</th>        <th class=\"col_heading level0 col1\" >MSE</th>        <th class=\"col_heading level0 col2\" >RMSE</th>        <th class=\"col_heading level0 col3\" >R2</th>        <th class=\"col_heading level0 col4\" >RMSLE</th>        <th class=\"col_heading level0 col5\" >MAPE</th>    </tr></thead><tbody>\n                <tr>\n                        <th id=\"T_e2872_level0_row0\" class=\"row_heading level0 row0\" >0</th>\n                        <td id=\"T_e2872_row0_col0\" class=\"data row0 col0\" >4.5564</td>\n                        <td id=\"T_e2872_row0_col1\" class=\"data row0 col1\" >58.4778</td>\n                        <td id=\"T_e2872_row0_col2\" class=\"data row0 col2\" >7.6471</td>\n                        <td id=\"T_e2872_row0_col3\" class=\"data row0 col3\" >0.9891</td>\n                        <td id=\"T_e2872_row0_col4\" class=\"data row0 col4\" >0.0477</td>\n                        <td id=\"T_e2872_row0_col5\" class=\"data row0 col5\" >0.0297</td>\n            </tr>\n            <tr>\n                        <th id=\"T_e2872_level0_row1\" class=\"row_heading level0 row1\" >1</th>\n                        <td id=\"T_e2872_row1_col0\" class=\"data row1 col0\" >4.5455</td>\n                        <td id=\"T_e2872_row1_col1\" class=\"data row1 col1\" >54.1328</td>\n                        <td id=\"T_e2872_row1_col2\" class=\"data row1 col2\" >7.3575</td>\n                        <td id=\"T_e2872_row1_col3\" class=\"data row1 col3\" >0.9884</td>\n                        <td id=\"T_e2872_row1_col4\" class=\"data row1 col4\" >0.0503</td>\n                        <td id=\"T_e2872_row1_col5\" class=\"data row1 col5\" >0.0312</td>\n            </tr>\n            <tr>\n                        <th id=\"T_e2872_level0_row2\" class=\"row_heading level0 row2\" >2</th>\n                        <td id=\"T_e2872_row2_col0\" class=\"data row2 col0\" >4.8982</td>\n                        <td id=\"T_e2872_row2_col1\" class=\"data row2 col1\" >169.2288</td>\n                        <td id=\"T_e2872_row2_col2\" class=\"data row2 col2\" >13.0088</td>\n                        <td id=\"T_e2872_row2_col3\" class=\"data row2 col3\" >0.9704</td>\n                        <td id=\"T_e2872_row2_col4\" class=\"data row2 col4\" >0.0875</td>\n                        <td id=\"T_e2872_row2_col5\" class=\"data row2 col5\" >0.0373</td>\n            </tr>\n            <tr>\n                        <th id=\"T_e2872_level0_row3\" class=\"row_heading level0 row3\" >3</th>\n                        <td id=\"T_e2872_row3_col0\" class=\"data row3 col0\" >4.0875</td>\n                        <td id=\"T_e2872_row3_col1\" class=\"data row3 col1\" >50.3167</td>\n                        <td id=\"T_e2872_row3_col2\" class=\"data row3 col2\" >7.0934</td>\n                        <td id=\"T_e2872_row3_col3\" class=\"data row3 col3\" >0.9916</td>\n                        <td id=\"T_e2872_row3_col4\" class=\"data row3 col4\" >0.0496</td>\n                        <td id=\"T_e2872_row3_col5\" class=\"data row3 col5\" >0.0270</td>\n            </tr>\n            <tr>\n                        <th id=\"T_e2872_level0_row4\" class=\"row_heading level0 row4\" >4</th>\n                        <td id=\"T_e2872_row4_col0\" class=\"data row4 col0\" >4.1600</td>\n                        <td id=\"T_e2872_row4_col1\" class=\"data row4 col1\" >52.7523</td>\n                        <td id=\"T_e2872_row4_col2\" class=\"data row4 col2\" >7.2631</td>\n                        <td id=\"T_e2872_row4_col3\" class=\"data row4 col3\" >0.9893</td>\n                        <td id=\"T_e2872_row4_col4\" class=\"data row4 col4\" >0.0423</td>\n                        <td id=\"T_e2872_row4_col5\" class=\"data row4 col5\" >0.0267</td>\n            </tr>\n            <tr>\n                        <th id=\"T_e2872_level0_row5\" class=\"row_heading level0 row5\" >5</th>\n                        <td id=\"T_e2872_row5_col0\" class=\"data row5 col0\" >4.7715</td>\n                        <td id=\"T_e2872_row5_col1\" class=\"data row5 col1\" >77.2700</td>\n                        <td id=\"T_e2872_row5_col2\" class=\"data row5 col2\" >8.7903</td>\n                        <td id=\"T_e2872_row5_col3\" class=\"data row5 col3\" >0.9860</td>\n                        <td id=\"T_e2872_row5_col4\" class=\"data row5 col4\" >0.0428</td>\n                        <td id=\"T_e2872_row5_col5\" class=\"data row5 col5\" >0.0283</td>\n            </tr>\n            <tr>\n                        <th id=\"T_e2872_level0_row6\" class=\"row_heading level0 row6\" >6</th>\n                        <td id=\"T_e2872_row6_col0\" class=\"data row6 col0\" >4.9599</td>\n                        <td id=\"T_e2872_row6_col1\" class=\"data row6 col1\" >100.0513</td>\n                        <td id=\"T_e2872_row6_col2\" class=\"data row6 col2\" >10.0026</td>\n                        <td id=\"T_e2872_row6_col3\" class=\"data row6 col3\" >0.9808</td>\n                        <td id=\"T_e2872_row6_col4\" class=\"data row6 col4\" >0.0761</td>\n                        <td id=\"T_e2872_row6_col5\" class=\"data row6 col5\" >0.0357</td>\n            </tr>\n            <tr>\n                        <th id=\"T_e2872_level0_row7\" class=\"row_heading level0 row7\" >7</th>\n                        <td id=\"T_e2872_row7_col0\" class=\"data row7 col0\" >4.2908</td>\n                        <td id=\"T_e2872_row7_col1\" class=\"data row7 col1\" >55.1328</td>\n                        <td id=\"T_e2872_row7_col2\" class=\"data row7 col2\" >7.4251</td>\n                        <td id=\"T_e2872_row7_col3\" class=\"data row7 col3\" >0.9885</td>\n                        <td id=\"T_e2872_row7_col4\" class=\"data row7 col4\" >0.0384</td>\n                        <td id=\"T_e2872_row7_col5\" class=\"data row7 col5\" >0.0267</td>\n            </tr>\n            <tr>\n                        <th id=\"T_e2872_level0_row8\" class=\"row_heading level0 row8\" >8</th>\n                        <td id=\"T_e2872_row8_col0\" class=\"data row8 col0\" >5.1954</td>\n                        <td id=\"T_e2872_row8_col1\" class=\"data row8 col1\" >349.7742</td>\n                        <td id=\"T_e2872_row8_col2\" class=\"data row8 col2\" >18.7023</td>\n                        <td id=\"T_e2872_row8_col3\" class=\"data row8 col3\" >0.9347</td>\n                        <td id=\"T_e2872_row8_col4\" class=\"data row8 col4\" >0.1001</td>\n                        <td id=\"T_e2872_row8_col5\" class=\"data row8 col5\" >0.0273</td>\n            </tr>\n            <tr>\n                        <th id=\"T_e2872_level0_row9\" class=\"row_heading level0 row9\" >9</th>\n                        <td id=\"T_e2872_row9_col0\" class=\"data row9 col0\" >4.2359</td>\n                        <td id=\"T_e2872_row9_col1\" class=\"data row9 col1\" >62.8588</td>\n                        <td id=\"T_e2872_row9_col2\" class=\"data row9 col2\" >7.9284</td>\n                        <td id=\"T_e2872_row9_col3\" class=\"data row9 col3\" >0.9881</td>\n                        <td id=\"T_e2872_row9_col4\" class=\"data row9 col4\" >0.0597</td>\n                        <td id=\"T_e2872_row9_col5\" class=\"data row9 col5\" >0.0300</td>\n            </tr>\n            <tr>\n                        <th id=\"T_e2872_level0_row10\" class=\"row_heading level0 row10\" >Mean</th>\n                        <td id=\"T_e2872_row10_col0\" class=\"data row10 col0\" >4.5701</td>\n                        <td id=\"T_e2872_row10_col1\" class=\"data row10 col1\" >102.9995</td>\n                        <td id=\"T_e2872_row10_col2\" class=\"data row10 col2\" >9.5219</td>\n                        <td id=\"T_e2872_row10_col3\" class=\"data row10 col3\" >0.9807</td>\n                        <td id=\"T_e2872_row10_col4\" class=\"data row10 col4\" >0.0594</td>\n                        <td id=\"T_e2872_row10_col5\" class=\"data row10 col5\" >0.0300</td>\n            </tr>\n            <tr>\n                        <th id=\"T_e2872_level0_row11\" class=\"row_heading level0 row11\" >SD</th>\n                        <td id=\"T_e2872_row11_col0\" class=\"data row11 col0\" >0.3582</td>\n                        <td id=\"T_e2872_row11_col1\" class=\"data row11 col1\" >89.1783</td>\n                        <td id=\"T_e2872_row11_col2\" class=\"data row11 col2\" >3.5120</td>\n                        <td id=\"T_e2872_row11_col3\" class=\"data row11 col3\" >0.0164</td>\n                        <td id=\"T_e2872_row11_col4\" class=\"data row11 col4\" >0.0201</td>\n                        <td id=\"T_e2872_row11_col5\" class=\"data row11 col5\" >0.0036</td>\n            </tr>\n    </tbody></table>"
     },
     "metadata": {},
     "output_type": "display_data"
    }
   ],
   "execution_count": null
  },
  {
   "cell_type": "code",
   "source": "pd = predict_model(model)",
   "metadata": {
    "tags": [],
    "cell_id": "00005-27d65f8d-ec81-48bf-9f98-f9450d7d5be1",
    "deepnote_to_be_reexecuted": false,
    "source_hash": "15212e04",
    "execution_start": 1623930504006,
    "execution_millis": 199,
    "deepnote_cell_type": "code"
   },
   "outputs": [
    {
     "data": {
      "text/plain": "<pandas.io.formats.style.Styler at 0x7fcab0592a00>",
      "text/html": "<style  type=\"text/css\" >\n</style><table id=\"T_25cce_\" ><thead>    <tr>        <th class=\"blank level0\" ></th>        <th class=\"col_heading level0 col0\" >Model</th>        <th class=\"col_heading level0 col1\" >MAE</th>        <th class=\"col_heading level0 col2\" >MSE</th>        <th class=\"col_heading level0 col3\" >RMSE</th>        <th class=\"col_heading level0 col4\" >R2</th>        <th class=\"col_heading level0 col5\" >RMSLE</th>        <th class=\"col_heading level0 col6\" >MAPE</th>    </tr></thead><tbody>\n                <tr>\n                        <th id=\"T_25cce_level0_row0\" class=\"row_heading level0 row0\" >0</th>\n                        <td id=\"T_25cce_row0_col0\" class=\"data row0 col0\" >Extra Trees Regressor</td>\n                        <td id=\"T_25cce_row0_col1\" class=\"data row0 col1\" >4.4647</td>\n                        <td id=\"T_25cce_row0_col2\" class=\"data row0 col2\" >59.9367</td>\n                        <td id=\"T_25cce_row0_col3\" class=\"data row0 col3\" >7.7419</td>\n                        <td id=\"T_25cce_row0_col4\" class=\"data row0 col4\" >0.9883</td>\n                        <td id=\"T_25cce_row0_col5\" class=\"data row0 col5\" >0.0518</td>\n                        <td id=\"T_25cce_row0_col6\" class=\"data row0 col6\" >0.0296</td>\n            </tr>\n    </tbody></table>"
     },
     "metadata": {},
     "output_type": "display_data"
    }
   ],
   "execution_count": null
  },
  {
   "cell_type": "code",
   "source": "clarke_error_grid(pd['label'], pd['Label'], 'Test')",
   "metadata": {
    "tags": [],
    "cell_id": "00006-0617f71b-1449-48ad-962e-1685c8c880b3",
    "deepnote_to_be_reexecuted": false,
    "source_hash": "f798559e",
    "execution_start": 1623930504223,
    "execution_millis": 274,
    "deepnote_cell_type": "code"
   },
   "outputs": [
    {
     "output_type": "execute_result",
     "execution_count": 14,
     "data": {
      "text/plain": "(<module 'matplotlib.pyplot' from '/shared-libs/python3.8/py/lib/python3.8/site-packages/matplotlib/pyplot.py'>,\n [886, 12, 0, 1, 0])"
     },
     "metadata": {}
    },
    {
     "data": {
      "text/plain": "<Figure size 432x288 with 1 Axes>",
      "image/png": "[encoded data removed]"
     },
     "metadata": {
      "needs_background": "light",
      "image/png": {
       "width": 281,
       "height": 278
      }
     },
     "output_type": "display_data"
    }
   ],
   "execution_count": null
  },
  {
   "cell_type": "code",
   "source": "test_parameters = {\n    'ohio_no': 559,\n    'scope': 'test',\n    'train_ds_size': 100000,\n    'window_size': 6,\n    'prediction_horizon': 1,\n    'minimal_features': False,\n}\ndf4 = create_tsfresh_dataframe(test_parameters)\ndf6 = df4.drop(columns=['start', 'end', 'start_time', 'end_time'])\npd2 = predict_model(model, data=df6)\nclarke_error_grid(pd2['label'], pd2['Label'], 'Test')",
   "metadata": {
    "tags": [],
    "cell_id": "00007-c883cf5d-1cbe-4f41-a399-7a788e9eff17",
    "deepnote_to_be_reexecuted": false,
    "source_hash": "5e3f6b3b",
    "execution_start": 1623930559210,
    "execution_millis": 1414,
    "deepnote_cell_type": "code"
   },
   "outputs": [
    {
     "name": "stderr",
     "text": "2021-06-17 11:49:19.205 | INFO     | src.helpers.experiment:create_ds_name:12 - dataframes/559_test_100000_6_1.pkl\n2021-06-17 11:49:19.225 | INFO     | src.helpers.experiment:create_tsfresh_dataframe:19 - {'ohio_no': 559, 'scope': 'test', 'train_ds_size': 100000, 'window_size': 6, 'prediction_horizon': 1, 'minimal_features': False}\n",
     "output_type": "stream"
    },
    {
     "data": {
      "text/plain": "<Figure size 432x288 with 1 Axes>",
      "image/png": "[encoded data removed]"
     },
     "metadata": {
      "needs_background": "light",
      "image/png": {
       "width": 382,
       "height": 262
      }
     },
     "output_type": "display_data"
    },
    {
     "name": "stderr",
     "text": "2021-06-17 11:49:19.420 | INFO     | src.helpers.experiment:create_tsfresh_dataframe:22 - Found existing picle file. Continuing...\n2021-06-17 11:49:19.422 | INFO     | src.helpers.dataframe:read_df:11 - Attempting to read from pickle file dataframes/559_test_100000_6_1.pkl\n",
     "output_type": "stream"
    },
    {
     "output_type": "execute_result",
     "execution_count": 15,
     "data": {
      "text/plain": "(<module 'matplotlib.pyplot' from '/shared-libs/python3.8/py/lib/python3.8/site-packages/matplotlib/pyplot.py'>,\n [2489, 14, 1, 4, 0])"
     },
     "metadata": {}
    },
    {
     "data": {
      "text/plain": "<Figure size 432x288 with 1 Axes>",
      "image/png": "[encoded data removed]"
     },
     "metadata": {
      "needs_background": "light",
      "image/png": {
       "width": 281,
       "height": 278
      }
     },
     "output_type": "display_data"
    }
   ],
   "execution_count": null
  },
  {
   "cell_type": "code",
   "source": "np.sqrt(mean_squared_error(pd2['label'], pd2['Label']))",
   "metadata": {
    "tags": [],
    "cell_id": "00010-455eff67-1aae-45bf-842a-658a466747a5",
    "deepnote_to_be_reexecuted": false,
    "source_hash": "c208818f",
    "execution_start": 1623930816282,
    "execution_millis": 65,
    "deepnote_cell_type": "code"
   },
   "outputs": [
    {
     "output_type": "execute_result",
     "execution_count": 18,
     "data": {
      "text/plain": "9.769962884818636"
     },
     "metadata": {}
    }
   ],
   "execution_count": null
  },
  {
   "cell_type": "code",
   "source": "mean_adjusted_exponent_error(pd2['label'], pd2['Label'])",
   "metadata": {
    "tags": [],
    "cell_id": "00012-06a235c6-633f-48cb-b20f-96f411959c5d",
    "deepnote_to_be_reexecuted": false,
    "source_hash": "3f07d899",
    "execution_start": 1623931491569,
    "execution_millis": 48,
    "deepnote_cell_type": "code"
   },
   "outputs": [
    {
     "output_type": "execute_result",
     "execution_count": 24,
     "data": {
      "text/plain": "6337.632681481813"
     },
     "metadata": {}
    }
   ],
   "execution_count": null
  },
  {
   "cell_type": "code",
   "source": "from pycaret.regression import get_metrics\nget_metrics(model).loc['rmse']",
   "metadata": {
    "tags": [],
    "cell_id": "00013-63aa2702-52f1-4f1c-8a07-f2c8f39fed7c",
    "deepnote_to_be_reexecuted": false,
    "source_hash": "2683599d",
    "execution_start": 1623931697415,
    "execution_millis": 26,
    "deepnote_cell_type": "code"
   },
   "outputs": [
    {
     "output_type": "execute_result",
     "execution_count": 33,
     "data": {
      "text/plain": "Name                                                            RMSE\nDisplay Name                                                    RMSE\nScore Function       <function mean_squared_error at 0x7fcab8b89b80>\nScorer                                   neg_root_mean_squared_error\nTarget                                                          pred\nArgs                                              {'squared': False}\nGreater is Better                                              False\nCustom                                                         False\nName: rmse, dtype: object"
     },
     "metadata": {}
    }
   ],
   "execution_count": null
  },
  {
   "cell_type": "code",
   "source": "from pycaret.regression import blend_models\nblended = blend_models(best3)",
   "metadata": {
    "tags": [],
    "cell_id": "00014-2f785cc7-e579-4e7a-a7fb-4c7b2c506ea6",
    "deepnote_to_be_reexecuted": false,
    "source_hash": "4c360d1a",
    "execution_start": 1623931797690,
    "execution_millis": 163468,
    "deepnote_cell_type": "code"
   },
   "outputs": [
    {
     "output_type": "clearOutput"
    },
    {
     "data": {
      "text/plain": "<pandas.io.formats.style.Styler at 0x7fca7812aeb0>",
      "text/html": "<style  type=\"text/css\" >\n#T_b2ff2_row10_col0,#T_b2ff2_row10_col1,#T_b2ff2_row10_col2,#T_b2ff2_row10_col3,#T_b2ff2_row10_col4,#T_b2ff2_row10_col5{\n            background:  yellow;\n        }</style><table id=\"T_b2ff2_\" ><thead>    <tr>        <th class=\"blank level0\" ></th>        <th class=\"col_heading level0 col0\" >MAE</th>        <th class=\"col_heading level0 col1\" >MSE</th>        <th class=\"col_heading level0 col2\" >RMSE</th>        <th class=\"col_heading level0 col3\" >R2</th>        <th class=\"col_heading level0 col4\" >RMSLE</th>        <th class=\"col_heading level0 col5\" >MAPE</th>    </tr></thead><tbody>\n                <tr>\n                        <th id=\"T_b2ff2_level0_row0\" class=\"row_heading level0 row0\" >0</th>\n                        <td id=\"T_b2ff2_row0_col0\" class=\"data row0 col0\" >3.9312</td>\n                        <td id=\"T_b2ff2_row0_col1\" class=\"data row0 col1\" >43.1523</td>\n                        <td id=\"T_b2ff2_row0_col2\" class=\"data row0 col2\" >6.5690</td>\n                        <td id=\"T_b2ff2_row0_col3\" class=\"data row0 col3\" >0.9919</td>\n                        <td id=\"T_b2ff2_row0_col4\" class=\"data row0 col4\" >0.0410</td>\n                        <td id=\"T_b2ff2_row0_col5\" class=\"data row0 col5\" >0.0256</td>\n            </tr>\n            <tr>\n                        <th id=\"T_b2ff2_level0_row1\" class=\"row_heading level0 row1\" >1</th>\n                        <td id=\"T_b2ff2_row1_col0\" class=\"data row1 col0\" >4.1397</td>\n                        <td id=\"T_b2ff2_row1_col1\" class=\"data row1 col1\" >46.5574</td>\n                        <td id=\"T_b2ff2_row1_col2\" class=\"data row1 col2\" >6.8233</td>\n                        <td id=\"T_b2ff2_row1_col3\" class=\"data row1 col3\" >0.9901</td>\n                        <td id=\"T_b2ff2_row1_col4\" class=\"data row1 col4\" >0.0503</td>\n                        <td id=\"T_b2ff2_row1_col5\" class=\"data row1 col5\" >0.0296</td>\n            </tr>\n            <tr>\n                        <th id=\"T_b2ff2_level0_row2\" class=\"row_heading level0 row2\" >2</th>\n                        <td id=\"T_b2ff2_row2_col0\" class=\"data row2 col0\" >4.5089</td>\n                        <td id=\"T_b2ff2_row2_col1\" class=\"data row2 col1\" >159.0724</td>\n                        <td id=\"T_b2ff2_row2_col2\" class=\"data row2 col2\" >12.6124</td>\n                        <td id=\"T_b2ff2_row2_col3\" class=\"data row2 col3\" >0.9721</td>\n                        <td id=\"T_b2ff2_row2_col4\" class=\"data row2 col4\" >0.0850</td>\n                        <td id=\"T_b2ff2_row2_col5\" class=\"data row2 col5\" >0.0347</td>\n            </tr>\n            <tr>\n                        <th id=\"T_b2ff2_level0_row3\" class=\"row_heading level0 row3\" >3</th>\n                        <td id=\"T_b2ff2_row3_col0\" class=\"data row3 col0\" >3.9875</td>\n                        <td id=\"T_b2ff2_row3_col1\" class=\"data row3 col1\" >48.9210</td>\n                        <td id=\"T_b2ff2_row3_col2\" class=\"data row3 col2\" >6.9944</td>\n                        <td id=\"T_b2ff2_row3_col3\" class=\"data row3 col3\" >0.9918</td>\n                        <td id=\"T_b2ff2_row3_col4\" class=\"data row3 col4\" >0.0506</td>\n                        <td id=\"T_b2ff2_row3_col5\" class=\"data row3 col5\" >0.0266</td>\n            </tr>\n            <tr>\n                        <th id=\"T_b2ff2_level0_row4\" class=\"row_heading level0 row4\" >4</th>\n                        <td id=\"T_b2ff2_row4_col0\" class=\"data row4 col0\" >3.8532</td>\n                        <td id=\"T_b2ff2_row4_col1\" class=\"data row4 col1\" >38.6505</td>\n                        <td id=\"T_b2ff2_row4_col2\" class=\"data row4 col2\" >6.2170</td>\n                        <td id=\"T_b2ff2_row4_col3\" class=\"data row4 col3\" >0.9922</td>\n                        <td id=\"T_b2ff2_row4_col4\" class=\"data row4 col4\" >0.0384</td>\n                        <td id=\"T_b2ff2_row4_col5\" class=\"data row4 col5\" >0.0259</td>\n            </tr>\n            <tr>\n                        <th id=\"T_b2ff2_level0_row5\" class=\"row_heading level0 row5\" >5</th>\n                        <td id=\"T_b2ff2_row5_col0\" class=\"data row5 col0\" >4.2582</td>\n                        <td id=\"T_b2ff2_row5_col1\" class=\"data row5 col1\" >45.9458</td>\n                        <td id=\"T_b2ff2_row5_col2\" class=\"data row5 col2\" >6.7783</td>\n                        <td id=\"T_b2ff2_row5_col3\" class=\"data row5 col3\" >0.9917</td>\n                        <td id=\"T_b2ff2_row5_col4\" class=\"data row5 col4\" >0.0355</td>\n                        <td id=\"T_b2ff2_row5_col5\" class=\"data row5 col5\" >0.0254</td>\n            </tr>\n            <tr>\n                        <th id=\"T_b2ff2_level0_row6\" class=\"row_heading level0 row6\" >6</th>\n                        <td id=\"T_b2ff2_row6_col0\" class=\"data row6 col0\" >4.4766</td>\n                        <td id=\"T_b2ff2_row6_col1\" class=\"data row6 col1\" >57.2541</td>\n                        <td id=\"T_b2ff2_row6_col2\" class=\"data row6 col2\" >7.5666</td>\n                        <td id=\"T_b2ff2_row6_col3\" class=\"data row6 col3\" >0.9890</td>\n                        <td id=\"T_b2ff2_row6_col4\" class=\"data row6 col4\" >0.0558</td>\n                        <td id=\"T_b2ff2_row6_col5\" class=\"data row6 col5\" >0.0308</td>\n            </tr>\n            <tr>\n                        <th id=\"T_b2ff2_level0_row7\" class=\"row_heading level0 row7\" >7</th>\n                        <td id=\"T_b2ff2_row7_col0\" class=\"data row7 col0\" >4.1105</td>\n                        <td id=\"T_b2ff2_row7_col1\" class=\"data row7 col1\" >61.9957</td>\n                        <td id=\"T_b2ff2_row7_col2\" class=\"data row7 col2\" >7.8737</td>\n                        <td id=\"T_b2ff2_row7_col3\" class=\"data row7 col3\" >0.9871</td>\n                        <td id=\"T_b2ff2_row7_col4\" class=\"data row7 col4\" >0.0366</td>\n                        <td id=\"T_b2ff2_row7_col5\" class=\"data row7 col5\" >0.0250</td>\n            </tr>\n            <tr>\n                        <th id=\"T_b2ff2_level0_row8\" class=\"row_heading level0 row8\" >8</th>\n                        <td id=\"T_b2ff2_row8_col0\" class=\"data row8 col0\" >5.0089</td>\n                        <td id=\"T_b2ff2_row8_col1\" class=\"data row8 col1\" >357.5306</td>\n                        <td id=\"T_b2ff2_row8_col2\" class=\"data row8 col2\" >18.9085</td>\n                        <td id=\"T_b2ff2_row8_col3\" class=\"data row8 col3\" >0.9333</td>\n                        <td id=\"T_b2ff2_row8_col4\" class=\"data row8 col4\" >0.1002</td>\n                        <td id=\"T_b2ff2_row8_col5\" class=\"data row8 col5\" >0.0259</td>\n            </tr>\n            <tr>\n                        <th id=\"T_b2ff2_level0_row9\" class=\"row_heading level0 row9\" >9</th>\n                        <td id=\"T_b2ff2_row9_col0\" class=\"data row9 col0\" >3.7121</td>\n                        <td id=\"T_b2ff2_row9_col1\" class=\"data row9 col1\" >36.8598</td>\n                        <td id=\"T_b2ff2_row9_col2\" class=\"data row9 col2\" >6.0712</td>\n                        <td id=\"T_b2ff2_row9_col3\" class=\"data row9 col3\" >0.9930</td>\n                        <td id=\"T_b2ff2_row9_col4\" class=\"data row9 col4\" >0.0455</td>\n                        <td id=\"T_b2ff2_row9_col5\" class=\"data row9 col5\" >0.0262</td>\n            </tr>\n            <tr>\n                        <th id=\"T_b2ff2_level0_row10\" class=\"row_heading level0 row10\" >Mean</th>\n                        <td id=\"T_b2ff2_row10_col0\" class=\"data row10 col0\" >4.1987</td>\n                        <td id=\"T_b2ff2_row10_col1\" class=\"data row10 col1\" >89.5940</td>\n                        <td id=\"T_b2ff2_row10_col2\" class=\"data row10 col2\" >8.6414</td>\n                        <td id=\"T_b2ff2_row10_col3\" class=\"data row10 col3\" >0.9832</td>\n                        <td id=\"T_b2ff2_row10_col4\" class=\"data row10 col4\" >0.0539</td>\n                        <td id=\"T_b2ff2_row10_col5\" class=\"data row10 col5\" >0.0276</td>\n            </tr>\n            <tr>\n                        <th id=\"T_b2ff2_level0_row11\" class=\"row_heading level0 row11\" >SD</th>\n                        <td id=\"T_b2ff2_row11_col0\" class=\"data row11 col0\" >0.3629</td>\n                        <td id=\"T_b2ff2_row11_col1\" class=\"data row11 col1\" >95.5873</td>\n                        <td id=\"T_b2ff2_row11_col2\" class=\"data row11 col2\" >3.8626</td>\n                        <td id=\"T_b2ff2_row11_col3\" class=\"data row11 col3\" >0.0176</td>\n                        <td id=\"T_b2ff2_row11_col4\" class=\"data row11 col4\" >0.0206</td>\n                        <td id=\"T_b2ff2_row11_col5\" class=\"data row11 col5\" >0.0030</td>\n            </tr>\n    </tbody></table>"
     },
     "metadata": {},
     "output_type": "display_data"
    }
   ],
   "execution_count": null
  },
  {
   "cell_type": "code",
   "source": "pd3 = predict_model(blended, data=df6)\nclarke_error_grid(pd3['label'], pd3['Label'], 'Test')",
   "metadata": {
    "tags": [],
    "cell_id": "00015-06788cb4-b3e5-430c-97f8-a85a6702f40b",
    "deepnote_to_be_reexecuted": false,
    "source_hash": "66f98243",
    "execution_start": 1623933948181,
    "execution_millis": 1412,
    "deepnote_cell_type": "code"
   },
   "outputs": [
    {
     "output_type": "execute_result",
     "execution_count": 36,
     "data": {
      "text/plain": "(<module 'matplotlib.pyplot' from '/shared-libs/python3.8/py/lib/python3.8/site-packages/matplotlib/pyplot.py'>,\n [2491, 13, 1, 3, 0])"
     },
     "metadata": {}
    },
    {
     "data": {
      "text/plain": "<Figure size 432x288 with 1 Axes>",
      "image/png": "[encoded data removed]"
     },
     "metadata": {
      "needs_background": "light",
      "image/png": {
       "width": 281,
       "height": 278
      }
     },
     "output_type": "display_data"
    }
   ],
   "execution_count": null
  },
  {
   "cell_type": "code",
   "source": "",
   "metadata": {
    "tags": [],
    "cell_id": "00016-e4eb96ba-d6f8-4d8e-bc3b-4ed92fb1b75d",
    "deepnote_cell_type": "code"
   },
   "outputs": [],
   "execution_count": null
  },
  {
   "cell_type": "markdown",
   "source": "<a style='text-decoration:none;line-height:16px;display:flex;color:#5B5B62;padding:10px;justify-content:end;' href='https://deepnote.com?utm_source=created-in-deepnote-cell&projectId=d560f233-0034-499f-bc4e-7ada8795cb9f' target=\"_blank\">\n<img alt='Created in deepnote.com' style='display:inline;max-height:16px;margin:0px;margin-right:7.5px;' src='data:image/svg+xml;base64,PD94bWwgdmVyc2lvbj0iMS4wIiBlbmNvZGluZz0iVVRGLTgiPz4KPHN2ZyB3aWR0aD0iODBweCIgaGVpZ2h0PSI4MHB4IiB2aWV3Qm94PSIwIDAgODAgODAiIHZlcnNpb249IjEuMSIgeG1sbnM9Imh0dHA6Ly93d3cudzMub3JnLzIwMDAvc3ZnIiB4bWxuczp4bGluaz0iaHR0cDovL3d3dy53My5vcmcvMTk5OS94bGluayI+CiAgICA8IS0tIEdlbmVyYXRvcjogU2tldGNoIDU0LjEgKDc2NDkwKSAtIGh0dHBzOi8vc2tldGNoYXBwLmNvbSAtLT4KICAgIDx0aXRsZT5Hcm91cCAzPC90aXRsZT4KICAgIDxkZXNjPkNyZWF0ZWQgd2l0aCBTa2V0Y2guPC9kZXNjPgogICAgPGcgaWQ9IkxhbmRpbmciIHN0cm9rZT0ibm9uZSIgc3Ryb2tlLXdpZHRoPSIxIiBmaWxsPSJub25lIiBmaWxsLXJ1bGU9ImV2ZW5vZGQiPgogICAgICAgIDxnIGlkPSJBcnRib2FyZCIgdHJhbnNmb3JtPSJ0cmFuc2xhdGUoLTEyMzUuMDAwMDAwLCAtNzkuMDAwMDAwKSI+CiAgICAgICAgICAgIDxnIGlkPSJHcm91cC0zIiB0cmFuc2Zvcm09InRyYW5zbGF0ZSgxMjM1LjAwMDAwMCwgNzkuMDAwMDAwKSI+CiAgICAgICAgICAgICAgICA8cG9seWdvbiBpZD0iUGF0aC0yMCIgZmlsbD0iIzAyNjVCNCIgcG9pbnRzPSIyLjM3NjIzNzYyIDgwIDM4LjA0NzY2NjcgODAgNTcuODIxNzgyMiA3My44MDU3NTkyIDU3LjgyMTc4MjIgMzIuNzU5MjczOSAzOS4xNDAyMjc4IDMxLjY4MzE2ODMiPjwvcG9seWdvbj4KICAgICAgICAgICAgICAgIDxwYXRoIGQ9Ik0zNS4wMDc3MTgsODAgQzQyLjkwNjIwMDcsNzYuNDU0OTM1OCA0Ny41NjQ5MTY3LDcxLjU0MjI2NzEgNDguOTgzODY2LDY1LjI2MTk5MzkgQzUxLjExMjI4OTksNTUuODQxNTg0MiA0MS42NzcxNzk1LDQ5LjIxMjIyODQgMjUuNjIzOTg0Niw0OS4yMTIyMjg0IEMyNS40ODQ5Mjg5LDQ5LjEyNjg0NDggMjkuODI2MTI5Niw0My4yODM4MjQ4IDM4LjY0NzU4NjksMzEuNjgzMTY4MyBMNzIuODcxMjg3MSwzMi41NTQ0MjUgTDY1LjI4MDk3Myw2Ny42NzYzNDIxIEw1MS4xMTIyODk5LDc3LjM3NjE0NCBMMzUuMDA3NzE4LDgwIFoiIGlkPSJQYXRoLTIyIiBmaWxsPSIjMDAyODY4Ij48L3BhdGg+CiAgICAgICAgICAgICAgICA8cGF0aCBkPSJNMCwzNy43MzA0NDA1IEwyNy4xMTQ1MzcsMC4yNTcxMTE0MzYgQzYyLjM3MTUxMjMsLTEuOTkwNzE3MDEgODAsMTAuNTAwMzkyNyA4MCwzNy43MzA0NDA1IEM4MCw2NC45NjA0ODgyIDY0Ljc3NjUwMzgsNzkuMDUwMzQxNCAzNC4zMjk1MTEzLDgwIEM0Ny4wNTUzNDg5LDc3LjU2NzA4MDggNTMuNDE4MjY3Nyw3MC4zMTM2MTAzIDUzLjQxODI2NzcsNTguMjM5NTg4NSBDNTMuNDE4MjY3Nyw0MC4xMjg1NTU3IDM2LjMwMzk1NDQsMzcuNzMwNDQwNSAyNS4yMjc0MTcsMzcuNzMwNDQwNSBDMTcuODQzMDU4NiwzNy43MzA0NDA1IDkuNDMzOTE5NjYsMzcuNzMwNDQwNSAwLDM3LjczMDQ0MDUgWiIgaWQ9IlBhdGgtMTkiIGZpbGw9IiMzNzkzRUYiPjwvcGF0aD4KICAgICAgICAgICAgPC9nPgogICAgICAgIDwvZz4KICAgIDwvZz4KPC9zdmc+' > </img>\nCreated in <span style='font-weight:600;margin-left:4px;'>Deepnote</span></a>",
   "metadata": {
    "tags": [],
    "created_in_deepnote_cell": true,
    "deepnote_cell_type": "markdown"
   }
  }
 ],
 "nbformat": 4,
 "nbformat_minor": 2,
 "metadata": {
  "orig_nbformat": 2,
  "deepnote": {
   "is_reactive": false
  },
  "deepnote_notebook_id": "b6f3e0e5-c8d5-4760-931b-11e1d80eb74d",
  "deepnote_execution_queue": []
 }
}